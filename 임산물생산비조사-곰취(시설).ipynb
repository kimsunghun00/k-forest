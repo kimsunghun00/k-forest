{
 "cells": [
  {
   "cell_type": "markdown",
   "metadata": {},
   "source": [
    "# Load Data"
   ]
  },
  {
   "cell_type": "markdown",
   "metadata": {},
   "source": [
    "## 곰취(시설)"
   ]
  },
  {
   "cell_type": "code",
   "execution_count": 2,
   "metadata": {},
   "outputs": [
    {
     "name": "stdout",
     "output_type": "stream",
     "text": [
      "----------\n",
      "WARNING *** OLE2 inconsistency: SSCS size is 0 but SSAT size is non-zero\n",
      "WARNING *** OLE2 inconsistency: SSCS size is 0 but SSAT size is non-zero\n",
      "2018 (36, 401) 시설\n",
      "----------\n",
      "2019 (31, 417) 시설\n"
     ]
    }
   ],
   "source": [
    "import os\n",
    "import pandas as pd\n",
    "import numpy as np\n",
    "\n",
    "\n",
    "def load_data(path):\n",
    "    use_cols = ['age1',\n",
    "                'cvl00', 'cvl10',\n",
    "                'labch', 'labh_hour', 'lab_cost',\n",
    "                'fmtc', 'lansh',\n",
    "                'size', 'ara',# catecorical variable\n",
    "                'ydh_ty1'] # dependent variable\n",
    "\n",
    "    dataframe_list = []\n",
    "\n",
    "    # 2018\n",
    "    print('-'*10)\n",
    "    ## 시설\n",
    "    file_path1 = os.path.join(path, '2018년/2018년 임산물생산비조사_통합 데이터_7. 곰취_시설(엑셀 1).xls')\n",
    "    file_path2 = os.path.join(path, '2018년/2018년 임산물생산비조사_통합 데이터_7. 곰취_시설(엑셀 2).xls')\n",
    "\n",
    "    forest_data1 = pd.read_excel(file_path1)\n",
    "    forest_data2 = pd.read_excel(file_path2)\n",
    "    forest_2018 = pd.concat([forest_data1, forest_data2], axis=1)\n",
    "\n",
    "    dataframe_list.append(forest_2018.loc[:,use_cols])\n",
    "    print(2018, forest_2018.shape, '시설')\n",
    "\n",
    "\n",
    "    # 2019\n",
    "    print('-'*10)\n",
    "    file_path = os.path.join(path, '2019년/2019년 임산물생산비조사_통합 데이터_7. 곰취시설.xlsx')\n",
    "    forest_2019 = pd.read_excel(file_path)\n",
    "    dataframe_list.append(forest_2019.loc[:,use_cols])\n",
    "    print(2019, forest_2019.shape, '시설')\n",
    "    \n",
    "\n",
    "    data = pd.concat(dataframe_list, axis=0)\n",
    "    data = data.reset_index(drop=True)\n",
    "    \n",
    "    return data\n",
    "    \n",
    "data = load_data('./임산물생산비조사 마이크로데이터(2010-2019)')"
   ]
  },
  {
   "cell_type": "code",
   "execution_count": 3,
   "metadata": {},
   "outputs": [
    {
     "data": {
      "text/html": [
       "<div>\n",
       "<style scoped>\n",
       "    .dataframe tbody tr th:only-of-type {\n",
       "        vertical-align: middle;\n",
       "    }\n",
       "\n",
       "    .dataframe tbody tr th {\n",
       "        vertical-align: top;\n",
       "    }\n",
       "\n",
       "    .dataframe thead th {\n",
       "        text-align: right;\n",
       "    }\n",
       "</style>\n",
       "<table border=\"1\" class=\"dataframe\">\n",
       "  <thead>\n",
       "    <tr style=\"text-align: right;\">\n",
       "      <th></th>\n",
       "      <th>age1</th>\n",
       "      <th>cvl00</th>\n",
       "      <th>cvl10</th>\n",
       "      <th>labch</th>\n",
       "      <th>labh_hour</th>\n",
       "      <th>lab_cost</th>\n",
       "      <th>fmtc</th>\n",
       "      <th>lansh</th>\n",
       "      <th>size</th>\n",
       "      <th>ara</th>\n",
       "      <th>ydh_ty1</th>\n",
       "    </tr>\n",
       "  </thead>\n",
       "  <tbody>\n",
       "    <tr>\n",
       "      <th>0</th>\n",
       "      <td>76</td>\n",
       "      <td>0.46</td>\n",
       "      <td>0.46</td>\n",
       "      <td>2.952070e+07</td>\n",
       "      <td>2280.434783</td>\n",
       "      <td>13579524</td>\n",
       "      <td>7.827571e+07</td>\n",
       "      <td>9.130435e+06</td>\n",
       "      <td>2</td>\n",
       "      <td>32</td>\n",
       "      <td>3108.695652</td>\n",
       "    </tr>\n",
       "    <tr>\n",
       "      <th>1</th>\n",
       "      <td>53</td>\n",
       "      <td>14.99</td>\n",
       "      <td>3.33</td>\n",
       "      <td>7.377251e+05</td>\n",
       "      <td>62.374917</td>\n",
       "      <td>11058499</td>\n",
       "      <td>6.443748e+06</td>\n",
       "      <td>2.001334e+05</td>\n",
       "      <td>2</td>\n",
       "      <td>32</td>\n",
       "      <td>223.482322</td>\n",
       "    </tr>\n",
       "    <tr>\n",
       "      <th>2</th>\n",
       "      <td>54</td>\n",
       "      <td>1.40</td>\n",
       "      <td>1.40</td>\n",
       "      <td>3.838492e+06</td>\n",
       "      <td>305.000000</td>\n",
       "      <td>5373889</td>\n",
       "      <td>1.332677e+07</td>\n",
       "      <td>6.428571e+05</td>\n",
       "      <td>1</td>\n",
       "      <td>32</td>\n",
       "      <td>478.571429</td>\n",
       "    </tr>\n",
       "    <tr>\n",
       "      <th>3</th>\n",
       "      <td>59</td>\n",
       "      <td>0.17</td>\n",
       "      <td>0.17</td>\n",
       "      <td>3.301241e+07</td>\n",
       "      <td>3152.941176</td>\n",
       "      <td>5612109</td>\n",
       "      <td>7.102955e+07</td>\n",
       "      <td>2.941176e+06</td>\n",
       "      <td>1</td>\n",
       "      <td>32</td>\n",
       "      <td>7352.941176</td>\n",
       "    </tr>\n",
       "    <tr>\n",
       "      <th>4</th>\n",
       "      <td>64</td>\n",
       "      <td>0.40</td>\n",
       "      <td>0.40</td>\n",
       "      <td>1.726748e+07</td>\n",
       "      <td>1440.000000</td>\n",
       "      <td>6906990</td>\n",
       "      <td>5.348520e+07</td>\n",
       "      <td>1.000000e+06</td>\n",
       "      <td>1</td>\n",
       "      <td>32</td>\n",
       "      <td>3075.000000</td>\n",
       "    </tr>\n",
       "    <tr>\n",
       "      <th>...</th>\n",
       "      <td>...</td>\n",
       "      <td>...</td>\n",
       "      <td>...</td>\n",
       "      <td>...</td>\n",
       "      <td>...</td>\n",
       "      <td>...</td>\n",
       "      <td>...</td>\n",
       "      <td>...</td>\n",
       "      <td>...</td>\n",
       "      <td>...</td>\n",
       "      <td>...</td>\n",
       "    </tr>\n",
       "    <tr>\n",
       "      <th>62</th>\n",
       "      <td>64</td>\n",
       "      <td>0.17</td>\n",
       "      <td>0.17</td>\n",
       "      <td>6.739198e+07</td>\n",
       "      <td>5388.235294</td>\n",
       "      <td>11456636</td>\n",
       "      <td>1.001775e+08</td>\n",
       "      <td>2.501471e+06</td>\n",
       "      <td>1</td>\n",
       "      <td>37</td>\n",
       "      <td>5923.529412</td>\n",
       "    </tr>\n",
       "    <tr>\n",
       "      <th>63</th>\n",
       "      <td>62</td>\n",
       "      <td>0.17</td>\n",
       "      <td>0.17</td>\n",
       "      <td>5.123978e+07</td>\n",
       "      <td>4211.764706</td>\n",
       "      <td>8710762</td>\n",
       "      <td>8.902368e+07</td>\n",
       "      <td>2.501471e+06</td>\n",
       "      <td>1</td>\n",
       "      <td>37</td>\n",
       "      <td>19105.882353</td>\n",
       "    </tr>\n",
       "    <tr>\n",
       "      <th>64</th>\n",
       "      <td>66</td>\n",
       "      <td>0.10</td>\n",
       "      <td>0.10</td>\n",
       "      <td>3.916637e+07</td>\n",
       "      <td>3160.000000</td>\n",
       "      <td>3916637</td>\n",
       "      <td>6.819470e+07</td>\n",
       "      <td>2.551500e+06</td>\n",
       "      <td>1</td>\n",
       "      <td>37</td>\n",
       "      <td>1790.000000</td>\n",
       "    </tr>\n",
       "    <tr>\n",
       "      <th>65</th>\n",
       "      <td>70</td>\n",
       "      <td>0.10</td>\n",
       "      <td>0.10</td>\n",
       "      <td>6.594004e+07</td>\n",
       "      <td>5170.000000</td>\n",
       "      <td>6594004</td>\n",
       "      <td>1.041264e+08</td>\n",
       "      <td>2.551500e+06</td>\n",
       "      <td>1</td>\n",
       "      <td>37</td>\n",
       "      <td>4290.000000</td>\n",
       "    </tr>\n",
       "    <tr>\n",
       "      <th>66</th>\n",
       "      <td>78</td>\n",
       "      <td>0.23</td>\n",
       "      <td>0.23</td>\n",
       "      <td>2.048070e+07</td>\n",
       "      <td>1786.956522</td>\n",
       "      <td>4710561</td>\n",
       "      <td>3.613081e+07</td>\n",
       "      <td>2.588478e+05</td>\n",
       "      <td>1</td>\n",
       "      <td>36</td>\n",
       "      <td>1269.565217</td>\n",
       "    </tr>\n",
       "  </tbody>\n",
       "</table>\n",
       "<p>67 rows × 11 columns</p>\n",
       "</div>"
      ],
      "text/plain": [
       "    age1  cvl00  cvl10         labch    labh_hour  lab_cost          fmtc  \\\n",
       "0     76   0.46   0.46  2.952070e+07  2280.434783  13579524  7.827571e+07   \n",
       "1     53  14.99   3.33  7.377251e+05    62.374917  11058499  6.443748e+06   \n",
       "2     54   1.40   1.40  3.838492e+06   305.000000   5373889  1.332677e+07   \n",
       "3     59   0.17   0.17  3.301241e+07  3152.941176   5612109  7.102955e+07   \n",
       "4     64   0.40   0.40  1.726748e+07  1440.000000   6906990  5.348520e+07   \n",
       "..   ...    ...    ...           ...          ...       ...           ...   \n",
       "62    64   0.17   0.17  6.739198e+07  5388.235294  11456636  1.001775e+08   \n",
       "63    62   0.17   0.17  5.123978e+07  4211.764706   8710762  8.902368e+07   \n",
       "64    66   0.10   0.10  3.916637e+07  3160.000000   3916637  6.819470e+07   \n",
       "65    70   0.10   0.10  6.594004e+07  5170.000000   6594004  1.041264e+08   \n",
       "66    78   0.23   0.23  2.048070e+07  1786.956522   4710561  3.613081e+07   \n",
       "\n",
       "           lansh  size  ara       ydh_ty1  \n",
       "0   9.130435e+06     2   32   3108.695652  \n",
       "1   2.001334e+05     2   32    223.482322  \n",
       "2   6.428571e+05     1   32    478.571429  \n",
       "3   2.941176e+06     1   32   7352.941176  \n",
       "4   1.000000e+06     1   32   3075.000000  \n",
       "..           ...   ...  ...           ...  \n",
       "62  2.501471e+06     1   37   5923.529412  \n",
       "63  2.501471e+06     1   37  19105.882353  \n",
       "64  2.551500e+06     1   37   1790.000000  \n",
       "65  2.551500e+06     1   37   4290.000000  \n",
       "66  2.588478e+05     1   36   1269.565217  \n",
       "\n",
       "[67 rows x 11 columns]"
      ]
     },
     "execution_count": 3,
     "metadata": {},
     "output_type": "execute_result"
    }
   ],
   "source": [
    "data"
   ]
  },
  {
   "cell_type": "code",
   "execution_count": 4,
   "metadata": {},
   "outputs": [
    {
     "name": "stdout",
     "output_type": "stream",
     "text": [
      "2\n",
      "(65, 11)\n"
     ]
    }
   ],
   "source": [
    "print(np.sum(data['ydh_ty1'] == 0))\n",
    "data.drop(data[data['ydh_ty1'] == 0].index, inplace=True)\n",
    "print(data.shape)"
   ]
  },
  {
   "cell_type": "code",
   "execution_count": 9,
   "metadata": {},
   "outputs": [
    {
     "data": {
      "text/plain": [
       "age1         0\n",
       "cvl00        0\n",
       "cvl10        0\n",
       "labch        0\n",
       "labh_hour    0\n",
       "lab_cost     0\n",
       "fmtc         0\n",
       "lansh        0\n",
       "size         0\n",
       "ara          0\n",
       "ydh_ty1      0\n",
       "dtype: int64"
      ]
     },
     "execution_count": 9,
     "metadata": {},
     "output_type": "execute_result"
    }
   ],
   "source": [
    "data.isnull().sum()"
   ]
  },
  {
   "cell_type": "code",
   "execution_count": 10,
   "metadata": {},
   "outputs": [
    {
     "data": {
      "text/plain": [
       "age1         0\n",
       "cvl00        0\n",
       "cvl10        0\n",
       "labch        0\n",
       "labh_hour    0\n",
       "lab_cost     0\n",
       "fmtc         0\n",
       "lansh        0\n",
       "size         0\n",
       "ara          0\n",
       "ydh_ty1      0\n",
       "dtype: int64"
      ]
     },
     "execution_count": 10,
     "metadata": {},
     "output_type": "execute_result"
    }
   ],
   "source": [
    "data.fillna(data.mean(), inplace=True)\n",
    "data.isnull().sum()"
   ]
  },
  {
   "cell_type": "code",
   "execution_count": 11,
   "metadata": {},
   "outputs": [
    {
     "name": "stdout",
     "output_type": "stream",
     "text": [
      "1    52\n",
      "2     9\n",
      "3     3\n",
      "4     1\n",
      "Name: size, dtype: int64\n",
      "\n",
      "32    51\n",
      "37    12\n",
      "36     2\n",
      "Name: ara, dtype: int64\n",
      "\n"
     ]
    }
   ],
   "source": [
    "for column in data.columns:\n",
    "    if len(data[column].value_counts()) <= 10:\n",
    "        print(data[column].value_counts())\n",
    "        print()"
   ]
  },
  {
   "cell_type": "code",
   "execution_count": 12,
   "metadata": {
    "scrolled": false
   },
   "outputs": [
    {
     "data": {
      "image/png": "[encoded data removed]",
      "text/plain": [
       "<Figure size 432x288 with 1 Axes>"
      ]
     },
     "metadata": {
      "needs_background": "light"
     },
     "output_type": "display_data"
    },
    {
     "data": {
      "image/png": "[encoded data removed]",
      "text/plain": [
       "<Figure size 432x288 with 1 Axes>"
      ]
     },
     "metadata": {
      "needs_background": "light"
     },
     "output_type": "display_data"
    },
    {
     "data": {
      "image/png": "[encoded data removed]",
      "text/plain": [
       "<Figure size 432x288 with 1 Axes>"
      ]
     },
     "metadata": {
      "needs_background": "light"
     },
     "output_type": "display_data"
    },
    {
     "data": {
      "image/png": "[encoded data removed]",
      "text/plain": [
       "<Figure size 432x288 with 1 Axes>"
      ]
     },
     "metadata": {
      "needs_background": "light"
     },
     "output_type": "display_data"
    },
    {
     "data": {
      "image/png": "[encoded data removed]",
      "text/plain": [
       "<Figure size 432x288 with 1 Axes>"
      ]
     },
     "metadata": {
      "needs_background": "light"
     },
     "output_type": "display_data"
    },
    {
     "data": {
      "image/png": "[encoded data removed]",
      "text/plain": [
       "<Figure size 432x288 with 1 Axes>"
      ]
     },
     "metadata": {
      "needs_background": "light"
     },
     "output_type": "display_data"
    },
    {
     "data": {
      "image/png": "[encoded data removed]",
      "text/plain": [
       "<Figure size 432x288 with 1 Axes>"
      ]
     },
     "metadata": {
      "needs_background": "light"
     },
     "output_type": "display_data"
    },
    {
     "data": {
      "image/png": "[encoded data removed]",
      "text/plain": [
       "<Figure size 432x288 with 1 Axes>"
      ]
     },
     "metadata": {
      "needs_background": "light"
     },
     "output_type": "display_data"
    },
    {
     "data": {
      "image/png": "[encoded data removed]",
      "text/plain": [
       "<Figure size 432x288 with 1 Axes>"
      ]
     },
     "metadata": {
      "needs_background": "light"
     },
     "output_type": "display_data"
    },
    {
     "data": {
      "image/png": "[encoded data removed]",
      "text/plain": [
       "<Figure size 432x288 with 1 Axes>"
      ]
     },
     "metadata": {
      "needs_background": "light"
     },
     "output_type": "display_data"
    },
    {
     "data": {
      "image/png": "[encoded data removed]",
      "text/plain": [
       "<Figure size 432x288 with 1 Axes>"
      ]
     },
     "metadata": {
      "needs_background": "light"
     },
     "output_type": "display_data"
    }
   ],
   "source": [
    "import matplotlib.pyplot as plt\n",
    "%matplotlib inline\n",
    "\n",
    "for column in data.columns:\n",
    "    data[column].hist()\n",
    "    plt.title(column)\n",
    "    plt.show()"
   ]
  },
  {
   "cell_type": "markdown",
   "metadata": {},
   "source": [
    "## Log Transform"
   ]
  },
  {
   "cell_type": "code",
   "execution_count": 13,
   "metadata": {},
   "outputs": [],
   "source": [
    "data.loc[:, ['cvl00', 'cvl10']] = np.log1p(data.loc[:, ['cvl00','cvl10']])\n",
    "data.loc[:, ['fmtc', 'lansh']] = np.log1p(data.loc[:, ['fmtc', 'lansh']])\n",
    "data.loc[:, ['labch', 'labh_hour', 'lab_cost']] = np.log1p(data.loc[:, ['labch', 'labh_hour', 'lab_cost']])"
   ]
  },
  {
   "cell_type": "code",
   "execution_count": 14,
   "metadata": {},
   "outputs": [],
   "source": [
    "data['ydh_ty1'] = np.log1p(data['ydh_ty1'])"
   ]
  },
  {
   "cell_type": "code",
   "execution_count": 15,
   "metadata": {},
   "outputs": [
    {
     "data": {
      "image/png": "[encoded data removed]",
      "text/plain": [
       "<Figure size 432x288 with 1 Axes>"
      ]
     },
     "metadata": {
      "needs_background": "light"
     },
     "output_type": "display_data"
    },
    {
     "data": {
      "image/png": "[encoded data removed]",
      "text/plain": [
       "<Figure size 432x288 with 1 Axes>"
      ]
     },
     "metadata": {
      "needs_background": "light"
     },
     "output_type": "display_data"
    },
    {
     "data": {
      "image/png": "[encoded data removed]",
      "text/plain": [
       "<Figure size 432x288 with 1 Axes>"
      ]
     },
     "metadata": {
      "needs_background": "light"
     },
     "output_type": "display_data"
    },
    {
     "data": {
      "image/png": "[encoded data removed]",
      "text/plain": [
       "<Figure size 432x288 with 1 Axes>"
      ]
     },
     "metadata": {
      "needs_background": "light"
     },
     "output_type": "display_data"
    },
    {
     "data": {
      "image/png": "[encoded data removed]",
      "text/plain": [
       "<Figure size 432x288 with 1 Axes>"
      ]
     },
     "metadata": {
      "needs_background": "light"
     },
     "output_type": "display_data"
    }
   ],
   "source": [
    "import seaborn as sns\n",
    "\n",
    "sns.scatterplot(x='fmtc', y='ydh_ty1', data=data)\n",
    "plt.show()\n",
    "\n",
    "sns.scatterplot(x='labch', y='ydh_ty1', data=data)\n",
    "plt.show()\n",
    "\n",
    "sns.scatterplot(x='labh_hour', y='ydh_ty1', data=data)\n",
    "plt.show()\n",
    "\n",
    "sns.scatterplot(x='lab_cost', y='ydh_ty1', data=data)\n",
    "plt.show()\n",
    "\n",
    "sns.scatterplot(x='lansh', y='ydh_ty1', data=data)\n",
    "plt.show()"
   ]
  },
  {
   "cell_type": "markdown",
   "metadata": {},
   "source": [
    "## NaN Check"
   ]
  },
  {
   "cell_type": "code",
   "execution_count": 16,
   "metadata": {},
   "outputs": [],
   "source": [
    "data.replace({'labch' : {0 : np.nan},\n",
    "              'labh_hour' : {0 : np.nan},\n",
    "              'lab_cost' : {0 : np.nan},\n",
    "              'lansh' : {0 : np.nan}},\n",
    "             inplace=True)"
   ]
  },
  {
   "cell_type": "code",
   "execution_count": 17,
   "metadata": {},
   "outputs": [
    {
     "data": {
      "text/plain": [
       "age1         0\n",
       "cvl00        0\n",
       "cvl10        0\n",
       "labch        0\n",
       "labh_hour    0\n",
       "lab_cost     0\n",
       "fmtc         0\n",
       "lansh        0\n",
       "size         0\n",
       "ara          0\n",
       "ydh_ty1      0\n",
       "dtype: int64"
      ]
     },
     "execution_count": 17,
     "metadata": {},
     "output_type": "execute_result"
    }
   ],
   "source": [
    "data.isnull().sum()"
   ]
  },
  {
   "cell_type": "code",
   "execution_count": 18,
   "metadata": {},
   "outputs": [],
   "source": [
    "data.dropna(axis=0, inplace=True)"
   ]
  },
  {
   "cell_type": "code",
   "execution_count": 19,
   "metadata": {},
   "outputs": [
    {
     "data": {
      "image/png": "[encoded data removed]",
      "text/plain": [
       "<Figure size 432x288 with 1 Axes>"
      ]
     },
     "metadata": {
      "needs_background": "light"
     },
     "output_type": "display_data"
    },
    {
     "data": {
      "image/png": "[encoded data removed]",
      "text/plain": [
       "<Figure size 432x288 with 1 Axes>"
      ]
     },
     "metadata": {
      "needs_background": "light"
     },
     "output_type": "display_data"
    },
    {
     "data": {
      "image/png": "[encoded data removed]",
      "text/plain": [
       "<Figure size 432x288 with 1 Axes>"
      ]
     },
     "metadata": {
      "needs_background": "light"
     },
     "output_type": "display_data"
    }
   ],
   "source": [
    "sns.scatterplot(x='fmtc', y='ydh_ty1', data=data)\n",
    "plt.show()\n",
    "\n",
    "sns.scatterplot(x='labch', y='ydh_ty1', data=data)\n",
    "plt.show()\n",
    "\n",
    "sns.scatterplot(x='labh_hour', y='ydh_ty1', data=data)\n",
    "plt.show()"
   ]
  },
  {
   "cell_type": "code",
   "execution_count": 20,
   "metadata": {
    "scrolled": false
   },
   "outputs": [
    {
     "data": {
      "image/png": "[encoded data removed]",
      "text/plain": [
       "<Figure size 432x288 with 1 Axes>"
      ]
     },
     "metadata": {
      "needs_background": "light"
     },
     "output_type": "display_data"
    },
    {
     "data": {
      "image/png": "[encoded data removed]",
      "text/plain": [
       "<Figure size 432x288 with 1 Axes>"
      ]
     },
     "metadata": {
      "needs_background": "light"
     },
     "output_type": "display_data"
    },
    {
     "data": {
      "image/png": "[encoded data removed]",
      "text/plain": [
       "<Figure size 432x288 with 1 Axes>"
      ]
     },
     "metadata": {
      "needs_background": "light"
     },
     "output_type": "display_data"
    },
    {
     "data": {
      "image/png": "[encoded data removed]",
      "text/plain": [
       "<Figure size 432x288 with 1 Axes>"
      ]
     },
     "metadata": {
      "needs_background": "light"
     },
     "output_type": "display_data"
    },
    {
     "data": {
      "image/png": "[encoded data removed]",
      "text/plain": [
       "<Figure size 432x288 with 1 Axes>"
      ]
     },
     "metadata": {
      "needs_background": "light"
     },
     "output_type": "display_data"
    },
    {
     "data": {
      "image/png": "[encoded data removed]",
      "text/plain": [
       "<Figure size 432x288 with 1 Axes>"
      ]
     },
     "metadata": {
      "needs_background": "light"
     },
     "output_type": "display_data"
    },
    {
     "data": {
      "image/png": "[encoded data removed]",
      "text/plain": [
       "<Figure size 432x288 with 1 Axes>"
      ]
     },
     "metadata": {
      "needs_background": "light"
     },
     "output_type": "display_data"
    },
    {
     "data": {
      "image/png": "[encoded data removed]",
      "text/plain": [
       "<Figure size 432x288 with 1 Axes>"
      ]
     },
     "metadata": {
      "needs_background": "light"
     },
     "output_type": "display_data"
    },
    {
     "data": {
      "image/png": "[encoded data removed]",
      "text/plain": [
       "<Figure size 432x288 with 1 Axes>"
      ]
     },
     "metadata": {
      "needs_background": "light"
     },
     "output_type": "display_data"
    },
    {
     "data": {
      "image/png": "[encoded data removed]",
      "text/plain": [
       "<Figure size 432x288 with 1 Axes>"
      ]
     },
     "metadata": {
      "needs_background": "light"
     },
     "output_type": "display_data"
    },
    {
     "data": {
      "image/png": "[encoded data removed]",
      "text/plain": [
       "<Figure size 432x288 with 1 Axes>"
      ]
     },
     "metadata": {
      "needs_background": "light"
     },
     "output_type": "display_data"
    }
   ],
   "source": [
    "for column in data.columns:\n",
    "    data[column].hist()\n",
    "    plt.title(column)\n",
    "    plt.show()"
   ]
  },
  {
   "cell_type": "markdown",
   "metadata": {},
   "source": [
    "## Categorical Variable processing"
   ]
  },
  {
   "cell_type": "code",
   "execution_count": 21,
   "metadata": {},
   "outputs": [
    {
     "name": "stdout",
     "output_type": "stream",
     "text": [
      "[array([1, 2, 3, 4]), array([32, 36, 37])]\n",
      "(65, 7)\n"
     ]
    }
   ],
   "source": [
    "from sklearn.preprocessing import OneHotEncoder\n",
    "\n",
    "categorical_variables = ['size', 'ara']\n",
    "onehot_encoder = OneHotEncoder(handle_unknown='ignore')\n",
    "onehot_encoder.fit(data.loc[:, categorical_variables])\n",
    "onehot = onehot_encoder.fit_transform(data.loc[:, categorical_variables])\n",
    "print(onehot_encoder.categories_)\n",
    "print(onehot.toarray().shape)"
   ]
  },
  {
   "cell_type": "markdown",
   "metadata": {},
   "source": [
    "## Numerical Variable processing"
   ]
  },
  {
   "cell_type": "code",
   "execution_count": 22,
   "metadata": {},
   "outputs": [
    {
     "data": {
      "text/plain": [
       "array([[0.92592593, 0.11798215, 0.25821835, 0.70229992, 0.66996932,\n",
       "        0.81857205, 0.66096312, 0.73975498],\n",
       "       [0.07407407, 1.        , 1.        , 0.00850387, 0.00525096,\n",
       "        0.75015853, 0.0018834 , 0.29012633],\n",
       "       [0.11111111, 0.3011392 , 0.59735816, 0.3186602 , 0.29731536,\n",
       "        0.50975377, 0.19367566, 0.42746539],\n",
       "       [0.2962963 , 0.03638392, 0.10712829, 0.72332317, 0.73004143,\n",
       "        0.52420333, 0.6353241 , 0.60643292],\n",
       "       [0.48148148, 0.10251829, 0.22958494, 0.60145081, 0.58474063,\n",
       "        0.59336425, 0.56044805, 0.47946557],\n",
       "       [0.07407407, 0.10251829, 0.19458601, 0.57658404, 0.55888311,\n",
       "        0.54931418, 0.42436657, 0.51147001],\n",
       "       [0.59259259, 0.0202896 , 0.07732751, 0.83882949, 0.81739703,\n",
       "        0.61278364, 0.75566793, 0.65316809],\n",
       "       [0.11111111, 0.13523955, 0.29017273, 0.5357648 , 0.52062179,\n",
       "        0.57075307, 0.38267109, 0.46020769],\n",
       "       [0.        , 0.0636928 , 0.        , 0.5341437 , 0.55621746,\n",
       "        0.33062544, 0.43217561, 0.54402743],\n",
       "       [0.62962963, 0.08361664, 0.19458601, 0.71023278, 0.69101575,\n",
       "        0.72197982, 0.5933973 , 0.60994638],\n",
       "       [0.62962963, 0.02681192, 0.08940445, 0.77447534, 0.75128896,\n",
       "        0.55013665, 0.67740441, 0.60302131],\n",
       "       [0.37037037, 0.0636928 , 0.15769435, 0.78140829, 0.74838457,\n",
       "        0.76864054, 0.66358929, 0.59934314],\n",
       "       [0.2962963 , 0.01364976, 0.06503295, 0.67585988, 0.65291198,\n",
       "        0.26335493, 0.65933996, 0.83203962],\n",
       "       [0.92592593, 0.01364976, 0.06503295, 0.802568  , 0.78010024,\n",
       "        0.48781112, 0.67517497, 0.61998079],\n",
       "       [0.25925926, 0.01364976, 0.06503295, 0.79483875, 0.78054873,\n",
       "        0.47411919, 0.74733337, 0.52718559],\n",
       "       [0.40740741, 0.00346013, 0.04616549, 0.71480878, 0.68912077,\n",
       "        0.21353042, 0.55641655, 0.60302131],\n",
       "       [0.33333333, 0.05481282, 0.14125188, 0.81164176, 0.81619562,\n",
       "        0.7813545 , 0.71269464, 0.50261681],\n",
       "       [0.11111111, 0.        , 0.0397586 , 1.        , 1.        ,\n",
       "        0.66737762, 1.        , 1.        ],\n",
       "       [0.11111111, 0.13282314, 0.28569842, 0.37407483, 0.38661964,\n",
       "        0.27798292, 0.20256427, 0.38345841],\n",
       "       [0.        , 0.03638392, 0.10712829, 0.72956112, 0.7552354 ,\n",
       "        0.53525351, 0.62141436, 0.50981001],\n",
       "       [0.2962963 , 0.23210634, 0.46953458, 0.43665888, 0.42314851,\n",
       "        0.60334354, 0.26393462, 0.38131992],\n",
       "       [0.59259259, 0.33765433, 0.        , 0.        , 0.        ,\n",
       "        0.        , 0.        , 0.29004784],\n",
       "       [0.40740741, 0.04571356, 0.12440338, 0.84358007, 0.82424662,\n",
       "        0.79137203, 0.73603881, 0.47946557],\n",
       "       [0.33333333, 0.16529078, 0.34581661, 0.60083056, 0.6371626 ,\n",
       "        0.75909041, 0.42983229, 0.38667047],\n",
       "       [0.33333333, 0.15172478, 0.12440338, 0.75475059, 0.77950056,\n",
       "        1.        , 0.70150672, 0.89286382],\n",
       "       [0.22222222, 0.01364976, 0.06503295, 0.84646056, 0.82844589,\n",
       "        0.56556427, 0.73244838, 0.47946557],\n",
       "       [0.07407407, 0.08637697, 0.10712829, 0.68004579, 0.66820381,\n",
       "        0.67845032, 0.47042292, 0.48287717],\n",
       "       [0.18518519, 0.01364976, 0.06503295, 0.84551428, 0.87285115,\n",
       "        0.56388799, 0.67095248, 0.63658462],\n",
       "       [0.33333333, 0.05481282, 0.14125188, 0.73353724, 0.71508976,\n",
       "        0.6429968 , 0.55971489, 0.55845675],\n",
       "       [0.40740741, 0.01364976, 0.06503295, 0.96204434, 0.93998216,\n",
       "        0.77031434, 0.89722804, 0.60876353],\n",
       "       [0.40740741, 0.25715977, 0.51592435, 0.49180582, 0.47642612,\n",
       "        0.74509607, 0.28719982, 0.38350369],\n",
       "       [0.33333333, 0.03638392, 0.10712829, 0.85503964, 0.83401954,\n",
       "        0.75753155, 0.79143746, 0.60643292],\n",
       "       [0.48148148, 0.01364976, 0.06503295, 0.75654738, 0.74238732,\n",
       "        0.40628822, 0.65146852, 0.60876353],\n",
       "       [0.62962963, 0.03638392, 0.10712829, 0.75926657, 0.74046767,\n",
       "        0.58787502, 0.67282671, 0.54631278],\n",
       "       [0.92592593, 0.09721602, 0.21976708, 0.43554863, 0.44179511,\n",
       "        0.2823905 , 0.2499134 , 0.28036911],\n",
       "       [0.85185185, 0.11798215, 0.25821835, 0.68076513, 0.64584173,\n",
       "        0.78042439, 0.59809009, 0.63911903],\n",
       "       [0.14814815, 0.08361664, 0.0833927 , 0.75186733, 0.7500474 ,\n",
       "        0.79573307, 0.78779042, 0.7368787 ],\n",
       "       [0.18518519, 0.04571356, 0.12440338, 0.7180785 , 0.69357153,\n",
       "        0.56905317, 0.65529752, 0.63742559],\n",
       "       [0.37037037, 0.03638392, 0.10712829, 0.73642733, 0.72298983,\n",
       "        0.54741661, 0.62936697, 0.58737493],\n",
       "       [0.55555556, 0.02356519, 0.0833927 , 0.78694034, 0.7534378 ,\n",
       "        0.54752987, 0.70478594, 0.6404053 ],\n",
       "       [0.14814815, 0.0202896 , 0.03329097, 0.62471529, 0.59638202,\n",
       "        0.2334926 , 0.56915759, 0.72916414],\n",
       "       [0.66666667, 0.0202896 , 0.07732751, 0.76688331, 0.73278868,\n",
       "        0.48533509, 0.68892533, 0.63411023],\n",
       "       [0.18518519, 0.01364976, 0.06503295, 0.82549929, 0.80089263,\n",
       "        0.52843259, 0.79089994, 0.63742559],\n",
       "       [0.        , 0.01364976, 0.        , 0.61114564, 0.62610681,\n",
       "        0.14871738, 0.61513539, 0.77338149],\n",
       "       [0.7037037 , 0.08361664, 0.19458601, 0.72259015, 0.69643469,\n",
       "        0.7438702 , 0.58714105, 0.59088839],\n",
       "       [0.7037037 , 0.01364976, 0.06503295, 0.72110254, 0.68098327,\n",
       "        0.34349971, 0.53071413, 0.        ],\n",
       "       [0.44444444, 0.0636928 , 0.15769435, 0.81906392, 0.78030737,\n",
       "        0.83534535, 0.7326008 , 0.58028515],\n",
       "       [1.        , 0.01364976, 0.06503295, 0.73226289, 0.70802761,\n",
       "        0.36326963, 0.54523473, 0.65450923],\n",
       "       [0.37037037, 0.01364976, 0.06503295, 0.79312492, 0.76170538,\n",
       "        0.47108323, 0.64876119, 0.63119318],\n",
       "       [0.37037037, 0.03638392, 0.10712829, 0.79616307, 0.79985075,\n",
       "        0.65323507, 0.67728325, 0.65450911],\n",
       "       [0.14814815, 0.02356519, 0.0833927 , 0.73864084, 0.74486802,\n",
       "        0.46197006, 0.55406541, 0.63119281],\n",
       "       [0.07407407, 0.03638392, 0.10712829, 0.82772575, 0.82007788,\n",
       "        0.70914656, 0.62981941, 0.49075203],\n",
       "       [0.33333333, 0.02356519, 0.0833927 , 0.72261372, 0.71005417,\n",
       "        0.43357892, 0.59180801, 0.63119305],\n",
       "       [0.14814815, 0.32057785, 0.60583442, 0.47395582, 0.44474295,\n",
       "        0.81443189, 0.36427717, 0.68837573],\n",
       "       [0.37037037, 0.11798215, 0.25821835, 0.76297395, 0.74319898,\n",
       "        0.92605264, 0.57212573, 0.65450904],\n",
       "       [0.37037037, 0.14474978, 0.10712829, 0.73046076, 0.7551718 ,\n",
       "        0.93988444, 0.58212906, 0.72804332],\n",
       "       [0.2962963 , 0.01364976, 0.06503295, 0.87433916, 0.84593343,\n",
       "        0.61494963, 0.76756918, 0.65450923],\n",
       "       [0.2962963 , 0.01364976, 0.06503295, 0.68940651, 0.73451905,\n",
       "        0.28735201, 0.52976046, 0.65450923],\n",
       "       [0.40740741, 0.03952012, 0.11293539, 0.77382535, 0.74763171,\n",
       "        0.63270643, 0.59503888, 0.56824774],\n",
       "       [0.48148148, 0.01364976, 0.06503295, 0.865842  , 0.84179418,\n",
       "        0.59989738, 0.76223166, 0.58970555],\n",
       "       [0.48148148, 0.03638392, 0.10712829, 0.85752906, 0.82942028,\n",
       "        0.76194141, 0.72607759, 0.58737493],\n",
       "       [0.40740741, 0.03638392, 0.10712829, 0.80599943, 0.78373586,\n",
       "        0.67065961, 0.69492237, 0.58737493],\n",
       "       [0.55555556, 0.01364976, 0.06503295, 0.7554688 , 0.73045612,\n",
       "        0.40437757, 0.62457427, 0.58970555],\n",
       "       [0.7037037 , 0.01364976, 0.06503295, 0.85343314, 0.82175242,\n",
       "        0.5779158 , 0.73628191, 0.58970555],\n",
       "       [1.        , 0.05481282, 0.14125188, 0.6335444 , 0.6247585 ,\n",
       "        0.46586518, 0.45691708, 0.32040322]])"
      ]
     },
     "execution_count": 22,
     "metadata": {},
     "output_type": "execute_result"
    }
   ],
   "source": [
    "from sklearn.preprocessing import MinMaxScaler\n",
    "\n",
    "numerical_variables = ['age1',\n",
    "                       'cvl00', 'cvl10',\n",
    "                       'labch', 'labh_hour', 'lab_cost',\n",
    "                       'fmtc', 'lansh']\n",
    "X_minmax_scaler = MinMaxScaler()\n",
    "X_minmax_scaler.fit(data.loc[:, numerical_variables])\n",
    "X_scaled = X_minmax_scaler.transform(data.loc[:, numerical_variables])\n",
    "X_scaled"
   ]
  },
  {
   "cell_type": "code",
   "execution_count": 23,
   "metadata": {},
   "outputs": [
    {
     "data": {
      "text/html": [
       "<div>\n",
       "<style scoped>\n",
       "    .dataframe tbody tr th:only-of-type {\n",
       "        vertical-align: middle;\n",
       "    }\n",
       "\n",
       "    .dataframe tbody tr th {\n",
       "        vertical-align: top;\n",
       "    }\n",
       "\n",
       "    .dataframe thead th {\n",
       "        text-align: right;\n",
       "    }\n",
       "</style>\n",
       "<table border=\"1\" class=\"dataframe\">\n",
       "  <thead>\n",
       "    <tr style=\"text-align: right;\">\n",
       "      <th></th>\n",
       "      <th>age1</th>\n",
       "      <th>cvl00</th>\n",
       "      <th>cvl10</th>\n",
       "      <th>labch</th>\n",
       "      <th>labh_hour</th>\n",
       "      <th>lab_cost</th>\n",
       "      <th>fmtc</th>\n",
       "      <th>lansh</th>\n",
       "      <th>0</th>\n",
       "      <th>1</th>\n",
       "      <th>2</th>\n",
       "      <th>3</th>\n",
       "      <th>4</th>\n",
       "      <th>5</th>\n",
       "      <th>6</th>\n",
       "    </tr>\n",
       "  </thead>\n",
       "  <tbody>\n",
       "    <tr>\n",
       "      <th>0</th>\n",
       "      <td>0.925926</td>\n",
       "      <td>0.117982</td>\n",
       "      <td>0.258218</td>\n",
       "      <td>0.702300</td>\n",
       "      <td>0.669969</td>\n",
       "      <td>0.818572</td>\n",
       "      <td>0.660963</td>\n",
       "      <td>0.739755</td>\n",
       "      <td>0.0</td>\n",
       "      <td>1.0</td>\n",
       "      <td>0.0</td>\n",
       "      <td>0.0</td>\n",
       "      <td>1.0</td>\n",
       "      <td>0.0</td>\n",
       "      <td>0.0</td>\n",
       "    </tr>\n",
       "    <tr>\n",
       "      <th>1</th>\n",
       "      <td>0.074074</td>\n",
       "      <td>1.000000</td>\n",
       "      <td>1.000000</td>\n",
       "      <td>0.008504</td>\n",
       "      <td>0.005251</td>\n",
       "      <td>0.750159</td>\n",
       "      <td>0.001883</td>\n",
       "      <td>0.290126</td>\n",
       "      <td>0.0</td>\n",
       "      <td>1.0</td>\n",
       "      <td>0.0</td>\n",
       "      <td>0.0</td>\n",
       "      <td>1.0</td>\n",
       "      <td>0.0</td>\n",
       "      <td>0.0</td>\n",
       "    </tr>\n",
       "    <tr>\n",
       "      <th>2</th>\n",
       "      <td>0.111111</td>\n",
       "      <td>0.301139</td>\n",
       "      <td>0.597358</td>\n",
       "      <td>0.318660</td>\n",
       "      <td>0.297315</td>\n",
       "      <td>0.509754</td>\n",
       "      <td>0.193676</td>\n",
       "      <td>0.427465</td>\n",
       "      <td>1.0</td>\n",
       "      <td>0.0</td>\n",
       "      <td>0.0</td>\n",
       "      <td>0.0</td>\n",
       "      <td>1.0</td>\n",
       "      <td>0.0</td>\n",
       "      <td>0.0</td>\n",
       "    </tr>\n",
       "    <tr>\n",
       "      <th>3</th>\n",
       "      <td>0.296296</td>\n",
       "      <td>0.036384</td>\n",
       "      <td>0.107128</td>\n",
       "      <td>0.723323</td>\n",
       "      <td>0.730041</td>\n",
       "      <td>0.524203</td>\n",
       "      <td>0.635324</td>\n",
       "      <td>0.606433</td>\n",
       "      <td>1.0</td>\n",
       "      <td>0.0</td>\n",
       "      <td>0.0</td>\n",
       "      <td>0.0</td>\n",
       "      <td>1.0</td>\n",
       "      <td>0.0</td>\n",
       "      <td>0.0</td>\n",
       "    </tr>\n",
       "    <tr>\n",
       "      <th>4</th>\n",
       "      <td>0.481481</td>\n",
       "      <td>0.102518</td>\n",
       "      <td>0.229585</td>\n",
       "      <td>0.601451</td>\n",
       "      <td>0.584741</td>\n",
       "      <td>0.593364</td>\n",
       "      <td>0.560448</td>\n",
       "      <td>0.479466</td>\n",
       "      <td>1.0</td>\n",
       "      <td>0.0</td>\n",
       "      <td>0.0</td>\n",
       "      <td>0.0</td>\n",
       "      <td>1.0</td>\n",
       "      <td>0.0</td>\n",
       "      <td>0.0</td>\n",
       "    </tr>\n",
       "    <tr>\n",
       "      <th>...</th>\n",
       "      <td>...</td>\n",
       "      <td>...</td>\n",
       "      <td>...</td>\n",
       "      <td>...</td>\n",
       "      <td>...</td>\n",
       "      <td>...</td>\n",
       "      <td>...</td>\n",
       "      <td>...</td>\n",
       "      <td>...</td>\n",
       "      <td>...</td>\n",
       "      <td>...</td>\n",
       "      <td>...</td>\n",
       "      <td>...</td>\n",
       "      <td>...</td>\n",
       "      <td>...</td>\n",
       "    </tr>\n",
       "    <tr>\n",
       "      <th>60</th>\n",
       "      <td>0.481481</td>\n",
       "      <td>0.036384</td>\n",
       "      <td>0.107128</td>\n",
       "      <td>0.857529</td>\n",
       "      <td>0.829420</td>\n",
       "      <td>0.761941</td>\n",
       "      <td>0.726078</td>\n",
       "      <td>0.587375</td>\n",
       "      <td>1.0</td>\n",
       "      <td>0.0</td>\n",
       "      <td>0.0</td>\n",
       "      <td>0.0</td>\n",
       "      <td>0.0</td>\n",
       "      <td>0.0</td>\n",
       "      <td>1.0</td>\n",
       "    </tr>\n",
       "    <tr>\n",
       "      <th>61</th>\n",
       "      <td>0.407407</td>\n",
       "      <td>0.036384</td>\n",
       "      <td>0.107128</td>\n",
       "      <td>0.805999</td>\n",
       "      <td>0.783736</td>\n",
       "      <td>0.670660</td>\n",
       "      <td>0.694922</td>\n",
       "      <td>0.587375</td>\n",
       "      <td>1.0</td>\n",
       "      <td>0.0</td>\n",
       "      <td>0.0</td>\n",
       "      <td>0.0</td>\n",
       "      <td>0.0</td>\n",
       "      <td>0.0</td>\n",
       "      <td>1.0</td>\n",
       "    </tr>\n",
       "    <tr>\n",
       "      <th>62</th>\n",
       "      <td>0.555556</td>\n",
       "      <td>0.013650</td>\n",
       "      <td>0.065033</td>\n",
       "      <td>0.755469</td>\n",
       "      <td>0.730456</td>\n",
       "      <td>0.404378</td>\n",
       "      <td>0.624574</td>\n",
       "      <td>0.589706</td>\n",
       "      <td>1.0</td>\n",
       "      <td>0.0</td>\n",
       "      <td>0.0</td>\n",
       "      <td>0.0</td>\n",
       "      <td>0.0</td>\n",
       "      <td>0.0</td>\n",
       "      <td>1.0</td>\n",
       "    </tr>\n",
       "    <tr>\n",
       "      <th>63</th>\n",
       "      <td>0.703704</td>\n",
       "      <td>0.013650</td>\n",
       "      <td>0.065033</td>\n",
       "      <td>0.853433</td>\n",
       "      <td>0.821752</td>\n",
       "      <td>0.577916</td>\n",
       "      <td>0.736282</td>\n",
       "      <td>0.589706</td>\n",
       "      <td>1.0</td>\n",
       "      <td>0.0</td>\n",
       "      <td>0.0</td>\n",
       "      <td>0.0</td>\n",
       "      <td>0.0</td>\n",
       "      <td>0.0</td>\n",
       "      <td>1.0</td>\n",
       "    </tr>\n",
       "    <tr>\n",
       "      <th>64</th>\n",
       "      <td>1.000000</td>\n",
       "      <td>0.054813</td>\n",
       "      <td>0.141252</td>\n",
       "      <td>0.633544</td>\n",
       "      <td>0.624758</td>\n",
       "      <td>0.465865</td>\n",
       "      <td>0.456917</td>\n",
       "      <td>0.320403</td>\n",
       "      <td>1.0</td>\n",
       "      <td>0.0</td>\n",
       "      <td>0.0</td>\n",
       "      <td>0.0</td>\n",
       "      <td>0.0</td>\n",
       "      <td>1.0</td>\n",
       "      <td>0.0</td>\n",
       "    </tr>\n",
       "  </tbody>\n",
       "</table>\n",
       "<p>65 rows × 15 columns</p>\n",
       "</div>"
      ],
      "text/plain": [
       "        age1     cvl00     cvl10     labch  labh_hour  lab_cost      fmtc  \\\n",
       "0   0.925926  0.117982  0.258218  0.702300   0.669969  0.818572  0.660963   \n",
       "1   0.074074  1.000000  1.000000  0.008504   0.005251  0.750159  0.001883   \n",
       "2   0.111111  0.301139  0.597358  0.318660   0.297315  0.509754  0.193676   \n",
       "3   0.296296  0.036384  0.107128  0.723323   0.730041  0.524203  0.635324   \n",
       "4   0.481481  0.102518  0.229585  0.601451   0.584741  0.593364  0.560448   \n",
       "..       ...       ...       ...       ...        ...       ...       ...   \n",
       "60  0.481481  0.036384  0.107128  0.857529   0.829420  0.761941  0.726078   \n",
       "61  0.407407  0.036384  0.107128  0.805999   0.783736  0.670660  0.694922   \n",
       "62  0.555556  0.013650  0.065033  0.755469   0.730456  0.404378  0.624574   \n",
       "63  0.703704  0.013650  0.065033  0.853433   0.821752  0.577916  0.736282   \n",
       "64  1.000000  0.054813  0.141252  0.633544   0.624758  0.465865  0.456917   \n",
       "\n",
       "       lansh    0    1    2    3    4    5    6  \n",
       "0   0.739755  0.0  1.0  0.0  0.0  1.0  0.0  0.0  \n",
       "1   0.290126  0.0  1.0  0.0  0.0  1.0  0.0  0.0  \n",
       "2   0.427465  1.0  0.0  0.0  0.0  1.0  0.0  0.0  \n",
       "3   0.606433  1.0  0.0  0.0  0.0  1.0  0.0  0.0  \n",
       "4   0.479466  1.0  0.0  0.0  0.0  1.0  0.0  0.0  \n",
       "..       ...  ...  ...  ...  ...  ...  ...  ...  \n",
       "60  0.587375  1.0  0.0  0.0  0.0  0.0  0.0  1.0  \n",
       "61  0.587375  1.0  0.0  0.0  0.0  0.0  0.0  1.0  \n",
       "62  0.589706  1.0  0.0  0.0  0.0  0.0  0.0  1.0  \n",
       "63  0.589706  1.0  0.0  0.0  0.0  0.0  0.0  1.0  \n",
       "64  0.320403  1.0  0.0  0.0  0.0  0.0  1.0  0.0  \n",
       "\n",
       "[65 rows x 15 columns]"
      ]
     },
     "execution_count": 23,
     "metadata": {},
     "output_type": "execute_result"
    }
   ],
   "source": [
    "numeric_data_df = pd.DataFrame(X_scaled, columns=numerical_variables)\n",
    "onehot_data_df = pd.DataFrame(onehot.toarray())\n",
    "\n",
    "X_data_df = pd.concat([numeric_data_df , onehot_data_df], axis=1)\n",
    "X_data_df"
   ]
  },
  {
   "cell_type": "code",
   "execution_count": 24,
   "metadata": {},
   "outputs": [],
   "source": [
    "X_data = np.array(X_data_df)\n",
    "y_data = np.array(data['ydh_ty1'])"
   ]
  },
  {
   "cell_type": "markdown",
   "metadata": {},
   "source": [
    "# Train Test Split"
   ]
  },
  {
   "cell_type": "code",
   "execution_count": 25,
   "metadata": {},
   "outputs": [
    {
     "name": "stdout",
     "output_type": "stream",
     "text": [
      "(58, 15) (58,)\n",
      "(7, 15) (7,)\n"
     ]
    }
   ],
   "source": [
    "from sklearn.model_selection import train_test_split\n",
    "\n",
    "X_train, X_test, y_train, y_test = train_test_split(X_data, y_data,\n",
    "                                                    test_size=0.1,\n",
    "                                                    random_state=1234)\n",
    "print(X_train.shape, y_train.shape)\n",
    "print(X_test.shape, y_test.shape)"
   ]
  },
  {
   "cell_type": "markdown",
   "metadata": {},
   "source": [
    "# Modeling"
   ]
  },
  {
   "cell_type": "markdown",
   "metadata": {},
   "source": [
    "## Decision Tree"
   ]
  },
  {
   "cell_type": "code",
   "execution_count": 26,
   "metadata": {},
   "outputs": [
    {
     "data": {
      "text/plain": [
       "DecisionTreeRegressor(random_state=1000)"
      ]
     },
     "execution_count": 26,
     "metadata": {},
     "output_type": "execute_result"
    }
   ],
   "source": [
    "from sklearn.tree import DecisionTreeRegressor\n",
    "from sklearn.metrics import mean_squared_error\n",
    "\n",
    "dt = DecisionTreeRegressor(random_state=1000)\n",
    "dt.fit(X_train, y_train)"
   ]
  },
  {
   "cell_type": "code",
   "execution_count": 27,
   "metadata": {},
   "outputs": [
    {
     "name": "stdout",
     "output_type": "stream",
     "text": [
      "[9.07254444 6.97768105 6.97768105 7.57609734 8.34124513 9.87101601\n",
      " 7.28687641]\n"
     ]
    }
   ],
   "source": [
    "dt_pred = dt.predict(X_test)\n",
    "print(dt_pred[:10])"
   ]
  },
  {
   "cell_type": "code",
   "execution_count": 28,
   "metadata": {},
   "outputs": [
    {
     "data": {
      "text/plain": [
       "0.9644727122859932"
      ]
     },
     "execution_count": 28,
     "metadata": {},
     "output_type": "execute_result"
    }
   ],
   "source": [
    "dt_rmse = np.sqrt(mean_squared_error(y_test, dt_pred))\n",
    "dt_rmse"
   ]
  },
  {
   "cell_type": "markdown",
   "metadata": {},
   "source": [
    "## RandomForest"
   ]
  },
  {
   "cell_type": "code",
   "execution_count": 29,
   "metadata": {},
   "outputs": [
    {
     "data": {
      "text/plain": [
       "RandomForestRegressor(max_features='sqrt', n_estimators=3000, random_state=1000)"
      ]
     },
     "execution_count": 29,
     "metadata": {},
     "output_type": "execute_result"
    }
   ],
   "source": [
    "from sklearn.ensemble import RandomForestRegressor\n",
    "\n",
    "rf = RandomForestRegressor(n_estimators = 3000, max_features = 'sqrt', \n",
    "                           random_state = 1000)\n",
    "rf.fit(X_train, y_train)"
   ]
  },
  {
   "cell_type": "code",
   "execution_count": 30,
   "metadata": {},
   "outputs": [
    {
     "name": "stdout",
     "output_type": "stream",
     "text": [
      "[8.95641885 8.26003915 7.99023826 7.52674542 8.90691861 9.73135449\n",
      " 7.77451938]\n"
     ]
    }
   ],
   "source": [
    "rf_pred = rf.predict(X_test)\n",
    "print(rf_pred[:10])"
   ]
  },
  {
   "cell_type": "code",
   "execution_count": 31,
   "metadata": {},
   "outputs": [
    {
     "data": {
      "text/plain": [
       "0.6535653854067468"
      ]
     },
     "execution_count": 31,
     "metadata": {},
     "output_type": "execute_result"
    }
   ],
   "source": [
    "rf_rmse = np.sqrt(mean_squared_error(y_test, rf_pred))\n",
    "rf_rmse"
   ]
  },
  {
   "cell_type": "code",
   "execution_count": 32,
   "metadata": {},
   "outputs": [
    {
     "data": {
      "image/png": "[encoded data removed]",
      "text/plain": [
       "<Figure size 576x432 with 1 Axes>"
      ]
     },
     "metadata": {
      "needs_background": "light"
     },
     "output_type": "display_data"
    }
   ],
   "source": [
    "import seaborn as sns\n",
    "\n",
    "importances_values = rf.feature_importances_ \n",
    "importances = pd.Series(importances_values, index=X_data_df.columns)\n",
    "\n",
    "top20 = importances.sort_values(ascending=False)[:20]\n",
    "plt.figure(figsize=(8, 6))\n",
    "plt.title('Feature importances Top 20')\n",
    "sns.barplot(x = top20, y = top20.index)\n",
    "plt.show()"
   ]
  },
  {
   "cell_type": "markdown",
   "metadata": {},
   "source": [
    "## Ridge"
   ]
  },
  {
   "cell_type": "code",
   "execution_count": 33,
   "metadata": {},
   "outputs": [
    {
     "data": {
      "text/plain": [
       "Ridge(alpha=0.1724)"
      ]
     },
     "execution_count": 33,
     "metadata": {},
     "output_type": "execute_result"
    }
   ],
   "source": [
    "from sklearn.linear_model import Ridge\n",
    "\n",
    "ridge = Ridge(alpha=0.1724)\n",
    "ridge.fit(X_train, y_train)"
   ]
  },
  {
   "cell_type": "code",
   "execution_count": 34,
   "metadata": {},
   "outputs": [
    {
     "name": "stdout",
     "output_type": "stream",
     "text": [
      "0.6910908197380379\n"
     ]
    }
   ],
   "source": [
    "print(ridge.score(X_train, y_train))"
   ]
  },
  {
   "cell_type": "code",
   "execution_count": 35,
   "metadata": {},
   "outputs": [
    {
     "data": {
      "text/plain": [
       "0.4794207129078986"
      ]
     },
     "execution_count": 35,
     "metadata": {},
     "output_type": "execute_result"
    }
   ],
   "source": [
    "ridge_pred = ridge.predict(X_test)\n",
    "ridge_rmse = np.sqrt(mean_squared_error(y_test, ridge_pred))\n",
    "ridge_rmse"
   ]
  },
  {
   "cell_type": "markdown",
   "metadata": {},
   "source": [
    "## LASSO"
   ]
  },
  {
   "cell_type": "code",
   "execution_count": 36,
   "metadata": {},
   "outputs": [
    {
     "data": {
      "text/plain": [
       "Lasso(alpha=0.001)"
      ]
     },
     "execution_count": 36,
     "metadata": {},
     "output_type": "execute_result"
    }
   ],
   "source": [
    "from sklearn.linear_model import Lasso\n",
    "\n",
    "lasso = Lasso(alpha=0.001)\n",
    "lasso.fit(X_train, y_train)"
   ]
  },
  {
   "cell_type": "code",
   "execution_count": 37,
   "metadata": {},
   "outputs": [
    {
     "name": "stdout",
     "output_type": "stream",
     "text": [
      "0.7434440440272082\n"
     ]
    }
   ],
   "source": [
    "print(lasso.score(X_train, y_train))"
   ]
  },
  {
   "cell_type": "code",
   "execution_count": 38,
   "metadata": {},
   "outputs": [
    {
     "data": {
      "text/plain": [
       "0.44092228282784945"
      ]
     },
     "execution_count": 38,
     "metadata": {},
     "output_type": "execute_result"
    }
   ],
   "source": [
    "lasso_pred = lasso.predict(X_test)\n",
    "lasso_rmse = np.sqrt(mean_squared_error(y_test, lasso_pred))\n",
    "lasso_rmse"
   ]
  },
  {
   "cell_type": "markdown",
   "metadata": {},
   "source": [
    "## GBM"
   ]
  },
  {
   "cell_type": "code",
   "execution_count": 39,
   "metadata": {},
   "outputs": [
    {
     "name": "stdout",
     "output_type": "stream",
     "text": [
      "[ 9.26177658  7.21989507  7.2020934   7.57263059  8.4344407  10.96572856\n",
      "  7.36462523]\n"
     ]
    }
   ],
   "source": [
    "from sklearn.ensemble import GradientBoostingRegressor\n",
    "\n",
    "gbm = GradientBoostingRegressor(n_estimators=500, max_depth=8)\n",
    "gbm.fit(X_train, y_train)\n",
    "\n",
    "gbm_pred = gbm.predict(X_test)\n",
    "print(gbm_pred[:10])"
   ]
  },
  {
   "cell_type": "code",
   "execution_count": 40,
   "metadata": {},
   "outputs": [
    {
     "data": {
      "text/plain": [
       "1.22729507249548"
      ]
     },
     "execution_count": 40,
     "metadata": {},
     "output_type": "execute_result"
    }
   ],
   "source": [
    "gbm_rmse = np.sqrt(mean_squared_error(y_test, gbm_pred))\n",
    "gbm_rmse"
   ]
  },
  {
   "cell_type": "markdown",
   "metadata": {},
   "source": [
    "## AdaBoost"
   ]
  },
  {
   "cell_type": "code",
   "execution_count": 41,
   "metadata": {},
   "outputs": [
    {
     "name": "stdout",
     "output_type": "stream",
     "text": [
      "[9.08558169 8.26351636 8.03028206 7.65913087 8.68896284 9.59630396\n",
      " 7.81220563]\n"
     ]
    }
   ],
   "source": [
    "from sklearn.ensemble import AdaBoostRegressor\n",
    "\n",
    "ada = AdaBoostRegressor(n_estimators = 500, learning_rate = 0.1)\n",
    "ada.fit(X_train, y_train)\n",
    "\n",
    "ada_pred = ada.predict(X_test)\n",
    "print(ada_pred[:10])"
   ]
  },
  {
   "cell_type": "code",
   "execution_count": 42,
   "metadata": {},
   "outputs": [
    {
     "data": {
      "text/plain": [
       "0.633177085589064"
      ]
     },
     "execution_count": 42,
     "metadata": {},
     "output_type": "execute_result"
    }
   ],
   "source": [
    "ada_rmse = np.sqrt(mean_squared_error(y_test, ada_pred))\n",
    "ada_rmse"
   ]
  },
  {
   "cell_type": "markdown",
   "metadata": {},
   "source": [
    "## XGBoost"
   ]
  },
  {
   "cell_type": "code",
   "execution_count": 43,
   "metadata": {},
   "outputs": [
    {
     "name": "stdout",
     "output_type": "stream",
     "text": [
      "1.3.3\n",
      "[8.902129  8.381539  7.6450157 7.484128  8.53564   9.888898  7.585874 ]\n"
     ]
    }
   ],
   "source": [
    "import xgboost as xgb\n",
    "print(xgb.__version__)\n",
    "\n",
    "xgb_reg = xgb.XGBRegressor(learning_rate=0.08, max_depth=8, \n",
    "                           gamma=0, n_estimators=3000,\n",
    "                           subsample=0.7, colsample_bytree=0.8)\n",
    "xgb_reg.fit(X_train, y_train, verbose=False)\n",
    "\n",
    "xgb_pred = xgb_reg.predict(X_test)\n",
    "print(xgb_pred[:10])"
   ]
  },
  {
   "cell_type": "code",
   "execution_count": 44,
   "metadata": {},
   "outputs": [
    {
     "data": {
      "text/plain": [
       "0.7556160385531607"
      ]
     },
     "execution_count": 44,
     "metadata": {},
     "output_type": "execute_result"
    }
   ],
   "source": [
    "xgb_rmse = np.sqrt(mean_squared_error(y_test, xgb_pred))\n",
    "xgb_rmse"
   ]
  },
  {
   "cell_type": "code",
   "execution_count": 45,
   "metadata": {},
   "outputs": [
    {
     "data": {
      "image/png": "[encoded data removed]",
      "text/plain": [
       "<Figure size 720x864 with 1 Axes>"
      ]
     },
     "metadata": {
      "needs_background": "light"
     },
     "output_type": "display_data"
    }
   ],
   "source": [
    "from xgboost import plot_importance\n",
    "\n",
    "plot_importance(xgb_reg, max_num_features=20)\n",
    "\n",
    "fig = plt.gcf()\n",
    "fig.set_size_inches(10, 12)"
   ]
  },
  {
   "cell_type": "markdown",
   "metadata": {},
   "source": [
    "## LightGBM"
   ]
  },
  {
   "cell_type": "code",
   "execution_count": 46,
   "metadata": {},
   "outputs": [
    {
     "data": {
      "text/plain": [
       "LGBMRegressor(max_depth=50, min_data_in_leaf=10, n_estimators=1000,\n",
       "              num_leaves=10)"
      ]
     },
     "execution_count": 46,
     "metadata": {},
     "output_type": "execute_result"
    }
   ],
   "source": [
    "import lightgbm as lgb\n",
    "\n",
    "\n",
    "lgb_reg = lgb.LGBMRegressor(n_estimators=1000, max_depth=50, num_leaves=10, min_data_in_leaf=10)\n",
    "lgb_reg.fit(X_train, y_train,\n",
    "        eval_set=[(X_test, y_test)],\n",
    "        eval_metric='l1',\n",
    "        early_stopping_rounds=1000,\n",
    "        verbose = False)"
   ]
  },
  {
   "cell_type": "code",
   "execution_count": 47,
   "metadata": {},
   "outputs": [
    {
     "name": "stdout",
     "output_type": "stream",
     "text": [
      "[8.44808074 8.19327058 8.19327058 7.97196496 8.32146441 8.44808074\n",
      " 7.97196496]\n"
     ]
    }
   ],
   "source": [
    "lgb_pred = lgb_reg.predict(X_test)\n",
    "print(lgb_pred[:10])"
   ]
  },
  {
   "cell_type": "code",
   "execution_count": 48,
   "metadata": {},
   "outputs": [
    {
     "data": {
      "text/plain": [
       "0.3636281600228354"
      ]
     },
     "execution_count": 48,
     "metadata": {},
     "output_type": "execute_result"
    }
   ],
   "source": [
    "lgb_rmse = np.sqrt(mean_squared_error(y_test, lgb_pred))\n",
    "lgb_rmse"
   ]
  },
  {
   "cell_type": "markdown",
   "metadata": {},
   "source": [
    "# Model Comparison"
   ]
  },
  {
   "cell_type": "code",
   "execution_count": 49,
   "metadata": {},
   "outputs": [
    {
     "data": {
      "text/html": [
       "<div>\n",
       "<style scoped>\n",
       "    .dataframe tbody tr th:only-of-type {\n",
       "        vertical-align: middle;\n",
       "    }\n",
       "\n",
       "    .dataframe tbody tr th {\n",
       "        vertical-align: top;\n",
       "    }\n",
       "\n",
       "    .dataframe thead th {\n",
       "        text-align: right;\n",
       "    }\n",
       "</style>\n",
       "<table border=\"1\" class=\"dataframe\">\n",
       "  <thead>\n",
       "    <tr style=\"text-align: right;\">\n",
       "      <th></th>\n",
       "      <th>Model</th>\n",
       "      <th>RMSE</th>\n",
       "    </tr>\n",
       "  </thead>\n",
       "  <tbody>\n",
       "    <tr>\n",
       "      <th>7</th>\n",
       "      <td>LightGBM</td>\n",
       "      <td>0.363628</td>\n",
       "    </tr>\n",
       "    <tr>\n",
       "      <th>3</th>\n",
       "      <td>LASSO</td>\n",
       "      <td>0.440922</td>\n",
       "    </tr>\n",
       "    <tr>\n",
       "      <th>2</th>\n",
       "      <td>Ridge</td>\n",
       "      <td>0.479421</td>\n",
       "    </tr>\n",
       "    <tr>\n",
       "      <th>5</th>\n",
       "      <td>AdaBoost</td>\n",
       "      <td>0.633177</td>\n",
       "    </tr>\n",
       "    <tr>\n",
       "      <th>1</th>\n",
       "      <td>RandomForest</td>\n",
       "      <td>0.653565</td>\n",
       "    </tr>\n",
       "    <tr>\n",
       "      <th>6</th>\n",
       "      <td>XGboost</td>\n",
       "      <td>0.755616</td>\n",
       "    </tr>\n",
       "    <tr>\n",
       "      <th>0</th>\n",
       "      <td>Decision Tree</td>\n",
       "      <td>0.964473</td>\n",
       "    </tr>\n",
       "    <tr>\n",
       "      <th>4</th>\n",
       "      <td>GBM</td>\n",
       "      <td>1.227295</td>\n",
       "    </tr>\n",
       "  </tbody>\n",
       "</table>\n",
       "</div>"
      ],
      "text/plain": [
       "           Model      RMSE\n",
       "7       LightGBM  0.363628\n",
       "3          LASSO  0.440922\n",
       "2          Ridge  0.479421\n",
       "5       AdaBoost  0.633177\n",
       "1   RandomForest  0.653565\n",
       "6        XGboost  0.755616\n",
       "0  Decision Tree  0.964473\n",
       "4            GBM  1.227295"
      ]
     },
     "execution_count": 49,
     "metadata": {},
     "output_type": "execute_result"
    }
   ],
   "source": [
    "model_result = pd.DataFrame({\n",
    "    'Model': ['Decision Tree', 'RandomForest', 'Ridge', 'LASSO',\n",
    "              'GBM', 'AdaBoost', 'XGboost', 'LightGBM'],\n",
    "    'RMSE': [dt_rmse, rf_rmse, ridge_rmse, lasso_rmse,\n",
    "             gbm_rmse, ada_rmse, xgb_rmse, lgb_rmse]})\n",
    "model_result.sort_values(by='RMSE', ascending=True)"
   ]
  },
  {
   "cell_type": "markdown",
   "metadata": {},
   "source": [
    "# Ensemble"
   ]
  },
  {
   "cell_type": "code",
   "execution_count": 50,
   "metadata": {},
   "outputs": [],
   "source": [
    "import torch\n",
    "from sklearn.metrics import mean_squared_error\n",
    "\n",
    "class EnsembleRegressor:\n",
    "    def __init__(self, models, weights=None):\n",
    "        \n",
    "        self.models = models\n",
    "        self.weights = weights\n",
    "        \n",
    "    def predict(self, X_test):\n",
    "        pred_list = []\n",
    "        for i, model in enumerate(models.values()):\n",
    "            pred_list.append(model.predict(X_test))\n",
    "        preds = np.array(pred_list)\n",
    "            \n",
    "        prediction = np.average(preds, axis=0, weights=self.weights)\n",
    "\n",
    "        return prediction\n",
    "    \n",
    "    def random_search(self, X_test, y_test, num_search):\n",
    "        weights = torch.softmax(torch.rand(num_search, len(self.models)), axis=1).numpy()\n",
    "        \n",
    "        pred_list = []\n",
    "        for i, model in enumerate(models.values()):\n",
    "            pred_list.append(model.predict(X_test))\n",
    "        preds = np.array(pred_list)\n",
    "\n",
    "        mse = []\n",
    "        for i in range(num_search):\n",
    "            prediction = np.average(preds, axis=0, weights=weights[i])\n",
    "            mse_ = mean_squared_error(y_test, prediction)\n",
    "            mse.append(mse_)\n",
    "        \n",
    "        result = pd.DataFrame(weights)\n",
    "        result['RMSE'] = np.sqrt(mse)\n",
    "\n",
    "        return result.sort_values('RMSE', ascending=True)"
   ]
  },
  {
   "cell_type": "code",
   "execution_count": 51,
   "metadata": {},
   "outputs": [
    {
     "data": {
      "text/html": [
       "<div>\n",
       "<style scoped>\n",
       "    .dataframe tbody tr th:only-of-type {\n",
       "        vertical-align: middle;\n",
       "    }\n",
       "\n",
       "    .dataframe tbody tr th {\n",
       "        vertical-align: top;\n",
       "    }\n",
       "\n",
       "    .dataframe thead th {\n",
       "        text-align: right;\n",
       "    }\n",
       "</style>\n",
       "<table border=\"1\" class=\"dataframe\">\n",
       "  <thead>\n",
       "    <tr style=\"text-align: right;\">\n",
       "      <th></th>\n",
       "      <th>0</th>\n",
       "      <th>1</th>\n",
       "      <th>RMSE</th>\n",
       "    </tr>\n",
       "  </thead>\n",
       "  <tbody>\n",
       "    <tr>\n",
       "      <th>6789</th>\n",
       "      <td>0.269981</td>\n",
       "      <td>0.730019</td>\n",
       "      <td>0.358902</td>\n",
       "    </tr>\n",
       "    <tr>\n",
       "      <th>5263</th>\n",
       "      <td>0.271229</td>\n",
       "      <td>0.728771</td>\n",
       "      <td>0.358929</td>\n",
       "    </tr>\n",
       "    <tr>\n",
       "      <th>24178</th>\n",
       "      <td>0.271861</td>\n",
       "      <td>0.728139</td>\n",
       "      <td>0.358942</td>\n",
       "    </tr>\n",
       "    <tr>\n",
       "      <th>8403</th>\n",
       "      <td>0.271957</td>\n",
       "      <td>0.728043</td>\n",
       "      <td>0.358944</td>\n",
       "    </tr>\n",
       "    <tr>\n",
       "      <th>18232</th>\n",
       "      <td>0.272025</td>\n",
       "      <td>0.727975</td>\n",
       "      <td>0.358946</td>\n",
       "    </tr>\n",
       "    <tr>\n",
       "      <th>17791</th>\n",
       "      <td>0.272346</td>\n",
       "      <td>0.727654</td>\n",
       "      <td>0.358953</td>\n",
       "    </tr>\n",
       "    <tr>\n",
       "      <th>17403</th>\n",
       "      <td>0.273756</td>\n",
       "      <td>0.726244</td>\n",
       "      <td>0.358984</td>\n",
       "    </tr>\n",
       "    <tr>\n",
       "      <th>15596</th>\n",
       "      <td>0.273965</td>\n",
       "      <td>0.726035</td>\n",
       "      <td>0.358988</td>\n",
       "    </tr>\n",
       "    <tr>\n",
       "      <th>24670</th>\n",
       "      <td>0.274036</td>\n",
       "      <td>0.725964</td>\n",
       "      <td>0.358990</td>\n",
       "    </tr>\n",
       "    <tr>\n",
       "      <th>9348</th>\n",
       "      <td>0.274250</td>\n",
       "      <td>0.725750</td>\n",
       "      <td>0.358994</td>\n",
       "    </tr>\n",
       "  </tbody>\n",
       "</table>\n",
       "</div>"
      ],
      "text/plain": [
       "              0         1      RMSE\n",
       "6789   0.269981  0.730019  0.358902\n",
       "5263   0.271229  0.728771  0.358929\n",
       "24178  0.271861  0.728139  0.358942\n",
       "8403   0.271957  0.728043  0.358944\n",
       "18232  0.272025  0.727975  0.358946\n",
       "17791  0.272346  0.727654  0.358953\n",
       "17403  0.273756  0.726244  0.358984\n",
       "15596  0.273965  0.726035  0.358988\n",
       "24670  0.274036  0.725964  0.358990\n",
       "9348   0.274250  0.725750  0.358994"
      ]
     },
     "execution_count": 51,
     "metadata": {},
     "output_type": "execute_result"
    }
   ],
   "source": [
    "models = {'LASSO' : lasso, 'LightGBM' : lgb_reg}\n",
    "ensemble = EnsembleRegressor(models, weights=None)\n",
    "result = ensemble.random_search(X_test, y_test, 30000)\n",
    "result.head(10)"
   ]
  },
  {
   "cell_type": "code",
   "execution_count": 52,
   "metadata": {},
   "outputs": [
    {
     "name": "stdout",
     "output_type": "stream",
     "text": [
      "[0.27, 0.73]\n"
     ]
    }
   ],
   "source": [
    "optimal_weight = np.round(result.iloc[0,:-1], 3).tolist()\n",
    "print(optimal_weight)"
   ]
  },
  {
   "cell_type": "code",
   "execution_count": 53,
   "metadata": {},
   "outputs": [
    {
     "name": "stdout",
     "output_type": "stream",
     "text": [
      "[8.47460167 8.25071654 8.16191624 7.93891334 8.41512068 8.63753476\n",
      " 7.93237325]\n"
     ]
    }
   ],
   "source": [
    "ensemble = EnsembleRegressor(models, weights=optimal_weight)\n",
    "\n",
    "preds = ensemble.predict(X_test)\n",
    "print(preds[:10])"
   ]
  },
  {
   "cell_type": "code",
   "execution_count": 54,
   "metadata": {},
   "outputs": [
    {
     "data": {
      "text/plain": [
       "0.35890285805825334"
      ]
     },
     "execution_count": 54,
     "metadata": {},
     "output_type": "execute_result"
    }
   ],
   "source": [
    "rmse = np.sqrt(mean_squared_error(y_test, preds))\n",
    "rmse"
   ]
  },
  {
   "cell_type": "markdown",
   "metadata": {},
   "source": [
    "# Evaluation"
   ]
  },
  {
   "cell_type": "code",
   "execution_count": 55,
   "metadata": {},
   "outputs": [
    {
     "name": "stdout",
     "output_type": "stream",
     "text": [
      "[4790.51378869 3829.36943324 3503.89640175 2803.31153053 4513.82036959\n",
      " 5638.41018794 2785.03092442]\n",
      "[4500.         3100.         3564.70588235 2769.23076923 8916.66666667\n",
      " 3660.         1775.        ]\n"
     ]
    }
   ],
   "source": [
    "inverse_transformed_pred = np.expm1(preds)\n",
    "inverse_transformed_pred = np.where(inverse_transformed_pred < 0, 0, inverse_transformed_pred)\n",
    "inverse_transformed_y_test = np.expm1(y_test)\n",
    "\n",
    "print(inverse_transformed_pred[:10])\n",
    "print(inverse_transformed_y_test[:10])"
   ]
  },
  {
   "cell_type": "code",
   "execution_count": 56,
   "metadata": {},
   "outputs": [
    {
     "data": {
      "text/plain": [
       "1887.5744896754231"
      ]
     },
     "execution_count": 56,
     "metadata": {},
     "output_type": "execute_result"
    }
   ],
   "source": [
    "np.sqrt(mean_squared_error(inverse_transformed_y_test, inverse_transformed_pred))"
   ]
  },
  {
   "cell_type": "code",
   "execution_count": 57,
   "metadata": {},
   "outputs": [
    {
     "data": {
      "text/html": [
       "<div>\n",
       "<style scoped>\n",
       "    .dataframe tbody tr th:only-of-type {\n",
       "        vertical-align: middle;\n",
       "    }\n",
       "\n",
       "    .dataframe tbody tr th {\n",
       "        vertical-align: top;\n",
       "    }\n",
       "\n",
       "    .dataframe thead th {\n",
       "        text-align: right;\n",
       "    }\n",
       "</style>\n",
       "<table border=\"1\" class=\"dataframe\">\n",
       "  <thead>\n",
       "    <tr style=\"text-align: right;\">\n",
       "      <th></th>\n",
       "      <th>생산량</th>\n",
       "      <th>예측값</th>\n",
       "    </tr>\n",
       "  </thead>\n",
       "  <tbody>\n",
       "    <tr>\n",
       "      <th>0</th>\n",
       "      <td>4500.0</td>\n",
       "      <td>4790.5</td>\n",
       "    </tr>\n",
       "    <tr>\n",
       "      <th>1</th>\n",
       "      <td>3100.0</td>\n",
       "      <td>3829.4</td>\n",
       "    </tr>\n",
       "    <tr>\n",
       "      <th>2</th>\n",
       "      <td>3564.7</td>\n",
       "      <td>3503.9</td>\n",
       "    </tr>\n",
       "    <tr>\n",
       "      <th>3</th>\n",
       "      <td>2769.2</td>\n",
       "      <td>2803.3</td>\n",
       "    </tr>\n",
       "    <tr>\n",
       "      <th>4</th>\n",
       "      <td>8916.7</td>\n",
       "      <td>4513.8</td>\n",
       "    </tr>\n",
       "    <tr>\n",
       "      <th>5</th>\n",
       "      <td>3660.0</td>\n",
       "      <td>5638.4</td>\n",
       "    </tr>\n",
       "    <tr>\n",
       "      <th>6</th>\n",
       "      <td>1775.0</td>\n",
       "      <td>2785.0</td>\n",
       "    </tr>\n",
       "  </tbody>\n",
       "</table>\n",
       "</div>"
      ],
      "text/plain": [
       "      생산량     예측값\n",
       "0  4500.0  4790.5\n",
       "1  3100.0  3829.4\n",
       "2  3564.7  3503.9\n",
       "3  2769.2  2803.3\n",
       "4  8916.7  4513.8\n",
       "5  3660.0  5638.4\n",
       "6  1775.0  2785.0"
      ]
     },
     "execution_count": 57,
     "metadata": {},
     "output_type": "execute_result"
    }
   ],
   "source": [
    "inverse_transformed_pred = pd.Series(np.round(inverse_transformed_pred,1), name='예측값')\n",
    "inverse_transformed_y_test= pd.Series(np.round(inverse_transformed_y_test,1), name='생산량')\n",
    "result = pd.concat([inverse_transformed_y_test, inverse_transformed_pred], axis=1)\n",
    "result[:30]"
   ]
  },
  {
   "cell_type": "markdown",
   "metadata": {},
   "source": [
    "# Prediction"
   ]
  },
  {
   "cell_type": "code",
   "execution_count": 58,
   "metadata": {},
   "outputs": [],
   "source": [
    "def prediction(file_path):\n",
    "    use_cols = ['fno',\n",
    "                'age1',\n",
    "                'cvl00', 'cvl10',\n",
    "                'labch', 'labh_hour', 'lab_cost',\n",
    "                'fmtc', 'lansh',\n",
    "                'size', 'ara']\n",
    "    \n",
    "    data = pd.read_csv(file_path).loc[:,use_cols]\n",
    "    \n",
    "    # log transform\n",
    "    data.loc[:, ['cvl00', 'cvl10']] = np.log1p(data.loc[:, ['cvl00','cvl10']])\n",
    "    data.loc[:, ['fmtc', 'lansh']] = np.log1p(data.loc[:, ['fmtc', 'lansh']])\n",
    "    data.loc[:, ['labch', 'labh_hour', 'lab_cost']] = np.log1p(data.loc[:, ['labch', 'labh_hour', 'lab_cost']])\n",
    "    \n",
    "    # data imputation\n",
    "    data.replace({'labch' : {0 : np.nan},\n",
    "              'labh_hour' : {0 : np.nan},\n",
    "              'lab_cost' : {0 : np.nan},\n",
    "              'lansh' : {0 : np.nan},},\n",
    "              inplace=True)\n",
    "    if data.isnull().sum().sum() > 0:\n",
    "        print(data.isnull().sum())\n",
    "        data.fillna(data.mean(), inplace=True)\n",
    "        \n",
    "    # enconding\n",
    "    onehot = onehot_encoder.transform(data.loc[:, categorical_variables])\n",
    "    X_scaled = X_minmax_scaler.transform(data.loc[:, numerical_variables])\n",
    "    numeric_data_df = pd.DataFrame(X_scaled, columns=numerical_variables)\n",
    "    onehot_data_df = pd.DataFrame(onehot.toarray())\n",
    "\n",
    "    X_data_df = pd.concat([numeric_data_df , onehot_data_df], axis=1)\n",
    "    X_test = np.array(X_data_df)\n",
    "    \n",
    "    # predict and inverse transform\n",
    "    preds = ensemble.predict(X_test)\n",
    "    inverse_transformed_pred = np.expm1(preds)\n",
    "    inverse_transformed_pred = np.where(inverse_transformed_pred < 0, 0, inverse_transformed_pred)\n",
    "    \n",
    "    result = pd.DataFrame({'prediction' : inverse_transformed_pred}, index=data.fno)\n",
    "    \n",
    "    return result"
   ]
  },
  {
   "cell_type": "code",
   "execution_count": 59,
   "metadata": {},
   "outputs": [
    {
     "data": {
      "text/html": [
       "<div>\n",
       "<style scoped>\n",
       "    .dataframe tbody tr th:only-of-type {\n",
       "        vertical-align: middle;\n",
       "    }\n",
       "\n",
       "    .dataframe tbody tr th {\n",
       "        vertical-align: top;\n",
       "    }\n",
       "\n",
       "    .dataframe thead th {\n",
       "        text-align: right;\n",
       "    }\n",
       "</style>\n",
       "<table border=\"1\" class=\"dataframe\">\n",
       "  <thead>\n",
       "    <tr style=\"text-align: right;\">\n",
       "      <th></th>\n",
       "      <th>prediction</th>\n",
       "    </tr>\n",
       "    <tr>\n",
       "      <th>fno</th>\n",
       "      <th></th>\n",
       "    </tr>\n",
       "  </thead>\n",
       "  <tbody>\n",
       "    <tr>\n",
       "      <th>21035</th>\n",
       "      <td>4440.544668</td>\n",
       "    </tr>\n",
       "    <tr>\n",
       "      <th>21036</th>\n",
       "      <td>3400.040927</td>\n",
       "    </tr>\n",
       "    <tr>\n",
       "      <th>21037</th>\n",
       "      <td>5179.131083</td>\n",
       "    </tr>\n",
       "    <tr>\n",
       "      <th>21038</th>\n",
       "      <td>4541.866685</td>\n",
       "    </tr>\n",
       "    <tr>\n",
       "      <th>21039</th>\n",
       "      <td>4949.908007</td>\n",
       "    </tr>\n",
       "    <tr>\n",
       "      <th>21041</th>\n",
       "      <td>4928.430028</td>\n",
       "    </tr>\n",
       "    <tr>\n",
       "      <th>21042</th>\n",
       "      <td>6539.458128</td>\n",
       "    </tr>\n",
       "    <tr>\n",
       "      <th>21043</th>\n",
       "      <td>2983.539907</td>\n",
       "    </tr>\n",
       "    <tr>\n",
       "      <th>21080</th>\n",
       "      <td>2689.970928</td>\n",
       "    </tr>\n",
       "    <tr>\n",
       "      <th>21081</th>\n",
       "      <td>840.779492</td>\n",
       "    </tr>\n",
       "    <tr>\n",
       "      <th>21082</th>\n",
       "      <td>5205.411505</td>\n",
       "    </tr>\n",
       "    <tr>\n",
       "      <th>21083</th>\n",
       "      <td>384.712454</td>\n",
       "    </tr>\n",
       "    <tr>\n",
       "      <th>21107</th>\n",
       "      <td>5493.468520</td>\n",
       "    </tr>\n",
       "    <tr>\n",
       "      <th>21108</th>\n",
       "      <td>3180.291528</td>\n",
       "    </tr>\n",
       "    <tr>\n",
       "      <th>21109</th>\n",
       "      <td>6343.541677</td>\n",
       "    </tr>\n",
       "    <tr>\n",
       "      <th>21110</th>\n",
       "      <td>1243.423453</td>\n",
       "    </tr>\n",
       "    <tr>\n",
       "      <th>21111</th>\n",
       "      <td>5423.272687</td>\n",
       "    </tr>\n",
       "    <tr>\n",
       "      <th>21112</th>\n",
       "      <td>5754.986320</td>\n",
       "    </tr>\n",
       "    <tr>\n",
       "      <th>21113</th>\n",
       "      <td>5266.625710</td>\n",
       "    </tr>\n",
       "    <tr>\n",
       "      <th>21118</th>\n",
       "      <td>3378.229974</td>\n",
       "    </tr>\n",
       "    <tr>\n",
       "      <th>21119</th>\n",
       "      <td>5032.786773</td>\n",
       "    </tr>\n",
       "    <tr>\n",
       "      <th>21120</th>\n",
       "      <td>4942.182777</td>\n",
       "    </tr>\n",
       "    <tr>\n",
       "      <th>21121</th>\n",
       "      <td>6216.696215</td>\n",
       "    </tr>\n",
       "    <tr>\n",
       "      <th>21122</th>\n",
       "      <td>1384.116170</td>\n",
       "    </tr>\n",
       "    <tr>\n",
       "      <th>21141</th>\n",
       "      <td>5084.181532</td>\n",
       "    </tr>\n",
       "    <tr>\n",
       "      <th>24106</th>\n",
       "      <td>4940.225691</td>\n",
       "    </tr>\n",
       "    <tr>\n",
       "      <th>24107</th>\n",
       "      <td>6334.857814</td>\n",
       "    </tr>\n",
       "    <tr>\n",
       "      <th>24108</th>\n",
       "      <td>5653.582231</td>\n",
       "    </tr>\n",
       "    <tr>\n",
       "      <th>24109</th>\n",
       "      <td>5842.939813</td>\n",
       "    </tr>\n",
       "    <tr>\n",
       "      <th>24110</th>\n",
       "      <td>3805.278156</td>\n",
       "    </tr>\n",
       "    <tr>\n",
       "      <th>24111</th>\n",
       "      <td>5193.652304</td>\n",
       "    </tr>\n",
       "    <tr>\n",
       "      <th>25021</th>\n",
       "      <td>3050.954315</td>\n",
       "    </tr>\n",
       "  </tbody>\n",
       "</table>\n",
       "</div>"
      ],
      "text/plain": [
       "        prediction\n",
       "fno               \n",
       "21035  4440.544668\n",
       "21036  3400.040927\n",
       "21037  5179.131083\n",
       "21038  4541.866685\n",
       "21039  4949.908007\n",
       "21041  4928.430028\n",
       "21042  6539.458128\n",
       "21043  2983.539907\n",
       "21080  2689.970928\n",
       "21081   840.779492\n",
       "21082  5205.411505\n",
       "21083   384.712454\n",
       "21107  5493.468520\n",
       "21108  3180.291528\n",
       "21109  6343.541677\n",
       "21110  1243.423453\n",
       "21111  5423.272687\n",
       "21112  5754.986320\n",
       "21113  5266.625710\n",
       "21118  3378.229974\n",
       "21119  5032.786773\n",
       "21120  4942.182777\n",
       "21121  6216.696215\n",
       "21122  1384.116170\n",
       "21141  5084.181532\n",
       "24106  4940.225691\n",
       "24107  6334.857814\n",
       "24108  5653.582231\n",
       "24109  5842.939813\n",
       "24110  3805.278156\n",
       "24111  5193.652304\n",
       "25021  3050.954315"
      ]
     },
     "execution_count": 59,
     "metadata": {},
     "output_type": "execute_result"
    }
   ],
   "source": [
    "file_path = './(수정)임산물생산비 마이크로데이터(2020)/(수정)2020년_임산물생산비조사_7.곰취시설.csv'\n",
    "prediction = prediction(file_path)\n",
    "prediction"
   ]
  },
  {
   "cell_type": "code",
   "execution_count": 60,
   "metadata": {},
   "outputs": [],
   "source": [
    "prediction.to_csv('prediction/2020년_임산물생산비조사_7.곰취시설_예측값.csv')"
   ]
  },
  {
   "cell_type": "code",
   "execution_count": null,
   "metadata": {},
   "outputs": [],
   "source": []
  }
 ],
 "metadata": {
  "kernelspec": {
   "display_name": "Python 3",
   "language": "python",
   "name": "python3"
  },
  "language_info": {
   "codemirror_mode": {
    "name": "ipython",
    "version": 3
   },
   "file_extension": ".py",
   "mimetype": "text/x-python",
   "name": "python",
   "nbconvert_exporter": "python",
   "pygments_lexer": "ipython3",
   "version": "3.8.8"
  }
 },
 "nbformat": 4,
 "nbformat_minor": 4
}
