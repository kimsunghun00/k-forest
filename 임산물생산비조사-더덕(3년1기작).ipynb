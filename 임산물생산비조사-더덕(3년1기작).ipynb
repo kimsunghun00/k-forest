{
 "cells": [
  {
   "cell_type": "markdown",
   "id": "b884bc58",
   "metadata": {},
   "source": [
    "# Load Data"
   ]
  },
  {
   "cell_type": "code",
   "execution_count": 8,
   "id": "8b6611c2",
   "metadata": {},
   "outputs": [
    {
     "name": "stdout",
     "output_type": "stream",
     "text": [
      "2011 (77, 483)\n",
      "2012 (62, 483)\n",
      "2013 (63, 483)\n",
      "2014 (88, 483)\n",
      "2015 (94, 484)\n",
      "2016 (86, 483)\n",
      "2017 (112, 483)\n",
      "2018 (74, 483)\n",
      "2019 (91, 811)\n"
     ]
    }
   ],
   "source": [
    "import os\n",
    "import pandas as pd\n",
    "import numpy as np\n",
    "\n",
    "\n",
    "def load_data(path):\n",
    "    years = [2011, 2012, 2013, 2014, 2015, 2016, 2017, 2018, 2019]\n",
    "    use_cols = ['age1',\n",
    "                'land', \n",
    "                'cvl00_2', 'cvl10_2', 'cvl20_2',\n",
    "                'labch_2', 'labh_hour_2', 'lab_cost',\n",
    "                'fmtc_2', 'lansh_2',\n",
    "                'size', 'ara', 'de2',# catecorical variable\n",
    "                'cony_2'] # dependent variable\n",
    "\n",
    "    # 2011-2015\n",
    "    dataframe_list = []\n",
    "    for year in years[:5]:\n",
    "        file_path1 = os.path.join(path, str(year)+'년', str(year)+'년 임산물생산비조사_통합 데이터_6. 더덕(3기작)(엑셀1).xlsx')\n",
    "        file_path2 = os.path.join(path, str(year)+'년', str(year)+'년 임산물생산비조사_통합 데이터_6. 더덕(3기작)(엑셀2).xlsx')\n",
    "        \n",
    "        forest_data1 = pd.read_excel(file_path1)\n",
    "        forest_data2 = pd.read_excel(file_path2)\n",
    "        forest_data = pd.concat([forest_data1, forest_data2], axis=1)\n",
    "        dataframe_list.append(forest_data.loc[:,use_cols])\n",
    "        print(year, forest_data.shape)\n",
    "    \n",
    "    # 2016\n",
    "    file_path1 = os.path.join(path, '2016년/2016년 임산물생산비조사_통합 데이터_6. 더덕 3년 1기작(엑셀1).xlsx')\n",
    "    file_path2 = os.path.join(path, '2016년/2016년 임산물생산비조사_통합 데이터_6. 더덕 3년 1기작(엑셀2).xlsx')\n",
    "\n",
    "    forest_data1 = pd.read_excel(file_path1)\n",
    "    forest_data2 = pd.read_excel(file_path2)\n",
    "    forest_2016 = pd.concat([forest_data1, forest_data2], axis=1)\n",
    "    dataframe_list.append(forest_2016.loc[:,use_cols])\n",
    "    print(2016, forest_2016.shape)\n",
    "    \n",
    "    #2017\n",
    "    file_path1 = os.path.join(path, '2017년/2017년 임산물생산비조사_통합 데이터_6. 더덕_3년 1기작(엑셀 1).xls')\n",
    "    file_path2 = os.path.join(path, '2017년/2017년 임산물생산비조사_통합 데이터_6. 더덕_3년 1기작(엑셀 2).xls')\n",
    "    \n",
    "    forest_data1 = pd.read_excel(file_path1)    \n",
    "    forest_data2 = pd.read_excel(file_path2)\n",
    "    forest_2017 = pd.concat([forest_data1, forest_data2], axis=1)\n",
    "    dataframe_list.append(forest_2017.loc[:,use_cols])\n",
    "    print(2017, forest_2017.shape)\n",
    "    \n",
    "    #2018\n",
    "    file_path1 = os.path.join(path, '2018년/2018년 임산물생산비조사_통합 데이터_6. 더덕_3년 1기작(엑셀 1).xls')\n",
    "    file_path2 = os.path.join(path, '2018년/2018년 임산물생산비조사_통합 데이터_6. 더덕_3년 1기작(엑셀 2).xls')\n",
    "    \n",
    "    forest_data1 = pd.read_excel(file_path1)    \n",
    "    forest_data2 = pd.read_excel(file_path2)\n",
    "    forest_2018 = pd.concat([forest_data1, forest_data2], axis=1)\n",
    "    dataframe_list.append(forest_2018.loc[:,use_cols])\n",
    "    print(2018, forest_2018.shape)\n",
    "    \n",
    "    #2019\n",
    "    file_path = os.path.join(path, '2019년/2019년 임산물생산비조사_통합 데이터_6. 더덕3년1기작(수정3).xlsx')\n",
    "    forest_2019 = pd.read_excel(file_path)\n",
    "    dataframe_list.append(forest_data.loc[:,use_cols])\n",
    "    print(2019, forest_2019.shape)\n",
    "    \n",
    "    data = pd.concat(dataframe_list, axis=0)\n",
    "    data = data.reset_index(drop=True)\n",
    "    \n",
    "    return data\n",
    "    \n",
    "data = load_data('./임산물생산비조사 마이크로데이터(2010-2019)')"
   ]
  },
  {
   "cell_type": "code",
   "execution_count": 9,
   "id": "2f476ff4",
   "metadata": {},
   "outputs": [
    {
     "data": {
      "text/html": [
       "<div>\n",
       "<style scoped>\n",
       "    .dataframe tbody tr th:only-of-type {\n",
       "        vertical-align: middle;\n",
       "    }\n",
       "\n",
       "    .dataframe tbody tr th {\n",
       "        vertical-align: top;\n",
       "    }\n",
       "\n",
       "    .dataframe thead th {\n",
       "        text-align: right;\n",
       "    }\n",
       "</style>\n",
       "<table border=\"1\" class=\"dataframe\">\n",
       "  <thead>\n",
       "    <tr style=\"text-align: right;\">\n",
       "      <th></th>\n",
       "      <th>age1</th>\n",
       "      <th>land</th>\n",
       "      <th>cvl00_2</th>\n",
       "      <th>cvl10_2</th>\n",
       "      <th>cvl20_2</th>\n",
       "      <th>labch_2</th>\n",
       "      <th>labh_hour_2</th>\n",
       "      <th>lab_cost</th>\n",
       "      <th>fmtc_2</th>\n",
       "      <th>lansh_2</th>\n",
       "      <th>size</th>\n",
       "      <th>ara</th>\n",
       "      <th>de2</th>\n",
       "      <th>cony_2</th>\n",
       "    </tr>\n",
       "  </thead>\n",
       "  <tbody>\n",
       "    <tr>\n",
       "      <th>0</th>\n",
       "      <td>63.0</td>\n",
       "      <td>3.855664e+06</td>\n",
       "      <td>1.00</td>\n",
       "      <td>0.00</td>\n",
       "      <td>1.00</td>\n",
       "      <td>5.881172e+06</td>\n",
       "      <td>935.874346</td>\n",
       "      <td>6533886.0</td>\n",
       "      <td>1.893572e+07</td>\n",
       "      <td>3.649215e+06</td>\n",
       "      <td>5</td>\n",
       "      <td>39</td>\n",
       "      <td>2</td>\n",
       "      <td>6000.000000</td>\n",
       "    </tr>\n",
       "    <tr>\n",
       "      <th>1</th>\n",
       "      <td>67.0</td>\n",
       "      <td>3.855664e+06</td>\n",
       "      <td>2.31</td>\n",
       "      <td>0.00</td>\n",
       "      <td>2.31</td>\n",
       "      <td>3.929275e+06</td>\n",
       "      <td>540.740741</td>\n",
       "      <td>8135637.0</td>\n",
       "      <td>1.857991e+07</td>\n",
       "      <td>5.925926e+06</td>\n",
       "      <td>5</td>\n",
       "      <td>39</td>\n",
       "      <td>2</td>\n",
       "      <td>4343.434343</td>\n",
       "    </tr>\n",
       "    <tr>\n",
       "      <th>2</th>\n",
       "      <td>45.0</td>\n",
       "      <td>3.855664e+06</td>\n",
       "      <td>0.70</td>\n",
       "      <td>0.70</td>\n",
       "      <td>0.00</td>\n",
       "      <td>0.000000e+00</td>\n",
       "      <td>0.000000</td>\n",
       "      <td>0.0</td>\n",
       "      <td>1.255268e+07</td>\n",
       "      <td>5.714286e+06</td>\n",
       "      <td>3</td>\n",
       "      <td>39</td>\n",
       "      <td>2</td>\n",
       "      <td>3680.000000</td>\n",
       "    </tr>\n",
       "    <tr>\n",
       "      <th>3</th>\n",
       "      <td>70.0</td>\n",
       "      <td>3.855664e+06</td>\n",
       "      <td>4.07</td>\n",
       "      <td>0.00</td>\n",
       "      <td>4.07</td>\n",
       "      <td>5.206953e+06</td>\n",
       "      <td>560.504085</td>\n",
       "      <td>8874710.0</td>\n",
       "      <td>1.956184e+07</td>\n",
       "      <td>6.034483e+06</td>\n",
       "      <td>5</td>\n",
       "      <td>39</td>\n",
       "      <td>2</td>\n",
       "      <td>3493.975904</td>\n",
       "    </tr>\n",
       "    <tr>\n",
       "      <th>4</th>\n",
       "      <td>74.0</td>\n",
       "      <td>3.855664e+06</td>\n",
       "      <td>0.33</td>\n",
       "      <td>0.33</td>\n",
       "      <td>0.00</td>\n",
       "      <td>9.820626e+06</td>\n",
       "      <td>1342.371996</td>\n",
       "      <td>4167248.0</td>\n",
       "      <td>2.555462e+07</td>\n",
       "      <td>4.310345e+06</td>\n",
       "      <td>4</td>\n",
       "      <td>39</td>\n",
       "      <td>2</td>\n",
       "      <td>3757.575758</td>\n",
       "    </tr>\n",
       "    <tr>\n",
       "      <th>...</th>\n",
       "      <td>...</td>\n",
       "      <td>...</td>\n",
       "      <td>...</td>\n",
       "      <td>...</td>\n",
       "      <td>...</td>\n",
       "      <td>...</td>\n",
       "      <td>...</td>\n",
       "      <td>...</td>\n",
       "      <td>...</td>\n",
       "      <td>...</td>\n",
       "      <td>...</td>\n",
       "      <td>...</td>\n",
       "      <td>...</td>\n",
       "      <td>...</td>\n",
       "    </tr>\n",
       "    <tr>\n",
       "      <th>745</th>\n",
       "      <td>51.0</td>\n",
       "      <td>4.134029e+06</td>\n",
       "      <td>4.71</td>\n",
       "      <td>4.71</td>\n",
       "      <td>0.00</td>\n",
       "      <td>1.137359e+06</td>\n",
       "      <td>103.609342</td>\n",
       "      <td>2848280.0</td>\n",
       "      <td>6.113304e+06</td>\n",
       "      <td>2.152017e+05</td>\n",
       "      <td>5</td>\n",
       "      <td>99</td>\n",
       "      <td>2</td>\n",
       "      <td>23.354565</td>\n",
       "    </tr>\n",
       "    <tr>\n",
       "      <th>746</th>\n",
       "      <td>69.0</td>\n",
       "      <td>4.134029e+06</td>\n",
       "      <td>0.40</td>\n",
       "      <td>0.40</td>\n",
       "      <td>0.00</td>\n",
       "      <td>1.506530e+07</td>\n",
       "      <td>1400.840336</td>\n",
       "      <td>2482111.0</td>\n",
       "      <td>3.417197e+07</td>\n",
       "      <td>8.235294e+06</td>\n",
       "      <td>2</td>\n",
       "      <td>99</td>\n",
       "      <td>2</td>\n",
       "      <td>628.571429</td>\n",
       "    </tr>\n",
       "    <tr>\n",
       "      <th>747</th>\n",
       "      <td>68.0</td>\n",
       "      <td>4.134029e+06</td>\n",
       "      <td>0.33</td>\n",
       "      <td>0.33</td>\n",
       "      <td>0.00</td>\n",
       "      <td>1.599758e+07</td>\n",
       "      <td>1563.636364</td>\n",
       "      <td>2639600.0</td>\n",
       "      <td>2.740053e+07</td>\n",
       "      <td>4.848485e+06</td>\n",
       "      <td>2</td>\n",
       "      <td>99</td>\n",
       "      <td>2</td>\n",
       "      <td>6666.666667</td>\n",
       "    </tr>\n",
       "    <tr>\n",
       "      <th>748</th>\n",
       "      <td>74.0</td>\n",
       "      <td>4.134029e+06</td>\n",
       "      <td>0.28</td>\n",
       "      <td>0.28</td>\n",
       "      <td>0.00</td>\n",
       "      <td>1.944477e+07</td>\n",
       "      <td>1742.857143</td>\n",
       "      <td>2722268.0</td>\n",
       "      <td>2.755464e+07</td>\n",
       "      <td>3.571429e+06</td>\n",
       "      <td>1</td>\n",
       "      <td>99</td>\n",
       "      <td>2</td>\n",
       "      <td>4910.714286</td>\n",
       "    </tr>\n",
       "    <tr>\n",
       "      <th>749</th>\n",
       "      <td>77.0</td>\n",
       "      <td>4.134029e+06</td>\n",
       "      <td>0.10</td>\n",
       "      <td>0.10</td>\n",
       "      <td>0.00</td>\n",
       "      <td>6.046072e+07</td>\n",
       "      <td>6880.000000</td>\n",
       "      <td>3023036.0</td>\n",
       "      <td>8.838634e+07</td>\n",
       "      <td>4.000000e+06</td>\n",
       "      <td>1</td>\n",
       "      <td>99</td>\n",
       "      <td>1</td>\n",
       "      <td>4950.000000</td>\n",
       "    </tr>\n",
       "  </tbody>\n",
       "</table>\n",
       "<p>750 rows × 14 columns</p>\n",
       "</div>"
      ],
      "text/plain": [
       "     age1          land  cvl00_2  cvl10_2  cvl20_2       labch_2  labh_hour_2  \\\n",
       "0    63.0  3.855664e+06     1.00     0.00     1.00  5.881172e+06   935.874346   \n",
       "1    67.0  3.855664e+06     2.31     0.00     2.31  3.929275e+06   540.740741   \n",
       "2    45.0  3.855664e+06     0.70     0.70     0.00  0.000000e+00     0.000000   \n",
       "3    70.0  3.855664e+06     4.07     0.00     4.07  5.206953e+06   560.504085   \n",
       "4    74.0  3.855664e+06     0.33     0.33     0.00  9.820626e+06  1342.371996   \n",
       "..    ...           ...      ...      ...      ...           ...          ...   \n",
       "745  51.0  4.134029e+06     4.71     4.71     0.00  1.137359e+06   103.609342   \n",
       "746  69.0  4.134029e+06     0.40     0.40     0.00  1.506530e+07  1400.840336   \n",
       "747  68.0  4.134029e+06     0.33     0.33     0.00  1.599758e+07  1563.636364   \n",
       "748  74.0  4.134029e+06     0.28     0.28     0.00  1.944477e+07  1742.857143   \n",
       "749  77.0  4.134029e+06     0.10     0.10     0.00  6.046072e+07  6880.000000   \n",
       "\n",
       "      lab_cost        fmtc_2       lansh_2  size  ara  de2       cony_2  \n",
       "0    6533886.0  1.893572e+07  3.649215e+06     5   39    2  6000.000000  \n",
       "1    8135637.0  1.857991e+07  5.925926e+06     5   39    2  4343.434343  \n",
       "2          0.0  1.255268e+07  5.714286e+06     3   39    2  3680.000000  \n",
       "3    8874710.0  1.956184e+07  6.034483e+06     5   39    2  3493.975904  \n",
       "4    4167248.0  2.555462e+07  4.310345e+06     4   39    2  3757.575758  \n",
       "..         ...           ...           ...   ...  ...  ...          ...  \n",
       "745  2848280.0  6.113304e+06  2.152017e+05     5   99    2    23.354565  \n",
       "746  2482111.0  3.417197e+07  8.235294e+06     2   99    2   628.571429  \n",
       "747  2639600.0  2.740053e+07  4.848485e+06     2   99    2  6666.666667  \n",
       "748  2722268.0  2.755464e+07  3.571429e+06     1   99    2  4910.714286  \n",
       "749  3023036.0  8.838634e+07  4.000000e+06     1   99    1  4950.000000  \n",
       "\n",
       "[750 rows x 14 columns]"
      ]
     },
     "execution_count": 9,
     "metadata": {},
     "output_type": "execute_result"
    }
   ],
   "source": [
    "data"
   ]
  },
  {
   "cell_type": "code",
   "execution_count": 10,
   "id": "47db861c",
   "metadata": {},
   "outputs": [
    {
     "name": "stdout",
     "output_type": "stream",
     "text": [
      "0\n",
      "(750, 14)\n"
     ]
    }
   ],
   "source": [
    "print(np.sum(data['cony_2'] == 0))\n",
    "data.drop(data[data['cony_2'] == 0].index, inplace=True)\n",
    "print(data.shape)"
   ]
  },
  {
   "cell_type": "code",
   "execution_count": 11,
   "id": "0e6afa47",
   "metadata": {},
   "outputs": [
    {
     "name": "stdout",
     "output_type": "stream",
     "text": [
      "5    230\n",
      "1    156\n",
      "3    142\n",
      "4    120\n",
      "2    102\n",
      "Name: size, dtype: int64\n",
      "\n",
      "32    359\n",
      "99    151\n",
      "37    123\n",
      "33     84\n",
      "39     33\n",
      "Name: ara, dtype: int64\n",
      "\n",
      "2    726\n",
      "1     24\n",
      "Name: de2, dtype: int64\n",
      "\n"
     ]
    }
   ],
   "source": [
    "for column in data.columns:\n",
    "    if len(data[column].value_counts()) <= 10:\n",
    "        print(data[column].value_counts())\n",
    "        print()"
   ]
  },
  {
   "cell_type": "code",
   "execution_count": 12,
   "id": "13d2e62a",
   "metadata": {
    "scrolled": false
   },
   "outputs": [
    {
     "data": {
      "image/png": "[encoded data removed]",
      "text/plain": [
       "<Figure size 432x288 with 1 Axes>"
      ]
     },
     "metadata": {
      "needs_background": "light"
     },
     "output_type": "display_data"
    },
    {
     "data": {
      "image/png": "[encoded data removed]",
      "text/plain": [
       "<Figure size 432x288 with 1 Axes>"
      ]
     },
     "metadata": {
      "needs_background": "light"
     },
     "output_type": "display_data"
    },
    {
     "data": {
      "image/png": "[encoded data removed]",
      "text/plain": [
       "<Figure size 432x288 with 1 Axes>"
      ]
     },
     "metadata": {
      "needs_background": "light"
     },
     "output_type": "display_data"
    },
    {
     "data": {
      "image/png": "[encoded data removed]",
      "text/plain": [
       "<Figure size 432x288 with 1 Axes>"
      ]
     },
     "metadata": {
      "needs_background": "light"
     },
     "output_type": "display_data"
    },
    {
     "data": {
      "image/png": "[encoded data removed]",
      "text/plain": [
       "<Figure size 432x288 with 1 Axes>"
      ]
     },
     "metadata": {
      "needs_background": "light"
     },
     "output_type": "display_data"
    },
    {
     "data": {
      "image/png": "[encoded data removed]",
      "text/plain": [
       "<Figure size 432x288 with 1 Axes>"
      ]
     },
     "metadata": {
      "needs_background": "light"
     },
     "output_type": "display_data"
    },
    {
     "data": {
      "image/png": "[encoded data removed]",
      "text/plain": [
       "<Figure size 432x288 with 1 Axes>"
      ]
     },
     "metadata": {
      "needs_background": "light"
     },
     "output_type": "display_data"
    },
    {
     "data": {
      "image/png": "[encoded data removed]",
      "text/plain": [
       "<Figure size 432x288 with 1 Axes>"
      ]
     },
     "metadata": {
      "needs_background": "light"
     },
     "output_type": "display_data"
    },
    {
     "data": {
      "image/png": "[encoded data removed]",
      "text/plain": [
       "<Figure size 432x288 with 1 Axes>"
      ]
     },
     "metadata": {
      "needs_background": "light"
     },
     "output_type": "display_data"
    },
    {
     "data": {
      "image/png": "[encoded data removed]",
      "text/plain": [
       "<Figure size 432x288 with 1 Axes>"
      ]
     },
     "metadata": {
      "needs_background": "light"
     },
     "output_type": "display_data"
    },
    {
     "data": {
      "image/png": "[encoded data removed]",
      "text/plain": [
       "<Figure size 432x288 with 1 Axes>"
      ]
     },
     "metadata": {
      "needs_background": "light"
     },
     "output_type": "display_data"
    },
    {
     "data": {
      "image/png": "[encoded data removed]",
      "text/plain": [
       "<Figure size 432x288 with 1 Axes>"
      ]
     },
     "metadata": {
      "needs_background": "light"
     },
     "output_type": "display_data"
    },
    {
     "data": {
      "image/png": "[encoded data removed]",
      "text/plain": [
       "<Figure size 432x288 with 1 Axes>"
      ]
     },
     "metadata": {
      "needs_background": "light"
     },
     "output_type": "display_data"
    },
    {
     "data": {
      "image/png": "[encoded data removed]",
      "text/plain": [
       "<Figure size 432x288 with 1 Axes>"
      ]
     },
     "metadata": {
      "needs_background": "light"
     },
     "output_type": "display_data"
    }
   ],
   "source": [
    "import matplotlib.pyplot as plt\n",
    "%matplotlib inline\n",
    "\n",
    "for column in data.columns:\n",
    "    data[column].hist()\n",
    "    plt.title(column)\n",
    "    plt.show()"
   ]
  },
  {
   "cell_type": "markdown",
   "id": "0e6ad769",
   "metadata": {},
   "source": [
    "## log transform"
   ]
  },
  {
   "cell_type": "code",
   "execution_count": 13,
   "id": "3b0df0d6",
   "metadata": {},
   "outputs": [],
   "source": [
    "data.loc[:, ['cvl00_2', 'cvl10_2', 'cvl20_2']] = np.log1p(data.loc[:, ['cvl00_2', 'cvl10_2', 'cvl20_2']])\n",
    "data.loc[:, ['fmtc_2', 'lansh_2']] = np.log1p(data.loc[:, ['fmtc_2', 'lansh_2']])\n",
    "data.loc[:, ['labch_2', 'labh_hour_2', 'lab_cost']] = np.log1p(data.loc[:, ['labch_2', 'labh_hour_2', 'lab_cost']])"
   ]
  },
  {
   "cell_type": "code",
   "execution_count": 14,
   "id": "ae25ade8",
   "metadata": {},
   "outputs": [],
   "source": [
    "data['cony_2'] = np.log1p(data['cony_2'])"
   ]
  },
  {
   "cell_type": "code",
   "execution_count": 15,
   "id": "439d70d6",
   "metadata": {},
   "outputs": [
    {
     "data": {
      "image/png": "[encoded data removed]",
      "text/plain": [
       "<Figure size 432x288 with 1 Axes>"
      ]
     },
     "metadata": {
      "needs_background": "light"
     },
     "output_type": "display_data"
    },
    {
     "data": {
      "image/png": "[encoded data removed]",
      "text/plain": [
       "<Figure size 432x288 with 1 Axes>"
      ]
     },
     "metadata": {
      "needs_background": "light"
     },
     "output_type": "display_data"
    },
    {
     "data": {
      "image/png": "[encoded data removed]",
      "text/plain": [
       "<Figure size 432x288 with 1 Axes>"
      ]
     },
     "metadata": {
      "needs_background": "light"
     },
     "output_type": "display_data"
    },
    {
     "data": {
      "image/png": "[encoded data removed]",
      "text/plain": [
       "<Figure size 432x288 with 1 Axes>"
      ]
     },
     "metadata": {
      "needs_background": "light"
     },
     "output_type": "display_data"
    },
    {
     "data": {
      "image/png": "[encoded data removed]",
      "text/plain": [
       "<Figure size 432x288 with 1 Axes>"
      ]
     },
     "metadata": {
      "needs_background": "light"
     },
     "output_type": "display_data"
    }
   ],
   "source": [
    "import seaborn as sns\n",
    "\n",
    "sns.scatterplot(x='fmtc_2', y='cony_2', data=data)\n",
    "plt.show()\n",
    "\n",
    "sns.scatterplot(x='labch_2', y='cony_2', data=data)\n",
    "plt.show()\n",
    "\n",
    "sns.scatterplot(x='labh_hour_2', y='cony_2', data=data)\n",
    "plt.show()\n",
    "\n",
    "sns.scatterplot(x='lab_cost', y='cony_2', data=data)\n",
    "plt.show()\n",
    "\n",
    "sns.scatterplot(x='lansh_2', y='cony_2', data=data)\n",
    "plt.show()"
   ]
  },
  {
   "cell_type": "markdown",
   "id": "131894e4",
   "metadata": {},
   "source": [
    "## Data Imputation"
   ]
  },
  {
   "cell_type": "markdown",
   "id": "1c409ae6",
   "metadata": {},
   "source": [
    "## NaNs check & Imputation"
   ]
  },
  {
   "cell_type": "code",
   "execution_count": 16,
   "id": "f90e0fd9",
   "metadata": {},
   "outputs": [],
   "source": [
    "data.replace({'labch_2' : {0 : np.nan},\n",
    "              'labh_hour_2' : {0 : np.nan},\n",
    "              'lab_cost_2' : {0 : np.nan}},\n",
    "             inplace=True)"
   ]
  },
  {
   "cell_type": "code",
   "execution_count": 17,
   "id": "75811f8c",
   "metadata": {},
   "outputs": [
    {
     "data": {
      "text/plain": [
       "age1           67\n",
       "land            0\n",
       "cvl00_2         0\n",
       "cvl10_2         0\n",
       "cvl20_2         0\n",
       "labch_2         7\n",
       "labh_hour_2     7\n",
       "lab_cost        0\n",
       "fmtc_2          0\n",
       "lansh_2         0\n",
       "size            0\n",
       "ara             0\n",
       "de2             0\n",
       "cony_2          0\n",
       "dtype: int64"
      ]
     },
     "execution_count": 17,
     "metadata": {},
     "output_type": "execute_result"
    }
   ],
   "source": [
    "data.isnull().sum()"
   ]
  },
  {
   "cell_type": "code",
   "execution_count": 18,
   "id": "0212a2f5",
   "metadata": {},
   "outputs": [],
   "source": [
    "data.fillna(data.mean(), inplace=True)"
   ]
  },
  {
   "cell_type": "code",
   "execution_count": 19,
   "id": "f17fb377",
   "metadata": {},
   "outputs": [
    {
     "data": {
      "image/png": "[encoded data removed]",
      "text/plain": [
       "<Figure size 432x288 with 1 Axes>"
      ]
     },
     "metadata": {
      "needs_background": "light"
     },
     "output_type": "display_data"
    },
    {
     "data": {
      "image/png": "[encoded data removed]",
      "text/plain": [
       "<Figure size 432x288 with 1 Axes>"
      ]
     },
     "metadata": {
      "needs_background": "light"
     },
     "output_type": "display_data"
    },
    {
     "data": {
      "image/png": "[encoded data removed]",
      "text/plain": [
       "<Figure size 432x288 with 1 Axes>"
      ]
     },
     "metadata": {
      "needs_background": "light"
     },
     "output_type": "display_data"
    }
   ],
   "source": [
    "sns.scatterplot(x='fmtc_2', y='cony_2', data=data)\n",
    "plt.show()\n",
    "\n",
    "sns.scatterplot(x='labch_2', y='cony_2', data=data)\n",
    "plt.show()\n",
    "\n",
    "sns.scatterplot(x='labh_hour_2', y='cony_2', data=data)\n",
    "plt.show()"
   ]
  },
  {
   "cell_type": "code",
   "execution_count": 20,
   "id": "b7b7ca93",
   "metadata": {
    "scrolled": false
   },
   "outputs": [
    {
     "data": {
      "image/png": "[encoded data removed]",
      "text/plain": [
       "<Figure size 432x288 with 1 Axes>"
      ]
     },
     "metadata": {
      "needs_background": "light"
     },
     "output_type": "display_data"
    },
    {
     "data": {
      "image/png": "[encoded data removed]",
      "text/plain": [
       "<Figure size 432x288 with 1 Axes>"
      ]
     },
     "metadata": {
      "needs_background": "light"
     },
     "output_type": "display_data"
    },
    {
     "data": {
      "image/png": "[encoded data removed]",
      "text/plain": [
       "<Figure size 432x288 with 1 Axes>"
      ]
     },
     "metadata": {
      "needs_background": "light"
     },
     "output_type": "display_data"
    },
    {
     "data": {
      "image/png": "[encoded data removed]",
      "text/plain": [
       "<Figure size 432x288 with 1 Axes>"
      ]
     },
     "metadata": {
      "needs_background": "light"
     },
     "output_type": "display_data"
    },
    {
     "data": {
      "image/png": "[encoded data removed]",
      "text/plain": [
       "<Figure size 432x288 with 1 Axes>"
      ]
     },
     "metadata": {
      "needs_background": "light"
     },
     "output_type": "display_data"
    },
    {
     "data": {
      "image/png": "[encoded data removed]",
      "text/plain": [
       "<Figure size 432x288 with 1 Axes>"
      ]
     },
     "metadata": {
      "needs_background": "light"
     },
     "output_type": "display_data"
    },
    {
     "data": {
      "image/png": "[encoded data removed]",
      "text/plain": [
       "<Figure size 432x288 with 1 Axes>"
      ]
     },
     "metadata": {
      "needs_background": "light"
     },
     "output_type": "display_data"
    },
    {
     "data": {
      "image/png": "[encoded data removed]",
      "text/plain": [
       "<Figure size 432x288 with 1 Axes>"
      ]
     },
     "metadata": {
      "needs_background": "light"
     },
     "output_type": "display_data"
    },
    {
     "data": {
      "image/png": "[encoded data removed]",
      "text/plain": [
       "<Figure size 432x288 with 1 Axes>"
      ]
     },
     "metadata": {
      "needs_background": "light"
     },
     "output_type": "display_data"
    },
    {
     "data": {
      "image/png": "[encoded data removed]",
      "text/plain": [
       "<Figure size 432x288 with 1 Axes>"
      ]
     },
     "metadata": {
      "needs_background": "light"
     },
     "output_type": "display_data"
    },
    {
     "data": {
      "image/png": "[encoded data removed]",
      "text/plain": [
       "<Figure size 432x288 with 1 Axes>"
      ]
     },
     "metadata": {
      "needs_background": "light"
     },
     "output_type": "display_data"
    },
    {
     "data": {
      "image/png": "[encoded data removed]",
      "text/plain": [
       "<Figure size 432x288 with 1 Axes>"
      ]
     },
     "metadata": {
      "needs_background": "light"
     },
     "output_type": "display_data"
    },
    {
     "data": {
      "image/png": "[encoded data removed]",
      "text/plain": [
       "<Figure size 432x288 with 1 Axes>"
      ]
     },
     "metadata": {
      "needs_background": "light"
     },
     "output_type": "display_data"
    },
    {
     "data": {
      "image/png": "[encoded data removed]",
      "text/plain": [
       "<Figure size 432x288 with 1 Axes>"
      ]
     },
     "metadata": {
      "needs_background": "light"
     },
     "output_type": "display_data"
    }
   ],
   "source": [
    "for column in data.columns:\n",
    "    data[column].hist()\n",
    "    plt.title(column)\n",
    "    plt.show()"
   ]
  },
  {
   "cell_type": "markdown",
   "id": "72f7e63f",
   "metadata": {},
   "source": [
    "## categorical variable processing"
   ]
  },
  {
   "cell_type": "code",
   "execution_count": 21,
   "id": "a62783a5",
   "metadata": {},
   "outputs": [
    {
     "name": "stdout",
     "output_type": "stream",
     "text": [
      "[array([1, 2, 3, 4, 5]), array([32, 33, 37, 39, 99]), array([1, 2])]\n",
      "(750, 12)\n"
     ]
    }
   ],
   "source": [
    "from sklearn.preprocessing import OneHotEncoder\n",
    "\n",
    "categorical_variables = ['size', 'ara', 'de2']\n",
    "onehot_encoder = OneHotEncoder(handle_unknown='ignore')\n",
    "onehot_encoder.fit(data.loc[:, categorical_variables])\n",
    "onehot = onehot_encoder.fit_transform(data.loc[:, categorical_variables])\n",
    "print(onehot_encoder.categories_)\n",
    "print(onehot.toarray().shape)"
   ]
  },
  {
   "cell_type": "markdown",
   "id": "3f6f2723",
   "metadata": {},
   "source": [
    "## numerical variable processing"
   ]
  },
  {
   "cell_type": "code",
   "execution_count": 22,
   "id": "e681291c",
   "metadata": {},
   "outputs": [
    {
     "data": {
      "text/plain": [
       "array([[0.54716981, 0.        , 0.20403238, ..., 0.85486334, 0.417141  ,\n",
       "        0.59552013],\n",
       "       [0.62264151, 0.        , 0.35669081, ..., 0.86680729, 0.41138695,\n",
       "        0.6757859 ],\n",
       "       [0.20754717, 0.        , 0.15478698, ..., 0.        , 0.2924358 ,\n",
       "        0.66976501],\n",
       "       ...,\n",
       "       [0.64150943, 0.40991756, 0.08041256, ..., 0.80548781, 0.5292265 ,\n",
       "        0.64256363],\n",
       "       [0.75471698, 0.40991756, 0.06880144, ..., 0.80716774, 0.53092784,\n",
       "        0.59195301],\n",
       "       [0.81132075, 0.40991756, 0.0228798 , ..., 0.8128766 , 0.88447727,\n",
       "        0.61071527]])"
      ]
     },
     "execution_count": 22,
     "metadata": {},
     "output_type": "execute_result"
    }
   ],
   "source": [
    "from sklearn.preprocessing import MinMaxScaler\n",
    "\n",
    "numerical_variables = ['age1',\n",
    "                       'land', \n",
    "                       'cvl00_2', 'cvl10_2', 'cvl20_2',\n",
    "                       'labch_2', 'labh_hour_2', 'lab_cost',\n",
    "                       'fmtc_2', 'lansh_2']\n",
    "X_minmax_scaler = MinMaxScaler()\n",
    "X_minmax_scaler.fit(data.loc[:, numerical_variables])\n",
    "X_scaled = X_minmax_scaler.transform(data.loc[:, numerical_variables])\n",
    "X_scaled"
   ]
  },
  {
   "cell_type": "code",
   "execution_count": 23,
   "id": "8f956df1",
   "metadata": {},
   "outputs": [
    {
     "data": {
      "text/html": [
       "<div>\n",
       "<style scoped>\n",
       "    .dataframe tbody tr th:only-of-type {\n",
       "        vertical-align: middle;\n",
       "    }\n",
       "\n",
       "    .dataframe tbody tr th {\n",
       "        vertical-align: top;\n",
       "    }\n",
       "\n",
       "    .dataframe thead th {\n",
       "        text-align: right;\n",
       "    }\n",
       "</style>\n",
       "<table border=\"1\" class=\"dataframe\">\n",
       "  <thead>\n",
       "    <tr style=\"text-align: right;\">\n",
       "      <th></th>\n",
       "      <th>age1</th>\n",
       "      <th>land</th>\n",
       "      <th>cvl00_2</th>\n",
       "      <th>cvl10_2</th>\n",
       "      <th>cvl20_2</th>\n",
       "      <th>labch_2</th>\n",
       "      <th>labh_hour_2</th>\n",
       "      <th>lab_cost</th>\n",
       "      <th>fmtc_2</th>\n",
       "      <th>lansh_2</th>\n",
       "      <th>...</th>\n",
       "      <th>2</th>\n",
       "      <th>3</th>\n",
       "      <th>4</th>\n",
       "      <th>5</th>\n",
       "      <th>6</th>\n",
       "      <th>7</th>\n",
       "      <th>8</th>\n",
       "      <th>9</th>\n",
       "      <th>10</th>\n",
       "      <th>11</th>\n",
       "    </tr>\n",
       "  </thead>\n",
       "  <tbody>\n",
       "    <tr>\n",
       "      <th>0</th>\n",
       "      <td>0.547170</td>\n",
       "      <td>0.000000</td>\n",
       "      <td>0.204032</td>\n",
       "      <td>0.000000</td>\n",
       "      <td>0.208780</td>\n",
       "      <td>0.609394</td>\n",
       "      <td>0.681694</td>\n",
       "      <td>0.854863</td>\n",
       "      <td>0.417141</td>\n",
       "      <td>0.595520</td>\n",
       "      <td>...</td>\n",
       "      <td>0.0</td>\n",
       "      <td>0.0</td>\n",
       "      <td>1.0</td>\n",
       "      <td>0.0</td>\n",
       "      <td>0.0</td>\n",
       "      <td>0.0</td>\n",
       "      <td>1.0</td>\n",
       "      <td>0.0</td>\n",
       "      <td>0.0</td>\n",
       "      <td>1.0</td>\n",
       "    </tr>\n",
       "    <tr>\n",
       "      <th>1</th>\n",
       "      <td>0.622642</td>\n",
       "      <td>0.000000</td>\n",
       "      <td>0.356691</td>\n",
       "      <td>0.000000</td>\n",
       "      <td>0.360528</td>\n",
       "      <td>0.554022</td>\n",
       "      <td>0.607641</td>\n",
       "      <td>0.866807</td>\n",
       "      <td>0.411387</td>\n",
       "      <td>0.675786</td>\n",
       "      <td>...</td>\n",
       "      <td>0.0</td>\n",
       "      <td>0.0</td>\n",
       "      <td>1.0</td>\n",
       "      <td>0.0</td>\n",
       "      <td>0.0</td>\n",
       "      <td>0.0</td>\n",
       "      <td>1.0</td>\n",
       "      <td>0.0</td>\n",
       "      <td>0.0</td>\n",
       "      <td>1.0</td>\n",
       "    </tr>\n",
       "    <tr>\n",
       "      <th>2</th>\n",
       "      <td>0.207547</td>\n",
       "      <td>0.000000</td>\n",
       "      <td>0.154787</td>\n",
       "      <td>0.187288</td>\n",
       "      <td>0.000000</td>\n",
       "      <td>0.650237</td>\n",
       "      <td>0.650997</td>\n",
       "      <td>0.000000</td>\n",
       "      <td>0.292436</td>\n",
       "      <td>0.669765</td>\n",
       "      <td>...</td>\n",
       "      <td>1.0</td>\n",
       "      <td>0.0</td>\n",
       "      <td>0.0</td>\n",
       "      <td>0.0</td>\n",
       "      <td>0.0</td>\n",
       "      <td>0.0</td>\n",
       "      <td>1.0</td>\n",
       "      <td>0.0</td>\n",
       "      <td>0.0</td>\n",
       "      <td>1.0</td>\n",
       "    </tr>\n",
       "    <tr>\n",
       "      <th>3</th>\n",
       "      <td>0.679245</td>\n",
       "      <td>0.000000</td>\n",
       "      <td>0.485893</td>\n",
       "      <td>0.000000</td>\n",
       "      <td>0.488960</td>\n",
       "      <td>0.592677</td>\n",
       "      <td>0.612485</td>\n",
       "      <td>0.871544</td>\n",
       "      <td>0.427009</td>\n",
       "      <td>0.678791</td>\n",
       "      <td>...</td>\n",
       "      <td>0.0</td>\n",
       "      <td>0.0</td>\n",
       "      <td>1.0</td>\n",
       "      <td>0.0</td>\n",
       "      <td>0.0</td>\n",
       "      <td>0.0</td>\n",
       "      <td>1.0</td>\n",
       "      <td>0.0</td>\n",
       "      <td>0.0</td>\n",
       "      <td>1.0</td>\n",
       "    </tr>\n",
       "    <tr>\n",
       "      <th>4</th>\n",
       "      <td>0.754717</td>\n",
       "      <td>0.000000</td>\n",
       "      <td>0.080413</td>\n",
       "      <td>0.100656</td>\n",
       "      <td>0.000000</td>\n",
       "      <td>0.679790</td>\n",
       "      <td>0.730416</td>\n",
       "      <td>0.830363</td>\n",
       "      <td>0.508071</td>\n",
       "      <td>0.623086</td>\n",
       "      <td>...</td>\n",
       "      <td>0.0</td>\n",
       "      <td>1.0</td>\n",
       "      <td>0.0</td>\n",
       "      <td>0.0</td>\n",
       "      <td>0.0</td>\n",
       "      <td>0.0</td>\n",
       "      <td>1.0</td>\n",
       "      <td>0.0</td>\n",
       "      <td>0.0</td>\n",
       "      <td>1.0</td>\n",
       "    </tr>\n",
       "    <tr>\n",
       "      <th>...</th>\n",
       "      <td>...</td>\n",
       "      <td>...</td>\n",
       "      <td>...</td>\n",
       "      <td>...</td>\n",
       "      <td>...</td>\n",
       "      <td>...</td>\n",
       "      <td>...</td>\n",
       "      <td>...</td>\n",
       "      <td>...</td>\n",
       "      <td>...</td>\n",
       "      <td>...</td>\n",
       "      <td>...</td>\n",
       "      <td>...</td>\n",
       "      <td>...</td>\n",
       "      <td>...</td>\n",
       "      <td>...</td>\n",
       "      <td>...</td>\n",
       "      <td>...</td>\n",
       "      <td>...</td>\n",
       "      <td>...</td>\n",
       "      <td>...</td>\n",
       "    </tr>\n",
       "    <tr>\n",
       "      <th>745</th>\n",
       "      <td>0.320755</td>\n",
       "      <td>0.409918</td>\n",
       "      <td>0.521915</td>\n",
       "      <td>0.614927</td>\n",
       "      <td>0.000000</td>\n",
       "      <td>0.383810</td>\n",
       "      <td>0.385310</td>\n",
       "      <td>0.809633</td>\n",
       "      <td>0.074197</td>\n",
       "      <td>0.126882</td>\n",
       "      <td>...</td>\n",
       "      <td>0.0</td>\n",
       "      <td>0.0</td>\n",
       "      <td>1.0</td>\n",
       "      <td>0.0</td>\n",
       "      <td>0.0</td>\n",
       "      <td>0.0</td>\n",
       "      <td>0.0</td>\n",
       "      <td>1.0</td>\n",
       "      <td>0.0</td>\n",
       "      <td>1.0</td>\n",
       "    </tr>\n",
       "    <tr>\n",
       "      <th>746</th>\n",
       "      <td>0.660377</td>\n",
       "      <td>0.409918</td>\n",
       "      <td>0.095955</td>\n",
       "      <td>0.118760</td>\n",
       "      <td>0.000000</td>\n",
       "      <td>0.738540</td>\n",
       "      <td>0.736175</td>\n",
       "      <td>0.802137</td>\n",
       "      <td>0.596216</td>\n",
       "      <td>0.730269</td>\n",
       "      <td>...</td>\n",
       "      <td>0.0</td>\n",
       "      <td>0.0</td>\n",
       "      <td>0.0</td>\n",
       "      <td>0.0</td>\n",
       "      <td>0.0</td>\n",
       "      <td>0.0</td>\n",
       "      <td>0.0</td>\n",
       "      <td>1.0</td>\n",
       "      <td>0.0</td>\n",
       "      <td>1.0</td>\n",
       "    </tr>\n",
       "    <tr>\n",
       "      <th>747</th>\n",
       "      <td>0.641509</td>\n",
       "      <td>0.409918</td>\n",
       "      <td>0.080413</td>\n",
       "      <td>0.100656</td>\n",
       "      <td>0.000000</td>\n",
       "      <td>0.746784</td>\n",
       "      <td>0.751029</td>\n",
       "      <td>0.805488</td>\n",
       "      <td>0.529226</td>\n",
       "      <td>0.642564</td>\n",
       "      <td>...</td>\n",
       "      <td>0.0</td>\n",
       "      <td>0.0</td>\n",
       "      <td>0.0</td>\n",
       "      <td>0.0</td>\n",
       "      <td>0.0</td>\n",
       "      <td>0.0</td>\n",
       "      <td>0.0</td>\n",
       "      <td>1.0</td>\n",
       "      <td>0.0</td>\n",
       "      <td>1.0</td>\n",
       "    </tr>\n",
       "    <tr>\n",
       "      <th>748</th>\n",
       "      <td>0.754717</td>\n",
       "      <td>0.409918</td>\n",
       "      <td>0.068801</td>\n",
       "      <td>0.087131</td>\n",
       "      <td>0.000000</td>\n",
       "      <td>0.773576</td>\n",
       "      <td>0.765690</td>\n",
       "      <td>0.807168</td>\n",
       "      <td>0.530928</td>\n",
       "      <td>0.591953</td>\n",
       "      <td>...</td>\n",
       "      <td>0.0</td>\n",
       "      <td>0.0</td>\n",
       "      <td>0.0</td>\n",
       "      <td>0.0</td>\n",
       "      <td>0.0</td>\n",
       "      <td>0.0</td>\n",
       "      <td>0.0</td>\n",
       "      <td>1.0</td>\n",
       "      <td>0.0</td>\n",
       "      <td>1.0</td>\n",
       "    </tr>\n",
       "    <tr>\n",
       "      <th>749</th>\n",
       "      <td>0.811321</td>\n",
       "      <td>0.409918</td>\n",
       "      <td>0.022880</td>\n",
       "      <td>0.033640</td>\n",
       "      <td>0.000000</td>\n",
       "      <td>0.929327</td>\n",
       "      <td>0.951263</td>\n",
       "      <td>0.812877</td>\n",
       "      <td>0.884477</td>\n",
       "      <td>0.610715</td>\n",
       "      <td>...</td>\n",
       "      <td>0.0</td>\n",
       "      <td>0.0</td>\n",
       "      <td>0.0</td>\n",
       "      <td>0.0</td>\n",
       "      <td>0.0</td>\n",
       "      <td>0.0</td>\n",
       "      <td>0.0</td>\n",
       "      <td>1.0</td>\n",
       "      <td>1.0</td>\n",
       "      <td>0.0</td>\n",
       "    </tr>\n",
       "  </tbody>\n",
       "</table>\n",
       "<p>750 rows × 22 columns</p>\n",
       "</div>"
      ],
      "text/plain": [
       "         age1      land   cvl00_2   cvl10_2   cvl20_2   labch_2  labh_hour_2  \\\n",
       "0    0.547170  0.000000  0.204032  0.000000  0.208780  0.609394     0.681694   \n",
       "1    0.622642  0.000000  0.356691  0.000000  0.360528  0.554022     0.607641   \n",
       "2    0.207547  0.000000  0.154787  0.187288  0.000000  0.650237     0.650997   \n",
       "3    0.679245  0.000000  0.485893  0.000000  0.488960  0.592677     0.612485   \n",
       "4    0.754717  0.000000  0.080413  0.100656  0.000000  0.679790     0.730416   \n",
       "..        ...       ...       ...       ...       ...       ...          ...   \n",
       "745  0.320755  0.409918  0.521915  0.614927  0.000000  0.383810     0.385310   \n",
       "746  0.660377  0.409918  0.095955  0.118760  0.000000  0.738540     0.736175   \n",
       "747  0.641509  0.409918  0.080413  0.100656  0.000000  0.746784     0.751029   \n",
       "748  0.754717  0.409918  0.068801  0.087131  0.000000  0.773576     0.765690   \n",
       "749  0.811321  0.409918  0.022880  0.033640  0.000000  0.929327     0.951263   \n",
       "\n",
       "     lab_cost    fmtc_2   lansh_2  ...    2    3    4    5    6    7    8  \\\n",
       "0    0.854863  0.417141  0.595520  ...  0.0  0.0  1.0  0.0  0.0  0.0  1.0   \n",
       "1    0.866807  0.411387  0.675786  ...  0.0  0.0  1.0  0.0  0.0  0.0  1.0   \n",
       "2    0.000000  0.292436  0.669765  ...  1.0  0.0  0.0  0.0  0.0  0.0  1.0   \n",
       "3    0.871544  0.427009  0.678791  ...  0.0  0.0  1.0  0.0  0.0  0.0  1.0   \n",
       "4    0.830363  0.508071  0.623086  ...  0.0  1.0  0.0  0.0  0.0  0.0  1.0   \n",
       "..        ...       ...       ...  ...  ...  ...  ...  ...  ...  ...  ...   \n",
       "745  0.809633  0.074197  0.126882  ...  0.0  0.0  1.0  0.0  0.0  0.0  0.0   \n",
       "746  0.802137  0.596216  0.730269  ...  0.0  0.0  0.0  0.0  0.0  0.0  0.0   \n",
       "747  0.805488  0.529226  0.642564  ...  0.0  0.0  0.0  0.0  0.0  0.0  0.0   \n",
       "748  0.807168  0.530928  0.591953  ...  0.0  0.0  0.0  0.0  0.0  0.0  0.0   \n",
       "749  0.812877  0.884477  0.610715  ...  0.0  0.0  0.0  0.0  0.0  0.0  0.0   \n",
       "\n",
       "       9   10   11  \n",
       "0    0.0  0.0  1.0  \n",
       "1    0.0  0.0  1.0  \n",
       "2    0.0  0.0  1.0  \n",
       "3    0.0  0.0  1.0  \n",
       "4    0.0  0.0  1.0  \n",
       "..   ...  ...  ...  \n",
       "745  1.0  0.0  1.0  \n",
       "746  1.0  0.0  1.0  \n",
       "747  1.0  0.0  1.0  \n",
       "748  1.0  0.0  1.0  \n",
       "749  1.0  1.0  0.0  \n",
       "\n",
       "[750 rows x 22 columns]"
      ]
     },
     "execution_count": 23,
     "metadata": {},
     "output_type": "execute_result"
    }
   ],
   "source": [
    "numeric_data_df = pd.DataFrame(X_scaled, columns=numerical_variables)\n",
    "onehot_data_df = pd.DataFrame(onehot.toarray())\n",
    "\n",
    "X_data_df = pd.concat([numeric_data_df , onehot_data_df], axis=1)\n",
    "X_data_df"
   ]
  },
  {
   "cell_type": "code",
   "execution_count": 24,
   "id": "ada08985",
   "metadata": {},
   "outputs": [],
   "source": [
    "X_data = np.array(X_data_df)\n",
    "y_data = np.array(data['cony_2'])"
   ]
  },
  {
   "cell_type": "markdown",
   "id": "bde838be",
   "metadata": {},
   "source": [
    "# Train Test split"
   ]
  },
  {
   "cell_type": "code",
   "execution_count": 25,
   "id": "bbf35a64",
   "metadata": {},
   "outputs": [
    {
     "name": "stdout",
     "output_type": "stream",
     "text": [
      "(675, 22) (675,)\n",
      "(75, 22) (75,)\n"
     ]
    }
   ],
   "source": [
    "from sklearn.model_selection import train_test_split\n",
    "\n",
    "X_train, X_test, y_train, y_test = train_test_split(X_data, y_data,\n",
    "                                                    test_size=0.1,\n",
    "                                                    random_state=1234)\n",
    "print(X_train.shape, y_train.shape)\n",
    "print(X_test.shape, y_test.shape)"
   ]
  },
  {
   "cell_type": "markdown",
   "id": "a219c90d",
   "metadata": {},
   "source": [
    "# Modeling"
   ]
  },
  {
   "cell_type": "markdown",
   "id": "827d85be",
   "metadata": {},
   "source": [
    "# Decision Tree"
   ]
  },
  {
   "cell_type": "code",
   "execution_count": 26,
   "id": "aba4e636",
   "metadata": {},
   "outputs": [
    {
     "data": {
      "text/plain": [
       "DecisionTreeRegressor(random_state=1000)"
      ]
     },
     "execution_count": 26,
     "metadata": {},
     "output_type": "execute_result"
    }
   ],
   "source": [
    "from sklearn.tree import DecisionTreeRegressor\n",
    "from sklearn.metrics import mean_squared_error\n",
    "\n",
    "dt = DecisionTreeRegressor(random_state=1000)\n",
    "dt.fit(X_train, y_train)"
   ]
  },
  {
   "cell_type": "code",
   "execution_count": 27,
   "id": "948e9e69",
   "metadata": {},
   "outputs": [
    {
     "name": "stdout",
     "output_type": "stream",
     "text": [
      "[7.16635682 8.01674785 8.49036998 9.00282408 9.06735491 8.74356844\n",
      " 6.13471184 6.5906756  9.44680809 6.39133432]\n"
     ]
    }
   ],
   "source": [
    "dt_pred = dt.predict(X_test)\n",
    "print(dt_pred[:10])"
   ]
  },
  {
   "cell_type": "code",
   "execution_count": 28,
   "id": "a904645f",
   "metadata": {},
   "outputs": [
    {
     "data": {
      "text/plain": [
       "1.0656602896789347"
      ]
     },
     "execution_count": 28,
     "metadata": {},
     "output_type": "execute_result"
    }
   ],
   "source": [
    "dt_rmse = np.sqrt(mean_squared_error(y_test, dt_pred))\n",
    "dt_rmse"
   ]
  },
  {
   "cell_type": "markdown",
   "id": "6016b843",
   "metadata": {},
   "source": [
    "## RandomForest"
   ]
  },
  {
   "cell_type": "code",
   "execution_count": 29,
   "id": "3d0df901",
   "metadata": {},
   "outputs": [
    {
     "data": {
      "text/plain": [
       "RandomForestRegressor(max_features='sqrt', n_estimators=500, random_state=1000)"
      ]
     },
     "execution_count": 29,
     "metadata": {},
     "output_type": "execute_result"
    }
   ],
   "source": [
    "from sklearn.ensemble import RandomForestRegressor\n",
    "\n",
    "rf = RandomForestRegressor(n_estimators = 500, max_features = 'sqrt', \n",
    "                           random_state = 1000)\n",
    "rf.fit(X_train, y_train)"
   ]
  },
  {
   "cell_type": "code",
   "execution_count": 30,
   "id": "39a8e6ec",
   "metadata": {},
   "outputs": [
    {
     "name": "stdout",
     "output_type": "stream",
     "text": [
      "[7.72278065 8.64787008 8.43021396 7.98755215 8.33785185 8.86271141\n",
      " 7.81799308 6.61563371 9.22980007 6.62669363]\n"
     ]
    }
   ],
   "source": [
    "rf_pred = rf.predict(X_test)\n",
    "print(rf_pred[:10])"
   ]
  },
  {
   "cell_type": "code",
   "execution_count": 31,
   "id": "d20eee11",
   "metadata": {},
   "outputs": [
    {
     "data": {
      "text/plain": [
       "1.0068130318133464"
      ]
     },
     "execution_count": 31,
     "metadata": {},
     "output_type": "execute_result"
    }
   ],
   "source": [
    "rf_rmse = np.sqrt(mean_squared_error(y_test, rf_pred))\n",
    "rf_rmse"
   ]
  },
  {
   "cell_type": "code",
   "execution_count": 32,
   "id": "08526462",
   "metadata": {},
   "outputs": [
    {
     "data": {
      "image/png": "[encoded data removed]",
      "text/plain": [
       "<Figure size 576x432 with 1 Axes>"
      ]
     },
     "metadata": {
      "needs_background": "light"
     },
     "output_type": "display_data"
    }
   ],
   "source": [
    "import seaborn as sns\n",
    "\n",
    "importances_values = rf.feature_importances_ \n",
    "importances = pd.Series(importances_values, index=X_data_df.columns)\n",
    "\n",
    "top20 = importances.sort_values(ascending=False)[:20]\n",
    "plt.figure(figsize=(8, 6))\n",
    "plt.title('Feature importances Top 20')\n",
    "sns.barplot(x = top20, y = top20.index)\n",
    "plt.show()"
   ]
  },
  {
   "cell_type": "markdown",
   "id": "ee45a43c",
   "metadata": {},
   "source": [
    "## ridge"
   ]
  },
  {
   "cell_type": "code",
   "execution_count": 33,
   "id": "323b74a2",
   "metadata": {},
   "outputs": [
    {
     "data": {
      "text/plain": [
       "Ridge(alpha=0.1724)"
      ]
     },
     "execution_count": 33,
     "metadata": {},
     "output_type": "execute_result"
    }
   ],
   "source": [
    "from sklearn.linear_model import Ridge\n",
    "\n",
    "ridge = Ridge(alpha=0.1724)\n",
    "ridge.fit(X_train, y_train)"
   ]
  },
  {
   "cell_type": "code",
   "execution_count": 34,
   "id": "6d153bff",
   "metadata": {},
   "outputs": [
    {
     "name": "stdout",
     "output_type": "stream",
     "text": [
      "0.5200332042425226\n"
     ]
    }
   ],
   "source": [
    "print(ridge.score(X_train, y_train))"
   ]
  },
  {
   "cell_type": "code",
   "execution_count": 35,
   "id": "67ac0792",
   "metadata": {},
   "outputs": [
    {
     "data": {
      "text/plain": [
       "1.2875694916869749"
      ]
     },
     "execution_count": 35,
     "metadata": {},
     "output_type": "execute_result"
    }
   ],
   "source": [
    "ridge_pred = ridge.predict(X_test)\n",
    "ridge_rmse = np.sqrt(mean_squared_error(y_test, ridge_pred))\n",
    "ridge_rmse"
   ]
  },
  {
   "cell_type": "markdown",
   "id": "5bb889f3",
   "metadata": {},
   "source": [
    "## LASSO"
   ]
  },
  {
   "cell_type": "code",
   "execution_count": 36,
   "id": "600fc5e2",
   "metadata": {},
   "outputs": [
    {
     "data": {
      "text/plain": [
       "Lasso(alpha=0.001)"
      ]
     },
     "execution_count": 36,
     "metadata": {},
     "output_type": "execute_result"
    }
   ],
   "source": [
    "from sklearn.linear_model import Lasso\n",
    "\n",
    "lasso = Lasso(alpha=0.001)\n",
    "lasso.fit(X_train, y_train)"
   ]
  },
  {
   "cell_type": "code",
   "execution_count": 37,
   "id": "a23edbb6",
   "metadata": {},
   "outputs": [
    {
     "name": "stdout",
     "output_type": "stream",
     "text": [
      "0.5196819294429202\n"
     ]
    }
   ],
   "source": [
    "print(lasso.score(X_train, y_train))"
   ]
  },
  {
   "cell_type": "code",
   "execution_count": 38,
   "id": "3d85a59f",
   "metadata": {},
   "outputs": [
    {
     "data": {
      "text/plain": [
       "1.2863250694004258"
      ]
     },
     "execution_count": 38,
     "metadata": {},
     "output_type": "execute_result"
    }
   ],
   "source": [
    "lasso_pred = lasso.predict(X_test)\n",
    "lasso_rmse = np.sqrt(mean_squared_error(y_test, lasso_pred))\n",
    "lasso_rmse"
   ]
  },
  {
   "cell_type": "markdown",
   "id": "4861349f",
   "metadata": {},
   "source": [
    "## GBM"
   ]
  },
  {
   "cell_type": "code",
   "execution_count": 39,
   "id": "cfc68da7",
   "metadata": {},
   "outputs": [
    {
     "name": "stdout",
     "output_type": "stream",
     "text": [
      "[7.16637151 9.05561366 8.69071498 8.16743248 8.75849362 9.24784509\n",
      " 7.98942236 8.0331899  9.44678803 6.24085602]\n"
     ]
    }
   ],
   "source": [
    "from sklearn.ensemble import GradientBoostingRegressor\n",
    "\n",
    "gbm = GradientBoostingRegressor(n_estimators=500, max_depth=8)\n",
    "gbm.fit(X_train, y_train)\n",
    "\n",
    "gbm_pred = gbm.predict(X_test)\n",
    "print(gbm_pred[:10])"
   ]
  },
  {
   "cell_type": "code",
   "execution_count": 40,
   "id": "76558564",
   "metadata": {},
   "outputs": [
    {
     "data": {
      "text/plain": [
       "0.9365085440336578"
      ]
     },
     "execution_count": 40,
     "metadata": {},
     "output_type": "execute_result"
    }
   ],
   "source": [
    "gbm_rmse = np.sqrt(mean_squared_error(y_test, gbm_pred))\n",
    "gbm_rmse"
   ]
  },
  {
   "cell_type": "markdown",
   "id": "957ab966",
   "metadata": {},
   "source": [
    "## AdaBoost"
   ]
  },
  {
   "cell_type": "code",
   "execution_count": 41,
   "id": "6debc26a",
   "metadata": {},
   "outputs": [
    {
     "name": "stdout",
     "output_type": "stream",
     "text": [
      "[8.32181088 8.26073502 8.25043648 7.09710835 7.94946888 7.9905691\n",
      " 7.86323899 6.25320662 8.33578008 7.46424751]\n"
     ]
    }
   ],
   "source": [
    "from sklearn.ensemble import AdaBoostRegressor\n",
    "\n",
    "ada = AdaBoostRegressor(n_estimators = 500, learning_rate = 0.1)\n",
    "ada.fit(X_train, y_train)\n",
    "\n",
    "ada_pred = ada.predict(X_test)\n",
    "print(ada_pred[:10])"
   ]
  },
  {
   "cell_type": "code",
   "execution_count": 42,
   "id": "5018b567",
   "metadata": {},
   "outputs": [
    {
     "data": {
      "text/plain": [
       "1.2599026378241005"
      ]
     },
     "execution_count": 42,
     "metadata": {},
     "output_type": "execute_result"
    }
   ],
   "source": [
    "ada_rmse = np.sqrt(mean_squared_error(y_test, ada_pred))\n",
    "ada_rmse"
   ]
  },
  {
   "cell_type": "markdown",
   "id": "36206c30",
   "metadata": {},
   "source": [
    "## XGBoost"
   ]
  },
  {
   "cell_type": "code",
   "execution_count": 43,
   "id": "f1fb512c",
   "metadata": {},
   "outputs": [
    {
     "name": "stdout",
     "output_type": "stream",
     "text": [
      "1.3.3\n",
      "[7.166861  8.653454  8.286521  8.1451435 8.53032   8.872927  8.149499\n",
      " 7.3117733 9.44645   7.192145 ]\n"
     ]
    }
   ],
   "source": [
    "import xgboost as xgb\n",
    "print(xgb.__version__)\n",
    "\n",
    "xgb_reg = xgb.XGBRegressor(learning_rate=0.08, max_depth=8, \n",
    "                           gamma=0, n_estimators=3000,\n",
    "                           subsample=0.7, colsample_bytree=0.8)\n",
    "xgb_reg.fit(X_train, y_train, verbose=False)\n",
    "\n",
    "xgb_pred = xgb_reg.predict(X_test)\n",
    "print(xgb_pred[:10])"
   ]
  },
  {
   "cell_type": "code",
   "execution_count": 44,
   "id": "c1fa8c4c",
   "metadata": {},
   "outputs": [
    {
     "data": {
      "text/plain": [
       "0.9741205508778825"
      ]
     },
     "execution_count": 44,
     "metadata": {},
     "output_type": "execute_result"
    }
   ],
   "source": [
    "xgb_rmse = np.sqrt(mean_squared_error(y_test, xgb_pred))\n",
    "xgb_rmse"
   ]
  },
  {
   "cell_type": "code",
   "execution_count": 45,
   "id": "9d8d30e9",
   "metadata": {},
   "outputs": [
    {
     "data": {
      "image/png": "[encoded data removed]",
      "text/plain": [
       "<Figure size 720x864 with 1 Axes>"
      ]
     },
     "metadata": {
      "needs_background": "light"
     },
     "output_type": "display_data"
    }
   ],
   "source": [
    "from xgboost import plot_importance\n",
    "\n",
    "plot_importance(xgb_reg, max_num_features=20)\n",
    "\n",
    "fig = plt.gcf()\n",
    "fig.set_size_inches(10, 12)"
   ]
  },
  {
   "cell_type": "markdown",
   "id": "9c3dab67",
   "metadata": {},
   "source": [
    "## LightGBM"
   ]
  },
  {
   "cell_type": "code",
   "execution_count": 46,
   "id": "fc67888b",
   "metadata": {},
   "outputs": [
    {
     "data": {
      "text/plain": [
       "LGBMRegressor(max_depth=50, min_data_in_leaf=10, n_estimators=1000,\n",
       "              num_leaves=10)"
      ]
     },
     "execution_count": 46,
     "metadata": {},
     "output_type": "execute_result"
    }
   ],
   "source": [
    "import lightgbm as lgb\n",
    "\n",
    "\n",
    "lgb_reg = lgb.LGBMRegressor(n_estimators=1000, max_depth=50, num_leaves=10, min_data_in_leaf=10)\n",
    "lgb_reg.fit(X_train, y_train,\n",
    "        eval_set=[(X_test, y_test)],\n",
    "        eval_metric='l1',\n",
    "        early_stopping_rounds=1000,\n",
    "        verbose = False)"
   ]
  },
  {
   "cell_type": "code",
   "execution_count": 47,
   "id": "1578563b",
   "metadata": {},
   "outputs": [
    {
     "name": "stdout",
     "output_type": "stream",
     "text": [
      "[7.25516512 8.43325618 8.23998268 7.67751787 8.92962324 9.41035565\n",
      " 7.86159118 8.23808553 9.38608077 7.06097808]\n"
     ]
    }
   ],
   "source": [
    "lgb_pred = lgb_reg.predict(X_test)\n",
    "print(lgb_pred[:10])"
   ]
  },
  {
   "cell_type": "code",
   "execution_count": 48,
   "id": "b13f9cb5",
   "metadata": {},
   "outputs": [
    {
     "data": {
      "text/plain": [
       "1.0218832134164726"
      ]
     },
     "execution_count": 48,
     "metadata": {},
     "output_type": "execute_result"
    }
   ],
   "source": [
    "lgb_rmse = np.sqrt(mean_squared_error(y_test, lgb_pred))\n",
    "lgb_rmse"
   ]
  },
  {
   "cell_type": "markdown",
   "id": "e43065d1",
   "metadata": {},
   "source": [
    "## Model Comparision"
   ]
  },
  {
   "cell_type": "code",
   "execution_count": 49,
   "id": "3819ea3f",
   "metadata": {},
   "outputs": [
    {
     "data": {
      "text/html": [
       "<div>\n",
       "<style scoped>\n",
       "    .dataframe tbody tr th:only-of-type {\n",
       "        vertical-align: middle;\n",
       "    }\n",
       "\n",
       "    .dataframe tbody tr th {\n",
       "        vertical-align: top;\n",
       "    }\n",
       "\n",
       "    .dataframe thead th {\n",
       "        text-align: right;\n",
       "    }\n",
       "</style>\n",
       "<table border=\"1\" class=\"dataframe\">\n",
       "  <thead>\n",
       "    <tr style=\"text-align: right;\">\n",
       "      <th></th>\n",
       "      <th>Model</th>\n",
       "      <th>RMSE</th>\n",
       "    </tr>\n",
       "  </thead>\n",
       "  <tbody>\n",
       "    <tr>\n",
       "      <th>4</th>\n",
       "      <td>GBM</td>\n",
       "      <td>0.936509</td>\n",
       "    </tr>\n",
       "    <tr>\n",
       "      <th>6</th>\n",
       "      <td>XGboost</td>\n",
       "      <td>0.974121</td>\n",
       "    </tr>\n",
       "    <tr>\n",
       "      <th>1</th>\n",
       "      <td>RandomForest</td>\n",
       "      <td>1.006813</td>\n",
       "    </tr>\n",
       "    <tr>\n",
       "      <th>7</th>\n",
       "      <td>LightGBM</td>\n",
       "      <td>1.021883</td>\n",
       "    </tr>\n",
       "    <tr>\n",
       "      <th>0</th>\n",
       "      <td>Decision Tree</td>\n",
       "      <td>1.065660</td>\n",
       "    </tr>\n",
       "    <tr>\n",
       "      <th>5</th>\n",
       "      <td>AdaBoost</td>\n",
       "      <td>1.259903</td>\n",
       "    </tr>\n",
       "    <tr>\n",
       "      <th>3</th>\n",
       "      <td>LASSO</td>\n",
       "      <td>1.286325</td>\n",
       "    </tr>\n",
       "    <tr>\n",
       "      <th>2</th>\n",
       "      <td>Ridge</td>\n",
       "      <td>1.287569</td>\n",
       "    </tr>\n",
       "  </tbody>\n",
       "</table>\n",
       "</div>"
      ],
      "text/plain": [
       "           Model      RMSE\n",
       "4            GBM  0.936509\n",
       "6        XGboost  0.974121\n",
       "1   RandomForest  1.006813\n",
       "7       LightGBM  1.021883\n",
       "0  Decision Tree  1.065660\n",
       "5       AdaBoost  1.259903\n",
       "3          LASSO  1.286325\n",
       "2          Ridge  1.287569"
      ]
     },
     "execution_count": 49,
     "metadata": {},
     "output_type": "execute_result"
    }
   ],
   "source": [
    "model_result = pd.DataFrame({\n",
    "    'Model': ['Decision Tree', 'RandomForest', 'Ridge', 'LASSO',\n",
    "              'GBM', 'AdaBoost', 'XGboost', 'LightGBM'],\n",
    "    'RMSE': [dt_rmse, rf_rmse, ridge_rmse, lasso_rmse,\n",
    "             gbm_rmse, ada_rmse, xgb_rmse, lgb_rmse]})\n",
    "model_result.sort_values(by='RMSE', ascending=True)"
   ]
  },
  {
   "cell_type": "markdown",
   "id": "eb669c75",
   "metadata": {},
   "source": [
    "# Ensemble"
   ]
  },
  {
   "cell_type": "code",
   "execution_count": 50,
   "id": "6634fb03",
   "metadata": {},
   "outputs": [],
   "source": [
    "import torch\n",
    "from sklearn.metrics import mean_squared_error\n",
    "\n",
    "class EnsembleRegressor:\n",
    "    def __init__(self, models, weights=None):\n",
    "        \n",
    "        self.models = models\n",
    "        self.weights = weights\n",
    "        \n",
    "    def predict(self, X_test):\n",
    "        pred_list = []\n",
    "        for i, model in enumerate(models.values()):\n",
    "            pred_list.append(model.predict(X_test))\n",
    "        preds = np.array(pred_list)\n",
    "            \n",
    "        prediction = np.average(preds, axis=0, weights=self.weights)\n",
    "\n",
    "        return prediction\n",
    "    \n",
    "    def random_search(self, X_test, y_test, num_search):\n",
    "        weights = torch.softmax(torch.rand(num_search, len(self.models)), axis=1).numpy()\n",
    "        \n",
    "        pred_list = []\n",
    "        for i, model in enumerate(models.values()):\n",
    "            pred_list.append(model.predict(X_test))\n",
    "        preds = np.array(pred_list)\n",
    "\n",
    "        mse = []\n",
    "        for i in range(num_search):\n",
    "            prediction = np.average(preds, axis=0, weights=weights[i])\n",
    "            mse_ = mean_squared_error(y_test, prediction)\n",
    "            mse.append(mse_)\n",
    "        \n",
    "        result = pd.DataFrame(weights)\n",
    "        result['RMSE'] = np.sqrt(mse)\n",
    "\n",
    "        return result.sort_values('RMSE', ascending=True)"
   ]
  },
  {
   "cell_type": "code",
   "execution_count": 53,
   "id": "aed35bae",
   "metadata": {},
   "outputs": [
    {
     "data": {
      "text/html": [
       "<div>\n",
       "<style scoped>\n",
       "    .dataframe tbody tr th:only-of-type {\n",
       "        vertical-align: middle;\n",
       "    }\n",
       "\n",
       "    .dataframe tbody tr th {\n",
       "        vertical-align: top;\n",
       "    }\n",
       "\n",
       "    .dataframe thead th {\n",
       "        text-align: right;\n",
       "    }\n",
       "</style>\n",
       "<table border=\"1\" class=\"dataframe\">\n",
       "  <thead>\n",
       "    <tr style=\"text-align: right;\">\n",
       "      <th></th>\n",
       "      <th>0</th>\n",
       "      <th>1</th>\n",
       "      <th>2</th>\n",
       "      <th>RMSE</th>\n",
       "    </tr>\n",
       "  </thead>\n",
       "  <tbody>\n",
       "    <tr>\n",
       "      <th>28105</th>\n",
       "      <td>0.209475</td>\n",
       "      <td>0.229402</td>\n",
       "      <td>0.561123</td>\n",
       "      <td>0.915709</td>\n",
       "    </tr>\n",
       "    <tr>\n",
       "      <th>19578</th>\n",
       "      <td>0.213415</td>\n",
       "      <td>0.219766</td>\n",
       "      <td>0.566818</td>\n",
       "      <td>0.915711</td>\n",
       "    </tr>\n",
       "    <tr>\n",
       "      <th>21997</th>\n",
       "      <td>0.210520</td>\n",
       "      <td>0.231525</td>\n",
       "      <td>0.557956</td>\n",
       "      <td>0.915737</td>\n",
       "    </tr>\n",
       "    <tr>\n",
       "      <th>5019</th>\n",
       "      <td>0.219228</td>\n",
       "      <td>0.216118</td>\n",
       "      <td>0.564653</td>\n",
       "      <td>0.915773</td>\n",
       "    </tr>\n",
       "    <tr>\n",
       "      <th>26829</th>\n",
       "      <td>0.208850</td>\n",
       "      <td>0.239788</td>\n",
       "      <td>0.551361</td>\n",
       "      <td>0.915777</td>\n",
       "    </tr>\n",
       "    <tr>\n",
       "      <th>3957</th>\n",
       "      <td>0.219599</td>\n",
       "      <td>0.217227</td>\n",
       "      <td>0.563174</td>\n",
       "      <td>0.915783</td>\n",
       "    </tr>\n",
       "    <tr>\n",
       "      <th>13752</th>\n",
       "      <td>0.220029</td>\n",
       "      <td>0.217210</td>\n",
       "      <td>0.562761</td>\n",
       "      <td>0.915789</td>\n",
       "    </tr>\n",
       "    <tr>\n",
       "      <th>3735</th>\n",
       "      <td>0.219009</td>\n",
       "      <td>0.221621</td>\n",
       "      <td>0.559369</td>\n",
       "      <td>0.915797</td>\n",
       "    </tr>\n",
       "    <tr>\n",
       "      <th>24188</th>\n",
       "      <td>0.213549</td>\n",
       "      <td>0.234425</td>\n",
       "      <td>0.552026</td>\n",
       "      <td>0.915803</td>\n",
       "    </tr>\n",
       "    <tr>\n",
       "      <th>27459</th>\n",
       "      <td>0.212538</td>\n",
       "      <td>0.236855</td>\n",
       "      <td>0.550606</td>\n",
       "      <td>0.915807</td>\n",
       "    </tr>\n",
       "  </tbody>\n",
       "</table>\n",
       "</div>"
      ],
      "text/plain": [
       "              0         1         2      RMSE\n",
       "28105  0.209475  0.229402  0.561123  0.915709\n",
       "19578  0.213415  0.219766  0.566818  0.915711\n",
       "21997  0.210520  0.231525  0.557956  0.915737\n",
       "5019   0.219228  0.216118  0.564653  0.915773\n",
       "26829  0.208850  0.239788  0.551361  0.915777\n",
       "3957   0.219599  0.217227  0.563174  0.915783\n",
       "13752  0.220029  0.217210  0.562761  0.915789\n",
       "3735   0.219009  0.221621  0.559369  0.915797\n",
       "24188  0.213549  0.234425  0.552026  0.915803\n",
       "27459  0.212538  0.236855  0.550606  0.915807"
      ]
     },
     "execution_count": 53,
     "metadata": {},
     "output_type": "execute_result"
    }
   ],
   "source": [
    "models = {'RandomForest' : rf, 'XGBoost' : xgb_reg, 'GBM' : gbm}\n",
    "\n",
    "ensemble = EnsembleRegressor(models, weights=None)\n",
    "result = ensemble.random_search(X_test, y_test, 30000)\n",
    "result.head(10)"
   ]
  },
  {
   "cell_type": "code",
   "execution_count": 54,
   "id": "56513bfc",
   "metadata": {},
   "outputs": [
    {
     "name": "stdout",
     "output_type": "stream",
     "text": [
      "[0.209, 0.229, 0.561]\n"
     ]
    }
   ],
   "source": [
    "optimal_weight = np.round(result.iloc[0,:-1], 3).tolist()\n",
    "print(optimal_weight)"
   ]
  },
  {
   "cell_type": "code",
   "execution_count": 55,
   "id": "57aa4e4f",
   "metadata": {},
   "outputs": [
    {
     "name": "stdout",
     "output_type": "stream",
     "text": [
      "[7.28288965 8.87812316 8.54356268 8.12469058 8.61818746 9.08132933\n",
      " 7.990252   7.57125432 9.40131472 6.53964001]\n"
     ]
    }
   ],
   "source": [
    "ensemble = EnsembleRegressor(models, weights=optimal_weight)\n",
    "\n",
    "preds = ensemble.predict(X_test)\n",
    "print(preds[:10])"
   ]
  },
  {
   "cell_type": "code",
   "execution_count": 56,
   "id": "55b75aa3",
   "metadata": {},
   "outputs": [
    {
     "data": {
      "text/plain": [
       "0.91570497722647"
      ]
     },
     "execution_count": 56,
     "metadata": {},
     "output_type": "execute_result"
    }
   ],
   "source": [
    "rmse = np.sqrt(mean_squared_error(y_test, preds))\n",
    "rmse"
   ]
  },
  {
   "cell_type": "markdown",
   "id": "f0ec563a",
   "metadata": {},
   "source": [
    "## Evaluation"
   ]
  },
  {
   "cell_type": "code",
   "execution_count": 57,
   "id": "20abe9d3",
   "metadata": {},
   "outputs": [
    {
     "name": "stdout",
     "output_type": "stream",
     "text": [
      "[ 1454.18693131  7172.31493567  5132.60120662  3375.8228985\n",
      "  5530.35153144  8788.64255743  2951.0407913   1940.57410783\n",
      " 12103.28396869   691.03740981]\n",
      "[ 1294.11764706  6620.68965517  3280.          3896.96969697\n",
      "   880.         49923.07692308  3090.90909091  2345.45454545\n",
      " 12666.66666667   600.        ]\n"
     ]
    }
   ],
   "source": [
    "inverse_transformed_pred = np.expm1(preds)\n",
    "inverse_transformed_pred = np.where(inverse_transformed_pred < 0, 0, inverse_transformed_pred)\n",
    "inverse_transformed_y_test = np.expm1(y_test)\n",
    "\n",
    "print(inverse_transformed_pred[:10])\n",
    "print(inverse_transformed_y_test[:10])"
   ]
  },
  {
   "cell_type": "code",
   "execution_count": 58,
   "id": "ffc56549",
   "metadata": {},
   "outputs": [
    {
     "data": {
      "text/plain": [
       "5608.22450122292"
      ]
     },
     "execution_count": 58,
     "metadata": {},
     "output_type": "execute_result"
    }
   ],
   "source": [
    "np.sqrt(mean_squared_error(inverse_transformed_y_test, inverse_transformed_pred))"
   ]
  },
  {
   "cell_type": "code",
   "execution_count": 59,
   "id": "009132a6",
   "metadata": {},
   "outputs": [
    {
     "data": {
      "text/html": [
       "<div>\n",
       "<style scoped>\n",
       "    .dataframe tbody tr th:only-of-type {\n",
       "        vertical-align: middle;\n",
       "    }\n",
       "\n",
       "    .dataframe tbody tr th {\n",
       "        vertical-align: top;\n",
       "    }\n",
       "\n",
       "    .dataframe thead th {\n",
       "        text-align: right;\n",
       "    }\n",
       "</style>\n",
       "<table border=\"1\" class=\"dataframe\">\n",
       "  <thead>\n",
       "    <tr style=\"text-align: right;\">\n",
       "      <th></th>\n",
       "      <th>생산량</th>\n",
       "      <th>예측값</th>\n",
       "    </tr>\n",
       "  </thead>\n",
       "  <tbody>\n",
       "    <tr>\n",
       "      <th>0</th>\n",
       "      <td>1294.1</td>\n",
       "      <td>1454.2</td>\n",
       "    </tr>\n",
       "    <tr>\n",
       "      <th>1</th>\n",
       "      <td>6620.7</td>\n",
       "      <td>7172.3</td>\n",
       "    </tr>\n",
       "    <tr>\n",
       "      <th>2</th>\n",
       "      <td>3280.0</td>\n",
       "      <td>5132.6</td>\n",
       "    </tr>\n",
       "    <tr>\n",
       "      <th>3</th>\n",
       "      <td>3897.0</td>\n",
       "      <td>3375.8</td>\n",
       "    </tr>\n",
       "    <tr>\n",
       "      <th>4</th>\n",
       "      <td>880.0</td>\n",
       "      <td>5530.4</td>\n",
       "    </tr>\n",
       "    <tr>\n",
       "      <th>5</th>\n",
       "      <td>49923.1</td>\n",
       "      <td>8788.6</td>\n",
       "    </tr>\n",
       "    <tr>\n",
       "      <th>6</th>\n",
       "      <td>3090.9</td>\n",
       "      <td>2951.0</td>\n",
       "    </tr>\n",
       "    <tr>\n",
       "      <th>7</th>\n",
       "      <td>2345.5</td>\n",
       "      <td>1940.6</td>\n",
       "    </tr>\n",
       "    <tr>\n",
       "      <th>8</th>\n",
       "      <td>12666.7</td>\n",
       "      <td>12103.3</td>\n",
       "    </tr>\n",
       "    <tr>\n",
       "      <th>9</th>\n",
       "      <td>600.0</td>\n",
       "      <td>691.0</td>\n",
       "    </tr>\n",
       "    <tr>\n",
       "      <th>10</th>\n",
       "      <td>800.0</td>\n",
       "      <td>142.7</td>\n",
       "    </tr>\n",
       "    <tr>\n",
       "      <th>11</th>\n",
       "      <td>5333.3</td>\n",
       "      <td>6580.6</td>\n",
       "    </tr>\n",
       "    <tr>\n",
       "      <th>12</th>\n",
       "      <td>4300.0</td>\n",
       "      <td>1364.6</td>\n",
       "    </tr>\n",
       "    <tr>\n",
       "      <th>13</th>\n",
       "      <td>476.2</td>\n",
       "      <td>93.0</td>\n",
       "    </tr>\n",
       "    <tr>\n",
       "      <th>14</th>\n",
       "      <td>3600.0</td>\n",
       "      <td>2250.0</td>\n",
       "    </tr>\n",
       "    <tr>\n",
       "      <th>15</th>\n",
       "      <td>2648.2</td>\n",
       "      <td>559.6</td>\n",
       "    </tr>\n",
       "    <tr>\n",
       "      <th>16</th>\n",
       "      <td>7878.8</td>\n",
       "      <td>3466.3</td>\n",
       "    </tr>\n",
       "    <tr>\n",
       "      <th>17</th>\n",
       "      <td>8888.9</td>\n",
       "      <td>8845.3</td>\n",
       "    </tr>\n",
       "    <tr>\n",
       "      <th>18</th>\n",
       "      <td>6666.7</td>\n",
       "      <td>6145.8</td>\n",
       "    </tr>\n",
       "    <tr>\n",
       "      <th>19</th>\n",
       "      <td>2618.2</td>\n",
       "      <td>2882.6</td>\n",
       "    </tr>\n",
       "    <tr>\n",
       "      <th>20</th>\n",
       "      <td>7857.1</td>\n",
       "      <td>7642.6</td>\n",
       "    </tr>\n",
       "    <tr>\n",
       "      <th>21</th>\n",
       "      <td>1100.0</td>\n",
       "      <td>1150.4</td>\n",
       "    </tr>\n",
       "    <tr>\n",
       "      <th>22</th>\n",
       "      <td>3043.5</td>\n",
       "      <td>5263.7</td>\n",
       "    </tr>\n",
       "    <tr>\n",
       "      <th>23</th>\n",
       "      <td>5671.3</td>\n",
       "      <td>3993.9</td>\n",
       "    </tr>\n",
       "    <tr>\n",
       "      <th>24</th>\n",
       "      <td>5510.1</td>\n",
       "      <td>480.9</td>\n",
       "    </tr>\n",
       "    <tr>\n",
       "      <th>25</th>\n",
       "      <td>2810.0</td>\n",
       "      <td>4022.5</td>\n",
       "    </tr>\n",
       "    <tr>\n",
       "      <th>26</th>\n",
       "      <td>8228.6</td>\n",
       "      <td>3885.8</td>\n",
       "    </tr>\n",
       "    <tr>\n",
       "      <th>27</th>\n",
       "      <td>8631.6</td>\n",
       "      <td>2794.3</td>\n",
       "    </tr>\n",
       "    <tr>\n",
       "      <th>28</th>\n",
       "      <td>9366.7</td>\n",
       "      <td>8692.0</td>\n",
       "    </tr>\n",
       "    <tr>\n",
       "      <th>29</th>\n",
       "      <td>2666.7</td>\n",
       "      <td>2697.0</td>\n",
       "    </tr>\n",
       "  </tbody>\n",
       "</table>\n",
       "</div>"
      ],
      "text/plain": [
       "        생산량      예측값\n",
       "0    1294.1   1454.2\n",
       "1    6620.7   7172.3\n",
       "2    3280.0   5132.6\n",
       "3    3897.0   3375.8\n",
       "4     880.0   5530.4\n",
       "5   49923.1   8788.6\n",
       "6    3090.9   2951.0\n",
       "7    2345.5   1940.6\n",
       "8   12666.7  12103.3\n",
       "9     600.0    691.0\n",
       "10    800.0    142.7\n",
       "11   5333.3   6580.6\n",
       "12   4300.0   1364.6\n",
       "13    476.2     93.0\n",
       "14   3600.0   2250.0\n",
       "15   2648.2    559.6\n",
       "16   7878.8   3466.3\n",
       "17   8888.9   8845.3\n",
       "18   6666.7   6145.8\n",
       "19   2618.2   2882.6\n",
       "20   7857.1   7642.6\n",
       "21   1100.0   1150.4\n",
       "22   3043.5   5263.7\n",
       "23   5671.3   3993.9\n",
       "24   5510.1    480.9\n",
       "25   2810.0   4022.5\n",
       "26   8228.6   3885.8\n",
       "27   8631.6   2794.3\n",
       "28   9366.7   8692.0\n",
       "29   2666.7   2697.0"
      ]
     },
     "execution_count": 59,
     "metadata": {},
     "output_type": "execute_result"
    }
   ],
   "source": [
    "inverse_transformed_pred = pd.Series(np.round(inverse_transformed_pred,1), name='예측값')\n",
    "inverse_transformed_y_test= pd.Series(np.round(inverse_transformed_y_test,1), name='생산량')\n",
    "result = pd.concat([inverse_transformed_y_test, inverse_transformed_pred], axis=1)\n",
    "result[:30]"
   ]
  },
  {
   "cell_type": "markdown",
   "id": "499b9206",
   "metadata": {},
   "source": [
    "# 2018-2019 prediction"
   ]
  },
  {
   "cell_type": "code",
   "execution_count": 60,
   "id": "040b7787",
   "metadata": {},
   "outputs": [],
   "source": [
    "import os\n",
    "import pandas as pd\n",
    "import numpy as np\n",
    "\n",
    "\n",
    "def load_data(path, year):\n",
    "    use_cols = ['age1',\n",
    "                'land', \n",
    "                'cvl00_2', 'cvl10_2', 'cvl20_2',\n",
    "                'labch_2', 'labh_hour_2', 'lab_cost',\n",
    "                'fmtc_2', 'lansh_2',\n",
    "                'size', 'ara', 'de2',# catecorical variable\n",
    "                'cony_2'] # dependent variable\n",
    "    \n",
    "    # 2018\n",
    "    if year == 2018:\n",
    "        file_path1 = os.path.join(path, '2018년/2018년 임산물생산비조사_통합 데이터_6. 더덕_3년 1기작(엑셀 1).xls')\n",
    "        file_path2 = os.path.join(path, '2018년/2018년 임산물생산비조사_통합 데이터_6. 더덕_3년 1기작(엑셀 2).xls')\n",
    "        forest_data1 = pd.read_excel(file_path1)\n",
    "        forest_data2 = pd.read_excel(file_path2)\n",
    "        forest_2018 = pd.concat([forest_data1, forest_data2], axis=1)\n",
    "        data = forest_2018.loc[:,use_cols]\n",
    "        print(2018, data.shape)\n",
    "        \n",
    "    elif year == 2019:\n",
    "        file_path = os.path.join(path, '2019년/2019년 임산물생산비조사_통합 데이터_6. 더덕3년1기작(수정3).xlsx')\n",
    "        forest_2019 = pd.read_excel(file_path).loc[:,use_cols]\n",
    "        data = forest_2019\n",
    "        print(2019, data.shape)\n",
    "    else:\n",
    "        print('year must be in 2018, 2019')\n",
    "    \n",
    "    return data"
   ]
  },
  {
   "cell_type": "code",
   "execution_count": 87,
   "id": "c00c4e77",
   "metadata": {},
   "outputs": [
    {
     "name": "stdout",
     "output_type": "stream",
     "text": [
      "2019 (91, 14)\n"
     ]
    }
   ],
   "source": [
    "data = load_data('./임산물생산비조사 마이크로데이터(2010-2019)', 2019)"
   ]
  },
  {
   "cell_type": "code",
   "execution_count": 88,
   "id": "6f668e3e",
   "metadata": {},
   "outputs": [],
   "source": [
    "data.loc[:, ['cvl00_2', 'cvl10_2', 'cvl20_2']] = np.log1p(data.loc[:, ['cvl00_2', 'cvl10_2', 'cvl20_2']])\n",
    "data.loc[:, ['fmtc_2', 'lansh_2']] = np.log1p(data.loc[:, ['fmtc_2', 'lansh_2']])\n",
    "data.loc[:, ['labch_2', 'labh_hour_2', 'lab_cost']] = np.log1p(data.loc[:, ['labch_2', 'labh_hour_2', 'lab_cost']])"
   ]
  },
  {
   "cell_type": "code",
   "execution_count": 89,
   "id": "951de5f9",
   "metadata": {},
   "outputs": [],
   "source": [
    "data['cony_2'] = np.log1p(data['cony_2'])"
   ]
  },
  {
   "cell_type": "code",
   "execution_count": 90,
   "id": "b392ca89",
   "metadata": {},
   "outputs": [],
   "source": [
    "data.replace({'labch_2' : {0 : np.nan},\n",
    "              'labh_hour_2' : {0 : np.nan},\n",
    "              'lab_cost' : {0 : np.nan},\n",
    "              'lansh_2' : {0 : np.nan}},\n",
    "             inplace=True)"
   ]
  },
  {
   "cell_type": "code",
   "execution_count": 91,
   "id": "36d04f73",
   "metadata": {},
   "outputs": [
    {
     "name": "stdout",
     "output_type": "stream",
     "text": [
      "age1           0\n",
      "land           0\n",
      "cvl00_2        0\n",
      "cvl10_2        0\n",
      "cvl20_2        0\n",
      "labch_2        1\n",
      "labh_hour_2    1\n",
      "lab_cost       1\n",
      "fmtc_2         0\n",
      "lansh_2        0\n",
      "size           0\n",
      "ara            0\n",
      "de2            0\n",
      "cony_2         0\n",
      "dtype: int64\n"
     ]
    }
   ],
   "source": [
    "if data.isnull().sum().sum() > 0:\n",
    "    print(data.isnull().sum())\n",
    "    data.fillna(data.mean(), inplace=True)"
   ]
  },
  {
   "cell_type": "code",
   "execution_count": 92,
   "id": "c25dc18a",
   "metadata": {},
   "outputs": [
    {
     "name": "stdout",
     "output_type": "stream",
     "text": [
      "[array([1, 2, 3, 4, 5]), array([32, 33, 37, 39, 99]), array([1, 2])]\n",
      "(91, 12)\n"
     ]
    }
   ],
   "source": [
    "from sklearn.preprocessing import OneHotEncoder\n",
    "\n",
    "categorical_variables = ['size', 'ara', 'de2']\n",
    "onehot = onehot_encoder.transform(data.loc[:, categorical_variables])\n",
    "print(onehot_encoder.categories_)\n",
    "print(onehot.toarray().shape)"
   ]
  },
  {
   "cell_type": "code",
   "execution_count": 93,
   "id": "e3f193f7",
   "metadata": {
    "scrolled": true
   },
   "outputs": [
    {
     "data": {
      "text/plain": [
       "array([[0.71698113, 0.98864752, 0.07349941, 0.09260307, 0.        ,\n",
       "        0.76696585, 0.73900679, 0.84514757, 0.64193413, 0.76651457],\n",
       "       [0.69811321, 0.98864752, 0.19323687, 0.        , 0.19804895,\n",
       "        0.77855899, 0.77281956, 0.91436051, 0.59637619, 0.69292687],\n",
       "       [0.54716981, 0.98864752, 0.08041256, 0.10065565, 0.        ,\n",
       "        0.51156645, 0.48481903, 0.75234049, 0.39124125, 0.70233161],\n",
       "       [0.79245283, 0.98864752, 0.04157377, 0.05541543, 0.        ,\n",
       "        0.80855781, 0.77693525, 0.79386464, 0.68271941, 0.66780574],\n",
       "       [0.58490566, 0.98864752, 0.20251352, 0.        , 0.20727026,\n",
       "        0.67635386, 0.66153694, 0.87528984, 0.50872325, 0.66725018],\n",
       "       [0.50943396, 0.98864752, 0.32486687, 0.        , 0.32889382,\n",
       "        0.67236174, 0.66254157, 0.92676253, 0.48348039, 0.65878489],\n",
       "       [0.73584906, 0.98864752, 0.08939139, 0.        , 0.09482287,\n",
       "        0.61226775, 0.58269629, 0.84631678, 0.49166145, 0.75232044],\n",
       "       [0.71698113, 0.98864752, 0.3483377 , 0.41274031, 0.        ,\n",
       "        0.50602253, 0.46353999, 0.83244979, 0.31051978, 0.61302581],\n",
       "       [0.49056604, 0.98864752, 0.36481982, 0.43193903, 0.        ,\n",
       "        0.53273621, 0.47247463, 0.82864604, 0.33858564, 0.58651386],\n",
       "       [0.47169811, 0.98864752, 0.33289418, 0.        , 0.33687325,\n",
       "        0.39310224, 0.33086695, 0.76492075, 0.22197506, 0.55819409],\n",
       "       [0.49056604, 0.98864752, 0.17041864, 0.        , 0.17536682,\n",
       "        0.74460749, 0.71489268, 0.89673627, 0.63544596, 0.71447673],\n",
       "       [0.58490566, 0.98864752, 0.41178406, 0.        , 0.41529258,\n",
       "        0.60754083, 0.57718976, 0.90845484, 0.45756318, 0.71641643],\n",
       "       [0.37735849, 0.98864752, 0.35669081, 0.        , 0.36052794,\n",
       "        0.77656188, 0.76926967, 0.97353809, 0.62208323, 0.69310851],\n",
       "       [0.60377358, 0.98864752, 0.16008764, 0.19346281, 0.        ,\n",
       "        0.67680898, 0.65029597, 0.8635955 , 0.47980869, 0.61736187],\n",
       "       [0.45283019, 0.98864752, 0.31973962, 0.        , 0.32379715,\n",
       "        0.46862948, 0.43096268, 0.81697621, 0.41196429, 0.74550469],\n",
       "       [0.50943396, 0.98864752, 0.24900563, 0.        , 0.25348506,\n",
       "        0.66532886, 0.65059497, 0.91090829, 0.51650452, 0.63851629],\n",
       "       [0.58490566, 0.98864752, 0.24900563, 0.        , 0.25348506,\n",
       "        0.79468545, 0.7934121 , 0.94004671, 0.65495723, 0.67874474],\n",
       "       [0.43396226, 0.98864752, 0.0567276 , 0.07306692, 0.        ,\n",
       "        0.86410939, 0.84107755, 0.87358143, 0.73753139, 0.70057303],\n",
       "       [0.62264151, 0.98864752, 0.35669081, 0.        , 0.36052794,\n",
       "        0.83605908, 0.8209511 , 0.99997732, 0.75748429, 0.76318469],\n",
       "       [0.52830189, 0.98864752, 0.47924685, 0.        , 0.48235297,\n",
       "        0.75829918, 0.75069801, 0.9911279 , 0.65886999, 0.79921821],\n",
       "       [0.1509434 , 0.98864752, 0.18848983, 0.09260307, 0.1415679 ,\n",
       "        0.55872858, 0.53244628, 0.83873173, 0.42695174, 0.67770392],\n",
       "       [0.30188679, 0.98864752, 0.10237967, 0.        , 0.10773368,\n",
       "        0.75981386, 0.75463568, 0.88024696, 0.56930558, 0.63586003],\n",
       "       [0.32075472, 0.98864752, 0.20403238, 0.        , 0.20878007,\n",
       "        0.4169253 , 0.35129951, 0.74355608, 0.39726298, 0.68879238],\n",
       "       [0.67924528, 0.98864752, 0.0567276 , 0.07306692, 0.        ,\n",
       "        0.68242424, 0.65903541, 0.7602849 , 0.51017087, 0.67346633],\n",
       "       [0.35849057, 0.98864752, 0.32486687, 0.        , 0.32889382,\n",
       "        0.83016337, 0.81407517, 0.98975817, 0.72220724, 0.74663367],\n",
       "       [0.32075472, 0.98864752, 0.27043337, 0.        , 0.274785  ,\n",
       "        0.73066897, 0.72078415, 0.92599934, 0.56806843, 0.69885569],\n",
       "       [0.50943396, 0.98864752, 0.11686088, 0.        , 0.12212851,\n",
       "        0.52681964, 0.49813661, 0.75917642, 0.42379368, 0.74496978],\n",
       "       [0.26415094, 0.98864752, 0.08041256, 0.10065565, 0.        ,\n",
       "        0.60658445, 0.56491281, 0.74986001, 0.42327756, 0.67274808],\n",
       "       [0.39622642, 0.98864752, 0.06161501, 0.        , 0.06721217,\n",
       "        0.61496853, 0.58464426, 0.7380624 , 0.40719905, 0.67784252],\n",
       "       [0.20754717, 0.98864752, 0.14757204, 0.        , 0.15265649,\n",
       "        0.74064126, 0.73363539, 0.87359795, 0.58533629, 0.70502702],\n",
       "       [0.60377358, 0.98864752, 0.42448932, 0.        , 0.42792205,\n",
       "        0.63093612, 0.61725345, 0.92680441, 0.5823062 , 0.82244919],\n",
       "       [0.50943396, 0.98864752, 0.20251352, 0.24288133, 0.        ,\n",
       "        0.58154098, 0.56969842, 0.83920169, 0.38951055, 0.67603597],\n",
       "       [0.16981132, 0.98864752, 0.32689372, 0.        , 0.33090858,\n",
       "        0.78347001, 0.77802815, 0.96658046, 0.62383643, 0.69734223],\n",
       "       [0.16981132, 0.98864752, 0.14757204, 0.        , 0.15265649,\n",
       "        0.50939187, 0.4842559 , 0.80431379, 0.35223329, 0.67753903],\n",
       "       [0.47169811, 0.98864752, 0.03103311, 0.04313746, 0.        ,\n",
       "        0.67257111, 0.65061808, 0.79413519, 0.49369548, 0.67346633],\n",
       "       [0.88679245, 0.98864752, 0.07349941, 0.09260307, 0.        ,\n",
       "        0.40948667, 0.37133143, 0.66646441, 0.16915316, 0.51938662],\n",
       "       [0.30188679, 0.98864752, 0.25030891, 0.29855439, 0.        ,\n",
       "        0.54470001, 0.52302877, 0.83702354, 0.25981775, 0.4721735 ],\n",
       "       [0.30188679, 0.98864752, 0.06402947, 0.0815723 , 0.        ,\n",
       "        0.64936207, 0.61638162, 0.78418858, 0.38673378, 0.56052092],\n",
       "       [0.05660377, 0.98864752, 0.20266575, 0.24305866, 0.        ,\n",
       "        0.28017645, 0.23052077, 0.68025207, 0.22845952, 0.55782615],\n",
       "       [0.66037736, 0.98864752, 0.14757204, 0.17888438, 0.        ,\n",
       "        0.66501176, 0.63893004, 0.81080233, 0.42091074, 0.5579933 ],\n",
       "       [0.64150943, 0.98864752, 0.11686088, 0.14311139, 0.        ,\n",
       "        0.78796337, 0.79499709, 0.87434055, 0.59917702, 0.41528596],\n",
       "       [0.58490566, 0.98864752, 0.04157377, 0.05541543, 0.        ,\n",
       "        0.90536798, 0.90169122, 0.86184676, 0.82277098, 0.68025587],\n",
       "       [0.56603774, 0.98864752, 0.11686088, 0.        , 0.12212851,\n",
       "        0.78505904, 0.78072543, 0.90239412, 0.64844401, 0.77484869],\n",
       "       [0.49056604, 0.98864752, 0.35669081, 0.        , 0.36052794,\n",
       "        0.57787275, 0.54742007, 0.86909529, 0.39483831, 0.66206333],\n",
       "       [0.49056604, 0.98864752, 0.00878361, 0.        , 0.01469589,\n",
       "        0.83101925, 0.80550099, 0.77387037, 0.76555389, 0.80584889],\n",
       "       [0.60377358, 0.98864752, 0.20251352, 0.15010085, 0.11398731,\n",
       "        0.41081213, 0.38971095, 0.73203011, 0.20562928, 0.54853037],\n",
       "       [0.71698113, 0.98864752, 0.14757204, 0.        , 0.15265649,\n",
       "        0.48904505, 0.45418373, 0.81085457, 0.31258196, 0.67922794],\n",
       "       [0.39622642, 0.98864752, 0.41406523, 0.        , 0.41756014,\n",
       "        0.63345893, 0.61634908, 0.91082014, 0.49064   , 0.70727526],\n",
       "       [0.69811321, 0.98864752, 0.43738545, 0.51646496, 0.        ,\n",
       "        0.51190405, 0.43812989, 0.83805754, 0.28853793, 0.55195024],\n",
       "       [0.79245283, 0.98864752, 0.3585162 , 0.42459644, 0.        ,\n",
       "        0.68572726, 0.66209122, 0.84108833, 0.08347889, 0.47199576],\n",
       "       [0.71698113, 0.98864752, 0.0228798 , 0.03364031, 0.        ,\n",
       "        0.75012805, 0.72688   , 0.75606722, 0.55585734, 0.67527571],\n",
       "       [0.8490566 , 0.98864752, 0.0567276 , 0.07306692, 0.        ,\n",
       "        0.68557988, 0.66341496, 0.76153698, 0.45327782, 0.67346633],\n",
       "       [0.83018868, 0.98864752, 0.14757204, 0.17888438, 0.        ,\n",
       "        0.69080473, 0.67978353, 0.83080448, 0.49840515, 0.73987534],\n",
       "       [0.81132075, 0.98864752, 0.08041256, 0.10065565, 0.        ,\n",
       "        0.73537353, 0.74043526, 0.80416579, 0.51265244, 0.67878587],\n",
       "       [0.01886792, 0.98864752, 0.35760488, 0.        , 0.36143656,\n",
       "        0.68282077, 0.67188079, 0.91983235, 0.56355304, 0.73764082],\n",
       "       [0.41509434, 0.98864752, 0.17711534, 0.        , 0.18202358,\n",
       "        0.75757435, 0.74400901, 0.93252607, 0.56125376, 0.67845287],\n",
       "       [0.47169811, 0.98864752, 0.32486687, 0.        , 0.32889382,\n",
       "        0.70082373, 0.69706919, 0.92409142, 0.58746522, 0.74748051],\n",
       "       [0.20754717, 0.98864752, 0.53439088, 0.        , 0.53716808,\n",
       "        0.82457496, 0.81869644, 1.02166305, 0.71872509, 0.74646653],\n",
       "       [0.45283019, 0.98864752, 0.13641691, 0.        , 0.1415679 ,\n",
       "        0.75796553, 0.75277552, 0.92442268, 0.6044592 , 0.73052162],\n",
       "       [0.64150943, 0.98864752, 0.07349941, 0.09260307, 0.        ,\n",
       "        0.72095666, 0.72257407, 0.82181897, 0.53127421, 0.68852727],\n",
       "       [0.11320755, 0.98864752, 0.14757204, 0.        , 0.15265649,\n",
       "        0.69388782, 0.68083727, 0.85867576, 0.56660068, 0.63349934],\n",
       "       [0.43396226, 0.98864752, 0.08939139, 0.        , 0.09482287,\n",
       "        0.64693105, 0.62231614, 0.80683373, 0.49051585, 0.63282222],\n",
       "       [0.43396226, 0.98864752, 0.20251352, 0.        , 0.20727026,\n",
       "        0.34940965, 0.32097945, 0.75239067, 0.28752068, 0.58955167],\n",
       "       [0.30188679, 0.98864752, 0.08041256, 0.        , 0.0858976 ,\n",
       "        0.75706277, 0.74404368, 0.80956617, 0.59614824, 0.67950642],\n",
       "       [0.75471698, 0.98864752, 0.04157377, 0.05541543, 0.        ,\n",
       "        0.86933596, 0.8432531 , 0.83522428, 0.76703682, 0.66780574],\n",
       "       [0.71698113, 0.98864752, 0.09595512, 0.        , 0.10134745,\n",
       "        0.73565041, 0.70626946, 0.86463986, 0.61731716, 0.74600775],\n",
       "       [0.62264151, 0.98864752, 0.20251352, 0.        , 0.20727026,\n",
       "        0.64612962, 0.62551324, 0.86584229, 0.47978402, 0.71367791],\n",
       "       [0.60377358, 0.98864752, 0.16529717, 0.19953097, 0.        ,\n",
       "        0.36594194, 0.35334007, 0.73758379, 0.17217033, 0.55777532],\n",
       "       [0.71698113, 0.85717193, 0.12286134, 0.        , 0.12809318,\n",
       "        0.63335733, 0.59859035, 0.78629264, 0.33241329, 0.41752261],\n",
       "       [0.69811321, 0.85717193, 0.07349941, 0.09260307, 0.        ,\n",
       "        0.69361728, 0.67235402, 0.81696021, 0.4301399 , 0.51472275],\n",
       "       [0.62264151, 0.85717193, 0.0567276 , 0.        , 0.0623539 ,\n",
       "        0.83155565, 0.80310209, 0.86371157, 0.65819979, 0.5226035 ],\n",
       "       [0.71698113, 0.85717193, 0.0228798 , 0.03364031, 0.        ,\n",
       "        0.85738199, 0.83483515, 0.83602333, 0.67206091, 0.50187384],\n",
       "       [0.69811321, 0.85717193, 0.03103311, 0.04313746, 0.        ,\n",
       "        0.86868579, 0.84495525, 0.85216323, 0.70998575, 0.56052092],\n",
       "       [0.58490566, 0.85717193, 0.07349941, 0.        , 0.07902568,\n",
       "        0.64574356, 0.60236345, 0.7602053 , 0.40801387, 0.58053081],\n",
       "       [0.18867925, 0.85717193, 0.11686088, 0.09260307, 0.05491634,\n",
       "        0.61429295, 0.57095797, 0.79315074, 0.3486672 , 0.49193869],\n",
       "       [0.45283019, 0.85717193, 0.24900563, 0.10065565, 0.20727026,\n",
       "        0.69069148, 0.67637965, 0.89315182, 0.40825554, 0.52311219],\n",
       "       [0.32075472, 0.85717193, 0.0492454 , 0.        , 0.05491634,\n",
       "        0.82077757, 0.7923711 , 0.84225168, 0.63205087, 0.5253767 ],\n",
       "       [0.50943396, 0.85717193, 0.11073919, 0.        , 0.11604333,\n",
       "        0.76449911, 0.73954043, 0.84591516, 0.5837134 , 0.56190939],\n",
       "       [0.83018868, 0.85717193, 0.02011253, 0.        , 0.02595724,\n",
       "        0.72726803, 0.68528762, 0.75238695, 0.46188463, 0.53290328],\n",
       "       [0.64150943, 0.85717193, 0.03103311, 0.        , 0.03681268,\n",
       "        0.86839741, 0.83845918, 0.85973894, 0.73339053, 0.63787302],\n",
       "       [0.30188679, 0.91337177, 0.20251352, 0.24288133, 0.        ,\n",
       "        0.77729428, 0.75024092, 0.9024254 , 0.51761756, 0.2580662 ],\n",
       "       [0.13207547, 0.91337177, 0.03103311, 0.04313746, 0.        ,\n",
       "        0.7754941 , 0.7315657 , 0.77849608, 0.54745842, 0.44576616],\n",
       "       [0.52830189, 0.91337177, 0.06402947, 0.0815723 , 0.        ,\n",
       "        0.91722246, 0.89231384, 0.92201554, 0.83229982, 0.62375793],\n",
       "       [0.43396226, 0.91337177, 0.03897278, 0.        , 0.04470499,\n",
       "        0.82659211, 0.82567106, 0.858651  , 0.69981449, 0.63819513],\n",
       "       [0.43396226, 0.64788333, 0.0228798 , 0.03364031, 0.        ,\n",
       "        0.75245989, 0.73017696, 0.75240133, 0.50971145, 0.33750468],\n",
       "       [0.83018868, 0.64788333, 0.02833964, 0.04000005, 0.        ,\n",
       "        0.84854423, 0.82483941, 0.792707  , 0.72700944, 0.78583899],\n",
       "       [0.43396226, 0.64788333, 0.0116558 , 0.02056637, 0.        ,\n",
       "        0.70681959, 0.66287059, 0.73793075, 0.59212679, 0.54307784],\n",
       "       [0.71698113, 0.64788333, 0.01450101, 0.02388053, 0.        ,\n",
       "        0.81428567, 0.78620183, 0.79884993, 0.66295135, 0.65415129],\n",
       "       [0.75471698, 0.64788333, 0.07812566, 0.09799182, 0.        ,\n",
       "        0.79644647, 0.77329356, 0.83062809, 0.61592012, 0.63021498],\n",
       "       [0.66037736, 0.64788333, 0.03634927, 0.04932983, 0.        ,\n",
       "        0.83064583, 0.80741241, 0.79581026, 0.62924309, 0.57377248],\n",
       "       [0.47169811, 0.64788333, 0.27764832, 0.33039988, 0.        ,\n",
       "        0.70441748, 0.66141402, 0.90100621, 0.55237787, 0.65364111]])"
      ]
     },
     "execution_count": 93,
     "metadata": {},
     "output_type": "execute_result"
    }
   ],
   "source": [
    "from sklearn.preprocessing import MinMaxScaler\n",
    "\n",
    "X_scaled = X_minmax_scaler.transform(data.loc[:, numerical_variables])\n",
    "X_scaled"
   ]
  },
  {
   "cell_type": "code",
   "execution_count": 94,
   "id": "86982de3",
   "metadata": {},
   "outputs": [
    {
     "data": {
      "text/html": [
       "<div>\n",
       "<style scoped>\n",
       "    .dataframe tbody tr th:only-of-type {\n",
       "        vertical-align: middle;\n",
       "    }\n",
       "\n",
       "    .dataframe tbody tr th {\n",
       "        vertical-align: top;\n",
       "    }\n",
       "\n",
       "    .dataframe thead th {\n",
       "        text-align: right;\n",
       "    }\n",
       "</style>\n",
       "<table border=\"1\" class=\"dataframe\">\n",
       "  <thead>\n",
       "    <tr style=\"text-align: right;\">\n",
       "      <th></th>\n",
       "      <th>age1</th>\n",
       "      <th>land</th>\n",
       "      <th>cvl00_2</th>\n",
       "      <th>cvl10_2</th>\n",
       "      <th>cvl20_2</th>\n",
       "      <th>labch_2</th>\n",
       "      <th>labh_hour_2</th>\n",
       "      <th>lab_cost</th>\n",
       "      <th>fmtc_2</th>\n",
       "      <th>lansh_2</th>\n",
       "      <th>...</th>\n",
       "      <th>2</th>\n",
       "      <th>3</th>\n",
       "      <th>4</th>\n",
       "      <th>5</th>\n",
       "      <th>6</th>\n",
       "      <th>7</th>\n",
       "      <th>8</th>\n",
       "      <th>9</th>\n",
       "      <th>10</th>\n",
       "      <th>11</th>\n",
       "    </tr>\n",
       "  </thead>\n",
       "  <tbody>\n",
       "    <tr>\n",
       "      <th>0</th>\n",
       "      <td>0.716981</td>\n",
       "      <td>0.988648</td>\n",
       "      <td>0.073499</td>\n",
       "      <td>0.092603</td>\n",
       "      <td>0.000000</td>\n",
       "      <td>0.766966</td>\n",
       "      <td>0.739007</td>\n",
       "      <td>0.845148</td>\n",
       "      <td>0.641934</td>\n",
       "      <td>0.766515</td>\n",
       "      <td>...</td>\n",
       "      <td>1.0</td>\n",
       "      <td>0.0</td>\n",
       "      <td>0.0</td>\n",
       "      <td>1.0</td>\n",
       "      <td>0.0</td>\n",
       "      <td>0.0</td>\n",
       "      <td>0.0</td>\n",
       "      <td>0.0</td>\n",
       "      <td>0.0</td>\n",
       "      <td>1.0</td>\n",
       "    </tr>\n",
       "    <tr>\n",
       "      <th>1</th>\n",
       "      <td>0.698113</td>\n",
       "      <td>0.988648</td>\n",
       "      <td>0.193237</td>\n",
       "      <td>0.000000</td>\n",
       "      <td>0.198049</td>\n",
       "      <td>0.778559</td>\n",
       "      <td>0.772820</td>\n",
       "      <td>0.914361</td>\n",
       "      <td>0.596376</td>\n",
       "      <td>0.692927</td>\n",
       "      <td>...</td>\n",
       "      <td>0.0</td>\n",
       "      <td>0.0</td>\n",
       "      <td>1.0</td>\n",
       "      <td>1.0</td>\n",
       "      <td>0.0</td>\n",
       "      <td>0.0</td>\n",
       "      <td>0.0</td>\n",
       "      <td>0.0</td>\n",
       "      <td>0.0</td>\n",
       "      <td>1.0</td>\n",
       "    </tr>\n",
       "    <tr>\n",
       "      <th>2</th>\n",
       "      <td>0.547170</td>\n",
       "      <td>0.988648</td>\n",
       "      <td>0.080413</td>\n",
       "      <td>0.100656</td>\n",
       "      <td>0.000000</td>\n",
       "      <td>0.511566</td>\n",
       "      <td>0.484819</td>\n",
       "      <td>0.752340</td>\n",
       "      <td>0.391241</td>\n",
       "      <td>0.702332</td>\n",
       "      <td>...</td>\n",
       "      <td>1.0</td>\n",
       "      <td>0.0</td>\n",
       "      <td>0.0</td>\n",
       "      <td>1.0</td>\n",
       "      <td>0.0</td>\n",
       "      <td>0.0</td>\n",
       "      <td>0.0</td>\n",
       "      <td>0.0</td>\n",
       "      <td>0.0</td>\n",
       "      <td>1.0</td>\n",
       "    </tr>\n",
       "    <tr>\n",
       "      <th>3</th>\n",
       "      <td>0.792453</td>\n",
       "      <td>0.988648</td>\n",
       "      <td>0.041574</td>\n",
       "      <td>0.055415</td>\n",
       "      <td>0.000000</td>\n",
       "      <td>0.808558</td>\n",
       "      <td>0.776935</td>\n",
       "      <td>0.793865</td>\n",
       "      <td>0.682719</td>\n",
       "      <td>0.667806</td>\n",
       "      <td>...</td>\n",
       "      <td>0.0</td>\n",
       "      <td>0.0</td>\n",
       "      <td>0.0</td>\n",
       "      <td>1.0</td>\n",
       "      <td>0.0</td>\n",
       "      <td>0.0</td>\n",
       "      <td>0.0</td>\n",
       "      <td>0.0</td>\n",
       "      <td>0.0</td>\n",
       "      <td>1.0</td>\n",
       "    </tr>\n",
       "    <tr>\n",
       "      <th>4</th>\n",
       "      <td>0.584906</td>\n",
       "      <td>0.988648</td>\n",
       "      <td>0.202514</td>\n",
       "      <td>0.000000</td>\n",
       "      <td>0.207270</td>\n",
       "      <td>0.676354</td>\n",
       "      <td>0.661537</td>\n",
       "      <td>0.875290</td>\n",
       "      <td>0.508723</td>\n",
       "      <td>0.667250</td>\n",
       "      <td>...</td>\n",
       "      <td>0.0</td>\n",
       "      <td>1.0</td>\n",
       "      <td>0.0</td>\n",
       "      <td>1.0</td>\n",
       "      <td>0.0</td>\n",
       "      <td>0.0</td>\n",
       "      <td>0.0</td>\n",
       "      <td>0.0</td>\n",
       "      <td>0.0</td>\n",
       "      <td>1.0</td>\n",
       "    </tr>\n",
       "    <tr>\n",
       "      <th>...</th>\n",
       "      <td>...</td>\n",
       "      <td>...</td>\n",
       "      <td>...</td>\n",
       "      <td>...</td>\n",
       "      <td>...</td>\n",
       "      <td>...</td>\n",
       "      <td>...</td>\n",
       "      <td>...</td>\n",
       "      <td>...</td>\n",
       "      <td>...</td>\n",
       "      <td>...</td>\n",
       "      <td>...</td>\n",
       "      <td>...</td>\n",
       "      <td>...</td>\n",
       "      <td>...</td>\n",
       "      <td>...</td>\n",
       "      <td>...</td>\n",
       "      <td>...</td>\n",
       "      <td>...</td>\n",
       "      <td>...</td>\n",
       "      <td>...</td>\n",
       "    </tr>\n",
       "    <tr>\n",
       "      <th>86</th>\n",
       "      <td>0.433962</td>\n",
       "      <td>0.647883</td>\n",
       "      <td>0.011656</td>\n",
       "      <td>0.020566</td>\n",
       "      <td>0.000000</td>\n",
       "      <td>0.706820</td>\n",
       "      <td>0.662871</td>\n",
       "      <td>0.737931</td>\n",
       "      <td>0.592127</td>\n",
       "      <td>0.543078</td>\n",
       "      <td>...</td>\n",
       "      <td>0.0</td>\n",
       "      <td>0.0</td>\n",
       "      <td>0.0</td>\n",
       "      <td>0.0</td>\n",
       "      <td>0.0</td>\n",
       "      <td>0.0</td>\n",
       "      <td>0.0</td>\n",
       "      <td>1.0</td>\n",
       "      <td>0.0</td>\n",
       "      <td>1.0</td>\n",
       "    </tr>\n",
       "    <tr>\n",
       "      <th>87</th>\n",
       "      <td>0.716981</td>\n",
       "      <td>0.647883</td>\n",
       "      <td>0.014501</td>\n",
       "      <td>0.023881</td>\n",
       "      <td>0.000000</td>\n",
       "      <td>0.814286</td>\n",
       "      <td>0.786202</td>\n",
       "      <td>0.798850</td>\n",
       "      <td>0.662951</td>\n",
       "      <td>0.654151</td>\n",
       "      <td>...</td>\n",
       "      <td>0.0</td>\n",
       "      <td>0.0</td>\n",
       "      <td>0.0</td>\n",
       "      <td>0.0</td>\n",
       "      <td>0.0</td>\n",
       "      <td>0.0</td>\n",
       "      <td>0.0</td>\n",
       "      <td>1.0</td>\n",
       "      <td>0.0</td>\n",
       "      <td>1.0</td>\n",
       "    </tr>\n",
       "    <tr>\n",
       "      <th>88</th>\n",
       "      <td>0.754717</td>\n",
       "      <td>0.647883</td>\n",
       "      <td>0.078126</td>\n",
       "      <td>0.097992</td>\n",
       "      <td>0.000000</td>\n",
       "      <td>0.796446</td>\n",
       "      <td>0.773294</td>\n",
       "      <td>0.830628</td>\n",
       "      <td>0.615920</td>\n",
       "      <td>0.630215</td>\n",
       "      <td>...</td>\n",
       "      <td>0.0</td>\n",
       "      <td>0.0</td>\n",
       "      <td>0.0</td>\n",
       "      <td>0.0</td>\n",
       "      <td>0.0</td>\n",
       "      <td>0.0</td>\n",
       "      <td>0.0</td>\n",
       "      <td>1.0</td>\n",
       "      <td>0.0</td>\n",
       "      <td>1.0</td>\n",
       "    </tr>\n",
       "    <tr>\n",
       "      <th>89</th>\n",
       "      <td>0.660377</td>\n",
       "      <td>0.647883</td>\n",
       "      <td>0.036349</td>\n",
       "      <td>0.049330</td>\n",
       "      <td>0.000000</td>\n",
       "      <td>0.830646</td>\n",
       "      <td>0.807412</td>\n",
       "      <td>0.795810</td>\n",
       "      <td>0.629243</td>\n",
       "      <td>0.573772</td>\n",
       "      <td>...</td>\n",
       "      <td>0.0</td>\n",
       "      <td>0.0</td>\n",
       "      <td>0.0</td>\n",
       "      <td>0.0</td>\n",
       "      <td>0.0</td>\n",
       "      <td>0.0</td>\n",
       "      <td>0.0</td>\n",
       "      <td>1.0</td>\n",
       "      <td>0.0</td>\n",
       "      <td>1.0</td>\n",
       "    </tr>\n",
       "    <tr>\n",
       "      <th>90</th>\n",
       "      <td>0.471698</td>\n",
       "      <td>0.647883</td>\n",
       "      <td>0.277648</td>\n",
       "      <td>0.330400</td>\n",
       "      <td>0.000000</td>\n",
       "      <td>0.704417</td>\n",
       "      <td>0.661414</td>\n",
       "      <td>0.901006</td>\n",
       "      <td>0.552378</td>\n",
       "      <td>0.653641</td>\n",
       "      <td>...</td>\n",
       "      <td>0.0</td>\n",
       "      <td>0.0</td>\n",
       "      <td>1.0</td>\n",
       "      <td>0.0</td>\n",
       "      <td>0.0</td>\n",
       "      <td>0.0</td>\n",
       "      <td>0.0</td>\n",
       "      <td>1.0</td>\n",
       "      <td>1.0</td>\n",
       "      <td>0.0</td>\n",
       "    </tr>\n",
       "  </tbody>\n",
       "</table>\n",
       "<p>91 rows × 22 columns</p>\n",
       "</div>"
      ],
      "text/plain": [
       "        age1      land   cvl00_2   cvl10_2   cvl20_2   labch_2  labh_hour_2  \\\n",
       "0   0.716981  0.988648  0.073499  0.092603  0.000000  0.766966     0.739007   \n",
       "1   0.698113  0.988648  0.193237  0.000000  0.198049  0.778559     0.772820   \n",
       "2   0.547170  0.988648  0.080413  0.100656  0.000000  0.511566     0.484819   \n",
       "3   0.792453  0.988648  0.041574  0.055415  0.000000  0.808558     0.776935   \n",
       "4   0.584906  0.988648  0.202514  0.000000  0.207270  0.676354     0.661537   \n",
       "..       ...       ...       ...       ...       ...       ...          ...   \n",
       "86  0.433962  0.647883  0.011656  0.020566  0.000000  0.706820     0.662871   \n",
       "87  0.716981  0.647883  0.014501  0.023881  0.000000  0.814286     0.786202   \n",
       "88  0.754717  0.647883  0.078126  0.097992  0.000000  0.796446     0.773294   \n",
       "89  0.660377  0.647883  0.036349  0.049330  0.000000  0.830646     0.807412   \n",
       "90  0.471698  0.647883  0.277648  0.330400  0.000000  0.704417     0.661414   \n",
       "\n",
       "    lab_cost    fmtc_2   lansh_2  ...    2    3    4    5    6    7    8    9  \\\n",
       "0   0.845148  0.641934  0.766515  ...  1.0  0.0  0.0  1.0  0.0  0.0  0.0  0.0   \n",
       "1   0.914361  0.596376  0.692927  ...  0.0  0.0  1.0  1.0  0.0  0.0  0.0  0.0   \n",
       "2   0.752340  0.391241  0.702332  ...  1.0  0.0  0.0  1.0  0.0  0.0  0.0  0.0   \n",
       "3   0.793865  0.682719  0.667806  ...  0.0  0.0  0.0  1.0  0.0  0.0  0.0  0.0   \n",
       "4   0.875290  0.508723  0.667250  ...  0.0  1.0  0.0  1.0  0.0  0.0  0.0  0.0   \n",
       "..       ...       ...       ...  ...  ...  ...  ...  ...  ...  ...  ...  ...   \n",
       "86  0.737931  0.592127  0.543078  ...  0.0  0.0  0.0  0.0  0.0  0.0  0.0  1.0   \n",
       "87  0.798850  0.662951  0.654151  ...  0.0  0.0  0.0  0.0  0.0  0.0  0.0  1.0   \n",
       "88  0.830628  0.615920  0.630215  ...  0.0  0.0  0.0  0.0  0.0  0.0  0.0  1.0   \n",
       "89  0.795810  0.629243  0.573772  ...  0.0  0.0  0.0  0.0  0.0  0.0  0.0  1.0   \n",
       "90  0.901006  0.552378  0.653641  ...  0.0  0.0  1.0  0.0  0.0  0.0  0.0  1.0   \n",
       "\n",
       "     10   11  \n",
       "0   0.0  1.0  \n",
       "1   0.0  1.0  \n",
       "2   0.0  1.0  \n",
       "3   0.0  1.0  \n",
       "4   0.0  1.0  \n",
       "..  ...  ...  \n",
       "86  0.0  1.0  \n",
       "87  0.0  1.0  \n",
       "88  0.0  1.0  \n",
       "89  0.0  1.0  \n",
       "90  1.0  0.0  \n",
       "\n",
       "[91 rows x 22 columns]"
      ]
     },
     "execution_count": 94,
     "metadata": {},
     "output_type": "execute_result"
    }
   ],
   "source": [
    "numeric_data_df = pd.DataFrame(X_scaled, columns=numerical_variables)\n",
    "onehot_data_df = pd.DataFrame(onehot.toarray())\n",
    "\n",
    "X_data_df = pd.concat([numeric_data_df , onehot_data_df], axis=1)\n",
    "X_data_df"
   ]
  },
  {
   "cell_type": "code",
   "execution_count": 95,
   "id": "c5a66378",
   "metadata": {},
   "outputs": [],
   "source": [
    "X_test = np.array(X_data_df)\n",
    "y_test = np.array(data['cony_2'])"
   ]
  },
  {
   "cell_type": "code",
   "execution_count": 96,
   "id": "94080028",
   "metadata": {},
   "outputs": [
    {
     "name": "stdout",
     "output_type": "stream",
     "text": [
      "[8.2438913  9.13013243 7.60828089 7.97671069 8.79742726 8.68868282\n",
      " 8.26048847 6.97676968 7.58202987 7.46703045]\n"
     ]
    }
   ],
   "source": [
    "ensemble = EnsembleRegressor(models, weights=optimal_weight)\n",
    "\n",
    "preds = ensemble.predict(X_test)\n",
    "print(preds[:10])"
   ]
  },
  {
   "cell_type": "code",
   "execution_count": 97,
   "id": "9d2b9ae3",
   "metadata": {},
   "outputs": [
    {
     "name": "stdout",
     "output_type": "stream",
     "text": [
      "[3803.31527026 9228.24413174 2013.81143291 2911.33571028 6616.19778608\n",
      " 5934.35914827 3866.98302115 1070.45163509 1961.60875836 1748.40402399]\n",
      "[ 1766.66666667  9032.25806452  1072.72727273  8464.70588235\n",
      "  6957.57575758  2346.96969697 10194.59459459   189.18918919\n",
      "  2005.            38.83495146]\n"
     ]
    }
   ],
   "source": [
    "inverse_transformed_pred = np.expm1(preds)\n",
    "inverse_transformed_pred = np.where(inverse_transformed_pred < 0, 0, inverse_transformed_pred)\n",
    "inverse_transformed_y_test = np.expm1(y_test)\n",
    "\n",
    "print(inverse_transformed_pred[:10])\n",
    "print(inverse_transformed_y_test[:10])"
   ]
  },
  {
   "cell_type": "code",
   "execution_count": 98,
   "id": "04f4f902",
   "metadata": {},
   "outputs": [
    {
     "name": "stdout",
     "output_type": "stream",
     "text": [
      "5288.165534170572\n"
     ]
    }
   ],
   "source": [
    "print(np.sqrt(mean_squared_error(inverse_transformed_y_test, inverse_transformed_pred)))"
   ]
  },
  {
   "cell_type": "code",
   "execution_count": 99,
   "id": "63001feb",
   "metadata": {},
   "outputs": [
    {
     "data": {
      "text/html": [
       "<div>\n",
       "<style scoped>\n",
       "    .dataframe tbody tr th:only-of-type {\n",
       "        vertical-align: middle;\n",
       "    }\n",
       "\n",
       "    .dataframe tbody tr th {\n",
       "        vertical-align: top;\n",
       "    }\n",
       "\n",
       "    .dataframe thead th {\n",
       "        text-align: right;\n",
       "    }\n",
       "</style>\n",
       "<table border=\"1\" class=\"dataframe\">\n",
       "  <thead>\n",
       "    <tr style=\"text-align: right;\">\n",
       "      <th></th>\n",
       "      <th>생산량</th>\n",
       "      <th>예측값</th>\n",
       "    </tr>\n",
       "  </thead>\n",
       "  <tbody>\n",
       "    <tr>\n",
       "      <th>0</th>\n",
       "      <td>1766.7</td>\n",
       "      <td>3803.3</td>\n",
       "    </tr>\n",
       "    <tr>\n",
       "      <th>1</th>\n",
       "      <td>9032.3</td>\n",
       "      <td>9228.2</td>\n",
       "    </tr>\n",
       "    <tr>\n",
       "      <th>2</th>\n",
       "      <td>1072.7</td>\n",
       "      <td>2013.8</td>\n",
       "    </tr>\n",
       "    <tr>\n",
       "      <th>3</th>\n",
       "      <td>8464.7</td>\n",
       "      <td>2911.3</td>\n",
       "    </tr>\n",
       "    <tr>\n",
       "      <th>4</th>\n",
       "      <td>6957.6</td>\n",
       "      <td>6616.2</td>\n",
       "    </tr>\n",
       "    <tr>\n",
       "      <th>5</th>\n",
       "      <td>2347.0</td>\n",
       "      <td>5934.4</td>\n",
       "    </tr>\n",
       "    <tr>\n",
       "      <th>6</th>\n",
       "      <td>10194.6</td>\n",
       "      <td>3867.0</td>\n",
       "    </tr>\n",
       "    <tr>\n",
       "      <th>7</th>\n",
       "      <td>189.2</td>\n",
       "      <td>1070.5</td>\n",
       "    </tr>\n",
       "    <tr>\n",
       "      <th>8</th>\n",
       "      <td>2005.0</td>\n",
       "      <td>1961.6</td>\n",
       "    </tr>\n",
       "    <tr>\n",
       "      <th>9</th>\n",
       "      <td>38.8</td>\n",
       "      <td>1748.4</td>\n",
       "    </tr>\n",
       "    <tr>\n",
       "      <th>10</th>\n",
       "      <td>5592.4</td>\n",
       "      <td>7892.1</td>\n",
       "    </tr>\n",
       "    <tr>\n",
       "      <th>11</th>\n",
       "      <td>10821.2</td>\n",
       "      <td>3890.3</td>\n",
       "    </tr>\n",
       "    <tr>\n",
       "      <th>12</th>\n",
       "      <td>14961.0</td>\n",
       "      <td>9925.5</td>\n",
       "    </tr>\n",
       "    <tr>\n",
       "      <th>13</th>\n",
       "      <td>8765.8</td>\n",
       "      <td>3463.7</td>\n",
       "    </tr>\n",
       "    <tr>\n",
       "      <th>14</th>\n",
       "      <td>3310.9</td>\n",
       "      <td>1421.9</td>\n",
       "    </tr>\n",
       "    <tr>\n",
       "      <th>15</th>\n",
       "      <td>7636.4</td>\n",
       "      <td>5676.6</td>\n",
       "    </tr>\n",
       "    <tr>\n",
       "      <th>16</th>\n",
       "      <td>11718.2</td>\n",
       "      <td>10438.3</td>\n",
       "    </tr>\n",
       "    <tr>\n",
       "      <th>17</th>\n",
       "      <td>36521.7</td>\n",
       "      <td>8661.7</td>\n",
       "    </tr>\n",
       "    <tr>\n",
       "      <th>18</th>\n",
       "      <td>22711.7</td>\n",
       "      <td>15496.1</td>\n",
       "    </tr>\n",
       "    <tr>\n",
       "      <th>19</th>\n",
       "      <td>23887.9</td>\n",
       "      <td>6484.6</td>\n",
       "    </tr>\n",
       "    <tr>\n",
       "      <th>20</th>\n",
       "      <td>6481.1</td>\n",
       "      <td>2925.9</td>\n",
       "    </tr>\n",
       "    <tr>\n",
       "      <th>21</th>\n",
       "      <td>9627.9</td>\n",
       "      <td>10016.7</td>\n",
       "    </tr>\n",
       "    <tr>\n",
       "      <th>22</th>\n",
       "      <td>4772.0</td>\n",
       "      <td>2263.3</td>\n",
       "    </tr>\n",
       "    <tr>\n",
       "      <th>23</th>\n",
       "      <td>11526.1</td>\n",
       "      <td>2445.2</td>\n",
       "    </tr>\n",
       "    <tr>\n",
       "      <th>24</th>\n",
       "      <td>26854.5</td>\n",
       "      <td>14902.6</td>\n",
       "    </tr>\n",
       "    <tr>\n",
       "      <th>25</th>\n",
       "      <td>4469.8</td>\n",
       "      <td>6722.9</td>\n",
       "    </tr>\n",
       "    <tr>\n",
       "      <th>26</th>\n",
       "      <td>10602.0</td>\n",
       "      <td>2527.3</td>\n",
       "    </tr>\n",
       "    <tr>\n",
       "      <th>27</th>\n",
       "      <td>6960.6</td>\n",
       "      <td>1782.7</td>\n",
       "    </tr>\n",
       "    <tr>\n",
       "      <th>28</th>\n",
       "      <td>1944.0</td>\n",
       "      <td>2857.3</td>\n",
       "    </tr>\n",
       "    <tr>\n",
       "      <th>29</th>\n",
       "      <td>11818.2</td>\n",
       "      <td>6136.5</td>\n",
       "    </tr>\n",
       "  </tbody>\n",
       "</table>\n",
       "</div>"
      ],
      "text/plain": [
       "        생산량      예측값\n",
       "0    1766.7   3803.3\n",
       "1    9032.3   9228.2\n",
       "2    1072.7   2013.8\n",
       "3    8464.7   2911.3\n",
       "4    6957.6   6616.2\n",
       "5    2347.0   5934.4\n",
       "6   10194.6   3867.0\n",
       "7     189.2   1070.5\n",
       "8    2005.0   1961.6\n",
       "9      38.8   1748.4\n",
       "10   5592.4   7892.1\n",
       "11  10821.2   3890.3\n",
       "12  14961.0   9925.5\n",
       "13   8765.8   3463.7\n",
       "14   3310.9   1421.9\n",
       "15   7636.4   5676.6\n",
       "16  11718.2  10438.3\n",
       "17  36521.7   8661.7\n",
       "18  22711.7  15496.1\n",
       "19  23887.9   6484.6\n",
       "20   6481.1   2925.9\n",
       "21   9627.9  10016.7\n",
       "22   4772.0   2263.3\n",
       "23  11526.1   2445.2\n",
       "24  26854.5  14902.6\n",
       "25   4469.8   6722.9\n",
       "26  10602.0   2527.3\n",
       "27   6960.6   1782.7\n",
       "28   1944.0   2857.3\n",
       "29  11818.2   6136.5"
      ]
     },
     "execution_count": 99,
     "metadata": {},
     "output_type": "execute_result"
    }
   ],
   "source": [
    "inverse_transformed_pred = pd.Series(np.round(inverse_transformed_pred,1), name='예측값')\n",
    "inverse_transformed_y_test= pd.Series(np.round(inverse_transformed_y_test,1), name='생산량')\n",
    "result = pd.concat([inverse_transformed_y_test, inverse_transformed_pred], axis=1)\n",
    "result[:30]"
   ]
  },
  {
   "cell_type": "markdown",
   "id": "8aa51adc",
   "metadata": {},
   "source": [
    "# Prediction"
   ]
  },
  {
   "cell_type": "code",
   "execution_count": 102,
   "id": "4d786bcf",
   "metadata": {},
   "outputs": [],
   "source": [
    "def prediction(file_path):\n",
    "    use_cols = ['fno',\n",
    "                'age1',\n",
    "                'land', \n",
    "                'cvl00_2', 'cvl10_2', 'cvl20_2',\n",
    "                'labch_2', 'labh_hour_2', 'lab_cost',\n",
    "                'fmtc_2', 'lansh_2',\n",
    "                'size', 'ara', 'de2']\n",
    "    \n",
    "    data = pd.read_csv(file_path).loc[:,use_cols]\n",
    "    \n",
    "    # log transform\n",
    "    data.loc[:, ['cvl00_2', 'cvl10_2', 'cvl20_2']] = np.log1p(data.loc[:, ['cvl00_2', 'cvl10_2', 'cvl20_2']])\n",
    "    data.loc[:, ['fmtc_2', 'lansh_2']] = np.log1p(data.loc[:, ['fmtc_2', 'lansh_2']])\n",
    "    data.loc[:, ['labch_2', 'labh_hour_2', 'lab_cost']] = np.log1p(data.loc[:, ['labch_2', 'labh_hour_2', 'lab_cost']])\n",
    "    \n",
    "    # data imputation\n",
    "    data.replace({'labch_2' : {0 : np.nan},\n",
    "              'labh_hour_2' : {0 : np.nan},\n",
    "              'lab_cost' : {0 : np.nan},\n",
    "              'lansh_2' : {0 : np.nan},},\n",
    "              inplace=True)\n",
    "    if data.isnull().sum().sum() > 0:\n",
    "        print(data.isnull().sum())\n",
    "        data.fillna(data.mean(), inplace=True)\n",
    "        \n",
    "    # enconding\n",
    "    onehot = onehot_encoder.transform(data.loc[:, categorical_variables])\n",
    "    X_scaled = X_minmax_scaler.transform(data.loc[:, numerical_variables])\n",
    "    numeric_data_df = pd.DataFrame(X_scaled, columns=numerical_variables)\n",
    "    onehot_data_df = pd.DataFrame(onehot.toarray())\n",
    "\n",
    "    X_data_df = pd.concat([numeric_data_df , onehot_data_df], axis=1)\n",
    "    X_test = np.array(X_data_df)\n",
    "    \n",
    "    # predict and inverse transform\n",
    "    preds = ensemble.predict(X_test)\n",
    "    inverse_transformed_pred = np.expm1(preds)\n",
    "    inverse_transformed_pred = np.where(inverse_transformed_pred < 0, 0, inverse_transformed_pred)\n",
    "    \n",
    "    \n",
    "    result = pd.DataFrame({'prediction' : inverse_transformed_pred}, index=data.fno)\n",
    "    \n",
    "    return result"
   ]
  },
  {
   "cell_type": "code",
   "execution_count": 103,
   "id": "208cf430",
   "metadata": {},
   "outputs": [
    {
     "name": "stdout",
     "output_type": "stream",
     "text": [
      "fno            0\n",
      "age1           0\n",
      "land           0\n",
      "cvl00_2        0\n",
      "cvl10_2        0\n",
      "cvl20_2        0\n",
      "labch_2        3\n",
      "labh_hour_2    3\n",
      "lab_cost       3\n",
      "fmtc_2         0\n",
      "lansh_2        0\n",
      "size           0\n",
      "ara            0\n",
      "de2            0\n",
      "dtype: int64\n"
     ]
    },
    {
     "data": {
      "text/html": [
       "<div>\n",
       "<style scoped>\n",
       "    .dataframe tbody tr th:only-of-type {\n",
       "        vertical-align: middle;\n",
       "    }\n",
       "\n",
       "    .dataframe tbody tr th {\n",
       "        vertical-align: top;\n",
       "    }\n",
       "\n",
       "    .dataframe thead th {\n",
       "        text-align: right;\n",
       "    }\n",
       "</style>\n",
       "<table border=\"1\" class=\"dataframe\">\n",
       "  <thead>\n",
       "    <tr style=\"text-align: right;\">\n",
       "      <th></th>\n",
       "      <th>prediction</th>\n",
       "    </tr>\n",
       "    <tr>\n",
       "      <th>fno</th>\n",
       "      <th></th>\n",
       "    </tr>\n",
       "  </thead>\n",
       "  <tbody>\n",
       "    <tr>\n",
       "      <th>11002</th>\n",
       "      <td>6017.043768</td>\n",
       "    </tr>\n",
       "    <tr>\n",
       "      <th>11003</th>\n",
       "      <td>3764.603678</td>\n",
       "    </tr>\n",
       "    <tr>\n",
       "      <th>11004</th>\n",
       "      <td>3671.680252</td>\n",
       "    </tr>\n",
       "    <tr>\n",
       "      <th>11006</th>\n",
       "      <td>6733.805639</td>\n",
       "    </tr>\n",
       "    <tr>\n",
       "      <th>11007</th>\n",
       "      <td>5256.273023</td>\n",
       "    </tr>\n",
       "    <tr>\n",
       "      <th>...</th>\n",
       "      <td>...</td>\n",
       "    </tr>\n",
       "    <tr>\n",
       "      <th>29176</th>\n",
       "      <td>5198.977591</td>\n",
       "    </tr>\n",
       "    <tr>\n",
       "      <th>29195</th>\n",
       "      <td>5269.945656</td>\n",
       "    </tr>\n",
       "    <tr>\n",
       "      <th>29196</th>\n",
       "      <td>6751.511322</td>\n",
       "    </tr>\n",
       "    <tr>\n",
       "      <th>29212</th>\n",
       "      <td>4829.805703</td>\n",
       "    </tr>\n",
       "    <tr>\n",
       "      <th>29235</th>\n",
       "      <td>1751.462982</td>\n",
       "    </tr>\n",
       "  </tbody>\n",
       "</table>\n",
       "<p>94 rows × 1 columns</p>\n",
       "</div>"
      ],
      "text/plain": [
       "        prediction\n",
       "fno               \n",
       "11002  6017.043768\n",
       "11003  3764.603678\n",
       "11004  3671.680252\n",
       "11006  6733.805639\n",
       "11007  5256.273023\n",
       "...            ...\n",
       "29176  5198.977591\n",
       "29195  5269.945656\n",
       "29196  6751.511322\n",
       "29212  4829.805703\n",
       "29235  1751.462982\n",
       "\n",
       "[94 rows x 1 columns]"
      ]
     },
     "execution_count": 103,
     "metadata": {},
     "output_type": "execute_result"
    }
   ],
   "source": [
    "file_path = './(수정)임산물생산비 마이크로데이터(2020)/(수정)2020년_임산물생산비조사_6.더덕3년1기작.csv'\n",
    "prediction = prediction(file_path)\n",
    "prediction"
   ]
  },
  {
   "cell_type": "code",
   "execution_count": 104,
   "id": "53c0aee9",
   "metadata": {},
   "outputs": [],
   "source": [
    "prediction.to_csv('prediction/2020년_임산물생산비조사_6.더덕3년1기작_예측값.csv')"
   ]
  },
  {
   "cell_type": "code",
   "execution_count": null,
   "id": "8020ec18",
   "metadata": {},
   "outputs": [],
   "source": []
  }
 ],
 "metadata": {
  "kernelspec": {
   "display_name": "Python 3",
   "language": "python",
   "name": "python3"
  },
  "language_info": {
   "codemirror_mode": {
    "name": "ipython",
    "version": 3
   },
   "file_extension": ".py",
   "mimetype": "text/x-python",
   "name": "python",
   "nbconvert_exporter": "python",
   "pygments_lexer": "ipython3",
   "version": "3.8.8"
  }
 },
 "nbformat": 4,
 "nbformat_minor": 5
}
