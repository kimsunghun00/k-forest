{
 "cells": [
  {
   "cell_type": "markdown",
   "metadata": {},
   "source": [
    "## Load Data"
   ]
  },
  {
   "cell_type": "code",
   "execution_count": 3,
   "metadata": {},
   "outputs": [
    {
     "data": {
      "text/html": [
       "<div>\n",
       "<style scoped>\n",
       "    .dataframe tbody tr th:only-of-type {\n",
       "        vertical-align: middle;\n",
       "    }\n",
       "\n",
       "    .dataframe tbody tr th {\n",
       "        vertical-align: top;\n",
       "    }\n",
       "\n",
       "    .dataframe thead th {\n",
       "        text-align: right;\n",
       "    }\n",
       "</style>\n",
       "<table border=\"1\" class=\"dataframe\">\n",
       "  <thead>\n",
       "    <tr style=\"text-align: right;\">\n",
       "      <th></th>\n",
       "      <th>시도/청</th>\n",
       "      <th>시군구/관리소</th>\n",
       "      <th>임가번호</th>\n",
       "      <th>구분(재배/채취)</th>\n",
       "      <th>구분(재배/채취).1</th>\n",
       "      <th>구분(재배/채취).2</th>\n",
       "      <th>Unnamed: 6</th>\n",
       "      <th>구분(재배/채취).3</th>\n",
       "      <th>품목</th>\n",
       "      <th>품목.1</th>\n",
       "      <th>품목.2</th>\n",
       "      <th>품목.3</th>\n",
       "      <th>최종값</th>\n",
       "      <th>Unnamed: 13</th>\n",
       "      <th>Unnamed: 14</th>\n",
       "      <th>비고</th>\n",
       "      <th>점검사항</th>\n",
       "      <th>등록자</th>\n",
       "      <th>최초등록일</th>\n",
       "      <th>최종수정일</th>\n",
       "    </tr>\n",
       "  </thead>\n",
       "  <tbody>\n",
       "    <tr>\n",
       "      <th>0</th>\n",
       "      <td>NaN</td>\n",
       "      <td>NaN</td>\n",
       "      <td>NaN</td>\n",
       "      <td>재배채취</td>\n",
       "      <td>재배기준</td>\n",
       "      <td>재배면적</td>\n",
       "      <td>환산면적</td>\n",
       "      <td>재배단위</td>\n",
       "      <td>대분류</td>\n",
       "      <td>중분류</td>\n",
       "      <td>소분류</td>\n",
       "      <td>품목단위</td>\n",
       "      <td>생산량</td>\n",
       "      <td>단가</td>\n",
       "      <td>생산액</td>\n",
       "      <td>NaN</td>\n",
       "      <td>NaN</td>\n",
       "      <td>NaN</td>\n",
       "      <td>NaN</td>\n",
       "      <td>NaN</td>\n",
       "    </tr>\n",
       "    <tr>\n",
       "      <th>1</th>\n",
       "      <td>서울특별시</td>\n",
       "      <td>종로구</td>\n",
       "      <td>341235.0</td>\n",
       "      <td>채취</td>\n",
       "      <td>NaN</td>\n",
       "      <td>0</td>\n",
       "      <td>0</td>\n",
       "      <td>㎡</td>\n",
       "      <td>수실</td>\n",
       "      <td>재배수실</td>\n",
       "      <td>은행</td>\n",
       "      <td>kg</td>\n",
       "      <td>36920</td>\n",
       "      <td>3000</td>\n",
       "      <td>110760000</td>\n",
       "      <td>3영급 (20년생 이상)의 나무</td>\n",
       "      <td>NaN</td>\n",
       "      <td>A1001P101</td>\n",
       "      <td>2018-04-24</td>\n",
       "      <td>2018-04-24</td>\n",
       "    </tr>\n",
       "    <tr>\n",
       "      <th>2</th>\n",
       "      <td>서울특별시</td>\n",
       "      <td>중구</td>\n",
       "      <td>341243.0</td>\n",
       "      <td>채취</td>\n",
       "      <td>NaN</td>\n",
       "      <td>0</td>\n",
       "      <td>0</td>\n",
       "      <td>㎡</td>\n",
       "      <td>수실</td>\n",
       "      <td>재배수실</td>\n",
       "      <td>은행</td>\n",
       "      <td>kg</td>\n",
       "      <td>22720</td>\n",
       "      <td>3000</td>\n",
       "      <td>68160000</td>\n",
       "      <td>3영급 (20년생 이상)의 나무</td>\n",
       "      <td>NaN</td>\n",
       "      <td>A1001P101</td>\n",
       "      <td>2018-04-24</td>\n",
       "      <td>2018-04-24</td>\n",
       "    </tr>\n",
       "  </tbody>\n",
       "</table>\n",
       "</div>"
      ],
      "text/plain": [
       "    시도/청 시군구/관리소      임가번호 구분(재배/채취) 구분(재배/채취).1 구분(재배/채취).2 Unnamed: 6  \\\n",
       "0    NaN     NaN       NaN      재배채취        재배기준        재배면적       환산면적   \n",
       "1  서울특별시     종로구  341235.0        채취         NaN           0          0   \n",
       "2  서울특별시      중구  341243.0        채취         NaN           0          0   \n",
       "\n",
       "  구분(재배/채취).3   품목  품목.1 품목.2  품목.3    최종값 Unnamed: 13 Unnamed: 14  \\\n",
       "0        재배단위  대분류   중분류  소분류  품목단위    생산량          단가         생산액   \n",
       "1           ㎡   수실  재배수실   은행    kg  36920        3000   110760000   \n",
       "2           ㎡   수실  재배수실   은행    kg  22720        3000    68160000   \n",
       "\n",
       "                  비고  점검사항        등록자       최초등록일       최종수정일  \n",
       "0                NaN   NaN        NaN         NaN         NaN  \n",
       "1  3영급 (20년생 이상)의 나무   NaN  A1001P101  2018-04-24  2018-04-24  \n",
       "2  3영급 (20년생 이상)의 나무   NaN  A1001P101  2018-04-24  2018-04-24  "
      ]
     },
     "execution_count": 3,
     "metadata": {},
     "output_type": "execute_result"
    }
   ],
   "source": [
    "import pandas as pd\n",
    "import numpy as np\n",
    "\n",
    "original_data = pd.read_excel('2017임산물생산조사.xlsx')\n",
    "original_data.head(3)"
   ]
  },
  {
   "cell_type": "code",
   "execution_count": 4,
   "metadata": {},
   "outputs": [
    {
     "data": {
      "text/html": [
       "<div>\n",
       "<style scoped>\n",
       "    .dataframe tbody tr th:only-of-type {\n",
       "        vertical-align: middle;\n",
       "    }\n",
       "\n",
       "    .dataframe tbody tr th {\n",
       "        vertical-align: top;\n",
       "    }\n",
       "\n",
       "    .dataframe thead th {\n",
       "        text-align: right;\n",
       "    }\n",
       "</style>\n",
       "<table border=\"1\" class=\"dataframe\">\n",
       "  <thead>\n",
       "    <tr style=\"text-align: right;\">\n",
       "      <th></th>\n",
       "      <th>시군구/관리소</th>\n",
       "      <th>재배채취</th>\n",
       "      <th>재배면적</th>\n",
       "      <th>재배단위</th>\n",
       "      <th>품목 소분류</th>\n",
       "      <th>생산량</th>\n",
       "    </tr>\n",
       "  </thead>\n",
       "  <tbody>\n",
       "    <tr>\n",
       "      <th>1</th>\n",
       "      <td>종로구</td>\n",
       "      <td>채취</td>\n",
       "      <td>0</td>\n",
       "      <td>㎡</td>\n",
       "      <td>은행</td>\n",
       "      <td>36920</td>\n",
       "    </tr>\n",
       "    <tr>\n",
       "      <th>2</th>\n",
       "      <td>중구</td>\n",
       "      <td>채취</td>\n",
       "      <td>0</td>\n",
       "      <td>㎡</td>\n",
       "      <td>은행</td>\n",
       "      <td>22720</td>\n",
       "    </tr>\n",
       "    <tr>\n",
       "      <th>3</th>\n",
       "      <td>용산구</td>\n",
       "      <td>채취</td>\n",
       "      <td>0</td>\n",
       "      <td>㎡</td>\n",
       "      <td>은행</td>\n",
       "      <td>41440</td>\n",
       "    </tr>\n",
       "    <tr>\n",
       "      <th>4</th>\n",
       "      <td>성동구</td>\n",
       "      <td>채취</td>\n",
       "      <td>0</td>\n",
       "      <td>㎡</td>\n",
       "      <td>은행</td>\n",
       "      <td>9960</td>\n",
       "    </tr>\n",
       "    <tr>\n",
       "      <th>5</th>\n",
       "      <td>광진구</td>\n",
       "      <td>채취</td>\n",
       "      <td>0</td>\n",
       "      <td>㎡</td>\n",
       "      <td>은행</td>\n",
       "      <td>12800</td>\n",
       "    </tr>\n",
       "  </tbody>\n",
       "</table>\n",
       "</div>"
      ],
      "text/plain": [
       "  시군구/관리소 재배채취 재배면적 재배단위 품목 소분류    생산량\n",
       "1     종로구   채취    0    ㎡     은행  36920\n",
       "2      중구   채취    0    ㎡     은행  22720\n",
       "3     용산구   채취    0    ㎡     은행  41440\n",
       "4     성동구   채취    0    ㎡     은행   9960\n",
       "5     광진구   채취    0    ㎡     은행  12800"
      ]
     },
     "execution_count": 4,
     "metadata": {},
     "output_type": "execute_result"
    }
   ],
   "source": [
    "data = original_data.iloc[1:, [1, 3, 5, 7, 10, 12]]\n",
    "data.rename(columns={'구분(재배/채취)' : '재배채취',\n",
    "                     '구분(재배/채취).1' : '재배기준',\n",
    "                     '구분(재배/채취).2' : '재배면적',\n",
    "                     '구분(재배/채취).3' : '재배단위',\n",
    "                     'Unnamed: 6' : '환산면적',\n",
    "                     '품목' : '품목 대분류',\n",
    "                     '품목.1' : '품목 중분류',\n",
    "                     '품목.2' : '품목 소분류',\n",
    "                     '최종값' : '생산량'},\n",
    "            inplace = True)\n",
    "data.head()"
   ]
  },
  {
   "cell_type": "code",
   "execution_count": 5,
   "metadata": {},
   "outputs": [
    {
     "data": {
      "text/html": [
       "<div>\n",
       "<style scoped>\n",
       "    .dataframe tbody tr th:only-of-type {\n",
       "        vertical-align: middle;\n",
       "    }\n",
       "\n",
       "    .dataframe tbody tr th {\n",
       "        vertical-align: top;\n",
       "    }\n",
       "\n",
       "    .dataframe thead th {\n",
       "        text-align: right;\n",
       "    }\n",
       "</style>\n",
       "<table border=\"1\" class=\"dataframe\">\n",
       "  <thead>\n",
       "    <tr style=\"text-align: right;\">\n",
       "      <th></th>\n",
       "      <th>시군구/관리소</th>\n",
       "      <th>재배채취</th>\n",
       "      <th>재배면적</th>\n",
       "      <th>재배단위</th>\n",
       "      <th>품목 소분류</th>\n",
       "      <th>생산량</th>\n",
       "    </tr>\n",
       "  </thead>\n",
       "  <tbody>\n",
       "    <tr>\n",
       "      <th>172</th>\n",
       "      <td>달성군</td>\n",
       "      <td>재배</td>\n",
       "      <td>10</td>\n",
       "      <td>평</td>\n",
       "      <td>더덕</td>\n",
       "      <td>5</td>\n",
       "    </tr>\n",
       "    <tr>\n",
       "      <th>203</th>\n",
       "      <td>달성군</td>\n",
       "      <td>재배</td>\n",
       "      <td>150</td>\n",
       "      <td>평</td>\n",
       "      <td>오미자</td>\n",
       "      <td>20</td>\n",
       "    </tr>\n",
       "    <tr>\n",
       "      <th>213</th>\n",
       "      <td>달성군</td>\n",
       "      <td>재배</td>\n",
       "      <td>400</td>\n",
       "      <td>평</td>\n",
       "      <td>오미자</td>\n",
       "      <td>15</td>\n",
       "    </tr>\n",
       "    <tr>\n",
       "      <th>247</th>\n",
       "      <td>달성군</td>\n",
       "      <td>재배</td>\n",
       "      <td>400</td>\n",
       "      <td>평</td>\n",
       "      <td>오미자</td>\n",
       "      <td>5</td>\n",
       "    </tr>\n",
       "    <tr>\n",
       "      <th>285</th>\n",
       "      <td>달성군</td>\n",
       "      <td>재배</td>\n",
       "      <td>40</td>\n",
       "      <td>평</td>\n",
       "      <td>오미자</td>\n",
       "      <td>20</td>\n",
       "    </tr>\n",
       "    <tr>\n",
       "      <th>...</th>\n",
       "      <td>...</td>\n",
       "      <td>...</td>\n",
       "      <td>...</td>\n",
       "      <td>...</td>\n",
       "      <td>...</td>\n",
       "      <td>...</td>\n",
       "    </tr>\n",
       "    <tr>\n",
       "      <th>106361</th>\n",
       "      <td>서귀포시</td>\n",
       "      <td>재배</td>\n",
       "      <td>246404</td>\n",
       "      <td>봉</td>\n",
       "      <td>생표고</td>\n",
       "      <td>163775</td>\n",
       "    </tr>\n",
       "    <tr>\n",
       "      <th>106362</th>\n",
       "      <td>제주시</td>\n",
       "      <td>재배</td>\n",
       "      <td>99500</td>\n",
       "      <td>㎡</td>\n",
       "      <td>떫은감</td>\n",
       "      <td>1464</td>\n",
       "    </tr>\n",
       "    <tr>\n",
       "      <th>106363</th>\n",
       "      <td>제주시</td>\n",
       "      <td>재배</td>\n",
       "      <td>297033</td>\n",
       "      <td>봉</td>\n",
       "      <td>건표고</td>\n",
       "      <td>21140</td>\n",
       "    </tr>\n",
       "    <tr>\n",
       "      <th>106364</th>\n",
       "      <td>제주시</td>\n",
       "      <td>재배</td>\n",
       "      <td>297033</td>\n",
       "      <td>봉</td>\n",
       "      <td>생표고</td>\n",
       "      <td>47394</td>\n",
       "    </tr>\n",
       "    <tr>\n",
       "      <th>106446</th>\n",
       "      <td>충주시</td>\n",
       "      <td>재배</td>\n",
       "      <td>411.98</td>\n",
       "      <td>ha</td>\n",
       "      <td>오미자</td>\n",
       "      <td>82690</td>\n",
       "    </tr>\n",
       "  </tbody>\n",
       "</table>\n",
       "<p>8572 rows × 6 columns</p>\n",
       "</div>"
      ],
      "text/plain": [
       "       시군구/관리소 재배채취    재배면적 재배단위 품목 소분류     생산량\n",
       "172        달성군   재배      10    평     더덕       5\n",
       "203        달성군   재배     150    평    오미자      20\n",
       "213        달성군   재배     400    평    오미자      15\n",
       "247        달성군   재배     400    평    오미자       5\n",
       "285        달성군   재배      40    평    오미자      20\n",
       "...        ...  ...     ...  ...    ...     ...\n",
       "106361    서귀포시   재배  246404    봉    생표고  163775\n",
       "106362     제주시   재배   99500    ㎡    떫은감    1464\n",
       "106363     제주시   재배  297033    봉    건표고   21140\n",
       "106364     제주시   재배  297033    봉    생표고   47394\n",
       "106446     충주시   재배  411.98   ha    오미자   82690\n",
       "\n",
       "[8572 rows x 6 columns]"
      ]
     },
     "execution_count": 5,
     "metadata": {},
     "output_type": "execute_result"
    }
   ],
   "source": [
    "data = data[data['품목 소분류'].isin(['밤', '호두', '대추', '떫은감', '건표고', '생표고', '더덕', '오미자'])]\n",
    "data"
   ]
  },
  {
   "cell_type": "code",
   "execution_count": 6,
   "metadata": {},
   "outputs": [
    {
     "data": {
      "text/html": [
       "<div>\n",
       "<style scoped>\n",
       "    .dataframe tbody tr th:only-of-type {\n",
       "        vertical-align: middle;\n",
       "    }\n",
       "\n",
       "    .dataframe tbody tr th {\n",
       "        vertical-align: top;\n",
       "    }\n",
       "\n",
       "    .dataframe thead th {\n",
       "        text-align: right;\n",
       "    }\n",
       "</style>\n",
       "<table border=\"1\" class=\"dataframe\">\n",
       "  <thead>\n",
       "    <tr style=\"text-align: right;\">\n",
       "      <th></th>\n",
       "      <th>시군구/관리소</th>\n",
       "      <th>재배채취</th>\n",
       "      <th>재배면적</th>\n",
       "      <th>재배단위</th>\n",
       "      <th>품목 소분류</th>\n",
       "      <th>생산량</th>\n",
       "    </tr>\n",
       "  </thead>\n",
       "  <tbody>\n",
       "    <tr>\n",
       "      <th>172</th>\n",
       "      <td>달성군</td>\n",
       "      <td>재배</td>\n",
       "      <td>2.397895</td>\n",
       "      <td>평</td>\n",
       "      <td>더덕</td>\n",
       "      <td>1.791759</td>\n",
       "    </tr>\n",
       "    <tr>\n",
       "      <th>203</th>\n",
       "      <td>달성군</td>\n",
       "      <td>재배</td>\n",
       "      <td>5.017280</td>\n",
       "      <td>평</td>\n",
       "      <td>오미자</td>\n",
       "      <td>3.044522</td>\n",
       "    </tr>\n",
       "    <tr>\n",
       "      <th>213</th>\n",
       "      <td>달성군</td>\n",
       "      <td>재배</td>\n",
       "      <td>5.993961</td>\n",
       "      <td>평</td>\n",
       "      <td>오미자</td>\n",
       "      <td>2.772589</td>\n",
       "    </tr>\n",
       "    <tr>\n",
       "      <th>247</th>\n",
       "      <td>달성군</td>\n",
       "      <td>재배</td>\n",
       "      <td>5.993961</td>\n",
       "      <td>평</td>\n",
       "      <td>오미자</td>\n",
       "      <td>1.791759</td>\n",
       "    </tr>\n",
       "    <tr>\n",
       "      <th>285</th>\n",
       "      <td>달성군</td>\n",
       "      <td>재배</td>\n",
       "      <td>3.713572</td>\n",
       "      <td>평</td>\n",
       "      <td>오미자</td>\n",
       "      <td>3.044522</td>\n",
       "    </tr>\n",
       "  </tbody>\n",
       "</table>\n",
       "</div>"
      ],
      "text/plain": [
       "    시군구/관리소 재배채취      재배면적 재배단위 품목 소분류       생산량\n",
       "172     달성군   재배  2.397895    평     더덕  1.791759\n",
       "203     달성군   재배  5.017280    평    오미자  3.044522\n",
       "213     달성군   재배  5.993961    평    오미자  2.772589\n",
       "247     달성군   재배  5.993961    평    오미자  1.791759\n",
       "285     달성군   재배  3.713572    평    오미자  3.044522"
      ]
     },
     "execution_count": 6,
     "metadata": {},
     "output_type": "execute_result"
    }
   ],
   "source": [
    "data.dropna(axis=0, inplace=True)\n",
    "\n",
    "data['재배면적'] = np.log1p(data['재배면적'].astype(float))\n",
    "data['생산량'] = np.log1p(data['생산량'].astype(float))\n",
    "data.head()"
   ]
  },
  {
   "cell_type": "code",
   "execution_count": 7,
   "metadata": {},
   "outputs": [
    {
     "data": {
      "text/plain": [
       "array([[0.13299905],\n",
       "       [0.27828299],\n",
       "       [0.33245455],\n",
       "       ...,\n",
       "       [0.69894675],\n",
       "       [0.69894675],\n",
       "       [0.33408731]])"
      ]
     },
     "execution_count": 7,
     "metadata": {},
     "output_type": "execute_result"
    }
   ],
   "source": [
    "from sklearn.preprocessing import MinMaxScaler\n",
    "# column 별로 scaling 되는 것이 아님 주의\n",
    "\n",
    "X_minmax_scaler = MinMaxScaler()\n",
    "X_minmax_scaler.fit(data.loc[:, ['재배면적']])\n",
    "X_scaled = X_minmax_scaler.transform(data.loc[:, ['재배면적']])\n",
    "X_scaled"
   ]
  },
  {
   "cell_type": "code",
   "execution_count": 8,
   "metadata": {},
   "outputs": [
    {
     "data": {
      "text/plain": [
       "array([[0.10166934],\n",
       "       [0.17275453],\n",
       "       [0.15732427],\n",
       "       ...,\n",
       "       [0.56509918],\n",
       "       [0.61090773],\n",
       "       [0.6424904 ]])"
      ]
     },
     "execution_count": 8,
     "metadata": {},
     "output_type": "execute_result"
    }
   ],
   "source": [
    "y_minmax_scaler = MinMaxScaler()\n",
    "y_minmax_scaler.fit(data.loc[:, ['생산량']])\n",
    "y_scaled = y_minmax_scaler.transform(data.loc[:, ['생산량']])\n",
    "y_scaled"
   ]
  },
  {
   "cell_type": "code",
   "execution_count": 9,
   "metadata": {},
   "outputs": [
    {
     "name": "stdout",
     "output_type": "stream",
     "text": [
      "(8571, 181)\n"
     ]
    }
   ],
   "source": [
    "from sklearn.preprocessing import OneHotEncoder\n",
    "\n",
    "onehot_encoder = OneHotEncoder(handle_unknown='ignore')\n",
    "onehot_encoder.fit(data.loc[:, ['시군구/관리소', '재배채취', '재배단위', '품목 소분류']])\n",
    "onehot = onehot_encoder.fit_transform(data.loc[:, ['시군구/관리소', '재배채취', '재배단위', '품목 소분류']])\n",
    "print(onehot.toarray().shape)"
   ]
  },
  {
   "cell_type": "code",
   "execution_count": 10,
   "metadata": {},
   "outputs": [
    {
     "data": {
      "text/html": [
       "<div>\n",
       "<style scoped>\n",
       "    .dataframe tbody tr th:only-of-type {\n",
       "        vertical-align: middle;\n",
       "    }\n",
       "\n",
       "    .dataframe tbody tr th {\n",
       "        vertical-align: top;\n",
       "    }\n",
       "\n",
       "    .dataframe thead th {\n",
       "        text-align: right;\n",
       "    }\n",
       "</style>\n",
       "<table border=\"1\" class=\"dataframe\">\n",
       "  <thead>\n",
       "    <tr style=\"text-align: right;\">\n",
       "      <th></th>\n",
       "      <th>환산면적</th>\n",
       "      <th>0</th>\n",
       "      <th>1</th>\n",
       "      <th>2</th>\n",
       "      <th>3</th>\n",
       "      <th>4</th>\n",
       "      <th>5</th>\n",
       "      <th>6</th>\n",
       "      <th>7</th>\n",
       "      <th>8</th>\n",
       "      <th>...</th>\n",
       "      <th>171</th>\n",
       "      <th>172</th>\n",
       "      <th>173</th>\n",
       "      <th>174</th>\n",
       "      <th>175</th>\n",
       "      <th>176</th>\n",
       "      <th>177</th>\n",
       "      <th>178</th>\n",
       "      <th>179</th>\n",
       "      <th>180</th>\n",
       "    </tr>\n",
       "  </thead>\n",
       "  <tbody>\n",
       "    <tr>\n",
       "      <th>0</th>\n",
       "      <td>0.132999</td>\n",
       "      <td>0.0</td>\n",
       "      <td>0.0</td>\n",
       "      <td>0.0</td>\n",
       "      <td>0.0</td>\n",
       "      <td>0.0</td>\n",
       "      <td>0.0</td>\n",
       "      <td>0.0</td>\n",
       "      <td>0.0</td>\n",
       "      <td>0.0</td>\n",
       "      <td>...</td>\n",
       "      <td>0.0</td>\n",
       "      <td>1.0</td>\n",
       "      <td>0.0</td>\n",
       "      <td>0.0</td>\n",
       "      <td>1.0</td>\n",
       "      <td>0.0</td>\n",
       "      <td>0.0</td>\n",
       "      <td>0.0</td>\n",
       "      <td>0.0</td>\n",
       "      <td>0.0</td>\n",
       "    </tr>\n",
       "    <tr>\n",
       "      <th>1</th>\n",
       "      <td>0.278283</td>\n",
       "      <td>0.0</td>\n",
       "      <td>0.0</td>\n",
       "      <td>0.0</td>\n",
       "      <td>0.0</td>\n",
       "      <td>0.0</td>\n",
       "      <td>0.0</td>\n",
       "      <td>0.0</td>\n",
       "      <td>0.0</td>\n",
       "      <td>0.0</td>\n",
       "      <td>...</td>\n",
       "      <td>0.0</td>\n",
       "      <td>1.0</td>\n",
       "      <td>0.0</td>\n",
       "      <td>0.0</td>\n",
       "      <td>0.0</td>\n",
       "      <td>0.0</td>\n",
       "      <td>0.0</td>\n",
       "      <td>0.0</td>\n",
       "      <td>1.0</td>\n",
       "      <td>0.0</td>\n",
       "    </tr>\n",
       "    <tr>\n",
       "      <th>2</th>\n",
       "      <td>0.332455</td>\n",
       "      <td>0.0</td>\n",
       "      <td>0.0</td>\n",
       "      <td>0.0</td>\n",
       "      <td>0.0</td>\n",
       "      <td>0.0</td>\n",
       "      <td>0.0</td>\n",
       "      <td>0.0</td>\n",
       "      <td>0.0</td>\n",
       "      <td>0.0</td>\n",
       "      <td>...</td>\n",
       "      <td>0.0</td>\n",
       "      <td>1.0</td>\n",
       "      <td>0.0</td>\n",
       "      <td>0.0</td>\n",
       "      <td>0.0</td>\n",
       "      <td>0.0</td>\n",
       "      <td>0.0</td>\n",
       "      <td>0.0</td>\n",
       "      <td>1.0</td>\n",
       "      <td>0.0</td>\n",
       "    </tr>\n",
       "    <tr>\n",
       "      <th>3</th>\n",
       "      <td>0.332455</td>\n",
       "      <td>0.0</td>\n",
       "      <td>0.0</td>\n",
       "      <td>0.0</td>\n",
       "      <td>0.0</td>\n",
       "      <td>0.0</td>\n",
       "      <td>0.0</td>\n",
       "      <td>0.0</td>\n",
       "      <td>0.0</td>\n",
       "      <td>0.0</td>\n",
       "      <td>...</td>\n",
       "      <td>0.0</td>\n",
       "      <td>1.0</td>\n",
       "      <td>0.0</td>\n",
       "      <td>0.0</td>\n",
       "      <td>0.0</td>\n",
       "      <td>0.0</td>\n",
       "      <td>0.0</td>\n",
       "      <td>0.0</td>\n",
       "      <td>1.0</td>\n",
       "      <td>0.0</td>\n",
       "    </tr>\n",
       "    <tr>\n",
       "      <th>4</th>\n",
       "      <td>0.205973</td>\n",
       "      <td>0.0</td>\n",
       "      <td>0.0</td>\n",
       "      <td>0.0</td>\n",
       "      <td>0.0</td>\n",
       "      <td>0.0</td>\n",
       "      <td>0.0</td>\n",
       "      <td>0.0</td>\n",
       "      <td>0.0</td>\n",
       "      <td>0.0</td>\n",
       "      <td>...</td>\n",
       "      <td>0.0</td>\n",
       "      <td>1.0</td>\n",
       "      <td>0.0</td>\n",
       "      <td>0.0</td>\n",
       "      <td>0.0</td>\n",
       "      <td>0.0</td>\n",
       "      <td>0.0</td>\n",
       "      <td>0.0</td>\n",
       "      <td>1.0</td>\n",
       "      <td>0.0</td>\n",
       "    </tr>\n",
       "    <tr>\n",
       "      <th>...</th>\n",
       "      <td>...</td>\n",
       "      <td>...</td>\n",
       "      <td>...</td>\n",
       "      <td>...</td>\n",
       "      <td>...</td>\n",
       "      <td>...</td>\n",
       "      <td>...</td>\n",
       "      <td>...</td>\n",
       "      <td>...</td>\n",
       "      <td>...</td>\n",
       "      <td>...</td>\n",
       "      <td>...</td>\n",
       "      <td>...</td>\n",
       "      <td>...</td>\n",
       "      <td>...</td>\n",
       "      <td>...</td>\n",
       "      <td>...</td>\n",
       "      <td>...</td>\n",
       "      <td>...</td>\n",
       "      <td>...</td>\n",
       "      <td>...</td>\n",
       "    </tr>\n",
       "    <tr>\n",
       "      <th>8566</th>\n",
       "      <td>0.688582</td>\n",
       "      <td>0.0</td>\n",
       "      <td>0.0</td>\n",
       "      <td>0.0</td>\n",
       "      <td>0.0</td>\n",
       "      <td>0.0</td>\n",
       "      <td>0.0</td>\n",
       "      <td>0.0</td>\n",
       "      <td>0.0</td>\n",
       "      <td>0.0</td>\n",
       "      <td>...</td>\n",
       "      <td>1.0</td>\n",
       "      <td>0.0</td>\n",
       "      <td>0.0</td>\n",
       "      <td>0.0</td>\n",
       "      <td>0.0</td>\n",
       "      <td>0.0</td>\n",
       "      <td>0.0</td>\n",
       "      <td>1.0</td>\n",
       "      <td>0.0</td>\n",
       "      <td>0.0</td>\n",
       "    </tr>\n",
       "    <tr>\n",
       "      <th>8567</th>\n",
       "      <td>0.638286</td>\n",
       "      <td>0.0</td>\n",
       "      <td>0.0</td>\n",
       "      <td>0.0</td>\n",
       "      <td>0.0</td>\n",
       "      <td>0.0</td>\n",
       "      <td>0.0</td>\n",
       "      <td>0.0</td>\n",
       "      <td>0.0</td>\n",
       "      <td>0.0</td>\n",
       "      <td>...</td>\n",
       "      <td>0.0</td>\n",
       "      <td>0.0</td>\n",
       "      <td>0.0</td>\n",
       "      <td>0.0</td>\n",
       "      <td>0.0</td>\n",
       "      <td>1.0</td>\n",
       "      <td>0.0</td>\n",
       "      <td>0.0</td>\n",
       "      <td>0.0</td>\n",
       "      <td>0.0</td>\n",
       "    </tr>\n",
       "    <tr>\n",
       "      <th>8568</th>\n",
       "      <td>0.698947</td>\n",
       "      <td>0.0</td>\n",
       "      <td>0.0</td>\n",
       "      <td>0.0</td>\n",
       "      <td>0.0</td>\n",
       "      <td>0.0</td>\n",
       "      <td>0.0</td>\n",
       "      <td>0.0</td>\n",
       "      <td>0.0</td>\n",
       "      <td>0.0</td>\n",
       "      <td>...</td>\n",
       "      <td>1.0</td>\n",
       "      <td>0.0</td>\n",
       "      <td>1.0</td>\n",
       "      <td>0.0</td>\n",
       "      <td>0.0</td>\n",
       "      <td>0.0</td>\n",
       "      <td>0.0</td>\n",
       "      <td>0.0</td>\n",
       "      <td>0.0</td>\n",
       "      <td>0.0</td>\n",
       "    </tr>\n",
       "    <tr>\n",
       "      <th>8569</th>\n",
       "      <td>0.698947</td>\n",
       "      <td>0.0</td>\n",
       "      <td>0.0</td>\n",
       "      <td>0.0</td>\n",
       "      <td>0.0</td>\n",
       "      <td>0.0</td>\n",
       "      <td>0.0</td>\n",
       "      <td>0.0</td>\n",
       "      <td>0.0</td>\n",
       "      <td>0.0</td>\n",
       "      <td>...</td>\n",
       "      <td>1.0</td>\n",
       "      <td>0.0</td>\n",
       "      <td>0.0</td>\n",
       "      <td>0.0</td>\n",
       "      <td>0.0</td>\n",
       "      <td>0.0</td>\n",
       "      <td>0.0</td>\n",
       "      <td>1.0</td>\n",
       "      <td>0.0</td>\n",
       "      <td>0.0</td>\n",
       "    </tr>\n",
       "    <tr>\n",
       "      <th>8570</th>\n",
       "      <td>0.334087</td>\n",
       "      <td>0.0</td>\n",
       "      <td>0.0</td>\n",
       "      <td>0.0</td>\n",
       "      <td>0.0</td>\n",
       "      <td>0.0</td>\n",
       "      <td>0.0</td>\n",
       "      <td>0.0</td>\n",
       "      <td>0.0</td>\n",
       "      <td>0.0</td>\n",
       "      <td>...</td>\n",
       "      <td>0.0</td>\n",
       "      <td>0.0</td>\n",
       "      <td>0.0</td>\n",
       "      <td>0.0</td>\n",
       "      <td>0.0</td>\n",
       "      <td>0.0</td>\n",
       "      <td>0.0</td>\n",
       "      <td>0.0</td>\n",
       "      <td>1.0</td>\n",
       "      <td>0.0</td>\n",
       "    </tr>\n",
       "  </tbody>\n",
       "</table>\n",
       "<p>8571 rows × 182 columns</p>\n",
       "</div>"
      ],
      "text/plain": [
       "          환산면적    0    1    2    3    4    5    6    7    8  ...  171  172  \\\n",
       "0     0.132999  0.0  0.0  0.0  0.0  0.0  0.0  0.0  0.0  0.0  ...  0.0  1.0   \n",
       "1     0.278283  0.0  0.0  0.0  0.0  0.0  0.0  0.0  0.0  0.0  ...  0.0  1.0   \n",
       "2     0.332455  0.0  0.0  0.0  0.0  0.0  0.0  0.0  0.0  0.0  ...  0.0  1.0   \n",
       "3     0.332455  0.0  0.0  0.0  0.0  0.0  0.0  0.0  0.0  0.0  ...  0.0  1.0   \n",
       "4     0.205973  0.0  0.0  0.0  0.0  0.0  0.0  0.0  0.0  0.0  ...  0.0  1.0   \n",
       "...        ...  ...  ...  ...  ...  ...  ...  ...  ...  ...  ...  ...  ...   \n",
       "8566  0.688582  0.0  0.0  0.0  0.0  0.0  0.0  0.0  0.0  0.0  ...  1.0  0.0   \n",
       "8567  0.638286  0.0  0.0  0.0  0.0  0.0  0.0  0.0  0.0  0.0  ...  0.0  0.0   \n",
       "8568  0.698947  0.0  0.0  0.0  0.0  0.0  0.0  0.0  0.0  0.0  ...  1.0  0.0   \n",
       "8569  0.698947  0.0  0.0  0.0  0.0  0.0  0.0  0.0  0.0  0.0  ...  1.0  0.0   \n",
       "8570  0.334087  0.0  0.0  0.0  0.0  0.0  0.0  0.0  0.0  0.0  ...  0.0  0.0   \n",
       "\n",
       "      173  174  175  176  177  178  179  180  \n",
       "0     0.0  0.0  1.0  0.0  0.0  0.0  0.0  0.0  \n",
       "1     0.0  0.0  0.0  0.0  0.0  0.0  1.0  0.0  \n",
       "2     0.0  0.0  0.0  0.0  0.0  0.0  1.0  0.0  \n",
       "3     0.0  0.0  0.0  0.0  0.0  0.0  1.0  0.0  \n",
       "4     0.0  0.0  0.0  0.0  0.0  0.0  1.0  0.0  \n",
       "...   ...  ...  ...  ...  ...  ...  ...  ...  \n",
       "8566  0.0  0.0  0.0  0.0  0.0  1.0  0.0  0.0  \n",
       "8567  0.0  0.0  0.0  1.0  0.0  0.0  0.0  0.0  \n",
       "8568  1.0  0.0  0.0  0.0  0.0  0.0  0.0  0.0  \n",
       "8569  0.0  0.0  0.0  0.0  0.0  1.0  0.0  0.0  \n",
       "8570  0.0  0.0  0.0  0.0  0.0  0.0  1.0  0.0  \n",
       "\n",
       "[8571 rows x 182 columns]"
      ]
     },
     "execution_count": 10,
     "metadata": {},
     "output_type": "execute_result"
    }
   ],
   "source": [
    "numeric_data_df = pd.DataFrame(X_scaled, columns=['환산면적'])\n",
    "onehot_data_df = pd.DataFrame(onehot.toarray())\n",
    "\n",
    "X_data_df = pd.concat([numeric_data_df , onehot_data_df], axis=1)\n",
    "X_data_df"
   ]
  },
  {
   "cell_type": "code",
   "execution_count": 11,
   "metadata": {},
   "outputs": [
    {
     "name": "stdout",
     "output_type": "stream",
     "text": [
      "(8571, 182) (8571,)\n"
     ]
    }
   ],
   "source": [
    "X_data = np.array(X_data_df)\n",
    "y_data = y_scaled.reshape(-1,)\n",
    "\n",
    "print(X_data.shape, y_data.shape)"
   ]
  },
  {
   "cell_type": "markdown",
   "metadata": {},
   "source": [
    "# K-Fold"
   ]
  },
  {
   "cell_type": "markdown",
   "metadata": {},
   "source": [
    "## RandomForest"
   ]
  },
  {
   "cell_type": "code",
   "execution_count": null,
   "metadata": {},
   "outputs": [],
   "source": [
    "from sklearn.ensemble import RandomForestRegressor\n",
    "from sklearn.model_selection import GridSearchCV\n",
    "\n",
    "params ={\n",
    "    'n_estimators':[100, 200, 300, 500],\n",
    "    'max_depth':[6,8,15,None],\n",
    "}\n",
    "\n",
    "rf = RandomForestRegressor(random_state=0, n_jobs=-1)\n",
    "grid_cv = GridSearchCV(rf, param_grid=params, cv=5, n_jobs=-1)\n",
    "grid_cv.fit(X_data, y_data)"
   ]
  },
  {
   "cell_type": "code",
   "execution_count": 104,
   "metadata": {},
   "outputs": [
    {
     "name": "stdout",
     "output_type": "stream",
     "text": [
      "{'max_depth': 8, 'n_estimators': 500}\n"
     ]
    }
   ],
   "source": [
    "print(grid_cv.best_params_)"
   ]
  },
  {
   "cell_type": "markdown",
   "metadata": {},
   "source": [
    "## GBM"
   ]
  },
  {
   "cell_type": "code",
   "execution_count": 18,
   "metadata": {},
   "outputs": [
    {
     "name": "stdout",
     "output_type": "stream",
     "text": [
      "Fold 0\n",
      "Fold 1\n",
      "Fold 2\n",
      "Fold 3\n",
      "Fold 4\n",
      "Fold 5\n",
      "Fold 6\n",
      "Fold 7\n",
      "Fold 8\n",
      "Fold 9\n"
     ]
    }
   ],
   "source": [
    "from sklearn.model_selection import KFold\n",
    "from sklearn.ensemble import GradientBoostingRegressor\n",
    "from sklearn.metrics import mean_squared_error\n",
    "\n",
    "seed = 1234\n",
    "kf = KFold(n_splits=10, shuffle=True, random_state=seed)\n",
    "\n",
    "tuple_list = []\n",
    "for i, (train_idx, test_idx) in enumerate(kf.split(X_data)):\n",
    "    print('Fold {}'.format(i))\n",
    "    \n",
    "    X_train, y_train = X_data[train_idx], y_data[train_idx]\n",
    "    X_test, y_test = X_data[test_idx], y_data[test_idx]\n",
    "\n",
    "    # GBM\n",
    "    for j in [300, 500, 1000]:\n",
    "        gbm = GradientBoostingRegressor(n_estimators=j)\n",
    "        gbm.fit(X_train, y_train)\n",
    "        preds = gbm.predict(X_test)\n",
    "\n",
    "        mse = mean_squared_error(y_test, preds)\n",
    "        tuple_list.append((i,j,mse))"
   ]
  },
  {
   "cell_type": "code",
   "execution_count": 19,
   "metadata": {},
   "outputs": [
    {
     "data": {
      "text/html": [
       "<div>\n",
       "<style scoped>\n",
       "    .dataframe tbody tr th:only-of-type {\n",
       "        vertical-align: middle;\n",
       "    }\n",
       "\n",
       "    .dataframe tbody tr th {\n",
       "        vertical-align: top;\n",
       "    }\n",
       "\n",
       "    .dataframe thead th {\n",
       "        text-align: right;\n",
       "    }\n",
       "</style>\n",
       "<table border=\"1\" class=\"dataframe\">\n",
       "  <thead>\n",
       "    <tr style=\"text-align: right;\">\n",
       "      <th></th>\n",
       "      <th>Fold</th>\n",
       "      <th>n_estimators</th>\n",
       "      <th>MSE</th>\n",
       "    </tr>\n",
       "  </thead>\n",
       "  <tbody>\n",
       "    <tr>\n",
       "      <th>0</th>\n",
       "      <td>0.0</td>\n",
       "      <td>300.0</td>\n",
       "      <td>0.003577</td>\n",
       "    </tr>\n",
       "    <tr>\n",
       "      <th>1</th>\n",
       "      <td>0.0</td>\n",
       "      <td>500.0</td>\n",
       "      <td>0.003249</td>\n",
       "    </tr>\n",
       "    <tr>\n",
       "      <th>2</th>\n",
       "      <td>0.0</td>\n",
       "      <td>1000.0</td>\n",
       "      <td>0.002843</td>\n",
       "    </tr>\n",
       "    <tr>\n",
       "      <th>3</th>\n",
       "      <td>1.0</td>\n",
       "      <td>300.0</td>\n",
       "      <td>0.003596</td>\n",
       "    </tr>\n",
       "    <tr>\n",
       "      <th>4</th>\n",
       "      <td>1.0</td>\n",
       "      <td>500.0</td>\n",
       "      <td>0.003279</td>\n",
       "    </tr>\n",
       "    <tr>\n",
       "      <th>5</th>\n",
       "      <td>1.0</td>\n",
       "      <td>1000.0</td>\n",
       "      <td>0.003072</td>\n",
       "    </tr>\n",
       "    <tr>\n",
       "      <th>6</th>\n",
       "      <td>2.0</td>\n",
       "      <td>300.0</td>\n",
       "      <td>0.003404</td>\n",
       "    </tr>\n",
       "    <tr>\n",
       "      <th>7</th>\n",
       "      <td>2.0</td>\n",
       "      <td>500.0</td>\n",
       "      <td>0.003185</td>\n",
       "    </tr>\n",
       "    <tr>\n",
       "      <th>8</th>\n",
       "      <td>2.0</td>\n",
       "      <td>1000.0</td>\n",
       "      <td>0.003039</td>\n",
       "    </tr>\n",
       "    <tr>\n",
       "      <th>9</th>\n",
       "      <td>3.0</td>\n",
       "      <td>300.0</td>\n",
       "      <td>0.004742</td>\n",
       "    </tr>\n",
       "  </tbody>\n",
       "</table>\n",
       "</div>"
      ],
      "text/plain": [
       "   Fold  n_estimators       MSE\n",
       "0   0.0         300.0  0.003577\n",
       "1   0.0         500.0  0.003249\n",
       "2   0.0        1000.0  0.002843\n",
       "3   1.0         300.0  0.003596\n",
       "4   1.0         500.0  0.003279\n",
       "5   1.0        1000.0  0.003072\n",
       "6   2.0         300.0  0.003404\n",
       "7   2.0         500.0  0.003185\n",
       "8   2.0        1000.0  0.003039\n",
       "9   3.0         300.0  0.004742"
      ]
     },
     "execution_count": 19,
     "metadata": {},
     "output_type": "execute_result"
    }
   ],
   "source": [
    "MSE_df = pd.DataFrame(columns = ['Fold', 'n_estimators', 'MSE'])\n",
    "for i, j, mse in tuple_list:\n",
    "    MSE_df = MSE_df.append({'Fold' : i,\n",
    "                            'n_estimators' : j,\n",
    "                            'MSE' : mse}, ignore_index=True)\n",
    "MSE_df.head(10)"
   ]
  },
  {
   "cell_type": "code",
   "execution_count": 20,
   "metadata": {},
   "outputs": [
    {
     "data": {
      "text/html": [
       "<div>\n",
       "<style scoped>\n",
       "    .dataframe tbody tr th:only-of-type {\n",
       "        vertical-align: middle;\n",
       "    }\n",
       "\n",
       "    .dataframe tbody tr th {\n",
       "        vertical-align: top;\n",
       "    }\n",
       "\n",
       "    .dataframe thead th {\n",
       "        text-align: right;\n",
       "    }\n",
       "</style>\n",
       "<table border=\"1\" class=\"dataframe\">\n",
       "  <thead>\n",
       "    <tr style=\"text-align: right;\">\n",
       "      <th></th>\n",
       "      <th>Fold</th>\n",
       "      <th>MSE</th>\n",
       "    </tr>\n",
       "    <tr>\n",
       "      <th>n_estimators</th>\n",
       "      <th></th>\n",
       "      <th></th>\n",
       "    </tr>\n",
       "  </thead>\n",
       "  <tbody>\n",
       "    <tr>\n",
       "      <th>1000.0</th>\n",
       "      <td>4.5</td>\n",
       "      <td>0.003061</td>\n",
       "    </tr>\n",
       "    <tr>\n",
       "      <th>500.0</th>\n",
       "      <td>4.5</td>\n",
       "      <td>0.003335</td>\n",
       "    </tr>\n",
       "    <tr>\n",
       "      <th>300.0</th>\n",
       "      <td>4.5</td>\n",
       "      <td>0.003623</td>\n",
       "    </tr>\n",
       "  </tbody>\n",
       "</table>\n",
       "</div>"
      ],
      "text/plain": [
       "              Fold       MSE\n",
       "n_estimators                \n",
       "1000.0         4.5  0.003061\n",
       "500.0          4.5  0.003335\n",
       "300.0          4.5  0.003623"
      ]
     },
     "execution_count": 20,
     "metadata": {},
     "output_type": "execute_result"
    }
   ],
   "source": [
    "MSE_df.groupby('n_estimators').mean().sort_values(by='MSE')"
   ]
  },
  {
   "cell_type": "markdown",
   "metadata": {},
   "source": [
    "## XGBoost"
   ]
  },
  {
   "cell_type": "code",
   "execution_count": 94,
   "metadata": {},
   "outputs": [
    {
     "data": {
      "text/plain": [
       "GridSearchCV(cv=5,\n",
       "             estimator=XGBRegressor(base_score=None, booster=None,\n",
       "                                    colsample_bylevel=None,\n",
       "                                    colsample_bynode=None,\n",
       "                                    colsample_bytree=None, gamma=None,\n",
       "                                    gpu_id=None, importance_type='gain',\n",
       "                                    interaction_constraints=None,\n",
       "                                    learning_rate=None, max_delta_step=None,\n",
       "                                    max_depth=None, min_child_weight=None,\n",
       "                                    missing=nan, monotone_constraints=None,\n",
       "                                    n_estimators=100, n_jobs=None,\n",
       "                                    num_parallel_tree=None, random_state=None,\n",
       "                                    reg_alpha=None, reg_lambda=None,\n",
       "                                    scale_pos_weight=None, subsample=None,\n",
       "                                    tree_method=None, validate_parameters=None,\n",
       "                                    verbosity=None),\n",
       "             param_grid={'colsample_bytree': [0.7],\n",
       "                         'learning_rate': [0.03, 0.05, 0.07],\n",
       "                         'max_depth': [5, 6, 7], 'min_child_weight': [4],\n",
       "                         'n_estimators': [500], 'subsample': [0.7]},\n",
       "             verbose=False)"
      ]
     },
     "execution_count": 94,
     "metadata": {},
     "output_type": "execute_result"
    }
   ],
   "source": [
    "import xgboost as xgb\n",
    "from sklearn.model_selection import GridSearchCV\n",
    "\n",
    "xgb_reg = xgb.XGBRegressor()\n",
    "parameters = {'learning_rate': [.03, 0.05, .07], #so called `eta` value\n",
    "              'max_depth': [5, 6, 7],\n",
    "              'min_child_weight': [4],\n",
    "              'subsample': [0.7],\n",
    "              'colsample_bytree': [0.7],\n",
    "              'n_estimators': [500]}\n",
    "\n",
    "xgb_grid = GridSearchCV(xgb_reg,\n",
    "                        parameters,\n",
    "                        cv = 5,\n",
    "                        verbose=False)\n",
    "\n",
    "xgb_grid.fit(X_data, y_data)"
   ]
  },
  {
   "cell_type": "code",
   "execution_count": 96,
   "metadata": {},
   "outputs": [
    {
     "name": "stdout",
     "output_type": "stream",
     "text": [
      "{'colsample_bytree': 0.7, 'learning_rate': 0.03, 'max_depth': 6, 'min_child_weight': 4, 'n_estimators': 500, 'subsample': 0.7}\n"
     ]
    }
   ],
   "source": [
    "print(xgb_grid.best_params_)"
   ]
  },
  {
   "cell_type": "markdown",
   "metadata": {},
   "source": [
    "## Ensemble"
   ]
  },
  {
   "cell_type": "code",
   "execution_count": 114,
   "metadata": {},
   "outputs": [],
   "source": [
    "import torch\n",
    "from sklearn.metrics import mean_squared_error\n",
    "\n",
    "class EnsembleRegressor:\n",
    "    def __init__(self, models, weights=None):\n",
    "        \n",
    "        self.models = models\n",
    "        self.weights = weights\n",
    "        \n",
    "    def predict(self, X_test):\n",
    "        pred_list = []\n",
    "        for i, model in enumerate(models.values()):\n",
    "            if i == 0:\n",
    "                pred_list.append(model(torch.tensor(X_test.astype(np.float32))).detach().numpy().reshape(-1,))\n",
    "            else:\n",
    "                pred_list.append(model.predict(X_test))\n",
    "        preds = np.array(pred_list)\n",
    "            \n",
    "        prediction = np.average(preds, axis=0, weights=self.weights)\n",
    "\n",
    "        return prediction\n",
    "    \n",
    "    def random_search(self, X_test, y_test, num_search):\n",
    "        weights = torch.softmax(torch.rand(num_search, len(self.models)), axis=1).numpy()\n",
    "        \n",
    "        pred_list = []\n",
    "        for i, model in enumerate(models.values()):\n",
    "            if i == 0:\n",
    "                pred_list.append(model(torch.tensor(X_test.astype(np.float32))).detach().numpy().reshape(-1,))\n",
    "            else:\n",
    "                pred_list.append(model.predict(X_test))\n",
    "        preds = np.array(pred_list)\n",
    "\n",
    "        mse = []\n",
    "        for i in range(num_search):\n",
    "            prediction = np.average(preds, axis=0, weights=weights[i])\n",
    "            mse_ = mean_squared_error(y_test, prediction)\n",
    "            mse.append(mse_)\n",
    "        \n",
    "        result = pd.DataFrame(weights, columns=['w1', 'w2', 'w3', 'w4', 'w5', 'w6'])\n",
    "        result['MSE'] = mse\n",
    "\n",
    "        return result.sort_values('MSE', ascending=True)"
   ]
  },
  {
   "cell_type": "code",
   "execution_count": 30,
   "metadata": {},
   "outputs": [
    {
     "name": "stdout",
     "output_type": "stream",
     "text": [
      "Fold 0\n"
     ]
    },
    {
     "name": "stderr",
     "output_type": "stream",
     "text": [
      "100%|██████████| 61/61 [00:00<00:00, 325.61it/s]\n",
      "100%|██████████| 61/61 [00:00<00:00, 359.35it/s]\n",
      "  0%|          | 0/61 [00:00<?, ?it/s]"
     ]
    },
    {
     "name": "stdout",
     "output_type": "stream",
     "text": [
      "epoch: 1/60, train_loss: 0.03188798, val_loss: 0.00932121\n",
      "epoch: 2/60, train_loss: 0.01367551, val_loss: 0.00671258\n"
     ]
    },
    {
     "name": "stderr",
     "output_type": "stream",
     "text": [
      "100%|██████████| 61/61 [00:00<00:00, 348.14it/s]\n",
      "100%|██████████| 61/61 [00:00<00:00, 357.93it/s]\n",
      "  0%|          | 0/61 [00:00<?, ?it/s]"
     ]
    },
    {
     "name": "stdout",
     "output_type": "stream",
     "text": [
      "epoch: 3/60, train_loss: 0.00917223, val_loss: 0.00711118\n",
      "epoch: 4/60, train_loss: 0.00759330, val_loss: 0.00611583\n"
     ]
    },
    {
     "name": "stderr",
     "output_type": "stream",
     "text": [
      "100%|██████████| 61/61 [00:00<00:00, 351.66it/s]\n",
      "100%|██████████| 61/61 [00:00<00:00, 360.46it/s]\n",
      "  0%|          | 0/61 [00:00<?, ?it/s]"
     ]
    },
    {
     "name": "stdout",
     "output_type": "stream",
     "text": [
      "epoch: 5/60, train_loss: 0.00663349, val_loss: 0.00550761\n",
      "epoch: 6/60, train_loss: 0.00613575, val_loss: 0.00539191\n"
     ]
    },
    {
     "name": "stderr",
     "output_type": "stream",
     "text": [
      "100%|██████████| 61/61 [00:00<00:00, 350.89it/s]\n",
      "100%|██████████| 61/61 [00:00<00:00, 360.29it/s]\n",
      "  0%|          | 0/61 [00:00<?, ?it/s]"
     ]
    },
    {
     "name": "stdout",
     "output_type": "stream",
     "text": [
      "epoch: 7/60, train_loss: 0.00589778, val_loss: 0.00499033\n",
      "epoch: 8/60, train_loss: 0.00553298, val_loss: 0.00500610\n"
     ]
    },
    {
     "name": "stderr",
     "output_type": "stream",
     "text": [
      "100%|██████████| 61/61 [00:00<00:00, 351.29it/s]\n",
      "100%|██████████| 61/61 [00:00<00:00, 362.33it/s]\n",
      "  0%|          | 0/61 [00:00<?, ?it/s]"
     ]
    },
    {
     "name": "stdout",
     "output_type": "stream",
     "text": [
      "epoch: 9/60, train_loss: 0.00517361, val_loss: 0.00465810\n",
      "epoch: 10/60, train_loss: 0.00490541, val_loss: 0.00448350\n"
     ]
    },
    {
     "name": "stderr",
     "output_type": "stream",
     "text": [
      "100%|██████████| 61/61 [00:00<00:00, 352.77it/s]\n",
      "100%|██████████| 61/61 [00:00<00:00, 361.90it/s]\n",
      "  0%|          | 0/61 [00:00<?, ?it/s]"
     ]
    },
    {
     "name": "stdout",
     "output_type": "stream",
     "text": [
      "epoch: 11/60, train_loss: 0.00487589, val_loss: 0.00583529\n",
      "epoch: 12/60, train_loss: 0.00460908, val_loss: 0.00695669\n"
     ]
    },
    {
     "name": "stderr",
     "output_type": "stream",
     "text": [
      "100%|██████████| 61/61 [00:00<00:00, 356.69it/s]\n",
      "100%|██████████| 61/61 [00:00<00:00, 362.89it/s]\n",
      "  0%|          | 0/61 [00:00<?, ?it/s]"
     ]
    },
    {
     "name": "stdout",
     "output_type": "stream",
     "text": [
      "epoch: 13/60, train_loss: 0.00439982, val_loss: 0.00400656\n",
      "epoch: 14/60, train_loss: 0.00425959, val_loss: 0.00397495\n"
     ]
    },
    {
     "name": "stderr",
     "output_type": "stream",
     "text": [
      "100%|██████████| 61/61 [00:00<00:00, 357.45it/s]\n",
      "100%|██████████| 61/61 [00:00<00:00, 364.14it/s]\n",
      "  0%|          | 0/61 [00:00<?, ?it/s]"
     ]
    },
    {
     "name": "stdout",
     "output_type": "stream",
     "text": [
      "epoch: 15/60, train_loss: 0.00414266, val_loss: 0.00390847\n",
      "epoch: 16/60, train_loss: 0.00437263, val_loss: 0.00398039\n"
     ]
    },
    {
     "name": "stderr",
     "output_type": "stream",
     "text": [
      "100%|██████████| 61/61 [00:00<00:00, 359.15it/s]\n",
      "100%|██████████| 61/61 [00:00<00:00, 364.23it/s]\n",
      "  0%|          | 0/61 [00:00<?, ?it/s]"
     ]
    },
    {
     "name": "stdout",
     "output_type": "stream",
     "text": [
      "epoch: 17/60, train_loss: 0.00391235, val_loss: 0.00382239\n",
      "epoch: 18/60, train_loss: 0.00375521, val_loss: 0.00455322\n"
     ]
    },
    {
     "name": "stderr",
     "output_type": "stream",
     "text": [
      "100%|██████████| 61/61 [00:00<00:00, 359.02it/s]\n",
      "100%|██████████| 61/61 [00:00<00:00, 364.85it/s]\n",
      "  0%|          | 0/61 [00:00<?, ?it/s]"
     ]
    },
    {
     "name": "stdout",
     "output_type": "stream",
     "text": [
      "epoch: 19/60, train_loss: 0.00369782, val_loss: 0.00392819\n",
      "epoch: 20/60, train_loss: 0.00357155, val_loss: 0.00381488\n"
     ]
    },
    {
     "name": "stderr",
     "output_type": "stream",
     "text": [
      "100%|██████████| 61/61 [00:00<00:00, 358.66it/s]\n",
      "100%|██████████| 61/61 [00:00<00:00, 363.23it/s]\n",
      "  0%|          | 0/61 [00:00<?, ?it/s]"
     ]
    },
    {
     "name": "stdout",
     "output_type": "stream",
     "text": [
      "epoch: 21/60, train_loss: 0.00351195, val_loss: 0.00387486\n",
      "epoch: 22/60, train_loss: 0.00346885, val_loss: 0.00392179\n"
     ]
    },
    {
     "name": "stderr",
     "output_type": "stream",
     "text": [
      "100%|██████████| 61/61 [00:00<00:00, 358.48it/s]\n",
      "100%|██████████| 61/61 [00:00<00:00, 365.32it/s]\n",
      "  0%|          | 0/61 [00:00<?, ?it/s]"
     ]
    },
    {
     "name": "stdout",
     "output_type": "stream",
     "text": [
      "epoch: 23/60, train_loss: 0.00348809, val_loss: 0.00368851\n",
      "epoch: 24/60, train_loss: 0.00357636, val_loss: 0.00372248\n"
     ]
    },
    {
     "name": "stderr",
     "output_type": "stream",
     "text": [
      "100%|██████████| 61/61 [00:00<00:00, 360.24it/s]\n",
      "100%|██████████| 61/61 [00:00<00:00, 364.65it/s]\n",
      "  0%|          | 0/61 [00:00<?, ?it/s]"
     ]
    },
    {
     "name": "stdout",
     "output_type": "stream",
     "text": [
      "epoch: 25/60, train_loss: 0.00332723, val_loss: 0.00373231\n",
      "epoch: 26/60, train_loss: 0.00322366, val_loss: 0.00433426\n"
     ]
    },
    {
     "name": "stderr",
     "output_type": "stream",
     "text": [
      "100%|██████████| 61/61 [00:00<00:00, 357.97it/s]\n",
      "100%|██████████| 61/61 [00:00<00:00, 365.37it/s]\n",
      "  0%|          | 0/61 [00:00<?, ?it/s]"
     ]
    },
    {
     "name": "stdout",
     "output_type": "stream",
     "text": [
      "epoch: 27/60, train_loss: 0.00318093, val_loss: 0.00481989\n",
      "epoch: 28/60, train_loss: 0.00341036, val_loss: 0.00409894\n"
     ]
    },
    {
     "name": "stderr",
     "output_type": "stream",
     "text": [
      "100%|██████████| 61/61 [00:00<00:00, 359.12it/s]\n",
      "100%|██████████| 61/61 [00:00<00:00, 364.97it/s]\n",
      "  0%|          | 0/61 [00:00<?, ?it/s]"
     ]
    },
    {
     "name": "stdout",
     "output_type": "stream",
     "text": [
      "epoch: 29/60, train_loss: 0.00330889, val_loss: 0.00391660\n",
      "epoch: 30/60, train_loss: 0.00319160, val_loss: 0.00389264\n"
     ]
    },
    {
     "name": "stderr",
     "output_type": "stream",
     "text": [
      "100%|██████████| 61/61 [00:00<00:00, 358.82it/s]\n",
      "100%|██████████| 61/61 [00:00<00:00, 363.80it/s]\n",
      "  0%|          | 0/61 [00:00<?, ?it/s]"
     ]
    },
    {
     "name": "stdout",
     "output_type": "stream",
     "text": [
      "epoch: 31/60, train_loss: 0.00318362, val_loss: 0.00417640\n",
      "epoch: 32/60, train_loss: 0.00317321, val_loss: 0.00410286\n"
     ]
    },
    {
     "name": "stderr",
     "output_type": "stream",
     "text": [
      "100%|██████████| 61/61 [00:00<00:00, 357.99it/s]\n",
      "100%|██████████| 61/61 [00:00<00:00, 365.43it/s]\n",
      "  0%|          | 0/61 [00:00<?, ?it/s]"
     ]
    },
    {
     "name": "stdout",
     "output_type": "stream",
     "text": [
      "epoch: 33/60, train_loss: 0.00291848, val_loss: 0.00430267\n",
      "epoch: 34/60, train_loss: 0.00289298, val_loss: 0.00406322\n"
     ]
    },
    {
     "name": "stderr",
     "output_type": "stream",
     "text": [
      "100%|██████████| 61/61 [00:00<00:00, 362.20it/s]\n",
      "100%|██████████| 61/61 [00:00<00:00, 363.80it/s]\n",
      "  0%|          | 0/61 [00:00<?, ?it/s]"
     ]
    },
    {
     "name": "stdout",
     "output_type": "stream",
     "text": [
      "epoch: 35/60, train_loss: 0.00285302, val_loss: 0.00392935\n",
      "epoch: 36/60, train_loss: 0.00285654, val_loss: 0.00371965\n"
     ]
    },
    {
     "name": "stderr",
     "output_type": "stream",
     "text": [
      "100%|██████████| 61/61 [00:00<00:00, 360.72it/s]\n",
      "100%|██████████| 61/61 [00:00<00:00, 363.03it/s]\n",
      "  0%|          | 0/61 [00:00<?, ?it/s]"
     ]
    },
    {
     "name": "stdout",
     "output_type": "stream",
     "text": [
      "epoch: 37/60, train_loss: 0.00277328, val_loss: 0.00389882\n",
      "epoch: 38/60, train_loss: 0.00292530, val_loss: 0.00401270\n"
     ]
    },
    {
     "name": "stderr",
     "output_type": "stream",
     "text": [
      "100%|██████████| 61/61 [00:00<00:00, 362.58it/s]\n",
      "100%|██████████| 61/61 [00:00<00:00, 366.76it/s]\n",
      "  0%|          | 0/61 [00:00<?, ?it/s]"
     ]
    },
    {
     "name": "stdout",
     "output_type": "stream",
     "text": [
      "epoch: 39/60, train_loss: 0.00286350, val_loss: 0.00460842\n",
      "epoch: 40/60, train_loss: 0.00324200, val_loss: 0.00430896\n"
     ]
    },
    {
     "name": "stderr",
     "output_type": "stream",
     "text": [
      "100%|██████████| 61/61 [00:00<00:00, 362.43it/s]\n",
      "100%|██████████| 61/61 [00:00<00:00, 365.28it/s]\n",
      "  0%|          | 0/61 [00:00<?, ?it/s]"
     ]
    },
    {
     "name": "stdout",
     "output_type": "stream",
     "text": [
      "epoch: 41/60, train_loss: 0.00290235, val_loss: 0.00392226\n",
      "epoch: 42/60, train_loss: 0.00285666, val_loss: 0.00395660\n"
     ]
    },
    {
     "name": "stderr",
     "output_type": "stream",
     "text": [
      "100%|██████████| 61/61 [00:00<00:00, 361.90it/s]\n",
      "100%|██████████| 61/61 [00:00<00:00, 363.74it/s]\n",
      "  0%|          | 0/61 [00:00<?, ?it/s]"
     ]
    },
    {
     "name": "stdout",
     "output_type": "stream",
     "text": [
      "epoch: 43/60, train_loss: 0.00298887, val_loss: 0.00373623\n",
      "epoch: 44/60, train_loss: 0.00272196, val_loss: 0.00385260\n"
     ]
    },
    {
     "name": "stderr",
     "output_type": "stream",
     "text": [
      "100%|██████████| 61/61 [00:00<00:00, 360.95it/s]\n",
      "100%|██████████| 61/61 [00:00<00:00, 367.23it/s]\n",
      "  0%|          | 0/61 [00:00<?, ?it/s]"
     ]
    },
    {
     "name": "stdout",
     "output_type": "stream",
     "text": [
      "epoch: 45/60, train_loss: 0.00277777, val_loss: 0.00401073\n",
      "epoch: 46/60, train_loss: 0.00275335, val_loss: 0.00429946\n"
     ]
    },
    {
     "name": "stderr",
     "output_type": "stream",
     "text": [
      "100%|██████████| 61/61 [00:00<00:00, 361.77it/s]\n",
      "100%|██████████| 61/61 [00:00<00:00, 366.03it/s]\n",
      "  0%|          | 0/61 [00:00<?, ?it/s]"
     ]
    },
    {
     "name": "stdout",
     "output_type": "stream",
     "text": [
      "epoch: 47/60, train_loss: 0.00290429, val_loss: 0.00413691\n",
      "epoch: 48/60, train_loss: 0.00286584, val_loss: 0.00383620\n"
     ]
    },
    {
     "name": "stderr",
     "output_type": "stream",
     "text": [
      "100%|██████████| 61/61 [00:00<00:00, 361.75it/s]\n",
      "100%|██████████| 61/61 [00:00<00:00, 366.88it/s]\n",
      "  0%|          | 0/61 [00:00<?, ?it/s]"
     ]
    },
    {
     "name": "stdout",
     "output_type": "stream",
     "text": [
      "epoch: 49/60, train_loss: 0.00269962, val_loss: 0.00636673\n",
      "epoch: 50/60, train_loss: 0.00294818, val_loss: 0.00385149\n"
     ]
    },
    {
     "name": "stderr",
     "output_type": "stream",
     "text": [
      "100%|██████████| 61/61 [00:00<00:00, 363.20it/s]\n",
      "100%|██████████| 61/61 [00:00<00:00, 366.62it/s]\n",
      "  0%|          | 0/61 [00:00<?, ?it/s]"
     ]
    },
    {
     "name": "stdout",
     "output_type": "stream",
     "text": [
      "epoch: 51/60, train_loss: 0.00260545, val_loss: 0.00404265\n",
      "epoch: 52/60, train_loss: 0.00263776, val_loss: 0.00385475\n"
     ]
    },
    {
     "name": "stderr",
     "output_type": "stream",
     "text": [
      "100%|██████████| 61/61 [00:00<00:00, 363.89it/s]\n",
      "100%|██████████| 61/61 [00:00<00:00, 367.48it/s]\n",
      "  0%|          | 0/61 [00:00<?, ?it/s]"
     ]
    },
    {
     "name": "stdout",
     "output_type": "stream",
     "text": [
      "epoch: 53/60, train_loss: 0.00255945, val_loss: 0.00380726\n",
      "epoch: 54/60, train_loss: 0.00272739, val_loss: 0.00388815\n"
     ]
    },
    {
     "name": "stderr",
     "output_type": "stream",
     "text": [
      "100%|██████████| 61/61 [00:00<00:00, 362.90it/s]\n",
      "100%|██████████| 61/61 [00:00<00:00, 365.78it/s]\n",
      "  0%|          | 0/61 [00:00<?, ?it/s]"
     ]
    },
    {
     "name": "stdout",
     "output_type": "stream",
     "text": [
      "epoch: 55/60, train_loss: 0.00261917, val_loss: 0.00400519\n",
      "epoch: 56/60, train_loss: 0.00258583, val_loss: 0.00440839\n"
     ]
    },
    {
     "name": "stderr",
     "output_type": "stream",
     "text": [
      "100%|██████████| 61/61 [00:00<00:00, 362.53it/s]\n",
      "100%|██████████| 61/61 [00:00<00:00, 366.45it/s]\n",
      "  0%|          | 0/61 [00:00<?, ?it/s]"
     ]
    },
    {
     "name": "stdout",
     "output_type": "stream",
     "text": [
      "epoch: 57/60, train_loss: 0.00268110, val_loss: 0.00460165\n",
      "epoch: 58/60, train_loss: 0.00273924, val_loss: 0.00396755\n"
     ]
    },
    {
     "name": "stderr",
     "output_type": "stream",
     "text": [
      "100%|██████████| 61/61 [00:00<00:00, 363.37it/s]\n",
      "100%|██████████| 61/61 [00:00<00:00, 366.56it/s]\n"
     ]
    },
    {
     "name": "stdout",
     "output_type": "stream",
     "text": [
      "epoch: 59/60, train_loss: 0.00243993, val_loss: 0.00404872\n",
      "epoch: 60/60, train_loss: 0.00248861, val_loss: 0.00393183\n",
      "best mse : 0.00368851\n",
      "Fold 1\n"
     ]
    },
    {
     "name": "stderr",
     "output_type": "stream",
     "text": [
      "100%|██████████| 61/61 [00:00<00:00, 330.73it/s]\n",
      "100%|██████████| 61/61 [00:00<00:00, 363.15it/s]\n",
      "  0%|          | 0/61 [00:00<?, ?it/s]"
     ]
    },
    {
     "name": "stdout",
     "output_type": "stream",
     "text": [
      "epoch: 1/60, train_loss: 0.03420772, val_loss: 0.00916523\n",
      "epoch: 2/60, train_loss: 0.01547116, val_loss: 0.00718198\n"
     ]
    },
    {
     "name": "stderr",
     "output_type": "stream",
     "text": [
      "100%|██████████| 61/61 [00:00<00:00, 357.92it/s]\n",
      "100%|██████████| 61/61 [00:00<00:00, 363.87it/s]\n",
      "  0%|          | 0/61 [00:00<?, ?it/s]"
     ]
    },
    {
     "name": "stdout",
     "output_type": "stream",
     "text": [
      "epoch: 3/60, train_loss: 0.01001013, val_loss: 0.00669405\n",
      "epoch: 4/60, train_loss: 0.00785942, val_loss: 0.00741065\n"
     ]
    },
    {
     "name": "stderr",
     "output_type": "stream",
     "text": [
      "100%|██████████| 61/61 [00:00<00:00, 360.22it/s]\n",
      "100%|██████████| 61/61 [00:00<00:00, 363.13it/s]\n",
      "  0%|          | 0/61 [00:00<?, ?it/s]"
     ]
    },
    {
     "name": "stdout",
     "output_type": "stream",
     "text": [
      "epoch: 5/60, train_loss: 0.00690521, val_loss: 0.00621903\n",
      "epoch: 6/60, train_loss: 0.00608892, val_loss: 0.00597519\n"
     ]
    },
    {
     "name": "stderr",
     "output_type": "stream",
     "text": [
      "100%|██████████| 61/61 [00:00<00:00, 359.84it/s]\n",
      "100%|██████████| 61/61 [00:00<00:00, 363.36it/s]\n",
      "  0%|          | 0/61 [00:00<?, ?it/s]"
     ]
    },
    {
     "name": "stdout",
     "output_type": "stream",
     "text": [
      "epoch: 7/60, train_loss: 0.00556282, val_loss: 0.00647775\n",
      "epoch: 8/60, train_loss: 0.00537484, val_loss: 0.00536547\n"
     ]
    },
    {
     "name": "stderr",
     "output_type": "stream",
     "text": [
      "100%|██████████| 61/61 [00:00<00:00, 360.59it/s]\n",
      "100%|██████████| 61/61 [00:00<00:00, 364.60it/s]\n",
      "  0%|          | 0/61 [00:00<?, ?it/s]"
     ]
    },
    {
     "name": "stdout",
     "output_type": "stream",
     "text": [
      "epoch: 9/60, train_loss: 0.00494616, val_loss: 0.00525908\n",
      "epoch: 10/60, train_loss: 0.00458459, val_loss: 0.00541618\n"
     ]
    },
    {
     "name": "stderr",
     "output_type": "stream",
     "text": [
      "100%|██████████| 61/61 [00:00<00:00, 360.96it/s]\n",
      "100%|██████████| 61/61 [00:00<00:00, 365.03it/s]\n",
      "  0%|          | 0/61 [00:00<?, ?it/s]"
     ]
    },
    {
     "name": "stdout",
     "output_type": "stream",
     "text": [
      "epoch: 11/60, train_loss: 0.00444913, val_loss: 0.00700895\n",
      "epoch: 12/60, train_loss: 0.00461185, val_loss: 0.00510383\n"
     ]
    },
    {
     "name": "stderr",
     "output_type": "stream",
     "text": [
      "100%|██████████| 61/61 [00:00<00:00, 359.70it/s]\n",
      "100%|██████████| 61/61 [00:00<00:00, 364.06it/s]\n",
      "  0%|          | 0/61 [00:00<?, ?it/s]"
     ]
    },
    {
     "name": "stdout",
     "output_type": "stream",
     "text": [
      "epoch: 13/60, train_loss: 0.00433471, val_loss: 0.00498611\n",
      "epoch: 14/60, train_loss: 0.00406651, val_loss: 0.00474079\n"
     ]
    },
    {
     "name": "stderr",
     "output_type": "stream",
     "text": [
      "100%|██████████| 61/61 [00:00<00:00, 361.61it/s]\n",
      "100%|██████████| 61/61 [00:00<00:00, 364.01it/s]\n",
      "  0%|          | 0/61 [00:00<?, ?it/s]"
     ]
    },
    {
     "name": "stdout",
     "output_type": "stream",
     "text": [
      "epoch: 15/60, train_loss: 0.00393458, val_loss: 0.00484255\n",
      "epoch: 16/60, train_loss: 0.00375976, val_loss: 0.00502763\n"
     ]
    },
    {
     "name": "stderr",
     "output_type": "stream",
     "text": [
      "100%|██████████| 61/61 [00:00<00:00, 361.54it/s]\n",
      "100%|██████████| 61/61 [00:00<00:00, 364.43it/s]\n",
      "  0%|          | 0/61 [00:00<?, ?it/s]"
     ]
    },
    {
     "name": "stdout",
     "output_type": "stream",
     "text": [
      "epoch: 17/60, train_loss: 0.00395681, val_loss: 0.00469488\n",
      "epoch: 18/60, train_loss: 0.00363935, val_loss: 0.00466526\n"
     ]
    },
    {
     "name": "stderr",
     "output_type": "stream",
     "text": [
      "100%|██████████| 61/61 [00:00<00:00, 362.02it/s]\n",
      "100%|██████████| 61/61 [00:00<00:00, 364.79it/s]\n",
      "  0%|          | 0/61 [00:00<?, ?it/s]"
     ]
    },
    {
     "name": "stdout",
     "output_type": "stream",
     "text": [
      "epoch: 19/60, train_loss: 0.00365562, val_loss: 0.00469772\n",
      "epoch: 20/60, train_loss: 0.00363862, val_loss: 0.00489287\n"
     ]
    },
    {
     "name": "stderr",
     "output_type": "stream",
     "text": [
      "100%|██████████| 61/61 [00:00<00:00, 362.16it/s]\n",
      "100%|██████████| 61/61 [00:00<00:00, 365.22it/s]\n",
      "  0%|          | 0/61 [00:00<?, ?it/s]"
     ]
    },
    {
     "name": "stdout",
     "output_type": "stream",
     "text": [
      "epoch: 21/60, train_loss: 0.00335228, val_loss: 0.00476407\n",
      "epoch: 22/60, train_loss: 0.00338700, val_loss: 0.00451240\n"
     ]
    },
    {
     "name": "stderr",
     "output_type": "stream",
     "text": [
      "100%|██████████| 61/61 [00:00<00:00, 360.48it/s]\n",
      "100%|██████████| 61/61 [00:00<00:00, 365.69it/s]\n",
      "  0%|          | 0/61 [00:00<?, ?it/s]"
     ]
    },
    {
     "name": "stdout",
     "output_type": "stream",
     "text": [
      "epoch: 23/60, train_loss: 0.00329900, val_loss: 0.00460674\n",
      "epoch: 24/60, train_loss: 0.00324409, val_loss: 0.00478435\n"
     ]
    },
    {
     "name": "stderr",
     "output_type": "stream",
     "text": [
      "100%|██████████| 61/61 [00:00<00:00, 361.32it/s]\n",
      "100%|██████████| 61/61 [00:00<00:00, 365.69it/s]\n",
      "  0%|          | 0/61 [00:00<?, ?it/s]"
     ]
    },
    {
     "name": "stdout",
     "output_type": "stream",
     "text": [
      "epoch: 25/60, train_loss: 0.00323961, val_loss: 0.00519277\n",
      "epoch: 26/60, train_loss: 0.00313030, val_loss: 0.00502973\n"
     ]
    },
    {
     "name": "stderr",
     "output_type": "stream",
     "text": [
      "100%|██████████| 61/61 [00:00<00:00, 361.96it/s]\n",
      "100%|██████████| 61/61 [00:00<00:00, 365.55it/s]\n",
      "  0%|          | 0/61 [00:00<?, ?it/s]"
     ]
    },
    {
     "name": "stdout",
     "output_type": "stream",
     "text": [
      "epoch: 27/60, train_loss: 0.00315645, val_loss: 0.00449698\n",
      "epoch: 28/60, train_loss: 0.00315541, val_loss: 0.00445707\n"
     ]
    },
    {
     "name": "stderr",
     "output_type": "stream",
     "text": [
      "100%|██████████| 61/61 [00:00<00:00, 361.12it/s]\n",
      "100%|██████████| 61/61 [00:00<00:00, 365.41it/s]\n",
      "  0%|          | 0/61 [00:00<?, ?it/s]"
     ]
    },
    {
     "name": "stdout",
     "output_type": "stream",
     "text": [
      "epoch: 29/60, train_loss: 0.00302687, val_loss: 0.00442303\n",
      "epoch: 30/60, train_loss: 0.00298214, val_loss: 0.00689997\n"
     ]
    },
    {
     "name": "stderr",
     "output_type": "stream",
     "text": [
      "100%|██████████| 61/61 [00:00<00:00, 362.85it/s]\n",
      "100%|██████████| 61/61 [00:00<00:00, 366.01it/s]\n",
      "  0%|          | 0/61 [00:00<?, ?it/s]"
     ]
    },
    {
     "name": "stdout",
     "output_type": "stream",
     "text": [
      "epoch: 31/60, train_loss: 0.00336874, val_loss: 0.00455883\n",
      "epoch: 32/60, train_loss: 0.00306867, val_loss: 0.00500401\n"
     ]
    },
    {
     "name": "stderr",
     "output_type": "stream",
     "text": [
      "100%|██████████| 61/61 [00:00<00:00, 362.52it/s]\n",
      "100%|██████████| 61/61 [00:00<00:00, 366.06it/s]\n",
      "  0%|          | 0/61 [00:00<?, ?it/s]"
     ]
    },
    {
     "name": "stdout",
     "output_type": "stream",
     "text": [
      "epoch: 33/60, train_loss: 0.00285702, val_loss: 0.00433157\n",
      "epoch: 34/60, train_loss: 0.00292612, val_loss: 0.00455285\n"
     ]
    },
    {
     "name": "stderr",
     "output_type": "stream",
     "text": [
      "100%|██████████| 61/61 [00:00<00:00, 362.21it/s]\n",
      "100%|██████████| 61/61 [00:00<00:00, 365.32it/s]\n",
      "  0%|          | 0/61 [00:00<?, ?it/s]"
     ]
    },
    {
     "name": "stdout",
     "output_type": "stream",
     "text": [
      "epoch: 35/60, train_loss: 0.00303495, val_loss: 0.00444507\n",
      "epoch: 36/60, train_loss: 0.00294101, val_loss: 0.00438170\n"
     ]
    },
    {
     "name": "stderr",
     "output_type": "stream",
     "text": [
      "100%|██████████| 61/61 [00:00<00:00, 360.87it/s]\n",
      "100%|██████████| 61/61 [00:00<00:00, 366.73it/s]\n",
      "  0%|          | 0/61 [00:00<?, ?it/s]"
     ]
    },
    {
     "name": "stdout",
     "output_type": "stream",
     "text": [
      "epoch: 37/60, train_loss: 0.00278631, val_loss: 0.00439117\n",
      "epoch: 38/60, train_loss: 0.00290047, val_loss: 0.00464560\n"
     ]
    },
    {
     "name": "stderr",
     "output_type": "stream",
     "text": [
      "100%|██████████| 61/61 [00:00<00:00, 362.09it/s]\n",
      "100%|██████████| 61/61 [00:00<00:00, 366.46it/s]\n",
      "  0%|          | 0/61 [00:00<?, ?it/s]"
     ]
    },
    {
     "name": "stdout",
     "output_type": "stream",
     "text": [
      "epoch: 39/60, train_loss: 0.00291552, val_loss: 0.00443880\n",
      "epoch: 40/60, train_loss: 0.00282345, val_loss: 0.00423757\n"
     ]
    },
    {
     "name": "stderr",
     "output_type": "stream",
     "text": [
      "100%|██████████| 61/61 [00:00<00:00, 361.84it/s]\n",
      "100%|██████████| 61/61 [00:00<00:00, 366.96it/s]\n",
      "  0%|          | 0/61 [00:00<?, ?it/s]"
     ]
    },
    {
     "name": "stdout",
     "output_type": "stream",
     "text": [
      "epoch: 41/60, train_loss: 0.00267397, val_loss: 0.00424073\n",
      "epoch: 42/60, train_loss: 0.00282010, val_loss: 0.00459552\n"
     ]
    },
    {
     "name": "stderr",
     "output_type": "stream",
     "text": [
      "100%|██████████| 61/61 [00:00<00:00, 362.20it/s]\n",
      "100%|██████████| 61/61 [00:00<00:00, 366.49it/s]\n",
      "  0%|          | 0/61 [00:00<?, ?it/s]"
     ]
    },
    {
     "name": "stdout",
     "output_type": "stream",
     "text": [
      "epoch: 43/60, train_loss: 0.00271454, val_loss: 0.00429725\n",
      "epoch: 44/60, train_loss: 0.00269391, val_loss: 0.00435117\n"
     ]
    },
    {
     "name": "stderr",
     "output_type": "stream",
     "text": [
      "100%|██████████| 61/61 [00:00<00:00, 362.61it/s]\n",
      "100%|██████████| 61/61 [00:00<00:00, 367.17it/s]\n",
      "  0%|          | 0/61 [00:00<?, ?it/s]"
     ]
    },
    {
     "name": "stdout",
     "output_type": "stream",
     "text": [
      "epoch: 45/60, train_loss: 0.00271761, val_loss: 0.00427686\n",
      "epoch: 46/60, train_loss: 0.00265078, val_loss: 0.00467734\n"
     ]
    },
    {
     "name": "stderr",
     "output_type": "stream",
     "text": [
      "100%|██████████| 61/61 [00:00<00:00, 362.66it/s]\n",
      "100%|██████████| 61/61 [00:00<00:00, 367.85it/s]\n",
      "  0%|          | 0/61 [00:00<?, ?it/s]"
     ]
    },
    {
     "name": "stdout",
     "output_type": "stream",
     "text": [
      "epoch: 47/60, train_loss: 0.00278478, val_loss: 0.00434773\n",
      "epoch: 48/60, train_loss: 0.00264807, val_loss: 0.00448597\n"
     ]
    },
    {
     "name": "stderr",
     "output_type": "stream",
     "text": [
      "100%|██████████| 61/61 [00:00<00:00, 362.60it/s]\n",
      "100%|██████████| 61/61 [00:00<00:00, 365.12it/s]\n",
      "  0%|          | 0/61 [00:00<?, ?it/s]"
     ]
    },
    {
     "name": "stdout",
     "output_type": "stream",
     "text": [
      "epoch: 49/60, train_loss: 0.00279072, val_loss: 0.00437079\n",
      "epoch: 50/60, train_loss: 0.00252094, val_loss: 0.00429550\n"
     ]
    },
    {
     "name": "stderr",
     "output_type": "stream",
     "text": [
      "100%|██████████| 61/61 [00:00<00:00, 361.66it/s]\n",
      "100%|██████████| 61/61 [00:00<00:00, 367.55it/s]\n",
      "  0%|          | 0/61 [00:00<?, ?it/s]"
     ]
    },
    {
     "name": "stdout",
     "output_type": "stream",
     "text": [
      "epoch: 51/60, train_loss: 0.00267877, val_loss: 0.00444309\n",
      "epoch: 52/60, train_loss: 0.00258404, val_loss: 0.00434031\n"
     ]
    },
    {
     "name": "stderr",
     "output_type": "stream",
     "text": [
      "100%|██████████| 61/61 [00:00<00:00, 361.60it/s]\n",
      "100%|██████████| 61/61 [00:00<00:00, 365.63it/s]\n",
      "  0%|          | 0/61 [00:00<?, ?it/s]"
     ]
    },
    {
     "name": "stdout",
     "output_type": "stream",
     "text": [
      "epoch: 53/60, train_loss: 0.00256662, val_loss: 0.00447489\n",
      "epoch: 54/60, train_loss: 0.00249277, val_loss: 0.00420849\n"
     ]
    },
    {
     "name": "stderr",
     "output_type": "stream",
     "text": [
      "100%|██████████| 61/61 [00:00<00:00, 362.48it/s]\n",
      "100%|██████████| 61/61 [00:00<00:00, 357.19it/s]\n",
      "  0%|          | 0/61 [00:00<?, ?it/s]"
     ]
    },
    {
     "name": "stdout",
     "output_type": "stream",
     "text": [
      "epoch: 55/60, train_loss: 0.00261981, val_loss: 0.00424834\n",
      "epoch: 56/60, train_loss: 0.00264271, val_loss: 0.00530101\n"
     ]
    },
    {
     "name": "stderr",
     "output_type": "stream",
     "text": [
      "100%|██████████| 61/61 [00:00<00:00, 362.57it/s]\n",
      "100%|██████████| 61/61 [00:00<00:00, 367.03it/s]\n",
      "  0%|          | 0/61 [00:00<?, ?it/s]"
     ]
    },
    {
     "name": "stdout",
     "output_type": "stream",
     "text": [
      "epoch: 57/60, train_loss: 0.00279115, val_loss: 0.00530147\n",
      "epoch: 58/60, train_loss: 0.00243503, val_loss: 0.00451308\n"
     ]
    },
    {
     "name": "stderr",
     "output_type": "stream",
     "text": [
      "100%|██████████| 61/61 [00:00<00:00, 363.34it/s]\n",
      "100%|██████████| 61/61 [00:00<00:00, 366.20it/s]\n"
     ]
    },
    {
     "name": "stdout",
     "output_type": "stream",
     "text": [
      "epoch: 59/60, train_loss: 0.00250228, val_loss: 0.00463848\n",
      "epoch: 60/60, train_loss: 0.00248682, val_loss: 0.00428684\n",
      "best mse : 0.00420849\n",
      "Fold 2\n"
     ]
    },
    {
     "name": "stderr",
     "output_type": "stream",
     "text": [
      "100%|██████████| 61/61 [00:00<00:00, 330.68it/s]\n",
      "100%|██████████| 61/61 [00:00<00:00, 360.74it/s]\n",
      "  0%|          | 0/61 [00:00<?, ?it/s]"
     ]
    },
    {
     "name": "stdout",
     "output_type": "stream",
     "text": [
      "epoch: 1/60, train_loss: 0.03635652, val_loss: 0.01022950\n",
      "epoch: 2/60, train_loss: 0.01547614, val_loss: 0.00786580\n"
     ]
    },
    {
     "name": "stderr",
     "output_type": "stream",
     "text": [
      "100%|██████████| 61/61 [00:00<00:00, 359.19it/s]\n",
      "100%|██████████| 61/61 [00:00<00:00, 363.90it/s]\n",
      "  0%|          | 0/61 [00:00<?, ?it/s]"
     ]
    },
    {
     "name": "stdout",
     "output_type": "stream",
     "text": [
      "epoch: 3/60, train_loss: 0.00981677, val_loss: 0.00688964\n",
      "epoch: 4/60, train_loss: 0.00801709, val_loss: 0.00639380\n"
     ]
    },
    {
     "name": "stderr",
     "output_type": "stream",
     "text": [
      "100%|██████████| 61/61 [00:00<00:00, 359.62it/s]\n",
      "100%|██████████| 61/61 [00:00<00:00, 363.36it/s]\n",
      "  0%|          | 0/61 [00:00<?, ?it/s]"
     ]
    },
    {
     "name": "stdout",
     "output_type": "stream",
     "text": [
      "epoch: 5/60, train_loss: 0.00690991, val_loss: 0.00588241\n",
      "epoch: 6/60, train_loss: 0.00614742, val_loss: 0.00569721\n"
     ]
    },
    {
     "name": "stderr",
     "output_type": "stream",
     "text": [
      "100%|██████████| 61/61 [00:00<00:00, 358.86it/s]\n",
      "100%|██████████| 61/61 [00:00<00:00, 363.43it/s]\n",
      "  0%|          | 0/61 [00:00<?, ?it/s]"
     ]
    },
    {
     "name": "stdout",
     "output_type": "stream",
     "text": [
      "epoch: 7/60, train_loss: 0.00582265, val_loss: 0.00551389\n",
      "epoch: 8/60, train_loss: 0.00511839, val_loss: 0.00532354\n"
     ]
    },
    {
     "name": "stderr",
     "output_type": "stream",
     "text": [
      "100%|██████████| 61/61 [00:00<00:00, 359.84it/s]\n",
      "100%|██████████| 61/61 [00:00<00:00, 364.59it/s]\n",
      "  0%|          | 0/61 [00:00<?, ?it/s]"
     ]
    },
    {
     "name": "stdout",
     "output_type": "stream",
     "text": [
      "epoch: 9/60, train_loss: 0.00502660, val_loss: 0.00508710\n",
      "epoch: 10/60, train_loss: 0.00470237, val_loss: 0.00493632\n"
     ]
    },
    {
     "name": "stderr",
     "output_type": "stream",
     "text": [
      "100%|██████████| 61/61 [00:00<00:00, 359.19it/s]\n",
      "100%|██████████| 61/61 [00:00<00:00, 364.96it/s]\n",
      "  0%|          | 0/61 [00:00<?, ?it/s]"
     ]
    },
    {
     "name": "stdout",
     "output_type": "stream",
     "text": [
      "epoch: 11/60, train_loss: 0.00426335, val_loss: 0.00479780\n",
      "epoch: 12/60, train_loss: 0.00435891, val_loss: 0.00481175\n"
     ]
    },
    {
     "name": "stderr",
     "output_type": "stream",
     "text": [
      "100%|██████████| 61/61 [00:00<00:00, 360.99it/s]\n",
      "100%|██████████| 61/61 [00:00<00:00, 365.25it/s]\n",
      "  0%|          | 0/61 [00:00<?, ?it/s]"
     ]
    },
    {
     "name": "stdout",
     "output_type": "stream",
     "text": [
      "epoch: 13/60, train_loss: 0.00396285, val_loss: 0.00463489\n",
      "epoch: 14/60, train_loss: 0.00400839, val_loss: 0.00446967\n"
     ]
    },
    {
     "name": "stderr",
     "output_type": "stream",
     "text": [
      "100%|██████████| 61/61 [00:00<00:00, 361.09it/s]\n",
      "100%|██████████| 61/61 [00:00<00:00, 364.93it/s]\n",
      "  0%|          | 0/61 [00:00<?, ?it/s]"
     ]
    },
    {
     "name": "stdout",
     "output_type": "stream",
     "text": [
      "epoch: 15/60, train_loss: 0.00390378, val_loss: 0.00454345\n",
      "epoch: 16/60, train_loss: 0.00373987, val_loss: 0.00475530\n"
     ]
    },
    {
     "name": "stderr",
     "output_type": "stream",
     "text": [
      "100%|██████████| 61/61 [00:00<00:00, 360.20it/s]\n",
      "100%|██████████| 61/61 [00:00<00:00, 365.49it/s]\n",
      "  0%|          | 0/61 [00:00<?, ?it/s]"
     ]
    },
    {
     "name": "stdout",
     "output_type": "stream",
     "text": [
      "epoch: 17/60, train_loss: 0.00358635, val_loss: 0.00515131\n",
      "epoch: 18/60, train_loss: 0.00363985, val_loss: 0.00477780\n"
     ]
    },
    {
     "name": "stderr",
     "output_type": "stream",
     "text": [
      "100%|██████████| 61/61 [00:00<00:00, 362.45it/s]\n",
      "100%|██████████| 61/61 [00:00<00:00, 365.88it/s]\n",
      "  0%|          | 0/61 [00:00<?, ?it/s]"
     ]
    },
    {
     "name": "stdout",
     "output_type": "stream",
     "text": [
      "epoch: 19/60, train_loss: 0.00364474, val_loss: 0.00439817\n",
      "epoch: 20/60, train_loss: 0.00345297, val_loss: 0.00474474\n"
     ]
    },
    {
     "name": "stderr",
     "output_type": "stream",
     "text": [
      "100%|██████████| 61/61 [00:00<00:00, 363.28it/s]\n",
      "100%|██████████| 61/61 [00:00<00:00, 366.10it/s]\n",
      "  0%|          | 0/61 [00:00<?, ?it/s]"
     ]
    },
    {
     "name": "stdout",
     "output_type": "stream",
     "text": [
      "epoch: 21/60, train_loss: 0.00324142, val_loss: 0.00502675\n",
      "epoch: 22/60, train_loss: 0.00333252, val_loss: 0.00453853\n"
     ]
    },
    {
     "name": "stderr",
     "output_type": "stream",
     "text": [
      "100%|██████████| 61/61 [00:00<00:00, 361.42it/s]\n",
      "100%|██████████| 61/61 [00:00<00:00, 366.42it/s]\n",
      "  0%|          | 0/61 [00:00<?, ?it/s]"
     ]
    },
    {
     "name": "stdout",
     "output_type": "stream",
     "text": [
      "epoch: 23/60, train_loss: 0.00329979, val_loss: 0.00441336\n",
      "epoch: 24/60, train_loss: 0.00323999, val_loss: 0.00510168\n"
     ]
    },
    {
     "name": "stderr",
     "output_type": "stream",
     "text": [
      "100%|██████████| 61/61 [00:00<00:00, 363.18it/s]\n",
      "100%|██████████| 61/61 [00:00<00:00, 367.31it/s]\n",
      "  0%|          | 0/61 [00:00<?, ?it/s]"
     ]
    },
    {
     "name": "stdout",
     "output_type": "stream",
     "text": [
      "epoch: 25/60, train_loss: 0.00301542, val_loss: 0.00473374\n",
      "epoch: 26/60, train_loss: 0.00316197, val_loss: 0.00451427\n"
     ]
    },
    {
     "name": "stderr",
     "output_type": "stream",
     "text": [
      "100%|██████████| 61/61 [00:00<00:00, 362.26it/s]\n",
      "100%|██████████| 61/61 [00:00<00:00, 366.11it/s]\n",
      "  0%|          | 0/61 [00:00<?, ?it/s]"
     ]
    },
    {
     "name": "stdout",
     "output_type": "stream",
     "text": [
      "epoch: 27/60, train_loss: 0.00306575, val_loss: 0.00482725\n",
      "epoch: 28/60, train_loss: 0.00305927, val_loss: 0.00452863\n"
     ]
    },
    {
     "name": "stderr",
     "output_type": "stream",
     "text": [
      "100%|██████████| 61/61 [00:00<00:00, 362.87it/s]\n",
      "100%|██████████| 61/61 [00:00<00:00, 365.58it/s]\n",
      "  0%|          | 0/61 [00:00<?, ?it/s]"
     ]
    },
    {
     "name": "stdout",
     "output_type": "stream",
     "text": [
      "epoch: 29/60, train_loss: 0.00318610, val_loss: 0.00467564\n",
      "epoch: 30/60, train_loss: 0.00311268, val_loss: 0.00469036\n"
     ]
    },
    {
     "name": "stderr",
     "output_type": "stream",
     "text": [
      "100%|██████████| 61/61 [00:00<00:00, 360.33it/s]\n",
      "100%|██████████| 61/61 [00:00<00:00, 366.43it/s]\n",
      "  0%|          | 0/61 [00:00<?, ?it/s]"
     ]
    },
    {
     "name": "stdout",
     "output_type": "stream",
     "text": [
      "epoch: 31/60, train_loss: 0.00302699, val_loss: 0.00460514\n",
      "epoch: 32/60, train_loss: 0.00288732, val_loss: 0.00488718\n"
     ]
    },
    {
     "name": "stderr",
     "output_type": "stream",
     "text": [
      "100%|██████████| 61/61 [00:00<00:00, 360.34it/s]\n",
      "100%|██████████| 61/61 [00:00<00:00, 365.88it/s]\n",
      "  0%|          | 0/61 [00:00<?, ?it/s]"
     ]
    },
    {
     "name": "stdout",
     "output_type": "stream",
     "text": [
      "epoch: 33/60, train_loss: 0.00282989, val_loss: 0.00450248\n",
      "epoch: 34/60, train_loss: 0.00302977, val_loss: 0.00468472\n"
     ]
    },
    {
     "name": "stderr",
     "output_type": "stream",
     "text": [
      "100%|██████████| 61/61 [00:00<00:00, 363.50it/s]\n",
      "100%|██████████| 61/61 [00:00<00:00, 366.14it/s]\n",
      "  0%|          | 0/61 [00:00<?, ?it/s]"
     ]
    },
    {
     "name": "stdout",
     "output_type": "stream",
     "text": [
      "epoch: 35/60, train_loss: 0.00287747, val_loss: 0.00461796\n",
      "epoch: 36/60, train_loss: 0.00291077, val_loss: 0.00499267\n"
     ]
    },
    {
     "name": "stderr",
     "output_type": "stream",
     "text": [
      "100%|██████████| 61/61 [00:00<00:00, 360.86it/s]\n",
      "100%|██████████| 61/61 [00:00<00:00, 366.54it/s]\n",
      "  0%|          | 0/61 [00:00<?, ?it/s]"
     ]
    },
    {
     "name": "stdout",
     "output_type": "stream",
     "text": [
      "epoch: 37/60, train_loss: 0.00281091, val_loss: 0.00479475\n",
      "epoch: 38/60, train_loss: 0.00287013, val_loss: 0.00465051\n"
     ]
    },
    {
     "name": "stderr",
     "output_type": "stream",
     "text": [
      "100%|██████████| 61/61 [00:00<00:00, 361.43it/s]\n",
      "100%|██████████| 61/61 [00:00<00:00, 367.53it/s]\n",
      "  0%|          | 0/61 [00:00<?, ?it/s]"
     ]
    },
    {
     "name": "stdout",
     "output_type": "stream",
     "text": [
      "epoch: 39/60, train_loss: 0.00293142, val_loss: 0.00476232\n",
      "epoch: 40/60, train_loss: 0.00287680, val_loss: 0.00475571\n"
     ]
    },
    {
     "name": "stderr",
     "output_type": "stream",
     "text": [
      "100%|██████████| 61/61 [00:00<00:00, 362.94it/s]\n",
      "100%|██████████| 61/61 [00:00<00:00, 366.85it/s]\n",
      "  0%|          | 0/61 [00:00<?, ?it/s]"
     ]
    },
    {
     "name": "stdout",
     "output_type": "stream",
     "text": [
      "epoch: 41/60, train_loss: 0.00269571, val_loss: 0.00573140\n",
      "epoch: 42/60, train_loss: 0.00263527, val_loss: 0.00488790\n"
     ]
    },
    {
     "name": "stderr",
     "output_type": "stream",
     "text": [
      "100%|██████████| 61/61 [00:00<00:00, 361.78it/s]\n",
      "100%|██████████| 61/61 [00:00<00:00, 366.30it/s]\n",
      "  0%|          | 0/61 [00:00<?, ?it/s]"
     ]
    },
    {
     "name": "stdout",
     "output_type": "stream",
     "text": [
      "epoch: 43/60, train_loss: 0.00265039, val_loss: 0.00492479\n",
      "epoch: 44/60, train_loss: 0.00253511, val_loss: 0.00473886\n"
     ]
    },
    {
     "name": "stderr",
     "output_type": "stream",
     "text": [
      "100%|██████████| 61/61 [00:00<00:00, 361.19it/s]\n",
      "100%|██████████| 61/61 [00:00<00:00, 366.12it/s]\n",
      "  0%|          | 0/61 [00:00<?, ?it/s]"
     ]
    },
    {
     "name": "stdout",
     "output_type": "stream",
     "text": [
      "epoch: 45/60, train_loss: 0.00259233, val_loss: 0.00469848\n",
      "epoch: 46/60, train_loss: 0.00265807, val_loss: 0.00486791\n"
     ]
    },
    {
     "name": "stderr",
     "output_type": "stream",
     "text": [
      "100%|██████████| 61/61 [00:00<00:00, 362.32it/s]\n",
      "100%|██████████| 61/61 [00:00<00:00, 366.82it/s]\n",
      "  0%|          | 0/61 [00:00<?, ?it/s]"
     ]
    },
    {
     "name": "stdout",
     "output_type": "stream",
     "text": [
      "epoch: 47/60, train_loss: 0.00271112, val_loss: 0.00477520\n",
      "epoch: 48/60, train_loss: 0.00267057, val_loss: 0.00506789\n"
     ]
    },
    {
     "name": "stderr",
     "output_type": "stream",
     "text": [
      "100%|██████████| 61/61 [00:00<00:00, 362.96it/s]\n",
      "100%|██████████| 61/61 [00:00<00:00, 367.28it/s]\n",
      "  0%|          | 0/61 [00:00<?, ?it/s]"
     ]
    },
    {
     "name": "stdout",
     "output_type": "stream",
     "text": [
      "epoch: 49/60, train_loss: 0.00265060, val_loss: 0.00523717\n",
      "epoch: 50/60, train_loss: 0.00265178, val_loss: 0.00486133\n"
     ]
    },
    {
     "name": "stderr",
     "output_type": "stream",
     "text": [
      "100%|██████████| 61/61 [00:00<00:00, 363.73it/s]\n",
      "100%|██████████| 61/61 [00:00<00:00, 367.02it/s]\n",
      "  0%|          | 0/61 [00:00<?, ?it/s]"
     ]
    },
    {
     "name": "stdout",
     "output_type": "stream",
     "text": [
      "epoch: 51/60, train_loss: 0.00270722, val_loss: 0.00477392\n",
      "epoch: 52/60, train_loss: 0.00256676, val_loss: 0.00475984\n"
     ]
    },
    {
     "name": "stderr",
     "output_type": "stream",
     "text": [
      "100%|██████████| 61/61 [00:00<00:00, 362.57it/s]\n",
      "100%|██████████| 61/61 [00:00<00:00, 364.97it/s]\n",
      "  0%|          | 0/61 [00:00<?, ?it/s]"
     ]
    },
    {
     "name": "stdout",
     "output_type": "stream",
     "text": [
      "epoch: 53/60, train_loss: 0.00268238, val_loss: 0.00489245\n",
      "epoch: 54/60, train_loss: 0.00248983, val_loss: 0.00560129\n"
     ]
    },
    {
     "name": "stderr",
     "output_type": "stream",
     "text": [
      "100%|██████████| 61/61 [00:00<00:00, 361.85it/s]\n",
      "100%|██████████| 61/61 [00:00<00:00, 368.05it/s]\n",
      "  0%|          | 0/61 [00:00<?, ?it/s]"
     ]
    },
    {
     "name": "stdout",
     "output_type": "stream",
     "text": [
      "epoch: 55/60, train_loss: 0.00269273, val_loss: 0.00536862\n",
      "epoch: 56/60, train_loss: 0.00247490, val_loss: 0.00493098\n"
     ]
    },
    {
     "name": "stderr",
     "output_type": "stream",
     "text": [
      "100%|██████████| 61/61 [00:00<00:00, 363.01it/s]\n",
      "100%|██████████| 61/61 [00:00<00:00, 367.72it/s]\n",
      "  0%|          | 0/61 [00:00<?, ?it/s]"
     ]
    },
    {
     "name": "stdout",
     "output_type": "stream",
     "text": [
      "epoch: 57/60, train_loss: 0.00258395, val_loss: 0.00481072\n",
      "epoch: 58/60, train_loss: 0.00233431, val_loss: 0.00478874\n"
     ]
    },
    {
     "name": "stderr",
     "output_type": "stream",
     "text": [
      "100%|██████████| 61/61 [00:00<00:00, 363.38it/s]\n",
      "100%|██████████| 61/61 [00:00<00:00, 366.97it/s]\n"
     ]
    },
    {
     "name": "stdout",
     "output_type": "stream",
     "text": [
      "epoch: 59/60, train_loss: 0.00252482, val_loss: 0.00530763\n",
      "epoch: 60/60, train_loss: 0.00249009, val_loss: 0.00517445\n",
      "best mse : 0.00439817\n",
      "Fold 3\n"
     ]
    },
    {
     "name": "stderr",
     "output_type": "stream",
     "text": [
      "100%|██████████| 61/61 [00:00<00:00, 324.31it/s]\n",
      "100%|██████████| 61/61 [00:00<00:00, 362.28it/s]\n",
      "  0%|          | 0/61 [00:00<?, ?it/s]"
     ]
    },
    {
     "name": "stdout",
     "output_type": "stream",
     "text": [
      "epoch: 1/60, train_loss: 0.03034127, val_loss: 0.01192630\n",
      "epoch: 2/60, train_loss: 0.01350198, val_loss: 0.00986505\n"
     ]
    },
    {
     "name": "stderr",
     "output_type": "stream",
     "text": [
      "100%|██████████| 61/61 [00:00<00:00, 358.00it/s]\n",
      "100%|██████████| 61/61 [00:00<00:00, 363.06it/s]\n",
      "  0%|          | 0/61 [00:00<?, ?it/s]"
     ]
    },
    {
     "name": "stdout",
     "output_type": "stream",
     "text": [
      "epoch: 3/60, train_loss: 0.00918509, val_loss: 0.00909748\n",
      "epoch: 4/60, train_loss: 0.00751495, val_loss: 0.00840929\n"
     ]
    },
    {
     "name": "stderr",
     "output_type": "stream",
     "text": [
      "100%|██████████| 61/61 [00:00<00:00, 358.10it/s]\n",
      "100%|██████████| 61/61 [00:00<00:00, 365.12it/s]\n",
      "  0%|          | 0/61 [00:00<?, ?it/s]"
     ]
    },
    {
     "name": "stdout",
     "output_type": "stream",
     "text": [
      "epoch: 5/60, train_loss: 0.00670585, val_loss: 0.00786892\n",
      "epoch: 6/60, train_loss: 0.00620791, val_loss: 0.00780750\n"
     ]
    },
    {
     "name": "stderr",
     "output_type": "stream",
     "text": [
      "100%|██████████| 61/61 [00:00<00:00, 360.77it/s]\n",
      "100%|██████████| 61/61 [00:00<00:00, 361.36it/s]\n",
      "  0%|          | 0/61 [00:00<?, ?it/s]"
     ]
    },
    {
     "name": "stdout",
     "output_type": "stream",
     "text": [
      "epoch: 7/60, train_loss: 0.00544123, val_loss: 0.00698594\n",
      "epoch: 8/60, train_loss: 0.00510746, val_loss: 0.00804429\n"
     ]
    },
    {
     "name": "stderr",
     "output_type": "stream",
     "text": [
      "100%|██████████| 61/61 [00:00<00:00, 360.08it/s]\n",
      "100%|██████████| 61/61 [00:00<00:00, 365.57it/s]\n",
      "  0%|          | 0/61 [00:00<?, ?it/s]"
     ]
    },
    {
     "name": "stdout",
     "output_type": "stream",
     "text": [
      "epoch: 9/60, train_loss: 0.00478750, val_loss: 0.00665525\n",
      "epoch: 10/60, train_loss: 0.00472673, val_loss: 0.00628755\n"
     ]
    },
    {
     "name": "stderr",
     "output_type": "stream",
     "text": [
      "100%|██████████| 61/61 [00:00<00:00, 360.33it/s]\n",
      "100%|██████████| 61/61 [00:00<00:00, 363.10it/s]\n",
      "  0%|          | 0/61 [00:00<?, ?it/s]"
     ]
    },
    {
     "name": "stdout",
     "output_type": "stream",
     "text": [
      "epoch: 11/60, train_loss: 0.00437691, val_loss: 0.00617836\n",
      "epoch: 12/60, train_loss: 0.00413578, val_loss: 0.00613968\n"
     ]
    },
    {
     "name": "stderr",
     "output_type": "stream",
     "text": [
      "100%|██████████| 61/61 [00:00<00:00, 359.71it/s]\n",
      "100%|██████████| 61/61 [00:00<00:00, 364.60it/s]\n",
      "  0%|          | 0/61 [00:00<?, ?it/s]"
     ]
    },
    {
     "name": "stdout",
     "output_type": "stream",
     "text": [
      "epoch: 13/60, train_loss: 0.00402300, val_loss: 0.00677593\n",
      "epoch: 14/60, train_loss: 0.00415995, val_loss: 0.00606027\n"
     ]
    },
    {
     "name": "stderr",
     "output_type": "stream",
     "text": [
      "100%|██████████| 61/61 [00:00<00:00, 359.95it/s]\n",
      "100%|██████████| 61/61 [00:00<00:00, 365.73it/s]\n",
      "  0%|          | 0/61 [00:00<?, ?it/s]"
     ]
    },
    {
     "name": "stdout",
     "output_type": "stream",
     "text": [
      "epoch: 15/60, train_loss: 0.00371356, val_loss: 0.00614451\n",
      "epoch: 16/60, train_loss: 0.00370733, val_loss: 0.00608249\n"
     ]
    },
    {
     "name": "stderr",
     "output_type": "stream",
     "text": [
      "100%|██████████| 61/61 [00:00<00:00, 359.01it/s]\n",
      "100%|██████████| 61/61 [00:00<00:00, 363.69it/s]\n",
      "  0%|          | 0/61 [00:00<?, ?it/s]"
     ]
    },
    {
     "name": "stdout",
     "output_type": "stream",
     "text": [
      "epoch: 17/60, train_loss: 0.00383405, val_loss: 0.00634657\n",
      "epoch: 18/60, train_loss: 0.00344514, val_loss: 0.00635485\n"
     ]
    },
    {
     "name": "stderr",
     "output_type": "stream",
     "text": [
      "100%|██████████| 61/61 [00:00<00:00, 360.28it/s]\n",
      "100%|██████████| 61/61 [00:00<00:00, 364.95it/s]\n",
      "  0%|          | 0/61 [00:00<?, ?it/s]"
     ]
    },
    {
     "name": "stdout",
     "output_type": "stream",
     "text": [
      "epoch: 19/60, train_loss: 0.00340942, val_loss: 0.00630228\n",
      "epoch: 20/60, train_loss: 0.00332398, val_loss: 0.00631270\n"
     ]
    },
    {
     "name": "stderr",
     "output_type": "stream",
     "text": [
      "100%|██████████| 61/61 [00:00<00:00, 358.29it/s]\n",
      "100%|██████████| 61/61 [00:00<00:00, 364.45it/s]\n",
      "  0%|          | 0/61 [00:00<?, ?it/s]"
     ]
    },
    {
     "name": "stdout",
     "output_type": "stream",
     "text": [
      "epoch: 21/60, train_loss: 0.00335307, val_loss: 0.00623621\n",
      "epoch: 22/60, train_loss: 0.00313078, val_loss: 0.00640998\n"
     ]
    },
    {
     "name": "stderr",
     "output_type": "stream",
     "text": [
      "100%|██████████| 61/61 [00:00<00:00, 359.22it/s]\n",
      "100%|██████████| 61/61 [00:00<00:00, 364.23it/s]\n",
      "  0%|          | 0/61 [00:00<?, ?it/s]"
     ]
    },
    {
     "name": "stdout",
     "output_type": "stream",
     "text": [
      "epoch: 23/60, train_loss: 0.00350841, val_loss: 0.00625799\n",
      "epoch: 24/60, train_loss: 0.00341238, val_loss: 0.00720140\n"
     ]
    },
    {
     "name": "stderr",
     "output_type": "stream",
     "text": [
      "100%|██████████| 61/61 [00:00<00:00, 360.46it/s]\n",
      "100%|██████████| 61/61 [00:00<00:00, 363.91it/s]\n",
      "  0%|          | 0/61 [00:00<?, ?it/s]"
     ]
    },
    {
     "name": "stdout",
     "output_type": "stream",
     "text": [
      "epoch: 25/60, train_loss: 0.00318386, val_loss: 0.00611383\n",
      "epoch: 26/60, train_loss: 0.00313671, val_loss: 0.00668079\n"
     ]
    },
    {
     "name": "stderr",
     "output_type": "stream",
     "text": [
      "100%|██████████| 61/61 [00:00<00:00, 360.15it/s]\n",
      "100%|██████████| 61/61 [00:00<00:00, 364.77it/s]\n",
      "  0%|          | 0/61 [00:00<?, ?it/s]"
     ]
    },
    {
     "name": "stdout",
     "output_type": "stream",
     "text": [
      "epoch: 27/60, train_loss: 0.00315394, val_loss: 0.00627801\n",
      "epoch: 28/60, train_loss: 0.00304734, val_loss: 0.00619331\n"
     ]
    },
    {
     "name": "stderr",
     "output_type": "stream",
     "text": [
      "100%|██████████| 61/61 [00:00<00:00, 360.17it/s]\n",
      "100%|██████████| 61/61 [00:00<00:00, 364.97it/s]\n",
      "  0%|          | 0/61 [00:00<?, ?it/s]"
     ]
    },
    {
     "name": "stdout",
     "output_type": "stream",
     "text": [
      "epoch: 29/60, train_loss: 0.00313753, val_loss: 0.00639399\n",
      "epoch: 30/60, train_loss: 0.00303704, val_loss: 0.00646737\n"
     ]
    },
    {
     "name": "stderr",
     "output_type": "stream",
     "text": [
      "100%|██████████| 61/61 [00:00<00:00, 359.59it/s]\n",
      "100%|██████████| 61/61 [00:00<00:00, 364.07it/s]\n",
      "  0%|          | 0/61 [00:00<?, ?it/s]"
     ]
    },
    {
     "name": "stdout",
     "output_type": "stream",
     "text": [
      "epoch: 31/60, train_loss: 0.00292960, val_loss: 0.00615427\n",
      "epoch: 32/60, train_loss: 0.00289394, val_loss: 0.00630643\n"
     ]
    },
    {
     "name": "stderr",
     "output_type": "stream",
     "text": [
      "100%|██████████| 61/61 [00:00<00:00, 360.11it/s]\n",
      "100%|██████████| 61/61 [00:00<00:00, 365.54it/s]\n",
      "  0%|          | 0/61 [00:00<?, ?it/s]"
     ]
    },
    {
     "name": "stdout",
     "output_type": "stream",
     "text": [
      "epoch: 33/60, train_loss: 0.00263833, val_loss: 0.00628138\n",
      "epoch: 34/60, train_loss: 0.00276417, val_loss: 0.00611143\n"
     ]
    },
    {
     "name": "stderr",
     "output_type": "stream",
     "text": [
      "100%|██████████| 61/61 [00:00<00:00, 359.81it/s]\n",
      "100%|██████████| 61/61 [00:00<00:00, 364.32it/s]\n",
      "  0%|          | 0/61 [00:00<?, ?it/s]"
     ]
    },
    {
     "name": "stdout",
     "output_type": "stream",
     "text": [
      "epoch: 35/60, train_loss: 0.00324600, val_loss: 0.00634403\n",
      "epoch: 36/60, train_loss: 0.00299377, val_loss: 0.00615453\n"
     ]
    },
    {
     "name": "stderr",
     "output_type": "stream",
     "text": [
      "100%|██████████| 61/61 [00:00<00:00, 359.25it/s]\n",
      "100%|██████████| 61/61 [00:00<00:00, 365.94it/s]\n",
      "  0%|          | 0/61 [00:00<?, ?it/s]"
     ]
    },
    {
     "name": "stdout",
     "output_type": "stream",
     "text": [
      "epoch: 37/60, train_loss: 0.00292656, val_loss: 0.00839334\n",
      "epoch: 38/60, train_loss: 0.00289656, val_loss: 0.00628342\n"
     ]
    },
    {
     "name": "stderr",
     "output_type": "stream",
     "text": [
      "100%|██████████| 61/61 [00:00<00:00, 360.85it/s]\n",
      "100%|██████████| 61/61 [00:00<00:00, 365.67it/s]\n",
      "  0%|          | 0/61 [00:00<?, ?it/s]"
     ]
    },
    {
     "name": "stdout",
     "output_type": "stream",
     "text": [
      "epoch: 39/60, train_loss: 0.00272617, val_loss: 0.00657645\n",
      "epoch: 40/60, train_loss: 0.00270408, val_loss: 0.00643499\n"
     ]
    },
    {
     "name": "stderr",
     "output_type": "stream",
     "text": [
      "100%|██████████| 61/61 [00:00<00:00, 359.61it/s]\n",
      "100%|██████████| 61/61 [00:00<00:00, 364.80it/s]\n",
      "  0%|          | 0/61 [00:00<?, ?it/s]"
     ]
    },
    {
     "name": "stdout",
     "output_type": "stream",
     "text": [
      "epoch: 41/60, train_loss: 0.00273239, val_loss: 0.00614621\n",
      "epoch: 42/60, train_loss: 0.00263507, val_loss: 0.00627254\n"
     ]
    },
    {
     "name": "stderr",
     "output_type": "stream",
     "text": [
      "100%|██████████| 61/61 [00:00<00:00, 360.31it/s]\n",
      "100%|██████████| 61/61 [00:00<00:00, 365.75it/s]\n",
      "  0%|          | 0/61 [00:00<?, ?it/s]"
     ]
    },
    {
     "name": "stdout",
     "output_type": "stream",
     "text": [
      "epoch: 43/60, train_loss: 0.00260087, val_loss: 0.00682369\n",
      "epoch: 44/60, train_loss: 0.00288850, val_loss: 0.00628476\n"
     ]
    },
    {
     "name": "stderr",
     "output_type": "stream",
     "text": [
      "100%|██████████| 61/61 [00:00<00:00, 360.17it/s]\n",
      "100%|██████████| 61/61 [00:00<00:00, 365.47it/s]\n",
      "  0%|          | 0/61 [00:00<?, ?it/s]"
     ]
    },
    {
     "name": "stdout",
     "output_type": "stream",
     "text": [
      "epoch: 45/60, train_loss: 0.00277663, val_loss: 0.00661311\n",
      "epoch: 46/60, train_loss: 0.00283901, val_loss: 0.00742108\n"
     ]
    },
    {
     "name": "stderr",
     "output_type": "stream",
     "text": [
      "100%|██████████| 61/61 [00:00<00:00, 360.36it/s]\n",
      "100%|██████████| 61/61 [00:00<00:00, 365.37it/s]\n",
      "  0%|          | 0/61 [00:00<?, ?it/s]"
     ]
    },
    {
     "name": "stdout",
     "output_type": "stream",
     "text": [
      "epoch: 47/60, train_loss: 0.00268863, val_loss: 0.00653830\n",
      "epoch: 48/60, train_loss: 0.00264194, val_loss: 0.00675032\n"
     ]
    },
    {
     "name": "stderr",
     "output_type": "stream",
     "text": [
      "100%|██████████| 61/61 [00:00<00:00, 360.00it/s]\n",
      "100%|██████████| 61/61 [00:00<00:00, 365.54it/s]\n",
      "  0%|          | 0/61 [00:00<?, ?it/s]"
     ]
    },
    {
     "name": "stdout",
     "output_type": "stream",
     "text": [
      "epoch: 49/60, train_loss: 0.00259150, val_loss: 0.00609257\n",
      "epoch: 50/60, train_loss: 0.00262847, val_loss: 0.00655616\n"
     ]
    },
    {
     "name": "stderr",
     "output_type": "stream",
     "text": [
      "100%|██████████| 61/61 [00:00<00:00, 360.52it/s]\n",
      "100%|██████████| 61/61 [00:00<00:00, 364.19it/s]\n",
      "  0%|          | 0/61 [00:00<?, ?it/s]"
     ]
    },
    {
     "name": "stdout",
     "output_type": "stream",
     "text": [
      "epoch: 51/60, train_loss: 0.00244672, val_loss: 0.00621923\n",
      "epoch: 52/60, train_loss: 0.00284837, val_loss: 0.00614608\n"
     ]
    },
    {
     "name": "stderr",
     "output_type": "stream",
     "text": [
      "100%|██████████| 61/61 [00:00<00:00, 359.42it/s]\n",
      "100%|██████████| 61/61 [00:00<00:00, 365.39it/s]\n",
      "  0%|          | 0/61 [00:00<?, ?it/s]"
     ]
    },
    {
     "name": "stdout",
     "output_type": "stream",
     "text": [
      "epoch: 53/60, train_loss: 0.00262821, val_loss: 0.00618005\n",
      "epoch: 54/60, train_loss: 0.00250088, val_loss: 0.00624841\n"
     ]
    },
    {
     "name": "stderr",
     "output_type": "stream",
     "text": [
      "100%|██████████| 61/61 [00:00<00:00, 360.84it/s]\n",
      "100%|██████████| 61/61 [00:00<00:00, 365.04it/s]\n",
      "  0%|          | 0/61 [00:00<?, ?it/s]"
     ]
    },
    {
     "name": "stdout",
     "output_type": "stream",
     "text": [
      "epoch: 55/60, train_loss: 0.00258183, val_loss: 0.00633862\n",
      "epoch: 56/60, train_loss: 0.00240736, val_loss: 0.00666138\n"
     ]
    },
    {
     "name": "stderr",
     "output_type": "stream",
     "text": [
      "100%|██████████| 61/61 [00:00<00:00, 359.93it/s]\n",
      "100%|██████████| 61/61 [00:00<00:00, 364.62it/s]\n",
      "  0%|          | 0/61 [00:00<?, ?it/s]"
     ]
    },
    {
     "name": "stdout",
     "output_type": "stream",
     "text": [
      "epoch: 57/60, train_loss: 0.00242488, val_loss: 0.00606269\n",
      "epoch: 58/60, train_loss: 0.00256390, val_loss: 0.00711515\n"
     ]
    },
    {
     "name": "stderr",
     "output_type": "stream",
     "text": [
      "100%|██████████| 61/61 [00:00<00:00, 360.01it/s]\n",
      "100%|██████████| 61/61 [00:00<00:00, 365.59it/s]\n"
     ]
    },
    {
     "name": "stdout",
     "output_type": "stream",
     "text": [
      "epoch: 59/60, train_loss: 0.00239596, val_loss: 0.00652241\n",
      "epoch: 60/60, train_loss: 0.00254424, val_loss: 0.00654956\n",
      "best mse : 0.00606027\n",
      "Fold 4\n"
     ]
    },
    {
     "name": "stderr",
     "output_type": "stream",
     "text": [
      "100%|██████████| 61/61 [00:00<00:00, 326.28it/s]\n",
      "100%|██████████| 61/61 [00:00<00:00, 358.10it/s]\n",
      "  0%|          | 0/61 [00:00<?, ?it/s]"
     ]
    },
    {
     "name": "stdout",
     "output_type": "stream",
     "text": [
      "epoch: 1/60, train_loss: 0.03032062, val_loss: 0.00962199\n",
      "epoch: 2/60, train_loss: 0.01336237, val_loss: 0.00691804\n"
     ]
    },
    {
     "name": "stderr",
     "output_type": "stream",
     "text": [
      "100%|██████████| 61/61 [00:00<00:00, 352.44it/s]\n",
      "100%|██████████| 61/61 [00:00<00:00, 363.92it/s]\n",
      "  0%|          | 0/61 [00:00<?, ?it/s]"
     ]
    },
    {
     "name": "stdout",
     "output_type": "stream",
     "text": [
      "epoch: 3/60, train_loss: 0.00935856, val_loss: 0.00664305\n",
      "epoch: 4/60, train_loss: 0.00750092, val_loss: 0.00607576\n"
     ]
    },
    {
     "name": "stderr",
     "output_type": "stream",
     "text": [
      "100%|██████████| 61/61 [00:00<00:00, 356.50it/s]\n",
      "100%|██████████| 61/61 [00:00<00:00, 363.82it/s]\n",
      "  0%|          | 0/61 [00:00<?, ?it/s]"
     ]
    },
    {
     "name": "stdout",
     "output_type": "stream",
     "text": [
      "epoch: 5/60, train_loss: 0.00646740, val_loss: 0.00578787\n",
      "epoch: 6/60, train_loss: 0.00600819, val_loss: 0.00545454\n"
     ]
    },
    {
     "name": "stderr",
     "output_type": "stream",
     "text": [
      "100%|██████████| 61/61 [00:00<00:00, 359.01it/s]\n",
      "100%|██████████| 61/61 [00:00<00:00, 363.03it/s]\n",
      "  0%|          | 0/61 [00:00<?, ?it/s]"
     ]
    },
    {
     "name": "stdout",
     "output_type": "stream",
     "text": [
      "epoch: 7/60, train_loss: 0.00552907, val_loss: 0.00555039\n",
      "epoch: 8/60, train_loss: 0.00515219, val_loss: 0.00536953\n"
     ]
    },
    {
     "name": "stderr",
     "output_type": "stream",
     "text": [
      "100%|██████████| 61/61 [00:00<00:00, 270.53it/s]\n",
      "100%|██████████| 61/61 [00:00<00:00, 362.51it/s]\n",
      "  0%|          | 0/61 [00:00<?, ?it/s]"
     ]
    },
    {
     "name": "stdout",
     "output_type": "stream",
     "text": [
      "epoch: 9/60, train_loss: 0.00483259, val_loss: 0.00541961\n",
      "epoch: 10/60, train_loss: 0.00471013, val_loss: 0.00538756\n"
     ]
    },
    {
     "name": "stderr",
     "output_type": "stream",
     "text": [
      "100%|██████████| 61/61 [00:00<00:00, 358.42it/s]\n",
      "100%|██████████| 61/61 [00:00<00:00, 362.25it/s]\n",
      "  0%|          | 0/61 [00:00<?, ?it/s]"
     ]
    },
    {
     "name": "stdout",
     "output_type": "stream",
     "text": [
      "epoch: 11/60, train_loss: 0.00438378, val_loss: 0.00535339\n",
      "epoch: 12/60, train_loss: 0.00429441, val_loss: 0.00540438\n"
     ]
    },
    {
     "name": "stderr",
     "output_type": "stream",
     "text": [
      "100%|██████████| 61/61 [00:00<00:00, 358.11it/s]\n",
      "100%|██████████| 61/61 [00:00<00:00, 364.12it/s]\n",
      "  0%|          | 0/61 [00:00<?, ?it/s]"
     ]
    },
    {
     "name": "stdout",
     "output_type": "stream",
     "text": [
      "epoch: 13/60, train_loss: 0.00394755, val_loss: 0.00548774\n",
      "epoch: 14/60, train_loss: 0.00384818, val_loss: 0.00558173\n"
     ]
    },
    {
     "name": "stderr",
     "output_type": "stream",
     "text": [
      "100%|██████████| 61/61 [00:00<00:00, 357.88it/s]\n",
      "100%|██████████| 61/61 [00:00<00:00, 361.57it/s]\n",
      "  0%|          | 0/61 [00:00<?, ?it/s]"
     ]
    },
    {
     "name": "stdout",
     "output_type": "stream",
     "text": [
      "epoch: 15/60, train_loss: 0.00377254, val_loss: 0.00684413\n",
      "epoch: 16/60, train_loss: 0.00372528, val_loss: 0.00681609\n"
     ]
    },
    {
     "name": "stderr",
     "output_type": "stream",
     "text": [
      "100%|██████████| 61/61 [00:00<00:00, 358.59it/s]\n",
      "100%|██████████| 61/61 [00:00<00:00, 364.56it/s]\n",
      "  0%|          | 0/61 [00:00<?, ?it/s]"
     ]
    },
    {
     "name": "stdout",
     "output_type": "stream",
     "text": [
      "epoch: 17/60, train_loss: 0.00358649, val_loss: 0.00552272\n",
      "epoch: 18/60, train_loss: 0.00357313, val_loss: 0.00555835\n"
     ]
    },
    {
     "name": "stderr",
     "output_type": "stream",
     "text": [
      "100%|██████████| 61/61 [00:00<00:00, 359.37it/s]\n",
      "100%|██████████| 61/61 [00:00<00:00, 362.87it/s]\n",
      "  0%|          | 0/61 [00:00<?, ?it/s]"
     ]
    },
    {
     "name": "stdout",
     "output_type": "stream",
     "text": [
      "epoch: 19/60, train_loss: 0.00357164, val_loss: 0.00582927\n",
      "epoch: 20/60, train_loss: 0.00339403, val_loss: 0.00530437\n"
     ]
    },
    {
     "name": "stderr",
     "output_type": "stream",
     "text": [
      "100%|██████████| 61/61 [00:00<00:00, 359.53it/s]\n",
      "100%|██████████| 61/61 [00:00<00:00, 362.86it/s]\n",
      "  0%|          | 0/61 [00:00<?, ?it/s]"
     ]
    },
    {
     "name": "stdout",
     "output_type": "stream",
     "text": [
      "epoch: 21/60, train_loss: 0.00328694, val_loss: 0.00564478\n",
      "epoch: 22/60, train_loss: 0.00338281, val_loss: 0.00572395\n"
     ]
    },
    {
     "name": "stderr",
     "output_type": "stream",
     "text": [
      "100%|██████████| 61/61 [00:00<00:00, 358.34it/s]\n",
      "100%|██████████| 61/61 [00:00<00:00, 363.96it/s]\n",
      "  0%|          | 0/61 [00:00<?, ?it/s]"
     ]
    },
    {
     "name": "stdout",
     "output_type": "stream",
     "text": [
      "epoch: 23/60, train_loss: 0.00329639, val_loss: 0.00586577\n",
      "epoch: 24/60, train_loss: 0.00330996, val_loss: 0.00550836\n"
     ]
    },
    {
     "name": "stderr",
     "output_type": "stream",
     "text": [
      "100%|██████████| 61/61 [00:00<00:00, 358.43it/s]\n",
      "100%|██████████| 61/61 [00:00<00:00, 364.31it/s]\n",
      "  0%|          | 0/61 [00:00<?, ?it/s]"
     ]
    },
    {
     "name": "stdout",
     "output_type": "stream",
     "text": [
      "epoch: 25/60, train_loss: 0.00318416, val_loss: 0.00580047\n",
      "epoch: 26/60, train_loss: 0.00307737, val_loss: 0.00548998\n"
     ]
    },
    {
     "name": "stderr",
     "output_type": "stream",
     "text": [
      "100%|██████████| 61/61 [00:00<00:00, 359.30it/s]\n",
      "100%|██████████| 61/61 [00:00<00:00, 363.45it/s]\n",
      "  0%|          | 0/61 [00:00<?, ?it/s]"
     ]
    },
    {
     "name": "stdout",
     "output_type": "stream",
     "text": [
      "epoch: 27/60, train_loss: 0.00301114, val_loss: 0.00574772\n",
      "epoch: 28/60, train_loss: 0.00313389, val_loss: 0.00550626\n"
     ]
    },
    {
     "name": "stderr",
     "output_type": "stream",
     "text": [
      "100%|██████████| 61/61 [00:00<00:00, 358.34it/s]\n",
      "100%|██████████| 61/61 [00:00<00:00, 364.87it/s]\n",
      "  0%|          | 0/61 [00:00<?, ?it/s]"
     ]
    },
    {
     "name": "stdout",
     "output_type": "stream",
     "text": [
      "epoch: 29/60, train_loss: 0.00281840, val_loss: 0.00541894\n",
      "epoch: 30/60, train_loss: 0.00290578, val_loss: 0.00558675\n"
     ]
    },
    {
     "name": "stderr",
     "output_type": "stream",
     "text": [
      "100%|██████████| 61/61 [00:00<00:00, 359.23it/s]\n",
      "100%|██████████| 61/61 [00:00<00:00, 362.91it/s]\n",
      "  0%|          | 0/61 [00:00<?, ?it/s]"
     ]
    },
    {
     "name": "stdout",
     "output_type": "stream",
     "text": [
      "epoch: 31/60, train_loss: 0.00289139, val_loss: 0.00571709\n",
      "epoch: 32/60, train_loss: 0.00280204, val_loss: 0.00808425\n"
     ]
    },
    {
     "name": "stderr",
     "output_type": "stream",
     "text": [
      "100%|██████████| 61/61 [00:00<00:00, 357.73it/s]\n",
      "100%|██████████| 61/61 [00:00<00:00, 363.35it/s]\n",
      "  0%|          | 0/61 [00:00<?, ?it/s]"
     ]
    },
    {
     "name": "stdout",
     "output_type": "stream",
     "text": [
      "epoch: 33/60, train_loss: 0.00314090, val_loss: 0.00578676\n",
      "epoch: 34/60, train_loss: 0.00283804, val_loss: 0.00582885\n"
     ]
    },
    {
     "name": "stderr",
     "output_type": "stream",
     "text": [
      "100%|██████████| 61/61 [00:00<00:00, 359.20it/s]\n",
      "100%|██████████| 61/61 [00:00<00:00, 363.99it/s]\n",
      "  0%|          | 0/61 [00:00<?, ?it/s]"
     ]
    },
    {
     "name": "stdout",
     "output_type": "stream",
     "text": [
      "epoch: 35/60, train_loss: 0.00293673, val_loss: 0.00559567\n",
      "epoch: 36/60, train_loss: 0.00274192, val_loss: 0.00554447\n"
     ]
    },
    {
     "name": "stderr",
     "output_type": "stream",
     "text": [
      "100%|██████████| 61/61 [00:00<00:00, 358.85it/s]\n",
      "100%|██████████| 61/61 [00:00<00:00, 363.87it/s]\n",
      "  0%|          | 0/61 [00:00<?, ?it/s]"
     ]
    },
    {
     "name": "stdout",
     "output_type": "stream",
     "text": [
      "epoch: 37/60, train_loss: 0.00292206, val_loss: 0.00588546\n",
      "epoch: 38/60, train_loss: 0.00278710, val_loss: 0.00569790\n"
     ]
    },
    {
     "name": "stderr",
     "output_type": "stream",
     "text": [
      "100%|██████████| 61/61 [00:00<00:00, 357.29it/s]\n",
      "100%|██████████| 61/61 [00:00<00:00, 363.52it/s]\n",
      "  0%|          | 0/61 [00:00<?, ?it/s]"
     ]
    },
    {
     "name": "stdout",
     "output_type": "stream",
     "text": [
      "epoch: 39/60, train_loss: 0.00266944, val_loss: 0.00562486\n",
      "epoch: 40/60, train_loss: 0.00279282, val_loss: 0.00669147\n"
     ]
    },
    {
     "name": "stderr",
     "output_type": "stream",
     "text": [
      "100%|██████████| 61/61 [00:00<00:00, 342.13it/s]\n",
      "100%|██████████| 61/61 [00:00<00:00, 363.85it/s]\n",
      "  0%|          | 0/61 [00:00<?, ?it/s]"
     ]
    },
    {
     "name": "stdout",
     "output_type": "stream",
     "text": [
      "epoch: 41/60, train_loss: 0.00268275, val_loss: 0.00564245\n",
      "epoch: 42/60, train_loss: 0.00269343, val_loss: 0.00578265\n"
     ]
    },
    {
     "name": "stderr",
     "output_type": "stream",
     "text": [
      "100%|██████████| 61/61 [00:00<00:00, 358.65it/s]\n",
      "100%|██████████| 61/61 [00:00<00:00, 364.05it/s]\n",
      "  0%|          | 0/61 [00:00<?, ?it/s]"
     ]
    },
    {
     "name": "stdout",
     "output_type": "stream",
     "text": [
      "epoch: 43/60, train_loss: 0.00277909, val_loss: 0.00553746\n",
      "epoch: 44/60, train_loss: 0.00252248, val_loss: 0.00617393\n"
     ]
    },
    {
     "name": "stderr",
     "output_type": "stream",
     "text": [
      "100%|██████████| 61/61 [00:00<00:00, 358.81it/s]\n",
      "100%|██████████| 61/61 [00:00<00:00, 363.78it/s]\n",
      "  0%|          | 0/61 [00:00<?, ?it/s]"
     ]
    },
    {
     "name": "stdout",
     "output_type": "stream",
     "text": [
      "epoch: 45/60, train_loss: 0.00256933, val_loss: 0.00553534\n",
      "epoch: 46/60, train_loss: 0.00259021, val_loss: 0.00594856\n"
     ]
    },
    {
     "name": "stderr",
     "output_type": "stream",
     "text": [
      "100%|██████████| 61/61 [00:00<00:00, 357.93it/s]\n",
      "100%|██████████| 61/61 [00:00<00:00, 365.11it/s]\n",
      "  0%|          | 0/61 [00:00<?, ?it/s]"
     ]
    },
    {
     "name": "stdout",
     "output_type": "stream",
     "text": [
      "epoch: 47/60, train_loss: 0.00251259, val_loss: 0.00635317\n",
      "epoch: 48/60, train_loss: 0.00262964, val_loss: 0.00546263\n"
     ]
    },
    {
     "name": "stderr",
     "output_type": "stream",
     "text": [
      "100%|██████████| 61/61 [00:00<00:00, 358.77it/s]\n",
      "100%|██████████| 61/61 [00:00<00:00, 362.77it/s]\n",
      "  0%|          | 0/61 [00:00<?, ?it/s]"
     ]
    },
    {
     "name": "stdout",
     "output_type": "stream",
     "text": [
      "epoch: 49/60, train_loss: 0.00252555, val_loss: 0.00652652\n",
      "epoch: 50/60, train_loss: 0.00261860, val_loss: 0.00546051\n"
     ]
    },
    {
     "name": "stderr",
     "output_type": "stream",
     "text": [
      "100%|██████████| 61/61 [00:00<00:00, 357.47it/s]\n",
      "100%|██████████| 61/61 [00:00<00:00, 364.88it/s]\n",
      "  0%|          | 0/61 [00:00<?, ?it/s]"
     ]
    },
    {
     "name": "stdout",
     "output_type": "stream",
     "text": [
      "epoch: 51/60, train_loss: 0.00254541, val_loss: 0.00684562\n",
      "epoch: 52/60, train_loss: 0.00261861, val_loss: 0.00546450\n"
     ]
    },
    {
     "name": "stderr",
     "output_type": "stream",
     "text": [
      "100%|██████████| 61/61 [00:00<00:00, 358.62it/s]\n",
      "100%|██████████| 61/61 [00:00<00:00, 364.11it/s]\n",
      "  0%|          | 0/61 [00:00<?, ?it/s]"
     ]
    },
    {
     "name": "stdout",
     "output_type": "stream",
     "text": [
      "epoch: 53/60, train_loss: 0.00238090, val_loss: 0.00539015\n",
      "epoch: 54/60, train_loss: 0.00246426, val_loss: 0.00734443\n"
     ]
    },
    {
     "name": "stderr",
     "output_type": "stream",
     "text": [
      "100%|██████████| 61/61 [00:00<00:00, 356.10it/s]\n",
      "100%|██████████| 61/61 [00:00<00:00, 363.61it/s]\n",
      "  0%|          | 0/61 [00:00<?, ?it/s]"
     ]
    },
    {
     "name": "stdout",
     "output_type": "stream",
     "text": [
      "epoch: 55/60, train_loss: 0.00265782, val_loss: 0.00678192\n",
      "epoch: 56/60, train_loss: 0.00254152, val_loss: 0.00610702\n"
     ]
    },
    {
     "name": "stderr",
     "output_type": "stream",
     "text": [
      "100%|██████████| 61/61 [00:00<00:00, 359.01it/s]\n",
      "100%|██████████| 61/61 [00:00<00:00, 363.26it/s]\n",
      "  0%|          | 0/61 [00:00<?, ?it/s]"
     ]
    },
    {
     "name": "stdout",
     "output_type": "stream",
     "text": [
      "epoch: 57/60, train_loss: 0.00258086, val_loss: 0.00577929\n",
      "epoch: 58/60, train_loss: 0.00237712, val_loss: 0.00597767\n"
     ]
    },
    {
     "name": "stderr",
     "output_type": "stream",
     "text": [
      "100%|██████████| 61/61 [00:00<00:00, 357.66it/s]\n",
      "100%|██████████| 61/61 [00:00<00:00, 364.29it/s]\n"
     ]
    },
    {
     "name": "stdout",
     "output_type": "stream",
     "text": [
      "epoch: 59/60, train_loss: 0.00241817, val_loss: 0.00567324\n",
      "epoch: 60/60, train_loss: 0.00249277, val_loss: 0.00533421\n",
      "best mse : 0.00530437\n",
      "Fold 5\n"
     ]
    },
    {
     "name": "stderr",
     "output_type": "stream",
     "text": [
      "100%|██████████| 61/61 [00:00<00:00, 326.96it/s]\n",
      "100%|██████████| 61/61 [00:00<00:00, 356.24it/s]\n",
      "  0%|          | 0/61 [00:00<?, ?it/s]"
     ]
    },
    {
     "name": "stdout",
     "output_type": "stream",
     "text": [
      "epoch: 1/60, train_loss: 0.03031408, val_loss: 0.00818023\n",
      "epoch: 2/60, train_loss: 0.01324789, val_loss: 0.00662544\n"
     ]
    },
    {
     "name": "stderr",
     "output_type": "stream",
     "text": [
      "100%|██████████| 61/61 [00:00<00:00, 353.35it/s]\n",
      "100%|██████████| 61/61 [00:00<00:00, 361.41it/s]\n",
      "  0%|          | 0/61 [00:00<?, ?it/s]"
     ]
    },
    {
     "name": "stdout",
     "output_type": "stream",
     "text": [
      "epoch: 3/60, train_loss: 0.00899485, val_loss: 0.00594623\n",
      "epoch: 4/60, train_loss: 0.00749732, val_loss: 0.00577566\n"
     ]
    },
    {
     "name": "stderr",
     "output_type": "stream",
     "text": [
      "100%|██████████| 61/61 [00:00<00:00, 357.07it/s]\n",
      "100%|██████████| 61/61 [00:00<00:00, 362.47it/s]\n",
      "  0%|          | 0/61 [00:00<?, ?it/s]"
     ]
    },
    {
     "name": "stdout",
     "output_type": "stream",
     "text": [
      "epoch: 5/60, train_loss: 0.00672448, val_loss: 0.00543834\n",
      "epoch: 6/60, train_loss: 0.00614538, val_loss: 0.00565943\n"
     ]
    },
    {
     "name": "stderr",
     "output_type": "stream",
     "text": [
      "100%|██████████| 61/61 [00:00<00:00, 356.22it/s]\n",
      "100%|██████████| 61/61 [00:00<00:00, 362.08it/s]\n",
      "  0%|          | 0/61 [00:00<?, ?it/s]"
     ]
    },
    {
     "name": "stdout",
     "output_type": "stream",
     "text": [
      "epoch: 7/60, train_loss: 0.00577178, val_loss: 0.00525334\n",
      "epoch: 8/60, train_loss: 0.00545548, val_loss: 0.00574495\n"
     ]
    },
    {
     "name": "stderr",
     "output_type": "stream",
     "text": [
      "100%|██████████| 61/61 [00:00<00:00, 356.36it/s]\n",
      "100%|██████████| 61/61 [00:00<00:00, 362.54it/s]\n",
      "  0%|          | 0/61 [00:00<?, ?it/s]"
     ]
    },
    {
     "name": "stdout",
     "output_type": "stream",
     "text": [
      "epoch: 9/60, train_loss: 0.00507340, val_loss: 0.00518520\n",
      "epoch: 10/60, train_loss: 0.00479423, val_loss: 0.00520294\n"
     ]
    },
    {
     "name": "stderr",
     "output_type": "stream",
     "text": [
      "100%|██████████| 61/61 [00:00<00:00, 356.75it/s]\n",
      "100%|██████████| 61/61 [00:00<00:00, 364.02it/s]\n",
      "  0%|          | 0/61 [00:00<?, ?it/s]"
     ]
    },
    {
     "name": "stdout",
     "output_type": "stream",
     "text": [
      "epoch: 11/60, train_loss: 0.00449726, val_loss: 0.00619361\n",
      "epoch: 12/60, train_loss: 0.00434848, val_loss: 0.00550808\n"
     ]
    },
    {
     "name": "stderr",
     "output_type": "stream",
     "text": [
      "100%|██████████| 61/61 [00:00<00:00, 357.93it/s]\n",
      "100%|██████████| 61/61 [00:00<00:00, 362.05it/s]\n",
      "  0%|          | 0/61 [00:00<?, ?it/s]"
     ]
    },
    {
     "name": "stdout",
     "output_type": "stream",
     "text": [
      "epoch: 13/60, train_loss: 0.00435964, val_loss: 0.00501374\n",
      "epoch: 14/60, train_loss: 0.00413065, val_loss: 0.00477196\n"
     ]
    },
    {
     "name": "stderr",
     "output_type": "stream",
     "text": [
      "100%|██████████| 61/61 [00:00<00:00, 356.16it/s]\n",
      "100%|██████████| 61/61 [00:00<00:00, 362.81it/s]\n",
      "  0%|          | 0/61 [00:00<?, ?it/s]"
     ]
    },
    {
     "name": "stdout",
     "output_type": "stream",
     "text": [
      "epoch: 15/60, train_loss: 0.00417352, val_loss: 0.00502767\n",
      "epoch: 16/60, train_loss: 0.00407648, val_loss: 0.00464499\n"
     ]
    },
    {
     "name": "stderr",
     "output_type": "stream",
     "text": [
      "100%|██████████| 61/61 [00:00<00:00, 357.82it/s]\n",
      "100%|██████████| 61/61 [00:00<00:00, 362.30it/s]\n",
      "  0%|          | 0/61 [00:00<?, ?it/s]"
     ]
    },
    {
     "name": "stdout",
     "output_type": "stream",
     "text": [
      "epoch: 17/60, train_loss: 0.00393271, val_loss: 0.00502773\n",
      "epoch: 18/60, train_loss: 0.00385767, val_loss: 0.00480667\n"
     ]
    },
    {
     "name": "stderr",
     "output_type": "stream",
     "text": [
      "100%|██████████| 61/61 [00:00<00:00, 357.22it/s]\n",
      "100%|██████████| 61/61 [00:00<00:00, 362.93it/s]\n",
      "  0%|          | 0/61 [00:00<?, ?it/s]"
     ]
    },
    {
     "name": "stdout",
     "output_type": "stream",
     "text": [
      "epoch: 19/60, train_loss: 0.00352724, val_loss: 0.00484234\n",
      "epoch: 20/60, train_loss: 0.00367330, val_loss: 0.00535722\n"
     ]
    },
    {
     "name": "stderr",
     "output_type": "stream",
     "text": [
      "100%|██████████| 61/61 [00:00<00:00, 358.83it/s]\n",
      "100%|██████████| 61/61 [00:00<00:00, 362.87it/s]\n",
      "  0%|          | 0/61 [00:00<?, ?it/s]"
     ]
    },
    {
     "name": "stdout",
     "output_type": "stream",
     "text": [
      "epoch: 21/60, train_loss: 0.00345230, val_loss: 0.00464003\n",
      "epoch: 22/60, train_loss: 0.00352740, val_loss: 0.00633564\n"
     ]
    },
    {
     "name": "stderr",
     "output_type": "stream",
     "text": [
      "100%|██████████| 61/61 [00:00<00:00, 358.21it/s]\n",
      "100%|██████████| 61/61 [00:00<00:00, 363.26it/s]\n",
      "  0%|          | 0/61 [00:00<?, ?it/s]"
     ]
    },
    {
     "name": "stdout",
     "output_type": "stream",
     "text": [
      "epoch: 23/60, train_loss: 0.00347982, val_loss: 0.00568575\n",
      "epoch: 24/60, train_loss: 0.00326854, val_loss: 0.00470016\n"
     ]
    },
    {
     "name": "stderr",
     "output_type": "stream",
     "text": [
      "100%|██████████| 61/61 [00:00<00:00, 357.11it/s]\n",
      "100%|██████████| 61/61 [00:00<00:00, 362.43it/s]\n",
      "  0%|          | 0/61 [00:00<?, ?it/s]"
     ]
    },
    {
     "name": "stdout",
     "output_type": "stream",
     "text": [
      "epoch: 25/60, train_loss: 0.00344314, val_loss: 0.00515849\n",
      "epoch: 26/60, train_loss: 0.00313106, val_loss: 0.00470149\n"
     ]
    },
    {
     "name": "stderr",
     "output_type": "stream",
     "text": [
      "100%|██████████| 61/61 [00:00<00:00, 357.52it/s]\n",
      "100%|██████████| 61/61 [00:00<00:00, 362.18it/s]\n",
      "  0%|          | 0/61 [00:00<?, ?it/s]"
     ]
    },
    {
     "name": "stdout",
     "output_type": "stream",
     "text": [
      "epoch: 27/60, train_loss: 0.00329958, val_loss: 0.00467345\n",
      "epoch: 28/60, train_loss: 0.00322639, val_loss: 0.00539223\n"
     ]
    },
    {
     "name": "stderr",
     "output_type": "stream",
     "text": [
      "100%|██████████| 61/61 [00:00<00:00, 357.19it/s]\n",
      "100%|██████████| 61/61 [00:00<00:00, 363.47it/s]\n",
      "  0%|          | 0/61 [00:00<?, ?it/s]"
     ]
    },
    {
     "name": "stdout",
     "output_type": "stream",
     "text": [
      "epoch: 29/60, train_loss: 0.00310374, val_loss: 0.00489832\n",
      "epoch: 30/60, train_loss: 0.00328918, val_loss: 0.00467460\n"
     ]
    },
    {
     "name": "stderr",
     "output_type": "stream",
     "text": [
      "100%|██████████| 61/61 [00:00<00:00, 358.06it/s]\n",
      "100%|██████████| 61/61 [00:00<00:00, 361.49it/s]\n",
      "  0%|          | 0/61 [00:00<?, ?it/s]"
     ]
    },
    {
     "name": "stdout",
     "output_type": "stream",
     "text": [
      "epoch: 31/60, train_loss: 0.00300327, val_loss: 0.00465842\n",
      "epoch: 32/60, train_loss: 0.00321117, val_loss: 0.00462487\n"
     ]
    },
    {
     "name": "stderr",
     "output_type": "stream",
     "text": [
      "100%|██████████| 61/61 [00:00<00:00, 357.06it/s]\n",
      "100%|██████████| 61/61 [00:00<00:00, 363.68it/s]\n",
      "  0%|          | 0/61 [00:00<?, ?it/s]"
     ]
    },
    {
     "name": "stdout",
     "output_type": "stream",
     "text": [
      "epoch: 33/60, train_loss: 0.00293744, val_loss: 0.00460517\n",
      "epoch: 34/60, train_loss: 0.00317024, val_loss: 0.00463848\n"
     ]
    },
    {
     "name": "stderr",
     "output_type": "stream",
     "text": [
      "100%|██████████| 61/61 [00:00<00:00, 357.96it/s]\n",
      "100%|██████████| 61/61 [00:00<00:00, 363.26it/s]\n",
      "  0%|          | 0/61 [00:00<?, ?it/s]"
     ]
    },
    {
     "name": "stdout",
     "output_type": "stream",
     "text": [
      "epoch: 35/60, train_loss: 0.00296754, val_loss: 0.00463277\n",
      "epoch: 36/60, train_loss: 0.00285053, val_loss: 0.00463660\n"
     ]
    },
    {
     "name": "stderr",
     "output_type": "stream",
     "text": [
      "100%|██████████| 61/61 [00:00<00:00, 357.79it/s]\n",
      "100%|██████████| 61/61 [00:00<00:00, 364.31it/s]\n",
      "  0%|          | 0/61 [00:00<?, ?it/s]"
     ]
    },
    {
     "name": "stdout",
     "output_type": "stream",
     "text": [
      "epoch: 37/60, train_loss: 0.00289350, val_loss: 0.00475281\n",
      "epoch: 38/60, train_loss: 0.00277871, val_loss: 0.00466852\n"
     ]
    },
    {
     "name": "stderr",
     "output_type": "stream",
     "text": [
      "100%|██████████| 61/61 [00:00<00:00, 358.30it/s]\n",
      "100%|██████████| 61/61 [00:00<00:00, 363.54it/s]\n",
      "  0%|          | 0/61 [00:00<?, ?it/s]"
     ]
    },
    {
     "name": "stdout",
     "output_type": "stream",
     "text": [
      "epoch: 39/60, train_loss: 0.00282340, val_loss: 0.00464489\n",
      "epoch: 40/60, train_loss: 0.00290786, val_loss: 0.00484701\n"
     ]
    },
    {
     "name": "stderr",
     "output_type": "stream",
     "text": [
      "100%|██████████| 61/61 [00:00<00:00, 357.50it/s]\n",
      "100%|██████████| 61/61 [00:00<00:00, 363.94it/s]\n",
      "  0%|          | 0/61 [00:00<?, ?it/s]"
     ]
    },
    {
     "name": "stdout",
     "output_type": "stream",
     "text": [
      "epoch: 41/60, train_loss: 0.00267832, val_loss: 0.00512500\n",
      "epoch: 42/60, train_loss: 0.00287096, val_loss: 0.00474953\n"
     ]
    },
    {
     "name": "stderr",
     "output_type": "stream",
     "text": [
      "100%|██████████| 61/61 [00:00<00:00, 358.21it/s]\n",
      "100%|██████████| 61/61 [00:00<00:00, 361.82it/s]\n",
      "  0%|          | 0/61 [00:00<?, ?it/s]"
     ]
    },
    {
     "name": "stdout",
     "output_type": "stream",
     "text": [
      "epoch: 43/60, train_loss: 0.00288277, val_loss: 0.00469679\n",
      "epoch: 44/60, train_loss: 0.00284827, val_loss: 0.00479515\n"
     ]
    },
    {
     "name": "stderr",
     "output_type": "stream",
     "text": [
      "100%|██████████| 61/61 [00:00<00:00, 357.14it/s]\n",
      "100%|██████████| 61/61 [00:00<00:00, 364.25it/s]\n",
      "  0%|          | 0/61 [00:00<?, ?it/s]"
     ]
    },
    {
     "name": "stdout",
     "output_type": "stream",
     "text": [
      "epoch: 45/60, train_loss: 0.00272915, val_loss: 0.00479699\n",
      "epoch: 46/60, train_loss: 0.00278010, val_loss: 0.00469859\n"
     ]
    },
    {
     "name": "stderr",
     "output_type": "stream",
     "text": [
      "100%|██████████| 61/61 [00:00<00:00, 358.53it/s]\n",
      "100%|██████████| 61/61 [00:00<00:00, 362.74it/s]\n",
      "  0%|          | 0/61 [00:00<?, ?it/s]"
     ]
    },
    {
     "name": "stdout",
     "output_type": "stream",
     "text": [
      "epoch: 47/60, train_loss: 0.00276045, val_loss: 0.00460746\n",
      "epoch: 48/60, train_loss: 0.00256937, val_loss: 0.00458347\n"
     ]
    },
    {
     "name": "stderr",
     "output_type": "stream",
     "text": [
      "100%|██████████| 61/61 [00:00<00:00, 357.19it/s]\n",
      "100%|██████████| 61/61 [00:00<00:00, 363.42it/s]\n",
      "  0%|          | 0/61 [00:00<?, ?it/s]"
     ]
    },
    {
     "name": "stdout",
     "output_type": "stream",
     "text": [
      "epoch: 49/60, train_loss: 0.00255271, val_loss: 0.00486796\n",
      "epoch: 50/60, train_loss: 0.00280912, val_loss: 0.00468598\n"
     ]
    },
    {
     "name": "stderr",
     "output_type": "stream",
     "text": [
      "100%|██████████| 61/61 [00:00<00:00, 357.14it/s]\n",
      "100%|██████████| 61/61 [00:00<00:00, 363.79it/s]\n",
      "  0%|          | 0/61 [00:00<?, ?it/s]"
     ]
    },
    {
     "name": "stdout",
     "output_type": "stream",
     "text": [
      "epoch: 51/60, train_loss: 0.00260052, val_loss: 0.00449792\n",
      "epoch: 52/60, train_loss: 0.00277606, val_loss: 0.00531538\n"
     ]
    },
    {
     "name": "stderr",
     "output_type": "stream",
     "text": [
      "100%|██████████| 61/61 [00:00<00:00, 357.69it/s]\n",
      "100%|██████████| 61/61 [00:00<00:00, 361.95it/s]\n",
      "  0%|          | 0/61 [00:00<?, ?it/s]"
     ]
    },
    {
     "name": "stdout",
     "output_type": "stream",
     "text": [
      "epoch: 53/60, train_loss: 0.00270398, val_loss: 0.00527110\n",
      "epoch: 54/60, train_loss: 0.00259475, val_loss: 0.00472885\n"
     ]
    },
    {
     "name": "stderr",
     "output_type": "stream",
     "text": [
      "100%|██████████| 61/61 [00:00<00:00, 356.76it/s]\n",
      "100%|██████████| 61/61 [00:00<00:00, 364.27it/s]\n",
      "  0%|          | 0/61 [00:00<?, ?it/s]"
     ]
    },
    {
     "name": "stdout",
     "output_type": "stream",
     "text": [
      "epoch: 55/60, train_loss: 0.00255869, val_loss: 0.00526362\n",
      "epoch: 56/60, train_loss: 0.00266680, val_loss: 0.00485752\n"
     ]
    },
    {
     "name": "stderr",
     "output_type": "stream",
     "text": [
      "100%|██████████| 61/61 [00:00<00:00, 357.50it/s]\n",
      "100%|██████████| 61/61 [00:00<00:00, 362.92it/s]\n",
      "  0%|          | 0/61 [00:00<?, ?it/s]"
     ]
    },
    {
     "name": "stdout",
     "output_type": "stream",
     "text": [
      "epoch: 57/60, train_loss: 0.00273702, val_loss: 0.00505434\n",
      "epoch: 58/60, train_loss: 0.00286024, val_loss: 0.00476656\n"
     ]
    },
    {
     "name": "stderr",
     "output_type": "stream",
     "text": [
      "100%|██████████| 61/61 [00:00<00:00, 357.61it/s]\n",
      "100%|██████████| 61/61 [00:00<00:00, 364.29it/s]\n"
     ]
    },
    {
     "name": "stdout",
     "output_type": "stream",
     "text": [
      "epoch: 59/60, train_loss: 0.00264067, val_loss: 0.00464469\n",
      "epoch: 60/60, train_loss: 0.00259785, val_loss: 0.00487757\n",
      "best mse : 0.00449792\n",
      "Fold 6\n"
     ]
    },
    {
     "name": "stderr",
     "output_type": "stream",
     "text": [
      "100%|██████████| 61/61 [00:00<00:00, 325.84it/s]\n",
      "100%|██████████| 61/61 [00:00<00:00, 358.17it/s]\n",
      "  0%|          | 0/61 [00:00<?, ?it/s]"
     ]
    },
    {
     "name": "stdout",
     "output_type": "stream",
     "text": [
      "epoch: 1/60, train_loss: 0.03403142, val_loss: 0.00927457\n",
      "epoch: 2/60, train_loss: 0.01494756, val_loss: 0.00733781\n"
     ]
    },
    {
     "name": "stderr",
     "output_type": "stream",
     "text": [
      "100%|██████████| 61/61 [00:00<00:00, 356.67it/s]\n",
      "100%|██████████| 61/61 [00:00<00:00, 360.65it/s]\n",
      "  0%|          | 0/61 [00:00<?, ?it/s]"
     ]
    },
    {
     "name": "stdout",
     "output_type": "stream",
     "text": [
      "epoch: 3/60, train_loss: 0.00970792, val_loss: 0.00683977\n",
      "epoch: 4/60, train_loss: 0.00773815, val_loss: 0.00603583\n"
     ]
    },
    {
     "name": "stderr",
     "output_type": "stream",
     "text": [
      "100%|██████████| 61/61 [00:00<00:00, 355.73it/s]\n",
      "100%|██████████| 61/61 [00:00<00:00, 361.94it/s]\n",
      "  0%|          | 0/61 [00:00<?, ?it/s]"
     ]
    },
    {
     "name": "stdout",
     "output_type": "stream",
     "text": [
      "epoch: 5/60, train_loss: 0.00678724, val_loss: 0.00595690\n",
      "epoch: 6/60, train_loss: 0.00630306, val_loss: 0.00648584\n"
     ]
    },
    {
     "name": "stderr",
     "output_type": "stream",
     "text": [
      "100%|██████████| 61/61 [00:00<00:00, 355.12it/s]\n",
      "100%|██████████| 61/61 [00:00<00:00, 361.07it/s]\n",
      "  0%|          | 0/61 [00:00<?, ?it/s]"
     ]
    },
    {
     "name": "stdout",
     "output_type": "stream",
     "text": [
      "epoch: 7/60, train_loss: 0.00565242, val_loss: 0.00488126\n",
      "epoch: 8/60, train_loss: 0.00530957, val_loss: 0.00477300\n"
     ]
    },
    {
     "name": "stderr",
     "output_type": "stream",
     "text": [
      "100%|██████████| 61/61 [00:00<00:00, 356.75it/s]\n",
      "100%|██████████| 61/61 [00:00<00:00, 360.92it/s]\n",
      "  0%|          | 0/61 [00:00<?, ?it/s]"
     ]
    },
    {
     "name": "stdout",
     "output_type": "stream",
     "text": [
      "epoch: 9/60, train_loss: 0.00517389, val_loss: 0.00525668\n",
      "epoch: 10/60, train_loss: 0.00478786, val_loss: 0.00470219\n"
     ]
    },
    {
     "name": "stderr",
     "output_type": "stream",
     "text": [
      "100%|██████████| 61/61 [00:00<00:00, 356.70it/s]\n",
      "100%|██████████| 61/61 [00:00<00:00, 362.09it/s]\n",
      "  0%|          | 0/61 [00:00<?, ?it/s]"
     ]
    },
    {
     "name": "stdout",
     "output_type": "stream",
     "text": [
      "epoch: 11/60, train_loss: 0.00466779, val_loss: 0.00443921\n",
      "epoch: 12/60, train_loss: 0.00453092, val_loss: 0.00496781\n"
     ]
    },
    {
     "name": "stderr",
     "output_type": "stream",
     "text": [
      "100%|██████████| 61/61 [00:00<00:00, 356.35it/s]\n",
      "100%|██████████| 61/61 [00:00<00:00, 362.58it/s]\n",
      "  0%|          | 0/61 [00:00<?, ?it/s]"
     ]
    },
    {
     "name": "stdout",
     "output_type": "stream",
     "text": [
      "epoch: 13/60, train_loss: 0.00412540, val_loss: 0.00505548\n",
      "epoch: 14/60, train_loss: 0.00397101, val_loss: 0.00432113\n"
     ]
    },
    {
     "name": "stderr",
     "output_type": "stream",
     "text": [
      "100%|██████████| 61/61 [00:00<00:00, 357.03it/s]\n",
      "100%|██████████| 61/61 [00:00<00:00, 361.92it/s]\n",
      "  0%|          | 0/61 [00:00<?, ?it/s]"
     ]
    },
    {
     "name": "stdout",
     "output_type": "stream",
     "text": [
      "epoch: 15/60, train_loss: 0.00381777, val_loss: 0.00449148\n",
      "epoch: 16/60, train_loss: 0.00370710, val_loss: 0.00414410\n"
     ]
    },
    {
     "name": "stderr",
     "output_type": "stream",
     "text": [
      "100%|██████████| 61/61 [00:00<00:00, 356.91it/s]\n",
      "100%|██████████| 61/61 [00:00<00:00, 362.47it/s]\n",
      "  0%|          | 0/61 [00:00<?, ?it/s]"
     ]
    },
    {
     "name": "stdout",
     "output_type": "stream",
     "text": [
      "epoch: 17/60, train_loss: 0.00365553, val_loss: 0.00651831\n",
      "epoch: 18/60, train_loss: 0.00352236, val_loss: 0.00428931\n"
     ]
    },
    {
     "name": "stderr",
     "output_type": "stream",
     "text": [
      "100%|██████████| 61/61 [00:00<00:00, 356.92it/s]\n",
      "100%|██████████| 61/61 [00:00<00:00, 362.73it/s]\n",
      "  0%|          | 0/61 [00:00<?, ?it/s]"
     ]
    },
    {
     "name": "stdout",
     "output_type": "stream",
     "text": [
      "epoch: 19/60, train_loss: 0.00343023, val_loss: 0.00484565\n",
      "epoch: 20/60, train_loss: 0.00356176, val_loss: 0.00431797\n"
     ]
    },
    {
     "name": "stderr",
     "output_type": "stream",
     "text": [
      "100%|██████████| 61/61 [00:00<00:00, 357.59it/s]\n",
      "100%|██████████| 61/61 [00:00<00:00, 363.80it/s]\n",
      "  0%|          | 0/61 [00:00<?, ?it/s]"
     ]
    },
    {
     "name": "stdout",
     "output_type": "stream",
     "text": [
      "epoch: 21/60, train_loss: 0.00360887, val_loss: 0.00429307\n",
      "epoch: 22/60, train_loss: 0.00355598, val_loss: 0.00420763\n"
     ]
    },
    {
     "name": "stderr",
     "output_type": "stream",
     "text": [
      "100%|██████████| 61/61 [00:00<00:00, 357.06it/s]\n",
      "100%|██████████| 61/61 [00:00<00:00, 363.32it/s]\n",
      "  0%|          | 0/61 [00:00<?, ?it/s]"
     ]
    },
    {
     "name": "stdout",
     "output_type": "stream",
     "text": [
      "epoch: 23/60, train_loss: 0.00314792, val_loss: 0.00429685\n",
      "epoch: 24/60, train_loss: 0.00321201, val_loss: 0.00450804\n"
     ]
    },
    {
     "name": "stderr",
     "output_type": "stream",
     "text": [
      "100%|██████████| 61/61 [00:00<00:00, 356.96it/s]\n",
      "100%|██████████| 61/61 [00:00<00:00, 363.84it/s]\n",
      "  0%|          | 0/61 [00:00<?, ?it/s]"
     ]
    },
    {
     "name": "stdout",
     "output_type": "stream",
     "text": [
      "epoch: 25/60, train_loss: 0.00307008, val_loss: 0.00484035\n",
      "epoch: 26/60, train_loss: 0.00353689, val_loss: 0.00447473\n"
     ]
    },
    {
     "name": "stderr",
     "output_type": "stream",
     "text": [
      "100%|██████████| 61/61 [00:00<00:00, 356.08it/s]\n",
      "100%|██████████| 61/61 [00:00<00:00, 362.85it/s]\n",
      "  0%|          | 0/61 [00:00<?, ?it/s]"
     ]
    },
    {
     "name": "stdout",
     "output_type": "stream",
     "text": [
      "epoch: 27/60, train_loss: 0.00313026, val_loss: 0.00437958\n",
      "epoch: 28/60, train_loss: 0.00302481, val_loss: 0.00448633\n"
     ]
    },
    {
     "name": "stderr",
     "output_type": "stream",
     "text": [
      "100%|██████████| 61/61 [00:00<00:00, 357.50it/s]\n",
      "100%|██████████| 61/61 [00:00<00:00, 362.82it/s]\n",
      "  0%|          | 0/61 [00:00<?, ?it/s]"
     ]
    },
    {
     "name": "stdout",
     "output_type": "stream",
     "text": [
      "epoch: 29/60, train_loss: 0.00298898, val_loss: 0.00454236\n",
      "epoch: 30/60, train_loss: 0.00312872, val_loss: 0.00454902\n"
     ]
    },
    {
     "name": "stderr",
     "output_type": "stream",
     "text": [
      "100%|██████████| 61/61 [00:00<00:00, 356.84it/s]\n",
      "100%|██████████| 61/61 [00:00<00:00, 364.53it/s]\n",
      "  0%|          | 0/61 [00:00<?, ?it/s]"
     ]
    },
    {
     "name": "stdout",
     "output_type": "stream",
     "text": [
      "epoch: 31/60, train_loss: 0.00300935, val_loss: 0.00461144\n",
      "epoch: 32/60, train_loss: 0.00293886, val_loss: 0.00477481\n"
     ]
    },
    {
     "name": "stderr",
     "output_type": "stream",
     "text": [
      "100%|██████████| 61/61 [00:00<00:00, 358.04it/s]\n",
      "100%|██████████| 61/61 [00:00<00:00, 361.69it/s]\n",
      "  0%|          | 0/61 [00:00<?, ?it/s]"
     ]
    },
    {
     "name": "stdout",
     "output_type": "stream",
     "text": [
      "epoch: 33/60, train_loss: 0.00300486, val_loss: 0.00437142\n",
      "epoch: 34/60, train_loss: 0.00293380, val_loss: 0.00442049\n"
     ]
    },
    {
     "name": "stderr",
     "output_type": "stream",
     "text": [
      "100%|██████████| 61/61 [00:00<00:00, 356.79it/s]\n",
      "100%|██████████| 61/61 [00:00<00:00, 363.30it/s]\n",
      "  0%|          | 0/61 [00:00<?, ?it/s]"
     ]
    },
    {
     "name": "stdout",
     "output_type": "stream",
     "text": [
      "epoch: 35/60, train_loss: 0.00303123, val_loss: 0.00450039\n",
      "epoch: 36/60, train_loss: 0.00282825, val_loss: 0.00535683\n"
     ]
    },
    {
     "name": "stderr",
     "output_type": "stream",
     "text": [
      "100%|██████████| 61/61 [00:00<00:00, 358.03it/s]\n",
      "100%|██████████| 61/61 [00:00<00:00, 363.27it/s]\n",
      "  0%|          | 0/61 [00:00<?, ?it/s]"
     ]
    },
    {
     "name": "stdout",
     "output_type": "stream",
     "text": [
      "epoch: 37/60, train_loss: 0.00297732, val_loss: 0.00450218\n",
      "epoch: 38/60, train_loss: 0.00270276, val_loss: 0.00463096\n"
     ]
    },
    {
     "name": "stderr",
     "output_type": "stream",
     "text": [
      "100%|██████████| 61/61 [00:00<00:00, 357.93it/s]\n",
      "100%|██████████| 61/61 [00:00<00:00, 363.88it/s]\n",
      "  0%|          | 0/61 [00:00<?, ?it/s]"
     ]
    },
    {
     "name": "stdout",
     "output_type": "stream",
     "text": [
      "epoch: 39/60, train_loss: 0.00284519, val_loss: 0.00461035\n",
      "epoch: 40/60, train_loss: 0.00293941, val_loss: 0.00484313\n"
     ]
    },
    {
     "name": "stderr",
     "output_type": "stream",
     "text": [
      "100%|██████████| 61/61 [00:00<00:00, 357.91it/s]\n",
      "100%|██████████| 61/61 [00:00<00:00, 362.84it/s]\n",
      "  0%|          | 0/61 [00:00<?, ?it/s]"
     ]
    },
    {
     "name": "stdout",
     "output_type": "stream",
     "text": [
      "epoch: 41/60, train_loss: 0.00273020, val_loss: 0.00526721\n",
      "epoch: 42/60, train_loss: 0.00277593, val_loss: 0.00469557\n"
     ]
    },
    {
     "name": "stderr",
     "output_type": "stream",
     "text": [
      "100%|██████████| 61/61 [00:00<00:00, 357.60it/s]\n",
      "100%|██████████| 61/61 [00:00<00:00, 364.53it/s]\n",
      "  0%|          | 0/61 [00:00<?, ?it/s]"
     ]
    },
    {
     "name": "stdout",
     "output_type": "stream",
     "text": [
      "epoch: 43/60, train_loss: 0.00273209, val_loss: 0.00454493\n",
      "epoch: 44/60, train_loss: 0.00271369, val_loss: 0.00458026\n"
     ]
    },
    {
     "name": "stderr",
     "output_type": "stream",
     "text": [
      "100%|██████████| 61/61 [00:00<00:00, 358.68it/s]\n",
      "100%|██████████| 61/61 [00:00<00:00, 364.22it/s]\n",
      "  0%|          | 0/61 [00:00<?, ?it/s]"
     ]
    },
    {
     "name": "stdout",
     "output_type": "stream",
     "text": [
      "epoch: 45/60, train_loss: 0.00257445, val_loss: 0.00531098\n",
      "epoch: 46/60, train_loss: 0.00260895, val_loss: 0.00471674\n"
     ]
    },
    {
     "name": "stderr",
     "output_type": "stream",
     "text": [
      "100%|██████████| 61/61 [00:00<00:00, 357.43it/s]\n",
      "100%|██████████| 61/61 [00:00<00:00, 364.27it/s]\n",
      "  0%|          | 0/61 [00:00<?, ?it/s]"
     ]
    },
    {
     "name": "stdout",
     "output_type": "stream",
     "text": [
      "epoch: 47/60, train_loss: 0.00259719, val_loss: 0.00519156\n",
      "epoch: 48/60, train_loss: 0.00273976, val_loss: 0.00635758\n"
     ]
    },
    {
     "name": "stderr",
     "output_type": "stream",
     "text": [
      "100%|██████████| 61/61 [00:00<00:00, 358.22it/s]\n",
      "100%|██████████| 61/61 [00:00<00:00, 361.36it/s]\n",
      "  0%|          | 0/61 [00:00<?, ?it/s]"
     ]
    },
    {
     "name": "stdout",
     "output_type": "stream",
     "text": [
      "epoch: 49/60, train_loss: 0.00266644, val_loss: 0.00600627\n",
      "epoch: 50/60, train_loss: 0.00258157, val_loss: 0.00481812\n"
     ]
    },
    {
     "name": "stderr",
     "output_type": "stream",
     "text": [
      "100%|██████████| 61/61 [00:00<00:00, 358.04it/s]\n",
      "100%|██████████| 61/61 [00:00<00:00, 364.45it/s]\n",
      "  0%|          | 0/61 [00:00<?, ?it/s]"
     ]
    },
    {
     "name": "stdout",
     "output_type": "stream",
     "text": [
      "epoch: 51/60, train_loss: 0.00261093, val_loss: 0.00475529\n",
      "epoch: 52/60, train_loss: 0.00257670, val_loss: 0.00468639\n"
     ]
    },
    {
     "name": "stderr",
     "output_type": "stream",
     "text": [
      "100%|██████████| 61/61 [00:00<00:00, 358.17it/s]\n",
      "100%|██████████| 61/61 [00:00<00:00, 363.38it/s]\n",
      "  0%|          | 0/61 [00:00<?, ?it/s]"
     ]
    },
    {
     "name": "stdout",
     "output_type": "stream",
     "text": [
      "epoch: 53/60, train_loss: 0.00262565, val_loss: 0.00592604\n",
      "epoch: 54/60, train_loss: 0.00246313, val_loss: 0.00507036\n"
     ]
    },
    {
     "name": "stderr",
     "output_type": "stream",
     "text": [
      "100%|██████████| 61/61 [00:00<00:00, 357.66it/s]\n",
      "100%|██████████| 61/61 [00:00<00:00, 363.66it/s]\n",
      "  0%|          | 0/61 [00:00<?, ?it/s]"
     ]
    },
    {
     "name": "stdout",
     "output_type": "stream",
     "text": [
      "epoch: 55/60, train_loss: 0.00255414, val_loss: 0.00471423\n",
      "epoch: 56/60, train_loss: 0.00254628, val_loss: 0.00475124\n"
     ]
    },
    {
     "name": "stderr",
     "output_type": "stream",
     "text": [
      "100%|██████████| 61/61 [00:00<00:00, 357.71it/s]\n",
      "100%|██████████| 61/61 [00:00<00:00, 363.31it/s]\n",
      "  0%|          | 0/61 [00:00<?, ?it/s]"
     ]
    },
    {
     "name": "stdout",
     "output_type": "stream",
     "text": [
      "epoch: 57/60, train_loss: 0.00257848, val_loss: 0.00476940\n",
      "epoch: 58/60, train_loss: 0.00248820, val_loss: 0.00456524\n"
     ]
    },
    {
     "name": "stderr",
     "output_type": "stream",
     "text": [
      "100%|██████████| 61/61 [00:00<00:00, 357.87it/s]\n",
      "100%|██████████| 61/61 [00:00<00:00, 363.59it/s]\n"
     ]
    },
    {
     "name": "stdout",
     "output_type": "stream",
     "text": [
      "epoch: 59/60, train_loss: 0.00278847, val_loss: 0.00459929\n",
      "epoch: 60/60, train_loss: 0.00256691, val_loss: 0.00494699\n",
      "best mse : 0.00414410\n",
      "Fold 7\n"
     ]
    },
    {
     "name": "stderr",
     "output_type": "stream",
     "text": [
      "100%|██████████| 61/61 [00:00<00:00, 322.27it/s]\n",
      "100%|██████████| 61/61 [00:00<00:00, 313.11it/s]"
     ]
    },
    {
     "name": "stdout",
     "output_type": "stream",
     "text": [
      "epoch: 1/60, train_loss: 0.03101175, val_loss: 0.00875806\n"
     ]
    },
    {
     "name": "stderr",
     "output_type": "stream",
     "text": [
      "\n",
      "100%|██████████| 61/61 [00:00<00:00, 324.43it/s]\n",
      "  0%|          | 0/61 [00:00<?, ?it/s]"
     ]
    },
    {
     "name": "stdout",
     "output_type": "stream",
     "text": [
      "epoch: 2/60, train_loss: 0.01327871, val_loss: 0.00642897\n",
      "epoch: 3/60, train_loss: 0.00890543, val_loss: 0.00589403\n"
     ]
    },
    {
     "name": "stderr",
     "output_type": "stream",
     "text": [
      "100%|██████████| 61/61 [00:00<00:00, 336.96it/s]\n",
      "100%|██████████| 61/61 [00:00<00:00, 327.41it/s]\n",
      "  0%|          | 0/61 [00:00<?, ?it/s]"
     ]
    },
    {
     "name": "stdout",
     "output_type": "stream",
     "text": [
      "epoch: 4/60, train_loss: 0.00743473, val_loss: 0.00495633\n",
      "epoch: 5/60, train_loss: 0.00653838, val_loss: 0.00482234\n"
     ]
    },
    {
     "name": "stderr",
     "output_type": "stream",
     "text": [
      "100%|██████████| 61/61 [00:00<00:00, 326.76it/s]\n",
      "100%|██████████| 61/61 [00:00<00:00, 330.12it/s]\n",
      "  0%|          | 0/61 [00:00<?, ?it/s]"
     ]
    },
    {
     "name": "stdout",
     "output_type": "stream",
     "text": [
      "epoch: 6/60, train_loss: 0.00581807, val_loss: 0.00519196\n",
      "epoch: 7/60, train_loss: 0.00554031, val_loss: 0.00490575\n"
     ]
    },
    {
     "name": "stderr",
     "output_type": "stream",
     "text": [
      "100%|██████████| 61/61 [00:00<00:00, 339.85it/s]\n",
      "100%|██████████| 61/61 [00:00<00:00, 331.94it/s]\n",
      "  0%|          | 0/61 [00:00<?, ?it/s]"
     ]
    },
    {
     "name": "stdout",
     "output_type": "stream",
     "text": [
      "epoch: 8/60, train_loss: 0.00535329, val_loss: 0.00411960\n",
      "epoch: 9/60, train_loss: 0.00472237, val_loss: 0.00399186\n"
     ]
    },
    {
     "name": "stderr",
     "output_type": "stream",
     "text": [
      "100%|██████████| 61/61 [00:00<00:00, 331.82it/s]\n",
      "100%|██████████| 61/61 [00:00<00:00, 336.41it/s]\n",
      "  0%|          | 0/61 [00:00<?, ?it/s]"
     ]
    },
    {
     "name": "stdout",
     "output_type": "stream",
     "text": [
      "epoch: 10/60, train_loss: 0.00478946, val_loss: 0.00404150\n",
      "epoch: 11/60, train_loss: 0.00463643, val_loss: 0.00429109\n"
     ]
    },
    {
     "name": "stderr",
     "output_type": "stream",
     "text": [
      "100%|██████████| 61/61 [00:00<00:00, 338.74it/s]\n",
      "100%|██████████| 61/61 [00:00<00:00, 345.09it/s]\n",
      "  0%|          | 0/61 [00:00<?, ?it/s]"
     ]
    },
    {
     "name": "stdout",
     "output_type": "stream",
     "text": [
      "epoch: 12/60, train_loss: 0.00425621, val_loss: 0.00640711\n",
      "epoch: 13/60, train_loss: 0.00443591, val_loss: 0.00507550\n"
     ]
    },
    {
     "name": "stderr",
     "output_type": "stream",
     "text": [
      "100%|██████████| 61/61 [00:00<00:00, 339.08it/s]\n",
      "100%|██████████| 61/61 [00:00<00:00, 347.00it/s]\n",
      "  0%|          | 0/61 [00:00<?, ?it/s]"
     ]
    },
    {
     "name": "stdout",
     "output_type": "stream",
     "text": [
      "epoch: 14/60, train_loss: 0.00405264, val_loss: 0.00474321\n",
      "epoch: 15/60, train_loss: 0.00416214, val_loss: 0.00367294\n"
     ]
    },
    {
     "name": "stderr",
     "output_type": "stream",
     "text": [
      "100%|██████████| 61/61 [00:00<00:00, 357.69it/s]\n",
      "100%|██████████| 61/61 [00:00<00:00, 362.04it/s]\n",
      "  0%|          | 0/61 [00:00<?, ?it/s]"
     ]
    },
    {
     "name": "stdout",
     "output_type": "stream",
     "text": [
      "epoch: 16/60, train_loss: 0.00407525, val_loss: 0.00376708\n",
      "epoch: 17/60, train_loss: 0.00375263, val_loss: 0.00421063\n"
     ]
    },
    {
     "name": "stderr",
     "output_type": "stream",
     "text": [
      "100%|██████████| 61/61 [00:00<00:00, 350.73it/s]\n",
      "100%|██████████| 61/61 [00:00<00:00, 346.31it/s]\n",
      "  0%|          | 0/61 [00:00<?, ?it/s]"
     ]
    },
    {
     "name": "stdout",
     "output_type": "stream",
     "text": [
      "epoch: 18/60, train_loss: 0.00345337, val_loss: 0.00372419\n",
      "epoch: 19/60, train_loss: 0.00346956, val_loss: 0.00489487\n"
     ]
    },
    {
     "name": "stderr",
     "output_type": "stream",
     "text": [
      "100%|██████████| 61/61 [00:00<00:00, 358.03it/s]\n",
      "100%|██████████| 61/61 [00:00<00:00, 343.52it/s]\n",
      "  0%|          | 0/61 [00:00<?, ?it/s]"
     ]
    },
    {
     "name": "stdout",
     "output_type": "stream",
     "text": [
      "epoch: 20/60, train_loss: 0.00337958, val_loss: 0.00369238\n",
      "epoch: 21/60, train_loss: 0.00341563, val_loss: 0.00385608\n"
     ]
    },
    {
     "name": "stderr",
     "output_type": "stream",
     "text": [
      "100%|██████████| 61/61 [00:00<00:00, 342.64it/s]\n",
      "100%|██████████| 61/61 [00:00<00:00, 344.51it/s]\n",
      "  0%|          | 0/61 [00:00<?, ?it/s]"
     ]
    },
    {
     "name": "stdout",
     "output_type": "stream",
     "text": [
      "epoch: 22/60, train_loss: 0.00342440, val_loss: 0.00440406\n",
      "epoch: 23/60, train_loss: 0.00330126, val_loss: 0.00379915\n"
     ]
    },
    {
     "name": "stderr",
     "output_type": "stream",
     "text": [
      "100%|██████████| 61/61 [00:00<00:00, 350.00it/s]\n",
      "100%|██████████| 61/61 [00:00<00:00, 363.47it/s]\n",
      "  0%|          | 0/61 [00:00<?, ?it/s]"
     ]
    },
    {
     "name": "stdout",
     "output_type": "stream",
     "text": [
      "epoch: 24/60, train_loss: 0.00330169, val_loss: 0.00398245\n",
      "epoch: 25/60, train_loss: 0.00298518, val_loss: 0.00359487\n"
     ]
    },
    {
     "name": "stderr",
     "output_type": "stream",
     "text": [
      "100%|██████████| 61/61 [00:00<00:00, 359.30it/s]\n",
      "100%|██████████| 61/61 [00:00<00:00, 363.31it/s]\n",
      "  0%|          | 0/61 [00:00<?, ?it/s]"
     ]
    },
    {
     "name": "stdout",
     "output_type": "stream",
     "text": [
      "epoch: 26/60, train_loss: 0.00336640, val_loss: 0.00358455\n",
      "epoch: 27/60, train_loss: 0.00356753, val_loss: 0.00387718\n"
     ]
    },
    {
     "name": "stderr",
     "output_type": "stream",
     "text": [
      "100%|██████████| 61/61 [00:00<00:00, 355.91it/s]\n",
      "100%|██████████| 61/61 [00:00<00:00, 362.58it/s]\n",
      "  0%|          | 0/61 [00:00<?, ?it/s]"
     ]
    },
    {
     "name": "stdout",
     "output_type": "stream",
     "text": [
      "epoch: 28/60, train_loss: 0.00309060, val_loss: 0.00371123\n",
      "epoch: 29/60, train_loss: 0.00293007, val_loss: 0.00376528\n"
     ]
    },
    {
     "name": "stderr",
     "output_type": "stream",
     "text": [
      "100%|██████████| 61/61 [00:00<00:00, 359.55it/s]\n",
      "100%|██████████| 61/61 [00:00<00:00, 362.59it/s]\n",
      "  0%|          | 0/61 [00:00<?, ?it/s]"
     ]
    },
    {
     "name": "stdout",
     "output_type": "stream",
     "text": [
      "epoch: 30/60, train_loss: 0.00292571, val_loss: 0.00378930\n",
      "epoch: 31/60, train_loss: 0.00299720, val_loss: 0.00382460\n"
     ]
    },
    {
     "name": "stderr",
     "output_type": "stream",
     "text": [
      "100%|██████████| 61/61 [00:00<00:00, 360.03it/s]\n",
      "100%|██████████| 61/61 [00:00<00:00, 337.12it/s]\n",
      "  0%|          | 0/61 [00:00<?, ?it/s]"
     ]
    },
    {
     "name": "stdout",
     "output_type": "stream",
     "text": [
      "epoch: 32/60, train_loss: 0.00302963, val_loss: 0.00380327\n",
      "epoch: 33/60, train_loss: 0.00308470, val_loss: 0.00519609\n"
     ]
    },
    {
     "name": "stderr",
     "output_type": "stream",
     "text": [
      "100%|██████████| 61/61 [00:00<00:00, 356.76it/s]\n",
      "100%|██████████| 61/61 [00:00<00:00, 353.15it/s]\n",
      "  0%|          | 0/61 [00:00<?, ?it/s]"
     ]
    },
    {
     "name": "stdout",
     "output_type": "stream",
     "text": [
      "epoch: 34/60, train_loss: 0.00309396, val_loss: 0.00381313\n",
      "epoch: 35/60, train_loss: 0.00292726, val_loss: 0.00383026\n"
     ]
    },
    {
     "name": "stderr",
     "output_type": "stream",
     "text": [
      "100%|██████████| 61/61 [00:00<00:00, 339.39it/s]\n",
      "100%|██████████| 61/61 [00:00<00:00, 356.31it/s]\n",
      "  0%|          | 0/61 [00:00<?, ?it/s]"
     ]
    },
    {
     "name": "stdout",
     "output_type": "stream",
     "text": [
      "epoch: 36/60, train_loss: 0.00285735, val_loss: 0.00404638\n",
      "epoch: 37/60, train_loss: 0.00285682, val_loss: 0.00371887\n"
     ]
    },
    {
     "name": "stderr",
     "output_type": "stream",
     "text": [
      "100%|██████████| 61/61 [00:00<00:00, 352.31it/s]\n",
      "100%|██████████| 61/61 [00:00<00:00, 346.22it/s]\n",
      "  0%|          | 0/61 [00:00<?, ?it/s]"
     ]
    },
    {
     "name": "stdout",
     "output_type": "stream",
     "text": [
      "epoch: 38/60, train_loss: 0.00270687, val_loss: 0.00377787\n",
      "epoch: 39/60, train_loss: 0.00266292, val_loss: 0.00391651\n"
     ]
    },
    {
     "name": "stderr",
     "output_type": "stream",
     "text": [
      "100%|██████████| 61/61 [00:00<00:00, 346.48it/s]\n",
      "100%|██████████| 61/61 [00:00<00:00, 350.19it/s]\n",
      "  0%|          | 0/61 [00:00<?, ?it/s]"
     ]
    },
    {
     "name": "stdout",
     "output_type": "stream",
     "text": [
      "epoch: 40/60, train_loss: 0.00277741, val_loss: 0.00376192\n",
      "epoch: 41/60, train_loss: 0.00263278, val_loss: 0.00368072\n"
     ]
    },
    {
     "name": "stderr",
     "output_type": "stream",
     "text": [
      "100%|██████████| 61/61 [00:00<00:00, 354.66it/s]\n",
      "100%|██████████| 61/61 [00:00<00:00, 363.04it/s]\n",
      "  0%|          | 0/61 [00:00<?, ?it/s]"
     ]
    },
    {
     "name": "stdout",
     "output_type": "stream",
     "text": [
      "epoch: 42/60, train_loss: 0.00260365, val_loss: 0.00380043\n",
      "epoch: 43/60, train_loss: 0.00280036, val_loss: 0.00379711\n"
     ]
    },
    {
     "name": "stderr",
     "output_type": "stream",
     "text": [
      "100%|██████████| 61/61 [00:00<00:00, 361.07it/s]\n",
      "100%|██████████| 61/61 [00:00<00:00, 364.94it/s]\n",
      "  0%|          | 0/61 [00:00<?, ?it/s]"
     ]
    },
    {
     "name": "stdout",
     "output_type": "stream",
     "text": [
      "epoch: 44/60, train_loss: 0.00261691, val_loss: 0.00366264\n",
      "epoch: 45/60, train_loss: 0.00279182, val_loss: 0.00377060\n"
     ]
    },
    {
     "name": "stderr",
     "output_type": "stream",
     "text": [
      "100%|██████████| 61/61 [00:00<00:00, 360.30it/s]\n",
      "100%|██████████| 61/61 [00:00<00:00, 364.15it/s]\n",
      "  0%|          | 0/61 [00:00<?, ?it/s]"
     ]
    },
    {
     "name": "stdout",
     "output_type": "stream",
     "text": [
      "epoch: 46/60, train_loss: 0.00278306, val_loss: 0.00377298\n",
      "epoch: 47/60, train_loss: 0.00283118, val_loss: 0.00387895\n"
     ]
    },
    {
     "name": "stderr",
     "output_type": "stream",
     "text": [
      "100%|██████████| 61/61 [00:00<00:00, 361.32it/s]\n",
      "100%|██████████| 61/61 [00:00<00:00, 364.52it/s]\n",
      "  0%|          | 0/61 [00:00<?, ?it/s]"
     ]
    },
    {
     "name": "stdout",
     "output_type": "stream",
     "text": [
      "epoch: 48/60, train_loss: 0.00267271, val_loss: 0.00400016\n",
      "epoch: 49/60, train_loss: 0.00265405, val_loss: 0.00374160\n"
     ]
    },
    {
     "name": "stderr",
     "output_type": "stream",
     "text": [
      "100%|██████████| 61/61 [00:00<00:00, 360.64it/s]\n",
      "100%|██████████| 61/61 [00:00<00:00, 365.53it/s]\n",
      "  0%|          | 0/61 [00:00<?, ?it/s]"
     ]
    },
    {
     "name": "stdout",
     "output_type": "stream",
     "text": [
      "epoch: 50/60, train_loss: 0.00260165, val_loss: 0.00393903\n",
      "epoch: 51/60, train_loss: 0.00283045, val_loss: 0.00381461\n"
     ]
    },
    {
     "name": "stderr",
     "output_type": "stream",
     "text": [
      "100%|██████████| 61/61 [00:00<00:00, 360.95it/s]\n",
      "100%|██████████| 61/61 [00:00<00:00, 363.93it/s]\n",
      "  0%|          | 0/61 [00:00<?, ?it/s]"
     ]
    },
    {
     "name": "stdout",
     "output_type": "stream",
     "text": [
      "epoch: 52/60, train_loss: 0.00267886, val_loss: 0.00411355\n",
      "epoch: 53/60, train_loss: 0.00259491, val_loss: 0.00365745\n"
     ]
    },
    {
     "name": "stderr",
     "output_type": "stream",
     "text": [
      "100%|██████████| 61/61 [00:00<00:00, 359.97it/s]\n",
      "100%|██████████| 61/61 [00:00<00:00, 365.90it/s]\n",
      "  0%|          | 0/61 [00:00<?, ?it/s]"
     ]
    },
    {
     "name": "stdout",
     "output_type": "stream",
     "text": [
      "epoch: 54/60, train_loss: 0.00245851, val_loss: 0.00366723\n",
      "epoch: 55/60, train_loss: 0.00245955, val_loss: 0.00381219\n"
     ]
    },
    {
     "name": "stderr",
     "output_type": "stream",
     "text": [
      "100%|██████████| 61/61 [00:00<00:00, 361.88it/s]\n",
      "100%|██████████| 61/61 [00:00<00:00, 364.17it/s]\n",
      "  0%|          | 0/61 [00:00<?, ?it/s]"
     ]
    },
    {
     "name": "stdout",
     "output_type": "stream",
     "text": [
      "epoch: 56/60, train_loss: 0.00243114, val_loss: 0.00425871\n",
      "epoch: 57/60, train_loss: 0.00259349, val_loss: 0.00377645\n"
     ]
    },
    {
     "name": "stderr",
     "output_type": "stream",
     "text": [
      "100%|██████████| 61/61 [00:00<00:00, 357.74it/s]\n",
      "100%|██████████| 61/61 [00:00<00:00, 364.70it/s]\n",
      "  0%|          | 0/61 [00:00<?, ?it/s]"
     ]
    },
    {
     "name": "stdout",
     "output_type": "stream",
     "text": [
      "epoch: 58/60, train_loss: 0.00254648, val_loss: 0.00386307\n",
      "epoch: 59/60, train_loss: 0.00271238, val_loss: 0.00412776\n"
     ]
    },
    {
     "name": "stderr",
     "output_type": "stream",
     "text": [
      "100%|██████████| 61/61 [00:00<00:00, 360.32it/s]\n"
     ]
    },
    {
     "name": "stdout",
     "output_type": "stream",
     "text": [
      "epoch: 60/60, train_loss: 0.00255935, val_loss: 0.00388087\n",
      "best mse : 0.00358455\n",
      "Fold 8\n"
     ]
    },
    {
     "name": "stderr",
     "output_type": "stream",
     "text": [
      "100%|██████████| 61/61 [00:00<00:00, 324.80it/s]\n",
      "100%|██████████| 61/61 [00:00<00:00, 363.72it/s]\n",
      "  0%|          | 0/61 [00:00<?, ?it/s]"
     ]
    },
    {
     "name": "stdout",
     "output_type": "stream",
     "text": [
      "epoch: 1/60, train_loss: 0.03063743, val_loss: 0.01048178\n",
      "epoch: 2/60, train_loss: 0.01362221, val_loss: 0.00847615\n"
     ]
    },
    {
     "name": "stderr",
     "output_type": "stream",
     "text": [
      "100%|██████████| 61/61 [00:00<00:00, 360.10it/s]\n",
      "100%|██████████| 61/61 [00:00<00:00, 363.44it/s]\n",
      "  0%|          | 0/61 [00:00<?, ?it/s]"
     ]
    },
    {
     "name": "stdout",
     "output_type": "stream",
     "text": [
      "epoch: 3/60, train_loss: 0.00924207, val_loss: 0.00953670\n",
      "epoch: 4/60, train_loss: 0.00761474, val_loss: 0.00724536\n"
     ]
    },
    {
     "name": "stderr",
     "output_type": "stream",
     "text": [
      "100%|██████████| 61/61 [00:00<00:00, 359.61it/s]\n",
      "100%|██████████| 61/61 [00:00<00:00, 365.02it/s]\n",
      "  0%|          | 0/61 [00:00<?, ?it/s]"
     ]
    },
    {
     "name": "stdout",
     "output_type": "stream",
     "text": [
      "epoch: 5/60, train_loss: 0.00660816, val_loss: 0.00644676\n",
      "epoch: 6/60, train_loss: 0.00575094, val_loss: 0.00655879\n"
     ]
    },
    {
     "name": "stderr",
     "output_type": "stream",
     "text": [
      "100%|██████████| 61/61 [00:00<00:00, 358.60it/s]\n",
      "100%|██████████| 61/61 [00:00<00:00, 364.21it/s]\n",
      "  0%|          | 0/61 [00:00<?, ?it/s]"
     ]
    },
    {
     "name": "stdout",
     "output_type": "stream",
     "text": [
      "epoch: 7/60, train_loss: 0.00558620, val_loss: 0.00613662\n",
      "epoch: 8/60, train_loss: 0.00545988, val_loss: 0.00620910\n"
     ]
    },
    {
     "name": "stderr",
     "output_type": "stream",
     "text": [
      "100%|██████████| 61/61 [00:00<00:00, 361.86it/s]\n",
      "100%|██████████| 61/61 [00:00<00:00, 366.62it/s]\n",
      "  0%|          | 0/61 [00:00<?, ?it/s]"
     ]
    },
    {
     "name": "stdout",
     "output_type": "stream",
     "text": [
      "epoch: 9/60, train_loss: 0.00537546, val_loss: 0.00816894\n",
      "epoch: 10/60, train_loss: 0.00472045, val_loss: 0.00579891\n"
     ]
    },
    {
     "name": "stderr",
     "output_type": "stream",
     "text": [
      "100%|██████████| 61/61 [00:00<00:00, 360.13it/s]\n",
      "100%|██████████| 61/61 [00:00<00:00, 367.13it/s]\n",
      "  0%|          | 0/61 [00:00<?, ?it/s]"
     ]
    },
    {
     "name": "stdout",
     "output_type": "stream",
     "text": [
      "epoch: 11/60, train_loss: 0.00456021, val_loss: 0.00577773\n",
      "epoch: 12/60, train_loss: 0.00459052, val_loss: 0.00760505\n"
     ]
    },
    {
     "name": "stderr",
     "output_type": "stream",
     "text": [
      "100%|██████████| 61/61 [00:00<00:00, 362.19it/s]\n",
      "100%|██████████| 61/61 [00:00<00:00, 350.92it/s]\n",
      "  0%|          | 0/61 [00:00<?, ?it/s]"
     ]
    },
    {
     "name": "stdout",
     "output_type": "stream",
     "text": [
      "epoch: 13/60, train_loss: 0.00418611, val_loss: 0.00566504\n",
      "epoch: 14/60, train_loss: 0.00412977, val_loss: 0.00548220\n"
     ]
    },
    {
     "name": "stderr",
     "output_type": "stream",
     "text": [
      "100%|██████████| 61/61 [00:00<00:00, 356.41it/s]\n",
      "100%|██████████| 61/61 [00:00<00:00, 365.74it/s]\n",
      "  0%|          | 0/61 [00:00<?, ?it/s]"
     ]
    },
    {
     "name": "stdout",
     "output_type": "stream",
     "text": [
      "epoch: 15/60, train_loss: 0.00414504, val_loss: 0.00592581\n",
      "epoch: 16/60, train_loss: 0.00387162, val_loss: 0.00646757\n"
     ]
    },
    {
     "name": "stderr",
     "output_type": "stream",
     "text": [
      "100%|██████████| 61/61 [00:00<00:00, 343.30it/s]\n",
      "100%|██████████| 61/61 [00:00<00:00, 343.38it/s]\n",
      "  0%|          | 0/61 [00:00<?, ?it/s]"
     ]
    },
    {
     "name": "stdout",
     "output_type": "stream",
     "text": [
      "epoch: 17/60, train_loss: 0.00388463, val_loss: 0.00556614\n",
      "epoch: 18/60, train_loss: 0.00418952, val_loss: 0.00573798\n"
     ]
    },
    {
     "name": "stderr",
     "output_type": "stream",
     "text": [
      "100%|██████████| 61/61 [00:00<00:00, 342.28it/s]\n",
      "100%|██████████| 61/61 [00:00<00:00, 364.88it/s]\n",
      "  0%|          | 0/61 [00:00<?, ?it/s]"
     ]
    },
    {
     "name": "stdout",
     "output_type": "stream",
     "text": [
      "epoch: 19/60, train_loss: 0.00350960, val_loss: 0.00529999\n",
      "epoch: 20/60, train_loss: 0.00365639, val_loss: 0.00551399\n"
     ]
    },
    {
     "name": "stderr",
     "output_type": "stream",
     "text": [
      "100%|██████████| 61/61 [00:00<00:00, 361.83it/s]\n",
      "100%|██████████| 61/61 [00:00<00:00, 349.96it/s]\n",
      "  0%|          | 0/61 [00:00<?, ?it/s]"
     ]
    },
    {
     "name": "stdout",
     "output_type": "stream",
     "text": [
      "epoch: 21/60, train_loss: 0.00359215, val_loss: 0.00541840\n",
      "epoch: 22/60, train_loss: 0.00342226, val_loss: 0.00552471\n"
     ]
    },
    {
     "name": "stderr",
     "output_type": "stream",
     "text": [
      "100%|██████████| 61/61 [00:00<00:00, 350.51it/s]\n",
      "100%|██████████| 61/61 [00:00<00:00, 350.42it/s]\n",
      "  0%|          | 0/61 [00:00<?, ?it/s]"
     ]
    },
    {
     "name": "stdout",
     "output_type": "stream",
     "text": [
      "epoch: 23/60, train_loss: 0.00363665, val_loss: 0.00729598\n",
      "epoch: 24/60, train_loss: 0.00375477, val_loss: 0.00546540\n"
     ]
    },
    {
     "name": "stderr",
     "output_type": "stream",
     "text": [
      "100%|██████████| 61/61 [00:00<00:00, 318.21it/s]\n",
      "100%|██████████| 61/61 [00:00<00:00, 363.19it/s]\n",
      "  0%|          | 0/61 [00:00<?, ?it/s]"
     ]
    },
    {
     "name": "stdout",
     "output_type": "stream",
     "text": [
      "epoch: 25/60, train_loss: 0.00340412, val_loss: 0.00681633\n",
      "epoch: 26/60, train_loss: 0.00319266, val_loss: 0.00628657\n"
     ]
    },
    {
     "name": "stderr",
     "output_type": "stream",
     "text": [
      "100%|██████████| 61/61 [00:00<00:00, 360.82it/s]\n",
      "100%|██████████| 61/61 [00:00<00:00, 359.03it/s]\n",
      "  0%|          | 0/61 [00:00<?, ?it/s]"
     ]
    },
    {
     "name": "stdout",
     "output_type": "stream",
     "text": [
      "epoch: 27/60, train_loss: 0.00317601, val_loss: 0.00544596\n",
      "epoch: 28/60, train_loss: 0.00310641, val_loss: 0.00543161\n"
     ]
    },
    {
     "name": "stderr",
     "output_type": "stream",
     "text": [
      "100%|██████████| 61/61 [00:00<00:00, 361.02it/s]\n",
      "100%|██████████| 61/61 [00:00<00:00, 365.42it/s]\n",
      "  0%|          | 0/61 [00:00<?, ?it/s]"
     ]
    },
    {
     "name": "stdout",
     "output_type": "stream",
     "text": [
      "epoch: 29/60, train_loss: 0.00306278, val_loss: 0.00535755\n",
      "epoch: 30/60, train_loss: 0.00339249, val_loss: 0.00572304\n"
     ]
    },
    {
     "name": "stderr",
     "output_type": "stream",
     "text": [
      "100%|██████████| 61/61 [00:00<00:00, 359.06it/s]\n",
      "100%|██████████| 61/61 [00:00<00:00, 348.80it/s]\n",
      "  0%|          | 0/61 [00:00<?, ?it/s]"
     ]
    },
    {
     "name": "stdout",
     "output_type": "stream",
     "text": [
      "epoch: 31/60, train_loss: 0.00323112, val_loss: 0.00520309\n",
      "epoch: 32/60, train_loss: 0.00314427, val_loss: 0.00527593\n"
     ]
    },
    {
     "name": "stderr",
     "output_type": "stream",
     "text": [
      "100%|██████████| 61/61 [00:00<00:00, 343.76it/s]\n",
      "100%|██████████| 61/61 [00:00<00:00, 365.44it/s]\n",
      "  0%|          | 0/61 [00:00<?, ?it/s]"
     ]
    },
    {
     "name": "stdout",
     "output_type": "stream",
     "text": [
      "epoch: 33/60, train_loss: 0.00295179, val_loss: 0.00532118\n",
      "epoch: 34/60, train_loss: 0.00293521, val_loss: 0.00522431\n"
     ]
    },
    {
     "name": "stderr",
     "output_type": "stream",
     "text": [
      "100%|██████████| 61/61 [00:00<00:00, 361.70it/s]\n",
      " 52%|█████▏    | 32/61 [00:00<00:00, 310.23it/s]"
     ]
    },
    {
     "name": "stdout",
     "output_type": "stream",
     "text": [
      "epoch: 35/60, train_loss: 0.00307479, val_loss: 0.00564786\n"
     ]
    },
    {
     "name": "stderr",
     "output_type": "stream",
     "text": [
      "100%|██████████| 61/61 [00:00<00:00, 299.41it/s]\n",
      " 46%|████▌     | 28/61 [00:00<00:00, 275.77it/s]"
     ]
    },
    {
     "name": "stdout",
     "output_type": "stream",
     "text": [
      "epoch: 36/60, train_loss: 0.00287060, val_loss: 0.00532422\n"
     ]
    },
    {
     "name": "stderr",
     "output_type": "stream",
     "text": [
      "100%|██████████| 61/61 [00:00<00:00, 279.46it/s]\n",
      " 54%|█████▍    | 33/61 [00:00<00:00, 322.34it/s]"
     ]
    },
    {
     "name": "stdout",
     "output_type": "stream",
     "text": [
      "epoch: 37/60, train_loss: 0.00306010, val_loss: 0.00606309\n"
     ]
    },
    {
     "name": "stderr",
     "output_type": "stream",
     "text": [
      "100%|██████████| 61/61 [00:00<00:00, 303.51it/s]\n",
      " 48%|████▊     | 29/61 [00:00<00:00, 281.76it/s]"
     ]
    },
    {
     "name": "stdout",
     "output_type": "stream",
     "text": [
      "epoch: 38/60, train_loss: 0.00293208, val_loss: 0.00545778\n"
     ]
    },
    {
     "name": "stderr",
     "output_type": "stream",
     "text": [
      "100%|██████████| 61/61 [00:00<00:00, 278.91it/s]\n",
      " 49%|████▉     | 30/61 [00:00<00:00, 299.55it/s]"
     ]
    },
    {
     "name": "stdout",
     "output_type": "stream",
     "text": [
      "epoch: 39/60, train_loss: 0.00277641, val_loss: 0.00545002\n"
     ]
    },
    {
     "name": "stderr",
     "output_type": "stream",
     "text": [
      "100%|██████████| 61/61 [00:00<00:00, 302.12it/s]\n",
      "100%|██████████| 61/61 [00:00<00:00, 307.83it/s]"
     ]
    },
    {
     "name": "stdout",
     "output_type": "stream",
     "text": [
      "epoch: 40/60, train_loss: 0.00274824, val_loss: 0.00539229\n"
     ]
    },
    {
     "name": "stderr",
     "output_type": "stream",
     "text": [
      "\n",
      "100%|██████████| 61/61 [00:00<00:00, 329.52it/s]\n",
      "  0%|          | 0/61 [00:00<?, ?it/s]"
     ]
    },
    {
     "name": "stdout",
     "output_type": "stream",
     "text": [
      "epoch: 41/60, train_loss: 0.00280557, val_loss: 0.00533813\n",
      "epoch: 42/60, train_loss: 0.00266557, val_loss: 0.00568987\n"
     ]
    },
    {
     "name": "stderr",
     "output_type": "stream",
     "text": [
      "100%|██████████| 61/61 [00:00<00:00, 331.77it/s]\n",
      "100%|██████████| 61/61 [00:00<00:00, 339.35it/s]\n",
      "  0%|          | 0/61 [00:00<?, ?it/s]"
     ]
    },
    {
     "name": "stdout",
     "output_type": "stream",
     "text": [
      "epoch: 43/60, train_loss: 0.00293842, val_loss: 0.00597176\n",
      "epoch: 44/60, train_loss: 0.00267566, val_loss: 0.00534321\n"
     ]
    },
    {
     "name": "stderr",
     "output_type": "stream",
     "text": [
      "100%|██████████| 61/61 [00:00<00:00, 349.19it/s]\n",
      "100%|██████████| 61/61 [00:00<00:00, 362.69it/s]\n",
      "  0%|          | 0/61 [00:00<?, ?it/s]"
     ]
    },
    {
     "name": "stdout",
     "output_type": "stream",
     "text": [
      "epoch: 45/60, train_loss: 0.00276762, val_loss: 0.00553527\n",
      "epoch: 46/60, train_loss: 0.00268619, val_loss: 0.00576050\n"
     ]
    },
    {
     "name": "stderr",
     "output_type": "stream",
     "text": [
      "100%|██████████| 61/61 [00:00<00:00, 298.69it/s]\n",
      " 48%|████▊     | 29/61 [00:00<00:00, 283.62it/s]"
     ]
    },
    {
     "name": "stdout",
     "output_type": "stream",
     "text": [
      "epoch: 47/60, train_loss: 0.00271469, val_loss: 0.00586400\n"
     ]
    },
    {
     "name": "stderr",
     "output_type": "stream",
     "text": [
      "100%|██████████| 61/61 [00:00<00:00, 282.26it/s]\n",
      " 48%|████▊     | 29/61 [00:00<00:00, 282.64it/s]"
     ]
    },
    {
     "name": "stdout",
     "output_type": "stream",
     "text": [
      "epoch: 48/60, train_loss: 0.00285906, val_loss: 0.00532847\n"
     ]
    },
    {
     "name": "stderr",
     "output_type": "stream",
     "text": [
      "100%|██████████| 61/61 [00:00<00:00, 299.43it/s]\n",
      "100%|██████████| 61/61 [00:00<00:00, 350.62it/s]\n",
      "  0%|          | 0/61 [00:00<?, ?it/s]"
     ]
    },
    {
     "name": "stdout",
     "output_type": "stream",
     "text": [
      "epoch: 49/60, train_loss: 0.00250824, val_loss: 0.00538343\n",
      "epoch: 50/60, train_loss: 0.00291747, val_loss: 0.00599592\n"
     ]
    },
    {
     "name": "stderr",
     "output_type": "stream",
     "text": [
      "100%|██████████| 61/61 [00:00<00:00, 322.63it/s]\n",
      " 48%|████▊     | 29/61 [00:00<00:00, 284.60it/s]"
     ]
    },
    {
     "name": "stdout",
     "output_type": "stream",
     "text": [
      "epoch: 51/60, train_loss: 0.00273536, val_loss: 0.00566516\n"
     ]
    },
    {
     "name": "stderr",
     "output_type": "stream",
     "text": [
      "100%|██████████| 61/61 [00:00<00:00, 282.08it/s]\n",
      " 46%|████▌     | 28/61 [00:00<00:00, 279.41it/s]"
     ]
    },
    {
     "name": "stdout",
     "output_type": "stream",
     "text": [
      "epoch: 52/60, train_loss: 0.00253515, val_loss: 0.00530163\n"
     ]
    },
    {
     "name": "stderr",
     "output_type": "stream",
     "text": [
      "100%|██████████| 61/61 [00:00<00:00, 280.16it/s]\n",
      " 49%|████▉     | 30/61 [00:00<00:00, 299.40it/s]"
     ]
    },
    {
     "name": "stdout",
     "output_type": "stream",
     "text": [
      "epoch: 53/60, train_loss: 0.00263669, val_loss: 0.00566149\n"
     ]
    },
    {
     "name": "stderr",
     "output_type": "stream",
     "text": [
      "100%|██████████| 61/61 [00:00<00:00, 296.20it/s]\n",
      " 48%|████▊     | 29/61 [00:00<00:00, 281.59it/s]"
     ]
    },
    {
     "name": "stdout",
     "output_type": "stream",
     "text": [
      "epoch: 54/60, train_loss: 0.00264091, val_loss: 0.00545935\n"
     ]
    },
    {
     "name": "stderr",
     "output_type": "stream",
     "text": [
      "100%|██████████| 61/61 [00:00<00:00, 281.94it/s]\n",
      " 46%|████▌     | 28/61 [00:00<00:00, 277.74it/s]"
     ]
    },
    {
     "name": "stdout",
     "output_type": "stream",
     "text": [
      "epoch: 55/60, train_loss: 0.00261252, val_loss: 0.00524703\n"
     ]
    },
    {
     "name": "stderr",
     "output_type": "stream",
     "text": [
      "100%|██████████| 61/61 [00:00<00:00, 279.09it/s]\n",
      " 48%|████▊     | 29/61 [00:00<00:00, 281.13it/s]"
     ]
    },
    {
     "name": "stdout",
     "output_type": "stream",
     "text": [
      "epoch: 56/60, train_loss: 0.00281574, val_loss: 0.00575451\n"
     ]
    },
    {
     "name": "stderr",
     "output_type": "stream",
     "text": [
      "100%|██████████| 61/61 [00:00<00:00, 293.49it/s]\n",
      " 46%|████▌     | 28/61 [00:00<00:00, 279.41it/s]"
     ]
    },
    {
     "name": "stdout",
     "output_type": "stream",
     "text": [
      "epoch: 57/60, train_loss: 0.00249040, val_loss: 0.00536736\n"
     ]
    },
    {
     "name": "stderr",
     "output_type": "stream",
     "text": [
      "100%|██████████| 61/61 [00:00<00:00, 281.51it/s]\n",
      " 48%|████▊     | 29/61 [00:00<00:00, 282.43it/s]"
     ]
    },
    {
     "name": "stdout",
     "output_type": "stream",
     "text": [
      "epoch: 58/60, train_loss: 0.00264921, val_loss: 0.00552588\n"
     ]
    },
    {
     "name": "stderr",
     "output_type": "stream",
     "text": [
      "100%|██████████| 61/61 [00:00<00:00, 281.51it/s]\n",
      " 48%|████▊     | 29/61 [00:00<00:00, 284.92it/s]"
     ]
    },
    {
     "name": "stdout",
     "output_type": "stream",
     "text": [
      "epoch: 59/60, train_loss: 0.00255477, val_loss: 0.00528602\n"
     ]
    },
    {
     "name": "stderr",
     "output_type": "stream",
     "text": [
      "100%|██████████| 61/61 [00:00<00:00, 284.57it/s]\n"
     ]
    },
    {
     "name": "stdout",
     "output_type": "stream",
     "text": [
      "epoch: 60/60, train_loss: 0.00257781, val_loss: 0.00566231\n",
      "best mse : 0.00520309\n",
      "Fold 9\n"
     ]
    },
    {
     "name": "stderr",
     "output_type": "stream",
     "text": [
      "100%|██████████| 61/61 [00:00<00:00, 327.86it/s]\n",
      "100%|██████████| 61/61 [00:00<00:00, 359.84it/s]\n",
      "  0%|          | 0/61 [00:00<?, ?it/s]"
     ]
    },
    {
     "name": "stdout",
     "output_type": "stream",
     "text": [
      "epoch: 1/60, train_loss: 0.03173300, val_loss: 0.01106248\n",
      "epoch: 2/60, train_loss: 0.01357468, val_loss: 0.00803008\n"
     ]
    },
    {
     "name": "stderr",
     "output_type": "stream",
     "text": [
      "100%|██████████| 61/61 [00:00<00:00, 356.44it/s]\n",
      "100%|██████████| 61/61 [00:00<00:00, 360.35it/s]\n",
      "  0%|          | 0/61 [00:00<?, ?it/s]"
     ]
    },
    {
     "name": "stdout",
     "output_type": "stream",
     "text": [
      "epoch: 3/60, train_loss: 0.00906374, val_loss: 0.00701064\n",
      "epoch: 4/60, train_loss: 0.00723838, val_loss: 0.00736757\n"
     ]
    },
    {
     "name": "stderr",
     "output_type": "stream",
     "text": [
      "100%|██████████| 61/61 [00:00<00:00, 356.95it/s]\n",
      "100%|██████████| 61/61 [00:00<00:00, 343.35it/s]\n",
      "  0%|          | 0/61 [00:00<?, ?it/s]"
     ]
    },
    {
     "name": "stdout",
     "output_type": "stream",
     "text": [
      "epoch: 5/60, train_loss: 0.00679663, val_loss: 0.00630517\n",
      "epoch: 6/60, train_loss: 0.00604106, val_loss: 0.00651760\n"
     ]
    },
    {
     "name": "stderr",
     "output_type": "stream",
     "text": [
      "100%|██████████| 61/61 [00:00<00:00, 346.47it/s]\n",
      "100%|██████████| 61/61 [00:00<00:00, 361.39it/s]\n",
      "  0%|          | 0/61 [00:00<?, ?it/s]"
     ]
    },
    {
     "name": "stdout",
     "output_type": "stream",
     "text": [
      "epoch: 7/60, train_loss: 0.00584148, val_loss: 0.00590392\n",
      "epoch: 8/60, train_loss: 0.00554781, val_loss: 0.00555812\n"
     ]
    },
    {
     "name": "stderr",
     "output_type": "stream",
     "text": [
      "100%|██████████| 61/61 [00:00<00:00, 355.71it/s]\n",
      "100%|██████████| 61/61 [00:00<00:00, 348.39it/s]\n",
      "  0%|          | 0/61 [00:00<?, ?it/s]"
     ]
    },
    {
     "name": "stdout",
     "output_type": "stream",
     "text": [
      "epoch: 9/60, train_loss: 0.00525618, val_loss: 0.00526249\n",
      "epoch: 10/60, train_loss: 0.00500714, val_loss: 0.00548462\n"
     ]
    },
    {
     "name": "stderr",
     "output_type": "stream",
     "text": [
      "100%|██████████| 61/61 [00:00<00:00, 360.83it/s]\n",
      "100%|██████████| 61/61 [00:00<00:00, 317.00it/s]"
     ]
    },
    {
     "name": "stdout",
     "output_type": "stream",
     "text": [
      "epoch: 11/60, train_loss: 0.00452093, val_loss: 0.00505162\n"
     ]
    },
    {
     "name": "stderr",
     "output_type": "stream",
     "text": [
      "\n",
      "100%|██████████| 61/61 [00:00<00:00, 327.83it/s]\n",
      "100%|██████████| 61/61 [00:00<00:00, 356.99it/s]\n",
      "  0%|          | 0/61 [00:00<?, ?it/s]"
     ]
    },
    {
     "name": "stdout",
     "output_type": "stream",
     "text": [
      "epoch: 12/60, train_loss: 0.00458251, val_loss: 0.00516284\n",
      "epoch: 13/60, train_loss: 0.00430551, val_loss: 0.00497985\n",
      "epoch: 14/60, train_loss: 0.00434567, val_loss: 0.00486425\n"
     ]
    },
    {
     "name": "stderr",
     "output_type": "stream",
     "text": [
      "100%|██████████| 61/61 [00:00<00:00, 339.96it/s]\n",
      "100%|██████████| 61/61 [00:00<00:00, 345.33it/s]\n",
      "  0%|          | 0/61 [00:00<?, ?it/s]"
     ]
    },
    {
     "name": "stdout",
     "output_type": "stream",
     "text": [
      "epoch: 15/60, train_loss: 0.00398357, val_loss: 0.00494192\n",
      "epoch: 16/60, train_loss: 0.00399774, val_loss: 0.00453998\n"
     ]
    },
    {
     "name": "stderr",
     "output_type": "stream",
     "text": [
      "100%|██████████| 61/61 [00:00<00:00, 346.70it/s]\n",
      "100%|██████████| 61/61 [00:00<00:00, 354.72it/s]\n",
      "  0%|          | 0/61 [00:00<?, ?it/s]"
     ]
    },
    {
     "name": "stdout",
     "output_type": "stream",
     "text": [
      "epoch: 17/60, train_loss: 0.00384165, val_loss: 0.00425544\n",
      "epoch: 18/60, train_loss: 0.00387179, val_loss: 0.00593801\n"
     ]
    },
    {
     "name": "stderr",
     "output_type": "stream",
     "text": [
      "100%|██████████| 61/61 [00:00<00:00, 358.98it/s]\n",
      "100%|██████████| 61/61 [00:00<00:00, 361.82it/s]\n",
      "  0%|          | 0/61 [00:00<?, ?it/s]"
     ]
    },
    {
     "name": "stdout",
     "output_type": "stream",
     "text": [
      "epoch: 19/60, train_loss: 0.00358717, val_loss: 0.00403461\n",
      "epoch: 20/60, train_loss: 0.00385079, val_loss: 0.00412065\n"
     ]
    },
    {
     "name": "stderr",
     "output_type": "stream",
     "text": [
      "100%|██████████| 61/61 [00:00<00:00, 357.88it/s]\n",
      "100%|██████████| 61/61 [00:00<00:00, 358.16it/s]\n",
      "  0%|          | 0/61 [00:00<?, ?it/s]"
     ]
    },
    {
     "name": "stdout",
     "output_type": "stream",
     "text": [
      "epoch: 21/60, train_loss: 0.00364955, val_loss: 0.00400849\n",
      "epoch: 22/60, train_loss: 0.00371456, val_loss: 0.00534062\n"
     ]
    },
    {
     "name": "stderr",
     "output_type": "stream",
     "text": [
      "100%|██████████| 61/61 [00:00<00:00, 354.14it/s]\n",
      "100%|██████████| 61/61 [00:00<00:00, 358.32it/s]\n",
      "  0%|          | 0/61 [00:00<?, ?it/s]"
     ]
    },
    {
     "name": "stdout",
     "output_type": "stream",
     "text": [
      "epoch: 23/60, train_loss: 0.00344944, val_loss: 0.00452672\n",
      "epoch: 24/60, train_loss: 0.00350467, val_loss: 0.00428004\n"
     ]
    },
    {
     "name": "stderr",
     "output_type": "stream",
     "text": [
      "100%|██████████| 61/61 [00:00<00:00, 354.15it/s]\n",
      "100%|██████████| 61/61 [00:00<00:00, 358.04it/s]\n",
      "  0%|          | 0/61 [00:00<?, ?it/s]"
     ]
    },
    {
     "name": "stdout",
     "output_type": "stream",
     "text": [
      "epoch: 25/60, train_loss: 0.00335986, val_loss: 0.00409494\n",
      "epoch: 26/60, train_loss: 0.00321860, val_loss: 0.00401879\n"
     ]
    },
    {
     "name": "stderr",
     "output_type": "stream",
     "text": [
      "100%|██████████| 61/61 [00:00<00:00, 354.03it/s]\n",
      "100%|██████████| 61/61 [00:00<00:00, 352.44it/s]\n",
      "  0%|          | 0/61 [00:00<?, ?it/s]"
     ]
    },
    {
     "name": "stdout",
     "output_type": "stream",
     "text": [
      "epoch: 27/60, train_loss: 0.00333692, val_loss: 0.00402119\n",
      "epoch: 28/60, train_loss: 0.00362285, val_loss: 0.00382919\n"
     ]
    },
    {
     "name": "stderr",
     "output_type": "stream",
     "text": [
      "100%|██████████| 61/61 [00:00<00:00, 359.54it/s]\n",
      "100%|██████████| 61/61 [00:00<00:00, 357.39it/s]\n",
      "  0%|          | 0/61 [00:00<?, ?it/s]"
     ]
    },
    {
     "name": "stdout",
     "output_type": "stream",
     "text": [
      "epoch: 29/60, train_loss: 0.00309986, val_loss: 0.00402610\n",
      "epoch: 30/60, train_loss: 0.00313235, val_loss: 0.00434443\n"
     ]
    },
    {
     "name": "stderr",
     "output_type": "stream",
     "text": [
      "100%|██████████| 61/61 [00:00<00:00, 354.55it/s]\n",
      "100%|██████████| 61/61 [00:00<00:00, 351.65it/s]\n",
      "  0%|          | 0/61 [00:00<?, ?it/s]"
     ]
    },
    {
     "name": "stdout",
     "output_type": "stream",
     "text": [
      "epoch: 31/60, train_loss: 0.00301092, val_loss: 0.00380973\n",
      "epoch: 32/60, train_loss: 0.00302664, val_loss: 0.00389551\n"
     ]
    },
    {
     "name": "stderr",
     "output_type": "stream",
     "text": [
      "100%|██████████| 61/61 [00:00<00:00, 354.74it/s]\n",
      "100%|██████████| 61/61 [00:00<00:00, 357.25it/s]\n",
      "  0%|          | 0/61 [00:00<?, ?it/s]"
     ]
    },
    {
     "name": "stdout",
     "output_type": "stream",
     "text": [
      "epoch: 33/60, train_loss: 0.00316776, val_loss: 0.00436269\n",
      "epoch: 34/60, train_loss: 0.00309156, val_loss: 0.00390026\n"
     ]
    },
    {
     "name": "stderr",
     "output_type": "stream",
     "text": [
      "100%|██████████| 61/61 [00:00<00:00, 356.84it/s]\n",
      "100%|██████████| 61/61 [00:00<00:00, 335.55it/s]\n",
      "  0%|          | 0/61 [00:00<?, ?it/s]"
     ]
    },
    {
     "name": "stdout",
     "output_type": "stream",
     "text": [
      "epoch: 35/60, train_loss: 0.00291224, val_loss: 0.00387484\n",
      "epoch: 36/60, train_loss: 0.00292115, val_loss: 0.00394505\n"
     ]
    },
    {
     "name": "stderr",
     "output_type": "stream",
     "text": [
      "100%|██████████| 61/61 [00:00<00:00, 356.61it/s]\n",
      "100%|██████████| 61/61 [00:00<00:00, 364.99it/s]\n",
      "  0%|          | 0/61 [00:00<?, ?it/s]"
     ]
    },
    {
     "name": "stdout",
     "output_type": "stream",
     "text": [
      "epoch: 37/60, train_loss: 0.00302751, val_loss: 0.00421819\n",
      "epoch: 38/60, train_loss: 0.00286734, val_loss: 0.00397349\n"
     ]
    },
    {
     "name": "stderr",
     "output_type": "stream",
     "text": [
      "100%|██████████| 61/61 [00:00<00:00, 341.21it/s]\n",
      "100%|██████████| 61/61 [00:00<00:00, 340.33it/s]\n",
      "  0%|          | 0/61 [00:00<?, ?it/s]"
     ]
    },
    {
     "name": "stdout",
     "output_type": "stream",
     "text": [
      "epoch: 39/60, train_loss: 0.00274866, val_loss: 0.00402101\n",
      "epoch: 40/60, train_loss: 0.00295930, val_loss: 0.00510396\n"
     ]
    },
    {
     "name": "stderr",
     "output_type": "stream",
     "text": [
      "100%|██████████| 61/61 [00:00<00:00, 360.80it/s]\n",
      "100%|██████████| 61/61 [00:00<00:00, 343.69it/s]\n",
      "  0%|          | 0/61 [00:00<?, ?it/s]"
     ]
    },
    {
     "name": "stdout",
     "output_type": "stream",
     "text": [
      "epoch: 41/60, train_loss: 0.00282046, val_loss: 0.00396558\n",
      "epoch: 42/60, train_loss: 0.00270994, val_loss: 0.00445395\n"
     ]
    },
    {
     "name": "stderr",
     "output_type": "stream",
     "text": [
      "100%|██████████| 61/61 [00:00<00:00, 343.17it/s]\n",
      "100%|██████████| 61/61 [00:00<00:00, 351.39it/s]\n",
      "  0%|          | 0/61 [00:00<?, ?it/s]"
     ]
    },
    {
     "name": "stdout",
     "output_type": "stream",
     "text": [
      "epoch: 43/60, train_loss: 0.00304611, val_loss: 0.00410483\n",
      "epoch: 44/60, train_loss: 0.00281194, val_loss: 0.00444792\n"
     ]
    },
    {
     "name": "stderr",
     "output_type": "stream",
     "text": [
      "100%|██████████| 61/61 [00:00<00:00, 344.20it/s]\n",
      "100%|██████████| 61/61 [00:00<00:00, 362.03it/s]\n",
      "  0%|          | 0/61 [00:00<?, ?it/s]"
     ]
    },
    {
     "name": "stdout",
     "output_type": "stream",
     "text": [
      "epoch: 45/60, train_loss: 0.00269991, val_loss: 0.00393094\n",
      "epoch: 46/60, train_loss: 0.00263495, val_loss: 0.00404344\n"
     ]
    },
    {
     "name": "stderr",
     "output_type": "stream",
     "text": [
      "100%|██████████| 61/61 [00:00<00:00, 349.29it/s]\n",
      "100%|██████████| 61/61 [00:00<00:00, 350.57it/s]\n",
      "  0%|          | 0/61 [00:00<?, ?it/s]"
     ]
    },
    {
     "name": "stdout",
     "output_type": "stream",
     "text": [
      "epoch: 47/60, train_loss: 0.00261374, val_loss: 0.00378816\n",
      "epoch: 48/60, train_loss: 0.00270081, val_loss: 0.00389466\n"
     ]
    },
    {
     "name": "stderr",
     "output_type": "stream",
     "text": [
      "100%|██████████| 61/61 [00:00<00:00, 358.44it/s]\n",
      "100%|██████████| 61/61 [00:00<00:00, 338.77it/s]\n",
      "  0%|          | 0/61 [00:00<?, ?it/s]"
     ]
    },
    {
     "name": "stdout",
     "output_type": "stream",
     "text": [
      "epoch: 49/60, train_loss: 0.00258016, val_loss: 0.00386397\n",
      "epoch: 50/60, train_loss: 0.00281397, val_loss: 0.00388618\n"
     ]
    },
    {
     "name": "stderr",
     "output_type": "stream",
     "text": [
      "100%|██████████| 61/61 [00:00<00:00, 338.21it/s]\n",
      "100%|██████████| 61/61 [00:00<00:00, 357.46it/s]\n",
      "  0%|          | 0/61 [00:00<?, ?it/s]"
     ]
    },
    {
     "name": "stdout",
     "output_type": "stream",
     "text": [
      "epoch: 51/60, train_loss: 0.00252485, val_loss: 0.00411465\n",
      "epoch: 52/60, train_loss: 0.00257995, val_loss: 0.00412100\n"
     ]
    },
    {
     "name": "stderr",
     "output_type": "stream",
     "text": [
      "100%|██████████| 61/61 [00:00<00:00, 334.75it/s]\n",
      "100%|██████████| 61/61 [00:00<00:00, 340.08it/s]\n",
      "  0%|          | 0/61 [00:00<?, ?it/s]"
     ]
    },
    {
     "name": "stdout",
     "output_type": "stream",
     "text": [
      "epoch: 53/60, train_loss: 0.00253969, val_loss: 0.00414561\n",
      "epoch: 54/60, train_loss: 0.00263657, val_loss: 0.00443453\n"
     ]
    },
    {
     "name": "stderr",
     "output_type": "stream",
     "text": [
      "100%|██████████| 61/61 [00:00<00:00, 336.18it/s]\n",
      "100%|██████████| 61/61 [00:00<00:00, 355.57it/s]\n",
      "  0%|          | 0/61 [00:00<?, ?it/s]"
     ]
    },
    {
     "name": "stdout",
     "output_type": "stream",
     "text": [
      "epoch: 55/60, train_loss: 0.00275749, val_loss: 0.00403219\n",
      "epoch: 56/60, train_loss: 0.00244796, val_loss: 0.00419183\n"
     ]
    },
    {
     "name": "stderr",
     "output_type": "stream",
     "text": [
      "100%|██████████| 61/61 [00:00<00:00, 336.15it/s]\n",
      "100%|██████████| 61/61 [00:00<00:00, 344.57it/s]\n",
      "  0%|          | 0/61 [00:00<?, ?it/s]"
     ]
    },
    {
     "name": "stdout",
     "output_type": "stream",
     "text": [
      "epoch: 57/60, train_loss: 0.00259357, val_loss: 0.00412471\n",
      "epoch: 58/60, train_loss: 0.00259937, val_loss: 0.00405558\n"
     ]
    },
    {
     "name": "stderr",
     "output_type": "stream",
     "text": [
      "100%|██████████| 61/61 [00:00<00:00, 339.74it/s]\n",
      "100%|██████████| 61/61 [00:00<00:00, 346.29it/s]\n"
     ]
    },
    {
     "name": "stdout",
     "output_type": "stream",
     "text": [
      "epoch: 59/60, train_loss: 0.00265818, val_loss: 0.00393336\n",
      "epoch: 60/60, train_loss: 0.00250371, val_loss: 0.00402431\n",
      "best mse : 0.00378816\n"
     ]
    }
   ],
   "source": [
    "from sklearn.model_selection import KFold\n",
    "\n",
    "from sklearn.tree import DecisionTreeRegressor\n",
    "from sklearn.ensemble import RandomForestRegressor\n",
    "from sklearn.ensemble import GradientBoostingRegressor\n",
    "import xgboost as xgb\n",
    "import lightgbm as lgb\n",
    "\n",
    "import torch\n",
    "from torch import nn, optim\n",
    "from torch.utils.data import DataLoader, TensorDataset\n",
    "from torch.nn import functional as F\n",
    "from torch.optim import Adam\n",
    "import tqdm\n",
    "\n",
    "from model import Model\n",
    "from train import Trainer\n",
    "\n",
    "from sklearn.metrics import mean_squared_error\n",
    "\n",
    "seed = 1234\n",
    "kf = KFold(n_splits=10, shuffle=True, random_state=seed)\n",
    "\n",
    "MSE_list = []\n",
    "for i, (train_idx, test_idx) in enumerate(kf.split(X_data)):\n",
    "    print('Fold {}'.format(i))\n",
    "    \n",
    "    X_train, y_train = X_data[train_idx], y_data[train_idx]\n",
    "    X_test, y_test = X_data[test_idx], y_data[test_idx]\n",
    "    \n",
    "    # Dicision Tree\n",
    "    dt = DecisionTreeRegressor(random_state=seed)\n",
    "    dt.fit(X_train, y_train)\n",
    "    \n",
    "    # RandomForest\n",
    "    rf = RandomForestRegressor(n_estimators=500, max_features='sqrt', random_state=seed)\n",
    "    rf.fit(X_train, y_train)\n",
    "    \n",
    "    # GBM\n",
    "    gbm = GradientBoostingRegressor()\n",
    "    gbm.fit(X_train, y_train)\n",
    "    \n",
    "    # XGBoost\n",
    "    xgb_reg = xgb.XGBRegressor(learning_rate=0.1, max_depth=10, n_estimators=500)\n",
    "    xgb_reg.fit(X_train, y_train, verbose=False)\n",
    "\n",
    "    # LightGBM\n",
    "    lgb_reg = lgb.LGBMRegressor(n_estimators=500)\n",
    "    lgb_reg.fit(X_train, y_train,\n",
    "                eval_set=[(X_test, y_test)],\n",
    "                eval_metric='l1',\n",
    "                early_stopping_rounds=1000,\n",
    "                verbose = False)\n",
    "    \n",
    "    # Neural Network\n",
    "    dX_train, dy_train = torch.tensor(X_train), torch.tensor(y_train)\n",
    "    dX_test, dy_test = torch.tensor(X_test), torch.tensor(y_test)\n",
    "\n",
    "    train_dataset = TensorDataset(dX_train, dy_train)\n",
    "    test_dataset = TensorDataset(dX_test, dy_test)\n",
    "    \n",
    "    BATCH_SIZE = 128\n",
    "    train_loader = DataLoader(train_dataset, batch_size = BATCH_SIZE, shuffle = True)\n",
    "    test_loader = DataLoader(test_dataset, batch_size = BATCH_SIZE, shuffle = False)\n",
    "    \n",
    "    model = Model(input_size = dX_train.shape[1], hidden_size = 128)\n",
    "    device = 'cuda:0' if torch.cuda.is_available() else 'cpu'\n",
    "    model.to(device)\n",
    "    \n",
    "    MSE = nn.MSELoss(reduction = 'mean')\n",
    "    trainer = Trainer(model, train_loader, test_loader, criterion = MSE, optimizer = Adam,\n",
    "                  epochs = 60, lr = 0.0007, l2_norm =0.03, device = device)\n",
    "    trainer.fit()\n",
    "    \n",
    "    model = trainer.get_best_model()\n",
    "    \n",
    "    # Ensemble\n",
    "    models = {'DNN' : model, 'DecisionTree' : dt, 'RandomForest' : rf, 'GBM' : gbm, 'XGBOOST': xgb_reg, 'LightGBM' : lgb_reg}\n",
    "\n",
    "    ensemble = EnsembleRegressor(models, weights=None)\n",
    "    result = ensemble.random_search(X_test, y_test, 30000)\n",
    "    optimal_weight = result.iloc[0,:-1].tolist()\n",
    "    \n",
    "    ensemble = EnsembleRegressor(models, weights=optimal_weight)\n",
    "    preds = ensemble.predict(X_test)\n",
    "    \n",
    "    mse = mean_squared_error(y_test, preds)\n",
    "    MSE_list.append(mse)"
   ]
  },
  {
   "cell_type": "code",
   "execution_count": 31,
   "metadata": {},
   "outputs": [
    {
     "name": "stdout",
     "output_type": "stream",
     "text": [
      "        MSE\n",
      "0  0.002392\n",
      "1  0.002208\n",
      "2  0.002605\n",
      "3  0.003102\n",
      "4  0.003382\n",
      "5  0.002470\n",
      "6  0.001908\n",
      "7  0.001816\n",
      "8  0.002911\n",
      "9  0.002339\n",
      "\n",
      "MSE    0.002513\n",
      "dtype: float64\n",
      "MSE    0.000501\n",
      "dtype: float64\n"
     ]
    }
   ],
   "source": [
    "result = pd.DataFrame(MSE_list, columns=['MSE'])\n",
    "print(result)\n",
    "print()\n",
    "print(result.mean())\n",
    "print(result.std())"
   ]
  },
  {
   "cell_type": "code",
   "execution_count": null,
   "metadata": {},
   "outputs": [],
   "source": []
  }
 ],
 "metadata": {
  "kernelspec": {
   "display_name": "Python 3",
   "language": "python",
   "name": "python3"
  },
  "language_info": {
   "codemirror_mode": {
    "name": "ipython",
    "version": 3
   },
   "file_extension": ".py",
   "mimetype": "text/x-python",
   "name": "python",
   "nbconvert_exporter": "python",
   "pygments_lexer": "ipython3",
   "version": "3.8.5"
  }
 },
 "nbformat": 4,
 "nbformat_minor": 4
}
