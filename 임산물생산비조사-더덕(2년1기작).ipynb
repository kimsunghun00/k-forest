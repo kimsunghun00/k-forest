{
 "cells": [
  {
   "cell_type": "code",
   "execution_count": 51,
   "id": "efa04f57",
   "metadata": {},
   "outputs": [
    {
     "name": "stdout",
     "output_type": "stream",
     "text": [
      "2011 (26, 483)\n",
      "2012 (23, 483)\n",
      "2013 (24, 483)\n",
      "2014 (29, 483)\n",
      "2015 (36, 483)\n",
      "2016 (38, 483)\n",
      "WARNING *** file size (123168) not 512 + multiple of sector size (512)\n",
      "WARNING *** OLE2 inconsistency: SSCS size is 0 but SSAT size is non-zero\n",
      "2017 (32, 447)\n",
      "2018 (36, 447)\n",
      "2019 (33, 810)\n"
     ]
    }
   ],
   "source": [
    "import os\n",
    "import pandas as pd\n",
    "import numpy as np\n",
    "\n",
    "\n",
    "def load_data(path):\n",
    "    years = [2011, 2012, 2013, 2014, 2015, 2016, 2017, 2018, 2019]\n",
    "    use_cols = ['age1',\n",
    "                'land', \n",
    "                'labch_1', 'labh_hour_1', 'lab_cost',\n",
    "                'fmtc_1', 'lansh_1',\n",
    "                'size', 'ara', 'de2',# catecorical variable\n",
    "                'cony_1'] # dependent variable\n",
    "\n",
    "    # 2011-2015\n",
    "    dataframe_list = []\n",
    "    for year in years[:5]:\n",
    "        file_path1 = os.path.join(path, str(year)+'년', str(year)+'년 임산물생산비조사_통합 데이터_6. 더덕(2기작)(엑셀1).xlsx')\n",
    "        file_path2 = os.path.join(path, str(year)+'년', str(year)+'년 임산물생산비조사_통합 데이터_6. 더덕(2기작)(엑셀2).xlsx')\n",
    "        \n",
    "        forest_data1 = pd.read_excel(file_path1)\n",
    "        forest_data2 = pd.read_excel(file_path2)\n",
    "        forest_data = pd.concat([forest_data1, forest_data2], axis=1)\n",
    "        dataframe_list.append(forest_data.loc[:,use_cols])\n",
    "        print(year, forest_data.shape)\n",
    "    \n",
    "    # 2016\n",
    "    file_path1 = os.path.join(path, '2016년/2016년 임산물생산비조사_통합 데이터_6. 더덕 2년 1기작(엑셀1).xlsx')\n",
    "    file_path2 = os.path.join(path, '2016년/2016년 임산물생산비조사_통합 데이터_6. 더덕 2년 1기작(엑셀2).xlsx')\n",
    "\n",
    "    forest_data1 = pd.read_excel(file_path1)\n",
    "    forest_data2 = pd.read_excel(file_path2)\n",
    "    forest_2016 = pd.concat([forest_data1, forest_data2], axis=1)\n",
    "    dataframe_list.append(forest_2016.loc[:,use_cols])\n",
    "    print(2016, forest_2016.shape)\n",
    "    \n",
    "    #2017\n",
    "    file_path1 = os.path.join(path, '2017년/2017년 임산물생산비조사_통합 데이터_6. 더덕_2년 1기작(엑셀 1).xls')\n",
    "    file_path2 = os.path.join(path, '2017년/2017년 임산물생산비조사_통합 데이터_6. 더덕_2년 1기작(엑셀 2).xls')\n",
    "    \n",
    "    forest_data1 = pd.read_excel(file_path1)    \n",
    "    forest_data2 = pd.read_excel(file_path2)\n",
    "    forest_2017 = pd.concat([forest_data1, forest_data2], axis=1)\n",
    "    dataframe_list.append(forest_2017.loc[:,use_cols])\n",
    "    print(2017, forest_2017.shape)\n",
    "    \n",
    "    #2018\n",
    "    file_path1 = os.path.join(path, '2018년/2018년 임산물생산비조사_통합 데이터_6. 더덕_2년 1기작(엑셀 1).xls')\n",
    "    file_path2 = os.path.join(path, '2018년/2018년 임산물생산비조사_통합 데이터_6. 더덕_2년 1기작(엑셀 2).xls')\n",
    "    \n",
    "    forest_data1 = pd.read_excel(file_path1)    \n",
    "    forest_data2 = pd.read_excel(file_path2)\n",
    "    forest_2018 = pd.concat([forest_data1, forest_data2], axis=1)\n",
    "    dataframe_list.append(forest_2018.loc[:,use_cols])\n",
    "    print(2018, forest_2018.shape)\n",
    "    \n",
    "    #2019\n",
    "    file_path = os.path.join(path, '2019년/2019년 임산물생산비조사_통합 데이터_6. 더덕2년1기작(수정3).xlsx')\n",
    "    forest_2019 = pd.read_excel(file_path)\n",
    "    dataframe_list.append(forest_data.loc[:,use_cols])\n",
    "    print(2019, forest_2019.shape)\n",
    "    \n",
    "    data = pd.concat(dataframe_list, axis=0)\n",
    "    data = data.reset_index(drop=True)\n",
    "    \n",
    "    return data\n",
    "    \n",
    "data = load_data('./임산물생산비조사 마이크로데이터(2010-2019)')"
   ]
  },
  {
   "cell_type": "code",
   "execution_count": 52,
   "id": "ee3dcaf8",
   "metadata": {},
   "outputs": [
    {
     "data": {
      "text/html": [
       "<div>\n",
       "<style scoped>\n",
       "    .dataframe tbody tr th:only-of-type {\n",
       "        vertical-align: middle;\n",
       "    }\n",
       "\n",
       "    .dataframe tbody tr th {\n",
       "        vertical-align: top;\n",
       "    }\n",
       "\n",
       "    .dataframe thead th {\n",
       "        text-align: right;\n",
       "    }\n",
       "</style>\n",
       "<table border=\"1\" class=\"dataframe\">\n",
       "  <thead>\n",
       "    <tr style=\"text-align: right;\">\n",
       "      <th></th>\n",
       "      <th>age1</th>\n",
       "      <th>land</th>\n",
       "      <th>labch_1</th>\n",
       "      <th>labh_hour_1</th>\n",
       "      <th>lab_cost</th>\n",
       "      <th>fmtc_1</th>\n",
       "      <th>lansh_1</th>\n",
       "      <th>size</th>\n",
       "      <th>ara</th>\n",
       "      <th>de2</th>\n",
       "      <th>cony_1</th>\n",
       "    </tr>\n",
       "  </thead>\n",
       "  <tbody>\n",
       "    <tr>\n",
       "      <th>0</th>\n",
       "      <td>64</td>\n",
       "      <td>3.855664e+06</td>\n",
       "      <td>5.053655e+06</td>\n",
       "      <td>592.851852</td>\n",
       "      <td>7114806</td>\n",
       "      <td>1.604268e+07</td>\n",
       "      <td>2.777778e+06</td>\n",
       "      <td>5</td>\n",
       "      <td>39</td>\n",
       "      <td>2</td>\n",
       "      <td>4400.000000</td>\n",
       "    </tr>\n",
       "    <tr>\n",
       "      <th>1</th>\n",
       "      <td>55</td>\n",
       "      <td>3.855664e+06</td>\n",
       "      <td>0.000000e+00</td>\n",
       "      <td>0.000000</td>\n",
       "      <td>0</td>\n",
       "      <td>5.181897e+06</td>\n",
       "      <td>7.500000e+05</td>\n",
       "      <td>5</td>\n",
       "      <td>39</td>\n",
       "      <td>2</td>\n",
       "      <td>4378.092027</td>\n",
       "    </tr>\n",
       "    <tr>\n",
       "      <th>2</th>\n",
       "      <td>50</td>\n",
       "      <td>3.855664e+06</td>\n",
       "      <td>6.946289e+06</td>\n",
       "      <td>1026.500981</td>\n",
       "      <td>25435724</td>\n",
       "      <td>1.717790e+07</td>\n",
       "      <td>2.763165e+06</td>\n",
       "      <td>5</td>\n",
       "      <td>39</td>\n",
       "      <td>2</td>\n",
       "      <td>5030.303030</td>\n",
       "    </tr>\n",
       "    <tr>\n",
       "      <th>3</th>\n",
       "      <td>58</td>\n",
       "      <td>3.855664e+06</td>\n",
       "      <td>1.079543e+07</td>\n",
       "      <td>1586.153209</td>\n",
       "      <td>9399978</td>\n",
       "      <td>1.977981e+07</td>\n",
       "      <td>2.732919e+06</td>\n",
       "      <td>4</td>\n",
       "      <td>39</td>\n",
       "      <td>2</td>\n",
       "      <td>6760.000000</td>\n",
       "    </tr>\n",
       "    <tr>\n",
       "      <th>4</th>\n",
       "      <td>57</td>\n",
       "      <td>3.855664e+06</td>\n",
       "      <td>1.244206e+07</td>\n",
       "      <td>1781.250000</td>\n",
       "      <td>12455148</td>\n",
       "      <td>2.137369e+07</td>\n",
       "      <td>2.000000e+06</td>\n",
       "      <td>4</td>\n",
       "      <td>39</td>\n",
       "      <td>2</td>\n",
       "      <td>8793.750000</td>\n",
       "    </tr>\n",
       "    <tr>\n",
       "      <th>...</th>\n",
       "      <td>...</td>\n",
       "      <td>...</td>\n",
       "      <td>...</td>\n",
       "      <td>...</td>\n",
       "      <td>...</td>\n",
       "      <td>...</td>\n",
       "      <td>...</td>\n",
       "      <td>...</td>\n",
       "      <td>...</td>\n",
       "      <td>...</td>\n",
       "      <td>...</td>\n",
       "    </tr>\n",
       "    <tr>\n",
       "      <th>275</th>\n",
       "      <td>65</td>\n",
       "      <td>4.134029e+06</td>\n",
       "      <td>1.647700e+07</td>\n",
       "      <td>2042.857143</td>\n",
       "      <td>4813301</td>\n",
       "      <td>2.625447e+07</td>\n",
       "      <td>1.657143e+06</td>\n",
       "      <td>2</td>\n",
       "      <td>99</td>\n",
       "      <td>2</td>\n",
       "      <td>6180.000000</td>\n",
       "    </tr>\n",
       "    <tr>\n",
       "      <th>276</th>\n",
       "      <td>58</td>\n",
       "      <td>4.134029e+06</td>\n",
       "      <td>6.403783e+06</td>\n",
       "      <td>638.095238</td>\n",
       "      <td>1346863</td>\n",
       "      <td>1.944236e+07</td>\n",
       "      <td>1.833333e+06</td>\n",
       "      <td>1</td>\n",
       "      <td>99</td>\n",
       "      <td>2</td>\n",
       "      <td>428.571429</td>\n",
       "    </tr>\n",
       "    <tr>\n",
       "      <th>277</th>\n",
       "      <td>72</td>\n",
       "      <td>4.134029e+06</td>\n",
       "      <td>6.168402e+06</td>\n",
       "      <td>737.984496</td>\n",
       "      <td>2480948</td>\n",
       "      <td>1.568836e+07</td>\n",
       "      <td>2.325581e+06</td>\n",
       "      <td>2</td>\n",
       "      <td>99</td>\n",
       "      <td>2</td>\n",
       "      <td>1916.666667</td>\n",
       "    </tr>\n",
       "    <tr>\n",
       "      <th>278</th>\n",
       "      <td>62</td>\n",
       "      <td>4.134029e+06</td>\n",
       "      <td>3.662950e+06</td>\n",
       "      <td>306.666667</td>\n",
       "      <td>1098885</td>\n",
       "      <td>1.315272e+07</td>\n",
       "      <td>2.166667e+06</td>\n",
       "      <td>2</td>\n",
       "      <td>99</td>\n",
       "      <td>2</td>\n",
       "      <td>6250.000000</td>\n",
       "    </tr>\n",
       "    <tr>\n",
       "      <th>279</th>\n",
       "      <td>68</td>\n",
       "      <td>4.134029e+06</td>\n",
       "      <td>3.332718e+06</td>\n",
       "      <td>300.000000</td>\n",
       "      <td>366599</td>\n",
       "      <td>1.128451e+07</td>\n",
       "      <td>2.000000e+06</td>\n",
       "      <td>1</td>\n",
       "      <td>99</td>\n",
       "      <td>2</td>\n",
       "      <td>5940.000000</td>\n",
       "    </tr>\n",
       "  </tbody>\n",
       "</table>\n",
       "<p>280 rows × 11 columns</p>\n",
       "</div>"
      ],
      "text/plain": [
       "     age1          land       labch_1  labh_hour_1  lab_cost        fmtc_1  \\\n",
       "0      64  3.855664e+06  5.053655e+06   592.851852   7114806  1.604268e+07   \n",
       "1      55  3.855664e+06  0.000000e+00     0.000000         0  5.181897e+06   \n",
       "2      50  3.855664e+06  6.946289e+06  1026.500981  25435724  1.717790e+07   \n",
       "3      58  3.855664e+06  1.079543e+07  1586.153209   9399978  1.977981e+07   \n",
       "4      57  3.855664e+06  1.244206e+07  1781.250000  12455148  2.137369e+07   \n",
       "..    ...           ...           ...          ...       ...           ...   \n",
       "275    65  4.134029e+06  1.647700e+07  2042.857143   4813301  2.625447e+07   \n",
       "276    58  4.134029e+06  6.403783e+06   638.095238   1346863  1.944236e+07   \n",
       "277    72  4.134029e+06  6.168402e+06   737.984496   2480948  1.568836e+07   \n",
       "278    62  4.134029e+06  3.662950e+06   306.666667   1098885  1.315272e+07   \n",
       "279    68  4.134029e+06  3.332718e+06   300.000000    366599  1.128451e+07   \n",
       "\n",
       "          lansh_1  size  ara  de2       cony_1  \n",
       "0    2.777778e+06     5   39    2  4400.000000  \n",
       "1    7.500000e+05     5   39    2  4378.092027  \n",
       "2    2.763165e+06     5   39    2  5030.303030  \n",
       "3    2.732919e+06     4   39    2  6760.000000  \n",
       "4    2.000000e+06     4   39    2  8793.750000  \n",
       "..            ...   ...  ...  ...          ...  \n",
       "275  1.657143e+06     2   99    2  6180.000000  \n",
       "276  1.833333e+06     1   99    2   428.571429  \n",
       "277  2.325581e+06     2   99    2  1916.666667  \n",
       "278  2.166667e+06     2   99    2  6250.000000  \n",
       "279  2.000000e+06     1   99    2  5940.000000  \n",
       "\n",
       "[280 rows x 11 columns]"
      ]
     },
     "execution_count": 52,
     "metadata": {},
     "output_type": "execute_result"
    }
   ],
   "source": [
    "data"
   ]
  },
  {
   "cell_type": "code",
   "execution_count": 53,
   "id": "90fa5fa2",
   "metadata": {},
   "outputs": [
    {
     "name": "stdout",
     "output_type": "stream",
     "text": [
      "0\n",
      "(280, 11)\n"
     ]
    }
   ],
   "source": [
    "print(np.sum(data['cony_1'] == 0))\n",
    "data.drop(data[data['cony_1'] == 0].index, inplace=True)\n",
    "print(data.shape)"
   ]
  },
  {
   "cell_type": "code",
   "execution_count": 54,
   "id": "09121652",
   "metadata": {},
   "outputs": [
    {
     "name": "stdout",
     "output_type": "stream",
     "text": [
      "5    98\n",
      "4    78\n",
      "3    53\n",
      "1    26\n",
      "2    25\n",
      "Name: size, dtype: int64\n",
      "\n",
      "39    196\n",
      "99     32\n",
      "33     30\n",
      "37     13\n",
      "32      9\n",
      "Name: ara, dtype: int64\n",
      "\n",
      "2    272\n",
      "1      8\n",
      "Name: de2, dtype: int64\n",
      "\n"
     ]
    }
   ],
   "source": [
    "for column in data.columns:\n",
    "    if len(data[column].value_counts()) <= 10:\n",
    "        print(data[column].value_counts())\n",
    "        print()"
   ]
  },
  {
   "cell_type": "code",
   "execution_count": 55,
   "id": "b93919a6",
   "metadata": {
    "scrolled": false
   },
   "outputs": [
    {
     "data": {
      "image/png": "[encoded data removed]",
      "text/plain": [
       "<Figure size 432x288 with 1 Axes>"
      ]
     },
     "metadata": {
      "needs_background": "light"
     },
     "output_type": "display_data"
    },
    {
     "data": {
      "image/png": "[encoded data removed]",
      "text/plain": [
       "<Figure size 432x288 with 1 Axes>"
      ]
     },
     "metadata": {
      "needs_background": "light"
     },
     "output_type": "display_data"
    },
    {
     "data": {
      "image/png": "[encoded data removed]",
      "text/plain": [
       "<Figure size 432x288 with 1 Axes>"
      ]
     },
     "metadata": {
      "needs_background": "light"
     },
     "output_type": "display_data"
    },
    {
     "data": {
      "image/png": "[encoded data removed]",
      "text/plain": [
       "<Figure size 432x288 with 1 Axes>"
      ]
     },
     "metadata": {
      "needs_background": "light"
     },
     "output_type": "display_data"
    },
    {
     "data": {
      "image/png": "[encoded data removed]",
      "text/plain": [
       "<Figure size 432x288 with 1 Axes>"
      ]
     },
     "metadata": {
      "needs_background": "light"
     },
     "output_type": "display_data"
    },
    {
     "data": {
      "image/png": "[encoded data removed]",
      "text/plain": [
       "<Figure size 432x288 with 1 Axes>"
      ]
     },
     "metadata": {
      "needs_background": "light"
     },
     "output_type": "display_data"
    },
    {
     "data": {
      "image/png": "[encoded data removed]",
      "text/plain": [
       "<Figure size 432x288 with 1 Axes>"
      ]
     },
     "metadata": {
      "needs_background": "light"
     },
     "output_type": "display_data"
    },
    {
     "data": {
      "image/png": "[encoded data removed]",
      "text/plain": [
       "<Figure size 432x288 with 1 Axes>"
      ]
     },
     "metadata": {
      "needs_background": "light"
     },
     "output_type": "display_data"
    },
    {
     "data": {
      "image/png": "[encoded data removed]",
      "text/plain": [
       "<Figure size 432x288 with 1 Axes>"
      ]
     },
     "metadata": {
      "needs_background": "light"
     },
     "output_type": "display_data"
    },
    {
     "data": {
      "image/png": "[encoded data removed]",
      "text/plain": [
       "<Figure size 432x288 with 1 Axes>"
      ]
     },
     "metadata": {
      "needs_background": "light"
     },
     "output_type": "display_data"
    },
    {
     "data": {
      "image/png": "[encoded data removed]",
      "text/plain": [
       "<Figure size 432x288 with 1 Axes>"
      ]
     },
     "metadata": {
      "needs_background": "light"
     },
     "output_type": "display_data"
    }
   ],
   "source": [
    "import matplotlib.pyplot as plt\n",
    "%matplotlib inline\n",
    "\n",
    "for column in data.columns:\n",
    "    data[column].hist()\n",
    "    plt.title(column)\n",
    "    plt.show()"
   ]
  },
  {
   "cell_type": "markdown",
   "id": "f78026e6",
   "metadata": {},
   "source": [
    "## log transform"
   ]
  },
  {
   "cell_type": "code",
   "execution_count": 56,
   "id": "3708a07d",
   "metadata": {},
   "outputs": [],
   "source": [
    "data.loc[:, ['fmtc_1', 'lansh_1']] = np.log1p(data.loc[:, ['fmtc_1', 'lansh_1']])\n",
    "data.loc[:, ['labch_1', 'labh_hour_1', 'lab_cost']] = np.log1p(data.loc[:, ['labch_1', 'labh_hour_1', 'lab_cost']])"
   ]
  },
  {
   "cell_type": "code",
   "execution_count": 57,
   "id": "a45a3448",
   "metadata": {},
   "outputs": [],
   "source": [
    "data['cony_1'] = np.log1p(data['cony_1'])"
   ]
  },
  {
   "cell_type": "code",
   "execution_count": 58,
   "id": "56e055c5",
   "metadata": {},
   "outputs": [
    {
     "data": {
      "image/png": "[encoded data removed]",
      "text/plain": [
       "<Figure size 432x288 with 1 Axes>"
      ]
     },
     "metadata": {
      "needs_background": "light"
     },
     "output_type": "display_data"
    },
    {
     "data": {
      "image/png": "[encoded data removed]",
      "text/plain": [
       "<Figure size 432x288 with 1 Axes>"
      ]
     },
     "metadata": {
      "needs_background": "light"
     },
     "output_type": "display_data"
    },
    {
     "data": {
      "image/png": "[encoded data removed]",
      "text/plain": [
       "<Figure size 432x288 with 1 Axes>"
      ]
     },
     "metadata": {
      "needs_background": "light"
     },
     "output_type": "display_data"
    },
    {
     "data": {
      "image/png": "[encoded data removed]",
      "text/plain": [
       "<Figure size 432x288 with 1 Axes>"
      ]
     },
     "metadata": {
      "needs_background": "light"
     },
     "output_type": "display_data"
    },
    {
     "data": {
      "image/png": "[encoded data removed]",
      "text/plain": [
       "<Figure size 432x288 with 1 Axes>"
      ]
     },
     "metadata": {
      "needs_background": "light"
     },
     "output_type": "display_data"
    }
   ],
   "source": [
    "import seaborn as sns\n",
    "\n",
    "sns.scatterplot(x='fmtc_1', y='cony_1', data=data)\n",
    "plt.show()\n",
    "\n",
    "sns.scatterplot(x='labch_1', y='cony_1', data=data)\n",
    "plt.show()\n",
    "\n",
    "sns.scatterplot(x='labh_hour_1', y='cony_1', data=data)\n",
    "plt.show()\n",
    "\n",
    "sns.scatterplot(x='lab_cost', y='cony_1', data=data)\n",
    "plt.show()\n",
    "\n",
    "sns.scatterplot(x='lansh_1', y='cony_1', data=data)\n",
    "plt.show()"
   ]
  },
  {
   "cell_type": "markdown",
   "id": "add8a356",
   "metadata": {},
   "source": [
    "## Data Imputation"
   ]
  },
  {
   "cell_type": "markdown",
   "id": "fb8bf66a",
   "metadata": {},
   "source": [
    "## NaNs check & Imputation"
   ]
  },
  {
   "cell_type": "code",
   "execution_count": 59,
   "id": "d5b65f52",
   "metadata": {},
   "outputs": [],
   "source": [
    "data.replace({'labch_1' : {0 : np.nan},\n",
    "              'labh_hour_1' : {0 : np.nan},\n",
    "              'lab_cost_1' : {0 : np.nan}},\n",
    "             inplace=True)"
   ]
  },
  {
   "cell_type": "code",
   "execution_count": 60,
   "id": "7dac1b60",
   "metadata": {},
   "outputs": [
    {
     "data": {
      "text/plain": [
       "age1           0\n",
       "land           0\n",
       "labch_1        4\n",
       "labh_hour_1    4\n",
       "lab_cost       0\n",
       "fmtc_1         0\n",
       "lansh_1        0\n",
       "size           0\n",
       "ara            0\n",
       "de2            0\n",
       "cony_1         0\n",
       "dtype: int64"
      ]
     },
     "execution_count": 60,
     "metadata": {},
     "output_type": "execute_result"
    }
   ],
   "source": [
    "data.isnull().sum()"
   ]
  },
  {
   "cell_type": "code",
   "execution_count": 61,
   "id": "e2fbba91",
   "metadata": {},
   "outputs": [],
   "source": [
    "data.fillna(data.mean(), inplace=True)"
   ]
  },
  {
   "cell_type": "code",
   "execution_count": 62,
   "id": "b95a5566",
   "metadata": {},
   "outputs": [
    {
     "data": {
      "image/png": "[encoded data removed]",
      "text/plain": [
       "<Figure size 432x288 with 1 Axes>"
      ]
     },
     "metadata": {
      "needs_background": "light"
     },
     "output_type": "display_data"
    },
    {
     "data": {
      "image/png": "[encoded data removed]",
      "text/plain": [
       "<Figure size 432x288 with 1 Axes>"
      ]
     },
     "metadata": {
      "needs_background": "light"
     },
     "output_type": "display_data"
    },
    {
     "data": {
      "image/png": "[encoded data removed]",
      "text/plain": [
       "<Figure size 432x288 with 1 Axes>"
      ]
     },
     "metadata": {
      "needs_background": "light"
     },
     "output_type": "display_data"
    }
   ],
   "source": [
    "sns.scatterplot(x='fmtc_1', y='cony_1', data=data)\n",
    "plt.show()\n",
    "\n",
    "sns.scatterplot(x='labch_1', y='cony_1', data=data)\n",
    "plt.show()\n",
    "\n",
    "sns.scatterplot(x='labh_hour_1', y='cony_1', data=data)\n",
    "plt.show()"
   ]
  },
  {
   "cell_type": "code",
   "execution_count": 63,
   "id": "ccfab219",
   "metadata": {
    "scrolled": false
   },
   "outputs": [
    {
     "data": {
      "image/png": "[encoded data removed]",
      "text/plain": [
       "<Figure size 432x288 with 1 Axes>"
      ]
     },
     "metadata": {
      "needs_background": "light"
     },
     "output_type": "display_data"
    },
    {
     "data": {
      "image/png": "[encoded data removed]",
      "text/plain": [
       "<Figure size 432x288 with 1 Axes>"
      ]
     },
     "metadata": {
      "needs_background": "light"
     },
     "output_type": "display_data"
    },
    {
     "data": {
      "image/png": "[encoded data removed]",
      "text/plain": [
       "<Figure size 432x288 with 1 Axes>"
      ]
     },
     "metadata": {
      "needs_background": "light"
     },
     "output_type": "display_data"
    },
    {
     "data": {
      "image/png": "[encoded data removed]",
      "text/plain": [
       "<Figure size 432x288 with 1 Axes>"
      ]
     },
     "metadata": {
      "needs_background": "light"
     },
     "output_type": "display_data"
    },
    {
     "data": {
      "image/png": "[encoded data removed]",
      "text/plain": [
       "<Figure size 432x288 with 1 Axes>"
      ]
     },
     "metadata": {
      "needs_background": "light"
     },
     "output_type": "display_data"
    },
    {
     "data": {
      "image/png": "[encoded data removed]",
      "text/plain": [
       "<Figure size 432x288 with 1 Axes>"
      ]
     },
     "metadata": {
      "needs_background": "light"
     },
     "output_type": "display_data"
    },
    {
     "data": {
      "image/png": "[encoded data removed]",
      "text/plain": [
       "<Figure size 432x288 with 1 Axes>"
      ]
     },
     "metadata": {
      "needs_background": "light"
     },
     "output_type": "display_data"
    },
    {
     "data": {
      "image/png": "[encoded data removed]",
      "text/plain": [
       "<Figure size 432x288 with 1 Axes>"
      ]
     },
     "metadata": {
      "needs_background": "light"
     },
     "output_type": "display_data"
    },
    {
     "data": {
      "image/png": "[encoded data removed]",
      "text/plain": [
       "<Figure size 432x288 with 1 Axes>"
      ]
     },
     "metadata": {
      "needs_background": "light"
     },
     "output_type": "display_data"
    },
    {
     "data": {
      "image/png": "[encoded data removed]",
      "text/plain": [
       "<Figure size 432x288 with 1 Axes>"
      ]
     },
     "metadata": {
      "needs_background": "light"
     },
     "output_type": "display_data"
    },
    {
     "data": {
      "image/png": "[encoded data removed]",
      "text/plain": [
       "<Figure size 432x288 with 1 Axes>"
      ]
     },
     "metadata": {
      "needs_background": "light"
     },
     "output_type": "display_data"
    }
   ],
   "source": [
    "for column in data.columns:\n",
    "    data[column].hist()\n",
    "    plt.title(column)\n",
    "    plt.show()"
   ]
  },
  {
   "cell_type": "markdown",
   "id": "30022b39",
   "metadata": {},
   "source": [
    "## categorical variable processing"
   ]
  },
  {
   "cell_type": "code",
   "execution_count": 64,
   "id": "7811af8b",
   "metadata": {},
   "outputs": [
    {
     "name": "stdout",
     "output_type": "stream",
     "text": [
      "[array([1, 2, 3, 4, 5]), array([32, 33, 37, 39, 99]), array([1, 2])]\n",
      "(280, 12)\n"
     ]
    }
   ],
   "source": [
    "from sklearn.preprocessing import OneHotEncoder\n",
    "\n",
    "categorical_variables = ['size', 'ara', 'de2']\n",
    "onehot_encoder = OneHotEncoder(handle_unknown='ignore')\n",
    "onehot_encoder.fit(data.loc[:, categorical_variables])\n",
    "onehot = onehot_encoder.fit_transform(data.loc[:, categorical_variables])\n",
    "print(onehot_encoder.categories_)\n",
    "print(onehot.toarray().shape)"
   ]
  },
  {
   "cell_type": "markdown",
   "id": "b82d1e32",
   "metadata": {},
   "source": [
    "## numerical variable processing"
   ]
  },
  {
   "cell_type": "code",
   "execution_count": 65,
   "id": "2170b84a",
   "metadata": {},
   "outputs": [
    {
     "data": {
      "text/plain": [
       "array([[0.58695652, 0.        , 0.56601816, ..., 0.88392974, 0.54417655,\n",
       "        0.81926757],\n",
       "       [0.39130435, 0.        , 0.52744216, ..., 0.        , 0.        ,\n",
       "        0.51762347],\n",
       "       [0.2826087 , 0.        , 0.64796241, ..., 0.95530305, 0.57709972,\n",
       "        0.81805247],\n",
       "       ...,\n",
       "       [0.76086957, 0.45065744, 0.61736683, ..., 0.82490635, 0.53342209,\n",
       "        0.77833338],\n",
       "       [0.54347826, 0.45065744, 0.48310866, ..., 0.77928351, 0.44853146,\n",
       "        0.76202704],\n",
       "       [0.67391304, 0.45065744, 0.45876964, ..., 0.71778139, 0.37476107,\n",
       "        0.7435868 ]])"
      ]
     },
     "execution_count": 65,
     "metadata": {},
     "output_type": "execute_result"
    }
   ],
   "source": [
    "from sklearn.preprocessing import MinMaxScaler\n",
    "\n",
    "numerical_variables = ['age1',\n",
    "                       'land', \n",
    "                       'labch_1', 'labh_hour_1', 'lab_cost',\n",
    "                       'fmtc_1', 'lansh_1']\n",
    "X_minmax_scaler = MinMaxScaler()\n",
    "X_minmax_scaler.fit(data.loc[:, numerical_variables])\n",
    "X_scaled = X_minmax_scaler.transform(data.loc[:, numerical_variables])\n",
    "X_scaled"
   ]
  },
  {
   "cell_type": "code",
   "execution_count": 66,
   "id": "d1918eb0",
   "metadata": {},
   "outputs": [
    {
     "data": {
      "text/html": [
       "<div>\n",
       "<style scoped>\n",
       "    .dataframe tbody tr th:only-of-type {\n",
       "        vertical-align: middle;\n",
       "    }\n",
       "\n",
       "    .dataframe tbody tr th {\n",
       "        vertical-align: top;\n",
       "    }\n",
       "\n",
       "    .dataframe thead th {\n",
       "        text-align: right;\n",
       "    }\n",
       "</style>\n",
       "<table border=\"1\" class=\"dataframe\">\n",
       "  <thead>\n",
       "    <tr style=\"text-align: right;\">\n",
       "      <th></th>\n",
       "      <th>age1</th>\n",
       "      <th>land</th>\n",
       "      <th>labch_1</th>\n",
       "      <th>labh_hour_1</th>\n",
       "      <th>lab_cost</th>\n",
       "      <th>fmtc_1</th>\n",
       "      <th>lansh_1</th>\n",
       "      <th>0</th>\n",
       "      <th>1</th>\n",
       "      <th>2</th>\n",
       "      <th>3</th>\n",
       "      <th>4</th>\n",
       "      <th>5</th>\n",
       "      <th>6</th>\n",
       "      <th>7</th>\n",
       "      <th>8</th>\n",
       "      <th>9</th>\n",
       "      <th>10</th>\n",
       "      <th>11</th>\n",
       "    </tr>\n",
       "  </thead>\n",
       "  <tbody>\n",
       "    <tr>\n",
       "      <th>0</th>\n",
       "      <td>0.586957</td>\n",
       "      <td>0.000000</td>\n",
       "      <td>0.566018</td>\n",
       "      <td>0.587344</td>\n",
       "      <td>0.883930</td>\n",
       "      <td>0.544177</td>\n",
       "      <td>0.819268</td>\n",
       "      <td>0.0</td>\n",
       "      <td>0.0</td>\n",
       "      <td>0.0</td>\n",
       "      <td>0.0</td>\n",
       "      <td>1.0</td>\n",
       "      <td>0.0</td>\n",
       "      <td>0.0</td>\n",
       "      <td>0.0</td>\n",
       "      <td>1.0</td>\n",
       "      <td>0.0</td>\n",
       "      <td>0.0</td>\n",
       "      <td>1.0</td>\n",
       "    </tr>\n",
       "    <tr>\n",
       "      <th>1</th>\n",
       "      <td>0.391304</td>\n",
       "      <td>0.000000</td>\n",
       "      <td>0.527442</td>\n",
       "      <td>0.540774</td>\n",
       "      <td>0.000000</td>\n",
       "      <td>0.000000</td>\n",
       "      <td>0.517623</td>\n",
       "      <td>0.0</td>\n",
       "      <td>0.0</td>\n",
       "      <td>0.0</td>\n",
       "      <td>0.0</td>\n",
       "      <td>1.0</td>\n",
       "      <td>0.0</td>\n",
       "      <td>0.0</td>\n",
       "      <td>0.0</td>\n",
       "      <td>1.0</td>\n",
       "      <td>0.0</td>\n",
       "      <td>0.0</td>\n",
       "      <td>1.0</td>\n",
       "    </tr>\n",
       "    <tr>\n",
       "      <th>2</th>\n",
       "      <td>0.282609</td>\n",
       "      <td>0.000000</td>\n",
       "      <td>0.647962</td>\n",
       "      <td>0.710340</td>\n",
       "      <td>0.955303</td>\n",
       "      <td>0.577100</td>\n",
       "      <td>0.818052</td>\n",
       "      <td>0.0</td>\n",
       "      <td>0.0</td>\n",
       "      <td>0.0</td>\n",
       "      <td>0.0</td>\n",
       "      <td>1.0</td>\n",
       "      <td>0.0</td>\n",
       "      <td>0.0</td>\n",
       "      <td>0.0</td>\n",
       "      <td>1.0</td>\n",
       "      <td>0.0</td>\n",
       "      <td>0.0</td>\n",
       "      <td>1.0</td>\n",
       "    </tr>\n",
       "    <tr>\n",
       "      <th>3</th>\n",
       "      <td>0.456522</td>\n",
       "      <td>0.000000</td>\n",
       "      <td>0.761546</td>\n",
       "      <td>0.807887</td>\n",
       "      <td>0.899534</td>\n",
       "      <td>0.645015</td>\n",
       "      <td>0.815517</td>\n",
       "      <td>0.0</td>\n",
       "      <td>0.0</td>\n",
       "      <td>0.0</td>\n",
       "      <td>1.0</td>\n",
       "      <td>0.0</td>\n",
       "      <td>0.0</td>\n",
       "      <td>0.0</td>\n",
       "      <td>0.0</td>\n",
       "      <td>1.0</td>\n",
       "      <td>0.0</td>\n",
       "      <td>0.0</td>\n",
       "      <td>1.0</td>\n",
       "    </tr>\n",
       "    <tr>\n",
       "      <th>4</th>\n",
       "      <td>0.434783</td>\n",
       "      <td>0.000000</td>\n",
       "      <td>0.798116</td>\n",
       "      <td>0.833896</td>\n",
       "      <td>0.915301</td>\n",
       "      <td>0.682334</td>\n",
       "      <td>0.743587</td>\n",
       "      <td>0.0</td>\n",
       "      <td>0.0</td>\n",
       "      <td>0.0</td>\n",
       "      <td>1.0</td>\n",
       "      <td>0.0</td>\n",
       "      <td>0.0</td>\n",
       "      <td>0.0</td>\n",
       "      <td>0.0</td>\n",
       "      <td>1.0</td>\n",
       "      <td>0.0</td>\n",
       "      <td>0.0</td>\n",
       "      <td>1.0</td>\n",
       "    </tr>\n",
       "    <tr>\n",
       "      <th>...</th>\n",
       "      <td>...</td>\n",
       "      <td>...</td>\n",
       "      <td>...</td>\n",
       "      <td>...</td>\n",
       "      <td>...</td>\n",
       "      <td>...</td>\n",
       "      <td>...</td>\n",
       "      <td>...</td>\n",
       "      <td>...</td>\n",
       "      <td>...</td>\n",
       "      <td>...</td>\n",
       "      <td>...</td>\n",
       "      <td>...</td>\n",
       "      <td>...</td>\n",
       "      <td>...</td>\n",
       "      <td>...</td>\n",
       "      <td>...</td>\n",
       "      <td>...</td>\n",
       "      <td>...</td>\n",
       "    </tr>\n",
       "    <tr>\n",
       "      <th>275</th>\n",
       "      <td>0.608696</td>\n",
       "      <td>0.450657</td>\n",
       "      <td>0.870474</td>\n",
       "      <td>0.864622</td>\n",
       "      <td>0.862036</td>\n",
       "      <td>0.781374</td>\n",
       "      <td>0.700263</td>\n",
       "      <td>0.0</td>\n",
       "      <td>1.0</td>\n",
       "      <td>0.0</td>\n",
       "      <td>0.0</td>\n",
       "      <td>0.0</td>\n",
       "      <td>0.0</td>\n",
       "      <td>0.0</td>\n",
       "      <td>0.0</td>\n",
       "      <td>0.0</td>\n",
       "      <td>1.0</td>\n",
       "      <td>0.0</td>\n",
       "      <td>1.0</td>\n",
       "    </tr>\n",
       "    <tr>\n",
       "      <th>276</th>\n",
       "      <td>0.456522</td>\n",
       "      <td>0.450657</td>\n",
       "      <td>0.627014</td>\n",
       "      <td>0.603816</td>\n",
       "      <td>0.790683</td>\n",
       "      <td>0.636729</td>\n",
       "      <td>0.723541</td>\n",
       "      <td>1.0</td>\n",
       "      <td>0.0</td>\n",
       "      <td>0.0</td>\n",
       "      <td>0.0</td>\n",
       "      <td>0.0</td>\n",
       "      <td>0.0</td>\n",
       "      <td>0.0</td>\n",
       "      <td>0.0</td>\n",
       "      <td>0.0</td>\n",
       "      <td>1.0</td>\n",
       "      <td>0.0</td>\n",
       "      <td>1.0</td>\n",
       "    </tr>\n",
       "    <tr>\n",
       "      <th>277</th>\n",
       "      <td>0.760870</td>\n",
       "      <td>0.450657</td>\n",
       "      <td>0.617367</td>\n",
       "      <td>0.636395</td>\n",
       "      <td>0.824906</td>\n",
       "      <td>0.533422</td>\n",
       "      <td>0.778333</td>\n",
       "      <td>0.0</td>\n",
       "      <td>1.0</td>\n",
       "      <td>0.0</td>\n",
       "      <td>0.0</td>\n",
       "      <td>0.0</td>\n",
       "      <td>0.0</td>\n",
       "      <td>0.0</td>\n",
       "      <td>0.0</td>\n",
       "      <td>0.0</td>\n",
       "      <td>1.0</td>\n",
       "      <td>0.0</td>\n",
       "      <td>1.0</td>\n",
       "    </tr>\n",
       "    <tr>\n",
       "      <th>278</th>\n",
       "      <td>0.543478</td>\n",
       "      <td>0.450657</td>\n",
       "      <td>0.483109</td>\n",
       "      <td>0.439814</td>\n",
       "      <td>0.779284</td>\n",
       "      <td>0.448531</td>\n",
       "      <td>0.762027</td>\n",
       "      <td>0.0</td>\n",
       "      <td>1.0</td>\n",
       "      <td>0.0</td>\n",
       "      <td>0.0</td>\n",
       "      <td>0.0</td>\n",
       "      <td>0.0</td>\n",
       "      <td>0.0</td>\n",
       "      <td>0.0</td>\n",
       "      <td>0.0</td>\n",
       "      <td>1.0</td>\n",
       "      <td>0.0</td>\n",
       "      <td>1.0</td>\n",
       "    </tr>\n",
       "    <tr>\n",
       "      <th>279</th>\n",
       "      <td>0.673913</td>\n",
       "      <td>0.450657</td>\n",
       "      <td>0.458770</td>\n",
       "      <td>0.434899</td>\n",
       "      <td>0.717781</td>\n",
       "      <td>0.374761</td>\n",
       "      <td>0.743587</td>\n",
       "      <td>1.0</td>\n",
       "      <td>0.0</td>\n",
       "      <td>0.0</td>\n",
       "      <td>0.0</td>\n",
       "      <td>0.0</td>\n",
       "      <td>0.0</td>\n",
       "      <td>0.0</td>\n",
       "      <td>0.0</td>\n",
       "      <td>0.0</td>\n",
       "      <td>1.0</td>\n",
       "      <td>0.0</td>\n",
       "      <td>1.0</td>\n",
       "    </tr>\n",
       "  </tbody>\n",
       "</table>\n",
       "<p>280 rows × 19 columns</p>\n",
       "</div>"
      ],
      "text/plain": [
       "         age1      land   labch_1  labh_hour_1  lab_cost    fmtc_1   lansh_1  \\\n",
       "0    0.586957  0.000000  0.566018     0.587344  0.883930  0.544177  0.819268   \n",
       "1    0.391304  0.000000  0.527442     0.540774  0.000000  0.000000  0.517623   \n",
       "2    0.282609  0.000000  0.647962     0.710340  0.955303  0.577100  0.818052   \n",
       "3    0.456522  0.000000  0.761546     0.807887  0.899534  0.645015  0.815517   \n",
       "4    0.434783  0.000000  0.798116     0.833896  0.915301  0.682334  0.743587   \n",
       "..        ...       ...       ...          ...       ...       ...       ...   \n",
       "275  0.608696  0.450657  0.870474     0.864622  0.862036  0.781374  0.700263   \n",
       "276  0.456522  0.450657  0.627014     0.603816  0.790683  0.636729  0.723541   \n",
       "277  0.760870  0.450657  0.617367     0.636395  0.824906  0.533422  0.778333   \n",
       "278  0.543478  0.450657  0.483109     0.439814  0.779284  0.448531  0.762027   \n",
       "279  0.673913  0.450657  0.458770     0.434899  0.717781  0.374761  0.743587   \n",
       "\n",
       "       0    1    2    3    4    5    6    7    8    9   10   11  \n",
       "0    0.0  0.0  0.0  0.0  1.0  0.0  0.0  0.0  1.0  0.0  0.0  1.0  \n",
       "1    0.0  0.0  0.0  0.0  1.0  0.0  0.0  0.0  1.0  0.0  0.0  1.0  \n",
       "2    0.0  0.0  0.0  0.0  1.0  0.0  0.0  0.0  1.0  0.0  0.0  1.0  \n",
       "3    0.0  0.0  0.0  1.0  0.0  0.0  0.0  0.0  1.0  0.0  0.0  1.0  \n",
       "4    0.0  0.0  0.0  1.0  0.0  0.0  0.0  0.0  1.0  0.0  0.0  1.0  \n",
       "..   ...  ...  ...  ...  ...  ...  ...  ...  ...  ...  ...  ...  \n",
       "275  0.0  1.0  0.0  0.0  0.0  0.0  0.0  0.0  0.0  1.0  0.0  1.0  \n",
       "276  1.0  0.0  0.0  0.0  0.0  0.0  0.0  0.0  0.0  1.0  0.0  1.0  \n",
       "277  0.0  1.0  0.0  0.0  0.0  0.0  0.0  0.0  0.0  1.0  0.0  1.0  \n",
       "278  0.0  1.0  0.0  0.0  0.0  0.0  0.0  0.0  0.0  1.0  0.0  1.0  \n",
       "279  1.0  0.0  0.0  0.0  0.0  0.0  0.0  0.0  0.0  1.0  0.0  1.0  \n",
       "\n",
       "[280 rows x 19 columns]"
      ]
     },
     "execution_count": 66,
     "metadata": {},
     "output_type": "execute_result"
    }
   ],
   "source": [
    "numeric_data_df = pd.DataFrame(X_scaled, columns=numerical_variables)\n",
    "onehot_data_df = pd.DataFrame(onehot.toarray())\n",
    "\n",
    "X_data_df = pd.concat([numeric_data_df , onehot_data_df], axis=1)\n",
    "X_data_df"
   ]
  },
  {
   "cell_type": "code",
   "execution_count": 67,
   "id": "7b2807c4",
   "metadata": {},
   "outputs": [],
   "source": [
    "X_data = np.array(X_data_df)\n",
    "y_data = np.array(data['cony_1'])"
   ]
  },
  {
   "cell_type": "markdown",
   "id": "ca055a81",
   "metadata": {},
   "source": [
    "# Train Test split"
   ]
  },
  {
   "cell_type": "code",
   "execution_count": 68,
   "id": "9d97db83",
   "metadata": {},
   "outputs": [
    {
     "name": "stdout",
     "output_type": "stream",
     "text": [
      "(252, 19) (252,)\n",
      "(28, 19) (28,)\n"
     ]
    }
   ],
   "source": [
    "from sklearn.model_selection import train_test_split\n",
    "\n",
    "X_train, X_test, y_train, y_test = train_test_split(X_data, y_data,\n",
    "                                                    test_size=0.1,\n",
    "                                                    random_state=1234)\n",
    "print(X_train.shape, y_train.shape)\n",
    "print(X_test.shape, y_test.shape)"
   ]
  },
  {
   "cell_type": "markdown",
   "id": "d01eef0d",
   "metadata": {},
   "source": [
    "# Modeling"
   ]
  },
  {
   "cell_type": "markdown",
   "id": "d88ecdd5",
   "metadata": {},
   "source": [
    "# Decision Tree"
   ]
  },
  {
   "cell_type": "code",
   "execution_count": 69,
   "id": "2bad8056",
   "metadata": {},
   "outputs": [
    {
     "data": {
      "text/plain": [
       "DecisionTreeRegressor(random_state=1000)"
      ]
     },
     "execution_count": 69,
     "metadata": {},
     "output_type": "execute_result"
    }
   ],
   "source": [
    "from sklearn.tree import DecisionTreeRegressor\n",
    "from sklearn.metrics import mean_squared_error\n",
    "\n",
    "dt = DecisionTreeRegressor(random_state=1000)\n",
    "dt.fit(X_train, y_train)"
   ]
  },
  {
   "cell_type": "code",
   "execution_count": 70,
   "id": "b1d995e8",
   "metadata": {},
   "outputs": [
    {
     "name": "stdout",
     "output_type": "stream",
     "text": [
      "[6.76914268 7.80894799 7.90445788 7.545689   5.43054109 8.27903598\n",
      " 7.9575274  8.92279162 8.57565076 8.31676691]\n"
     ]
    }
   ],
   "source": [
    "dt_pred = dt.predict(X_test)\n",
    "print(dt_pred[:10])"
   ]
  },
  {
   "cell_type": "code",
   "execution_count": 71,
   "id": "992c49ba",
   "metadata": {},
   "outputs": [
    {
     "data": {
      "text/plain": [
       "1.1332068132364896"
      ]
     },
     "execution_count": 71,
     "metadata": {},
     "output_type": "execute_result"
    }
   ],
   "source": [
    "dt_rmse = np.sqrt(mean_squared_error(y_test, dt_pred))\n",
    "dt_rmse"
   ]
  },
  {
   "cell_type": "markdown",
   "id": "496716b7",
   "metadata": {},
   "source": [
    "## RandomForest"
   ]
  },
  {
   "cell_type": "code",
   "execution_count": 72,
   "id": "42f85e39",
   "metadata": {},
   "outputs": [
    {
     "data": {
      "text/plain": [
       "RandomForestRegressor(max_features='sqrt', n_estimators=500, random_state=1000)"
      ]
     },
     "execution_count": 72,
     "metadata": {},
     "output_type": "execute_result"
    }
   ],
   "source": [
    "from sklearn.ensemble import RandomForestRegressor\n",
    "\n",
    "rf = RandomForestRegressor(n_estimators = 500, max_features = 'sqrt', \n",
    "                           random_state = 1000)\n",
    "rf.fit(X_train, y_train)"
   ]
  },
  {
   "cell_type": "code",
   "execution_count": 73,
   "id": "a8345e64",
   "metadata": {},
   "outputs": [
    {
     "name": "stdout",
     "output_type": "stream",
     "text": [
      "[7.15305322 7.98595373 7.80230763 7.08231066 7.93913082 8.07675397\n",
      " 7.41706955 7.66259892 8.30311013 8.13697744]\n"
     ]
    }
   ],
   "source": [
    "rf_pred = rf.predict(X_test)\n",
    "print(rf_pred[:10])"
   ]
  },
  {
   "cell_type": "code",
   "execution_count": 74,
   "id": "db89318a",
   "metadata": {},
   "outputs": [
    {
     "data": {
      "text/plain": [
       "0.8045642229708357"
      ]
     },
     "execution_count": 74,
     "metadata": {},
     "output_type": "execute_result"
    }
   ],
   "source": [
    "rf_rmse = np.sqrt(mean_squared_error(y_test, rf_pred))\n",
    "rf_rmse"
   ]
  },
  {
   "cell_type": "code",
   "execution_count": 75,
   "id": "680d90da",
   "metadata": {},
   "outputs": [
    {
     "data": {
      "image/png": "[encoded data removed]",
      "text/plain": [
       "<Figure size 576x432 with 1 Axes>"
      ]
     },
     "metadata": {
      "needs_background": "light"
     },
     "output_type": "display_data"
    }
   ],
   "source": [
    "import seaborn as sns\n",
    "\n",
    "importances_values = rf.feature_importances_ \n",
    "importances = pd.Series(importances_values, index=X_data_df.columns)\n",
    "\n",
    "top20 = importances.sort_values(ascending=False)[:20]\n",
    "plt.figure(figsize=(8, 6))\n",
    "plt.title('Feature importances Top 20')\n",
    "sns.barplot(x = top20, y = top20.index)\n",
    "plt.show()"
   ]
  },
  {
   "cell_type": "markdown",
   "id": "b4de6a32",
   "metadata": {},
   "source": [
    "## ridge"
   ]
  },
  {
   "cell_type": "code",
   "execution_count": 76,
   "id": "7b128246",
   "metadata": {},
   "outputs": [
    {
     "data": {
      "text/plain": [
       "Ridge(alpha=0.1724)"
      ]
     },
     "execution_count": 76,
     "metadata": {},
     "output_type": "execute_result"
    }
   ],
   "source": [
    "from sklearn.linear_model import Ridge\n",
    "\n",
    "ridge = Ridge(alpha=0.1724)\n",
    "ridge.fit(X_train, y_train)"
   ]
  },
  {
   "cell_type": "code",
   "execution_count": 77,
   "id": "be493e4a",
   "metadata": {},
   "outputs": [
    {
     "name": "stdout",
     "output_type": "stream",
     "text": [
      "0.24180705837899585\n"
     ]
    }
   ],
   "source": [
    "print(ridge.score(X_train, y_train))"
   ]
  },
  {
   "cell_type": "code",
   "execution_count": 78,
   "id": "75d3bdcd",
   "metadata": {},
   "outputs": [
    {
     "data": {
      "text/plain": [
       "0.7595717199060917"
      ]
     },
     "execution_count": 78,
     "metadata": {},
     "output_type": "execute_result"
    }
   ],
   "source": [
    "ridge_pred = ridge.predict(X_test)\n",
    "ridge_rmse = np.sqrt(mean_squared_error(y_test, ridge_pred))\n",
    "ridge_rmse"
   ]
  },
  {
   "cell_type": "markdown",
   "id": "d7e9d8bf",
   "metadata": {},
   "source": [
    "## LASSO"
   ]
  },
  {
   "cell_type": "code",
   "execution_count": 79,
   "id": "640cbdfd",
   "metadata": {},
   "outputs": [
    {
     "data": {
      "text/plain": [
       "Lasso(alpha=0.001)"
      ]
     },
     "execution_count": 79,
     "metadata": {},
     "output_type": "execute_result"
    }
   ],
   "source": [
    "from sklearn.linear_model import Lasso\n",
    "\n",
    "lasso = Lasso(alpha=0.001)\n",
    "lasso.fit(X_train, y_train)"
   ]
  },
  {
   "cell_type": "code",
   "execution_count": 80,
   "id": "1471e192",
   "metadata": {},
   "outputs": [
    {
     "name": "stdout",
     "output_type": "stream",
     "text": [
      "0.24348708423384813\n"
     ]
    }
   ],
   "source": [
    "print(lasso.score(X_train, y_train))"
   ]
  },
  {
   "cell_type": "code",
   "execution_count": 81,
   "id": "cbebac93",
   "metadata": {},
   "outputs": [
    {
     "data": {
      "text/plain": [
       "0.760616820488586"
      ]
     },
     "execution_count": 81,
     "metadata": {},
     "output_type": "execute_result"
    }
   ],
   "source": [
    "lasso_pred = lasso.predict(X_test)\n",
    "lasso_rmse = np.sqrt(mean_squared_error(y_test, lasso_pred))\n",
    "lasso_rmse"
   ]
  },
  {
   "cell_type": "markdown",
   "id": "e2ec3931",
   "metadata": {},
   "source": [
    "## GBM"
   ]
  },
  {
   "cell_type": "code",
   "execution_count": 82,
   "id": "75ba8341",
   "metadata": {},
   "outputs": [
    {
     "name": "stdout",
     "output_type": "stream",
     "text": [
      "[6.76914268 7.99411037 7.90947354 6.52725825 7.65171708 8.03903406\n",
      " 7.9649351  8.55568496 8.57565076 7.85056149]\n"
     ]
    }
   ],
   "source": [
    "from sklearn.ensemble import GradientBoostingRegressor\n",
    "\n",
    "gbm = GradientBoostingRegressor(n_estimators=500, max_depth=8)\n",
    "gbm.fit(X_train, y_train)\n",
    "\n",
    "gbm_pred = gbm.predict(X_test)\n",
    "print(gbm_pred[:10])"
   ]
  },
  {
   "cell_type": "code",
   "execution_count": 83,
   "id": "fcb0d54f",
   "metadata": {},
   "outputs": [
    {
     "data": {
      "text/plain": [
       "0.8794873806859063"
      ]
     },
     "execution_count": 83,
     "metadata": {},
     "output_type": "execute_result"
    }
   ],
   "source": [
    "gbm_rmse = np.sqrt(mean_squared_error(y_test, gbm_pred))\n",
    "gbm_rmse"
   ]
  },
  {
   "cell_type": "markdown",
   "id": "160133e9",
   "metadata": {},
   "source": [
    "## AdaBoost"
   ]
  },
  {
   "cell_type": "code",
   "execution_count": 84,
   "id": "705d6c2b",
   "metadata": {},
   "outputs": [
    {
     "name": "stdout",
     "output_type": "stream",
     "text": [
      "[7.67944792 7.86950479 7.6856643  7.19080799 7.80596088 7.8460383\n",
      " 7.60373787 7.66640937 7.83416567 7.88478831]\n"
     ]
    }
   ],
   "source": [
    "from sklearn.ensemble import AdaBoostRegressor\n",
    "\n",
    "ada = AdaBoostRegressor(n_estimators = 500, learning_rate = 0.1)\n",
    "ada.fit(X_train, y_train)\n",
    "\n",
    "ada_pred = ada.predict(X_test)\n",
    "print(ada_pred[:10])"
   ]
  },
  {
   "cell_type": "code",
   "execution_count": 85,
   "id": "fe79a41f",
   "metadata": {},
   "outputs": [
    {
     "data": {
      "text/plain": [
       "0.8723802896960574"
      ]
     },
     "execution_count": 85,
     "metadata": {},
     "output_type": "execute_result"
    }
   ],
   "source": [
    "ada_rmse = np.sqrt(mean_squared_error(y_test, ada_pred))\n",
    "ada_rmse"
   ]
  },
  {
   "cell_type": "markdown",
   "id": "4ce91a61",
   "metadata": {},
   "source": [
    "## XGBoost"
   ]
  },
  {
   "cell_type": "code",
   "execution_count": 86,
   "id": "fa37f830",
   "metadata": {},
   "outputs": [
    {
     "name": "stdout",
     "output_type": "stream",
     "text": [
      "1.3.3\n",
      "[6.7695084 8.035744  7.8020205 6.60116   8.1496935 8.261812  7.3287697\n",
      " 7.818128  8.575929  7.7078953]\n"
     ]
    }
   ],
   "source": [
    "import xgboost as xgb\n",
    "print(xgb.__version__)\n",
    "\n",
    "xgb_reg = xgb.XGBRegressor(learning_rate=0.08, max_depth=8, \n",
    "                           gamma=0, n_estimators=3000,\n",
    "                           subsample=0.7, colsample_bytree=0.8)\n",
    "xgb_reg.fit(X_train, y_train, verbose=False)\n",
    "\n",
    "xgb_pred = xgb_reg.predict(X_test)\n",
    "print(xgb_pred[:10])"
   ]
  },
  {
   "cell_type": "code",
   "execution_count": 87,
   "id": "ce26c1c0",
   "metadata": {},
   "outputs": [
    {
     "data": {
      "text/plain": [
       "0.8031687922404395"
      ]
     },
     "execution_count": 87,
     "metadata": {},
     "output_type": "execute_result"
    }
   ],
   "source": [
    "xgb_rmse = np.sqrt(mean_squared_error(y_test, xgb_pred))\n",
    "xgb_rmse"
   ]
  },
  {
   "cell_type": "code",
   "execution_count": 88,
   "id": "0683100a",
   "metadata": {},
   "outputs": [
    {
     "data": {
      "image/png": "[encoded data removed]",
      "text/plain": [
       "<Figure size 720x864 with 1 Axes>"
      ]
     },
     "metadata": {
      "needs_background": "light"
     },
     "output_type": "display_data"
    }
   ],
   "source": [
    "from xgboost import plot_importance\n",
    "\n",
    "plot_importance(xgb_reg, max_num_features=20)\n",
    "\n",
    "fig = plt.gcf()\n",
    "fig.set_size_inches(10, 12)"
   ]
  },
  {
   "cell_type": "markdown",
   "id": "1d841c9b",
   "metadata": {},
   "source": [
    "## LightGBM"
   ]
  },
  {
   "cell_type": "code",
   "execution_count": 89,
   "id": "b9e0e95f",
   "metadata": {},
   "outputs": [
    {
     "data": {
      "text/plain": [
       "LGBMRegressor(max_depth=50, min_data_in_leaf=10, n_estimators=1000,\n",
       "              num_leaves=10)"
      ]
     },
     "execution_count": 89,
     "metadata": {},
     "output_type": "execute_result"
    }
   ],
   "source": [
    "import lightgbm as lgb\n",
    "\n",
    "\n",
    "lgb_reg = lgb.LGBMRegressor(n_estimators=1000, max_depth=50, num_leaves=10, min_data_in_leaf=10)\n",
    "lgb_reg.fit(X_train, y_train,\n",
    "        eval_set=[(X_test, y_test)],\n",
    "        eval_metric='l1',\n",
    "        early_stopping_rounds=1000,\n",
    "        verbose = False)"
   ]
  },
  {
   "cell_type": "code",
   "execution_count": 90,
   "id": "f391602c",
   "metadata": {},
   "outputs": [
    {
     "name": "stdout",
     "output_type": "stream",
     "text": [
      "[6.76532758 8.00331418 7.75340549 6.97466171 7.9120968  8.62221538\n",
      " 7.35246806 6.9507045  8.5805538  7.94529432]\n"
     ]
    }
   ],
   "source": [
    "lgb_pred = lgb_reg.predict(X_test)\n",
    "print(lgb_pred[:10])"
   ]
  },
  {
   "cell_type": "code",
   "execution_count": 91,
   "id": "95f8d8a5",
   "metadata": {},
   "outputs": [
    {
     "data": {
      "text/plain": [
       "0.9339935498766089"
      ]
     },
     "execution_count": 91,
     "metadata": {},
     "output_type": "execute_result"
    }
   ],
   "source": [
    "lgb_rmse = np.sqrt(mean_squared_error(y_test, lgb_pred))\n",
    "lgb_rmse"
   ]
  },
  {
   "cell_type": "markdown",
   "id": "c25f5486",
   "metadata": {},
   "source": [
    "## Model Comparision"
   ]
  },
  {
   "cell_type": "code",
   "execution_count": 92,
   "id": "0a4e6816",
   "metadata": {},
   "outputs": [
    {
     "data": {
      "text/html": [
       "<div>\n",
       "<style scoped>\n",
       "    .dataframe tbody tr th:only-of-type {\n",
       "        vertical-align: middle;\n",
       "    }\n",
       "\n",
       "    .dataframe tbody tr th {\n",
       "        vertical-align: top;\n",
       "    }\n",
       "\n",
       "    .dataframe thead th {\n",
       "        text-align: right;\n",
       "    }\n",
       "</style>\n",
       "<table border=\"1\" class=\"dataframe\">\n",
       "  <thead>\n",
       "    <tr style=\"text-align: right;\">\n",
       "      <th></th>\n",
       "      <th>Model</th>\n",
       "      <th>RMSE</th>\n",
       "    </tr>\n",
       "  </thead>\n",
       "  <tbody>\n",
       "    <tr>\n",
       "      <th>2</th>\n",
       "      <td>Ridge</td>\n",
       "      <td>0.759572</td>\n",
       "    </tr>\n",
       "    <tr>\n",
       "      <th>3</th>\n",
       "      <td>LASSO</td>\n",
       "      <td>0.760617</td>\n",
       "    </tr>\n",
       "    <tr>\n",
       "      <th>6</th>\n",
       "      <td>XGboost</td>\n",
       "      <td>0.803169</td>\n",
       "    </tr>\n",
       "    <tr>\n",
       "      <th>1</th>\n",
       "      <td>RandomForest</td>\n",
       "      <td>0.804564</td>\n",
       "    </tr>\n",
       "    <tr>\n",
       "      <th>5</th>\n",
       "      <td>AdaBoost</td>\n",
       "      <td>0.872380</td>\n",
       "    </tr>\n",
       "    <tr>\n",
       "      <th>4</th>\n",
       "      <td>GBM</td>\n",
       "      <td>0.879487</td>\n",
       "    </tr>\n",
       "    <tr>\n",
       "      <th>7</th>\n",
       "      <td>LightGBM</td>\n",
       "      <td>0.933994</td>\n",
       "    </tr>\n",
       "    <tr>\n",
       "      <th>0</th>\n",
       "      <td>Decision Tree</td>\n",
       "      <td>1.133207</td>\n",
       "    </tr>\n",
       "  </tbody>\n",
       "</table>\n",
       "</div>"
      ],
      "text/plain": [
       "           Model      RMSE\n",
       "2          Ridge  0.759572\n",
       "3          LASSO  0.760617\n",
       "6        XGboost  0.803169\n",
       "1   RandomForest  0.804564\n",
       "5       AdaBoost  0.872380\n",
       "4            GBM  0.879487\n",
       "7       LightGBM  0.933994\n",
       "0  Decision Tree  1.133207"
      ]
     },
     "execution_count": 92,
     "metadata": {},
     "output_type": "execute_result"
    }
   ],
   "source": [
    "model_result = pd.DataFrame({\n",
    "    'Model': ['Decision Tree', 'RandomForest', 'Ridge', 'LASSO',\n",
    "              'GBM', 'AdaBoost', 'XGboost', 'LightGBM'],\n",
    "    'RMSE': [dt_rmse, rf_rmse, ridge_rmse, lasso_rmse,\n",
    "             gbm_rmse, ada_rmse, xgb_rmse, lgb_rmse]})\n",
    "model_result.sort_values(by='RMSE', ascending=True)"
   ]
  },
  {
   "cell_type": "markdown",
   "id": "aa1b1bb1",
   "metadata": {},
   "source": [
    "# Ensemble"
   ]
  },
  {
   "cell_type": "code",
   "execution_count": 93,
   "id": "fcc821e5",
   "metadata": {},
   "outputs": [],
   "source": [
    "import torch\n",
    "from sklearn.metrics import mean_squared_error\n",
    "\n",
    "class EnsembleRegressor:\n",
    "    def __init__(self, models, weights=None):\n",
    "        \n",
    "        self.models = models\n",
    "        self.weights = weights\n",
    "        \n",
    "    def predict(self, X_test):\n",
    "        pred_list = []\n",
    "        for i, model in enumerate(models.values()):\n",
    "            pred_list.append(model.predict(X_test))\n",
    "        preds = np.array(pred_list)\n",
    "            \n",
    "        prediction = np.average(preds, axis=0, weights=self.weights)\n",
    "\n",
    "        return prediction\n",
    "    \n",
    "    def random_search(self, X_test, y_test, num_search):\n",
    "        weights = torch.softmax(torch.rand(num_search, len(self.models)), axis=1).numpy()\n",
    "        \n",
    "        pred_list = []\n",
    "        for i, model in enumerate(models.values()):\n",
    "            pred_list.append(model.predict(X_test))\n",
    "        preds = np.array(pred_list)\n",
    "\n",
    "        mse = []\n",
    "        for i in range(num_search):\n",
    "            prediction = np.average(preds, axis=0, weights=weights[i])\n",
    "            mse_ = mean_squared_error(y_test, prediction)\n",
    "            mse.append(mse_)\n",
    "        \n",
    "        result = pd.DataFrame(weights)\n",
    "        result['RMSE'] = np.sqrt(mse)\n",
    "\n",
    "        return result.sort_values('RMSE', ascending=True)"
   ]
  },
  {
   "cell_type": "code",
   "execution_count": 94,
   "id": "84751d05",
   "metadata": {},
   "outputs": [
    {
     "data": {
      "text/html": [
       "<div>\n",
       "<style scoped>\n",
       "    .dataframe tbody tr th:only-of-type {\n",
       "        vertical-align: middle;\n",
       "    }\n",
       "\n",
       "    .dataframe tbody tr th {\n",
       "        vertical-align: top;\n",
       "    }\n",
       "\n",
       "    .dataframe thead th {\n",
       "        text-align: right;\n",
       "    }\n",
       "</style>\n",
       "<table border=\"1\" class=\"dataframe\">\n",
       "  <thead>\n",
       "    <tr style=\"text-align: right;\">\n",
       "      <th></th>\n",
       "      <th>0</th>\n",
       "      <th>1</th>\n",
       "      <th>2</th>\n",
       "      <th>RMSE</th>\n",
       "    </tr>\n",
       "  </thead>\n",
       "  <tbody>\n",
       "    <tr>\n",
       "      <th>16976</th>\n",
       "      <td>0.198523</td>\n",
       "      <td>0.271551</td>\n",
       "      <td>0.529926</td>\n",
       "      <td>0.751560</td>\n",
       "    </tr>\n",
       "    <tr>\n",
       "      <th>29861</th>\n",
       "      <td>0.201405</td>\n",
       "      <td>0.260349</td>\n",
       "      <td>0.538246</td>\n",
       "      <td>0.751578</td>\n",
       "    </tr>\n",
       "    <tr>\n",
       "      <th>19706</th>\n",
       "      <td>0.199750</td>\n",
       "      <td>0.277666</td>\n",
       "      <td>0.522584</td>\n",
       "      <td>0.751715</td>\n",
       "    </tr>\n",
       "    <tr>\n",
       "      <th>9351</th>\n",
       "      <td>0.203425</td>\n",
       "      <td>0.264797</td>\n",
       "      <td>0.531778</td>\n",
       "      <td>0.751735</td>\n",
       "    </tr>\n",
       "    <tr>\n",
       "      <th>7805</th>\n",
       "      <td>0.192747</td>\n",
       "      <td>0.301691</td>\n",
       "      <td>0.505562</td>\n",
       "      <td>0.751758</td>\n",
       "    </tr>\n",
       "    <tr>\n",
       "      <th>12615</th>\n",
       "      <td>0.201411</td>\n",
       "      <td>0.276115</td>\n",
       "      <td>0.522474</td>\n",
       "      <td>0.751783</td>\n",
       "    </tr>\n",
       "    <tr>\n",
       "      <th>5385</th>\n",
       "      <td>0.199646</td>\n",
       "      <td>0.282805</td>\n",
       "      <td>0.517549</td>\n",
       "      <td>0.751793</td>\n",
       "    </tr>\n",
       "    <tr>\n",
       "      <th>21483</th>\n",
       "      <td>0.190959</td>\n",
       "      <td>0.308776</td>\n",
       "      <td>0.500265</td>\n",
       "      <td>0.751810</td>\n",
       "    </tr>\n",
       "    <tr>\n",
       "      <th>2073</th>\n",
       "      <td>0.211106</td>\n",
       "      <td>0.222769</td>\n",
       "      <td>0.566126</td>\n",
       "      <td>0.751830</td>\n",
       "    </tr>\n",
       "    <tr>\n",
       "      <th>697</th>\n",
       "      <td>0.187808</td>\n",
       "      <td>0.317530</td>\n",
       "      <td>0.494662</td>\n",
       "      <td>0.751830</td>\n",
       "    </tr>\n",
       "  </tbody>\n",
       "</table>\n",
       "</div>"
      ],
      "text/plain": [
       "              0         1         2      RMSE\n",
       "16976  0.198523  0.271551  0.529926  0.751560\n",
       "29861  0.201405  0.260349  0.538246  0.751578\n",
       "19706  0.199750  0.277666  0.522584  0.751715\n",
       "9351   0.203425  0.264797  0.531778  0.751735\n",
       "7805   0.192747  0.301691  0.505562  0.751758\n",
       "12615  0.201411  0.276115  0.522474  0.751783\n",
       "5385   0.199646  0.282805  0.517549  0.751793\n",
       "21483  0.190959  0.308776  0.500265  0.751810\n",
       "2073   0.211106  0.222769  0.566126  0.751830\n",
       "697    0.187808  0.317530  0.494662  0.751830"
      ]
     },
     "execution_count": 94,
     "metadata": {},
     "output_type": "execute_result"
    }
   ],
   "source": [
    "models = {'RandomForest' : rf, 'XGBoost' : xgb_reg, 'LASSO' : lasso}\n",
    "\n",
    "ensemble = EnsembleRegressor(models, weights=None)\n",
    "result = ensemble.random_search(X_test, y_test, 30000)\n",
    "result.head(10)"
   ]
  },
  {
   "cell_type": "code",
   "execution_count": 95,
   "id": "7734817b",
   "metadata": {},
   "outputs": [
    {
     "name": "stdout",
     "output_type": "stream",
     "text": [
      "[0.199, 0.272, 0.53]\n"
     ]
    }
   ],
   "source": [
    "optimal_weight = np.round(result.iloc[0,:-1], 3).tolist()\n",
    "print(optimal_weight)"
   ]
  },
  {
   "cell_type": "code",
   "execution_count": 96,
   "id": "a3566783",
   "metadata": {},
   "outputs": [
    {
     "name": "stdout",
     "output_type": "stream",
     "text": [
      "[7.29178008 8.19762888 7.9398344  7.3172631  7.65339332 8.18583159\n",
      " 7.21976138 7.78365181 8.15032045 8.17063143]\n"
     ]
    }
   ],
   "source": [
    "ensemble = EnsembleRegressor(models, weights=optimal_weight)\n",
    "\n",
    "preds = ensemble.predict(X_test)\n",
    "print(preds[:10])"
   ]
  },
  {
   "cell_type": "code",
   "execution_count": 97,
   "id": "547d1e18",
   "metadata": {},
   "outputs": [
    {
     "data": {
      "text/plain": [
       "0.7515772911138973"
      ]
     },
     "execution_count": 97,
     "metadata": {},
     "output_type": "execute_result"
    }
   ],
   "source": [
    "rmse = np.sqrt(mean_squared_error(y_test, preds))\n",
    "rmse"
   ]
  },
  {
   "cell_type": "markdown",
   "id": "8e3a2c93",
   "metadata": {},
   "source": [
    "## Evaluation"
   ]
  },
  {
   "cell_type": "code",
   "execution_count": 98,
   "id": "d4649cf7",
   "metadata": {},
   "outputs": [
    {
     "name": "stdout",
     "output_type": "stream",
     "text": [
      "[1467.1818556  3631.32739009 2805.89564041 1505.07634685 2106.7858589\n",
      " 3588.72755484 1365.1630221  2400.02693356 3463.48907867 3534.57571654]\n",
      "[ 869.56521739 3132.53012048 4242.42424242 2294.66666667 2000.\n",
      " 6034.48275862  517.24137931 3529.41176471 5300.         3636.36363636]\n"
     ]
    }
   ],
   "source": [
    "inverse_transformed_pred = np.expm1(preds)\n",
    "inverse_transformed_pred = np.where(inverse_transformed_pred < 0, 0, inverse_transformed_pred)\n",
    "inverse_transformed_y_test = np.expm1(y_test)\n",
    "\n",
    "print(inverse_transformed_pred[:10])\n",
    "print(inverse_transformed_y_test[:10])"
   ]
  },
  {
   "cell_type": "code",
   "execution_count": 99,
   "id": "d3360cfd",
   "metadata": {},
   "outputs": [
    {
     "data": {
      "text/plain": [
       "2293.955166678758"
      ]
     },
     "execution_count": 99,
     "metadata": {},
     "output_type": "execute_result"
    }
   ],
   "source": [
    "np.sqrt(mean_squared_error(inverse_transformed_y_test, inverse_transformed_pred))"
   ]
  },
  {
   "cell_type": "code",
   "execution_count": 100,
   "id": "f577261e",
   "metadata": {},
   "outputs": [
    {
     "data": {
      "text/html": [
       "<div>\n",
       "<style scoped>\n",
       "    .dataframe tbody tr th:only-of-type {\n",
       "        vertical-align: middle;\n",
       "    }\n",
       "\n",
       "    .dataframe tbody tr th {\n",
       "        vertical-align: top;\n",
       "    }\n",
       "\n",
       "    .dataframe thead th {\n",
       "        text-align: right;\n",
       "    }\n",
       "</style>\n",
       "<table border=\"1\" class=\"dataframe\">\n",
       "  <thead>\n",
       "    <tr style=\"text-align: right;\">\n",
       "      <th></th>\n",
       "      <th>생산량</th>\n",
       "      <th>예측값</th>\n",
       "    </tr>\n",
       "  </thead>\n",
       "  <tbody>\n",
       "    <tr>\n",
       "      <th>0</th>\n",
       "      <td>869.6</td>\n",
       "      <td>1467.2</td>\n",
       "    </tr>\n",
       "    <tr>\n",
       "      <th>1</th>\n",
       "      <td>3132.5</td>\n",
       "      <td>3631.3</td>\n",
       "    </tr>\n",
       "    <tr>\n",
       "      <th>2</th>\n",
       "      <td>4242.4</td>\n",
       "      <td>2805.9</td>\n",
       "    </tr>\n",
       "    <tr>\n",
       "      <th>3</th>\n",
       "      <td>2294.7</td>\n",
       "      <td>1505.1</td>\n",
       "    </tr>\n",
       "    <tr>\n",
       "      <th>4</th>\n",
       "      <td>2000.0</td>\n",
       "      <td>2106.8</td>\n",
       "    </tr>\n",
       "    <tr>\n",
       "      <th>5</th>\n",
       "      <td>6034.5</td>\n",
       "      <td>3588.7</td>\n",
       "    </tr>\n",
       "    <tr>\n",
       "      <th>6</th>\n",
       "      <td>517.2</td>\n",
       "      <td>1365.2</td>\n",
       "    </tr>\n",
       "    <tr>\n",
       "      <th>7</th>\n",
       "      <td>3529.4</td>\n",
       "      <td>2400.0</td>\n",
       "    </tr>\n",
       "    <tr>\n",
       "      <th>8</th>\n",
       "      <td>5300.0</td>\n",
       "      <td>3463.5</td>\n",
       "    </tr>\n",
       "    <tr>\n",
       "      <th>9</th>\n",
       "      <td>3636.4</td>\n",
       "      <td>3534.6</td>\n",
       "    </tr>\n",
       "    <tr>\n",
       "      <th>10</th>\n",
       "      <td>3455.6</td>\n",
       "      <td>2173.2</td>\n",
       "    </tr>\n",
       "    <tr>\n",
       "      <th>11</th>\n",
       "      <td>8181.8</td>\n",
       "      <td>4765.2</td>\n",
       "    </tr>\n",
       "    <tr>\n",
       "      <th>12</th>\n",
       "      <td>13469.4</td>\n",
       "      <td>7299.0</td>\n",
       "    </tr>\n",
       "    <tr>\n",
       "      <th>13</th>\n",
       "      <td>2255.6</td>\n",
       "      <td>2534.8</td>\n",
       "    </tr>\n",
       "    <tr>\n",
       "      <th>14</th>\n",
       "      <td>976.5</td>\n",
       "      <td>3838.5</td>\n",
       "    </tr>\n",
       "    <tr>\n",
       "      <th>15</th>\n",
       "      <td>4090.9</td>\n",
       "      <td>4134.9</td>\n",
       "    </tr>\n",
       "    <tr>\n",
       "      <th>16</th>\n",
       "      <td>5483.3</td>\n",
       "      <td>2935.9</td>\n",
       "    </tr>\n",
       "    <tr>\n",
       "      <th>17</th>\n",
       "      <td>5869.6</td>\n",
       "      <td>4599.6</td>\n",
       "    </tr>\n",
       "    <tr>\n",
       "      <th>18</th>\n",
       "      <td>4230.3</td>\n",
       "      <td>3286.9</td>\n",
       "    </tr>\n",
       "    <tr>\n",
       "      <th>19</th>\n",
       "      <td>928.6</td>\n",
       "      <td>1943.5</td>\n",
       "    </tr>\n",
       "    <tr>\n",
       "      <th>20</th>\n",
       "      <td>2255.6</td>\n",
       "      <td>2534.8</td>\n",
       "    </tr>\n",
       "    <tr>\n",
       "      <th>21</th>\n",
       "      <td>2321.4</td>\n",
       "      <td>4421.2</td>\n",
       "    </tr>\n",
       "    <tr>\n",
       "      <th>22</th>\n",
       "      <td>178.4</td>\n",
       "      <td>2371.9</td>\n",
       "    </tr>\n",
       "    <tr>\n",
       "      <th>23</th>\n",
       "      <td>680.0</td>\n",
       "      <td>1886.0</td>\n",
       "    </tr>\n",
       "    <tr>\n",
       "      <th>24</th>\n",
       "      <td>8242.4</td>\n",
       "      <td>4432.9</td>\n",
       "    </tr>\n",
       "    <tr>\n",
       "      <th>25</th>\n",
       "      <td>10333.3</td>\n",
       "      <td>6422.5</td>\n",
       "    </tr>\n",
       "    <tr>\n",
       "      <th>26</th>\n",
       "      <td>2827.6</td>\n",
       "      <td>2745.9</td>\n",
       "    </tr>\n",
       "    <tr>\n",
       "      <th>27</th>\n",
       "      <td>7368.4</td>\n",
       "      <td>2632.6</td>\n",
       "    </tr>\n",
       "  </tbody>\n",
       "</table>\n",
       "</div>"
      ],
      "text/plain": [
       "        생산량     예측값\n",
       "0     869.6  1467.2\n",
       "1    3132.5  3631.3\n",
       "2    4242.4  2805.9\n",
       "3    2294.7  1505.1\n",
       "4    2000.0  2106.8\n",
       "5    6034.5  3588.7\n",
       "6     517.2  1365.2\n",
       "7    3529.4  2400.0\n",
       "8    5300.0  3463.5\n",
       "9    3636.4  3534.6\n",
       "10   3455.6  2173.2\n",
       "11   8181.8  4765.2\n",
       "12  13469.4  7299.0\n",
       "13   2255.6  2534.8\n",
       "14    976.5  3838.5\n",
       "15   4090.9  4134.9\n",
       "16   5483.3  2935.9\n",
       "17   5869.6  4599.6\n",
       "18   4230.3  3286.9\n",
       "19    928.6  1943.5\n",
       "20   2255.6  2534.8\n",
       "21   2321.4  4421.2\n",
       "22    178.4  2371.9\n",
       "23    680.0  1886.0\n",
       "24   8242.4  4432.9\n",
       "25  10333.3  6422.5\n",
       "26   2827.6  2745.9\n",
       "27   7368.4  2632.6"
      ]
     },
     "execution_count": 100,
     "metadata": {},
     "output_type": "execute_result"
    }
   ],
   "source": [
    "inverse_transformed_pred = pd.Series(np.round(inverse_transformed_pred,1), name='예측값')\n",
    "inverse_transformed_y_test= pd.Series(np.round(inverse_transformed_y_test,1), name='생산량')\n",
    "result = pd.concat([inverse_transformed_y_test, inverse_transformed_pred], axis=1)\n",
    "result[:30]"
   ]
  },
  {
   "cell_type": "markdown",
   "id": "b89214e4",
   "metadata": {},
   "source": [
    "# 2018-2019 prediction"
   ]
  },
  {
   "cell_type": "code",
   "execution_count": 101,
   "id": "61a0d308",
   "metadata": {},
   "outputs": [],
   "source": [
    "import os\n",
    "import pandas as pd\n",
    "import numpy as np\n",
    "\n",
    "\n",
    "def load_data(path, year):\n",
    "    use_cols = ['age1',\n",
    "                'land', \n",
    "                'labch_1', 'labh_hour_1', 'lab_cost',\n",
    "                'fmtc_1', 'lansh_1',\n",
    "                'size', 'ara', 'de2',# catecorical variable\n",
    "                'cony_1'] # dependent variable\n",
    "    \n",
    "    # 2018\n",
    "    if year == 2018:\n",
    "        file_path1 = os.path.join(path, '2018년/2018년 임산물생산비조사_통합 데이터_6. 더덕_2년 1기작(엑셀 1).xls')\n",
    "        file_path2 = os.path.join(path, '2018년/2018년 임산물생산비조사_통합 데이터_6. 더덕_2년 1기작(엑셀 2).xls')\n",
    "        forest_data1 = pd.read_excel(file_path1)\n",
    "        forest_data2 = pd.read_excel(file_path2)\n",
    "        forest_2018 = pd.concat([forest_data1, forest_data2], axis=1)\n",
    "        data = forest_2018.loc[:,use_cols]\n",
    "        print(2018, data.shape)\n",
    "        \n",
    "    elif year == 2019:\n",
    "        file_path = os.path.join(path, '2019년/2019년 임산물생산비조사_통합 데이터_6. 더덕2년1기작(수정3).xlsx')\n",
    "        forest_2019 = pd.read_excel(file_path).loc[:,use_cols]\n",
    "        data = forest_2019\n",
    "        print(2019, data.shape)\n",
    "    else:\n",
    "        print('year must be in 2018, 2019')\n",
    "    \n",
    "    return data"
   ]
  },
  {
   "cell_type": "code",
   "execution_count": 115,
   "id": "dd2b67e9",
   "metadata": {},
   "outputs": [
    {
     "name": "stdout",
     "output_type": "stream",
     "text": [
      "2019 (33, 11)\n"
     ]
    }
   ],
   "source": [
    "data = load_data('./임산물생산비조사 마이크로데이터(2010-2019)', 2019)"
   ]
  },
  {
   "cell_type": "code",
   "execution_count": 116,
   "id": "7d333a61",
   "metadata": {},
   "outputs": [],
   "source": [
    "data.loc[:, ['fmtc_1', 'lansh_1']] = np.log1p(data.loc[:, ['fmtc_1', 'lansh_1']])\n",
    "data.loc[:, ['labch_1', 'labh_hour_1', 'lab_cost']] = np.log1p(data.loc[:, ['labch_1', 'labh_hour_1', 'lab_cost']])"
   ]
  },
  {
   "cell_type": "code",
   "execution_count": 117,
   "id": "50b21995",
   "metadata": {},
   "outputs": [],
   "source": [
    "data['cony_1'] = np.log1p(data['cony_1'])"
   ]
  },
  {
   "cell_type": "code",
   "execution_count": 118,
   "id": "6cc7094f",
   "metadata": {},
   "outputs": [],
   "source": [
    "data.replace({'labch_1' : {0 : np.nan},\n",
    "              'labh_hour_1' : {0 : np.nan},\n",
    "              'lab_cost' : {0 : np.nan},\n",
    "              'lansh_1' : {0 : np.nan}},\n",
    "             inplace=True)"
   ]
  },
  {
   "cell_type": "code",
   "execution_count": 119,
   "id": "09ca05f6",
   "metadata": {},
   "outputs": [],
   "source": [
    "if data.isnull().sum().sum() > 0:\n",
    "    print(data.isnull().sum())\n",
    "    data.fillna(data.mean(), inplace=True)"
   ]
  },
  {
   "cell_type": "code",
   "execution_count": 120,
   "id": "8deda8b3",
   "metadata": {},
   "outputs": [
    {
     "name": "stdout",
     "output_type": "stream",
     "text": [
      "[array([1, 2, 3, 4, 5]), array([32, 33, 37, 39, 99]), array([1, 2])]\n",
      "(33, 12)\n"
     ]
    }
   ],
   "source": [
    "from sklearn.preprocessing import OneHotEncoder\n",
    "\n",
    "categorical_variables = ['size', 'ara', 'de2']\n",
    "onehot = onehot_encoder.transform(data.loc[:, categorical_variables])\n",
    "print(onehot_encoder.categories_)\n",
    "print(onehot.toarray().shape)"
   ]
  },
  {
   "cell_type": "code",
   "execution_count": 121,
   "id": "bca34d47",
   "metadata": {
    "scrolled": true
   },
   "outputs": [
    {
     "data": {
      "text/plain": [
       "array([[0.76086957, 1.08690479, 0.40711901, 0.32247033, 0.80064876,\n",
       "        0.50253108, 0.85211015],\n",
       "       [0.63043478, 1.08690479, 0.41929658, 0.36895992, 0.92827451,\n",
       "        0.49533798, 0.92180158],\n",
       "       [0.58695652, 1.08690479, 0.59972146, 0.58596843, 0.87856764,\n",
       "        0.50935123, 0.85541891],\n",
       "       [0.5       , 1.08690479, 0.58570013, 0.5101709 , 0.74004618,\n",
       "        0.60788712, 0.89744134],\n",
       "       [0.45652174, 1.08690479, 0.62383632, 0.55509578, 0.91833478,\n",
       "        0.54800094, 0.79261954],\n",
       "       [0.45652174, 1.08690479, 0.61605376, 0.55181908, 0.77637529,\n",
       "        0.4415334 , 0.71475172],\n",
       "       [0.65217391, 0.94236244, 0.74911603, 0.6391335 , 0.78983577,\n",
       "        0.56615937, 0.59706776],\n",
       "       [0.65217391, 0.94236244, 0.57988185, 0.47022194, 0.87462797,\n",
       "        0.42676286, 0.71311491],\n",
       "       [0.80434783, 1.00414773, 0.61050049, 0.54509219, 0.81232797,\n",
       "        0.54749497, 0.72162925],\n",
       "       [0.91304348, 1.00414773, 0.82035294, 0.70851227, 0.85148938,\n",
       "        0.71771846, 0.70158357],\n",
       "       [0.54347826, 1.00414773, 0.72471362, 0.63734152, 0.8670155 ,\n",
       "        0.60036573, 0.64922965],\n",
       "       [0.43478261, 1.00414773, 0.62161576, 0.57832211, 0.81962002,\n",
       "        0.51890607, 0.66414247],\n",
       "       [0.84782609, 1.00414773, 0.7726797 , 0.7089164 , 0.78070994,\n",
       "        0.71368095, 0.71931385],\n",
       "       [0.7826087 , 1.00414773, 0.79956737, 0.70390284, 0.84983776,\n",
       "        0.66778949, 0.63173554],\n",
       "       [0.73913043, 0.74649639, 0.63079648, 0.58832489, 0.83289395,\n",
       "        0.56422813, 0.88131649],\n",
       "       [0.56521739, 0.74649639, 0.48406873, 0.47214617, 0.86928472,\n",
       "        0.49976761, 0.8805421 ],\n",
       "       [0.80434783, 0.74649639, 0.39502023, 0.38269199, 0.85003151,\n",
       "        0.28092537, 0.62508151],\n",
       "       [0.04347826, 0.74649639, 0.7923009 , 0.72827184, 0.87514426,\n",
       "        0.70052193, 0.8790011 ],\n",
       "       [0.86956522, 0.74649639, 0.55602033, 0.50919994, 0.80047978,\n",
       "        0.50590659, 0.88131649],\n",
       "       [0.5       , 0.74649639, 0.50825401, 0.51081589, 0.86775747,\n",
       "        0.37049504, 0.72162925],\n",
       "       [0.76086957, 0.74649639, 0.56970786, 0.55581129, 0.90988545,\n",
       "        0.4244929 , 0.7029756 ],\n",
       "       [0.17391304, 0.74649639, 0.42693443, 0.42223951, 0.9402395 ,\n",
       "        0.43102874, 0.68418814],\n",
       "       [0.95652174, 0.74649639, 0.61240251, 0.55181908, 0.77558123,\n",
       "        0.48373907, 0.80816277],\n",
       "       [0.93478261, 0.74649639, 0.74057844, 0.68017366, 0.84549169,\n",
       "        0.61898588, 0.809863  ],\n",
       "       [0.63043478, 0.74649639, 0.66689616, 0.61474475, 0.84787159,\n",
       "        0.5473857 , 0.8127249 ],\n",
       "       [0.67391304, 0.74649639, 0.49875822, 0.47064978, 0.81130542,\n",
       "        0.42443675, 0.8127249 ],\n",
       "       [0.93478261, 0.74649639, 0.32295865, 0.32872457, 0.86164296,\n",
       "        0.24123624, 0.72104821],\n",
       "       [0.39130435, 0.74649639, 0.41927038, 0.40659708, 0.90838371,\n",
       "        0.2937589 , 0.73207691],\n",
       "       [0.45652174, 0.74649639, 0.20223149, 0.2068608 , 0.90981416,\n",
       "        0.3496063 , 0.72162925],\n",
       "       [0.7173913 , 0.74649639, 0.42481599, 0.40924086, 0.82361862,\n",
       "        0.36744559, 0.81364826],\n",
       "       [0.7173913 , 0.74649639, 0.39413301, 0.36530006, 0.78412445,\n",
       "        0.33147478, 0.75042351],\n",
       "       [0.7826087 , 0.74649639, 0.72403648, 0.64947605, 0.79985906,\n",
       "        0.60917041, 0.79226819],\n",
       "       [0.63043478, 0.74649639, 0.63241792, 0.58313637, 0.8559274 ,\n",
       "        0.55889577, 0.88131649]])"
      ]
     },
     "execution_count": 121,
     "metadata": {},
     "output_type": "execute_result"
    }
   ],
   "source": [
    "from sklearn.preprocessing import MinMaxScaler\n",
    "\n",
    "X_scaled = X_minmax_scaler.transform(data.loc[:, numerical_variables])\n",
    "X_scaled"
   ]
  },
  {
   "cell_type": "code",
   "execution_count": 122,
   "id": "72125c15",
   "metadata": {},
   "outputs": [
    {
     "data": {
      "text/html": [
       "<div>\n",
       "<style scoped>\n",
       "    .dataframe tbody tr th:only-of-type {\n",
       "        vertical-align: middle;\n",
       "    }\n",
       "\n",
       "    .dataframe tbody tr th {\n",
       "        vertical-align: top;\n",
       "    }\n",
       "\n",
       "    .dataframe thead th {\n",
       "        text-align: right;\n",
       "    }\n",
       "</style>\n",
       "<table border=\"1\" class=\"dataframe\">\n",
       "  <thead>\n",
       "    <tr style=\"text-align: right;\">\n",
       "      <th></th>\n",
       "      <th>age1</th>\n",
       "      <th>land</th>\n",
       "      <th>labch_1</th>\n",
       "      <th>labh_hour_1</th>\n",
       "      <th>lab_cost</th>\n",
       "      <th>fmtc_1</th>\n",
       "      <th>lansh_1</th>\n",
       "      <th>0</th>\n",
       "      <th>1</th>\n",
       "      <th>2</th>\n",
       "      <th>3</th>\n",
       "      <th>4</th>\n",
       "      <th>5</th>\n",
       "      <th>6</th>\n",
       "      <th>7</th>\n",
       "      <th>8</th>\n",
       "      <th>9</th>\n",
       "      <th>10</th>\n",
       "      <th>11</th>\n",
       "    </tr>\n",
       "  </thead>\n",
       "  <tbody>\n",
       "    <tr>\n",
       "      <th>0</th>\n",
       "      <td>0.760870</td>\n",
       "      <td>1.086905</td>\n",
       "      <td>0.407119</td>\n",
       "      <td>0.322470</td>\n",
       "      <td>0.800649</td>\n",
       "      <td>0.502531</td>\n",
       "      <td>0.852110</td>\n",
       "      <td>0.0</td>\n",
       "      <td>0.0</td>\n",
       "      <td>1.0</td>\n",
       "      <td>0.0</td>\n",
       "      <td>0.0</td>\n",
       "      <td>1.0</td>\n",
       "      <td>0.0</td>\n",
       "      <td>0.0</td>\n",
       "      <td>0.0</td>\n",
       "      <td>0.0</td>\n",
       "      <td>0.0</td>\n",
       "      <td>1.0</td>\n",
       "    </tr>\n",
       "    <tr>\n",
       "      <th>1</th>\n",
       "      <td>0.630435</td>\n",
       "      <td>1.086905</td>\n",
       "      <td>0.419297</td>\n",
       "      <td>0.368960</td>\n",
       "      <td>0.928275</td>\n",
       "      <td>0.495338</td>\n",
       "      <td>0.921802</td>\n",
       "      <td>0.0</td>\n",
       "      <td>0.0</td>\n",
       "      <td>0.0</td>\n",
       "      <td>0.0</td>\n",
       "      <td>1.0</td>\n",
       "      <td>1.0</td>\n",
       "      <td>0.0</td>\n",
       "      <td>0.0</td>\n",
       "      <td>0.0</td>\n",
       "      <td>0.0</td>\n",
       "      <td>0.0</td>\n",
       "      <td>1.0</td>\n",
       "    </tr>\n",
       "    <tr>\n",
       "      <th>2</th>\n",
       "      <td>0.586957</td>\n",
       "      <td>1.086905</td>\n",
       "      <td>0.599721</td>\n",
       "      <td>0.585968</td>\n",
       "      <td>0.878568</td>\n",
       "      <td>0.509351</td>\n",
       "      <td>0.855419</td>\n",
       "      <td>0.0</td>\n",
       "      <td>0.0</td>\n",
       "      <td>0.0</td>\n",
       "      <td>1.0</td>\n",
       "      <td>0.0</td>\n",
       "      <td>1.0</td>\n",
       "      <td>0.0</td>\n",
       "      <td>0.0</td>\n",
       "      <td>0.0</td>\n",
       "      <td>0.0</td>\n",
       "      <td>0.0</td>\n",
       "      <td>1.0</td>\n",
       "    </tr>\n",
       "    <tr>\n",
       "      <th>3</th>\n",
       "      <td>0.500000</td>\n",
       "      <td>1.086905</td>\n",
       "      <td>0.585700</td>\n",
       "      <td>0.510171</td>\n",
       "      <td>0.740046</td>\n",
       "      <td>0.607887</td>\n",
       "      <td>0.897441</td>\n",
       "      <td>1.0</td>\n",
       "      <td>0.0</td>\n",
       "      <td>0.0</td>\n",
       "      <td>0.0</td>\n",
       "      <td>0.0</td>\n",
       "      <td>1.0</td>\n",
       "      <td>0.0</td>\n",
       "      <td>0.0</td>\n",
       "      <td>0.0</td>\n",
       "      <td>0.0</td>\n",
       "      <td>0.0</td>\n",
       "      <td>1.0</td>\n",
       "    </tr>\n",
       "    <tr>\n",
       "      <th>4</th>\n",
       "      <td>0.456522</td>\n",
       "      <td>1.086905</td>\n",
       "      <td>0.623836</td>\n",
       "      <td>0.555096</td>\n",
       "      <td>0.918335</td>\n",
       "      <td>0.548001</td>\n",
       "      <td>0.792620</td>\n",
       "      <td>0.0</td>\n",
       "      <td>0.0</td>\n",
       "      <td>0.0</td>\n",
       "      <td>0.0</td>\n",
       "      <td>1.0</td>\n",
       "      <td>1.0</td>\n",
       "      <td>0.0</td>\n",
       "      <td>0.0</td>\n",
       "      <td>0.0</td>\n",
       "      <td>0.0</td>\n",
       "      <td>0.0</td>\n",
       "      <td>1.0</td>\n",
       "    </tr>\n",
       "    <tr>\n",
       "      <th>5</th>\n",
       "      <td>0.456522</td>\n",
       "      <td>1.086905</td>\n",
       "      <td>0.616054</td>\n",
       "      <td>0.551819</td>\n",
       "      <td>0.776375</td>\n",
       "      <td>0.441533</td>\n",
       "      <td>0.714752</td>\n",
       "      <td>1.0</td>\n",
       "      <td>0.0</td>\n",
       "      <td>0.0</td>\n",
       "      <td>0.0</td>\n",
       "      <td>0.0</td>\n",
       "      <td>1.0</td>\n",
       "      <td>0.0</td>\n",
       "      <td>0.0</td>\n",
       "      <td>0.0</td>\n",
       "      <td>0.0</td>\n",
       "      <td>0.0</td>\n",
       "      <td>1.0</td>\n",
       "    </tr>\n",
       "    <tr>\n",
       "      <th>6</th>\n",
       "      <td>0.652174</td>\n",
       "      <td>0.942362</td>\n",
       "      <td>0.749116</td>\n",
       "      <td>0.639134</td>\n",
       "      <td>0.789836</td>\n",
       "      <td>0.566159</td>\n",
       "      <td>0.597068</td>\n",
       "      <td>1.0</td>\n",
       "      <td>0.0</td>\n",
       "      <td>0.0</td>\n",
       "      <td>0.0</td>\n",
       "      <td>0.0</td>\n",
       "      <td>0.0</td>\n",
       "      <td>1.0</td>\n",
       "      <td>0.0</td>\n",
       "      <td>0.0</td>\n",
       "      <td>0.0</td>\n",
       "      <td>0.0</td>\n",
       "      <td>1.0</td>\n",
       "    </tr>\n",
       "    <tr>\n",
       "      <th>7</th>\n",
       "      <td>0.652174</td>\n",
       "      <td>0.942362</td>\n",
       "      <td>0.579882</td>\n",
       "      <td>0.470222</td>\n",
       "      <td>0.874628</td>\n",
       "      <td>0.426763</td>\n",
       "      <td>0.713115</td>\n",
       "      <td>0.0</td>\n",
       "      <td>0.0</td>\n",
       "      <td>0.0</td>\n",
       "      <td>1.0</td>\n",
       "      <td>0.0</td>\n",
       "      <td>0.0</td>\n",
       "      <td>1.0</td>\n",
       "      <td>0.0</td>\n",
       "      <td>0.0</td>\n",
       "      <td>0.0</td>\n",
       "      <td>0.0</td>\n",
       "      <td>1.0</td>\n",
       "    </tr>\n",
       "    <tr>\n",
       "      <th>8</th>\n",
       "      <td>0.804348</td>\n",
       "      <td>1.004148</td>\n",
       "      <td>0.610500</td>\n",
       "      <td>0.545092</td>\n",
       "      <td>0.812328</td>\n",
       "      <td>0.547495</td>\n",
       "      <td>0.721629</td>\n",
       "      <td>0.0</td>\n",
       "      <td>1.0</td>\n",
       "      <td>0.0</td>\n",
       "      <td>0.0</td>\n",
       "      <td>0.0</td>\n",
       "      <td>0.0</td>\n",
       "      <td>0.0</td>\n",
       "      <td>1.0</td>\n",
       "      <td>0.0</td>\n",
       "      <td>0.0</td>\n",
       "      <td>1.0</td>\n",
       "      <td>0.0</td>\n",
       "    </tr>\n",
       "    <tr>\n",
       "      <th>9</th>\n",
       "      <td>0.913043</td>\n",
       "      <td>1.004148</td>\n",
       "      <td>0.820353</td>\n",
       "      <td>0.708512</td>\n",
       "      <td>0.851489</td>\n",
       "      <td>0.717718</td>\n",
       "      <td>0.701584</td>\n",
       "      <td>0.0</td>\n",
       "      <td>1.0</td>\n",
       "      <td>0.0</td>\n",
       "      <td>0.0</td>\n",
       "      <td>0.0</td>\n",
       "      <td>0.0</td>\n",
       "      <td>0.0</td>\n",
       "      <td>1.0</td>\n",
       "      <td>0.0</td>\n",
       "      <td>0.0</td>\n",
       "      <td>0.0</td>\n",
       "      <td>1.0</td>\n",
       "    </tr>\n",
       "    <tr>\n",
       "      <th>10</th>\n",
       "      <td>0.543478</td>\n",
       "      <td>1.004148</td>\n",
       "      <td>0.724714</td>\n",
       "      <td>0.637342</td>\n",
       "      <td>0.867016</td>\n",
       "      <td>0.600366</td>\n",
       "      <td>0.649230</td>\n",
       "      <td>0.0</td>\n",
       "      <td>0.0</td>\n",
       "      <td>1.0</td>\n",
       "      <td>0.0</td>\n",
       "      <td>0.0</td>\n",
       "      <td>0.0</td>\n",
       "      <td>0.0</td>\n",
       "      <td>1.0</td>\n",
       "      <td>0.0</td>\n",
       "      <td>0.0</td>\n",
       "      <td>0.0</td>\n",
       "      <td>1.0</td>\n",
       "    </tr>\n",
       "    <tr>\n",
       "      <th>11</th>\n",
       "      <td>0.434783</td>\n",
       "      <td>1.004148</td>\n",
       "      <td>0.621616</td>\n",
       "      <td>0.578322</td>\n",
       "      <td>0.819620</td>\n",
       "      <td>0.518906</td>\n",
       "      <td>0.664142</td>\n",
       "      <td>0.0</td>\n",
       "      <td>1.0</td>\n",
       "      <td>0.0</td>\n",
       "      <td>0.0</td>\n",
       "      <td>0.0</td>\n",
       "      <td>0.0</td>\n",
       "      <td>0.0</td>\n",
       "      <td>1.0</td>\n",
       "      <td>0.0</td>\n",
       "      <td>0.0</td>\n",
       "      <td>0.0</td>\n",
       "      <td>1.0</td>\n",
       "    </tr>\n",
       "    <tr>\n",
       "      <th>12</th>\n",
       "      <td>0.847826</td>\n",
       "      <td>1.004148</td>\n",
       "      <td>0.772680</td>\n",
       "      <td>0.708916</td>\n",
       "      <td>0.780710</td>\n",
       "      <td>0.713681</td>\n",
       "      <td>0.719314</td>\n",
       "      <td>1.0</td>\n",
       "      <td>0.0</td>\n",
       "      <td>0.0</td>\n",
       "      <td>0.0</td>\n",
       "      <td>0.0</td>\n",
       "      <td>0.0</td>\n",
       "      <td>0.0</td>\n",
       "      <td>1.0</td>\n",
       "      <td>0.0</td>\n",
       "      <td>0.0</td>\n",
       "      <td>0.0</td>\n",
       "      <td>1.0</td>\n",
       "    </tr>\n",
       "    <tr>\n",
       "      <th>13</th>\n",
       "      <td>0.782609</td>\n",
       "      <td>1.004148</td>\n",
       "      <td>0.799567</td>\n",
       "      <td>0.703903</td>\n",
       "      <td>0.849838</td>\n",
       "      <td>0.667789</td>\n",
       "      <td>0.631736</td>\n",
       "      <td>0.0</td>\n",
       "      <td>1.0</td>\n",
       "      <td>0.0</td>\n",
       "      <td>0.0</td>\n",
       "      <td>0.0</td>\n",
       "      <td>0.0</td>\n",
       "      <td>0.0</td>\n",
       "      <td>1.0</td>\n",
       "      <td>0.0</td>\n",
       "      <td>0.0</td>\n",
       "      <td>0.0</td>\n",
       "      <td>1.0</td>\n",
       "    </tr>\n",
       "    <tr>\n",
       "      <th>14</th>\n",
       "      <td>0.739130</td>\n",
       "      <td>0.746496</td>\n",
       "      <td>0.630796</td>\n",
       "      <td>0.588325</td>\n",
       "      <td>0.832894</td>\n",
       "      <td>0.564228</td>\n",
       "      <td>0.881316</td>\n",
       "      <td>0.0</td>\n",
       "      <td>0.0</td>\n",
       "      <td>1.0</td>\n",
       "      <td>0.0</td>\n",
       "      <td>0.0</td>\n",
       "      <td>0.0</td>\n",
       "      <td>0.0</td>\n",
       "      <td>0.0</td>\n",
       "      <td>1.0</td>\n",
       "      <td>0.0</td>\n",
       "      <td>0.0</td>\n",
       "      <td>1.0</td>\n",
       "    </tr>\n",
       "    <tr>\n",
       "      <th>15</th>\n",
       "      <td>0.565217</td>\n",
       "      <td>0.746496</td>\n",
       "      <td>0.484069</td>\n",
       "      <td>0.472146</td>\n",
       "      <td>0.869285</td>\n",
       "      <td>0.499768</td>\n",
       "      <td>0.880542</td>\n",
       "      <td>0.0</td>\n",
       "      <td>0.0</td>\n",
       "      <td>0.0</td>\n",
       "      <td>1.0</td>\n",
       "      <td>0.0</td>\n",
       "      <td>0.0</td>\n",
       "      <td>0.0</td>\n",
       "      <td>0.0</td>\n",
       "      <td>1.0</td>\n",
       "      <td>0.0</td>\n",
       "      <td>0.0</td>\n",
       "      <td>1.0</td>\n",
       "    </tr>\n",
       "    <tr>\n",
       "      <th>16</th>\n",
       "      <td>0.804348</td>\n",
       "      <td>0.746496</td>\n",
       "      <td>0.395020</td>\n",
       "      <td>0.382692</td>\n",
       "      <td>0.850032</td>\n",
       "      <td>0.280925</td>\n",
       "      <td>0.625082</td>\n",
       "      <td>0.0</td>\n",
       "      <td>0.0</td>\n",
       "      <td>0.0</td>\n",
       "      <td>0.0</td>\n",
       "      <td>1.0</td>\n",
       "      <td>0.0</td>\n",
       "      <td>0.0</td>\n",
       "      <td>0.0</td>\n",
       "      <td>1.0</td>\n",
       "      <td>0.0</td>\n",
       "      <td>0.0</td>\n",
       "      <td>1.0</td>\n",
       "    </tr>\n",
       "    <tr>\n",
       "      <th>17</th>\n",
       "      <td>0.043478</td>\n",
       "      <td>0.746496</td>\n",
       "      <td>0.792301</td>\n",
       "      <td>0.728272</td>\n",
       "      <td>0.875144</td>\n",
       "      <td>0.700522</td>\n",
       "      <td>0.879001</td>\n",
       "      <td>0.0</td>\n",
       "      <td>0.0</td>\n",
       "      <td>1.0</td>\n",
       "      <td>0.0</td>\n",
       "      <td>0.0</td>\n",
       "      <td>0.0</td>\n",
       "      <td>0.0</td>\n",
       "      <td>0.0</td>\n",
       "      <td>1.0</td>\n",
       "      <td>0.0</td>\n",
       "      <td>0.0</td>\n",
       "      <td>1.0</td>\n",
       "    </tr>\n",
       "    <tr>\n",
       "      <th>18</th>\n",
       "      <td>0.869565</td>\n",
       "      <td>0.746496</td>\n",
       "      <td>0.556020</td>\n",
       "      <td>0.509200</td>\n",
       "      <td>0.800480</td>\n",
       "      <td>0.505907</td>\n",
       "      <td>0.881316</td>\n",
       "      <td>0.0</td>\n",
       "      <td>1.0</td>\n",
       "      <td>0.0</td>\n",
       "      <td>0.0</td>\n",
       "      <td>0.0</td>\n",
       "      <td>0.0</td>\n",
       "      <td>0.0</td>\n",
       "      <td>0.0</td>\n",
       "      <td>1.0</td>\n",
       "      <td>0.0</td>\n",
       "      <td>0.0</td>\n",
       "      <td>1.0</td>\n",
       "    </tr>\n",
       "    <tr>\n",
       "      <th>19</th>\n",
       "      <td>0.500000</td>\n",
       "      <td>0.746496</td>\n",
       "      <td>0.508254</td>\n",
       "      <td>0.510816</td>\n",
       "      <td>0.867757</td>\n",
       "      <td>0.370495</td>\n",
       "      <td>0.721629</td>\n",
       "      <td>0.0</td>\n",
       "      <td>0.0</td>\n",
       "      <td>0.0</td>\n",
       "      <td>1.0</td>\n",
       "      <td>0.0</td>\n",
       "      <td>0.0</td>\n",
       "      <td>0.0</td>\n",
       "      <td>0.0</td>\n",
       "      <td>1.0</td>\n",
       "      <td>0.0</td>\n",
       "      <td>0.0</td>\n",
       "      <td>1.0</td>\n",
       "    </tr>\n",
       "    <tr>\n",
       "      <th>20</th>\n",
       "      <td>0.760870</td>\n",
       "      <td>0.746496</td>\n",
       "      <td>0.569708</td>\n",
       "      <td>0.555811</td>\n",
       "      <td>0.909885</td>\n",
       "      <td>0.424493</td>\n",
       "      <td>0.702976</td>\n",
       "      <td>0.0</td>\n",
       "      <td>0.0</td>\n",
       "      <td>0.0</td>\n",
       "      <td>0.0</td>\n",
       "      <td>1.0</td>\n",
       "      <td>0.0</td>\n",
       "      <td>0.0</td>\n",
       "      <td>0.0</td>\n",
       "      <td>1.0</td>\n",
       "      <td>0.0</td>\n",
       "      <td>1.0</td>\n",
       "      <td>0.0</td>\n",
       "    </tr>\n",
       "    <tr>\n",
       "      <th>21</th>\n",
       "      <td>0.173913</td>\n",
       "      <td>0.746496</td>\n",
       "      <td>0.426934</td>\n",
       "      <td>0.422240</td>\n",
       "      <td>0.940240</td>\n",
       "      <td>0.431029</td>\n",
       "      <td>0.684188</td>\n",
       "      <td>0.0</td>\n",
       "      <td>0.0</td>\n",
       "      <td>0.0</td>\n",
       "      <td>0.0</td>\n",
       "      <td>1.0</td>\n",
       "      <td>0.0</td>\n",
       "      <td>0.0</td>\n",
       "      <td>0.0</td>\n",
       "      <td>1.0</td>\n",
       "      <td>0.0</td>\n",
       "      <td>0.0</td>\n",
       "      <td>1.0</td>\n",
       "    </tr>\n",
       "    <tr>\n",
       "      <th>22</th>\n",
       "      <td>0.956522</td>\n",
       "      <td>0.746496</td>\n",
       "      <td>0.612403</td>\n",
       "      <td>0.551819</td>\n",
       "      <td>0.775581</td>\n",
       "      <td>0.483739</td>\n",
       "      <td>0.808163</td>\n",
       "      <td>1.0</td>\n",
       "      <td>0.0</td>\n",
       "      <td>0.0</td>\n",
       "      <td>0.0</td>\n",
       "      <td>0.0</td>\n",
       "      <td>0.0</td>\n",
       "      <td>0.0</td>\n",
       "      <td>0.0</td>\n",
       "      <td>1.0</td>\n",
       "      <td>0.0</td>\n",
       "      <td>1.0</td>\n",
       "      <td>0.0</td>\n",
       "    </tr>\n",
       "    <tr>\n",
       "      <th>23</th>\n",
       "      <td>0.934783</td>\n",
       "      <td>0.746496</td>\n",
       "      <td>0.740578</td>\n",
       "      <td>0.680174</td>\n",
       "      <td>0.845492</td>\n",
       "      <td>0.618986</td>\n",
       "      <td>0.809863</td>\n",
       "      <td>0.0</td>\n",
       "      <td>1.0</td>\n",
       "      <td>0.0</td>\n",
       "      <td>0.0</td>\n",
       "      <td>0.0</td>\n",
       "      <td>0.0</td>\n",
       "      <td>0.0</td>\n",
       "      <td>0.0</td>\n",
       "      <td>1.0</td>\n",
       "      <td>0.0</td>\n",
       "      <td>0.0</td>\n",
       "      <td>1.0</td>\n",
       "    </tr>\n",
       "    <tr>\n",
       "      <th>24</th>\n",
       "      <td>0.630435</td>\n",
       "      <td>0.746496</td>\n",
       "      <td>0.666896</td>\n",
       "      <td>0.614745</td>\n",
       "      <td>0.847872</td>\n",
       "      <td>0.547386</td>\n",
       "      <td>0.812725</td>\n",
       "      <td>0.0</td>\n",
       "      <td>0.0</td>\n",
       "      <td>1.0</td>\n",
       "      <td>0.0</td>\n",
       "      <td>0.0</td>\n",
       "      <td>0.0</td>\n",
       "      <td>0.0</td>\n",
       "      <td>0.0</td>\n",
       "      <td>1.0</td>\n",
       "      <td>0.0</td>\n",
       "      <td>0.0</td>\n",
       "      <td>1.0</td>\n",
       "    </tr>\n",
       "    <tr>\n",
       "      <th>25</th>\n",
       "      <td>0.673913</td>\n",
       "      <td>0.746496</td>\n",
       "      <td>0.498758</td>\n",
       "      <td>0.470650</td>\n",
       "      <td>0.811305</td>\n",
       "      <td>0.424437</td>\n",
       "      <td>0.812725</td>\n",
       "      <td>0.0</td>\n",
       "      <td>0.0</td>\n",
       "      <td>1.0</td>\n",
       "      <td>0.0</td>\n",
       "      <td>0.0</td>\n",
       "      <td>0.0</td>\n",
       "      <td>0.0</td>\n",
       "      <td>0.0</td>\n",
       "      <td>1.0</td>\n",
       "      <td>0.0</td>\n",
       "      <td>0.0</td>\n",
       "      <td>1.0</td>\n",
       "    </tr>\n",
       "    <tr>\n",
       "      <th>26</th>\n",
       "      <td>0.934783</td>\n",
       "      <td>0.746496</td>\n",
       "      <td>0.322959</td>\n",
       "      <td>0.328725</td>\n",
       "      <td>0.861643</td>\n",
       "      <td>0.241236</td>\n",
       "      <td>0.721048</td>\n",
       "      <td>0.0</td>\n",
       "      <td>0.0</td>\n",
       "      <td>0.0</td>\n",
       "      <td>0.0</td>\n",
       "      <td>1.0</td>\n",
       "      <td>0.0</td>\n",
       "      <td>0.0</td>\n",
       "      <td>0.0</td>\n",
       "      <td>1.0</td>\n",
       "      <td>0.0</td>\n",
       "      <td>1.0</td>\n",
       "      <td>0.0</td>\n",
       "    </tr>\n",
       "    <tr>\n",
       "      <th>27</th>\n",
       "      <td>0.391304</td>\n",
       "      <td>0.746496</td>\n",
       "      <td>0.419270</td>\n",
       "      <td>0.406597</td>\n",
       "      <td>0.908384</td>\n",
       "      <td>0.293759</td>\n",
       "      <td>0.732077</td>\n",
       "      <td>0.0</td>\n",
       "      <td>0.0</td>\n",
       "      <td>0.0</td>\n",
       "      <td>0.0</td>\n",
       "      <td>1.0</td>\n",
       "      <td>0.0</td>\n",
       "      <td>0.0</td>\n",
       "      <td>0.0</td>\n",
       "      <td>1.0</td>\n",
       "      <td>0.0</td>\n",
       "      <td>0.0</td>\n",
       "      <td>1.0</td>\n",
       "    </tr>\n",
       "    <tr>\n",
       "      <th>28</th>\n",
       "      <td>0.456522</td>\n",
       "      <td>0.746496</td>\n",
       "      <td>0.202231</td>\n",
       "      <td>0.206861</td>\n",
       "      <td>0.909814</td>\n",
       "      <td>0.349606</td>\n",
       "      <td>0.721629</td>\n",
       "      <td>0.0</td>\n",
       "      <td>0.0</td>\n",
       "      <td>0.0</td>\n",
       "      <td>0.0</td>\n",
       "      <td>1.0</td>\n",
       "      <td>0.0</td>\n",
       "      <td>0.0</td>\n",
       "      <td>0.0</td>\n",
       "      <td>1.0</td>\n",
       "      <td>0.0</td>\n",
       "      <td>0.0</td>\n",
       "      <td>1.0</td>\n",
       "    </tr>\n",
       "    <tr>\n",
       "      <th>29</th>\n",
       "      <td>0.717391</td>\n",
       "      <td>0.746496</td>\n",
       "      <td>0.424816</td>\n",
       "      <td>0.409241</td>\n",
       "      <td>0.823619</td>\n",
       "      <td>0.367446</td>\n",
       "      <td>0.813648</td>\n",
       "      <td>0.0</td>\n",
       "      <td>0.0</td>\n",
       "      <td>1.0</td>\n",
       "      <td>0.0</td>\n",
       "      <td>0.0</td>\n",
       "      <td>0.0</td>\n",
       "      <td>0.0</td>\n",
       "      <td>0.0</td>\n",
       "      <td>1.0</td>\n",
       "      <td>0.0</td>\n",
       "      <td>0.0</td>\n",
       "      <td>1.0</td>\n",
       "    </tr>\n",
       "    <tr>\n",
       "      <th>30</th>\n",
       "      <td>0.717391</td>\n",
       "      <td>0.746496</td>\n",
       "      <td>0.394133</td>\n",
       "      <td>0.365300</td>\n",
       "      <td>0.784124</td>\n",
       "      <td>0.331475</td>\n",
       "      <td>0.750424</td>\n",
       "      <td>0.0</td>\n",
       "      <td>0.0</td>\n",
       "      <td>1.0</td>\n",
       "      <td>0.0</td>\n",
       "      <td>0.0</td>\n",
       "      <td>0.0</td>\n",
       "      <td>0.0</td>\n",
       "      <td>0.0</td>\n",
       "      <td>1.0</td>\n",
       "      <td>0.0</td>\n",
       "      <td>0.0</td>\n",
       "      <td>1.0</td>\n",
       "    </tr>\n",
       "    <tr>\n",
       "      <th>31</th>\n",
       "      <td>0.782609</td>\n",
       "      <td>0.746496</td>\n",
       "      <td>0.724036</td>\n",
       "      <td>0.649476</td>\n",
       "      <td>0.799859</td>\n",
       "      <td>0.609170</td>\n",
       "      <td>0.792268</td>\n",
       "      <td>1.0</td>\n",
       "      <td>0.0</td>\n",
       "      <td>0.0</td>\n",
       "      <td>0.0</td>\n",
       "      <td>0.0</td>\n",
       "      <td>0.0</td>\n",
       "      <td>0.0</td>\n",
       "      <td>0.0</td>\n",
       "      <td>1.0</td>\n",
       "      <td>0.0</td>\n",
       "      <td>0.0</td>\n",
       "      <td>1.0</td>\n",
       "    </tr>\n",
       "    <tr>\n",
       "      <th>32</th>\n",
       "      <td>0.630435</td>\n",
       "      <td>0.746496</td>\n",
       "      <td>0.632418</td>\n",
       "      <td>0.583136</td>\n",
       "      <td>0.855927</td>\n",
       "      <td>0.558896</td>\n",
       "      <td>0.881316</td>\n",
       "      <td>0.0</td>\n",
       "      <td>0.0</td>\n",
       "      <td>1.0</td>\n",
       "      <td>0.0</td>\n",
       "      <td>0.0</td>\n",
       "      <td>0.0</td>\n",
       "      <td>0.0</td>\n",
       "      <td>0.0</td>\n",
       "      <td>1.0</td>\n",
       "      <td>0.0</td>\n",
       "      <td>0.0</td>\n",
       "      <td>1.0</td>\n",
       "    </tr>\n",
       "  </tbody>\n",
       "</table>\n",
       "</div>"
      ],
      "text/plain": [
       "        age1      land   labch_1  labh_hour_1  lab_cost    fmtc_1   lansh_1  \\\n",
       "0   0.760870  1.086905  0.407119     0.322470  0.800649  0.502531  0.852110   \n",
       "1   0.630435  1.086905  0.419297     0.368960  0.928275  0.495338  0.921802   \n",
       "2   0.586957  1.086905  0.599721     0.585968  0.878568  0.509351  0.855419   \n",
       "3   0.500000  1.086905  0.585700     0.510171  0.740046  0.607887  0.897441   \n",
       "4   0.456522  1.086905  0.623836     0.555096  0.918335  0.548001  0.792620   \n",
       "5   0.456522  1.086905  0.616054     0.551819  0.776375  0.441533  0.714752   \n",
       "6   0.652174  0.942362  0.749116     0.639134  0.789836  0.566159  0.597068   \n",
       "7   0.652174  0.942362  0.579882     0.470222  0.874628  0.426763  0.713115   \n",
       "8   0.804348  1.004148  0.610500     0.545092  0.812328  0.547495  0.721629   \n",
       "9   0.913043  1.004148  0.820353     0.708512  0.851489  0.717718  0.701584   \n",
       "10  0.543478  1.004148  0.724714     0.637342  0.867016  0.600366  0.649230   \n",
       "11  0.434783  1.004148  0.621616     0.578322  0.819620  0.518906  0.664142   \n",
       "12  0.847826  1.004148  0.772680     0.708916  0.780710  0.713681  0.719314   \n",
       "13  0.782609  1.004148  0.799567     0.703903  0.849838  0.667789  0.631736   \n",
       "14  0.739130  0.746496  0.630796     0.588325  0.832894  0.564228  0.881316   \n",
       "15  0.565217  0.746496  0.484069     0.472146  0.869285  0.499768  0.880542   \n",
       "16  0.804348  0.746496  0.395020     0.382692  0.850032  0.280925  0.625082   \n",
       "17  0.043478  0.746496  0.792301     0.728272  0.875144  0.700522  0.879001   \n",
       "18  0.869565  0.746496  0.556020     0.509200  0.800480  0.505907  0.881316   \n",
       "19  0.500000  0.746496  0.508254     0.510816  0.867757  0.370495  0.721629   \n",
       "20  0.760870  0.746496  0.569708     0.555811  0.909885  0.424493  0.702976   \n",
       "21  0.173913  0.746496  0.426934     0.422240  0.940240  0.431029  0.684188   \n",
       "22  0.956522  0.746496  0.612403     0.551819  0.775581  0.483739  0.808163   \n",
       "23  0.934783  0.746496  0.740578     0.680174  0.845492  0.618986  0.809863   \n",
       "24  0.630435  0.746496  0.666896     0.614745  0.847872  0.547386  0.812725   \n",
       "25  0.673913  0.746496  0.498758     0.470650  0.811305  0.424437  0.812725   \n",
       "26  0.934783  0.746496  0.322959     0.328725  0.861643  0.241236  0.721048   \n",
       "27  0.391304  0.746496  0.419270     0.406597  0.908384  0.293759  0.732077   \n",
       "28  0.456522  0.746496  0.202231     0.206861  0.909814  0.349606  0.721629   \n",
       "29  0.717391  0.746496  0.424816     0.409241  0.823619  0.367446  0.813648   \n",
       "30  0.717391  0.746496  0.394133     0.365300  0.784124  0.331475  0.750424   \n",
       "31  0.782609  0.746496  0.724036     0.649476  0.799859  0.609170  0.792268   \n",
       "32  0.630435  0.746496  0.632418     0.583136  0.855927  0.558896  0.881316   \n",
       "\n",
       "      0    1    2    3    4    5    6    7    8    9   10   11  \n",
       "0   0.0  0.0  1.0  0.0  0.0  1.0  0.0  0.0  0.0  0.0  0.0  1.0  \n",
       "1   0.0  0.0  0.0  0.0  1.0  1.0  0.0  0.0  0.0  0.0  0.0  1.0  \n",
       "2   0.0  0.0  0.0  1.0  0.0  1.0  0.0  0.0  0.0  0.0  0.0  1.0  \n",
       "3   1.0  0.0  0.0  0.0  0.0  1.0  0.0  0.0  0.0  0.0  0.0  1.0  \n",
       "4   0.0  0.0  0.0  0.0  1.0  1.0  0.0  0.0  0.0  0.0  0.0  1.0  \n",
       "5   1.0  0.0  0.0  0.0  0.0  1.0  0.0  0.0  0.0  0.0  0.0  1.0  \n",
       "6   1.0  0.0  0.0  0.0  0.0  0.0  1.0  0.0  0.0  0.0  0.0  1.0  \n",
       "7   0.0  0.0  0.0  1.0  0.0  0.0  1.0  0.0  0.0  0.0  0.0  1.0  \n",
       "8   0.0  1.0  0.0  0.0  0.0  0.0  0.0  1.0  0.0  0.0  1.0  0.0  \n",
       "9   0.0  1.0  0.0  0.0  0.0  0.0  0.0  1.0  0.0  0.0  0.0  1.0  \n",
       "10  0.0  0.0  1.0  0.0  0.0  0.0  0.0  1.0  0.0  0.0  0.0  1.0  \n",
       "11  0.0  1.0  0.0  0.0  0.0  0.0  0.0  1.0  0.0  0.0  0.0  1.0  \n",
       "12  1.0  0.0  0.0  0.0  0.0  0.0  0.0  1.0  0.0  0.0  0.0  1.0  \n",
       "13  0.0  1.0  0.0  0.0  0.0  0.0  0.0  1.0  0.0  0.0  0.0  1.0  \n",
       "14  0.0  0.0  1.0  0.0  0.0  0.0  0.0  0.0  1.0  0.0  0.0  1.0  \n",
       "15  0.0  0.0  0.0  1.0  0.0  0.0  0.0  0.0  1.0  0.0  0.0  1.0  \n",
       "16  0.0  0.0  0.0  0.0  1.0  0.0  0.0  0.0  1.0  0.0  0.0  1.0  \n",
       "17  0.0  0.0  1.0  0.0  0.0  0.0  0.0  0.0  1.0  0.0  0.0  1.0  \n",
       "18  0.0  1.0  0.0  0.0  0.0  0.0  0.0  0.0  1.0  0.0  0.0  1.0  \n",
       "19  0.0  0.0  0.0  1.0  0.0  0.0  0.0  0.0  1.0  0.0  0.0  1.0  \n",
       "20  0.0  0.0  0.0  0.0  1.0  0.0  0.0  0.0  1.0  0.0  1.0  0.0  \n",
       "21  0.0  0.0  0.0  0.0  1.0  0.0  0.0  0.0  1.0  0.0  0.0  1.0  \n",
       "22  1.0  0.0  0.0  0.0  0.0  0.0  0.0  0.0  1.0  0.0  1.0  0.0  \n",
       "23  0.0  1.0  0.0  0.0  0.0  0.0  0.0  0.0  1.0  0.0  0.0  1.0  \n",
       "24  0.0  0.0  1.0  0.0  0.0  0.0  0.0  0.0  1.0  0.0  0.0  1.0  \n",
       "25  0.0  0.0  1.0  0.0  0.0  0.0  0.0  0.0  1.0  0.0  0.0  1.0  \n",
       "26  0.0  0.0  0.0  0.0  1.0  0.0  0.0  0.0  1.0  0.0  1.0  0.0  \n",
       "27  0.0  0.0  0.0  0.0  1.0  0.0  0.0  0.0  1.0  0.0  0.0  1.0  \n",
       "28  0.0  0.0  0.0  0.0  1.0  0.0  0.0  0.0  1.0  0.0  0.0  1.0  \n",
       "29  0.0  0.0  1.0  0.0  0.0  0.0  0.0  0.0  1.0  0.0  0.0  1.0  \n",
       "30  0.0  0.0  1.0  0.0  0.0  0.0  0.0  0.0  1.0  0.0  0.0  1.0  \n",
       "31  1.0  0.0  0.0  0.0  0.0  0.0  0.0  0.0  1.0  0.0  0.0  1.0  \n",
       "32  0.0  0.0  1.0  0.0  0.0  0.0  0.0  0.0  1.0  0.0  0.0  1.0  "
      ]
     },
     "execution_count": 122,
     "metadata": {},
     "output_type": "execute_result"
    }
   ],
   "source": [
    "numeric_data_df = pd.DataFrame(X_scaled, columns=numerical_variables)\n",
    "onehot_data_df = pd.DataFrame(onehot.toarray())\n",
    "\n",
    "X_data_df = pd.concat([numeric_data_df , onehot_data_df], axis=1)\n",
    "X_data_df"
   ]
  },
  {
   "cell_type": "code",
   "execution_count": 123,
   "id": "3c24847d",
   "metadata": {},
   "outputs": [],
   "source": [
    "X_test = np.array(X_data_df)\n",
    "y_test = np.array(data['cony_1'])"
   ]
  },
  {
   "cell_type": "code",
   "execution_count": 124,
   "id": "1cb8d5cb",
   "metadata": {},
   "outputs": [
    {
     "name": "stdout",
     "output_type": "stream",
     "text": [
      "[7.64344158 7.52673914 8.13360748 7.51369359 7.72205959 7.36778776\n",
      " 7.09586315 7.47063377 6.79124159 6.81119313]\n"
     ]
    }
   ],
   "source": [
    "ensemble = EnsembleRegressor(models, weights=optimal_weight)\n",
    "\n",
    "preds = ensemble.predict(X_test)\n",
    "print(preds[:10])"
   ]
  },
  {
   "cell_type": "code",
   "execution_count": 125,
   "id": "cc5f645f",
   "metadata": {},
   "outputs": [
    {
     "name": "stdout",
     "output_type": "stream",
     "text": [
      "[2085.91375907 1856.04006484 3406.06835803 1831.97129688 2256.60454452\n",
      " 1583.12543268 1205.96369897 1754.71905161  889.01791781  906.95346405]\n",
      "[1896.55172414 2923.68421053  152.          900.         4741.37931034\n",
      " 2176.47058824 1757.14285714 6404.28571429  563.63636364 4976.92307692]\n"
     ]
    }
   ],
   "source": [
    "inverse_transformed_pred = np.expm1(preds)\n",
    "inverse_transformed_pred = np.where(inverse_transformed_pred < 0, 0, inverse_transformed_pred)\n",
    "inverse_transformed_y_test = np.expm1(y_test)\n",
    "\n",
    "print(inverse_transformed_pred[:10])\n",
    "print(inverse_transformed_y_test[:10])"
   ]
  },
  {
   "cell_type": "code",
   "execution_count": 126,
   "id": "0d524256",
   "metadata": {},
   "outputs": [
    {
     "name": "stdout",
     "output_type": "stream",
     "text": [
      "4021.696178617957\n"
     ]
    }
   ],
   "source": [
    "print(np.sqrt(mean_squared_error(inverse_transformed_y_test, inverse_transformed_pred)))"
   ]
  },
  {
   "cell_type": "code",
   "execution_count": 127,
   "id": "eda581a7",
   "metadata": {},
   "outputs": [
    {
     "data": {
      "text/html": [
       "<div>\n",
       "<style scoped>\n",
       "    .dataframe tbody tr th:only-of-type {\n",
       "        vertical-align: middle;\n",
       "    }\n",
       "\n",
       "    .dataframe tbody tr th {\n",
       "        vertical-align: top;\n",
       "    }\n",
       "\n",
       "    .dataframe thead th {\n",
       "        text-align: right;\n",
       "    }\n",
       "</style>\n",
       "<table border=\"1\" class=\"dataframe\">\n",
       "  <thead>\n",
       "    <tr style=\"text-align: right;\">\n",
       "      <th></th>\n",
       "      <th>생산량</th>\n",
       "      <th>예측값</th>\n",
       "    </tr>\n",
       "  </thead>\n",
       "  <tbody>\n",
       "    <tr>\n",
       "      <th>0</th>\n",
       "      <td>1896.6</td>\n",
       "      <td>2085.9</td>\n",
       "    </tr>\n",
       "    <tr>\n",
       "      <th>1</th>\n",
       "      <td>2923.7</td>\n",
       "      <td>1856.0</td>\n",
       "    </tr>\n",
       "    <tr>\n",
       "      <th>2</th>\n",
       "      <td>152.0</td>\n",
       "      <td>3406.1</td>\n",
       "    </tr>\n",
       "    <tr>\n",
       "      <th>3</th>\n",
       "      <td>900.0</td>\n",
       "      <td>1832.0</td>\n",
       "    </tr>\n",
       "    <tr>\n",
       "      <th>4</th>\n",
       "      <td>4741.4</td>\n",
       "      <td>2256.6</td>\n",
       "    </tr>\n",
       "    <tr>\n",
       "      <th>5</th>\n",
       "      <td>2176.5</td>\n",
       "      <td>1583.1</td>\n",
       "    </tr>\n",
       "    <tr>\n",
       "      <th>6</th>\n",
       "      <td>1757.1</td>\n",
       "      <td>1206.0</td>\n",
       "    </tr>\n",
       "    <tr>\n",
       "      <th>7</th>\n",
       "      <td>6404.3</td>\n",
       "      <td>1754.7</td>\n",
       "    </tr>\n",
       "    <tr>\n",
       "      <th>8</th>\n",
       "      <td>563.6</td>\n",
       "      <td>889.0</td>\n",
       "    </tr>\n",
       "    <tr>\n",
       "      <th>9</th>\n",
       "      <td>4976.9</td>\n",
       "      <td>907.0</td>\n",
       "    </tr>\n",
       "    <tr>\n",
       "      <th>10</th>\n",
       "      <td>4640.7</td>\n",
       "      <td>1397.7</td>\n",
       "    </tr>\n",
       "    <tr>\n",
       "      <th>11</th>\n",
       "      <td>2100.0</td>\n",
       "      <td>874.0</td>\n",
       "    </tr>\n",
       "    <tr>\n",
       "      <th>12</th>\n",
       "      <td>9390.0</td>\n",
       "      <td>1018.2</td>\n",
       "    </tr>\n",
       "    <tr>\n",
       "      <th>13</th>\n",
       "      <td>13150.0</td>\n",
       "      <td>991.2</td>\n",
       "    </tr>\n",
       "    <tr>\n",
       "      <th>14</th>\n",
       "      <td>4760.6</td>\n",
       "      <td>2736.2</td>\n",
       "    </tr>\n",
       "    <tr>\n",
       "      <th>15</th>\n",
       "      <td>2997.3</td>\n",
       "      <td>3262.9</td>\n",
       "    </tr>\n",
       "    <tr>\n",
       "      <th>16</th>\n",
       "      <td>3422.2</td>\n",
       "      <td>1876.1</td>\n",
       "    </tr>\n",
       "    <tr>\n",
       "      <th>17</th>\n",
       "      <td>9240.0</td>\n",
       "      <td>5296.9</td>\n",
       "    </tr>\n",
       "    <tr>\n",
       "      <th>18</th>\n",
       "      <td>6066.7</td>\n",
       "      <td>2112.3</td>\n",
       "    </tr>\n",
       "    <tr>\n",
       "      <th>19</th>\n",
       "      <td>10000.0</td>\n",
       "      <td>3511.7</td>\n",
       "    </tr>\n",
       "    <tr>\n",
       "      <th>20</th>\n",
       "      <td>4333.3</td>\n",
       "      <td>3040.5</td>\n",
       "    </tr>\n",
       "    <tr>\n",
       "      <th>21</th>\n",
       "      <td>1693.3</td>\n",
       "      <td>2390.3</td>\n",
       "    </tr>\n",
       "    <tr>\n",
       "      <th>22</th>\n",
       "      <td>2535.3</td>\n",
       "      <td>842.8</td>\n",
       "    </tr>\n",
       "    <tr>\n",
       "      <th>23</th>\n",
       "      <td>11122.2</td>\n",
       "      <td>2061.1</td>\n",
       "    </tr>\n",
       "    <tr>\n",
       "      <th>24</th>\n",
       "      <td>4188.0</td>\n",
       "      <td>3718.1</td>\n",
       "    </tr>\n",
       "    <tr>\n",
       "      <th>25</th>\n",
       "      <td>5236.0</td>\n",
       "      <td>2982.8</td>\n",
       "    </tr>\n",
       "    <tr>\n",
       "      <th>26</th>\n",
       "      <td>4433.3</td>\n",
       "      <td>1854.0</td>\n",
       "    </tr>\n",
       "    <tr>\n",
       "      <th>27</th>\n",
       "      <td>2791.5</td>\n",
       "      <td>2571.7</td>\n",
       "    </tr>\n",
       "    <tr>\n",
       "      <th>28</th>\n",
       "      <td>606.7</td>\n",
       "      <td>1368.0</td>\n",
       "    </tr>\n",
       "    <tr>\n",
       "      <th>29</th>\n",
       "      <td>2226.5</td>\n",
       "      <td>2586.2</td>\n",
       "    </tr>\n",
       "  </tbody>\n",
       "</table>\n",
       "</div>"
      ],
      "text/plain": [
       "        생산량     예측값\n",
       "0    1896.6  2085.9\n",
       "1    2923.7  1856.0\n",
       "2     152.0  3406.1\n",
       "3     900.0  1832.0\n",
       "4    4741.4  2256.6\n",
       "5    2176.5  1583.1\n",
       "6    1757.1  1206.0\n",
       "7    6404.3  1754.7\n",
       "8     563.6   889.0\n",
       "9    4976.9   907.0\n",
       "10   4640.7  1397.7\n",
       "11   2100.0   874.0\n",
       "12   9390.0  1018.2\n",
       "13  13150.0   991.2\n",
       "14   4760.6  2736.2\n",
       "15   2997.3  3262.9\n",
       "16   3422.2  1876.1\n",
       "17   9240.0  5296.9\n",
       "18   6066.7  2112.3\n",
       "19  10000.0  3511.7\n",
       "20   4333.3  3040.5\n",
       "21   1693.3  2390.3\n",
       "22   2535.3   842.8\n",
       "23  11122.2  2061.1\n",
       "24   4188.0  3718.1\n",
       "25   5236.0  2982.8\n",
       "26   4433.3  1854.0\n",
       "27   2791.5  2571.7\n",
       "28    606.7  1368.0\n",
       "29   2226.5  2586.2"
      ]
     },
     "execution_count": 127,
     "metadata": {},
     "output_type": "execute_result"
    }
   ],
   "source": [
    "inverse_transformed_pred = pd.Series(np.round(inverse_transformed_pred,1), name='예측값')\n",
    "inverse_transformed_y_test= pd.Series(np.round(inverse_transformed_y_test,1), name='생산량')\n",
    "result = pd.concat([inverse_transformed_y_test, inverse_transformed_pred], axis=1)\n",
    "result[:30]"
   ]
  },
  {
   "cell_type": "markdown",
   "id": "0ba2d5db",
   "metadata": {},
   "source": [
    "# Prediction"
   ]
  },
  {
   "cell_type": "code",
   "execution_count": 129,
   "id": "e5fe5207",
   "metadata": {},
   "outputs": [],
   "source": [
    "def prediction(file_path):\n",
    "    use_cols = ['fno',\n",
    "                'age1',\n",
    "                'land', \n",
    "                'labch_1', 'labh_hour_1', 'lab_cost',\n",
    "                'fmtc_1', 'lansh_1',\n",
    "                'size', 'ara', 'de2']\n",
    "    \n",
    "    data = pd.read_csv(file_path).loc[:,use_cols]\n",
    "    \n",
    "    # log transform\n",
    "    data.loc[:, ['fmtc_1', 'lansh_1']] = np.log1p(data.loc[:, ['fmtc_1', 'lansh_1']])\n",
    "    data.loc[:, ['labch_1', 'labh_hour_1', 'lab_cost']] = np.log1p(data.loc[:, ['labch_1', 'labh_hour_1', 'lab_cost']])\n",
    "    \n",
    "    # data imputation\n",
    "    data.replace({'labch_1' : {0 : np.nan},\n",
    "              'labh_hour_1' : {0 : np.nan},\n",
    "              'lab_cost' : {0 : np.nan},\n",
    "              'lansh_1' : {0 : np.nan},},\n",
    "              inplace=True)\n",
    "    if data.isnull().sum().sum() > 0:\n",
    "        print(data.isnull().sum())\n",
    "        data.fillna(data.mean(), inplace=True)\n",
    "        \n",
    "    # enconding\n",
    "    onehot = onehot_encoder.transform(data.loc[:, categorical_variables])\n",
    "    X_scaled = X_minmax_scaler.transform(data.loc[:, numerical_variables])\n",
    "    numeric_data_df = pd.DataFrame(X_scaled, columns=numerical_variables)\n",
    "    onehot_data_df = pd.DataFrame(onehot.toarray())\n",
    "\n",
    "    X_data_df = pd.concat([numeric_data_df , onehot_data_df], axis=1)\n",
    "    X_test = np.array(X_data_df)\n",
    "    \n",
    "    # predict and inverse transform\n",
    "    preds = ensemble.predict(X_test)\n",
    "    inverse_transformed_pred = np.expm1(preds)\n",
    "    inverse_transformed_pred = np.where(inverse_transformed_pred < 0, 0, inverse_transformed_pred)\n",
    "    \n",
    "    \n",
    "    result = pd.DataFrame({'prediction' : inverse_transformed_pred}, index=data.fno)\n",
    "    \n",
    "    return result"
   ]
  },
  {
   "cell_type": "code",
   "execution_count": 130,
   "id": "77a47b5e",
   "metadata": {},
   "outputs": [
    {
     "data": {
      "text/html": [
       "<div>\n",
       "<style scoped>\n",
       "    .dataframe tbody tr th:only-of-type {\n",
       "        vertical-align: middle;\n",
       "    }\n",
       "\n",
       "    .dataframe tbody tr th {\n",
       "        vertical-align: top;\n",
       "    }\n",
       "\n",
       "    .dataframe thead th {\n",
       "        text-align: right;\n",
       "    }\n",
       "</style>\n",
       "<table border=\"1\" class=\"dataframe\">\n",
       "  <thead>\n",
       "    <tr style=\"text-align: right;\">\n",
       "      <th></th>\n",
       "      <th>prediction</th>\n",
       "    </tr>\n",
       "    <tr>\n",
       "      <th>fno</th>\n",
       "      <th></th>\n",
       "    </tr>\n",
       "  </thead>\n",
       "  <tbody>\n",
       "    <tr>\n",
       "      <th>14008</th>\n",
       "      <td>1707.551254</td>\n",
       "    </tr>\n",
       "    <tr>\n",
       "      <th>18030</th>\n",
       "      <td>1297.081329</td>\n",
       "    </tr>\n",
       "    <tr>\n",
       "      <th>19001</th>\n",
       "      <td>5493.440766</td>\n",
       "    </tr>\n",
       "    <tr>\n",
       "      <th>19002</th>\n",
       "      <td>2742.890498</td>\n",
       "    </tr>\n",
       "    <tr>\n",
       "      <th>19004</th>\n",
       "      <td>3015.607157</td>\n",
       "    </tr>\n",
       "    <tr>\n",
       "      <th>19008</th>\n",
       "      <td>3351.435158</td>\n",
       "    </tr>\n",
       "    <tr>\n",
       "      <th>21029</th>\n",
       "      <td>2235.453702</td>\n",
       "    </tr>\n",
       "    <tr>\n",
       "      <th>21155</th>\n",
       "      <td>2539.233429</td>\n",
       "    </tr>\n",
       "    <tr>\n",
       "      <th>21161</th>\n",
       "      <td>2717.172227</td>\n",
       "    </tr>\n",
       "    <tr>\n",
       "      <th>21166</th>\n",
       "      <td>2424.482173</td>\n",
       "    </tr>\n",
       "    <tr>\n",
       "      <th>24098</th>\n",
       "      <td>935.229991</td>\n",
       "    </tr>\n",
       "    <tr>\n",
       "      <th>24317</th>\n",
       "      <td>1109.886933</td>\n",
       "    </tr>\n",
       "    <tr>\n",
       "      <th>24328</th>\n",
       "      <td>1181.479265</td>\n",
       "    </tr>\n",
       "    <tr>\n",
       "      <th>24329</th>\n",
       "      <td>2381.552920</td>\n",
       "    </tr>\n",
       "    <tr>\n",
       "      <th>24330</th>\n",
       "      <td>1091.913289</td>\n",
       "    </tr>\n",
       "    <tr>\n",
       "      <th>24334</th>\n",
       "      <td>946.291133</td>\n",
       "    </tr>\n",
       "    <tr>\n",
       "      <th>24335</th>\n",
       "      <td>1112.690105</td>\n",
       "    </tr>\n",
       "    <tr>\n",
       "      <th>26092</th>\n",
       "      <td>1196.523801</td>\n",
       "    </tr>\n",
       "    <tr>\n",
       "      <th>26096</th>\n",
       "      <td>1979.207390</td>\n",
       "    </tr>\n",
       "    <tr>\n",
       "      <th>28099</th>\n",
       "      <td>1622.802225</td>\n",
       "    </tr>\n",
       "    <tr>\n",
       "      <th>29007</th>\n",
       "      <td>3217.422388</td>\n",
       "    </tr>\n",
       "    <tr>\n",
       "      <th>29010</th>\n",
       "      <td>2927.892695</td>\n",
       "    </tr>\n",
       "    <tr>\n",
       "      <th>29012</th>\n",
       "      <td>1494.532723</td>\n",
       "    </tr>\n",
       "    <tr>\n",
       "      <th>29014</th>\n",
       "      <td>816.378475</td>\n",
       "    </tr>\n",
       "    <tr>\n",
       "      <th>29015</th>\n",
       "      <td>2647.873449</td>\n",
       "    </tr>\n",
       "    <tr>\n",
       "      <th>29018</th>\n",
       "      <td>2081.569604</td>\n",
       "    </tr>\n",
       "    <tr>\n",
       "      <th>29022</th>\n",
       "      <td>2428.594315</td>\n",
       "    </tr>\n",
       "    <tr>\n",
       "      <th>29026</th>\n",
       "      <td>2755.284851</td>\n",
       "    </tr>\n",
       "    <tr>\n",
       "      <th>29027</th>\n",
       "      <td>2218.334145</td>\n",
       "    </tr>\n",
       "    <tr>\n",
       "      <th>29031</th>\n",
       "      <td>2626.217586</td>\n",
       "    </tr>\n",
       "    <tr>\n",
       "      <th>29041</th>\n",
       "      <td>1880.420612</td>\n",
       "    </tr>\n",
       "    <tr>\n",
       "      <th>29046</th>\n",
       "      <td>925.951878</td>\n",
       "    </tr>\n",
       "    <tr>\n",
       "      <th>29048</th>\n",
       "      <td>1264.125836</td>\n",
       "    </tr>\n",
       "    <tr>\n",
       "      <th>29187</th>\n",
       "      <td>1859.403052</td>\n",
       "    </tr>\n",
       "  </tbody>\n",
       "</table>\n",
       "</div>"
      ],
      "text/plain": [
       "        prediction\n",
       "fno               \n",
       "14008  1707.551254\n",
       "18030  1297.081329\n",
       "19001  5493.440766\n",
       "19002  2742.890498\n",
       "19004  3015.607157\n",
       "19008  3351.435158\n",
       "21029  2235.453702\n",
       "21155  2539.233429\n",
       "21161  2717.172227\n",
       "21166  2424.482173\n",
       "24098   935.229991\n",
       "24317  1109.886933\n",
       "24328  1181.479265\n",
       "24329  2381.552920\n",
       "24330  1091.913289\n",
       "24334   946.291133\n",
       "24335  1112.690105\n",
       "26092  1196.523801\n",
       "26096  1979.207390\n",
       "28099  1622.802225\n",
       "29007  3217.422388\n",
       "29010  2927.892695\n",
       "29012  1494.532723\n",
       "29014   816.378475\n",
       "29015  2647.873449\n",
       "29018  2081.569604\n",
       "29022  2428.594315\n",
       "29026  2755.284851\n",
       "29027  2218.334145\n",
       "29031  2626.217586\n",
       "29041  1880.420612\n",
       "29046   925.951878\n",
       "29048  1264.125836\n",
       "29187  1859.403052"
      ]
     },
     "execution_count": 130,
     "metadata": {},
     "output_type": "execute_result"
    }
   ],
   "source": [
    "file_path = './(수정)임산물생산비 마이크로데이터(2020)/(수정)2020년_임산물생산비조사_6.더덕2년1기작.csv'\n",
    "prediction = prediction(file_path)\n",
    "prediction"
   ]
  },
  {
   "cell_type": "code",
   "execution_count": 131,
   "id": "3771ff1b",
   "metadata": {},
   "outputs": [],
   "source": [
    "prediction.to_csv('prediction/2020년_임산물생산비조사_6.더덕2년1기작_예측값.csv')"
   ]
  },
  {
   "cell_type": "code",
   "execution_count": null,
   "id": "2d844882",
   "metadata": {},
   "outputs": [],
   "source": []
  }
 ],
 "metadata": {
  "kernelspec": {
   "display_name": "Python 3",
   "language": "python",
   "name": "python3"
  },
  "language_info": {
   "codemirror_mode": {
    "name": "ipython",
    "version": 3
   },
   "file_extension": ".py",
   "mimetype": "text/x-python",
   "name": "python",
   "nbconvert_exporter": "python",
   "pygments_lexer": "ipython3",
   "version": "3.8.8"
  }
 },
 "nbformat": 4,
 "nbformat_minor": 5
}
