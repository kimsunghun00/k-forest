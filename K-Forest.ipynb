{
 "cells": [
  {
   "cell_type": "markdown",
   "metadata": {},
   "source": [
    "## Load Data"
   ]
  },
  {
   "cell_type": "code",
   "execution_count": 1,
   "metadata": {},
   "outputs": [
    {
     "data": {
      "text/html": [
       "<div>\n",
       "<style scoped>\n",
       "    .dataframe tbody tr th:only-of-type {\n",
       "        vertical-align: middle;\n",
       "    }\n",
       "\n",
       "    .dataframe tbody tr th {\n",
       "        vertical-align: top;\n",
       "    }\n",
       "\n",
       "    .dataframe thead th {\n",
       "        text-align: right;\n",
       "    }\n",
       "</style>\n",
       "<table border=\"1\" class=\"dataframe\">\n",
       "  <thead>\n",
       "    <tr style=\"text-align: right;\">\n",
       "      <th></th>\n",
       "      <th>시도/청</th>\n",
       "      <th>시군구/관리소</th>\n",
       "      <th>임가번호</th>\n",
       "      <th>구분(재배/채취)</th>\n",
       "      <th>구분(재배/채취).1</th>\n",
       "      <th>구분(재배/채취).2</th>\n",
       "      <th>Unnamed: 6</th>\n",
       "      <th>구분(재배/채취).3</th>\n",
       "      <th>품목</th>\n",
       "      <th>품목.1</th>\n",
       "      <th>품목.2</th>\n",
       "      <th>품목.3</th>\n",
       "      <th>최종값</th>\n",
       "      <th>Unnamed: 13</th>\n",
       "      <th>Unnamed: 14</th>\n",
       "      <th>비고</th>\n",
       "      <th>점검사항</th>\n",
       "      <th>등록자</th>\n",
       "      <th>최초등록일</th>\n",
       "      <th>최종수정일</th>\n",
       "    </tr>\n",
       "  </thead>\n",
       "  <tbody>\n",
       "    <tr>\n",
       "      <th>0</th>\n",
       "      <td>NaN</td>\n",
       "      <td>NaN</td>\n",
       "      <td>NaN</td>\n",
       "      <td>재배채취</td>\n",
       "      <td>재배기준</td>\n",
       "      <td>재배면적</td>\n",
       "      <td>환산면적</td>\n",
       "      <td>재배단위</td>\n",
       "      <td>대분류</td>\n",
       "      <td>중분류</td>\n",
       "      <td>소분류</td>\n",
       "      <td>품목단위</td>\n",
       "      <td>생산량</td>\n",
       "      <td>단가</td>\n",
       "      <td>생산액</td>\n",
       "      <td>NaN</td>\n",
       "      <td>NaN</td>\n",
       "      <td>NaN</td>\n",
       "      <td>NaN</td>\n",
       "      <td>NaN</td>\n",
       "    </tr>\n",
       "    <tr>\n",
       "      <th>1</th>\n",
       "      <td>서울특별시</td>\n",
       "      <td>종로구</td>\n",
       "      <td>341235.0</td>\n",
       "      <td>채취</td>\n",
       "      <td>NaN</td>\n",
       "      <td>0</td>\n",
       "      <td>0</td>\n",
       "      <td>㎡</td>\n",
       "      <td>수실</td>\n",
       "      <td>재배수실</td>\n",
       "      <td>은행</td>\n",
       "      <td>kg</td>\n",
       "      <td>36920</td>\n",
       "      <td>3000</td>\n",
       "      <td>110760000</td>\n",
       "      <td>3영급 (20년생 이상)의 나무</td>\n",
       "      <td>NaN</td>\n",
       "      <td>A1001P101</td>\n",
       "      <td>2018-04-24</td>\n",
       "      <td>2018-04-24</td>\n",
       "    </tr>\n",
       "    <tr>\n",
       "      <th>2</th>\n",
       "      <td>서울특별시</td>\n",
       "      <td>중구</td>\n",
       "      <td>341243.0</td>\n",
       "      <td>채취</td>\n",
       "      <td>NaN</td>\n",
       "      <td>0</td>\n",
       "      <td>0</td>\n",
       "      <td>㎡</td>\n",
       "      <td>수실</td>\n",
       "      <td>재배수실</td>\n",
       "      <td>은행</td>\n",
       "      <td>kg</td>\n",
       "      <td>22720</td>\n",
       "      <td>3000</td>\n",
       "      <td>68160000</td>\n",
       "      <td>3영급 (20년생 이상)의 나무</td>\n",
       "      <td>NaN</td>\n",
       "      <td>A1001P101</td>\n",
       "      <td>2018-04-24</td>\n",
       "      <td>2018-04-24</td>\n",
       "    </tr>\n",
       "  </tbody>\n",
       "</table>\n",
       "</div>"
      ],
      "text/plain": [
       "    시도/청 시군구/관리소      임가번호 구분(재배/채취) 구분(재배/채취).1 구분(재배/채취).2 Unnamed: 6  \\\n",
       "0    NaN     NaN       NaN      재배채취        재배기준        재배면적       환산면적   \n",
       "1  서울특별시     종로구  341235.0        채취         NaN           0          0   \n",
       "2  서울특별시      중구  341243.0        채취         NaN           0          0   \n",
       "\n",
       "  구분(재배/채취).3   품목  품목.1 품목.2  품목.3    최종값 Unnamed: 13 Unnamed: 14  \\\n",
       "0        재배단위  대분류   중분류  소분류  품목단위    생산량          단가         생산액   \n",
       "1           ㎡   수실  재배수실   은행    kg  36920        3000   110760000   \n",
       "2           ㎡   수실  재배수실   은행    kg  22720        3000    68160000   \n",
       "\n",
       "                  비고  점검사항        등록자       최초등록일       최종수정일  \n",
       "0                NaN   NaN        NaN         NaN         NaN  \n",
       "1  3영급 (20년생 이상)의 나무   NaN  A1001P101  2018-04-24  2018-04-24  \n",
       "2  3영급 (20년생 이상)의 나무   NaN  A1001P101  2018-04-24  2018-04-24  "
      ]
     },
     "execution_count": 1,
     "metadata": {},
     "output_type": "execute_result"
    }
   ],
   "source": [
    "import pandas as pd\n",
    "import numpy as np\n",
    "\n",
    "original_data = pd.read_excel('2017임산물생산조사.xlsx')\n",
    "original_data.head(3)"
   ]
  },
  {
   "cell_type": "code",
   "execution_count": 2,
   "metadata": {},
   "outputs": [
    {
     "data": {
      "text/html": [
       "<div>\n",
       "<style scoped>\n",
       "    .dataframe tbody tr th:only-of-type {\n",
       "        vertical-align: middle;\n",
       "    }\n",
       "\n",
       "    .dataframe tbody tr th {\n",
       "        vertical-align: top;\n",
       "    }\n",
       "\n",
       "    .dataframe thead th {\n",
       "        text-align: right;\n",
       "    }\n",
       "</style>\n",
       "<table border=\"1\" class=\"dataframe\">\n",
       "  <thead>\n",
       "    <tr style=\"text-align: right;\">\n",
       "      <th></th>\n",
       "      <th>시도/청</th>\n",
       "      <th>시군구/관리소</th>\n",
       "      <th>재배채취</th>\n",
       "      <th>재배기준</th>\n",
       "      <th>환산면적</th>\n",
       "      <th>품목 대분류</th>\n",
       "      <th>품목 중분류</th>\n",
       "      <th>품목 소분류</th>\n",
       "      <th>생산량</th>\n",
       "    </tr>\n",
       "  </thead>\n",
       "  <tbody>\n",
       "    <tr>\n",
       "      <th>1</th>\n",
       "      <td>서울특별시</td>\n",
       "      <td>종로구</td>\n",
       "      <td>채취</td>\n",
       "      <td>NaN</td>\n",
       "      <td>0</td>\n",
       "      <td>수실</td>\n",
       "      <td>재배수실</td>\n",
       "      <td>은행</td>\n",
       "      <td>36920</td>\n",
       "    </tr>\n",
       "    <tr>\n",
       "      <th>2</th>\n",
       "      <td>서울특별시</td>\n",
       "      <td>중구</td>\n",
       "      <td>채취</td>\n",
       "      <td>NaN</td>\n",
       "      <td>0</td>\n",
       "      <td>수실</td>\n",
       "      <td>재배수실</td>\n",
       "      <td>은행</td>\n",
       "      <td>22720</td>\n",
       "    </tr>\n",
       "    <tr>\n",
       "      <th>3</th>\n",
       "      <td>서울특별시</td>\n",
       "      <td>용산구</td>\n",
       "      <td>채취</td>\n",
       "      <td>NaN</td>\n",
       "      <td>0</td>\n",
       "      <td>수실</td>\n",
       "      <td>재배수실</td>\n",
       "      <td>은행</td>\n",
       "      <td>41440</td>\n",
       "    </tr>\n",
       "    <tr>\n",
       "      <th>4</th>\n",
       "      <td>서울특별시</td>\n",
       "      <td>성동구</td>\n",
       "      <td>채취</td>\n",
       "      <td>NaN</td>\n",
       "      <td>0</td>\n",
       "      <td>수실</td>\n",
       "      <td>재배수실</td>\n",
       "      <td>은행</td>\n",
       "      <td>9960</td>\n",
       "    </tr>\n",
       "    <tr>\n",
       "      <th>5</th>\n",
       "      <td>서울특별시</td>\n",
       "      <td>광진구</td>\n",
       "      <td>채취</td>\n",
       "      <td>NaN</td>\n",
       "      <td>0</td>\n",
       "      <td>수실</td>\n",
       "      <td>재배수실</td>\n",
       "      <td>은행</td>\n",
       "      <td>12800</td>\n",
       "    </tr>\n",
       "    <tr>\n",
       "      <th>...</th>\n",
       "      <td>...</td>\n",
       "      <td>...</td>\n",
       "      <td>...</td>\n",
       "      <td>...</td>\n",
       "      <td>...</td>\n",
       "      <td>...</td>\n",
       "      <td>...</td>\n",
       "      <td>...</td>\n",
       "      <td>...</td>\n",
       "    </tr>\n",
       "    <tr>\n",
       "      <th>106875</th>\n",
       "      <td>경상북도</td>\n",
       "      <td>울릉군</td>\n",
       "      <td>채취</td>\n",
       "      <td>NaN</td>\n",
       "      <td>0</td>\n",
       "      <td>수액</td>\n",
       "      <td>수액</td>\n",
       "      <td>고로쇠</td>\n",
       "      <td>3600</td>\n",
       "    </tr>\n",
       "    <tr>\n",
       "      <th>106876</th>\n",
       "      <td>경상북도</td>\n",
       "      <td>울릉군</td>\n",
       "      <td>채취</td>\n",
       "      <td>NaN</td>\n",
       "      <td>0</td>\n",
       "      <td>수액</td>\n",
       "      <td>수액</td>\n",
       "      <td>고로쇠</td>\n",
       "      <td>10800</td>\n",
       "    </tr>\n",
       "    <tr>\n",
       "      <th>106877</th>\n",
       "      <td>경상북도</td>\n",
       "      <td>울릉군</td>\n",
       "      <td>채취</td>\n",
       "      <td>NaN</td>\n",
       "      <td>0</td>\n",
       "      <td>수액</td>\n",
       "      <td>수액</td>\n",
       "      <td>고로쇠</td>\n",
       "      <td>18000</td>\n",
       "    </tr>\n",
       "    <tr>\n",
       "      <th>106878</th>\n",
       "      <td>경상북도</td>\n",
       "      <td>울릉군</td>\n",
       "      <td>채취</td>\n",
       "      <td>NaN</td>\n",
       "      <td>0</td>\n",
       "      <td>수액</td>\n",
       "      <td>수액</td>\n",
       "      <td>고로쇠</td>\n",
       "      <td>1800</td>\n",
       "    </tr>\n",
       "    <tr>\n",
       "      <th>106879</th>\n",
       "      <td>경상북도</td>\n",
       "      <td>울릉군</td>\n",
       "      <td>채취</td>\n",
       "      <td>NaN</td>\n",
       "      <td>0</td>\n",
       "      <td>수액</td>\n",
       "      <td>수액</td>\n",
       "      <td>고로쇠</td>\n",
       "      <td>3240</td>\n",
       "    </tr>\n",
       "  </tbody>\n",
       "</table>\n",
       "<p>106879 rows × 9 columns</p>\n",
       "</div>"
      ],
      "text/plain": [
       "         시도/청 시군구/관리소 재배채취 재배기준 환산면적 품목 대분류 품목 중분류 품목 소분류    생산량\n",
       "1       서울특별시     종로구   채취  NaN    0     수실   재배수실     은행  36920\n",
       "2       서울특별시      중구   채취  NaN    0     수실   재배수실     은행  22720\n",
       "3       서울특별시     용산구   채취  NaN    0     수실   재배수실     은행  41440\n",
       "4       서울특별시     성동구   채취  NaN    0     수실   재배수실     은행   9960\n",
       "5       서울특별시     광진구   채취  NaN    0     수실   재배수실     은행  12800\n",
       "...       ...     ...  ...  ...  ...    ...    ...    ...    ...\n",
       "106875   경상북도     울릉군   채취  NaN    0     수액     수액    고로쇠   3600\n",
       "106876   경상북도     울릉군   채취  NaN    0     수액     수액    고로쇠  10800\n",
       "106877   경상북도     울릉군   채취  NaN    0     수액     수액    고로쇠  18000\n",
       "106878   경상북도     울릉군   채취  NaN    0     수액     수액    고로쇠   1800\n",
       "106879   경상북도     울릉군   채취  NaN    0     수액     수액    고로쇠   3240\n",
       "\n",
       "[106879 rows x 9 columns]"
      ]
     },
     "execution_count": 2,
     "metadata": {},
     "output_type": "execute_result"
    }
   ],
   "source": [
    "data = original_data.iloc[1:, [0, 1, 3, 4, 6, 8, 9, 10, 12]]\n",
    "data.rename(columns={'구분(재배/채취)' : '재배채취',\n",
    "                     '구분(재배/채취).1' : '재배기준',\n",
    "                     'Unnamed: 6' : '환산면적',\n",
    "                     '품목' : '품목 대분류',\n",
    "                     '품목.1' : '품목 중분류',\n",
    "                     '품목.2' : '품목 소분류',\n",
    "                     '최종값' : '생산량'},\n",
    "            inplace = True)\n",
    "data"
   ]
  },
  {
   "cell_type": "markdown",
   "metadata": {},
   "source": [
    "### Cheack NaNs"
   ]
  },
  {
   "cell_type": "code",
   "execution_count": 3,
   "metadata": {
    "scrolled": true
   },
   "outputs": [
    {
     "data": {
      "text/plain": [
       "시도/청           0\n",
       "시군구/관리소        0\n",
       "재배채취         977\n",
       "재배기준       18752\n",
       "환산면적           0\n",
       "품목 대분류         0\n",
       "품목 중분류         0\n",
       "품목 소분류         0\n",
       "생산량            0\n",
       "dtype: int64"
      ]
     },
     "execution_count": 3,
     "metadata": {},
     "output_type": "execute_result"
    }
   ],
   "source": [
    "data.isnull().sum()"
   ]
  },
  {
   "cell_type": "code",
   "execution_count": 4,
   "metadata": {},
   "outputs": [
    {
     "data": {
      "text/plain": [
       "시도/청       0\n",
       "시군구/관리소    0\n",
       "재배채취       0\n",
       "재배기준       0\n",
       "환산면적       0\n",
       "품목 대분류     0\n",
       "품목 중분류     0\n",
       "품목 소분류     0\n",
       "생산량        0\n",
       "dtype: int64"
      ]
     },
     "execution_count": 4,
     "metadata": {},
     "output_type": "execute_result"
    }
   ],
   "source": [
    "# drop nan's\n",
    "data.dropna(axis=0, inplace = True)\n",
    "data.isnull().sum()"
   ]
  },
  {
   "cell_type": "markdown",
   "metadata": {},
   "source": [
    "# variable preprocessing and Visualization\n",
    "### 시도/청"
   ]
  },
  {
   "cell_type": "code",
   "execution_count": 5,
   "metadata": {},
   "outputs": [
    {
     "data": {
      "text/plain": [
       "전라남도       17642\n",
       "경상북도       14728\n",
       "경상남도       14464\n",
       "전라북도       13046\n",
       "강원도        12382\n",
       "충청남도        8081\n",
       "충청북도        3149\n",
       "경기도         2361\n",
       "세종특별자치시      379\n",
       "남부지방산림청      330\n",
       "서부지방산림청      277\n",
       "대구광역시        216\n",
       "울산광역시        206\n",
       "동부지방산림청      187\n",
       "대전광역시        152\n",
       "북부지방산림청      123\n",
       "광주광역시        122\n",
       "제주특별자치도       98\n",
       "부산광역시         69\n",
       "인천광역시         64\n",
       "중부지방산림청       43\n",
       "서울특별시          7\n",
       "국립산림과학원        1\n",
       "Name: 시도/청, dtype: int64"
      ]
     },
     "execution_count": 5,
     "metadata": {},
     "output_type": "execute_result"
    }
   ],
   "source": [
    "data['시도/청'].value_counts()"
   ]
  },
  {
   "cell_type": "code",
   "execution_count": 6,
   "metadata": {},
   "outputs": [
    {
     "data": {
      "text/plain": [
       "전라남도       17642\n",
       "경상북도       15058\n",
       "경상남도       14464\n",
       "전라북도       13323\n",
       "강원도        12692\n",
       "충청남도        8124\n",
       "충청북도        3149\n",
       "경기도         2361\n",
       "세종특별자치시      379\n",
       "대구광역시        216\n",
       "울산광역시        206\n",
       "대전광역시        152\n",
       "광주광역시        122\n",
       "제주특별자치도       98\n",
       "부산광역시         69\n",
       "인천광역시         64\n",
       "서울특별시          8\n",
       "Name: 시도/청, dtype: int64"
      ]
     },
     "execution_count": 6,
     "metadata": {},
     "output_type": "execute_result"
    }
   ],
   "source": [
    "data.replace({'시도/청': {'국립산림과학원' : '서울특별시',\n",
    "                        '서부지방산림청' : '전라북도',\n",
    "                        '남부지방산림청' : '경상북도',\n",
    "                        '동부지방산림청' : '강원도',\n",
    "                        '북부지방산림청' : '강원도',\n",
    "                        '중부지방산림청' : '충청남도',\n",
    "                        '국립산림품종관리센터' : '충청북도',\n",
    "                        '국립수목원' : '경기도'}},\n",
    "             inplace=True)\n",
    "data['시도/청'].value_counts()"
   ]
  },
  {
   "cell_type": "code",
   "execution_count": 7,
   "metadata": {},
   "outputs": [
    {
     "data": {
      "image/png": "[encoded data removed]",
      "text/plain": [
       "<Figure size 2160x1080 with 1 Axes>"
      ]
     },
     "metadata": {
      "needs_background": "light"
     },
     "output_type": "display_data"
    }
   ],
   "source": [
    "import matplotlib.pyplot as plt\n",
    "import seaborn as sns\n",
    "plt.rcParams['font.family'] = 'AppleGothic'\n",
    "plt.rcParams[\"axes.labelsize\"] = 15\n",
    "\n",
    "ax = plt.figure(figsize=(30,15))\n",
    "sns.countplot(x=\"시도/청\", data=data)\n",
    "plt.title('전국 분포', fontsize=30)\n",
    "plt.show()"
   ]
  },
  {
   "cell_type": "markdown",
   "metadata": {},
   "source": [
    "### 재배채취"
   ]
  },
  {
   "cell_type": "code",
   "execution_count": 8,
   "metadata": {},
   "outputs": [
    {
     "data": {
      "image/png": "[encoded data removed]",
      "text/plain": [
       "<Figure size 720x576 with 1 Axes>"
      ]
     },
     "metadata": {
      "needs_background": "light"
     },
     "output_type": "display_data"
    }
   ],
   "source": [
    "ax = plt.figure(figsize=(10,8))\n",
    "sns.countplot(x=\"재배채취\", data=data)\n",
    "plt.show()"
   ]
  },
  {
   "cell_type": "code",
   "execution_count": 9,
   "metadata": {},
   "outputs": [
    {
     "data": {
      "image/png": "[encoded data removed]",
      "text/plain": [
       "<Figure size 720x576 with 1 Axes>"
      ]
     },
     "metadata": {
      "needs_background": "light"
     },
     "output_type": "display_data"
    }
   ],
   "source": [
    "ax = plt.figure(figsize=(10,8))\n",
    "sns.countplot(x=\"재배기준\", data=data)\n",
    "plt.show()"
   ]
  },
  {
   "cell_type": "markdown",
   "metadata": {},
   "source": [
    "### 환산면적"
   ]
  },
  {
   "cell_type": "code",
   "execution_count": 10,
   "metadata": {},
   "outputs": [],
   "source": [
    "data.replace({'환산면적': {0 : np.NaN}},\n",
    "             inplace=True)\n",
    "data.dropna(axis=0, inplace=True)"
   ]
  },
  {
   "cell_type": "code",
   "execution_count": 11,
   "metadata": {},
   "outputs": [
    {
     "data": {
      "image/png": "[encoded data removed]",
      "text/plain": [
       "<Figure size 432x288 with 1 Axes>"
      ]
     },
     "metadata": {
      "needs_background": "light"
     },
     "output_type": "display_data"
    },
    {
     "data": {
      "image/png": "[encoded data removed]",
      "text/plain": [
       "<Figure size 432x288 with 1 Axes>"
      ]
     },
     "metadata": {
      "needs_background": "light"
     },
     "output_type": "display_data"
    }
   ],
   "source": [
    "data['환산면적'].hist(bins=30)\n",
    "plt.title('환산면적 히스토그램')\n",
    "plt.show()\n",
    "\n",
    "pd.Series(np.log(data['환산면적'].astype(float))).hist(bins=30)\n",
    "plt.title('log(환산면적) 히스토그램')\n",
    "plt.show()"
   ]
  },
  {
   "cell_type": "code",
   "execution_count": 12,
   "metadata": {},
   "outputs": [
    {
     "data": {
      "text/html": [
       "<div>\n",
       "<style scoped>\n",
       "    .dataframe tbody tr th:only-of-type {\n",
       "        vertical-align: middle;\n",
       "    }\n",
       "\n",
       "    .dataframe tbody tr th {\n",
       "        vertical-align: top;\n",
       "    }\n",
       "\n",
       "    .dataframe thead th {\n",
       "        text-align: right;\n",
       "    }\n",
       "</style>\n",
       "<table border=\"1\" class=\"dataframe\">\n",
       "  <thead>\n",
       "    <tr style=\"text-align: right;\">\n",
       "      <th></th>\n",
       "      <th>시도/청</th>\n",
       "      <th>시군구/관리소</th>\n",
       "      <th>재배채취</th>\n",
       "      <th>재배기준</th>\n",
       "      <th>환산면적</th>\n",
       "      <th>품목 대분류</th>\n",
       "      <th>품목 중분류</th>\n",
       "      <th>품목 소분류</th>\n",
       "      <th>생산량</th>\n",
       "    </tr>\n",
       "  </thead>\n",
       "  <tbody>\n",
       "    <tr>\n",
       "      <th>19</th>\n",
       "      <td>서울특별시</td>\n",
       "      <td>강서구</td>\n",
       "      <td>재배</td>\n",
       "      <td>노지</td>\n",
       "      <td>8.285751</td>\n",
       "      <td>조경재</td>\n",
       "      <td>조경수</td>\n",
       "      <td>기타관목류</td>\n",
       "      <td>20000</td>\n",
       "    </tr>\n",
       "    <tr>\n",
       "      <th>26</th>\n",
       "      <td>서울특별시</td>\n",
       "      <td>서초구</td>\n",
       "      <td>재배</td>\n",
       "      <td>시설</td>\n",
       "      <td>6.899456</td>\n",
       "      <td>조경재</td>\n",
       "      <td>야생화</td>\n",
       "      <td>야생화</td>\n",
       "      <td>4000</td>\n",
       "    </tr>\n",
       "    <tr>\n",
       "      <th>27</th>\n",
       "      <td>서울특별시</td>\n",
       "      <td>서초구</td>\n",
       "      <td>재배</td>\n",
       "      <td>시설</td>\n",
       "      <td>6.899456</td>\n",
       "      <td>조경재</td>\n",
       "      <td>야생화</td>\n",
       "      <td>야생화</td>\n",
       "      <td>1000</td>\n",
       "    </tr>\n",
       "    <tr>\n",
       "      <th>28</th>\n",
       "      <td>서울특별시</td>\n",
       "      <td>서초구</td>\n",
       "      <td>재배</td>\n",
       "      <td>노지</td>\n",
       "      <td>7.410282</td>\n",
       "      <td>조경재</td>\n",
       "      <td>조경수</td>\n",
       "      <td>기타관목류</td>\n",
       "      <td>15000</td>\n",
       "    </tr>\n",
       "    <tr>\n",
       "      <th>31</th>\n",
       "      <td>서울특별시</td>\n",
       "      <td>강동구</td>\n",
       "      <td>재배</td>\n",
       "      <td>시설</td>\n",
       "      <td>8.103429</td>\n",
       "      <td>약용식물</td>\n",
       "      <td>약초</td>\n",
       "      <td>당귀</td>\n",
       "      <td>6000</td>\n",
       "    </tr>\n",
       "  </tbody>\n",
       "</table>\n",
       "</div>"
      ],
      "text/plain": [
       "     시도/청 시군구/관리소 재배채취 재배기준      환산면적 품목 대분류 품목 중분류 품목 소분류    생산량\n",
       "19  서울특별시     강서구   재배   노지  8.285751    조경재    조경수  기타관목류  20000\n",
       "26  서울특별시     서초구   재배   시설  6.899456    조경재    야생화    야생화   4000\n",
       "27  서울특별시     서초구   재배   시설  6.899456    조경재    야생화    야생화   1000\n",
       "28  서울특별시     서초구   재배   노지  7.410282    조경재    조경수  기타관목류  15000\n",
       "31  서울특별시     강동구   재배   시설  8.103429   약용식물     약초     당귀   6000"
      ]
     },
     "execution_count": 12,
     "metadata": {},
     "output_type": "execute_result"
    }
   ],
   "source": [
    "data['환산면적'] = np.log(data['환산면적'].astype(float))\n",
    "data.head()"
   ]
  },
  {
   "cell_type": "markdown",
   "metadata": {},
   "source": [
    "### 품목 대분류"
   ]
  },
  {
   "cell_type": "code",
   "execution_count": 13,
   "metadata": {},
   "outputs": [
    {
     "data": {
      "image/png": "[encoded data removed]",
      "text/plain": [
       "<Figure size 2160x1080 with 1 Axes>"
      ]
     },
     "metadata": {
      "needs_background": "light"
     },
     "output_type": "display_data"
    }
   ],
   "source": [
    "plt.rcParams[\"axes.labelsize\"] = 15\n",
    "\n",
    "ax = plt.figure(figsize=(30,15))\n",
    "sns.countplot(x=\"품목 대분류\", data=data)\n",
    "plt.show()"
   ]
  },
  {
   "cell_type": "markdown",
   "metadata": {},
   "source": [
    "### 품목 중분류"
   ]
  },
  {
   "cell_type": "code",
   "execution_count": 14,
   "metadata": {},
   "outputs": [
    {
     "data": {
      "image/png": "[encoded data removed]",
      "text/plain": [
       "<Figure size 2160x1080 with 1 Axes>"
      ]
     },
     "metadata": {
      "needs_background": "light"
     },
     "output_type": "display_data"
    }
   ],
   "source": [
    "plt.rcParams[\"axes.labelsize\"] = 15\n",
    "\n",
    "ax = plt.figure(figsize=(30,15))\n",
    "sns.countplot(x=\"품목 중분류\", data=data)\n",
    "plt.show()"
   ]
  },
  {
   "cell_type": "markdown",
   "metadata": {},
   "source": [
    "### 품목 소분류"
   ]
  },
  {
   "cell_type": "code",
   "execution_count": 15,
   "metadata": {},
   "outputs": [
    {
     "data": {
      "image/png": "[encoded data removed]",
      "text/plain": [
       "<Figure size 2160x1080 with 1 Axes>"
      ]
     },
     "metadata": {
      "needs_background": "light"
     },
     "output_type": "display_data"
    }
   ],
   "source": [
    "plt.rcParams[\"axes.labelsize\"] = 15\n",
    "\n",
    "ax = plt.figure(figsize=(30,15))\n",
    "sns.countplot(x=\"품목 소분류\", data=data)\n",
    "plt.show()"
   ]
  },
  {
   "cell_type": "markdown",
   "metadata": {},
   "source": [
    "### 생산량"
   ]
  },
  {
   "cell_type": "code",
   "execution_count": 16,
   "metadata": {},
   "outputs": [],
   "source": [
    "data.replace({'생산량': {0 : np.NaN}},\n",
    "             inplace=True)\n",
    "data.dropna(axis=0, inplace=True)"
   ]
  },
  {
   "cell_type": "code",
   "execution_count": 17,
   "metadata": {},
   "outputs": [
    {
     "data": {
      "image/png": "[encoded data removed]",
      "text/plain": [
       "<Figure size 432x288 with 1 Axes>"
      ]
     },
     "metadata": {
      "needs_background": "light"
     },
     "output_type": "display_data"
    },
    {
     "data": {
      "image/png": "[encoded data removed]",
      "text/plain": [
       "<Figure size 432x288 with 1 Axes>"
      ]
     },
     "metadata": {
      "needs_background": "light"
     },
     "output_type": "display_data"
    }
   ],
   "source": [
    "data['생산량'].hist(bins=30)\n",
    "plt.title('생산량 히스토그램')\n",
    "plt.show()\n",
    "\n",
    "pd.Series(np.log(data['생산량'].astype(float))).hist(bins=30)\n",
    "plt.title('log(생산량) 히스토그램')\n",
    "plt.show()"
   ]
  },
  {
   "cell_type": "code",
   "execution_count": 18,
   "metadata": {},
   "outputs": [
    {
     "data": {
      "text/html": [
       "<div>\n",
       "<style scoped>\n",
       "    .dataframe tbody tr th:only-of-type {\n",
       "        vertical-align: middle;\n",
       "    }\n",
       "\n",
       "    .dataframe tbody tr th {\n",
       "        vertical-align: top;\n",
       "    }\n",
       "\n",
       "    .dataframe thead th {\n",
       "        text-align: right;\n",
       "    }\n",
       "</style>\n",
       "<table border=\"1\" class=\"dataframe\">\n",
       "  <thead>\n",
       "    <tr style=\"text-align: right;\">\n",
       "      <th></th>\n",
       "      <th>시도/청</th>\n",
       "      <th>시군구/관리소</th>\n",
       "      <th>재배채취</th>\n",
       "      <th>재배기준</th>\n",
       "      <th>환산면적</th>\n",
       "      <th>품목 대분류</th>\n",
       "      <th>품목 중분류</th>\n",
       "      <th>품목 소분류</th>\n",
       "      <th>생산량</th>\n",
       "    </tr>\n",
       "  </thead>\n",
       "  <tbody>\n",
       "    <tr>\n",
       "      <th>19</th>\n",
       "      <td>서울특별시</td>\n",
       "      <td>강서구</td>\n",
       "      <td>재배</td>\n",
       "      <td>노지</td>\n",
       "      <td>8.285751</td>\n",
       "      <td>조경재</td>\n",
       "      <td>조경수</td>\n",
       "      <td>기타관목류</td>\n",
       "      <td>9.903488</td>\n",
       "    </tr>\n",
       "    <tr>\n",
       "      <th>26</th>\n",
       "      <td>서울특별시</td>\n",
       "      <td>서초구</td>\n",
       "      <td>재배</td>\n",
       "      <td>시설</td>\n",
       "      <td>6.899456</td>\n",
       "      <td>조경재</td>\n",
       "      <td>야생화</td>\n",
       "      <td>야생화</td>\n",
       "      <td>8.294050</td>\n",
       "    </tr>\n",
       "    <tr>\n",
       "      <th>27</th>\n",
       "      <td>서울특별시</td>\n",
       "      <td>서초구</td>\n",
       "      <td>재배</td>\n",
       "      <td>시설</td>\n",
       "      <td>6.899456</td>\n",
       "      <td>조경재</td>\n",
       "      <td>야생화</td>\n",
       "      <td>야생화</td>\n",
       "      <td>6.907755</td>\n",
       "    </tr>\n",
       "    <tr>\n",
       "      <th>28</th>\n",
       "      <td>서울특별시</td>\n",
       "      <td>서초구</td>\n",
       "      <td>재배</td>\n",
       "      <td>노지</td>\n",
       "      <td>7.410282</td>\n",
       "      <td>조경재</td>\n",
       "      <td>조경수</td>\n",
       "      <td>기타관목류</td>\n",
       "      <td>9.615805</td>\n",
       "    </tr>\n",
       "    <tr>\n",
       "      <th>31</th>\n",
       "      <td>서울특별시</td>\n",
       "      <td>강동구</td>\n",
       "      <td>재배</td>\n",
       "      <td>시설</td>\n",
       "      <td>8.103429</td>\n",
       "      <td>약용식물</td>\n",
       "      <td>약초</td>\n",
       "      <td>당귀</td>\n",
       "      <td>8.699515</td>\n",
       "    </tr>\n",
       "  </tbody>\n",
       "</table>\n",
       "</div>"
      ],
      "text/plain": [
       "     시도/청 시군구/관리소 재배채취 재배기준      환산면적 품목 대분류 품목 중분류 품목 소분류       생산량\n",
       "19  서울특별시     강서구   재배   노지  8.285751    조경재    조경수  기타관목류  9.903488\n",
       "26  서울특별시     서초구   재배   시설  6.899456    조경재    야생화    야생화  8.294050\n",
       "27  서울특별시     서초구   재배   시설  6.899456    조경재    야생화    야생화  6.907755\n",
       "28  서울특별시     서초구   재배   노지  7.410282    조경재    조경수  기타관목류  9.615805\n",
       "31  서울특별시     강동구   재배   시설  8.103429   약용식물     약초     당귀  8.699515"
      ]
     },
     "execution_count": 18,
     "metadata": {},
     "output_type": "execute_result"
    }
   ],
   "source": [
    "data['생산량'] = np.log(data['생산량'].astype(float))\n",
    "data.head()"
   ]
  },
  {
   "cell_type": "code",
   "execution_count": 19,
   "metadata": {},
   "outputs": [
    {
     "data": {
      "image/png": "[encoded data removed]",
      "text/plain": [
       "<Figure size 432x288 with 1 Axes>"
      ]
     },
     "metadata": {
      "needs_background": "light"
     },
     "output_type": "display_data"
    }
   ],
   "source": [
    "sns.regplot(x='환산면적', y='생산량', data=data, color='g')\n",
    "plt.show()"
   ]
  },
  {
   "cell_type": "markdown",
   "metadata": {},
   "source": [
    "## Numerical Variable processing"
   ]
  },
  {
   "cell_type": "code",
   "execution_count": 20,
   "metadata": {},
   "outputs": [
    {
     "data": {
      "text/plain": [
       "array([[0.38370847, 0.5928144 ],\n",
       "       [0.30868349, 0.4964748 ],\n",
       "       [0.30868349, 0.41349239],\n",
       "       ...,\n",
       "       [0.45604941, 0.54016966],\n",
       "       [0.75959607, 0.67777647],\n",
       "       [0.33107602, 0.42732655]])"
      ]
     },
     "execution_count": 20,
     "metadata": {},
     "output_type": "execute_result"
    }
   ],
   "source": [
    "from sklearn.preprocessing import MinMaxScaler\n",
    "\n",
    "minmax_scaler = MinMaxScaler()\n",
    "scaled = minmax_scaler.fit_transform(data.loc[:, ['환산면적', '생산량']])\n",
    "scaled"
   ]
  },
  {
   "cell_type": "markdown",
   "metadata": {},
   "source": [
    "## Categorival variable processing"
   ]
  },
  {
   "cell_type": "code",
   "execution_count": 21,
   "metadata": {},
   "outputs": [
    {
     "data": {
      "text/plain": [
       "[array(['가평군', '강동구', '강릉관리소', '강릉시', '강서구', '강진군', '강화군', '거제시', '거창군',\n",
       "        '경산시', '경주시', '계룡시', '계양구', '고령군', '고성군', '고양시', '고창군', '고흥군',\n",
       "        '곡성군', '공주시', '과천시', '광산구', '광양시', '광주시', '괴산군', '구례군', '구리시',\n",
       "        '구미관리소', '구미시', '국립산림과학원', '군산시', '군위군', '금산군', '금정구', '기장군',\n",
       "        '김제시', '김천시', '김포시', '김해시', '나주시', '남구', '남동구', '남양주시', '남원시',\n",
       "        '남해군', '논산시', '단양관리소', '단양군', '달성군', '담양군', '당진시', '대덕구', '동구',\n",
       "        '동두천시', '동해시', '무안군', '무주관리소', '무주군', '문경시', '밀양시', '보령시', '보성군',\n",
       "        '보은관리소', '보은군', '봉화군', '부안군', '부여군', '부평구', '북구', '사천시', '산청군',\n",
       "        '삼척관리소', '삼척시', '상주시', '서구', '서귀포시', '서산시', '서천군', '서초구', '성주군',\n",
       "        '세종시', '속초시', '수성구', '수원관리소', '수원시', '순창군', '순천관리소', '순천시', '시흥시',\n",
       "        '신안군', '아산시', '안동시', '안산시', '안성시', '안양시', '양구관리소', '양구군', '양산관리소',\n",
       "        '양산시', '양양관리소', '양양군', '양주시', '양평군', '여수시', '여주시', '영광군', '영덕관리소',\n",
       "        '영덕군', '영동군', '영암관리소', '영암군', '영양군', '영월관리소', '영월군', '영주관리소',\n",
       "        '영주시', '영천시', '예산군', '예천군', '오산시', '옥천군', '옹진군', '완도군', '완주군',\n",
       "        '용인시', '울릉군', '울주군', '울진관리소', '울진군', '원주시', '유성구', '음성군', '의령군',\n",
       "        '의성군', '의왕시', '의정부시', '이천시', '익산시', '인제관리소', '인제군', '임실군', '장성군',\n",
       "        '장수군', '장흥군', '전주시', '정선관리소', '정선군', '정읍관리소', '정읍시', '제주시', '제천시',\n",
       "        '중구', '증평군', '진도군', '진안군', '진주시', '진천군', '창녕군', '창원시', '천안시',\n",
       "        '철원군', '청도군', '청송군', '청양군', '청주시', '춘천시', '충주관리소', '충주시', '칠곡군',\n",
       "        '태백관리소', '태백시', '태안군', '통영시', '파주시', '평창관리소', '평창군', '평택시', '포천시',\n",
       "        '포항시', '하남시', '하동군', '함안군', '함양군', '함평군', '합천군', '해남군', '홍성군',\n",
       "        '홍천관리소', '홍천군', '화성시', '화순군', '화천군', '횡성군'], dtype=object),\n",
       " array(['재배', '채취'], dtype=object),\n",
       " array(['노지', '산지', '시설'], dtype=object),\n",
       " array(['기타', '버섯', '산나물', '수실', '수액', '약용식물', '연료', '용재', '조경재'],\n",
       "       dtype=object),\n",
       " array(['기타', '농용자재', '버섯', '분재소재', '분재완재', '산나물', '수액', '야생화', '약용수실',\n",
       "        '약초', '연료', '일반수실', '잔디', '재배수실', '조경수', '죽재'], dtype=object),\n",
       " array(['감초', '개암', '결명자', '고려엉겅퀴(곤드레)', '고로쇠', '고비', '고사리', '골담초', '구기자',\n",
       "        '구절초', '기타관목류', '기타교목류', '기타버섯류', '기타부산물', '기타분재소재', '기타분재완재',\n",
       "        '기타산나물', '기타수실', '기타약용식물', '꽃송이버섯', '꾸지뽕나무', '난지형잔디', '눈개승마', '느릅',\n",
       "        '느티나무류', '능이', '다래', '단풍나무류', '당귀', '더덕', '도라지', '도토리', '독활', '돌배',\n",
       "        '동백나무', '두릅', '두충나무', '둥굴레', '마', '마가목', '머루', '목단', '목이', '배롱나무',\n",
       "        '백출', '벚나무', '복령', '복분자딸기', '사료', '산딸기', '산마늘', '산사나무', '산수유',\n",
       "        '산초', '삼지구엽초', '석류', '석이', '섬유원료(닥나무)', '소나무', '소소나무', '소소사나무',\n",
       "        '소철쭉', '소해송', '소향나무', '송이', '수지(칠액)', '시호', '야생화', '약모밀', '어수리',\n",
       "        '오갈피', '오미자', '옻나무', '완소나무', '완소사나무', '완철쭉', '완해송', '완향나무', '원추리',\n",
       "        '은행', '은행잎', '음나무', '이팝나무', '자생란', '자작나무', '작약', '잔대', '잣', '장작',\n",
       "        '주목', '죽순', '죽재', '참나물', '참쑥', '참죽나무', '창출', '천궁', '천마', '철쭉류',\n",
       "        '초피', '취나물', '칡뿌리', '퇴비', '하수오', '한지형잔디', '헛개나무', '화살나무', '황칠나무',\n",
       "        '회양목'], dtype=object)]"
      ]
     },
     "execution_count": 21,
     "metadata": {},
     "output_type": "execute_result"
    }
   ],
   "source": [
    "from sklearn.preprocessing import OrdinalEncoder\n",
    "\n",
    "ordinal_encoder = OrdinalEncoder()\n",
    "ordinal = ordinal_encoder.fit_transform(data.loc[:, ['시군구/관리소', '재배채취', '재배기준', '품목 대분류', '품목 중분류', '품목 소분류']])\n",
    "ordinal_encoder.categories_"
   ]
  },
  {
   "cell_type": "code",
   "execution_count": 22,
   "metadata": {},
   "outputs": [
    {
     "data": {
      "text/plain": [
       "array([[  4.,   0.,   0.,   8.,  14.,  10.],\n",
       "       [ 78.,   0.,   2.,   8.,   7.,  67.],\n",
       "       [ 78.,   0.,   2.,   8.,   7.,  67.],\n",
       "       ...,\n",
       "       [167.,   0.,   0.,   5.,   9.,  38.],\n",
       "       [167.,   0.,   0.,   5.,   8.,  71.],\n",
       "       [167.,   0.,   0.,   5.,   9.,  85.]])"
      ]
     },
     "execution_count": 22,
     "metadata": {},
     "output_type": "execute_result"
    }
   ],
   "source": [
    "ordinal"
   ]
  },
  {
   "cell_type": "code",
   "execution_count": 23,
   "metadata": {},
   "outputs": [
    {
     "name": "stdout",
     "output_type": "stream",
     "text": [
      "[array([  0.,   1.,   2.,   3.,   4.,   5.,   6.,   7.,   8.,   9.,  10.,\n",
      "        11.,  12.,  13.,  14.,  15.,  16.,  17.,  18.,  19.,  20.,  21.,\n",
      "        22.,  23.,  24.,  25.,  26.,  27.,  28.,  29.,  30.,  31.,  32.,\n",
      "        33.,  34.,  35.,  36.,  37.,  38.,  39.,  40.,  41.,  42.,  43.,\n",
      "        44.,  45.,  46.,  47.,  48.,  49.,  50.,  51.,  52.,  53.,  54.,\n",
      "        55.,  56.,  57.,  58.,  59.,  60.,  61.,  62.,  63.,  64.,  65.,\n",
      "        66.,  67.,  68.,  69.,  70.,  71.,  72.,  73.,  74.,  75.,  76.,\n",
      "        77.,  78.,  79.,  80.,  81.,  82.,  83.,  84.,  85.,  86.,  87.,\n",
      "        88.,  89.,  90.,  91.,  92.,  93.,  94.,  95.,  96.,  97.,  98.,\n",
      "        99., 100., 101., 102., 103., 104., 105., 106., 107., 108., 109.,\n",
      "       110., 111., 112., 113., 114., 115., 116., 117., 118., 119., 120.,\n",
      "       121., 122., 123., 124., 125., 126., 127., 128., 129., 130., 131.,\n",
      "       132., 133., 134., 135., 136., 137., 138., 139., 140., 141., 142.,\n",
      "       143., 144., 145., 146., 147., 148., 149., 150., 151., 152., 153.,\n",
      "       154., 155., 156., 157., 158., 159., 160., 161., 162., 163., 164.,\n",
      "       165., 166., 167., 168., 169., 170., 171., 172., 173., 174., 175.,\n",
      "       176., 177., 178., 179., 180., 181., 182., 183., 184., 185., 186.,\n",
      "       187., 188., 189., 190., 191., 192.]), array([0., 1.]), array([0., 1., 2.]), array([0., 1., 2., 3., 4., 5., 6., 7., 8.]), array([ 0.,  1.,  2.,  3.,  4.,  5.,  6.,  7.,  8.,  9., 10., 11., 12.,\n",
      "       13., 14., 15.]), array([  0.,   1.,   2.,   3.,   4.,   5.,   6.,   7.,   8.,   9.,  10.,\n",
      "        11.,  12.,  13.,  14.,  15.,  16.,  17.,  18.,  19.,  20.,  21.,\n",
      "        22.,  23.,  24.,  25.,  26.,  27.,  28.,  29.,  30.,  31.,  32.,\n",
      "        33.,  34.,  35.,  36.,  37.,  38.,  39.,  40.,  41.,  42.,  43.,\n",
      "        44.,  45.,  46.,  47.,  48.,  49.,  50.,  51.,  52.,  53.,  54.,\n",
      "        55.,  56.,  57.,  58.,  59.,  60.,  61.,  62.,  63.,  64.,  65.,\n",
      "        66.,  67.,  68.,  69.,  70.,  71.,  72.,  73.,  74.,  75.,  76.,\n",
      "        77.,  78.,  79.,  80.,  81.,  82.,  83.,  84.,  85.,  86.,  87.,\n",
      "        88.,  89.,  90.,  91.,  92.,  93.,  94.,  95.,  96.,  97.,  98.,\n",
      "        99., 100., 101., 102., 103., 104., 105., 106., 107., 108.])]\n",
      "(58416, 332)\n"
     ]
    }
   ],
   "source": [
    "from sklearn.preprocessing import OneHotEncoder\n",
    "\n",
    "onehot_encoder = OneHotEncoder()\n",
    "onehot = onehot_encoder.fit_transform(ordinal)\n",
    "print(onehot_encoder.categories_)\n",
    "print(onehot.toarray().shape)"
   ]
  },
  {
   "cell_type": "code",
   "execution_count": 24,
   "metadata": {},
   "outputs": [
    {
     "data": {
      "text/html": [
       "<div>\n",
       "<style scoped>\n",
       "    .dataframe tbody tr th:only-of-type {\n",
       "        vertical-align: middle;\n",
       "    }\n",
       "\n",
       "    .dataframe tbody tr th {\n",
       "        vertical-align: top;\n",
       "    }\n",
       "\n",
       "    .dataframe thead th {\n",
       "        text-align: right;\n",
       "    }\n",
       "</style>\n",
       "<table border=\"1\" class=\"dataframe\">\n",
       "  <thead>\n",
       "    <tr style=\"text-align: right;\">\n",
       "      <th></th>\n",
       "      <th>환산면적</th>\n",
       "      <th>0</th>\n",
       "      <th>1</th>\n",
       "      <th>2</th>\n",
       "      <th>3</th>\n",
       "      <th>4</th>\n",
       "      <th>5</th>\n",
       "      <th>6</th>\n",
       "      <th>7</th>\n",
       "      <th>8</th>\n",
       "      <th>...</th>\n",
       "      <th>322</th>\n",
       "      <th>323</th>\n",
       "      <th>324</th>\n",
       "      <th>325</th>\n",
       "      <th>326</th>\n",
       "      <th>327</th>\n",
       "      <th>328</th>\n",
       "      <th>329</th>\n",
       "      <th>330</th>\n",
       "      <th>331</th>\n",
       "    </tr>\n",
       "  </thead>\n",
       "  <tbody>\n",
       "    <tr>\n",
       "      <th>0</th>\n",
       "      <td>0.592814</td>\n",
       "      <td>0.0</td>\n",
       "      <td>0.0</td>\n",
       "      <td>0.0</td>\n",
       "      <td>0.0</td>\n",
       "      <td>1.0</td>\n",
       "      <td>0.0</td>\n",
       "      <td>0.0</td>\n",
       "      <td>0.0</td>\n",
       "      <td>0.0</td>\n",
       "      <td>...</td>\n",
       "      <td>0.0</td>\n",
       "      <td>0.0</td>\n",
       "      <td>0.0</td>\n",
       "      <td>0.0</td>\n",
       "      <td>0.0</td>\n",
       "      <td>0.0</td>\n",
       "      <td>0.0</td>\n",
       "      <td>0.0</td>\n",
       "      <td>0.0</td>\n",
       "      <td>0.0</td>\n",
       "    </tr>\n",
       "    <tr>\n",
       "      <th>1</th>\n",
       "      <td>0.496475</td>\n",
       "      <td>0.0</td>\n",
       "      <td>0.0</td>\n",
       "      <td>0.0</td>\n",
       "      <td>0.0</td>\n",
       "      <td>0.0</td>\n",
       "      <td>0.0</td>\n",
       "      <td>0.0</td>\n",
       "      <td>0.0</td>\n",
       "      <td>0.0</td>\n",
       "      <td>...</td>\n",
       "      <td>0.0</td>\n",
       "      <td>0.0</td>\n",
       "      <td>0.0</td>\n",
       "      <td>0.0</td>\n",
       "      <td>0.0</td>\n",
       "      <td>0.0</td>\n",
       "      <td>0.0</td>\n",
       "      <td>0.0</td>\n",
       "      <td>0.0</td>\n",
       "      <td>0.0</td>\n",
       "    </tr>\n",
       "    <tr>\n",
       "      <th>2</th>\n",
       "      <td>0.413492</td>\n",
       "      <td>0.0</td>\n",
       "      <td>0.0</td>\n",
       "      <td>0.0</td>\n",
       "      <td>0.0</td>\n",
       "      <td>0.0</td>\n",
       "      <td>0.0</td>\n",
       "      <td>0.0</td>\n",
       "      <td>0.0</td>\n",
       "      <td>0.0</td>\n",
       "      <td>...</td>\n",
       "      <td>0.0</td>\n",
       "      <td>0.0</td>\n",
       "      <td>0.0</td>\n",
       "      <td>0.0</td>\n",
       "      <td>0.0</td>\n",
       "      <td>0.0</td>\n",
       "      <td>0.0</td>\n",
       "      <td>0.0</td>\n",
       "      <td>0.0</td>\n",
       "      <td>0.0</td>\n",
       "    </tr>\n",
       "    <tr>\n",
       "      <th>3</th>\n",
       "      <td>0.575594</td>\n",
       "      <td>0.0</td>\n",
       "      <td>0.0</td>\n",
       "      <td>0.0</td>\n",
       "      <td>0.0</td>\n",
       "      <td>0.0</td>\n",
       "      <td>0.0</td>\n",
       "      <td>0.0</td>\n",
       "      <td>0.0</td>\n",
       "      <td>0.0</td>\n",
       "      <td>...</td>\n",
       "      <td>0.0</td>\n",
       "      <td>0.0</td>\n",
       "      <td>0.0</td>\n",
       "      <td>0.0</td>\n",
       "      <td>0.0</td>\n",
       "      <td>0.0</td>\n",
       "      <td>0.0</td>\n",
       "      <td>0.0</td>\n",
       "      <td>0.0</td>\n",
       "      <td>0.0</td>\n",
       "    </tr>\n",
       "    <tr>\n",
       "      <th>4</th>\n",
       "      <td>0.520746</td>\n",
       "      <td>0.0</td>\n",
       "      <td>1.0</td>\n",
       "      <td>0.0</td>\n",
       "      <td>0.0</td>\n",
       "      <td>0.0</td>\n",
       "      <td>0.0</td>\n",
       "      <td>0.0</td>\n",
       "      <td>0.0</td>\n",
       "      <td>0.0</td>\n",
       "      <td>...</td>\n",
       "      <td>0.0</td>\n",
       "      <td>0.0</td>\n",
       "      <td>0.0</td>\n",
       "      <td>0.0</td>\n",
       "      <td>0.0</td>\n",
       "      <td>0.0</td>\n",
       "      <td>0.0</td>\n",
       "      <td>0.0</td>\n",
       "      <td>0.0</td>\n",
       "      <td>0.0</td>\n",
       "    </tr>\n",
       "    <tr>\n",
       "      <th>...</th>\n",
       "      <td>...</td>\n",
       "      <td>...</td>\n",
       "      <td>...</td>\n",
       "      <td>...</td>\n",
       "      <td>...</td>\n",
       "      <td>...</td>\n",
       "      <td>...</td>\n",
       "      <td>...</td>\n",
       "      <td>...</td>\n",
       "      <td>...</td>\n",
       "      <td>...</td>\n",
       "      <td>...</td>\n",
       "      <td>...</td>\n",
       "      <td>...</td>\n",
       "      <td>...</td>\n",
       "      <td>...</td>\n",
       "      <td>...</td>\n",
       "      <td>...</td>\n",
       "      <td>...</td>\n",
       "      <td>...</td>\n",
       "      <td>...</td>\n",
       "    </tr>\n",
       "    <tr>\n",
       "      <th>58411</th>\n",
       "      <td>0.423905</td>\n",
       "      <td>0.0</td>\n",
       "      <td>0.0</td>\n",
       "      <td>0.0</td>\n",
       "      <td>0.0</td>\n",
       "      <td>0.0</td>\n",
       "      <td>0.0</td>\n",
       "      <td>0.0</td>\n",
       "      <td>0.0</td>\n",
       "      <td>0.0</td>\n",
       "      <td>...</td>\n",
       "      <td>0.0</td>\n",
       "      <td>0.0</td>\n",
       "      <td>0.0</td>\n",
       "      <td>0.0</td>\n",
       "      <td>0.0</td>\n",
       "      <td>0.0</td>\n",
       "      <td>0.0</td>\n",
       "      <td>0.0</td>\n",
       "      <td>0.0</td>\n",
       "      <td>0.0</td>\n",
       "    </tr>\n",
       "    <tr>\n",
       "      <th>58412</th>\n",
       "      <td>0.521440</td>\n",
       "      <td>0.0</td>\n",
       "      <td>0.0</td>\n",
       "      <td>0.0</td>\n",
       "      <td>0.0</td>\n",
       "      <td>0.0</td>\n",
       "      <td>0.0</td>\n",
       "      <td>0.0</td>\n",
       "      <td>0.0</td>\n",
       "      <td>0.0</td>\n",
       "      <td>...</td>\n",
       "      <td>0.0</td>\n",
       "      <td>0.0</td>\n",
       "      <td>0.0</td>\n",
       "      <td>0.0</td>\n",
       "      <td>0.0</td>\n",
       "      <td>0.0</td>\n",
       "      <td>0.0</td>\n",
       "      <td>0.0</td>\n",
       "      <td>0.0</td>\n",
       "      <td>0.0</td>\n",
       "    </tr>\n",
       "    <tr>\n",
       "      <th>58413</th>\n",
       "      <td>0.540170</td>\n",
       "      <td>0.0</td>\n",
       "      <td>0.0</td>\n",
       "      <td>0.0</td>\n",
       "      <td>0.0</td>\n",
       "      <td>0.0</td>\n",
       "      <td>0.0</td>\n",
       "      <td>0.0</td>\n",
       "      <td>0.0</td>\n",
       "      <td>0.0</td>\n",
       "      <td>...</td>\n",
       "      <td>0.0</td>\n",
       "      <td>0.0</td>\n",
       "      <td>0.0</td>\n",
       "      <td>0.0</td>\n",
       "      <td>0.0</td>\n",
       "      <td>0.0</td>\n",
       "      <td>0.0</td>\n",
       "      <td>0.0</td>\n",
       "      <td>0.0</td>\n",
       "      <td>0.0</td>\n",
       "    </tr>\n",
       "    <tr>\n",
       "      <th>58414</th>\n",
       "      <td>0.677776</td>\n",
       "      <td>0.0</td>\n",
       "      <td>0.0</td>\n",
       "      <td>0.0</td>\n",
       "      <td>0.0</td>\n",
       "      <td>0.0</td>\n",
       "      <td>0.0</td>\n",
       "      <td>0.0</td>\n",
       "      <td>0.0</td>\n",
       "      <td>0.0</td>\n",
       "      <td>...</td>\n",
       "      <td>0.0</td>\n",
       "      <td>0.0</td>\n",
       "      <td>0.0</td>\n",
       "      <td>0.0</td>\n",
       "      <td>0.0</td>\n",
       "      <td>0.0</td>\n",
       "      <td>0.0</td>\n",
       "      <td>0.0</td>\n",
       "      <td>0.0</td>\n",
       "      <td>0.0</td>\n",
       "    </tr>\n",
       "    <tr>\n",
       "      <th>58415</th>\n",
       "      <td>0.427327</td>\n",
       "      <td>0.0</td>\n",
       "      <td>0.0</td>\n",
       "      <td>0.0</td>\n",
       "      <td>0.0</td>\n",
       "      <td>0.0</td>\n",
       "      <td>0.0</td>\n",
       "      <td>0.0</td>\n",
       "      <td>0.0</td>\n",
       "      <td>0.0</td>\n",
       "      <td>...</td>\n",
       "      <td>0.0</td>\n",
       "      <td>0.0</td>\n",
       "      <td>0.0</td>\n",
       "      <td>0.0</td>\n",
       "      <td>0.0</td>\n",
       "      <td>0.0</td>\n",
       "      <td>0.0</td>\n",
       "      <td>0.0</td>\n",
       "      <td>0.0</td>\n",
       "      <td>0.0</td>\n",
       "    </tr>\n",
       "  </tbody>\n",
       "</table>\n",
       "<p>58416 rows × 333 columns</p>\n",
       "</div>"
      ],
      "text/plain": [
       "           환산면적    0    1    2    3    4    5    6    7    8  ...  322  323  \\\n",
       "0      0.592814  0.0  0.0  0.0  0.0  1.0  0.0  0.0  0.0  0.0  ...  0.0  0.0   \n",
       "1      0.496475  0.0  0.0  0.0  0.0  0.0  0.0  0.0  0.0  0.0  ...  0.0  0.0   \n",
       "2      0.413492  0.0  0.0  0.0  0.0  0.0  0.0  0.0  0.0  0.0  ...  0.0  0.0   \n",
       "3      0.575594  0.0  0.0  0.0  0.0  0.0  0.0  0.0  0.0  0.0  ...  0.0  0.0   \n",
       "4      0.520746  0.0  1.0  0.0  0.0  0.0  0.0  0.0  0.0  0.0  ...  0.0  0.0   \n",
       "...         ...  ...  ...  ...  ...  ...  ...  ...  ...  ...  ...  ...  ...   \n",
       "58411  0.423905  0.0  0.0  0.0  0.0  0.0  0.0  0.0  0.0  0.0  ...  0.0  0.0   \n",
       "58412  0.521440  0.0  0.0  0.0  0.0  0.0  0.0  0.0  0.0  0.0  ...  0.0  0.0   \n",
       "58413  0.540170  0.0  0.0  0.0  0.0  0.0  0.0  0.0  0.0  0.0  ...  0.0  0.0   \n",
       "58414  0.677776  0.0  0.0  0.0  0.0  0.0  0.0  0.0  0.0  0.0  ...  0.0  0.0   \n",
       "58415  0.427327  0.0  0.0  0.0  0.0  0.0  0.0  0.0  0.0  0.0  ...  0.0  0.0   \n",
       "\n",
       "       324  325  326  327  328  329  330  331  \n",
       "0      0.0  0.0  0.0  0.0  0.0  0.0  0.0  0.0  \n",
       "1      0.0  0.0  0.0  0.0  0.0  0.0  0.0  0.0  \n",
       "2      0.0  0.0  0.0  0.0  0.0  0.0  0.0  0.0  \n",
       "3      0.0  0.0  0.0  0.0  0.0  0.0  0.0  0.0  \n",
       "4      0.0  0.0  0.0  0.0  0.0  0.0  0.0  0.0  \n",
       "...    ...  ...  ...  ...  ...  ...  ...  ...  \n",
       "58411  0.0  0.0  0.0  0.0  0.0  0.0  0.0  0.0  \n",
       "58412  0.0  0.0  0.0  0.0  0.0  0.0  0.0  0.0  \n",
       "58413  0.0  0.0  0.0  0.0  0.0  0.0  0.0  0.0  \n",
       "58414  0.0  0.0  0.0  0.0  0.0  0.0  0.0  0.0  \n",
       "58415  0.0  0.0  0.0  0.0  0.0  0.0  0.0  0.0  \n",
       "\n",
       "[58416 rows x 333 columns]"
      ]
     },
     "execution_count": 24,
     "metadata": {},
     "output_type": "execute_result"
    }
   ],
   "source": [
    "numeric_data_df = pd.DataFrame(scaled[:, 1], columns=['환산면적'])\n",
    "onehot_data_df = pd.DataFrame(onehot.toarray())\n",
    "\n",
    "X_data_df = pd.concat([numeric_data_df , onehot_data_df], axis=1)\n",
    "X_data_df"
   ]
  },
  {
   "cell_type": "code",
   "execution_count": 25,
   "metadata": {},
   "outputs": [
    {
     "name": "stdout",
     "output_type": "stream",
     "text": [
      "(58416, 333) (58416,)\n"
     ]
    }
   ],
   "source": [
    "X_data = np.array(X_data_df)\n",
    "y_data = np.array(scaled[:, 1])\n",
    "\n",
    "print(X_data.shape, y_data.shape)"
   ]
  },
  {
   "cell_type": "markdown",
   "metadata": {},
   "source": [
    "## Train Test split"
   ]
  },
  {
   "cell_type": "code",
   "execution_count": 26,
   "metadata": {},
   "outputs": [
    {
     "name": "stdout",
     "output_type": "stream",
     "text": [
      "(46732, 333) (11684, 333)\n"
     ]
    }
   ],
   "source": [
    "from sklearn.model_selection import train_test_split\n",
    "\n",
    "X_train, X_test, y_train, y_test = train_test_split(X_data, y_data,\n",
    "                                                    test_size=0.2, random_state=156)\n",
    "print(X_train.shape, X_test.shape)"
   ]
  },
  {
   "cell_type": "markdown",
   "metadata": {},
   "source": [
    "# Modeling"
   ]
  },
  {
   "cell_type": "markdown",
   "metadata": {},
   "source": [
    "## Decision Tree"
   ]
  },
  {
   "cell_type": "code",
   "execution_count": 27,
   "metadata": {},
   "outputs": [
    {
     "data": {
      "text/plain": [
       "DecisionTreeRegressor(random_state=1000)"
      ]
     },
     "execution_count": 27,
     "metadata": {},
     "output_type": "execute_result"
    }
   ],
   "source": [
    "from sklearn.tree import DecisionTreeRegressor\n",
    "from sklearn.metrics import mean_squared_error\n",
    "\n",
    "dt = DecisionTreeRegressor(random_state=1000)\n",
    "dt.fit(X_train, y_train)"
   ]
  },
  {
   "cell_type": "code",
   "execution_count": 28,
   "metadata": {},
   "outputs": [
    {
     "name": "stdout",
     "output_type": "stream",
     "text": [
      "[0.23417039 0.18224254 0.33354443 0.28657521 0.34434414 0.40305575\n",
      " 0.2756616  0.37200119 0.08298241 0.2756616 ]\n"
     ]
    }
   ],
   "source": [
    "dt_pred = dt.predict(X_test)\n",
    "print(dt_pred[:10])"
   ]
  },
  {
   "cell_type": "code",
   "execution_count": 29,
   "metadata": {},
   "outputs": [
    {
     "data": {
      "text/plain": [
       "4.2644300650763044e-06"
      ]
     },
     "execution_count": 29,
     "metadata": {},
     "output_type": "execute_result"
    }
   ],
   "source": [
    "mean_squared_error(y_test, dt_pred)"
   ]
  },
  {
   "cell_type": "markdown",
   "metadata": {},
   "source": [
    "## RandomForest"
   ]
  },
  {
   "cell_type": "code",
   "execution_count": 30,
   "metadata": {},
   "outputs": [
    {
     "data": {
      "text/plain": [
       "RandomForestRegressor(max_features='sqrt', n_estimators=500, random_state=156)"
      ]
     },
     "execution_count": 30,
     "metadata": {},
     "output_type": "execute_result"
    }
   ],
   "source": [
    "from sklearn.ensemble import RandomForestRegressor\n",
    "\n",
    "rf = RandomForestRegressor(n_estimators = 500, max_features = 'sqrt', random_state = 156)\n",
    "rf.fit(X_train, y_train)"
   ]
  },
  {
   "cell_type": "code",
   "execution_count": 31,
   "metadata": {},
   "outputs": [
    {
     "name": "stdout",
     "output_type": "stream",
     "text": [
      "[0.23447393 0.18224254 0.33354443 0.28659273 0.34434414 0.40305575\n",
      " 0.2756616  0.37200119 0.08298241 0.2663098 ]\n"
     ]
    }
   ],
   "source": [
    "rf_pred = rf.predict(X_test)\n",
    "print(rf_pred[:10])"
   ]
  },
  {
   "cell_type": "code",
   "execution_count": 32,
   "metadata": {},
   "outputs": [
    {
     "data": {
      "text/plain": [
       "0.00017653132937190853"
      ]
     },
     "execution_count": 32,
     "metadata": {},
     "output_type": "execute_result"
    }
   ],
   "source": [
    "mean_squared_error(y_test, rf_pred)"
   ]
  },
  {
   "cell_type": "markdown",
   "metadata": {},
   "source": [
    "## Ridge"
   ]
  },
  {
   "cell_type": "code",
   "execution_count": 33,
   "metadata": {},
   "outputs": [
    {
     "data": {
      "text/plain": [
       "Ridge(alpha=0.01)"
      ]
     },
     "execution_count": 33,
     "metadata": {},
     "output_type": "execute_result"
    }
   ],
   "source": [
    "from sklearn.linear_model import Ridge\n",
    "\n",
    "ridge = Ridge(alpha=0.01)\n",
    "ridge.fit(X_train, y_train)"
   ]
  },
  {
   "cell_type": "code",
   "execution_count": 34,
   "metadata": {},
   "outputs": [
    {
     "name": "stdout",
     "output_type": "stream",
     "text": [
      "[ 9.99976200e-01  4.08816861e-07  1.81081078e-06  6.01015787e-07\n",
      "  1.65573527e-07 -1.67284244e-06  8.50465668e-07  1.77226037e-06\n",
      " -1.41208397e-06  5.93655561e-09 -1.68395354e-06 -1.15092391e-06\n",
      " -2.43688859e-06  1.44259682e-06 -1.81548248e-06 -9.12685027e-07\n",
      " -1.48442232e-06  3.27788118e-08  2.19408061e-06 -1.02918773e-06\n",
      " -1.16080752e-06  1.78567325e-06 -1.97172698e-07 -6.71923019e-07\n",
      " -4.01668527e-08 -2.28081475e-06 -8.08452933e-07  1.39525786e-08\n",
      "  2.60524297e-06 -8.54266685e-07  3.72657987e-06 -1.54714477e-06\n",
      "  1.30180043e-06  5.12330452e-07  2.66201382e-07  1.79538283e-06\n",
      "  1.74607265e-06 -1.28072071e-06 -1.69186473e-06  1.29895636e-07\n",
      "  5.52263263e-07 -1.76625229e-06 -1.39000319e-06 -1.93736951e-06\n",
      "  6.36711852e-07  1.84292753e-06 -5.40669999e-07  1.26998129e-06\n",
      "  2.55745481e-07 -2.25963165e-06 -9.38993729e-08 -1.66761593e-06\n",
      "  5.90150647e-07 -6.69174654e-07 -1.40729470e-06 -2.74995727e-06\n",
      "  1.45024447e-07  7.24932044e-07  9.99250303e-08 -7.78470793e-07\n",
      " -7.65663804e-08  6.67670729e-07 -3.46443149e-07  2.41589028e-06\n",
      " -7.68898876e-07  4.11424851e-07 -3.28712131e-06  1.42210736e-06\n",
      " -1.81264965e-07 -1.92772811e-06 -6.43984859e-07 -6.58762914e-07\n",
      "  9.65966943e-07 -6.39498350e-07 -7.80736718e-07 -2.77429896e-07\n",
      "  1.09996539e-06 -1.94451592e-06 -1.52653429e-06 -1.22341224e-06\n",
      " -3.68254820e-07  3.47254110e-06 -3.02035276e-06  4.47322489e-07\n",
      "  1.69171292e-06 -1.05009117e-06  1.33754272e-06  1.02316981e-06\n",
      " -5.48523388e-07 -1.13744498e-06  8.10228389e-07 -9.92182661e-07\n",
      "  2.14833966e-08  2.36598881e-06  1.85627843e-06 -9.78919243e-07\n",
      "  6.15532775e-08  4.14642274e-07  3.19570409e-06 -1.29039432e-06\n",
      "  1.09392400e-06 -3.91959274e-07  8.90980865e-08 -3.95265548e-07\n",
      " -9.41583509e-07  3.26090195e-06 -6.77236695e-07  1.31594111e-06\n",
      " -4.94849350e-07 -1.69227636e-06 -2.45639765e-06  3.08042032e-07\n",
      " -1.15783520e-07  1.34688779e-06  4.57446531e-07  8.61162432e-07\n",
      " -9.65368926e-07 -7.68985739e-07 -2.62738849e-06  8.04877245e-09\n",
      "  2.28318461e-06 -4.10930510e-07 -4.34200260e-06 -1.29144061e-06\n",
      "  1.52741012e-06  1.13653382e-06  1.37241090e-06 -1.25078621e-06\n",
      "  9.50732729e-07 -2.33379010e-07 -2.23336538e-06 -5.44506925e-07\n",
      " -7.56624810e-08 -1.20586830e-08 -1.60733301e-06 -1.66488752e-06\n",
      " -7.66196991e-07  5.79278358e-07  1.10124808e-06  2.89926959e-06\n",
      " -5.35556027e-07 -1.65621805e-07  7.91629826e-07 -6.15032206e-07\n",
      "  1.23765650e-06 -6.10140981e-07  9.31244418e-07  2.92618628e-07\n",
      "  3.52054640e-06  8.17599718e-07  4.28732316e-06  8.28154940e-07\n",
      " -1.41741079e-06 -1.79248489e-06  3.51603134e-07 -1.25189497e-07\n",
      " -1.09423003e-06  1.04138097e-06  1.09722089e-06 -1.05693362e-06\n",
      " -7.44815291e-07  5.30311584e-07 -3.80193437e-07 -4.68546802e-07\n",
      " -1.93241605e-08  7.01153771e-07 -7.23760441e-07  1.58306088e-06\n",
      " -6.01809029e-07 -7.47759325e-07  1.58675337e-06 -1.12092894e-06\n",
      " -6.21040936e-07  7.21469343e-07  3.24003026e-06  7.85794151e-07\n",
      "  1.63242560e-06  6.87777286e-08  4.78433240e-07  8.48069390e-07\n",
      " -2.42768886e-06  7.34868563e-08 -1.53796206e-06  5.34267634e-07\n",
      "  1.67757366e-07 -5.62506180e-07  1.78966422e-06 -2.70199716e-06\n",
      "  2.64135070e-06 -4.13545243e-07 -2.21588272e-07 -8.49200545e-07\n",
      "  3.04026082e-06  1.39801564e-06  3.77185203e-07 -3.77193730e-07\n",
      " -8.55790778e-07 -2.64210958e-07  1.12034546e-06  2.20623417e-07\n",
      " -6.89816238e-07  4.40034891e-08  1.34566606e-07  9.97453768e-07\n",
      "  2.46110836e-07  0.00000000e+00 -1.30344396e-06  3.50140261e-07\n",
      " -8.58175115e-08 -1.98966342e-06 -6.89816238e-07 -7.81506584e-07\n",
      " -1.98408280e-06  4.40034892e-08  9.97453768e-07  2.51845718e-06\n",
      " -9.41186525e-07  1.18734497e-06  0.00000000e+00 -6.03032176e-08\n",
      "  2.29591037e-06  1.95014774e-07  5.97560404e-07 -1.30344396e-06\n",
      "  1.01089076e-06 -2.90538348e-06 -1.72240406e-06  1.37246997e-06\n",
      "  2.28820157e-07 -1.88453565e-06  3.75261102e-07 -2.89989347e-06\n",
      "  5.30147581e-07 -1.84630903e-06  2.20769597e-06 -2.35825142e-07\n",
      "  2.06576595e-06 -1.43982548e-06 -2.28859804e-07 -6.38780090e-07\n",
      " -3.09741329e-07 -4.78694084e-07 -5.74513442e-07  1.58815029e-07\n",
      "  1.54708196e-07  8.77331417e-07 -3.84054213e-07 -1.96635447e-06\n",
      " -1.48938973e-06 -4.24676316e-06  5.40370597e-07 -1.23788487e-06\n",
      "  1.02891262e-07 -1.05813691e-06 -8.14956500e-07 -1.79461389e-06\n",
      "  9.86075762e-07  1.30317749e-06 -8.95493717e-07 -1.52262911e-06\n",
      "  6.19042660e-07 -1.69369811e-06  1.10170772e-06 -1.70590386e-06\n",
      "  1.68326075e-06  2.76805388e-06  2.21716942e-06 -1.74293975e-06\n",
      "  1.70358551e-06 -1.21934828e-06  1.08489854e-06  1.56891519e-06\n",
      " -1.63452501e-06  1.02841093e-06 -4.39792751e-07  1.68001002e-06\n",
      " -3.38045053e-07 -1.23922878e-06 -3.52429564e-06 -1.00579803e-06\n",
      "  1.37282899e-07  4.65724968e-07 -2.27921616e-06 -1.01998086e-06\n",
      " -2.78358739e-06  3.02538734e-06  1.95133522e-07  3.04047877e-08\n",
      " -2.10707628e-06 -4.32615889e-06  1.38894562e-06  2.51845872e-06\n",
      "  3.19640433e-06  7.47859691e-07 -4.47812977e-08  3.77836437e-06\n",
      " -9.43746313e-07 -1.36905323e-06 -9.24328398e-07  1.64047794e-06\n",
      " -1.10078953e-06  4.08393486e-07  7.01376983e-07 -2.08407310e-07\n",
      "  2.33889963e-06 -1.80579127e-06 -1.23687866e-06  1.61619337e-06\n",
      "  7.68615427e-07  8.95355263e-07 -1.25928438e-06  4.03436950e-07\n",
      "  0.00000000e+00 -1.24315691e-06  1.78287617e-06 -1.30344396e-06\n",
      "  1.31540009e-06  7.32225906e-07 -1.41071294e-07  0.00000000e+00\n",
      "  9.82474177e-07  6.41874667e-07  5.40405962e-06 -2.14521871e-06\n",
      "  1.63639844e-07  1.25959839e-06 -3.55135194e-07 -9.34642556e-07\n",
      "  1.41856377e-06 -8.28725135e-07  2.75228007e-06  8.34989565e-07\n",
      "  4.56586425e-06]\n",
      "7.531059424137343e-06\n",
      "0.999999999702879\n"
     ]
    }
   ],
   "source": [
    "print(ridge.coef_)\n",
    "print(ridge.intercept_)\n",
    "print(ridge.score(X_train, y_train))"
   ]
  },
  {
   "cell_type": "code",
   "execution_count": 35,
   "metadata": {},
   "outputs": [
    {
     "data": {
      "text/plain": [
       "5.4600546296883626e-12"
      ]
     },
     "execution_count": 35,
     "metadata": {},
     "output_type": "execute_result"
    }
   ],
   "source": [
    "ridge_pred = ridge.predict(X_test)\n",
    "mean_squared_error(y_test, ridge_pred)"
   ]
  },
  {
   "cell_type": "markdown",
   "metadata": {},
   "source": [
    "## LASSO"
   ]
  },
  {
   "cell_type": "code",
   "execution_count": 36,
   "metadata": {},
   "outputs": [
    {
     "data": {
      "text/plain": [
       "Lasso(alpha=0.001)"
      ]
     },
     "execution_count": 36,
     "metadata": {},
     "output_type": "execute_result"
    }
   ],
   "source": [
    "from sklearn.linear_model import Lasso\n",
    "\n",
    "lasso = Lasso(alpha=0.001)\n",
    "lasso.fit(X_train, y_train)"
   ]
  },
  {
   "cell_type": "code",
   "execution_count": 37,
   "metadata": {},
   "outputs": [
    {
     "name": "stdout",
     "output_type": "stream",
     "text": [
      "[ 0.94165669  0.          0.         -0.         -0.         -0.\n",
      "  0.          0.         -0.          0.         -0.         -0.\n",
      " -0.          0.         -0.         -0.         -0.          0.\n",
      "  0.         -0.         -0.          0.          0.         -0.\n",
      "  0.         -0.         -0.          0.         -0.         -0.\n",
      "  0.         -0.          0.          0.          0.          0.\n",
      "  0.         -0.         -0.          0.          0.         -0.\n",
      " -0.         -0.          0.          0.         -0.         -0.\n",
      "  0.         -0.          0.         -0.          0.         -0.\n",
      " -0.         -0.          0.          0.          0.         -0.\n",
      "  0.          0.          0.         -0.         -0.          0.\n",
      " -0.          0.         -0.         -0.         -0.          0.\n",
      " -0.         -0.         -0.          0.          0.         -0.\n",
      " -0.          0.         -0.          0.         -0.          0.\n",
      "  0.         -0.          0.          0.          0.         -0.\n",
      "  0.         -0.          0.          0.          0.          0.\n",
      " -0.          0.          0.         -0.         -0.         -0.\n",
      "  0.          0.         -0.          0.          0.         -0.\n",
      " -0.         -0.         -0.          0.          0.          0.\n",
      "  0.         -0.         -0.         -0.         -0.          0.\n",
      "  0.         -0.         -0.         -0.          0.          0.\n",
      "  0.         -0.         -0.         -0.         -0.         -0.\n",
      "  0.          0.         -0.          0.          0.          0.\n",
      "  0.          0.         -0.          0.          0.          0.\n",
      "  0.          0.          0.          0.          0.          0.\n",
      "  0.          0.         -0.         -0.          0.          0.\n",
      " -0.          0.          0.         -0.          0.          0.\n",
      " -0.         -0.          0.          0.         -0.         -0.\n",
      "  0.         -0.          0.         -0.          0.         -0.\n",
      "  0.          0.          0.         -0.          0.          0.\n",
      " -0.          0.         -0.          0.          0.         -0.\n",
      "  0.         -0.          0.         -0.          0.         -0.\n",
      "  0.          0.          0.         -0.         -0.          0.\n",
      "  0.         -0.         -0.         -0.          0.          0.\n",
      " -0.          0.         -0.          0.         -0.         -0.\n",
      " -0.          0.         -0.         -0.          0.          0.\n",
      " -0.          0.          0.          0.          0.         -0.\n",
      "  0.         -0.          0.         -0.          0.          0.\n",
      "  0.         -0.          0.         -0.         -0.         -0.\n",
      "  0.          0.          0.         -0.          0.         -0.\n",
      "  0.         -0.          0.          0.         -0.          0.\n",
      " -0.         -0.         -0.         -0.          0.         -0.\n",
      "  0.         -0.         -0.         -0.          0.          0.\n",
      "  0.         -0.         -0.         -0.          0.         -0.\n",
      "  0.          0.          0.         -0.          0.         -0.\n",
      "  0.          0.         -0.          0.          0.          0.\n",
      " -0.         -0.         -0.          0.          0.         -0.\n",
      " -0.         -0.         -0.          0.          0.         -0.\n",
      " -0.         -0.          0.          0.          0.          0.\n",
      " -0.          0.         -0.         -0.         -0.          0.\n",
      " -0.         -0.          0.         -0.          0.         -0.\n",
      " -0.          0.          0.          0.          0.          0.\n",
      "  0.         -0.          0.         -0.          0.          0.\n",
      " -0.          0.          0.          0.          0.         -0.\n",
      "  0.          0.         -0.          0.          0.         -0.\n",
      "  0.          0.          0.        ]\n",
      "0.016766365964129615\n",
      "0.9965960580970586\n"
     ]
    }
   ],
   "source": [
    "print(lasso.coef_)\n",
    "print(lasso.intercept_)\n",
    "print(lasso.score(X_train, y_train))"
   ]
  },
  {
   "cell_type": "code",
   "execution_count": 39,
   "metadata": {},
   "outputs": [
    {
     "data": {
      "text/plain": [
       "5.978317000809406e-05"
      ]
     },
     "execution_count": 39,
     "metadata": {},
     "output_type": "execute_result"
    }
   ],
   "source": [
    "lasso_pred = lasso.predict(X_test)\n",
    "mean_squared_error(y_test, lasso_pred)"
   ]
  },
  {
   "cell_type": "markdown",
   "metadata": {},
   "source": [
    "## XGBoost"
   ]
  },
  {
   "cell_type": "code",
   "execution_count": 40,
   "metadata": {},
   "outputs": [
    {
     "name": "stdout",
     "output_type": "stream",
     "text": [
      "[0.2341709  0.18223608 0.33354288 0.2865749  0.34434256 0.40305242\n",
      " 0.27566218 0.37199935 0.08299155 0.27566218]\n"
     ]
    }
   ],
   "source": [
    "import xgboost as xgb\n",
    "\n",
    "xgb_reg = xgb.XGBRegressor(learning_rate=0.1, max_depth=10, n_estimators=300)\n",
    "xgb_reg.fit(X_train, y_train, verbose=False)\n",
    "\n",
    "xgb_pred = xgb_reg.predict(X_test)\n",
    "print(xgb_pred[:10])"
   ]
  },
  {
   "cell_type": "code",
   "execution_count": 41,
   "metadata": {},
   "outputs": [
    {
     "data": {
      "text/plain": [
       "6.39597132690279e-08"
      ]
     },
     "execution_count": 41,
     "metadata": {},
     "output_type": "execute_result"
    }
   ],
   "source": [
    "mean_squared_error(y_test, xgb_pred)"
   ]
  },
  {
   "cell_type": "code",
   "execution_count": 42,
   "metadata": {
    "scrolled": false
   },
   "outputs": [
    {
     "data": {
      "image/png": "[encoded data removed]",
      "text/plain": [
       "<Figure size 720x864 with 1 Axes>"
      ]
     },
     "metadata": {
      "needs_background": "light"
     },
     "output_type": "display_data"
    }
   ],
   "source": [
    "from xgboost import plot_importance\n",
    "\n",
    "plot_importance(xgb_reg, max_num_features=20)\n",
    "\n",
    "fig = plt.gcf()\n",
    "fig.set_size_inches(10, 12)"
   ]
  },
  {
   "cell_type": "markdown",
   "metadata": {},
   "source": [
    "## LightGBM"
   ]
  },
  {
   "cell_type": "code",
   "execution_count": 43,
   "metadata": {
    "scrolled": true
   },
   "outputs": [
    {
     "data": {
      "text/plain": [
       "LGBMRegressor(n_estimators=500)"
      ]
     },
     "execution_count": 43,
     "metadata": {},
     "output_type": "execute_result"
    }
   ],
   "source": [
    "import lightgbm as lgb\n",
    "\n",
    "\n",
    "lgb_reg = lgb.LGBMRegressor(n_estimators=500)\n",
    "lgb_reg.fit(X_train, y_train,\n",
    "        eval_set=[(X_test, y_test)],\n",
    "        eval_metric='l1',\n",
    "        early_stopping_rounds=1000,\n",
    "        verbose = False)"
   ]
  },
  {
   "cell_type": "code",
   "execution_count": 44,
   "metadata": {},
   "outputs": [
    {
     "name": "stdout",
     "output_type": "stream",
     "text": [
      "[0.23418178 0.18219725 0.33343977 0.28659545 0.34434422 0.40288173\n",
      " 0.27565764 0.37198224 0.08298978 0.27565764]\n"
     ]
    }
   ],
   "source": [
    "lgb_pred = lgb_reg.predict(X_test)\n",
    "print(lgb_pred[:10])"
   ]
  },
  {
   "cell_type": "code",
   "execution_count": 45,
   "metadata": {},
   "outputs": [
    {
     "name": "stdout",
     "output_type": "stream",
     "text": [
      "[0.23417039 0.18224254 0.33354443 0.28657521 0.34434414 0.40305575\n",
      " 0.2756616  0.37200119 0.08298241 0.2756616 ]\n"
     ]
    }
   ],
   "source": [
    "print(y_test[:10])"
   ]
  },
  {
   "cell_type": "code",
   "execution_count": 46,
   "metadata": {},
   "outputs": [
    {
     "data": {
      "text/plain": [
       "1.5088169852631564e-06"
      ]
     },
     "execution_count": 46,
     "metadata": {},
     "output_type": "execute_result"
    }
   ],
   "source": [
    "mean_squared_error(y_test, lgb_pred)"
   ]
  },
  {
   "cell_type": "markdown",
   "metadata": {},
   "source": [
    "# Ensemble"
   ]
  },
  {
   "cell_type": "code",
   "execution_count": 47,
   "metadata": {},
   "outputs": [],
   "source": [
    "import torch\n",
    "from sklearn.metrics import mean_squared_error\n",
    "\n",
    "class EnsembleRegressor:\n",
    "    def __init__(self, models, weights=None):\n",
    "        \n",
    "        self.models = models\n",
    "        self.weights = weights\n",
    "        \n",
    "        self.pred_list = []\n",
    "        \n",
    "    def predict(self, X_test): \n",
    "        for model in models.values():\n",
    "            self.pred_list.append(model.predict(X_test))\n",
    "        preds = np.array(self.pred_list)\n",
    "            \n",
    "\n",
    "        prediction = np.average(preds, axis=0, weights=self.weights)\n",
    "\n",
    "        return prediction\n",
    "    \n",
    "    def random_search(self, X_test, y_test, num_search):\n",
    "        weights = torch.softmax(torch.rand(num_search, len(self.models)), axis=1).numpy()\n",
    "        \n",
    "        for model in models.values():\n",
    "            self.pred_list.append(model.predict(X_test))\n",
    "        preds = np.array(self.pred_list)\n",
    "\n",
    "        mse = []\n",
    "        for i in range(num_search):\n",
    "            prediction = np.average(preds, axis=0, weights=weights[i])\n",
    "            mse_ = mean_squared_error(y_test, prediction)\n",
    "            mse.append(mse_)\n",
    "        \n",
    "        result = pd.DataFrame(weights, columns=['w1', 'w2', 'w3', 'w4'])\n",
    "        result['MSE'] = mse\n",
    "\n",
    "        return result.sort_values('MSE', ascending=True)"
   ]
  },
  {
   "cell_type": "code",
   "execution_count": 48,
   "metadata": {},
   "outputs": [
    {
     "data": {
      "text/html": [
       "<div>\n",
       "<style scoped>\n",
       "    .dataframe tbody tr th:only-of-type {\n",
       "        vertical-align: middle;\n",
       "    }\n",
       "\n",
       "    .dataframe tbody tr th {\n",
       "        vertical-align: top;\n",
       "    }\n",
       "\n",
       "    .dataframe thead th {\n",
       "        text-align: right;\n",
       "    }\n",
       "</style>\n",
       "<table border=\"1\" class=\"dataframe\">\n",
       "  <thead>\n",
       "    <tr style=\"text-align: right;\">\n",
       "      <th></th>\n",
       "      <th>w1</th>\n",
       "      <th>w2</th>\n",
       "      <th>w3</th>\n",
       "      <th>w4</th>\n",
       "      <th>MSE</th>\n",
       "    </tr>\n",
       "  </thead>\n",
       "  <tbody>\n",
       "    <tr>\n",
       "      <th>5128</th>\n",
       "      <td>0.305603</td>\n",
       "      <td>0.113362</td>\n",
       "      <td>0.297876</td>\n",
       "      <td>0.283160</td>\n",
       "      <td>0.000003</td>\n",
       "    </tr>\n",
       "    <tr>\n",
       "      <th>4509</th>\n",
       "      <td>0.288856</td>\n",
       "      <td>0.119187</td>\n",
       "      <td>0.317146</td>\n",
       "      <td>0.274812</td>\n",
       "      <td>0.000003</td>\n",
       "    </tr>\n",
       "    <tr>\n",
       "      <th>4711</th>\n",
       "      <td>0.322295</td>\n",
       "      <td>0.121851</td>\n",
       "      <td>0.315153</td>\n",
       "      <td>0.240701</td>\n",
       "      <td>0.000003</td>\n",
       "    </tr>\n",
       "    <tr>\n",
       "      <th>7330</th>\n",
       "      <td>0.313272</td>\n",
       "      <td>0.121647</td>\n",
       "      <td>0.299640</td>\n",
       "      <td>0.265440</td>\n",
       "      <td>0.000003</td>\n",
       "    </tr>\n",
       "    <tr>\n",
       "      <th>8960</th>\n",
       "      <td>0.245115</td>\n",
       "      <td>0.124040</td>\n",
       "      <td>0.330903</td>\n",
       "      <td>0.299942</td>\n",
       "      <td>0.000003</td>\n",
       "    </tr>\n",
       "    <tr>\n",
       "      <th>8680</th>\n",
       "      <td>0.293902</td>\n",
       "      <td>0.121821</td>\n",
       "      <td>0.282425</td>\n",
       "      <td>0.301852</td>\n",
       "      <td>0.000003</td>\n",
       "    </tr>\n",
       "    <tr>\n",
       "      <th>718</th>\n",
       "      <td>0.259483</td>\n",
       "      <td>0.125001</td>\n",
       "      <td>0.308023</td>\n",
       "      <td>0.307492</td>\n",
       "      <td>0.000003</td>\n",
       "    </tr>\n",
       "    <tr>\n",
       "      <th>8524</th>\n",
       "      <td>0.310954</td>\n",
       "      <td>0.124606</td>\n",
       "      <td>0.324430</td>\n",
       "      <td>0.240009</td>\n",
       "      <td>0.000003</td>\n",
       "    </tr>\n",
       "    <tr>\n",
       "      <th>5614</th>\n",
       "      <td>0.306399</td>\n",
       "      <td>0.124313</td>\n",
       "      <td>0.291747</td>\n",
       "      <td>0.277541</td>\n",
       "      <td>0.000003</td>\n",
       "    </tr>\n",
       "    <tr>\n",
       "      <th>9455</th>\n",
       "      <td>0.269456</td>\n",
       "      <td>0.125374</td>\n",
       "      <td>0.300489</td>\n",
       "      <td>0.304681</td>\n",
       "      <td>0.000003</td>\n",
       "    </tr>\n",
       "  </tbody>\n",
       "</table>\n",
       "</div>"
      ],
      "text/plain": [
       "            w1        w2        w3        w4       MSE\n",
       "5128  0.305603  0.113362  0.297876  0.283160  0.000003\n",
       "4509  0.288856  0.119187  0.317146  0.274812  0.000003\n",
       "4711  0.322295  0.121851  0.315153  0.240701  0.000003\n",
       "7330  0.313272  0.121647  0.299640  0.265440  0.000003\n",
       "8960  0.245115  0.124040  0.330903  0.299942  0.000003\n",
       "8680  0.293902  0.121821  0.282425  0.301852  0.000003\n",
       "718   0.259483  0.125001  0.308023  0.307492  0.000003\n",
       "8524  0.310954  0.124606  0.324430  0.240009  0.000003\n",
       "5614  0.306399  0.124313  0.291747  0.277541  0.000003\n",
       "9455  0.269456  0.125374  0.300489  0.304681  0.000003"
      ]
     },
     "execution_count": 48,
     "metadata": {},
     "output_type": "execute_result"
    }
   ],
   "source": [
    "models = {'DecisionTree' : dt, 'RandomForest' : rf,\n",
    "          'XGBOOST': xgb_reg, 'LightGBM' : lgb_reg}\n",
    "\n",
    "ensemble = EnsembleRegressor(models, weights=None)\n",
    "result = ensemble.random_search(X_test, y_test, 10000)\n",
    "result.head(10)"
   ]
  },
  {
   "cell_type": "code",
   "execution_count": 49,
   "metadata": {},
   "outputs": [
    {
     "name": "stdout",
     "output_type": "stream",
     "text": [
      "[0.3056030869483948, 0.11336161196231842, 0.2978757619857788, 0.2831595838069916]\n"
     ]
    }
   ],
   "source": [
    "optimal_weight = result.iloc[0,:4].tolist()\n",
    "print(optimal_weight)"
   ]
  },
  {
   "cell_type": "code",
   "execution_count": 50,
   "metadata": {},
   "outputs": [
    {
     "name": "stdout",
     "output_type": "stream",
     "text": [
      "[0.23420818 0.18222779 0.33351433 0.28658284 0.34434369 0.40300548\n",
      " 0.27566065 0.37199528 0.08298722 0.27460052]\n"
     ]
    }
   ],
   "source": [
    "ensemble = EnsembleRegressor(models, weights=optimal_weight)\n",
    "\n",
    "preds = ensemble.predict(X_test)\n",
    "print(preds[:10])"
   ]
  },
  {
   "cell_type": "code",
   "execution_count": 51,
   "metadata": {},
   "outputs": [
    {
     "name": "stdout",
     "output_type": "stream",
     "text": [
      "[0.23417039 0.18224254 0.33354443 0.28657521 0.34434414 0.40305575\n",
      " 0.2756616  0.37200119 0.08298241 0.2756616 ]\n"
     ]
    }
   ],
   "source": [
    "print( y_test[:10])"
   ]
  },
  {
   "cell_type": "code",
   "execution_count": 52,
   "metadata": {},
   "outputs": [
    {
     "data": {
      "text/plain": [
       "2.91585546882676e-06"
      ]
     },
     "execution_count": 52,
     "metadata": {},
     "output_type": "execute_result"
    }
   ],
   "source": [
    "mean_squared_error(y_test, preds)"
   ]
  },
  {
   "cell_type": "markdown",
   "metadata": {},
   "source": [
    "# Evaluation"
   ]
  },
  {
   "cell_type": "code",
   "execution_count": 53,
   "metadata": {},
   "outputs": [
    {
     "name": "stdout",
     "output_type": "stream",
     "text": [
      "[ 50.03157206  20.99482551 262.86779618 120.01528648 314.99765157\n",
      " 839.29489376  99.99842108 499.95062115   4.0003213   98.24299161]\n",
      "[ 50.  21. 263. 120. 315. 840. 100. 500.   4. 100.]\n"
     ]
    }
   ],
   "source": [
    "inverse_transformed_pred = np.exp(preds * minmax_scaler.data_range_[1] + minmax_scaler.data_min_[1])\n",
    "inverse_transformed_y_test = np.exp(y_test * minmax_scaler.data_range_[1] + minmax_scaler.data_min_[1])\n",
    "\n",
    "print(inverse_transformed_pred[:10])\n",
    "print(inverse_transformed_y_test[:10])"
   ]
  },
  {
   "cell_type": "code",
   "execution_count": null,
   "metadata": {},
   "outputs": [],
   "source": []
  }
 ],
 "metadata": {
  "kernelspec": {
   "display_name": "Python 3",
   "language": "python",
   "name": "python3"
  },
  "language_info": {
   "codemirror_mode": {
    "name": "ipython",
    "version": 3
   },
   "file_extension": ".py",
   "mimetype": "text/x-python",
   "name": "python",
   "nbconvert_exporter": "python",
   "pygments_lexer": "ipython3",
   "version": "3.8.5"
  }
 },
 "nbformat": 4,
 "nbformat_minor": 4
}
