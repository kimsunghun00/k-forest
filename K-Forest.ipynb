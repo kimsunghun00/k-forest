{
 "cells": [
  {
   "cell_type": "markdown",
   "metadata": {},
   "source": [
    "## Load Data"
   ]
  },
  {
   "cell_type": "code",
   "execution_count": 1,
   "metadata": {},
   "outputs": [
    {
     "data": {
      "text/html": [
       "<div>\n",
       "<style scoped>\n",
       "    .dataframe tbody tr th:only-of-type {\n",
       "        vertical-align: middle;\n",
       "    }\n",
       "\n",
       "    .dataframe tbody tr th {\n",
       "        vertical-align: top;\n",
       "    }\n",
       "\n",
       "    .dataframe thead th {\n",
       "        text-align: right;\n",
       "    }\n",
       "</style>\n",
       "<table border=\"1\" class=\"dataframe\">\n",
       "  <thead>\n",
       "    <tr style=\"text-align: right;\">\n",
       "      <th></th>\n",
       "      <th>시도/청</th>\n",
       "      <th>시군구/관리소</th>\n",
       "      <th>임가번호</th>\n",
       "      <th>구분(재배/채취)</th>\n",
       "      <th>구분(재배/채취).1</th>\n",
       "      <th>구분(재배/채취).2</th>\n",
       "      <th>Unnamed: 6</th>\n",
       "      <th>구분(재배/채취).3</th>\n",
       "      <th>품목</th>\n",
       "      <th>품목.1</th>\n",
       "      <th>품목.2</th>\n",
       "      <th>품목.3</th>\n",
       "      <th>최종값</th>\n",
       "      <th>Unnamed: 13</th>\n",
       "      <th>Unnamed: 14</th>\n",
       "      <th>비고</th>\n",
       "      <th>점검사항</th>\n",
       "      <th>등록자</th>\n",
       "      <th>최초등록일</th>\n",
       "      <th>최종수정일</th>\n",
       "    </tr>\n",
       "  </thead>\n",
       "  <tbody>\n",
       "    <tr>\n",
       "      <th>0</th>\n",
       "      <td>NaN</td>\n",
       "      <td>NaN</td>\n",
       "      <td>NaN</td>\n",
       "      <td>재배채취</td>\n",
       "      <td>재배기준</td>\n",
       "      <td>재배면적</td>\n",
       "      <td>환산면적</td>\n",
       "      <td>재배단위</td>\n",
       "      <td>대분류</td>\n",
       "      <td>중분류</td>\n",
       "      <td>소분류</td>\n",
       "      <td>품목단위</td>\n",
       "      <td>생산량</td>\n",
       "      <td>단가</td>\n",
       "      <td>생산액</td>\n",
       "      <td>NaN</td>\n",
       "      <td>NaN</td>\n",
       "      <td>NaN</td>\n",
       "      <td>NaN</td>\n",
       "      <td>NaN</td>\n",
       "    </tr>\n",
       "    <tr>\n",
       "      <th>1</th>\n",
       "      <td>서울특별시</td>\n",
       "      <td>종로구</td>\n",
       "      <td>341235.0</td>\n",
       "      <td>채취</td>\n",
       "      <td>NaN</td>\n",
       "      <td>0</td>\n",
       "      <td>0</td>\n",
       "      <td>㎡</td>\n",
       "      <td>수실</td>\n",
       "      <td>재배수실</td>\n",
       "      <td>은행</td>\n",
       "      <td>kg</td>\n",
       "      <td>36920</td>\n",
       "      <td>3000</td>\n",
       "      <td>110760000</td>\n",
       "      <td>3영급 (20년생 이상)의 나무</td>\n",
       "      <td>NaN</td>\n",
       "      <td>A1001P101</td>\n",
       "      <td>2018-04-24</td>\n",
       "      <td>2018-04-24</td>\n",
       "    </tr>\n",
       "    <tr>\n",
       "      <th>2</th>\n",
       "      <td>서울특별시</td>\n",
       "      <td>중구</td>\n",
       "      <td>341243.0</td>\n",
       "      <td>채취</td>\n",
       "      <td>NaN</td>\n",
       "      <td>0</td>\n",
       "      <td>0</td>\n",
       "      <td>㎡</td>\n",
       "      <td>수실</td>\n",
       "      <td>재배수실</td>\n",
       "      <td>은행</td>\n",
       "      <td>kg</td>\n",
       "      <td>22720</td>\n",
       "      <td>3000</td>\n",
       "      <td>68160000</td>\n",
       "      <td>3영급 (20년생 이상)의 나무</td>\n",
       "      <td>NaN</td>\n",
       "      <td>A1001P101</td>\n",
       "      <td>2018-04-24</td>\n",
       "      <td>2018-04-24</td>\n",
       "    </tr>\n",
       "  </tbody>\n",
       "</table>\n",
       "</div>"
      ],
      "text/plain": [
       "    시도/청 시군구/관리소      임가번호 구분(재배/채취) 구분(재배/채취).1 구분(재배/채취).2 Unnamed: 6  \\\n",
       "0    NaN     NaN       NaN      재배채취        재배기준        재배면적       환산면적   \n",
       "1  서울특별시     종로구  341235.0        채취         NaN           0          0   \n",
       "2  서울특별시      중구  341243.0        채취         NaN           0          0   \n",
       "\n",
       "  구분(재배/채취).3   품목  품목.1 품목.2  품목.3    최종값 Unnamed: 13 Unnamed: 14  \\\n",
       "0        재배단위  대분류   중분류  소분류  품목단위    생산량          단가         생산액   \n",
       "1           ㎡   수실  재배수실   은행    kg  36920        3000   110760000   \n",
       "2           ㎡   수실  재배수실   은행    kg  22720        3000    68160000   \n",
       "\n",
       "                  비고  점검사항        등록자       최초등록일       최종수정일  \n",
       "0                NaN   NaN        NaN         NaN         NaN  \n",
       "1  3영급 (20년생 이상)의 나무   NaN  A1001P101  2018-04-24  2018-04-24  \n",
       "2  3영급 (20년생 이상)의 나무   NaN  A1001P101  2018-04-24  2018-04-24  "
      ]
     },
     "execution_count": 1,
     "metadata": {},
     "output_type": "execute_result"
    }
   ],
   "source": [
    "import pandas as pd\n",
    "import numpy as np\n",
    "\n",
    "original_data = pd.read_excel('2017임산물생산조사.xlsx')\n",
    "original_data.head(3)"
   ]
  },
  {
   "cell_type": "code",
   "execution_count": 2,
   "metadata": {},
   "outputs": [
    {
     "data": {
      "text/html": [
       "<div>\n",
       "<style scoped>\n",
       "    .dataframe tbody tr th:only-of-type {\n",
       "        vertical-align: middle;\n",
       "    }\n",
       "\n",
       "    .dataframe tbody tr th {\n",
       "        vertical-align: top;\n",
       "    }\n",
       "\n",
       "    .dataframe thead th {\n",
       "        text-align: right;\n",
       "    }\n",
       "</style>\n",
       "<table border=\"1\" class=\"dataframe\">\n",
       "  <thead>\n",
       "    <tr style=\"text-align: right;\">\n",
       "      <th></th>\n",
       "      <th>시도/청</th>\n",
       "      <th>재배채취</th>\n",
       "      <th>재배기준</th>\n",
       "      <th>재배면적</th>\n",
       "      <th>환산면적</th>\n",
       "      <th>품목 대분류</th>\n",
       "      <th>품목 중분류</th>\n",
       "      <th>품목 소분류</th>\n",
       "      <th>생산량</th>\n",
       "    </tr>\n",
       "  </thead>\n",
       "  <tbody>\n",
       "    <tr>\n",
       "      <th>1</th>\n",
       "      <td>서울특별시</td>\n",
       "      <td>채취</td>\n",
       "      <td>NaN</td>\n",
       "      <td>0</td>\n",
       "      <td>0</td>\n",
       "      <td>수실</td>\n",
       "      <td>재배수실</td>\n",
       "      <td>은행</td>\n",
       "      <td>36920</td>\n",
       "    </tr>\n",
       "    <tr>\n",
       "      <th>2</th>\n",
       "      <td>서울특별시</td>\n",
       "      <td>채취</td>\n",
       "      <td>NaN</td>\n",
       "      <td>0</td>\n",
       "      <td>0</td>\n",
       "      <td>수실</td>\n",
       "      <td>재배수실</td>\n",
       "      <td>은행</td>\n",
       "      <td>22720</td>\n",
       "    </tr>\n",
       "    <tr>\n",
       "      <th>3</th>\n",
       "      <td>서울특별시</td>\n",
       "      <td>채취</td>\n",
       "      <td>NaN</td>\n",
       "      <td>0</td>\n",
       "      <td>0</td>\n",
       "      <td>수실</td>\n",
       "      <td>재배수실</td>\n",
       "      <td>은행</td>\n",
       "      <td>41440</td>\n",
       "    </tr>\n",
       "    <tr>\n",
       "      <th>4</th>\n",
       "      <td>서울특별시</td>\n",
       "      <td>채취</td>\n",
       "      <td>NaN</td>\n",
       "      <td>0</td>\n",
       "      <td>0</td>\n",
       "      <td>수실</td>\n",
       "      <td>재배수실</td>\n",
       "      <td>은행</td>\n",
       "      <td>9960</td>\n",
       "    </tr>\n",
       "    <tr>\n",
       "      <th>5</th>\n",
       "      <td>서울특별시</td>\n",
       "      <td>채취</td>\n",
       "      <td>NaN</td>\n",
       "      <td>0</td>\n",
       "      <td>0</td>\n",
       "      <td>수실</td>\n",
       "      <td>재배수실</td>\n",
       "      <td>은행</td>\n",
       "      <td>12800</td>\n",
       "    </tr>\n",
       "    <tr>\n",
       "      <th>...</th>\n",
       "      <td>...</td>\n",
       "      <td>...</td>\n",
       "      <td>...</td>\n",
       "      <td>...</td>\n",
       "      <td>...</td>\n",
       "      <td>...</td>\n",
       "      <td>...</td>\n",
       "      <td>...</td>\n",
       "      <td>...</td>\n",
       "    </tr>\n",
       "    <tr>\n",
       "      <th>106875</th>\n",
       "      <td>경상북도</td>\n",
       "      <td>채취</td>\n",
       "      <td>NaN</td>\n",
       "      <td>NaN</td>\n",
       "      <td>0</td>\n",
       "      <td>수액</td>\n",
       "      <td>수액</td>\n",
       "      <td>고로쇠</td>\n",
       "      <td>3600</td>\n",
       "    </tr>\n",
       "    <tr>\n",
       "      <th>106876</th>\n",
       "      <td>경상북도</td>\n",
       "      <td>채취</td>\n",
       "      <td>NaN</td>\n",
       "      <td>NaN</td>\n",
       "      <td>0</td>\n",
       "      <td>수액</td>\n",
       "      <td>수액</td>\n",
       "      <td>고로쇠</td>\n",
       "      <td>10800</td>\n",
       "    </tr>\n",
       "    <tr>\n",
       "      <th>106877</th>\n",
       "      <td>경상북도</td>\n",
       "      <td>채취</td>\n",
       "      <td>NaN</td>\n",
       "      <td>NaN</td>\n",
       "      <td>0</td>\n",
       "      <td>수액</td>\n",
       "      <td>수액</td>\n",
       "      <td>고로쇠</td>\n",
       "      <td>18000</td>\n",
       "    </tr>\n",
       "    <tr>\n",
       "      <th>106878</th>\n",
       "      <td>경상북도</td>\n",
       "      <td>채취</td>\n",
       "      <td>NaN</td>\n",
       "      <td>NaN</td>\n",
       "      <td>0</td>\n",
       "      <td>수액</td>\n",
       "      <td>수액</td>\n",
       "      <td>고로쇠</td>\n",
       "      <td>1800</td>\n",
       "    </tr>\n",
       "    <tr>\n",
       "      <th>106879</th>\n",
       "      <td>경상북도</td>\n",
       "      <td>채취</td>\n",
       "      <td>NaN</td>\n",
       "      <td>NaN</td>\n",
       "      <td>0</td>\n",
       "      <td>수액</td>\n",
       "      <td>수액</td>\n",
       "      <td>고로쇠</td>\n",
       "      <td>3240</td>\n",
       "    </tr>\n",
       "  </tbody>\n",
       "</table>\n",
       "<p>106879 rows × 9 columns</p>\n",
       "</div>"
      ],
      "text/plain": [
       "         시도/청 재배채취 재배기준 재배면적 환산면적 품목 대분류 품목 중분류 품목 소분류    생산량\n",
       "1       서울특별시   채취  NaN    0    0     수실   재배수실     은행  36920\n",
       "2       서울특별시   채취  NaN    0    0     수실   재배수실     은행  22720\n",
       "3       서울특별시   채취  NaN    0    0     수실   재배수실     은행  41440\n",
       "4       서울특별시   채취  NaN    0    0     수실   재배수실     은행   9960\n",
       "5       서울특별시   채취  NaN    0    0     수실   재배수실     은행  12800\n",
       "...       ...  ...  ...  ...  ...    ...    ...    ...    ...\n",
       "106875   경상북도   채취  NaN  NaN    0     수액     수액    고로쇠   3600\n",
       "106876   경상북도   채취  NaN  NaN    0     수액     수액    고로쇠  10800\n",
       "106877   경상북도   채취  NaN  NaN    0     수액     수액    고로쇠  18000\n",
       "106878   경상북도   채취  NaN  NaN    0     수액     수액    고로쇠   1800\n",
       "106879   경상북도   채취  NaN  NaN    0     수액     수액    고로쇠   3240\n",
       "\n",
       "[106879 rows x 9 columns]"
      ]
     },
     "execution_count": 2,
     "metadata": {},
     "output_type": "execute_result"
    }
   ],
   "source": [
    "data = original_data.iloc[1:, [0, 3, 4, 5, 6, 8, 9, 10, 12]]\n",
    "data.rename(columns={'구분(재배/채취)' : '재배채취',\n",
    "                     '구분(재배/채취).1' : '재배기준',\n",
    "                     '구분(재배/채취).2' : '재배면적',\n",
    "                     'Unnamed: 6' : '환산면적',\n",
    "                     '품목' : '품목 대분류',\n",
    "                     '품목.1' : '품목 중분류',\n",
    "                     '품목.2' : '품목 소분류',\n",
    "                     '최종값' : '생산량'},\n",
    "            inplace = True)\n",
    "data"
   ]
  },
  {
   "cell_type": "markdown",
   "metadata": {},
   "source": [
    "### Cheack NaNs"
   ]
  },
  {
   "cell_type": "code",
   "execution_count": 3,
   "metadata": {
    "scrolled": true
   },
   "outputs": [
    {
     "data": {
      "text/plain": [
       "시도/청          0\n",
       "재배채취        977\n",
       "재배기준      18752\n",
       "재배면적       1049\n",
       "환산면적          0\n",
       "품목 대분류        0\n",
       "품목 중분류        0\n",
       "품목 소분류        0\n",
       "생산량           0\n",
       "dtype: int64"
      ]
     },
     "execution_count": 3,
     "metadata": {},
     "output_type": "execute_result"
    }
   ],
   "source": [
    "data.isnull().sum()"
   ]
  },
  {
   "cell_type": "code",
   "execution_count": 4,
   "metadata": {},
   "outputs": [
    {
     "data": {
      "text/plain": [
       "시도/청      0\n",
       "재배채취      0\n",
       "재배기준      0\n",
       "재배면적      0\n",
       "환산면적      0\n",
       "품목 대분류    0\n",
       "품목 중분류    0\n",
       "품목 소분류    0\n",
       "생산량       0\n",
       "dtype: int64"
      ]
     },
     "execution_count": 4,
     "metadata": {},
     "output_type": "execute_result"
    }
   ],
   "source": [
    "# drop nan's\n",
    "data.dropna(axis=0, inplace = True)\n",
    "data.isnull().sum()"
   ]
  },
  {
   "cell_type": "markdown",
   "metadata": {},
   "source": [
    "# variable preprocessing and Visualization\n",
    "### 시도/청"
   ]
  },
  {
   "cell_type": "code",
   "execution_count": 5,
   "metadata": {},
   "outputs": [
    {
     "data": {
      "text/plain": [
       "전라남도       17642\n",
       "경상북도       14728\n",
       "경상남도       14464\n",
       "전라북도       13046\n",
       "강원도        12382\n",
       "충청남도        8081\n",
       "충청북도        3149\n",
       "경기도         2361\n",
       "세종특별자치시      379\n",
       "남부지방산림청      330\n",
       "서부지방산림청      277\n",
       "대구광역시        216\n",
       "울산광역시        206\n",
       "동부지방산림청      187\n",
       "대전광역시        152\n",
       "북부지방산림청      123\n",
       "광주광역시        122\n",
       "제주특별자치도       98\n",
       "부산광역시         69\n",
       "인천광역시         64\n",
       "중부지방산림청       43\n",
       "서울특별시          7\n",
       "국립산림과학원        1\n",
       "Name: 시도/청, dtype: int64"
      ]
     },
     "execution_count": 5,
     "metadata": {},
     "output_type": "execute_result"
    }
   ],
   "source": [
    "data['시도/청'].value_counts()"
   ]
  },
  {
   "cell_type": "code",
   "execution_count": 6,
   "metadata": {},
   "outputs": [
    {
     "data": {
      "text/plain": [
       "전라남도       17642\n",
       "경상북도       15058\n",
       "경상남도       14464\n",
       "전라북도       13323\n",
       "강원도        12692\n",
       "충청남도        8124\n",
       "충청북도        3149\n",
       "경기도         2361\n",
       "세종특별자치시      379\n",
       "대구광역시        216\n",
       "울산광역시        206\n",
       "대전광역시        152\n",
       "광주광역시        122\n",
       "제주특별자치도       98\n",
       "부산광역시         69\n",
       "인천광역시         64\n",
       "서울특별시          8\n",
       "Name: 시도/청, dtype: int64"
      ]
     },
     "execution_count": 6,
     "metadata": {},
     "output_type": "execute_result"
    }
   ],
   "source": [
    "data.replace({'시도/청': {'국립산림과학원' : '서울특별시',\n",
    "                        '서부지방산림청' : '전라북도',\n",
    "                        '남부지방산림청' : '경상북도',\n",
    "                        '동부지방산림청' : '강원도',\n",
    "                        '북부지방산림청' : '강원도',\n",
    "                        '중부지방산림청' : '충청남도',\n",
    "                        '국립산림품종관리센터' : '충청북도',\n",
    "                        '국립수목원' : '경기도'}},\n",
    "             inplace=True)\n",
    "data['시도/청'].value_counts()"
   ]
  },
  {
   "cell_type": "code",
   "execution_count": 7,
   "metadata": {},
   "outputs": [
    {
     "data": {
      "image/png": "[encoded data removed]",
      "text/plain": [
       "<Figure size 2160x1080 with 1 Axes>"
      ]
     },
     "metadata": {
      "needs_background": "light"
     },
     "output_type": "display_data"
    }
   ],
   "source": [
    "import matplotlib.pyplot as plt\n",
    "import seaborn as sns\n",
    "plt.rcParams['font.family'] = 'AppleGothic'\n",
    "plt.rcParams[\"axes.labelsize\"] = 15\n",
    "\n",
    "ax = plt.figure(figsize=(30,15))\n",
    "sns.countplot(x=\"시도/청\", data=data)\n",
    "plt.title('전국 분포', fontsize=30)\n",
    "plt.show()"
   ]
  },
  {
   "cell_type": "markdown",
   "metadata": {},
   "source": [
    "### 재배채취"
   ]
  },
  {
   "cell_type": "code",
   "execution_count": 8,
   "metadata": {},
   "outputs": [
    {
     "data": {
      "image/png": "[encoded data removed]",
      "text/plain": [
       "<Figure size 720x576 with 1 Axes>"
      ]
     },
     "metadata": {
      "needs_background": "light"
     },
     "output_type": "display_data"
    }
   ],
   "source": [
    "ax = plt.figure(figsize=(10,8))\n",
    "sns.countplot(x=\"재배채취\", data=data)\n",
    "plt.show()"
   ]
  },
  {
   "cell_type": "markdown",
   "metadata": {},
   "source": [
    "### 재배면적"
   ]
  },
  {
   "cell_type": "code",
   "execution_count": 9,
   "metadata": {},
   "outputs": [],
   "source": [
    "data.replace({'재배면적': {0 : np.NaN}},\n",
    "             inplace=True)\n",
    "data.dropna(axis=0, inplace=True)"
   ]
  },
  {
   "cell_type": "code",
   "execution_count": 10,
   "metadata": {},
   "outputs": [
    {
     "data": {
      "image/png": "[encoded data removed]",
      "text/plain": [
       "<Figure size 432x288 with 1 Axes>"
      ]
     },
     "metadata": {
      "needs_background": "light"
     },
     "output_type": "display_data"
    },
    {
     "name": "stderr",
     "output_type": "stream",
     "text": [
      "/Users/kimsunghun/opt/anaconda3/lib/python3.8/site-packages/matplotlib/backends/backend_agg.py:238: RuntimeWarning: Glyph 8722 missing from current font.\n",
      "  font.set_text(s, 0.0, flags=flags)\n",
      "/Users/kimsunghun/opt/anaconda3/lib/python3.8/site-packages/matplotlib/backends/backend_agg.py:201: RuntimeWarning: Glyph 8722 missing from current font.\n",
      "  font.set_text(s, 0, flags=flags)\n"
     ]
    },
    {
     "data": {
      "image/png": "[encoded data removed]",
      "text/plain": [
       "<Figure size 432x288 with 1 Axes>"
      ]
     },
     "metadata": {
      "needs_background": "light"
     },
     "output_type": "display_data"
    }
   ],
   "source": [
    "data['재배면적'].hist(bins=30)\n",
    "plt.title('재배면적 히스토그램')\n",
    "plt.show()\n",
    "\n",
    "pd.Series(np.log(data['재배면적'].astype(float))).hist(bins=30)\n",
    "plt.title('log(재배면적) 히스토그램')\n",
    "plt.show()"
   ]
  },
  {
   "cell_type": "code",
   "execution_count": 11,
   "metadata": {},
   "outputs": [
    {
     "data": {
      "text/html": [
       "<div>\n",
       "<style scoped>\n",
       "    .dataframe tbody tr th:only-of-type {\n",
       "        vertical-align: middle;\n",
       "    }\n",
       "\n",
       "    .dataframe tbody tr th {\n",
       "        vertical-align: top;\n",
       "    }\n",
       "\n",
       "    .dataframe thead th {\n",
       "        text-align: right;\n",
       "    }\n",
       "</style>\n",
       "<table border=\"1\" class=\"dataframe\">\n",
       "  <thead>\n",
       "    <tr style=\"text-align: right;\">\n",
       "      <th></th>\n",
       "      <th>시도/청</th>\n",
       "      <th>재배채취</th>\n",
       "      <th>재배기준</th>\n",
       "      <th>재배면적</th>\n",
       "      <th>환산면적</th>\n",
       "      <th>품목 대분류</th>\n",
       "      <th>품목 중분류</th>\n",
       "      <th>품목 소분류</th>\n",
       "      <th>생산량</th>\n",
       "    </tr>\n",
       "  </thead>\n",
       "  <tbody>\n",
       "    <tr>\n",
       "      <th>8</th>\n",
       "      <td>서울특별시</td>\n",
       "      <td>재배</td>\n",
       "      <td>산지</td>\n",
       "      <td>5.105945</td>\n",
       "      <td>0</td>\n",
       "      <td>산나물</td>\n",
       "      <td>산나물</td>\n",
       "      <td>두릅</td>\n",
       "      <td>20</td>\n",
       "    </tr>\n",
       "    <tr>\n",
       "      <th>19</th>\n",
       "      <td>서울특별시</td>\n",
       "      <td>재배</td>\n",
       "      <td>노지</td>\n",
       "      <td>7.090077</td>\n",
       "      <td>3966.94</td>\n",
       "      <td>조경재</td>\n",
       "      <td>조경수</td>\n",
       "      <td>기타관목류</td>\n",
       "      <td>20000</td>\n",
       "    </tr>\n",
       "    <tr>\n",
       "      <th>26</th>\n",
       "      <td>서울특별시</td>\n",
       "      <td>재배</td>\n",
       "      <td>시설</td>\n",
       "      <td>5.703782</td>\n",
       "      <td>991.736</td>\n",
       "      <td>조경재</td>\n",
       "      <td>야생화</td>\n",
       "      <td>야생화</td>\n",
       "      <td>4000</td>\n",
       "    </tr>\n",
       "    <tr>\n",
       "      <th>27</th>\n",
       "      <td>서울특별시</td>\n",
       "      <td>재배</td>\n",
       "      <td>시설</td>\n",
       "      <td>5.703782</td>\n",
       "      <td>991.736</td>\n",
       "      <td>조경재</td>\n",
       "      <td>야생화</td>\n",
       "      <td>야생화</td>\n",
       "      <td>1000</td>\n",
       "    </tr>\n",
       "    <tr>\n",
       "      <th>28</th>\n",
       "      <td>서울특별시</td>\n",
       "      <td>재배</td>\n",
       "      <td>노지</td>\n",
       "      <td>6.214608</td>\n",
       "      <td>1652.89</td>\n",
       "      <td>조경재</td>\n",
       "      <td>조경수</td>\n",
       "      <td>기타관목류</td>\n",
       "      <td>15000</td>\n",
       "    </tr>\n",
       "  </tbody>\n",
       "</table>\n",
       "</div>"
      ],
      "text/plain": [
       "     시도/청 재배채취 재배기준      재배면적     환산면적 품목 대분류 품목 중분류 품목 소분류    생산량\n",
       "8   서울특별시   재배   산지  5.105945        0    산나물    산나물     두릅     20\n",
       "19  서울특별시   재배   노지  7.090077  3966.94    조경재    조경수  기타관목류  20000\n",
       "26  서울특별시   재배   시설  5.703782  991.736    조경재    야생화    야생화   4000\n",
       "27  서울특별시   재배   시설  5.703782  991.736    조경재    야생화    야생화   1000\n",
       "28  서울특별시   재배   노지  6.214608  1652.89    조경재    조경수  기타관목류  15000"
      ]
     },
     "execution_count": 11,
     "metadata": {},
     "output_type": "execute_result"
    }
   ],
   "source": [
    "data['재배면적'] = np.log(data['재배면적'].astype(float))\n",
    "data.head()"
   ]
  },
  {
   "cell_type": "markdown",
   "metadata": {},
   "source": [
    "### 환산면적"
   ]
  },
  {
   "cell_type": "code",
   "execution_count": 12,
   "metadata": {},
   "outputs": [],
   "source": [
    "data.replace({'환산면적': {0 : np.NaN}},\n",
    "             inplace=True)\n",
    "data.dropna(axis=0, inplace=True)"
   ]
  },
  {
   "cell_type": "code",
   "execution_count": 13,
   "metadata": {},
   "outputs": [
    {
     "data": {
      "image/png": "[encoded data removed]",
      "text/plain": [
       "<Figure size 432x288 with 1 Axes>"
      ]
     },
     "metadata": {
      "needs_background": "light"
     },
     "output_type": "display_data"
    },
    {
     "data": {
      "image/png": "[encoded data removed]",
      "text/plain": [
       "<Figure size 432x288 with 1 Axes>"
      ]
     },
     "metadata": {
      "needs_background": "light"
     },
     "output_type": "display_data"
    }
   ],
   "source": [
    "data['환산면적'].hist(bins=30)\n",
    "plt.title('환산면적 히스토그램')\n",
    "plt.show()\n",
    "\n",
    "pd.Series(np.log(data['환산면적'].astype(float))).hist(bins=30)\n",
    "plt.title('log(환산면적) 히스토그램')\n",
    "plt.show()"
   ]
  },
  {
   "cell_type": "code",
   "execution_count": 14,
   "metadata": {},
   "outputs": [
    {
     "data": {
      "text/html": [
       "<div>\n",
       "<style scoped>\n",
       "    .dataframe tbody tr th:only-of-type {\n",
       "        vertical-align: middle;\n",
       "    }\n",
       "\n",
       "    .dataframe tbody tr th {\n",
       "        vertical-align: top;\n",
       "    }\n",
       "\n",
       "    .dataframe thead th {\n",
       "        text-align: right;\n",
       "    }\n",
       "</style>\n",
       "<table border=\"1\" class=\"dataframe\">\n",
       "  <thead>\n",
       "    <tr style=\"text-align: right;\">\n",
       "      <th></th>\n",
       "      <th>시도/청</th>\n",
       "      <th>재배채취</th>\n",
       "      <th>재배기준</th>\n",
       "      <th>재배면적</th>\n",
       "      <th>환산면적</th>\n",
       "      <th>품목 대분류</th>\n",
       "      <th>품목 중분류</th>\n",
       "      <th>품목 소분류</th>\n",
       "      <th>생산량</th>\n",
       "    </tr>\n",
       "  </thead>\n",
       "  <tbody>\n",
       "    <tr>\n",
       "      <th>19</th>\n",
       "      <td>서울특별시</td>\n",
       "      <td>재배</td>\n",
       "      <td>노지</td>\n",
       "      <td>7.090077</td>\n",
       "      <td>8.285751</td>\n",
       "      <td>조경재</td>\n",
       "      <td>조경수</td>\n",
       "      <td>기타관목류</td>\n",
       "      <td>20000</td>\n",
       "    </tr>\n",
       "    <tr>\n",
       "      <th>26</th>\n",
       "      <td>서울특별시</td>\n",
       "      <td>재배</td>\n",
       "      <td>시설</td>\n",
       "      <td>5.703782</td>\n",
       "      <td>6.899456</td>\n",
       "      <td>조경재</td>\n",
       "      <td>야생화</td>\n",
       "      <td>야생화</td>\n",
       "      <td>4000</td>\n",
       "    </tr>\n",
       "    <tr>\n",
       "      <th>27</th>\n",
       "      <td>서울특별시</td>\n",
       "      <td>재배</td>\n",
       "      <td>시설</td>\n",
       "      <td>5.703782</td>\n",
       "      <td>6.899456</td>\n",
       "      <td>조경재</td>\n",
       "      <td>야생화</td>\n",
       "      <td>야생화</td>\n",
       "      <td>1000</td>\n",
       "    </tr>\n",
       "    <tr>\n",
       "      <th>28</th>\n",
       "      <td>서울특별시</td>\n",
       "      <td>재배</td>\n",
       "      <td>노지</td>\n",
       "      <td>6.214608</td>\n",
       "      <td>7.410282</td>\n",
       "      <td>조경재</td>\n",
       "      <td>조경수</td>\n",
       "      <td>기타관목류</td>\n",
       "      <td>15000</td>\n",
       "    </tr>\n",
       "    <tr>\n",
       "      <th>31</th>\n",
       "      <td>서울특별시</td>\n",
       "      <td>재배</td>\n",
       "      <td>시설</td>\n",
       "      <td>6.907755</td>\n",
       "      <td>8.103429</td>\n",
       "      <td>약용식물</td>\n",
       "      <td>약초</td>\n",
       "      <td>당귀</td>\n",
       "      <td>6000</td>\n",
       "    </tr>\n",
       "  </tbody>\n",
       "</table>\n",
       "</div>"
      ],
      "text/plain": [
       "     시도/청 재배채취 재배기준      재배면적      환산면적 품목 대분류 품목 중분류 품목 소분류    생산량\n",
       "19  서울특별시   재배   노지  7.090077  8.285751    조경재    조경수  기타관목류  20000\n",
       "26  서울특별시   재배   시설  5.703782  6.899456    조경재    야생화    야생화   4000\n",
       "27  서울특별시   재배   시설  5.703782  6.899456    조경재    야생화    야생화   1000\n",
       "28  서울특별시   재배   노지  6.214608  7.410282    조경재    조경수  기타관목류  15000\n",
       "31  서울특별시   재배   시설  6.907755  8.103429   약용식물     약초     당귀   6000"
      ]
     },
     "execution_count": 14,
     "metadata": {},
     "output_type": "execute_result"
    }
   ],
   "source": [
    "data['환산면적'] = np.log(data['환산면적'].astype(float))\n",
    "data.head()"
   ]
  },
  {
   "cell_type": "markdown",
   "metadata": {},
   "source": [
    "### 품목 대분류"
   ]
  },
  {
   "cell_type": "code",
   "execution_count": 15,
   "metadata": {},
   "outputs": [
    {
     "data": {
      "image/png": "[encoded data removed]",
      "text/plain": [
       "<Figure size 2160x1080 with 1 Axes>"
      ]
     },
     "metadata": {
      "needs_background": "light"
     },
     "output_type": "display_data"
    }
   ],
   "source": [
    "plt.rcParams[\"axes.labelsize\"] = 15\n",
    "\n",
    "ax = plt.figure(figsize=(30,15))\n",
    "sns.countplot(x=\"품목 대분류\", data=data)\n",
    "plt.show()"
   ]
  },
  {
   "cell_type": "markdown",
   "metadata": {},
   "source": [
    "### 품목 중분류"
   ]
  },
  {
   "cell_type": "code",
   "execution_count": 16,
   "metadata": {},
   "outputs": [
    {
     "data": {
      "image/png": "[encoded data removed]",
      "text/plain": [
       "<Figure size 2160x1080 with 1 Axes>"
      ]
     },
     "metadata": {
      "needs_background": "light"
     },
     "output_type": "display_data"
    }
   ],
   "source": [
    "plt.rcParams[\"axes.labelsize\"] = 15\n",
    "\n",
    "ax = plt.figure(figsize=(30,15))\n",
    "sns.countplot(x=\"품목 중분류\", data=data)\n",
    "plt.show()"
   ]
  },
  {
   "cell_type": "markdown",
   "metadata": {},
   "source": [
    "### 품목 소분류"
   ]
  },
  {
   "cell_type": "code",
   "execution_count": 17,
   "metadata": {},
   "outputs": [
    {
     "data": {
      "image/png": "[encoded data removed]",
      "text/plain": [
       "<Figure size 2160x1080 with 1 Axes>"
      ]
     },
     "metadata": {
      "needs_background": "light"
     },
     "output_type": "display_data"
    }
   ],
   "source": [
    "plt.rcParams[\"axes.labelsize\"] = 15\n",
    "\n",
    "ax = plt.figure(figsize=(30,15))\n",
    "sns.countplot(x=\"품목 소분류\", data=data)\n",
    "plt.show()"
   ]
  },
  {
   "cell_type": "markdown",
   "metadata": {},
   "source": [
    "### 생산량"
   ]
  },
  {
   "cell_type": "code",
   "execution_count": 18,
   "metadata": {},
   "outputs": [],
   "source": [
    "data.replace({'생산량': {0 : np.NaN}},\n",
    "             inplace=True)\n",
    "data.dropna(axis=0, inplace=True)"
   ]
  },
  {
   "cell_type": "code",
   "execution_count": 19,
   "metadata": {},
   "outputs": [
    {
     "data": {
      "image/png": "[encoded data removed]",
      "text/plain": [
       "<Figure size 432x288 with 1 Axes>"
      ]
     },
     "metadata": {
      "needs_background": "light"
     },
     "output_type": "display_data"
    },
    {
     "data": {
      "image/png": "[encoded data removed]",
      "text/plain": [
       "<Figure size 432x288 with 1 Axes>"
      ]
     },
     "metadata": {
      "needs_background": "light"
     },
     "output_type": "display_data"
    }
   ],
   "source": [
    "data['생산량'].hist(bins=30)\n",
    "plt.title('생산량 히스토그램')\n",
    "plt.show()\n",
    "\n",
    "pd.Series(np.log(data['생산량'].astype(float))).hist(bins=30)\n",
    "plt.title('log(생산량) 히스토그램')\n",
    "plt.show()"
   ]
  },
  {
   "cell_type": "code",
   "execution_count": 20,
   "metadata": {},
   "outputs": [
    {
     "data": {
      "text/html": [
       "<div>\n",
       "<style scoped>\n",
       "    .dataframe tbody tr th:only-of-type {\n",
       "        vertical-align: middle;\n",
       "    }\n",
       "\n",
       "    .dataframe tbody tr th {\n",
       "        vertical-align: top;\n",
       "    }\n",
       "\n",
       "    .dataframe thead th {\n",
       "        text-align: right;\n",
       "    }\n",
       "</style>\n",
       "<table border=\"1\" class=\"dataframe\">\n",
       "  <thead>\n",
       "    <tr style=\"text-align: right;\">\n",
       "      <th></th>\n",
       "      <th>시도/청</th>\n",
       "      <th>재배채취</th>\n",
       "      <th>재배기준</th>\n",
       "      <th>재배면적</th>\n",
       "      <th>환산면적</th>\n",
       "      <th>품목 대분류</th>\n",
       "      <th>품목 중분류</th>\n",
       "      <th>품목 소분류</th>\n",
       "      <th>생산량</th>\n",
       "    </tr>\n",
       "  </thead>\n",
       "  <tbody>\n",
       "    <tr>\n",
       "      <th>19</th>\n",
       "      <td>서울특별시</td>\n",
       "      <td>재배</td>\n",
       "      <td>노지</td>\n",
       "      <td>7.090077</td>\n",
       "      <td>8.285751</td>\n",
       "      <td>조경재</td>\n",
       "      <td>조경수</td>\n",
       "      <td>기타관목류</td>\n",
       "      <td>9.903488</td>\n",
       "    </tr>\n",
       "    <tr>\n",
       "      <th>26</th>\n",
       "      <td>서울특별시</td>\n",
       "      <td>재배</td>\n",
       "      <td>시설</td>\n",
       "      <td>5.703782</td>\n",
       "      <td>6.899456</td>\n",
       "      <td>조경재</td>\n",
       "      <td>야생화</td>\n",
       "      <td>야생화</td>\n",
       "      <td>8.294050</td>\n",
       "    </tr>\n",
       "    <tr>\n",
       "      <th>27</th>\n",
       "      <td>서울특별시</td>\n",
       "      <td>재배</td>\n",
       "      <td>시설</td>\n",
       "      <td>5.703782</td>\n",
       "      <td>6.899456</td>\n",
       "      <td>조경재</td>\n",
       "      <td>야생화</td>\n",
       "      <td>야생화</td>\n",
       "      <td>6.907755</td>\n",
       "    </tr>\n",
       "    <tr>\n",
       "      <th>28</th>\n",
       "      <td>서울특별시</td>\n",
       "      <td>재배</td>\n",
       "      <td>노지</td>\n",
       "      <td>6.214608</td>\n",
       "      <td>7.410282</td>\n",
       "      <td>조경재</td>\n",
       "      <td>조경수</td>\n",
       "      <td>기타관목류</td>\n",
       "      <td>9.615805</td>\n",
       "    </tr>\n",
       "    <tr>\n",
       "      <th>31</th>\n",
       "      <td>서울특별시</td>\n",
       "      <td>재배</td>\n",
       "      <td>시설</td>\n",
       "      <td>6.907755</td>\n",
       "      <td>8.103429</td>\n",
       "      <td>약용식물</td>\n",
       "      <td>약초</td>\n",
       "      <td>당귀</td>\n",
       "      <td>8.699515</td>\n",
       "    </tr>\n",
       "  </tbody>\n",
       "</table>\n",
       "</div>"
      ],
      "text/plain": [
       "     시도/청 재배채취 재배기준      재배면적      환산면적 품목 대분류 품목 중분류 품목 소분류       생산량\n",
       "19  서울특별시   재배   노지  7.090077  8.285751    조경재    조경수  기타관목류  9.903488\n",
       "26  서울특별시   재배   시설  5.703782  6.899456    조경재    야생화    야생화  8.294050\n",
       "27  서울특별시   재배   시설  5.703782  6.899456    조경재    야생화    야생화  6.907755\n",
       "28  서울특별시   재배   노지  6.214608  7.410282    조경재    조경수  기타관목류  9.615805\n",
       "31  서울특별시   재배   시설  6.907755  8.103429   약용식물     약초     당귀  8.699515"
      ]
     },
     "execution_count": 20,
     "metadata": {},
     "output_type": "execute_result"
    }
   ],
   "source": [
    "data['생산량'] = np.log(data['생산량'].astype(float))\n",
    "data.head()"
   ]
  },
  {
   "cell_type": "code",
   "execution_count": 21,
   "metadata": {},
   "outputs": [
    {
     "name": "stderr",
     "output_type": "stream",
     "text": [
      "/Users/kimsunghun/opt/anaconda3/lib/python3.8/site-packages/matplotlib/backends/backend_agg.py:238: RuntimeWarning: Glyph 8722 missing from current font.\n",
      "  font.set_text(s, 0.0, flags=flags)\n",
      "/Users/kimsunghun/opt/anaconda3/lib/python3.8/site-packages/matplotlib/backends/backend_agg.py:201: RuntimeWarning: Glyph 8722 missing from current font.\n",
      "  font.set_text(s, 0, flags=flags)\n"
     ]
    },
    {
     "data": {
      "image/png": "[encoded data removed]",
      "text/plain": [
       "<Figure size 432x288 with 1 Axes>"
      ]
     },
     "metadata": {
      "needs_background": "light"
     },
     "output_type": "display_data"
    },
    {
     "data": {
      "image/png": "[encoded data removed]",
      "text/plain": [
       "<Figure size 432x288 with 1 Axes>"
      ]
     },
     "metadata": {
      "needs_background": "light"
     },
     "output_type": "display_data"
    }
   ],
   "source": [
    "sns.regplot(x='재배면적', y='생산량', data=data)\n",
    "plt.show()\n",
    "\n",
    "sns.regplot(x='환산면적', y='생산량', data=data, color='g')\n",
    "plt.show()"
   ]
  },
  {
   "cell_type": "markdown",
   "metadata": {},
   "source": [
    "## Numerical Variable processing"
   ]
  },
  {
   "cell_type": "code",
   "execution_count": 22,
   "metadata": {},
   "outputs": [
    {
     "data": {
      "text/plain": [
       "array([[0.61430423, 0.38370847, 0.5928144 ],\n",
       "       [0.53690024, 0.30868349, 0.4964748 ],\n",
       "       [0.53690024, 0.30868349, 0.41349239],\n",
       "       ...,\n",
       "       [0.24143873, 0.45604941, 0.54016966],\n",
       "       [0.55461073, 0.75959607, 0.67777647],\n",
       "       [0.11250247, 0.33107602, 0.42732655]])"
      ]
     },
     "execution_count": 22,
     "metadata": {},
     "output_type": "execute_result"
    }
   ],
   "source": [
    "from sklearn.preprocessing import MinMaxScaler\n",
    "\n",
    "minmax_scaler = MinMaxScaler()\n",
    "scaled = minmax_scaler.fit_transform(data.loc[:, ['재배면적', '환산면적', '생산량']])\n",
    "scaled"
   ]
  },
  {
   "cell_type": "markdown",
   "metadata": {},
   "source": [
    "## Categorival variable processing"
   ]
  },
  {
   "cell_type": "code",
   "execution_count": 23,
   "metadata": {},
   "outputs": [
    {
     "data": {
      "text/plain": [
       "[array(['강원도', '경기도', '경상남도', '경상북도', '광주광역시', '대구광역시', '대전광역시', '부산광역시',\n",
       "        '서울특별시', '세종특별자치시', '울산광역시', '인천광역시', '전라남도', '전라북도', '제주특별자치도',\n",
       "        '충청남도', '충청북도'], dtype=object),\n",
       " array(['재배', '채취'], dtype=object),\n",
       " array(['기타', '버섯', '산나물', '수실', '수액', '약용식물', '연료', '용재', '조경재'],\n",
       "       dtype=object),\n",
       " array(['기타', '농용자재', '버섯', '분재소재', '분재완재', '산나물', '수액', '야생화', '약용수실',\n",
       "        '약초', '연료', '일반수실', '잔디', '재배수실', '조경수', '죽재'], dtype=object),\n",
       " array(['감초', '개암', '결명자', '고려엉겅퀴(곤드레)', '고로쇠', '고비', '고사리', '골담초', '구기자',\n",
       "        '구절초', '기타관목류', '기타교목류', '기타버섯류', '기타부산물', '기타분재소재', '기타분재완재',\n",
       "        '기타산나물', '기타수실', '기타약용식물', '꽃송이버섯', '꾸지뽕나무', '난지형잔디', '눈개승마', '느릅',\n",
       "        '느티나무류', '능이', '다래', '단풍나무류', '당귀', '더덕', '도라지', '도토리', '독활', '돌배',\n",
       "        '동백나무', '두릅', '두충나무', '둥굴레', '마', '마가목', '머루', '목단', '목이', '배롱나무',\n",
       "        '백출', '벚나무', '복령', '복분자딸기', '사료', '산딸기', '산마늘', '산사나무', '산수유',\n",
       "        '산초', '삼지구엽초', '석류', '석이', '섬유원료(닥나무)', '소나무', '소소나무', '소소사나무',\n",
       "        '소철쭉', '소해송', '소향나무', '송이', '수지(칠액)', '시호', '야생화', '약모밀', '어수리',\n",
       "        '오갈피', '오미자', '옻나무', '완소나무', '완소사나무', '완철쭉', '완해송', '완향나무', '원추리',\n",
       "        '은행', '은행잎', '음나무', '이팝나무', '자생란', '자작나무', '작약', '잔대', '잣', '장작',\n",
       "        '주목', '죽순', '죽재', '참나물', '참쑥', '참죽나무', '창출', '천궁', '천마', '철쭉류',\n",
       "        '초피', '취나물', '칡뿌리', '퇴비', '하수오', '한지형잔디', '헛개나무', '화살나무', '황칠나무',\n",
       "        '회양목'], dtype=object)]"
      ]
     },
     "execution_count": 23,
     "metadata": {},
     "output_type": "execute_result"
    }
   ],
   "source": [
    "from sklearn.preprocessing import OrdinalEncoder\n",
    "\n",
    "ordinal_encoder = OrdinalEncoder()\n",
    "ordinal = ordinal_encoder.fit_transform(data.loc[:, ['시도/청' , '재배채취', '품목 대분류', '품목 중분류', '품목 소분류']])\n",
    "ordinal_encoder.categories_"
   ]
  },
  {
   "cell_type": "code",
   "execution_count": 24,
   "metadata": {},
   "outputs": [
    {
     "data": {
      "text/plain": [
       "array([[ 8.,  0.,  8., 14., 10.],\n",
       "       [ 8.,  0.,  8.,  7., 67.],\n",
       "       [ 8.,  0.,  8.,  7., 67.],\n",
       "       ...,\n",
       "       [16.,  0.,  5.,  9., 38.],\n",
       "       [16.,  0.,  5.,  8., 71.],\n",
       "       [16.,  0.,  5.,  9., 85.]])"
      ]
     },
     "execution_count": 24,
     "metadata": {},
     "output_type": "execute_result"
    }
   ],
   "source": [
    "ordinal"
   ]
  },
  {
   "cell_type": "code",
   "execution_count": 25,
   "metadata": {},
   "outputs": [
    {
     "name": "stdout",
     "output_type": "stream",
     "text": [
      "[array([ 0.,  1.,  2.,  3.,  4.,  5.,  6.,  7.,  8.,  9., 10., 11., 12.,\n",
      "       13., 14., 15., 16.]), array([0., 1.]), array([0., 1., 2., 3., 4., 5., 6., 7., 8.]), array([ 0.,  1.,  2.,  3.,  4.,  5.,  6.,  7.,  8.,  9., 10., 11., 12.,\n",
      "       13., 14., 15.]), array([  0.,   1.,   2.,   3.,   4.,   5.,   6.,   7.,   8.,   9.,  10.,\n",
      "        11.,  12.,  13.,  14.,  15.,  16.,  17.,  18.,  19.,  20.,  21.,\n",
      "        22.,  23.,  24.,  25.,  26.,  27.,  28.,  29.,  30.,  31.,  32.,\n",
      "        33.,  34.,  35.,  36.,  37.,  38.,  39.,  40.,  41.,  42.,  43.,\n",
      "        44.,  45.,  46.,  47.,  48.,  49.,  50.,  51.,  52.,  53.,  54.,\n",
      "        55.,  56.,  57.,  58.,  59.,  60.,  61.,  62.,  63.,  64.,  65.,\n",
      "        66.,  67.,  68.,  69.,  70.,  71.,  72.,  73.,  74.,  75.,  76.,\n",
      "        77.,  78.,  79.,  80.,  81.,  82.,  83.,  84.,  85.,  86.,  87.,\n",
      "        88.,  89.,  90.,  91.,  92.,  93.,  94.,  95.,  96.,  97.,  98.,\n",
      "        99., 100., 101., 102., 103., 104., 105., 106., 107., 108.])]\n",
      "(58416, 153)\n"
     ]
    }
   ],
   "source": [
    "from sklearn.preprocessing import OneHotEncoder\n",
    "\n",
    "onehot_encoder = OneHotEncoder()\n",
    "onehot = onehot_encoder.fit_transform(ordinal)\n",
    "print(onehot_encoder.categories_)\n",
    "print(onehot.toarray().shape)"
   ]
  },
  {
   "cell_type": "code",
   "execution_count": 26,
   "metadata": {},
   "outputs": [
    {
     "data": {
      "text/html": [
       "<div>\n",
       "<style scoped>\n",
       "    .dataframe tbody tr th:only-of-type {\n",
       "        vertical-align: middle;\n",
       "    }\n",
       "\n",
       "    .dataframe tbody tr th {\n",
       "        vertical-align: top;\n",
       "    }\n",
       "\n",
       "    .dataframe thead th {\n",
       "        text-align: right;\n",
       "    }\n",
       "</style>\n",
       "<table border=\"1\" class=\"dataframe\">\n",
       "  <thead>\n",
       "    <tr style=\"text-align: right;\">\n",
       "      <th></th>\n",
       "      <th>재배면적</th>\n",
       "      <th>환산면적</th>\n",
       "      <th>0</th>\n",
       "      <th>1</th>\n",
       "      <th>2</th>\n",
       "      <th>3</th>\n",
       "      <th>4</th>\n",
       "      <th>5</th>\n",
       "      <th>6</th>\n",
       "      <th>7</th>\n",
       "      <th>...</th>\n",
       "      <th>143</th>\n",
       "      <th>144</th>\n",
       "      <th>145</th>\n",
       "      <th>146</th>\n",
       "      <th>147</th>\n",
       "      <th>148</th>\n",
       "      <th>149</th>\n",
       "      <th>150</th>\n",
       "      <th>151</th>\n",
       "      <th>152</th>\n",
       "    </tr>\n",
       "  </thead>\n",
       "  <tbody>\n",
       "    <tr>\n",
       "      <th>0</th>\n",
       "      <td>0.614304</td>\n",
       "      <td>0.383708</td>\n",
       "      <td>0.0</td>\n",
       "      <td>0.0</td>\n",
       "      <td>0.0</td>\n",
       "      <td>0.0</td>\n",
       "      <td>0.0</td>\n",
       "      <td>0.0</td>\n",
       "      <td>0.0</td>\n",
       "      <td>0.0</td>\n",
       "      <td>...</td>\n",
       "      <td>0.0</td>\n",
       "      <td>0.0</td>\n",
       "      <td>0.0</td>\n",
       "      <td>0.0</td>\n",
       "      <td>0.0</td>\n",
       "      <td>0.0</td>\n",
       "      <td>0.0</td>\n",
       "      <td>0.0</td>\n",
       "      <td>0.0</td>\n",
       "      <td>0.0</td>\n",
       "    </tr>\n",
       "    <tr>\n",
       "      <th>1</th>\n",
       "      <td>0.536900</td>\n",
       "      <td>0.308683</td>\n",
       "      <td>0.0</td>\n",
       "      <td>0.0</td>\n",
       "      <td>0.0</td>\n",
       "      <td>0.0</td>\n",
       "      <td>0.0</td>\n",
       "      <td>0.0</td>\n",
       "      <td>0.0</td>\n",
       "      <td>0.0</td>\n",
       "      <td>...</td>\n",
       "      <td>0.0</td>\n",
       "      <td>0.0</td>\n",
       "      <td>0.0</td>\n",
       "      <td>0.0</td>\n",
       "      <td>0.0</td>\n",
       "      <td>0.0</td>\n",
       "      <td>0.0</td>\n",
       "      <td>0.0</td>\n",
       "      <td>0.0</td>\n",
       "      <td>0.0</td>\n",
       "    </tr>\n",
       "    <tr>\n",
       "      <th>2</th>\n",
       "      <td>0.536900</td>\n",
       "      <td>0.308683</td>\n",
       "      <td>0.0</td>\n",
       "      <td>0.0</td>\n",
       "      <td>0.0</td>\n",
       "      <td>0.0</td>\n",
       "      <td>0.0</td>\n",
       "      <td>0.0</td>\n",
       "      <td>0.0</td>\n",
       "      <td>0.0</td>\n",
       "      <td>...</td>\n",
       "      <td>0.0</td>\n",
       "      <td>0.0</td>\n",
       "      <td>0.0</td>\n",
       "      <td>0.0</td>\n",
       "      <td>0.0</td>\n",
       "      <td>0.0</td>\n",
       "      <td>0.0</td>\n",
       "      <td>0.0</td>\n",
       "      <td>0.0</td>\n",
       "      <td>0.0</td>\n",
       "    </tr>\n",
       "    <tr>\n",
       "      <th>3</th>\n",
       "      <td>0.565422</td>\n",
       "      <td>0.336329</td>\n",
       "      <td>0.0</td>\n",
       "      <td>0.0</td>\n",
       "      <td>0.0</td>\n",
       "      <td>0.0</td>\n",
       "      <td>0.0</td>\n",
       "      <td>0.0</td>\n",
       "      <td>0.0</td>\n",
       "      <td>0.0</td>\n",
       "      <td>...</td>\n",
       "      <td>0.0</td>\n",
       "      <td>0.0</td>\n",
       "      <td>0.0</td>\n",
       "      <td>0.0</td>\n",
       "      <td>0.0</td>\n",
       "      <td>0.0</td>\n",
       "      <td>0.0</td>\n",
       "      <td>0.0</td>\n",
       "      <td>0.0</td>\n",
       "      <td>0.0</td>\n",
       "    </tr>\n",
       "    <tr>\n",
       "      <th>4</th>\n",
       "      <td>0.604124</td>\n",
       "      <td>0.373841</td>\n",
       "      <td>0.0</td>\n",
       "      <td>0.0</td>\n",
       "      <td>0.0</td>\n",
       "      <td>0.0</td>\n",
       "      <td>0.0</td>\n",
       "      <td>0.0</td>\n",
       "      <td>0.0</td>\n",
       "      <td>0.0</td>\n",
       "      <td>...</td>\n",
       "      <td>0.0</td>\n",
       "      <td>0.0</td>\n",
       "      <td>0.0</td>\n",
       "      <td>0.0</td>\n",
       "      <td>0.0</td>\n",
       "      <td>0.0</td>\n",
       "      <td>0.0</td>\n",
       "      <td>0.0</td>\n",
       "      <td>0.0</td>\n",
       "      <td>0.0</td>\n",
       "    </tr>\n",
       "    <tr>\n",
       "      <th>...</th>\n",
       "      <td>...</td>\n",
       "      <td>...</td>\n",
       "      <td>...</td>\n",
       "      <td>...</td>\n",
       "      <td>...</td>\n",
       "      <td>...</td>\n",
       "      <td>...</td>\n",
       "      <td>...</td>\n",
       "      <td>...</td>\n",
       "      <td>...</td>\n",
       "      <td>...</td>\n",
       "      <td>...</td>\n",
       "      <td>...</td>\n",
       "      <td>...</td>\n",
       "      <td>...</td>\n",
       "      <td>...</td>\n",
       "      <td>...</td>\n",
       "      <td>...</td>\n",
       "      <td>...</td>\n",
       "      <td>...</td>\n",
       "      <td>...</td>\n",
       "    </tr>\n",
       "    <tr>\n",
       "      <th>58411</th>\n",
       "      <td>0.125701</td>\n",
       "      <td>0.343869</td>\n",
       "      <td>0.0</td>\n",
       "      <td>0.0</td>\n",
       "      <td>0.0</td>\n",
       "      <td>0.0</td>\n",
       "      <td>0.0</td>\n",
       "      <td>0.0</td>\n",
       "      <td>0.0</td>\n",
       "      <td>0.0</td>\n",
       "      <td>...</td>\n",
       "      <td>0.0</td>\n",
       "      <td>0.0</td>\n",
       "      <td>0.0</td>\n",
       "      <td>0.0</td>\n",
       "      <td>0.0</td>\n",
       "      <td>0.0</td>\n",
       "      <td>0.0</td>\n",
       "      <td>0.0</td>\n",
       "      <td>0.0</td>\n",
       "      <td>0.0</td>\n",
       "    </tr>\n",
       "    <tr>\n",
       "      <th>58412</th>\n",
       "      <td>0.200857</td>\n",
       "      <td>0.416715</td>\n",
       "      <td>0.0</td>\n",
       "      <td>0.0</td>\n",
       "      <td>0.0</td>\n",
       "      <td>0.0</td>\n",
       "      <td>0.0</td>\n",
       "      <td>0.0</td>\n",
       "      <td>0.0</td>\n",
       "      <td>0.0</td>\n",
       "      <td>...</td>\n",
       "      <td>0.0</td>\n",
       "      <td>0.0</td>\n",
       "      <td>0.0</td>\n",
       "      <td>0.0</td>\n",
       "      <td>0.0</td>\n",
       "      <td>0.0</td>\n",
       "      <td>0.0</td>\n",
       "      <td>0.0</td>\n",
       "      <td>0.0</td>\n",
       "      <td>0.0</td>\n",
       "    </tr>\n",
       "    <tr>\n",
       "      <th>58413</th>\n",
       "      <td>0.241439</td>\n",
       "      <td>0.456049</td>\n",
       "      <td>0.0</td>\n",
       "      <td>0.0</td>\n",
       "      <td>0.0</td>\n",
       "      <td>0.0</td>\n",
       "      <td>0.0</td>\n",
       "      <td>0.0</td>\n",
       "      <td>0.0</td>\n",
       "      <td>0.0</td>\n",
       "      <td>...</td>\n",
       "      <td>0.0</td>\n",
       "      <td>0.0</td>\n",
       "      <td>0.0</td>\n",
       "      <td>0.0</td>\n",
       "      <td>0.0</td>\n",
       "      <td>0.0</td>\n",
       "      <td>0.0</td>\n",
       "      <td>0.0</td>\n",
       "      <td>0.0</td>\n",
       "      <td>0.0</td>\n",
       "    </tr>\n",
       "    <tr>\n",
       "      <th>58414</th>\n",
       "      <td>0.554611</td>\n",
       "      <td>0.759596</td>\n",
       "      <td>0.0</td>\n",
       "      <td>0.0</td>\n",
       "      <td>0.0</td>\n",
       "      <td>0.0</td>\n",
       "      <td>0.0</td>\n",
       "      <td>0.0</td>\n",
       "      <td>0.0</td>\n",
       "      <td>0.0</td>\n",
       "      <td>...</td>\n",
       "      <td>0.0</td>\n",
       "      <td>0.0</td>\n",
       "      <td>0.0</td>\n",
       "      <td>0.0</td>\n",
       "      <td>0.0</td>\n",
       "      <td>0.0</td>\n",
       "      <td>0.0</td>\n",
       "      <td>0.0</td>\n",
       "      <td>0.0</td>\n",
       "      <td>0.0</td>\n",
       "    </tr>\n",
       "    <tr>\n",
       "      <th>58415</th>\n",
       "      <td>0.112502</td>\n",
       "      <td>0.331076</td>\n",
       "      <td>0.0</td>\n",
       "      <td>0.0</td>\n",
       "      <td>0.0</td>\n",
       "      <td>0.0</td>\n",
       "      <td>0.0</td>\n",
       "      <td>0.0</td>\n",
       "      <td>0.0</td>\n",
       "      <td>0.0</td>\n",
       "      <td>...</td>\n",
       "      <td>0.0</td>\n",
       "      <td>0.0</td>\n",
       "      <td>0.0</td>\n",
       "      <td>0.0</td>\n",
       "      <td>0.0</td>\n",
       "      <td>0.0</td>\n",
       "      <td>0.0</td>\n",
       "      <td>0.0</td>\n",
       "      <td>0.0</td>\n",
       "      <td>0.0</td>\n",
       "    </tr>\n",
       "  </tbody>\n",
       "</table>\n",
       "<p>58416 rows × 155 columns</p>\n",
       "</div>"
      ],
      "text/plain": [
       "           재배면적      환산면적    0    1    2    3    4    5    6    7  ...  143  \\\n",
       "0      0.614304  0.383708  0.0  0.0  0.0  0.0  0.0  0.0  0.0  0.0  ...  0.0   \n",
       "1      0.536900  0.308683  0.0  0.0  0.0  0.0  0.0  0.0  0.0  0.0  ...  0.0   \n",
       "2      0.536900  0.308683  0.0  0.0  0.0  0.0  0.0  0.0  0.0  0.0  ...  0.0   \n",
       "3      0.565422  0.336329  0.0  0.0  0.0  0.0  0.0  0.0  0.0  0.0  ...  0.0   \n",
       "4      0.604124  0.373841  0.0  0.0  0.0  0.0  0.0  0.0  0.0  0.0  ...  0.0   \n",
       "...         ...       ...  ...  ...  ...  ...  ...  ...  ...  ...  ...  ...   \n",
       "58411  0.125701  0.343869  0.0  0.0  0.0  0.0  0.0  0.0  0.0  0.0  ...  0.0   \n",
       "58412  0.200857  0.416715  0.0  0.0  0.0  0.0  0.0  0.0  0.0  0.0  ...  0.0   \n",
       "58413  0.241439  0.456049  0.0  0.0  0.0  0.0  0.0  0.0  0.0  0.0  ...  0.0   \n",
       "58414  0.554611  0.759596  0.0  0.0  0.0  0.0  0.0  0.0  0.0  0.0  ...  0.0   \n",
       "58415  0.112502  0.331076  0.0  0.0  0.0  0.0  0.0  0.0  0.0  0.0  ...  0.0   \n",
       "\n",
       "       144  145  146  147  148  149  150  151  152  \n",
       "0      0.0  0.0  0.0  0.0  0.0  0.0  0.0  0.0  0.0  \n",
       "1      0.0  0.0  0.0  0.0  0.0  0.0  0.0  0.0  0.0  \n",
       "2      0.0  0.0  0.0  0.0  0.0  0.0  0.0  0.0  0.0  \n",
       "3      0.0  0.0  0.0  0.0  0.0  0.0  0.0  0.0  0.0  \n",
       "4      0.0  0.0  0.0  0.0  0.0  0.0  0.0  0.0  0.0  \n",
       "...    ...  ...  ...  ...  ...  ...  ...  ...  ...  \n",
       "58411  0.0  0.0  0.0  0.0  0.0  0.0  0.0  0.0  0.0  \n",
       "58412  0.0  0.0  0.0  0.0  0.0  0.0  0.0  0.0  0.0  \n",
       "58413  0.0  0.0  0.0  0.0  0.0  0.0  0.0  0.0  0.0  \n",
       "58414  0.0  0.0  0.0  0.0  0.0  0.0  0.0  0.0  0.0  \n",
       "58415  0.0  0.0  0.0  0.0  0.0  0.0  0.0  0.0  0.0  \n",
       "\n",
       "[58416 rows x 155 columns]"
      ]
     },
     "execution_count": 26,
     "metadata": {},
     "output_type": "execute_result"
    }
   ],
   "source": [
    "numeric_data_df = pd.DataFrame(scaled[:, 0:2], columns=['재배면적', '환산면적'])\n",
    "onehot_data_df = pd.DataFrame(onehot.toarray())\n",
    "\n",
    "X_data_df = pd.concat([numeric_data_df , onehot_data_df], axis=1)\n",
    "X_data_df"
   ]
  },
  {
   "cell_type": "code",
   "execution_count": 27,
   "metadata": {},
   "outputs": [
    {
     "name": "stdout",
     "output_type": "stream",
     "text": [
      "(58416, 155) (58416,)\n"
     ]
    }
   ],
   "source": [
    "X_data = np.array(X_data_df)\n",
    "y_data = np.array(scaled[:, 2])\n",
    "\n",
    "print(X_data.shape, y_data.shape)"
   ]
  },
  {
   "cell_type": "markdown",
   "metadata": {},
   "source": [
    "## Train Test split"
   ]
  },
  {
   "cell_type": "code",
   "execution_count": 28,
   "metadata": {},
   "outputs": [
    {
     "name": "stdout",
     "output_type": "stream",
     "text": [
      "(46732, 155) (11684, 155)\n"
     ]
    }
   ],
   "source": [
    "from sklearn.model_selection import train_test_split\n",
    "\n",
    "X_train, X_test, y_train, y_test = train_test_split(X_data, y_data,\n",
    "                                                    test_size=0.2, random_state=156)\n",
    "print(X_train.shape, X_test.shape)"
   ]
  },
  {
   "cell_type": "markdown",
   "metadata": {},
   "source": [
    "# Modeling"
   ]
  },
  {
   "cell_type": "markdown",
   "metadata": {},
   "source": [
    "## Decision Tree"
   ]
  },
  {
   "cell_type": "code",
   "execution_count": 29,
   "metadata": {},
   "outputs": [
    {
     "data": {
      "text/plain": [
       "DecisionTreeRegressor(random_state=1000)"
      ]
     },
     "execution_count": 29,
     "metadata": {},
     "output_type": "execute_result"
    }
   ],
   "source": [
    "from sklearn.tree import DecisionTreeRegressor\n",
    "from sklearn.metrics import mean_squared_error\n",
    "\n",
    "dt = DecisionTreeRegressor(random_state=1000)\n",
    "dt.fit(X_train, y_train)"
   ]
  },
  {
   "cell_type": "code",
   "execution_count": 30,
   "metadata": {},
   "outputs": [
    {
     "name": "stdout",
     "output_type": "stream",
     "text": [
      "[0.18646233 0.26985333 0.23641005 0.32373983 0.32473497 0.36386896\n",
      " 0.21851741 0.30597534 0.13298828 0.2035928 ]\n"
     ]
    }
   ],
   "source": [
    "dt_pred = dt.predict(X_test)\n",
    "print(dt_pred[:10])"
   ]
  },
  {
   "cell_type": "code",
   "execution_count": 32,
   "metadata": {},
   "outputs": [
    {
     "data": {
      "text/plain": [
       "0.00713045853323831"
      ]
     },
     "execution_count": 32,
     "metadata": {},
     "output_type": "execute_result"
    }
   ],
   "source": [
    "mean_squared_error(y_test, dt_pred)"
   ]
  },
  {
   "cell_type": "markdown",
   "metadata": {},
   "source": [
    "## RandomForest"
   ]
  },
  {
   "cell_type": "code",
   "execution_count": 33,
   "metadata": {},
   "outputs": [
    {
     "data": {
      "text/plain": [
       "RandomForestRegressor(max_features='sqrt', n_estimators=500, random_state=156)"
      ]
     },
     "execution_count": 33,
     "metadata": {},
     "output_type": "execute_result"
    }
   ],
   "source": [
    "from sklearn.ensemble import RandomForestRegressor\n",
    "\n",
    "rf = RandomForestRegressor(n_estimators = 500, max_features = 'sqrt', random_state = 156)\n",
    "rf.fit(X_train, y_train)"
   ]
  },
  {
   "cell_type": "code",
   "execution_count": 34,
   "metadata": {},
   "outputs": [
    {
     "name": "stdout",
     "output_type": "stream",
     "text": [
      "[0.18654215 0.26978323 0.23630578 0.32356524 0.32472399 0.36531842\n",
      " 0.21828965 0.30612723 0.13303289 0.22818275]\n"
     ]
    }
   ],
   "source": [
    "rf_pred = rf.predict(X_test)\n",
    "print(rf_pred[:10])"
   ]
  },
  {
   "cell_type": "code",
   "execution_count": 36,
   "metadata": {},
   "outputs": [
    {
     "data": {
      "text/plain": [
       "0.006139136905375846"
      ]
     },
     "execution_count": 36,
     "metadata": {},
     "output_type": "execute_result"
    }
   ],
   "source": [
    "mean_squared_error(y_test, rf_pred)"
   ]
  },
  {
   "cell_type": "markdown",
   "metadata": {},
   "source": [
    "## Ridge"
   ]
  },
  {
   "cell_type": "code",
   "execution_count": 37,
   "metadata": {},
   "outputs": [
    {
     "data": {
      "text/plain": [
       "Ridge(alpha=0.01)"
      ]
     },
     "execution_count": 37,
     "metadata": {},
     "output_type": "execute_result"
    }
   ],
   "source": [
    "from sklearn.linear_model import Ridge\n",
    "\n",
    "ridge = Ridge(alpha=0.01)\n",
    "ridge.fit(X_train, y_train)"
   ]
  },
  {
   "cell_type": "code",
   "execution_count": 38,
   "metadata": {},
   "outputs": [
    {
     "name": "stdout",
     "output_type": "stream",
     "text": [
      "[ 1.78439397e-01  4.62031976e-01 -2.62217234e-02 -1.54141108e-02\n",
      " -8.62081814e-03 -1.86196624e-02 -1.35912065e-02 -5.88809398e-02\n",
      "  3.27542881e-04  2.37826605e-02  5.85685603e-02  1.04593097e-01\n",
      " -8.44011049e-02  3.30450004e-04  1.66611094e-03  1.65743483e-02\n",
      "  6.39669100e-02 -2.31657425e-02 -2.08943706e-02  2.59141161e-02\n",
      " -2.59141162e-02 -1.43542023e-03 -2.12764857e-02  1.53448043e-02\n",
      "  1.08353546e-02  4.55075427e-02  1.45117654e-02  0.00000000e+00\n",
      " -8.89376246e-02  2.54500627e-02  1.27582835e-02 -6.86139912e-02\n",
      " -2.12764857e-02 -2.75946019e-02 -4.58911316e-02  1.53448043e-02\n",
      "  4.55075426e-02  1.11313493e-01 -3.70977844e-02  5.16095499e-02\n",
      "  0.00000000e+00 -3.97328187e-03  5.44202866e-02  1.48086367e-02\n",
      " -1.23776962e-02 -8.89376246e-02  5.56373579e-02 -1.78960057e-01\n",
      " -2.75124426e-02  6.01828832e-02  1.05920670e-03 -2.98743541e-02\n",
      " -5.26158327e-03 -6.79571372e-02  1.60798200e-02 -4.68510712e-02\n",
      "  1.21870545e-01 -3.34701554e-03  1.17475088e-01 -3.35366159e-02\n",
      "  1.84555282e-02 -2.92208788e-02 -1.83809488e-03 -1.07903867e-02\n",
      " -4.57464189e-02  3.36071349e-02 -9.95324926e-03  3.44136803e-02\n",
      " -1.55346996e-02 -5.97478080e-02 -9.39920806e-02 -2.31478543e-01\n",
      "  3.33794347e-02 -6.68473397e-02  1.42943427e-02 -5.37209799e-02\n",
      " -3.89572931e-02 -9.24500604e-02  3.25221614e-02  6.24796405e-02\n",
      " -1.52663196e-02 -5.89333803e-02  1.61031577e-02 -5.37432473e-02\n",
      "  3.40678648e-02 -3.29419734e-02  8.63042088e-02  1.50471142e-01\n",
      "  1.31217384e-01 -7.83529942e-02  4.99944376e-02 -7.04301684e-02\n",
      "  2.39846007e-02  6.58113283e-02 -9.69722742e-02  4.65504918e-02\n",
      " -2.38871852e-02  5.48537698e-02 -2.09028088e-02 -8.67190661e-02\n",
      " -1.45758531e-01 -1.62978819e-02  4.08878378e-02 -3.25218927e-02\n",
      " -1.06439544e-01 -4.12670370e-02 -1.04610642e-01  1.17446286e-01\n",
      " -1.83376814e-02  7.18944705e-04 -1.36969989e-01 -2.27289104e-01\n",
      "  4.70649436e-02  1.11313493e-01  1.43629876e-01  5.26981729e-02\n",
      "  7.29767351e-03  1.22583490e-01 -4.14550456e-02 -5.66256951e-02\n",
      " -3.42377005e-02  1.20135884e-01 -5.13143161e-02  5.37157468e-03\n",
      "  6.34796962e-02  1.23330844e-02  1.00345080e-01 -6.14580578e-02\n",
      " -6.21112379e-02  1.59668272e-01  4.44483359e-02  4.14435564e-02\n",
      " -3.92359400e-02  2.47555229e-03  0.00000000e+00 -5.68730835e-02\n",
      "  7.98600871e-03 -8.89376246e-02  4.55139935e-02 -9.83598670e-03\n",
      " -3.16401325e-02  0.00000000e+00  1.37033267e-02  2.32844593e-02\n",
      "  2.21464785e-01 -3.79772129e-02  1.34916216e-02  4.60925454e-02\n",
      "  2.83582830e-02 -3.53491384e-02  2.00066063e-02 -3.58314857e-02\n",
      "  7.51366680e-02  6.96047209e-03  1.97946757e-01]\n",
      "0.032896187468715365\n",
      "0.5845360915612985\n"
     ]
    }
   ],
   "source": [
    "print(ridge.coef_)\n",
    "print(ridge.intercept_)\n",
    "print(ridge.score(X_train, y_train))"
   ]
  },
  {
   "cell_type": "code",
   "execution_count": 39,
   "metadata": {},
   "outputs": [
    {
     "data": {
      "text/plain": [
       "0.007603326506790515"
      ]
     },
     "execution_count": 39,
     "metadata": {},
     "output_type": "execute_result"
    }
   ],
   "source": [
    "ridge_pred = ridge.predict(X_test)\n",
    "mean_squared_error(y_test, ridge_pred)"
   ]
  },
  {
   "cell_type": "markdown",
   "metadata": {},
   "source": [
    "## LASSO"
   ]
  },
  {
   "cell_type": "code",
   "execution_count": 40,
   "metadata": {},
   "outputs": [
    {
     "data": {
      "text/plain": [
       "Lasso(alpha=0.001)"
      ]
     },
     "execution_count": 40,
     "metadata": {},
     "output_type": "execute_result"
    }
   ],
   "source": [
    "from sklearn.linear_model import Lasso\n",
    "\n",
    "lasso = Lasso(alpha=0.001)\n",
    "lasso.fit(X_train, y_train)"
   ]
  },
  {
   "cell_type": "code",
   "execution_count": 41,
   "metadata": {},
   "outputs": [
    {
     "name": "stdout",
     "output_type": "stream",
     "text": [
      "[ 0.15625285  0.3989665  -0.00940406  0.          0.00231287 -0.00453881\n",
      "  0.         -0.         -0.          0.          0.          0.\n",
      " -0.         -0.          0.01534212  0.02239864  0.         -0.01501504\n",
      " -0.          0.0306847  -0.         -0.         -0.12218094 -0.\n",
      "  0.00453006  0.         -0.          0.         -0.          0.\n",
      " -0.01747235 -0.         -0.00079467 -0.         -0.         -0.\n",
      "  0.          0.         -0.03366801  0.          0.          0.\n",
      "  0.03580334  0.         -0.         -0.          0.         -0.\n",
      "  0.          0.01853604  0.         -0.          0.         -0.\n",
      "  0.         -0.          0.0676988   0.          0.         -0.02150879\n",
      " -0.         -0.          0.         -0.         -0.          0.\n",
      " -0.          0.         -0.         -0.         -0.         -0.\n",
      "  0.         -0.          0.         -0.         -0.00403164 -0.\n",
      "  0.          0.         -0.         -0.05270626  0.         -0.\n",
      "  0.         -0.          0.          0.          0.         -0.\n",
      "  0.         -0.          0.          0.         -0.          0.\n",
      " -0.          0.         -0.         -0.         -0.         -0.\n",
      "  0.         -0.         -0.0595214  -0.         -0.          0.\n",
      " -0.         -0.         -0.         -0.          0.          0.\n",
      "  0.          0.         -0.          0.         -0.         -0.\n",
      " -0.          0.         -0.         -0.          0.          0.\n",
      "  0.         -0.         -0.          0.          0.          0.\n",
      "  0.         -0.          0.         -0.          0.         -0.\n",
      "  0.          0.         -0.          0.          0.          0.\n",
      "  0.09543579 -0.          0.0063373   0.         -0.          0.\n",
      "  0.         -0.          0.         -0.          0.        ]\n",
      "0.07041911176249979\n",
      "0.4886146372000577\n"
     ]
    }
   ],
   "source": [
    "print(lasso.coef_)\n",
    "print(lasso.intercept_)\n",
    "print(lasso.score(X_train, y_train))"
   ]
  },
  {
   "cell_type": "code",
   "execution_count": 44,
   "metadata": {},
   "outputs": [
    {
     "data": {
      "text/plain": [
       "0.009140269514979572"
      ]
     },
     "execution_count": 44,
     "metadata": {},
     "output_type": "execute_result"
    }
   ],
   "source": [
    "mean_squared_error(y_test, lasso_pred)"
   ]
  },
  {
   "cell_type": "markdown",
   "metadata": {},
   "source": [
    "## XGBoost"
   ]
  },
  {
   "cell_type": "code",
   "execution_count": 45,
   "metadata": {},
   "outputs": [
    {
     "name": "stdout",
     "output_type": "stream",
     "text": [
      "[0.18337941 0.27777797 0.23637524 0.33857748 0.32569075 0.37472698\n",
      " 0.22381112 0.31117555 0.13210818 0.23016146]\n"
     ]
    }
   ],
   "source": [
    "import xgboost as xgb\n",
    "\n",
    "xgb_reg = xgb.XGBRegressor(learning_rate=0.1, max_depth=10, n_estimators=300)\n",
    "xgb_reg.fit(X_train, y_train, verbose=False)\n",
    "\n",
    "xgb_pred = xgb_reg.predict(X_test)\n",
    "print(xgb_pred[:10])"
   ]
  },
  {
   "cell_type": "code",
   "execution_count": 46,
   "metadata": {},
   "outputs": [
    {
     "data": {
      "text/plain": [
       "0.005789686346948321"
      ]
     },
     "execution_count": 46,
     "metadata": {},
     "output_type": "execute_result"
    }
   ],
   "source": [
    "mean_squared_error(y_test, xgb_pred)"
   ]
  },
  {
   "cell_type": "code",
   "execution_count": 62,
   "metadata": {
    "scrolled": false
   },
   "outputs": [
    {
     "data": {
      "image/png": "[encoded data removed]",
      "text/plain": [
       "<Figure size 720x864 with 1 Axes>"
      ]
     },
     "metadata": {
      "needs_background": "light"
     },
     "output_type": "display_data"
    }
   ],
   "source": [
    "from xgboost import plot_importance\n",
    "\n",
    "plot_importance(xgb_reg, max_num_features=20)\n",
    "\n",
    "fig = plt.gcf()\n",
    "fig.set_size_inches(10, 12)"
   ]
  },
  {
   "cell_type": "markdown",
   "metadata": {},
   "source": [
    "## LightGBM"
   ]
  },
  {
   "cell_type": "code",
   "execution_count": 48,
   "metadata": {
    "scrolled": true
   },
   "outputs": [
    {
     "data": {
      "text/plain": [
       "LGBMRegressor(n_estimators=500)"
      ]
     },
     "execution_count": 48,
     "metadata": {},
     "output_type": "execute_result"
    }
   ],
   "source": [
    "import lightgbm as lgb\n",
    "\n",
    "\n",
    "lgb_reg = lgb.LGBMRegressor(n_estimators=500)\n",
    "lgb_reg.fit(X_train, y_train,\n",
    "        eval_set=[(X_test, y_test)],\n",
    "        eval_metric='l1',\n",
    "        early_stopping_rounds=1000,\n",
    "        verbose = False)"
   ]
  },
  {
   "cell_type": "code",
   "execution_count": 49,
   "metadata": {},
   "outputs": [
    {
     "name": "stdout",
     "output_type": "stream",
     "text": [
      "[0.18074809 0.27682878 0.23846351 0.34007634 0.32787017 0.3778148\n",
      " 0.21669215 0.30747928 0.13188464 0.23642009]\n"
     ]
    }
   ],
   "source": [
    "lgb_pred = lgb_reg.predict(X_test)\n",
    "print(lgb_pred[:10])"
   ]
  },
  {
   "cell_type": "code",
   "execution_count": 50,
   "metadata": {},
   "outputs": [
    {
     "name": "stdout",
     "output_type": "stream",
     "text": [
      "[0.23417039 0.18224254 0.33354443 0.28657521 0.34434414 0.40305575\n",
      " 0.2756616  0.37200119 0.08298241 0.2756616 ]\n"
     ]
    }
   ],
   "source": [
    "print(y_test[:10])"
   ]
  },
  {
   "cell_type": "code",
   "execution_count": 51,
   "metadata": {},
   "outputs": [
    {
     "data": {
      "text/plain": [
       "0.005746432787258052"
      ]
     },
     "execution_count": 51,
     "metadata": {},
     "output_type": "execute_result"
    }
   ],
   "source": [
    "mean_squared_error(y_test, lgb_pred)"
   ]
  },
  {
   "cell_type": "markdown",
   "metadata": {},
   "source": [
    "# Ensemble"
   ]
  },
  {
   "cell_type": "code",
   "execution_count": 52,
   "metadata": {},
   "outputs": [],
   "source": [
    "import torch\n",
    "from sklearn.metrics import mean_squared_error\n",
    "\n",
    "class EnsembleRegressor:\n",
    "    def __init__(self, models, weights=None):\n",
    "        \n",
    "        self.models = models\n",
    "        self.weights = weights\n",
    "        \n",
    "        self.pred_list = []\n",
    "        \n",
    "    def predict(self, X_test): \n",
    "        for model in models.values():\n",
    "            self.pred_list.append(model.predict(X_test))\n",
    "        preds = np.array(self.pred_list)\n",
    "            \n",
    "\n",
    "        prediction = np.average(preds, axis=0, weights=self.weights)\n",
    "\n",
    "        return prediction\n",
    "    \n",
    "    def random_search(self, X_test, y_test, num_search):\n",
    "        weights = torch.softmax(torch.rand(num_search, len(self.models)), axis=1).numpy()\n",
    "        \n",
    "        for model in models.values():\n",
    "            self.pred_list.append(model.predict(X_test))\n",
    "        preds = np.array(self.pred_list)\n",
    "\n",
    "        mse = []\n",
    "        for i in range(num_search):\n",
    "            prediction = np.average(preds, axis=0, weights=weights[i])\n",
    "            mse_ = mean_squared_error(y_test, prediction)\n",
    "            mse.append(mse_)\n",
    "        \n",
    "        result = pd.DataFrame(weights, columns=['w1', 'w2', 'w3'])\n",
    "        result['MSE'] = mse\n",
    "\n",
    "        return result.sort_values('MSE', ascending=True)"
   ]
  },
  {
   "cell_type": "code",
   "execution_count": 53,
   "metadata": {},
   "outputs": [
    {
     "data": {
      "text/html": [
       "<div>\n",
       "<style scoped>\n",
       "    .dataframe tbody tr th:only-of-type {\n",
       "        vertical-align: middle;\n",
       "    }\n",
       "\n",
       "    .dataframe tbody tr th {\n",
       "        vertical-align: top;\n",
       "    }\n",
       "\n",
       "    .dataframe thead th {\n",
       "        text-align: right;\n",
       "    }\n",
       "</style>\n",
       "<table border=\"1\" class=\"dataframe\">\n",
       "  <thead>\n",
       "    <tr style=\"text-align: right;\">\n",
       "      <th></th>\n",
       "      <th>w1</th>\n",
       "      <th>w2</th>\n",
       "      <th>w3</th>\n",
       "      <th>MSE</th>\n",
       "    </tr>\n",
       "  </thead>\n",
       "  <tbody>\n",
       "    <tr>\n",
       "      <th>6734</th>\n",
       "      <td>0.178458</td>\n",
       "      <td>0.353986</td>\n",
       "      <td>0.467556</td>\n",
       "      <td>0.005688</td>\n",
       "    </tr>\n",
       "    <tr>\n",
       "      <th>2405</th>\n",
       "      <td>0.190579</td>\n",
       "      <td>0.313996</td>\n",
       "      <td>0.495425</td>\n",
       "      <td>0.005688</td>\n",
       "    </tr>\n",
       "    <tr>\n",
       "      <th>5664</th>\n",
       "      <td>0.177311</td>\n",
       "      <td>0.360373</td>\n",
       "      <td>0.462316</td>\n",
       "      <td>0.005688</td>\n",
       "    </tr>\n",
       "    <tr>\n",
       "      <th>6362</th>\n",
       "      <td>0.174679</td>\n",
       "      <td>0.367177</td>\n",
       "      <td>0.458143</td>\n",
       "      <td>0.005688</td>\n",
       "    </tr>\n",
       "    <tr>\n",
       "      <th>7366</th>\n",
       "      <td>0.196067</td>\n",
       "      <td>0.291228</td>\n",
       "      <td>0.512706</td>\n",
       "      <td>0.005688</td>\n",
       "    </tr>\n",
       "    <tr>\n",
       "      <th>6212</th>\n",
       "      <td>0.169696</td>\n",
       "      <td>0.380512</td>\n",
       "      <td>0.449792</td>\n",
       "      <td>0.005688</td>\n",
       "    </tr>\n",
       "    <tr>\n",
       "      <th>5391</th>\n",
       "      <td>0.194806</td>\n",
       "      <td>0.308981</td>\n",
       "      <td>0.496214</td>\n",
       "      <td>0.005688</td>\n",
       "    </tr>\n",
       "    <tr>\n",
       "      <th>3319</th>\n",
       "      <td>0.199412</td>\n",
       "      <td>0.276137</td>\n",
       "      <td>0.524451</td>\n",
       "      <td>0.005688</td>\n",
       "    </tr>\n",
       "    <tr>\n",
       "      <th>9496</th>\n",
       "      <td>0.188828</td>\n",
       "      <td>0.334617</td>\n",
       "      <td>0.476554</td>\n",
       "      <td>0.005689</td>\n",
       "    </tr>\n",
       "    <tr>\n",
       "      <th>6491</th>\n",
       "      <td>0.187727</td>\n",
       "      <td>0.338214</td>\n",
       "      <td>0.474059</td>\n",
       "      <td>0.005689</td>\n",
       "    </tr>\n",
       "  </tbody>\n",
       "</table>\n",
       "</div>"
      ],
      "text/plain": [
       "            w1        w2        w3       MSE\n",
       "6734  0.178458  0.353986  0.467556  0.005688\n",
       "2405  0.190579  0.313996  0.495425  0.005688\n",
       "5664  0.177311  0.360373  0.462316  0.005688\n",
       "6362  0.174679  0.367177  0.458143  0.005688\n",
       "7366  0.196067  0.291228  0.512706  0.005688\n",
       "6212  0.169696  0.380512  0.449792  0.005688\n",
       "5391  0.194806  0.308981  0.496214  0.005688\n",
       "3319  0.199412  0.276137  0.524451  0.005688\n",
       "9496  0.188828  0.334617  0.476554  0.005689\n",
       "6491  0.187727  0.338214  0.474059  0.005689"
      ]
     },
     "execution_count": 53,
     "metadata": {},
     "output_type": "execute_result"
    }
   ],
   "source": [
    "models = {'RandomForest' : rf,\n",
    "          'XGBOOST': xgb_reg, 'LightGBM' : lgb_reg}\n",
    "\n",
    "ensemble = EnsembleRegressor(models, weights=None)\n",
    "result = ensemble.random_search(X_test, y_test, 10000)\n",
    "result.head(10)"
   ]
  },
  {
   "cell_type": "code",
   "execution_count": 54,
   "metadata": {},
   "outputs": [
    {
     "name": "stdout",
     "output_type": "stream",
     "text": [
      "[0.1784578412771225, 0.35398614406585693, 0.467555969953537]\n"
     ]
    }
   ],
   "source": [
    "optimal_weight = result.iloc[0,:3].tolist()\n",
    "print(optimal_weight)"
   ]
  },
  {
   "cell_type": "code",
   "execution_count": 55,
   "metadata": {},
   "outputs": [
    {
     "name": "stdout",
     "output_type": "stream",
     "text": [
      "[0.18271354 0.27590745 0.23733923 0.33659923 0.32653722 0.37449168\n",
      " 0.21949725 0.30854643 0.13216869 0.2327346 ]\n"
     ]
    }
   ],
   "source": [
    "ensemble = EnsembleRegressor(models, weights=optimal_weight)\n",
    "\n",
    "preds = ensemble.predict(X_test)\n",
    "print(preds[:10])"
   ]
  },
  {
   "cell_type": "code",
   "execution_count": 56,
   "metadata": {},
   "outputs": [
    {
     "name": "stdout",
     "output_type": "stream",
     "text": [
      "[0.23417039 0.18224254 0.33354443 0.28657521 0.34434414 0.40305575\n",
      " 0.2756616  0.37200119 0.08298241 0.2756616 ]\n"
     ]
    }
   ],
   "source": [
    "print( y_test[:10])"
   ]
  },
  {
   "cell_type": "code",
   "execution_count": 57,
   "metadata": {},
   "outputs": [
    {
     "data": {
      "text/plain": [
       "0.0056880157264989325"
      ]
     },
     "execution_count": 57,
     "metadata": {},
     "output_type": "execute_result"
    }
   ],
   "source": [
    "mean_squared_error(y_test, preds)"
   ]
  },
  {
   "cell_type": "markdown",
   "metadata": {},
   "source": [
    "# Evaluation"
   ]
  },
  {
   "cell_type": "code",
   "execution_count": 58,
   "metadata": {},
   "outputs": [
    {
     "name": "stdout",
     "output_type": "stream",
     "text": [
      "[ 21.16588899 100.41156226  52.71822475 276.77007008 233.94649566\n",
      " 521.24170677  39.13022947 173.21615936   9.09745314  48.81496267]\n",
      "[ 50.  21. 263. 120. 315. 840. 100. 500.   4. 100.]\n"
     ]
    }
   ],
   "source": [
    "inverse_transformed_pred = np.exp(preds * minmax_scaler.data_range_[2] + minmax_scaler.data_min_[2])\n",
    "inverse_transformed_y_test = np.exp(y_test * minmax_scaler.data_range_[2] + minmax_scaler.data_min_[2])\n",
    "\n",
    "print(inverse_transformed_pred[:10])\n",
    "print(inverse_transformed_y_test[:10])"
   ]
  },
  {
   "cell_type": "code",
   "execution_count": null,
   "metadata": {},
   "outputs": [],
   "source": []
  },
  {
   "cell_type": "code",
   "execution_count": null,
   "metadata": {},
   "outputs": [],
   "source": []
  }
 ],
 "metadata": {
  "kernelspec": {
   "display_name": "Python 3",
   "language": "python",
   "name": "python3"
  },
  "language_info": {
   "codemirror_mode": {
    "name": "ipython",
    "version": 3
   },
   "file_extension": ".py",
   "mimetype": "text/x-python",
   "name": "python",
   "nbconvert_exporter": "python",
   "pygments_lexer": "ipython3",
   "version": "3.8.5"
  }
 },
 "nbformat": 4,
 "nbformat_minor": 4
}
