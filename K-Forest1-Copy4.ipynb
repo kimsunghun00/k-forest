{
 "cells": [
  {
   "cell_type": "markdown",
   "metadata": {},
   "source": [
    "## Load Data"
   ]
  },
  {
   "cell_type": "markdown",
   "metadata": {},
   "source": [
    "### 2015년도"
   ]
  },
  {
   "cell_type": "code",
   "execution_count": 1,
   "metadata": {},
   "outputs": [
    {
     "data": {
      "text/html": [
       "<div>\n",
       "<style scoped>\n",
       "    .dataframe tbody tr th:only-of-type {\n",
       "        vertical-align: middle;\n",
       "    }\n",
       "\n",
       "    .dataframe tbody tr th {\n",
       "        vertical-align: top;\n",
       "    }\n",
       "\n",
       "    .dataframe thead th {\n",
       "        text-align: right;\n",
       "    }\n",
       "</style>\n",
       "<table border=\"1\" class=\"dataframe\">\n",
       "  <thead>\n",
       "    <tr style=\"text-align: right;\">\n",
       "      <th></th>\n",
       "      <th>시도/청</th>\n",
       "      <th>시도/관리소</th>\n",
       "      <th>시군구</th>\n",
       "      <th>조사일시</th>\n",
       "      <th>임가번호</th>\n",
       "      <th>대분류코드</th>\n",
       "      <th>중분류코드</th>\n",
       "      <th>소분류코드</th>\n",
       "      <th>품목명</th>\n",
       "      <th>단위</th>\n",
       "      <th>...</th>\n",
       "      <th>면적 단위</th>\n",
       "      <th>Unnamed: 13</th>\n",
       "      <th>금년</th>\n",
       "      <th>금년.1</th>\n",
       "      <th>금년.2</th>\n",
       "      <th>Unnamed: 17</th>\n",
       "      <th>금년.3</th>\n",
       "      <th>Unnamed: 19</th>\n",
       "      <th>금년.4</th>\n",
       "      <th>비고</th>\n",
       "    </tr>\n",
       "  </thead>\n",
       "  <tbody>\n",
       "    <tr>\n",
       "      <th>0</th>\n",
       "      <td>NaN</td>\n",
       "      <td>NaN</td>\n",
       "      <td>NaN</td>\n",
       "      <td>NaN</td>\n",
       "      <td>NaN</td>\n",
       "      <td>NaN</td>\n",
       "      <td>NaN</td>\n",
       "      <td>NaN</td>\n",
       "      <td>NaN</td>\n",
       "      <td>NaN</td>\n",
       "      <td>...</td>\n",
       "      <td>NaN</td>\n",
       "      <td>생산량</td>\n",
       "      <td>환산비율 적용 생산량</td>\n",
       "      <td>단위</td>\n",
       "      <td>생산기준</td>\n",
       "      <td>단가</td>\n",
       "      <td>환산비율 적용 단가</td>\n",
       "      <td>총 생산액</td>\n",
       "      <td>환산비율 적용 총 생산액</td>\n",
       "      <td>NaN</td>\n",
       "    </tr>\n",
       "    <tr>\n",
       "      <th>1</th>\n",
       "      <td>부산광역시</td>\n",
       "      <td>부산광역시</td>\n",
       "      <td>기장군</td>\n",
       "      <td>NaN</td>\n",
       "      <td>NaN</td>\n",
       "      <td>수실</td>\n",
       "      <td>재배수실</td>\n",
       "      <td>밤</td>\n",
       "      <td>밤</td>\n",
       "      <td>kg</td>\n",
       "      <td>...</td>\n",
       "      <td>NaN</td>\n",
       "      <td>13691</td>\n",
       "      <td>13691</td>\n",
       "      <td>kg</td>\n",
       "      <td>NaN</td>\n",
       "      <td>1492.52</td>\n",
       "      <td>1492.52</td>\n",
       "      <td>20434027</td>\n",
       "      <td>20434027</td>\n",
       "      <td>NaN</td>\n",
       "    </tr>\n",
       "    <tr>\n",
       "      <th>2</th>\n",
       "      <td>대구광역시</td>\n",
       "      <td>대구광역시</td>\n",
       "      <td>대구동구</td>\n",
       "      <td>NaN</td>\n",
       "      <td>NaN</td>\n",
       "      <td>수실</td>\n",
       "      <td>재배수실</td>\n",
       "      <td>밤</td>\n",
       "      <td>밤</td>\n",
       "      <td>kg</td>\n",
       "      <td>...</td>\n",
       "      <td>NaN</td>\n",
       "      <td>23601</td>\n",
       "      <td>23601</td>\n",
       "      <td>kg</td>\n",
       "      <td>NaN</td>\n",
       "      <td>3000.05</td>\n",
       "      <td>3000.05</td>\n",
       "      <td>70804196</td>\n",
       "      <td>70804196</td>\n",
       "      <td>NaN</td>\n",
       "    </tr>\n",
       "  </tbody>\n",
       "</table>\n",
       "<p>3 rows × 22 columns</p>\n",
       "</div>"
      ],
      "text/plain": [
       "    시도/청 시도/관리소   시군구 조사일시  임가번호 대분류코드 중분류코드 소분류코드  품목명   단위  ... 면적 단위  \\\n",
       "0    NaN    NaN   NaN  NaN   NaN   NaN   NaN   NaN  NaN  NaN  ...   NaN   \n",
       "1  부산광역시  부산광역시   기장군  NaN   NaN    수실  재배수실     밤    밤   kg  ...   NaN   \n",
       "2  대구광역시  대구광역시  대구동구  NaN   NaN    수실  재배수실     밤    밤   kg  ...   NaN   \n",
       "\n",
       "   Unnamed: 13           금년 금년.1  금년.2 Unnamed: 17        금년.3 Unnamed: 19  \\\n",
       "0          생산량  환산비율 적용 생산량   단위  생산기준          단가  환산비율 적용 단가       총 생산액   \n",
       "1        13691        13691   kg   NaN     1492.52     1492.52    20434027   \n",
       "2        23601        23601   kg   NaN     3000.05     3000.05    70804196   \n",
       "\n",
       "            금년.4   비고  \n",
       "0  환산비율 적용 총 생산액  NaN  \n",
       "1       20434027  NaN  \n",
       "2       70804196  NaN  \n",
       "\n",
       "[3 rows x 22 columns]"
      ]
     },
     "execution_count": 1,
     "metadata": {},
     "output_type": "execute_result"
    }
   ],
   "source": [
    "# 2015년\n",
    "import pandas as pd\n",
    "import numpy as np\n",
    "pd.set_option('mode.chained_assignment',  None)\n",
    "\n",
    "forest_production_2015 = pd.read_excel('임산물생산조사/2015년기준 임산물생산조사결과(최종0804).xlsx', header=2, thousands=',')\n",
    "forest_production_2015.head(3)"
   ]
  },
  {
   "cell_type": "code",
   "execution_count": 2,
   "metadata": {},
   "outputs": [
    {
     "data": {
      "text/html": [
       "<div>\n",
       "<style scoped>\n",
       "    .dataframe tbody tr th:only-of-type {\n",
       "        vertical-align: middle;\n",
       "    }\n",
       "\n",
       "    .dataframe tbody tr th {\n",
       "        vertical-align: top;\n",
       "    }\n",
       "\n",
       "    .dataframe thead th {\n",
       "        text-align: right;\n",
       "    }\n",
       "</style>\n",
       "<table border=\"1\" class=\"dataframe\">\n",
       "  <thead>\n",
       "    <tr style=\"text-align: right;\">\n",
       "      <th></th>\n",
       "      <th>시도/관리소</th>\n",
       "      <th>재배채취</th>\n",
       "      <th>재배면적</th>\n",
       "      <th>재배단위</th>\n",
       "      <th>소분류</th>\n",
       "      <th>단가</th>\n",
       "      <th>생산량</th>\n",
       "    </tr>\n",
       "  </thead>\n",
       "  <tbody>\n",
       "    <tr>\n",
       "      <th>1</th>\n",
       "      <td>부산광역시</td>\n",
       "      <td>재배</td>\n",
       "      <td>NaN</td>\n",
       "      <td>NaN</td>\n",
       "      <td>밤</td>\n",
       "      <td>1492.52</td>\n",
       "      <td>13691</td>\n",
       "    </tr>\n",
       "    <tr>\n",
       "      <th>2</th>\n",
       "      <td>대구광역시</td>\n",
       "      <td>재배</td>\n",
       "      <td>NaN</td>\n",
       "      <td>NaN</td>\n",
       "      <td>밤</td>\n",
       "      <td>3000.05</td>\n",
       "      <td>23601</td>\n",
       "    </tr>\n",
       "    <tr>\n",
       "      <th>3</th>\n",
       "      <td>대구광역시</td>\n",
       "      <td>재배</td>\n",
       "      <td>NaN</td>\n",
       "      <td>NaN</td>\n",
       "      <td>밤</td>\n",
       "      <td>6251.33</td>\n",
       "      <td>286</td>\n",
       "    </tr>\n",
       "    <tr>\n",
       "      <th>4</th>\n",
       "      <td>인천광역시</td>\n",
       "      <td>재배</td>\n",
       "      <td>NaN</td>\n",
       "      <td>NaN</td>\n",
       "      <td>밤</td>\n",
       "      <td>2999.98</td>\n",
       "      <td>4276</td>\n",
       "    </tr>\n",
       "    <tr>\n",
       "      <th>5</th>\n",
       "      <td>인천광역시</td>\n",
       "      <td>재배</td>\n",
       "      <td>NaN</td>\n",
       "      <td>NaN</td>\n",
       "      <td>밤</td>\n",
       "      <td>2166.66</td>\n",
       "      <td>65701</td>\n",
       "    </tr>\n",
       "  </tbody>\n",
       "</table>\n",
       "</div>"
      ],
      "text/plain": [
       "  시도/관리소 재배채취  재배면적 재배단위 소분류       단가    생산량\n",
       "1  부산광역시   재배   NaN  NaN   밤  1492.52  13691\n",
       "2  대구광역시   재배   NaN  NaN   밤  3000.05  23601\n",
       "3  대구광역시   재배   NaN  NaN   밤  6251.33    286\n",
       "4  인천광역시   재배   NaN  NaN   밤  2999.98   4276\n",
       "5  인천광역시   재배   NaN  NaN   밤  2166.66  65701"
      ]
     },
     "execution_count": 2,
     "metadata": {},
     "output_type": "execute_result"
    }
   ],
   "source": [
    "forest_production_2015 = forest_production_2015.iloc[1:, [1, 10, 11, 12, 7, 17, 13]]\n",
    "forest_production_2015.rename(columns={'면적' : '재배면적',\n",
    "                                       '면적 단위' : '재배단위',\n",
    "                                       '소분류코드' : '소분류',\n",
    "                                       'Unnamed: 13' : '생산량',\n",
    "                                       'Unnamed: 17' : '단가'},\n",
    "                              inplace = True)\n",
    "forest_production_2015.head()"
   ]
  },
  {
   "cell_type": "code",
   "execution_count": 3,
   "metadata": {},
   "outputs": [
    {
     "name": "stdout",
     "output_type": "stream",
     "text": [
      "(107585, 7)\n"
     ]
    }
   ],
   "source": [
    "print(forest_production_2015.shape)"
   ]
  },
  {
   "cell_type": "markdown",
   "metadata": {},
   "source": [
    "### 2016년도"
   ]
  },
  {
   "cell_type": "code",
   "execution_count": 4,
   "metadata": {},
   "outputs": [
    {
     "data": {
      "text/html": [
       "<div>\n",
       "<style scoped>\n",
       "    .dataframe tbody tr th:only-of-type {\n",
       "        vertical-align: middle;\n",
       "    }\n",
       "\n",
       "    .dataframe tbody tr th {\n",
       "        vertical-align: top;\n",
       "    }\n",
       "\n",
       "    .dataframe thead th {\n",
       "        text-align: right;\n",
       "    }\n",
       "</style>\n",
       "<table border=\"1\" class=\"dataframe\">\n",
       "  <thead>\n",
       "    <tr style=\"text-align: right;\">\n",
       "      <th></th>\n",
       "      <th>시도/청</th>\n",
       "      <th>시도/관리소</th>\n",
       "      <th>시군구</th>\n",
       "      <th>임가번호</th>\n",
       "      <th>대분류</th>\n",
       "      <th>중분류</th>\n",
       "      <th>소분류</th>\n",
       "      <th>단위</th>\n",
       "      <th>재배채취</th>\n",
       "      <th>면적</th>\n",
       "      <th>면적 단위</th>\n",
       "      <th>금년</th>\n",
       "      <th>금년.1</th>\n",
       "      <th>금년.2</th>\n",
       "      <th>금년.3</th>\n",
       "      <th>금년.4</th>\n",
       "      <th>비고</th>\n",
       "      <th>시퀀스</th>\n",
       "    </tr>\n",
       "  </thead>\n",
       "  <tbody>\n",
       "    <tr>\n",
       "      <th>0</th>\n",
       "      <td>NaN</td>\n",
       "      <td>NaN</td>\n",
       "      <td>NaN</td>\n",
       "      <td>NaN</td>\n",
       "      <td>NaN</td>\n",
       "      <td>NaN</td>\n",
       "      <td>NaN</td>\n",
       "      <td>NaN</td>\n",
       "      <td>NaN</td>\n",
       "      <td>NaN</td>\n",
       "      <td>NaN</td>\n",
       "      <td>생산량</td>\n",
       "      <td>단위</td>\n",
       "      <td>생산기준</td>\n",
       "      <td>단가</td>\n",
       "      <td>총생산액</td>\n",
       "      <td>NaN</td>\n",
       "      <td>NaN</td>\n",
       "    </tr>\n",
       "    <tr>\n",
       "      <th>1</th>\n",
       "      <td>충청북도</td>\n",
       "      <td>충청북도</td>\n",
       "      <td>진천군</td>\n",
       "      <td>017356</td>\n",
       "      <td>연료</td>\n",
       "      <td>목탄</td>\n",
       "      <td>흑탄</td>\n",
       "      <td>톤</td>\n",
       "      <td>재배</td>\n",
       "      <td>50.0</td>\n",
       "      <td>㎡</td>\n",
       "      <td>50</td>\n",
       "      <td>톤</td>\n",
       "      <td>없음</td>\n",
       "      <td>1800000</td>\n",
       "      <td>90000000</td>\n",
       "      <td>NaN</td>\n",
       "      <td>1.0</td>\n",
       "    </tr>\n",
       "    <tr>\n",
       "      <th>2</th>\n",
       "      <td>충청북도</td>\n",
       "      <td>충청북도</td>\n",
       "      <td>진천군</td>\n",
       "      <td>017442</td>\n",
       "      <td>연료</td>\n",
       "      <td>목탄</td>\n",
       "      <td>흑탄</td>\n",
       "      <td>톤</td>\n",
       "      <td>재배</td>\n",
       "      <td>10.0</td>\n",
       "      <td>㎡</td>\n",
       "      <td>25</td>\n",
       "      <td>톤</td>\n",
       "      <td>없음</td>\n",
       "      <td>1200000</td>\n",
       "      <td>30000000</td>\n",
       "      <td>NaN</td>\n",
       "      <td>1.0</td>\n",
       "    </tr>\n",
       "  </tbody>\n",
       "</table>\n",
       "</div>"
      ],
      "text/plain": [
       "   시도/청 시도/관리소  시군구    임가번호  대분류  중분류  소분류   단위 재배채취    면적 면적 단위   금년 금년.1  \\\n",
       "0   NaN    NaN  NaN     NaN  NaN  NaN  NaN  NaN  NaN   NaN   NaN  생산량   단위   \n",
       "1  충청북도   충청북도  진천군  017356   연료   목탄   흑탄    톤   재배  50.0     ㎡   50    톤   \n",
       "2  충청북도   충청북도  진천군  017442   연료   목탄   흑탄    톤   재배  10.0     ㎡   25    톤   \n",
       "\n",
       "   금년.2     금년.3      금년.4   비고  시퀀스  \n",
       "0  생산기준       단가      총생산액  NaN  NaN  \n",
       "1    없음  1800000  90000000  NaN  1.0  \n",
       "2    없음  1200000  30000000  NaN  1.0  "
      ]
     },
     "execution_count": 4,
     "metadata": {},
     "output_type": "execute_result"
    }
   ],
   "source": [
    "forest_production_2016 = pd.read_excel('임산물생산조사/2016년기준 임산물생산조사(업로드자료).xlsx', thousands=',')\n",
    "forest_production_2016.head(3)"
   ]
  },
  {
   "cell_type": "code",
   "execution_count": 5,
   "metadata": {},
   "outputs": [
    {
     "data": {
      "text/html": [
       "<div>\n",
       "<style scoped>\n",
       "    .dataframe tbody tr th:only-of-type {\n",
       "        vertical-align: middle;\n",
       "    }\n",
       "\n",
       "    .dataframe tbody tr th {\n",
       "        vertical-align: top;\n",
       "    }\n",
       "\n",
       "    .dataframe thead th {\n",
       "        text-align: right;\n",
       "    }\n",
       "</style>\n",
       "<table border=\"1\" class=\"dataframe\">\n",
       "  <thead>\n",
       "    <tr style=\"text-align: right;\">\n",
       "      <th></th>\n",
       "      <th>시도/관리소</th>\n",
       "      <th>재배채취</th>\n",
       "      <th>재배면적</th>\n",
       "      <th>재배단위</th>\n",
       "      <th>소분류</th>\n",
       "      <th>단가</th>\n",
       "      <th>생산량</th>\n",
       "    </tr>\n",
       "  </thead>\n",
       "  <tbody>\n",
       "    <tr>\n",
       "      <th>1</th>\n",
       "      <td>부산광역시</td>\n",
       "      <td>재배</td>\n",
       "      <td>NaN</td>\n",
       "      <td>NaN</td>\n",
       "      <td>밤</td>\n",
       "      <td>1492.52</td>\n",
       "      <td>13691</td>\n",
       "    </tr>\n",
       "    <tr>\n",
       "      <th>2</th>\n",
       "      <td>대구광역시</td>\n",
       "      <td>재배</td>\n",
       "      <td>NaN</td>\n",
       "      <td>NaN</td>\n",
       "      <td>밤</td>\n",
       "      <td>3000.05</td>\n",
       "      <td>23601</td>\n",
       "    </tr>\n",
       "    <tr>\n",
       "      <th>3</th>\n",
       "      <td>대구광역시</td>\n",
       "      <td>재배</td>\n",
       "      <td>NaN</td>\n",
       "      <td>NaN</td>\n",
       "      <td>밤</td>\n",
       "      <td>6251.33</td>\n",
       "      <td>286</td>\n",
       "    </tr>\n",
       "    <tr>\n",
       "      <th>4</th>\n",
       "      <td>인천광역시</td>\n",
       "      <td>재배</td>\n",
       "      <td>NaN</td>\n",
       "      <td>NaN</td>\n",
       "      <td>밤</td>\n",
       "      <td>2999.98</td>\n",
       "      <td>4276</td>\n",
       "    </tr>\n",
       "    <tr>\n",
       "      <th>5</th>\n",
       "      <td>인천광역시</td>\n",
       "      <td>재배</td>\n",
       "      <td>NaN</td>\n",
       "      <td>NaN</td>\n",
       "      <td>밤</td>\n",
       "      <td>2166.66</td>\n",
       "      <td>65701</td>\n",
       "    </tr>\n",
       "  </tbody>\n",
       "</table>\n",
       "</div>"
      ],
      "text/plain": [
       "  시도/관리소 재배채취  재배면적 재배단위 소분류       단가    생산량\n",
       "1  부산광역시   재배   NaN  NaN   밤  1492.52  13691\n",
       "2  대구광역시   재배   NaN  NaN   밤  3000.05  23601\n",
       "3  대구광역시   재배   NaN  NaN   밤  6251.33    286\n",
       "4  인천광역시   재배   NaN  NaN   밤  2999.98   4276\n",
       "5  인천광역시   재배   NaN  NaN   밤  2166.66  65701"
      ]
     },
     "execution_count": 5,
     "metadata": {},
     "output_type": "execute_result"
    }
   ],
   "source": [
    "forest_production_2016 = forest_production_2016.iloc[1:, [1, 8, 9, 10, 6, 14, 11]]\n",
    "forest_production_2016.rename(columns={'면적' : '재배면적',\n",
    "                                       '면적 단위' : '재배단위',\n",
    "                                       '금년.3' : '단가',\n",
    "                                       '금년' : '생산량'},\n",
    "                              inplace = True)\n",
    "forest_production_2015.head()"
   ]
  },
  {
   "cell_type": "code",
   "execution_count": 6,
   "metadata": {},
   "outputs": [
    {
     "name": "stdout",
     "output_type": "stream",
     "text": [
      "(111329, 7)\n"
     ]
    }
   ],
   "source": [
    "print(forest_production_2016.shape)"
   ]
  },
  {
   "cell_type": "markdown",
   "metadata": {},
   "source": [
    "### 2017년도"
   ]
  },
  {
   "cell_type": "code",
   "execution_count": 7,
   "metadata": {},
   "outputs": [
    {
     "data": {
      "text/html": [
       "<div>\n",
       "<style scoped>\n",
       "    .dataframe tbody tr th:only-of-type {\n",
       "        vertical-align: middle;\n",
       "    }\n",
       "\n",
       "    .dataframe tbody tr th {\n",
       "        vertical-align: top;\n",
       "    }\n",
       "\n",
       "    .dataframe thead th {\n",
       "        text-align: right;\n",
       "    }\n",
       "</style>\n",
       "<table border=\"1\" class=\"dataframe\">\n",
       "  <thead>\n",
       "    <tr style=\"text-align: right;\">\n",
       "      <th></th>\n",
       "      <th>시도/청</th>\n",
       "      <th>시군구/관리소</th>\n",
       "      <th>임가번호</th>\n",
       "      <th>구분(재배/채취)</th>\n",
       "      <th>구분(재배/채취).1</th>\n",
       "      <th>구분(재배/채취).2</th>\n",
       "      <th>Unnamed: 6</th>\n",
       "      <th>구분(재배/채취).3</th>\n",
       "      <th>품목</th>\n",
       "      <th>품목.1</th>\n",
       "      <th>품목.2</th>\n",
       "      <th>품목.3</th>\n",
       "      <th>최종값</th>\n",
       "      <th>Unnamed: 13</th>\n",
       "      <th>Unnamed: 14</th>\n",
       "      <th>비고</th>\n",
       "      <th>점검사항</th>\n",
       "      <th>등록자</th>\n",
       "      <th>최초등록일</th>\n",
       "      <th>최종수정일</th>\n",
       "    </tr>\n",
       "  </thead>\n",
       "  <tbody>\n",
       "    <tr>\n",
       "      <th>0</th>\n",
       "      <td>NaN</td>\n",
       "      <td>NaN</td>\n",
       "      <td>NaN</td>\n",
       "      <td>재배채취</td>\n",
       "      <td>재배기준</td>\n",
       "      <td>재배면적</td>\n",
       "      <td>환산면적</td>\n",
       "      <td>재배단위</td>\n",
       "      <td>대분류</td>\n",
       "      <td>중분류</td>\n",
       "      <td>소분류</td>\n",
       "      <td>품목단위</td>\n",
       "      <td>생산량</td>\n",
       "      <td>단가</td>\n",
       "      <td>생산액</td>\n",
       "      <td>NaN</td>\n",
       "      <td>NaN</td>\n",
       "      <td>NaN</td>\n",
       "      <td>NaN</td>\n",
       "      <td>NaN</td>\n",
       "    </tr>\n",
       "    <tr>\n",
       "      <th>1</th>\n",
       "      <td>서울특별시</td>\n",
       "      <td>종로구</td>\n",
       "      <td>341235.0</td>\n",
       "      <td>채취</td>\n",
       "      <td>NaN</td>\n",
       "      <td>0</td>\n",
       "      <td>0</td>\n",
       "      <td>㎡</td>\n",
       "      <td>수실</td>\n",
       "      <td>재배수실</td>\n",
       "      <td>은행</td>\n",
       "      <td>kg</td>\n",
       "      <td>36920</td>\n",
       "      <td>3000</td>\n",
       "      <td>110760000</td>\n",
       "      <td>3영급 (20년생 이상)의 나무</td>\n",
       "      <td>NaN</td>\n",
       "      <td>A1001P101</td>\n",
       "      <td>2018-04-24</td>\n",
       "      <td>2018-04-24</td>\n",
       "    </tr>\n",
       "    <tr>\n",
       "      <th>2</th>\n",
       "      <td>서울특별시</td>\n",
       "      <td>중구</td>\n",
       "      <td>341243.0</td>\n",
       "      <td>채취</td>\n",
       "      <td>NaN</td>\n",
       "      <td>0</td>\n",
       "      <td>0</td>\n",
       "      <td>㎡</td>\n",
       "      <td>수실</td>\n",
       "      <td>재배수실</td>\n",
       "      <td>은행</td>\n",
       "      <td>kg</td>\n",
       "      <td>22720</td>\n",
       "      <td>3000</td>\n",
       "      <td>68160000</td>\n",
       "      <td>3영급 (20년생 이상)의 나무</td>\n",
       "      <td>NaN</td>\n",
       "      <td>A1001P101</td>\n",
       "      <td>2018-04-24</td>\n",
       "      <td>2018-04-24</td>\n",
       "    </tr>\n",
       "  </tbody>\n",
       "</table>\n",
       "</div>"
      ],
      "text/plain": [
       "    시도/청 시군구/관리소      임가번호 구분(재배/채취) 구분(재배/채취).1 구분(재배/채취).2 Unnamed: 6  \\\n",
       "0    NaN     NaN       NaN      재배채취        재배기준        재배면적       환산면적   \n",
       "1  서울특별시     종로구  341235.0        채취         NaN           0          0   \n",
       "2  서울특별시      중구  341243.0        채취         NaN           0          0   \n",
       "\n",
       "  구분(재배/채취).3   품목  품목.1 품목.2  품목.3    최종값 Unnamed: 13 Unnamed: 14  \\\n",
       "0        재배단위  대분류   중분류  소분류  품목단위    생산량          단가         생산액   \n",
       "1           ㎡   수실  재배수실   은행    kg  36920        3000   110760000   \n",
       "2           ㎡   수실  재배수실   은행    kg  22720        3000    68160000   \n",
       "\n",
       "                  비고  점검사항        등록자       최초등록일       최종수정일  \n",
       "0                NaN   NaN        NaN         NaN         NaN  \n",
       "1  3영급 (20년생 이상)의 나무   NaN  A1001P101  2018-04-24  2018-04-24  \n",
       "2  3영급 (20년생 이상)의 나무   NaN  A1001P101  2018-04-24  2018-04-24  "
      ]
     },
     "execution_count": 7,
     "metadata": {},
     "output_type": "execute_result"
    }
   ],
   "source": [
    "forest_production_2017 = pd.read_excel('임산물생산조사/2017년 기준 임산물생산조사(업로드자료).xlsx', thousands=',')\n",
    "forest_production_2017.head(3)"
   ]
  },
  {
   "cell_type": "code",
   "execution_count": 8,
   "metadata": {},
   "outputs": [
    {
     "data": {
      "text/html": [
       "<div>\n",
       "<style scoped>\n",
       "    .dataframe tbody tr th:only-of-type {\n",
       "        vertical-align: middle;\n",
       "    }\n",
       "\n",
       "    .dataframe tbody tr th {\n",
       "        vertical-align: top;\n",
       "    }\n",
       "\n",
       "    .dataframe thead th {\n",
       "        text-align: right;\n",
       "    }\n",
       "</style>\n",
       "<table border=\"1\" class=\"dataframe\">\n",
       "  <thead>\n",
       "    <tr style=\"text-align: right;\">\n",
       "      <th></th>\n",
       "      <th>시도/관리소</th>\n",
       "      <th>재배채취</th>\n",
       "      <th>재배면적</th>\n",
       "      <th>재배단위</th>\n",
       "      <th>소분류</th>\n",
       "      <th>단가</th>\n",
       "      <th>생산량</th>\n",
       "    </tr>\n",
       "  </thead>\n",
       "  <tbody>\n",
       "    <tr>\n",
       "      <th>1</th>\n",
       "      <td>종로구</td>\n",
       "      <td>채취</td>\n",
       "      <td>0</td>\n",
       "      <td>㎡</td>\n",
       "      <td>은행</td>\n",
       "      <td>3000</td>\n",
       "      <td>36920</td>\n",
       "    </tr>\n",
       "    <tr>\n",
       "      <th>2</th>\n",
       "      <td>중구</td>\n",
       "      <td>채취</td>\n",
       "      <td>0</td>\n",
       "      <td>㎡</td>\n",
       "      <td>은행</td>\n",
       "      <td>3000</td>\n",
       "      <td>22720</td>\n",
       "    </tr>\n",
       "    <tr>\n",
       "      <th>3</th>\n",
       "      <td>용산구</td>\n",
       "      <td>채취</td>\n",
       "      <td>0</td>\n",
       "      <td>㎡</td>\n",
       "      <td>은행</td>\n",
       "      <td>3000</td>\n",
       "      <td>41440</td>\n",
       "    </tr>\n",
       "    <tr>\n",
       "      <th>4</th>\n",
       "      <td>성동구</td>\n",
       "      <td>채취</td>\n",
       "      <td>0</td>\n",
       "      <td>㎡</td>\n",
       "      <td>은행</td>\n",
       "      <td>3000</td>\n",
       "      <td>9960</td>\n",
       "    </tr>\n",
       "    <tr>\n",
       "      <th>5</th>\n",
       "      <td>광진구</td>\n",
       "      <td>채취</td>\n",
       "      <td>0</td>\n",
       "      <td>㎡</td>\n",
       "      <td>은행</td>\n",
       "      <td>3000</td>\n",
       "      <td>12800</td>\n",
       "    </tr>\n",
       "  </tbody>\n",
       "</table>\n",
       "</div>"
      ],
      "text/plain": [
       "  시도/관리소 재배채취 재배면적 재배단위 소분류    단가    생산량\n",
       "1    종로구   채취    0    ㎡  은행  3000  36920\n",
       "2     중구   채취    0    ㎡  은행  3000  22720\n",
       "3    용산구   채취    0    ㎡  은행  3000  41440\n",
       "4    성동구   채취    0    ㎡  은행  3000   9960\n",
       "5    광진구   채취    0    ㎡  은행  3000  12800"
      ]
     },
     "execution_count": 8,
     "metadata": {},
     "output_type": "execute_result"
    }
   ],
   "source": [
    "forest_production_2017 = forest_production_2017.iloc[1:, [1, 3, 5, 7, 10, 13, 12]]\n",
    "forest_production_2017.rename(columns={'시군구/관리소' : '시도/관리소',\n",
    "                                        '구분(재배/채취)' : '재배채취',\n",
    "                                        '구분(재배/채취).1' : '재배기준',\n",
    "                                        '구분(재배/채취).2' : '재배면적',\n",
    "                                        '구분(재배/채취).3' : '재배단위',\n",
    "                                        '품목.2' : '소분류',\n",
    "                                        'Unnamed: 13' : '단가',\n",
    "                                        '최종값' : '생산량'},\n",
    "                             inplace = True)\n",
    "forest_production_2017.head()"
   ]
  },
  {
   "cell_type": "code",
   "execution_count": 9,
   "metadata": {},
   "outputs": [
    {
     "name": "stdout",
     "output_type": "stream",
     "text": [
      "(106879, 7)\n"
     ]
    }
   ],
   "source": [
    "print(forest_production_2017.shape)"
   ]
  },
  {
   "cell_type": "markdown",
   "metadata": {},
   "source": [
    "### 2018년도"
   ]
  },
  {
   "cell_type": "code",
   "execution_count": 10,
   "metadata": {},
   "outputs": [
    {
     "data": {
      "text/html": [
       "<div>\n",
       "<style scoped>\n",
       "    .dataframe tbody tr th:only-of-type {\n",
       "        vertical-align: middle;\n",
       "    }\n",
       "\n",
       "    .dataframe tbody tr th {\n",
       "        vertical-align: top;\n",
       "    }\n",
       "\n",
       "    .dataframe thead th {\n",
       "        text-align: right;\n",
       "    }\n",
       "</style>\n",
       "<table border=\"1\" class=\"dataframe\">\n",
       "  <thead>\n",
       "    <tr style=\"text-align: right;\">\n",
       "      <th></th>\n",
       "      <th>시도/청</th>\n",
       "      <th>시도/관리소</th>\n",
       "      <th>시군구</th>\n",
       "      <th>재배채취</th>\n",
       "      <th>재배기준</th>\n",
       "      <th>재배면적</th>\n",
       "      <th>재배단위</th>\n",
       "      <th>대분류</th>\n",
       "      <th>중분류</th>\n",
       "      <th>소분류</th>\n",
       "      <th>...</th>\n",
       "      <th>생산기준</th>\n",
       "      <th>비고</th>\n",
       "      <th>생산량</th>\n",
       "      <th>단가</th>\n",
       "      <th>총생산액</th>\n",
       "      <th>시도/청.1</th>\n",
       "      <th>시군구.1</th>\n",
       "      <th>관계</th>\n",
       "      <th>기타관계</th>\n",
       "      <th>임가번호</th>\n",
       "    </tr>\n",
       "  </thead>\n",
       "  <tbody>\n",
       "    <tr>\n",
       "      <th>0</th>\n",
       "      <td>서울특별시</td>\n",
       "      <td>서울특별시</td>\n",
       "      <td>금천구</td>\n",
       "      <td>채취</td>\n",
       "      <td>산지</td>\n",
       "      <td>200.0</td>\n",
       "      <td>평</td>\n",
       "      <td>산나물</td>\n",
       "      <td>산나물</td>\n",
       "      <td>두릅</td>\n",
       "      <td>...</td>\n",
       "      <td>생채(kg)</td>\n",
       "      <td>NaN</td>\n",
       "      <td>1000.0</td>\n",
       "      <td>20000.0</td>\n",
       "      <td>20000000.0</td>\n",
       "      <td>서울특별시</td>\n",
       "      <td>금천구</td>\n",
       "      <td>본인</td>\n",
       "      <td>NaN</td>\n",
       "      <td>437261.0</td>\n",
       "    </tr>\n",
       "    <tr>\n",
       "      <th>1</th>\n",
       "      <td>서울특별시</td>\n",
       "      <td>서울특별시</td>\n",
       "      <td>강남구</td>\n",
       "      <td>채취</td>\n",
       "      <td>노지</td>\n",
       "      <td>800.0</td>\n",
       "      <td>평</td>\n",
       "      <td>조경재</td>\n",
       "      <td>조경수</td>\n",
       "      <td>벚나무</td>\n",
       "      <td>...</td>\n",
       "      <td>없음</td>\n",
       "      <td>NaN</td>\n",
       "      <td>100.0</td>\n",
       "      <td>30000.0</td>\n",
       "      <td>3000000.0</td>\n",
       "      <td>서울특별시</td>\n",
       "      <td>강남구</td>\n",
       "      <td>본인</td>\n",
       "      <td>NaN</td>\n",
       "      <td>423159.0</td>\n",
       "    </tr>\n",
       "    <tr>\n",
       "      <th>2</th>\n",
       "      <td>부산광역시</td>\n",
       "      <td>부산광역시</td>\n",
       "      <td>부산서구</td>\n",
       "      <td>채취</td>\n",
       "      <td>산지</td>\n",
       "      <td>1500.0</td>\n",
       "      <td>평</td>\n",
       "      <td>조경재</td>\n",
       "      <td>조경수</td>\n",
       "      <td>느티나무류</td>\n",
       "      <td>...</td>\n",
       "      <td>없음</td>\n",
       "      <td>수령60년</td>\n",
       "      <td>1.0</td>\n",
       "      <td>5900000.0</td>\n",
       "      <td>5900000.0</td>\n",
       "      <td>부산광역시</td>\n",
       "      <td>부산서구</td>\n",
       "      <td>본인</td>\n",
       "      <td>NaN</td>\n",
       "      <td>902670.0</td>\n",
       "    </tr>\n",
       "  </tbody>\n",
       "</table>\n",
       "<p>3 rows × 21 columns</p>\n",
       "</div>"
      ],
      "text/plain": [
       "    시도/청 시도/관리소   시군구 재배채취 재배기준    재배면적 재배단위  대분류  중분류    소분류  ...    생산기준  \\\n",
       "0  서울특별시  서울특별시   금천구   채취   산지   200.0    평  산나물  산나물     두릅  ...  생채(kg)   \n",
       "1  서울특별시  서울특별시   강남구   채취   노지   800.0    평  조경재  조경수    벚나무  ...      없음   \n",
       "2  부산광역시  부산광역시  부산서구   채취   산지  1500.0    평  조경재  조경수  느티나무류  ...      없음   \n",
       "\n",
       "      비고     생산량         단가        총생산액  시도/청.1 시군구.1  관계 기타관계      임가번호  \n",
       "0    NaN  1000.0    20000.0  20000000.0   서울특별시   금천구  본인  NaN  437261.0  \n",
       "1    NaN   100.0    30000.0   3000000.0   서울특별시   강남구  본인  NaN  423159.0  \n",
       "2  수령60년     1.0  5900000.0   5900000.0   부산광역시  부산서구  본인  NaN  902670.0  \n",
       "\n",
       "[3 rows x 21 columns]"
      ]
     },
     "execution_count": 10,
     "metadata": {},
     "output_type": "execute_result"
    }
   ],
   "source": [
    "forest_production_2018 = pd.read_excel('임산물생산조사/2018년 기준 임산물생산조사(업로드자료) - 정정.xlsx', thousands=',')\n",
    "forest_production_2018.head(3)"
   ]
  },
  {
   "cell_type": "code",
   "execution_count": 11,
   "metadata": {},
   "outputs": [
    {
     "data": {
      "text/html": [
       "<div>\n",
       "<style scoped>\n",
       "    .dataframe tbody tr th:only-of-type {\n",
       "        vertical-align: middle;\n",
       "    }\n",
       "\n",
       "    .dataframe tbody tr th {\n",
       "        vertical-align: top;\n",
       "    }\n",
       "\n",
       "    .dataframe thead th {\n",
       "        text-align: right;\n",
       "    }\n",
       "</style>\n",
       "<table border=\"1\" class=\"dataframe\">\n",
       "  <thead>\n",
       "    <tr style=\"text-align: right;\">\n",
       "      <th></th>\n",
       "      <th>시도/관리소</th>\n",
       "      <th>재배채취</th>\n",
       "      <th>재배면적</th>\n",
       "      <th>재배단위</th>\n",
       "      <th>소분류</th>\n",
       "      <th>단가</th>\n",
       "      <th>생산량</th>\n",
       "    </tr>\n",
       "  </thead>\n",
       "  <tbody>\n",
       "    <tr>\n",
       "      <th>0</th>\n",
       "      <td>서울특별시</td>\n",
       "      <td>채취</td>\n",
       "      <td>200.0</td>\n",
       "      <td>평</td>\n",
       "      <td>두릅</td>\n",
       "      <td>20000.0</td>\n",
       "      <td>1000.0</td>\n",
       "    </tr>\n",
       "    <tr>\n",
       "      <th>1</th>\n",
       "      <td>서울특별시</td>\n",
       "      <td>채취</td>\n",
       "      <td>800.0</td>\n",
       "      <td>평</td>\n",
       "      <td>벚나무</td>\n",
       "      <td>30000.0</td>\n",
       "      <td>100.0</td>\n",
       "    </tr>\n",
       "    <tr>\n",
       "      <th>2</th>\n",
       "      <td>부산광역시</td>\n",
       "      <td>채취</td>\n",
       "      <td>1500.0</td>\n",
       "      <td>평</td>\n",
       "      <td>느티나무류</td>\n",
       "      <td>5900000.0</td>\n",
       "      <td>1.0</td>\n",
       "    </tr>\n",
       "    <tr>\n",
       "      <th>3</th>\n",
       "      <td>부산광역시</td>\n",
       "      <td>채취</td>\n",
       "      <td>1500.0</td>\n",
       "      <td>평</td>\n",
       "      <td>동백나무</td>\n",
       "      <td>610000.0</td>\n",
       "      <td>540.0</td>\n",
       "    </tr>\n",
       "    <tr>\n",
       "      <th>4</th>\n",
       "      <td>부산광역시</td>\n",
       "      <td>채취</td>\n",
       "      <td>1500.0</td>\n",
       "      <td>평</td>\n",
       "      <td>주목</td>\n",
       "      <td>148000.0</td>\n",
       "      <td>1.0</td>\n",
       "    </tr>\n",
       "  </tbody>\n",
       "</table>\n",
       "</div>"
      ],
      "text/plain": [
       "  시도/관리소 재배채취    재배면적 재배단위    소분류         단가     생산량\n",
       "0  서울특별시   채취   200.0    평     두릅    20000.0  1000.0\n",
       "1  서울특별시   채취   800.0    평    벚나무    30000.0   100.0\n",
       "2  부산광역시   채취  1500.0    평  느티나무류  5900000.0     1.0\n",
       "3  부산광역시   채취  1500.0    평   동백나무   610000.0   540.0\n",
       "4  부산광역시   채취  1500.0    평     주목   148000.0     1.0"
      ]
     },
     "execution_count": 11,
     "metadata": {},
     "output_type": "execute_result"
    }
   ],
   "source": [
    "forest_production_2018 = forest_production_2018.iloc[:, [1, 3, 5, 6, 9, 14, 13]]\n",
    "forest_production_2018.rename(columns={'품목.2' : '소분류',\n",
    "                                      '최종값' : '생산량'},\n",
    "                             inplace = True)\n",
    "forest_production_2018.head()"
   ]
  },
  {
   "cell_type": "code",
   "execution_count": 12,
   "metadata": {},
   "outputs": [
    {
     "name": "stdout",
     "output_type": "stream",
     "text": [
      "(111479, 7)\n"
     ]
    }
   ],
   "source": [
    "print(forest_production_2018.shape)"
   ]
  },
  {
   "cell_type": "markdown",
   "metadata": {},
   "source": [
    "## concatenate data"
   ]
  },
  {
   "cell_type": "code",
   "execution_count": 13,
   "metadata": {},
   "outputs": [
    {
     "data": {
      "text/html": [
       "<div>\n",
       "<style scoped>\n",
       "    .dataframe tbody tr th:only-of-type {\n",
       "        vertical-align: middle;\n",
       "    }\n",
       "\n",
       "    .dataframe tbody tr th {\n",
       "        vertical-align: top;\n",
       "    }\n",
       "\n",
       "    .dataframe thead th {\n",
       "        text-align: right;\n",
       "    }\n",
       "</style>\n",
       "<table border=\"1\" class=\"dataframe\">\n",
       "  <thead>\n",
       "    <tr style=\"text-align: right;\">\n",
       "      <th></th>\n",
       "      <th>시도/관리소</th>\n",
       "      <th>재배채취</th>\n",
       "      <th>재배면적</th>\n",
       "      <th>재배단위</th>\n",
       "      <th>소분류</th>\n",
       "      <th>단가</th>\n",
       "      <th>생산량</th>\n",
       "    </tr>\n",
       "  </thead>\n",
       "  <tbody>\n",
       "    <tr>\n",
       "      <th>1</th>\n",
       "      <td>부산광역시</td>\n",
       "      <td>재배</td>\n",
       "      <td>NaN</td>\n",
       "      <td>NaN</td>\n",
       "      <td>밤</td>\n",
       "      <td>1492.52</td>\n",
       "      <td>13691</td>\n",
       "    </tr>\n",
       "    <tr>\n",
       "      <th>2</th>\n",
       "      <td>대구광역시</td>\n",
       "      <td>재배</td>\n",
       "      <td>NaN</td>\n",
       "      <td>NaN</td>\n",
       "      <td>밤</td>\n",
       "      <td>3000.05</td>\n",
       "      <td>23601</td>\n",
       "    </tr>\n",
       "    <tr>\n",
       "      <th>3</th>\n",
       "      <td>대구광역시</td>\n",
       "      <td>재배</td>\n",
       "      <td>NaN</td>\n",
       "      <td>NaN</td>\n",
       "      <td>밤</td>\n",
       "      <td>6251.33</td>\n",
       "      <td>286</td>\n",
       "    </tr>\n",
       "    <tr>\n",
       "      <th>4</th>\n",
       "      <td>인천광역시</td>\n",
       "      <td>재배</td>\n",
       "      <td>NaN</td>\n",
       "      <td>NaN</td>\n",
       "      <td>밤</td>\n",
       "      <td>2999.98</td>\n",
       "      <td>4276</td>\n",
       "    </tr>\n",
       "    <tr>\n",
       "      <th>5</th>\n",
       "      <td>인천광역시</td>\n",
       "      <td>재배</td>\n",
       "      <td>NaN</td>\n",
       "      <td>NaN</td>\n",
       "      <td>밤</td>\n",
       "      <td>2166.66</td>\n",
       "      <td>65701</td>\n",
       "    </tr>\n",
       "    <tr>\n",
       "      <th>...</th>\n",
       "      <td>...</td>\n",
       "      <td>...</td>\n",
       "      <td>...</td>\n",
       "      <td>...</td>\n",
       "      <td>...</td>\n",
       "      <td>...</td>\n",
       "      <td>...</td>\n",
       "    </tr>\n",
       "    <tr>\n",
       "      <th>111474</th>\n",
       "      <td>경상남도</td>\n",
       "      <td>NaN</td>\n",
       "      <td>NaN</td>\n",
       "      <td>NaN</td>\n",
       "      <td>활엽수</td>\n",
       "      <td>78072</td>\n",
       "      <td>562313</td>\n",
       "    </tr>\n",
       "    <tr>\n",
       "      <th>111475</th>\n",
       "      <td>경상남도</td>\n",
       "      <td>NaN</td>\n",
       "      <td>NaN</td>\n",
       "      <td>NaN</td>\n",
       "      <td>혼효림</td>\n",
       "      <td>85549</td>\n",
       "      <td>744866</td>\n",
       "    </tr>\n",
       "    <tr>\n",
       "      <th>111476</th>\n",
       "      <td>제주특별자치도</td>\n",
       "      <td>NaN</td>\n",
       "      <td>NaN</td>\n",
       "      <td>NaN</td>\n",
       "      <td>침엽수</td>\n",
       "      <td>97794</td>\n",
       "      <td>132416</td>\n",
       "    </tr>\n",
       "    <tr>\n",
       "      <th>111477</th>\n",
       "      <td>제주특별자치도</td>\n",
       "      <td>NaN</td>\n",
       "      <td>NaN</td>\n",
       "      <td>NaN</td>\n",
       "      <td>활엽수</td>\n",
       "      <td>93949</td>\n",
       "      <td>128837</td>\n",
       "    </tr>\n",
       "    <tr>\n",
       "      <th>111478</th>\n",
       "      <td>제주특별자치도</td>\n",
       "      <td>NaN</td>\n",
       "      <td>NaN</td>\n",
       "      <td>NaN</td>\n",
       "      <td>혼효림</td>\n",
       "      <td>95789</td>\n",
       "      <td>57820</td>\n",
       "    </tr>\n",
       "  </tbody>\n",
       "</table>\n",
       "<p>437272 rows × 7 columns</p>\n",
       "</div>"
      ],
      "text/plain": [
       "         시도/관리소 재배채취 재배면적 재배단위  소분류       단가     생산량\n",
       "1         부산광역시   재배  NaN  NaN    밤  1492.52   13691\n",
       "2         대구광역시   재배  NaN  NaN    밤  3000.05   23601\n",
       "3         대구광역시   재배  NaN  NaN    밤  6251.33     286\n",
       "4         인천광역시   재배  NaN  NaN    밤  2999.98    4276\n",
       "5         인천광역시   재배  NaN  NaN    밤  2166.66   65701\n",
       "...         ...  ...  ...  ...  ...      ...     ...\n",
       "111474     경상남도  NaN  NaN  NaN  활엽수    78072  562313\n",
       "111475     경상남도  NaN  NaN  NaN  혼효림    85549  744866\n",
       "111476  제주특별자치도  NaN  NaN  NaN  침엽수    97794  132416\n",
       "111477  제주특별자치도  NaN  NaN  NaN  활엽수    93949  128837\n",
       "111478  제주특별자치도  NaN  NaN  NaN  혼효림    95789   57820\n",
       "\n",
       "[437272 rows x 7 columns]"
      ]
     },
     "execution_count": 13,
     "metadata": {},
     "output_type": "execute_result"
    }
   ],
   "source": [
    "data = pd.concat([forest_production_2015,\n",
    "                  forest_production_2016,\n",
    "                  forest_production_2017,\n",
    "                  forest_production_2018], axis=0)\n",
    "data"
   ]
  },
  {
   "cell_type": "code",
   "execution_count": 14,
   "metadata": {},
   "outputs": [
    {
     "data": {
      "text/html": [
       "<div>\n",
       "<style scoped>\n",
       "    .dataframe tbody tr th:only-of-type {\n",
       "        vertical-align: middle;\n",
       "    }\n",
       "\n",
       "    .dataframe tbody tr th {\n",
       "        vertical-align: top;\n",
       "    }\n",
       "\n",
       "    .dataframe thead th {\n",
       "        text-align: right;\n",
       "    }\n",
       "</style>\n",
       "<table border=\"1\" class=\"dataframe\">\n",
       "  <thead>\n",
       "    <tr style=\"text-align: right;\">\n",
       "      <th></th>\n",
       "      <th>시도/관리소</th>\n",
       "      <th>재배채취</th>\n",
       "      <th>재배면적</th>\n",
       "      <th>재배단위</th>\n",
       "      <th>소분류</th>\n",
       "      <th>단가</th>\n",
       "      <th>생산량</th>\n",
       "    </tr>\n",
       "  </thead>\n",
       "  <tbody>\n",
       "    <tr>\n",
       "      <th>1</th>\n",
       "      <td>부산광역시</td>\n",
       "      <td>재배</td>\n",
       "      <td>NaN</td>\n",
       "      <td>NaN</td>\n",
       "      <td>밤</td>\n",
       "      <td>1492.52</td>\n",
       "      <td>13691</td>\n",
       "    </tr>\n",
       "    <tr>\n",
       "      <th>2</th>\n",
       "      <td>대구광역시</td>\n",
       "      <td>재배</td>\n",
       "      <td>NaN</td>\n",
       "      <td>NaN</td>\n",
       "      <td>밤</td>\n",
       "      <td>3000.05</td>\n",
       "      <td>23601</td>\n",
       "    </tr>\n",
       "    <tr>\n",
       "      <th>3</th>\n",
       "      <td>대구광역시</td>\n",
       "      <td>재배</td>\n",
       "      <td>NaN</td>\n",
       "      <td>NaN</td>\n",
       "      <td>밤</td>\n",
       "      <td>6251.33</td>\n",
       "      <td>286</td>\n",
       "    </tr>\n",
       "    <tr>\n",
       "      <th>4</th>\n",
       "      <td>인천광역시</td>\n",
       "      <td>재배</td>\n",
       "      <td>NaN</td>\n",
       "      <td>NaN</td>\n",
       "      <td>밤</td>\n",
       "      <td>2999.98</td>\n",
       "      <td>4276</td>\n",
       "    </tr>\n",
       "    <tr>\n",
       "      <th>5</th>\n",
       "      <td>인천광역시</td>\n",
       "      <td>재배</td>\n",
       "      <td>NaN</td>\n",
       "      <td>NaN</td>\n",
       "      <td>밤</td>\n",
       "      <td>2166.66</td>\n",
       "      <td>65701</td>\n",
       "    </tr>\n",
       "    <tr>\n",
       "      <th>...</th>\n",
       "      <td>...</td>\n",
       "      <td>...</td>\n",
       "      <td>...</td>\n",
       "      <td>...</td>\n",
       "      <td>...</td>\n",
       "      <td>...</td>\n",
       "      <td>...</td>\n",
       "    </tr>\n",
       "    <tr>\n",
       "      <th>110440</th>\n",
       "      <td>충청북도</td>\n",
       "      <td>NaN</td>\n",
       "      <td>NaN</td>\n",
       "      <td>NaN</td>\n",
       "      <td>오미자</td>\n",
       "      <td>18587</td>\n",
       "      <td>71549</td>\n",
       "    </tr>\n",
       "    <tr>\n",
       "      <th>110448</th>\n",
       "      <td>울산광역시</td>\n",
       "      <td>NaN</td>\n",
       "      <td>NaN</td>\n",
       "      <td>NaN</td>\n",
       "      <td>더덕</td>\n",
       "      <td>16500</td>\n",
       "      <td>160</td>\n",
       "    </tr>\n",
       "    <tr>\n",
       "      <th>110452</th>\n",
       "      <td>경상북도</td>\n",
       "      <td>NaN</td>\n",
       "      <td>NaN</td>\n",
       "      <td>NaN</td>\n",
       "      <td>더덕</td>\n",
       "      <td>16500</td>\n",
       "      <td>17452</td>\n",
       "    </tr>\n",
       "    <tr>\n",
       "      <th>110458</th>\n",
       "      <td>대전광역시</td>\n",
       "      <td>NaN</td>\n",
       "      <td>NaN</td>\n",
       "      <td>NaN</td>\n",
       "      <td>더덕</td>\n",
       "      <td>16500</td>\n",
       "      <td>150</td>\n",
       "    </tr>\n",
       "    <tr>\n",
       "      <th>110459</th>\n",
       "      <td>울산광역시</td>\n",
       "      <td>NaN</td>\n",
       "      <td>NaN</td>\n",
       "      <td>NaN</td>\n",
       "      <td>더덕</td>\n",
       "      <td>16500</td>\n",
       "      <td>50</td>\n",
       "    </tr>\n",
       "  </tbody>\n",
       "</table>\n",
       "<p>24893 rows × 7 columns</p>\n",
       "</div>"
      ],
      "text/plain": [
       "       시도/관리소 재배채취 재배면적 재배단위  소분류       단가    생산량\n",
       "1       부산광역시   재배  NaN  NaN    밤  1492.52  13691\n",
       "2       대구광역시   재배  NaN  NaN    밤  3000.05  23601\n",
       "3       대구광역시   재배  NaN  NaN    밤  6251.33    286\n",
       "4       인천광역시   재배  NaN  NaN    밤  2999.98   4276\n",
       "5       인천광역시   재배  NaN  NaN    밤  2166.66  65701\n",
       "...       ...  ...  ...  ...  ...      ...    ...\n",
       "110440   충청북도  NaN  NaN  NaN  오미자    18587  71549\n",
       "110448  울산광역시  NaN  NaN  NaN   더덕    16500    160\n",
       "110452   경상북도  NaN  NaN  NaN   더덕    16500  17452\n",
       "110458  대전광역시  NaN  NaN  NaN   더덕    16500    150\n",
       "110459  울산광역시  NaN  NaN  NaN   더덕    16500     50\n",
       "\n",
       "[24893 rows x 7 columns]"
      ]
     },
     "execution_count": 14,
     "metadata": {},
     "output_type": "execute_result"
    }
   ],
   "source": [
    "data = data[data['소분류'].isin(['밤', '호두', '대추', '떫은감', '건표고', '생표고', '더덕', '오미자'])]\n",
    "data"
   ]
  },
  {
   "cell_type": "markdown",
   "metadata": {},
   "source": [
    "### Check NaNs"
   ]
  },
  {
   "cell_type": "code",
   "execution_count": 15,
   "metadata": {},
   "outputs": [],
   "source": [
    "data.replace({'생산량': {' - ' : np.NaN}, '단가': {' - ' : np.NaN}},\n",
    "             inplace=True)"
   ]
  },
  {
   "cell_type": "code",
   "execution_count": 16,
   "metadata": {
    "scrolled": true
   },
   "outputs": [
    {
     "data": {
      "text/plain": [
       "시도/관리소       0\n",
       "재배채취      2068\n",
       "재배면적      5314\n",
       "재배단위      2967\n",
       "소분류          0\n",
       "단가          28\n",
       "생산량        689\n",
       "dtype: int64"
      ]
     },
     "execution_count": 16,
     "metadata": {},
     "output_type": "execute_result"
    }
   ],
   "source": [
    "data.isnull().sum()"
   ]
  },
  {
   "cell_type": "code",
   "execution_count": 17,
   "metadata": {},
   "outputs": [
    {
     "data": {
      "text/plain": [
       "시도/관리소     object\n",
       "재배채취       object\n",
       "재배면적       object\n",
       "재배단위       object\n",
       "소분류        object\n",
       "단가        float64\n",
       "생산량       float64\n",
       "dtype: object"
      ]
     },
     "execution_count": 17,
     "metadata": {},
     "output_type": "execute_result"
    }
   ],
   "source": [
    "data.dtypes"
   ]
  },
  {
   "cell_type": "code",
   "execution_count": 18,
   "metadata": {},
   "outputs": [
    {
     "data": {
      "text/html": [
       "<div>\n",
       "<style scoped>\n",
       "    .dataframe tbody tr th:only-of-type {\n",
       "        vertical-align: middle;\n",
       "    }\n",
       "\n",
       "    .dataframe tbody tr th {\n",
       "        vertical-align: top;\n",
       "    }\n",
       "\n",
       "    .dataframe thead th {\n",
       "        text-align: right;\n",
       "    }\n",
       "</style>\n",
       "<table border=\"1\" class=\"dataframe\">\n",
       "  <thead>\n",
       "    <tr style=\"text-align: right;\">\n",
       "      <th></th>\n",
       "      <th>시도/관리소</th>\n",
       "      <th>재배채취</th>\n",
       "      <th>재배면적</th>\n",
       "      <th>재배단위</th>\n",
       "      <th>소분류</th>\n",
       "      <th>단가</th>\n",
       "      <th>생산량</th>\n",
       "    </tr>\n",
       "  </thead>\n",
       "  <tbody>\n",
       "    <tr>\n",
       "      <th>1</th>\n",
       "      <td>부산광역시</td>\n",
       "      <td>재배</td>\n",
       "      <td>NaN</td>\n",
       "      <td>NaN</td>\n",
       "      <td>밤</td>\n",
       "      <td>1492.52</td>\n",
       "      <td>13691.0</td>\n",
       "    </tr>\n",
       "    <tr>\n",
       "      <th>2</th>\n",
       "      <td>대구광역시</td>\n",
       "      <td>재배</td>\n",
       "      <td>NaN</td>\n",
       "      <td>NaN</td>\n",
       "      <td>밤</td>\n",
       "      <td>3000.05</td>\n",
       "      <td>23601.0</td>\n",
       "    </tr>\n",
       "    <tr>\n",
       "      <th>3</th>\n",
       "      <td>대구광역시</td>\n",
       "      <td>재배</td>\n",
       "      <td>NaN</td>\n",
       "      <td>NaN</td>\n",
       "      <td>밤</td>\n",
       "      <td>6251.33</td>\n",
       "      <td>286.0</td>\n",
       "    </tr>\n",
       "    <tr>\n",
       "      <th>4</th>\n",
       "      <td>인천광역시</td>\n",
       "      <td>재배</td>\n",
       "      <td>NaN</td>\n",
       "      <td>NaN</td>\n",
       "      <td>밤</td>\n",
       "      <td>2999.98</td>\n",
       "      <td>4276.0</td>\n",
       "    </tr>\n",
       "    <tr>\n",
       "      <th>5</th>\n",
       "      <td>인천광역시</td>\n",
       "      <td>재배</td>\n",
       "      <td>NaN</td>\n",
       "      <td>NaN</td>\n",
       "      <td>밤</td>\n",
       "      <td>2166.66</td>\n",
       "      <td>65701.0</td>\n",
       "    </tr>\n",
       "    <tr>\n",
       "      <th>...</th>\n",
       "      <td>...</td>\n",
       "      <td>...</td>\n",
       "      <td>...</td>\n",
       "      <td>...</td>\n",
       "      <td>...</td>\n",
       "      <td>...</td>\n",
       "      <td>...</td>\n",
       "    </tr>\n",
       "    <tr>\n",
       "      <th>110440</th>\n",
       "      <td>충청북도</td>\n",
       "      <td>NaN</td>\n",
       "      <td>NaN</td>\n",
       "      <td>NaN</td>\n",
       "      <td>오미자</td>\n",
       "      <td>18587.00</td>\n",
       "      <td>71549.0</td>\n",
       "    </tr>\n",
       "    <tr>\n",
       "      <th>110448</th>\n",
       "      <td>울산광역시</td>\n",
       "      <td>NaN</td>\n",
       "      <td>NaN</td>\n",
       "      <td>NaN</td>\n",
       "      <td>더덕</td>\n",
       "      <td>16500.00</td>\n",
       "      <td>160.0</td>\n",
       "    </tr>\n",
       "    <tr>\n",
       "      <th>110452</th>\n",
       "      <td>경상북도</td>\n",
       "      <td>NaN</td>\n",
       "      <td>NaN</td>\n",
       "      <td>NaN</td>\n",
       "      <td>더덕</td>\n",
       "      <td>16500.00</td>\n",
       "      <td>17452.0</td>\n",
       "    </tr>\n",
       "    <tr>\n",
       "      <th>110458</th>\n",
       "      <td>대전광역시</td>\n",
       "      <td>NaN</td>\n",
       "      <td>NaN</td>\n",
       "      <td>NaN</td>\n",
       "      <td>더덕</td>\n",
       "      <td>16500.00</td>\n",
       "      <td>150.0</td>\n",
       "    </tr>\n",
       "    <tr>\n",
       "      <th>110459</th>\n",
       "      <td>울산광역시</td>\n",
       "      <td>NaN</td>\n",
       "      <td>NaN</td>\n",
       "      <td>NaN</td>\n",
       "      <td>더덕</td>\n",
       "      <td>16500.00</td>\n",
       "      <td>50.0</td>\n",
       "    </tr>\n",
       "  </tbody>\n",
       "</table>\n",
       "<p>24893 rows × 7 columns</p>\n",
       "</div>"
      ],
      "text/plain": [
       "       시도/관리소 재배채취 재배면적 재배단위  소분류        단가      생산량\n",
       "1       부산광역시   재배  NaN  NaN    밤   1492.52  13691.0\n",
       "2       대구광역시   재배  NaN  NaN    밤   3000.05  23601.0\n",
       "3       대구광역시   재배  NaN  NaN    밤   6251.33    286.0\n",
       "4       인천광역시   재배  NaN  NaN    밤   2999.98   4276.0\n",
       "5       인천광역시   재배  NaN  NaN    밤   2166.66  65701.0\n",
       "...       ...  ...  ...  ...  ...       ...      ...\n",
       "110440   충청북도  NaN  NaN  NaN  오미자  18587.00  71549.0\n",
       "110448  울산광역시  NaN  NaN  NaN   더덕  16500.00    160.0\n",
       "110452   경상북도  NaN  NaN  NaN   더덕  16500.00  17452.0\n",
       "110458  대전광역시  NaN  NaN  NaN   더덕  16500.00    150.0\n",
       "110459  울산광역시  NaN  NaN  NaN   더덕  16500.00     50.0\n",
       "\n",
       "[24893 rows x 7 columns]"
      ]
     },
     "execution_count": 18,
     "metadata": {},
     "output_type": "execute_result"
    }
   ],
   "source": [
    "data"
   ]
  },
  {
   "cell_type": "code",
   "execution_count": 19,
   "metadata": {},
   "outputs": [
    {
     "data": {
      "text/html": [
       "<div>\n",
       "<style scoped>\n",
       "    .dataframe tbody tr th:only-of-type {\n",
       "        vertical-align: middle;\n",
       "    }\n",
       "\n",
       "    .dataframe tbody tr th {\n",
       "        vertical-align: top;\n",
       "    }\n",
       "\n",
       "    .dataframe thead th {\n",
       "        text-align: right;\n",
       "    }\n",
       "</style>\n",
       "<table border=\"1\" class=\"dataframe\">\n",
       "  <thead>\n",
       "    <tr style=\"text-align: right;\">\n",
       "      <th></th>\n",
       "      <th>시도/관리소</th>\n",
       "      <th>재배채취</th>\n",
       "      <th>재배면적</th>\n",
       "      <th>재배단위</th>\n",
       "      <th>소분류</th>\n",
       "      <th>단가</th>\n",
       "      <th>생산량</th>\n",
       "    </tr>\n",
       "  </thead>\n",
       "  <tbody>\n",
       "    <tr>\n",
       "      <th>45514</th>\n",
       "      <td>경상북도</td>\n",
       "      <td>재배</td>\n",
       "      <td>20000</td>\n",
       "      <td>㎡</td>\n",
       "      <td>더덕</td>\n",
       "      <td>14874.0</td>\n",
       "      <td>1.0</td>\n",
       "    </tr>\n",
       "    <tr>\n",
       "      <th>45515</th>\n",
       "      <td>경상남도</td>\n",
       "      <td>재배</td>\n",
       "      <td>2</td>\n",
       "      <td>평</td>\n",
       "      <td>더덕</td>\n",
       "      <td>14874.0</td>\n",
       "      <td>1.0</td>\n",
       "    </tr>\n",
       "    <tr>\n",
       "      <th>45516</th>\n",
       "      <td>경상북도</td>\n",
       "      <td>재배</td>\n",
       "      <td>20000</td>\n",
       "      <td>㎡</td>\n",
       "      <td>더덕</td>\n",
       "      <td>14874.0</td>\n",
       "      <td>1.0</td>\n",
       "    </tr>\n",
       "    <tr>\n",
       "      <th>45518</th>\n",
       "      <td>전라북도</td>\n",
       "      <td>재배</td>\n",
       "      <td>30</td>\n",
       "      <td>평</td>\n",
       "      <td>더덕</td>\n",
       "      <td>14874.0</td>\n",
       "      <td>1.0</td>\n",
       "    </tr>\n",
       "    <tr>\n",
       "      <th>45519</th>\n",
       "      <td>경상남도</td>\n",
       "      <td>재배</td>\n",
       "      <td>2</td>\n",
       "      <td>평</td>\n",
       "      <td>더덕</td>\n",
       "      <td>14874.0</td>\n",
       "      <td>1.0</td>\n",
       "    </tr>\n",
       "    <tr>\n",
       "      <th>...</th>\n",
       "      <td>...</td>\n",
       "      <td>...</td>\n",
       "      <td>...</td>\n",
       "      <td>...</td>\n",
       "      <td>...</td>\n",
       "      <td>...</td>\n",
       "      <td>...</td>\n",
       "    </tr>\n",
       "    <tr>\n",
       "      <th>107252</th>\n",
       "      <td>정읍관리소</td>\n",
       "      <td>재배</td>\n",
       "      <td>50</td>\n",
       "      <td>ha</td>\n",
       "      <td>떫은감</td>\n",
       "      <td>11750.0</td>\n",
       "      <td>0.0</td>\n",
       "    </tr>\n",
       "    <tr>\n",
       "      <th>107253</th>\n",
       "      <td>정읍관리소</td>\n",
       "      <td>재배</td>\n",
       "      <td>15</td>\n",
       "      <td>ha</td>\n",
       "      <td>떫은감</td>\n",
       "      <td>11750.0</td>\n",
       "      <td>0.0</td>\n",
       "    </tr>\n",
       "    <tr>\n",
       "      <th>107254</th>\n",
       "      <td>정읍관리소</td>\n",
       "      <td>재배</td>\n",
       "      <td>80</td>\n",
       "      <td>ha</td>\n",
       "      <td>떫은감</td>\n",
       "      <td>11750.0</td>\n",
       "      <td>0.0</td>\n",
       "    </tr>\n",
       "    <tr>\n",
       "      <th>107256</th>\n",
       "      <td>정읍관리소</td>\n",
       "      <td>재배</td>\n",
       "      <td>78</td>\n",
       "      <td>ha</td>\n",
       "      <td>떫은감</td>\n",
       "      <td>11750.0</td>\n",
       "      <td>0.0</td>\n",
       "    </tr>\n",
       "    <tr>\n",
       "      <th>107269</th>\n",
       "      <td>무주관리소</td>\n",
       "      <td>채취</td>\n",
       "      <td>3</td>\n",
       "      <td>ha</td>\n",
       "      <td>밤</td>\n",
       "      <td>1517.0</td>\n",
       "      <td>0.0</td>\n",
       "    </tr>\n",
       "  </tbody>\n",
       "</table>\n",
       "<p>19035 rows × 7 columns</p>\n",
       "</div>"
      ],
      "text/plain": [
       "       시도/관리소 재배채취   재배면적 재배단위  소분류       단가  생산량\n",
       "45514    경상북도   재배  20000    ㎡   더덕  14874.0  1.0\n",
       "45515    경상남도   재배      2    평   더덕  14874.0  1.0\n",
       "45516    경상북도   재배  20000    ㎡   더덕  14874.0  1.0\n",
       "45518    전라북도   재배     30    평   더덕  14874.0  1.0\n",
       "45519    경상남도   재배      2    평   더덕  14874.0  1.0\n",
       "...       ...  ...    ...  ...  ...      ...  ...\n",
       "107252  정읍관리소   재배     50   ha  떫은감  11750.0  0.0\n",
       "107253  정읍관리소   재배     15   ha  떫은감  11750.0  0.0\n",
       "107254  정읍관리소   재배     80   ha  떫은감  11750.0  0.0\n",
       "107256  정읍관리소   재배     78   ha  떫은감  11750.0  0.0\n",
       "107269  무주관리소   채취      3   ha    밤   1517.0  0.0\n",
       "\n",
       "[19035 rows x 7 columns]"
      ]
     },
     "execution_count": 19,
     "metadata": {},
     "output_type": "execute_result"
    }
   ],
   "source": [
    "data.astype({'재배면적': 'float64',\n",
    "             '단가' : 'float64',\n",
    "             '생산량' : 'float64'})\n",
    "\n",
    "data.dropna(axis=0, inplace=True)\n",
    "data"
   ]
  },
  {
   "cell_type": "code",
   "execution_count": 20,
   "metadata": {},
   "outputs": [
    {
     "data": {
      "text/plain": [
       "오미자    12818\n",
       "더덕      5406\n",
       "생표고      156\n",
       "대추       141\n",
       "떫은감      139\n",
       "밤        138\n",
       "건표고      135\n",
       "호두       102\n",
       "Name: 소분류, dtype: int64"
      ]
     },
     "execution_count": 20,
     "metadata": {},
     "output_type": "execute_result"
    }
   ],
   "source": [
    "data['소분류'].value_counts()"
   ]
  },
  {
   "cell_type": "code",
   "execution_count": 21,
   "metadata": {},
   "outputs": [
    {
     "data": {
      "text/plain": [
       "평     16217\n",
       "㎡      2295\n",
       "봉       289\n",
       "ha      234\n",
       "Name: 재배단위, dtype: int64"
      ]
     },
     "execution_count": 21,
     "metadata": {},
     "output_type": "execute_result"
    }
   ],
   "source": [
    "data['재배단위'].value_counts()"
   ]
  },
  {
   "cell_type": "markdown",
   "metadata": {},
   "source": [
    "# variable preprocessing and Visualization"
   ]
  },
  {
   "cell_type": "markdown",
   "metadata": {},
   "source": [
    "### 시도/관리소"
   ]
  },
  {
   "cell_type": "code",
   "execution_count": 22,
   "metadata": {},
   "outputs": [
    {
     "data": {
      "text/plain": [
       "경상북도     3401\n",
       "전라북도     1825\n",
       "강원도      1701\n",
       "경상남도     1461\n",
       "문경시      1154\n",
       "         ... \n",
       "강서구         1\n",
       "무주관리소       1\n",
       "대덕구         1\n",
       "구리시         1\n",
       "수성구         1\n",
       "Name: 시도/관리소, Length: 187, dtype: int64"
      ]
     },
     "execution_count": 22,
     "metadata": {},
     "output_type": "execute_result"
    }
   ],
   "source": [
    "data['시도/관리소'].value_counts()"
   ]
  },
  {
   "cell_type": "code",
   "execution_count": 23,
   "metadata": {},
   "outputs": [
    {
     "data": {
      "image/png": "[encoded data removed]",
      "text/plain": [
       "<Figure size 2160x1080 with 1 Axes>"
      ]
     },
     "metadata": {
      "needs_background": "light"
     },
     "output_type": "display_data"
    }
   ],
   "source": [
    "import matplotlib.pyplot as plt\n",
    "import seaborn as sns\n",
    "plt.rcParams['font.family'] = 'AppleGothic' # mac os : AppleGothic, windows : NanumGothic\n",
    "plt.rcParams[\"axes.labelsize\"] = 15\n",
    "\n",
    "ax = plt.figure(figsize=(30,15))\n",
    "sns.countplot(x=\"시도/관리소\", data=data)\n",
    "plt.title('전국 분포', fontsize=30)\n",
    "plt.show()"
   ]
  },
  {
   "cell_type": "markdown",
   "metadata": {},
   "source": [
    "### 재배채취"
   ]
  },
  {
   "cell_type": "code",
   "execution_count": 24,
   "metadata": {},
   "outputs": [
    {
     "data": {
      "image/png": "[encoded data removed]",
      "text/plain": [
       "<Figure size 720x576 with 1 Axes>"
      ]
     },
     "metadata": {
      "needs_background": "light"
     },
     "output_type": "display_data"
    }
   ],
   "source": [
    "ax = plt.figure(figsize=(10,8))\n",
    "sns.countplot(x=\"재배채취\", data=data)\n",
    "plt.show()"
   ]
  },
  {
   "cell_type": "markdown",
   "metadata": {},
   "source": [
    "### 재배단위"
   ]
  },
  {
   "cell_type": "code",
   "execution_count": 25,
   "metadata": {},
   "outputs": [
    {
     "data": {
      "image/png": "[encoded data removed]",
      "text/plain": [
       "<Figure size 720x576 with 1 Axes>"
      ]
     },
     "metadata": {
      "needs_background": "light"
     },
     "output_type": "display_data"
    }
   ],
   "source": [
    "ax = plt.figure(figsize=(10,8))\n",
    "sns.countplot(x=\"재배단위\", data=data)\n",
    "plt.show()"
   ]
  },
  {
   "cell_type": "markdown",
   "metadata": {},
   "source": [
    "### 재배면적"
   ]
  },
  {
   "cell_type": "code",
   "execution_count": 26,
   "metadata": {},
   "outputs": [],
   "source": [
    "#data.replace({'재배면적': {0 : np.NaN}},\n",
    "#             inplace=True)\n",
    "#data.dropna(axis=0, inplace=True)"
   ]
  },
  {
   "cell_type": "code",
   "execution_count": 27,
   "metadata": {},
   "outputs": [
    {
     "data": {
      "image/png": "[encoded data removed]",
      "text/plain": [
       "<Figure size 432x288 with 1 Axes>"
      ]
     },
     "metadata": {
      "needs_background": "light"
     },
     "output_type": "display_data"
    },
    {
     "data": {
      "image/png": "[encoded data removed]",
      "text/plain": [
       "<Figure size 432x288 with 1 Axes>"
      ]
     },
     "metadata": {
      "needs_background": "light"
     },
     "output_type": "display_data"
    }
   ],
   "source": [
    "data['재배면적'].hist(bins=30)\n",
    "plt.title('재배면적 히스토그램')\n",
    "plt.show()\n",
    "\n",
    "pd.Series(np.log1p(data['재배면적'].astype(float))).hist(bins=30)\n",
    "plt.title('log(재배면적 + 1) 히스토그램')\n",
    "plt.show()"
   ]
  },
  {
   "cell_type": "code",
   "execution_count": 28,
   "metadata": {},
   "outputs": [
    {
     "data": {
      "text/html": [
       "<div>\n",
       "<style scoped>\n",
       "    .dataframe tbody tr th:only-of-type {\n",
       "        vertical-align: middle;\n",
       "    }\n",
       "\n",
       "    .dataframe tbody tr th {\n",
       "        vertical-align: top;\n",
       "    }\n",
       "\n",
       "    .dataframe thead th {\n",
       "        text-align: right;\n",
       "    }\n",
       "</style>\n",
       "<table border=\"1\" class=\"dataframe\">\n",
       "  <thead>\n",
       "    <tr style=\"text-align: right;\">\n",
       "      <th></th>\n",
       "      <th>시도/관리소</th>\n",
       "      <th>재배채취</th>\n",
       "      <th>재배면적</th>\n",
       "      <th>재배단위</th>\n",
       "      <th>소분류</th>\n",
       "      <th>단가</th>\n",
       "      <th>생산량</th>\n",
       "    </tr>\n",
       "  </thead>\n",
       "  <tbody>\n",
       "    <tr>\n",
       "      <th>45514</th>\n",
       "      <td>경상북도</td>\n",
       "      <td>재배</td>\n",
       "      <td>9.903538</td>\n",
       "      <td>㎡</td>\n",
       "      <td>더덕</td>\n",
       "      <td>14874.0</td>\n",
       "      <td>1.0</td>\n",
       "    </tr>\n",
       "    <tr>\n",
       "      <th>45515</th>\n",
       "      <td>경상남도</td>\n",
       "      <td>재배</td>\n",
       "      <td>1.098612</td>\n",
       "      <td>평</td>\n",
       "      <td>더덕</td>\n",
       "      <td>14874.0</td>\n",
       "      <td>1.0</td>\n",
       "    </tr>\n",
       "    <tr>\n",
       "      <th>45516</th>\n",
       "      <td>경상북도</td>\n",
       "      <td>재배</td>\n",
       "      <td>9.903538</td>\n",
       "      <td>㎡</td>\n",
       "      <td>더덕</td>\n",
       "      <td>14874.0</td>\n",
       "      <td>1.0</td>\n",
       "    </tr>\n",
       "    <tr>\n",
       "      <th>45518</th>\n",
       "      <td>전라북도</td>\n",
       "      <td>재배</td>\n",
       "      <td>3.433987</td>\n",
       "      <td>평</td>\n",
       "      <td>더덕</td>\n",
       "      <td>14874.0</td>\n",
       "      <td>1.0</td>\n",
       "    </tr>\n",
       "    <tr>\n",
       "      <th>45519</th>\n",
       "      <td>경상남도</td>\n",
       "      <td>재배</td>\n",
       "      <td>1.098612</td>\n",
       "      <td>평</td>\n",
       "      <td>더덕</td>\n",
       "      <td>14874.0</td>\n",
       "      <td>1.0</td>\n",
       "    </tr>\n",
       "  </tbody>\n",
       "</table>\n",
       "</div>"
      ],
      "text/plain": [
       "      시도/관리소 재배채취      재배면적 재배단위 소분류       단가  생산량\n",
       "45514   경상북도   재배  9.903538    ㎡  더덕  14874.0  1.0\n",
       "45515   경상남도   재배  1.098612    평  더덕  14874.0  1.0\n",
       "45516   경상북도   재배  9.903538    ㎡  더덕  14874.0  1.0\n",
       "45518   전라북도   재배  3.433987    평  더덕  14874.0  1.0\n",
       "45519   경상남도   재배  1.098612    평  더덕  14874.0  1.0"
      ]
     },
     "execution_count": 28,
     "metadata": {},
     "output_type": "execute_result"
    }
   ],
   "source": [
    "data['재배면적'] = np.log1p(data['재배면적'].astype(float))\n",
    "data.head()"
   ]
  },
  {
   "cell_type": "markdown",
   "metadata": {},
   "source": [
    "### 품목 소분류"
   ]
  },
  {
   "cell_type": "code",
   "execution_count": 29,
   "metadata": {},
   "outputs": [
    {
     "data": {
      "image/png": "[encoded data removed]",
      "text/plain": [
       "<Figure size 1080x576 with 1 Axes>"
      ]
     },
     "metadata": {
      "needs_background": "light"
     },
     "output_type": "display_data"
    }
   ],
   "source": [
    "plt.rcParams[\"axes.labelsize\"] = 15\n",
    "\n",
    "ax = plt.figure(figsize=(15,8))\n",
    "sns.countplot(x=\"소분류\", data=data)\n",
    "plt.show()"
   ]
  },
  {
   "cell_type": "markdown",
   "metadata": {},
   "source": [
    "### 단가"
   ]
  },
  {
   "cell_type": "code",
   "execution_count": 30,
   "metadata": {},
   "outputs": [],
   "source": [
    "#data.replace({'단가': {0 : np.NaN}},\n",
    "#             inplace=True)\n",
    "#data.dropna(axis=0, inplace=True)"
   ]
  },
  {
   "cell_type": "code",
   "execution_count": 31,
   "metadata": {},
   "outputs": [
    {
     "data": {
      "image/png": "[encoded data removed]",
      "text/plain": [
       "<Figure size 432x288 with 1 Axes>"
      ]
     },
     "metadata": {
      "needs_background": "light"
     },
     "output_type": "display_data"
    },
    {
     "data": {
      "image/png": "[encoded data removed]",
      "text/plain": [
       "<Figure size 432x288 with 1 Axes>"
      ]
     },
     "metadata": {
      "needs_background": "light"
     },
     "output_type": "display_data"
    }
   ],
   "source": [
    "data['단가'].hist(bins=30)\n",
    "plt.title('단가 히스토그램')\n",
    "plt.show()\n",
    "\n",
    "pd.Series(np.log1p(data['단가'].astype(float))).hist(bins=30)\n",
    "plt.title('log(단가 + 1) 히스토그램')\n",
    "plt.show()"
   ]
  },
  {
   "cell_type": "code",
   "execution_count": 32,
   "metadata": {},
   "outputs": [
    {
     "data": {
      "text/html": [
       "<div>\n",
       "<style scoped>\n",
       "    .dataframe tbody tr th:only-of-type {\n",
       "        vertical-align: middle;\n",
       "    }\n",
       "\n",
       "    .dataframe tbody tr th {\n",
       "        vertical-align: top;\n",
       "    }\n",
       "\n",
       "    .dataframe thead th {\n",
       "        text-align: right;\n",
       "    }\n",
       "</style>\n",
       "<table border=\"1\" class=\"dataframe\">\n",
       "  <thead>\n",
       "    <tr style=\"text-align: right;\">\n",
       "      <th></th>\n",
       "      <th>시도/관리소</th>\n",
       "      <th>재배채취</th>\n",
       "      <th>재배면적</th>\n",
       "      <th>재배단위</th>\n",
       "      <th>소분류</th>\n",
       "      <th>단가</th>\n",
       "      <th>생산량</th>\n",
       "    </tr>\n",
       "  </thead>\n",
       "  <tbody>\n",
       "    <tr>\n",
       "      <th>45514</th>\n",
       "      <td>경상북도</td>\n",
       "      <td>재배</td>\n",
       "      <td>9.903538</td>\n",
       "      <td>㎡</td>\n",
       "      <td>더덕</td>\n",
       "      <td>9.607437</td>\n",
       "      <td>1.0</td>\n",
       "    </tr>\n",
       "    <tr>\n",
       "      <th>45515</th>\n",
       "      <td>경상남도</td>\n",
       "      <td>재배</td>\n",
       "      <td>1.098612</td>\n",
       "      <td>평</td>\n",
       "      <td>더덕</td>\n",
       "      <td>9.607437</td>\n",
       "      <td>1.0</td>\n",
       "    </tr>\n",
       "    <tr>\n",
       "      <th>45516</th>\n",
       "      <td>경상북도</td>\n",
       "      <td>재배</td>\n",
       "      <td>9.903538</td>\n",
       "      <td>㎡</td>\n",
       "      <td>더덕</td>\n",
       "      <td>9.607437</td>\n",
       "      <td>1.0</td>\n",
       "    </tr>\n",
       "    <tr>\n",
       "      <th>45518</th>\n",
       "      <td>전라북도</td>\n",
       "      <td>재배</td>\n",
       "      <td>3.433987</td>\n",
       "      <td>평</td>\n",
       "      <td>더덕</td>\n",
       "      <td>9.607437</td>\n",
       "      <td>1.0</td>\n",
       "    </tr>\n",
       "    <tr>\n",
       "      <th>45519</th>\n",
       "      <td>경상남도</td>\n",
       "      <td>재배</td>\n",
       "      <td>1.098612</td>\n",
       "      <td>평</td>\n",
       "      <td>더덕</td>\n",
       "      <td>9.607437</td>\n",
       "      <td>1.0</td>\n",
       "    </tr>\n",
       "  </tbody>\n",
       "</table>\n",
       "</div>"
      ],
      "text/plain": [
       "      시도/관리소 재배채취      재배면적 재배단위 소분류        단가  생산량\n",
       "45514   경상북도   재배  9.903538    ㎡  더덕  9.607437  1.0\n",
       "45515   경상남도   재배  1.098612    평  더덕  9.607437  1.0\n",
       "45516   경상북도   재배  9.903538    ㎡  더덕  9.607437  1.0\n",
       "45518   전라북도   재배  3.433987    평  더덕  9.607437  1.0\n",
       "45519   경상남도   재배  1.098612    평  더덕  9.607437  1.0"
      ]
     },
     "execution_count": 32,
     "metadata": {},
     "output_type": "execute_result"
    }
   ],
   "source": [
    "data['단가'] = np.log1p(data['단가'].astype(float))\n",
    "data.head()"
   ]
  },
  {
   "cell_type": "markdown",
   "metadata": {},
   "source": [
    "### 생산량"
   ]
  },
  {
   "cell_type": "code",
   "execution_count": 33,
   "metadata": {},
   "outputs": [],
   "source": [
    "#data.replace({'생산량': {0 : np.NaN}},\n",
    "#             inplace=True)\n",
    "#data.dropna(axis=0, inplace=True)"
   ]
  },
  {
   "cell_type": "code",
   "execution_count": 34,
   "metadata": {},
   "outputs": [
    {
     "data": {
      "image/png": "[encoded data removed]",
      "text/plain": [
       "<Figure size 432x288 with 1 Axes>"
      ]
     },
     "metadata": {
      "needs_background": "light"
     },
     "output_type": "display_data"
    },
    {
     "data": {
      "image/png": "[encoded data removed]",
      "text/plain": [
       "<Figure size 432x288 with 1 Axes>"
      ]
     },
     "metadata": {
      "needs_background": "light"
     },
     "output_type": "display_data"
    }
   ],
   "source": [
    "data['생산량'].hist(bins=30)\n",
    "plt.title('생산량 히스토그램')\n",
    "plt.show()\n",
    "\n",
    "pd.Series(np.log1p(data['생산량'].astype(float))).hist(bins=30)\n",
    "plt.title('log(생산량 + 1) 히스토그램')\n",
    "plt.show()"
   ]
  },
  {
   "cell_type": "code",
   "execution_count": 35,
   "metadata": {},
   "outputs": [
    {
     "data": {
      "text/html": [
       "<div>\n",
       "<style scoped>\n",
       "    .dataframe tbody tr th:only-of-type {\n",
       "        vertical-align: middle;\n",
       "    }\n",
       "\n",
       "    .dataframe tbody tr th {\n",
       "        vertical-align: top;\n",
       "    }\n",
       "\n",
       "    .dataframe thead th {\n",
       "        text-align: right;\n",
       "    }\n",
       "</style>\n",
       "<table border=\"1\" class=\"dataframe\">\n",
       "  <thead>\n",
       "    <tr style=\"text-align: right;\">\n",
       "      <th></th>\n",
       "      <th>시도/관리소</th>\n",
       "      <th>재배채취</th>\n",
       "      <th>재배면적</th>\n",
       "      <th>재배단위</th>\n",
       "      <th>소분류</th>\n",
       "      <th>단가</th>\n",
       "      <th>생산량</th>\n",
       "    </tr>\n",
       "  </thead>\n",
       "  <tbody>\n",
       "    <tr>\n",
       "      <th>45514</th>\n",
       "      <td>경상북도</td>\n",
       "      <td>재배</td>\n",
       "      <td>9.903538</td>\n",
       "      <td>㎡</td>\n",
       "      <td>더덕</td>\n",
       "      <td>9.607437</td>\n",
       "      <td>0.693147</td>\n",
       "    </tr>\n",
       "    <tr>\n",
       "      <th>45515</th>\n",
       "      <td>경상남도</td>\n",
       "      <td>재배</td>\n",
       "      <td>1.098612</td>\n",
       "      <td>평</td>\n",
       "      <td>더덕</td>\n",
       "      <td>9.607437</td>\n",
       "      <td>0.693147</td>\n",
       "    </tr>\n",
       "    <tr>\n",
       "      <th>45516</th>\n",
       "      <td>경상북도</td>\n",
       "      <td>재배</td>\n",
       "      <td>9.903538</td>\n",
       "      <td>㎡</td>\n",
       "      <td>더덕</td>\n",
       "      <td>9.607437</td>\n",
       "      <td>0.693147</td>\n",
       "    </tr>\n",
       "    <tr>\n",
       "      <th>45518</th>\n",
       "      <td>전라북도</td>\n",
       "      <td>재배</td>\n",
       "      <td>3.433987</td>\n",
       "      <td>평</td>\n",
       "      <td>더덕</td>\n",
       "      <td>9.607437</td>\n",
       "      <td>0.693147</td>\n",
       "    </tr>\n",
       "    <tr>\n",
       "      <th>45519</th>\n",
       "      <td>경상남도</td>\n",
       "      <td>재배</td>\n",
       "      <td>1.098612</td>\n",
       "      <td>평</td>\n",
       "      <td>더덕</td>\n",
       "      <td>9.607437</td>\n",
       "      <td>0.693147</td>\n",
       "    </tr>\n",
       "  </tbody>\n",
       "</table>\n",
       "</div>"
      ],
      "text/plain": [
       "      시도/관리소 재배채취      재배면적 재배단위 소분류        단가       생산량\n",
       "45514   경상북도   재배  9.903538    ㎡  더덕  9.607437  0.693147\n",
       "45515   경상남도   재배  1.098612    평  더덕  9.607437  0.693147\n",
       "45516   경상북도   재배  9.903538    ㎡  더덕  9.607437  0.693147\n",
       "45518   전라북도   재배  3.433987    평  더덕  9.607437  0.693147\n",
       "45519   경상남도   재배  1.098612    평  더덕  9.607437  0.693147"
      ]
     },
     "execution_count": 35,
     "metadata": {},
     "output_type": "execute_result"
    }
   ],
   "source": [
    "data['생산량'] = np.log1p(data['생산량'].astype(float))\n",
    "data.head()"
   ]
  },
  {
   "cell_type": "code",
   "execution_count": 36,
   "metadata": {},
   "outputs": [
    {
     "data": {
      "image/png": "[encoded data removed]",
      "text/plain": [
       "<Figure size 432x288 with 1 Axes>"
      ]
     },
     "metadata": {
      "needs_background": "light"
     },
     "output_type": "display_data"
    }
   ],
   "source": [
    "sns.scatterplot(x='재배면적', y='생산량', data=data, hue='재배단위')\n",
    "plt.show()"
   ]
  },
  {
   "cell_type": "markdown",
   "metadata": {},
   "source": [
    "## Numerical Variable processing"
   ]
  },
  {
   "cell_type": "code",
   "execution_count": 37,
   "metadata": {
    "scrolled": true
   },
   "outputs": [
    {
     "data": {
      "text/plain": [
       "array([[0.54929885, 0.78710275],\n",
       "       [0.06093444, 0.78710275],\n",
       "       [0.54929885, 0.78710275],\n",
       "       ...,\n",
       "       [0.24373774, 0.76778912],\n",
       "       [0.24235105, 0.76778912],\n",
       "       [0.0768907 , 0.60012308]])"
      ]
     },
     "execution_count": 37,
     "metadata": {},
     "output_type": "execute_result"
    }
   ],
   "source": [
    "from sklearn.preprocessing import MinMaxScaler\n",
    "\n",
    "X_minmax_scaler = MinMaxScaler()\n",
    "X_minmax_scaler.fit(data.loc[:, ['재배면적', '단가']])\n",
    "X_scaled = X_minmax_scaler.transform(data.loc[:, ['재배면적', '단가']])\n",
    "X_scaled"
   ]
  },
  {
   "cell_type": "code",
   "execution_count": 38,
   "metadata": {},
   "outputs": [],
   "source": [
    "#y_minmax_scaler = MinMaxScaler()\n",
    "#y_minmax_scaler.fit(data.loc[:, ['생산량']])\n",
    "#y_scaled = y_minmax_scaler.transform(data.loc[:, ['생산량']])\n",
    "#y_scaled"
   ]
  },
  {
   "cell_type": "markdown",
   "metadata": {},
   "source": [
    "## Categorival variable processing"
   ]
  },
  {
   "cell_type": "code",
   "execution_count": 39,
   "metadata": {},
   "outputs": [
    {
     "name": "stdout",
     "output_type": "stream",
     "text": [
      "[array(['가평군', '강릉시', '강서구', '강원도', '강진군', '강화군', '거제시', '거창군', '경기도',\n",
      "       '경산시', '경상남도', '경상북도', '경주시', '계룡시', '고령군', '고성군', '고양시', '고창군',\n",
      "       '고흥군', '곡성군', '공주시', '과천시', '광산구', '광양시', '광주광역시', '광주시', '괴산군',\n",
      "       '구례군', '구리시', '구미시', '국립산림품종관리센터', '군산시', '군위군', '군포시', '금산군',\n",
      "       '기장군', '김제시', '김천시', '김포시', '김해시', '나주시', '남구', '남양주시', '남원시',\n",
      "       '남해군', '논산시', '단양군', '달성군', '담양군', '당진시', '대구광역시', '대덕구', '대전광역시',\n",
      "       '동구', '동두천시', '동해시', '목포시', '무안군', '무주관리소', '무주군', '문경시', '밀양시',\n",
      "       '보령시', '보성군', '보은군', '봉화군', '부산광역시', '부안군', '부여군', '부천시', '북구',\n",
      "       '사천시', '산청군', '삼척시', '상주시', '서구', '서귀포시', '서산시', '서천군', '성주군',\n",
      "       '세종시', '세종특별자치시', '속초시', '수성구', '수원시', '순창군', '순천시', '시흥시', '신안군',\n",
      "       '아산시', '안동시', '안산시', '안성시', '양구군', '양산시', '양양군', '양주시', '양평군',\n",
      "       '여수시', '여주시', '연천군', '영광군', '영덕군', '영동군', '영암군', '영양군', '영월군',\n",
      "       '영주관리소', '영주시', '영천시', '예산군', '예천군', '오산시', '옥천군', '옹진군', '완도군',\n",
      "       '완주군', '용인시', '울릉군', '울산광역시', '울주군', '울진관리소', '울진군', '원주시', '유성구',\n",
      "       '음성군', '의령군', '의성군', '의정부시', '이천시', '익산시', '인제관리소', '인제군', '인천광역시',\n",
      "       '임실군', '장성군', '장수군', '장흥군', '전라남도', '전라북도', '전주시', '정선군', '정읍관리소',\n",
      "       '정읍시', '제주시', '제주특별자치도', '제천시', '중구', '증평군', '진도군', '진안군', '진주시',\n",
      "       '진천군', '창녕군', '창원시', '천안시', '철원군', '청도군', '청송군', '청양군', '청주시',\n",
      "       '춘천시', '충주시', '충청남도', '충청북도', '칠곡군', '태백시', '태안군', '통영시', '파주시',\n",
      "       '평창군', '평택시', '포천시', '포항시', '하남시', '하동군', '함안군', '함양군', '함평군',\n",
      "       '합천군', '해남군', '홍성군', '홍천군', '화성시', '화순군', '화천군', '횡성군'],\n",
      "      dtype=object), array(['재배', '채취'], dtype=object), array(['ha', '㎡', '봉', '평'], dtype=object), array(['건표고', '대추', '더덕', '떫은감', '밤', '생표고', '오미자', '호두'], dtype=object)]\n",
      "(19035, 201)\n"
     ]
    }
   ],
   "source": [
    "from sklearn.preprocessing import OneHotEncoder\n",
    "\n",
    "onehot_encoder = OneHotEncoder(handle_unknown='ignore')\n",
    "onehot_encoder.fit(data.loc[:, ['시도/관리소', '재배채취', '재배단위', '소분류']])\n",
    "onehot = onehot_encoder.fit_transform(data.loc[:, ['시도/관리소', '재배채취', '재배단위', '소분류']])\n",
    "print(onehot_encoder.categories_)\n",
    "print(onehot.toarray().shape)"
   ]
  },
  {
   "cell_type": "code",
   "execution_count": 40,
   "metadata": {},
   "outputs": [
    {
     "data": {
      "text/html": [
       "<div>\n",
       "<style scoped>\n",
       "    .dataframe tbody tr th:only-of-type {\n",
       "        vertical-align: middle;\n",
       "    }\n",
       "\n",
       "    .dataframe tbody tr th {\n",
       "        vertical-align: top;\n",
       "    }\n",
       "\n",
       "    .dataframe thead th {\n",
       "        text-align: right;\n",
       "    }\n",
       "</style>\n",
       "<table border=\"1\" class=\"dataframe\">\n",
       "  <thead>\n",
       "    <tr style=\"text-align: right;\">\n",
       "      <th></th>\n",
       "      <th>재배면적</th>\n",
       "      <th>단가</th>\n",
       "      <th>0</th>\n",
       "      <th>1</th>\n",
       "      <th>2</th>\n",
       "      <th>3</th>\n",
       "      <th>4</th>\n",
       "      <th>5</th>\n",
       "      <th>6</th>\n",
       "      <th>7</th>\n",
       "      <th>...</th>\n",
       "      <th>191</th>\n",
       "      <th>192</th>\n",
       "      <th>193</th>\n",
       "      <th>194</th>\n",
       "      <th>195</th>\n",
       "      <th>196</th>\n",
       "      <th>197</th>\n",
       "      <th>198</th>\n",
       "      <th>199</th>\n",
       "      <th>200</th>\n",
       "    </tr>\n",
       "  </thead>\n",
       "  <tbody>\n",
       "    <tr>\n",
       "      <th>0</th>\n",
       "      <td>0.549299</td>\n",
       "      <td>0.787103</td>\n",
       "      <td>0.0</td>\n",
       "      <td>0.0</td>\n",
       "      <td>0.0</td>\n",
       "      <td>0.0</td>\n",
       "      <td>0.0</td>\n",
       "      <td>0.0</td>\n",
       "      <td>0.0</td>\n",
       "      <td>0.0</td>\n",
       "      <td>...</td>\n",
       "      <td>0.0</td>\n",
       "      <td>0.0</td>\n",
       "      <td>0.0</td>\n",
       "      <td>0.0</td>\n",
       "      <td>1.0</td>\n",
       "      <td>0.0</td>\n",
       "      <td>0.0</td>\n",
       "      <td>0.0</td>\n",
       "      <td>0.0</td>\n",
       "      <td>0.0</td>\n",
       "    </tr>\n",
       "    <tr>\n",
       "      <th>1</th>\n",
       "      <td>0.060934</td>\n",
       "      <td>0.787103</td>\n",
       "      <td>0.0</td>\n",
       "      <td>0.0</td>\n",
       "      <td>0.0</td>\n",
       "      <td>0.0</td>\n",
       "      <td>0.0</td>\n",
       "      <td>0.0</td>\n",
       "      <td>0.0</td>\n",
       "      <td>0.0</td>\n",
       "      <td>...</td>\n",
       "      <td>0.0</td>\n",
       "      <td>1.0</td>\n",
       "      <td>0.0</td>\n",
       "      <td>0.0</td>\n",
       "      <td>1.0</td>\n",
       "      <td>0.0</td>\n",
       "      <td>0.0</td>\n",
       "      <td>0.0</td>\n",
       "      <td>0.0</td>\n",
       "      <td>0.0</td>\n",
       "    </tr>\n",
       "    <tr>\n",
       "      <th>2</th>\n",
       "      <td>0.549299</td>\n",
       "      <td>0.787103</td>\n",
       "      <td>0.0</td>\n",
       "      <td>0.0</td>\n",
       "      <td>0.0</td>\n",
       "      <td>0.0</td>\n",
       "      <td>0.0</td>\n",
       "      <td>0.0</td>\n",
       "      <td>0.0</td>\n",
       "      <td>0.0</td>\n",
       "      <td>...</td>\n",
       "      <td>0.0</td>\n",
       "      <td>0.0</td>\n",
       "      <td>0.0</td>\n",
       "      <td>0.0</td>\n",
       "      <td>1.0</td>\n",
       "      <td>0.0</td>\n",
       "      <td>0.0</td>\n",
       "      <td>0.0</td>\n",
       "      <td>0.0</td>\n",
       "      <td>0.0</td>\n",
       "    </tr>\n",
       "    <tr>\n",
       "      <th>3</th>\n",
       "      <td>0.190466</td>\n",
       "      <td>0.787103</td>\n",
       "      <td>0.0</td>\n",
       "      <td>0.0</td>\n",
       "      <td>0.0</td>\n",
       "      <td>0.0</td>\n",
       "      <td>0.0</td>\n",
       "      <td>0.0</td>\n",
       "      <td>0.0</td>\n",
       "      <td>0.0</td>\n",
       "      <td>...</td>\n",
       "      <td>0.0</td>\n",
       "      <td>1.0</td>\n",
       "      <td>0.0</td>\n",
       "      <td>0.0</td>\n",
       "      <td>1.0</td>\n",
       "      <td>0.0</td>\n",
       "      <td>0.0</td>\n",
       "      <td>0.0</td>\n",
       "      <td>0.0</td>\n",
       "      <td>0.0</td>\n",
       "    </tr>\n",
       "    <tr>\n",
       "      <th>4</th>\n",
       "      <td>0.060934</td>\n",
       "      <td>0.787103</td>\n",
       "      <td>0.0</td>\n",
       "      <td>0.0</td>\n",
       "      <td>0.0</td>\n",
       "      <td>0.0</td>\n",
       "      <td>0.0</td>\n",
       "      <td>0.0</td>\n",
       "      <td>0.0</td>\n",
       "      <td>0.0</td>\n",
       "      <td>...</td>\n",
       "      <td>0.0</td>\n",
       "      <td>1.0</td>\n",
       "      <td>0.0</td>\n",
       "      <td>0.0</td>\n",
       "      <td>1.0</td>\n",
       "      <td>0.0</td>\n",
       "      <td>0.0</td>\n",
       "      <td>0.0</td>\n",
       "      <td>0.0</td>\n",
       "      <td>0.0</td>\n",
       "    </tr>\n",
       "    <tr>\n",
       "      <th>...</th>\n",
       "      <td>...</td>\n",
       "      <td>...</td>\n",
       "      <td>...</td>\n",
       "      <td>...</td>\n",
       "      <td>...</td>\n",
       "      <td>...</td>\n",
       "      <td>...</td>\n",
       "      <td>...</td>\n",
       "      <td>...</td>\n",
       "      <td>...</td>\n",
       "      <td>...</td>\n",
       "      <td>...</td>\n",
       "      <td>...</td>\n",
       "      <td>...</td>\n",
       "      <td>...</td>\n",
       "      <td>...</td>\n",
       "      <td>...</td>\n",
       "      <td>...</td>\n",
       "      <td>...</td>\n",
       "      <td>...</td>\n",
       "      <td>...</td>\n",
       "    </tr>\n",
       "    <tr>\n",
       "      <th>19030</th>\n",
       "      <td>0.218078</td>\n",
       "      <td>0.767789</td>\n",
       "      <td>0.0</td>\n",
       "      <td>0.0</td>\n",
       "      <td>0.0</td>\n",
       "      <td>0.0</td>\n",
       "      <td>0.0</td>\n",
       "      <td>0.0</td>\n",
       "      <td>0.0</td>\n",
       "      <td>0.0</td>\n",
       "      <td>...</td>\n",
       "      <td>0.0</td>\n",
       "      <td>0.0</td>\n",
       "      <td>0.0</td>\n",
       "      <td>0.0</td>\n",
       "      <td>0.0</td>\n",
       "      <td>1.0</td>\n",
       "      <td>0.0</td>\n",
       "      <td>0.0</td>\n",
       "      <td>0.0</td>\n",
       "      <td>0.0</td>\n",
       "    </tr>\n",
       "    <tr>\n",
       "      <th>19031</th>\n",
       "      <td>0.153781</td>\n",
       "      <td>0.767789</td>\n",
       "      <td>0.0</td>\n",
       "      <td>0.0</td>\n",
       "      <td>0.0</td>\n",
       "      <td>0.0</td>\n",
       "      <td>0.0</td>\n",
       "      <td>0.0</td>\n",
       "      <td>0.0</td>\n",
       "      <td>0.0</td>\n",
       "      <td>...</td>\n",
       "      <td>0.0</td>\n",
       "      <td>0.0</td>\n",
       "      <td>0.0</td>\n",
       "      <td>0.0</td>\n",
       "      <td>0.0</td>\n",
       "      <td>1.0</td>\n",
       "      <td>0.0</td>\n",
       "      <td>0.0</td>\n",
       "      <td>0.0</td>\n",
       "      <td>0.0</td>\n",
       "    </tr>\n",
       "    <tr>\n",
       "      <th>19032</th>\n",
       "      <td>0.243738</td>\n",
       "      <td>0.767789</td>\n",
       "      <td>0.0</td>\n",
       "      <td>0.0</td>\n",
       "      <td>0.0</td>\n",
       "      <td>0.0</td>\n",
       "      <td>0.0</td>\n",
       "      <td>0.0</td>\n",
       "      <td>0.0</td>\n",
       "      <td>0.0</td>\n",
       "      <td>...</td>\n",
       "      <td>0.0</td>\n",
       "      <td>0.0</td>\n",
       "      <td>0.0</td>\n",
       "      <td>0.0</td>\n",
       "      <td>0.0</td>\n",
       "      <td>1.0</td>\n",
       "      <td>0.0</td>\n",
       "      <td>0.0</td>\n",
       "      <td>0.0</td>\n",
       "      <td>0.0</td>\n",
       "    </tr>\n",
       "    <tr>\n",
       "      <th>19033</th>\n",
       "      <td>0.242351</td>\n",
       "      <td>0.767789</td>\n",
       "      <td>0.0</td>\n",
       "      <td>0.0</td>\n",
       "      <td>0.0</td>\n",
       "      <td>0.0</td>\n",
       "      <td>0.0</td>\n",
       "      <td>0.0</td>\n",
       "      <td>0.0</td>\n",
       "      <td>0.0</td>\n",
       "      <td>...</td>\n",
       "      <td>0.0</td>\n",
       "      <td>0.0</td>\n",
       "      <td>0.0</td>\n",
       "      <td>0.0</td>\n",
       "      <td>0.0</td>\n",
       "      <td>1.0</td>\n",
       "      <td>0.0</td>\n",
       "      <td>0.0</td>\n",
       "      <td>0.0</td>\n",
       "      <td>0.0</td>\n",
       "    </tr>\n",
       "    <tr>\n",
       "      <th>19034</th>\n",
       "      <td>0.076891</td>\n",
       "      <td>0.600123</td>\n",
       "      <td>0.0</td>\n",
       "      <td>0.0</td>\n",
       "      <td>0.0</td>\n",
       "      <td>0.0</td>\n",
       "      <td>0.0</td>\n",
       "      <td>0.0</td>\n",
       "      <td>0.0</td>\n",
       "      <td>0.0</td>\n",
       "      <td>...</td>\n",
       "      <td>0.0</td>\n",
       "      <td>0.0</td>\n",
       "      <td>0.0</td>\n",
       "      <td>0.0</td>\n",
       "      <td>0.0</td>\n",
       "      <td>0.0</td>\n",
       "      <td>1.0</td>\n",
       "      <td>0.0</td>\n",
       "      <td>0.0</td>\n",
       "      <td>0.0</td>\n",
       "    </tr>\n",
       "  </tbody>\n",
       "</table>\n",
       "<p>19035 rows × 203 columns</p>\n",
       "</div>"
      ],
      "text/plain": [
       "           재배면적        단가    0    1    2    3    4    5    6    7  ...  191  \\\n",
       "0      0.549299  0.787103  0.0  0.0  0.0  0.0  0.0  0.0  0.0  0.0  ...  0.0   \n",
       "1      0.060934  0.787103  0.0  0.0  0.0  0.0  0.0  0.0  0.0  0.0  ...  0.0   \n",
       "2      0.549299  0.787103  0.0  0.0  0.0  0.0  0.0  0.0  0.0  0.0  ...  0.0   \n",
       "3      0.190466  0.787103  0.0  0.0  0.0  0.0  0.0  0.0  0.0  0.0  ...  0.0   \n",
       "4      0.060934  0.787103  0.0  0.0  0.0  0.0  0.0  0.0  0.0  0.0  ...  0.0   \n",
       "...         ...       ...  ...  ...  ...  ...  ...  ...  ...  ...  ...  ...   \n",
       "19030  0.218078  0.767789  0.0  0.0  0.0  0.0  0.0  0.0  0.0  0.0  ...  0.0   \n",
       "19031  0.153781  0.767789  0.0  0.0  0.0  0.0  0.0  0.0  0.0  0.0  ...  0.0   \n",
       "19032  0.243738  0.767789  0.0  0.0  0.0  0.0  0.0  0.0  0.0  0.0  ...  0.0   \n",
       "19033  0.242351  0.767789  0.0  0.0  0.0  0.0  0.0  0.0  0.0  0.0  ...  0.0   \n",
       "19034  0.076891  0.600123  0.0  0.0  0.0  0.0  0.0  0.0  0.0  0.0  ...  0.0   \n",
       "\n",
       "       192  193  194  195  196  197  198  199  200  \n",
       "0      0.0  0.0  0.0  1.0  0.0  0.0  0.0  0.0  0.0  \n",
       "1      1.0  0.0  0.0  1.0  0.0  0.0  0.0  0.0  0.0  \n",
       "2      0.0  0.0  0.0  1.0  0.0  0.0  0.0  0.0  0.0  \n",
       "3      1.0  0.0  0.0  1.0  0.0  0.0  0.0  0.0  0.0  \n",
       "4      1.0  0.0  0.0  1.0  0.0  0.0  0.0  0.0  0.0  \n",
       "...    ...  ...  ...  ...  ...  ...  ...  ...  ...  \n",
       "19030  0.0  0.0  0.0  0.0  1.0  0.0  0.0  0.0  0.0  \n",
       "19031  0.0  0.0  0.0  0.0  1.0  0.0  0.0  0.0  0.0  \n",
       "19032  0.0  0.0  0.0  0.0  1.0  0.0  0.0  0.0  0.0  \n",
       "19033  0.0  0.0  0.0  0.0  1.0  0.0  0.0  0.0  0.0  \n",
       "19034  0.0  0.0  0.0  0.0  0.0  1.0  0.0  0.0  0.0  \n",
       "\n",
       "[19035 rows x 203 columns]"
      ]
     },
     "execution_count": 40,
     "metadata": {},
     "output_type": "execute_result"
    }
   ],
   "source": [
    "numeric_data_df = pd.DataFrame(X_scaled, columns=['재배면적', '단가'])\n",
    "onehot_data_df = pd.DataFrame(onehot.toarray())\n",
    "\n",
    "X_data_df = pd.concat([numeric_data_df , onehot_data_df], axis=1)\n",
    "X_data_df"
   ]
  },
  {
   "cell_type": "code",
   "execution_count": 41,
   "metadata": {},
   "outputs": [
    {
     "name": "stdout",
     "output_type": "stream",
     "text": [
      "(19035, 203) (19035,)\n"
     ]
    }
   ],
   "source": [
    "X_data = np.array(X_data_df)\n",
    "#y_data = y_scaled.reshape(-1,)\n",
    "y_data = np.array(data.loc[:, '생산량'])\n",
    "\n",
    "print(X_data.shape, y_data.shape)"
   ]
  },
  {
   "cell_type": "markdown",
   "metadata": {},
   "source": [
    "# Train Test split"
   ]
  },
  {
   "cell_type": "code",
   "execution_count": 42,
   "metadata": {},
   "outputs": [
    {
     "name": "stdout",
     "output_type": "stream",
     "text": [
      "(17131, 203) (17131,)\n",
      "(1904, 203) (1904,)\n"
     ]
    }
   ],
   "source": [
    "from sklearn.model_selection import train_test_split\n",
    "\n",
    "X_train, X_test, y_train, y_test = train_test_split(X_data, y_data,\n",
    "                                                    test_size=0.1,\n",
    "                                                    random_state=1234)\n",
    "print(X_train.shape, y_train.shape)\n",
    "print(X_test.shape, y_test.shape)"
   ]
  },
  {
   "cell_type": "markdown",
   "metadata": {},
   "source": [
    "# Modeling"
   ]
  },
  {
   "cell_type": "markdown",
   "metadata": {},
   "source": [
    "## Decision Tree"
   ]
  },
  {
   "cell_type": "code",
   "execution_count": 43,
   "metadata": {},
   "outputs": [
    {
     "data": {
      "text/plain": [
       "DecisionTreeRegressor(random_state=1000)"
      ]
     },
     "execution_count": 43,
     "metadata": {},
     "output_type": "execute_result"
    }
   ],
   "source": [
    "from sklearn.tree import DecisionTreeRegressor\n",
    "from sklearn.metrics import mean_squared_error\n",
    "\n",
    "dt = DecisionTreeRegressor(random_state=1000)\n",
    "dt.fit(X_train, y_train)"
   ]
  },
  {
   "cell_type": "code",
   "execution_count": 44,
   "metadata": {},
   "outputs": [
    {
     "name": "stdout",
     "output_type": "stream",
     "text": [
      "[5.69311848 7.44751539 0.         0.         0.         0.\n",
      " 0.         0.         6.50409543 3.40877721]\n"
     ]
    }
   ],
   "source": [
    "dt_pred = dt.predict(X_test)\n",
    "print(dt_pred[:10])"
   ]
  },
  {
   "cell_type": "code",
   "execution_count": 45,
   "metadata": {},
   "outputs": [
    {
     "data": {
      "text/plain": [
       "1.0309706557399012"
      ]
     },
     "execution_count": 45,
     "metadata": {},
     "output_type": "execute_result"
    }
   ],
   "source": [
    "mean_squared_error(y_test, dt_pred)"
   ]
  },
  {
   "cell_type": "markdown",
   "metadata": {},
   "source": [
    "## RandomForest"
   ]
  },
  {
   "cell_type": "code",
   "execution_count": 135,
   "metadata": {},
   "outputs": [
    {
     "data": {
      "text/plain": [
       "RandomForestRegressor(max_features='sqrt', n_estimators=3000, random_state=1000)"
      ]
     },
     "execution_count": 135,
     "metadata": {},
     "output_type": "execute_result"
    }
   ],
   "source": [
    "from sklearn.ensemble import RandomForestRegressor\n",
    "\n",
    "rf = RandomForestRegressor(n_estimators = 3000, max_features = 'sqrt', \n",
    "                           random_state = 1000)\n",
    "rf.fit(X_train, y_train)"
   ]
  },
  {
   "cell_type": "code",
   "execution_count": 136,
   "metadata": {},
   "outputs": [
    {
     "name": "stdout",
     "output_type": "stream",
     "text": [
      "[5.70386803 7.45748406 0.         0.         0.         0.\n",
      " 0.29025338 0.         6.50620942 3.40070908]\n"
     ]
    }
   ],
   "source": [
    "rf_pred = rf.predict(X_test)\n",
    "print(rf_pred[:10])"
   ]
  },
  {
   "cell_type": "code",
   "execution_count": 137,
   "metadata": {},
   "outputs": [
    {
     "data": {
      "image/png": "[encoded data removed]",
      "text/plain": [
       "<Figure size 576x432 with 1 Axes>"
      ]
     },
     "metadata": {
      "needs_background": "light"
     },
     "output_type": "display_data"
    }
   ],
   "source": [
    "importances_values = rf.feature_importances_\n",
    "importances = pd.Series(importances_values, index=X_data_df.columns)\n",
    "\n",
    "top20 = importances.sort_values(ascending=False)[:20]\n",
    "plt.figure(figsize=(8, 6))\n",
    "plt.title('Feature importances Top 20')\n",
    "sns.barplot(x = top20, y = top20.index)\n",
    "plt.show()"
   ]
  },
  {
   "cell_type": "code",
   "execution_count": 138,
   "metadata": {},
   "outputs": [
    {
     "data": {
      "text/plain": [
       "0.7725431990786754"
      ]
     },
     "execution_count": 138,
     "metadata": {},
     "output_type": "execute_result"
    }
   ],
   "source": [
    "mean_squared_error(y_test, rf_pred)"
   ]
  },
  {
   "cell_type": "markdown",
   "metadata": {},
   "source": [
    "## Ridge"
   ]
  },
  {
   "cell_type": "code",
   "execution_count": 139,
   "metadata": {},
   "outputs": [
    {
     "data": {
      "text/plain": [
       "Ridge(alpha=1.5)"
      ]
     },
     "execution_count": 139,
     "metadata": {},
     "output_type": "execute_result"
    }
   ],
   "source": [
    "from sklearn.linear_model import Ridge\n",
    "\n",
    "ridge = Ridge(alpha=1.5)\n",
    "ridge.fit(X_train, y_train)"
   ]
  },
  {
   "cell_type": "code",
   "execution_count": 140,
   "metadata": {},
   "outputs": [
    {
     "name": "stdout",
     "output_type": "stream",
     "text": [
      "0.5432590531018959\n"
     ]
    }
   ],
   "source": [
    "print(ridge.score(X_train, y_train))"
   ]
  },
  {
   "cell_type": "code",
   "execution_count": 141,
   "metadata": {},
   "outputs": [
    {
     "data": {
      "text/plain": [
       "3.3006579424161084"
      ]
     },
     "execution_count": 141,
     "metadata": {},
     "output_type": "execute_result"
    }
   ],
   "source": [
    "ridge_pred = ridge.predict(X_test)\n",
    "mean_squared_error(y_test, ridge_pred)"
   ]
  },
  {
   "cell_type": "markdown",
   "metadata": {},
   "source": [
    "## LASSO"
   ]
  },
  {
   "cell_type": "code",
   "execution_count": 65,
   "metadata": {},
   "outputs": [
    {
     "data": {
      "text/plain": [
       "Lasso(alpha=0.001)"
      ]
     },
     "execution_count": 65,
     "metadata": {},
     "output_type": "execute_result"
    }
   ],
   "source": [
    "from sklearn.linear_model import Lasso\n",
    "\n",
    "lasso = Lasso(alpha=0.001)\n",
    "lasso.fit(X_train, y_train)"
   ]
  },
  {
   "cell_type": "code",
   "execution_count": 66,
   "metadata": {},
   "outputs": [
    {
     "name": "stdout",
     "output_type": "stream",
     "text": [
      "0.5299492167167144\n"
     ]
    }
   ],
   "source": [
    "print(lasso.score(X_train, y_train))"
   ]
  },
  {
   "cell_type": "code",
   "execution_count": 67,
   "metadata": {},
   "outputs": [
    {
     "data": {
      "text/plain": [
       "3.3187091852895043"
      ]
     },
     "execution_count": 67,
     "metadata": {},
     "output_type": "execute_result"
    }
   ],
   "source": [
    "lasso_pred = lasso.predict(X_test)\n",
    "mean_squared_error(y_test, lasso_pred)"
   ]
  },
  {
   "cell_type": "markdown",
   "metadata": {},
   "source": [
    "## GBM"
   ]
  },
  {
   "cell_type": "code",
   "execution_count": 69,
   "metadata": {},
   "outputs": [
    {
     "name": "stdout",
     "output_type": "stream",
     "text": [
      "[ 5.36232542e+00  7.01207981e+00  3.64833315e-03  2.08341182e-01\n",
      "  4.58564258e-02  2.11678934e-04 -6.90968237e-01  4.52738575e-03\n",
      "  6.46057100e+00  3.11673225e+00]\n"
     ]
    }
   ],
   "source": [
    "from sklearn.ensemble import GradientBoostingRegressor\n",
    "\n",
    "gbm = GradientBoostingRegressor(n_estimators=500, max_depth=8)\n",
    "gbm.fit(X_train, y_train)\n",
    "\n",
    "gbm_pred = gbm.predict(X_test)\n",
    "print(gbm_pred[:10])"
   ]
  },
  {
   "cell_type": "code",
   "execution_count": 70,
   "metadata": {},
   "outputs": [
    {
     "data": {
      "text/plain": [
       "0.748872106338406"
      ]
     },
     "execution_count": 70,
     "metadata": {},
     "output_type": "execute_result"
    }
   ],
   "source": [
    "mean_squared_error(y_test, gbm_pred)"
   ]
  },
  {
   "cell_type": "markdown",
   "metadata": {},
   "source": [
    "## AdaBoost"
   ]
  },
  {
   "cell_type": "code",
   "execution_count": 71,
   "metadata": {},
   "outputs": [
    {
     "name": "stdout",
     "output_type": "stream",
     "text": [
      "[4.0105691  4.08695111 3.35410161 3.38506919 2.5698739  3.01099752\n",
      " 3.11267509 2.73417606 3.92110701 2.59488571]\n"
     ]
    }
   ],
   "source": [
    "from sklearn.ensemble import AdaBoostRegressor\n",
    "\n",
    "ada = AdaBoostRegressor(n_estimators = 500, learning_rate = 0.1)\n",
    "ada.fit(X_train, y_train)\n",
    "\n",
    "ada_pred = ada.predict(X_test)\n",
    "print(ada_pred[:10])"
   ]
  },
  {
   "cell_type": "code",
   "execution_count": 72,
   "metadata": {},
   "outputs": [
    {
     "data": {
      "text/plain": [
       "8.340994115721221"
      ]
     },
     "execution_count": 72,
     "metadata": {},
     "output_type": "execute_result"
    }
   ],
   "source": [
    "mean_squared_error(y_test, ada_pred)"
   ]
  },
  {
   "cell_type": "markdown",
   "metadata": {},
   "source": [
    "## XGBoost"
   ]
  },
  {
   "cell_type": "code",
   "execution_count": 95,
   "metadata": {},
   "outputs": [
    {
     "name": "stdout",
     "output_type": "stream",
     "text": [
      "1.3.3\n",
      "[ 5.7087307e+00  7.3731136e+00 -2.7408246e-03 -3.1526055e-02\n",
      "  2.4372881e-02  5.7822582e-03  2.9035869e-01 -3.4544267e-02\n",
      "  6.3748960e+00  3.6056230e+00]\n"
     ]
    }
   ],
   "source": [
    "import xgboost as xgb\n",
    "print(xgb.__version__)\n",
    "\n",
    "xgb_reg = xgb.XGBRegressor(learning_rate=0.3, max_depth=8, \n",
    "                           gamma=0.5, n_estimators=300,\n",
    "                           subsample=0.9, colsample_bytree=0.8)\n",
    "xgb_reg.fit(X_train, y_train, verbose=False)\n",
    "\n",
    "xgb_pred = xgb_reg.predict(X_test)\n",
    "print(xgb_pred[:10])"
   ]
  },
  {
   "cell_type": "code",
   "execution_count": 97,
   "metadata": {},
   "outputs": [
    {
     "data": {
      "text/plain": [
       "0.7876076507110967"
      ]
     },
     "execution_count": 97,
     "metadata": {},
     "output_type": "execute_result"
    }
   ],
   "source": [
    "mean_squared_error(y_test, xgb_pred)"
   ]
  },
  {
   "cell_type": "code",
   "execution_count": 98,
   "metadata": {
    "scrolled": false
   },
   "outputs": [
    {
     "data": {
      "image/png": "[encoded data removed]",
      "text/plain": [
       "<Figure size 720x864 with 1 Axes>"
      ]
     },
     "metadata": {
      "needs_background": "light"
     },
     "output_type": "display_data"
    }
   ],
   "source": [
    "from xgboost import plot_importance\n",
    "\n",
    "plot_importance(xgb_reg, max_num_features=20)\n",
    "\n",
    "fig = plt.gcf()\n",
    "fig.set_size_inches(10, 12)"
   ]
  },
  {
   "cell_type": "markdown",
   "metadata": {},
   "source": [
    "## LightGBM"
   ]
  },
  {
   "cell_type": "code",
   "execution_count": 99,
   "metadata": {
    "scrolled": true
   },
   "outputs": [
    {
     "name": "stdout",
     "output_type": "stream",
     "text": [
      "[LightGBM] [Warning] Accuracy may be bad since you didn't explicitly set num_leaves OR 2^max_depth > num_leaves. (num_leaves=31).\n"
     ]
    },
    {
     "data": {
      "text/plain": [
       "LGBMRegressor(max_depth=15, n_estimators=1000)"
      ]
     },
     "execution_count": 99,
     "metadata": {},
     "output_type": "execute_result"
    }
   ],
   "source": [
    "import lightgbm as lgb\n",
    "\n",
    "\n",
    "lgb_reg = lgb.LGBMRegressor(n_estimators=1000, max_depth=15)\n",
    "lgb_reg.fit(X_train, y_train,\n",
    "        eval_set=[(X_test, y_test)],\n",
    "        eval_metric='l1',\n",
    "        early_stopping_rounds=1000,\n",
    "        verbose = False)"
   ]
  },
  {
   "cell_type": "code",
   "execution_count": 100,
   "metadata": {},
   "outputs": [
    {
     "name": "stdout",
     "output_type": "stream",
     "text": [
      "[ 5.53346348e+00  7.11234666e+00 -7.46976346e-03  1.09751523e-01\n",
      "  7.93708323e-02 -9.32643826e-03 -1.07182325e-02  3.77381752e-03\n",
      "  6.29114288e+00  3.59354509e+00]\n"
     ]
    }
   ],
   "source": [
    "lgb_pred = lgb_reg.predict(X_test)\n",
    "print(lgb_pred[:10])"
   ]
  },
  {
   "cell_type": "code",
   "execution_count": 101,
   "metadata": {},
   "outputs": [
    {
     "name": "stdout",
     "output_type": "stream",
     "text": [
      "[4.61512052 4.61512052 0.         0.         0.         0.\n",
      " 0.         0.         6.68586095 2.56494936]\n"
     ]
    }
   ],
   "source": [
    "print(y_test[:10])"
   ]
  },
  {
   "cell_type": "code",
   "execution_count": 102,
   "metadata": {},
   "outputs": [
    {
     "data": {
      "text/plain": [
       "0.8031993000359708"
      ]
     },
     "execution_count": 102,
     "metadata": {},
     "output_type": "execute_result"
    }
   ],
   "source": [
    "mean_squared_error(y_test, lgb_pred)"
   ]
  },
  {
   "cell_type": "markdown",
   "metadata": {},
   "source": [
    "# Ensemble"
   ]
  },
  {
   "cell_type": "code",
   "execution_count": 108,
   "metadata": {},
   "outputs": [],
   "source": [
    "import torch\n",
    "from sklearn.metrics import mean_squared_error\n",
    "\n",
    "class EnsembleRegressor:\n",
    "    def __init__(self, models, weights=None):\n",
    "        \n",
    "        self.models = models\n",
    "        self.weights = weights\n",
    "        \n",
    "    def predict(self, X_test):\n",
    "        pred_list = []\n",
    "        for i, model in enumerate(models.values()):\n",
    "            pred_list.append(model.predict(X_test))\n",
    "        preds = np.array(pred_list)\n",
    "            \n",
    "        prediction = np.average(preds, axis=0, weights=self.weights)\n",
    "\n",
    "        return prediction\n",
    "    \n",
    "    def random_search(self, X_test, y_test, num_search):\n",
    "        weights = torch.softmax(torch.rand(num_search, len(self.models)), axis=1).numpy()\n",
    "        \n",
    "        pred_list = []\n",
    "        for i, model in enumerate(models.values()):\n",
    "            pred_list.append(model.predict(X_test))\n",
    "        preds = np.array(pred_list)\n",
    "\n",
    "        mse = []\n",
    "        for i in range(num_search):\n",
    "            prediction = np.average(preds, axis=0, weights=weights[i])\n",
    "            mse_ = mean_squared_error(y_test, prediction)\n",
    "            mse.append(mse_)\n",
    "        \n",
    "        result = pd.DataFrame(weights)\n",
    "        result['MSE'] = mse\n",
    "\n",
    "        return result.sort_values('MSE', ascending=True)"
   ]
  },
  {
   "cell_type": "code",
   "execution_count": 109,
   "metadata": {
    "scrolled": false
   },
   "outputs": [
    {
     "data": {
      "text/html": [
       "<div>\n",
       "<style scoped>\n",
       "    .dataframe tbody tr th:only-of-type {\n",
       "        vertical-align: middle;\n",
       "    }\n",
       "\n",
       "    .dataframe tbody tr th {\n",
       "        vertical-align: top;\n",
       "    }\n",
       "\n",
       "    .dataframe thead th {\n",
       "        text-align: right;\n",
       "    }\n",
       "</style>\n",
       "<table border=\"1\" class=\"dataframe\">\n",
       "  <thead>\n",
       "    <tr style=\"text-align: right;\">\n",
       "      <th></th>\n",
       "      <th>0</th>\n",
       "      <th>1</th>\n",
       "      <th>2</th>\n",
       "      <th>3</th>\n",
       "      <th>MSE</th>\n",
       "    </tr>\n",
       "  </thead>\n",
       "  <tbody>\n",
       "    <tr>\n",
       "      <th>21612</th>\n",
       "      <td>0.248391</td>\n",
       "      <td>0.350553</td>\n",
       "      <td>0.130509</td>\n",
       "      <td>0.270547</td>\n",
       "      <td>0.710938</td>\n",
       "    </tr>\n",
       "    <tr>\n",
       "      <th>3608</th>\n",
       "      <td>0.243803</td>\n",
       "      <td>0.354174</td>\n",
       "      <td>0.134173</td>\n",
       "      <td>0.267850</td>\n",
       "      <td>0.710943</td>\n",
       "    </tr>\n",
       "    <tr>\n",
       "      <th>23805</th>\n",
       "      <td>0.247126</td>\n",
       "      <td>0.360052</td>\n",
       "      <td>0.140531</td>\n",
       "      <td>0.252290</td>\n",
       "      <td>0.710954</td>\n",
       "    </tr>\n",
       "    <tr>\n",
       "      <th>24446</th>\n",
       "      <td>0.258209</td>\n",
       "      <td>0.345809</td>\n",
       "      <td>0.136207</td>\n",
       "      <td>0.259775</td>\n",
       "      <td>0.710982</td>\n",
       "    </tr>\n",
       "    <tr>\n",
       "      <th>12578</th>\n",
       "      <td>0.245521</td>\n",
       "      <td>0.379270</td>\n",
       "      <td>0.141554</td>\n",
       "      <td>0.233656</td>\n",
       "      <td>0.710989</td>\n",
       "    </tr>\n",
       "    <tr>\n",
       "      <th>25110</th>\n",
       "      <td>0.265430</td>\n",
       "      <td>0.352485</td>\n",
       "      <td>0.139028</td>\n",
       "      <td>0.243057</td>\n",
       "      <td>0.710999</td>\n",
       "    </tr>\n",
       "    <tr>\n",
       "      <th>7875</th>\n",
       "      <td>0.239277</td>\n",
       "      <td>0.352223</td>\n",
       "      <td>0.140715</td>\n",
       "      <td>0.267785</td>\n",
       "      <td>0.711016</td>\n",
       "    </tr>\n",
       "    <tr>\n",
       "      <th>10425</th>\n",
       "      <td>0.246745</td>\n",
       "      <td>0.350968</td>\n",
       "      <td>0.143447</td>\n",
       "      <td>0.258840</td>\n",
       "      <td>0.711019</td>\n",
       "    </tr>\n",
       "    <tr>\n",
       "      <th>16751</th>\n",
       "      <td>0.268805</td>\n",
       "      <td>0.345010</td>\n",
       "      <td>0.138020</td>\n",
       "      <td>0.248166</td>\n",
       "      <td>0.711023</td>\n",
       "    </tr>\n",
       "    <tr>\n",
       "      <th>12962</th>\n",
       "      <td>0.253875</td>\n",
       "      <td>0.341209</td>\n",
       "      <td>0.136536</td>\n",
       "      <td>0.268381</td>\n",
       "      <td>0.711031</td>\n",
       "    </tr>\n",
       "  </tbody>\n",
       "</table>\n",
       "</div>"
      ],
      "text/plain": [
       "              0         1         2         3       MSE\n",
       "21612  0.248391  0.350553  0.130509  0.270547  0.710938\n",
       "3608   0.243803  0.354174  0.134173  0.267850  0.710943\n",
       "23805  0.247126  0.360052  0.140531  0.252290  0.710954\n",
       "24446  0.258209  0.345809  0.136207  0.259775  0.710982\n",
       "12578  0.245521  0.379270  0.141554  0.233656  0.710989\n",
       "25110  0.265430  0.352485  0.139028  0.243057  0.710999\n",
       "7875   0.239277  0.352223  0.140715  0.267785  0.711016\n",
       "10425  0.246745  0.350968  0.143447  0.258840  0.711019\n",
       "16751  0.268805  0.345010  0.138020  0.248166  0.711023\n",
       "12962  0.253875  0.341209  0.136536  0.268381  0.711031"
      ]
     },
     "execution_count": 109,
     "metadata": {},
     "output_type": "execute_result"
    }
   ],
   "source": [
    "models = {'RandomForest' : rf, 'GBM' : gbm, 'XGBOOST': xgb_reg, 'LightGBM' : lgb_reg}\n",
    "\n",
    "ensemble = EnsembleRegressor(models, weights=None)\n",
    "result = ensemble.random_search(X_test, y_test, 30000)\n",
    "result.head(10)"
   ]
  },
  {
   "cell_type": "code",
   "execution_count": 110,
   "metadata": {},
   "outputs": [
    {
     "name": "stdout",
     "output_type": "stream",
     "text": [
      "[0.24839119613170624, 0.3505529761314392, 0.13050930202007294, 0.270546555519104]\n"
     ]
    }
   ],
   "source": [
    "optimal_weight = result.iloc[0,:-1].tolist()\n",
    "print(optimal_weight)"
   ]
  },
  {
   "cell_type": "code",
   "execution_count": 111,
   "metadata": {},
   "outputs": [
    {
     "name": "stdout",
     "output_type": "stream",
     "text": [
      "[ 5.53781687e+00  7.19772231e+00 -1.09968780e-03  9.86130714e-02\n",
      "  4.09248245e-02 -1.69439253e-03 -1.31624687e-01 -1.90026621e-03\n",
      "  6.41411085e+00  3.38056663e+00]\n"
     ]
    }
   ],
   "source": [
    "ensemble = EnsembleRegressor(models, weights=optimal_weight)\n",
    "\n",
    "preds = ensemble.predict(X_test)\n",
    "print(preds[:10])"
   ]
  },
  {
   "cell_type": "code",
   "execution_count": 112,
   "metadata": {},
   "outputs": [
    {
     "name": "stdout",
     "output_type": "stream",
     "text": [
      "[4.61512052 4.61512052 0.         0.         0.         0.\n",
      " 0.         0.         6.68586095 2.56494936]\n"
     ]
    }
   ],
   "source": [
    "print( y_test[:10])"
   ]
  },
  {
   "cell_type": "code",
   "execution_count": 113,
   "metadata": {},
   "outputs": [
    {
     "data": {
      "text/plain": [
       "0.7109377182568433"
      ]
     },
     "execution_count": 113,
     "metadata": {},
     "output_type": "execute_result"
    }
   ],
   "source": [
    "mean_squared_error(y_test, preds)"
   ]
  },
  {
   "cell_type": "markdown",
   "metadata": {},
   "source": [
    "# Evaluation"
   ]
  },
  {
   "cell_type": "code",
   "execution_count": 120,
   "metadata": {},
   "outputs": [
    {
     "name": "stdout",
     "output_type": "stream",
     "text": [
      "[2.53122612e+02 1.33538343e+03 0.00000000e+00 1.03639187e-01\n",
      " 4.17737868e-02 0.00000000e+00 0.00000000e+00 0.00000000e+00\n",
      " 6.09397786e+02 2.83874181e+01]\n",
      "[100. 100.   0.   0.   0.   0.   0.   0. 800.  12.]\n"
     ]
    }
   ],
   "source": [
    "#inverse_transformed_pred = np.expm1(preds * y_minmax_scaler.data_range_ + y_minmax_scaler.data_min_)\n",
    "#inverse_transformed_y_test = np.expm1(y_test * y_minmax_scaler.data_range_ + y_minmax_scaler.data_min_)\n",
    "inverse_transformed_pred = np.expm1(preds)\n",
    "inverse_transformed_pred = np.where(inverse_transformed_pred < 0, 0, inverse_transformed_pred)\n",
    "inverse_transformed_y_test = np.expm1(y_test)\n",
    "\n",
    "print(inverse_transformed_pred[:10])\n",
    "print(inverse_transformed_y_test[:10])"
   ]
  },
  {
   "cell_type": "code",
   "execution_count": 121,
   "metadata": {},
   "outputs": [
    {
     "data": {
      "text/plain": [
       "94693.31500156749"
      ]
     },
     "execution_count": 121,
     "metadata": {},
     "output_type": "execute_result"
    }
   ],
   "source": [
    "np.sqrt(mean_squared_error(inverse_transformed_y_test, inverse_transformed_pred))"
   ]
  },
  {
   "cell_type": "code",
   "execution_count": 122,
   "metadata": {},
   "outputs": [
    {
     "data": {
      "text/html": [
       "<div>\n",
       "<style scoped>\n",
       "    .dataframe tbody tr th:only-of-type {\n",
       "        vertical-align: middle;\n",
       "    }\n",
       "\n",
       "    .dataframe tbody tr th {\n",
       "        vertical-align: top;\n",
       "    }\n",
       "\n",
       "    .dataframe thead th {\n",
       "        text-align: right;\n",
       "    }\n",
       "</style>\n",
       "<table border=\"1\" class=\"dataframe\">\n",
       "  <thead>\n",
       "    <tr style=\"text-align: right;\">\n",
       "      <th></th>\n",
       "      <th>생산량</th>\n",
       "      <th>예측값</th>\n",
       "    </tr>\n",
       "  </thead>\n",
       "  <tbody>\n",
       "    <tr>\n",
       "      <th>0</th>\n",
       "      <td>100.0</td>\n",
       "      <td>253.1</td>\n",
       "    </tr>\n",
       "    <tr>\n",
       "      <th>1</th>\n",
       "      <td>100.0</td>\n",
       "      <td>1335.4</td>\n",
       "    </tr>\n",
       "    <tr>\n",
       "      <th>2</th>\n",
       "      <td>0.0</td>\n",
       "      <td>0.0</td>\n",
       "    </tr>\n",
       "    <tr>\n",
       "      <th>3</th>\n",
       "      <td>0.0</td>\n",
       "      <td>0.1</td>\n",
       "    </tr>\n",
       "    <tr>\n",
       "      <th>4</th>\n",
       "      <td>0.0</td>\n",
       "      <td>0.0</td>\n",
       "    </tr>\n",
       "    <tr>\n",
       "      <th>5</th>\n",
       "      <td>0.0</td>\n",
       "      <td>0.0</td>\n",
       "    </tr>\n",
       "    <tr>\n",
       "      <th>6</th>\n",
       "      <td>0.0</td>\n",
       "      <td>0.0</td>\n",
       "    </tr>\n",
       "    <tr>\n",
       "      <th>7</th>\n",
       "      <td>0.0</td>\n",
       "      <td>0.0</td>\n",
       "    </tr>\n",
       "    <tr>\n",
       "      <th>8</th>\n",
       "      <td>800.0</td>\n",
       "      <td>609.4</td>\n",
       "    </tr>\n",
       "    <tr>\n",
       "      <th>9</th>\n",
       "      <td>12.0</td>\n",
       "      <td>28.4</td>\n",
       "    </tr>\n",
       "    <tr>\n",
       "      <th>10</th>\n",
       "      <td>0.0</td>\n",
       "      <td>0.0</td>\n",
       "    </tr>\n",
       "    <tr>\n",
       "      <th>11</th>\n",
       "      <td>0.0</td>\n",
       "      <td>0.0</td>\n",
       "    </tr>\n",
       "    <tr>\n",
       "      <th>12</th>\n",
       "      <td>0.0</td>\n",
       "      <td>0.0</td>\n",
       "    </tr>\n",
       "    <tr>\n",
       "      <th>13</th>\n",
       "      <td>0.0</td>\n",
       "      <td>0.0</td>\n",
       "    </tr>\n",
       "    <tr>\n",
       "      <th>14</th>\n",
       "      <td>0.0</td>\n",
       "      <td>0.1</td>\n",
       "    </tr>\n",
       "    <tr>\n",
       "      <th>15</th>\n",
       "      <td>0.0</td>\n",
       "      <td>0.0</td>\n",
       "    </tr>\n",
       "    <tr>\n",
       "      <th>16</th>\n",
       "      <td>0.0</td>\n",
       "      <td>0.0</td>\n",
       "    </tr>\n",
       "    <tr>\n",
       "      <th>17</th>\n",
       "      <td>0.0</td>\n",
       "      <td>0.0</td>\n",
       "    </tr>\n",
       "    <tr>\n",
       "      <th>18</th>\n",
       "      <td>50.0</td>\n",
       "      <td>22.9</td>\n",
       "    </tr>\n",
       "    <tr>\n",
       "      <th>19</th>\n",
       "      <td>0.0</td>\n",
       "      <td>0.0</td>\n",
       "    </tr>\n",
       "    <tr>\n",
       "      <th>20</th>\n",
       "      <td>0.0</td>\n",
       "      <td>3.7</td>\n",
       "    </tr>\n",
       "    <tr>\n",
       "      <th>21</th>\n",
       "      <td>0.0</td>\n",
       "      <td>0.0</td>\n",
       "    </tr>\n",
       "    <tr>\n",
       "      <th>22</th>\n",
       "      <td>0.0</td>\n",
       "      <td>0.0</td>\n",
       "    </tr>\n",
       "    <tr>\n",
       "      <th>23</th>\n",
       "      <td>0.0</td>\n",
       "      <td>0.0</td>\n",
       "    </tr>\n",
       "    <tr>\n",
       "      <th>24</th>\n",
       "      <td>70.0</td>\n",
       "      <td>95.8</td>\n",
       "    </tr>\n",
       "    <tr>\n",
       "      <th>25</th>\n",
       "      <td>0.0</td>\n",
       "      <td>0.0</td>\n",
       "    </tr>\n",
       "    <tr>\n",
       "      <th>26</th>\n",
       "      <td>0.0</td>\n",
       "      <td>0.0</td>\n",
       "    </tr>\n",
       "    <tr>\n",
       "      <th>27</th>\n",
       "      <td>0.0</td>\n",
       "      <td>0.0</td>\n",
       "    </tr>\n",
       "    <tr>\n",
       "      <th>28</th>\n",
       "      <td>0.0</td>\n",
       "      <td>0.0</td>\n",
       "    </tr>\n",
       "    <tr>\n",
       "      <th>29</th>\n",
       "      <td>0.0</td>\n",
       "      <td>0.0</td>\n",
       "    </tr>\n",
       "  </tbody>\n",
       "</table>\n",
       "</div>"
      ],
      "text/plain": [
       "      생산량     예측값\n",
       "0   100.0   253.1\n",
       "1   100.0  1335.4\n",
       "2     0.0     0.0\n",
       "3     0.0     0.1\n",
       "4     0.0     0.0\n",
       "5     0.0     0.0\n",
       "6     0.0     0.0\n",
       "7     0.0     0.0\n",
       "8   800.0   609.4\n",
       "9    12.0    28.4\n",
       "10    0.0     0.0\n",
       "11    0.0     0.0\n",
       "12    0.0     0.0\n",
       "13    0.0     0.0\n",
       "14    0.0     0.1\n",
       "15    0.0     0.0\n",
       "16    0.0     0.0\n",
       "17    0.0     0.0\n",
       "18   50.0    22.9\n",
       "19    0.0     0.0\n",
       "20    0.0     3.7\n",
       "21    0.0     0.0\n",
       "22    0.0     0.0\n",
       "23    0.0     0.0\n",
       "24   70.0    95.8\n",
       "25    0.0     0.0\n",
       "26    0.0     0.0\n",
       "27    0.0     0.0\n",
       "28    0.0     0.0\n",
       "29    0.0     0.0"
      ]
     },
     "execution_count": 122,
     "metadata": {},
     "output_type": "execute_result"
    }
   ],
   "source": [
    "inverse_transformed_pred = pd.Series(np.round(inverse_transformed_pred,1), name='예측값')\n",
    "inverse_transformed_y_test= pd.Series(inverse_transformed_y_test, name='생산량')\n",
    "result = pd.concat([inverse_transformed_y_test, inverse_transformed_pred], axis=1)\n",
    "result[:30]"
   ]
  },
  {
   "cell_type": "code",
   "execution_count": null,
   "metadata": {},
   "outputs": [],
   "source": []
  }
 ],
 "metadata": {
  "kernelspec": {
   "display_name": "Python 3",
   "language": "python",
   "name": "python3"
  },
  "language_info": {
   "codemirror_mode": {
    "name": "ipython",
    "version": 3
   },
   "file_extension": ".py",
   "mimetype": "text/x-python",
   "name": "python",
   "nbconvert_exporter": "python",
   "pygments_lexer": "ipython3",
   "version": "3.8.5"
  }
 },
 "nbformat": 4,
 "nbformat_minor": 4
}
