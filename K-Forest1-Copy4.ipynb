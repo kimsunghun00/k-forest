{
 "cells": [
  {
   "cell_type": "markdown",
   "metadata": {},
   "source": [
    "## Load Data"
   ]
  },
  {
   "cell_type": "markdown",
   "metadata": {},
   "source": [
    "### 2015년도"
   ]
  },
  {
   "cell_type": "code",
   "execution_count": 1,
   "metadata": {},
   "outputs": [
    {
     "data": {
      "text/html": [
       "<div>\n",
       "<style scoped>\n",
       "    .dataframe tbody tr th:only-of-type {\n",
       "        vertical-align: middle;\n",
       "    }\n",
       "\n",
       "    .dataframe tbody tr th {\n",
       "        vertical-align: top;\n",
       "    }\n",
       "\n",
       "    .dataframe thead th {\n",
       "        text-align: right;\n",
       "    }\n",
       "</style>\n",
       "<table border=\"1\" class=\"dataframe\">\n",
       "  <thead>\n",
       "    <tr style=\"text-align: right;\">\n",
       "      <th></th>\n",
       "      <th>시도/청</th>\n",
       "      <th>시도/관리소</th>\n",
       "      <th>시군구</th>\n",
       "      <th>조사일시</th>\n",
       "      <th>임가번호</th>\n",
       "      <th>대분류코드</th>\n",
       "      <th>중분류코드</th>\n",
       "      <th>소분류코드</th>\n",
       "      <th>품목명</th>\n",
       "      <th>단위</th>\n",
       "      <th>...</th>\n",
       "      <th>면적 단위</th>\n",
       "      <th>Unnamed: 13</th>\n",
       "      <th>금년</th>\n",
       "      <th>금년.1</th>\n",
       "      <th>금년.2</th>\n",
       "      <th>Unnamed: 17</th>\n",
       "      <th>금년.3</th>\n",
       "      <th>Unnamed: 19</th>\n",
       "      <th>금년.4</th>\n",
       "      <th>비고</th>\n",
       "    </tr>\n",
       "  </thead>\n",
       "  <tbody>\n",
       "    <tr>\n",
       "      <th>0</th>\n",
       "      <td>NaN</td>\n",
       "      <td>NaN</td>\n",
       "      <td>NaN</td>\n",
       "      <td>NaN</td>\n",
       "      <td>NaN</td>\n",
       "      <td>NaN</td>\n",
       "      <td>NaN</td>\n",
       "      <td>NaN</td>\n",
       "      <td>NaN</td>\n",
       "      <td>NaN</td>\n",
       "      <td>...</td>\n",
       "      <td>NaN</td>\n",
       "      <td>생산량</td>\n",
       "      <td>환산비율 적용 생산량</td>\n",
       "      <td>단위</td>\n",
       "      <td>생산기준</td>\n",
       "      <td>단가</td>\n",
       "      <td>환산비율 적용 단가</td>\n",
       "      <td>총 생산액</td>\n",
       "      <td>환산비율 적용 총 생산액</td>\n",
       "      <td>NaN</td>\n",
       "    </tr>\n",
       "    <tr>\n",
       "      <th>1</th>\n",
       "      <td>부산광역시</td>\n",
       "      <td>부산광역시</td>\n",
       "      <td>기장군</td>\n",
       "      <td>NaN</td>\n",
       "      <td>NaN</td>\n",
       "      <td>수실</td>\n",
       "      <td>재배수실</td>\n",
       "      <td>밤</td>\n",
       "      <td>밤</td>\n",
       "      <td>kg</td>\n",
       "      <td>...</td>\n",
       "      <td>NaN</td>\n",
       "      <td>13691</td>\n",
       "      <td>13691</td>\n",
       "      <td>kg</td>\n",
       "      <td>NaN</td>\n",
       "      <td>1492.52</td>\n",
       "      <td>1492.52</td>\n",
       "      <td>20434027</td>\n",
       "      <td>20434027</td>\n",
       "      <td>NaN</td>\n",
       "    </tr>\n",
       "    <tr>\n",
       "      <th>2</th>\n",
       "      <td>대구광역시</td>\n",
       "      <td>대구광역시</td>\n",
       "      <td>대구동구</td>\n",
       "      <td>NaN</td>\n",
       "      <td>NaN</td>\n",
       "      <td>수실</td>\n",
       "      <td>재배수실</td>\n",
       "      <td>밤</td>\n",
       "      <td>밤</td>\n",
       "      <td>kg</td>\n",
       "      <td>...</td>\n",
       "      <td>NaN</td>\n",
       "      <td>23601</td>\n",
       "      <td>23601</td>\n",
       "      <td>kg</td>\n",
       "      <td>NaN</td>\n",
       "      <td>3000.05</td>\n",
       "      <td>3000.05</td>\n",
       "      <td>70804196</td>\n",
       "      <td>70804196</td>\n",
       "      <td>NaN</td>\n",
       "    </tr>\n",
       "  </tbody>\n",
       "</table>\n",
       "<p>3 rows × 22 columns</p>\n",
       "</div>"
      ],
      "text/plain": [
       "    시도/청 시도/관리소   시군구 조사일시  임가번호 대분류코드 중분류코드 소분류코드  품목명   단위  ... 면적 단위  \\\n",
       "0    NaN    NaN   NaN  NaN   NaN   NaN   NaN   NaN  NaN  NaN  ...   NaN   \n",
       "1  부산광역시  부산광역시   기장군  NaN   NaN    수실  재배수실     밤    밤   kg  ...   NaN   \n",
       "2  대구광역시  대구광역시  대구동구  NaN   NaN    수실  재배수실     밤    밤   kg  ...   NaN   \n",
       "\n",
       "   Unnamed: 13           금년 금년.1  금년.2 Unnamed: 17        금년.3 Unnamed: 19  \\\n",
       "0          생산량  환산비율 적용 생산량   단위  생산기준          단가  환산비율 적용 단가       총 생산액   \n",
       "1        13691        13691   kg   NaN     1492.52     1492.52    20434027   \n",
       "2        23601        23601   kg   NaN     3000.05     3000.05    70804196   \n",
       "\n",
       "            금년.4   비고  \n",
       "0  환산비율 적용 총 생산액  NaN  \n",
       "1       20434027  NaN  \n",
       "2       70804196  NaN  \n",
       "\n",
       "[3 rows x 22 columns]"
      ]
     },
     "execution_count": 1,
     "metadata": {},
     "output_type": "execute_result"
    }
   ],
   "source": [
    "# 2015년\n",
    "import pandas as pd\n",
    "import numpy as np\n",
    "pd.set_option('mode.chained_assignment',  None)\n",
    "\n",
    "forest_production_2015 = pd.read_excel('2015년기준 임산물생산조사결과(최종0804).xlsx', header=2, thousands=',')\n",
    "forest_production_2015.head(3)"
   ]
  },
  {
   "cell_type": "code",
   "execution_count": 2,
   "metadata": {},
   "outputs": [
    {
     "data": {
      "text/html": [
       "<div>\n",
       "<style scoped>\n",
       "    .dataframe tbody tr th:only-of-type {\n",
       "        vertical-align: middle;\n",
       "    }\n",
       "\n",
       "    .dataframe tbody tr th {\n",
       "        vertical-align: top;\n",
       "    }\n",
       "\n",
       "    .dataframe thead th {\n",
       "        text-align: right;\n",
       "    }\n",
       "</style>\n",
       "<table border=\"1\" class=\"dataframe\">\n",
       "  <thead>\n",
       "    <tr style=\"text-align: right;\">\n",
       "      <th></th>\n",
       "      <th>시도/관리소</th>\n",
       "      <th>재배채취</th>\n",
       "      <th>재배면적</th>\n",
       "      <th>재배단위</th>\n",
       "      <th>소분류</th>\n",
       "      <th>단가</th>\n",
       "      <th>생산량</th>\n",
       "    </tr>\n",
       "  </thead>\n",
       "  <tbody>\n",
       "    <tr>\n",
       "      <th>1</th>\n",
       "      <td>부산광역시</td>\n",
       "      <td>재배</td>\n",
       "      <td>NaN</td>\n",
       "      <td>NaN</td>\n",
       "      <td>밤</td>\n",
       "      <td>1492.52</td>\n",
       "      <td>13691</td>\n",
       "    </tr>\n",
       "    <tr>\n",
       "      <th>2</th>\n",
       "      <td>대구광역시</td>\n",
       "      <td>재배</td>\n",
       "      <td>NaN</td>\n",
       "      <td>NaN</td>\n",
       "      <td>밤</td>\n",
       "      <td>3000.05</td>\n",
       "      <td>23601</td>\n",
       "    </tr>\n",
       "    <tr>\n",
       "      <th>3</th>\n",
       "      <td>대구광역시</td>\n",
       "      <td>재배</td>\n",
       "      <td>NaN</td>\n",
       "      <td>NaN</td>\n",
       "      <td>밤</td>\n",
       "      <td>6251.33</td>\n",
       "      <td>286</td>\n",
       "    </tr>\n",
       "    <tr>\n",
       "      <th>4</th>\n",
       "      <td>인천광역시</td>\n",
       "      <td>재배</td>\n",
       "      <td>NaN</td>\n",
       "      <td>NaN</td>\n",
       "      <td>밤</td>\n",
       "      <td>2999.98</td>\n",
       "      <td>4276</td>\n",
       "    </tr>\n",
       "    <tr>\n",
       "      <th>5</th>\n",
       "      <td>인천광역시</td>\n",
       "      <td>재배</td>\n",
       "      <td>NaN</td>\n",
       "      <td>NaN</td>\n",
       "      <td>밤</td>\n",
       "      <td>2166.66</td>\n",
       "      <td>65701</td>\n",
       "    </tr>\n",
       "  </tbody>\n",
       "</table>\n",
       "</div>"
      ],
      "text/plain": [
       "  시도/관리소 재배채취  재배면적 재배단위 소분류       단가    생산량\n",
       "1  부산광역시   재배   NaN  NaN   밤  1492.52  13691\n",
       "2  대구광역시   재배   NaN  NaN   밤  3000.05  23601\n",
       "3  대구광역시   재배   NaN  NaN   밤  6251.33    286\n",
       "4  인천광역시   재배   NaN  NaN   밤  2999.98   4276\n",
       "5  인천광역시   재배   NaN  NaN   밤  2166.66  65701"
      ]
     },
     "execution_count": 2,
     "metadata": {},
     "output_type": "execute_result"
    }
   ],
   "source": [
    "forest_production_2015 = forest_production_2015.iloc[1:, [1, 10, 11, 12, 7, 17, 13]]\n",
    "forest_production_2015.rename(columns={'면적' : '재배면적',\n",
    "                                       '면적 단위' : '재배단위',\n",
    "                                       '소분류코드' : '소분류',\n",
    "                                       'Unnamed: 13' : '생산량',\n",
    "                                       'Unnamed: 17' : '단가'},\n",
    "                              inplace = True)\n",
    "forest_production_2015.head()"
   ]
  },
  {
   "cell_type": "code",
   "execution_count": 3,
   "metadata": {},
   "outputs": [
    {
     "name": "stdout",
     "output_type": "stream",
     "text": [
      "(107585, 7)\n"
     ]
    }
   ],
   "source": [
    "print(forest_production_2015.shape)"
   ]
  },
  {
   "cell_type": "markdown",
   "metadata": {},
   "source": [
    "### 2016년도"
   ]
  },
  {
   "cell_type": "code",
   "execution_count": 4,
   "metadata": {},
   "outputs": [
    {
     "data": {
      "text/html": [
       "<div>\n",
       "<style scoped>\n",
       "    .dataframe tbody tr th:only-of-type {\n",
       "        vertical-align: middle;\n",
       "    }\n",
       "\n",
       "    .dataframe tbody tr th {\n",
       "        vertical-align: top;\n",
       "    }\n",
       "\n",
       "    .dataframe thead th {\n",
       "        text-align: right;\n",
       "    }\n",
       "</style>\n",
       "<table border=\"1\" class=\"dataframe\">\n",
       "  <thead>\n",
       "    <tr style=\"text-align: right;\">\n",
       "      <th></th>\n",
       "      <th>시도/청</th>\n",
       "      <th>시도/관리소</th>\n",
       "      <th>시군구</th>\n",
       "      <th>임가번호</th>\n",
       "      <th>대분류</th>\n",
       "      <th>중분류</th>\n",
       "      <th>소분류</th>\n",
       "      <th>단위</th>\n",
       "      <th>재배채취</th>\n",
       "      <th>면적</th>\n",
       "      <th>면적 단위</th>\n",
       "      <th>금년</th>\n",
       "      <th>금년.1</th>\n",
       "      <th>금년.2</th>\n",
       "      <th>금년.3</th>\n",
       "      <th>금년.4</th>\n",
       "      <th>비고</th>\n",
       "      <th>시퀀스</th>\n",
       "    </tr>\n",
       "  </thead>\n",
       "  <tbody>\n",
       "    <tr>\n",
       "      <th>0</th>\n",
       "      <td>NaN</td>\n",
       "      <td>NaN</td>\n",
       "      <td>NaN</td>\n",
       "      <td>NaN</td>\n",
       "      <td>NaN</td>\n",
       "      <td>NaN</td>\n",
       "      <td>NaN</td>\n",
       "      <td>NaN</td>\n",
       "      <td>NaN</td>\n",
       "      <td>NaN</td>\n",
       "      <td>NaN</td>\n",
       "      <td>생산량</td>\n",
       "      <td>단위</td>\n",
       "      <td>생산기준</td>\n",
       "      <td>단가</td>\n",
       "      <td>총생산액</td>\n",
       "      <td>NaN</td>\n",
       "      <td>NaN</td>\n",
       "    </tr>\n",
       "    <tr>\n",
       "      <th>1</th>\n",
       "      <td>충청북도</td>\n",
       "      <td>충청북도</td>\n",
       "      <td>진천군</td>\n",
       "      <td>017356</td>\n",
       "      <td>연료</td>\n",
       "      <td>목탄</td>\n",
       "      <td>흑탄</td>\n",
       "      <td>톤</td>\n",
       "      <td>재배</td>\n",
       "      <td>50.0</td>\n",
       "      <td>㎡</td>\n",
       "      <td>50</td>\n",
       "      <td>톤</td>\n",
       "      <td>없음</td>\n",
       "      <td>1800000</td>\n",
       "      <td>90000000</td>\n",
       "      <td>NaN</td>\n",
       "      <td>1.0</td>\n",
       "    </tr>\n",
       "    <tr>\n",
       "      <th>2</th>\n",
       "      <td>충청북도</td>\n",
       "      <td>충청북도</td>\n",
       "      <td>진천군</td>\n",
       "      <td>017442</td>\n",
       "      <td>연료</td>\n",
       "      <td>목탄</td>\n",
       "      <td>흑탄</td>\n",
       "      <td>톤</td>\n",
       "      <td>재배</td>\n",
       "      <td>10.0</td>\n",
       "      <td>㎡</td>\n",
       "      <td>25</td>\n",
       "      <td>톤</td>\n",
       "      <td>없음</td>\n",
       "      <td>1200000</td>\n",
       "      <td>30000000</td>\n",
       "      <td>NaN</td>\n",
       "      <td>1.0</td>\n",
       "    </tr>\n",
       "  </tbody>\n",
       "</table>\n",
       "</div>"
      ],
      "text/plain": [
       "   시도/청 시도/관리소  시군구    임가번호  대분류  중분류  소분류   단위 재배채취    면적 면적 단위   금년 금년.1  \\\n",
       "0   NaN    NaN  NaN     NaN  NaN  NaN  NaN  NaN  NaN   NaN   NaN  생산량   단위   \n",
       "1  충청북도   충청북도  진천군  017356   연료   목탄   흑탄    톤   재배  50.0     ㎡   50    톤   \n",
       "2  충청북도   충청북도  진천군  017442   연료   목탄   흑탄    톤   재배  10.0     ㎡   25    톤   \n",
       "\n",
       "   금년.2     금년.3      금년.4   비고  시퀀스  \n",
       "0  생산기준       단가      총생산액  NaN  NaN  \n",
       "1    없음  1800000  90000000  NaN  1.0  \n",
       "2    없음  1200000  30000000  NaN  1.0  "
      ]
     },
     "execution_count": 4,
     "metadata": {},
     "output_type": "execute_result"
    }
   ],
   "source": [
    "forest_production_2016 = pd.read_excel('2016년기준 임산물생산조사(업로드자료).xlsx', thousands=',')\n",
    "forest_production_2016.head(3)"
   ]
  },
  {
   "cell_type": "code",
   "execution_count": 5,
   "metadata": {},
   "outputs": [
    {
     "data": {
      "text/html": [
       "<div>\n",
       "<style scoped>\n",
       "    .dataframe tbody tr th:only-of-type {\n",
       "        vertical-align: middle;\n",
       "    }\n",
       "\n",
       "    .dataframe tbody tr th {\n",
       "        vertical-align: top;\n",
       "    }\n",
       "\n",
       "    .dataframe thead th {\n",
       "        text-align: right;\n",
       "    }\n",
       "</style>\n",
       "<table border=\"1\" class=\"dataframe\">\n",
       "  <thead>\n",
       "    <tr style=\"text-align: right;\">\n",
       "      <th></th>\n",
       "      <th>시도/관리소</th>\n",
       "      <th>재배채취</th>\n",
       "      <th>재배면적</th>\n",
       "      <th>재배단위</th>\n",
       "      <th>소분류</th>\n",
       "      <th>단가</th>\n",
       "      <th>생산량</th>\n",
       "    </tr>\n",
       "  </thead>\n",
       "  <tbody>\n",
       "    <tr>\n",
       "      <th>1</th>\n",
       "      <td>부산광역시</td>\n",
       "      <td>재배</td>\n",
       "      <td>NaN</td>\n",
       "      <td>NaN</td>\n",
       "      <td>밤</td>\n",
       "      <td>1492.52</td>\n",
       "      <td>13691</td>\n",
       "    </tr>\n",
       "    <tr>\n",
       "      <th>2</th>\n",
       "      <td>대구광역시</td>\n",
       "      <td>재배</td>\n",
       "      <td>NaN</td>\n",
       "      <td>NaN</td>\n",
       "      <td>밤</td>\n",
       "      <td>3000.05</td>\n",
       "      <td>23601</td>\n",
       "    </tr>\n",
       "    <tr>\n",
       "      <th>3</th>\n",
       "      <td>대구광역시</td>\n",
       "      <td>재배</td>\n",
       "      <td>NaN</td>\n",
       "      <td>NaN</td>\n",
       "      <td>밤</td>\n",
       "      <td>6251.33</td>\n",
       "      <td>286</td>\n",
       "    </tr>\n",
       "    <tr>\n",
       "      <th>4</th>\n",
       "      <td>인천광역시</td>\n",
       "      <td>재배</td>\n",
       "      <td>NaN</td>\n",
       "      <td>NaN</td>\n",
       "      <td>밤</td>\n",
       "      <td>2999.98</td>\n",
       "      <td>4276</td>\n",
       "    </tr>\n",
       "    <tr>\n",
       "      <th>5</th>\n",
       "      <td>인천광역시</td>\n",
       "      <td>재배</td>\n",
       "      <td>NaN</td>\n",
       "      <td>NaN</td>\n",
       "      <td>밤</td>\n",
       "      <td>2166.66</td>\n",
       "      <td>65701</td>\n",
       "    </tr>\n",
       "  </tbody>\n",
       "</table>\n",
       "</div>"
      ],
      "text/plain": [
       "  시도/관리소 재배채취  재배면적 재배단위 소분류       단가    생산량\n",
       "1  부산광역시   재배   NaN  NaN   밤  1492.52  13691\n",
       "2  대구광역시   재배   NaN  NaN   밤  3000.05  23601\n",
       "3  대구광역시   재배   NaN  NaN   밤  6251.33    286\n",
       "4  인천광역시   재배   NaN  NaN   밤  2999.98   4276\n",
       "5  인천광역시   재배   NaN  NaN   밤  2166.66  65701"
      ]
     },
     "execution_count": 5,
     "metadata": {},
     "output_type": "execute_result"
    }
   ],
   "source": [
    "forest_production_2016 = forest_production_2016.iloc[1:, [1, 8, 9, 10, 6, 14, 11]]\n",
    "forest_production_2016.rename(columns={'면적' : '재배면적',\n",
    "                                       '면적 단위' : '재배단위',\n",
    "                                       '금년.3' : '단가',\n",
    "                                       '금년' : '생산량'},\n",
    "                              inplace = True)\n",
    "forest_production_2015.head()"
   ]
  },
  {
   "cell_type": "code",
   "execution_count": 6,
   "metadata": {},
   "outputs": [
    {
     "name": "stdout",
     "output_type": "stream",
     "text": [
      "(111329, 7)\n"
     ]
    }
   ],
   "source": [
    "print(forest_production_2016.shape)"
   ]
  },
  {
   "cell_type": "markdown",
   "metadata": {},
   "source": [
    "### 2017년도"
   ]
  },
  {
   "cell_type": "code",
   "execution_count": 7,
   "metadata": {},
   "outputs": [
    {
     "data": {
      "text/html": [
       "<div>\n",
       "<style scoped>\n",
       "    .dataframe tbody tr th:only-of-type {\n",
       "        vertical-align: middle;\n",
       "    }\n",
       "\n",
       "    .dataframe tbody tr th {\n",
       "        vertical-align: top;\n",
       "    }\n",
       "\n",
       "    .dataframe thead th {\n",
       "        text-align: right;\n",
       "    }\n",
       "</style>\n",
       "<table border=\"1\" class=\"dataframe\">\n",
       "  <thead>\n",
       "    <tr style=\"text-align: right;\">\n",
       "      <th></th>\n",
       "      <th>시도/청</th>\n",
       "      <th>시군구/관리소</th>\n",
       "      <th>임가번호</th>\n",
       "      <th>구분(재배/채취)</th>\n",
       "      <th>구분(재배/채취).1</th>\n",
       "      <th>구분(재배/채취).2</th>\n",
       "      <th>Unnamed: 6</th>\n",
       "      <th>구분(재배/채취).3</th>\n",
       "      <th>품목</th>\n",
       "      <th>품목.1</th>\n",
       "      <th>품목.2</th>\n",
       "      <th>품목.3</th>\n",
       "      <th>최종값</th>\n",
       "      <th>Unnamed: 13</th>\n",
       "      <th>Unnamed: 14</th>\n",
       "      <th>비고</th>\n",
       "      <th>점검사항</th>\n",
       "      <th>등록자</th>\n",
       "      <th>최초등록일</th>\n",
       "      <th>최종수정일</th>\n",
       "    </tr>\n",
       "  </thead>\n",
       "  <tbody>\n",
       "    <tr>\n",
       "      <th>0</th>\n",
       "      <td>NaN</td>\n",
       "      <td>NaN</td>\n",
       "      <td>NaN</td>\n",
       "      <td>재배채취</td>\n",
       "      <td>재배기준</td>\n",
       "      <td>재배면적</td>\n",
       "      <td>환산면적</td>\n",
       "      <td>재배단위</td>\n",
       "      <td>대분류</td>\n",
       "      <td>중분류</td>\n",
       "      <td>소분류</td>\n",
       "      <td>품목단위</td>\n",
       "      <td>생산량</td>\n",
       "      <td>단가</td>\n",
       "      <td>생산액</td>\n",
       "      <td>NaN</td>\n",
       "      <td>NaN</td>\n",
       "      <td>NaN</td>\n",
       "      <td>NaN</td>\n",
       "      <td>NaN</td>\n",
       "    </tr>\n",
       "    <tr>\n",
       "      <th>1</th>\n",
       "      <td>서울특별시</td>\n",
       "      <td>종로구</td>\n",
       "      <td>341235.0</td>\n",
       "      <td>채취</td>\n",
       "      <td>NaN</td>\n",
       "      <td>0</td>\n",
       "      <td>0</td>\n",
       "      <td>㎡</td>\n",
       "      <td>수실</td>\n",
       "      <td>재배수실</td>\n",
       "      <td>은행</td>\n",
       "      <td>kg</td>\n",
       "      <td>36920</td>\n",
       "      <td>3000</td>\n",
       "      <td>110760000</td>\n",
       "      <td>3영급 (20년생 이상)의 나무</td>\n",
       "      <td>NaN</td>\n",
       "      <td>A1001P101</td>\n",
       "      <td>2018-04-24</td>\n",
       "      <td>2018-04-24</td>\n",
       "    </tr>\n",
       "    <tr>\n",
       "      <th>2</th>\n",
       "      <td>서울특별시</td>\n",
       "      <td>중구</td>\n",
       "      <td>341243.0</td>\n",
       "      <td>채취</td>\n",
       "      <td>NaN</td>\n",
       "      <td>0</td>\n",
       "      <td>0</td>\n",
       "      <td>㎡</td>\n",
       "      <td>수실</td>\n",
       "      <td>재배수실</td>\n",
       "      <td>은행</td>\n",
       "      <td>kg</td>\n",
       "      <td>22720</td>\n",
       "      <td>3000</td>\n",
       "      <td>68160000</td>\n",
       "      <td>3영급 (20년생 이상)의 나무</td>\n",
       "      <td>NaN</td>\n",
       "      <td>A1001P101</td>\n",
       "      <td>2018-04-24</td>\n",
       "      <td>2018-04-24</td>\n",
       "    </tr>\n",
       "  </tbody>\n",
       "</table>\n",
       "</div>"
      ],
      "text/plain": [
       "    시도/청 시군구/관리소      임가번호 구분(재배/채취) 구분(재배/채취).1 구분(재배/채취).2 Unnamed: 6  \\\n",
       "0    NaN     NaN       NaN      재배채취        재배기준        재배면적       환산면적   \n",
       "1  서울특별시     종로구  341235.0        채취         NaN           0          0   \n",
       "2  서울특별시      중구  341243.0        채취         NaN           0          0   \n",
       "\n",
       "  구분(재배/채취).3   품목  품목.1 품목.2  품목.3    최종값 Unnamed: 13 Unnamed: 14  \\\n",
       "0        재배단위  대분류   중분류  소분류  품목단위    생산량          단가         생산액   \n",
       "1           ㎡   수실  재배수실   은행    kg  36920        3000   110760000   \n",
       "2           ㎡   수실  재배수실   은행    kg  22720        3000    68160000   \n",
       "\n",
       "                  비고  점검사항        등록자       최초등록일       최종수정일  \n",
       "0                NaN   NaN        NaN         NaN         NaN  \n",
       "1  3영급 (20년생 이상)의 나무   NaN  A1001P101  2018-04-24  2018-04-24  \n",
       "2  3영급 (20년생 이상)의 나무   NaN  A1001P101  2018-04-24  2018-04-24  "
      ]
     },
     "execution_count": 7,
     "metadata": {},
     "output_type": "execute_result"
    }
   ],
   "source": [
    "forest_production_2017 = pd.read_excel('2017년 기준 임산물생산조사(업로드자료).xlsx', thousands=',')\n",
    "forest_production_2017.head(3)"
   ]
  },
  {
   "cell_type": "code",
   "execution_count": 8,
   "metadata": {},
   "outputs": [
    {
     "data": {
      "text/html": [
       "<div>\n",
       "<style scoped>\n",
       "    .dataframe tbody tr th:only-of-type {\n",
       "        vertical-align: middle;\n",
       "    }\n",
       "\n",
       "    .dataframe tbody tr th {\n",
       "        vertical-align: top;\n",
       "    }\n",
       "\n",
       "    .dataframe thead th {\n",
       "        text-align: right;\n",
       "    }\n",
       "</style>\n",
       "<table border=\"1\" class=\"dataframe\">\n",
       "  <thead>\n",
       "    <tr style=\"text-align: right;\">\n",
       "      <th></th>\n",
       "      <th>시도/관리소</th>\n",
       "      <th>재배채취</th>\n",
       "      <th>재배면적</th>\n",
       "      <th>재배단위</th>\n",
       "      <th>소분류</th>\n",
       "      <th>단가</th>\n",
       "      <th>생산량</th>\n",
       "    </tr>\n",
       "  </thead>\n",
       "  <tbody>\n",
       "    <tr>\n",
       "      <th>1</th>\n",
       "      <td>종로구</td>\n",
       "      <td>채취</td>\n",
       "      <td>0</td>\n",
       "      <td>㎡</td>\n",
       "      <td>은행</td>\n",
       "      <td>3000</td>\n",
       "      <td>36920</td>\n",
       "    </tr>\n",
       "    <tr>\n",
       "      <th>2</th>\n",
       "      <td>중구</td>\n",
       "      <td>채취</td>\n",
       "      <td>0</td>\n",
       "      <td>㎡</td>\n",
       "      <td>은행</td>\n",
       "      <td>3000</td>\n",
       "      <td>22720</td>\n",
       "    </tr>\n",
       "    <tr>\n",
       "      <th>3</th>\n",
       "      <td>용산구</td>\n",
       "      <td>채취</td>\n",
       "      <td>0</td>\n",
       "      <td>㎡</td>\n",
       "      <td>은행</td>\n",
       "      <td>3000</td>\n",
       "      <td>41440</td>\n",
       "    </tr>\n",
       "    <tr>\n",
       "      <th>4</th>\n",
       "      <td>성동구</td>\n",
       "      <td>채취</td>\n",
       "      <td>0</td>\n",
       "      <td>㎡</td>\n",
       "      <td>은행</td>\n",
       "      <td>3000</td>\n",
       "      <td>9960</td>\n",
       "    </tr>\n",
       "    <tr>\n",
       "      <th>5</th>\n",
       "      <td>광진구</td>\n",
       "      <td>채취</td>\n",
       "      <td>0</td>\n",
       "      <td>㎡</td>\n",
       "      <td>은행</td>\n",
       "      <td>3000</td>\n",
       "      <td>12800</td>\n",
       "    </tr>\n",
       "  </tbody>\n",
       "</table>\n",
       "</div>"
      ],
      "text/plain": [
       "  시도/관리소 재배채취 재배면적 재배단위 소분류    단가    생산량\n",
       "1    종로구   채취    0    ㎡  은행  3000  36920\n",
       "2     중구   채취    0    ㎡  은행  3000  22720\n",
       "3    용산구   채취    0    ㎡  은행  3000  41440\n",
       "4    성동구   채취    0    ㎡  은행  3000   9960\n",
       "5    광진구   채취    0    ㎡  은행  3000  12800"
      ]
     },
     "execution_count": 8,
     "metadata": {},
     "output_type": "execute_result"
    }
   ],
   "source": [
    "forest_production_2017 = forest_production_2017.iloc[1:, [1, 3, 5, 7, 10, 13, 12]]\n",
    "forest_production_2017.rename(columns={'시군구/관리소' : '시도/관리소',\n",
    "                                        '구분(재배/채취)' : '재배채취',\n",
    "                                        '구분(재배/채취).1' : '재배기준',\n",
    "                                        '구분(재배/채취).2' : '재배면적',\n",
    "                                        '구분(재배/채취).3' : '재배단위',\n",
    "                                        '품목.2' : '소분류',\n",
    "                                        'Unnamed: 13' : '단가',\n",
    "                                        '최종값' : '생산량'},\n",
    "                             inplace = True)\n",
    "forest_production_2017.head()"
   ]
  },
  {
   "cell_type": "code",
   "execution_count": 9,
   "metadata": {},
   "outputs": [
    {
     "name": "stdout",
     "output_type": "stream",
     "text": [
      "(106879, 7)\n"
     ]
    }
   ],
   "source": [
    "print(forest_production_2017.shape)"
   ]
  },
  {
   "cell_type": "markdown",
   "metadata": {},
   "source": [
    "### 2018년도"
   ]
  },
  {
   "cell_type": "code",
   "execution_count": 10,
   "metadata": {},
   "outputs": [
    {
     "data": {
      "text/html": [
       "<div>\n",
       "<style scoped>\n",
       "    .dataframe tbody tr th:only-of-type {\n",
       "        vertical-align: middle;\n",
       "    }\n",
       "\n",
       "    .dataframe tbody tr th {\n",
       "        vertical-align: top;\n",
       "    }\n",
       "\n",
       "    .dataframe thead th {\n",
       "        text-align: right;\n",
       "    }\n",
       "</style>\n",
       "<table border=\"1\" class=\"dataframe\">\n",
       "  <thead>\n",
       "    <tr style=\"text-align: right;\">\n",
       "      <th></th>\n",
       "      <th>시도/청</th>\n",
       "      <th>시도/관리소</th>\n",
       "      <th>시군구</th>\n",
       "      <th>재배채취</th>\n",
       "      <th>재배기준</th>\n",
       "      <th>재배면적</th>\n",
       "      <th>재배단위</th>\n",
       "      <th>대분류</th>\n",
       "      <th>중분류</th>\n",
       "      <th>소분류</th>\n",
       "      <th>...</th>\n",
       "      <th>생산기준</th>\n",
       "      <th>비고</th>\n",
       "      <th>생산량</th>\n",
       "      <th>단가</th>\n",
       "      <th>총생산액</th>\n",
       "      <th>시도/청.1</th>\n",
       "      <th>시군구.1</th>\n",
       "      <th>관계</th>\n",
       "      <th>기타관계</th>\n",
       "      <th>임가번호</th>\n",
       "    </tr>\n",
       "  </thead>\n",
       "  <tbody>\n",
       "    <tr>\n",
       "      <th>0</th>\n",
       "      <td>서울특별시</td>\n",
       "      <td>서울특별시</td>\n",
       "      <td>금천구</td>\n",
       "      <td>채취</td>\n",
       "      <td>산지</td>\n",
       "      <td>200.0</td>\n",
       "      <td>평</td>\n",
       "      <td>산나물</td>\n",
       "      <td>산나물</td>\n",
       "      <td>두릅</td>\n",
       "      <td>...</td>\n",
       "      <td>생채(kg)</td>\n",
       "      <td>NaN</td>\n",
       "      <td>1000.0</td>\n",
       "      <td>20000.0</td>\n",
       "      <td>20000000.0</td>\n",
       "      <td>서울특별시</td>\n",
       "      <td>금천구</td>\n",
       "      <td>본인</td>\n",
       "      <td>NaN</td>\n",
       "      <td>437261.0</td>\n",
       "    </tr>\n",
       "    <tr>\n",
       "      <th>1</th>\n",
       "      <td>서울특별시</td>\n",
       "      <td>서울특별시</td>\n",
       "      <td>강남구</td>\n",
       "      <td>채취</td>\n",
       "      <td>노지</td>\n",
       "      <td>800.0</td>\n",
       "      <td>평</td>\n",
       "      <td>조경재</td>\n",
       "      <td>조경수</td>\n",
       "      <td>벚나무</td>\n",
       "      <td>...</td>\n",
       "      <td>없음</td>\n",
       "      <td>NaN</td>\n",
       "      <td>100.0</td>\n",
       "      <td>30000.0</td>\n",
       "      <td>3000000.0</td>\n",
       "      <td>서울특별시</td>\n",
       "      <td>강남구</td>\n",
       "      <td>본인</td>\n",
       "      <td>NaN</td>\n",
       "      <td>423159.0</td>\n",
       "    </tr>\n",
       "    <tr>\n",
       "      <th>2</th>\n",
       "      <td>부산광역시</td>\n",
       "      <td>부산광역시</td>\n",
       "      <td>부산서구</td>\n",
       "      <td>채취</td>\n",
       "      <td>산지</td>\n",
       "      <td>1500.0</td>\n",
       "      <td>평</td>\n",
       "      <td>조경재</td>\n",
       "      <td>조경수</td>\n",
       "      <td>느티나무류</td>\n",
       "      <td>...</td>\n",
       "      <td>없음</td>\n",
       "      <td>수령60년</td>\n",
       "      <td>1.0</td>\n",
       "      <td>5900000.0</td>\n",
       "      <td>5900000.0</td>\n",
       "      <td>부산광역시</td>\n",
       "      <td>부산서구</td>\n",
       "      <td>본인</td>\n",
       "      <td>NaN</td>\n",
       "      <td>902670.0</td>\n",
       "    </tr>\n",
       "  </tbody>\n",
       "</table>\n",
       "<p>3 rows × 21 columns</p>\n",
       "</div>"
      ],
      "text/plain": [
       "    시도/청 시도/관리소   시군구 재배채취 재배기준    재배면적 재배단위  대분류  중분류    소분류  ...    생산기준  \\\n",
       "0  서울특별시  서울특별시   금천구   채취   산지   200.0    평  산나물  산나물     두릅  ...  생채(kg)   \n",
       "1  서울특별시  서울특별시   강남구   채취   노지   800.0    평  조경재  조경수    벚나무  ...      없음   \n",
       "2  부산광역시  부산광역시  부산서구   채취   산지  1500.0    평  조경재  조경수  느티나무류  ...      없음   \n",
       "\n",
       "      비고     생산량         단가        총생산액  시도/청.1 시군구.1  관계 기타관계      임가번호  \n",
       "0    NaN  1000.0    20000.0  20000000.0   서울특별시   금천구  본인  NaN  437261.0  \n",
       "1    NaN   100.0    30000.0   3000000.0   서울특별시   강남구  본인  NaN  423159.0  \n",
       "2  수령60년     1.0  5900000.0   5900000.0   부산광역시  부산서구  본인  NaN  902670.0  \n",
       "\n",
       "[3 rows x 21 columns]"
      ]
     },
     "execution_count": 10,
     "metadata": {},
     "output_type": "execute_result"
    }
   ],
   "source": [
    "forest_production_2018 = pd.read_excel('2018년 기준 임산물생산조사(업로드자료) - 정정.xlsx', thousands=',')\n",
    "forest_production_2018.head(3)"
   ]
  },
  {
   "cell_type": "code",
   "execution_count": 11,
   "metadata": {},
   "outputs": [
    {
     "data": {
      "text/html": [
       "<div>\n",
       "<style scoped>\n",
       "    .dataframe tbody tr th:only-of-type {\n",
       "        vertical-align: middle;\n",
       "    }\n",
       "\n",
       "    .dataframe tbody tr th {\n",
       "        vertical-align: top;\n",
       "    }\n",
       "\n",
       "    .dataframe thead th {\n",
       "        text-align: right;\n",
       "    }\n",
       "</style>\n",
       "<table border=\"1\" class=\"dataframe\">\n",
       "  <thead>\n",
       "    <tr style=\"text-align: right;\">\n",
       "      <th></th>\n",
       "      <th>시도/관리소</th>\n",
       "      <th>재배채취</th>\n",
       "      <th>재배면적</th>\n",
       "      <th>재배단위</th>\n",
       "      <th>소분류</th>\n",
       "      <th>단가</th>\n",
       "      <th>생산량</th>\n",
       "    </tr>\n",
       "  </thead>\n",
       "  <tbody>\n",
       "    <tr>\n",
       "      <th>0</th>\n",
       "      <td>서울특별시</td>\n",
       "      <td>채취</td>\n",
       "      <td>200.0</td>\n",
       "      <td>평</td>\n",
       "      <td>두릅</td>\n",
       "      <td>20000.0</td>\n",
       "      <td>1000.0</td>\n",
       "    </tr>\n",
       "    <tr>\n",
       "      <th>1</th>\n",
       "      <td>서울특별시</td>\n",
       "      <td>채취</td>\n",
       "      <td>800.0</td>\n",
       "      <td>평</td>\n",
       "      <td>벚나무</td>\n",
       "      <td>30000.0</td>\n",
       "      <td>100.0</td>\n",
       "    </tr>\n",
       "    <tr>\n",
       "      <th>2</th>\n",
       "      <td>부산광역시</td>\n",
       "      <td>채취</td>\n",
       "      <td>1500.0</td>\n",
       "      <td>평</td>\n",
       "      <td>느티나무류</td>\n",
       "      <td>5900000.0</td>\n",
       "      <td>1.0</td>\n",
       "    </tr>\n",
       "    <tr>\n",
       "      <th>3</th>\n",
       "      <td>부산광역시</td>\n",
       "      <td>채취</td>\n",
       "      <td>1500.0</td>\n",
       "      <td>평</td>\n",
       "      <td>동백나무</td>\n",
       "      <td>610000.0</td>\n",
       "      <td>540.0</td>\n",
       "    </tr>\n",
       "    <tr>\n",
       "      <th>4</th>\n",
       "      <td>부산광역시</td>\n",
       "      <td>채취</td>\n",
       "      <td>1500.0</td>\n",
       "      <td>평</td>\n",
       "      <td>주목</td>\n",
       "      <td>148000.0</td>\n",
       "      <td>1.0</td>\n",
       "    </tr>\n",
       "  </tbody>\n",
       "</table>\n",
       "</div>"
      ],
      "text/plain": [
       "  시도/관리소 재배채취    재배면적 재배단위    소분류         단가     생산량\n",
       "0  서울특별시   채취   200.0    평     두릅    20000.0  1000.0\n",
       "1  서울특별시   채취   800.0    평    벚나무    30000.0   100.0\n",
       "2  부산광역시   채취  1500.0    평  느티나무류  5900000.0     1.0\n",
       "3  부산광역시   채취  1500.0    평   동백나무   610000.0   540.0\n",
       "4  부산광역시   채취  1500.0    평     주목   148000.0     1.0"
      ]
     },
     "execution_count": 11,
     "metadata": {},
     "output_type": "execute_result"
    }
   ],
   "source": [
    "forest_production_2018 = forest_production_2018.iloc[:, [1, 3, 5, 6, 9, 14, 13]]\n",
    "forest_production_2018.rename(columns={'품목.2' : '소분류',\n",
    "                                      '최종값' : '생산량'},\n",
    "                             inplace = True)\n",
    "forest_production_2018.head()"
   ]
  },
  {
   "cell_type": "code",
   "execution_count": 12,
   "metadata": {},
   "outputs": [
    {
     "name": "stdout",
     "output_type": "stream",
     "text": [
      "(111479, 7)\n"
     ]
    }
   ],
   "source": [
    "print(forest_production_2018.shape)"
   ]
  },
  {
   "cell_type": "markdown",
   "metadata": {},
   "source": [
    "## concatenate data"
   ]
  },
  {
   "cell_type": "code",
   "execution_count": 112,
   "metadata": {},
   "outputs": [
    {
     "data": {
      "text/html": [
       "<div>\n",
       "<style scoped>\n",
       "    .dataframe tbody tr th:only-of-type {\n",
       "        vertical-align: middle;\n",
       "    }\n",
       "\n",
       "    .dataframe tbody tr th {\n",
       "        vertical-align: top;\n",
       "    }\n",
       "\n",
       "    .dataframe thead th {\n",
       "        text-align: right;\n",
       "    }\n",
       "</style>\n",
       "<table border=\"1\" class=\"dataframe\">\n",
       "  <thead>\n",
       "    <tr style=\"text-align: right;\">\n",
       "      <th></th>\n",
       "      <th>시도/관리소</th>\n",
       "      <th>재배채취</th>\n",
       "      <th>재배면적</th>\n",
       "      <th>재배단위</th>\n",
       "      <th>소분류</th>\n",
       "      <th>단가</th>\n",
       "      <th>생산량</th>\n",
       "    </tr>\n",
       "  </thead>\n",
       "  <tbody>\n",
       "    <tr>\n",
       "      <th>1</th>\n",
       "      <td>부산광역시</td>\n",
       "      <td>재배</td>\n",
       "      <td>NaN</td>\n",
       "      <td>NaN</td>\n",
       "      <td>밤</td>\n",
       "      <td>1492.52</td>\n",
       "      <td>13691</td>\n",
       "    </tr>\n",
       "    <tr>\n",
       "      <th>2</th>\n",
       "      <td>대구광역시</td>\n",
       "      <td>재배</td>\n",
       "      <td>NaN</td>\n",
       "      <td>NaN</td>\n",
       "      <td>밤</td>\n",
       "      <td>3000.05</td>\n",
       "      <td>23601</td>\n",
       "    </tr>\n",
       "    <tr>\n",
       "      <th>3</th>\n",
       "      <td>대구광역시</td>\n",
       "      <td>재배</td>\n",
       "      <td>NaN</td>\n",
       "      <td>NaN</td>\n",
       "      <td>밤</td>\n",
       "      <td>6251.33</td>\n",
       "      <td>286</td>\n",
       "    </tr>\n",
       "    <tr>\n",
       "      <th>4</th>\n",
       "      <td>인천광역시</td>\n",
       "      <td>재배</td>\n",
       "      <td>NaN</td>\n",
       "      <td>NaN</td>\n",
       "      <td>밤</td>\n",
       "      <td>2999.98</td>\n",
       "      <td>4276</td>\n",
       "    </tr>\n",
       "    <tr>\n",
       "      <th>5</th>\n",
       "      <td>인천광역시</td>\n",
       "      <td>재배</td>\n",
       "      <td>NaN</td>\n",
       "      <td>NaN</td>\n",
       "      <td>밤</td>\n",
       "      <td>2166.66</td>\n",
       "      <td>65701</td>\n",
       "    </tr>\n",
       "    <tr>\n",
       "      <th>...</th>\n",
       "      <td>...</td>\n",
       "      <td>...</td>\n",
       "      <td>...</td>\n",
       "      <td>...</td>\n",
       "      <td>...</td>\n",
       "      <td>...</td>\n",
       "      <td>...</td>\n",
       "    </tr>\n",
       "    <tr>\n",
       "      <th>111474</th>\n",
       "      <td>경상남도</td>\n",
       "      <td>NaN</td>\n",
       "      <td>NaN</td>\n",
       "      <td>NaN</td>\n",
       "      <td>활엽수</td>\n",
       "      <td>78072</td>\n",
       "      <td>562313</td>\n",
       "    </tr>\n",
       "    <tr>\n",
       "      <th>111475</th>\n",
       "      <td>경상남도</td>\n",
       "      <td>NaN</td>\n",
       "      <td>NaN</td>\n",
       "      <td>NaN</td>\n",
       "      <td>혼효림</td>\n",
       "      <td>85549</td>\n",
       "      <td>744866</td>\n",
       "    </tr>\n",
       "    <tr>\n",
       "      <th>111476</th>\n",
       "      <td>제주특별자치도</td>\n",
       "      <td>NaN</td>\n",
       "      <td>NaN</td>\n",
       "      <td>NaN</td>\n",
       "      <td>침엽수</td>\n",
       "      <td>97794</td>\n",
       "      <td>132416</td>\n",
       "    </tr>\n",
       "    <tr>\n",
       "      <th>111477</th>\n",
       "      <td>제주특별자치도</td>\n",
       "      <td>NaN</td>\n",
       "      <td>NaN</td>\n",
       "      <td>NaN</td>\n",
       "      <td>활엽수</td>\n",
       "      <td>93949</td>\n",
       "      <td>128837</td>\n",
       "    </tr>\n",
       "    <tr>\n",
       "      <th>111478</th>\n",
       "      <td>제주특별자치도</td>\n",
       "      <td>NaN</td>\n",
       "      <td>NaN</td>\n",
       "      <td>NaN</td>\n",
       "      <td>혼효림</td>\n",
       "      <td>95789</td>\n",
       "      <td>57820</td>\n",
       "    </tr>\n",
       "  </tbody>\n",
       "</table>\n",
       "<p>437272 rows × 7 columns</p>\n",
       "</div>"
      ],
      "text/plain": [
       "         시도/관리소 재배채취 재배면적 재배단위  소분류       단가     생산량\n",
       "1         부산광역시   재배  NaN  NaN    밤  1492.52   13691\n",
       "2         대구광역시   재배  NaN  NaN    밤  3000.05   23601\n",
       "3         대구광역시   재배  NaN  NaN    밤  6251.33     286\n",
       "4         인천광역시   재배  NaN  NaN    밤  2999.98    4276\n",
       "5         인천광역시   재배  NaN  NaN    밤  2166.66   65701\n",
       "...         ...  ...  ...  ...  ...      ...     ...\n",
       "111474     경상남도  NaN  NaN  NaN  활엽수    78072  562313\n",
       "111475     경상남도  NaN  NaN  NaN  혼효림    85549  744866\n",
       "111476  제주특별자치도  NaN  NaN  NaN  침엽수    97794  132416\n",
       "111477  제주특별자치도  NaN  NaN  NaN  활엽수    93949  128837\n",
       "111478  제주특별자치도  NaN  NaN  NaN  혼효림    95789   57820\n",
       "\n",
       "[437272 rows x 7 columns]"
      ]
     },
     "execution_count": 112,
     "metadata": {},
     "output_type": "execute_result"
    }
   ],
   "source": [
    "data = pd.concat([forest_production_2015,\n",
    "                  forest_production_2016,\n",
    "                  forest_production_2017,\n",
    "                  forest_production_2018], axis=0)\n",
    "data"
   ]
  },
  {
   "cell_type": "code",
   "execution_count": 113,
   "metadata": {},
   "outputs": [
    {
     "data": {
      "text/html": [
       "<div>\n",
       "<style scoped>\n",
       "    .dataframe tbody tr th:only-of-type {\n",
       "        vertical-align: middle;\n",
       "    }\n",
       "\n",
       "    .dataframe tbody tr th {\n",
       "        vertical-align: top;\n",
       "    }\n",
       "\n",
       "    .dataframe thead th {\n",
       "        text-align: right;\n",
       "    }\n",
       "</style>\n",
       "<table border=\"1\" class=\"dataframe\">\n",
       "  <thead>\n",
       "    <tr style=\"text-align: right;\">\n",
       "      <th></th>\n",
       "      <th>시도/관리소</th>\n",
       "      <th>재배채취</th>\n",
       "      <th>재배면적</th>\n",
       "      <th>재배단위</th>\n",
       "      <th>소분류</th>\n",
       "      <th>단가</th>\n",
       "      <th>생산량</th>\n",
       "    </tr>\n",
       "  </thead>\n",
       "  <tbody>\n",
       "    <tr>\n",
       "      <th>1</th>\n",
       "      <td>부산광역시</td>\n",
       "      <td>재배</td>\n",
       "      <td>NaN</td>\n",
       "      <td>NaN</td>\n",
       "      <td>밤</td>\n",
       "      <td>1492.52</td>\n",
       "      <td>13691</td>\n",
       "    </tr>\n",
       "    <tr>\n",
       "      <th>2</th>\n",
       "      <td>대구광역시</td>\n",
       "      <td>재배</td>\n",
       "      <td>NaN</td>\n",
       "      <td>NaN</td>\n",
       "      <td>밤</td>\n",
       "      <td>3000.05</td>\n",
       "      <td>23601</td>\n",
       "    </tr>\n",
       "    <tr>\n",
       "      <th>3</th>\n",
       "      <td>대구광역시</td>\n",
       "      <td>재배</td>\n",
       "      <td>NaN</td>\n",
       "      <td>NaN</td>\n",
       "      <td>밤</td>\n",
       "      <td>6251.33</td>\n",
       "      <td>286</td>\n",
       "    </tr>\n",
       "    <tr>\n",
       "      <th>4</th>\n",
       "      <td>인천광역시</td>\n",
       "      <td>재배</td>\n",
       "      <td>NaN</td>\n",
       "      <td>NaN</td>\n",
       "      <td>밤</td>\n",
       "      <td>2999.98</td>\n",
       "      <td>4276</td>\n",
       "    </tr>\n",
       "    <tr>\n",
       "      <th>5</th>\n",
       "      <td>인천광역시</td>\n",
       "      <td>재배</td>\n",
       "      <td>NaN</td>\n",
       "      <td>NaN</td>\n",
       "      <td>밤</td>\n",
       "      <td>2166.66</td>\n",
       "      <td>65701</td>\n",
       "    </tr>\n",
       "    <tr>\n",
       "      <th>...</th>\n",
       "      <td>...</td>\n",
       "      <td>...</td>\n",
       "      <td>...</td>\n",
       "      <td>...</td>\n",
       "      <td>...</td>\n",
       "      <td>...</td>\n",
       "      <td>...</td>\n",
       "    </tr>\n",
       "    <tr>\n",
       "      <th>110440</th>\n",
       "      <td>충청북도</td>\n",
       "      <td>NaN</td>\n",
       "      <td>NaN</td>\n",
       "      <td>NaN</td>\n",
       "      <td>오미자</td>\n",
       "      <td>18587</td>\n",
       "      <td>71549</td>\n",
       "    </tr>\n",
       "    <tr>\n",
       "      <th>110448</th>\n",
       "      <td>울산광역시</td>\n",
       "      <td>NaN</td>\n",
       "      <td>NaN</td>\n",
       "      <td>NaN</td>\n",
       "      <td>더덕</td>\n",
       "      <td>16500</td>\n",
       "      <td>160</td>\n",
       "    </tr>\n",
       "    <tr>\n",
       "      <th>110452</th>\n",
       "      <td>경상북도</td>\n",
       "      <td>NaN</td>\n",
       "      <td>NaN</td>\n",
       "      <td>NaN</td>\n",
       "      <td>더덕</td>\n",
       "      <td>16500</td>\n",
       "      <td>17452</td>\n",
       "    </tr>\n",
       "    <tr>\n",
       "      <th>110458</th>\n",
       "      <td>대전광역시</td>\n",
       "      <td>NaN</td>\n",
       "      <td>NaN</td>\n",
       "      <td>NaN</td>\n",
       "      <td>더덕</td>\n",
       "      <td>16500</td>\n",
       "      <td>150</td>\n",
       "    </tr>\n",
       "    <tr>\n",
       "      <th>110459</th>\n",
       "      <td>울산광역시</td>\n",
       "      <td>NaN</td>\n",
       "      <td>NaN</td>\n",
       "      <td>NaN</td>\n",
       "      <td>더덕</td>\n",
       "      <td>16500</td>\n",
       "      <td>50</td>\n",
       "    </tr>\n",
       "  </tbody>\n",
       "</table>\n",
       "<p>24893 rows × 7 columns</p>\n",
       "</div>"
      ],
      "text/plain": [
       "       시도/관리소 재배채취 재배면적 재배단위  소분류       단가    생산량\n",
       "1       부산광역시   재배  NaN  NaN    밤  1492.52  13691\n",
       "2       대구광역시   재배  NaN  NaN    밤  3000.05  23601\n",
       "3       대구광역시   재배  NaN  NaN    밤  6251.33    286\n",
       "4       인천광역시   재배  NaN  NaN    밤  2999.98   4276\n",
       "5       인천광역시   재배  NaN  NaN    밤  2166.66  65701\n",
       "...       ...  ...  ...  ...  ...      ...    ...\n",
       "110440   충청북도  NaN  NaN  NaN  오미자    18587  71549\n",
       "110448  울산광역시  NaN  NaN  NaN   더덕    16500    160\n",
       "110452   경상북도  NaN  NaN  NaN   더덕    16500  17452\n",
       "110458  대전광역시  NaN  NaN  NaN   더덕    16500    150\n",
       "110459  울산광역시  NaN  NaN  NaN   더덕    16500     50\n",
       "\n",
       "[24893 rows x 7 columns]"
      ]
     },
     "execution_count": 113,
     "metadata": {},
     "output_type": "execute_result"
    }
   ],
   "source": [
    "data = data[data['소분류'].isin(['밤', '호두', '대추', '떫은감', '건표고', '생표고', '더덕', '오미자'])]\n",
    "data"
   ]
  },
  {
   "cell_type": "markdown",
   "metadata": {},
   "source": [
    "### Check NaNs"
   ]
  },
  {
   "cell_type": "code",
   "execution_count": 114,
   "metadata": {},
   "outputs": [],
   "source": [
    "data.replace({'생산량': {' - ' : np.NaN}, '단가': {' - ' : np.NaN}},\n",
    "             inplace=True)"
   ]
  },
  {
   "cell_type": "code",
   "execution_count": 115,
   "metadata": {
    "scrolled": true
   },
   "outputs": [
    {
     "data": {
      "text/plain": [
       "시도/관리소       0\n",
       "재배채취      2068\n",
       "재배면적      5314\n",
       "재배단위      2967\n",
       "소분류          0\n",
       "단가          28\n",
       "생산량        689\n",
       "dtype: int64"
      ]
     },
     "execution_count": 115,
     "metadata": {},
     "output_type": "execute_result"
    }
   ],
   "source": [
    "data.isnull().sum()"
   ]
  },
  {
   "cell_type": "code",
   "execution_count": 116,
   "metadata": {},
   "outputs": [
    {
     "data": {
      "text/plain": [
       "시도/관리소     object\n",
       "재배채취       object\n",
       "재배면적       object\n",
       "재배단위       object\n",
       "소분류        object\n",
       "단가        float64\n",
       "생산량       float64\n",
       "dtype: object"
      ]
     },
     "execution_count": 116,
     "metadata": {},
     "output_type": "execute_result"
    }
   ],
   "source": [
    "data.dtypes"
   ]
  },
  {
   "cell_type": "code",
   "execution_count": 117,
   "metadata": {},
   "outputs": [
    {
     "data": {
      "text/html": [
       "<div>\n",
       "<style scoped>\n",
       "    .dataframe tbody tr th:only-of-type {\n",
       "        vertical-align: middle;\n",
       "    }\n",
       "\n",
       "    .dataframe tbody tr th {\n",
       "        vertical-align: top;\n",
       "    }\n",
       "\n",
       "    .dataframe thead th {\n",
       "        text-align: right;\n",
       "    }\n",
       "</style>\n",
       "<table border=\"1\" class=\"dataframe\">\n",
       "  <thead>\n",
       "    <tr style=\"text-align: right;\">\n",
       "      <th></th>\n",
       "      <th>시도/관리소</th>\n",
       "      <th>재배채취</th>\n",
       "      <th>재배면적</th>\n",
       "      <th>재배단위</th>\n",
       "      <th>소분류</th>\n",
       "      <th>단가</th>\n",
       "      <th>생산량</th>\n",
       "    </tr>\n",
       "  </thead>\n",
       "  <tbody>\n",
       "    <tr>\n",
       "      <th>1</th>\n",
       "      <td>부산광역시</td>\n",
       "      <td>재배</td>\n",
       "      <td>NaN</td>\n",
       "      <td>NaN</td>\n",
       "      <td>밤</td>\n",
       "      <td>1492.52</td>\n",
       "      <td>13691.0</td>\n",
       "    </tr>\n",
       "    <tr>\n",
       "      <th>2</th>\n",
       "      <td>대구광역시</td>\n",
       "      <td>재배</td>\n",
       "      <td>NaN</td>\n",
       "      <td>NaN</td>\n",
       "      <td>밤</td>\n",
       "      <td>3000.05</td>\n",
       "      <td>23601.0</td>\n",
       "    </tr>\n",
       "    <tr>\n",
       "      <th>3</th>\n",
       "      <td>대구광역시</td>\n",
       "      <td>재배</td>\n",
       "      <td>NaN</td>\n",
       "      <td>NaN</td>\n",
       "      <td>밤</td>\n",
       "      <td>6251.33</td>\n",
       "      <td>286.0</td>\n",
       "    </tr>\n",
       "    <tr>\n",
       "      <th>4</th>\n",
       "      <td>인천광역시</td>\n",
       "      <td>재배</td>\n",
       "      <td>NaN</td>\n",
       "      <td>NaN</td>\n",
       "      <td>밤</td>\n",
       "      <td>2999.98</td>\n",
       "      <td>4276.0</td>\n",
       "    </tr>\n",
       "    <tr>\n",
       "      <th>5</th>\n",
       "      <td>인천광역시</td>\n",
       "      <td>재배</td>\n",
       "      <td>NaN</td>\n",
       "      <td>NaN</td>\n",
       "      <td>밤</td>\n",
       "      <td>2166.66</td>\n",
       "      <td>65701.0</td>\n",
       "    </tr>\n",
       "    <tr>\n",
       "      <th>...</th>\n",
       "      <td>...</td>\n",
       "      <td>...</td>\n",
       "      <td>...</td>\n",
       "      <td>...</td>\n",
       "      <td>...</td>\n",
       "      <td>...</td>\n",
       "      <td>...</td>\n",
       "    </tr>\n",
       "    <tr>\n",
       "      <th>110440</th>\n",
       "      <td>충청북도</td>\n",
       "      <td>NaN</td>\n",
       "      <td>NaN</td>\n",
       "      <td>NaN</td>\n",
       "      <td>오미자</td>\n",
       "      <td>18587.00</td>\n",
       "      <td>71549.0</td>\n",
       "    </tr>\n",
       "    <tr>\n",
       "      <th>110448</th>\n",
       "      <td>울산광역시</td>\n",
       "      <td>NaN</td>\n",
       "      <td>NaN</td>\n",
       "      <td>NaN</td>\n",
       "      <td>더덕</td>\n",
       "      <td>16500.00</td>\n",
       "      <td>160.0</td>\n",
       "    </tr>\n",
       "    <tr>\n",
       "      <th>110452</th>\n",
       "      <td>경상북도</td>\n",
       "      <td>NaN</td>\n",
       "      <td>NaN</td>\n",
       "      <td>NaN</td>\n",
       "      <td>더덕</td>\n",
       "      <td>16500.00</td>\n",
       "      <td>17452.0</td>\n",
       "    </tr>\n",
       "    <tr>\n",
       "      <th>110458</th>\n",
       "      <td>대전광역시</td>\n",
       "      <td>NaN</td>\n",
       "      <td>NaN</td>\n",
       "      <td>NaN</td>\n",
       "      <td>더덕</td>\n",
       "      <td>16500.00</td>\n",
       "      <td>150.0</td>\n",
       "    </tr>\n",
       "    <tr>\n",
       "      <th>110459</th>\n",
       "      <td>울산광역시</td>\n",
       "      <td>NaN</td>\n",
       "      <td>NaN</td>\n",
       "      <td>NaN</td>\n",
       "      <td>더덕</td>\n",
       "      <td>16500.00</td>\n",
       "      <td>50.0</td>\n",
       "    </tr>\n",
       "  </tbody>\n",
       "</table>\n",
       "<p>24893 rows × 7 columns</p>\n",
       "</div>"
      ],
      "text/plain": [
       "       시도/관리소 재배채취 재배면적 재배단위  소분류        단가      생산량\n",
       "1       부산광역시   재배  NaN  NaN    밤   1492.52  13691.0\n",
       "2       대구광역시   재배  NaN  NaN    밤   3000.05  23601.0\n",
       "3       대구광역시   재배  NaN  NaN    밤   6251.33    286.0\n",
       "4       인천광역시   재배  NaN  NaN    밤   2999.98   4276.0\n",
       "5       인천광역시   재배  NaN  NaN    밤   2166.66  65701.0\n",
       "...       ...  ...  ...  ...  ...       ...      ...\n",
       "110440   충청북도  NaN  NaN  NaN  오미자  18587.00  71549.0\n",
       "110448  울산광역시  NaN  NaN  NaN   더덕  16500.00    160.0\n",
       "110452   경상북도  NaN  NaN  NaN   더덕  16500.00  17452.0\n",
       "110458  대전광역시  NaN  NaN  NaN   더덕  16500.00    150.0\n",
       "110459  울산광역시  NaN  NaN  NaN   더덕  16500.00     50.0\n",
       "\n",
       "[24893 rows x 7 columns]"
      ]
     },
     "execution_count": 117,
     "metadata": {},
     "output_type": "execute_result"
    }
   ],
   "source": [
    "data"
   ]
  },
  {
   "cell_type": "code",
   "execution_count": 119,
   "metadata": {},
   "outputs": [
    {
     "data": {
      "text/html": [
       "<div>\n",
       "<style scoped>\n",
       "    .dataframe tbody tr th:only-of-type {\n",
       "        vertical-align: middle;\n",
       "    }\n",
       "\n",
       "    .dataframe tbody tr th {\n",
       "        vertical-align: top;\n",
       "    }\n",
       "\n",
       "    .dataframe thead th {\n",
       "        text-align: right;\n",
       "    }\n",
       "</style>\n",
       "<table border=\"1\" class=\"dataframe\">\n",
       "  <thead>\n",
       "    <tr style=\"text-align: right;\">\n",
       "      <th></th>\n",
       "      <th>시도/관리소</th>\n",
       "      <th>재배채취</th>\n",
       "      <th>재배면적</th>\n",
       "      <th>재배단위</th>\n",
       "      <th>소분류</th>\n",
       "      <th>단가</th>\n",
       "      <th>생산량</th>\n",
       "    </tr>\n",
       "  </thead>\n",
       "  <tbody>\n",
       "    <tr>\n",
       "      <th>45514</th>\n",
       "      <td>경상북도</td>\n",
       "      <td>재배</td>\n",
       "      <td>20000</td>\n",
       "      <td>㎡</td>\n",
       "      <td>더덕</td>\n",
       "      <td>14874.0</td>\n",
       "      <td>1.0</td>\n",
       "    </tr>\n",
       "    <tr>\n",
       "      <th>45515</th>\n",
       "      <td>경상남도</td>\n",
       "      <td>재배</td>\n",
       "      <td>2</td>\n",
       "      <td>평</td>\n",
       "      <td>더덕</td>\n",
       "      <td>14874.0</td>\n",
       "      <td>1.0</td>\n",
       "    </tr>\n",
       "    <tr>\n",
       "      <th>45516</th>\n",
       "      <td>경상북도</td>\n",
       "      <td>재배</td>\n",
       "      <td>20000</td>\n",
       "      <td>㎡</td>\n",
       "      <td>더덕</td>\n",
       "      <td>14874.0</td>\n",
       "      <td>1.0</td>\n",
       "    </tr>\n",
       "    <tr>\n",
       "      <th>45518</th>\n",
       "      <td>전라북도</td>\n",
       "      <td>재배</td>\n",
       "      <td>30</td>\n",
       "      <td>평</td>\n",
       "      <td>더덕</td>\n",
       "      <td>14874.0</td>\n",
       "      <td>1.0</td>\n",
       "    </tr>\n",
       "    <tr>\n",
       "      <th>45519</th>\n",
       "      <td>경상남도</td>\n",
       "      <td>재배</td>\n",
       "      <td>2</td>\n",
       "      <td>평</td>\n",
       "      <td>더덕</td>\n",
       "      <td>14874.0</td>\n",
       "      <td>1.0</td>\n",
       "    </tr>\n",
       "    <tr>\n",
       "      <th>...</th>\n",
       "      <td>...</td>\n",
       "      <td>...</td>\n",
       "      <td>...</td>\n",
       "      <td>...</td>\n",
       "      <td>...</td>\n",
       "      <td>...</td>\n",
       "      <td>...</td>\n",
       "    </tr>\n",
       "    <tr>\n",
       "      <th>107252</th>\n",
       "      <td>정읍관리소</td>\n",
       "      <td>재배</td>\n",
       "      <td>50</td>\n",
       "      <td>ha</td>\n",
       "      <td>떫은감</td>\n",
       "      <td>11750.0</td>\n",
       "      <td>0.0</td>\n",
       "    </tr>\n",
       "    <tr>\n",
       "      <th>107253</th>\n",
       "      <td>정읍관리소</td>\n",
       "      <td>재배</td>\n",
       "      <td>15</td>\n",
       "      <td>ha</td>\n",
       "      <td>떫은감</td>\n",
       "      <td>11750.0</td>\n",
       "      <td>0.0</td>\n",
       "    </tr>\n",
       "    <tr>\n",
       "      <th>107254</th>\n",
       "      <td>정읍관리소</td>\n",
       "      <td>재배</td>\n",
       "      <td>80</td>\n",
       "      <td>ha</td>\n",
       "      <td>떫은감</td>\n",
       "      <td>11750.0</td>\n",
       "      <td>0.0</td>\n",
       "    </tr>\n",
       "    <tr>\n",
       "      <th>107256</th>\n",
       "      <td>정읍관리소</td>\n",
       "      <td>재배</td>\n",
       "      <td>78</td>\n",
       "      <td>ha</td>\n",
       "      <td>떫은감</td>\n",
       "      <td>11750.0</td>\n",
       "      <td>0.0</td>\n",
       "    </tr>\n",
       "    <tr>\n",
       "      <th>107269</th>\n",
       "      <td>무주관리소</td>\n",
       "      <td>채취</td>\n",
       "      <td>3</td>\n",
       "      <td>ha</td>\n",
       "      <td>밤</td>\n",
       "      <td>1517.0</td>\n",
       "      <td>0.0</td>\n",
       "    </tr>\n",
       "  </tbody>\n",
       "</table>\n",
       "<p>19035 rows × 7 columns</p>\n",
       "</div>"
      ],
      "text/plain": [
       "       시도/관리소 재배채취   재배면적 재배단위  소분류       단가  생산량\n",
       "45514    경상북도   재배  20000    ㎡   더덕  14874.0  1.0\n",
       "45515    경상남도   재배      2    평   더덕  14874.0  1.0\n",
       "45516    경상북도   재배  20000    ㎡   더덕  14874.0  1.0\n",
       "45518    전라북도   재배     30    평   더덕  14874.0  1.0\n",
       "45519    경상남도   재배      2    평   더덕  14874.0  1.0\n",
       "...       ...  ...    ...  ...  ...      ...  ...\n",
       "107252  정읍관리소   재배     50   ha  떫은감  11750.0  0.0\n",
       "107253  정읍관리소   재배     15   ha  떫은감  11750.0  0.0\n",
       "107254  정읍관리소   재배     80   ha  떫은감  11750.0  0.0\n",
       "107256  정읍관리소   재배     78   ha  떫은감  11750.0  0.0\n",
       "107269  무주관리소   채취      3   ha    밤   1517.0  0.0\n",
       "\n",
       "[19035 rows x 7 columns]"
      ]
     },
     "execution_count": 119,
     "metadata": {},
     "output_type": "execute_result"
    }
   ],
   "source": [
    "data.astype({'재배면적': 'float64',\n",
    "             '단가' : 'float64',\n",
    "             '생산량' : 'float64'})\n",
    "\n",
    "data.dropna(axis=0, inplace=True)\n",
    "data"
   ]
  },
  {
   "cell_type": "code",
   "execution_count": 20,
   "metadata": {},
   "outputs": [
    {
     "data": {
      "text/plain": [
       "오미자    12818\n",
       "더덕      5406\n",
       "생표고      156\n",
       "대추       141\n",
       "떫은감      139\n",
       "밤        138\n",
       "건표고      135\n",
       "호두       102\n",
       "Name: 소분류, dtype: int64"
      ]
     },
     "execution_count": 20,
     "metadata": {},
     "output_type": "execute_result"
    }
   ],
   "source": [
    "data['소분류'].value_counts()"
   ]
  },
  {
   "cell_type": "code",
   "execution_count": 21,
   "metadata": {},
   "outputs": [
    {
     "data": {
      "text/plain": [
       "평     16217\n",
       "㎡      2295\n",
       "봉       289\n",
       "ha      234\n",
       "Name: 재배단위, dtype: int64"
      ]
     },
     "execution_count": 21,
     "metadata": {},
     "output_type": "execute_result"
    }
   ],
   "source": [
    "data['재배단위'].value_counts()"
   ]
  },
  {
   "cell_type": "markdown",
   "metadata": {},
   "source": [
    "# variable preprocessing and Visualization"
   ]
  },
  {
   "cell_type": "markdown",
   "metadata": {},
   "source": [
    "### 시도/관리소"
   ]
  },
  {
   "cell_type": "code",
   "execution_count": 22,
   "metadata": {},
   "outputs": [
    {
     "data": {
      "text/plain": [
       "경상북도     3401\n",
       "전라북도     1825\n",
       "강원도      1701\n",
       "경상남도     1461\n",
       "문경시      1154\n",
       "         ... \n",
       "구리시         1\n",
       "전주시         1\n",
       "신안군         1\n",
       "수성구         1\n",
       "인제관리소       1\n",
       "Name: 시도/관리소, Length: 187, dtype: int64"
      ]
     },
     "execution_count": 22,
     "metadata": {},
     "output_type": "execute_result"
    }
   ],
   "source": [
    "data['시도/관리소'].value_counts()"
   ]
  },
  {
   "cell_type": "code",
   "execution_count": 23,
   "metadata": {},
   "outputs": [
    {
     "data": {
      "image/png": "[encoded data removed]",
      "text/plain": [
       "<Figure size 2160x1080 with 1 Axes>"
      ]
     },
     "metadata": {
      "needs_background": "light"
     },
     "output_type": "display_data"
    }
   ],
   "source": [
    "import matplotlib.pyplot as plt\n",
    "import seaborn as sns\n",
    "plt.rcParams['font.family'] = 'NanumGothic' # mac os : AppleGothic, windows : NanumGothic\n",
    "plt.rcParams[\"axes.labelsize\"] = 15\n",
    "\n",
    "ax = plt.figure(figsize=(30,15))\n",
    "sns.countplot(x=\"시도/관리소\", data=data)\n",
    "plt.title('전국 분포', fontsize=30)\n",
    "plt.show()"
   ]
  },
  {
   "cell_type": "markdown",
   "metadata": {},
   "source": [
    "### 재배채취"
   ]
  },
  {
   "cell_type": "code",
   "execution_count": 24,
   "metadata": {},
   "outputs": [
    {
     "data": {
      "image/png": "[encoded data removed]",
      "text/plain": [
       "<Figure size 720x576 with 1 Axes>"
      ]
     },
     "metadata": {
      "needs_background": "light"
     },
     "output_type": "display_data"
    }
   ],
   "source": [
    "ax = plt.figure(figsize=(10,8))\n",
    "sns.countplot(x=\"재배채취\", data=data)\n",
    "plt.show()"
   ]
  },
  {
   "cell_type": "markdown",
   "metadata": {},
   "source": [
    "### 재배단위"
   ]
  },
  {
   "cell_type": "code",
   "execution_count": 25,
   "metadata": {},
   "outputs": [
    {
     "data": {
      "image/png": "[encoded data removed]",
      "text/plain": [
       "<Figure size 720x576 with 1 Axes>"
      ]
     },
     "metadata": {
      "needs_background": "light"
     },
     "output_type": "display_data"
    }
   ],
   "source": [
    "ax = plt.figure(figsize=(10,8))\n",
    "sns.countplot(x=\"재배단위\", data=data)\n",
    "plt.show()"
   ]
  },
  {
   "cell_type": "markdown",
   "metadata": {},
   "source": [
    "### 재배면적"
   ]
  },
  {
   "cell_type": "code",
   "execution_count": 26,
   "metadata": {},
   "outputs": [],
   "source": [
    "#data.replace({'재배면적': {0 : np.NaN}},\n",
    "#             inplace=True)\n",
    "#data.dropna(axis=0, inplace=True)"
   ]
  },
  {
   "cell_type": "code",
   "execution_count": 27,
   "metadata": {},
   "outputs": [
    {
     "data": {
      "image/png": "[encoded data removed]",
      "text/plain": [
       "<Figure size 432x288 with 1 Axes>"
      ]
     },
     "metadata": {
      "needs_background": "light"
     },
     "output_type": "display_data"
    },
    {
     "data": {
      "image/png": "[encoded data removed]",
      "text/plain": [
       "<Figure size 432x288 with 1 Axes>"
      ]
     },
     "metadata": {
      "needs_background": "light"
     },
     "output_type": "display_data"
    }
   ],
   "source": [
    "data['재배면적'].hist(bins=30)\n",
    "plt.title('재배면적 히스토그램')\n",
    "plt.show()\n",
    "\n",
    "pd.Series(np.log1p(data['재배면적'].astype(float))).hist(bins=30)\n",
    "plt.title('log(재배면적 + 1) 히스토그램')\n",
    "plt.show()"
   ]
  },
  {
   "cell_type": "code",
   "execution_count": 28,
   "metadata": {},
   "outputs": [
    {
     "data": {
      "text/html": [
       "<div>\n",
       "<style scoped>\n",
       "    .dataframe tbody tr th:only-of-type {\n",
       "        vertical-align: middle;\n",
       "    }\n",
       "\n",
       "    .dataframe tbody tr th {\n",
       "        vertical-align: top;\n",
       "    }\n",
       "\n",
       "    .dataframe thead th {\n",
       "        text-align: right;\n",
       "    }\n",
       "</style>\n",
       "<table border=\"1\" class=\"dataframe\">\n",
       "  <thead>\n",
       "    <tr style=\"text-align: right;\">\n",
       "      <th></th>\n",
       "      <th>시도/관리소</th>\n",
       "      <th>재배채취</th>\n",
       "      <th>재배면적</th>\n",
       "      <th>재배단위</th>\n",
       "      <th>소분류</th>\n",
       "      <th>단가</th>\n",
       "      <th>생산량</th>\n",
       "    </tr>\n",
       "  </thead>\n",
       "  <tbody>\n",
       "    <tr>\n",
       "      <th>45514</th>\n",
       "      <td>경상북도</td>\n",
       "      <td>재배</td>\n",
       "      <td>9.903538</td>\n",
       "      <td>㎡</td>\n",
       "      <td>더덕</td>\n",
       "      <td>14874.0</td>\n",
       "      <td>1.0</td>\n",
       "    </tr>\n",
       "    <tr>\n",
       "      <th>45515</th>\n",
       "      <td>경상남도</td>\n",
       "      <td>재배</td>\n",
       "      <td>1.098612</td>\n",
       "      <td>평</td>\n",
       "      <td>더덕</td>\n",
       "      <td>14874.0</td>\n",
       "      <td>1.0</td>\n",
       "    </tr>\n",
       "    <tr>\n",
       "      <th>45516</th>\n",
       "      <td>경상북도</td>\n",
       "      <td>재배</td>\n",
       "      <td>9.903538</td>\n",
       "      <td>㎡</td>\n",
       "      <td>더덕</td>\n",
       "      <td>14874.0</td>\n",
       "      <td>1.0</td>\n",
       "    </tr>\n",
       "    <tr>\n",
       "      <th>45518</th>\n",
       "      <td>전라북도</td>\n",
       "      <td>재배</td>\n",
       "      <td>3.433987</td>\n",
       "      <td>평</td>\n",
       "      <td>더덕</td>\n",
       "      <td>14874.0</td>\n",
       "      <td>1.0</td>\n",
       "    </tr>\n",
       "    <tr>\n",
       "      <th>45519</th>\n",
       "      <td>경상남도</td>\n",
       "      <td>재배</td>\n",
       "      <td>1.098612</td>\n",
       "      <td>평</td>\n",
       "      <td>더덕</td>\n",
       "      <td>14874.0</td>\n",
       "      <td>1.0</td>\n",
       "    </tr>\n",
       "  </tbody>\n",
       "</table>\n",
       "</div>"
      ],
      "text/plain": [
       "      시도/관리소 재배채취      재배면적 재배단위 소분류       단가  생산량\n",
       "45514   경상북도   재배  9.903538    ㎡  더덕  14874.0  1.0\n",
       "45515   경상남도   재배  1.098612    평  더덕  14874.0  1.0\n",
       "45516   경상북도   재배  9.903538    ㎡  더덕  14874.0  1.0\n",
       "45518   전라북도   재배  3.433987    평  더덕  14874.0  1.0\n",
       "45519   경상남도   재배  1.098612    평  더덕  14874.0  1.0"
      ]
     },
     "execution_count": 28,
     "metadata": {},
     "output_type": "execute_result"
    }
   ],
   "source": [
    "data['재배면적'] = np.log1p(data['재배면적'].astype(float))\n",
    "data.head()"
   ]
  },
  {
   "cell_type": "markdown",
   "metadata": {},
   "source": [
    "### 품목 소분류"
   ]
  },
  {
   "cell_type": "code",
   "execution_count": 29,
   "metadata": {},
   "outputs": [
    {
     "data": {
      "image/png": "[encoded data removed]",
      "text/plain": [
       "<Figure size 2160x1080 with 1 Axes>"
      ]
     },
     "metadata": {
      "needs_background": "light"
     },
     "output_type": "display_data"
    }
   ],
   "source": [
    "plt.rcParams[\"axes.labelsize\"] = 15\n",
    "\n",
    "ax = plt.figure(figsize=(30,15))\n",
    "sns.countplot(x=\"소분류\", data=data)\n",
    "plt.show()"
   ]
  },
  {
   "cell_type": "markdown",
   "metadata": {},
   "source": [
    "### 단가"
   ]
  },
  {
   "cell_type": "code",
   "execution_count": 30,
   "metadata": {},
   "outputs": [],
   "source": [
    "#data.replace({'단가': {0 : np.NaN}},\n",
    "#             inplace=True)\n",
    "#data.dropna(axis=0, inplace=True)"
   ]
  },
  {
   "cell_type": "code",
   "execution_count": 31,
   "metadata": {},
   "outputs": [
    {
     "data": {
      "image/png": "[encoded data removed]",
      "text/plain": [
       "<Figure size 432x288 with 1 Axes>"
      ]
     },
     "metadata": {
      "needs_background": "light"
     },
     "output_type": "display_data"
    },
    {
     "data": {
      "image/png": "[encoded data removed]",
      "text/plain": [
       "<Figure size 432x288 with 1 Axes>"
      ]
     },
     "metadata": {
      "needs_background": "light"
     },
     "output_type": "display_data"
    }
   ],
   "source": [
    "data['단가'].hist(bins=30)\n",
    "plt.title('단가 히스토그램')\n",
    "plt.show()\n",
    "\n",
    "pd.Series(np.log1p(data['단가'].astype(float))).hist(bins=30)\n",
    "plt.title('log(단가 + 1) 히스토그램')\n",
    "plt.show()"
   ]
  },
  {
   "cell_type": "code",
   "execution_count": 32,
   "metadata": {},
   "outputs": [
    {
     "data": {
      "text/html": [
       "<div>\n",
       "<style scoped>\n",
       "    .dataframe tbody tr th:only-of-type {\n",
       "        vertical-align: middle;\n",
       "    }\n",
       "\n",
       "    .dataframe tbody tr th {\n",
       "        vertical-align: top;\n",
       "    }\n",
       "\n",
       "    .dataframe thead th {\n",
       "        text-align: right;\n",
       "    }\n",
       "</style>\n",
       "<table border=\"1\" class=\"dataframe\">\n",
       "  <thead>\n",
       "    <tr style=\"text-align: right;\">\n",
       "      <th></th>\n",
       "      <th>시도/관리소</th>\n",
       "      <th>재배채취</th>\n",
       "      <th>재배면적</th>\n",
       "      <th>재배단위</th>\n",
       "      <th>소분류</th>\n",
       "      <th>단가</th>\n",
       "      <th>생산량</th>\n",
       "    </tr>\n",
       "  </thead>\n",
       "  <tbody>\n",
       "    <tr>\n",
       "      <th>45514</th>\n",
       "      <td>경상북도</td>\n",
       "      <td>재배</td>\n",
       "      <td>9.903538</td>\n",
       "      <td>㎡</td>\n",
       "      <td>더덕</td>\n",
       "      <td>9.607437</td>\n",
       "      <td>1.0</td>\n",
       "    </tr>\n",
       "    <tr>\n",
       "      <th>45515</th>\n",
       "      <td>경상남도</td>\n",
       "      <td>재배</td>\n",
       "      <td>1.098612</td>\n",
       "      <td>평</td>\n",
       "      <td>더덕</td>\n",
       "      <td>9.607437</td>\n",
       "      <td>1.0</td>\n",
       "    </tr>\n",
       "    <tr>\n",
       "      <th>45516</th>\n",
       "      <td>경상북도</td>\n",
       "      <td>재배</td>\n",
       "      <td>9.903538</td>\n",
       "      <td>㎡</td>\n",
       "      <td>더덕</td>\n",
       "      <td>9.607437</td>\n",
       "      <td>1.0</td>\n",
       "    </tr>\n",
       "    <tr>\n",
       "      <th>45518</th>\n",
       "      <td>전라북도</td>\n",
       "      <td>재배</td>\n",
       "      <td>3.433987</td>\n",
       "      <td>평</td>\n",
       "      <td>더덕</td>\n",
       "      <td>9.607437</td>\n",
       "      <td>1.0</td>\n",
       "    </tr>\n",
       "    <tr>\n",
       "      <th>45519</th>\n",
       "      <td>경상남도</td>\n",
       "      <td>재배</td>\n",
       "      <td>1.098612</td>\n",
       "      <td>평</td>\n",
       "      <td>더덕</td>\n",
       "      <td>9.607437</td>\n",
       "      <td>1.0</td>\n",
       "    </tr>\n",
       "  </tbody>\n",
       "</table>\n",
       "</div>"
      ],
      "text/plain": [
       "      시도/관리소 재배채취      재배면적 재배단위 소분류        단가  생산량\n",
       "45514   경상북도   재배  9.903538    ㎡  더덕  9.607437  1.0\n",
       "45515   경상남도   재배  1.098612    평  더덕  9.607437  1.0\n",
       "45516   경상북도   재배  9.903538    ㎡  더덕  9.607437  1.0\n",
       "45518   전라북도   재배  3.433987    평  더덕  9.607437  1.0\n",
       "45519   경상남도   재배  1.098612    평  더덕  9.607437  1.0"
      ]
     },
     "execution_count": 32,
     "metadata": {},
     "output_type": "execute_result"
    }
   ],
   "source": [
    "data['단가'] = np.log1p(data['단가'].astype(float))\n",
    "data.head()"
   ]
  },
  {
   "cell_type": "markdown",
   "metadata": {},
   "source": [
    "### 생산량"
   ]
  },
  {
   "cell_type": "code",
   "execution_count": 33,
   "metadata": {},
   "outputs": [],
   "source": [
    "#data.replace({'생산량': {0 : np.NaN}},\n",
    "#             inplace=True)\n",
    "#data.dropna(axis=0, inplace=True)"
   ]
  },
  {
   "cell_type": "code",
   "execution_count": 34,
   "metadata": {},
   "outputs": [
    {
     "data": {
      "image/png": "[encoded data removed]",
      "text/plain": [
       "<Figure size 432x288 with 1 Axes>"
      ]
     },
     "metadata": {
      "needs_background": "light"
     },
     "output_type": "display_data"
    },
    {
     "data": {
      "image/png": "[encoded data removed]",
      "text/plain": [
       "<Figure size 432x288 with 1 Axes>"
      ]
     },
     "metadata": {
      "needs_background": "light"
     },
     "output_type": "display_data"
    }
   ],
   "source": [
    "data['생산량'].hist(bins=30)\n",
    "plt.title('생산량 히스토그램')\n",
    "plt.show()\n",
    "\n",
    "pd.Series(np.log1p(data['생산량'].astype(float))).hist(bins=30)\n",
    "plt.title('log(생산량 + 1) 히스토그램')\n",
    "plt.show()"
   ]
  },
  {
   "cell_type": "code",
   "execution_count": 35,
   "metadata": {},
   "outputs": [
    {
     "data": {
      "text/html": [
       "<div>\n",
       "<style scoped>\n",
       "    .dataframe tbody tr th:only-of-type {\n",
       "        vertical-align: middle;\n",
       "    }\n",
       "\n",
       "    .dataframe tbody tr th {\n",
       "        vertical-align: top;\n",
       "    }\n",
       "\n",
       "    .dataframe thead th {\n",
       "        text-align: right;\n",
       "    }\n",
       "</style>\n",
       "<table border=\"1\" class=\"dataframe\">\n",
       "  <thead>\n",
       "    <tr style=\"text-align: right;\">\n",
       "      <th></th>\n",
       "      <th>시도/관리소</th>\n",
       "      <th>재배채취</th>\n",
       "      <th>재배면적</th>\n",
       "      <th>재배단위</th>\n",
       "      <th>소분류</th>\n",
       "      <th>단가</th>\n",
       "      <th>생산량</th>\n",
       "    </tr>\n",
       "  </thead>\n",
       "  <tbody>\n",
       "    <tr>\n",
       "      <th>45514</th>\n",
       "      <td>경상북도</td>\n",
       "      <td>재배</td>\n",
       "      <td>9.903538</td>\n",
       "      <td>㎡</td>\n",
       "      <td>더덕</td>\n",
       "      <td>9.607437</td>\n",
       "      <td>0.693147</td>\n",
       "    </tr>\n",
       "    <tr>\n",
       "      <th>45515</th>\n",
       "      <td>경상남도</td>\n",
       "      <td>재배</td>\n",
       "      <td>1.098612</td>\n",
       "      <td>평</td>\n",
       "      <td>더덕</td>\n",
       "      <td>9.607437</td>\n",
       "      <td>0.693147</td>\n",
       "    </tr>\n",
       "    <tr>\n",
       "      <th>45516</th>\n",
       "      <td>경상북도</td>\n",
       "      <td>재배</td>\n",
       "      <td>9.903538</td>\n",
       "      <td>㎡</td>\n",
       "      <td>더덕</td>\n",
       "      <td>9.607437</td>\n",
       "      <td>0.693147</td>\n",
       "    </tr>\n",
       "    <tr>\n",
       "      <th>45518</th>\n",
       "      <td>전라북도</td>\n",
       "      <td>재배</td>\n",
       "      <td>3.433987</td>\n",
       "      <td>평</td>\n",
       "      <td>더덕</td>\n",
       "      <td>9.607437</td>\n",
       "      <td>0.693147</td>\n",
       "    </tr>\n",
       "    <tr>\n",
       "      <th>45519</th>\n",
       "      <td>경상남도</td>\n",
       "      <td>재배</td>\n",
       "      <td>1.098612</td>\n",
       "      <td>평</td>\n",
       "      <td>더덕</td>\n",
       "      <td>9.607437</td>\n",
       "      <td>0.693147</td>\n",
       "    </tr>\n",
       "  </tbody>\n",
       "</table>\n",
       "</div>"
      ],
      "text/plain": [
       "      시도/관리소 재배채취      재배면적 재배단위 소분류        단가       생산량\n",
       "45514   경상북도   재배  9.903538    ㎡  더덕  9.607437  0.693147\n",
       "45515   경상남도   재배  1.098612    평  더덕  9.607437  0.693147\n",
       "45516   경상북도   재배  9.903538    ㎡  더덕  9.607437  0.693147\n",
       "45518   전라북도   재배  3.433987    평  더덕  9.607437  0.693147\n",
       "45519   경상남도   재배  1.098612    평  더덕  9.607437  0.693147"
      ]
     },
     "execution_count": 35,
     "metadata": {},
     "output_type": "execute_result"
    }
   ],
   "source": [
    "data['생산량'] = np.log1p(data['생산량'].astype(float))\n",
    "data.head()"
   ]
  },
  {
   "cell_type": "code",
   "execution_count": 36,
   "metadata": {},
   "outputs": [
    {
     "data": {
      "image/png": "[encoded data removed]",
      "text/plain": [
       "<Figure size 432x288 with 1 Axes>"
      ]
     },
     "metadata": {
      "needs_background": "light"
     },
     "output_type": "display_data"
    }
   ],
   "source": [
    "sns.scatterplot(x='재배면적', y='생산량', data=data, hue='재배단위')\n",
    "plt.show()"
   ]
  },
  {
   "cell_type": "markdown",
   "metadata": {},
   "source": [
    "## Numerical Variable processing"
   ]
  },
  {
   "cell_type": "code",
   "execution_count": 41,
   "metadata": {
    "scrolled": true
   },
   "outputs": [
    {
     "data": {
      "text/plain": [
       "array([[0.54929885, 0.78710275],\n",
       "       [0.06093444, 0.78710275],\n",
       "       [0.54929885, 0.78710275],\n",
       "       ...,\n",
       "       [0.24373774, 0.76778912],\n",
       "       [0.24235105, 0.76778912],\n",
       "       [0.0768907 , 0.60012308]])"
      ]
     },
     "execution_count": 41,
     "metadata": {},
     "output_type": "execute_result"
    }
   ],
   "source": [
    "from sklearn.preprocessing import MinMaxScaler\n",
    "\n",
    "X_minmax_scaler = MinMaxScaler()\n",
    "X_minmax_scaler.fit(data.loc[:, ['재배면적', '단가']])\n",
    "X_scaled = X_minmax_scaler.transform(data.loc[:, ['재배면적', '단가']])\n",
    "X_scaled"
   ]
  },
  {
   "cell_type": "code",
   "execution_count": 42,
   "metadata": {},
   "outputs": [],
   "source": [
    "#y_minmax_scaler = MinMaxScaler()\n",
    "#y_minmax_scaler.fit(data.loc[:, ['생산량']])\n",
    "#y_scaled = y_minmax_scaler.transform(data.loc[:, ['생산량']])\n",
    "#y_scaled"
   ]
  },
  {
   "cell_type": "markdown",
   "metadata": {},
   "source": [
    "## Categorival variable processing"
   ]
  },
  {
   "cell_type": "code",
   "execution_count": 43,
   "metadata": {},
   "outputs": [
    {
     "name": "stdout",
     "output_type": "stream",
     "text": [
      "[array(['가평군', '강릉시', '강서구', '강원도', '강진군', '강화군', '거제시', '거창군', '경기도',\n",
      "       '경산시', '경상남도', '경상북도', '경주시', '계룡시', '고령군', '고성군', '고양시', '고창군',\n",
      "       '고흥군', '곡성군', '공주시', '과천시', '광산구', '광양시', '광주광역시', '광주시', '괴산군',\n",
      "       '구례군', '구리시', '구미시', '국립산림품종관리센터', '군산시', '군위군', '군포시', '금산군',\n",
      "       '기장군', '김제시', '김천시', '김포시', '김해시', '나주시', '남구', '남양주시', '남원시',\n",
      "       '남해군', '논산시', '단양군', '달성군', '담양군', '당진시', '대구광역시', '대덕구', '대전광역시',\n",
      "       '동구', '동두천시', '동해시', '목포시', '무안군', '무주관리소', '무주군', '문경시', '밀양시',\n",
      "       '보령시', '보성군', '보은군', '봉화군', '부산광역시', '부안군', '부여군', '부천시', '북구',\n",
      "       '사천시', '산청군', '삼척시', '상주시', '서구', '서귀포시', '서산시', '서천군', '성주군',\n",
      "       '세종시', '세종특별자치시', '속초시', '수성구', '수원시', '순창군', '순천시', '시흥시', '신안군',\n",
      "       '아산시', '안동시', '안산시', '안성시', '양구군', '양산시', '양양군', '양주시', '양평군',\n",
      "       '여수시', '여주시', '연천군', '영광군', '영덕군', '영동군', '영암군', '영양군', '영월군',\n",
      "       '영주관리소', '영주시', '영천시', '예산군', '예천군', '오산시', '옥천군', '옹진군', '완도군',\n",
      "       '완주군', '용인시', '울릉군', '울산광역시', '울주군', '울진관리소', '울진군', '원주시', '유성구',\n",
      "       '음성군', '의령군', '의성군', '의정부시', '이천시', '익산시', '인제관리소', '인제군', '인천광역시',\n",
      "       '임실군', '장성군', '장수군', '장흥군', '전라남도', '전라북도', '전주시', '정선군', '정읍관리소',\n",
      "       '정읍시', '제주시', '제주특별자치도', '제천시', '중구', '증평군', '진도군', '진안군', '진주시',\n",
      "       '진천군', '창녕군', '창원시', '천안시', '철원군', '청도군', '청송군', '청양군', '청주시',\n",
      "       '춘천시', '충주시', '충청남도', '충청북도', '칠곡군', '태백시', '태안군', '통영시', '파주시',\n",
      "       '평창군', '평택시', '포천시', '포항시', '하남시', '하동군', '함안군', '함양군', '함평군',\n",
      "       '합천군', '해남군', '홍성군', '홍천군', '화성시', '화순군', '화천군', '횡성군'],\n",
      "      dtype=object), array(['재배', '채취'], dtype=object), array(['ha', '㎡', '봉', '평'], dtype=object), array(['건표고', '대추', '더덕', '떫은감', '밤', '생표고', '오미자', '호두'], dtype=object)]\n",
      "(19035, 201)\n"
     ]
    }
   ],
   "source": [
    "from sklearn.preprocessing import OneHotEncoder\n",
    "\n",
    "onehot_encoder = OneHotEncoder(handle_unknown='ignore')\n",
    "onehot_encoder.fit(data.loc[:, ['시도/관리소', '재배채취', '재배단위', '소분류']])\n",
    "onehot = onehot_encoder.fit_transform(data.loc[:, ['시도/관리소', '재배채취', '재배단위', '소분류']])\n",
    "print(onehot_encoder.categories_)\n",
    "print(onehot.toarray().shape)"
   ]
  },
  {
   "cell_type": "code",
   "execution_count": 44,
   "metadata": {},
   "outputs": [
    {
     "data": {
      "text/html": [
       "<div>\n",
       "<style scoped>\n",
       "    .dataframe tbody tr th:only-of-type {\n",
       "        vertical-align: middle;\n",
       "    }\n",
       "\n",
       "    .dataframe tbody tr th {\n",
       "        vertical-align: top;\n",
       "    }\n",
       "\n",
       "    .dataframe thead th {\n",
       "        text-align: right;\n",
       "    }\n",
       "</style>\n",
       "<table border=\"1\" class=\"dataframe\">\n",
       "  <thead>\n",
       "    <tr style=\"text-align: right;\">\n",
       "      <th></th>\n",
       "      <th>재배면적</th>\n",
       "      <th>단가</th>\n",
       "      <th>0</th>\n",
       "      <th>1</th>\n",
       "      <th>2</th>\n",
       "      <th>3</th>\n",
       "      <th>4</th>\n",
       "      <th>5</th>\n",
       "      <th>6</th>\n",
       "      <th>7</th>\n",
       "      <th>...</th>\n",
       "      <th>191</th>\n",
       "      <th>192</th>\n",
       "      <th>193</th>\n",
       "      <th>194</th>\n",
       "      <th>195</th>\n",
       "      <th>196</th>\n",
       "      <th>197</th>\n",
       "      <th>198</th>\n",
       "      <th>199</th>\n",
       "      <th>200</th>\n",
       "    </tr>\n",
       "  </thead>\n",
       "  <tbody>\n",
       "    <tr>\n",
       "      <th>0</th>\n",
       "      <td>0.549299</td>\n",
       "      <td>0.787103</td>\n",
       "      <td>0.0</td>\n",
       "      <td>0.0</td>\n",
       "      <td>0.0</td>\n",
       "      <td>0.0</td>\n",
       "      <td>0.0</td>\n",
       "      <td>0.0</td>\n",
       "      <td>0.0</td>\n",
       "      <td>0.0</td>\n",
       "      <td>...</td>\n",
       "      <td>0.0</td>\n",
       "      <td>0.0</td>\n",
       "      <td>0.0</td>\n",
       "      <td>0.0</td>\n",
       "      <td>1.0</td>\n",
       "      <td>0.0</td>\n",
       "      <td>0.0</td>\n",
       "      <td>0.0</td>\n",
       "      <td>0.0</td>\n",
       "      <td>0.0</td>\n",
       "    </tr>\n",
       "    <tr>\n",
       "      <th>1</th>\n",
       "      <td>0.060934</td>\n",
       "      <td>0.787103</td>\n",
       "      <td>0.0</td>\n",
       "      <td>0.0</td>\n",
       "      <td>0.0</td>\n",
       "      <td>0.0</td>\n",
       "      <td>0.0</td>\n",
       "      <td>0.0</td>\n",
       "      <td>0.0</td>\n",
       "      <td>0.0</td>\n",
       "      <td>...</td>\n",
       "      <td>0.0</td>\n",
       "      <td>1.0</td>\n",
       "      <td>0.0</td>\n",
       "      <td>0.0</td>\n",
       "      <td>1.0</td>\n",
       "      <td>0.0</td>\n",
       "      <td>0.0</td>\n",
       "      <td>0.0</td>\n",
       "      <td>0.0</td>\n",
       "      <td>0.0</td>\n",
       "    </tr>\n",
       "    <tr>\n",
       "      <th>2</th>\n",
       "      <td>0.549299</td>\n",
       "      <td>0.787103</td>\n",
       "      <td>0.0</td>\n",
       "      <td>0.0</td>\n",
       "      <td>0.0</td>\n",
       "      <td>0.0</td>\n",
       "      <td>0.0</td>\n",
       "      <td>0.0</td>\n",
       "      <td>0.0</td>\n",
       "      <td>0.0</td>\n",
       "      <td>...</td>\n",
       "      <td>0.0</td>\n",
       "      <td>0.0</td>\n",
       "      <td>0.0</td>\n",
       "      <td>0.0</td>\n",
       "      <td>1.0</td>\n",
       "      <td>0.0</td>\n",
       "      <td>0.0</td>\n",
       "      <td>0.0</td>\n",
       "      <td>0.0</td>\n",
       "      <td>0.0</td>\n",
       "    </tr>\n",
       "    <tr>\n",
       "      <th>3</th>\n",
       "      <td>0.190466</td>\n",
       "      <td>0.787103</td>\n",
       "      <td>0.0</td>\n",
       "      <td>0.0</td>\n",
       "      <td>0.0</td>\n",
       "      <td>0.0</td>\n",
       "      <td>0.0</td>\n",
       "      <td>0.0</td>\n",
       "      <td>0.0</td>\n",
       "      <td>0.0</td>\n",
       "      <td>...</td>\n",
       "      <td>0.0</td>\n",
       "      <td>1.0</td>\n",
       "      <td>0.0</td>\n",
       "      <td>0.0</td>\n",
       "      <td>1.0</td>\n",
       "      <td>0.0</td>\n",
       "      <td>0.0</td>\n",
       "      <td>0.0</td>\n",
       "      <td>0.0</td>\n",
       "      <td>0.0</td>\n",
       "    </tr>\n",
       "    <tr>\n",
       "      <th>4</th>\n",
       "      <td>0.060934</td>\n",
       "      <td>0.787103</td>\n",
       "      <td>0.0</td>\n",
       "      <td>0.0</td>\n",
       "      <td>0.0</td>\n",
       "      <td>0.0</td>\n",
       "      <td>0.0</td>\n",
       "      <td>0.0</td>\n",
       "      <td>0.0</td>\n",
       "      <td>0.0</td>\n",
       "      <td>...</td>\n",
       "      <td>0.0</td>\n",
       "      <td>1.0</td>\n",
       "      <td>0.0</td>\n",
       "      <td>0.0</td>\n",
       "      <td>1.0</td>\n",
       "      <td>0.0</td>\n",
       "      <td>0.0</td>\n",
       "      <td>0.0</td>\n",
       "      <td>0.0</td>\n",
       "      <td>0.0</td>\n",
       "    </tr>\n",
       "    <tr>\n",
       "      <th>...</th>\n",
       "      <td>...</td>\n",
       "      <td>...</td>\n",
       "      <td>...</td>\n",
       "      <td>...</td>\n",
       "      <td>...</td>\n",
       "      <td>...</td>\n",
       "      <td>...</td>\n",
       "      <td>...</td>\n",
       "      <td>...</td>\n",
       "      <td>...</td>\n",
       "      <td>...</td>\n",
       "      <td>...</td>\n",
       "      <td>...</td>\n",
       "      <td>...</td>\n",
       "      <td>...</td>\n",
       "      <td>...</td>\n",
       "      <td>...</td>\n",
       "      <td>...</td>\n",
       "      <td>...</td>\n",
       "      <td>...</td>\n",
       "      <td>...</td>\n",
       "    </tr>\n",
       "    <tr>\n",
       "      <th>19030</th>\n",
       "      <td>0.218078</td>\n",
       "      <td>0.767789</td>\n",
       "      <td>0.0</td>\n",
       "      <td>0.0</td>\n",
       "      <td>0.0</td>\n",
       "      <td>0.0</td>\n",
       "      <td>0.0</td>\n",
       "      <td>0.0</td>\n",
       "      <td>0.0</td>\n",
       "      <td>0.0</td>\n",
       "      <td>...</td>\n",
       "      <td>0.0</td>\n",
       "      <td>0.0</td>\n",
       "      <td>0.0</td>\n",
       "      <td>0.0</td>\n",
       "      <td>0.0</td>\n",
       "      <td>1.0</td>\n",
       "      <td>0.0</td>\n",
       "      <td>0.0</td>\n",
       "      <td>0.0</td>\n",
       "      <td>0.0</td>\n",
       "    </tr>\n",
       "    <tr>\n",
       "      <th>19031</th>\n",
       "      <td>0.153781</td>\n",
       "      <td>0.767789</td>\n",
       "      <td>0.0</td>\n",
       "      <td>0.0</td>\n",
       "      <td>0.0</td>\n",
       "      <td>0.0</td>\n",
       "      <td>0.0</td>\n",
       "      <td>0.0</td>\n",
       "      <td>0.0</td>\n",
       "      <td>0.0</td>\n",
       "      <td>...</td>\n",
       "      <td>0.0</td>\n",
       "      <td>0.0</td>\n",
       "      <td>0.0</td>\n",
       "      <td>0.0</td>\n",
       "      <td>0.0</td>\n",
       "      <td>1.0</td>\n",
       "      <td>0.0</td>\n",
       "      <td>0.0</td>\n",
       "      <td>0.0</td>\n",
       "      <td>0.0</td>\n",
       "    </tr>\n",
       "    <tr>\n",
       "      <th>19032</th>\n",
       "      <td>0.243738</td>\n",
       "      <td>0.767789</td>\n",
       "      <td>0.0</td>\n",
       "      <td>0.0</td>\n",
       "      <td>0.0</td>\n",
       "      <td>0.0</td>\n",
       "      <td>0.0</td>\n",
       "      <td>0.0</td>\n",
       "      <td>0.0</td>\n",
       "      <td>0.0</td>\n",
       "      <td>...</td>\n",
       "      <td>0.0</td>\n",
       "      <td>0.0</td>\n",
       "      <td>0.0</td>\n",
       "      <td>0.0</td>\n",
       "      <td>0.0</td>\n",
       "      <td>1.0</td>\n",
       "      <td>0.0</td>\n",
       "      <td>0.0</td>\n",
       "      <td>0.0</td>\n",
       "      <td>0.0</td>\n",
       "    </tr>\n",
       "    <tr>\n",
       "      <th>19033</th>\n",
       "      <td>0.242351</td>\n",
       "      <td>0.767789</td>\n",
       "      <td>0.0</td>\n",
       "      <td>0.0</td>\n",
       "      <td>0.0</td>\n",
       "      <td>0.0</td>\n",
       "      <td>0.0</td>\n",
       "      <td>0.0</td>\n",
       "      <td>0.0</td>\n",
       "      <td>0.0</td>\n",
       "      <td>...</td>\n",
       "      <td>0.0</td>\n",
       "      <td>0.0</td>\n",
       "      <td>0.0</td>\n",
       "      <td>0.0</td>\n",
       "      <td>0.0</td>\n",
       "      <td>1.0</td>\n",
       "      <td>0.0</td>\n",
       "      <td>0.0</td>\n",
       "      <td>0.0</td>\n",
       "      <td>0.0</td>\n",
       "    </tr>\n",
       "    <tr>\n",
       "      <th>19034</th>\n",
       "      <td>0.076891</td>\n",
       "      <td>0.600123</td>\n",
       "      <td>0.0</td>\n",
       "      <td>0.0</td>\n",
       "      <td>0.0</td>\n",
       "      <td>0.0</td>\n",
       "      <td>0.0</td>\n",
       "      <td>0.0</td>\n",
       "      <td>0.0</td>\n",
       "      <td>0.0</td>\n",
       "      <td>...</td>\n",
       "      <td>0.0</td>\n",
       "      <td>0.0</td>\n",
       "      <td>0.0</td>\n",
       "      <td>0.0</td>\n",
       "      <td>0.0</td>\n",
       "      <td>0.0</td>\n",
       "      <td>1.0</td>\n",
       "      <td>0.0</td>\n",
       "      <td>0.0</td>\n",
       "      <td>0.0</td>\n",
       "    </tr>\n",
       "  </tbody>\n",
       "</table>\n",
       "<p>19035 rows × 203 columns</p>\n",
       "</div>"
      ],
      "text/plain": [
       "           재배면적        단가    0    1    2    3    4    5    6    7  ...  191  \\\n",
       "0      0.549299  0.787103  0.0  0.0  0.0  0.0  0.0  0.0  0.0  0.0  ...  0.0   \n",
       "1      0.060934  0.787103  0.0  0.0  0.0  0.0  0.0  0.0  0.0  0.0  ...  0.0   \n",
       "2      0.549299  0.787103  0.0  0.0  0.0  0.0  0.0  0.0  0.0  0.0  ...  0.0   \n",
       "3      0.190466  0.787103  0.0  0.0  0.0  0.0  0.0  0.0  0.0  0.0  ...  0.0   \n",
       "4      0.060934  0.787103  0.0  0.0  0.0  0.0  0.0  0.0  0.0  0.0  ...  0.0   \n",
       "...         ...       ...  ...  ...  ...  ...  ...  ...  ...  ...  ...  ...   \n",
       "19030  0.218078  0.767789  0.0  0.0  0.0  0.0  0.0  0.0  0.0  0.0  ...  0.0   \n",
       "19031  0.153781  0.767789  0.0  0.0  0.0  0.0  0.0  0.0  0.0  0.0  ...  0.0   \n",
       "19032  0.243738  0.767789  0.0  0.0  0.0  0.0  0.0  0.0  0.0  0.0  ...  0.0   \n",
       "19033  0.242351  0.767789  0.0  0.0  0.0  0.0  0.0  0.0  0.0  0.0  ...  0.0   \n",
       "19034  0.076891  0.600123  0.0  0.0  0.0  0.0  0.0  0.0  0.0  0.0  ...  0.0   \n",
       "\n",
       "       192  193  194  195  196  197  198  199  200  \n",
       "0      0.0  0.0  0.0  1.0  0.0  0.0  0.0  0.0  0.0  \n",
       "1      1.0  0.0  0.0  1.0  0.0  0.0  0.0  0.0  0.0  \n",
       "2      0.0  0.0  0.0  1.0  0.0  0.0  0.0  0.0  0.0  \n",
       "3      1.0  0.0  0.0  1.0  0.0  0.0  0.0  0.0  0.0  \n",
       "4      1.0  0.0  0.0  1.0  0.0  0.0  0.0  0.0  0.0  \n",
       "...    ...  ...  ...  ...  ...  ...  ...  ...  ...  \n",
       "19030  0.0  0.0  0.0  0.0  1.0  0.0  0.0  0.0  0.0  \n",
       "19031  0.0  0.0  0.0  0.0  1.0  0.0  0.0  0.0  0.0  \n",
       "19032  0.0  0.0  0.0  0.0  1.0  0.0  0.0  0.0  0.0  \n",
       "19033  0.0  0.0  0.0  0.0  1.0  0.0  0.0  0.0  0.0  \n",
       "19034  0.0  0.0  0.0  0.0  0.0  1.0  0.0  0.0  0.0  \n",
       "\n",
       "[19035 rows x 203 columns]"
      ]
     },
     "execution_count": 44,
     "metadata": {},
     "output_type": "execute_result"
    }
   ],
   "source": [
    "numeric_data_df = pd.DataFrame(X_scaled, columns=['재배면적', '단가'])\n",
    "onehot_data_df = pd.DataFrame(onehot.toarray())\n",
    "\n",
    "X_data_df = pd.concat([numeric_data_df , onehot_data_df], axis=1)\n",
    "X_data_df"
   ]
  },
  {
   "cell_type": "code",
   "execution_count": 49,
   "metadata": {},
   "outputs": [
    {
     "name": "stdout",
     "output_type": "stream",
     "text": [
      "(19035, 203) (19035,)\n"
     ]
    }
   ],
   "source": [
    "X_data = np.array(X_data_df)\n",
    "#y_data = y_scaled.reshape(-1,)\n",
    "y_data = np.array(data.loc[:, '생산량'])\n",
    "\n",
    "print(X_data.shape, y_data.shape)"
   ]
  },
  {
   "cell_type": "markdown",
   "metadata": {},
   "source": [
    "# Train Test split"
   ]
  },
  {
   "cell_type": "code",
   "execution_count": 50,
   "metadata": {},
   "outputs": [
    {
     "name": "stdout",
     "output_type": "stream",
     "text": [
      "(15228, 203) (15228,)\n",
      "(3807, 203) (3807,)\n"
     ]
    }
   ],
   "source": [
    "from sklearn.model_selection import train_test_split\n",
    "\n",
    "X_train, X_test, y_train, y_test = train_test_split(X_data, y_data,\n",
    "                                                    test_size=0.2,\n",
    "                                                    random_state=1000)\n",
    "print(X_train.shape, y_train.shape)\n",
    "print(X_test.shape, y_test.shape)"
   ]
  },
  {
   "cell_type": "markdown",
   "metadata": {},
   "source": [
    "# Modeling"
   ]
  },
  {
   "cell_type": "markdown",
   "metadata": {},
   "source": [
    "## Decision Tree"
   ]
  },
  {
   "cell_type": "code",
   "execution_count": 51,
   "metadata": {},
   "outputs": [
    {
     "data": {
      "text/plain": [
       "DecisionTreeRegressor(ccp_alpha=0.0, criterion='mse', max_depth=None,\n",
       "                      max_features=None, max_leaf_nodes=None,\n",
       "                      min_impurity_decrease=0.0, min_impurity_split=None,\n",
       "                      min_samples_leaf=1, min_samples_split=2,\n",
       "                      min_weight_fraction_leaf=0.0, presort='deprecated',\n",
       "                      random_state=1000, splitter='best')"
      ]
     },
     "execution_count": 51,
     "metadata": {},
     "output_type": "execute_result"
    }
   ],
   "source": [
    "from sklearn.tree import DecisionTreeRegressor\n",
    "from sklearn.metrics import mean_squared_error\n",
    "\n",
    "dt = DecisionTreeRegressor(random_state=1000)\n",
    "dt.fit(X_train, y_train)"
   ]
  },
  {
   "cell_type": "code",
   "execution_count": 52,
   "metadata": {},
   "outputs": [
    {
     "name": "stdout",
     "output_type": "stream",
     "text": [
      "[8.51739317 0.         5.77144112 9.30200756 0.         0.\n",
      " 0.         3.04452244 0.         1.79175947]\n"
     ]
    }
   ],
   "source": [
    "dt_pred = dt.predict(X_test)\n",
    "print(dt_pred[:10])"
   ]
  },
  {
   "cell_type": "code",
   "execution_count": 53,
   "metadata": {},
   "outputs": [
    {
     "data": {
      "text/plain": [
       "1.1064563621513253"
      ]
     },
     "execution_count": 53,
     "metadata": {},
     "output_type": "execute_result"
    }
   ],
   "source": [
    "mean_squared_error(y_test, dt_pred)"
   ]
  },
  {
   "cell_type": "markdown",
   "metadata": {},
   "source": [
    "## RandomForest"
   ]
  },
  {
   "cell_type": "code",
   "execution_count": 54,
   "metadata": {},
   "outputs": [
    {
     "data": {
      "text/plain": [
       "RandomForestRegressor(bootstrap=True, ccp_alpha=0.0, criterion='mse',\n",
       "                      max_depth=None, max_features='sqrt', max_leaf_nodes=None,\n",
       "                      max_samples=None, min_impurity_decrease=0.0,\n",
       "                      min_impurity_split=None, min_samples_leaf=1,\n",
       "                      min_samples_split=2, min_weight_fraction_leaf=0.0,\n",
       "                      n_estimators=1000, n_jobs=None, oob_score=False,\n",
       "                      random_state=1000, verbose=0, warm_start=False)"
      ]
     },
     "execution_count": 54,
     "metadata": {},
     "output_type": "execute_result"
    }
   ],
   "source": [
    "from sklearn.ensemble import RandomForestRegressor\n",
    "\n",
    "rf = RandomForestRegressor(n_estimators = 1000, max_features = 'sqrt', \n",
    "                           random_state = 1000)\n",
    "rf.fit(X_train, y_train)"
   ]
  },
  {
   "cell_type": "code",
   "execution_count": 55,
   "metadata": {},
   "outputs": [
    {
     "name": "stdout",
     "output_type": "stream",
     "text": [
      "[7.57936022 0.03749721 4.67694485 9.4612544  0.         0.\n",
      " 0.         3.03008813 0.         1.54921913]\n"
     ]
    }
   ],
   "source": [
    "rf_pred = rf.predict(X_test)\n",
    "print(rf_pred[:10])"
   ]
  },
  {
   "cell_type": "code",
   "execution_count": 56,
   "metadata": {},
   "outputs": [
    {
     "data": {
      "image/png": "[encoded data removed]",
      "text/plain": [
       "<Figure size 576x432 with 1 Axes>"
      ]
     },
     "metadata": {
      "needs_background": "light"
     },
     "output_type": "display_data"
    }
   ],
   "source": [
    "importances_values = rf.feature_importances_\n",
    "importances = pd.Series(importances_values, index=X_data_df.columns)\n",
    "\n",
    "top20 = importances.sort_values(ascending=False)[:20]\n",
    "plt.figure(figsize=(8, 6))\n",
    "plt.title('Feature importances Top 20')\n",
    "sns.barplot(x = top20, y = top20.index)\n",
    "plt.show()"
   ]
  },
  {
   "cell_type": "code",
   "execution_count": 57,
   "metadata": {},
   "outputs": [
    {
     "data": {
      "text/plain": [
       "0.799789264662148"
      ]
     },
     "execution_count": 57,
     "metadata": {},
     "output_type": "execute_result"
    }
   ],
   "source": [
    "mean_squared_error(y_test, rf_pred)"
   ]
  },
  {
   "cell_type": "markdown",
   "metadata": {},
   "source": [
    "## Ridge"
   ]
  },
  {
   "cell_type": "code",
   "execution_count": 58,
   "metadata": {},
   "outputs": [
    {
     "data": {
      "text/plain": [
       "Ridge(alpha=0.01, copy_X=True, fit_intercept=True, max_iter=None,\n",
       "      normalize=False, random_state=None, solver='auto', tol=0.001)"
      ]
     },
     "execution_count": 58,
     "metadata": {},
     "output_type": "execute_result"
    }
   ],
   "source": [
    "from sklearn.linear_model import Ridge\n",
    "\n",
    "ridge = Ridge(alpha=0.01)\n",
    "ridge.fit(X_train, y_train)"
   ]
  },
  {
   "cell_type": "code",
   "execution_count": 59,
   "metadata": {},
   "outputs": [
    {
     "name": "stdout",
     "output_type": "stream",
     "text": [
      "0.5443337422577441\n"
     ]
    }
   ],
   "source": [
    "print(ridge.score(X_train, y_train))"
   ]
  },
  {
   "cell_type": "code",
   "execution_count": 60,
   "metadata": {},
   "outputs": [
    {
     "data": {
      "text/plain": [
       "3.5862169827820707"
      ]
     },
     "execution_count": 60,
     "metadata": {},
     "output_type": "execute_result"
    }
   ],
   "source": [
    "ridge_pred = ridge.predict(X_test)\n",
    "mean_squared_error(y_test, ridge_pred)"
   ]
  },
  {
   "cell_type": "markdown",
   "metadata": {},
   "source": [
    "## LASSO"
   ]
  },
  {
   "cell_type": "code",
   "execution_count": 61,
   "metadata": {},
   "outputs": [
    {
     "data": {
      "text/plain": [
       "Lasso(alpha=0.001, copy_X=True, fit_intercept=True, max_iter=1000,\n",
       "      normalize=False, positive=False, precompute=False, random_state=None,\n",
       "      selection='cyclic', tol=0.0001, warm_start=False)"
      ]
     },
     "execution_count": 61,
     "metadata": {},
     "output_type": "execute_result"
    }
   ],
   "source": [
    "from sklearn.linear_model import Lasso\n",
    "\n",
    "lasso = Lasso(alpha=0.001)\n",
    "lasso.fit(X_train, y_train)"
   ]
  },
  {
   "cell_type": "code",
   "execution_count": 62,
   "metadata": {},
   "outputs": [
    {
     "name": "stdout",
     "output_type": "stream",
     "text": [
      "0.5285365127999779\n"
     ]
    }
   ],
   "source": [
    "print(lasso.score(X_train, y_train))"
   ]
  },
  {
   "cell_type": "code",
   "execution_count": 63,
   "metadata": {},
   "outputs": [
    {
     "data": {
      "text/plain": [
       "3.560607525198602"
      ]
     },
     "execution_count": 63,
     "metadata": {},
     "output_type": "execute_result"
    }
   ],
   "source": [
    "lasso_pred = lasso.predict(X_test)\n",
    "mean_squared_error(y_test, lasso_pred)"
   ]
  },
  {
   "cell_type": "markdown",
   "metadata": {},
   "source": [
    "## GBM"
   ]
  },
  {
   "cell_type": "code",
   "execution_count": 64,
   "metadata": {},
   "outputs": [
    {
     "name": "stdout",
     "output_type": "stream",
     "text": [
      "[ 6.55846338  0.01643186  5.03534574 11.34991538 -0.01694181 -0.02050571\n",
      " -0.02080495  2.91597484  0.04437331  1.21097711]\n"
     ]
    }
   ],
   "source": [
    "from sklearn.ensemble import GradientBoostingRegressor\n",
    "\n",
    "gbm = GradientBoostingRegressor(n_estimators=1000, max_depth=6)\n",
    "gbm.fit(X_train, y_train)\n",
    "\n",
    "gbm_pred = gbm.predict(X_test)\n",
    "print(gbm_pred[:10])"
   ]
  },
  {
   "cell_type": "code",
   "execution_count": 65,
   "metadata": {},
   "outputs": [
    {
     "data": {
      "text/plain": [
       "0.7752488158512904"
      ]
     },
     "execution_count": 65,
     "metadata": {},
     "output_type": "execute_result"
    }
   ],
   "source": [
    "mean_squared_error(y_test, gbm_pred)"
   ]
  },
  {
   "cell_type": "markdown",
   "metadata": {},
   "source": [
    "## AdaBoost"
   ]
  },
  {
   "cell_type": "code",
   "execution_count": 66,
   "metadata": {},
   "outputs": [
    {
     "name": "stdout",
     "output_type": "stream",
     "text": [
      "[3.35811458 2.3214552  1.87773079 6.40279446 1.89135079 1.89135079\n",
      " 2.36040864 3.35811458 2.06296187 1.89358058]\n"
     ]
    }
   ],
   "source": [
    "from sklearn.ensemble import AdaBoostRegressor\n",
    "\n",
    "ada = AdaBoostRegressor(n_estimators = 500, learning_rate = 0.1)\n",
    "ada.fit(X_train, y_train)\n",
    "\n",
    "ada_pred = ada.predict(X_test)\n",
    "print(ada_pred[:10])"
   ]
  },
  {
   "cell_type": "code",
   "execution_count": 67,
   "metadata": {},
   "outputs": [
    {
     "data": {
      "text/plain": [
       "5.521551714993313"
      ]
     },
     "execution_count": 67,
     "metadata": {},
     "output_type": "execute_result"
    }
   ],
   "source": [
    "mean_squared_error(y_test, ada_pred)"
   ]
  },
  {
   "cell_type": "markdown",
   "metadata": {},
   "source": [
    "## XGBoost"
   ]
  },
  {
   "cell_type": "code",
   "execution_count": 68,
   "metadata": {},
   "outputs": [
    {
     "name": "stdout",
     "output_type": "stream",
     "text": [
      "0.90\n",
      "[10:46:57] WARNING: src/objective/regression_obj.cu:152: reg:linear is now deprecated in favor of reg:squarederror.\n",
      "[ 8.5525408e+00  2.7748913e-02  5.2750754e+00  1.0053277e+01\n",
      " -5.6993961e-04 -1.8079281e-03  2.5410950e-03  3.0202701e+00\n",
      " -8.9573860e-04  1.7723509e+00]\n"
     ]
    }
   ],
   "source": [
    "import xgboost as xgb\n",
    "print(xgb.__version__)\n",
    "\n",
    "xgb_reg = xgb.XGBRegressor(learning_rate=0.1, max_depth=15, n_estimators=1000)\n",
    "xgb_reg.fit(X_train, y_train, verbose=False)\n",
    "\n",
    "xgb_pred = xgb_reg.predict(X_test)\n",
    "print(xgb_pred[:10])"
   ]
  },
  {
   "cell_type": "code",
   "execution_count": 69,
   "metadata": {},
   "outputs": [
    {
     "data": {
      "text/plain": [
       "0.8477316442708119"
      ]
     },
     "execution_count": 69,
     "metadata": {},
     "output_type": "execute_result"
    }
   ],
   "source": [
    "mean_squared_error(y_test, xgb_pred)"
   ]
  },
  {
   "cell_type": "code",
   "execution_count": 70,
   "metadata": {
    "scrolled": false
   },
   "outputs": [
    {
     "data": {
      "image/png": "[encoded data removed]",
      "text/plain": [
       "<Figure size 720x864 with 1 Axes>"
      ]
     },
     "metadata": {
      "needs_background": "light"
     },
     "output_type": "display_data"
    }
   ],
   "source": [
    "from xgboost import plot_importance\n",
    "\n",
    "plot_importance(xgb_reg, max_num_features=20)\n",
    "\n",
    "fig = plt.gcf()\n",
    "fig.set_size_inches(10, 12)"
   ]
  },
  {
   "cell_type": "markdown",
   "metadata": {},
   "source": [
    "## LightGBM"
   ]
  },
  {
   "cell_type": "code",
   "execution_count": 71,
   "metadata": {
    "scrolled": true
   },
   "outputs": [
    {
     "data": {
      "text/plain": [
       "LGBMRegressor(boosting_type='gbdt', class_weight=None, colsample_bytree=1.0,\n",
       "              importance_type='split', learning_rate=0.1, max_depth=15,\n",
       "              min_child_samples=20, min_child_weight=0.001, min_split_gain=0.0,\n",
       "              n_estimators=1000, n_jobs=-1, num_leaves=31, objective=None,\n",
       "              random_state=None, reg_alpha=0.0, reg_lambda=0.0, silent=True,\n",
       "              subsample=1.0, subsample_for_bin=200000, subsample_freq=0)"
      ]
     },
     "execution_count": 71,
     "metadata": {},
     "output_type": "execute_result"
    }
   ],
   "source": [
    "import lightgbm as lgb\n",
    "\n",
    "\n",
    "lgb_reg = lgb.LGBMRegressor(n_estimators=1000, max_depth=15)\n",
    "lgb_reg.fit(X_train, y_train,\n",
    "        eval_set=[(X_test, y_test)],\n",
    "        eval_metric='l1',\n",
    "        early_stopping_rounds=1000,\n",
    "        verbose = False)"
   ]
  },
  {
   "cell_type": "code",
   "execution_count": 72,
   "metadata": {},
   "outputs": [
    {
     "name": "stdout",
     "output_type": "stream",
     "text": [
      "[ 7.03132464  0.21599147  4.47759886  7.85666559 -0.00961134 -0.03483754\n",
      " -0.02341686  2.85889482  0.04713703  2.35474078]\n"
     ]
    }
   ],
   "source": [
    "lgb_pred = lgb_reg.predict(X_test)\n",
    "print(lgb_pred[:10])"
   ]
  },
  {
   "cell_type": "code",
   "execution_count": 73,
   "metadata": {},
   "outputs": [
    {
     "name": "stdout",
     "output_type": "stream",
     "text": [
      "[ 9.6804065   0.          5.70711026 11.73372226  0.          0.\n",
      "  0.          3.04452244  0.          2.77258872]\n"
     ]
    }
   ],
   "source": [
    "print(y_test[:10])"
   ]
  },
  {
   "cell_type": "code",
   "execution_count": 74,
   "metadata": {},
   "outputs": [
    {
     "data": {
      "text/plain": [
       "0.8299770921654172"
      ]
     },
     "execution_count": 74,
     "metadata": {},
     "output_type": "execute_result"
    }
   ],
   "source": [
    "mean_squared_error(y_test, lgb_pred)"
   ]
  },
  {
   "cell_type": "markdown",
   "metadata": {},
   "source": [
    "## Deep Neural Network"
   ]
  },
  {
   "cell_type": "code",
   "execution_count": 196,
   "metadata": {},
   "outputs": [],
   "source": [
    "import torch\n",
    "from torch import nn, optim\n",
    "from torch.utils.data import DataLoader, TensorDataset\n",
    "from torch.nn import functional as F\n",
    "import tqdm\n",
    "\n",
    "dX_train, dy_train = torch.tensor(X_train), torch.tensor(y_train)\n",
    "dX_test, dy_test = torch.tensor(X_test), torch.tensor(y_test)\n",
    "\n",
    "train_dataset = TensorDataset(dX_train, dy_train)\n",
    "test_dataset = TensorDataset(dX_test, dy_test)"
   ]
  },
  {
   "cell_type": "code",
   "execution_count": 197,
   "metadata": {},
   "outputs": [],
   "source": [
    "BATCH_SIZE = 256\n",
    "train_loader = DataLoader(train_dataset, batch_size = BATCH_SIZE, shuffle = True)\n",
    "test_loader = DataLoader(test_dataset, batch_size = BATCH_SIZE, shuffle = False)"
   ]
  },
  {
   "cell_type": "code",
   "execution_count": 198,
   "metadata": {},
   "outputs": [],
   "source": [
    "from model import Model\n",
    "model = Model(input_size = dX_train.shape[1], hidden_size = 128)"
   ]
  },
  {
   "cell_type": "code",
   "execution_count": 199,
   "metadata": {},
   "outputs": [
    {
     "name": "stdout",
     "output_type": "stream",
     "text": [
      "cpu\n"
     ]
    },
    {
     "data": {
      "text/plain": [
       "Model(\n",
       "  (dense1): Linear(in_features=203, out_features=128, bias=True)\n",
       "  (dropout1): Dropout(p=0.3, inplace=False)\n",
       "  (dense2): Linear(in_features=128, out_features=128, bias=True)\n",
       "  (dropout2): Dropout(p=0.3, inplace=False)\n",
       "  (dense3): Linear(in_features=128, out_features=128, bias=True)\n",
       "  (dropout3): Dropout(p=0.3, inplace=False)\n",
       "  (out): Linear(in_features=128, out_features=1, bias=True)\n",
       ")"
      ]
     },
     "execution_count": 199,
     "metadata": {},
     "output_type": "execute_result"
    }
   ],
   "source": [
    "from torch.optim import Adam\n",
    "from train import Trainer\n",
    "\n",
    "device = 'cuda:0' if torch.cuda.is_available() else 'cpu'\n",
    "print(device)\n",
    "model.to(device)"
   ]
  },
  {
   "cell_type": "code",
   "execution_count": 200,
   "metadata": {
    "scrolled": true
   },
   "outputs": [
    {
     "name": "stderr",
     "output_type": "stream",
     "text": [
      "100%|█████████████████████████████████████████████████████████████████████████████████| 60/60 [00:00<00:00, 158.16it/s]\n",
      " 55%|████████████████████████████████████████████▌                                    | 33/60 [00:00<00:00, 163.35it/s]"
     ]
    },
    {
     "name": "stdout",
     "output_type": "stream",
     "text": [
      "epoch: 1/250, train_loss: 4.64915924, val_loss: 3.45604769\n"
     ]
    },
    {
     "name": "stderr",
     "output_type": "stream",
     "text": [
      "100%|█████████████████████████████████████████████████████████████████████████████████| 60/60 [00:00<00:00, 162.45it/s]\n",
      " 28%|██████████████████████▉                                                          | 17/60 [00:00<00:00, 160.23it/s]"
     ]
    },
    {
     "name": "stdout",
     "output_type": "stream",
     "text": [
      "epoch: 2/250, train_loss: 3.30723315, val_loss: 3.46967207\n"
     ]
    },
    {
     "name": "stderr",
     "output_type": "stream",
     "text": [
      "100%|█████████████████████████████████████████████████████████████████████████████████| 60/60 [00:00<00:00, 152.53it/s]\n",
      " 28%|██████████████████████▉                                                          | 17/60 [00:00<00:00, 161.76it/s]"
     ]
    },
    {
     "name": "stdout",
     "output_type": "stream",
     "text": [
      "epoch: 3/250, train_loss: 3.13808108, val_loss: 3.12207687\n"
     ]
    },
    {
     "name": "stderr",
     "output_type": "stream",
     "text": [
      "100%|█████████████████████████████████████████████████████████████████████████████████| 60/60 [00:00<00:00, 151.00it/s]\n",
      " 27%|█████████████████████▌                                                           | 16/60 [00:00<00:00, 155.20it/s]"
     ]
    },
    {
     "name": "stdout",
     "output_type": "stream",
     "text": [
      "epoch: 4/250, train_loss: 2.96551475, val_loss: 3.02849465\n"
     ]
    },
    {
     "name": "stderr",
     "output_type": "stream",
     "text": [
      "100%|█████████████████████████████████████████████████████████████████████████████████| 60/60 [00:00<00:00, 157.75it/s]\n",
      " 28%|██████████████████████▉                                                          | 17/60 [00:00<00:00, 164.90it/s]"
     ]
    },
    {
     "name": "stdout",
     "output_type": "stream",
     "text": [
      "epoch: 5/250, train_loss: 2.81249377, val_loss: 3.05178790\n"
     ]
    },
    {
     "name": "stderr",
     "output_type": "stream",
     "text": [
      "100%|█████████████████████████████████████████████████████████████████████████████████| 60/60 [00:00<00:00, 157.09it/s]\n",
      " 50%|████████████████████████████████████████▌                                        | 30/60 [00:00<00:00, 144.52it/s]"
     ]
    },
    {
     "name": "stdout",
     "output_type": "stream",
     "text": [
      "epoch: 6/250, train_loss: 2.81992151, val_loss: 2.97798572\n"
     ]
    },
    {
     "name": "stderr",
     "output_type": "stream",
     "text": [
      "100%|█████████████████████████████████████████████████████████████████████████████████| 60/60 [00:00<00:00, 147.65it/s]\n",
      " 25%|████████████████████▎                                                            | 15/60 [00:00<00:00, 148.38it/s]"
     ]
    },
    {
     "name": "stdout",
     "output_type": "stream",
     "text": [
      "epoch: 7/250, train_loss: 2.74655297, val_loss: 3.07050158\n"
     ]
    },
    {
     "name": "stderr",
     "output_type": "stream",
     "text": [
      "100%|█████████████████████████████████████████████████████████████████████████████████| 60/60 [00:00<00:00, 152.14it/s]\n",
      " 25%|████████████████████▎                                                            | 15/60 [00:00<00:00, 148.38it/s]"
     ]
    },
    {
     "name": "stdout",
     "output_type": "stream",
     "text": [
      "epoch: 8/250, train_loss: 2.78208235, val_loss: 3.00676933\n"
     ]
    },
    {
     "name": "stderr",
     "output_type": "stream",
     "text": [
      "100%|█████████████████████████████████████████████████████████████████████████████████| 60/60 [00:00<00:00, 160.28it/s]\n",
      " 28%|██████████████████████▉                                                          | 17/60 [00:00<00:00, 163.31it/s]"
     ]
    },
    {
     "name": "stdout",
     "output_type": "stream",
     "text": [
      "epoch: 9/250, train_loss: 2.72937633, val_loss: 3.18113031\n"
     ]
    },
    {
     "name": "stderr",
     "output_type": "stream",
     "text": [
      "100%|█████████████████████████████████████████████████████████████████████████████████| 60/60 [00:00<00:00, 165.14it/s]\n",
      " 27%|█████████████████████▌                                                           | 16/60 [00:00<00:00, 152.24it/s]"
     ]
    },
    {
     "name": "stdout",
     "output_type": "stream",
     "text": [
      "epoch: 10/250, train_loss: 2.72996646, val_loss: 2.95073203\n"
     ]
    },
    {
     "name": "stderr",
     "output_type": "stream",
     "text": [
      "100%|█████████████████████████████████████████████████████████████████████████████████| 60/60 [00:00<00:00, 152.92it/s]\n",
      " 28%|██████████████████████▉                                                          | 17/60 [00:00<00:00, 163.31it/s]"
     ]
    },
    {
     "name": "stdout",
     "output_type": "stream",
     "text": [
      "epoch: 11/250, train_loss: 2.73300582, val_loss: 2.98004287\n"
     ]
    },
    {
     "name": "stderr",
     "output_type": "stream",
     "text": [
      "100%|█████████████████████████████████████████████████████████████████████████████████| 60/60 [00:00<00:00, 159.43it/s]\n",
      " 28%|██████████████████████▉                                                          | 17/60 [00:00<00:00, 161.76it/s]"
     ]
    },
    {
     "name": "stdout",
     "output_type": "stream",
     "text": [
      "epoch: 12/250, train_loss: 2.62635768, val_loss: 2.87812831\n"
     ]
    },
    {
     "name": "stderr",
     "output_type": "stream",
     "text": [
      "100%|█████████████████████████████████████████████████████████████████████████████████| 60/60 [00:00<00:00, 156.52it/s]\n",
      " 27%|█████████████████████▌                                                           | 16/60 [00:00<00:00, 156.72it/s]"
     ]
    },
    {
     "name": "stdout",
     "output_type": "stream",
     "text": [
      "epoch: 13/250, train_loss: 2.63314995, val_loss: 2.89375504\n"
     ]
    },
    {
     "name": "stderr",
     "output_type": "stream",
     "text": [
      "100%|█████████████████████████████████████████████████████████████████████████████████| 60/60 [00:00<00:00, 155.30it/s]\n",
      " 28%|██████████████████████▉                                                          | 17/60 [00:00<00:00, 163.31it/s]"
     ]
    },
    {
     "name": "stdout",
     "output_type": "stream",
     "text": [
      "epoch: 14/250, train_loss: 2.63819809, val_loss: 2.90581785\n"
     ]
    },
    {
     "name": "stderr",
     "output_type": "stream",
     "text": [
      "100%|█████████████████████████████████████████████████████████████████████████████████| 60/60 [00:00<00:00, 156.93it/s]\n",
      " 28%|██████████████████████▉                                                          | 17/60 [00:00<00:00, 163.31it/s]"
     ]
    },
    {
     "name": "stdout",
     "output_type": "stream",
     "text": [
      "epoch: 15/250, train_loss: 2.63986658, val_loss: 2.95537116\n"
     ]
    },
    {
     "name": "stderr",
     "output_type": "stream",
     "text": [
      "100%|█████████████████████████████████████████████████████████████████████████████████| 60/60 [00:00<00:00, 161.58it/s]\n",
      " 28%|██████████████████████▉                                                          | 17/60 [00:00<00:00, 108.88it/s]"
     ]
    },
    {
     "name": "stdout",
     "output_type": "stream",
     "text": [
      "epoch: 16/250, train_loss: 2.60546752, val_loss: 2.92529602\n"
     ]
    },
    {
     "name": "stderr",
     "output_type": "stream",
     "text": [
      "100%|█████████████████████████████████████████████████████████████████████████████████| 60/60 [00:00<00:00, 140.06it/s]\n",
      " 25%|████████████████████▎                                                            | 15/60 [00:00<00:00, 149.86it/s]"
     ]
    },
    {
     "name": "stdout",
     "output_type": "stream",
     "text": [
      "epoch: 17/250, train_loss: 2.61313999, val_loss: 2.92061513\n"
     ]
    },
    {
     "name": "stderr",
     "output_type": "stream",
     "text": [
      "100%|█████████████████████████████████████████████████████████████████████████████████| 60/60 [00:00<00:00, 156.93it/s]\n",
      " 28%|██████████████████████▉                                                          | 17/60 [00:00<00:00, 163.31it/s]"
     ]
    },
    {
     "name": "stdout",
     "output_type": "stream",
     "text": [
      "epoch: 18/250, train_loss: 2.60004112, val_loss: 2.89228998\n"
     ]
    },
    {
     "name": "stderr",
     "output_type": "stream",
     "text": [
      "100%|█████████████████████████████████████████████████████████████████████████████████| 60/60 [00:00<00:00, 161.58it/s]\n",
      " 27%|█████████████████████▌                                                           | 16/60 [00:00<00:00, 153.71it/s]"
     ]
    },
    {
     "name": "stdout",
     "output_type": "stream",
     "text": [
      "epoch: 19/250, train_loss: 2.55896224, val_loss: 2.91327652\n"
     ]
    },
    {
     "name": "stderr",
     "output_type": "stream",
     "text": [
      "100%|█████████████████████████████████████████████████████████████████████████████████| 60/60 [00:00<00:00, 160.28it/s]\n",
      " 57%|█████████████████████████████████████████████▉                                   | 34/60 [00:00<00:00, 164.42it/s]"
     ]
    },
    {
     "name": "stdout",
     "output_type": "stream",
     "text": [
      "epoch: 20/250, train_loss: 2.57990529, val_loss: 2.82102204\n"
     ]
    },
    {
     "name": "stderr",
     "output_type": "stream",
     "text": [
      "100%|█████████████████████████████████████████████████████████████████████████████████| 60/60 [00:00<00:00, 161.14it/s]\n",
      " 55%|████████████████████████████████████████████▌                                    | 33/60 [00:00<00:00, 166.20it/s]"
     ]
    },
    {
     "name": "stdout",
     "output_type": "stream",
     "text": [
      "epoch: 21/250, train_loss: 2.56597427, val_loss: 2.81927678\n"
     ]
    },
    {
     "name": "stderr",
     "output_type": "stream",
     "text": [
      "100%|█████████████████████████████████████████████████████████████████████████████████| 60/60 [00:00<00:00, 163.34it/s]\n",
      " 55%|████████████████████████████████████████████▌                                    | 33/60 [00:00<00:00, 159.99it/s]"
     ]
    },
    {
     "name": "stdout",
     "output_type": "stream",
     "text": [
      "epoch: 22/250, train_loss: 2.48958497, val_loss: 2.83466067\n"
     ]
    },
    {
     "name": "stderr",
     "output_type": "stream",
     "text": [
      "100%|█████████████████████████████████████████████████████████████████████████████████| 60/60 [00:00<00:00, 159.85it/s]\n",
      " 28%|██████████████████████▉                                                          | 17/60 [00:00<00:00, 161.76it/s]"
     ]
    },
    {
     "name": "stdout",
     "output_type": "stream",
     "text": [
      "epoch: 23/250, train_loss: 2.54159137, val_loss: 2.79894630\n"
     ]
    },
    {
     "name": "stderr",
     "output_type": "stream",
     "text": [
      "100%|█████████████████████████████████████████████████████████████████████████████████| 60/60 [00:00<00:00, 158.17it/s]\n",
      " 28%|██████████████████████▉                                                          | 17/60 [00:00<00:00, 163.31it/s]"
     ]
    },
    {
     "name": "stdout",
     "output_type": "stream",
     "text": [
      "epoch: 24/250, train_loss: 2.53762410, val_loss: 2.94951052\n"
     ]
    },
    {
     "name": "stderr",
     "output_type": "stream",
     "text": [
      "100%|█████████████████████████████████████████████████████████████████████████████████| 60/60 [00:00<00:00, 162.90it/s]\n",
      " 25%|████████████████████▎                                                            | 15/60 [00:00<00:00, 149.86it/s]"
     ]
    },
    {
     "name": "stdout",
     "output_type": "stream",
     "text": [
      "epoch: 25/250, train_loss: 2.54591253, val_loss: 2.77110857\n"
     ]
    },
    {
     "name": "stderr",
     "output_type": "stream",
     "text": [
      "100%|█████████████████████████████████████████████████████████████████████████████████| 60/60 [00:00<00:00, 159.01it/s]\n",
      " 28%|██████████████████████▉                                                          | 17/60 [00:00<00:00, 166.52it/s]"
     ]
    },
    {
     "name": "stdout",
     "output_type": "stream",
     "text": [
      "epoch: 26/250, train_loss: 2.50005786, val_loss: 2.85206108\n"
     ]
    },
    {
     "name": "stderr",
     "output_type": "stream",
     "text": [
      "100%|█████████████████████████████████████████████████████████████████████████████████| 60/60 [00:00<00:00, 158.17it/s]\n",
      " 28%|██████████████████████▉                                                          | 17/60 [00:00<00:00, 163.31it/s]"
     ]
    },
    {
     "name": "stdout",
     "output_type": "stream",
     "text": [
      "epoch: 27/250, train_loss: 2.48659858, val_loss: 2.82441751\n"
     ]
    },
    {
     "name": "stderr",
     "output_type": "stream",
     "text": [
      "100%|█████████████████████████████████████████████████████████████████████████████████| 60/60 [00:00<00:00, 138.44it/s]\n",
      " 28%|██████████████████████▉                                                          | 17/60 [00:00<00:00, 164.90it/s]"
     ]
    },
    {
     "name": "stdout",
     "output_type": "stream",
     "text": [
      "epoch: 28/250, train_loss: 2.44101691, val_loss: 2.72911466\n"
     ]
    },
    {
     "name": "stderr",
     "output_type": "stream",
     "text": [
      "100%|█████████████████████████████████████████████████████████████████████████████████| 60/60 [00:00<00:00, 163.34it/s]\n",
      " 53%|███████████████████████████████████████████▏                                     | 32/60 [00:00<00:00, 157.80it/s]"
     ]
    },
    {
     "name": "stdout",
     "output_type": "stream",
     "text": [
      "epoch: 29/250, train_loss: 2.43855764, val_loss: 2.82619014\n"
     ]
    },
    {
     "name": "stderr",
     "output_type": "stream",
     "text": [
      "100%|█████████████████████████████████████████████████████████████████████████████████| 60/60 [00:00<00:00, 158.59it/s]\n",
      " 55%|████████████████████████████████████████████▌                                    | 33/60 [00:00<00:00, 159.32it/s]"
     ]
    },
    {
     "name": "stdout",
     "output_type": "stream",
     "text": [
      "epoch: 30/250, train_loss: 2.47782004, val_loss: 2.77197054\n"
     ]
    },
    {
     "name": "stderr",
     "output_type": "stream",
     "text": [
      "100%|█████████████████████████████████████████████████████████████████████████████████| 60/60 [00:00<00:00, 163.34it/s]\n",
      " 52%|█████████████████████████████████████████▊                                       | 31/60 [00:00<00:00, 156.72it/s]"
     ]
    },
    {
     "name": "stdout",
     "output_type": "stream",
     "text": [
      "epoch: 31/250, train_loss: 2.44671215, val_loss: 2.62295032\n"
     ]
    },
    {
     "name": "stderr",
     "output_type": "stream",
     "text": [
      "100%|█████████████████████████████████████████████████████████████████████████████████| 60/60 [00:00<00:00, 154.90it/s]\n",
      " 27%|█████████████████████▌                                                           | 16/60 [00:00<00:00, 155.20it/s]"
     ]
    },
    {
     "name": "stdout",
     "output_type": "stream",
     "text": [
      "epoch: 32/250, train_loss: 2.42621425, val_loss: 2.79722825\n"
     ]
    },
    {
     "name": "stderr",
     "output_type": "stream",
     "text": [
      "100%|█████████████████████████████████████████████████████████████████████████████████| 60/60 [00:00<00:00, 158.17it/s]\n",
      " 25%|████████████████████▎                                                            | 15/60 [00:00<00:00, 149.86it/s]"
     ]
    },
    {
     "name": "stdout",
     "output_type": "stream",
     "text": [
      "epoch: 33/250, train_loss: 2.43519539, val_loss: 2.79954743\n"
     ]
    },
    {
     "name": "stderr",
     "output_type": "stream",
     "text": [
      "100%|█████████████████████████████████████████████████████████████████████████████████| 60/60 [00:00<00:00, 153.31it/s]\n",
      " 28%|██████████████████████▉                                                          | 17/60 [00:00<00:00, 161.76it/s]"
     ]
    },
    {
     "name": "stdout",
     "output_type": "stream",
     "text": [
      "epoch: 34/250, train_loss: 2.36773189, val_loss: 2.62285919\n"
     ]
    },
    {
     "name": "stderr",
     "output_type": "stream",
     "text": [
      "100%|█████████████████████████████████████████████████████████████████████████████████| 60/60 [00:00<00:00, 162.45it/s]\n",
      " 27%|█████████████████████▌                                                           | 16/60 [00:00<00:00, 159.86it/s]"
     ]
    },
    {
     "name": "stdout",
     "output_type": "stream",
     "text": [
      "epoch: 35/250, train_loss: 2.34988941, val_loss: 2.56619906\n"
     ]
    },
    {
     "name": "stderr",
     "output_type": "stream",
     "text": [
      "100%|█████████████████████████████████████████████████████████████████████████████████| 60/60 [00:00<00:00, 158.17it/s]\n",
      " 53%|███████████████████████████████████████████▏                                     | 32/60 [00:00<00:00, 155.35it/s]"
     ]
    },
    {
     "name": "stdout",
     "output_type": "stream",
     "text": [
      "epoch: 36/250, train_loss: 2.30871383, val_loss: 2.56247708\n"
     ]
    },
    {
     "name": "stderr",
     "output_type": "stream",
     "text": [
      "100%|█████████████████████████████████████████████████████████████████████████████████| 60/60 [00:00<00:00, 164.23it/s]\n",
      " 28%|██████████████████████▉                                                          | 17/60 [00:00<00:00, 164.90it/s]"
     ]
    },
    {
     "name": "stdout",
     "output_type": "stream",
     "text": [
      "epoch: 37/250, train_loss: 2.29216256, val_loss: 2.41981400\n"
     ]
    },
    {
     "name": "stderr",
     "output_type": "stream",
     "text": [
      "100%|█████████████████████████████████████████████████████████████████████████████████| 60/60 [00:00<00:00, 160.71it/s]\n",
      " 27%|█████████████████████▌                                                           | 16/60 [00:00<00:00, 156.72it/s]"
     ]
    },
    {
     "name": "stdout",
     "output_type": "stream",
     "text": [
      "epoch: 38/250, train_loss: 2.31064284, val_loss: 2.40172341\n"
     ]
    },
    {
     "name": "stderr",
     "output_type": "stream",
     "text": [
      "100%|█████████████████████████████████████████████████████████████████████████████████| 60/60 [00:00<00:00, 159.85it/s]\n",
      " 15%|████████████▍                                                                      | 9/60 [00:00<00:00, 83.26it/s]"
     ]
    },
    {
     "name": "stdout",
     "output_type": "stream",
     "text": [
      "epoch: 39/250, train_loss: 2.23169216, val_loss: 2.28629897\n"
     ]
    },
    {
     "name": "stderr",
     "output_type": "stream",
     "text": [
      "100%|█████████████████████████████████████████████████████████████████████████████████| 60/60 [00:00<00:00, 136.86it/s]\n",
      " 27%|█████████████████████▌                                                           | 16/60 [00:00<00:00, 156.72it/s]"
     ]
    },
    {
     "name": "stdout",
     "output_type": "stream",
     "text": [
      "epoch: 40/250, train_loss: 2.18148993, val_loss: 2.29809518\n"
     ]
    },
    {
     "name": "stderr",
     "output_type": "stream",
     "text": [
      "100%|█████████████████████████████████████████████████████████████████████████████████| 60/60 [00:00<00:00, 156.93it/s]\n",
      " 27%|█████████████████████▌                                                           | 16/60 [00:00<00:00, 159.85it/s]"
     ]
    },
    {
     "name": "stdout",
     "output_type": "stream",
     "text": [
      "epoch: 41/250, train_loss: 2.03439366, val_loss: 1.99678639\n"
     ]
    },
    {
     "name": "stderr",
     "output_type": "stream",
     "text": [
      "100%|█████████████████████████████████████████████████████████████████████████████████| 60/60 [00:00<00:00, 162.45it/s]\n",
      " 28%|██████████████████████▉                                                          | 17/60 [00:00<00:00, 161.76it/s]"
     ]
    },
    {
     "name": "stdout",
     "output_type": "stream",
     "text": [
      "epoch: 42/250, train_loss: 2.01700151, val_loss: 2.06434160\n"
     ]
    },
    {
     "name": "stderr",
     "output_type": "stream",
     "text": [
      "100%|█████████████████████████████████████████████████████████████████████████████████| 60/60 [00:00<00:00, 159.85it/s]\n",
      " 27%|█████████████████████▌                                                           | 16/60 [00:00<00:00, 150.81it/s]"
     ]
    },
    {
     "name": "stdout",
     "output_type": "stream",
     "text": [
      "epoch: 43/250, train_loss: 2.01952240, val_loss: 1.95429186\n"
     ]
    },
    {
     "name": "stderr",
     "output_type": "stream",
     "text": [
      "100%|█████████████████████████████████████████████████████████████████████████████████| 60/60 [00:00<00:00, 159.01it/s]\n",
      " 27%|█████████████████████▌                                                           | 16/60 [00:00<00:00, 158.27it/s]"
     ]
    },
    {
     "name": "stdout",
     "output_type": "stream",
     "text": [
      "epoch: 44/250, train_loss: 2.06793889, val_loss: 2.47608057\n"
     ]
    },
    {
     "name": "stderr",
     "output_type": "stream",
     "text": [
      "100%|█████████████████████████████████████████████████████████████████████████████████| 60/60 [00:00<00:00, 160.71it/s]\n",
      " 28%|██████████████████████▉                                                          | 17/60 [00:00<00:00, 164.90it/s]"
     ]
    },
    {
     "name": "stdout",
     "output_type": "stream",
     "text": [
      "epoch: 45/250, train_loss: 2.02266813, val_loss: 2.10582381\n"
     ]
    },
    {
     "name": "stderr",
     "output_type": "stream",
     "text": [
      "100%|█████████████████████████████████████████████████████████████████████████████████| 60/60 [00:00<00:00, 164.69it/s]\n",
      " 27%|█████████████████████▌                                                           | 16/60 [00:00<00:00, 153.71it/s]"
     ]
    },
    {
     "name": "stdout",
     "output_type": "stream",
     "text": [
      "epoch: 46/250, train_loss: 2.05368689, val_loss: 2.59319513\n"
     ]
    },
    {
     "name": "stderr",
     "output_type": "stream",
     "text": [
      "100%|█████████████████████████████████████████████████████████████████████████████████| 60/60 [00:00<00:00, 159.01it/s]\n",
      " 27%|█████████████████████▌                                                           | 16/60 [00:00<00:00, 158.27it/s]"
     ]
    },
    {
     "name": "stdout",
     "output_type": "stream",
     "text": [
      "epoch: 47/250, train_loss: 1.97420641, val_loss: 1.80514212\n"
     ]
    },
    {
     "name": "stderr",
     "output_type": "stream",
     "text": [
      "100%|█████████████████████████████████████████████████████████████████████████████████| 60/60 [00:00<00:00, 161.14it/s]\n",
      " 28%|██████████████████████▉                                                          | 17/60 [00:00<00:00, 164.90it/s]"
     ]
    },
    {
     "name": "stdout",
     "output_type": "stream",
     "text": [
      "epoch: 48/250, train_loss: 1.95423646, val_loss: 1.82299796\n"
     ]
    },
    {
     "name": "stderr",
     "output_type": "stream",
     "text": [
      "100%|█████████████████████████████████████████████████████████████████████████████████| 60/60 [00:00<00:00, 164.69it/s]\n",
      " 27%|█████████████████████▌                                                           | 16/60 [00:00<00:00, 153.71it/s]"
     ]
    },
    {
     "name": "stdout",
     "output_type": "stream",
     "text": [
      "epoch: 49/250, train_loss: 1.94753969, val_loss: 1.90587174\n"
     ]
    },
    {
     "name": "stderr",
     "output_type": "stream",
     "text": [
      "100%|█████████████████████████████████████████████████████████████████████████████████| 60/60 [00:00<00:00, 160.71it/s]\n",
      " 28%|██████████████████████▉                                                          | 17/60 [00:00<00:00, 166.52it/s]"
     ]
    },
    {
     "name": "stdout",
     "output_type": "stream",
     "text": [
      "epoch: 50/250, train_loss: 1.88707905, val_loss: 1.96393785\n"
     ]
    },
    {
     "name": "stderr",
     "output_type": "stream",
     "text": [
      "100%|█████████████████████████████████████████████████████████████████████████████████| 60/60 [00:00<00:00, 138.44it/s]\n",
      " 27%|█████████████████████▌                                                           | 16/60 [00:00<00:00, 152.24it/s]"
     ]
    },
    {
     "name": "stdout",
     "output_type": "stream",
     "text": [
      "epoch: 51/250, train_loss: 1.80783231, val_loss: 1.66897463\n"
     ]
    },
    {
     "name": "stderr",
     "output_type": "stream",
     "text": [
      "100%|█████████████████████████████████████████████████████████████████████████████████| 60/60 [00:00<00:00, 156.11it/s]\n",
      " 27%|█████████████████████▌                                                           | 16/60 [00:00<00:00, 153.71it/s]"
     ]
    },
    {
     "name": "stdout",
     "output_type": "stream",
     "text": [
      "epoch: 52/250, train_loss: 1.84053815, val_loss: 1.80355929\n"
     ]
    },
    {
     "name": "stderr",
     "output_type": "stream",
     "text": [
      "100%|█████████████████████████████████████████████████████████████████████████████████| 60/60 [00:00<00:00, 160.71it/s]\n",
      " 28%|██████████████████████▉                                                          | 17/60 [00:00<00:00, 163.31it/s]"
     ]
    },
    {
     "name": "stdout",
     "output_type": "stream",
     "text": [
      "epoch: 53/250, train_loss: 1.86213098, val_loss: 1.74445896\n"
     ]
    },
    {
     "name": "stderr",
     "output_type": "stream",
     "text": [
      "100%|█████████████████████████████████████████████████████████████████████████████████| 60/60 [00:00<00:00, 164.23it/s]\n",
      " 28%|██████████████████████▉                                                          | 17/60 [00:00<00:00, 161.76it/s]"
     ]
    },
    {
     "name": "stdout",
     "output_type": "stream",
     "text": [
      "epoch: 54/250, train_loss: 1.80419623, val_loss: 1.49519352\n"
     ]
    },
    {
     "name": "stderr",
     "output_type": "stream",
     "text": [
      "100%|█████████████████████████████████████████████████████████████████████████████████| 60/60 [00:00<00:00, 162.45it/s]\n",
      " 28%|██████████████████████▉                                                          | 17/60 [00:00<00:00, 161.76it/s]"
     ]
    },
    {
     "name": "stdout",
     "output_type": "stream",
     "text": [
      "epoch: 55/250, train_loss: 1.79102964, val_loss: 1.85867557\n"
     ]
    },
    {
     "name": "stderr",
     "output_type": "stream",
     "text": [
      "100%|█████████████████████████████████████████████████████████████████████████████████| 60/60 [00:00<00:00, 166.05it/s]\n",
      " 28%|██████████████████████▉                                                          | 17/60 [00:00<00:00, 164.90it/s]"
     ]
    },
    {
     "name": "stdout",
     "output_type": "stream",
     "text": [
      "epoch: 56/250, train_loss: 1.75472811, val_loss: 1.54576000\n"
     ]
    },
    {
     "name": "stderr",
     "output_type": "stream",
     "text": [
      "100%|█████████████████████████████████████████████████████████████████████████████████| 60/60 [00:00<00:00, 160.28it/s]\n",
      " 27%|█████████████████████▌                                                           | 16/60 [00:00<00:00, 155.20it/s]"
     ]
    },
    {
     "name": "stdout",
     "output_type": "stream",
     "text": [
      "epoch: 57/250, train_loss: 1.78512855, val_loss: 1.52755742\n"
     ]
    },
    {
     "name": "stderr",
     "output_type": "stream",
     "text": [
      "100%|█████████████████████████████████████████████████████████████████████████████████| 60/60 [00:00<00:00, 163.34it/s]\n",
      " 28%|██████████████████████▉                                                          | 17/60 [00:00<00:00, 163.31it/s]"
     ]
    },
    {
     "name": "stdout",
     "output_type": "stream",
     "text": [
      "epoch: 58/250, train_loss: 1.70008094, val_loss: 1.81560533\n"
     ]
    },
    {
     "name": "stderr",
     "output_type": "stream",
     "text": [
      "100%|█████████████████████████████████████████████████████████████████████████████████| 60/60 [00:00<00:00, 160.28it/s]\n",
      " 28%|██████████████████████▉                                                          | 17/60 [00:00<00:00, 160.23it/s]"
     ]
    },
    {
     "name": "stdout",
     "output_type": "stream",
     "text": [
      "epoch: 59/250, train_loss: 1.82106485, val_loss: 1.60043938\n"
     ]
    },
    {
     "name": "stderr",
     "output_type": "stream",
     "text": [
      "100%|█████████████████████████████████████████████████████████████████████████████████| 60/60 [00:00<00:00, 156.93it/s]\n",
      " 28%|██████████████████████▉                                                          | 17/60 [00:00<00:00, 161.76it/s]"
     ]
    },
    {
     "name": "stdout",
     "output_type": "stream",
     "text": [
      "epoch: 60/250, train_loss: 1.71225292, val_loss: 1.67445589\n"
     ]
    },
    {
     "name": "stderr",
     "output_type": "stream",
     "text": [
      "100%|█████████████████████████████████████████████████████████████████████████████████| 60/60 [00:00<00:00, 160.28it/s]\n",
      " 27%|█████████████████████▌                                                           | 16/60 [00:00<00:00, 159.85it/s]"
     ]
    },
    {
     "name": "stdout",
     "output_type": "stream",
     "text": [
      "epoch: 61/250, train_loss: 1.70069743, val_loss: 1.92851586\n"
     ]
    },
    {
     "name": "stderr",
     "output_type": "stream",
     "text": [
      "100%|█████████████████████████████████████████████████████████████████████████████████| 60/60 [00:00<00:00, 161.58it/s]\n",
      " 13%|███████████                                                                        | 8/60 [00:00<00:00, 76.85it/s]"
     ]
    },
    {
     "name": "stdout",
     "output_type": "stream",
     "text": [
      "epoch: 62/250, train_loss: 1.83761751, val_loss: 1.54125305\n"
     ]
    },
    {
     "name": "stderr",
     "output_type": "stream",
     "text": [
      "100%|█████████████████████████████████████████████████████████████████████████████████| 60/60 [00:00<00:00, 143.41it/s]\n",
      " 28%|██████████████████████▉                                                          | 17/60 [00:00<00:00, 166.51it/s]"
     ]
    },
    {
     "name": "stdout",
     "output_type": "stream",
     "text": [
      "epoch: 63/250, train_loss: 1.83373627, val_loss: 1.66383569\n"
     ]
    },
    {
     "name": "stderr",
     "output_type": "stream",
     "text": [
      "100%|█████████████████████████████████████████████████████████████████████████████████| 60/60 [00:00<00:00, 160.71it/s]\n",
      " 53%|███████████████████████████████████████████▏                                     | 32/60 [00:00<00:00, 157.65it/s]"
     ]
    },
    {
     "name": "stdout",
     "output_type": "stream",
     "text": [
      "epoch: 64/250, train_loss: 1.79460767, val_loss: 1.85196121\n"
     ]
    },
    {
     "name": "stderr",
     "output_type": "stream",
     "text": [
      "100%|█████████████████████████████████████████████████████████████████████████████████| 60/60 [00:00<00:00, 159.43it/s]\n",
      " 27%|█████████████████████▌                                                           | 16/60 [00:00<00:00, 159.85it/s]"
     ]
    },
    {
     "name": "stdout",
     "output_type": "stream",
     "text": [
      "epoch: 65/250, train_loss: 2.05901359, val_loss: 1.90645355\n"
     ]
    },
    {
     "name": "stderr",
     "output_type": "stream",
     "text": [
      "100%|█████████████████████████████████████████████████████████████████████████████████| 60/60 [00:00<00:00, 163.34it/s]\n",
      " 28%|██████████████████████▉                                                          | 17/60 [00:00<00:00, 164.90it/s]"
     ]
    },
    {
     "name": "stdout",
     "output_type": "stream",
     "text": [
      "epoch: 66/250, train_loss: 1.76210133, val_loss: 1.49195448\n"
     ]
    },
    {
     "name": "stderr",
     "output_type": "stream",
     "text": [
      "100%|█████████████████████████████████████████████████████████████████████████████████| 60/60 [00:00<00:00, 159.01it/s]\n",
      " 57%|█████████████████████████████████████████████▉                                   | 34/60 [00:00<00:00, 168.25it/s]"
     ]
    },
    {
     "name": "stdout",
     "output_type": "stream",
     "text": [
      "epoch: 67/250, train_loss: 1.57013829, val_loss: 1.38385117\n"
     ]
    },
    {
     "name": "stderr",
     "output_type": "stream",
     "text": [
      "100%|█████████████████████████████████████████████████████████████████████████████████| 60/60 [00:00<00:00, 163.79it/s]\n",
      " 57%|█████████████████████████████████████████████▉                                   | 34/60 [00:00<00:00, 162.85it/s]"
     ]
    },
    {
     "name": "stdout",
     "output_type": "stream",
     "text": [
      "epoch: 68/250, train_loss: 1.65123026, val_loss: 1.35261471\n"
     ]
    },
    {
     "name": "stderr",
     "output_type": "stream",
     "text": [
      "100%|█████████████████████████████████████████████████████████████████████████████████| 60/60 [00:00<00:00, 160.84it/s]\n",
      " 27%|█████████████████████▌                                                           | 16/60 [00:00<00:00, 153.71it/s]"
     ]
    },
    {
     "name": "stdout",
     "output_type": "stream",
     "text": [
      "epoch: 69/250, train_loss: 1.52988359, val_loss: 1.31375762\n"
     ]
    },
    {
     "name": "stderr",
     "output_type": "stream",
     "text": [
      "100%|█████████████████████████████████████████████████████████████████████████████████| 60/60 [00:00<00:00, 161.58it/s]\n",
      " 28%|██████████████████████▉                                                          | 17/60 [00:00<00:00, 168.17it/s]"
     ]
    },
    {
     "name": "stdout",
     "output_type": "stream",
     "text": [
      "epoch: 70/250, train_loss: 1.55992797, val_loss: 1.42475843\n"
     ]
    },
    {
     "name": "stderr",
     "output_type": "stream",
     "text": [
      "100%|█████████████████████████████████████████████████████████████████████████████████| 60/60 [00:00<00:00, 162.90it/s]\n",
      " 27%|█████████████████████▌                                                           | 16/60 [00:00<00:00, 155.20it/s]"
     ]
    },
    {
     "name": "stdout",
     "output_type": "stream",
     "text": [
      "epoch: 71/250, train_loss: 1.49685514, val_loss: 1.42000828\n"
     ]
    },
    {
     "name": "stderr",
     "output_type": "stream",
     "text": [
      "100%|█████████████████████████████████████████████████████████████████████████████████| 60/60 [00:00<00:00, 161.14it/s]\n",
      " 27%|█████████████████████▌                                                           | 16/60 [00:00<00:00, 153.71it/s]"
     ]
    },
    {
     "name": "stdout",
     "output_type": "stream",
     "text": [
      "epoch: 72/250, train_loss: 1.48338354, val_loss: 1.61901117\n"
     ]
    },
    {
     "name": "stderr",
     "output_type": "stream",
     "text": [
      "100%|█████████████████████████████████████████████████████████████████████████████████| 60/60 [00:00<00:00, 159.43it/s]\n",
      " 27%|█████████████████████▌                                                           | 16/60 [00:00<00:00, 152.24it/s]"
     ]
    },
    {
     "name": "stdout",
     "output_type": "stream",
     "text": [
      "epoch: 73/250, train_loss: 1.52258454, val_loss: 1.30603784\n"
     ]
    },
    {
     "name": "stderr",
     "output_type": "stream",
     "text": [
      "100%|█████████████████████████████████████████████████████████████████████████████████| 60/60 [00:00<00:00, 139.08it/s]\n",
      " 27%|█████████████████████▌                                                           | 16/60 [00:00<00:00, 158.27it/s]"
     ]
    },
    {
     "name": "stdout",
     "output_type": "stream",
     "text": [
      "epoch: 74/250, train_loss: 1.49803725, val_loss: 1.39620360\n"
     ]
    },
    {
     "name": "stderr",
     "output_type": "stream",
     "text": [
      "100%|█████████████████████████████████████████████████████████████████████████████████| 60/60 [00:00<00:00, 156.52it/s]\n",
      " 53%|███████████████████████████████████████████▏                                     | 32/60 [00:00<00:00, 154.15it/s]"
     ]
    },
    {
     "name": "stdout",
     "output_type": "stream",
     "text": [
      "epoch: 75/250, train_loss: 1.47965858, val_loss: 1.27239187\n"
     ]
    },
    {
     "name": "stderr",
     "output_type": "stream",
     "text": [
      "100%|█████████████████████████████████████████████████████████████████████████████████| 60/60 [00:00<00:00, 155.70it/s]\n",
      " 52%|█████████████████████████████████████████▊                                       | 31/60 [00:00<00:00, 150.79it/s]"
     ]
    },
    {
     "name": "stdout",
     "output_type": "stream",
     "text": [
      "epoch: 76/250, train_loss: 1.47462217, val_loss: 1.46586353\n"
     ]
    },
    {
     "name": "stderr",
     "output_type": "stream",
     "text": [
      "100%|█████████████████████████████████████████████████████████████████████████████████| 60/60 [00:00<00:00, 155.30it/s]\n",
      " 57%|█████████████████████████████████████████████▉                                   | 34/60 [00:00<00:00, 164.90it/s]"
     ]
    },
    {
     "name": "stdout",
     "output_type": "stream",
     "text": [
      "epoch: 77/250, train_loss: 1.48044911, val_loss: 1.49227764\n"
     ]
    },
    {
     "name": "stderr",
     "output_type": "stream",
     "text": [
      "100%|█████████████████████████████████████████████████████████████████████████████████| 60/60 [00:00<00:00, 162.45it/s]\n",
      " 53%|███████████████████████████████████████████▏                                     | 32/60 [00:00<00:00, 157.96it/s]"
     ]
    },
    {
     "name": "stdout",
     "output_type": "stream",
     "text": [
      "epoch: 78/250, train_loss: 1.45553741, val_loss: 1.58365058\n"
     ]
    },
    {
     "name": "stderr",
     "output_type": "stream",
     "text": [
      "100%|█████████████████████████████████████████████████████████████████████████████████| 60/60 [00:00<00:00, 158.59it/s]\n",
      " 27%|█████████████████████▌                                                           | 16/60 [00:00<00:00, 155.20it/s]"
     ]
    },
    {
     "name": "stdout",
     "output_type": "stream",
     "text": [
      "epoch: 79/250, train_loss: 1.47939434, val_loss: 1.32665582\n"
     ]
    },
    {
     "name": "stderr",
     "output_type": "stream",
     "text": [
      "100%|█████████████████████████████████████████████████████████████████████████████████| 60/60 [00:00<00:00, 163.79it/s]\n",
      " 27%|█████████████████████▌                                                           | 16/60 [00:00<00:00, 156.72it/s]"
     ]
    },
    {
     "name": "stdout",
     "output_type": "stream",
     "text": [
      "epoch: 80/250, train_loss: 1.45126833, val_loss: 1.33382338\n"
     ]
    },
    {
     "name": "stderr",
     "output_type": "stream",
     "text": [
      "100%|█████████████████████████████████████████████████████████████████████████████████| 60/60 [00:00<00:00, 159.85it/s]\n",
      " 27%|█████████████████████▌                                                           | 16/60 [00:00<00:00, 158.27it/s]"
     ]
    },
    {
     "name": "stdout",
     "output_type": "stream",
     "text": [
      "epoch: 81/250, train_loss: 1.45358592, val_loss: 1.47035957\n"
     ]
    },
    {
     "name": "stderr",
     "output_type": "stream",
     "text": [
      "100%|█████████████████████████████████████████████████████████████████████████████████| 60/60 [00:00<00:00, 154.50it/s]\n",
      " 28%|██████████████████████▉                                                          | 17/60 [00:00<00:00, 161.76it/s]"
     ]
    },
    {
     "name": "stdout",
     "output_type": "stream",
     "text": [
      "epoch: 82/250, train_loss: 1.45806020, val_loss: 1.29603704\n"
     ]
    },
    {
     "name": "stderr",
     "output_type": "stream",
     "text": [
      "100%|█████████████████████████████████████████████████████████████████████████████████| 60/60 [00:00<00:00, 156.11it/s]\n",
      " 53%|███████████████████████████████████████████▏                                     | 32/60 [00:00<00:00, 158.74it/s]"
     ]
    },
    {
     "name": "stdout",
     "output_type": "stream",
     "text": [
      "epoch: 83/250, train_loss: 1.44616046, val_loss: 1.33379381\n"
     ]
    },
    {
     "name": "stderr",
     "output_type": "stream",
     "text": [
      "100%|█████████████████████████████████████████████████████████████████████████████████| 60/60 [00:00<00:00, 158.59it/s]\n",
      " 27%|█████████████████████▌                                                           | 16/60 [00:00<00:00, 152.24it/s]"
     ]
    },
    {
     "name": "stdout",
     "output_type": "stream",
     "text": [
      "epoch: 84/250, train_loss: 1.43847473, val_loss: 1.53340496\n"
     ]
    },
    {
     "name": "stderr",
     "output_type": "stream",
     "text": [
      "100%|█████████████████████████████████████████████████████████████████████████████████| 60/60 [00:00<00:00, 156.11it/s]\n",
      " 13%|███████████                                                                        | 8/60 [00:00<00:00, 76.85it/s]"
     ]
    },
    {
     "name": "stdout",
     "output_type": "stream",
     "text": [
      "epoch: 85/250, train_loss: 1.48122603, val_loss: 1.24608343\n"
     ]
    },
    {
     "name": "stderr",
     "output_type": "stream",
     "text": [
      "100%|█████████████████████████████████████████████████████████████████████████████████| 60/60 [00:00<00:00, 140.06it/s]\n",
      " 27%|█████████████████████▌                                                           | 16/60 [00:00<00:00, 153.71it/s]"
     ]
    },
    {
     "name": "stdout",
     "output_type": "stream",
     "text": [
      "epoch: 86/250, train_loss: 1.41624829, val_loss: 1.44274663\n"
     ]
    },
    {
     "name": "stderr",
     "output_type": "stream",
     "text": [
      "100%|█████████████████████████████████████████████████████████████████████████████████| 60/60 [00:00<00:00, 156.11it/s]\n",
      " 28%|██████████████████████▉                                                          | 17/60 [00:00<00:00, 164.90it/s]"
     ]
    },
    {
     "name": "stdout",
     "output_type": "stream",
     "text": [
      "epoch: 87/250, train_loss: 1.44750259, val_loss: 1.36446744\n"
     ]
    },
    {
     "name": "stderr",
     "output_type": "stream",
     "text": [
      "100%|█████████████████████████████████████████████████████████████████████████████████| 60/60 [00:00<00:00, 160.28it/s]\n",
      " 27%|█████████████████████▌                                                           | 16/60 [00:00<00:00, 153.71it/s]"
     ]
    },
    {
     "name": "stdout",
     "output_type": "stream",
     "text": [
      "epoch: 88/250, train_loss: 1.44903474, val_loss: 1.32093232\n"
     ]
    },
    {
     "name": "stderr",
     "output_type": "stream",
     "text": [
      "100%|█████████████████████████████████████████████████████████████████████████████████| 60/60 [00:00<00:00, 156.52it/s]\n",
      " 30%|████████████████████████▎                                                        | 18/60 [00:00<00:00, 171.27it/s]"
     ]
    },
    {
     "name": "stdout",
     "output_type": "stream",
     "text": [
      "epoch: 89/250, train_loss: 1.41160288, val_loss: 1.26835912\n"
     ]
    },
    {
     "name": "stderr",
     "output_type": "stream",
     "text": [
      "100%|█████████████████████████████████████████████████████████████████████████████████| 60/60 [00:00<00:00, 164.23it/s]\n",
      " 53%|███████████████████████████████████████████▏                                     | 32/60 [00:00<00:00, 159.85it/s]"
     ]
    },
    {
     "name": "stdout",
     "output_type": "stream",
     "text": [
      "epoch: 90/250, train_loss: 1.43743108, val_loss: 1.33010397\n"
     ]
    },
    {
     "name": "stderr",
     "output_type": "stream",
     "text": [
      "100%|█████████████████████████████████████████████████████████████████████████████████| 60/60 [00:00<00:00, 158.59it/s]\n",
      " 27%|█████████████████████▌                                                           | 16/60 [00:00<00:00, 150.81it/s]"
     ]
    },
    {
     "name": "stdout",
     "output_type": "stream",
     "text": [
      "epoch: 91/250, train_loss: 1.36861915, val_loss: 1.37603578\n"
     ]
    },
    {
     "name": "stderr",
     "output_type": "stream",
     "text": [
      "100%|█████████████████████████████████████████████████████████████████████████████████| 60/60 [00:00<00:00, 158.59it/s]\n",
      " 28%|██████████████████████▉                                                          | 17/60 [00:00<00:00, 168.16it/s]"
     ]
    },
    {
     "name": "stdout",
     "output_type": "stream",
     "text": [
      "epoch: 92/250, train_loss: 1.39839673, val_loss: 1.54928582\n"
     ]
    },
    {
     "name": "stderr",
     "output_type": "stream",
     "text": [
      "100%|█████████████████████████████████████████████████████████████████████████████████| 60/60 [00:00<00:00, 159.01it/s]\n",
      " 27%|█████████████████████▌                                                           | 16/60 [00:00<00:00, 155.20it/s]"
     ]
    },
    {
     "name": "stdout",
     "output_type": "stream",
     "text": [
      "epoch: 93/250, train_loss: 1.40660353, val_loss: 1.38531469\n"
     ]
    },
    {
     "name": "stderr",
     "output_type": "stream",
     "text": [
      "100%|█████████████████████████████████████████████████████████████████████████████████| 60/60 [00:00<00:00, 153.71it/s]\n",
      " 25%|████████████████████▎                                                            | 15/60 [00:00<00:00, 149.87it/s]"
     ]
    },
    {
     "name": "stdout",
     "output_type": "stream",
     "text": [
      "epoch: 94/250, train_loss: 1.37572117, val_loss: 1.50257088\n"
     ]
    },
    {
     "name": "stderr",
     "output_type": "stream",
     "text": [
      "100%|█████████████████████████████████████████████████████████████████████████████████| 60/60 [00:00<00:00, 157.75it/s]\n",
      " 27%|█████████████████████▌                                                           | 16/60 [00:00<00:00, 159.85it/s]"
     ]
    },
    {
     "name": "stdout",
     "output_type": "stream",
     "text": [
      "epoch: 95/250, train_loss: 1.37876770, val_loss: 1.42320802\n"
     ]
    },
    {
     "name": "stderr",
     "output_type": "stream",
     "text": [
      "100%|█████████████████████████████████████████████████████████████████████████████████| 60/60 [00:00<00:00, 154.90it/s]\n",
      " 27%|█████████████████████▌                                                           | 16/60 [00:00<00:00, 156.72it/s]"
     ]
    },
    {
     "name": "stdout",
     "output_type": "stream",
     "text": [
      "epoch: 96/250, train_loss: 1.46152420, val_loss: 1.36430497\n"
     ]
    },
    {
     "name": "stderr",
     "output_type": "stream",
     "text": [
      "100%|█████████████████████████████████████████████████████████████████████████████████| 60/60 [00:00<00:00, 137.49it/s]\n",
      " 28%|██████████████████████▉                                                          | 17/60 [00:00<00:00, 169.85it/s]"
     ]
    },
    {
     "name": "stdout",
     "output_type": "stream",
     "text": [
      "epoch: 97/250, train_loss: 1.39382001, val_loss: 1.25258107\n"
     ]
    },
    {
     "name": "stderr",
     "output_type": "stream",
     "text": [
      "100%|█████████████████████████████████████████████████████████████████████████████████| 60/60 [00:00<00:00, 163.34it/s]\n",
      " 53%|███████████████████████████████████████████▏                                     | 32/60 [00:00<00:00, 154.75it/s]"
     ]
    },
    {
     "name": "stdout",
     "output_type": "stream",
     "text": [
      "epoch: 98/250, train_loss: 1.39527933, val_loss: 1.28787398\n"
     ]
    },
    {
     "name": "stderr",
     "output_type": "stream",
     "text": [
      "100%|█████████████████████████████████████████████████████████████████████████████████| 60/60 [00:00<00:00, 156.93it/s]\n",
      " 55%|████████████████████████████████████████████▌                                    | 33/60 [00:00<00:00, 160.42it/s]"
     ]
    },
    {
     "name": "stdout",
     "output_type": "stream",
     "text": [
      "epoch: 99/250, train_loss: 1.38751192, val_loss: 1.22995028\n"
     ]
    },
    {
     "name": "stderr",
     "output_type": "stream",
     "text": [
      "100%|█████████████████████████████████████████████████████████████████████████████████| 60/60 [00:00<00:00, 159.43it/s]\n",
      " 55%|████████████████████████████████████████████▌                                    | 33/60 [00:00<00:00, 163.35it/s]"
     ]
    },
    {
     "name": "stdout",
     "output_type": "stream",
     "text": [
      "epoch: 100/250, train_loss: 1.37704750, val_loss: 1.31279945\n"
     ]
    },
    {
     "name": "stderr",
     "output_type": "stream",
     "text": [
      "100%|█████████████████████████████████████████████████████████████████████████████████| 60/60 [00:00<00:00, 162.90it/s]\n",
      " 28%|██████████████████████▉                                                          | 17/60 [00:00<00:00, 160.23it/s]"
     ]
    },
    {
     "name": "stdout",
     "output_type": "stream",
     "text": [
      "epoch: 101/250, train_loss: 1.40648514, val_loss: 1.24444067\n"
     ]
    },
    {
     "name": "stderr",
     "output_type": "stream",
     "text": [
      "100%|█████████████████████████████████████████████████████████████████████████████████| 60/60 [00:00<00:00, 164.23it/s]\n",
      " 28%|██████████████████████▉                                                          | 17/60 [00:00<00:00, 166.52it/s]"
     ]
    },
    {
     "name": "stdout",
     "output_type": "stream",
     "text": [
      "epoch: 102/250, train_loss: 1.40051641, val_loss: 1.23559434\n"
     ]
    },
    {
     "name": "stderr",
     "output_type": "stream",
     "text": [
      "100%|█████████████████████████████████████████████████████████████████████████████████| 60/60 [00:00<00:00, 163.79it/s]\n",
      " 28%|██████████████████████▉                                                          | 17/60 [00:00<00:00, 161.76it/s]"
     ]
    },
    {
     "name": "stdout",
     "output_type": "stream",
     "text": [
      "epoch: 103/250, train_loss: 1.36636394, val_loss: 1.53555907\n"
     ]
    },
    {
     "name": "stderr",
     "output_type": "stream",
     "text": [
      "100%|█████████████████████████████████████████████████████████████████████████████████| 60/60 [00:00<00:00, 156.52it/s]\n",
      " 28%|██████████████████████▉                                                          | 17/60 [00:00<00:00, 169.85it/s]"
     ]
    },
    {
     "name": "stdout",
     "output_type": "stream",
     "text": [
      "epoch: 104/250, train_loss: 1.37035189, val_loss: 1.28553849\n"
     ]
    },
    {
     "name": "stderr",
     "output_type": "stream",
     "text": [
      "100%|█████████████████████████████████████████████████████████████████████████████████| 60/60 [00:00<00:00, 163.34it/s]\n",
      " 27%|█████████████████████▌                                                           | 16/60 [00:00<00:00, 158.27it/s]"
     ]
    },
    {
     "name": "stdout",
     "output_type": "stream",
     "text": [
      "epoch: 105/250, train_loss: 1.39032307, val_loss: 1.41494203\n"
     ]
    },
    {
     "name": "stderr",
     "output_type": "stream",
     "text": [
      "100%|█████████████████████████████████████████████████████████████████████████████████| 60/60 [00:00<00:00, 162.90it/s]\n",
      " 27%|█████████████████████▌                                                           | 16/60 [00:00<00:00, 156.72it/s]"
     ]
    },
    {
     "name": "stdout",
     "output_type": "stream",
     "text": [
      "epoch: 106/250, train_loss: 1.46751226, val_loss: 1.32043651\n"
     ]
    },
    {
     "name": "stderr",
     "output_type": "stream",
     "text": [
      "100%|█████████████████████████████████████████████████████████████████████████████████| 60/60 [00:00<00:00, 159.85it/s]\n",
      " 27%|█████████████████████▌                                                           | 16/60 [00:00<00:00, 155.20it/s]"
     ]
    },
    {
     "name": "stdout",
     "output_type": "stream",
     "text": [
      "epoch: 107/250, train_loss: 1.36654395, val_loss: 1.30009956\n"
     ]
    },
    {
     "name": "stderr",
     "output_type": "stream",
     "text": [
      "100%|█████████████████████████████████████████████████████████████████████████████████| 60/60 [00:00<00:00, 163.34it/s]\n",
      " 15%|████████████▍                                                                      | 9/60 [00:00<00:00, 85.64it/s]"
     ]
    },
    {
     "name": "stdout",
     "output_type": "stream",
     "text": [
      "epoch: 108/250, train_loss: 1.34753141, val_loss: 1.29008198\n"
     ]
    },
    {
     "name": "stderr",
     "output_type": "stream",
     "text": [
      "100%|█████████████████████████████████████████████████████████████████████████████████| 60/60 [00:00<00:00, 142.05it/s]\n",
      " 30%|████████████████████████▎                                                        | 18/60 [00:00<00:00, 174.60it/s]"
     ]
    },
    {
     "name": "stdout",
     "output_type": "stream",
     "text": [
      "epoch: 109/250, train_loss: 1.34932639, val_loss: 1.37845092\n"
     ]
    },
    {
     "name": "stderr",
     "output_type": "stream",
     "text": [
      "100%|█████████████████████████████████████████████████████████████████████████████████| 60/60 [00:00<00:00, 167.91it/s]\n",
      " 28%|██████████████████████▉                                                          | 17/60 [00:00<00:00, 164.90it/s]"
     ]
    },
    {
     "name": "stdout",
     "output_type": "stream",
     "text": [
      "epoch: 110/250, train_loss: 1.32633994, val_loss: 1.34936122\n"
     ]
    },
    {
     "name": "stderr",
     "output_type": "stream",
     "text": [
      "100%|█████████████████████████████████████████████████████████████████████████████████| 60/60 [00:00<00:00, 163.79it/s]\n",
      " 28%|██████████████████████▉                                                          | 17/60 [00:00<00:00, 166.52it/s]"
     ]
    },
    {
     "name": "stdout",
     "output_type": "stream",
     "text": [
      "epoch: 111/250, train_loss: 1.36760904, val_loss: 1.26332318\n"
     ]
    },
    {
     "name": "stderr",
     "output_type": "stream",
     "text": [
      "100%|█████████████████████████████████████████████████████████████████████████████████| 60/60 [00:00<00:00, 162.45it/s]\n",
      " 28%|██████████████████████▉                                                          | 17/60 [00:00<00:00, 164.90it/s]"
     ]
    },
    {
     "name": "stdout",
     "output_type": "stream",
     "text": [
      "epoch: 112/250, train_loss: 1.38358491, val_loss: 1.28978355\n"
     ]
    },
    {
     "name": "stderr",
     "output_type": "stream",
     "text": [
      "100%|█████████████████████████████████████████████████████████████████████████████████| 60/60 [00:00<00:00, 161.14it/s]\n",
      " 28%|██████████████████████▉                                                          | 17/60 [00:00<00:00, 161.76it/s]"
     ]
    },
    {
     "name": "stdout",
     "output_type": "stream",
     "text": [
      "epoch: 113/250, train_loss: 1.36381004, val_loss: 1.45473441\n"
     ]
    },
    {
     "name": "stderr",
     "output_type": "stream",
     "text": [
      "100%|█████████████████████████████████████████████████████████████████████████████████| 60/60 [00:00<00:00, 162.01it/s]\n",
      " 27%|█████████████████████▌                                                           | 16/60 [00:00<00:00, 156.72it/s]"
     ]
    },
    {
     "name": "stdout",
     "output_type": "stream",
     "text": [
      "epoch: 114/250, train_loss: 1.31197910, val_loss: 1.36184604\n"
     ]
    },
    {
     "name": "stderr",
     "output_type": "stream",
     "text": [
      "100%|█████████████████████████████████████████████████████████████████████████████████| 60/60 [00:00<00:00, 160.28it/s]\n",
      " 28%|██████████████████████▉                                                          | 17/60 [00:00<00:00, 168.17it/s]"
     ]
    },
    {
     "name": "stdout",
     "output_type": "stream",
     "text": [
      "epoch: 115/250, train_loss: 1.36104591, val_loss: 1.32395056\n"
     ]
    },
    {
     "name": "stderr",
     "output_type": "stream",
     "text": [
      "100%|█████████████████████████████████████████████████████████████████████████████████| 60/60 [00:00<00:00, 162.45it/s]\n",
      " 28%|██████████████████████▉                                                          | 17/60 [00:00<00:00, 161.76it/s]"
     ]
    },
    {
     "name": "stdout",
     "output_type": "stream",
     "text": [
      "epoch: 116/250, train_loss: 1.40116799, val_loss: 1.30238644\n"
     ]
    },
    {
     "name": "stderr",
     "output_type": "stream",
     "text": [
      "100%|█████████████████████████████████████████████████████████████████████████████████| 60/60 [00:00<00:00, 162.45it/s]\n",
      " 28%|██████████████████████▉                                                          | 17/60 [00:00<00:00, 166.51it/s]"
     ]
    },
    {
     "name": "stdout",
     "output_type": "stream",
     "text": [
      "epoch: 117/250, train_loss: 1.33686942, val_loss: 1.22409273\n"
     ]
    },
    {
     "name": "stderr",
     "output_type": "stream",
     "text": [
      "100%|█████████████████████████████████████████████████████████████████████████████████| 60/60 [00:00<00:00, 158.17it/s]\n",
      " 28%|██████████████████████▉                                                          | 17/60 [00:00<00:00, 163.31it/s]"
     ]
    },
    {
     "name": "stdout",
     "output_type": "stream",
     "text": [
      "epoch: 118/250, train_loss: 1.35176738, val_loss: 1.25997360\n"
     ]
    },
    {
     "name": "stderr",
     "output_type": "stream",
     "text": [
      "100%|█████████████████████████████████████████████████████████████████████████████████| 60/60 [00:00<00:00, 162.02it/s]\n",
      " 27%|█████████████████████▌                                                           | 16/60 [00:00<00:00, 152.24it/s]"
     ]
    },
    {
     "name": "stdout",
     "output_type": "stream",
     "text": [
      "epoch: 119/250, train_loss: 1.36424876, val_loss: 1.25536274\n"
     ]
    },
    {
     "name": "stderr",
     "output_type": "stream",
     "text": [
      "100%|█████████████████████████████████████████████████████████████████████████████████| 60/60 [00:00<00:00, 139.73it/s]\n",
      " 28%|██████████████████████▉                                                          | 17/60 [00:00<00:00, 161.76it/s]"
     ]
    },
    {
     "name": "stdout",
     "output_type": "stream",
     "text": [
      "epoch: 120/250, train_loss: 1.38710437, val_loss: 1.27637685\n"
     ]
    },
    {
     "name": "stderr",
     "output_type": "stream",
     "text": [
      "100%|█████████████████████████████████████████████████████████████████████████████████| 60/60 [00:00<00:00, 158.59it/s]\n",
      " 52%|█████████████████████████████████████████▊                                       | 31/60 [00:00<00:00, 146.25it/s]"
     ]
    },
    {
     "name": "stdout",
     "output_type": "stream",
     "text": [
      "epoch: 121/250, train_loss: 1.35471839, val_loss: 1.20977908\n"
     ]
    },
    {
     "name": "stderr",
     "output_type": "stream",
     "text": [
      "100%|█████████████████████████████████████████████████████████████████████████████████| 60/60 [00:00<00:00, 157.34it/s]\n",
      " 27%|█████████████████████▌                                                           | 16/60 [00:00<00:00, 158.27it/s]"
     ]
    },
    {
     "name": "stdout",
     "output_type": "stream",
     "text": [
      "epoch: 122/250, train_loss: 1.33934022, val_loss: 1.28545673\n"
     ]
    },
    {
     "name": "stderr",
     "output_type": "stream",
     "text": [
      "100%|█████████████████████████████████████████████████████████████████████████████████| 60/60 [00:00<00:00, 156.11it/s]\n",
      " 28%|██████████████████████▉                                                          | 17/60 [00:00<00:00, 164.90it/s]"
     ]
    },
    {
     "name": "stdout",
     "output_type": "stream",
     "text": [
      "epoch: 123/250, train_loss: 1.31432032, val_loss: 1.23196845\n"
     ]
    },
    {
     "name": "stderr",
     "output_type": "stream",
     "text": [
      "100%|█████████████████████████████████████████████████████████████████████████████████| 60/60 [00:00<00:00, 162.90it/s]\n",
      " 28%|██████████████████████▉                                                          | 17/60 [00:00<00:00, 166.52it/s]"
     ]
    },
    {
     "name": "stdout",
     "output_type": "stream",
     "text": [
      "epoch: 124/250, train_loss: 1.38826571, val_loss: 1.22798716\n"
     ]
    },
    {
     "name": "stderr",
     "output_type": "stream",
     "text": [
      "100%|█████████████████████████████████████████████████████████████████████████████████| 60/60 [00:00<00:00, 166.51it/s]\n",
      " 55%|████████████████████████████████████████████▌                                    | 33/60 [00:00<00:00, 159.97it/s]"
     ]
    },
    {
     "name": "stdout",
     "output_type": "stream",
     "text": [
      "epoch: 125/250, train_loss: 1.35018224, val_loss: 1.30006180\n"
     ]
    },
    {
     "name": "stderr",
     "output_type": "stream",
     "text": [
      "100%|█████████████████████████████████████████████████████████████████████████████████| 60/60 [00:00<00:00, 159.85it/s]\n",
      " 27%|█████████████████████▌                                                           | 16/60 [00:00<00:00, 158.27it/s]"
     ]
    },
    {
     "name": "stdout",
     "output_type": "stream",
     "text": [
      "epoch: 126/250, train_loss: 1.31008479, val_loss: 1.24847245\n"
     ]
    },
    {
     "name": "stderr",
     "output_type": "stream",
     "text": [
      "100%|█████████████████████████████████████████████████████████████████████████████████| 60/60 [00:00<00:00, 155.30it/s]\n",
      " 27%|█████████████████████▌                                                           | 16/60 [00:00<00:00, 158.27it/s]"
     ]
    },
    {
     "name": "stdout",
     "output_type": "stream",
     "text": [
      "epoch: 127/250, train_loss: 1.37003726, val_loss: 1.24262937\n"
     ]
    },
    {
     "name": "stderr",
     "output_type": "stream",
     "text": [
      "100%|█████████████████████████████████████████████████████████████████████████████████| 60/60 [00:00<00:00, 161.58it/s]\n",
      " 27%|█████████████████████▌                                                           | 16/60 [00:00<00:00, 150.81it/s]"
     ]
    },
    {
     "name": "stdout",
     "output_type": "stream",
     "text": [
      "epoch: 128/250, train_loss: 1.32583762, val_loss: 1.25192126\n"
     ]
    },
    {
     "name": "stderr",
     "output_type": "stream",
     "text": [
      "100%|█████████████████████████████████████████████████████████████████████████████████| 60/60 [00:00<00:00, 162.01it/s]\n",
      " 28%|██████████████████████▉                                                          | 17/60 [00:00<00:00, 161.76it/s]"
     ]
    },
    {
     "name": "stdout",
     "output_type": "stream",
     "text": [
      "epoch: 129/250, train_loss: 1.37253075, val_loss: 1.21671741\n"
     ]
    },
    {
     "name": "stderr",
     "output_type": "stream",
     "text": [
      "100%|█████████████████████████████████████████████████████████████████████████████████| 60/60 [00:00<00:00, 159.01it/s]\n",
      " 55%|████████████████████████████████████████████▌                                    | 33/60 [00:00<00:00, 162.73it/s]"
     ]
    },
    {
     "name": "stdout",
     "output_type": "stream",
     "text": [
      "epoch: 130/250, train_loss: 1.35064175, val_loss: 1.32785600\n"
     ]
    },
    {
     "name": "stderr",
     "output_type": "stream",
     "text": [
      "100%|█████████████████████████████████████████████████████████████████████████████████| 60/60 [00:00<00:00, 162.01it/s]\n",
      " 22%|█████████████████▊                                                                | 13/60 [00:00<00:00, 89.57it/s]"
     ]
    },
    {
     "name": "stdout",
     "output_type": "stream",
     "text": [
      "epoch: 131/250, train_loss: 1.30860879, val_loss: 1.24448356\n"
     ]
    },
    {
     "name": "stderr",
     "output_type": "stream",
     "text": [
      "100%|█████████████████████████████████████████████████████████████████████████████████| 60/60 [00:00<00:00, 135.01it/s]\n",
      " 27%|█████████████████████▌                                                           | 16/60 [00:00<00:00, 158.27it/s]"
     ]
    },
    {
     "name": "stdout",
     "output_type": "stream",
     "text": [
      "epoch: 132/250, train_loss: 1.34492721, val_loss: 1.25609498\n"
     ]
    },
    {
     "name": "stderr",
     "output_type": "stream",
     "text": [
      "100%|█████████████████████████████████████████████████████████████████████████████████| 60/60 [00:00<00:00, 160.71it/s]\n",
      " 25%|████████████████████▎                                                            | 15/60 [00:00<00:00, 148.38it/s]"
     ]
    },
    {
     "name": "stdout",
     "output_type": "stream",
     "text": [
      "epoch: 133/250, train_loss: 1.29047888, val_loss: 1.29042306\n"
     ]
    },
    {
     "name": "stderr",
     "output_type": "stream",
     "text": [
      "100%|█████████████████████████████████████████████████████████████████████████████████| 60/60 [00:00<00:00, 156.52it/s]\n",
      " 55%|████████████████████████████████████████████▌                                    | 33/60 [00:00<00:00, 165.58it/s]"
     ]
    },
    {
     "name": "stdout",
     "output_type": "stream",
     "text": [
      "epoch: 134/250, train_loss: 1.32502392, val_loss: 1.24750537\n"
     ]
    },
    {
     "name": "stderr",
     "output_type": "stream",
     "text": [
      "100%|█████████████████████████████████████████████████████████████████████████████████| 60/60 [00:00<00:00, 163.79it/s]\n",
      " 53%|███████████████████████████████████████████▏                                     | 32/60 [00:00<00:00, 158.74it/s]"
     ]
    },
    {
     "name": "stdout",
     "output_type": "stream",
     "text": [
      "epoch: 135/250, train_loss: 1.34415324, val_loss: 1.25623806\n"
     ]
    },
    {
     "name": "stderr",
     "output_type": "stream",
     "text": [
      "100%|█████████████████████████████████████████████████████████████████████████████████| 60/60 [00:00<00:00, 157.75it/s]\n",
      " 27%|█████████████████████▌                                                           | 16/60 [00:00<00:00, 158.27it/s]"
     ]
    },
    {
     "name": "stdout",
     "output_type": "stream",
     "text": [
      "epoch: 136/250, train_loss: 1.34396634, val_loss: 1.27970327\n"
     ]
    },
    {
     "name": "stderr",
     "output_type": "stream",
     "text": [
      "100%|█████████████████████████████████████████████████████████████████████████████████| 60/60 [00:00<00:00, 155.70it/s]\n",
      " 28%|██████████████████████▉                                                          | 17/60 [00:00<00:00, 166.51it/s]"
     ]
    },
    {
     "name": "stdout",
     "output_type": "stream",
     "text": [
      "epoch: 137/250, train_loss: 1.30758697, val_loss: 1.24419368\n"
     ]
    },
    {
     "name": "stderr",
     "output_type": "stream",
     "text": [
      "100%|█████████████████████████████████████████████████████████████████████████████████| 60/60 [00:00<00:00, 161.58it/s]\n",
      " 57%|█████████████████████████████████████████████▉                                   | 34/60 [00:00<00:00, 169.34it/s]"
     ]
    },
    {
     "name": "stdout",
     "output_type": "stream",
     "text": [
      "epoch: 138/250, train_loss: 1.31620897, val_loss: 1.21877174\n"
     ]
    },
    {
     "name": "stderr",
     "output_type": "stream",
     "text": [
      "100%|█████████████████████████████████████████████████████████████████████████████████| 60/60 [00:00<00:00, 163.34it/s]\n",
      " 27%|█████████████████████▌                                                           | 16/60 [00:00<00:00, 159.85it/s]"
     ]
    },
    {
     "name": "stdout",
     "output_type": "stream",
     "text": [
      "epoch: 139/250, train_loss: 1.32446643, val_loss: 1.23369892\n"
     ]
    },
    {
     "name": "stderr",
     "output_type": "stream",
     "text": [
      "100%|█████████████████████████████████████████████████████████████████████████████████| 60/60 [00:00<00:00, 161.58it/s]\n",
      " 28%|██████████████████████▉                                                          | 17/60 [00:00<00:00, 168.17it/s]"
     ]
    },
    {
     "name": "stdout",
     "output_type": "stream",
     "text": [
      "epoch: 140/250, train_loss: 1.34527202, val_loss: 1.23062698\n"
     ]
    },
    {
     "name": "stderr",
     "output_type": "stream",
     "text": [
      "100%|█████████████████████████████████████████████████████████████████████████████████| 60/60 [00:00<00:00, 165.60it/s]\n",
      " 28%|██████████████████████▉                                                          | 17/60 [00:00<00:00, 164.90it/s]"
     ]
    },
    {
     "name": "stdout",
     "output_type": "stream",
     "text": [
      "epoch: 141/250, train_loss: 1.29683935, val_loss: 1.25075449\n"
     ]
    },
    {
     "name": "stderr",
     "output_type": "stream",
     "text": [
      "100%|█████████████████████████████████████████████████████████████████████████████████| 60/60 [00:00<00:00, 160.71it/s]\n",
      " 27%|█████████████████████▌                                                           | 16/60 [00:00<00:00, 153.71it/s]"
     ]
    },
    {
     "name": "stdout",
     "output_type": "stream",
     "text": [
      "epoch: 142/250, train_loss: 1.27925936, val_loss: 1.29442173\n"
     ]
    },
    {
     "name": "stderr",
     "output_type": "stream",
     "text": [
      "100%|█████████████████████████████████████████████████████████████████████████████████| 60/60 [00:00<00:00, 139.41it/s]\n",
      " 28%|██████████████████████▉                                                          | 17/60 [00:00<00:00, 160.23it/s]"
     ]
    },
    {
     "name": "stdout",
     "output_type": "stream",
     "text": [
      "epoch: 143/250, train_loss: 1.30618255, val_loss: 1.20653354\n"
     ]
    },
    {
     "name": "stderr",
     "output_type": "stream",
     "text": [
      "100%|█████████████████████████████████████████████████████████████████████████████████| 60/60 [00:00<00:00, 159.01it/s]\n",
      " 52%|█████████████████████████████████████████▊                                       | 31/60 [00:00<00:00, 154.69it/s]"
     ]
    },
    {
     "name": "stdout",
     "output_type": "stream",
     "text": [
      "epoch: 144/250, train_loss: 1.33618526, val_loss: 1.24221023\n"
     ]
    },
    {
     "name": "stderr",
     "output_type": "stream",
     "text": [
      "100%|█████████████████████████████████████████████████████████████████████████████████| 60/60 [00:00<00:00, 154.90it/s]\n",
      " 25%|████████████████████▎                                                            | 15/60 [00:00<00:00, 149.86it/s]"
     ]
    },
    {
     "name": "stdout",
     "output_type": "stream",
     "text": [
      "epoch: 145/250, train_loss: 1.25623493, val_loss: 1.29241744\n"
     ]
    },
    {
     "name": "stderr",
     "output_type": "stream",
     "text": [
      "100%|█████████████████████████████████████████████████████████████████████████████████| 60/60 [00:00<00:00, 156.93it/s]\n",
      " 25%|████████████████████▎                                                            | 15/60 [00:00<00:00, 146.92it/s]"
     ]
    },
    {
     "name": "stdout",
     "output_type": "stream",
     "text": [
      "epoch: 146/250, train_loss: 1.36565041, val_loss: 1.28227982\n"
     ]
    },
    {
     "name": "stderr",
     "output_type": "stream",
     "text": [
      "100%|█████████████████████████████████████████████████████████████████████████████████| 60/60 [00:00<00:00, 158.59it/s]\n",
      " 27%|█████████████████████▌                                                           | 16/60 [00:00<00:00, 150.81it/s]"
     ]
    },
    {
     "name": "stdout",
     "output_type": "stream",
     "text": [
      "epoch: 147/250, train_loss: 1.30074018, val_loss: 1.24826120\n"
     ]
    },
    {
     "name": "stderr",
     "output_type": "stream",
     "text": [
      "100%|█████████████████████████████████████████████████████████████████████████████████| 60/60 [00:00<00:00, 154.90it/s]\n",
      " 52%|█████████████████████████████████████████▊                                       | 31/60 [00:00<00:00, 155.17it/s]"
     ]
    },
    {
     "name": "stdout",
     "output_type": "stream",
     "text": [
      "epoch: 148/250, train_loss: 1.31402926, val_loss: 1.24333412\n"
     ]
    },
    {
     "name": "stderr",
     "output_type": "stream",
     "text": [
      "100%|█████████████████████████████████████████████████████████████████████████████████| 60/60 [00:00<00:00, 157.75it/s]\n",
      " 28%|██████████████████████▉                                                          | 17/60 [00:00<00:00, 164.90it/s]"
     ]
    },
    {
     "name": "stdout",
     "output_type": "stream",
     "text": [
      "epoch: 149/250, train_loss: 1.29049445, val_loss: 1.30005387\n"
     ]
    },
    {
     "name": "stderr",
     "output_type": "stream",
     "text": [
      "100%|█████████████████████████████████████████████████████████████████████████████████| 60/60 [00:00<00:00, 160.28it/s]\n",
      " 27%|█████████████████████▌                                                           | 16/60 [00:00<00:00, 156.72it/s]"
     ]
    },
    {
     "name": "stdout",
     "output_type": "stream",
     "text": [
      "epoch: 150/250, train_loss: 1.25300076, val_loss: 1.26969824\n"
     ]
    },
    {
     "name": "stderr",
     "output_type": "stream",
     "text": [
      "100%|█████████████████████████████████████████████████████████████████████████████████| 60/60 [00:00<00:00, 159.43it/s]\n",
      " 27%|█████████████████████▌                                                           | 16/60 [00:00<00:00, 155.20it/s]"
     ]
    },
    {
     "name": "stdout",
     "output_type": "stream",
     "text": [
      "epoch: 151/250, train_loss: 1.28602924, val_loss: 1.24414589\n"
     ]
    },
    {
     "name": "stderr",
     "output_type": "stream",
     "text": [
      "100%|█████████████████████████████████████████████████████████████████████████████████| 60/60 [00:00<00:00, 154.10it/s]\n",
      " 28%|██████████████████████▉                                                          | 17/60 [00:00<00:00, 164.90it/s]"
     ]
    },
    {
     "name": "stdout",
     "output_type": "stream",
     "text": [
      "epoch: 152/250, train_loss: 1.22027639, val_loss: 1.20423860\n"
     ]
    },
    {
     "name": "stderr",
     "output_type": "stream",
     "text": [
      "100%|█████████████████████████████████████████████████████████████████████████████████| 60/60 [00:00<00:00, 164.23it/s]\n",
      " 28%|██████████████████████▉                                                          | 17/60 [00:00<00:00, 166.52it/s]"
     ]
    },
    {
     "name": "stdout",
     "output_type": "stream",
     "text": [
      "epoch: 153/250, train_loss: 1.26816590, val_loss: 1.25131386\n"
     ]
    },
    {
     "name": "stderr",
     "output_type": "stream",
     "text": [
      "100%|█████████████████████████████████████████████████████████████████████████████████| 60/60 [00:00<00:00, 163.34it/s]\n",
      " 40%|████████████████████████████████▍                                                | 24/60 [00:00<00:00, 119.56it/s]"
     ]
    },
    {
     "name": "stdout",
     "output_type": "stream",
     "text": [
      "epoch: 154/250, train_loss: 1.29833027, val_loss: 1.28567046\n"
     ]
    },
    {
     "name": "stderr",
     "output_type": "stream",
     "text": [
      "100%|█████████████████████████████████████████████████████████████████████████████████| 60/60 [00:00<00:00, 136.55it/s]\n",
      " 28%|██████████████████████▉                                                          | 17/60 [00:00<00:00, 164.90it/s]"
     ]
    },
    {
     "name": "stdout",
     "output_type": "stream",
     "text": [
      "epoch: 155/250, train_loss: 1.27621458, val_loss: 1.25190777\n"
     ]
    },
    {
     "name": "stderr",
     "output_type": "stream",
     "text": [
      "100%|█████████████████████████████████████████████████████████████████████████████████| 60/60 [00:00<00:00, 159.01it/s]\n",
      " 55%|████████████████████████████████████████████▌                                    | 33/60 [00:00<00:00, 162.73it/s]"
     ]
    },
    {
     "name": "stdout",
     "output_type": "stream",
     "text": [
      "epoch: 156/250, train_loss: 1.31784226, val_loss: 1.25647244\n"
     ]
    },
    {
     "name": "stderr",
     "output_type": "stream",
     "text": [
      "100%|█████████████████████████████████████████████████████████████████████████████████| 60/60 [00:00<00:00, 163.79it/s]\n",
      " 55%|████████████████████████████████████████████▌                                    | 33/60 [00:00<00:00, 158.87it/s]"
     ]
    },
    {
     "name": "stdout",
     "output_type": "stream",
     "text": [
      "epoch: 157/250, train_loss: 1.31095175, val_loss: 1.21666291\n"
     ]
    },
    {
     "name": "stderr",
     "output_type": "stream",
     "text": [
      "100%|█████████████████████████████████████████████████████████████████████████████████| 60/60 [00:00<00:00, 157.75it/s]\n",
      " 53%|███████████████████████████████████████████▏                                     | 32/60 [00:00<00:00, 156.57it/s]"
     ]
    },
    {
     "name": "stdout",
     "output_type": "stream",
     "text": [
      "epoch: 158/250, train_loss: 1.28276139, val_loss: 1.23311117\n"
     ]
    },
    {
     "name": "stderr",
     "output_type": "stream",
     "text": [
      "100%|█████████████████████████████████████████████████████████████████████████████████| 60/60 [00:00<00:00, 158.17it/s]\n",
      " 28%|██████████████████████▉                                                          | 17/60 [00:00<00:00, 166.50it/s]"
     ]
    },
    {
     "name": "stdout",
     "output_type": "stream",
     "text": [
      "epoch: 159/250, train_loss: 1.32461809, val_loss: 1.20902418\n"
     ]
    },
    {
     "name": "stderr",
     "output_type": "stream",
     "text": [
      "100%|█████████████████████████████████████████████████████████████████████████████████| 60/60 [00:00<00:00, 157.74it/s]\n",
      " 28%|██████████████████████▉                                                          | 17/60 [00:00<00:00, 163.31it/s]"
     ]
    },
    {
     "name": "stdout",
     "output_type": "stream",
     "text": [
      "epoch: 160/250, train_loss: 1.25523390, val_loss: 1.22030866\n"
     ]
    },
    {
     "name": "stderr",
     "output_type": "stream",
     "text": [
      "100%|█████████████████████████████████████████████████████████████████████████████████| 60/60 [00:00<00:00, 158.59it/s]\n",
      " 28%|██████████████████████▉                                                          | 17/60 [00:00<00:00, 164.90it/s]"
     ]
    },
    {
     "name": "stdout",
     "output_type": "stream",
     "text": [
      "epoch: 161/250, train_loss: 1.30339202, val_loss: 1.22707624\n"
     ]
    },
    {
     "name": "stderr",
     "output_type": "stream",
     "text": [
      "100%|█████████████████████████████████████████████████████████████████████████████████| 60/60 [00:00<00:00, 158.59it/s]\n",
      " 25%|████████████████████▎                                                            | 15/60 [00:00<00:00, 142.73it/s]"
     ]
    },
    {
     "name": "stdout",
     "output_type": "stream",
     "text": [
      "epoch: 162/250, train_loss: 1.27152177, val_loss: 1.27301276\n"
     ]
    },
    {
     "name": "stderr",
     "output_type": "stream",
     "text": [
      "100%|█████████████████████████████████████████████████████████████████████████████████| 60/60 [00:00<00:00, 152.53it/s]\n",
      " 27%|█████████████████████▌                                                           | 16/60 [00:00<00:00, 153.69it/s]"
     ]
    },
    {
     "name": "stdout",
     "output_type": "stream",
     "text": [
      "epoch: 163/250, train_loss: 1.26146315, val_loss: 1.26617794\n"
     ]
    },
    {
     "name": "stderr",
     "output_type": "stream",
     "text": [
      "100%|█████████████████████████████████████████████████████████████████████████████████| 60/60 [00:00<00:00, 160.28it/s]\n",
      " 25%|████████████████████▎                                                            | 15/60 [00:00<00:00, 146.92it/s]"
     ]
    },
    {
     "name": "stdout",
     "output_type": "stream",
     "text": [
      "epoch: 164/250, train_loss: 1.28932547, val_loss: 1.30305484\n"
     ]
    },
    {
     "name": "stderr",
     "output_type": "stream",
     "text": [
      "100%|█████████████████████████████████████████████████████████████████████████████████| 60/60 [00:00<00:00, 157.75it/s]\n",
      " 27%|█████████████████████▌                                                           | 16/60 [00:00<00:00, 158.27it/s]"
     ]
    },
    {
     "name": "stdout",
     "output_type": "stream",
     "text": [
      "epoch: 165/250, train_loss: 1.25774326, val_loss: 1.23067035\n"
     ]
    },
    {
     "name": "stderr",
     "output_type": "stream",
     "text": [
      "100%|█████████████████████████████████████████████████████████████████████████████████| 60/60 [00:00<00:00, 139.41it/s]\n",
      " 27%|█████████████████████▌                                                           | 16/60 [00:00<00:00, 155.18it/s]"
     ]
    },
    {
     "name": "stdout",
     "output_type": "stream",
     "text": [
      "epoch: 166/250, train_loss: 1.26138446, val_loss: 1.20328127\n"
     ]
    },
    {
     "name": "stderr",
     "output_type": "stream",
     "text": [
      "100%|█████████████████████████████████████████████████████████████████████████████████| 60/60 [00:00<00:00, 159.85it/s]\n",
      " 28%|██████████████████████▉                                                          | 17/60 [00:00<00:00, 164.90it/s]"
     ]
    },
    {
     "name": "stdout",
     "output_type": "stream",
     "text": [
      "epoch: 167/250, train_loss: 1.28113969, val_loss: 1.23008505\n"
     ]
    },
    {
     "name": "stderr",
     "output_type": "stream",
     "text": [
      "100%|█████████████████████████████████████████████████████████████████████████████████| 60/60 [00:00<00:00, 156.11it/s]\n",
      " 52%|█████████████████████████████████████████▊                                       | 31/60 [00:00<00:00, 152.29it/s]"
     ]
    },
    {
     "name": "stdout",
     "output_type": "stream",
     "text": [
      "epoch: 168/250, train_loss: 1.29262996, val_loss: 1.20793017\n"
     ]
    },
    {
     "name": "stderr",
     "output_type": "stream",
     "text": [
      "100%|█████████████████████████████████████████████████████████████████████████████████| 60/60 [00:00<00:00, 158.59it/s]\n",
      " 27%|█████████████████████▌                                                           | 16/60 [00:00<00:00, 155.20it/s]"
     ]
    },
    {
     "name": "stdout",
     "output_type": "stream",
     "text": [
      "epoch: 169/250, train_loss: 1.28639076, val_loss: 1.21621921\n"
     ]
    },
    {
     "name": "stderr",
     "output_type": "stream",
     "text": [
      "100%|█████████████████████████████████████████████████████████████████████████████████| 60/60 [00:00<00:00, 156.92it/s]\n",
      " 28%|██████████████████████▉                                                          | 17/60 [00:00<00:00, 161.76it/s]"
     ]
    },
    {
     "name": "stdout",
     "output_type": "stream",
     "text": [
      "epoch: 170/250, train_loss: 1.29200967, val_loss: 1.20620866\n"
     ]
    },
    {
     "name": "stderr",
     "output_type": "stream",
     "text": [
      "100%|█████████████████████████████████████████████████████████████████████████████████| 60/60 [00:00<00:00, 154.90it/s]\n",
      " 25%|████████████████████▎                                                            | 15/60 [00:00<00:00, 148.38it/s]"
     ]
    },
    {
     "name": "stdout",
     "output_type": "stream",
     "text": [
      "epoch: 171/250, train_loss: 1.28343620, val_loss: 1.24728435\n"
     ]
    },
    {
     "name": "stderr",
     "output_type": "stream",
     "text": [
      "100%|█████████████████████████████████████████████████████████████████████████████████| 60/60 [00:00<00:00, 158.16it/s]\n",
      " 27%|█████████████████████▌                                                           | 16/60 [00:00<00:00, 159.85it/s]"
     ]
    },
    {
     "name": "stdout",
     "output_type": "stream",
     "text": [
      "epoch: 172/250, train_loss: 1.27053608, val_loss: 1.22800040\n"
     ]
    },
    {
     "name": "stderr",
     "output_type": "stream",
     "text": [
      "100%|█████████████████████████████████████████████████████████████████████████████████| 60/60 [00:00<00:00, 157.75it/s]\n",
      " 28%|██████████████████████▉                                                          | 17/60 [00:00<00:00, 161.76it/s]"
     ]
    },
    {
     "name": "stdout",
     "output_type": "stream",
     "text": [
      "epoch: 173/250, train_loss: 1.26870575, val_loss: 1.21606112\n"
     ]
    },
    {
     "name": "stderr",
     "output_type": "stream",
     "text": [
      "100%|█████████████████████████████████████████████████████████████████████████████████| 60/60 [00:00<00:00, 161.57it/s]\n",
      " 27%|█████████████████████▌                                                           | 16/60 [00:00<00:00, 150.81it/s]"
     ]
    },
    {
     "name": "stdout",
     "output_type": "stream",
     "text": [
      "epoch: 174/250, train_loss: 1.25597397, val_loss: 1.24432674\n"
     ]
    },
    {
     "name": "stderr",
     "output_type": "stream",
     "text": [
      "100%|█████████████████████████████████████████████████████████████████████████████████| 60/60 [00:00<00:00, 156.51it/s]\n",
      " 25%|████████████████████▎                                                            | 15/60 [00:00<00:00, 149.86it/s]"
     ]
    },
    {
     "name": "stdout",
     "output_type": "stream",
     "text": [
      "epoch: 175/250, train_loss: 1.28691017, val_loss: 1.21662738\n"
     ]
    },
    {
     "name": "stderr",
     "output_type": "stream",
     "text": [
      "100%|█████████████████████████████████████████████████████████████████████████████████| 60/60 [00:00<00:00, 155.30it/s]\n",
      " 53%|███████████████████████████████████████████▏                                     | 32/60 [00:00<00:00, 155.60it/s]"
     ]
    },
    {
     "name": "stdout",
     "output_type": "stream",
     "text": [
      "epoch: 176/250, train_loss: 1.29015070, val_loss: 1.26186931\n"
     ]
    },
    {
     "name": "stderr",
     "output_type": "stream",
     "text": [
      "100%|█████████████████████████████████████████████████████████████████████████████████| 60/60 [00:00<00:00, 153.80it/s]\n",
      " 25%|████████████████████▎                                                            | 15/60 [00:00<00:00, 149.86it/s]"
     ]
    },
    {
     "name": "stdout",
     "output_type": "stream",
     "text": [
      "epoch: 177/250, train_loss: 1.29587674, val_loss: 1.22703092\n"
     ]
    },
    {
     "name": "stderr",
     "output_type": "stream",
     "text": [
      "100%|█████████████████████████████████████████████████████████████████████████████████| 60/60 [00:00<00:00, 133.51it/s]\n",
      " 25%|████████████████████▎                                                            | 15/60 [00:00<00:00, 149.86it/s]"
     ]
    },
    {
     "name": "stdout",
     "output_type": "stream",
     "text": [
      "epoch: 178/250, train_loss: 1.29272670, val_loss: 1.26737665\n"
     ]
    },
    {
     "name": "stderr",
     "output_type": "stream",
     "text": [
      "100%|█████████████████████████████████████████████████████████████████████████████████| 60/60 [00:00<00:00, 157.75it/s]\n",
      " 25%|████████████████████▎                                                            | 15/60 [00:00<00:00, 149.86it/s]"
     ]
    },
    {
     "name": "stdout",
     "output_type": "stream",
     "text": [
      "epoch: 179/250, train_loss: 1.21648211, val_loss: 1.23439079\n"
     ]
    },
    {
     "name": "stderr",
     "output_type": "stream",
     "text": [
      "100%|█████████████████████████████████████████████████████████████████████████████████| 60/60 [00:00<00:00, 154.90it/s]\n",
      " 28%|██████████████████████▉                                                          | 17/60 [00:00<00:00, 164.90it/s]"
     ]
    },
    {
     "name": "stdout",
     "output_type": "stream",
     "text": [
      "epoch: 180/250, train_loss: 1.25386105, val_loss: 1.22876031\n"
     ]
    },
    {
     "name": "stderr",
     "output_type": "stream",
     "text": [
      "100%|█████████████████████████████████████████████████████████████████████████████████| 60/60 [00:00<00:00, 162.45it/s]\n",
      " 27%|█████████████████████▌                                                           | 16/60 [00:00<00:00, 155.20it/s]"
     ]
    },
    {
     "name": "stdout",
     "output_type": "stream",
     "text": [
      "epoch: 181/250, train_loss: 1.29582975, val_loss: 1.21569797\n"
     ]
    },
    {
     "name": "stderr",
     "output_type": "stream",
     "text": [
      "100%|█████████████████████████████████████████████████████████████████████████████████| 60/60 [00:00<00:00, 157.34it/s]\n",
      " 27%|█████████████████████▌                                                           | 16/60 [00:00<00:00, 153.71it/s]"
     ]
    },
    {
     "name": "stdout",
     "output_type": "stream",
     "text": [
      "epoch: 182/250, train_loss: 1.29334687, val_loss: 1.22620068\n"
     ]
    },
    {
     "name": "stderr",
     "output_type": "stream",
     "text": [
      "100%|█████████████████████████████████████████████████████████████████████████████████| 60/60 [00:00<00:00, 160.71it/s]\n",
      " 27%|█████████████████████▌                                                           | 16/60 [00:00<00:00, 153.71it/s]"
     ]
    },
    {
     "name": "stdout",
     "output_type": "stream",
     "text": [
      "epoch: 183/250, train_loss: 1.28485894, val_loss: 1.25620137\n"
     ]
    },
    {
     "name": "stderr",
     "output_type": "stream",
     "text": [
      "100%|█████████████████████████████████████████████████████████████████████████████████| 60/60 [00:00<00:00, 155.30it/s]\n",
      " 27%|█████████████████████▌                                                           | 16/60 [00:00<00:00, 159.85it/s]"
     ]
    },
    {
     "name": "stdout",
     "output_type": "stream",
     "text": [
      "epoch: 184/250, train_loss: 1.26331308, val_loss: 1.33764485\n"
     ]
    },
    {
     "name": "stderr",
     "output_type": "stream",
     "text": [
      "100%|█████████████████████████████████████████████████████████████████████████████████| 60/60 [00:00<00:00, 150.62it/s]\n",
      " 25%|████████████████████▎                                                            | 15/60 [00:00<00:00, 146.93it/s]"
     ]
    },
    {
     "name": "stdout",
     "output_type": "stream",
     "text": [
      "epoch: 185/250, train_loss: 1.24300571, val_loss: 1.20647250\n"
     ]
    },
    {
     "name": "stderr",
     "output_type": "stream",
     "text": [
      "100%|█████████████████████████████████████████████████████████████████████████████████| 60/60 [00:00<00:00, 155.70it/s]\n",
      " 28%|██████████████████████▉                                                          | 17/60 [00:00<00:00, 163.31it/s]"
     ]
    },
    {
     "name": "stdout",
     "output_type": "stream",
     "text": [
      "epoch: 186/250, train_loss: 1.22507108, val_loss: 1.25905596\n"
     ]
    },
    {
     "name": "stderr",
     "output_type": "stream",
     "text": [
      "100%|█████████████████████████████████████████████████████████████████████████████████| 60/60 [00:00<00:00, 158.17it/s]\n",
      " 52%|█████████████████████████████████████████▊                                       | 31/60 [00:00<00:00, 154.60it/s]"
     ]
    },
    {
     "name": "stdout",
     "output_type": "stream",
     "text": [
      "epoch: 187/250, train_loss: 1.27434414, val_loss: 1.21827938\n"
     ]
    },
    {
     "name": "stderr",
     "output_type": "stream",
     "text": [
      "100%|█████████████████████████████████████████████████████████████████████████████████| 60/60 [00:00<00:00, 153.70it/s]\n",
      " 27%|█████████████████████▌                                                           | 16/60 [00:00<00:00, 158.27it/s]"
     ]
    },
    {
     "name": "stdout",
     "output_type": "stream",
     "text": [
      "epoch: 188/250, train_loss: 1.23713904, val_loss: 1.23323471\n"
     ]
    },
    {
     "name": "stderr",
     "output_type": "stream",
     "text": [
      "100%|█████████████████████████████████████████████████████████████████████████████████| 60/60 [00:00<00:00, 157.75it/s]\n",
      " 28%|██████████████████████▉                                                          | 17/60 [00:00<00:00, 163.30it/s]"
     ]
    },
    {
     "name": "stdout",
     "output_type": "stream",
     "text": [
      "epoch: 189/250, train_loss: 1.23688676, val_loss: 1.22178925\n"
     ]
    },
    {
     "name": "stderr",
     "output_type": "stream",
     "text": [
      "100%|█████████████████████████████████████████████████████████████████████████████████| 60/60 [00:00<00:00, 159.43it/s]\n",
      " 27%|█████████████████████▌                                                           | 16/60 [00:00<00:00, 155.20it/s]"
     ]
    },
    {
     "name": "stdout",
     "output_type": "stream",
     "text": [
      "epoch: 190/250, train_loss: 1.21899898, val_loss: 1.22233438\n"
     ]
    },
    {
     "name": "stderr",
     "output_type": "stream",
     "text": [
      "100%|█████████████████████████████████████████████████████████████████████████████████| 60/60 [00:00<00:00, 158.16it/s]\n",
      " 27%|█████████████████████▌                                                           | 16/60 [00:00<00:00, 153.71it/s]"
     ]
    },
    {
     "name": "stdout",
     "output_type": "stream",
     "text": [
      "epoch: 191/250, train_loss: 1.27762995, val_loss: 1.20746026\n"
     ]
    },
    {
     "name": "stderr",
     "output_type": "stream",
     "text": [
      "100%|█████████████████████████████████████████████████████████████████████████████████| 60/60 [00:00<00:00, 159.85it/s]\n",
      " 27%|█████████████████████▌                                                           | 16/60 [00:00<00:00, 158.27it/s]"
     ]
    },
    {
     "name": "stdout",
     "output_type": "stream",
     "text": [
      "epoch: 192/250, train_loss: 1.25275176, val_loss: 1.22853545\n"
     ]
    },
    {
     "name": "stderr",
     "output_type": "stream",
     "text": [
      "100%|█████████████████████████████████████████████████████████████████████████████████| 60/60 [00:00<00:00, 154.50it/s]\n",
      " 27%|█████████████████████▌                                                           | 16/60 [00:00<00:00, 159.85it/s]"
     ]
    },
    {
     "name": "stdout",
     "output_type": "stream",
     "text": [
      "epoch: 193/250, train_loss: 1.20945979, val_loss: 1.20219524\n"
     ]
    },
    {
     "name": "stderr",
     "output_type": "stream",
     "text": [
      "100%|█████████████████████████████████████████████████████████████████████████████████| 60/60 [00:00<00:00, 158.17it/s]\n",
      " 27%|█████████████████████▌                                                           | 16/60 [00:00<00:00, 156.72it/s]"
     ]
    },
    {
     "name": "stdout",
     "output_type": "stream",
     "text": [
      "epoch: 194/250, train_loss: 1.21257475, val_loss: 1.19597404\n"
     ]
    },
    {
     "name": "stderr",
     "output_type": "stream",
     "text": [
      "100%|█████████████████████████████████████████████████████████████████████████████████| 60/60 [00:00<00:00, 152.92it/s]\n",
      " 28%|██████████████████████▉                                                          | 17/60 [00:00<00:00, 161.76it/s]"
     ]
    },
    {
     "name": "stdout",
     "output_type": "stream",
     "text": [
      "epoch: 195/250, train_loss: 1.24345848, val_loss: 1.18944467\n"
     ]
    },
    {
     "name": "stderr",
     "output_type": "stream",
     "text": [
      "100%|█████████████████████████████████████████████████████████████████████████████████| 60/60 [00:00<00:00, 159.01it/s]\n",
      " 28%|██████████████████████▉                                                          | 17/60 [00:00<00:00, 164.90it/s]"
     ]
    },
    {
     "name": "stdout",
     "output_type": "stream",
     "text": [
      "epoch: 196/250, train_loss: 1.20135367, val_loss: 1.19190738\n"
     ]
    },
    {
     "name": "stderr",
     "output_type": "stream",
     "text": [
      "100%|█████████████████████████████████████████████████████████████████████████████████| 60/60 [00:00<00:00, 161.14it/s]\n",
      " 28%|██████████████████████▉                                                          | 17/60 [00:00<00:00, 161.76it/s]"
     ]
    },
    {
     "name": "stdout",
     "output_type": "stream",
     "text": [
      "epoch: 197/250, train_loss: 1.23870183, val_loss: 1.26189995\n"
     ]
    },
    {
     "name": "stderr",
     "output_type": "stream",
     "text": [
      "100%|█████████████████████████████████████████████████████████████████████████████████| 60/60 [00:00<00:00, 162.45it/s]\n",
      " 27%|█████████████████████▌                                                           | 16/60 [00:00<00:00, 156.72it/s]"
     ]
    },
    {
     "name": "stdout",
     "output_type": "stream",
     "text": [
      "epoch: 198/250, train_loss: 1.23301455, val_loss: 1.20729869\n"
     ]
    },
    {
     "name": "stderr",
     "output_type": "stream",
     "text": [
      "100%|█████████████████████████████████████████████████████████████████████████████████| 60/60 [00:00<00:00, 158.59it/s]\n",
      " 27%|█████████████████████▌                                                           | 16/60 [00:00<00:00, 156.72it/s]"
     ]
    },
    {
     "name": "stdout",
     "output_type": "stream",
     "text": [
      "epoch: 199/250, train_loss: 1.19857396, val_loss: 1.19830240\n"
     ]
    },
    {
     "name": "stderr",
     "output_type": "stream",
     "text": [
      "100%|█████████████████████████████████████████████████████████████████████████████████| 60/60 [00:00<00:00, 158.59it/s]\n",
      " 28%|██████████████████████▉                                                          | 17/60 [00:00<00:00, 163.31it/s]"
     ]
    },
    {
     "name": "stdout",
     "output_type": "stream",
     "text": [
      "epoch: 200/250, train_loss: 1.24726735, val_loss: 1.21271438\n"
     ]
    },
    {
     "name": "stderr",
     "output_type": "stream",
     "text": [
      "100%|█████████████████████████████████████████████████████████████████████████████████| 60/60 [00:00<00:00, 139.08it/s]\n",
      " 28%|██████████████████████▉                                                          | 17/60 [00:00<00:00, 168.16it/s]"
     ]
    },
    {
     "name": "stdout",
     "output_type": "stream",
     "text": [
      "epoch: 201/250, train_loss: 1.23075684, val_loss: 1.23602793\n"
     ]
    },
    {
     "name": "stderr",
     "output_type": "stream",
     "text": [
      "100%|█████████████████████████████████████████████████████████████████████████████████| 60/60 [00:00<00:00, 165.14it/s]\n",
      " 28%|██████████████████████▉                                                          | 17/60 [00:00<00:00, 163.31it/s]"
     ]
    },
    {
     "name": "stdout",
     "output_type": "stream",
     "text": [
      "epoch: 202/250, train_loss: 1.19940642, val_loss: 1.19827164\n"
     ]
    },
    {
     "name": "stderr",
     "output_type": "stream",
     "text": [
      "100%|█████████████████████████████████████████████████████████████████████████████████| 60/60 [00:00<00:00, 160.71it/s]\n",
      " 27%|█████████████████████▌                                                           | 16/60 [00:00<00:00, 159.85it/s]"
     ]
    },
    {
     "name": "stdout",
     "output_type": "stream",
     "text": [
      "epoch: 203/250, train_loss: 1.21542649, val_loss: 1.18830185\n"
     ]
    },
    {
     "name": "stderr",
     "output_type": "stream",
     "text": [
      "100%|█████████████████████████████████████████████████████████████████████████████████| 60/60 [00:00<00:00, 158.59it/s]\n",
      " 27%|█████████████████████▌                                                           | 16/60 [00:00<00:00, 159.85it/s]"
     ]
    },
    {
     "name": "stdout",
     "output_type": "stream",
     "text": [
      "epoch: 204/250, train_loss: 1.21844783, val_loss: 1.18187071\n"
     ]
    },
    {
     "name": "stderr",
     "output_type": "stream",
     "text": [
      "100%|█████████████████████████████████████████████████████████████████████████████████| 60/60 [00:00<00:00, 156.93it/s]\n",
      " 57%|█████████████████████████████████████████████▉                                   | 34/60 [00:00<00:00, 165.54it/s]"
     ]
    },
    {
     "name": "stdout",
     "output_type": "stream",
     "text": [
      "epoch: 205/250, train_loss: 1.20720999, val_loss: 1.19408308\n"
     ]
    },
    {
     "name": "stderr",
     "output_type": "stream",
     "text": [
      "100%|█████████████████████████████████████████████████████████████████████████████████| 60/60 [00:00<00:00, 163.79it/s]\n",
      " 55%|████████████████████████████████████████████▌                                    | 33/60 [00:00<00:00, 161.18it/s]"
     ]
    },
    {
     "name": "stdout",
     "output_type": "stream",
     "text": [
      "epoch: 206/250, train_loss: 1.18761856, val_loss: 1.19762877\n"
     ]
    },
    {
     "name": "stderr",
     "output_type": "stream",
     "text": [
      "100%|█████████████████████████████████████████████████████████████████████████████████| 60/60 [00:00<00:00, 159.85it/s]\n",
      " 55%|████████████████████████████████████████████▌                                    | 33/60 [00:00<00:00, 162.73it/s]"
     ]
    },
    {
     "name": "stdout",
     "output_type": "stream",
     "text": [
      "epoch: 207/250, train_loss: 1.20546848, val_loss: 1.18173315\n"
     ]
    },
    {
     "name": "stderr",
     "output_type": "stream",
     "text": [
      "100%|█████████████████████████████████████████████████████████████████████████████████| 60/60 [00:00<00:00, 159.85it/s]\n",
      " 55%|████████████████████████████████████████████▌                                    | 33/60 [00:00<00:00, 157.11it/s]"
     ]
    },
    {
     "name": "stdout",
     "output_type": "stream",
     "text": [
      "epoch: 208/250, train_loss: 1.15029505, val_loss: 1.21886476\n"
     ]
    },
    {
     "name": "stderr",
     "output_type": "stream",
     "text": [
      "100%|█████████████████████████████████████████████████████████████████████████████████| 60/60 [00:00<00:00, 158.59it/s]\n",
      " 27%|█████████████████████▌                                                           | 16/60 [00:00<00:00, 159.84it/s]"
     ]
    },
    {
     "name": "stdout",
     "output_type": "stream",
     "text": [
      "epoch: 209/250, train_loss: 1.18587966, val_loss: 1.22880315\n"
     ]
    },
    {
     "name": "stderr",
     "output_type": "stream",
     "text": [
      "100%|█████████████████████████████████████████████████████████████████████████████████| 60/60 [00:00<00:00, 156.92it/s]\n",
      " 27%|█████████████████████▌                                                           | 16/60 [00:00<00:00, 153.71it/s]"
     ]
    },
    {
     "name": "stdout",
     "output_type": "stream",
     "text": [
      "epoch: 210/250, train_loss: 1.15796781, val_loss: 1.21128851\n"
     ]
    },
    {
     "name": "stderr",
     "output_type": "stream",
     "text": [
      "100%|█████████████████████████████████████████████████████████████████████████████████| 60/60 [00:00<00:00, 154.50it/s]\n",
      " 28%|██████████████████████▉                                                          | 17/60 [00:00<00:00, 161.76it/s]"
     ]
    },
    {
     "name": "stdout",
     "output_type": "stream",
     "text": [
      "epoch: 211/250, train_loss: 1.17506045, val_loss: 1.18333412\n"
     ]
    },
    {
     "name": "stderr",
     "output_type": "stream",
     "text": [
      "100%|█████████████████████████████████████████████████████████████████████████████████| 60/60 [00:00<00:00, 159.01it/s]\n",
      " 13%|███████████                                                                        | 8/60 [00:00<00:00, 77.60it/s]"
     ]
    },
    {
     "name": "stdout",
     "output_type": "stream",
     "text": [
      "epoch: 212/250, train_loss: 1.19102785, val_loss: 1.20560658\n"
     ]
    },
    {
     "name": "stderr",
     "output_type": "stream",
     "text": [
      "100%|█████████████████████████████████████████████████████████████████████████████████| 60/60 [00:00<00:00, 132.92it/s]\n",
      " 27%|█████████████████████▌                                                           | 16/60 [00:00<00:00, 158.27it/s]"
     ]
    },
    {
     "name": "stdout",
     "output_type": "stream",
     "text": [
      "epoch: 213/250, train_loss: 1.19234747, val_loss: 1.20306938\n"
     ]
    },
    {
     "name": "stderr",
     "output_type": "stream",
     "text": [
      "100%|█████████████████████████████████████████████████████████████████████████████████| 60/60 [00:00<00:00, 155.70it/s]\n",
      " 28%|██████████████████████▉                                                          | 17/60 [00:00<00:00, 163.30it/s]"
     ]
    },
    {
     "name": "stdout",
     "output_type": "stream",
     "text": [
      "epoch: 214/250, train_loss: 1.16061369, val_loss: 1.26382848\n"
     ]
    },
    {
     "name": "stderr",
     "output_type": "stream",
     "text": [
      "100%|█████████████████████████████████████████████████████████████████████████████████| 60/60 [00:00<00:00, 159.00it/s]\n",
      " 27%|█████████████████████▌                                                           | 16/60 [00:00<00:00, 158.27it/s]"
     ]
    },
    {
     "name": "stdout",
     "output_type": "stream",
     "text": [
      "epoch: 215/250, train_loss: 1.20770711, val_loss: 1.24852947\n"
     ]
    },
    {
     "name": "stderr",
     "output_type": "stream",
     "text": [
      "100%|█████████████████████████████████████████████████████████████████████████████████| 60/60 [00:00<00:00, 159.01it/s]\n",
      " 28%|██████████████████████▉                                                          | 17/60 [00:00<00:00, 161.75it/s]"
     ]
    },
    {
     "name": "stdout",
     "output_type": "stream",
     "text": [
      "epoch: 216/250, train_loss: 1.16746145, val_loss: 1.21601663\n"
     ]
    },
    {
     "name": "stderr",
     "output_type": "stream",
     "text": [
      "100%|█████████████████████████████████████████████████████████████████████████████████| 60/60 [00:00<00:00, 159.43it/s]\n",
      " 55%|████████████████████████████████████████████▌                                    | 33/60 [00:00<00:00, 160.21it/s]"
     ]
    },
    {
     "name": "stdout",
     "output_type": "stream",
     "text": [
      "epoch: 217/250, train_loss: 1.14242799, val_loss: 1.21631542\n"
     ]
    },
    {
     "name": "stderr",
     "output_type": "stream",
     "text": [
      "100%|█████████████████████████████████████████████████████████████████████████████████| 60/60 [00:00<00:00, 154.90it/s]\n",
      " 53%|███████████████████████████████████████████▏                                     | 32/60 [00:00<00:00, 158.43it/s]"
     ]
    },
    {
     "name": "stdout",
     "output_type": "stream",
     "text": [
      "epoch: 218/250, train_loss: 1.15512253, val_loss: 1.19598164\n"
     ]
    },
    {
     "name": "stderr",
     "output_type": "stream",
     "text": [
      "100%|█████████████████████████████████████████████████████████████████████████████████| 60/60 [00:00<00:00, 154.90it/s]\n",
      " 28%|██████████████████████▉                                                          | 17/60 [00:00<00:00, 169.84it/s]"
     ]
    },
    {
     "name": "stdout",
     "output_type": "stream",
     "text": [
      "epoch: 219/250, train_loss: 1.18592710, val_loss: 1.21979868\n"
     ]
    },
    {
     "name": "stderr",
     "output_type": "stream",
     "text": [
      "100%|█████████████████████████████████████████████████████████████████████████████████| 60/60 [00:00<00:00, 160.28it/s]\n",
      " 27%|█████████████████████▌                                                           | 16/60 [00:00<00:00, 158.27it/s]"
     ]
    },
    {
     "name": "stdout",
     "output_type": "stream",
     "text": [
      "epoch: 220/250, train_loss: 1.17092217, val_loss: 1.24841624\n"
     ]
    },
    {
     "name": "stderr",
     "output_type": "stream",
     "text": [
      "100%|█████████████████████████████████████████████████████████████████████████████████| 60/60 [00:00<00:00, 159.85it/s]\n",
      " 25%|████████████████████▎                                                            | 15/60 [00:00<00:00, 149.86it/s]"
     ]
    },
    {
     "name": "stdout",
     "output_type": "stream",
     "text": [
      "epoch: 221/250, train_loss: 1.18629388, val_loss: 1.19344886\n"
     ]
    },
    {
     "name": "stderr",
     "output_type": "stream",
     "text": [
      "100%|█████████████████████████████████████████████████████████████████████████████████| 60/60 [00:00<00:00, 156.52it/s]\n",
      " 28%|██████████████████████▉                                                          | 17/60 [00:00<00:00, 166.52it/s]"
     ]
    },
    {
     "name": "stdout",
     "output_type": "stream",
     "text": [
      "epoch: 222/250, train_loss: 1.18809531, val_loss: 1.21776262\n"
     ]
    },
    {
     "name": "stderr",
     "output_type": "stream",
     "text": [
      "100%|█████████████████████████████████████████████████████████████████████████████████| 60/60 [00:00<00:00, 160.28it/s]\n",
      " 28%|██████████████████████▉                                                          | 17/60 [00:00<00:00, 163.31it/s]"
     ]
    },
    {
     "name": "stdout",
     "output_type": "stream",
     "text": [
      "epoch: 223/250, train_loss: 1.18177248, val_loss: 1.20896484\n"
     ]
    },
    {
     "name": "stderr",
     "output_type": "stream",
     "text": [
      "100%|█████████████████████████████████████████████████████████████████████████████████| 60/60 [00:00<00:00, 140.06it/s]\n",
      " 28%|██████████████████████▉                                                          | 17/60 [00:00<00:00, 163.31it/s]"
     ]
    },
    {
     "name": "stdout",
     "output_type": "stream",
     "text": [
      "epoch: 224/250, train_loss: 1.17463531, val_loss: 1.20642961\n"
     ]
    },
    {
     "name": "stderr",
     "output_type": "stream",
     "text": [
      "100%|█████████████████████████████████████████████████████████████████████████████████| 60/60 [00:00<00:00, 163.78it/s]\n",
      " 53%|███████████████████████████████████████████▏                                     | 32/60 [00:00<00:00, 156.57it/s]"
     ]
    },
    {
     "name": "stdout",
     "output_type": "stream",
     "text": [
      "epoch: 225/250, train_loss: 1.13909167, val_loss: 1.20573747\n"
     ]
    },
    {
     "name": "stderr",
     "output_type": "stream",
     "text": [
      "100%|█████████████████████████████████████████████████████████████████████████████████| 60/60 [00:00<00:00, 159.85it/s]\n",
      " 27%|█████████████████████▌                                                           | 16/60 [00:00<00:00, 156.70it/s]"
     ]
    },
    {
     "name": "stdout",
     "output_type": "stream",
     "text": [
      "epoch: 226/250, train_loss: 1.17639112, val_loss: 1.21509989\n"
     ]
    },
    {
     "name": "stderr",
     "output_type": "stream",
     "text": [
      "100%|█████████████████████████████████████████████████████████████████████████████████| 60/60 [00:00<00:00, 161.14it/s]\n",
      " 27%|█████████████████████▌                                                           | 16/60 [00:00<00:00, 155.20it/s]"
     ]
    },
    {
     "name": "stdout",
     "output_type": "stream",
     "text": [
      "epoch: 227/250, train_loss: 1.13362903, val_loss: 1.20724938\n"
     ]
    },
    {
     "name": "stderr",
     "output_type": "stream",
     "text": [
      "100%|█████████████████████████████████████████████████████████████████████████████████| 60/60 [00:00<00:00, 157.75it/s]\n",
      " 28%|██████████████████████▉                                                          | 17/60 [00:00<00:00, 161.76it/s]"
     ]
    },
    {
     "name": "stdout",
     "output_type": "stream",
     "text": [
      "epoch: 228/250, train_loss: 1.14946613, val_loss: 1.21577409\n"
     ]
    },
    {
     "name": "stderr",
     "output_type": "stream",
     "text": [
      "100%|█████████████████████████████████████████████████████████████████████████████████| 60/60 [00:00<00:00, 157.75it/s]\n",
      " 27%|█████████████████████▌                                                           | 16/60 [00:00<00:00, 156.72it/s]"
     ]
    },
    {
     "name": "stdout",
     "output_type": "stream",
     "text": [
      "epoch: 229/250, train_loss: 1.17956841, val_loss: 1.21745306\n"
     ]
    },
    {
     "name": "stderr",
     "output_type": "stream",
     "text": [
      "100%|█████████████████████████████████████████████████████████████████████████████████| 60/60 [00:00<00:00, 159.43it/s]\n",
      " 53%|███████████████████████████████████████████▏                                     | 32/60 [00:00<00:00, 157.34it/s]"
     ]
    },
    {
     "name": "stdout",
     "output_type": "stream",
     "text": [
      "epoch: 230/250, train_loss: 1.20297424, val_loss: 1.29003692\n"
     ]
    },
    {
     "name": "stderr",
     "output_type": "stream",
     "text": [
      "100%|█████████████████████████████████████████████████████████████████████████████████| 60/60 [00:00<00:00, 159.85it/s]\n",
      " 27%|█████████████████████▌                                                           | 16/60 [00:00<00:00, 158.27it/s]"
     ]
    },
    {
     "name": "stdout",
     "output_type": "stream",
     "text": [
      "epoch: 231/250, train_loss: 1.14854578, val_loss: 1.20313559\n"
     ]
    },
    {
     "name": "stderr",
     "output_type": "stream",
     "text": [
      "100%|█████████████████████████████████████████████████████████████████████████████████| 60/60 [00:00<00:00, 156.11it/s]\n",
      " 28%|██████████████████████▉                                                          | 17/60 [00:00<00:00, 168.16it/s]"
     ]
    },
    {
     "name": "stdout",
     "output_type": "stream",
     "text": [
      "epoch: 232/250, train_loss: 1.19284767, val_loss: 1.21556022\n"
     ]
    },
    {
     "name": "stderr",
     "output_type": "stream",
     "text": [
      "100%|█████████████████████████████████████████████████████████████████████████████████| 60/60 [00:00<00:00, 160.28it/s]\n",
      " 25%|████████████████████▎                                                            | 15/60 [00:00<00:00, 148.38it/s]"
     ]
    },
    {
     "name": "stdout",
     "output_type": "stream",
     "text": [
      "epoch: 233/250, train_loss: 1.14949563, val_loss: 1.19582194\n"
     ]
    },
    {
     "name": "stderr",
     "output_type": "stream",
     "text": [
      "100%|█████████████████████████████████████████████████████████████████████████████████| 60/60 [00:00<00:00, 152.53it/s]\n",
      " 27%|█████████████████████▌                                                           | 16/60 [00:00<00:00, 153.71it/s]"
     ]
    },
    {
     "name": "stdout",
     "output_type": "stream",
     "text": [
      "epoch: 234/250, train_loss: 1.13217437, val_loss: 1.22563439\n"
     ]
    },
    {
     "name": "stderr",
     "output_type": "stream",
     "text": [
      "100%|█████████████████████████████████████████████████████████████████████████████████| 60/60 [00:00<00:00, 159.01it/s]\n",
      " 27%|█████████████████████▌                                                           | 16/60 [00:00<00:00, 152.24it/s]"
     ]
    },
    {
     "name": "stdout",
     "output_type": "stream",
     "text": [
      "epoch: 235/250, train_loss: 1.13400617, val_loss: 1.22300516\n"
     ]
    },
    {
     "name": "stderr",
     "output_type": "stream",
     "text": [
      "100%|█████████████████████████████████████████████████████████████████████████████████| 60/60 [00:00<00:00, 135.01it/s]\n",
      " 27%|█████████████████████▌                                                           | 16/60 [00:00<00:00, 155.20it/s]"
     ]
    },
    {
     "name": "stdout",
     "output_type": "stream",
     "text": [
      "epoch: 236/250, train_loss: 1.15866745, val_loss: 1.20896404\n"
     ]
    },
    {
     "name": "stderr",
     "output_type": "stream",
     "text": [
      "100%|█████████████████████████████████████████████████████████████████████████████████| 60/60 [00:00<00:00, 157.34it/s]\n",
      " 27%|█████████████████████▌                                                           | 16/60 [00:00<00:00, 152.24it/s]"
     ]
    },
    {
     "name": "stdout",
     "output_type": "stream",
     "text": [
      "epoch: 237/250, train_loss: 1.15051001, val_loss: 1.28066397\n"
     ]
    },
    {
     "name": "stderr",
     "output_type": "stream",
     "text": [
      "100%|█████████████████████████████████████████████████████████████████████████████████| 60/60 [00:00<00:00, 157.75it/s]\n",
      " 53%|███████████████████████████████████████████▏                                     | 32/60 [00:00<00:00, 159.85it/s]"
     ]
    },
    {
     "name": "stdout",
     "output_type": "stream",
     "text": [
      "epoch: 238/250, train_loss: 1.12593039, val_loss: 1.19867377\n"
     ]
    },
    {
     "name": "stderr",
     "output_type": "stream",
     "text": [
      "100%|█████████████████████████████████████████████████████████████████████████████████| 60/60 [00:00<00:00, 157.34it/s]\n",
      " 25%|████████████████████▎                                                            | 15/60 [00:00<00:00, 148.38it/s]"
     ]
    },
    {
     "name": "stdout",
     "output_type": "stream",
     "text": [
      "epoch: 239/250, train_loss: 1.16097478, val_loss: 1.21287102\n"
     ]
    },
    {
     "name": "stderr",
     "output_type": "stream",
     "text": [
      "100%|█████████████████████████████████████████████████████████████████████████████████| 60/60 [00:00<00:00, 157.75it/s]\n",
      " 27%|█████████████████████▌                                                           | 16/60 [00:00<00:00, 156.72it/s]"
     ]
    },
    {
     "name": "stdout",
     "output_type": "stream",
     "text": [
      "epoch: 240/250, train_loss: 1.15657677, val_loss: 1.19639424\n"
     ]
    },
    {
     "name": "stderr",
     "output_type": "stream",
     "text": [
      "100%|█████████████████████████████████████████████████████████████████████████████████| 60/60 [00:00<00:00, 157.75it/s]\n",
      " 28%|██████████████████████▉                                                          | 17/60 [00:00<00:00, 160.22it/s]"
     ]
    },
    {
     "name": "stdout",
     "output_type": "stream",
     "text": [
      "epoch: 241/250, train_loss: 1.09581866, val_loss: 1.20995325\n"
     ]
    },
    {
     "name": "stderr",
     "output_type": "stream",
     "text": [
      "100%|█████████████████████████████████████████████████████████████████████████████████| 60/60 [00:00<00:00, 155.30it/s]\n",
      " 27%|█████████████████████▌                                                           | 16/60 [00:00<00:00, 155.20it/s]"
     ]
    },
    {
     "name": "stdout",
     "output_type": "stream",
     "text": [
      "epoch: 242/250, train_loss: 1.13074016, val_loss: 1.21387288\n"
     ]
    },
    {
     "name": "stderr",
     "output_type": "stream",
     "text": [
      "100%|█████████████████████████████████████████████████████████████████████████████████| 60/60 [00:00<00:00, 157.34it/s]\n",
      " 27%|█████████████████████▌                                                           | 16/60 [00:00<00:00, 155.20it/s]"
     ]
    },
    {
     "name": "stdout",
     "output_type": "stream",
     "text": [
      "epoch: 243/250, train_loss: 1.16769750, val_loss: 1.21366774\n"
     ]
    },
    {
     "name": "stderr",
     "output_type": "stream",
     "text": [
      "100%|█████████████████████████████████████████████████████████████████████████████████| 60/60 [00:00<00:00, 153.71it/s]\n",
      " 27%|█████████████████████▌                                                           | 16/60 [00:00<00:00, 156.72it/s]"
     ]
    },
    {
     "name": "stdout",
     "output_type": "stream",
     "text": [
      "epoch: 244/250, train_loss: 1.12141635, val_loss: 1.20424070\n"
     ]
    },
    {
     "name": "stderr",
     "output_type": "stream",
     "text": [
      "100%|█████████████████████████████████████████████████████████████████████████████████| 60/60 [00:00<00:00, 157.13it/s]\n",
      " 25%|████████████████████▎                                                            | 15/60 [00:00<00:00, 149.86it/s]"
     ]
    },
    {
     "name": "stdout",
     "output_type": "stream",
     "text": [
      "epoch: 245/250, train_loss: 1.09932441, val_loss: 1.19559793\n"
     ]
    },
    {
     "name": "stderr",
     "output_type": "stream",
     "text": [
      "100%|█████████████████████████████████████████████████████████████████████████████████| 60/60 [00:00<00:00, 152.15it/s]\n",
      " 27%|█████████████████████▌                                                           | 16/60 [00:00<00:00, 158.27it/s]"
     ]
    },
    {
     "name": "stdout",
     "output_type": "stream",
     "text": [
      "epoch: 246/250, train_loss: 1.15162328, val_loss: 1.21270256\n"
     ]
    },
    {
     "name": "stderr",
     "output_type": "stream",
     "text": [
      "100%|█████████████████████████████████████████████████████████████████████████████████| 60/60 [00:00<00:00, 152.15it/s]\n",
      " 12%|█████████▋                                                                         | 7/60 [00:00<00:00, 67.25it/s]"
     ]
    },
    {
     "name": "stdout",
     "output_type": "stream",
     "text": [
      "epoch: 247/250, train_loss: 1.13470268, val_loss: 1.21529854\n"
     ]
    },
    {
     "name": "stderr",
     "output_type": "stream",
     "text": [
      "100%|█████████████████████████████████████████████████████████████████████████████████| 60/60 [00:00<00:00, 135.62it/s]\n",
      " 27%|█████████████████████▌                                                           | 16/60 [00:00<00:00, 155.20it/s]"
     ]
    },
    {
     "name": "stdout",
     "output_type": "stream",
     "text": [
      "epoch: 248/250, train_loss: 1.12546439, val_loss: 1.21913751\n"
     ]
    },
    {
     "name": "stderr",
     "output_type": "stream",
     "text": [
      "100%|█████████████████████████████████████████████████████████████████████████████████| 60/60 [00:00<00:00, 156.93it/s]\n",
      " 27%|█████████████████████▌                                                           | 16/60 [00:00<00:00, 158.27it/s]"
     ]
    },
    {
     "name": "stdout",
     "output_type": "stream",
     "text": [
      "epoch: 249/250, train_loss: 1.07825459, val_loss: 1.24563780\n"
     ]
    },
    {
     "name": "stderr",
     "output_type": "stream",
     "text": [
      "100%|█████████████████████████████████████████████████████████████████████████████████| 60/60 [00:00<00:00, 154.89it/s]"
     ]
    },
    {
     "name": "stdout",
     "output_type": "stream",
     "text": [
      "epoch: 250/250, train_loss: 1.09943363, val_loss: 1.18660584\n",
      "best mse : 1.18173315\n"
     ]
    },
    {
     "name": "stderr",
     "output_type": "stream",
     "text": [
      "\n"
     ]
    }
   ],
   "source": [
    "MSE = nn.MSELoss(reduction = 'mean')\n",
    "trainer = Trainer(model, train_loader, test_loader, criterion = MSE, optimizer = Adam,\n",
    "                  epochs = 250, lr = 0.005, l2_norm=0.01, device = device)\n",
    "trainer.fit()"
   ]
  },
  {
   "cell_type": "code",
   "execution_count": 201,
   "metadata": {},
   "outputs": [
    {
     "data": {
      "image/png": "[encoded data removed]",
      "text/plain": [
       "<Figure size 432x288 with 1 Axes>"
      ]
     },
     "metadata": {
      "needs_background": "light"
     },
     "output_type": "display_data"
    }
   ],
   "source": [
    "import matplotlib.pyplot as plt\n",
    "%matplotlib inline\n",
    "\n",
    "history = trainer.history()\n",
    "\n",
    "plt.plot(history['train_loss'], label='Train Loss')\n",
    "plt.plot(history['val_loss'], label='Validation Loss')\n",
    "plt.title('Train and Validation loss')\n",
    "plt.legend()\n",
    "plt.show()"
   ]
  },
  {
   "cell_type": "code",
   "execution_count": 202,
   "metadata": {},
   "outputs": [
    {
     "name": "stdout",
     "output_type": "stream",
     "text": [
      "mse : 1.1817331526960646\n"
     ]
    }
   ],
   "source": [
    "trainer.evaluation(test_loader, device)"
   ]
  },
  {
   "cell_type": "code",
   "execution_count": 203,
   "metadata": {},
   "outputs": [],
   "source": [
    "model = trainer.get_best_model()\n",
    "model.to('cpu')\n",
    "\n",
    "# model save\n",
    "torch.save(model.state_dict(), 'model.pt')"
   ]
  },
  {
   "cell_type": "markdown",
   "metadata": {},
   "source": [
    "# Ensemble"
   ]
  },
  {
   "cell_type": "code",
   "execution_count": 204,
   "metadata": {},
   "outputs": [],
   "source": [
    "import torch\n",
    "from sklearn.metrics import mean_squared_error\n",
    "\n",
    "class EnsembleRegressor:\n",
    "    def __init__(self, models, weights=None):\n",
    "        \n",
    "        self.models = models\n",
    "        self.weights = weights\n",
    "        \n",
    "    def predict(self, X_test):\n",
    "        pred_list = []\n",
    "        for i, model in enumerate(models.values()):\n",
    "            if i == 0:\n",
    "                pred_list.append(model(torch.tensor(X_test.astype(np.float32))).detach().numpy().reshape(-1,))\n",
    "            else:\n",
    "                pred_list.append(model.predict(X_test))\n",
    "        preds = np.array(pred_list)\n",
    "            \n",
    "        prediction = np.average(preds, axis=0, weights=self.weights)\n",
    "\n",
    "        return prediction\n",
    "    \n",
    "    def random_search(self, X_test, y_test, num_search):\n",
    "        weights = torch.softmax(torch.rand(num_search, len(self.models)), axis=1).numpy()\n",
    "        \n",
    "        pred_list = []\n",
    "        for i, model in enumerate(models.values()):\n",
    "            if i == 0:\n",
    "                pred_list.append(model(torch.tensor(X_test.astype(np.float32))).detach().numpy().reshape(-1,))\n",
    "            else:\n",
    "                pred_list.append(model.predict(X_test))\n",
    "        preds = np.array(pred_list)\n",
    "\n",
    "        mse = []\n",
    "        for i in range(num_search):\n",
    "            prediction = np.average(preds, axis=0, weights=weights[i])\n",
    "            mse_ = mean_squared_error(y_test, prediction)\n",
    "            mse.append(mse_)\n",
    "        \n",
    "        result = pd.DataFrame(weights)\n",
    "        result['MSE'] = mse\n",
    "\n",
    "        return result.sort_values('MSE', ascending=True)"
   ]
  },
  {
   "cell_type": "code",
   "execution_count": 205,
   "metadata": {
    "scrolled": false
   },
   "outputs": [
    {
     "data": {
      "text/html": [
       "<div>\n",
       "<style scoped>\n",
       "    .dataframe tbody tr th:only-of-type {\n",
       "        vertical-align: middle;\n",
       "    }\n",
       "\n",
       "    .dataframe tbody tr th {\n",
       "        vertical-align: top;\n",
       "    }\n",
       "\n",
       "    .dataframe thead th {\n",
       "        text-align: right;\n",
       "    }\n",
       "</style>\n",
       "<table border=\"1\" class=\"dataframe\">\n",
       "  <thead>\n",
       "    <tr style=\"text-align: right;\">\n",
       "      <th></th>\n",
       "      <th>0</th>\n",
       "      <th>1</th>\n",
       "      <th>2</th>\n",
       "      <th>3</th>\n",
       "      <th>4</th>\n",
       "      <th>MSE</th>\n",
       "    </tr>\n",
       "  </thead>\n",
       "  <tbody>\n",
       "    <tr>\n",
       "      <th>3394</th>\n",
       "      <td>0.120986</td>\n",
       "      <td>0.131840</td>\n",
       "      <td>0.306048</td>\n",
       "      <td>0.142111</td>\n",
       "      <td>0.299014</td>\n",
       "      <td>0.706418</td>\n",
       "    </tr>\n",
       "    <tr>\n",
       "      <th>24714</th>\n",
       "      <td>0.126870</td>\n",
       "      <td>0.136152</td>\n",
       "      <td>0.314824</td>\n",
       "      <td>0.134056</td>\n",
       "      <td>0.288098</td>\n",
       "      <td>0.706588</td>\n",
       "    </tr>\n",
       "    <tr>\n",
       "      <th>21</th>\n",
       "      <td>0.118111</td>\n",
       "      <td>0.161488</td>\n",
       "      <td>0.306647</td>\n",
       "      <td>0.126853</td>\n",
       "      <td>0.286900</td>\n",
       "      <td>0.706678</td>\n",
       "    </tr>\n",
       "    <tr>\n",
       "      <th>26002</th>\n",
       "      <td>0.131135</td>\n",
       "      <td>0.132767</td>\n",
       "      <td>0.307138</td>\n",
       "      <td>0.120452</td>\n",
       "      <td>0.308508</td>\n",
       "      <td>0.706720</td>\n",
       "    </tr>\n",
       "    <tr>\n",
       "      <th>5081</th>\n",
       "      <td>0.127740</td>\n",
       "      <td>0.144984</td>\n",
       "      <td>0.300071</td>\n",
       "      <td>0.125947</td>\n",
       "      <td>0.301257</td>\n",
       "      <td>0.706781</td>\n",
       "    </tr>\n",
       "    <tr>\n",
       "      <th>28989</th>\n",
       "      <td>0.124965</td>\n",
       "      <td>0.125543</td>\n",
       "      <td>0.290715</td>\n",
       "      <td>0.170897</td>\n",
       "      <td>0.287880</td>\n",
       "      <td>0.706858</td>\n",
       "    </tr>\n",
       "    <tr>\n",
       "      <th>2548</th>\n",
       "      <td>0.122990</td>\n",
       "      <td>0.144129</td>\n",
       "      <td>0.286141</td>\n",
       "      <td>0.153178</td>\n",
       "      <td>0.293563</td>\n",
       "      <td>0.706883</td>\n",
       "    </tr>\n",
       "    <tr>\n",
       "      <th>4894</th>\n",
       "      <td>0.127984</td>\n",
       "      <td>0.143446</td>\n",
       "      <td>0.295868</td>\n",
       "      <td>0.146058</td>\n",
       "      <td>0.286644</td>\n",
       "      <td>0.706895</td>\n",
       "    </tr>\n",
       "    <tr>\n",
       "      <th>17925</th>\n",
       "      <td>0.124354</td>\n",
       "      <td>0.123725</td>\n",
       "      <td>0.298647</td>\n",
       "      <td>0.176328</td>\n",
       "      <td>0.276945</td>\n",
       "      <td>0.706913</td>\n",
       "    </tr>\n",
       "    <tr>\n",
       "      <th>1229</th>\n",
       "      <td>0.123295</td>\n",
       "      <td>0.150231</td>\n",
       "      <td>0.302695</td>\n",
       "      <td>0.150776</td>\n",
       "      <td>0.273004</td>\n",
       "      <td>0.706915</td>\n",
       "    </tr>\n",
       "  </tbody>\n",
       "</table>\n",
       "</div>"
      ],
      "text/plain": [
       "              0         1         2         3         4       MSE\n",
       "3394   0.120986  0.131840  0.306048  0.142111  0.299014  0.706418\n",
       "24714  0.126870  0.136152  0.314824  0.134056  0.288098  0.706588\n",
       "21     0.118111  0.161488  0.306647  0.126853  0.286900  0.706678\n",
       "26002  0.131135  0.132767  0.307138  0.120452  0.308508  0.706720\n",
       "5081   0.127740  0.144984  0.300071  0.125947  0.301257  0.706781\n",
       "28989  0.124965  0.125543  0.290715  0.170897  0.287880  0.706858\n",
       "2548   0.122990  0.144129  0.286141  0.153178  0.293563  0.706883\n",
       "4894   0.127984  0.143446  0.295868  0.146058  0.286644  0.706895\n",
       "17925  0.124354  0.123725  0.298647  0.176328  0.276945  0.706913\n",
       "1229   0.123295  0.150231  0.302695  0.150776  0.273004  0.706915"
      ]
     },
     "execution_count": 205,
     "metadata": {},
     "output_type": "execute_result"
    }
   ],
   "source": [
    "models = {'DNN' : model, 'RandomForest' : rf, 'GBM' : gbm, 'XGBOOST': xgb_reg, 'LightGBM' : lgb_reg}\n",
    "\n",
    "ensemble = EnsembleRegressor(models, weights=None)\n",
    "result = ensemble.random_search(X_test, y_test, 30000)\n",
    "result.head(10)"
   ]
  },
  {
   "cell_type": "code",
   "execution_count": 206,
   "metadata": {},
   "outputs": [
    {
     "name": "stdout",
     "output_type": "stream",
     "text": [
      "[0.1209864392876625, 0.13183961808681488, 0.3060481548309326, 0.14211143553256989, 0.2990143597126007]\n"
     ]
    }
   ],
   "source": [
    "optimal_weight = result.iloc[0,:-1].tolist()\n",
    "print(optimal_weight)"
   ]
  },
  {
   "cell_type": "code",
   "execution_count": 207,
   "metadata": {},
   "outputs": [
    {
     "name": "stdout",
     "output_type": "stream",
     "text": [
      "[ 6.34322872e+00  8.01478663e-02  4.72683734e+00  9.66012662e+00\n",
      " -5.05060199e-03 -1.39831535e-02 -1.02973400e-02  2.81882998e+00\n",
      "  3.39376493e-02  1.78662883e+00]\n"
     ]
    }
   ],
   "source": [
    "ensemble = EnsembleRegressor(models, weights=optimal_weight)\n",
    "\n",
    "preds = ensemble.predict(X_test)\n",
    "print(preds[:10])"
   ]
  },
  {
   "cell_type": "code",
   "execution_count": 208,
   "metadata": {},
   "outputs": [
    {
     "name": "stdout",
     "output_type": "stream",
     "text": [
      "[ 9.6804065   0.          5.70711026 11.73372226  0.          0.\n",
      "  0.          3.04452244  0.          2.77258872]\n"
     ]
    }
   ],
   "source": [
    "print( y_test[:10])"
   ]
  },
  {
   "cell_type": "code",
   "execution_count": 209,
   "metadata": {},
   "outputs": [
    {
     "data": {
      "text/plain": [
       "0.7064183737104075"
      ]
     },
     "execution_count": 209,
     "metadata": {},
     "output_type": "execute_result"
    }
   ],
   "source": [
    "mean_squared_error(y_test, preds)"
   ]
  },
  {
   "cell_type": "markdown",
   "metadata": {},
   "source": [
    "# Evaluation"
   ]
  },
  {
   "cell_type": "code",
   "execution_count": 210,
   "metadata": {},
   "outputs": [
    {
     "name": "stdout",
     "output_type": "stream",
     "text": [
      "[ 5.67629295e+02  8.34472612e-02  1.11937813e+02  1.56787699e+04\n",
      " -5.03786915e-03 -1.38858433e-02 -1.02445039e-02  1.57572330e+01\n",
      "  3.45201017e-02  4.96929500e+00]\n",
      "[1.60000e+04 0.00000e+00 3.00000e+02 1.24706e+05 0.00000e+00 0.00000e+00\n",
      " 0.00000e+00 2.00000e+01 0.00000e+00 1.50000e+01]\n"
     ]
    }
   ],
   "source": [
    "#inverse_transformed_pred = np.expm1(preds * y_minmax_scaler.data_range_ + y_minmax_scaler.data_min_)\n",
    "#inverse_transformed_y_test = np.expm1(y_test * y_minmax_scaler.data_range_ + y_minmax_scaler.data_min_)\n",
    "inverse_transformed_pred = np.expm1(preds)\n",
    "inverse_transformed_y_test = np.expm1(y_test)\n",
    "\n",
    "print(inverse_transformed_pred[:10])\n",
    "print(inverse_transformed_y_test[:10])"
   ]
  },
  {
   "cell_type": "code",
   "execution_count": 211,
   "metadata": {},
   "outputs": [
    {
     "data": {
      "text/plain": [
       "234690.76484302312"
      ]
     },
     "execution_count": 211,
     "metadata": {},
     "output_type": "execute_result"
    }
   ],
   "source": [
    "np.sqrt(mean_squared_error(inverse_transformed_y_test, inverse_transformed_pred))"
   ]
  },
  {
   "cell_type": "code",
   "execution_count": 212,
   "metadata": {},
   "outputs": [
    {
     "data": {
      "text/html": [
       "<div>\n",
       "<style scoped>\n",
       "    .dataframe tbody tr th:only-of-type {\n",
       "        vertical-align: middle;\n",
       "    }\n",
       "\n",
       "    .dataframe tbody tr th {\n",
       "        vertical-align: top;\n",
       "    }\n",
       "\n",
       "    .dataframe thead th {\n",
       "        text-align: right;\n",
       "    }\n",
       "</style>\n",
       "<table border=\"1\" class=\"dataframe\">\n",
       "  <thead>\n",
       "    <tr style=\"text-align: right;\">\n",
       "      <th></th>\n",
       "      <th>생산량</th>\n",
       "      <th>예측값</th>\n",
       "    </tr>\n",
       "  </thead>\n",
       "  <tbody>\n",
       "    <tr>\n",
       "      <th>0</th>\n",
       "      <td>16000.0</td>\n",
       "      <td>567.6</td>\n",
       "    </tr>\n",
       "    <tr>\n",
       "      <th>1</th>\n",
       "      <td>0.0</td>\n",
       "      <td>0.1</td>\n",
       "    </tr>\n",
       "    <tr>\n",
       "      <th>2</th>\n",
       "      <td>300.0</td>\n",
       "      <td>111.9</td>\n",
       "    </tr>\n",
       "    <tr>\n",
       "      <th>3</th>\n",
       "      <td>124706.0</td>\n",
       "      <td>15678.8</td>\n",
       "    </tr>\n",
       "    <tr>\n",
       "      <th>4</th>\n",
       "      <td>0.0</td>\n",
       "      <td>-0.0</td>\n",
       "    </tr>\n",
       "    <tr>\n",
       "      <th>5</th>\n",
       "      <td>0.0</td>\n",
       "      <td>-0.0</td>\n",
       "    </tr>\n",
       "    <tr>\n",
       "      <th>6</th>\n",
       "      <td>0.0</td>\n",
       "      <td>-0.0</td>\n",
       "    </tr>\n",
       "    <tr>\n",
       "      <th>7</th>\n",
       "      <td>20.0</td>\n",
       "      <td>15.8</td>\n",
       "    </tr>\n",
       "    <tr>\n",
       "      <th>8</th>\n",
       "      <td>0.0</td>\n",
       "      <td>0.0</td>\n",
       "    </tr>\n",
       "    <tr>\n",
       "      <th>9</th>\n",
       "      <td>15.0</td>\n",
       "      <td>5.0</td>\n",
       "    </tr>\n",
       "    <tr>\n",
       "      <th>10</th>\n",
       "      <td>0.0</td>\n",
       "      <td>0.0</td>\n",
       "    </tr>\n",
       "    <tr>\n",
       "      <th>11</th>\n",
       "      <td>0.0</td>\n",
       "      <td>0.1</td>\n",
       "    </tr>\n",
       "    <tr>\n",
       "      <th>12</th>\n",
       "      <td>0.0</td>\n",
       "      <td>0.0</td>\n",
       "    </tr>\n",
       "    <tr>\n",
       "      <th>13</th>\n",
       "      <td>300.0</td>\n",
       "      <td>216.0</td>\n",
       "    </tr>\n",
       "    <tr>\n",
       "      <th>14</th>\n",
       "      <td>80.0</td>\n",
       "      <td>328.5</td>\n",
       "    </tr>\n",
       "    <tr>\n",
       "      <th>15</th>\n",
       "      <td>0.0</td>\n",
       "      <td>0.0</td>\n",
       "    </tr>\n",
       "    <tr>\n",
       "      <th>16</th>\n",
       "      <td>0.0</td>\n",
       "      <td>2.4</td>\n",
       "    </tr>\n",
       "    <tr>\n",
       "      <th>17</th>\n",
       "      <td>0.0</td>\n",
       "      <td>0.0</td>\n",
       "    </tr>\n",
       "    <tr>\n",
       "      <th>18</th>\n",
       "      <td>0.0</td>\n",
       "      <td>0.0</td>\n",
       "    </tr>\n",
       "    <tr>\n",
       "      <th>19</th>\n",
       "      <td>0.0</td>\n",
       "      <td>0.0</td>\n",
       "    </tr>\n",
       "    <tr>\n",
       "      <th>20</th>\n",
       "      <td>0.0</td>\n",
       "      <td>0.0</td>\n",
       "    </tr>\n",
       "    <tr>\n",
       "      <th>21</th>\n",
       "      <td>0.0</td>\n",
       "      <td>0.0</td>\n",
       "    </tr>\n",
       "    <tr>\n",
       "      <th>22</th>\n",
       "      <td>0.0</td>\n",
       "      <td>-0.0</td>\n",
       "    </tr>\n",
       "    <tr>\n",
       "      <th>23</th>\n",
       "      <td>0.0</td>\n",
       "      <td>0.0</td>\n",
       "    </tr>\n",
       "    <tr>\n",
       "      <th>24</th>\n",
       "      <td>2000.0</td>\n",
       "      <td>122.2</td>\n",
       "    </tr>\n",
       "    <tr>\n",
       "      <th>25</th>\n",
       "      <td>500.0</td>\n",
       "      <td>535.4</td>\n",
       "    </tr>\n",
       "    <tr>\n",
       "      <th>26</th>\n",
       "      <td>0.0</td>\n",
       "      <td>-0.0</td>\n",
       "    </tr>\n",
       "    <tr>\n",
       "      <th>27</th>\n",
       "      <td>0.0</td>\n",
       "      <td>0.1</td>\n",
       "    </tr>\n",
       "    <tr>\n",
       "      <th>28</th>\n",
       "      <td>0.0</td>\n",
       "      <td>-0.0</td>\n",
       "    </tr>\n",
       "    <tr>\n",
       "      <th>29</th>\n",
       "      <td>2536.0</td>\n",
       "      <td>814.3</td>\n",
       "    </tr>\n",
       "  </tbody>\n",
       "</table>\n",
       "</div>"
      ],
      "text/plain": [
       "         생산량      예측값\n",
       "0    16000.0    567.6\n",
       "1        0.0      0.1\n",
       "2      300.0    111.9\n",
       "3   124706.0  15678.8\n",
       "4        0.0     -0.0\n",
       "5        0.0     -0.0\n",
       "6        0.0     -0.0\n",
       "7       20.0     15.8\n",
       "8        0.0      0.0\n",
       "9       15.0      5.0\n",
       "10       0.0      0.0\n",
       "11       0.0      0.1\n",
       "12       0.0      0.0\n",
       "13     300.0    216.0\n",
       "14      80.0    328.5\n",
       "15       0.0      0.0\n",
       "16       0.0      2.4\n",
       "17       0.0      0.0\n",
       "18       0.0      0.0\n",
       "19       0.0      0.0\n",
       "20       0.0      0.0\n",
       "21       0.0      0.0\n",
       "22       0.0     -0.0\n",
       "23       0.0      0.0\n",
       "24    2000.0    122.2\n",
       "25     500.0    535.4\n",
       "26       0.0     -0.0\n",
       "27       0.0      0.1\n",
       "28       0.0     -0.0\n",
       "29    2536.0    814.3"
      ]
     },
     "execution_count": 212,
     "metadata": {},
     "output_type": "execute_result"
    }
   ],
   "source": [
    "inverse_transformed_pred = pd.Series(np.round(inverse_transformed_pred,1), name='예측값')\n",
    "inverse_transformed_y_test= pd.Series(inverse_transformed_y_test, name='생산량')\n",
    "result = pd.concat([inverse_transformed_y_test, inverse_transformed_pred], axis=1)\n",
    "result[:30]"
   ]
  },
  {
   "cell_type": "markdown",
   "metadata": {},
   "source": [
    "# Prediction"
   ]
  },
  {
   "cell_type": "code",
   "execution_count": 213,
   "metadata": {},
   "outputs": [],
   "source": [
    "def predict(model, data):    \n",
    "    data['재배면적'] = np.log1p(data['재배면적'].astype(float))\n",
    "    data['단가'] = np.log1p(data['단가'].astype(float))\n",
    "    \n",
    "    # Normalize\n",
    "    X_scaled = X_minmax_scaler.transform(data.loc[:, ['재배면적', '단가']])\n",
    "    \n",
    "    # Categorical variable preprocessing\n",
    "    onehot = onehot_encoder.transform(data.loc[:, ['시도/관리소', '재배채취', '재배단위', '소분류']])\n",
    "    \n",
    "    numeric_data_df = pd.DataFrame(X_scaled, columns=['재배면적', '단가'])\n",
    "    onehot_data_df = pd.DataFrame(onehot.toarray())\n",
    "\n",
    "    X_data_df = pd.concat([numeric_data_df , onehot_data_df], axis=1)\n",
    "    X_data = np.array(X_data_df)\n",
    "    \n",
    "    y_pred = model.predict(X_data)\n",
    "    inverse_transformed_pred = np.expm1(y_pred)\n",
    "    inverse_transformed_pred = np.where(inverse_transformed_pred < 0, 0, inverse_transformed_pred)\n",
    "    \n",
    "    return inverse_transformed_pred"
   ]
  },
  {
   "cell_type": "code",
   "execution_count": 214,
   "metadata": {},
   "outputs": [],
   "source": [
    "#path = 'test_set.xlsx'\n",
    "#test_set = pd.read_excel(path) \n",
    "#test_set"
   ]
  },
  {
   "cell_type": "code",
   "execution_count": 219,
   "metadata": {},
   "outputs": [
    {
     "data": {
      "text/html": [
       "<div>\n",
       "<style scoped>\n",
       "    .dataframe tbody tr th:only-of-type {\n",
       "        vertical-align: middle;\n",
       "    }\n",
       "\n",
       "    .dataframe tbody tr th {\n",
       "        vertical-align: top;\n",
       "    }\n",
       "\n",
       "    .dataframe thead th {\n",
       "        text-align: right;\n",
       "    }\n",
       "</style>\n",
       "<table border=\"1\" class=\"dataframe\">\n",
       "  <thead>\n",
       "    <tr style=\"text-align: right;\">\n",
       "      <th></th>\n",
       "      <th>시도/관리소</th>\n",
       "      <th>재배채취</th>\n",
       "      <th>재배면적</th>\n",
       "      <th>재배단위</th>\n",
       "      <th>소분류</th>\n",
       "      <th>단가</th>\n",
       "      <th>생산량</th>\n",
       "    </tr>\n",
       "  </thead>\n",
       "  <tbody>\n",
       "    <tr>\n",
       "      <th>11010</th>\n",
       "      <td>인제군</td>\n",
       "      <td>재배</td>\n",
       "      <td>600</td>\n",
       "      <td>평</td>\n",
       "      <td>오미자</td>\n",
       "      <td>10000.000000</td>\n",
       "      <td>0.0</td>\n",
       "    </tr>\n",
       "    <tr>\n",
       "      <th>23614</th>\n",
       "      <td>충청북도</td>\n",
       "      <td>채취</td>\n",
       "      <td>700</td>\n",
       "      <td>평</td>\n",
       "      <td>오미자</td>\n",
       "      <td>15000.000000</td>\n",
       "      <td>0.0</td>\n",
       "    </tr>\n",
       "    <tr>\n",
       "      <th>11617</th>\n",
       "      <td>강원도</td>\n",
       "      <td>채취</td>\n",
       "      <td>1000</td>\n",
       "      <td>평</td>\n",
       "      <td>더덕</td>\n",
       "      <td>16000.000000</td>\n",
       "      <td>0.0</td>\n",
       "    </tr>\n",
       "    <tr>\n",
       "      <th>80453</th>\n",
       "      <td>경상북도</td>\n",
       "      <td>채취</td>\n",
       "      <td>800</td>\n",
       "      <td>평</td>\n",
       "      <td>오미자</td>\n",
       "      <td>15000.000000</td>\n",
       "      <td>0.0</td>\n",
       "    </tr>\n",
       "    <tr>\n",
       "      <th>105786</th>\n",
       "      <td>인제군</td>\n",
       "      <td>재배</td>\n",
       "      <td>22285</td>\n",
       "      <td>㎡</td>\n",
       "      <td>호두</td>\n",
       "      <td>13801.759134</td>\n",
       "      <td>739.0</td>\n",
       "    </tr>\n",
       "  </tbody>\n",
       "</table>\n",
       "</div>"
      ],
      "text/plain": [
       "       시도/관리소 재배채취   재배면적 재배단위  소분류            단가    생산량\n",
       "11010     인제군   재배    600    평  오미자  10000.000000    0.0\n",
       "23614    충청북도   채취    700    평  오미자  15000.000000    0.0\n",
       "11617     강원도   채취   1000    평   더덕  16000.000000    0.0\n",
       "80453    경상북도   채취    800    평  오미자  15000.000000    0.0\n",
       "105786    인제군   재배  22285    ㎡   호두  13801.759134  739.0"
      ]
     },
     "execution_count": 219,
     "metadata": {},
     "output_type": "execute_result"
    }
   ],
   "source": [
    "test_set = data.sample(30)\n",
    "test_set.head()"
   ]
  },
  {
   "cell_type": "code",
   "execution_count": 220,
   "metadata": {},
   "outputs": [
    {
     "name": "stdout",
     "output_type": "stream",
     "text": [
      "[4.12414242e-03 0.00000000e+00 0.00000000e+00 1.89140801e-03\n",
      " 4.49542122e+02 8.68147470e-02 1.71991980e-03 3.63953429e-01\n",
      " 0.00000000e+00 0.00000000e+00]\n"
     ]
    }
   ],
   "source": [
    "ensemble = EnsembleRegressor(models, weights=optimal_weight)\n",
    "preds = predict(ensemble, test_set)\n",
    "print(preds[:10])"
   ]
  },
  {
   "cell_type": "code",
   "execution_count": 221,
   "metadata": {},
   "outputs": [
    {
     "data": {
      "text/html": [
       "<div>\n",
       "<style scoped>\n",
       "    .dataframe tbody tr th:only-of-type {\n",
       "        vertical-align: middle;\n",
       "    }\n",
       "\n",
       "    .dataframe tbody tr th {\n",
       "        vertical-align: top;\n",
       "    }\n",
       "\n",
       "    .dataframe thead th {\n",
       "        text-align: right;\n",
       "    }\n",
       "</style>\n",
       "<table border=\"1\" class=\"dataframe\">\n",
       "  <thead>\n",
       "    <tr style=\"text-align: right;\">\n",
       "      <th></th>\n",
       "      <th>생산량</th>\n",
       "      <th>예측값</th>\n",
       "    </tr>\n",
       "  </thead>\n",
       "  <tbody>\n",
       "    <tr>\n",
       "      <th>0</th>\n",
       "      <td>0.0</td>\n",
       "      <td>0.004124</td>\n",
       "    </tr>\n",
       "    <tr>\n",
       "      <th>1</th>\n",
       "      <td>0.0</td>\n",
       "      <td>0.000000</td>\n",
       "    </tr>\n",
       "    <tr>\n",
       "      <th>2</th>\n",
       "      <td>0.0</td>\n",
       "      <td>0.000000</td>\n",
       "    </tr>\n",
       "    <tr>\n",
       "      <th>3</th>\n",
       "      <td>0.0</td>\n",
       "      <td>0.001891</td>\n",
       "    </tr>\n",
       "    <tr>\n",
       "      <th>4</th>\n",
       "      <td>739.0</td>\n",
       "      <td>449.542122</td>\n",
       "    </tr>\n",
       "    <tr>\n",
       "      <th>5</th>\n",
       "      <td>0.0</td>\n",
       "      <td>0.086815</td>\n",
       "    </tr>\n",
       "    <tr>\n",
       "      <th>6</th>\n",
       "      <td>0.0</td>\n",
       "      <td>0.001720</td>\n",
       "    </tr>\n",
       "    <tr>\n",
       "      <th>7</th>\n",
       "      <td>0.0</td>\n",
       "      <td>0.363953</td>\n",
       "    </tr>\n",
       "    <tr>\n",
       "      <th>8</th>\n",
       "      <td>0.0</td>\n",
       "      <td>0.000000</td>\n",
       "    </tr>\n",
       "    <tr>\n",
       "      <th>9</th>\n",
       "      <td>0.0</td>\n",
       "      <td>0.000000</td>\n",
       "    </tr>\n",
       "    <tr>\n",
       "      <th>10</th>\n",
       "      <td>0.0</td>\n",
       "      <td>0.000000</td>\n",
       "    </tr>\n",
       "    <tr>\n",
       "      <th>11</th>\n",
       "      <td>0.0</td>\n",
       "      <td>0.048448</td>\n",
       "    </tr>\n",
       "    <tr>\n",
       "      <th>12</th>\n",
       "      <td>0.0</td>\n",
       "      <td>0.001670</td>\n",
       "    </tr>\n",
       "    <tr>\n",
       "      <th>13</th>\n",
       "      <td>200.0</td>\n",
       "      <td>182.393115</td>\n",
       "    </tr>\n",
       "    <tr>\n",
       "      <th>14</th>\n",
       "      <td>0.0</td>\n",
       "      <td>0.019796</td>\n",
       "    </tr>\n",
       "    <tr>\n",
       "      <th>15</th>\n",
       "      <td>20.0</td>\n",
       "      <td>4.036229</td>\n",
       "    </tr>\n",
       "    <tr>\n",
       "      <th>16</th>\n",
       "      <td>0.0</td>\n",
       "      <td>2.191031</td>\n",
       "    </tr>\n",
       "    <tr>\n",
       "      <th>17</th>\n",
       "      <td>0.0</td>\n",
       "      <td>0.085202</td>\n",
       "    </tr>\n",
       "    <tr>\n",
       "      <th>18</th>\n",
       "      <td>0.0</td>\n",
       "      <td>0.021808</td>\n",
       "    </tr>\n",
       "    <tr>\n",
       "      <th>19</th>\n",
       "      <td>0.0</td>\n",
       "      <td>0.001091</td>\n",
       "    </tr>\n",
       "    <tr>\n",
       "      <th>20</th>\n",
       "      <td>0.0</td>\n",
       "      <td>0.000000</td>\n",
       "    </tr>\n",
       "    <tr>\n",
       "      <th>21</th>\n",
       "      <td>0.0</td>\n",
       "      <td>0.015331</td>\n",
       "    </tr>\n",
       "    <tr>\n",
       "      <th>22</th>\n",
       "      <td>0.0</td>\n",
       "      <td>0.025784</td>\n",
       "    </tr>\n",
       "    <tr>\n",
       "      <th>23</th>\n",
       "      <td>0.0</td>\n",
       "      <td>0.259178</td>\n",
       "    </tr>\n",
       "    <tr>\n",
       "      <th>24</th>\n",
       "      <td>10.0</td>\n",
       "      <td>11.365719</td>\n",
       "    </tr>\n",
       "    <tr>\n",
       "      <th>25</th>\n",
       "      <td>0.0</td>\n",
       "      <td>0.004755</td>\n",
       "    </tr>\n",
       "    <tr>\n",
       "      <th>26</th>\n",
       "      <td>20.0</td>\n",
       "      <td>7.378684</td>\n",
       "    </tr>\n",
       "    <tr>\n",
       "      <th>27</th>\n",
       "      <td>0.0</td>\n",
       "      <td>0.031860</td>\n",
       "    </tr>\n",
       "    <tr>\n",
       "      <th>28</th>\n",
       "      <td>0.0</td>\n",
       "      <td>0.045687</td>\n",
       "    </tr>\n",
       "    <tr>\n",
       "      <th>29</th>\n",
       "      <td>0.0</td>\n",
       "      <td>0.052829</td>\n",
       "    </tr>\n",
       "  </tbody>\n",
       "</table>\n",
       "</div>"
      ],
      "text/plain": [
       "      생산량         예측값\n",
       "0     0.0    0.004124\n",
       "1     0.0    0.000000\n",
       "2     0.0    0.000000\n",
       "3     0.0    0.001891\n",
       "4   739.0  449.542122\n",
       "5     0.0    0.086815\n",
       "6     0.0    0.001720\n",
       "7     0.0    0.363953\n",
       "8     0.0    0.000000\n",
       "9     0.0    0.000000\n",
       "10    0.0    0.000000\n",
       "11    0.0    0.048448\n",
       "12    0.0    0.001670\n",
       "13  200.0  182.393115\n",
       "14    0.0    0.019796\n",
       "15   20.0    4.036229\n",
       "16    0.0    2.191031\n",
       "17    0.0    0.085202\n",
       "18    0.0    0.021808\n",
       "19    0.0    0.001091\n",
       "20    0.0    0.000000\n",
       "21    0.0    0.015331\n",
       "22    0.0    0.025784\n",
       "23    0.0    0.259178\n",
       "24   10.0   11.365719\n",
       "25    0.0    0.004755\n",
       "26   20.0    7.378684\n",
       "27    0.0    0.031860\n",
       "28    0.0    0.045687\n",
       "29    0.0    0.052829"
      ]
     },
     "execution_count": 221,
     "metadata": {},
     "output_type": "execute_result"
    }
   ],
   "source": [
    "result = pd.concat([test_set['생산량'].reset_index(drop=True), pd.Series(preds, name='예측값')], axis=1)\n",
    "result"
   ]
  },
  {
   "cell_type": "code",
   "execution_count": 222,
   "metadata": {},
   "outputs": [
    {
     "data": {
      "text/plain": [
       "53.07758329707432"
      ]
     },
     "execution_count": 222,
     "metadata": {},
     "output_type": "execute_result"
    }
   ],
   "source": [
    "np.sqrt(mean_squared_error(np.array(test_set['생산량']), preds))"
   ]
  },
  {
   "cell_type": "code",
   "execution_count": null,
   "metadata": {},
   "outputs": [],
   "source": []
  }
 ],
 "metadata": {
  "kernelspec": {
   "display_name": "Python 3",
   "language": "python",
   "name": "python3"
  },
  "language_info": {
   "codemirror_mode": {
    "name": "ipython",
    "version": 3
   },
   "file_extension": ".py",
   "mimetype": "text/x-python",
   "name": "python",
   "nbconvert_exporter": "python",
   "pygments_lexer": "ipython3",
   "version": "3.7.6"
  }
 },
 "nbformat": 4,
 "nbformat_minor": 4
}
