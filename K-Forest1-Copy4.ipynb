{
 "cells": [
  {
   "cell_type": "markdown",
   "metadata": {},
   "source": [
    "## Load Data"
   ]
  },
  {
   "cell_type": "markdown",
   "metadata": {},
   "source": [
    "### 2015년도"
   ]
  },
  {
   "cell_type": "code",
   "execution_count": 1,
   "metadata": {},
   "outputs": [
    {
     "data": {
      "text/html": [
       "<div>\n",
       "<style scoped>\n",
       "    .dataframe tbody tr th:only-of-type {\n",
       "        vertical-align: middle;\n",
       "    }\n",
       "\n",
       "    .dataframe tbody tr th {\n",
       "        vertical-align: top;\n",
       "    }\n",
       "\n",
       "    .dataframe thead th {\n",
       "        text-align: right;\n",
       "    }\n",
       "</style>\n",
       "<table border=\"1\" class=\"dataframe\">\n",
       "  <thead>\n",
       "    <tr style=\"text-align: right;\">\n",
       "      <th></th>\n",
       "      <th>시도/청</th>\n",
       "      <th>시도/관리소</th>\n",
       "      <th>시군구</th>\n",
       "      <th>조사일시</th>\n",
       "      <th>임가번호</th>\n",
       "      <th>대분류코드</th>\n",
       "      <th>중분류코드</th>\n",
       "      <th>소분류코드</th>\n",
       "      <th>품목명</th>\n",
       "      <th>단위</th>\n",
       "      <th>...</th>\n",
       "      <th>면적 단위</th>\n",
       "      <th>Unnamed: 13</th>\n",
       "      <th>금년</th>\n",
       "      <th>금년.1</th>\n",
       "      <th>금년.2</th>\n",
       "      <th>Unnamed: 17</th>\n",
       "      <th>금년.3</th>\n",
       "      <th>Unnamed: 19</th>\n",
       "      <th>금년.4</th>\n",
       "      <th>비고</th>\n",
       "    </tr>\n",
       "  </thead>\n",
       "  <tbody>\n",
       "    <tr>\n",
       "      <th>0</th>\n",
       "      <td>NaN</td>\n",
       "      <td>NaN</td>\n",
       "      <td>NaN</td>\n",
       "      <td>NaN</td>\n",
       "      <td>NaN</td>\n",
       "      <td>NaN</td>\n",
       "      <td>NaN</td>\n",
       "      <td>NaN</td>\n",
       "      <td>NaN</td>\n",
       "      <td>NaN</td>\n",
       "      <td>...</td>\n",
       "      <td>NaN</td>\n",
       "      <td>생산량</td>\n",
       "      <td>환산비율 적용 생산량</td>\n",
       "      <td>단위</td>\n",
       "      <td>생산기준</td>\n",
       "      <td>단가</td>\n",
       "      <td>환산비율 적용 단가</td>\n",
       "      <td>총 생산액</td>\n",
       "      <td>환산비율 적용 총 생산액</td>\n",
       "      <td>NaN</td>\n",
       "    </tr>\n",
       "    <tr>\n",
       "      <th>1</th>\n",
       "      <td>부산광역시</td>\n",
       "      <td>부산광역시</td>\n",
       "      <td>기장군</td>\n",
       "      <td>NaN</td>\n",
       "      <td>NaN</td>\n",
       "      <td>수실</td>\n",
       "      <td>재배수실</td>\n",
       "      <td>밤</td>\n",
       "      <td>밤</td>\n",
       "      <td>kg</td>\n",
       "      <td>...</td>\n",
       "      <td>NaN</td>\n",
       "      <td>13691</td>\n",
       "      <td>13691</td>\n",
       "      <td>kg</td>\n",
       "      <td>NaN</td>\n",
       "      <td>1492.52</td>\n",
       "      <td>1492.52</td>\n",
       "      <td>20434027</td>\n",
       "      <td>20434027</td>\n",
       "      <td>NaN</td>\n",
       "    </tr>\n",
       "    <tr>\n",
       "      <th>2</th>\n",
       "      <td>대구광역시</td>\n",
       "      <td>대구광역시</td>\n",
       "      <td>대구동구</td>\n",
       "      <td>NaN</td>\n",
       "      <td>NaN</td>\n",
       "      <td>수실</td>\n",
       "      <td>재배수실</td>\n",
       "      <td>밤</td>\n",
       "      <td>밤</td>\n",
       "      <td>kg</td>\n",
       "      <td>...</td>\n",
       "      <td>NaN</td>\n",
       "      <td>23601</td>\n",
       "      <td>23601</td>\n",
       "      <td>kg</td>\n",
       "      <td>NaN</td>\n",
       "      <td>3000.05</td>\n",
       "      <td>3000.05</td>\n",
       "      <td>70804196</td>\n",
       "      <td>70804196</td>\n",
       "      <td>NaN</td>\n",
       "    </tr>\n",
       "  </tbody>\n",
       "</table>\n",
       "<p>3 rows × 22 columns</p>\n",
       "</div>"
      ],
      "text/plain": [
       "    시도/청 시도/관리소   시군구 조사일시  임가번호 대분류코드 중분류코드 소분류코드  품목명   단위  ... 면적 단위  \\\n",
       "0    NaN    NaN   NaN  NaN   NaN   NaN   NaN   NaN  NaN  NaN  ...   NaN   \n",
       "1  부산광역시  부산광역시   기장군  NaN   NaN    수실  재배수실     밤    밤   kg  ...   NaN   \n",
       "2  대구광역시  대구광역시  대구동구  NaN   NaN    수실  재배수실     밤    밤   kg  ...   NaN   \n",
       "\n",
       "   Unnamed: 13           금년 금년.1  금년.2 Unnamed: 17        금년.3 Unnamed: 19  \\\n",
       "0          생산량  환산비율 적용 생산량   단위  생산기준          단가  환산비율 적용 단가       총 생산액   \n",
       "1        13691        13691   kg   NaN     1492.52     1492.52    20434027   \n",
       "2        23601        23601   kg   NaN     3000.05     3000.05    70804196   \n",
       "\n",
       "            금년.4   비고  \n",
       "0  환산비율 적용 총 생산액  NaN  \n",
       "1       20434027  NaN  \n",
       "2       70804196  NaN  \n",
       "\n",
       "[3 rows x 22 columns]"
      ]
     },
     "execution_count": 1,
     "metadata": {},
     "output_type": "execute_result"
    }
   ],
   "source": [
    "# 2015년\n",
    "import pandas as pd\n",
    "import numpy as np\n",
    "pd.set_option('mode.chained_assignment',  None)\n",
    "\n",
    "forest_production_2015 = pd.read_excel('2015년기준 임산물생산조사결과(최종0804).xlsx', header=2, thousands=',')\n",
    "forest_production_2015.head(3)"
   ]
  },
  {
   "cell_type": "code",
   "execution_count": 2,
   "metadata": {},
   "outputs": [
    {
     "data": {
      "text/html": [
       "<div>\n",
       "<style scoped>\n",
       "    .dataframe tbody tr th:only-of-type {\n",
       "        vertical-align: middle;\n",
       "    }\n",
       "\n",
       "    .dataframe tbody tr th {\n",
       "        vertical-align: top;\n",
       "    }\n",
       "\n",
       "    .dataframe thead th {\n",
       "        text-align: right;\n",
       "    }\n",
       "</style>\n",
       "<table border=\"1\" class=\"dataframe\">\n",
       "  <thead>\n",
       "    <tr style=\"text-align: right;\">\n",
       "      <th></th>\n",
       "      <th>시도/관리소</th>\n",
       "      <th>재배채취</th>\n",
       "      <th>재배면적</th>\n",
       "      <th>재배단위</th>\n",
       "      <th>소분류</th>\n",
       "      <th>단가</th>\n",
       "      <th>생산량</th>\n",
       "    </tr>\n",
       "  </thead>\n",
       "  <tbody>\n",
       "    <tr>\n",
       "      <th>1</th>\n",
       "      <td>부산광역시</td>\n",
       "      <td>재배</td>\n",
       "      <td>NaN</td>\n",
       "      <td>NaN</td>\n",
       "      <td>밤</td>\n",
       "      <td>1492.52</td>\n",
       "      <td>13691</td>\n",
       "    </tr>\n",
       "    <tr>\n",
       "      <th>2</th>\n",
       "      <td>대구광역시</td>\n",
       "      <td>재배</td>\n",
       "      <td>NaN</td>\n",
       "      <td>NaN</td>\n",
       "      <td>밤</td>\n",
       "      <td>3000.05</td>\n",
       "      <td>23601</td>\n",
       "    </tr>\n",
       "    <tr>\n",
       "      <th>3</th>\n",
       "      <td>대구광역시</td>\n",
       "      <td>재배</td>\n",
       "      <td>NaN</td>\n",
       "      <td>NaN</td>\n",
       "      <td>밤</td>\n",
       "      <td>6251.33</td>\n",
       "      <td>286</td>\n",
       "    </tr>\n",
       "    <tr>\n",
       "      <th>4</th>\n",
       "      <td>인천광역시</td>\n",
       "      <td>재배</td>\n",
       "      <td>NaN</td>\n",
       "      <td>NaN</td>\n",
       "      <td>밤</td>\n",
       "      <td>2999.98</td>\n",
       "      <td>4276</td>\n",
       "    </tr>\n",
       "    <tr>\n",
       "      <th>5</th>\n",
       "      <td>인천광역시</td>\n",
       "      <td>재배</td>\n",
       "      <td>NaN</td>\n",
       "      <td>NaN</td>\n",
       "      <td>밤</td>\n",
       "      <td>2166.66</td>\n",
       "      <td>65701</td>\n",
       "    </tr>\n",
       "  </tbody>\n",
       "</table>\n",
       "</div>"
      ],
      "text/plain": [
       "  시도/관리소 재배채취  재배면적 재배단위 소분류       단가    생산량\n",
       "1  부산광역시   재배   NaN  NaN   밤  1492.52  13691\n",
       "2  대구광역시   재배   NaN  NaN   밤  3000.05  23601\n",
       "3  대구광역시   재배   NaN  NaN   밤  6251.33    286\n",
       "4  인천광역시   재배   NaN  NaN   밤  2999.98   4276\n",
       "5  인천광역시   재배   NaN  NaN   밤  2166.66  65701"
      ]
     },
     "execution_count": 2,
     "metadata": {},
     "output_type": "execute_result"
    }
   ],
   "source": [
    "forest_production_2015 = forest_production_2015.iloc[1:, [1, 10, 11, 12, 7, 17, 13]]\n",
    "forest_production_2015.rename(columns={'면적' : '재배면적',\n",
    "                                       '면적 단위' : '재배단위',\n",
    "                                       '소분류코드' : '소분류',\n",
    "                                       'Unnamed: 13' : '생산량',\n",
    "                                       'Unnamed: 17' : '단가'},\n",
    "                              inplace = True)\n",
    "forest_production_2015.head()"
   ]
  },
  {
   "cell_type": "code",
   "execution_count": 3,
   "metadata": {},
   "outputs": [
    {
     "name": "stdout",
     "output_type": "stream",
     "text": [
      "(107585, 7)\n"
     ]
    }
   ],
   "source": [
    "print(forest_production_2015.shape)"
   ]
  },
  {
   "cell_type": "markdown",
   "metadata": {},
   "source": [
    "### 2016년도"
   ]
  },
  {
   "cell_type": "code",
   "execution_count": 4,
   "metadata": {},
   "outputs": [
    {
     "data": {
      "text/html": [
       "<div>\n",
       "<style scoped>\n",
       "    .dataframe tbody tr th:only-of-type {\n",
       "        vertical-align: middle;\n",
       "    }\n",
       "\n",
       "    .dataframe tbody tr th {\n",
       "        vertical-align: top;\n",
       "    }\n",
       "\n",
       "    .dataframe thead th {\n",
       "        text-align: right;\n",
       "    }\n",
       "</style>\n",
       "<table border=\"1\" class=\"dataframe\">\n",
       "  <thead>\n",
       "    <tr style=\"text-align: right;\">\n",
       "      <th></th>\n",
       "      <th>시도/청</th>\n",
       "      <th>시도/관리소</th>\n",
       "      <th>시군구</th>\n",
       "      <th>임가번호</th>\n",
       "      <th>대분류</th>\n",
       "      <th>중분류</th>\n",
       "      <th>소분류</th>\n",
       "      <th>단위</th>\n",
       "      <th>재배채취</th>\n",
       "      <th>면적</th>\n",
       "      <th>면적 단위</th>\n",
       "      <th>금년</th>\n",
       "      <th>금년.1</th>\n",
       "      <th>금년.2</th>\n",
       "      <th>금년.3</th>\n",
       "      <th>금년.4</th>\n",
       "      <th>비고</th>\n",
       "      <th>시퀀스</th>\n",
       "    </tr>\n",
       "  </thead>\n",
       "  <tbody>\n",
       "    <tr>\n",
       "      <th>0</th>\n",
       "      <td>NaN</td>\n",
       "      <td>NaN</td>\n",
       "      <td>NaN</td>\n",
       "      <td>NaN</td>\n",
       "      <td>NaN</td>\n",
       "      <td>NaN</td>\n",
       "      <td>NaN</td>\n",
       "      <td>NaN</td>\n",
       "      <td>NaN</td>\n",
       "      <td>NaN</td>\n",
       "      <td>NaN</td>\n",
       "      <td>생산량</td>\n",
       "      <td>단위</td>\n",
       "      <td>생산기준</td>\n",
       "      <td>단가</td>\n",
       "      <td>총생산액</td>\n",
       "      <td>NaN</td>\n",
       "      <td>NaN</td>\n",
       "    </tr>\n",
       "    <tr>\n",
       "      <th>1</th>\n",
       "      <td>충청북도</td>\n",
       "      <td>충청북도</td>\n",
       "      <td>진천군</td>\n",
       "      <td>017356</td>\n",
       "      <td>연료</td>\n",
       "      <td>목탄</td>\n",
       "      <td>흑탄</td>\n",
       "      <td>톤</td>\n",
       "      <td>재배</td>\n",
       "      <td>50.0</td>\n",
       "      <td>㎡</td>\n",
       "      <td>50</td>\n",
       "      <td>톤</td>\n",
       "      <td>없음</td>\n",
       "      <td>1800000</td>\n",
       "      <td>90000000</td>\n",
       "      <td>NaN</td>\n",
       "      <td>1.0</td>\n",
       "    </tr>\n",
       "    <tr>\n",
       "      <th>2</th>\n",
       "      <td>충청북도</td>\n",
       "      <td>충청북도</td>\n",
       "      <td>진천군</td>\n",
       "      <td>017442</td>\n",
       "      <td>연료</td>\n",
       "      <td>목탄</td>\n",
       "      <td>흑탄</td>\n",
       "      <td>톤</td>\n",
       "      <td>재배</td>\n",
       "      <td>10.0</td>\n",
       "      <td>㎡</td>\n",
       "      <td>25</td>\n",
       "      <td>톤</td>\n",
       "      <td>없음</td>\n",
       "      <td>1200000</td>\n",
       "      <td>30000000</td>\n",
       "      <td>NaN</td>\n",
       "      <td>1.0</td>\n",
       "    </tr>\n",
       "  </tbody>\n",
       "</table>\n",
       "</div>"
      ],
      "text/plain": [
       "   시도/청 시도/관리소  시군구    임가번호  대분류  중분류  소분류   단위 재배채취    면적 면적 단위   금년 금년.1  \\\n",
       "0   NaN    NaN  NaN     NaN  NaN  NaN  NaN  NaN  NaN   NaN   NaN  생산량   단위   \n",
       "1  충청북도   충청북도  진천군  017356   연료   목탄   흑탄    톤   재배  50.0     ㎡   50    톤   \n",
       "2  충청북도   충청북도  진천군  017442   연료   목탄   흑탄    톤   재배  10.0     ㎡   25    톤   \n",
       "\n",
       "   금년.2     금년.3      금년.4   비고  시퀀스  \n",
       "0  생산기준       단가      총생산액  NaN  NaN  \n",
       "1    없음  1800000  90000000  NaN  1.0  \n",
       "2    없음  1200000  30000000  NaN  1.0  "
      ]
     },
     "execution_count": 4,
     "metadata": {},
     "output_type": "execute_result"
    }
   ],
   "source": [
    "forest_production_2016 = pd.read_excel('2016년기준 임산물생산조사(업로드자료).xlsx', thousands=',')\n",
    "forest_production_2016.head(3)"
   ]
  },
  {
   "cell_type": "code",
   "execution_count": 5,
   "metadata": {},
   "outputs": [
    {
     "data": {
      "text/html": [
       "<div>\n",
       "<style scoped>\n",
       "    .dataframe tbody tr th:only-of-type {\n",
       "        vertical-align: middle;\n",
       "    }\n",
       "\n",
       "    .dataframe tbody tr th {\n",
       "        vertical-align: top;\n",
       "    }\n",
       "\n",
       "    .dataframe thead th {\n",
       "        text-align: right;\n",
       "    }\n",
       "</style>\n",
       "<table border=\"1\" class=\"dataframe\">\n",
       "  <thead>\n",
       "    <tr style=\"text-align: right;\">\n",
       "      <th></th>\n",
       "      <th>시도/관리소</th>\n",
       "      <th>재배채취</th>\n",
       "      <th>재배면적</th>\n",
       "      <th>재배단위</th>\n",
       "      <th>소분류</th>\n",
       "      <th>단가</th>\n",
       "      <th>생산량</th>\n",
       "    </tr>\n",
       "  </thead>\n",
       "  <tbody>\n",
       "    <tr>\n",
       "      <th>1</th>\n",
       "      <td>부산광역시</td>\n",
       "      <td>재배</td>\n",
       "      <td>NaN</td>\n",
       "      <td>NaN</td>\n",
       "      <td>밤</td>\n",
       "      <td>1492.52</td>\n",
       "      <td>13691</td>\n",
       "    </tr>\n",
       "    <tr>\n",
       "      <th>2</th>\n",
       "      <td>대구광역시</td>\n",
       "      <td>재배</td>\n",
       "      <td>NaN</td>\n",
       "      <td>NaN</td>\n",
       "      <td>밤</td>\n",
       "      <td>3000.05</td>\n",
       "      <td>23601</td>\n",
       "    </tr>\n",
       "    <tr>\n",
       "      <th>3</th>\n",
       "      <td>대구광역시</td>\n",
       "      <td>재배</td>\n",
       "      <td>NaN</td>\n",
       "      <td>NaN</td>\n",
       "      <td>밤</td>\n",
       "      <td>6251.33</td>\n",
       "      <td>286</td>\n",
       "    </tr>\n",
       "    <tr>\n",
       "      <th>4</th>\n",
       "      <td>인천광역시</td>\n",
       "      <td>재배</td>\n",
       "      <td>NaN</td>\n",
       "      <td>NaN</td>\n",
       "      <td>밤</td>\n",
       "      <td>2999.98</td>\n",
       "      <td>4276</td>\n",
       "    </tr>\n",
       "    <tr>\n",
       "      <th>5</th>\n",
       "      <td>인천광역시</td>\n",
       "      <td>재배</td>\n",
       "      <td>NaN</td>\n",
       "      <td>NaN</td>\n",
       "      <td>밤</td>\n",
       "      <td>2166.66</td>\n",
       "      <td>65701</td>\n",
       "    </tr>\n",
       "  </tbody>\n",
       "</table>\n",
       "</div>"
      ],
      "text/plain": [
       "  시도/관리소 재배채취  재배면적 재배단위 소분류       단가    생산량\n",
       "1  부산광역시   재배   NaN  NaN   밤  1492.52  13691\n",
       "2  대구광역시   재배   NaN  NaN   밤  3000.05  23601\n",
       "3  대구광역시   재배   NaN  NaN   밤  6251.33    286\n",
       "4  인천광역시   재배   NaN  NaN   밤  2999.98   4276\n",
       "5  인천광역시   재배   NaN  NaN   밤  2166.66  65701"
      ]
     },
     "execution_count": 5,
     "metadata": {},
     "output_type": "execute_result"
    }
   ],
   "source": [
    "forest_production_2016 = forest_production_2016.iloc[1:, [1, 8, 9, 10, 6, 14, 11]]\n",
    "forest_production_2016.rename(columns={'면적' : '재배면적',\n",
    "                                       '면적 단위' : '재배단위',\n",
    "                                       '금년.3' : '단가',\n",
    "                                       '금년' : '생산량'},\n",
    "                              inplace = True)\n",
    "forest_production_2015.head()"
   ]
  },
  {
   "cell_type": "code",
   "execution_count": 6,
   "metadata": {},
   "outputs": [
    {
     "name": "stdout",
     "output_type": "stream",
     "text": [
      "(111329, 7)\n"
     ]
    }
   ],
   "source": [
    "print(forest_production_2016.shape)"
   ]
  },
  {
   "cell_type": "markdown",
   "metadata": {},
   "source": [
    "### 2017년도"
   ]
  },
  {
   "cell_type": "code",
   "execution_count": 7,
   "metadata": {},
   "outputs": [
    {
     "data": {
      "text/html": [
       "<div>\n",
       "<style scoped>\n",
       "    .dataframe tbody tr th:only-of-type {\n",
       "        vertical-align: middle;\n",
       "    }\n",
       "\n",
       "    .dataframe tbody tr th {\n",
       "        vertical-align: top;\n",
       "    }\n",
       "\n",
       "    .dataframe thead th {\n",
       "        text-align: right;\n",
       "    }\n",
       "</style>\n",
       "<table border=\"1\" class=\"dataframe\">\n",
       "  <thead>\n",
       "    <tr style=\"text-align: right;\">\n",
       "      <th></th>\n",
       "      <th>시도/청</th>\n",
       "      <th>시군구/관리소</th>\n",
       "      <th>임가번호</th>\n",
       "      <th>구분(재배/채취)</th>\n",
       "      <th>구분(재배/채취).1</th>\n",
       "      <th>구분(재배/채취).2</th>\n",
       "      <th>Unnamed: 6</th>\n",
       "      <th>구분(재배/채취).3</th>\n",
       "      <th>품목</th>\n",
       "      <th>품목.1</th>\n",
       "      <th>품목.2</th>\n",
       "      <th>품목.3</th>\n",
       "      <th>최종값</th>\n",
       "      <th>Unnamed: 13</th>\n",
       "      <th>Unnamed: 14</th>\n",
       "      <th>비고</th>\n",
       "      <th>점검사항</th>\n",
       "      <th>등록자</th>\n",
       "      <th>최초등록일</th>\n",
       "      <th>최종수정일</th>\n",
       "    </tr>\n",
       "  </thead>\n",
       "  <tbody>\n",
       "    <tr>\n",
       "      <th>0</th>\n",
       "      <td>NaN</td>\n",
       "      <td>NaN</td>\n",
       "      <td>NaN</td>\n",
       "      <td>재배채취</td>\n",
       "      <td>재배기준</td>\n",
       "      <td>재배면적</td>\n",
       "      <td>환산면적</td>\n",
       "      <td>재배단위</td>\n",
       "      <td>대분류</td>\n",
       "      <td>중분류</td>\n",
       "      <td>소분류</td>\n",
       "      <td>품목단위</td>\n",
       "      <td>생산량</td>\n",
       "      <td>단가</td>\n",
       "      <td>생산액</td>\n",
       "      <td>NaN</td>\n",
       "      <td>NaN</td>\n",
       "      <td>NaN</td>\n",
       "      <td>NaN</td>\n",
       "      <td>NaN</td>\n",
       "    </tr>\n",
       "    <tr>\n",
       "      <th>1</th>\n",
       "      <td>서울특별시</td>\n",
       "      <td>종로구</td>\n",
       "      <td>341235.0</td>\n",
       "      <td>채취</td>\n",
       "      <td>NaN</td>\n",
       "      <td>0</td>\n",
       "      <td>0</td>\n",
       "      <td>㎡</td>\n",
       "      <td>수실</td>\n",
       "      <td>재배수실</td>\n",
       "      <td>은행</td>\n",
       "      <td>kg</td>\n",
       "      <td>36920</td>\n",
       "      <td>3000</td>\n",
       "      <td>110760000</td>\n",
       "      <td>3영급 (20년생 이상)의 나무</td>\n",
       "      <td>NaN</td>\n",
       "      <td>A1001P101</td>\n",
       "      <td>2018-04-24</td>\n",
       "      <td>2018-04-24</td>\n",
       "    </tr>\n",
       "    <tr>\n",
       "      <th>2</th>\n",
       "      <td>서울특별시</td>\n",
       "      <td>중구</td>\n",
       "      <td>341243.0</td>\n",
       "      <td>채취</td>\n",
       "      <td>NaN</td>\n",
       "      <td>0</td>\n",
       "      <td>0</td>\n",
       "      <td>㎡</td>\n",
       "      <td>수실</td>\n",
       "      <td>재배수실</td>\n",
       "      <td>은행</td>\n",
       "      <td>kg</td>\n",
       "      <td>22720</td>\n",
       "      <td>3000</td>\n",
       "      <td>68160000</td>\n",
       "      <td>3영급 (20년생 이상)의 나무</td>\n",
       "      <td>NaN</td>\n",
       "      <td>A1001P101</td>\n",
       "      <td>2018-04-24</td>\n",
       "      <td>2018-04-24</td>\n",
       "    </tr>\n",
       "  </tbody>\n",
       "</table>\n",
       "</div>"
      ],
      "text/plain": [
       "    시도/청 시군구/관리소      임가번호 구분(재배/채취) 구분(재배/채취).1 구분(재배/채취).2 Unnamed: 6  \\\n",
       "0    NaN     NaN       NaN      재배채취        재배기준        재배면적       환산면적   \n",
       "1  서울특별시     종로구  341235.0        채취         NaN           0          0   \n",
       "2  서울특별시      중구  341243.0        채취         NaN           0          0   \n",
       "\n",
       "  구분(재배/채취).3   품목  품목.1 품목.2  품목.3    최종값 Unnamed: 13 Unnamed: 14  \\\n",
       "0        재배단위  대분류   중분류  소분류  품목단위    생산량          단가         생산액   \n",
       "1           ㎡   수실  재배수실   은행    kg  36920        3000   110760000   \n",
       "2           ㎡   수실  재배수실   은행    kg  22720        3000    68160000   \n",
       "\n",
       "                  비고  점검사항        등록자       최초등록일       최종수정일  \n",
       "0                NaN   NaN        NaN         NaN         NaN  \n",
       "1  3영급 (20년생 이상)의 나무   NaN  A1001P101  2018-04-24  2018-04-24  \n",
       "2  3영급 (20년생 이상)의 나무   NaN  A1001P101  2018-04-24  2018-04-24  "
      ]
     },
     "execution_count": 7,
     "metadata": {},
     "output_type": "execute_result"
    }
   ],
   "source": [
    "forest_production_2017 = pd.read_excel('2017년 기준 임산물생산조사(업로드자료).xlsx', thousands=',')\n",
    "forest_production_2017.head(3)"
   ]
  },
  {
   "cell_type": "code",
   "execution_count": 8,
   "metadata": {},
   "outputs": [
    {
     "data": {
      "text/html": [
       "<div>\n",
       "<style scoped>\n",
       "    .dataframe tbody tr th:only-of-type {\n",
       "        vertical-align: middle;\n",
       "    }\n",
       "\n",
       "    .dataframe tbody tr th {\n",
       "        vertical-align: top;\n",
       "    }\n",
       "\n",
       "    .dataframe thead th {\n",
       "        text-align: right;\n",
       "    }\n",
       "</style>\n",
       "<table border=\"1\" class=\"dataframe\">\n",
       "  <thead>\n",
       "    <tr style=\"text-align: right;\">\n",
       "      <th></th>\n",
       "      <th>시도/관리소</th>\n",
       "      <th>재배채취</th>\n",
       "      <th>재배면적</th>\n",
       "      <th>재배단위</th>\n",
       "      <th>소분류</th>\n",
       "      <th>단가</th>\n",
       "      <th>생산량</th>\n",
       "    </tr>\n",
       "  </thead>\n",
       "  <tbody>\n",
       "    <tr>\n",
       "      <th>1</th>\n",
       "      <td>종로구</td>\n",
       "      <td>채취</td>\n",
       "      <td>0</td>\n",
       "      <td>㎡</td>\n",
       "      <td>은행</td>\n",
       "      <td>3000</td>\n",
       "      <td>36920</td>\n",
       "    </tr>\n",
       "    <tr>\n",
       "      <th>2</th>\n",
       "      <td>중구</td>\n",
       "      <td>채취</td>\n",
       "      <td>0</td>\n",
       "      <td>㎡</td>\n",
       "      <td>은행</td>\n",
       "      <td>3000</td>\n",
       "      <td>22720</td>\n",
       "    </tr>\n",
       "    <tr>\n",
       "      <th>3</th>\n",
       "      <td>용산구</td>\n",
       "      <td>채취</td>\n",
       "      <td>0</td>\n",
       "      <td>㎡</td>\n",
       "      <td>은행</td>\n",
       "      <td>3000</td>\n",
       "      <td>41440</td>\n",
       "    </tr>\n",
       "    <tr>\n",
       "      <th>4</th>\n",
       "      <td>성동구</td>\n",
       "      <td>채취</td>\n",
       "      <td>0</td>\n",
       "      <td>㎡</td>\n",
       "      <td>은행</td>\n",
       "      <td>3000</td>\n",
       "      <td>9960</td>\n",
       "    </tr>\n",
       "    <tr>\n",
       "      <th>5</th>\n",
       "      <td>광진구</td>\n",
       "      <td>채취</td>\n",
       "      <td>0</td>\n",
       "      <td>㎡</td>\n",
       "      <td>은행</td>\n",
       "      <td>3000</td>\n",
       "      <td>12800</td>\n",
       "    </tr>\n",
       "  </tbody>\n",
       "</table>\n",
       "</div>"
      ],
      "text/plain": [
       "  시도/관리소 재배채취 재배면적 재배단위 소분류    단가    생산량\n",
       "1    종로구   채취    0    ㎡  은행  3000  36920\n",
       "2     중구   채취    0    ㎡  은행  3000  22720\n",
       "3    용산구   채취    0    ㎡  은행  3000  41440\n",
       "4    성동구   채취    0    ㎡  은행  3000   9960\n",
       "5    광진구   채취    0    ㎡  은행  3000  12800"
      ]
     },
     "execution_count": 8,
     "metadata": {},
     "output_type": "execute_result"
    }
   ],
   "source": [
    "forest_production_2017 = forest_production_2017.iloc[1:, [1, 3, 5, 7, 10, 13, 12]]\n",
    "forest_production_2017.rename(columns={'시군구/관리소' : '시도/관리소',\n",
    "                                        '구분(재배/채취)' : '재배채취',\n",
    "                                        '구분(재배/채취).1' : '재배기준',\n",
    "                                        '구분(재배/채취).2' : '재배면적',\n",
    "                                        '구분(재배/채취).3' : '재배단위',\n",
    "                                        '품목.2' : '소분류',\n",
    "                                        'Unnamed: 13' : '단가',\n",
    "                                        '최종값' : '생산량'},\n",
    "                             inplace = True)\n",
    "forest_production_2017.head()"
   ]
  },
  {
   "cell_type": "code",
   "execution_count": 9,
   "metadata": {},
   "outputs": [
    {
     "name": "stdout",
     "output_type": "stream",
     "text": [
      "(106879, 7)\n"
     ]
    }
   ],
   "source": [
    "print(forest_production_2017.shape)"
   ]
  },
  {
   "cell_type": "markdown",
   "metadata": {},
   "source": [
    "### 2018년도"
   ]
  },
  {
   "cell_type": "code",
   "execution_count": 10,
   "metadata": {},
   "outputs": [
    {
     "data": {
      "text/html": [
       "<div>\n",
       "<style scoped>\n",
       "    .dataframe tbody tr th:only-of-type {\n",
       "        vertical-align: middle;\n",
       "    }\n",
       "\n",
       "    .dataframe tbody tr th {\n",
       "        vertical-align: top;\n",
       "    }\n",
       "\n",
       "    .dataframe thead th {\n",
       "        text-align: right;\n",
       "    }\n",
       "</style>\n",
       "<table border=\"1\" class=\"dataframe\">\n",
       "  <thead>\n",
       "    <tr style=\"text-align: right;\">\n",
       "      <th></th>\n",
       "      <th>시도/청</th>\n",
       "      <th>시도/관리소</th>\n",
       "      <th>시군구</th>\n",
       "      <th>재배채취</th>\n",
       "      <th>재배기준</th>\n",
       "      <th>재배면적</th>\n",
       "      <th>재배단위</th>\n",
       "      <th>대분류</th>\n",
       "      <th>중분류</th>\n",
       "      <th>소분류</th>\n",
       "      <th>...</th>\n",
       "      <th>생산기준</th>\n",
       "      <th>비고</th>\n",
       "      <th>생산량</th>\n",
       "      <th>단가</th>\n",
       "      <th>총생산액</th>\n",
       "      <th>시도/청.1</th>\n",
       "      <th>시군구.1</th>\n",
       "      <th>관계</th>\n",
       "      <th>기타관계</th>\n",
       "      <th>임가번호</th>\n",
       "    </tr>\n",
       "  </thead>\n",
       "  <tbody>\n",
       "    <tr>\n",
       "      <th>0</th>\n",
       "      <td>서울특별시</td>\n",
       "      <td>서울특별시</td>\n",
       "      <td>금천구</td>\n",
       "      <td>채취</td>\n",
       "      <td>산지</td>\n",
       "      <td>200.0</td>\n",
       "      <td>평</td>\n",
       "      <td>산나물</td>\n",
       "      <td>산나물</td>\n",
       "      <td>두릅</td>\n",
       "      <td>...</td>\n",
       "      <td>생채(kg)</td>\n",
       "      <td>NaN</td>\n",
       "      <td>1000.0</td>\n",
       "      <td>20000.0</td>\n",
       "      <td>20000000.0</td>\n",
       "      <td>서울특별시</td>\n",
       "      <td>금천구</td>\n",
       "      <td>본인</td>\n",
       "      <td>NaN</td>\n",
       "      <td>437261.0</td>\n",
       "    </tr>\n",
       "    <tr>\n",
       "      <th>1</th>\n",
       "      <td>서울특별시</td>\n",
       "      <td>서울특별시</td>\n",
       "      <td>강남구</td>\n",
       "      <td>채취</td>\n",
       "      <td>노지</td>\n",
       "      <td>800.0</td>\n",
       "      <td>평</td>\n",
       "      <td>조경재</td>\n",
       "      <td>조경수</td>\n",
       "      <td>벚나무</td>\n",
       "      <td>...</td>\n",
       "      <td>없음</td>\n",
       "      <td>NaN</td>\n",
       "      <td>100.0</td>\n",
       "      <td>30000.0</td>\n",
       "      <td>3000000.0</td>\n",
       "      <td>서울특별시</td>\n",
       "      <td>강남구</td>\n",
       "      <td>본인</td>\n",
       "      <td>NaN</td>\n",
       "      <td>423159.0</td>\n",
       "    </tr>\n",
       "    <tr>\n",
       "      <th>2</th>\n",
       "      <td>부산광역시</td>\n",
       "      <td>부산광역시</td>\n",
       "      <td>부산서구</td>\n",
       "      <td>채취</td>\n",
       "      <td>산지</td>\n",
       "      <td>1500.0</td>\n",
       "      <td>평</td>\n",
       "      <td>조경재</td>\n",
       "      <td>조경수</td>\n",
       "      <td>느티나무류</td>\n",
       "      <td>...</td>\n",
       "      <td>없음</td>\n",
       "      <td>수령60년</td>\n",
       "      <td>1.0</td>\n",
       "      <td>5900000.0</td>\n",
       "      <td>5900000.0</td>\n",
       "      <td>부산광역시</td>\n",
       "      <td>부산서구</td>\n",
       "      <td>본인</td>\n",
       "      <td>NaN</td>\n",
       "      <td>902670.0</td>\n",
       "    </tr>\n",
       "  </tbody>\n",
       "</table>\n",
       "<p>3 rows × 21 columns</p>\n",
       "</div>"
      ],
      "text/plain": [
       "    시도/청 시도/관리소   시군구 재배채취 재배기준    재배면적 재배단위  대분류  중분류    소분류  ...    생산기준  \\\n",
       "0  서울특별시  서울특별시   금천구   채취   산지   200.0    평  산나물  산나물     두릅  ...  생채(kg)   \n",
       "1  서울특별시  서울특별시   강남구   채취   노지   800.0    평  조경재  조경수    벚나무  ...      없음   \n",
       "2  부산광역시  부산광역시  부산서구   채취   산지  1500.0    평  조경재  조경수  느티나무류  ...      없음   \n",
       "\n",
       "      비고     생산량         단가        총생산액  시도/청.1 시군구.1  관계 기타관계      임가번호  \n",
       "0    NaN  1000.0    20000.0  20000000.0   서울특별시   금천구  본인  NaN  437261.0  \n",
       "1    NaN   100.0    30000.0   3000000.0   서울특별시   강남구  본인  NaN  423159.0  \n",
       "2  수령60년     1.0  5900000.0   5900000.0   부산광역시  부산서구  본인  NaN  902670.0  \n",
       "\n",
       "[3 rows x 21 columns]"
      ]
     },
     "execution_count": 10,
     "metadata": {},
     "output_type": "execute_result"
    }
   ],
   "source": [
    "forest_production_2018 = pd.read_excel('2018년 기준 임산물생산조사(업로드자료) - 정정.xlsx', thousands=',')\n",
    "forest_production_2018.head(3)"
   ]
  },
  {
   "cell_type": "code",
   "execution_count": 11,
   "metadata": {},
   "outputs": [
    {
     "data": {
      "text/html": [
       "<div>\n",
       "<style scoped>\n",
       "    .dataframe tbody tr th:only-of-type {\n",
       "        vertical-align: middle;\n",
       "    }\n",
       "\n",
       "    .dataframe tbody tr th {\n",
       "        vertical-align: top;\n",
       "    }\n",
       "\n",
       "    .dataframe thead th {\n",
       "        text-align: right;\n",
       "    }\n",
       "</style>\n",
       "<table border=\"1\" class=\"dataframe\">\n",
       "  <thead>\n",
       "    <tr style=\"text-align: right;\">\n",
       "      <th></th>\n",
       "      <th>시도/관리소</th>\n",
       "      <th>재배채취</th>\n",
       "      <th>재배면적</th>\n",
       "      <th>재배단위</th>\n",
       "      <th>소분류</th>\n",
       "      <th>단가</th>\n",
       "      <th>생산량</th>\n",
       "    </tr>\n",
       "  </thead>\n",
       "  <tbody>\n",
       "    <tr>\n",
       "      <th>0</th>\n",
       "      <td>서울특별시</td>\n",
       "      <td>채취</td>\n",
       "      <td>200.0</td>\n",
       "      <td>평</td>\n",
       "      <td>두릅</td>\n",
       "      <td>20000.0</td>\n",
       "      <td>1000.0</td>\n",
       "    </tr>\n",
       "    <tr>\n",
       "      <th>1</th>\n",
       "      <td>서울특별시</td>\n",
       "      <td>채취</td>\n",
       "      <td>800.0</td>\n",
       "      <td>평</td>\n",
       "      <td>벚나무</td>\n",
       "      <td>30000.0</td>\n",
       "      <td>100.0</td>\n",
       "    </tr>\n",
       "    <tr>\n",
       "      <th>2</th>\n",
       "      <td>부산광역시</td>\n",
       "      <td>채취</td>\n",
       "      <td>1500.0</td>\n",
       "      <td>평</td>\n",
       "      <td>느티나무류</td>\n",
       "      <td>5900000.0</td>\n",
       "      <td>1.0</td>\n",
       "    </tr>\n",
       "    <tr>\n",
       "      <th>3</th>\n",
       "      <td>부산광역시</td>\n",
       "      <td>채취</td>\n",
       "      <td>1500.0</td>\n",
       "      <td>평</td>\n",
       "      <td>동백나무</td>\n",
       "      <td>610000.0</td>\n",
       "      <td>540.0</td>\n",
       "    </tr>\n",
       "    <tr>\n",
       "      <th>4</th>\n",
       "      <td>부산광역시</td>\n",
       "      <td>채취</td>\n",
       "      <td>1500.0</td>\n",
       "      <td>평</td>\n",
       "      <td>주목</td>\n",
       "      <td>148000.0</td>\n",
       "      <td>1.0</td>\n",
       "    </tr>\n",
       "  </tbody>\n",
       "</table>\n",
       "</div>"
      ],
      "text/plain": [
       "  시도/관리소 재배채취    재배면적 재배단위    소분류         단가     생산량\n",
       "0  서울특별시   채취   200.0    평     두릅    20000.0  1000.0\n",
       "1  서울특별시   채취   800.0    평    벚나무    30000.0   100.0\n",
       "2  부산광역시   채취  1500.0    평  느티나무류  5900000.0     1.0\n",
       "3  부산광역시   채취  1500.0    평   동백나무   610000.0   540.0\n",
       "4  부산광역시   채취  1500.0    평     주목   148000.0     1.0"
      ]
     },
     "execution_count": 11,
     "metadata": {},
     "output_type": "execute_result"
    }
   ],
   "source": [
    "forest_production_2018 = forest_production_2018.iloc[:, [1, 3, 5, 6, 9, 14, 13]]\n",
    "forest_production_2018.rename(columns={'품목.2' : '소분류',\n",
    "                                      '최종값' : '생산량'},\n",
    "                             inplace = True)\n",
    "forest_production_2018.head()"
   ]
  },
  {
   "cell_type": "code",
   "execution_count": 12,
   "metadata": {},
   "outputs": [
    {
     "name": "stdout",
     "output_type": "stream",
     "text": [
      "(111479, 7)\n"
     ]
    }
   ],
   "source": [
    "print(forest_production_2018.shape)"
   ]
  },
  {
   "cell_type": "markdown",
   "metadata": {},
   "source": [
    "## concatenate data"
   ]
  },
  {
   "cell_type": "code",
   "execution_count": 13,
   "metadata": {},
   "outputs": [
    {
     "data": {
      "text/html": [
       "<div>\n",
       "<style scoped>\n",
       "    .dataframe tbody tr th:only-of-type {\n",
       "        vertical-align: middle;\n",
       "    }\n",
       "\n",
       "    .dataframe tbody tr th {\n",
       "        vertical-align: top;\n",
       "    }\n",
       "\n",
       "    .dataframe thead th {\n",
       "        text-align: right;\n",
       "    }\n",
       "</style>\n",
       "<table border=\"1\" class=\"dataframe\">\n",
       "  <thead>\n",
       "    <tr style=\"text-align: right;\">\n",
       "      <th></th>\n",
       "      <th>시도/관리소</th>\n",
       "      <th>재배채취</th>\n",
       "      <th>재배면적</th>\n",
       "      <th>재배단위</th>\n",
       "      <th>소분류</th>\n",
       "      <th>단가</th>\n",
       "      <th>생산량</th>\n",
       "    </tr>\n",
       "  </thead>\n",
       "  <tbody>\n",
       "    <tr>\n",
       "      <th>1</th>\n",
       "      <td>부산광역시</td>\n",
       "      <td>재배</td>\n",
       "      <td>NaN</td>\n",
       "      <td>NaN</td>\n",
       "      <td>밤</td>\n",
       "      <td>1492.52</td>\n",
       "      <td>13691</td>\n",
       "    </tr>\n",
       "    <tr>\n",
       "      <th>2</th>\n",
       "      <td>대구광역시</td>\n",
       "      <td>재배</td>\n",
       "      <td>NaN</td>\n",
       "      <td>NaN</td>\n",
       "      <td>밤</td>\n",
       "      <td>3000.05</td>\n",
       "      <td>23601</td>\n",
       "    </tr>\n",
       "    <tr>\n",
       "      <th>3</th>\n",
       "      <td>대구광역시</td>\n",
       "      <td>재배</td>\n",
       "      <td>NaN</td>\n",
       "      <td>NaN</td>\n",
       "      <td>밤</td>\n",
       "      <td>6251.33</td>\n",
       "      <td>286</td>\n",
       "    </tr>\n",
       "    <tr>\n",
       "      <th>4</th>\n",
       "      <td>인천광역시</td>\n",
       "      <td>재배</td>\n",
       "      <td>NaN</td>\n",
       "      <td>NaN</td>\n",
       "      <td>밤</td>\n",
       "      <td>2999.98</td>\n",
       "      <td>4276</td>\n",
       "    </tr>\n",
       "    <tr>\n",
       "      <th>5</th>\n",
       "      <td>인천광역시</td>\n",
       "      <td>재배</td>\n",
       "      <td>NaN</td>\n",
       "      <td>NaN</td>\n",
       "      <td>밤</td>\n",
       "      <td>2166.66</td>\n",
       "      <td>65701</td>\n",
       "    </tr>\n",
       "    <tr>\n",
       "      <th>...</th>\n",
       "      <td>...</td>\n",
       "      <td>...</td>\n",
       "      <td>...</td>\n",
       "      <td>...</td>\n",
       "      <td>...</td>\n",
       "      <td>...</td>\n",
       "      <td>...</td>\n",
       "    </tr>\n",
       "    <tr>\n",
       "      <th>111474</th>\n",
       "      <td>경상남도</td>\n",
       "      <td>NaN</td>\n",
       "      <td>NaN</td>\n",
       "      <td>NaN</td>\n",
       "      <td>활엽수</td>\n",
       "      <td>78072</td>\n",
       "      <td>562313</td>\n",
       "    </tr>\n",
       "    <tr>\n",
       "      <th>111475</th>\n",
       "      <td>경상남도</td>\n",
       "      <td>NaN</td>\n",
       "      <td>NaN</td>\n",
       "      <td>NaN</td>\n",
       "      <td>혼효림</td>\n",
       "      <td>85549</td>\n",
       "      <td>744866</td>\n",
       "    </tr>\n",
       "    <tr>\n",
       "      <th>111476</th>\n",
       "      <td>제주특별자치도</td>\n",
       "      <td>NaN</td>\n",
       "      <td>NaN</td>\n",
       "      <td>NaN</td>\n",
       "      <td>침엽수</td>\n",
       "      <td>97794</td>\n",
       "      <td>132416</td>\n",
       "    </tr>\n",
       "    <tr>\n",
       "      <th>111477</th>\n",
       "      <td>제주특별자치도</td>\n",
       "      <td>NaN</td>\n",
       "      <td>NaN</td>\n",
       "      <td>NaN</td>\n",
       "      <td>활엽수</td>\n",
       "      <td>93949</td>\n",
       "      <td>128837</td>\n",
       "    </tr>\n",
       "    <tr>\n",
       "      <th>111478</th>\n",
       "      <td>제주특별자치도</td>\n",
       "      <td>NaN</td>\n",
       "      <td>NaN</td>\n",
       "      <td>NaN</td>\n",
       "      <td>혼효림</td>\n",
       "      <td>95789</td>\n",
       "      <td>57820</td>\n",
       "    </tr>\n",
       "  </tbody>\n",
       "</table>\n",
       "<p>437272 rows × 7 columns</p>\n",
       "</div>"
      ],
      "text/plain": [
       "         시도/관리소 재배채취 재배면적 재배단위  소분류       단가     생산량\n",
       "1         부산광역시   재배  NaN  NaN    밤  1492.52   13691\n",
       "2         대구광역시   재배  NaN  NaN    밤  3000.05   23601\n",
       "3         대구광역시   재배  NaN  NaN    밤  6251.33     286\n",
       "4         인천광역시   재배  NaN  NaN    밤  2999.98    4276\n",
       "5         인천광역시   재배  NaN  NaN    밤  2166.66   65701\n",
       "...         ...  ...  ...  ...  ...      ...     ...\n",
       "111474     경상남도  NaN  NaN  NaN  활엽수    78072  562313\n",
       "111475     경상남도  NaN  NaN  NaN  혼효림    85549  744866\n",
       "111476  제주특별자치도  NaN  NaN  NaN  침엽수    97794  132416\n",
       "111477  제주특별자치도  NaN  NaN  NaN  활엽수    93949  128837\n",
       "111478  제주특별자치도  NaN  NaN  NaN  혼효림    95789   57820\n",
       "\n",
       "[437272 rows x 7 columns]"
      ]
     },
     "execution_count": 13,
     "metadata": {},
     "output_type": "execute_result"
    }
   ],
   "source": [
    "data = pd.concat([forest_production_2015,\n",
    "                  forest_production_2016,\n",
    "                  forest_production_2017,\n",
    "                  forest_production_2018], axis=0)\n",
    "data"
   ]
  },
  {
   "cell_type": "code",
   "execution_count": 14,
   "metadata": {},
   "outputs": [
    {
     "data": {
      "text/html": [
       "<div>\n",
       "<style scoped>\n",
       "    .dataframe tbody tr th:only-of-type {\n",
       "        vertical-align: middle;\n",
       "    }\n",
       "\n",
       "    .dataframe tbody tr th {\n",
       "        vertical-align: top;\n",
       "    }\n",
       "\n",
       "    .dataframe thead th {\n",
       "        text-align: right;\n",
       "    }\n",
       "</style>\n",
       "<table border=\"1\" class=\"dataframe\">\n",
       "  <thead>\n",
       "    <tr style=\"text-align: right;\">\n",
       "      <th></th>\n",
       "      <th>시도/관리소</th>\n",
       "      <th>재배채취</th>\n",
       "      <th>재배면적</th>\n",
       "      <th>재배단위</th>\n",
       "      <th>소분류</th>\n",
       "      <th>단가</th>\n",
       "      <th>생산량</th>\n",
       "    </tr>\n",
       "  </thead>\n",
       "  <tbody>\n",
       "    <tr>\n",
       "      <th>1</th>\n",
       "      <td>부산광역시</td>\n",
       "      <td>재배</td>\n",
       "      <td>NaN</td>\n",
       "      <td>NaN</td>\n",
       "      <td>밤</td>\n",
       "      <td>1492.52</td>\n",
       "      <td>13691</td>\n",
       "    </tr>\n",
       "    <tr>\n",
       "      <th>2</th>\n",
       "      <td>대구광역시</td>\n",
       "      <td>재배</td>\n",
       "      <td>NaN</td>\n",
       "      <td>NaN</td>\n",
       "      <td>밤</td>\n",
       "      <td>3000.05</td>\n",
       "      <td>23601</td>\n",
       "    </tr>\n",
       "    <tr>\n",
       "      <th>3</th>\n",
       "      <td>대구광역시</td>\n",
       "      <td>재배</td>\n",
       "      <td>NaN</td>\n",
       "      <td>NaN</td>\n",
       "      <td>밤</td>\n",
       "      <td>6251.33</td>\n",
       "      <td>286</td>\n",
       "    </tr>\n",
       "    <tr>\n",
       "      <th>4</th>\n",
       "      <td>인천광역시</td>\n",
       "      <td>재배</td>\n",
       "      <td>NaN</td>\n",
       "      <td>NaN</td>\n",
       "      <td>밤</td>\n",
       "      <td>2999.98</td>\n",
       "      <td>4276</td>\n",
       "    </tr>\n",
       "    <tr>\n",
       "      <th>5</th>\n",
       "      <td>인천광역시</td>\n",
       "      <td>재배</td>\n",
       "      <td>NaN</td>\n",
       "      <td>NaN</td>\n",
       "      <td>밤</td>\n",
       "      <td>2166.66</td>\n",
       "      <td>65701</td>\n",
       "    </tr>\n",
       "    <tr>\n",
       "      <th>...</th>\n",
       "      <td>...</td>\n",
       "      <td>...</td>\n",
       "      <td>...</td>\n",
       "      <td>...</td>\n",
       "      <td>...</td>\n",
       "      <td>...</td>\n",
       "      <td>...</td>\n",
       "    </tr>\n",
       "    <tr>\n",
       "      <th>110440</th>\n",
       "      <td>충청북도</td>\n",
       "      <td>NaN</td>\n",
       "      <td>NaN</td>\n",
       "      <td>NaN</td>\n",
       "      <td>오미자</td>\n",
       "      <td>18587</td>\n",
       "      <td>71549</td>\n",
       "    </tr>\n",
       "    <tr>\n",
       "      <th>110448</th>\n",
       "      <td>울산광역시</td>\n",
       "      <td>NaN</td>\n",
       "      <td>NaN</td>\n",
       "      <td>NaN</td>\n",
       "      <td>더덕</td>\n",
       "      <td>16500</td>\n",
       "      <td>160</td>\n",
       "    </tr>\n",
       "    <tr>\n",
       "      <th>110452</th>\n",
       "      <td>경상북도</td>\n",
       "      <td>NaN</td>\n",
       "      <td>NaN</td>\n",
       "      <td>NaN</td>\n",
       "      <td>더덕</td>\n",
       "      <td>16500</td>\n",
       "      <td>17452</td>\n",
       "    </tr>\n",
       "    <tr>\n",
       "      <th>110458</th>\n",
       "      <td>대전광역시</td>\n",
       "      <td>NaN</td>\n",
       "      <td>NaN</td>\n",
       "      <td>NaN</td>\n",
       "      <td>더덕</td>\n",
       "      <td>16500</td>\n",
       "      <td>150</td>\n",
       "    </tr>\n",
       "    <tr>\n",
       "      <th>110459</th>\n",
       "      <td>울산광역시</td>\n",
       "      <td>NaN</td>\n",
       "      <td>NaN</td>\n",
       "      <td>NaN</td>\n",
       "      <td>더덕</td>\n",
       "      <td>16500</td>\n",
       "      <td>50</td>\n",
       "    </tr>\n",
       "  </tbody>\n",
       "</table>\n",
       "<p>24893 rows × 7 columns</p>\n",
       "</div>"
      ],
      "text/plain": [
       "       시도/관리소 재배채취 재배면적 재배단위  소분류       단가    생산량\n",
       "1       부산광역시   재배  NaN  NaN    밤  1492.52  13691\n",
       "2       대구광역시   재배  NaN  NaN    밤  3000.05  23601\n",
       "3       대구광역시   재배  NaN  NaN    밤  6251.33    286\n",
       "4       인천광역시   재배  NaN  NaN    밤  2999.98   4276\n",
       "5       인천광역시   재배  NaN  NaN    밤  2166.66  65701\n",
       "...       ...  ...  ...  ...  ...      ...    ...\n",
       "110440   충청북도  NaN  NaN  NaN  오미자    18587  71549\n",
       "110448  울산광역시  NaN  NaN  NaN   더덕    16500    160\n",
       "110452   경상북도  NaN  NaN  NaN   더덕    16500  17452\n",
       "110458  대전광역시  NaN  NaN  NaN   더덕    16500    150\n",
       "110459  울산광역시  NaN  NaN  NaN   더덕    16500     50\n",
       "\n",
       "[24893 rows x 7 columns]"
      ]
     },
     "execution_count": 14,
     "metadata": {},
     "output_type": "execute_result"
    }
   ],
   "source": [
    "data = data[data['소분류'].isin(['밤', '호두', '대추', '떫은감', '건표고', '생표고', '더덕', '오미자'])]\n",
    "data"
   ]
  },
  {
   "cell_type": "markdown",
   "metadata": {},
   "source": [
    "### Check NaNs"
   ]
  },
  {
   "cell_type": "code",
   "execution_count": 15,
   "metadata": {},
   "outputs": [],
   "source": [
    "data.replace({'생산량': {' - ' : np.NaN}, '단가': {' - ' : np.NaN}},\n",
    "             inplace=True)"
   ]
  },
  {
   "cell_type": "code",
   "execution_count": 16,
   "metadata": {
    "scrolled": true
   },
   "outputs": [
    {
     "data": {
      "text/plain": [
       "시도/관리소       0\n",
       "재배채취      2068\n",
       "재배면적      5314\n",
       "재배단위      2967\n",
       "소분류          0\n",
       "단가          28\n",
       "생산량        689\n",
       "dtype: int64"
      ]
     },
     "execution_count": 16,
     "metadata": {},
     "output_type": "execute_result"
    }
   ],
   "source": [
    "data.isnull().sum()"
   ]
  },
  {
   "cell_type": "code",
   "execution_count": 17,
   "metadata": {},
   "outputs": [
    {
     "data": {
      "text/plain": [
       "시도/관리소     object\n",
       "재배채취       object\n",
       "재배면적       object\n",
       "재배단위       object\n",
       "소분류        object\n",
       "단가        float64\n",
       "생산량       float64\n",
       "dtype: object"
      ]
     },
     "execution_count": 17,
     "metadata": {},
     "output_type": "execute_result"
    }
   ],
   "source": [
    "data.dtypes"
   ]
  },
  {
   "cell_type": "code",
   "execution_count": 18,
   "metadata": {},
   "outputs": [
    {
     "data": {
      "text/html": [
       "<div>\n",
       "<style scoped>\n",
       "    .dataframe tbody tr th:only-of-type {\n",
       "        vertical-align: middle;\n",
       "    }\n",
       "\n",
       "    .dataframe tbody tr th {\n",
       "        vertical-align: top;\n",
       "    }\n",
       "\n",
       "    .dataframe thead th {\n",
       "        text-align: right;\n",
       "    }\n",
       "</style>\n",
       "<table border=\"1\" class=\"dataframe\">\n",
       "  <thead>\n",
       "    <tr style=\"text-align: right;\">\n",
       "      <th></th>\n",
       "      <th>시도/관리소</th>\n",
       "      <th>재배채취</th>\n",
       "      <th>재배면적</th>\n",
       "      <th>재배단위</th>\n",
       "      <th>소분류</th>\n",
       "      <th>단가</th>\n",
       "      <th>생산량</th>\n",
       "    </tr>\n",
       "  </thead>\n",
       "  <tbody>\n",
       "    <tr>\n",
       "      <th>1</th>\n",
       "      <td>부산광역시</td>\n",
       "      <td>재배</td>\n",
       "      <td>NaN</td>\n",
       "      <td>NaN</td>\n",
       "      <td>밤</td>\n",
       "      <td>1492.52</td>\n",
       "      <td>13691.0</td>\n",
       "    </tr>\n",
       "    <tr>\n",
       "      <th>2</th>\n",
       "      <td>대구광역시</td>\n",
       "      <td>재배</td>\n",
       "      <td>NaN</td>\n",
       "      <td>NaN</td>\n",
       "      <td>밤</td>\n",
       "      <td>3000.05</td>\n",
       "      <td>23601.0</td>\n",
       "    </tr>\n",
       "    <tr>\n",
       "      <th>3</th>\n",
       "      <td>대구광역시</td>\n",
       "      <td>재배</td>\n",
       "      <td>NaN</td>\n",
       "      <td>NaN</td>\n",
       "      <td>밤</td>\n",
       "      <td>6251.33</td>\n",
       "      <td>286.0</td>\n",
       "    </tr>\n",
       "    <tr>\n",
       "      <th>4</th>\n",
       "      <td>인천광역시</td>\n",
       "      <td>재배</td>\n",
       "      <td>NaN</td>\n",
       "      <td>NaN</td>\n",
       "      <td>밤</td>\n",
       "      <td>2999.98</td>\n",
       "      <td>4276.0</td>\n",
       "    </tr>\n",
       "    <tr>\n",
       "      <th>5</th>\n",
       "      <td>인천광역시</td>\n",
       "      <td>재배</td>\n",
       "      <td>NaN</td>\n",
       "      <td>NaN</td>\n",
       "      <td>밤</td>\n",
       "      <td>2166.66</td>\n",
       "      <td>65701.0</td>\n",
       "    </tr>\n",
       "    <tr>\n",
       "      <th>...</th>\n",
       "      <td>...</td>\n",
       "      <td>...</td>\n",
       "      <td>...</td>\n",
       "      <td>...</td>\n",
       "      <td>...</td>\n",
       "      <td>...</td>\n",
       "      <td>...</td>\n",
       "    </tr>\n",
       "    <tr>\n",
       "      <th>110440</th>\n",
       "      <td>충청북도</td>\n",
       "      <td>NaN</td>\n",
       "      <td>NaN</td>\n",
       "      <td>NaN</td>\n",
       "      <td>오미자</td>\n",
       "      <td>18587.00</td>\n",
       "      <td>71549.0</td>\n",
       "    </tr>\n",
       "    <tr>\n",
       "      <th>110448</th>\n",
       "      <td>울산광역시</td>\n",
       "      <td>NaN</td>\n",
       "      <td>NaN</td>\n",
       "      <td>NaN</td>\n",
       "      <td>더덕</td>\n",
       "      <td>16500.00</td>\n",
       "      <td>160.0</td>\n",
       "    </tr>\n",
       "    <tr>\n",
       "      <th>110452</th>\n",
       "      <td>경상북도</td>\n",
       "      <td>NaN</td>\n",
       "      <td>NaN</td>\n",
       "      <td>NaN</td>\n",
       "      <td>더덕</td>\n",
       "      <td>16500.00</td>\n",
       "      <td>17452.0</td>\n",
       "    </tr>\n",
       "    <tr>\n",
       "      <th>110458</th>\n",
       "      <td>대전광역시</td>\n",
       "      <td>NaN</td>\n",
       "      <td>NaN</td>\n",
       "      <td>NaN</td>\n",
       "      <td>더덕</td>\n",
       "      <td>16500.00</td>\n",
       "      <td>150.0</td>\n",
       "    </tr>\n",
       "    <tr>\n",
       "      <th>110459</th>\n",
       "      <td>울산광역시</td>\n",
       "      <td>NaN</td>\n",
       "      <td>NaN</td>\n",
       "      <td>NaN</td>\n",
       "      <td>더덕</td>\n",
       "      <td>16500.00</td>\n",
       "      <td>50.0</td>\n",
       "    </tr>\n",
       "  </tbody>\n",
       "</table>\n",
       "<p>24893 rows × 7 columns</p>\n",
       "</div>"
      ],
      "text/plain": [
       "       시도/관리소 재배채취 재배면적 재배단위  소분류        단가      생산량\n",
       "1       부산광역시   재배  NaN  NaN    밤   1492.52  13691.0\n",
       "2       대구광역시   재배  NaN  NaN    밤   3000.05  23601.0\n",
       "3       대구광역시   재배  NaN  NaN    밤   6251.33    286.0\n",
       "4       인천광역시   재배  NaN  NaN    밤   2999.98   4276.0\n",
       "5       인천광역시   재배  NaN  NaN    밤   2166.66  65701.0\n",
       "...       ...  ...  ...  ...  ...       ...      ...\n",
       "110440   충청북도  NaN  NaN  NaN  오미자  18587.00  71549.0\n",
       "110448  울산광역시  NaN  NaN  NaN   더덕  16500.00    160.0\n",
       "110452   경상북도  NaN  NaN  NaN   더덕  16500.00  17452.0\n",
       "110458  대전광역시  NaN  NaN  NaN   더덕  16500.00    150.0\n",
       "110459  울산광역시  NaN  NaN  NaN   더덕  16500.00     50.0\n",
       "\n",
       "[24893 rows x 7 columns]"
      ]
     },
     "execution_count": 18,
     "metadata": {},
     "output_type": "execute_result"
    }
   ],
   "source": [
    "data"
   ]
  },
  {
   "cell_type": "code",
   "execution_count": 19,
   "metadata": {},
   "outputs": [
    {
     "data": {
      "text/html": [
       "<div>\n",
       "<style scoped>\n",
       "    .dataframe tbody tr th:only-of-type {\n",
       "        vertical-align: middle;\n",
       "    }\n",
       "\n",
       "    .dataframe tbody tr th {\n",
       "        vertical-align: top;\n",
       "    }\n",
       "\n",
       "    .dataframe thead th {\n",
       "        text-align: right;\n",
       "    }\n",
       "</style>\n",
       "<table border=\"1\" class=\"dataframe\">\n",
       "  <thead>\n",
       "    <tr style=\"text-align: right;\">\n",
       "      <th></th>\n",
       "      <th>시도/관리소</th>\n",
       "      <th>재배채취</th>\n",
       "      <th>재배면적</th>\n",
       "      <th>재배단위</th>\n",
       "      <th>소분류</th>\n",
       "      <th>단가</th>\n",
       "      <th>생산량</th>\n",
       "    </tr>\n",
       "  </thead>\n",
       "  <tbody>\n",
       "    <tr>\n",
       "      <th>45514</th>\n",
       "      <td>경상북도</td>\n",
       "      <td>재배</td>\n",
       "      <td>20000</td>\n",
       "      <td>㎡</td>\n",
       "      <td>더덕</td>\n",
       "      <td>14874.0</td>\n",
       "      <td>1.0</td>\n",
       "    </tr>\n",
       "    <tr>\n",
       "      <th>45515</th>\n",
       "      <td>경상남도</td>\n",
       "      <td>재배</td>\n",
       "      <td>2</td>\n",
       "      <td>평</td>\n",
       "      <td>더덕</td>\n",
       "      <td>14874.0</td>\n",
       "      <td>1.0</td>\n",
       "    </tr>\n",
       "    <tr>\n",
       "      <th>45516</th>\n",
       "      <td>경상북도</td>\n",
       "      <td>재배</td>\n",
       "      <td>20000</td>\n",
       "      <td>㎡</td>\n",
       "      <td>더덕</td>\n",
       "      <td>14874.0</td>\n",
       "      <td>1.0</td>\n",
       "    </tr>\n",
       "    <tr>\n",
       "      <th>45518</th>\n",
       "      <td>전라북도</td>\n",
       "      <td>재배</td>\n",
       "      <td>30</td>\n",
       "      <td>평</td>\n",
       "      <td>더덕</td>\n",
       "      <td>14874.0</td>\n",
       "      <td>1.0</td>\n",
       "    </tr>\n",
       "    <tr>\n",
       "      <th>45519</th>\n",
       "      <td>경상남도</td>\n",
       "      <td>재배</td>\n",
       "      <td>2</td>\n",
       "      <td>평</td>\n",
       "      <td>더덕</td>\n",
       "      <td>14874.0</td>\n",
       "      <td>1.0</td>\n",
       "    </tr>\n",
       "    <tr>\n",
       "      <th>...</th>\n",
       "      <td>...</td>\n",
       "      <td>...</td>\n",
       "      <td>...</td>\n",
       "      <td>...</td>\n",
       "      <td>...</td>\n",
       "      <td>...</td>\n",
       "      <td>...</td>\n",
       "    </tr>\n",
       "    <tr>\n",
       "      <th>107252</th>\n",
       "      <td>정읍관리소</td>\n",
       "      <td>재배</td>\n",
       "      <td>50</td>\n",
       "      <td>ha</td>\n",
       "      <td>떫은감</td>\n",
       "      <td>11750.0</td>\n",
       "      <td>0.0</td>\n",
       "    </tr>\n",
       "    <tr>\n",
       "      <th>107253</th>\n",
       "      <td>정읍관리소</td>\n",
       "      <td>재배</td>\n",
       "      <td>15</td>\n",
       "      <td>ha</td>\n",
       "      <td>떫은감</td>\n",
       "      <td>11750.0</td>\n",
       "      <td>0.0</td>\n",
       "    </tr>\n",
       "    <tr>\n",
       "      <th>107254</th>\n",
       "      <td>정읍관리소</td>\n",
       "      <td>재배</td>\n",
       "      <td>80</td>\n",
       "      <td>ha</td>\n",
       "      <td>떫은감</td>\n",
       "      <td>11750.0</td>\n",
       "      <td>0.0</td>\n",
       "    </tr>\n",
       "    <tr>\n",
       "      <th>107256</th>\n",
       "      <td>정읍관리소</td>\n",
       "      <td>재배</td>\n",
       "      <td>78</td>\n",
       "      <td>ha</td>\n",
       "      <td>떫은감</td>\n",
       "      <td>11750.0</td>\n",
       "      <td>0.0</td>\n",
       "    </tr>\n",
       "    <tr>\n",
       "      <th>107269</th>\n",
       "      <td>무주관리소</td>\n",
       "      <td>채취</td>\n",
       "      <td>3</td>\n",
       "      <td>ha</td>\n",
       "      <td>밤</td>\n",
       "      <td>1517.0</td>\n",
       "      <td>0.0</td>\n",
       "    </tr>\n",
       "  </tbody>\n",
       "</table>\n",
       "<p>19035 rows × 7 columns</p>\n",
       "</div>"
      ],
      "text/plain": [
       "       시도/관리소 재배채취   재배면적 재배단위  소분류       단가  생산량\n",
       "45514    경상북도   재배  20000    ㎡   더덕  14874.0  1.0\n",
       "45515    경상남도   재배      2    평   더덕  14874.0  1.0\n",
       "45516    경상북도   재배  20000    ㎡   더덕  14874.0  1.0\n",
       "45518    전라북도   재배     30    평   더덕  14874.0  1.0\n",
       "45519    경상남도   재배      2    평   더덕  14874.0  1.0\n",
       "...       ...  ...    ...  ...  ...      ...  ...\n",
       "107252  정읍관리소   재배     50   ha  떫은감  11750.0  0.0\n",
       "107253  정읍관리소   재배     15   ha  떫은감  11750.0  0.0\n",
       "107254  정읍관리소   재배     80   ha  떫은감  11750.0  0.0\n",
       "107256  정읍관리소   재배     78   ha  떫은감  11750.0  0.0\n",
       "107269  무주관리소   채취      3   ha    밤   1517.0  0.0\n",
       "\n",
       "[19035 rows x 7 columns]"
      ]
     },
     "execution_count": 19,
     "metadata": {},
     "output_type": "execute_result"
    }
   ],
   "source": [
    "data.astype({'재배면적': 'float64',\n",
    "             '단가' : 'float64',\n",
    "             '생산량' : 'float64'})\n",
    "\n",
    "data.dropna(axis=0, inplace=True)\n",
    "data"
   ]
  },
  {
   "cell_type": "code",
   "execution_count": 20,
   "metadata": {},
   "outputs": [
    {
     "data": {
      "text/plain": [
       "오미자    12818\n",
       "더덕      5406\n",
       "생표고      156\n",
       "대추       141\n",
       "떫은감      139\n",
       "밤        138\n",
       "건표고      135\n",
       "호두       102\n",
       "Name: 소분류, dtype: int64"
      ]
     },
     "execution_count": 20,
     "metadata": {},
     "output_type": "execute_result"
    }
   ],
   "source": [
    "data['소분류'].value_counts()"
   ]
  },
  {
   "cell_type": "code",
   "execution_count": 21,
   "metadata": {},
   "outputs": [
    {
     "data": {
      "text/plain": [
       "평     16217\n",
       "㎡      2295\n",
       "봉       289\n",
       "ha      234\n",
       "Name: 재배단위, dtype: int64"
      ]
     },
     "execution_count": 21,
     "metadata": {},
     "output_type": "execute_result"
    }
   ],
   "source": [
    "data['재배단위'].value_counts()"
   ]
  },
  {
   "cell_type": "markdown",
   "metadata": {},
   "source": [
    "# variable preprocessing and Visualization"
   ]
  },
  {
   "cell_type": "markdown",
   "metadata": {},
   "source": [
    "### 시도/관리소"
   ]
  },
  {
   "cell_type": "code",
   "execution_count": 22,
   "metadata": {},
   "outputs": [
    {
     "data": {
      "text/plain": [
       "경상북도     3401\n",
       "전라북도     1825\n",
       "강원도      1701\n",
       "경상남도     1461\n",
       "문경시      1154\n",
       "         ... \n",
       "구리시         1\n",
       "무주관리소       1\n",
       "전주시         1\n",
       "수성구         1\n",
       "인제관리소       1\n",
       "Name: 시도/관리소, Length: 187, dtype: int64"
      ]
     },
     "execution_count": 22,
     "metadata": {},
     "output_type": "execute_result"
    }
   ],
   "source": [
    "data['시도/관리소'].value_counts()"
   ]
  },
  {
   "cell_type": "code",
   "execution_count": 23,
   "metadata": {},
   "outputs": [
    {
     "data": {
      "image/png": "[encoded data removed]",
      "text/plain": [
       "<Figure size 2160x1080 with 1 Axes>"
      ]
     },
     "metadata": {
      "needs_background": "light"
     },
     "output_type": "display_data"
    }
   ],
   "source": [
    "import matplotlib.pyplot as plt\n",
    "import seaborn as sns\n",
    "plt.rcParams['font.family'] = 'NanumGothic' # mac os : AppleGothic, windows : NanumGothic\n",
    "plt.rcParams[\"axes.labelsize\"] = 15\n",
    "\n",
    "ax = plt.figure(figsize=(30,15))\n",
    "sns.countplot(x=\"시도/관리소\", data=data)\n",
    "plt.title('전국 분포', fontsize=30)\n",
    "plt.show()"
   ]
  },
  {
   "cell_type": "markdown",
   "metadata": {},
   "source": [
    "### 재배채취"
   ]
  },
  {
   "cell_type": "code",
   "execution_count": 24,
   "metadata": {},
   "outputs": [
    {
     "data": {
      "image/png": "[encoded data removed]",
      "text/plain": [
       "<Figure size 720x576 with 1 Axes>"
      ]
     },
     "metadata": {
      "needs_background": "light"
     },
     "output_type": "display_data"
    }
   ],
   "source": [
    "ax = plt.figure(figsize=(10,8))\n",
    "sns.countplot(x=\"재배채취\", data=data)\n",
    "plt.show()"
   ]
  },
  {
   "cell_type": "markdown",
   "metadata": {},
   "source": [
    "### 재배단위"
   ]
  },
  {
   "cell_type": "code",
   "execution_count": 25,
   "metadata": {},
   "outputs": [
    {
     "data": {
      "image/png": "[encoded data removed]",
      "text/plain": [
       "<Figure size 720x576 with 1 Axes>"
      ]
     },
     "metadata": {
      "needs_background": "light"
     },
     "output_type": "display_data"
    }
   ],
   "source": [
    "ax = plt.figure(figsize=(10,8))\n",
    "sns.countplot(x=\"재배단위\", data=data)\n",
    "plt.show()"
   ]
  },
  {
   "cell_type": "markdown",
   "metadata": {},
   "source": [
    "### 재배면적"
   ]
  },
  {
   "cell_type": "code",
   "execution_count": 26,
   "metadata": {},
   "outputs": [],
   "source": [
    "#data.replace({'재배면적': {0 : np.NaN}},\n",
    "#             inplace=True)\n",
    "#data.dropna(axis=0, inplace=True)"
   ]
  },
  {
   "cell_type": "code",
   "execution_count": 27,
   "metadata": {},
   "outputs": [
    {
     "data": {
      "image/png": "[encoded data removed]",
      "text/plain": [
       "<Figure size 432x288 with 1 Axes>"
      ]
     },
     "metadata": {
      "needs_background": "light"
     },
     "output_type": "display_data"
    },
    {
     "data": {
      "image/png": "[encoded data removed]",
      "text/plain": [
       "<Figure size 432x288 with 1 Axes>"
      ]
     },
     "metadata": {
      "needs_background": "light"
     },
     "output_type": "display_data"
    }
   ],
   "source": [
    "data['재배면적'].hist(bins=30)\n",
    "plt.title('재배면적 히스토그램')\n",
    "plt.show()\n",
    "\n",
    "pd.Series(np.log1p(data['재배면적'].astype(float))).hist(bins=30)\n",
    "plt.title('log(재배면적 + 1) 히스토그램')\n",
    "plt.show()"
   ]
  },
  {
   "cell_type": "code",
   "execution_count": 28,
   "metadata": {},
   "outputs": [
    {
     "data": {
      "text/html": [
       "<div>\n",
       "<style scoped>\n",
       "    .dataframe tbody tr th:only-of-type {\n",
       "        vertical-align: middle;\n",
       "    }\n",
       "\n",
       "    .dataframe tbody tr th {\n",
       "        vertical-align: top;\n",
       "    }\n",
       "\n",
       "    .dataframe thead th {\n",
       "        text-align: right;\n",
       "    }\n",
       "</style>\n",
       "<table border=\"1\" class=\"dataframe\">\n",
       "  <thead>\n",
       "    <tr style=\"text-align: right;\">\n",
       "      <th></th>\n",
       "      <th>시도/관리소</th>\n",
       "      <th>재배채취</th>\n",
       "      <th>재배면적</th>\n",
       "      <th>재배단위</th>\n",
       "      <th>소분류</th>\n",
       "      <th>단가</th>\n",
       "      <th>생산량</th>\n",
       "    </tr>\n",
       "  </thead>\n",
       "  <tbody>\n",
       "    <tr>\n",
       "      <th>45514</th>\n",
       "      <td>경상북도</td>\n",
       "      <td>재배</td>\n",
       "      <td>9.903538</td>\n",
       "      <td>㎡</td>\n",
       "      <td>더덕</td>\n",
       "      <td>14874.0</td>\n",
       "      <td>1.0</td>\n",
       "    </tr>\n",
       "    <tr>\n",
       "      <th>45515</th>\n",
       "      <td>경상남도</td>\n",
       "      <td>재배</td>\n",
       "      <td>1.098612</td>\n",
       "      <td>평</td>\n",
       "      <td>더덕</td>\n",
       "      <td>14874.0</td>\n",
       "      <td>1.0</td>\n",
       "    </tr>\n",
       "    <tr>\n",
       "      <th>45516</th>\n",
       "      <td>경상북도</td>\n",
       "      <td>재배</td>\n",
       "      <td>9.903538</td>\n",
       "      <td>㎡</td>\n",
       "      <td>더덕</td>\n",
       "      <td>14874.0</td>\n",
       "      <td>1.0</td>\n",
       "    </tr>\n",
       "    <tr>\n",
       "      <th>45518</th>\n",
       "      <td>전라북도</td>\n",
       "      <td>재배</td>\n",
       "      <td>3.433987</td>\n",
       "      <td>평</td>\n",
       "      <td>더덕</td>\n",
       "      <td>14874.0</td>\n",
       "      <td>1.0</td>\n",
       "    </tr>\n",
       "    <tr>\n",
       "      <th>45519</th>\n",
       "      <td>경상남도</td>\n",
       "      <td>재배</td>\n",
       "      <td>1.098612</td>\n",
       "      <td>평</td>\n",
       "      <td>더덕</td>\n",
       "      <td>14874.0</td>\n",
       "      <td>1.0</td>\n",
       "    </tr>\n",
       "  </tbody>\n",
       "</table>\n",
       "</div>"
      ],
      "text/plain": [
       "      시도/관리소 재배채취      재배면적 재배단위 소분류       단가  생산량\n",
       "45514   경상북도   재배  9.903538    ㎡  더덕  14874.0  1.0\n",
       "45515   경상남도   재배  1.098612    평  더덕  14874.0  1.0\n",
       "45516   경상북도   재배  9.903538    ㎡  더덕  14874.0  1.0\n",
       "45518   전라북도   재배  3.433987    평  더덕  14874.0  1.0\n",
       "45519   경상남도   재배  1.098612    평  더덕  14874.0  1.0"
      ]
     },
     "execution_count": 28,
     "metadata": {},
     "output_type": "execute_result"
    }
   ],
   "source": [
    "data['재배면적'] = np.log1p(data['재배면적'].astype(float))\n",
    "data.head()"
   ]
  },
  {
   "cell_type": "markdown",
   "metadata": {},
   "source": [
    "### 품목 소분류"
   ]
  },
  {
   "cell_type": "code",
   "execution_count": 29,
   "metadata": {},
   "outputs": [
    {
     "data": {
      "image/png": "[encoded data removed]",
      "text/plain": [
       "<Figure size 2160x1080 with 1 Axes>"
      ]
     },
     "metadata": {
      "needs_background": "light"
     },
     "output_type": "display_data"
    }
   ],
   "source": [
    "plt.rcParams[\"axes.labelsize\"] = 15\n",
    "\n",
    "ax = plt.figure(figsize=(30,15))\n",
    "sns.countplot(x=\"소분류\", data=data)\n",
    "plt.show()"
   ]
  },
  {
   "cell_type": "markdown",
   "metadata": {},
   "source": [
    "### 단가"
   ]
  },
  {
   "cell_type": "code",
   "execution_count": 30,
   "metadata": {},
   "outputs": [],
   "source": [
    "#data.replace({'단가': {0 : np.NaN}},\n",
    "#             inplace=True)\n",
    "#data.dropna(axis=0, inplace=True)"
   ]
  },
  {
   "cell_type": "code",
   "execution_count": 31,
   "metadata": {},
   "outputs": [
    {
     "data": {
      "image/png": "[encoded data removed]",
      "text/plain": [
       "<Figure size 432x288 with 1 Axes>"
      ]
     },
     "metadata": {
      "needs_background": "light"
     },
     "output_type": "display_data"
    },
    {
     "data": {
      "image/png": "[encoded data removed]",
      "text/plain": [
       "<Figure size 432x288 with 1 Axes>"
      ]
     },
     "metadata": {
      "needs_background": "light"
     },
     "output_type": "display_data"
    }
   ],
   "source": [
    "data['단가'].hist(bins=30)\n",
    "plt.title('단가 히스토그램')\n",
    "plt.show()\n",
    "\n",
    "pd.Series(np.log1p(data['단가'].astype(float))).hist(bins=30)\n",
    "plt.title('log(단가 + 1) 히스토그램')\n",
    "plt.show()"
   ]
  },
  {
   "cell_type": "code",
   "execution_count": 32,
   "metadata": {},
   "outputs": [
    {
     "data": {
      "text/html": [
       "<div>\n",
       "<style scoped>\n",
       "    .dataframe tbody tr th:only-of-type {\n",
       "        vertical-align: middle;\n",
       "    }\n",
       "\n",
       "    .dataframe tbody tr th {\n",
       "        vertical-align: top;\n",
       "    }\n",
       "\n",
       "    .dataframe thead th {\n",
       "        text-align: right;\n",
       "    }\n",
       "</style>\n",
       "<table border=\"1\" class=\"dataframe\">\n",
       "  <thead>\n",
       "    <tr style=\"text-align: right;\">\n",
       "      <th></th>\n",
       "      <th>시도/관리소</th>\n",
       "      <th>재배채취</th>\n",
       "      <th>재배면적</th>\n",
       "      <th>재배단위</th>\n",
       "      <th>소분류</th>\n",
       "      <th>단가</th>\n",
       "      <th>생산량</th>\n",
       "    </tr>\n",
       "  </thead>\n",
       "  <tbody>\n",
       "    <tr>\n",
       "      <th>45514</th>\n",
       "      <td>경상북도</td>\n",
       "      <td>재배</td>\n",
       "      <td>9.903538</td>\n",
       "      <td>㎡</td>\n",
       "      <td>더덕</td>\n",
       "      <td>9.607437</td>\n",
       "      <td>1.0</td>\n",
       "    </tr>\n",
       "    <tr>\n",
       "      <th>45515</th>\n",
       "      <td>경상남도</td>\n",
       "      <td>재배</td>\n",
       "      <td>1.098612</td>\n",
       "      <td>평</td>\n",
       "      <td>더덕</td>\n",
       "      <td>9.607437</td>\n",
       "      <td>1.0</td>\n",
       "    </tr>\n",
       "    <tr>\n",
       "      <th>45516</th>\n",
       "      <td>경상북도</td>\n",
       "      <td>재배</td>\n",
       "      <td>9.903538</td>\n",
       "      <td>㎡</td>\n",
       "      <td>더덕</td>\n",
       "      <td>9.607437</td>\n",
       "      <td>1.0</td>\n",
       "    </tr>\n",
       "    <tr>\n",
       "      <th>45518</th>\n",
       "      <td>전라북도</td>\n",
       "      <td>재배</td>\n",
       "      <td>3.433987</td>\n",
       "      <td>평</td>\n",
       "      <td>더덕</td>\n",
       "      <td>9.607437</td>\n",
       "      <td>1.0</td>\n",
       "    </tr>\n",
       "    <tr>\n",
       "      <th>45519</th>\n",
       "      <td>경상남도</td>\n",
       "      <td>재배</td>\n",
       "      <td>1.098612</td>\n",
       "      <td>평</td>\n",
       "      <td>더덕</td>\n",
       "      <td>9.607437</td>\n",
       "      <td>1.0</td>\n",
       "    </tr>\n",
       "  </tbody>\n",
       "</table>\n",
       "</div>"
      ],
      "text/plain": [
       "      시도/관리소 재배채취      재배면적 재배단위 소분류        단가  생산량\n",
       "45514   경상북도   재배  9.903538    ㎡  더덕  9.607437  1.0\n",
       "45515   경상남도   재배  1.098612    평  더덕  9.607437  1.0\n",
       "45516   경상북도   재배  9.903538    ㎡  더덕  9.607437  1.0\n",
       "45518   전라북도   재배  3.433987    평  더덕  9.607437  1.0\n",
       "45519   경상남도   재배  1.098612    평  더덕  9.607437  1.0"
      ]
     },
     "execution_count": 32,
     "metadata": {},
     "output_type": "execute_result"
    }
   ],
   "source": [
    "data['단가'] = np.log1p(data['단가'].astype(float))\n",
    "data.head()"
   ]
  },
  {
   "cell_type": "markdown",
   "metadata": {},
   "source": [
    "### 생산량"
   ]
  },
  {
   "cell_type": "code",
   "execution_count": 33,
   "metadata": {},
   "outputs": [],
   "source": [
    "#data.replace({'생산량': {0 : np.NaN}},\n",
    "#             inplace=True)\n",
    "#data.dropna(axis=0, inplace=True)"
   ]
  },
  {
   "cell_type": "code",
   "execution_count": 34,
   "metadata": {},
   "outputs": [
    {
     "data": {
      "image/png": "[encoded data removed]",
      "text/plain": [
       "<Figure size 432x288 with 1 Axes>"
      ]
     },
     "metadata": {
      "needs_background": "light"
     },
     "output_type": "display_data"
    },
    {
     "data": {
      "image/png": "[encoded data removed]",
      "text/plain": [
       "<Figure size 432x288 with 1 Axes>"
      ]
     },
     "metadata": {
      "needs_background": "light"
     },
     "output_type": "display_data"
    }
   ],
   "source": [
    "data['생산량'].hist(bins=30)\n",
    "plt.title('생산량 히스토그램')\n",
    "plt.show()\n",
    "\n",
    "pd.Series(np.log1p(data['생산량'].astype(float))).hist(bins=30)\n",
    "plt.title('log(생산량 + 1) 히스토그램')\n",
    "plt.show()"
   ]
  },
  {
   "cell_type": "code",
   "execution_count": 35,
   "metadata": {},
   "outputs": [
    {
     "data": {
      "text/html": [
       "<div>\n",
       "<style scoped>\n",
       "    .dataframe tbody tr th:only-of-type {\n",
       "        vertical-align: middle;\n",
       "    }\n",
       "\n",
       "    .dataframe tbody tr th {\n",
       "        vertical-align: top;\n",
       "    }\n",
       "\n",
       "    .dataframe thead th {\n",
       "        text-align: right;\n",
       "    }\n",
       "</style>\n",
       "<table border=\"1\" class=\"dataframe\">\n",
       "  <thead>\n",
       "    <tr style=\"text-align: right;\">\n",
       "      <th></th>\n",
       "      <th>시도/관리소</th>\n",
       "      <th>재배채취</th>\n",
       "      <th>재배면적</th>\n",
       "      <th>재배단위</th>\n",
       "      <th>소분류</th>\n",
       "      <th>단가</th>\n",
       "      <th>생산량</th>\n",
       "    </tr>\n",
       "  </thead>\n",
       "  <tbody>\n",
       "    <tr>\n",
       "      <th>45514</th>\n",
       "      <td>경상북도</td>\n",
       "      <td>재배</td>\n",
       "      <td>9.903538</td>\n",
       "      <td>㎡</td>\n",
       "      <td>더덕</td>\n",
       "      <td>9.607437</td>\n",
       "      <td>0.693147</td>\n",
       "    </tr>\n",
       "    <tr>\n",
       "      <th>45515</th>\n",
       "      <td>경상남도</td>\n",
       "      <td>재배</td>\n",
       "      <td>1.098612</td>\n",
       "      <td>평</td>\n",
       "      <td>더덕</td>\n",
       "      <td>9.607437</td>\n",
       "      <td>0.693147</td>\n",
       "    </tr>\n",
       "    <tr>\n",
       "      <th>45516</th>\n",
       "      <td>경상북도</td>\n",
       "      <td>재배</td>\n",
       "      <td>9.903538</td>\n",
       "      <td>㎡</td>\n",
       "      <td>더덕</td>\n",
       "      <td>9.607437</td>\n",
       "      <td>0.693147</td>\n",
       "    </tr>\n",
       "    <tr>\n",
       "      <th>45518</th>\n",
       "      <td>전라북도</td>\n",
       "      <td>재배</td>\n",
       "      <td>3.433987</td>\n",
       "      <td>평</td>\n",
       "      <td>더덕</td>\n",
       "      <td>9.607437</td>\n",
       "      <td>0.693147</td>\n",
       "    </tr>\n",
       "    <tr>\n",
       "      <th>45519</th>\n",
       "      <td>경상남도</td>\n",
       "      <td>재배</td>\n",
       "      <td>1.098612</td>\n",
       "      <td>평</td>\n",
       "      <td>더덕</td>\n",
       "      <td>9.607437</td>\n",
       "      <td>0.693147</td>\n",
       "    </tr>\n",
       "  </tbody>\n",
       "</table>\n",
       "</div>"
      ],
      "text/plain": [
       "      시도/관리소 재배채취      재배면적 재배단위 소분류        단가       생산량\n",
       "45514   경상북도   재배  9.903538    ㎡  더덕  9.607437  0.693147\n",
       "45515   경상남도   재배  1.098612    평  더덕  9.607437  0.693147\n",
       "45516   경상북도   재배  9.903538    ㎡  더덕  9.607437  0.693147\n",
       "45518   전라북도   재배  3.433987    평  더덕  9.607437  0.693147\n",
       "45519   경상남도   재배  1.098612    평  더덕  9.607437  0.693147"
      ]
     },
     "execution_count": 35,
     "metadata": {},
     "output_type": "execute_result"
    }
   ],
   "source": [
    "data['생산량'] = np.log1p(data['생산량'].astype(float))\n",
    "data.head()"
   ]
  },
  {
   "cell_type": "code",
   "execution_count": 36,
   "metadata": {},
   "outputs": [
    {
     "data": {
      "image/png": "[encoded data removed]",
      "text/plain": [
       "<Figure size 432x288 with 1 Axes>"
      ]
     },
     "metadata": {
      "needs_background": "light"
     },
     "output_type": "display_data"
    }
   ],
   "source": [
    "sns.scatterplot(x='재배면적', y='생산량', data=data, hue='재배단위')\n",
    "plt.show()"
   ]
  },
  {
   "cell_type": "markdown",
   "metadata": {},
   "source": [
    "## Numerical Variable processing"
   ]
  },
  {
   "cell_type": "code",
   "execution_count": 37,
   "metadata": {
    "scrolled": true
   },
   "outputs": [
    {
     "data": {
      "text/plain": [
       "array([[0.54929885, 0.78710275],\n",
       "       [0.06093444, 0.78710275],\n",
       "       [0.54929885, 0.78710275],\n",
       "       ...,\n",
       "       [0.24373774, 0.76778912],\n",
       "       [0.24235105, 0.76778912],\n",
       "       [0.0768907 , 0.60012308]])"
      ]
     },
     "execution_count": 37,
     "metadata": {},
     "output_type": "execute_result"
    }
   ],
   "source": [
    "from sklearn.preprocessing import MinMaxScaler\n",
    "\n",
    "X_minmax_scaler = MinMaxScaler()\n",
    "X_minmax_scaler.fit(data.loc[:, ['재배면적', '단가']])\n",
    "X_scaled = X_minmax_scaler.transform(data.loc[:, ['재배면적', '단가']])\n",
    "X_scaled"
   ]
  },
  {
   "cell_type": "code",
   "execution_count": 38,
   "metadata": {},
   "outputs": [],
   "source": [
    "#y_minmax_scaler = MinMaxScaler()\n",
    "#y_minmax_scaler.fit(data.loc[:, ['생산량']])\n",
    "#y_scaled = y_minmax_scaler.transform(data.loc[:, ['생산량']])\n",
    "#y_scaled"
   ]
  },
  {
   "cell_type": "markdown",
   "metadata": {},
   "source": [
    "## Categorival variable processing"
   ]
  },
  {
   "cell_type": "code",
   "execution_count": 39,
   "metadata": {},
   "outputs": [
    {
     "name": "stdout",
     "output_type": "stream",
     "text": [
      "[array(['가평군', '강릉시', '강서구', '강원도', '강진군', '강화군', '거제시', '거창군', '경기도',\n",
      "       '경산시', '경상남도', '경상북도', '경주시', '계룡시', '고령군', '고성군', '고양시', '고창군',\n",
      "       '고흥군', '곡성군', '공주시', '과천시', '광산구', '광양시', '광주광역시', '광주시', '괴산군',\n",
      "       '구례군', '구리시', '구미시', '국립산림품종관리센터', '군산시', '군위군', '군포시', '금산군',\n",
      "       '기장군', '김제시', '김천시', '김포시', '김해시', '나주시', '남구', '남양주시', '남원시',\n",
      "       '남해군', '논산시', '단양군', '달성군', '담양군', '당진시', '대구광역시', '대덕구', '대전광역시',\n",
      "       '동구', '동두천시', '동해시', '목포시', '무안군', '무주관리소', '무주군', '문경시', '밀양시',\n",
      "       '보령시', '보성군', '보은군', '봉화군', '부산광역시', '부안군', '부여군', '부천시', '북구',\n",
      "       '사천시', '산청군', '삼척시', '상주시', '서구', '서귀포시', '서산시', '서천군', '성주군',\n",
      "       '세종시', '세종특별자치시', '속초시', '수성구', '수원시', '순창군', '순천시', '시흥시', '신안군',\n",
      "       '아산시', '안동시', '안산시', '안성시', '양구군', '양산시', '양양군', '양주시', '양평군',\n",
      "       '여수시', '여주시', '연천군', '영광군', '영덕군', '영동군', '영암군', '영양군', '영월군',\n",
      "       '영주관리소', '영주시', '영천시', '예산군', '예천군', '오산시', '옥천군', '옹진군', '완도군',\n",
      "       '완주군', '용인시', '울릉군', '울산광역시', '울주군', '울진관리소', '울진군', '원주시', '유성구',\n",
      "       '음성군', '의령군', '의성군', '의정부시', '이천시', '익산시', '인제관리소', '인제군', '인천광역시',\n",
      "       '임실군', '장성군', '장수군', '장흥군', '전라남도', '전라북도', '전주시', '정선군', '정읍관리소',\n",
      "       '정읍시', '제주시', '제주특별자치도', '제천시', '중구', '증평군', '진도군', '진안군', '진주시',\n",
      "       '진천군', '창녕군', '창원시', '천안시', '철원군', '청도군', '청송군', '청양군', '청주시',\n",
      "       '춘천시', '충주시', '충청남도', '충청북도', '칠곡군', '태백시', '태안군', '통영시', '파주시',\n",
      "       '평창군', '평택시', '포천시', '포항시', '하남시', '하동군', '함안군', '함양군', '함평군',\n",
      "       '합천군', '해남군', '홍성군', '홍천군', '화성시', '화순군', '화천군', '횡성군'],\n",
      "      dtype=object), array(['재배', '채취'], dtype=object), array(['ha', '㎡', '봉', '평'], dtype=object), array(['건표고', '대추', '더덕', '떫은감', '밤', '생표고', '오미자', '호두'], dtype=object)]\n",
      "(19035, 201)\n"
     ]
    }
   ],
   "source": [
    "from sklearn.preprocessing import OneHotEncoder\n",
    "\n",
    "onehot_encoder = OneHotEncoder(handle_unknown='ignore')\n",
    "onehot_encoder.fit(data.loc[:, ['시도/관리소', '재배채취', '재배단위', '소분류']])\n",
    "onehot = onehot_encoder.fit_transform(data.loc[:, ['시도/관리소', '재배채취', '재배단위', '소분류']])\n",
    "print(onehot_encoder.categories_)\n",
    "print(onehot.toarray().shape)"
   ]
  },
  {
   "cell_type": "code",
   "execution_count": 40,
   "metadata": {},
   "outputs": [
    {
     "data": {
      "text/html": [
       "<div>\n",
       "<style scoped>\n",
       "    .dataframe tbody tr th:only-of-type {\n",
       "        vertical-align: middle;\n",
       "    }\n",
       "\n",
       "    .dataframe tbody tr th {\n",
       "        vertical-align: top;\n",
       "    }\n",
       "\n",
       "    .dataframe thead th {\n",
       "        text-align: right;\n",
       "    }\n",
       "</style>\n",
       "<table border=\"1\" class=\"dataframe\">\n",
       "  <thead>\n",
       "    <tr style=\"text-align: right;\">\n",
       "      <th></th>\n",
       "      <th>재배면적</th>\n",
       "      <th>단가</th>\n",
       "      <th>0</th>\n",
       "      <th>1</th>\n",
       "      <th>2</th>\n",
       "      <th>3</th>\n",
       "      <th>4</th>\n",
       "      <th>5</th>\n",
       "      <th>6</th>\n",
       "      <th>7</th>\n",
       "      <th>...</th>\n",
       "      <th>191</th>\n",
       "      <th>192</th>\n",
       "      <th>193</th>\n",
       "      <th>194</th>\n",
       "      <th>195</th>\n",
       "      <th>196</th>\n",
       "      <th>197</th>\n",
       "      <th>198</th>\n",
       "      <th>199</th>\n",
       "      <th>200</th>\n",
       "    </tr>\n",
       "  </thead>\n",
       "  <tbody>\n",
       "    <tr>\n",
       "      <th>0</th>\n",
       "      <td>0.549299</td>\n",
       "      <td>0.787103</td>\n",
       "      <td>0.0</td>\n",
       "      <td>0.0</td>\n",
       "      <td>0.0</td>\n",
       "      <td>0.0</td>\n",
       "      <td>0.0</td>\n",
       "      <td>0.0</td>\n",
       "      <td>0.0</td>\n",
       "      <td>0.0</td>\n",
       "      <td>...</td>\n",
       "      <td>0.0</td>\n",
       "      <td>0.0</td>\n",
       "      <td>0.0</td>\n",
       "      <td>0.0</td>\n",
       "      <td>1.0</td>\n",
       "      <td>0.0</td>\n",
       "      <td>0.0</td>\n",
       "      <td>0.0</td>\n",
       "      <td>0.0</td>\n",
       "      <td>0.0</td>\n",
       "    </tr>\n",
       "    <tr>\n",
       "      <th>1</th>\n",
       "      <td>0.060934</td>\n",
       "      <td>0.787103</td>\n",
       "      <td>0.0</td>\n",
       "      <td>0.0</td>\n",
       "      <td>0.0</td>\n",
       "      <td>0.0</td>\n",
       "      <td>0.0</td>\n",
       "      <td>0.0</td>\n",
       "      <td>0.0</td>\n",
       "      <td>0.0</td>\n",
       "      <td>...</td>\n",
       "      <td>0.0</td>\n",
       "      <td>1.0</td>\n",
       "      <td>0.0</td>\n",
       "      <td>0.0</td>\n",
       "      <td>1.0</td>\n",
       "      <td>0.0</td>\n",
       "      <td>0.0</td>\n",
       "      <td>0.0</td>\n",
       "      <td>0.0</td>\n",
       "      <td>0.0</td>\n",
       "    </tr>\n",
       "    <tr>\n",
       "      <th>2</th>\n",
       "      <td>0.549299</td>\n",
       "      <td>0.787103</td>\n",
       "      <td>0.0</td>\n",
       "      <td>0.0</td>\n",
       "      <td>0.0</td>\n",
       "      <td>0.0</td>\n",
       "      <td>0.0</td>\n",
       "      <td>0.0</td>\n",
       "      <td>0.0</td>\n",
       "      <td>0.0</td>\n",
       "      <td>...</td>\n",
       "      <td>0.0</td>\n",
       "      <td>0.0</td>\n",
       "      <td>0.0</td>\n",
       "      <td>0.0</td>\n",
       "      <td>1.0</td>\n",
       "      <td>0.0</td>\n",
       "      <td>0.0</td>\n",
       "      <td>0.0</td>\n",
       "      <td>0.0</td>\n",
       "      <td>0.0</td>\n",
       "    </tr>\n",
       "    <tr>\n",
       "      <th>3</th>\n",
       "      <td>0.190466</td>\n",
       "      <td>0.787103</td>\n",
       "      <td>0.0</td>\n",
       "      <td>0.0</td>\n",
       "      <td>0.0</td>\n",
       "      <td>0.0</td>\n",
       "      <td>0.0</td>\n",
       "      <td>0.0</td>\n",
       "      <td>0.0</td>\n",
       "      <td>0.0</td>\n",
       "      <td>...</td>\n",
       "      <td>0.0</td>\n",
       "      <td>1.0</td>\n",
       "      <td>0.0</td>\n",
       "      <td>0.0</td>\n",
       "      <td>1.0</td>\n",
       "      <td>0.0</td>\n",
       "      <td>0.0</td>\n",
       "      <td>0.0</td>\n",
       "      <td>0.0</td>\n",
       "      <td>0.0</td>\n",
       "    </tr>\n",
       "    <tr>\n",
       "      <th>4</th>\n",
       "      <td>0.060934</td>\n",
       "      <td>0.787103</td>\n",
       "      <td>0.0</td>\n",
       "      <td>0.0</td>\n",
       "      <td>0.0</td>\n",
       "      <td>0.0</td>\n",
       "      <td>0.0</td>\n",
       "      <td>0.0</td>\n",
       "      <td>0.0</td>\n",
       "      <td>0.0</td>\n",
       "      <td>...</td>\n",
       "      <td>0.0</td>\n",
       "      <td>1.0</td>\n",
       "      <td>0.0</td>\n",
       "      <td>0.0</td>\n",
       "      <td>1.0</td>\n",
       "      <td>0.0</td>\n",
       "      <td>0.0</td>\n",
       "      <td>0.0</td>\n",
       "      <td>0.0</td>\n",
       "      <td>0.0</td>\n",
       "    </tr>\n",
       "    <tr>\n",
       "      <th>...</th>\n",
       "      <td>...</td>\n",
       "      <td>...</td>\n",
       "      <td>...</td>\n",
       "      <td>...</td>\n",
       "      <td>...</td>\n",
       "      <td>...</td>\n",
       "      <td>...</td>\n",
       "      <td>...</td>\n",
       "      <td>...</td>\n",
       "      <td>...</td>\n",
       "      <td>...</td>\n",
       "      <td>...</td>\n",
       "      <td>...</td>\n",
       "      <td>...</td>\n",
       "      <td>...</td>\n",
       "      <td>...</td>\n",
       "      <td>...</td>\n",
       "      <td>...</td>\n",
       "      <td>...</td>\n",
       "      <td>...</td>\n",
       "      <td>...</td>\n",
       "    </tr>\n",
       "    <tr>\n",
       "      <th>19030</th>\n",
       "      <td>0.218078</td>\n",
       "      <td>0.767789</td>\n",
       "      <td>0.0</td>\n",
       "      <td>0.0</td>\n",
       "      <td>0.0</td>\n",
       "      <td>0.0</td>\n",
       "      <td>0.0</td>\n",
       "      <td>0.0</td>\n",
       "      <td>0.0</td>\n",
       "      <td>0.0</td>\n",
       "      <td>...</td>\n",
       "      <td>0.0</td>\n",
       "      <td>0.0</td>\n",
       "      <td>0.0</td>\n",
       "      <td>0.0</td>\n",
       "      <td>0.0</td>\n",
       "      <td>1.0</td>\n",
       "      <td>0.0</td>\n",
       "      <td>0.0</td>\n",
       "      <td>0.0</td>\n",
       "      <td>0.0</td>\n",
       "    </tr>\n",
       "    <tr>\n",
       "      <th>19031</th>\n",
       "      <td>0.153781</td>\n",
       "      <td>0.767789</td>\n",
       "      <td>0.0</td>\n",
       "      <td>0.0</td>\n",
       "      <td>0.0</td>\n",
       "      <td>0.0</td>\n",
       "      <td>0.0</td>\n",
       "      <td>0.0</td>\n",
       "      <td>0.0</td>\n",
       "      <td>0.0</td>\n",
       "      <td>...</td>\n",
       "      <td>0.0</td>\n",
       "      <td>0.0</td>\n",
       "      <td>0.0</td>\n",
       "      <td>0.0</td>\n",
       "      <td>0.0</td>\n",
       "      <td>1.0</td>\n",
       "      <td>0.0</td>\n",
       "      <td>0.0</td>\n",
       "      <td>0.0</td>\n",
       "      <td>0.0</td>\n",
       "    </tr>\n",
       "    <tr>\n",
       "      <th>19032</th>\n",
       "      <td>0.243738</td>\n",
       "      <td>0.767789</td>\n",
       "      <td>0.0</td>\n",
       "      <td>0.0</td>\n",
       "      <td>0.0</td>\n",
       "      <td>0.0</td>\n",
       "      <td>0.0</td>\n",
       "      <td>0.0</td>\n",
       "      <td>0.0</td>\n",
       "      <td>0.0</td>\n",
       "      <td>...</td>\n",
       "      <td>0.0</td>\n",
       "      <td>0.0</td>\n",
       "      <td>0.0</td>\n",
       "      <td>0.0</td>\n",
       "      <td>0.0</td>\n",
       "      <td>1.0</td>\n",
       "      <td>0.0</td>\n",
       "      <td>0.0</td>\n",
       "      <td>0.0</td>\n",
       "      <td>0.0</td>\n",
       "    </tr>\n",
       "    <tr>\n",
       "      <th>19033</th>\n",
       "      <td>0.242351</td>\n",
       "      <td>0.767789</td>\n",
       "      <td>0.0</td>\n",
       "      <td>0.0</td>\n",
       "      <td>0.0</td>\n",
       "      <td>0.0</td>\n",
       "      <td>0.0</td>\n",
       "      <td>0.0</td>\n",
       "      <td>0.0</td>\n",
       "      <td>0.0</td>\n",
       "      <td>...</td>\n",
       "      <td>0.0</td>\n",
       "      <td>0.0</td>\n",
       "      <td>0.0</td>\n",
       "      <td>0.0</td>\n",
       "      <td>0.0</td>\n",
       "      <td>1.0</td>\n",
       "      <td>0.0</td>\n",
       "      <td>0.0</td>\n",
       "      <td>0.0</td>\n",
       "      <td>0.0</td>\n",
       "    </tr>\n",
       "    <tr>\n",
       "      <th>19034</th>\n",
       "      <td>0.076891</td>\n",
       "      <td>0.600123</td>\n",
       "      <td>0.0</td>\n",
       "      <td>0.0</td>\n",
       "      <td>0.0</td>\n",
       "      <td>0.0</td>\n",
       "      <td>0.0</td>\n",
       "      <td>0.0</td>\n",
       "      <td>0.0</td>\n",
       "      <td>0.0</td>\n",
       "      <td>...</td>\n",
       "      <td>0.0</td>\n",
       "      <td>0.0</td>\n",
       "      <td>0.0</td>\n",
       "      <td>0.0</td>\n",
       "      <td>0.0</td>\n",
       "      <td>0.0</td>\n",
       "      <td>1.0</td>\n",
       "      <td>0.0</td>\n",
       "      <td>0.0</td>\n",
       "      <td>0.0</td>\n",
       "    </tr>\n",
       "  </tbody>\n",
       "</table>\n",
       "<p>19035 rows × 203 columns</p>\n",
       "</div>"
      ],
      "text/plain": [
       "           재배면적        단가    0    1    2    3    4    5    6    7  ...  191  \\\n",
       "0      0.549299  0.787103  0.0  0.0  0.0  0.0  0.0  0.0  0.0  0.0  ...  0.0   \n",
       "1      0.060934  0.787103  0.0  0.0  0.0  0.0  0.0  0.0  0.0  0.0  ...  0.0   \n",
       "2      0.549299  0.787103  0.0  0.0  0.0  0.0  0.0  0.0  0.0  0.0  ...  0.0   \n",
       "3      0.190466  0.787103  0.0  0.0  0.0  0.0  0.0  0.0  0.0  0.0  ...  0.0   \n",
       "4      0.060934  0.787103  0.0  0.0  0.0  0.0  0.0  0.0  0.0  0.0  ...  0.0   \n",
       "...         ...       ...  ...  ...  ...  ...  ...  ...  ...  ...  ...  ...   \n",
       "19030  0.218078  0.767789  0.0  0.0  0.0  0.0  0.0  0.0  0.0  0.0  ...  0.0   \n",
       "19031  0.153781  0.767789  0.0  0.0  0.0  0.0  0.0  0.0  0.0  0.0  ...  0.0   \n",
       "19032  0.243738  0.767789  0.0  0.0  0.0  0.0  0.0  0.0  0.0  0.0  ...  0.0   \n",
       "19033  0.242351  0.767789  0.0  0.0  0.0  0.0  0.0  0.0  0.0  0.0  ...  0.0   \n",
       "19034  0.076891  0.600123  0.0  0.0  0.0  0.0  0.0  0.0  0.0  0.0  ...  0.0   \n",
       "\n",
       "       192  193  194  195  196  197  198  199  200  \n",
       "0      0.0  0.0  0.0  1.0  0.0  0.0  0.0  0.0  0.0  \n",
       "1      1.0  0.0  0.0  1.0  0.0  0.0  0.0  0.0  0.0  \n",
       "2      0.0  0.0  0.0  1.0  0.0  0.0  0.0  0.0  0.0  \n",
       "3      1.0  0.0  0.0  1.0  0.0  0.0  0.0  0.0  0.0  \n",
       "4      1.0  0.0  0.0  1.0  0.0  0.0  0.0  0.0  0.0  \n",
       "...    ...  ...  ...  ...  ...  ...  ...  ...  ...  \n",
       "19030  0.0  0.0  0.0  0.0  1.0  0.0  0.0  0.0  0.0  \n",
       "19031  0.0  0.0  0.0  0.0  1.0  0.0  0.0  0.0  0.0  \n",
       "19032  0.0  0.0  0.0  0.0  1.0  0.0  0.0  0.0  0.0  \n",
       "19033  0.0  0.0  0.0  0.0  1.0  0.0  0.0  0.0  0.0  \n",
       "19034  0.0  0.0  0.0  0.0  0.0  1.0  0.0  0.0  0.0  \n",
       "\n",
       "[19035 rows x 203 columns]"
      ]
     },
     "execution_count": 40,
     "metadata": {},
     "output_type": "execute_result"
    }
   ],
   "source": [
    "numeric_data_df = pd.DataFrame(X_scaled, columns=['재배면적', '단가'])\n",
    "onehot_data_df = pd.DataFrame(onehot.toarray())\n",
    "\n",
    "X_data_df = pd.concat([numeric_data_df , onehot_data_df], axis=1)\n",
    "X_data_df"
   ]
  },
  {
   "cell_type": "code",
   "execution_count": 41,
   "metadata": {},
   "outputs": [
    {
     "name": "stdout",
     "output_type": "stream",
     "text": [
      "(19035, 203) (19035,)\n"
     ]
    }
   ],
   "source": [
    "X_data = np.array(X_data_df)\n",
    "#y_data = y_scaled.reshape(-1,)\n",
    "y_data = np.array(data.loc[:, '생산량'])\n",
    "\n",
    "print(X_data.shape, y_data.shape)"
   ]
  },
  {
   "cell_type": "markdown",
   "metadata": {},
   "source": [
    "# Train Test split"
   ]
  },
  {
   "cell_type": "code",
   "execution_count": 50,
   "metadata": {},
   "outputs": [
    {
     "name": "stdout",
     "output_type": "stream",
     "text": [
      "(17131, 203) (17131,)\n",
      "(1904, 203) (1904,)\n"
     ]
    }
   ],
   "source": [
    "from sklearn.model_selection import train_test_split\n",
    "\n",
    "X_train, X_test, y_train, y_test = train_test_split(X_data, y_data,\n",
    "                                                    test_size=0.1,\n",
    "                                                    random_state=1234)\n",
    "print(X_train.shape, y_train.shape)\n",
    "print(X_test.shape, y_test.shape)"
   ]
  },
  {
   "cell_type": "markdown",
   "metadata": {},
   "source": [
    "# Modeling"
   ]
  },
  {
   "cell_type": "markdown",
   "metadata": {},
   "source": [
    "## Decision Tree"
   ]
  },
  {
   "cell_type": "code",
   "execution_count": 51,
   "metadata": {},
   "outputs": [
    {
     "data": {
      "text/plain": [
       "DecisionTreeRegressor(ccp_alpha=0.0, criterion='mse', max_depth=None,\n",
       "                      max_features=None, max_leaf_nodes=None,\n",
       "                      min_impurity_decrease=0.0, min_impurity_split=None,\n",
       "                      min_samples_leaf=1, min_samples_split=2,\n",
       "                      min_weight_fraction_leaf=0.0, presort='deprecated',\n",
       "                      random_state=1000, splitter='best')"
      ]
     },
     "execution_count": 51,
     "metadata": {},
     "output_type": "execute_result"
    }
   ],
   "source": [
    "from sklearn.tree import DecisionTreeRegressor\n",
    "from sklearn.metrics import mean_squared_error\n",
    "\n",
    "dt = DecisionTreeRegressor(random_state=1000)\n",
    "dt.fit(X_train, y_train)"
   ]
  },
  {
   "cell_type": "code",
   "execution_count": 52,
   "metadata": {},
   "outputs": [
    {
     "name": "stdout",
     "output_type": "stream",
     "text": [
      "[5.69311848 7.44751539 0.         0.         0.         0.\n",
      " 0.         0.         6.50409543 3.40877721]\n"
     ]
    }
   ],
   "source": [
    "dt_pred = dt.predict(X_test)\n",
    "print(dt_pred[:10])"
   ]
  },
  {
   "cell_type": "code",
   "execution_count": 53,
   "metadata": {},
   "outputs": [
    {
     "data": {
      "text/plain": [
       "1.1607471852984501"
      ]
     },
     "execution_count": 53,
     "metadata": {},
     "output_type": "execute_result"
    }
   ],
   "source": [
    "mean_squared_error(y_test, dt_pred)"
   ]
  },
  {
   "cell_type": "markdown",
   "metadata": {},
   "source": [
    "## RandomForest"
   ]
  },
  {
   "cell_type": "code",
   "execution_count": 54,
   "metadata": {},
   "outputs": [
    {
     "data": {
      "text/plain": [
       "RandomForestRegressor(bootstrap=True, ccp_alpha=0.0, criterion='mse',\n",
       "                      max_depth=None, max_features='sqrt', max_leaf_nodes=None,\n",
       "                      max_samples=None, min_impurity_decrease=0.0,\n",
       "                      min_impurity_split=None, min_samples_leaf=1,\n",
       "                      min_samples_split=2, min_weight_fraction_leaf=0.0,\n",
       "                      n_estimators=1000, n_jobs=None, oob_score=False,\n",
       "                      random_state=1000, verbose=0, warm_start=False)"
      ]
     },
     "execution_count": 54,
     "metadata": {},
     "output_type": "execute_result"
    }
   ],
   "source": [
    "from sklearn.ensemble import RandomForestRegressor\n",
    "\n",
    "rf = RandomForestRegressor(n_estimators = 1000, max_features = 'sqrt', \n",
    "                           random_state = 1000)\n",
    "rf.fit(X_train, y_train)"
   ]
  },
  {
   "cell_type": "code",
   "execution_count": 55,
   "metadata": {},
   "outputs": [
    {
     "name": "stdout",
     "output_type": "stream",
     "text": [
      "[5.69781101e+00 7.45428822e+00 0.00000000e+00 0.00000000e+00\n",
      " 5.31811999e-03 0.00000000e+00 2.55256263e-01 0.00000000e+00\n",
      " 6.49421321e+00 3.38215296e+00]\n"
     ]
    }
   ],
   "source": [
    "rf_pred = rf.predict(X_test)\n",
    "print(rf_pred[:10])"
   ]
  },
  {
   "cell_type": "code",
   "execution_count": 56,
   "metadata": {},
   "outputs": [
    {
     "data": {
      "image/png": "[encoded data removed]",
      "text/plain": [
       "<Figure size 576x432 with 1 Axes>"
      ]
     },
     "metadata": {
      "needs_background": "light"
     },
     "output_type": "display_data"
    }
   ],
   "source": [
    "importances_values = rf.feature_importances_\n",
    "importances = pd.Series(importances_values, index=X_data_df.columns)\n",
    "\n",
    "top20 = importances.sort_values(ascending=False)[:20]\n",
    "plt.figure(figsize=(8, 6))\n",
    "plt.title('Feature importances Top 20')\n",
    "sns.barplot(x = top20, y = top20.index)\n",
    "plt.show()"
   ]
  },
  {
   "cell_type": "code",
   "execution_count": 57,
   "metadata": {},
   "outputs": [
    {
     "data": {
      "text/plain": [
       "0.7724983734781793"
      ]
     },
     "execution_count": 57,
     "metadata": {},
     "output_type": "execute_result"
    }
   ],
   "source": [
    "mean_squared_error(y_test, rf_pred)"
   ]
  },
  {
   "cell_type": "markdown",
   "metadata": {},
   "source": [
    "## Ridge"
   ]
  },
  {
   "cell_type": "code",
   "execution_count": 58,
   "metadata": {},
   "outputs": [
    {
     "data": {
      "text/plain": [
       "Ridge(alpha=0.01, copy_X=True, fit_intercept=True, max_iter=None,\n",
       "      normalize=False, random_state=None, solver='auto', tol=0.001)"
      ]
     },
     "execution_count": 58,
     "metadata": {},
     "output_type": "execute_result"
    }
   ],
   "source": [
    "from sklearn.linear_model import Ridge\n",
    "\n",
    "ridge = Ridge(alpha=0.01)\n",
    "ridge.fit(X_train, y_train)"
   ]
  },
  {
   "cell_type": "code",
   "execution_count": 59,
   "metadata": {},
   "outputs": [
    {
     "name": "stdout",
     "output_type": "stream",
     "text": [
      "0.5448113918837747\n"
     ]
    }
   ],
   "source": [
    "print(ridge.score(X_train, y_train))"
   ]
  },
  {
   "cell_type": "code",
   "execution_count": 60,
   "metadata": {},
   "outputs": [
    {
     "data": {
      "text/plain": [
       "3.3205458891758135"
      ]
     },
     "execution_count": 60,
     "metadata": {},
     "output_type": "execute_result"
    }
   ],
   "source": [
    "ridge_pred = ridge.predict(X_test)\n",
    "mean_squared_error(y_test, ridge_pred)"
   ]
  },
  {
   "cell_type": "markdown",
   "metadata": {},
   "source": [
    "## LASSO"
   ]
  },
  {
   "cell_type": "code",
   "execution_count": 61,
   "metadata": {},
   "outputs": [
    {
     "data": {
      "text/plain": [
       "Lasso(alpha=0.001, copy_X=True, fit_intercept=True, max_iter=1000,\n",
       "      normalize=False, positive=False, precompute=False, random_state=None,\n",
       "      selection='cyclic', tol=0.0001, warm_start=False)"
      ]
     },
     "execution_count": 61,
     "metadata": {},
     "output_type": "execute_result"
    }
   ],
   "source": [
    "from sklearn.linear_model import Lasso\n",
    "\n",
    "lasso = Lasso(alpha=0.001)\n",
    "lasso.fit(X_train, y_train)"
   ]
  },
  {
   "cell_type": "code",
   "execution_count": 62,
   "metadata": {},
   "outputs": [
    {
     "name": "stdout",
     "output_type": "stream",
     "text": [
      "0.5299492167167145\n"
     ]
    }
   ],
   "source": [
    "print(lasso.score(X_train, y_train))"
   ]
  },
  {
   "cell_type": "code",
   "execution_count": 63,
   "metadata": {},
   "outputs": [
    {
     "data": {
      "text/plain": [
       "3.3187091852895034"
      ]
     },
     "execution_count": 63,
     "metadata": {},
     "output_type": "execute_result"
    }
   ],
   "source": [
    "lasso_pred = lasso.predict(X_test)\n",
    "mean_squared_error(y_test, lasso_pred)"
   ]
  },
  {
   "cell_type": "markdown",
   "metadata": {},
   "source": [
    "## GBM"
   ]
  },
  {
   "cell_type": "code",
   "execution_count": 75,
   "metadata": {},
   "outputs": [
    {
     "name": "stdout",
     "output_type": "stream",
     "text": [
      "[ 5.65010327e+00  7.25840158e+00 -9.80486328e-04  7.92433123e-02\n",
      "  1.38220566e-04 -2.21885310e-03 -8.97734588e-01 -4.44791338e-03\n",
      "  6.41269455e+00  2.99523665e+00]\n"
     ]
    }
   ],
   "source": [
    "from sklearn.ensemble import GradientBoostingRegressor\n",
    "\n",
    "gbm = GradientBoostingRegressor(n_estimators=1000, max_depth=8)\n",
    "gbm.fit(X_train, y_train)\n",
    "\n",
    "gbm_pred = gbm.predict(X_test)\n",
    "print(gbm_pred[:10])"
   ]
  },
  {
   "cell_type": "code",
   "execution_count": 76,
   "metadata": {},
   "outputs": [
    {
     "data": {
      "text/plain": [
       "0.7933078544837614"
      ]
     },
     "execution_count": 76,
     "metadata": {},
     "output_type": "execute_result"
    }
   ],
   "source": [
    "mean_squared_error(y_test, gbm_pred)"
   ]
  },
  {
   "cell_type": "markdown",
   "metadata": {},
   "source": [
    "## AdaBoost"
   ]
  },
  {
   "cell_type": "code",
   "execution_count": 66,
   "metadata": {},
   "outputs": [
    {
     "name": "stdout",
     "output_type": "stream",
     "text": [
      "[4.1618148  4.23654254 3.62963597 3.54882657 2.79560523 3.2250072\n",
      " 3.33240537 2.87821743 4.03227877 2.80463355]\n"
     ]
    }
   ],
   "source": [
    "from sklearn.ensemble import AdaBoostRegressor\n",
    "\n",
    "ada = AdaBoostRegressor(n_estimators = 500, learning_rate = 0.1)\n",
    "ada.fit(X_train, y_train)\n",
    "\n",
    "ada_pred = ada.predict(X_test)\n",
    "print(ada_pred[:10])"
   ]
  },
  {
   "cell_type": "code",
   "execution_count": 67,
   "metadata": {},
   "outputs": [
    {
     "data": {
      "text/plain": [
       "9.331527222705434"
      ]
     },
     "execution_count": 67,
     "metadata": {},
     "output_type": "execute_result"
    }
   ],
   "source": [
    "mean_squared_error(y_test, ada_pred)"
   ]
  },
  {
   "cell_type": "markdown",
   "metadata": {},
   "source": [
    "## XGBoost"
   ]
  },
  {
   "cell_type": "code",
   "execution_count": 77,
   "metadata": {},
   "outputs": [
    {
     "name": "stdout",
     "output_type": "stream",
     "text": [
      "0.90\n",
      "[13:13:39] WARNING: src/objective/regression_obj.cu:152: reg:linear is now deprecated in favor of reg:squarederror.\n",
      "[5.6649556e+00 7.5234237e+00 1.6134679e-03 2.7472377e-03 1.4121056e-02\n",
      " 1.3168752e-03 1.1921180e+00 2.8651953e-03 6.5440764e+00 2.9353344e+00]\n"
     ]
    }
   ],
   "source": [
    "import xgboost as xgb\n",
    "print(xgb.__version__)\n",
    "\n",
    "xgb_reg = xgb.XGBRegressor(learning_rate=0.1, max_depth=15, n_estimators=500)\n",
    "xgb_reg.fit(X_train, y_train, verbose=False)\n",
    "\n",
    "xgb_pred = xgb_reg.predict(X_test)\n",
    "print(xgb_pred[:10])"
   ]
  },
  {
   "cell_type": "code",
   "execution_count": 78,
   "metadata": {},
   "outputs": [
    {
     "data": {
      "text/plain": [
       "0.7920411828988545"
      ]
     },
     "execution_count": 78,
     "metadata": {},
     "output_type": "execute_result"
    }
   ],
   "source": [
    "mean_squared_error(y_test, xgb_pred)"
   ]
  },
  {
   "cell_type": "code",
   "execution_count": 79,
   "metadata": {
    "scrolled": false
   },
   "outputs": [
    {
     "data": {
      "image/png": "[encoded data removed]",
      "text/plain": [
       "<Figure size 720x864 with 1 Axes>"
      ]
     },
     "metadata": {
      "needs_background": "light"
     },
     "output_type": "display_data"
    }
   ],
   "source": [
    "from xgboost import plot_importance\n",
    "\n",
    "plot_importance(xgb_reg, max_num_features=20)\n",
    "\n",
    "fig = plt.gcf()\n",
    "fig.set_size_inches(10, 12)"
   ]
  },
  {
   "cell_type": "markdown",
   "metadata": {},
   "source": [
    "## LightGBM"
   ]
  },
  {
   "cell_type": "code",
   "execution_count": 80,
   "metadata": {
    "scrolled": true
   },
   "outputs": [
    {
     "data": {
      "text/plain": [
       "LGBMRegressor(boosting_type='gbdt', class_weight=None, colsample_bytree=1.0,\n",
       "              importance_type='split', learning_rate=0.1, max_depth=15,\n",
       "              min_child_samples=20, min_child_weight=0.001, min_split_gain=0.0,\n",
       "              n_estimators=1000, n_jobs=-1, num_leaves=31, objective=None,\n",
       "              random_state=None, reg_alpha=0.0, reg_lambda=0.0, silent=True,\n",
       "              subsample=1.0, subsample_for_bin=200000, subsample_freq=0)"
      ]
     },
     "execution_count": 80,
     "metadata": {},
     "output_type": "execute_result"
    }
   ],
   "source": [
    "import lightgbm as lgb\n",
    "\n",
    "\n",
    "lgb_reg = lgb.LGBMRegressor(n_estimators=1000, max_depth=15)\n",
    "lgb_reg.fit(X_train, y_train,\n",
    "        eval_set=[(X_test, y_test)],\n",
    "        eval_metric='l1',\n",
    "        early_stopping_rounds=1000,\n",
    "        verbose = False)"
   ]
  },
  {
   "cell_type": "code",
   "execution_count": 81,
   "metadata": {},
   "outputs": [
    {
     "name": "stdout",
     "output_type": "stream",
     "text": [
      "[ 5.53346348e+00  7.11234666e+00 -7.46976346e-03  1.09751523e-01\n",
      "  7.93708323e-02 -9.32643826e-03 -1.07182325e-02  3.77381752e-03\n",
      "  6.29114288e+00  3.59354509e+00]\n"
     ]
    }
   ],
   "source": [
    "lgb_pred = lgb_reg.predict(X_test)\n",
    "print(lgb_pred[:10])"
   ]
  },
  {
   "cell_type": "code",
   "execution_count": 82,
   "metadata": {},
   "outputs": [
    {
     "name": "stdout",
     "output_type": "stream",
     "text": [
      "[4.61512052 4.61512052 0.         0.         0.         0.\n",
      " 0.         0.         6.68586095 2.56494936]\n"
     ]
    }
   ],
   "source": [
    "print(y_test[:10])"
   ]
  },
  {
   "cell_type": "code",
   "execution_count": 83,
   "metadata": {},
   "outputs": [
    {
     "data": {
      "text/plain": [
       "0.8031993000359708"
      ]
     },
     "execution_count": 83,
     "metadata": {},
     "output_type": "execute_result"
    }
   ],
   "source": [
    "mean_squared_error(y_test, lgb_pred)"
   ]
  },
  {
   "cell_type": "markdown",
   "metadata": {},
   "source": [
    "## Deep Neural Network"
   ]
  },
  {
   "cell_type": "code",
   "execution_count": 84,
   "metadata": {},
   "outputs": [],
   "source": [
    "import torch\n",
    "from torch import nn, optim\n",
    "from torch.utils.data import DataLoader, TensorDataset\n",
    "from torch.nn import functional as F\n",
    "import tqdm\n",
    "\n",
    "dX_train, dy_train = torch.tensor(X_train), torch.tensor(y_train)\n",
    "dX_test, dy_test = torch.tensor(X_test), torch.tensor(y_test)\n",
    "\n",
    "train_dataset = TensorDataset(dX_train, dy_train)\n",
    "test_dataset = TensorDataset(dX_test, dy_test)"
   ]
  },
  {
   "cell_type": "code",
   "execution_count": 85,
   "metadata": {},
   "outputs": [],
   "source": [
    "BATCH_SIZE = 256\n",
    "train_loader = DataLoader(train_dataset, batch_size = BATCH_SIZE, shuffle = True)\n",
    "test_loader = DataLoader(test_dataset, batch_size = BATCH_SIZE, shuffle = False)"
   ]
  },
  {
   "cell_type": "code",
   "execution_count": 86,
   "metadata": {},
   "outputs": [],
   "source": [
    "from model import Model\n",
    "model = Model(input_size = dX_train.shape[1], hidden_size = 128)"
   ]
  },
  {
   "cell_type": "code",
   "execution_count": 87,
   "metadata": {},
   "outputs": [
    {
     "name": "stdout",
     "output_type": "stream",
     "text": [
      "cpu\n"
     ]
    },
    {
     "data": {
      "text/plain": [
       "Model(\n",
       "  (dense1): Linear(in_features=203, out_features=128, bias=True)\n",
       "  (dropout1): Dropout(p=0.3, inplace=False)\n",
       "  (dense2): Linear(in_features=128, out_features=128, bias=True)\n",
       "  (dropout2): Dropout(p=0.3, inplace=False)\n",
       "  (dense3): Linear(in_features=128, out_features=128, bias=True)\n",
       "  (dropout3): Dropout(p=0.3, inplace=False)\n",
       "  (out): Linear(in_features=128, out_features=1, bias=True)\n",
       ")"
      ]
     },
     "execution_count": 87,
     "metadata": {},
     "output_type": "execute_result"
    }
   ],
   "source": [
    "from torch.optim import Adam\n",
    "from train import Trainer\n",
    "\n",
    "device = 'cuda:0' if torch.cuda.is_available() else 'cpu'\n",
    "print(device)\n",
    "model.to(device)"
   ]
  },
  {
   "cell_type": "code",
   "execution_count": 111,
   "metadata": {
    "scrolled": true
   },
   "outputs": [
    {
     "name": "stderr",
     "output_type": "stream",
     "text": [
      "100%|█████████████████████████████████████████████████████████████████████████████████| 67/67 [00:00<00:00, 151.88it/s]\n",
      " 46%|█████████████████████████████████████▍                                           | 31/67 [00:00<00:00, 151.97it/s]"
     ]
    },
    {
     "name": "stdout",
     "output_type": "stream",
     "text": [
      "epoch: 1/250, train_loss: 4.66680372, val_loss: 3.27086139\n"
     ]
    },
    {
     "name": "stderr",
     "output_type": "stream",
     "text": [
      "100%|█████████████████████████████████████████████████████████████████████████████████| 67/67 [00:00<00:00, 151.93it/s]\n",
      " 24%|███████████████████▎                                                             | 16/67 [00:00<00:00, 153.98it/s]"
     ]
    },
    {
     "name": "stdout",
     "output_type": "stream",
     "text": [
      "epoch: 2/250, train_loss: 3.24571596, val_loss: 3.04540675\n"
     ]
    },
    {
     "name": "stderr",
     "output_type": "stream",
     "text": [
      "100%|█████████████████████████████████████████████████████████████████████████████████| 67/67 [00:00<00:00, 148.56it/s]\n",
      " 24%|███████████████████▎                                                             | 16/67 [00:00<00:00, 152.39it/s]"
     ]
    },
    {
     "name": "stdout",
     "output_type": "stream",
     "text": [
      "epoch: 3/250, train_loss: 3.03325254, val_loss: 2.98253162\n"
     ]
    },
    {
     "name": "stderr",
     "output_type": "stream",
     "text": [
      "100%|█████████████████████████████████████████████████████████████████████████████████| 67/67 [00:00<00:00, 150.55it/s]\n",
      " 24%|███████████████████▎                                                             | 16/67 [00:00<00:00, 149.73it/s]"
     ]
    },
    {
     "name": "stdout",
     "output_type": "stream",
     "text": [
      "epoch: 4/250, train_loss: 2.92421101, val_loss: 2.96019432\n"
     ]
    },
    {
     "name": "stderr",
     "output_type": "stream",
     "text": [
      "100%|█████████████████████████████████████████████████████████████████████████████████| 67/67 [00:00<00:00, 134.00it/s]\n",
      " 24%|███████████████████▎                                                             | 16/67 [00:00<00:00, 153.97it/s]"
     ]
    },
    {
     "name": "stdout",
     "output_type": "stream",
     "text": [
      "epoch: 5/250, train_loss: 2.79053650, val_loss: 2.89599235\n"
     ]
    },
    {
     "name": "stderr",
     "output_type": "stream",
     "text": [
      "100%|█████████████████████████████████████████████████████████████████████████████████| 67/67 [00:00<00:00, 151.16it/s]\n",
      " 24%|███████████████████▎                                                             | 16/67 [00:00<00:00, 153.71it/s]"
     ]
    },
    {
     "name": "stdout",
     "output_type": "stream",
     "text": [
      "epoch: 6/250, train_loss: 2.76802910, val_loss: 2.93158344\n"
     ]
    },
    {
     "name": "stderr",
     "output_type": "stream",
     "text": [
      "100%|█████████████████████████████████████████████████████████████████████████████████| 67/67 [00:00<00:00, 152.83it/s]\n",
      " 21%|████████████████▉                                                                | 14/67 [00:00<00:00, 137.13it/s]"
     ]
    },
    {
     "name": "stdout",
     "output_type": "stream",
     "text": [
      "epoch: 7/250, train_loss: 2.72027755, val_loss: 3.06092630\n"
     ]
    },
    {
     "name": "stderr",
     "output_type": "stream",
     "text": [
      "100%|█████████████████████████████████████████████████████████████████████████████████| 67/67 [00:00<00:00, 139.75it/s]\n",
      " 24%|███████████████████▎                                                             | 16/67 [00:00<00:00, 152.24it/s]"
     ]
    },
    {
     "name": "stdout",
     "output_type": "stream",
     "text": [
      "epoch: 8/250, train_loss: 2.69652176, val_loss: 2.79761365\n"
     ]
    },
    {
     "name": "stderr",
     "output_type": "stream",
     "text": [
      "100%|█████████████████████████████████████████████████████████████████████████████████| 67/67 [00:00<00:00, 149.08it/s]\n",
      " 22%|██████████████████▏                                                              | 15/67 [00:00<00:00, 142.73it/s]"
     ]
    },
    {
     "name": "stdout",
     "output_type": "stream",
     "text": [
      "epoch: 9/250, train_loss: 2.75392395, val_loss: 2.87756181\n"
     ]
    },
    {
     "name": "stderr",
     "output_type": "stream",
     "text": [
      "100%|█████████████████████████████████████████████████████████████████████████████████| 67/67 [00:00<00:00, 150.09it/s]\n",
      " 22%|██████████████████▏                                                              | 15/67 [00:00<00:00, 149.86it/s]"
     ]
    },
    {
     "name": "stdout",
     "output_type": "stream",
     "text": [
      "epoch: 10/250, train_loss: 2.68281966, val_loss: 2.85899566\n"
     ]
    },
    {
     "name": "stderr",
     "output_type": "stream",
     "text": [
      "100%|█████████████████████████████████████████████████████████████████████████████████| 67/67 [00:00<00:00, 153.18it/s]\n",
      " 24%|███████████████████▎                                                             | 16/67 [00:00<00:00, 156.72it/s]"
     ]
    },
    {
     "name": "stdout",
     "output_type": "stream",
     "text": [
      "epoch: 11/250, train_loss: 2.62508821, val_loss: 2.78037214\n"
     ]
    },
    {
     "name": "stderr",
     "output_type": "stream",
     "text": [
      "100%|█████████████████████████████████████████████████████████████████████████████████| 67/67 [00:00<00:00, 157.13it/s]\n",
      " 25%|████████████████████▌                                                            | 17/67 [00:00<00:00, 163.32it/s]"
     ]
    },
    {
     "name": "stdout",
     "output_type": "stream",
     "text": [
      "epoch: 12/250, train_loss: 2.65088140, val_loss: 2.81386122\n"
     ]
    },
    {
     "name": "stderr",
     "output_type": "stream",
     "text": [
      "100%|█████████████████████████████████████████████████████████████████████████████████| 67/67 [00:00<00:00, 158.25it/s]\n",
      " 24%|███████████████████▎                                                             | 16/67 [00:00<00:00, 152.24it/s]"
     ]
    },
    {
     "name": "stdout",
     "output_type": "stream",
     "text": [
      "epoch: 13/250, train_loss: 2.66535348, val_loss: 2.95026149\n"
     ]
    },
    {
     "name": "stderr",
     "output_type": "stream",
     "text": [
      "100%|█████████████████████████████████████████████████████████████████████████████████| 67/67 [00:00<00:00, 152.83it/s]\n",
      " 22%|██████████████████▏                                                              | 15/67 [00:00<00:00, 148.38it/s]"
     ]
    },
    {
     "name": "stdout",
     "output_type": "stream",
     "text": [
      "epoch: 14/250, train_loss: 2.59091208, val_loss: 2.87310764\n"
     ]
    },
    {
     "name": "stderr",
     "output_type": "stream",
     "text": [
      "100%|█████████████████████████████████████████████████████████████████████████████████| 67/67 [00:00<00:00, 154.24it/s]\n",
      " 19%|███████████████▋                                                                 | 13/67 [00:00<00:00, 128.60it/s]"
     ]
    },
    {
     "name": "stdout",
     "output_type": "stream",
     "text": [
      "epoch: 15/250, train_loss: 2.61029095, val_loss: 2.86908020\n"
     ]
    },
    {
     "name": "stderr",
     "output_type": "stream",
     "text": [
      "100%|█████████████████████████████████████████████████████████████████████████████████| 67/67 [00:00<00:00, 133.08it/s]\n",
      " 24%|███████████████████▎                                                             | 16/67 [00:00<00:00, 153.71it/s]"
     ]
    },
    {
     "name": "stdout",
     "output_type": "stream",
     "text": [
      "epoch: 16/250, train_loss: 2.64965017, val_loss: 2.81772183\n"
     ]
    },
    {
     "name": "stderr",
     "output_type": "stream",
     "text": [
      "100%|█████████████████████████████████████████████████████████████████████████████████| 67/67 [00:00<00:00, 153.18it/s]\n",
      " 24%|███████████████████▎                                                             | 16/67 [00:00<00:00, 158.27it/s]"
     ]
    },
    {
     "name": "stdout",
     "output_type": "stream",
     "text": [
      "epoch: 17/250, train_loss: 2.58874836, val_loss: 2.97185397\n"
     ]
    },
    {
     "name": "stderr",
     "output_type": "stream",
     "text": [
      "100%|█████████████████████████████████████████████████████████████████████████████████| 67/67 [00:00<00:00, 152.13it/s]\n",
      " 24%|███████████████████▎                                                             | 16/67 [00:00<00:00, 155.20it/s]"
     ]
    },
    {
     "name": "stdout",
     "output_type": "stream",
     "text": [
      "epoch: 18/250, train_loss: 2.59613762, val_loss: 2.93451837\n"
     ]
    },
    {
     "name": "stderr",
     "output_type": "stream",
     "text": [
      "100%|█████████████████████████████████████████████████████████████████████████████████| 67/67 [00:00<00:00, 154.03it/s]\n",
      " 24%|███████████████████▎                                                             | 16/67 [00:00<00:00, 154.46it/s]"
     ]
    },
    {
     "name": "stdout",
     "output_type": "stream",
     "text": [
      "epoch: 19/250, train_loss: 2.57643978, val_loss: 2.85006629\n"
     ]
    },
    {
     "name": "stderr",
     "output_type": "stream",
     "text": [
      "100%|█████████████████████████████████████████████████████████████████████████████████| 67/67 [00:00<00:00, 151.28it/s]\n",
      " 25%|████████████████████▌                                                            | 17/67 [00:00<00:00, 161.76it/s]"
     ]
    },
    {
     "name": "stdout",
     "output_type": "stream",
     "text": [
      "epoch: 20/250, train_loss: 2.54138904, val_loss: 2.79772745\n"
     ]
    },
    {
     "name": "stderr",
     "output_type": "stream",
     "text": [
      "100%|█████████████████████████████████████████████████████████████████████████████████| 67/67 [00:00<00:00, 156.59it/s]\n",
      " 24%|███████████████████▎                                                             | 16/67 [00:00<00:00, 159.86it/s]"
     ]
    },
    {
     "name": "stdout",
     "output_type": "stream",
     "text": [
      "epoch: 21/250, train_loss: 2.56769336, val_loss: 2.73827267\n"
     ]
    },
    {
     "name": "stderr",
     "output_type": "stream",
     "text": [
      "100%|█████████████████████████████████████████████████████████████████████████████████| 67/67 [00:00<00:00, 158.25it/s]\n",
      " 24%|███████████████████▎                                                             | 16/67 [00:00<00:00, 155.20it/s]"
     ]
    },
    {
     "name": "stdout",
     "output_type": "stream",
     "text": [
      "epoch: 22/250, train_loss: 2.53639657, val_loss: 2.73802347\n"
     ]
    },
    {
     "name": "stderr",
     "output_type": "stream",
     "text": [
      "100%|█████████████████████████████████████████████████████████████████████████████████| 67/67 [00:00<00:00, 150.76it/s]\n",
      " 24%|███████████████████▎                                                             | 16/67 [00:00<00:00, 158.80it/s]"
     ]
    },
    {
     "name": "stdout",
     "output_type": "stream",
     "text": [
      "epoch: 23/250, train_loss: 2.53946141, val_loss: 2.77645930\n"
     ]
    },
    {
     "name": "stderr",
     "output_type": "stream",
     "text": [
      "100%|█████████████████████████████████████████████████████████████████████████████████| 67/67 [00:00<00:00, 151.31it/s]\n",
      " 24%|███████████████████▎                                                             | 16/67 [00:00<00:00, 155.36it/s]"
     ]
    },
    {
     "name": "stdout",
     "output_type": "stream",
     "text": [
      "epoch: 24/250, train_loss: 2.45948477, val_loss: 2.72299560\n"
     ]
    },
    {
     "name": "stderr",
     "output_type": "stream",
     "text": [
      "100%|█████████████████████████████████████████████████████████████████████████████████| 67/67 [00:00<00:00, 144.70it/s]\n",
      " 25%|████████████████████▌                                                            | 17/67 [00:00<00:00, 163.42it/s]"
     ]
    },
    {
     "name": "stdout",
     "output_type": "stream",
     "text": [
      "epoch: 25/250, train_loss: 2.50348778, val_loss: 2.93665092\n"
     ]
    },
    {
     "name": "stderr",
     "output_type": "stream",
     "text": [
      "100%|█████████████████████████████████████████████████████████████████████████████████| 67/67 [00:00<00:00, 162.81it/s]\n",
      " 24%|███████████████████▎                                                             | 16/67 [00:00<00:00, 155.20it/s]"
     ]
    },
    {
     "name": "stdout",
     "output_type": "stream",
     "text": [
      "epoch: 26/250, train_loss: 2.51578795, val_loss: 2.69493221\n"
     ]
    },
    {
     "name": "stderr",
     "output_type": "stream",
     "text": [
      "100%|█████████████████████████████████████████████████████████████████████████████████| 67/67 [00:00<00:00, 138.88it/s]\n",
      " 24%|███████████████████▎                                                             | 16/67 [00:00<00:00, 159.86it/s]"
     ]
    },
    {
     "name": "stdout",
     "output_type": "stream",
     "text": [
      "epoch: 27/250, train_loss: 2.50021654, val_loss: 2.72965356\n"
     ]
    },
    {
     "name": "stderr",
     "output_type": "stream",
     "text": [
      "100%|█████████████████████████████████████████████████████████████████████████████████| 67/67 [00:00<00:00, 154.24it/s]\n",
      " 24%|███████████████████▎                                                             | 16/67 [00:00<00:00, 155.20it/s]"
     ]
    },
    {
     "name": "stdout",
     "output_type": "stream",
     "text": [
      "epoch: 28/250, train_loss: 2.47472166, val_loss: 2.78890642\n"
     ]
    },
    {
     "name": "stderr",
     "output_type": "stream",
     "text": [
      "100%|█████████████████████████████████████████████████████████████████████████████████| 67/67 [00:00<00:00, 154.95it/s]\n",
      " 22%|██████████████████▏                                                              | 15/67 [00:00<00:00, 148.38it/s]"
     ]
    },
    {
     "name": "stdout",
     "output_type": "stream",
     "text": [
      "epoch: 29/250, train_loss: 2.40617519, val_loss: 2.77391773\n"
     ]
    },
    {
     "name": "stderr",
     "output_type": "stream",
     "text": [
      "100%|█████████████████████████████████████████████████████████████████████████████████| 67/67 [00:00<00:00, 149.08it/s]\n",
      " 25%|████████████████████▌                                                            | 17/67 [00:00<00:00, 161.84it/s]"
     ]
    },
    {
     "name": "stdout",
     "output_type": "stream",
     "text": [
      "epoch: 30/250, train_loss: 2.53046983, val_loss: 2.86248669\n"
     ]
    },
    {
     "name": "stderr",
     "output_type": "stream",
     "text": [
      "100%|█████████████████████████████████████████████████████████████████████████████████| 67/67 [00:00<00:00, 154.61it/s]\n",
      " 25%|████████████████████▌                                                            | 17/67 [00:00<00:00, 161.76it/s]"
     ]
    },
    {
     "name": "stdout",
     "output_type": "stream",
     "text": [
      "epoch: 31/250, train_loss: 2.53511063, val_loss: 2.95600518\n"
     ]
    },
    {
     "name": "stderr",
     "output_type": "stream",
     "text": [
      "100%|█████████████████████████████████████████████████████████████████████████████████| 67/67 [00:00<00:00, 153.00it/s]\n",
      " 22%|██████████████████▏                                                              | 15/67 [00:00<00:00, 148.38it/s]"
     ]
    },
    {
     "name": "stdout",
     "output_type": "stream",
     "text": [
      "epoch: 32/250, train_loss: 2.53751202, val_loss: 2.84191748\n"
     ]
    },
    {
     "name": "stderr",
     "output_type": "stream",
     "text": [
      "100%|█████████████████████████████████████████████████████████████████████████████████| 67/67 [00:00<00:00, 153.18it/s]\n",
      " 24%|███████████████████▎                                                             | 16/67 [00:00<00:00, 156.72it/s]"
     ]
    },
    {
     "name": "stdout",
     "output_type": "stream",
     "text": [
      "epoch: 33/250, train_loss: 2.49608830, val_loss: 2.77488160\n"
     ]
    },
    {
     "name": "stderr",
     "output_type": "stream",
     "text": [
      "100%|█████████████████████████████████████████████████████████████████████████████████| 67/67 [00:00<00:00, 153.53it/s]\n",
      " 22%|██████████████████▏                                                              | 15/67 [00:00<00:00, 145.50it/s]"
     ]
    },
    {
     "name": "stdout",
     "output_type": "stream",
     "text": [
      "epoch: 34/250, train_loss: 2.54300851, val_loss: 2.87192758\n"
     ]
    },
    {
     "name": "stderr",
     "output_type": "stream",
     "text": [
      "100%|█████████████████████████████████████████████████████████████████████████████████| 67/67 [00:00<00:00, 151.45it/s]\n",
      " 24%|███████████████████▎                                                             | 16/67 [00:00<00:00, 158.27it/s]"
     ]
    },
    {
     "name": "stdout",
     "output_type": "stream",
     "text": [
      "epoch: 35/250, train_loss: 2.47846195, val_loss: 2.74426273\n"
     ]
    },
    {
     "name": "stderr",
     "output_type": "stream",
     "text": [
      "100%|█████████████████████████████████████████████████████████████████████████████████| 67/67 [00:00<00:00, 152.48it/s]\n",
      " 24%|███████████████████▎                                                             | 16/67 [00:00<00:00, 158.27it/s]"
     ]
    },
    {
     "name": "stdout",
     "output_type": "stream",
     "text": [
      "epoch: 36/250, train_loss: 2.45616839, val_loss: 2.96450015\n"
     ]
    },
    {
     "name": "stderr",
     "output_type": "stream",
     "text": [
      "100%|█████████████████████████████████████████████████████████████████████████████████| 67/67 [00:00<00:00, 154.59it/s]\n",
      " 18%|██████████████▋                                                                   | 12/67 [00:00<00:00, 88.44it/s]"
     ]
    },
    {
     "name": "stdout",
     "output_type": "stream",
     "text": [
      "epoch: 37/250, train_loss: 2.44968467, val_loss: 2.58424631\n"
     ]
    },
    {
     "name": "stderr",
     "output_type": "stream",
     "text": [
      "100%|█████████████████████████████████████████████████████████████████████████████████| 67/67 [00:00<00:00, 136.46it/s]\n",
      " 24%|███████████████████▎                                                             | 16/67 [00:00<00:00, 152.16it/s]"
     ]
    },
    {
     "name": "stdout",
     "output_type": "stream",
     "text": [
      "epoch: 38/250, train_loss: 2.41876511, val_loss: 2.75266739\n"
     ]
    },
    {
     "name": "stderr",
     "output_type": "stream",
     "text": [
      "100%|█████████████████████████████████████████████████████████████████████████████████| 67/67 [00:00<00:00, 154.01it/s]\n",
      " 25%|████████████████████▌                                                            | 17/67 [00:00<00:00, 161.76it/s]"
     ]
    },
    {
     "name": "stdout",
     "output_type": "stream",
     "text": [
      "epoch: 39/250, train_loss: 2.42707656, val_loss: 2.67139140\n"
     ]
    },
    {
     "name": "stderr",
     "output_type": "stream",
     "text": [
      "100%|█████████████████████████████████████████████████████████████████████████████████| 67/67 [00:00<00:00, 154.95it/s]\n",
      " 25%|████████████████████▌                                                            | 17/67 [00:00<00:00, 164.88it/s]"
     ]
    },
    {
     "name": "stdout",
     "output_type": "stream",
     "text": [
      "epoch: 40/250, train_loss: 2.36647145, val_loss: 2.56657514\n"
     ]
    },
    {
     "name": "stderr",
     "output_type": "stream",
     "text": [
      "100%|█████████████████████████████████████████████████████████████████████████████████| 67/67 [00:00<00:00, 155.40it/s]\n",
      " 24%|███████████████████▎                                                             | 16/67 [00:00<00:00, 155.20it/s]"
     ]
    },
    {
     "name": "stdout",
     "output_type": "stream",
     "text": [
      "epoch: 41/250, train_loss: 2.39772068, val_loss: 2.60508047\n"
     ]
    },
    {
     "name": "stderr",
     "output_type": "stream",
     "text": [
      "100%|█████████████████████████████████████████████████████████████████████████████████| 67/67 [00:00<00:00, 152.13it/s]\n",
      " 24%|███████████████████▎                                                             | 16/67 [00:00<00:00, 150.81it/s]"
     ]
    },
    {
     "name": "stdout",
     "output_type": "stream",
     "text": [
      "epoch: 42/250, train_loss: 2.37086784, val_loss: 2.50874371\n"
     ]
    },
    {
     "name": "stderr",
     "output_type": "stream",
     "text": [
      "100%|█████████████████████████████████████████████████████████████████████████████████| 67/67 [00:00<00:00, 154.77it/s]\n",
      " 24%|███████████████████▎                                                             | 16/67 [00:00<00:00, 152.25it/s]"
     ]
    },
    {
     "name": "stdout",
     "output_type": "stream",
     "text": [
      "epoch: 43/250, train_loss: 2.34033746, val_loss: 2.61248629\n"
     ]
    },
    {
     "name": "stderr",
     "output_type": "stream",
     "text": [
      "100%|█████████████████████████████████████████████████████████████████████████████████| 67/67 [00:00<00:00, 155.67it/s]\n",
      " 25%|████████████████████▌                                                            | 17/67 [00:00<00:00, 161.76it/s]"
     ]
    },
    {
     "name": "stdout",
     "output_type": "stream",
     "text": [
      "epoch: 44/250, train_loss: 2.30595136, val_loss: 2.45022873\n"
     ]
    },
    {
     "name": "stderr",
     "output_type": "stream",
     "text": [
      "100%|█████████████████████████████████████████████████████████████████████████████████| 67/67 [00:00<00:00, 154.77it/s]\n",
      " 24%|███████████████████▎                                                             | 16/67 [00:00<00:00, 158.27it/s]"
     ]
    },
    {
     "name": "stdout",
     "output_type": "stream",
     "text": [
      "epoch: 45/250, train_loss: 2.22851585, val_loss: 2.47083773\n"
     ]
    },
    {
     "name": "stderr",
     "output_type": "stream",
     "text": [
      "100%|█████████████████████████████████████████████████████████████████████████████████| 67/67 [00:00<00:00, 153.88it/s]\n",
      " 22%|██████████████████▏                                                              | 15/67 [00:00<00:00, 149.86it/s]"
     ]
    },
    {
     "name": "stdout",
     "output_type": "stream",
     "text": [
      "epoch: 46/250, train_loss: 2.18687921, val_loss: 2.38810754\n"
     ]
    },
    {
     "name": "stderr",
     "output_type": "stream",
     "text": [
      "100%|█████████████████████████████████████████████████████████████████████████████████| 67/67 [00:00<00:00, 153.53it/s]\n",
      " 24%|███████████████████▎                                                             | 16/67 [00:00<00:00, 152.24it/s]"
     ]
    },
    {
     "name": "stdout",
     "output_type": "stream",
     "text": [
      "epoch: 47/250, train_loss: 2.07926305, val_loss: 2.19799323\n"
     ]
    },
    {
     "name": "stderr",
     "output_type": "stream",
     "text": [
      "100%|█████████████████████████████████████████████████████████████████████████████████| 67/67 [00:00<00:00, 157.07it/s]\n",
      " 12%|█████████▉                                                                         | 8/67 [00:00<00:00, 77.98it/s]"
     ]
    },
    {
     "name": "stdout",
     "output_type": "stream",
     "text": [
      "epoch: 48/250, train_loss: 2.00306387, val_loss: 1.88703624\n"
     ]
    },
    {
     "name": "stderr",
     "output_type": "stream",
     "text": [
      "100%|█████████████████████████████████████████████████████████████████████████████████| 67/67 [00:00<00:00, 134.05it/s]\n",
      " 25%|████████████████████▌                                                            | 17/67 [00:00<00:00, 168.03it/s]"
     ]
    },
    {
     "name": "stdout",
     "output_type": "stream",
     "text": [
      "epoch: 49/250, train_loss: 1.89596365, val_loss: 1.86756478\n"
     ]
    },
    {
     "name": "stderr",
     "output_type": "stream",
     "text": [
      "100%|█████████████████████████████████████████████████████████████████████████████████| 67/67 [00:00<00:00, 157.31it/s]\n",
      " 24%|███████████████████▎                                                             | 16/67 [00:00<00:00, 156.72it/s]"
     ]
    },
    {
     "name": "stdout",
     "output_type": "stream",
     "text": [
      "epoch: 50/250, train_loss: 1.84589044, val_loss: 1.75779457\n"
     ]
    },
    {
     "name": "stderr",
     "output_type": "stream",
     "text": [
      "100%|█████████████████████████████████████████████████████████████████████████████████| 67/67 [00:00<00:00, 158.25it/s]\n",
      " 24%|███████████████████▎                                                             | 16/67 [00:00<00:00, 156.72it/s]"
     ]
    },
    {
     "name": "stdout",
     "output_type": "stream",
     "text": [
      "epoch: 51/250, train_loss: 1.70540563, val_loss: 1.64748982\n"
     ]
    },
    {
     "name": "stderr",
     "output_type": "stream",
     "text": [
      "100%|█████████████████████████████████████████████████████████████████████████████████| 67/67 [00:00<00:00, 152.68it/s]\n",
      " 24%|███████████████████▎                                                             | 16/67 [00:00<00:00, 155.20it/s]"
     ]
    },
    {
     "name": "stdout",
     "output_type": "stream",
     "text": [
      "epoch: 52/250, train_loss: 1.66146958, val_loss: 1.51406431\n"
     ]
    },
    {
     "name": "stderr",
     "output_type": "stream",
     "text": [
      "100%|█████████████████████████████████████████████████████████████████████████████████| 67/67 [00:00<00:00, 156.04it/s]\n",
      " 24%|███████████████████▎                                                             | 16/67 [00:00<00:00, 153.71it/s]"
     ]
    },
    {
     "name": "stdout",
     "output_type": "stream",
     "text": [
      "epoch: 53/250, train_loss: 1.69342842, val_loss: 1.53639683\n"
     ]
    },
    {
     "name": "stderr",
     "output_type": "stream",
     "text": [
      "100%|█████████████████████████████████████████████████████████████████████████████████| 67/67 [00:00<00:00, 159.40it/s]\n",
      " 25%|████████████████████▌                                                            | 17/67 [00:00<00:00, 161.76it/s]"
     ]
    },
    {
     "name": "stdout",
     "output_type": "stream",
     "text": [
      "epoch: 54/250, train_loss: 1.65659212, val_loss: 1.47339377\n"
     ]
    },
    {
     "name": "stderr",
     "output_type": "stream",
     "text": [
      "100%|█████████████████████████████████████████████████████████████████████████████████| 67/67 [00:00<00:00, 155.67it/s]\n",
      " 24%|███████████████████▎                                                             | 16/67 [00:00<00:00, 156.72it/s]"
     ]
    },
    {
     "name": "stdout",
     "output_type": "stream",
     "text": [
      "epoch: 55/250, train_loss: 1.61283936, val_loss: 1.93263606\n"
     ]
    },
    {
     "name": "stderr",
     "output_type": "stream",
     "text": [
      "100%|█████████████████████████████████████████████████████████████████████████████████| 67/67 [00:00<00:00, 158.62it/s]\n",
      " 24%|███████████████████▎                                                             | 16/67 [00:00<00:00, 158.27it/s]"
     ]
    },
    {
     "name": "stdout",
     "output_type": "stream",
     "text": [
      "epoch: 56/250, train_loss: 1.69024713, val_loss: 1.45810620\n"
     ]
    },
    {
     "name": "stderr",
     "output_type": "stream",
     "text": [
      "100%|█████████████████████████████████████████████████████████████████████████████████| 67/67 [00:00<00:00, 158.43it/s]\n",
      " 24%|███████████████████▎                                                             | 16/67 [00:00<00:00, 150.81it/s]"
     ]
    },
    {
     "name": "stdout",
     "output_type": "stream",
     "text": [
      "epoch: 57/250, train_loss: 1.66839809, val_loss: 1.65237298\n"
     ]
    },
    {
     "name": "stderr",
     "output_type": "stream",
     "text": [
      "100%|█████████████████████████████████████████████████████████████████████████████████| 67/67 [00:00<00:00, 153.88it/s]\n",
      " 24%|███████████████████▎                                                             | 16/67 [00:00<00:00, 156.72it/s]"
     ]
    },
    {
     "name": "stdout",
     "output_type": "stream",
     "text": [
      "epoch: 58/250, train_loss: 1.57194736, val_loss: 1.41366734\n"
     ]
    },
    {
     "name": "stderr",
     "output_type": "stream",
     "text": [
      "100%|█████████████████████████████████████████████████████████████████████████████████| 67/67 [00:00<00:00, 156.03it/s]\n",
      " 24%|███████████████████▎                                                             | 16/67 [00:00<00:00, 156.72it/s]"
     ]
    },
    {
     "name": "stdout",
     "output_type": "stream",
     "text": [
      "epoch: 59/250, train_loss: 1.57077797, val_loss: 1.45725690\n"
     ]
    },
    {
     "name": "stderr",
     "output_type": "stream",
     "text": [
      "100%|█████████████████████████████████████████████████████████████████████████████████| 67/67 [00:00<00:00, 156.03it/s]\n",
      " 22%|██████████████████▏                                                              | 15/67 [00:00<00:00, 149.86it/s]"
     ]
    },
    {
     "name": "stdout",
     "output_type": "stream",
     "text": [
      "epoch: 60/250, train_loss: 1.60890262, val_loss: 1.48554591\n"
     ]
    },
    {
     "name": "stderr",
     "output_type": "stream",
     "text": [
      "100%|█████████████████████████████████████████████████████████████████████████████████| 67/67 [00:00<00:00, 151.10it/s]\n",
      " 22%|██████████████████▏                                                              | 15/67 [00:00<00:00, 145.50it/s]"
     ]
    },
    {
     "name": "stdout",
     "output_type": "stream",
     "text": [
      "epoch: 61/250, train_loss: 1.63692671, val_loss: 1.55450170\n"
     ]
    },
    {
     "name": "stderr",
     "output_type": "stream",
     "text": [
      "100%|█████████████████████████████████████████████████████████████████████████████████| 67/67 [00:00<00:00, 151.13it/s]\n",
      " 24%|███████████████████▎                                                             | 16/67 [00:00<00:00, 159.85it/s]"
     ]
    },
    {
     "name": "stdout",
     "output_type": "stream",
     "text": [
      "epoch: 62/250, train_loss: 1.52905241, val_loss: 1.43868400\n"
     ]
    },
    {
     "name": "stderr",
     "output_type": "stream",
     "text": [
      "100%|█████████████████████████████████████████████████████████████████████████████████| 67/67 [00:00<00:00, 154.95it/s]\n",
      " 25%|████████████████████▌                                                            | 17/67 [00:00<00:00, 167.31it/s]"
     ]
    },
    {
     "name": "stdout",
     "output_type": "stream",
     "text": [
      "epoch: 63/250, train_loss: 1.52838499, val_loss: 1.40347518\n"
     ]
    },
    {
     "name": "stderr",
     "output_type": "stream",
     "text": [
      "100%|█████████████████████████████████████████████████████████████████████████████████| 67/67 [00:00<00:00, 157.60it/s]\n",
      " 24%|███████████████████▎                                                             | 16/67 [00:00<00:00, 157.52it/s]"
     ]
    },
    {
     "name": "stdout",
     "output_type": "stream",
     "text": [
      "epoch: 64/250, train_loss: 1.54396640, val_loss: 1.44382874\n"
     ]
    },
    {
     "name": "stderr",
     "output_type": "stream",
     "text": [
      "100%|█████████████████████████████████████████████████████████████████████████████████| 67/67 [00:00<00:00, 152.15it/s]\n",
      " 24%|███████████████████▎                                                             | 16/67 [00:00<00:00, 159.86it/s]"
     ]
    },
    {
     "name": "stdout",
     "output_type": "stream",
     "text": [
      "epoch: 65/250, train_loss: 1.53601279, val_loss: 1.42747965\n"
     ]
    },
    {
     "name": "stderr",
     "output_type": "stream",
     "text": [
      "100%|█████████████████████████████████████████████████████████████████████████████████| 67/67 [00:00<00:00, 157.16it/s]\n",
      " 24%|███████████████████▎                                                             | 16/67 [00:00<00:00, 159.86it/s]"
     ]
    },
    {
     "name": "stdout",
     "output_type": "stream",
     "text": [
      "epoch: 66/250, train_loss: 1.56508871, val_loss: 1.43785780\n"
     ]
    },
    {
     "name": "stderr",
     "output_type": "stream",
     "text": [
      "100%|█████████████████████████████████████████████████████████████████████████████████| 67/67 [00:00<00:00, 154.59it/s]\n",
      " 25%|████████████████████▌                                                            | 17/67 [00:00<00:00, 160.23it/s]"
     ]
    },
    {
     "name": "stdout",
     "output_type": "stream",
     "text": [
      "epoch: 67/250, train_loss: 1.59315334, val_loss: 1.40177159\n"
     ]
    },
    {
     "name": "stderr",
     "output_type": "stream",
     "text": [
      "100%|█████████████████████████████████████████████████████████████████████████████████| 67/67 [00:00<00:00, 156.77it/s]\n",
      " 24%|███████████████████▎                                                             | 16/67 [00:00<00:00, 152.89it/s]"
     ]
    },
    {
     "name": "stdout",
     "output_type": "stream",
     "text": [
      "epoch: 68/250, train_loss: 1.62300122, val_loss: 1.40185018\n"
     ]
    },
    {
     "name": "stderr",
     "output_type": "stream",
     "text": [
      "100%|█████████████████████████████████████████████████████████████████████████████████| 67/67 [00:00<00:00, 152.73it/s]\n",
      " 24%|███████████████████▎                                                             | 16/67 [00:00<00:00, 155.20it/s]"
     ]
    },
    {
     "name": "stdout",
     "output_type": "stream",
     "text": [
      "epoch: 69/250, train_loss: 1.54655682, val_loss: 1.44498312\n"
     ]
    },
    {
     "name": "stderr",
     "output_type": "stream",
     "text": [
      "100%|█████████████████████████████████████████████████████████████████████████████████| 67/67 [00:00<00:00, 134.15it/s]\n",
      " 19%|███████████████▋                                                                 | 13/67 [00:00<00:00, 127.33it/s]"
     ]
    },
    {
     "name": "stdout",
     "output_type": "stream",
     "text": [
      "epoch: 70/250, train_loss: 1.59554281, val_loss: 1.43158991\n"
     ]
    },
    {
     "name": "stderr",
     "output_type": "stream",
     "text": [
      "100%|█████████████████████████████████████████████████████████████████████████████████| 67/67 [00:00<00:00, 140.63it/s]\n",
      " 22%|██████████████████▏                                                              | 15/67 [00:00<00:00, 149.86it/s]"
     ]
    },
    {
     "name": "stdout",
     "output_type": "stream",
     "text": [
      "epoch: 71/250, train_loss: 1.49968798, val_loss: 1.40200723\n"
     ]
    },
    {
     "name": "stderr",
     "output_type": "stream",
     "text": [
      "100%|█████████████████████████████████████████████████████████████████████████████████| 67/67 [00:00<00:00, 150.22it/s]\n",
      " 22%|██████████████████▏                                                              | 15/67 [00:00<00:00, 149.86it/s]"
     ]
    },
    {
     "name": "stdout",
     "output_type": "stream",
     "text": [
      "epoch: 72/250, train_loss: 1.55183952, val_loss: 1.38792137\n"
     ]
    },
    {
     "name": "stderr",
     "output_type": "stream",
     "text": [
      "100%|█████████████████████████████████████████████████████████████████████████████████| 67/67 [00:00<00:00, 147.12it/s]\n",
      " 22%|██████████████████▏                                                              | 15/67 [00:00<00:00, 146.93it/s]"
     ]
    },
    {
     "name": "stdout",
     "output_type": "stream",
     "text": [
      "epoch: 73/250, train_loss: 1.46896586, val_loss: 1.33181958\n"
     ]
    },
    {
     "name": "stderr",
     "output_type": "stream",
     "text": [
      "100%|█████████████████████████████████████████████████████████████████████████████████| 67/67 [00:00<00:00, 150.76it/s]\n",
      " 24%|███████████████████▎                                                             | 16/67 [00:00<00:00, 152.24it/s]"
     ]
    },
    {
     "name": "stdout",
     "output_type": "stream",
     "text": [
      "epoch: 74/250, train_loss: 1.57052810, val_loss: 1.46461742\n"
     ]
    },
    {
     "name": "stderr",
     "output_type": "stream",
     "text": [
      "100%|█████████████████████████████████████████████████████████████████████████████████| 67/67 [00:00<00:00, 152.83it/s]\n",
      " 24%|███████████████████▎                                                             | 16/67 [00:00<00:00, 159.85it/s]"
     ]
    },
    {
     "name": "stdout",
     "output_type": "stream",
     "text": [
      "epoch: 75/250, train_loss: 1.56223995, val_loss: 1.42196746\n"
     ]
    },
    {
     "name": "stderr",
     "output_type": "stream",
     "text": [
      "100%|█████████████████████████████████████████████████████████████████████████████████| 67/67 [00:00<00:00, 160.53it/s]\n",
      " 22%|██████████████████▏                                                              | 15/67 [00:00<00:00, 124.89it/s]"
     ]
    },
    {
     "name": "stdout",
     "output_type": "stream",
     "text": [
      "epoch: 76/250, train_loss: 1.48854096, val_loss: 1.37142420\n"
     ]
    },
    {
     "name": "stderr",
     "output_type": "stream",
     "text": [
      "100%|█████████████████████████████████████████████████████████████████████████████████| 67/67 [00:00<00:00, 143.49it/s]\n",
      " 24%|███████████████████▎                                                             | 16/67 [00:00<00:00, 152.24it/s]"
     ]
    },
    {
     "name": "stdout",
     "output_type": "stream",
     "text": [
      "epoch: 77/250, train_loss: 1.50772207, val_loss: 1.37176631\n"
     ]
    },
    {
     "name": "stderr",
     "output_type": "stream",
     "text": [
      "100%|█████████████████████████████████████████████████████████████████████████████████| 67/67 [00:00<00:00, 155.67it/s]\n",
      " 24%|███████████████████▎                                                             | 16/67 [00:00<00:00, 158.27it/s]"
     ]
    },
    {
     "name": "stdout",
     "output_type": "stream",
     "text": [
      "epoch: 78/250, train_loss: 1.59551506, val_loss: 1.40442260\n"
     ]
    },
    {
     "name": "stderr",
     "output_type": "stream",
     "text": [
      "100%|█████████████████████████████████████████████████████████████████████████████████| 67/67 [00:00<00:00, 155.31it/s]\n",
      " 22%|██████████████████▏                                                              | 15/67 [00:00<00:00, 149.86it/s]"
     ]
    },
    {
     "name": "stdout",
     "output_type": "stream",
     "text": [
      "epoch: 79/250, train_loss: 1.52632567, val_loss: 1.47504554\n"
     ]
    },
    {
     "name": "stderr",
     "output_type": "stream",
     "text": [
      "100%|█████████████████████████████████████████████████████████████████████████████████| 67/67 [00:00<00:00, 155.34it/s]\n",
      " 22%|██████████████████▏                                                              | 15/67 [00:00<00:00, 145.50it/s]"
     ]
    },
    {
     "name": "stdout",
     "output_type": "stream",
     "text": [
      "epoch: 80/250, train_loss: 1.45499929, val_loss: 1.37829611\n"
     ]
    },
    {
     "name": "stderr",
     "output_type": "stream",
     "text": [
      "100%|█████████████████████████████████████████████████████████████████████████████████| 67/67 [00:00<00:00, 136.05it/s]\n",
      " 22%|██████████████████▏                                                              | 15/67 [00:00<00:00, 144.10it/s]"
     ]
    },
    {
     "name": "stdout",
     "output_type": "stream",
     "text": [
      "epoch: 81/250, train_loss: 1.52002125, val_loss: 1.33398489\n"
     ]
    },
    {
     "name": "stderr",
     "output_type": "stream",
     "text": [
      "100%|█████████████████████████████████████████████████████████████████████████████████| 67/67 [00:00<00:00, 148.10it/s]\n",
      " 22%|██████████████████▏                                                              | 15/67 [00:00<00:00, 149.87it/s]"
     ]
    },
    {
     "name": "stdout",
     "output_type": "stream",
     "text": [
      "epoch: 82/250, train_loss: 1.51347990, val_loss: 1.39460600\n"
     ]
    },
    {
     "name": "stderr",
     "output_type": "stream",
     "text": [
      "100%|█████████████████████████████████████████████████████████████████████████████████| 67/67 [00:00<00:00, 152.48it/s]\n",
      " 24%|███████████████████▎                                                             | 16/67 [00:00<00:00, 155.20it/s]"
     ]
    },
    {
     "name": "stdout",
     "output_type": "stream",
     "text": [
      "epoch: 83/250, train_loss: 1.50374045, val_loss: 1.35481590\n"
     ]
    },
    {
     "name": "stderr",
     "output_type": "stream",
     "text": [
      "100%|█████████████████████████████████████████████████████████████████████████████████| 67/67 [00:00<00:00, 152.71it/s]\n",
      " 24%|███████████████████▎                                                             | 16/67 [00:00<00:00, 158.27it/s]"
     ]
    },
    {
     "name": "stdout",
     "output_type": "stream",
     "text": [
      "epoch: 84/250, train_loss: 1.55755522, val_loss: 1.45826659\n"
     ]
    },
    {
     "name": "stderr",
     "output_type": "stream",
     "text": [
      "100%|█████████████████████████████████████████████████████████████████████████████████| 67/67 [00:00<00:00, 154.24it/s]\n",
      " 24%|███████████████████▎                                                             | 16/67 [00:00<00:00, 158.27it/s]"
     ]
    },
    {
     "name": "stdout",
     "output_type": "stream",
     "text": [
      "epoch: 85/250, train_loss: 1.46820748, val_loss: 1.96152740\n"
     ]
    },
    {
     "name": "stderr",
     "output_type": "stream",
     "text": [
      "100%|█████████████████████████████████████████████████████████████████████████████████| 67/67 [00:00<00:00, 156.89it/s]\n",
      " 25%|████████████████████▌                                                            | 17/67 [00:00<00:00, 158.97it/s]"
     ]
    },
    {
     "name": "stdout",
     "output_type": "stream",
     "text": [
      "epoch: 86/250, train_loss: 1.54348810, val_loss: 1.38818728\n"
     ]
    },
    {
     "name": "stderr",
     "output_type": "stream",
     "text": [
      "100%|█████████████████████████████████████████████████████████████████████████████████| 67/67 [00:00<00:00, 157.97it/s]\n",
      " 24%|███████████████████▎                                                             | 16/67 [00:00<00:00, 152.59it/s]"
     ]
    },
    {
     "name": "stdout",
     "output_type": "stream",
     "text": [
      "epoch: 87/250, train_loss: 1.52976328, val_loss: 1.30666854\n"
     ]
    },
    {
     "name": "stderr",
     "output_type": "stream",
     "text": [
      "100%|█████████████████████████████████████████████████████████████████████████████████| 67/67 [00:00<00:00, 153.38it/s]\n",
      " 24%|███████████████████▎                                                             | 16/67 [00:00<00:00, 158.42it/s]"
     ]
    },
    {
     "name": "stdout",
     "output_type": "stream",
     "text": [
      "epoch: 88/250, train_loss: 1.52718898, val_loss: 1.37080130\n"
     ]
    },
    {
     "name": "stderr",
     "output_type": "stream",
     "text": [
      "100%|█████████████████████████████████████████████████████████████████████████████████| 67/67 [00:00<00:00, 158.38it/s]\n",
      " 24%|███████████████████▎                                                             | 16/67 [00:00<00:00, 153.82it/s]"
     ]
    },
    {
     "name": "stdout",
     "output_type": "stream",
     "text": [
      "epoch: 89/250, train_loss: 1.50628605, val_loss: 1.39638083\n"
     ]
    },
    {
     "name": "stderr",
     "output_type": "stream",
     "text": [
      "100%|█████████████████████████████████████████████████████████████████████████████████| 67/67 [00:00<00:00, 157.05it/s]\n",
      " 25%|████████████████████▌                                                            | 17/67 [00:00<00:00, 160.23it/s]"
     ]
    },
    {
     "name": "stdout",
     "output_type": "stream",
     "text": [
      "epoch: 90/250, train_loss: 1.52440907, val_loss: 1.33162699\n"
     ]
    },
    {
     "name": "stderr",
     "output_type": "stream",
     "text": [
      "100%|█████████████████████████████████████████████████████████████████████████████████| 67/67 [00:00<00:00, 152.13it/s]\n",
      " 24%|███████████████████▎                                                             | 16/67 [00:00<00:00, 158.27it/s]"
     ]
    },
    {
     "name": "stdout",
     "output_type": "stream",
     "text": [
      "epoch: 91/250, train_loss: 1.46661018, val_loss: 1.39147093\n"
     ]
    },
    {
     "name": "stderr",
     "output_type": "stream",
     "text": [
      "100%|█████████████████████████████████████████████████████████████████████████████████| 67/67 [00:00<00:00, 138.12it/s]\n",
      " 24%|███████████████████▎                                                             | 16/67 [00:00<00:00, 150.01it/s]"
     ]
    },
    {
     "name": "stdout",
     "output_type": "stream",
     "text": [
      "epoch: 92/250, train_loss: 1.52862306, val_loss: 1.36075681\n"
     ]
    },
    {
     "name": "stderr",
     "output_type": "stream",
     "text": [
      "100%|█████████████████████████████████████████████████████████████████████████████████| 67/67 [00:00<00:00, 150.57it/s]\n",
      " 24%|███████████████████▎                                                             | 16/67 [00:00<00:00, 151.51it/s]"
     ]
    },
    {
     "name": "stdout",
     "output_type": "stream",
     "text": [
      "epoch: 93/250, train_loss: 1.45351293, val_loss: 1.44901712\n"
     ]
    },
    {
     "name": "stderr",
     "output_type": "stream",
     "text": [
      "100%|█████████████████████████████████████████████████████████████████████████████████| 67/67 [00:00<00:00, 153.00it/s]\n",
      " 24%|███████████████████▎                                                             | 16/67 [00:00<00:00, 158.82it/s]"
     ]
    },
    {
     "name": "stdout",
     "output_type": "stream",
     "text": [
      "epoch: 94/250, train_loss: 1.52063411, val_loss: 1.38393883\n"
     ]
    },
    {
     "name": "stderr",
     "output_type": "stream",
     "text": [
      "100%|█████████████████████████████████████████████████████████████████████████████████| 67/67 [00:00<00:00, 154.72it/s]\n",
      " 24%|███████████████████▎                                                             | 16/67 [00:00<00:00, 153.06it/s]"
     ]
    },
    {
     "name": "stdout",
     "output_type": "stream",
     "text": [
      "epoch: 95/250, train_loss: 1.45102722, val_loss: 1.32416649\n"
     ]
    },
    {
     "name": "stderr",
     "output_type": "stream",
     "text": [
      "100%|█████████████████████████████████████████████████████████████████████████████████| 67/67 [00:00<00:00, 154.43it/s]\n",
      " 24%|███████████████████▎                                                             | 16/67 [00:00<00:00, 156.67it/s]"
     ]
    },
    {
     "name": "stdout",
     "output_type": "stream",
     "text": [
      "epoch: 96/250, train_loss: 1.46113150, val_loss: 1.41125167\n"
     ]
    },
    {
     "name": "stderr",
     "output_type": "stream",
     "text": [
      "100%|█████████████████████████████████████████████████████████████████████████████████| 67/67 [00:00<00:00, 155.58it/s]\n",
      " 24%|███████████████████▎                                                             | 16/67 [00:00<00:00, 154.85it/s]"
     ]
    },
    {
     "name": "stdout",
     "output_type": "stream",
     "text": [
      "epoch: 97/250, train_loss: 1.55567757, val_loss: 1.36657320\n"
     ]
    },
    {
     "name": "stderr",
     "output_type": "stream",
     "text": [
      "100%|█████████████████████████████████████████████████████████████████████████████████| 67/67 [00:00<00:00, 153.48it/s]\n",
      " 24%|███████████████████▎                                                             | 16/67 [00:00<00:00, 152.24it/s]"
     ]
    },
    {
     "name": "stdout",
     "output_type": "stream",
     "text": [
      "epoch: 98/250, train_loss: 1.49832720, val_loss: 1.39976251\n"
     ]
    },
    {
     "name": "stderr",
     "output_type": "stream",
     "text": [
      "100%|█████████████████████████████████████████████████████████████████████████████████| 67/67 [00:00<00:00, 152.48it/s]\n",
      " 24%|███████████████████▎                                                             | 16/67 [00:00<00:00, 156.72it/s]"
     ]
    },
    {
     "name": "stdout",
     "output_type": "stream",
     "text": [
      "epoch: 99/250, train_loss: 1.44836014, val_loss: 1.37105342\n"
     ]
    },
    {
     "name": "stderr",
     "output_type": "stream",
     "text": [
      "100%|█████████████████████████████████████████████████████████████████████████████████| 67/67 [00:00<00:00, 159.00it/s]\n",
      " 24%|███████████████████▎                                                             | 16/67 [00:00<00:00, 152.24it/s]"
     ]
    },
    {
     "name": "stdout",
     "output_type": "stream",
     "text": [
      "epoch: 100/250, train_loss: 1.48919616, val_loss: 1.35364308\n"
     ]
    },
    {
     "name": "stderr",
     "output_type": "stream",
     "text": [
      "100%|█████████████████████████████████████████████████████████████████████████████████| 67/67 [00:00<00:00, 156.29it/s]\n",
      " 24%|███████████████████▎                                                             | 16/67 [00:00<00:00, 159.86it/s]"
     ]
    },
    {
     "name": "stdout",
     "output_type": "stream",
     "text": [
      "epoch: 101/250, train_loss: 1.50042853, val_loss: 1.37860637\n"
     ]
    },
    {
     "name": "stderr",
     "output_type": "stream",
     "text": [
      "100%|█████████████████████████████████████████████████████████████████████████████████| 67/67 [00:00<00:00, 158.03it/s]\n",
      " 25%|████████████████████▌                                                            | 17/67 [00:00<00:00, 166.54it/s]"
     ]
    },
    {
     "name": "stdout",
     "output_type": "stream",
     "text": [
      "epoch: 102/250, train_loss: 1.48916947, val_loss: 1.38400948\n"
     ]
    },
    {
     "name": "stderr",
     "output_type": "stream",
     "text": [
      "100%|█████████████████████████████████████████████████████████████████████████████████| 67/67 [00:00<00:00, 142.82it/s]\n",
      " 24%|███████████████████▎                                                             | 16/67 [00:00<00:00, 154.94it/s]"
     ]
    },
    {
     "name": "stdout",
     "output_type": "stream",
     "text": [
      "epoch: 103/250, train_loss: 1.47881943, val_loss: 1.31053647\n"
     ]
    },
    {
     "name": "stderr",
     "output_type": "stream",
     "text": [
      "100%|█████████████████████████████████████████████████████████████████████████████████| 67/67 [00:00<00:00, 151.73it/s]\n",
      " 24%|███████████████████▎                                                             | 16/67 [00:00<00:00, 158.27it/s]"
     ]
    },
    {
     "name": "stdout",
     "output_type": "stream",
     "text": [
      "epoch: 104/250, train_loss: 1.44044676, val_loss: 1.40889008\n"
     ]
    },
    {
     "name": "stderr",
     "output_type": "stream",
     "text": [
      "100%|█████████████████████████████████████████████████████████████████████████████████| 67/67 [00:00<00:00, 154.95it/s]\n",
      " 24%|███████████████████▎                                                             | 16/67 [00:00<00:00, 150.81it/s]"
     ]
    },
    {
     "name": "stdout",
     "output_type": "stream",
     "text": [
      "epoch: 105/250, train_loss: 1.52748351, val_loss: 1.37680066\n"
     ]
    },
    {
     "name": "stderr",
     "output_type": "stream",
     "text": [
      "100%|█████████████████████████████████████████████████████████████████████████████████| 67/67 [00:00<00:00, 153.18it/s]\n",
      " 24%|███████████████████▎                                                             | 16/67 [00:00<00:00, 153.71it/s]"
     ]
    },
    {
     "name": "stdout",
     "output_type": "stream",
     "text": [
      "epoch: 106/250, train_loss: 1.41082097, val_loss: 1.34485382\n"
     ]
    },
    {
     "name": "stderr",
     "output_type": "stream",
     "text": [
      "100%|█████████████████████████████████████████████████████████████████████████████████| 67/67 [00:00<00:00, 156.03it/s]\n",
      " 22%|██████████████████▏                                                              | 15/67 [00:00<00:00, 149.87it/s]"
     ]
    },
    {
     "name": "stdout",
     "output_type": "stream",
     "text": [
      "epoch: 107/250, train_loss: 1.43630112, val_loss: 1.33559863\n"
     ]
    },
    {
     "name": "stderr",
     "output_type": "stream",
     "text": [
      "100%|█████████████████████████████████████████████████████████████████████████████████| 67/67 [00:00<00:00, 153.88it/s]\n",
      " 24%|███████████████████▎                                                             | 16/67 [00:00<00:00, 158.27it/s]"
     ]
    },
    {
     "name": "stdout",
     "output_type": "stream",
     "text": [
      "epoch: 108/250, train_loss: 1.43059594, val_loss: 1.73335616\n"
     ]
    },
    {
     "name": "stderr",
     "output_type": "stream",
     "text": [
      "100%|█████████████████████████████████████████████████████████████████████████████████| 67/67 [00:00<00:00, 154.24it/s]\n",
      " 24%|███████████████████▎                                                             | 16/67 [00:00<00:00, 158.27it/s]"
     ]
    },
    {
     "name": "stdout",
     "output_type": "stream",
     "text": [
      "epoch: 109/250, train_loss: 1.47453446, val_loss: 1.31578651\n"
     ]
    },
    {
     "name": "stderr",
     "output_type": "stream",
     "text": [
      "100%|█████████████████████████████████████████████████████████████████████████████████| 67/67 [00:00<00:00, 152.48it/s]\n",
      " 24%|███████████████████▎                                                             | 16/67 [00:00<00:00, 155.20it/s]"
     ]
    },
    {
     "name": "stdout",
     "output_type": "stream",
     "text": [
      "epoch: 110/250, train_loss: 1.46158535, val_loss: 1.38620297\n"
     ]
    },
    {
     "name": "stderr",
     "output_type": "stream",
     "text": [
      "100%|█████████████████████████████████████████████████████████████████████████████████| 67/67 [00:00<00:00, 154.24it/s]\n",
      " 24%|███████████████████▎                                                             | 16/67 [00:00<00:00, 155.20it/s]"
     ]
    },
    {
     "name": "stdout",
     "output_type": "stream",
     "text": [
      "epoch: 111/250, train_loss: 1.43118444, val_loss: 1.35130022\n"
     ]
    },
    {
     "name": "stderr",
     "output_type": "stream",
     "text": [
      "100%|█████████████████████████████████████████████████████████████████████████████████| 67/67 [00:00<00:00, 155.31it/s]\n",
      " 24%|███████████████████▎                                                             | 16/67 [00:00<00:00, 159.86it/s]"
     ]
    },
    {
     "name": "stdout",
     "output_type": "stream",
     "text": [
      "epoch: 112/250, train_loss: 1.45021703, val_loss: 1.38166101\n"
     ]
    },
    {
     "name": "stderr",
     "output_type": "stream",
     "text": [
      "100%|█████████████████████████████████████████████████████████████████████████████████| 67/67 [00:00<00:00, 156.40it/s]\n",
      " 24%|███████████████████▎                                                             | 16/67 [00:00<00:00, 159.85it/s]"
     ]
    },
    {
     "name": "stdout",
     "output_type": "stream",
     "text": [
      "epoch: 113/250, train_loss: 1.47611164, val_loss: 1.33991155\n"
     ]
    },
    {
     "name": "stderr",
     "output_type": "stream",
     "text": [
      "100%|█████████████████████████████████████████████████████████████████████████████████| 67/67 [00:00<00:00, 136.33it/s]\n",
      " 24%|███████████████████▎                                                             | 16/67 [00:00<00:00, 155.20it/s]"
     ]
    },
    {
     "name": "stdout",
     "output_type": "stream",
     "text": [
      "epoch: 114/250, train_loss: 1.43301883, val_loss: 1.31040993\n"
     ]
    },
    {
     "name": "stderr",
     "output_type": "stream",
     "text": [
      "100%|█████████████████████████████████████████████████████████████████████████████████| 67/67 [00:00<00:00, 151.79it/s]\n",
      " 24%|███████████████████▎                                                             | 16/67 [00:00<00:00, 154.11it/s]"
     ]
    },
    {
     "name": "stdout",
     "output_type": "stream",
     "text": [
      "epoch: 115/250, train_loss: 1.46210595, val_loss: 1.27400395\n"
     ]
    },
    {
     "name": "stderr",
     "output_type": "stream",
     "text": [
      "100%|█████████████████████████████████████████████████████████████████████████████████| 67/67 [00:00<00:00, 153.34it/s]\n",
      " 24%|███████████████████▎                                                             | 16/67 [00:00<00:00, 159.86it/s]"
     ]
    },
    {
     "name": "stdout",
     "output_type": "stream",
     "text": [
      "epoch: 116/250, train_loss: 1.44876215, val_loss: 1.33025954\n"
     ]
    },
    {
     "name": "stderr",
     "output_type": "stream",
     "text": [
      "100%|█████████████████████████████████████████████████████████████████████████████████| 67/67 [00:00<00:00, 157.50it/s]\n",
      " 24%|███████████████████▎                                                             | 16/67 [00:00<00:00, 158.27it/s]"
     ]
    },
    {
     "name": "stdout",
     "output_type": "stream",
     "text": [
      "epoch: 117/250, train_loss: 1.45158701, val_loss: 1.42052008\n"
     ]
    },
    {
     "name": "stderr",
     "output_type": "stream",
     "text": [
      "100%|█████████████████████████████████████████████████████████████████████████████████| 67/67 [00:00<00:00, 157.13it/s]\n",
      " 24%|███████████████████▎                                                             | 16/67 [00:00<00:00, 155.20it/s]"
     ]
    },
    {
     "name": "stdout",
     "output_type": "stream",
     "text": [
      "epoch: 118/250, train_loss: 1.41137493, val_loss: 1.32575758\n"
     ]
    },
    {
     "name": "stderr",
     "output_type": "stream",
     "text": [
      "100%|█████████████████████████████████████████████████████████████████████████████████| 67/67 [00:00<00:00, 155.48it/s]\n",
      " 24%|███████████████████▎                                                             | 16/67 [00:00<00:00, 150.81it/s]"
     ]
    },
    {
     "name": "stdout",
     "output_type": "stream",
     "text": [
      "epoch: 119/250, train_loss: 1.45618765, val_loss: 1.36783080\n"
     ]
    },
    {
     "name": "stderr",
     "output_type": "stream",
     "text": [
      "100%|█████████████████████████████████████████████████████████████████████████████████| 67/67 [00:00<00:00, 147.12it/s]\n",
      " 22%|██████████████████▏                                                              | 15/67 [00:00<00:00, 149.86it/s]"
     ]
    },
    {
     "name": "stdout",
     "output_type": "stream",
     "text": [
      "epoch: 120/250, train_loss: 1.45577215, val_loss: 1.29965172\n"
     ]
    },
    {
     "name": "stderr",
     "output_type": "stream",
     "text": [
      "100%|█████████████████████████████████████████████████████████████████████████████████| 67/67 [00:00<00:00, 151.79it/s]\n",
      " 22%|██████████████████▏                                                              | 15/67 [00:00<00:00, 148.38it/s]"
     ]
    },
    {
     "name": "stdout",
     "output_type": "stream",
     "text": [
      "epoch: 121/250, train_loss: 1.46046245, val_loss: 1.30250765\n"
     ]
    },
    {
     "name": "stderr",
     "output_type": "stream",
     "text": [
      "100%|█████████████████████████████████████████████████████████████████████████████████| 67/67 [00:00<00:00, 153.88it/s]\n",
      " 24%|███████████████████▎                                                             | 16/67 [00:00<00:00, 156.72it/s]"
     ]
    },
    {
     "name": "stdout",
     "output_type": "stream",
     "text": [
      "epoch: 122/250, train_loss: 1.43235772, val_loss: 1.31658262\n"
     ]
    },
    {
     "name": "stderr",
     "output_type": "stream",
     "text": [
      "100%|█████████████████████████████████████████████████████████████████████████████████| 67/67 [00:00<00:00, 156.03it/s]\n",
      " 22%|██████████████████▏                                                              | 15/67 [00:00<00:00, 149.87it/s]"
     ]
    },
    {
     "name": "stdout",
     "output_type": "stream",
     "text": [
      "epoch: 123/250, train_loss: 1.43417663, val_loss: 1.32925314\n"
     ]
    },
    {
     "name": "stderr",
     "output_type": "stream",
     "text": [
      "100%|█████████████████████████████████████████████████████████████████████████████████| 67/67 [00:00<00:00, 155.67it/s]\n",
      " 21%|█████████████████▏                                                                | 14/67 [00:00<00:00, 97.81it/s]"
     ]
    },
    {
     "name": "stdout",
     "output_type": "stream",
     "text": [
      "epoch: 124/250, train_loss: 1.39732896, val_loss: 1.33754574\n"
     ]
    },
    {
     "name": "stderr",
     "output_type": "stream",
     "text": [
      "100%|█████████████████████████████████████████████████████████████████████████████████| 67/67 [00:00<00:00, 138.73it/s]\n",
      " 24%|███████████████████▎                                                             | 16/67 [00:00<00:00, 159.85it/s]"
     ]
    },
    {
     "name": "stdout",
     "output_type": "stream",
     "text": [
      "epoch: 125/250, train_loss: 1.41954342, val_loss: 1.30172377\n"
     ]
    },
    {
     "name": "stderr",
     "output_type": "stream",
     "text": [
      "100%|█████████████████████████████████████████████████████████████████████████████████| 67/67 [00:00<00:00, 159.76it/s]\n",
      " 24%|███████████████████▎                                                             | 16/67 [00:00<00:00, 155.20it/s]"
     ]
    },
    {
     "name": "stdout",
     "output_type": "stream",
     "text": [
      "epoch: 126/250, train_loss: 1.47433965, val_loss: 1.41401177\n"
     ]
    },
    {
     "name": "stderr",
     "output_type": "stream",
     "text": [
      "100%|█████████████████████████████████████████████████████████████████████████████████| 67/67 [00:00<00:00, 152.83it/s]\n",
      " 24%|███████████████████▎                                                             | 16/67 [00:00<00:00, 153.71it/s]"
     ]
    },
    {
     "name": "stdout",
     "output_type": "stream",
     "text": [
      "epoch: 127/250, train_loss: 1.47518445, val_loss: 1.32152757\n"
     ]
    },
    {
     "name": "stderr",
     "output_type": "stream",
     "text": [
      "100%|█████████████████████████████████████████████████████████████████████████████████| 67/67 [00:00<00:00, 153.53it/s]\n",
      " 24%|███████████████████▎                                                             | 16/67 [00:00<00:00, 150.80it/s]"
     ]
    },
    {
     "name": "stdout",
     "output_type": "stream",
     "text": [
      "epoch: 128/250, train_loss: 1.46340636, val_loss: 1.31948970\n"
     ]
    },
    {
     "name": "stderr",
     "output_type": "stream",
     "text": [
      "100%|█████████████████████████████████████████████████████████████████████████████████| 67/67 [00:00<00:00, 151.78it/s]\n",
      " 24%|███████████████████▎                                                             | 16/67 [00:00<00:00, 153.71it/s]"
     ]
    },
    {
     "name": "stdout",
     "output_type": "stream",
     "text": [
      "epoch: 129/250, train_loss: 1.45374509, val_loss: 1.31775529\n"
     ]
    },
    {
     "name": "stderr",
     "output_type": "stream",
     "text": [
      "100%|█████████████████████████████████████████████████████████████████████████████████| 67/67 [00:00<00:00, 152.19it/s]\n",
      " 24%|███████████████████▎                                                             | 16/67 [00:00<00:00, 155.20it/s]"
     ]
    },
    {
     "name": "stdout",
     "output_type": "stream",
     "text": [
      "epoch: 130/250, train_loss: 1.45962512, val_loss: 1.39314722\n"
     ]
    },
    {
     "name": "stderr",
     "output_type": "stream",
     "text": [
      "100%|█████████████████████████████████████████████████████████████████████████████████| 67/67 [00:00<00:00, 152.48it/s]\n",
      " 22%|██████████████████▏                                                              | 15/67 [00:00<00:00, 149.86it/s]"
     ]
    },
    {
     "name": "stdout",
     "output_type": "stream",
     "text": [
      "epoch: 131/250, train_loss: 1.44384771, val_loss: 1.32498533\n"
     ]
    },
    {
     "name": "stderr",
     "output_type": "stream",
     "text": [
      "100%|█████████████████████████████████████████████████████████████████████████████████| 67/67 [00:00<00:00, 150.42it/s]\n",
      " 24%|███████████████████▎                                                             | 16/67 [00:00<00:00, 156.72it/s]"
     ]
    },
    {
     "name": "stdout",
     "output_type": "stream",
     "text": [
      "epoch: 132/250, train_loss: 1.42877334, val_loss: 1.32615281\n"
     ]
    },
    {
     "name": "stderr",
     "output_type": "stream",
     "text": [
      "100%|█████████████████████████████████████████████████████████████████████████████████| 67/67 [00:00<00:00, 143.28it/s]\n",
      " 22%|██████████████████▏                                                              | 15/67 [00:00<00:00, 148.38it/s]"
     ]
    },
    {
     "name": "stdout",
     "output_type": "stream",
     "text": [
      "epoch: 133/250, train_loss: 1.43420869, val_loss: 1.32974568\n"
     ]
    },
    {
     "name": "stderr",
     "output_type": "stream",
     "text": [
      "100%|█████████████████████████████████████████████████████████████████████████████████| 67/67 [00:00<00:00, 148.75it/s]\n",
      " 24%|███████████████████▎                                                             | 16/67 [00:00<00:00, 155.20it/s]"
     ]
    },
    {
     "name": "stdout",
     "output_type": "stream",
     "text": [
      "epoch: 134/250, train_loss: 1.44748879, val_loss: 1.33442128\n"
     ]
    },
    {
     "name": "stderr",
     "output_type": "stream",
     "text": [
      "100%|█████████████████████████████████████████████████████████████████████████████████| 67/67 [00:00<00:00, 150.28it/s]\n",
      " 24%|███████████████████▎                                                             | 16/67 [00:00<00:00, 151.11it/s]"
     ]
    },
    {
     "name": "stdout",
     "output_type": "stream",
     "text": [
      "epoch: 135/250, train_loss: 1.43887208, val_loss: 1.39824414\n"
     ]
    },
    {
     "name": "stderr",
     "output_type": "stream",
     "text": [
      "100%|█████████████████████████████████████████████████████████████████████████████████| 67/67 [00:00<00:00, 133.85it/s]\n",
      " 22%|██████████████████▏                                                              | 15/67 [00:00<00:00, 149.86it/s]"
     ]
    },
    {
     "name": "stdout",
     "output_type": "stream",
     "text": [
      "epoch: 136/250, train_loss: 1.43102105, val_loss: 1.34065323\n"
     ]
    },
    {
     "name": "stderr",
     "output_type": "stream",
     "text": [
      "100%|█████████████████████████████████████████████████████████████████████████████████| 67/67 [00:00<00:00, 152.48it/s]\n",
      " 24%|███████████████████▎                                                             | 16/67 [00:00<00:00, 153.71it/s]"
     ]
    },
    {
     "name": "stdout",
     "output_type": "stream",
     "text": [
      "epoch: 137/250, train_loss: 1.39353582, val_loss: 1.40111263\n"
     ]
    },
    {
     "name": "stderr",
     "output_type": "stream",
     "text": [
      "100%|█████████████████████████████████████████████████████████████████████████████████| 67/67 [00:00<00:00, 153.18it/s]\n",
      " 24%|███████████████████▎                                                             | 16/67 [00:00<00:00, 152.24it/s]"
     ]
    },
    {
     "name": "stdout",
     "output_type": "stream",
     "text": [
      "epoch: 138/250, train_loss: 1.42217091, val_loss: 1.33097153\n"
     ]
    },
    {
     "name": "stderr",
     "output_type": "stream",
     "text": [
      "100%|█████████████████████████████████████████████████████████████████████████████████| 67/67 [00:00<00:00, 154.59it/s]\n",
      " 25%|████████████████████▌                                                            | 17/67 [00:00<00:00, 163.31it/s]"
     ]
    },
    {
     "name": "stdout",
     "output_type": "stream",
     "text": [
      "epoch: 139/250, train_loss: 1.40825319, val_loss: 1.37045676\n"
     ]
    },
    {
     "name": "stderr",
     "output_type": "stream",
     "text": [
      "100%|█████████████████████████████████████████████████████████████████████████████████| 67/67 [00:00<00:00, 153.74it/s]\n",
      " 24%|███████████████████▎                                                             | 16/67 [00:00<00:00, 152.24it/s]"
     ]
    },
    {
     "name": "stdout",
     "output_type": "stream",
     "text": [
      "epoch: 140/250, train_loss: 1.43788056, val_loss: 1.43538897\n"
     ]
    },
    {
     "name": "stderr",
     "output_type": "stream",
     "text": [
      "100%|█████████████████████████████████████████████████████████████████████████████████| 67/67 [00:00<00:00, 153.23it/s]\n",
      " 24%|███████████████████▎                                                             | 16/67 [00:00<00:00, 153.71it/s]"
     ]
    },
    {
     "name": "stdout",
     "output_type": "stream",
     "text": [
      "epoch: 141/250, train_loss: 1.43783929, val_loss: 1.34174917\n"
     ]
    },
    {
     "name": "stderr",
     "output_type": "stream",
     "text": [
      "100%|█████████████████████████████████████████████████████████████████████████████████| 67/67 [00:00<00:00, 152.13it/s]\n",
      " 22%|██████████████████▏                                                              | 15/67 [00:00<00:00, 149.86it/s]"
     ]
    },
    {
     "name": "stdout",
     "output_type": "stream",
     "text": [
      "epoch: 142/250, train_loss: 1.36833494, val_loss: 1.32492299\n"
     ]
    },
    {
     "name": "stderr",
     "output_type": "stream",
     "text": [
      "100%|█████████████████████████████████████████████████████████████████████████████████| 67/67 [00:00<00:00, 153.70it/s]\n",
      " 22%|██████████████████▏                                                              | 15/67 [00:00<00:00, 146.93it/s]"
     ]
    },
    {
     "name": "stdout",
     "output_type": "stream",
     "text": [
      "epoch: 143/250, train_loss: 1.34685851, val_loss: 1.33099661\n"
     ]
    },
    {
     "name": "stderr",
     "output_type": "stream",
     "text": [
      "100%|█████████████████████████████████████████████████████████████████████████████████| 67/67 [00:00<00:00, 152.48it/s]\n",
      " 24%|███████████████████▎                                                             | 16/67 [00:00<00:00, 155.20it/s]"
     ]
    },
    {
     "name": "stdout",
     "output_type": "stream",
     "text": [
      "epoch: 144/250, train_loss: 1.46373891, val_loss: 1.41244922\n"
     ]
    },
    {
     "name": "stderr",
     "output_type": "stream",
     "text": [
      "100%|█████████████████████████████████████████████████████████████████████████████████| 67/67 [00:00<00:00, 144.26it/s]\n",
      " 24%|███████████████████▎                                                             | 16/67 [00:00<00:00, 151.07it/s]"
     ]
    },
    {
     "name": "stdout",
     "output_type": "stream",
     "text": [
      "epoch: 145/250, train_loss: 1.40411171, val_loss: 1.32268486\n"
     ]
    },
    {
     "name": "stderr",
     "output_type": "stream",
     "text": [
      "100%|█████████████████████████████████████████████████████████████████████████████████| 67/67 [00:00<00:00, 156.47it/s]\n",
      " 12%|█████████▉                                                                         | 8/67 [00:00<00:00, 74.01it/s]"
     ]
    },
    {
     "name": "stdout",
     "output_type": "stream",
     "text": [
      "epoch: 146/250, train_loss: 1.39390156, val_loss: 1.29832393\n"
     ]
    },
    {
     "name": "stderr",
     "output_type": "stream",
     "text": [
      "100%|█████████████████████████████████████████████████████████████████████████████████| 67/67 [00:00<00:00, 136.73it/s]\n",
      " 24%|███████████████████▎                                                             | 16/67 [00:00<00:00, 153.71it/s]"
     ]
    },
    {
     "name": "stdout",
     "output_type": "stream",
     "text": [
      "epoch: 147/250, train_loss: 1.41612976, val_loss: 1.34895199\n"
     ]
    },
    {
     "name": "stderr",
     "output_type": "stream",
     "text": [
      "100%|█████████████████████████████████████████████████████████████████████████████████| 67/67 [00:00<00:00, 151.75it/s]\n",
      " 24%|███████████████████▎                                                             | 16/67 [00:00<00:00, 153.52it/s]"
     ]
    },
    {
     "name": "stdout",
     "output_type": "stream",
     "text": [
      "epoch: 148/250, train_loss: 1.40389517, val_loss: 1.35116445\n"
     ]
    },
    {
     "name": "stderr",
     "output_type": "stream",
     "text": [
      "100%|█████████████████████████████████████████████████████████████████████████████████| 67/67 [00:00<00:00, 154.83it/s]\n",
      " 24%|███████████████████▎                                                             | 16/67 [00:00<00:00, 155.20it/s]"
     ]
    },
    {
     "name": "stdout",
     "output_type": "stream",
     "text": [
      "epoch: 149/250, train_loss: 1.38011218, val_loss: 1.40872778\n"
     ]
    },
    {
     "name": "stderr",
     "output_type": "stream",
     "text": [
      "100%|█████████████████████████████████████████████████████████████████████████████████| 67/67 [00:00<00:00, 155.67it/s]\n",
      " 24%|███████████████████▎                                                             | 16/67 [00:00<00:00, 159.86it/s]"
     ]
    },
    {
     "name": "stdout",
     "output_type": "stream",
     "text": [
      "epoch: 150/250, train_loss: 1.39699762, val_loss: 1.30342236\n"
     ]
    },
    {
     "name": "stderr",
     "output_type": "stream",
     "text": [
      "100%|█████████████████████████████████████████████████████████████████████████████████| 67/67 [00:00<00:00, 157.69it/s]\n",
      " 24%|███████████████████▎                                                             | 16/67 [00:00<00:00, 150.96it/s]"
     ]
    },
    {
     "name": "stdout",
     "output_type": "stream",
     "text": [
      "epoch: 151/250, train_loss: 1.41786529, val_loss: 1.34823281\n"
     ]
    },
    {
     "name": "stderr",
     "output_type": "stream",
     "text": [
      "100%|█████████████████████████████████████████████████████████████████████████████████| 67/67 [00:00<00:00, 151.04it/s]\n",
      " 24%|███████████████████▎                                                             | 16/67 [00:00<00:00, 152.24it/s]"
     ]
    },
    {
     "name": "stdout",
     "output_type": "stream",
     "text": [
      "epoch: 152/250, train_loss: 1.39305794, val_loss: 1.30344419\n"
     ]
    },
    {
     "name": "stderr",
     "output_type": "stream",
     "text": [
      "100%|█████████████████████████████████████████████████████████████████████████████████| 67/67 [00:00<00:00, 152.48it/s]\n",
      " 24%|███████████████████▎                                                             | 16/67 [00:00<00:00, 158.27it/s]"
     ]
    },
    {
     "name": "stdout",
     "output_type": "stream",
     "text": [
      "epoch: 153/250, train_loss: 1.42324621, val_loss: 1.30639521\n"
     ]
    },
    {
     "name": "stderr",
     "output_type": "stream",
     "text": [
      "100%|█████████████████████████████████████████████████████████████████████████████████| 67/67 [00:00<00:00, 154.24it/s]\n",
      " 25%|████████████████████▌                                                            | 17/67 [00:00<00:00, 163.31it/s]"
     ]
    },
    {
     "name": "stdout",
     "output_type": "stream",
     "text": [
      "epoch: 154/250, train_loss: 1.42387901, val_loss: 1.35118881\n"
     ]
    },
    {
     "name": "stderr",
     "output_type": "stream",
     "text": [
      "100%|█████████████████████████████████████████████████████████████████████████████████| 67/67 [00:00<00:00, 157.13it/s]\n",
      " 22%|██████████████████▏                                                              | 15/67 [00:00<00:00, 148.38it/s]"
     ]
    },
    {
     "name": "stdout",
     "output_type": "stream",
     "text": [
      "epoch: 155/250, train_loss: 1.41937999, val_loss: 1.38058490\n"
     ]
    },
    {
     "name": "stderr",
     "output_type": "stream",
     "text": [
      "100%|█████████████████████████████████████████████████████████████████████████████████| 67/67 [00:00<00:00, 156.04it/s]\n",
      " 25%|████████████████████▌                                                            | 17/67 [00:00<00:00, 160.23it/s]"
     ]
    },
    {
     "name": "stdout",
     "output_type": "stream",
     "text": [
      "epoch: 156/250, train_loss: 1.37456895, val_loss: 1.38203484\n"
     ]
    },
    {
     "name": "stderr",
     "output_type": "stream",
     "text": [
      "100%|█████████████████████████████████████████████████████████████████████████████████| 67/67 [00:00<00:00, 155.67it/s]\n",
      " 16%|█████████████▍                                                                    | 11/67 [00:00<00:00, 87.92it/s]"
     ]
    },
    {
     "name": "stdout",
     "output_type": "stream",
     "text": [
      "epoch: 157/250, train_loss: 1.39787167, val_loss: 1.34446136\n"
     ]
    },
    {
     "name": "stderr",
     "output_type": "stream",
     "text": [
      "100%|█████████████████████████████████████████████████████████████████████████████████| 67/67 [00:00<00:00, 135.50it/s]\n",
      " 48%|██████████████████████████████████████▋                                          | 32/67 [00:00<00:00, 156.26it/s]"
     ]
    },
    {
     "name": "stdout",
     "output_type": "stream",
     "text": [
      "epoch: 158/250, train_loss: 1.35325278, val_loss: 1.32830561\n"
     ]
    },
    {
     "name": "stderr",
     "output_type": "stream",
     "text": [
      "100%|█████████████████████████████████████████████████████████████████████████████████| 67/67 [00:00<00:00, 156.04it/s]\n",
      " 24%|███████████████████▎                                                             | 16/67 [00:00<00:00, 150.81it/s]"
     ]
    },
    {
     "name": "stdout",
     "output_type": "stream",
     "text": [
      "epoch: 159/250, train_loss: 1.41331264, val_loss: 1.35368085\n"
     ]
    },
    {
     "name": "stderr",
     "output_type": "stream",
     "text": [
      "100%|█████████████████████████████████████████████████████████████████████████████████| 67/67 [00:00<00:00, 154.24it/s]\n",
      " 46%|█████████████████████████████████████▍                                           | 31/67 [00:00<00:00, 150.36it/s]"
     ]
    },
    {
     "name": "stdout",
     "output_type": "stream",
     "text": [
      "epoch: 160/250, train_loss: 1.43994078, val_loss: 1.34550286\n"
     ]
    },
    {
     "name": "stderr",
     "output_type": "stream",
     "text": [
      "100%|█████████████████████████████████████████████████████████████████████████████████| 67/67 [00:00<00:00, 151.45it/s]\n",
      " 24%|███████████████████▎                                                             | 16/67 [00:00<00:00, 153.71it/s]"
     ]
    },
    {
     "name": "stdout",
     "output_type": "stream",
     "text": [
      "epoch: 161/250, train_loss: 1.35608700, val_loss: 1.32470789\n"
     ]
    },
    {
     "name": "stderr",
     "output_type": "stream",
     "text": [
      "100%|█████████████████████████████████████████████████████████████████████████████████| 67/67 [00:00<00:00, 153.53it/s]\n",
      " 22%|██████████████████▏                                                              | 15/67 [00:00<00:00, 149.86it/s]"
     ]
    },
    {
     "name": "stdout",
     "output_type": "stream",
     "text": [
      "epoch: 162/250, train_loss: 1.39853993, val_loss: 1.40098625\n"
     ]
    },
    {
     "name": "stderr",
     "output_type": "stream",
     "text": [
      "100%|█████████████████████████████████████████████████████████████████████████████████| 67/67 [00:00<00:00, 151.79it/s]\n",
      " 24%|███████████████████▎                                                             | 16/67 [00:00<00:00, 152.24it/s]"
     ]
    },
    {
     "name": "stdout",
     "output_type": "stream",
     "text": [
      "epoch: 163/250, train_loss: 1.39837095, val_loss: 1.38337256\n"
     ]
    },
    {
     "name": "stderr",
     "output_type": "stream",
     "text": [
      "100%|█████████████████████████████████████████████████████████████████████████████████| 67/67 [00:00<00:00, 154.01it/s]\n",
      " 24%|███████████████████▎                                                             | 16/67 [00:00<00:00, 155.20it/s]"
     ]
    },
    {
     "name": "stdout",
     "output_type": "stream",
     "text": [
      "epoch: 164/250, train_loss: 1.38938615, val_loss: 1.35926424\n"
     ]
    },
    {
     "name": "stderr",
     "output_type": "stream",
     "text": [
      "100%|█████████████████████████████████████████████████████████████████████████████████| 67/67 [00:00<00:00, 154.89it/s]\n",
      " 25%|████████████████████▌                                                            | 17/67 [00:00<00:00, 160.83it/s]"
     ]
    },
    {
     "name": "stdout",
     "output_type": "stream",
     "text": [
      "epoch: 165/250, train_loss: 1.42335292, val_loss: 1.32832029\n"
     ]
    },
    {
     "name": "stderr",
     "output_type": "stream",
     "text": [
      "100%|█████████████████████████████████████████████████████████████████████████████████| 67/67 [00:00<00:00, 156.59it/s]\n",
      " 24%|███████████████████▎                                                             | 16/67 [00:00<00:00, 155.35it/s]"
     ]
    },
    {
     "name": "stdout",
     "output_type": "stream",
     "text": [
      "epoch: 166/250, train_loss: 1.38239401, val_loss: 1.33244417\n"
     ]
    },
    {
     "name": "stderr",
     "output_type": "stream",
     "text": [
      "100%|█████████████████████████████████████████████████████████████████████████████████| 67/67 [00:00<00:00, 154.53it/s]\n",
      " 22%|██████████████████▏                                                              | 15/67 [00:00<00:00, 149.87it/s]"
     ]
    },
    {
     "name": "stdout",
     "output_type": "stream",
     "text": [
      "epoch: 167/250, train_loss: 1.40257912, val_loss: 1.35326305\n"
     ]
    },
    {
     "name": "stderr",
     "output_type": "stream",
     "text": [
      "100%|█████████████████████████████████████████████████████████████████████████████████| 67/67 [00:00<00:00, 154.59it/s]\n",
      " 21%|█████████████████▏                                                                | 14/67 [00:00<00:00, 95.15it/s]"
     ]
    },
    {
     "name": "stdout",
     "output_type": "stream",
     "text": [
      "epoch: 168/250, train_loss: 1.39568257, val_loss: 1.40715894\n"
     ]
    },
    {
     "name": "stderr",
     "output_type": "stream",
     "text": [
      "100%|█████████████████████████████████████████████████████████████████████████████████| 67/67 [00:00<00:00, 137.73it/s]\n",
      " 24%|███████████████████▎                                                             | 16/67 [00:00<00:00, 156.72it/s]"
     ]
    },
    {
     "name": "stdout",
     "output_type": "stream",
     "text": [
      "epoch: 169/250, train_loss: 1.33670447, val_loss: 1.37175632\n"
     ]
    },
    {
     "name": "stderr",
     "output_type": "stream",
     "text": [
      "100%|█████████████████████████████████████████████████████████████████████████████████| 67/67 [00:00<00:00, 153.88it/s]\n",
      " 24%|███████████████████▎                                                             | 16/67 [00:00<00:00, 152.24it/s]"
     ]
    },
    {
     "name": "stdout",
     "output_type": "stream",
     "text": [
      "epoch: 170/250, train_loss: 1.35542943, val_loss: 1.31417739\n"
     ]
    },
    {
     "name": "stderr",
     "output_type": "stream",
     "text": [
      "100%|█████████████████████████████████████████████████████████████████████████████████| 67/67 [00:00<00:00, 153.18it/s]\n",
      " 24%|███████████████████▎                                                             | 16/67 [00:00<00:00, 159.85it/s]"
     ]
    },
    {
     "name": "stdout",
     "output_type": "stream",
     "text": [
      "epoch: 171/250, train_loss: 1.40201337, val_loss: 1.33910570\n"
     ]
    },
    {
     "name": "stderr",
     "output_type": "stream",
     "text": [
      "100%|█████████████████████████████████████████████████████████████████████████████████| 67/67 [00:00<00:00, 159.57it/s]\n",
      " 24%|███████████████████▎                                                             | 16/67 [00:00<00:00, 150.81it/s]"
     ]
    },
    {
     "name": "stdout",
     "output_type": "stream",
     "text": [
      "epoch: 172/250, train_loss: 1.35059778, val_loss: 1.28999268\n"
     ]
    },
    {
     "name": "stderr",
     "output_type": "stream",
     "text": [
      "100%|█████████████████████████████████████████████████████████████████████████████████| 67/67 [00:00<00:00, 152.48it/s]\n",
      " 24%|███████████████████▎                                                             | 16/67 [00:00<00:00, 153.71it/s]"
     ]
    },
    {
     "name": "stdout",
     "output_type": "stream",
     "text": [
      "epoch: 173/250, train_loss: 1.35543248, val_loss: 1.34621862\n"
     ]
    },
    {
     "name": "stderr",
     "output_type": "stream",
     "text": [
      "100%|█████████████████████████████████████████████████████████████████████████████████| 67/67 [00:00<00:00, 153.05it/s]\n",
      " 24%|███████████████████▎                                                             | 16/67 [00:00<00:00, 158.27it/s]"
     ]
    },
    {
     "name": "stdout",
     "output_type": "stream",
     "text": [
      "epoch: 174/250, train_loss: 1.34247858, val_loss: 1.31942428\n"
     ]
    },
    {
     "name": "stderr",
     "output_type": "stream",
     "text": [
      "100%|█████████████████████████████████████████████████████████████████████████████████| 67/67 [00:00<00:00, 154.74it/s]\n",
      " 22%|██████████████████▏                                                              | 15/67 [00:00<00:00, 148.87it/s]"
     ]
    },
    {
     "name": "stdout",
     "output_type": "stream",
     "text": [
      "epoch: 175/250, train_loss: 1.37852298, val_loss: 1.42718538\n"
     ]
    },
    {
     "name": "stderr",
     "output_type": "stream",
     "text": [
      "100%|█████████████████████████████████████████████████████████████████████████████████| 67/67 [00:00<00:00, 149.86it/s]\n",
      " 24%|███████████████████▎                                                             | 16/67 [00:00<00:00, 159.70it/s]"
     ]
    },
    {
     "name": "stdout",
     "output_type": "stream",
     "text": [
      "epoch: 176/250, train_loss: 1.37143898, val_loss: 1.31736323\n"
     ]
    },
    {
     "name": "stderr",
     "output_type": "stream",
     "text": [
      "100%|█████████████████████████████████████████████████████████████████████████████████| 67/67 [00:00<00:00, 148.10it/s]\n",
      " 24%|███████████████████▎                                                             | 16/67 [00:00<00:00, 155.30it/s]"
     ]
    },
    {
     "name": "stdout",
     "output_type": "stream",
     "text": [
      "epoch: 177/250, train_loss: 1.39865849, val_loss: 1.50541594\n"
     ]
    },
    {
     "name": "stderr",
     "output_type": "stream",
     "text": [
      "100%|█████████████████████████████████████████████████████████████████████████████████| 67/67 [00:00<00:00, 151.36it/s]\n",
      " 24%|███████████████████▎                                                             | 16/67 [00:00<00:00, 159.85it/s]"
     ]
    },
    {
     "name": "stdout",
     "output_type": "stream",
     "text": [
      "epoch: 178/250, train_loss: 1.41065222, val_loss: 1.30599705\n"
     ]
    },
    {
     "name": "stderr",
     "output_type": "stream",
     "text": [
      "100%|█████████████████████████████████████████████████████████████████████████████████| 67/67 [00:00<00:00, 155.31it/s]\n",
      " 25%|████████████████████▌                                                            | 17/67 [00:00<00:00, 111.01it/s]"
     ]
    },
    {
     "name": "stdout",
     "output_type": "stream",
     "text": [
      "epoch: 179/250, train_loss: 1.30708473, val_loss: 1.31831172\n"
     ]
    },
    {
     "name": "stderr",
     "output_type": "stream",
     "text": [
      "100%|█████████████████████████████████████████████████████████████████████████████████| 67/67 [00:00<00:00, 142.21it/s]\n",
      " 24%|███████████████████▎                                                             | 16/67 [00:00<00:00, 159.85it/s]"
     ]
    },
    {
     "name": "stdout",
     "output_type": "stream",
     "text": [
      "epoch: 180/250, train_loss: 1.46060556, val_loss: 1.35709956\n"
     ]
    },
    {
     "name": "stderr",
     "output_type": "stream",
     "text": [
      "100%|█████████████████████████████████████████████████████████████████████████████████| 67/67 [00:00<00:00, 154.95it/s]\n",
      " 25%|████████████████████▌                                                            | 17/67 [00:00<00:00, 161.76it/s]"
     ]
    },
    {
     "name": "stdout",
     "output_type": "stream",
     "text": [
      "epoch: 181/250, train_loss: 1.35825677, val_loss: 1.34638148\n"
     ]
    },
    {
     "name": "stderr",
     "output_type": "stream",
     "text": [
      "100%|█████████████████████████████████████████████████████████████████████████████████| 67/67 [00:00<00:00, 155.31it/s]\n",
      " 24%|███████████████████▎                                                             | 16/67 [00:00<00:00, 158.27it/s]"
     ]
    },
    {
     "name": "stdout",
     "output_type": "stream",
     "text": [
      "epoch: 182/250, train_loss: 1.36627340, val_loss: 1.31957603\n"
     ]
    },
    {
     "name": "stderr",
     "output_type": "stream",
     "text": [
      "100%|█████████████████████████████████████████████████████████████████████████████████| 67/67 [00:00<00:00, 155.67it/s]\n",
      " 24%|███████████████████▎                                                             | 16/67 [00:00<00:00, 151.55it/s]"
     ]
    },
    {
     "name": "stdout",
     "output_type": "stream",
     "text": [
      "epoch: 183/250, train_loss: 1.40399421, val_loss: 1.32789968\n"
     ]
    },
    {
     "name": "stderr",
     "output_type": "stream",
     "text": [
      "100%|█████████████████████████████████████████████████████████████████████████████████| 67/67 [00:00<00:00, 155.50it/s]\n",
      " 24%|███████████████████▎                                                             | 16/67 [00:00<00:00, 156.48it/s]"
     ]
    },
    {
     "name": "stdout",
     "output_type": "stream",
     "text": [
      "epoch: 184/250, train_loss: 1.34836152, val_loss: 1.31737293\n"
     ]
    },
    {
     "name": "stderr",
     "output_type": "stream",
     "text": [
      "100%|█████████████████████████████████████████████████████████████████████████████████| 67/67 [00:00<00:00, 147.39it/s]\n",
      " 24%|███████████████████▎                                                             | 16/67 [00:00<00:00, 155.94it/s]"
     ]
    },
    {
     "name": "stdout",
     "output_type": "stream",
     "text": [
      "epoch: 185/250, train_loss: 1.32875785, val_loss: 1.28094880\n"
     ]
    },
    {
     "name": "stderr",
     "output_type": "stream",
     "text": [
      "100%|█████████████████████████████████████████████████████████████████████████████████| 67/67 [00:00<00:00, 154.06it/s]\n",
      " 24%|███████████████████▎                                                             | 16/67 [00:00<00:00, 152.24it/s]"
     ]
    },
    {
     "name": "stdout",
     "output_type": "stream",
     "text": [
      "epoch: 186/250, train_loss: 1.38628690, val_loss: 1.28148369\n"
     ]
    },
    {
     "name": "stderr",
     "output_type": "stream",
     "text": [
      "100%|█████████████████████████████████████████████████████████████████████████████████| 67/67 [00:00<00:00, 155.31it/s]\n",
      " 24%|███████████████████▎                                                             | 16/67 [00:00<00:00, 155.20it/s]"
     ]
    },
    {
     "name": "stdout",
     "output_type": "stream",
     "text": [
      "epoch: 187/250, train_loss: 1.37753232, val_loss: 1.29532041\n"
     ]
    },
    {
     "name": "stderr",
     "output_type": "stream",
     "text": [
      "100%|█████████████████████████████████████████████████████████████████████████████████| 67/67 [00:00<00:00, 153.53it/s]\n",
      " 24%|███████████████████▎                                                             | 16/67 [00:00<00:00, 155.20it/s]"
     ]
    },
    {
     "name": "stdout",
     "output_type": "stream",
     "text": [
      "epoch: 188/250, train_loss: 1.36866120, val_loss: 1.30420735\n"
     ]
    },
    {
     "name": "stderr",
     "output_type": "stream",
     "text": [
      "100%|█████████████████████████████████████████████████████████████████████████████████| 67/67 [00:00<00:00, 157.13it/s]\n",
      " 25%|████████████████████▌                                                            | 17/67 [00:00<00:00, 161.76it/s]"
     ]
    },
    {
     "name": "stdout",
     "output_type": "stream",
     "text": [
      "epoch: 189/250, train_loss: 1.35444314, val_loss: 1.34113842\n"
     ]
    },
    {
     "name": "stderr",
     "output_type": "stream",
     "text": [
      "100%|█████████████████████████████████████████████████████████████████████████████████| 67/67 [00:00<00:00, 157.65it/s]\n",
      " 24%|███████████████████▎                                                             | 16/67 [00:00<00:00, 159.86it/s]"
     ]
    },
    {
     "name": "stdout",
     "output_type": "stream",
     "text": [
      "epoch: 190/250, train_loss: 1.35790974, val_loss: 1.34982103\n"
     ]
    },
    {
     "name": "stderr",
     "output_type": "stream",
     "text": [
      "100%|█████████████████████████████████████████████████████████████████████████████████| 67/67 [00:00<00:00, 137.35it/s]\n",
      " 48%|██████████████████████████████████████▋                                          | 32/67 [00:00<00:00, 154.08it/s]"
     ]
    },
    {
     "name": "stdout",
     "output_type": "stream",
     "text": [
      "epoch: 191/250, train_loss: 1.35035796, val_loss: 1.28626448\n"
     ]
    },
    {
     "name": "stderr",
     "output_type": "stream",
     "text": [
      "100%|█████████████████████████████████████████████████████████████████████████████████| 67/67 [00:00<00:00, 153.88it/s]\n",
      " 24%|███████████████████▎                                                             | 16/67 [00:00<00:00, 158.27it/s]"
     ]
    },
    {
     "name": "stdout",
     "output_type": "stream",
     "text": [
      "epoch: 192/250, train_loss: 1.35778055, val_loss: 1.30443042\n"
     ]
    },
    {
     "name": "stderr",
     "output_type": "stream",
     "text": [
      "100%|█████████████████████████████████████████████████████████████████████████████████| 67/67 [00:00<00:00, 151.79it/s]\n",
      " 24%|███████████████████▎                                                             | 16/67 [00:00<00:00, 155.20it/s]"
     ]
    },
    {
     "name": "stdout",
     "output_type": "stream",
     "text": [
      "epoch: 193/250, train_loss: 1.37172986, val_loss: 1.32902869\n"
     ]
    },
    {
     "name": "stderr",
     "output_type": "stream",
     "text": [
      "100%|█████████████████████████████████████████████████████████████████████████████████| 67/67 [00:00<00:00, 151.36it/s]\n",
      " 24%|███████████████████▎                                                             | 16/67 [00:00<00:00, 152.24it/s]"
     ]
    },
    {
     "name": "stdout",
     "output_type": "stream",
     "text": [
      "epoch: 194/250, train_loss: 1.35254924, val_loss: 1.30477421\n"
     ]
    },
    {
     "name": "stderr",
     "output_type": "stream",
     "text": [
      "100%|█████████████████████████████████████████████████████████████████████████████████| 67/67 [00:00<00:00, 150.42it/s]\n",
      " 22%|██████████████████▏                                                              | 15/67 [00:00<00:00, 149.86it/s]"
     ]
    },
    {
     "name": "stdout",
     "output_type": "stream",
     "text": [
      "epoch: 195/250, train_loss: 1.33812164, val_loss: 1.28024735\n"
     ]
    },
    {
     "name": "stderr",
     "output_type": "stream",
     "text": [
      "100%|█████████████████████████████████████████████████████████████████████████████████| 67/67 [00:00<00:00, 151.79it/s]\n",
      " 24%|███████████████████▎                                                             | 16/67 [00:00<00:00, 158.27it/s]"
     ]
    },
    {
     "name": "stdout",
     "output_type": "stream",
     "text": [
      "epoch: 196/250, train_loss: 1.37699010, val_loss: 1.28034488\n"
     ]
    },
    {
     "name": "stderr",
     "output_type": "stream",
     "text": [
      "100%|█████████████████████████████████████████████████████████████████████████████████| 67/67 [00:00<00:00, 150.76it/s]\n",
      " 24%|███████████████████▎                                                             | 16/67 [00:00<00:00, 153.71it/s]"
     ]
    },
    {
     "name": "stdout",
     "output_type": "stream",
     "text": [
      "epoch: 197/250, train_loss: 1.37238961, val_loss: 1.28760029\n"
     ]
    },
    {
     "name": "stderr",
     "output_type": "stream",
     "text": [
      "100%|█████████████████████████████████████████████████████████████████████████████████| 67/67 [00:00<00:00, 146.63it/s]\n",
      " 24%|███████████████████▎                                                             | 16/67 [00:00<00:00, 155.20it/s]"
     ]
    },
    {
     "name": "stdout",
     "output_type": "stream",
     "text": [
      "epoch: 198/250, train_loss: 1.32792553, val_loss: 1.31613579\n"
     ]
    },
    {
     "name": "stderr",
     "output_type": "stream",
     "text": [
      "100%|█████████████████████████████████████████████████████████████████████████████████| 67/67 [00:00<00:00, 150.93it/s]\n",
      " 48%|██████████████████████████████████████▋                                          | 32/67 [00:00<00:00, 155.65it/s]"
     ]
    },
    {
     "name": "stdout",
     "output_type": "stream",
     "text": [
      "epoch: 199/250, train_loss: 1.34587215, val_loss: 1.31065669\n"
     ]
    },
    {
     "name": "stderr",
     "output_type": "stream",
     "text": [
      "100%|█████████████████████████████████████████████████████████████████████████████████| 67/67 [00:00<00:00, 152.53it/s]\n",
      " 24%|███████████████████▎                                                             | 16/67 [00:00<00:00, 150.80it/s]"
     ]
    },
    {
     "name": "stdout",
     "output_type": "stream",
     "text": [
      "epoch: 200/250, train_loss: 1.34979125, val_loss: 1.26923830\n"
     ]
    },
    {
     "name": "stderr",
     "output_type": "stream",
     "text": [
      "100%|█████████████████████████████████████████████████████████████████████████████████| 67/67 [00:00<00:00, 149.42it/s]\n",
      " 24%|███████████████████▎                                                             | 16/67 [00:00<00:00, 151.51it/s]"
     ]
    },
    {
     "name": "stdout",
     "output_type": "stream",
     "text": [
      "epoch: 201/250, train_loss: 1.33330889, val_loss: 1.33311297\n"
     ]
    },
    {
     "name": "stderr",
     "output_type": "stream",
     "text": [
      "100%|█████████████████████████████████████████████████████████████████████████████████| 67/67 [00:00<00:00, 133.05it/s]\n",
      " 25%|████████████████████▌                                                            | 17/67 [00:00<00:00, 160.08it/s]"
     ]
    },
    {
     "name": "stdout",
     "output_type": "stream",
     "text": [
      "epoch: 202/250, train_loss: 1.33066789, val_loss: 1.29853016\n"
     ]
    },
    {
     "name": "stderr",
     "output_type": "stream",
     "text": [
      "100%|█████████████████████████████████████████████████████████████████████████████████| 67/67 [00:00<00:00, 153.86it/s]\n",
      " 22%|██████████████████▏                                                              | 15/67 [00:00<00:00, 149.77it/s]"
     ]
    },
    {
     "name": "stdout",
     "output_type": "stream",
     "text": [
      "epoch: 203/250, train_loss: 1.37406350, val_loss: 1.27609164\n"
     ]
    },
    {
     "name": "stderr",
     "output_type": "stream",
     "text": [
      "100%|█████████████████████████████████████████████████████████████████████████████████| 67/67 [00:00<00:00, 152.45it/s]\n",
      " 22%|██████████████████▏                                                              | 15/67 [00:00<00:00, 146.92it/s]"
     ]
    },
    {
     "name": "stdout",
     "output_type": "stream",
     "text": [
      "epoch: 204/250, train_loss: 1.35211279, val_loss: 1.27857212\n"
     ]
    },
    {
     "name": "stderr",
     "output_type": "stream",
     "text": [
      "100%|█████████████████████████████████████████████████████████████████████████████████| 67/67 [00:00<00:00, 152.83it/s]\n",
      " 25%|████████████████████▌                                                            | 17/67 [00:00<00:00, 162.02it/s]"
     ]
    },
    {
     "name": "stdout",
     "output_type": "stream",
     "text": [
      "epoch: 205/250, train_loss: 1.34671364, val_loss: 1.30708966\n"
     ]
    },
    {
     "name": "stderr",
     "output_type": "stream",
     "text": [
      "100%|█████████████████████████████████████████████████████████████████████████████████| 67/67 [00:00<00:00, 155.15it/s]\n",
      " 25%|████████████████████▌                                                            | 17/67 [00:00<00:00, 163.03it/s]"
     ]
    },
    {
     "name": "stdout",
     "output_type": "stream",
     "text": [
      "epoch: 206/250, train_loss: 1.29783698, val_loss: 1.26873467\n"
     ]
    },
    {
     "name": "stderr",
     "output_type": "stream",
     "text": [
      "100%|█████████████████████████████████████████████████████████████████████████████████| 67/67 [00:00<00:00, 157.81it/s]\n",
      " 24%|███████████████████▎                                                             | 16/67 [00:00<00:00, 159.85it/s]"
     ]
    },
    {
     "name": "stdout",
     "output_type": "stream",
     "text": [
      "epoch: 207/250, train_loss: 1.35195778, val_loss: 1.28427686\n"
     ]
    },
    {
     "name": "stderr",
     "output_type": "stream",
     "text": [
      "100%|█████████████████████████████████████████████████████████████████████████████████| 67/67 [00:00<00:00, 159.00it/s]\n",
      " 24%|███████████████████▎                                                             | 16/67 [00:00<00:00, 156.72it/s]"
     ]
    },
    {
     "name": "stdout",
     "output_type": "stream",
     "text": [
      "epoch: 208/250, train_loss: 1.29233473, val_loss: 1.26494015\n"
     ]
    },
    {
     "name": "stderr",
     "output_type": "stream",
     "text": [
      "100%|█████████████████████████████████████████████████████████████████████████████████| 67/67 [00:00<00:00, 157.50it/s]\n",
      " 22%|██████████████████▏                                                              | 15/67 [00:00<00:00, 148.38it/s]"
     ]
    },
    {
     "name": "stdout",
     "output_type": "stream",
     "text": [
      "epoch: 209/250, train_loss: 1.33325684, val_loss: 1.32240043\n"
     ]
    },
    {
     "name": "stderr",
     "output_type": "stream",
     "text": [
      "100%|█████████████████████████████████████████████████████████████████████████████████| 67/67 [00:00<00:00, 150.76it/s]\n",
      " 25%|████████████████████▌                                                            | 17/67 [00:00<00:00, 164.90it/s]"
     ]
    },
    {
     "name": "stdout",
     "output_type": "stream",
     "text": [
      "epoch: 210/250, train_loss: 1.30077604, val_loss: 1.28677290\n"
     ]
    },
    {
     "name": "stderr",
     "output_type": "stream",
     "text": [
      "100%|█████████████████████████████████████████████████████████████████████████████████| 67/67 [00:00<00:00, 153.88it/s]\n",
      " 24%|███████████████████▎                                                             | 16/67 [00:00<00:00, 159.05it/s]"
     ]
    },
    {
     "name": "stdout",
     "output_type": "stream",
     "text": [
      "epoch: 211/250, train_loss: 1.34975355, val_loss: 1.31989560\n"
     ]
    },
    {
     "name": "stderr",
     "output_type": "stream",
     "text": [
      "100%|█████████████████████████████████████████████████████████████████████████████████| 67/67 [00:00<00:00, 151.96it/s]\n",
      " 24%|███████████████████▎                                                             | 16/67 [00:00<00:00, 155.20it/s]"
     ]
    },
    {
     "name": "stdout",
     "output_type": "stream",
     "text": [
      "epoch: 212/250, train_loss: 1.34999152, val_loss: 1.28748075\n"
     ]
    },
    {
     "name": "stderr",
     "output_type": "stream",
     "text": [
      "100%|█████████████████████████████████████████████████████████████████████████████████| 67/67 [00:00<00:00, 140.04it/s]\n",
      " 24%|███████████████████▎                                                             | 16/67 [00:00<00:00, 156.72it/s]"
     ]
    },
    {
     "name": "stdout",
     "output_type": "stream",
     "text": [
      "epoch: 213/250, train_loss: 1.29169289, val_loss: 1.33786487\n"
     ]
    },
    {
     "name": "stderr",
     "output_type": "stream",
     "text": [
      "100%|█████████████████████████████████████████████████████████████████████████████████| 67/67 [00:00<00:00, 154.59it/s]\n",
      " 24%|███████████████████▎                                                             | 16/67 [00:00<00:00, 155.20it/s]"
     ]
    },
    {
     "name": "stdout",
     "output_type": "stream",
     "text": [
      "epoch: 214/250, train_loss: 1.30578603, val_loss: 1.28056799\n"
     ]
    },
    {
     "name": "stderr",
     "output_type": "stream",
     "text": [
      "100%|█████████████████████████████████████████████████████████████████████████████████| 67/67 [00:00<00:00, 156.77it/s]\n",
      " 24%|███████████████████▎                                                             | 16/67 [00:00<00:00, 156.72it/s]"
     ]
    },
    {
     "name": "stdout",
     "output_type": "stream",
     "text": [
      "epoch: 215/250, train_loss: 1.34648087, val_loss: 1.30625942\n"
     ]
    },
    {
     "name": "stderr",
     "output_type": "stream",
     "text": [
      "100%|█████████████████████████████████████████████████████████████████████████████████| 67/67 [00:00<00:00, 154.95it/s]\n",
      " 24%|███████████████████▎                                                             | 16/67 [00:00<00:00, 158.18it/s]"
     ]
    },
    {
     "name": "stdout",
     "output_type": "stream",
     "text": [
      "epoch: 216/250, train_loss: 1.31334471, val_loss: 1.28175922\n"
     ]
    },
    {
     "name": "stderr",
     "output_type": "stream",
     "text": [
      "100%|█████████████████████████████████████████████████████████████████████████████████| 67/67 [00:00<00:00, 160.14it/s]\n",
      " 24%|███████████████████▎                                                             | 16/67 [00:00<00:00, 153.71it/s]"
     ]
    },
    {
     "name": "stdout",
     "output_type": "stream",
     "text": [
      "epoch: 217/250, train_loss: 1.33887780, val_loss: 1.28718397\n"
     ]
    },
    {
     "name": "stderr",
     "output_type": "stream",
     "text": [
      "100%|█████████████████████████████████████████████████████████████████████████████████| 67/67 [00:00<00:00, 155.51it/s]\n",
      " 25%|████████████████████▌                                                            | 17/67 [00:00<00:00, 163.32it/s]"
     ]
    },
    {
     "name": "stdout",
     "output_type": "stream",
     "text": [
      "epoch: 218/250, train_loss: 1.27305394, val_loss: 1.28913131\n"
     ]
    },
    {
     "name": "stderr",
     "output_type": "stream",
     "text": [
      "100%|█████████████████████████████████████████████████████████████████████████████████| 67/67 [00:00<00:00, 157.50it/s]\n",
      " 24%|███████████████████▎                                                             | 16/67 [00:00<00:00, 152.16it/s]"
     ]
    },
    {
     "name": "stdout",
     "output_type": "stream",
     "text": [
      "epoch: 219/250, train_loss: 1.34342335, val_loss: 1.32167966\n"
     ]
    },
    {
     "name": "stderr",
     "output_type": "stream",
     "text": [
      "100%|█████████████████████████████████████████████████████████████████████████████████| 67/67 [00:00<00:00, 152.08it/s]\n",
      " 24%|███████████████████▎                                                             | 16/67 [00:00<00:00, 159.69it/s]"
     ]
    },
    {
     "name": "stdout",
     "output_type": "stream",
     "text": [
      "epoch: 220/250, train_loss: 1.31990794, val_loss: 1.31482395\n"
     ]
    },
    {
     "name": "stderr",
     "output_type": "stream",
     "text": [
      "100%|█████████████████████████████████████████████████████████████████████████████████| 67/67 [00:00<00:00, 148.37it/s]\n",
      " 25%|████████████████████▌                                                            | 17/67 [00:00<00:00, 161.76it/s]"
     ]
    },
    {
     "name": "stdout",
     "output_type": "stream",
     "text": [
      "epoch: 221/250, train_loss: 1.28052964, val_loss: 1.32415943\n"
     ]
    },
    {
     "name": "stderr",
     "output_type": "stream",
     "text": [
      "100%|█████████████████████████████████████████████████████████████████████████████████| 67/67 [00:00<00:00, 154.95it/s]\n",
      " 24%|███████████████████▎                                                             | 16/67 [00:00<00:00, 159.86it/s]"
     ]
    },
    {
     "name": "stdout",
     "output_type": "stream",
     "text": [
      "epoch: 222/250, train_loss: 1.28001516, val_loss: 1.31874870\n"
     ]
    },
    {
     "name": "stderr",
     "output_type": "stream",
     "text": [
      "100%|█████████████████████████████████████████████████████████████████████████████████| 67/67 [00:00<00:00, 158.25it/s]\n",
      " 25%|████████████████████▌                                                            | 17/67 [00:00<00:00, 168.16it/s]"
     ]
    },
    {
     "name": "stdout",
     "output_type": "stream",
     "text": [
      "epoch: 223/250, train_loss: 1.26756288, val_loss: 1.35478107\n"
     ]
    },
    {
     "name": "stderr",
     "output_type": "stream",
     "text": [
      "100%|█████████████████████████████████████████████████████████████████████████████████| 67/67 [00:00<00:00, 140.33it/s]\n",
      " 24%|███████████████████▎                                                             | 16/67 [00:00<00:00, 150.81it/s]"
     ]
    },
    {
     "name": "stdout",
     "output_type": "stream",
     "text": [
      "epoch: 224/250, train_loss: 1.25111705, val_loss: 1.26498530\n"
     ]
    },
    {
     "name": "stderr",
     "output_type": "stream",
     "text": [
      "100%|█████████████████████████████████████████████████████████████████████████████████| 67/67 [00:00<00:00, 150.76it/s]\n",
      " 22%|██████████████████▏                                                              | 15/67 [00:00<00:00, 146.92it/s]"
     ]
    },
    {
     "name": "stdout",
     "output_type": "stream",
     "text": [
      "epoch: 225/250, train_loss: 1.25830552, val_loss: 1.29622941\n"
     ]
    },
    {
     "name": "stderr",
     "output_type": "stream",
     "text": [
      "100%|█████████████████████████████████████████████████████████████████████████████████| 67/67 [00:00<00:00, 151.79it/s]\n",
      " 22%|██████████████████▏                                                              | 15/67 [00:00<00:00, 149.86it/s]"
     ]
    },
    {
     "name": "stdout",
     "output_type": "stream",
     "text": [
      "epoch: 226/250, train_loss: 1.28223394, val_loss: 1.27360749\n"
     ]
    },
    {
     "name": "stderr",
     "output_type": "stream",
     "text": [
      "100%|█████████████████████████████████████████████████████████████████████████████████| 67/67 [00:00<00:00, 154.59it/s]\n",
      " 24%|███████████████████▎                                                             | 16/67 [00:00<00:00, 156.72it/s]"
     ]
    },
    {
     "name": "stdout",
     "output_type": "stream",
     "text": [
      "epoch: 227/250, train_loss: 1.31387137, val_loss: 1.27717132\n"
     ]
    },
    {
     "name": "stderr",
     "output_type": "stream",
     "text": [
      "100%|█████████████████████████████████████████████████████████████████████████████████| 67/67 [00:00<00:00, 156.18it/s]\n",
      " 22%|██████████████████▏                                                              | 15/67 [00:00<00:00, 148.38it/s]"
     ]
    },
    {
     "name": "stdout",
     "output_type": "stream",
     "text": [
      "epoch: 228/250, train_loss: 1.31290422, val_loss: 1.27891082\n"
     ]
    },
    {
     "name": "stderr",
     "output_type": "stream",
     "text": [
      "100%|█████████████████████████████████████████████████████████████████████████████████| 67/67 [00:00<00:00, 154.95it/s]\n",
      " 25%|████████████████████▌                                                            | 17/67 [00:00<00:00, 164.90it/s]"
     ]
    },
    {
     "name": "stdout",
     "output_type": "stream",
     "text": [
      "epoch: 229/250, train_loss: 1.32799847, val_loss: 1.31649289\n"
     ]
    },
    {
     "name": "stderr",
     "output_type": "stream",
     "text": [
      "100%|█████████████████████████████████████████████████████████████████████████████████| 67/67 [00:00<00:00, 157.88it/s]\n",
      " 24%|███████████████████▎                                                             | 16/67 [00:00<00:00, 156.58it/s]"
     ]
    },
    {
     "name": "stdout",
     "output_type": "stream",
     "text": [
      "epoch: 230/250, train_loss: 1.28448106, val_loss: 1.29704546\n"
     ]
    },
    {
     "name": "stderr",
     "output_type": "stream",
     "text": [
      "100%|█████████████████████████████████████████████████████████████████████████████████| 67/67 [00:00<00:00, 153.14it/s]\n",
      " 24%|███████████████████▎                                                             | 16/67 [00:00<00:00, 149.69it/s]"
     ]
    },
    {
     "name": "stdout",
     "output_type": "stream",
     "text": [
      "epoch: 231/250, train_loss: 1.31458794, val_loss: 1.36933385\n"
     ]
    },
    {
     "name": "stderr",
     "output_type": "stream",
     "text": [
      "100%|█████████████████████████████████████████████████████████████████████████████████| 67/67 [00:00<00:00, 153.71it/s]\n",
      " 24%|███████████████████▎                                                             | 16/67 [00:00<00:00, 155.20it/s]"
     ]
    },
    {
     "name": "stdout",
     "output_type": "stream",
     "text": [
      "epoch: 232/250, train_loss: 1.29708319, val_loss: 1.34520850\n"
     ]
    },
    {
     "name": "stderr",
     "output_type": "stream",
     "text": [
      "100%|█████████████████████████████████████████████████████████████████████████████████| 67/67 [00:00<00:00, 157.76it/s]\n",
      " 24%|███████████████████▎                                                             | 16/67 [00:00<00:00, 154.89it/s]"
     ]
    },
    {
     "name": "stdout",
     "output_type": "stream",
     "text": [
      "epoch: 233/250, train_loss: 1.29016194, val_loss: 1.28773426\n"
     ]
    },
    {
     "name": "stderr",
     "output_type": "stream",
     "text": [
      "100%|█████████████████████████████████████████████████████████████████████████████████| 67/67 [00:00<00:00, 144.79it/s]\n",
      " 22%|██████████████████▏                                                              | 15/67 [00:00<00:00, 149.87it/s]"
     ]
    },
    {
     "name": "stdout",
     "output_type": "stream",
     "text": [
      "epoch: 234/250, train_loss: 1.27450304, val_loss: 1.28828390\n"
     ]
    },
    {
     "name": "stderr",
     "output_type": "stream",
     "text": [
      "100%|█████████████████████████████████████████████████████████████████████████████████| 67/67 [00:00<00:00, 140.05it/s]\n",
      " 24%|███████████████████▎                                                             | 16/67 [00:00<00:00, 151.49it/s]"
     ]
    },
    {
     "name": "stdout",
     "output_type": "stream",
     "text": [
      "epoch: 235/250, train_loss: 1.28825327, val_loss: 1.30751282\n"
     ]
    },
    {
     "name": "stderr",
     "output_type": "stream",
     "text": [
      "100%|█████████████████████████████████████████████████████████████████████████████████| 67/67 [00:00<00:00, 153.27it/s]\n",
      " 24%|███████████████████▎                                                             | 16/67 [00:00<00:00, 156.72it/s]"
     ]
    },
    {
     "name": "stdout",
     "output_type": "stream",
     "text": [
      "epoch: 236/250, train_loss: 1.24986234, val_loss: 1.29240671\n"
     ]
    },
    {
     "name": "stderr",
     "output_type": "stream",
     "text": [
      "100%|█████████████████████████████████████████████████████████████████████████████████| 67/67 [00:00<00:00, 154.95it/s]\n",
      " 24%|███████████████████▎                                                             | 16/67 [00:00<00:00, 159.86it/s]"
     ]
    },
    {
     "name": "stdout",
     "output_type": "stream",
     "text": [
      "epoch: 237/250, train_loss: 1.25692355, val_loss: 1.26769275\n"
     ]
    },
    {
     "name": "stderr",
     "output_type": "stream",
     "text": [
      "100%|█████████████████████████████████████████████████████████████████████████████████| 67/67 [00:00<00:00, 154.41it/s]\n",
      " 24%|███████████████████▎                                                             | 16/67 [00:00<00:00, 157.73it/s]"
     ]
    },
    {
     "name": "stdout",
     "output_type": "stream",
     "text": [
      "epoch: 238/250, train_loss: 1.23234311, val_loss: 1.27120242\n"
     ]
    },
    {
     "name": "stderr",
     "output_type": "stream",
     "text": [
      "100%|█████████████████████████████████████████████████████████████████████████████████| 67/67 [00:00<00:00, 151.12it/s]\n",
      " 22%|██████████████████▏                                                              | 15/67 [00:00<00:00, 146.93it/s]"
     ]
    },
    {
     "name": "stdout",
     "output_type": "stream",
     "text": [
      "epoch: 239/250, train_loss: 1.25072487, val_loss: 1.26286706\n"
     ]
    },
    {
     "name": "stderr",
     "output_type": "stream",
     "text": [
      "100%|█████████████████████████████████████████████████████████████████████████████████| 67/67 [00:00<00:00, 149.91it/s]\n",
      " 22%|██████████████████▏                                                              | 15/67 [00:00<00:00, 149.86it/s]"
     ]
    },
    {
     "name": "stdout",
     "output_type": "stream",
     "text": [
      "epoch: 240/250, train_loss: 1.25204550, val_loss: 1.29577163\n"
     ]
    },
    {
     "name": "stderr",
     "output_type": "stream",
     "text": [
      "100%|█████████████████████████████████████████████████████████████████████████████████| 67/67 [00:00<00:00, 150.76it/s]\n",
      " 25%|████████████████████▌                                                            | 17/67 [00:00<00:00, 160.23it/s]"
     ]
    },
    {
     "name": "stdout",
     "output_type": "stream",
     "text": [
      "epoch: 241/250, train_loss: 1.25502369, val_loss: 1.32087080\n"
     ]
    },
    {
     "name": "stderr",
     "output_type": "stream",
     "text": [
      "100%|█████████████████████████████████████████████████████████████████████████████████| 67/67 [00:00<00:00, 154.59it/s]\n",
      " 24%|███████████████████▎                                                             | 16/67 [00:00<00:00, 153.64it/s]"
     ]
    },
    {
     "name": "stdout",
     "output_type": "stream",
     "text": [
      "epoch: 242/250, train_loss: 1.26934408, val_loss: 1.32575045\n"
     ]
    },
    {
     "name": "stderr",
     "output_type": "stream",
     "text": [
      "100%|█████████████████████████████████████████████████████████████████████████████████| 67/67 [00:00<00:00, 153.18it/s]\n",
      " 25%|████████████████████▌                                                            | 17/67 [00:00<00:00, 164.64it/s]"
     ]
    },
    {
     "name": "stdout",
     "output_type": "stream",
     "text": [
      "epoch: 243/250, train_loss: 1.27310081, val_loss: 1.30533791\n"
     ]
    },
    {
     "name": "stderr",
     "output_type": "stream",
     "text": [
      "100%|█████████████████████████████████████████████████████████████████████████████████| 67/67 [00:00<00:00, 155.25it/s]\n",
      " 24%|███████████████████▎                                                             | 16/67 [00:00<00:00, 158.27it/s]"
     ]
    },
    {
     "name": "stdout",
     "output_type": "stream",
     "text": [
      "epoch: 244/250, train_loss: 1.28148708, val_loss: 1.27424477\n"
     ]
    },
    {
     "name": "stderr",
     "output_type": "stream",
     "text": [
      "100%|█████████████████████████████████████████████████████████████████████████████████| 67/67 [00:00<00:00, 155.70it/s]\n",
      " 24%|███████████████████▎                                                             | 16/67 [00:00<00:00, 152.23it/s]"
     ]
    },
    {
     "name": "stdout",
     "output_type": "stream",
     "text": [
      "epoch: 245/250, train_loss: 1.25214347, val_loss: 1.26719350\n"
     ]
    },
    {
     "name": "stderr",
     "output_type": "stream",
     "text": [
      "100%|█████████████████████████████████████████████████████████████████████████████████| 67/67 [00:00<00:00, 134.41it/s]\n",
      " 24%|███████████████████▎                                                             | 16/67 [00:00<00:00, 155.20it/s]"
     ]
    },
    {
     "name": "stdout",
     "output_type": "stream",
     "text": [
      "epoch: 246/250, train_loss: 1.24004958, val_loss: 1.29959978\n"
     ]
    },
    {
     "name": "stderr",
     "output_type": "stream",
     "text": [
      "100%|█████████████████████████████████████████████████████████████████████████████████| 67/67 [00:00<00:00, 150.09it/s]\n",
      " 19%|███████████████▋                                                                 | 13/67 [00:00<00:00, 126.10it/s]"
     ]
    },
    {
     "name": "stdout",
     "output_type": "stream",
     "text": [
      "epoch: 247/250, train_loss: 1.24355871, val_loss: 1.28117402\n"
     ]
    },
    {
     "name": "stderr",
     "output_type": "stream",
     "text": [
      "100%|█████████████████████████████████████████████████████████████████████████████████| 67/67 [00:00<00:00, 148.42it/s]\n",
      " 25%|████████████████████▌                                                            | 17/67 [00:00<00:00, 161.76it/s]"
     ]
    },
    {
     "name": "stdout",
     "output_type": "stream",
     "text": [
      "epoch: 248/250, train_loss: 1.24505290, val_loss: 1.30034803\n"
     ]
    },
    {
     "name": "stderr",
     "output_type": "stream",
     "text": [
      "100%|█████████████████████████████████████████████████████████████████████████████████| 67/67 [00:00<00:00, 152.48it/s]\n",
      " 22%|██████████████████▏                                                              | 15/67 [00:00<00:00, 149.86it/s]"
     ]
    },
    {
     "name": "stdout",
     "output_type": "stream",
     "text": [
      "epoch: 249/250, train_loss: 1.22042551, val_loss: 1.28666352\n"
     ]
    },
    {
     "name": "stderr",
     "output_type": "stream",
     "text": [
      "100%|█████████████████████████████████████████████████████████████████████████████████| 67/67 [00:00<00:00, 152.65it/s]"
     ]
    },
    {
     "name": "stdout",
     "output_type": "stream",
     "text": [
      "epoch: 250/250, train_loss: 1.25462740, val_loss: 1.27102468\n",
      "best mse : 1.26286706\n"
     ]
    },
    {
     "name": "stderr",
     "output_type": "stream",
     "text": [
      "\n"
     ]
    }
   ],
   "source": [
    "MSE = nn.MSELoss(reduction = 'mean')\n",
    "trainer = Trainer(model, train_loader, test_loader, criterion = MSE, optimizer = Adam,\n",
    "                  epochs = 250, lr = 0.005, l2_norm=0.01, device = device)\n",
    "trainer.fit()"
   ]
  },
  {
   "cell_type": "code",
   "execution_count": 112,
   "metadata": {},
   "outputs": [
    {
     "data": {
      "image/png": "[encoded data removed]",
      "text/plain": [
       "<Figure size 432x288 with 1 Axes>"
      ]
     },
     "metadata": {
      "needs_background": "light"
     },
     "output_type": "display_data"
    }
   ],
   "source": [
    "import matplotlib.pyplot as plt\n",
    "%matplotlib inline\n",
    "\n",
    "history = trainer.history()\n",
    "\n",
    "plt.plot(history['train_loss'], label='Train Loss')\n",
    "plt.plot(history['val_loss'], label='Validation Loss')\n",
    "plt.title('Train and Validation loss')\n",
    "plt.legend()\n",
    "plt.show()"
   ]
  },
  {
   "cell_type": "code",
   "execution_count": 113,
   "metadata": {},
   "outputs": [
    {
     "name": "stdout",
     "output_type": "stream",
     "text": [
      "mse : 1.2628670590264457\n"
     ]
    }
   ],
   "source": [
    "trainer.evaluation(test_loader, device)"
   ]
  },
  {
   "cell_type": "code",
   "execution_count": 114,
   "metadata": {},
   "outputs": [],
   "source": [
    "model = trainer.get_best_model()\n",
    "model.to('cpu')\n",
    "\n",
    "# model save\n",
    "torch.save(model.state_dict(), 'model.pt')"
   ]
  },
  {
   "cell_type": "markdown",
   "metadata": {},
   "source": [
    "# Ensemble"
   ]
  },
  {
   "cell_type": "code",
   "execution_count": 115,
   "metadata": {},
   "outputs": [],
   "source": [
    "import torch\n",
    "from sklearn.metrics import mean_squared_error\n",
    "\n",
    "class EnsembleRegressor:\n",
    "    def __init__(self, models, weights=None):\n",
    "        \n",
    "        self.models = models\n",
    "        self.weights = weights\n",
    "        \n",
    "    def predict(self, X_test):\n",
    "        pred_list = []\n",
    "        for i, model in enumerate(models.values()):\n",
    "            if i == 0:\n",
    "                pred_list.append(model(torch.tensor(X_test.astype(np.float32))).detach().numpy().reshape(-1,))\n",
    "            else:\n",
    "                pred_list.append(model.predict(X_test))\n",
    "        preds = np.array(pred_list)\n",
    "            \n",
    "        prediction = np.average(preds, axis=0, weights=self.weights)\n",
    "\n",
    "        return prediction\n",
    "    \n",
    "    def random_search(self, X_test, y_test, num_search):\n",
    "        weights = torch.softmax(torch.rand(num_search, len(self.models)), axis=1).numpy()\n",
    "        \n",
    "        pred_list = []\n",
    "        for i, model in enumerate(models.values()):\n",
    "            if i == 0:\n",
    "                pred_list.append(model(torch.tensor(X_test.astype(np.float32))).detach().numpy().reshape(-1,))\n",
    "            else:\n",
    "                pred_list.append(model.predict(X_test))\n",
    "        preds = np.array(pred_list)\n",
    "\n",
    "        mse = []\n",
    "        for i in range(num_search):\n",
    "            prediction = np.average(preds, axis=0, weights=weights[i])\n",
    "            mse_ = mean_squared_error(y_test, prediction)\n",
    "            mse.append(mse_)\n",
    "        \n",
    "        result = pd.DataFrame(weights)\n",
    "        result['MSE'] = mse\n",
    "\n",
    "        return result.sort_values('MSE', ascending=True)"
   ]
  },
  {
   "cell_type": "code",
   "execution_count": 116,
   "metadata": {
    "scrolled": false
   },
   "outputs": [
    {
     "data": {
      "text/html": [
       "<div>\n",
       "<style scoped>\n",
       "    .dataframe tbody tr th:only-of-type {\n",
       "        vertical-align: middle;\n",
       "    }\n",
       "\n",
       "    .dataframe tbody tr th {\n",
       "        vertical-align: top;\n",
       "    }\n",
       "\n",
       "    .dataframe thead th {\n",
       "        text-align: right;\n",
       "    }\n",
       "</style>\n",
       "<table border=\"1\" class=\"dataframe\">\n",
       "  <thead>\n",
       "    <tr style=\"text-align: right;\">\n",
       "      <th></th>\n",
       "      <th>0</th>\n",
       "      <th>1</th>\n",
       "      <th>2</th>\n",
       "      <th>3</th>\n",
       "      <th>4</th>\n",
       "      <th>MSE</th>\n",
       "    </tr>\n",
       "  </thead>\n",
       "  <tbody>\n",
       "    <tr>\n",
       "      <th>6151</th>\n",
       "      <td>0.120715</td>\n",
       "      <td>0.169893</td>\n",
       "      <td>0.155429</td>\n",
       "      <td>0.228727</td>\n",
       "      <td>0.325235</td>\n",
       "      <td>0.713460</td>\n",
       "    </tr>\n",
       "    <tr>\n",
       "      <th>12315</th>\n",
       "      <td>0.128004</td>\n",
       "      <td>0.162567</td>\n",
       "      <td>0.131254</td>\n",
       "      <td>0.250890</td>\n",
       "      <td>0.327285</td>\n",
       "      <td>0.713542</td>\n",
       "    </tr>\n",
       "    <tr>\n",
       "      <th>27538</th>\n",
       "      <td>0.135418</td>\n",
       "      <td>0.142194</td>\n",
       "      <td>0.145956</td>\n",
       "      <td>0.242792</td>\n",
       "      <td>0.333640</td>\n",
       "      <td>0.713542</td>\n",
       "    </tr>\n",
       "    <tr>\n",
       "      <th>23315</th>\n",
       "      <td>0.127746</td>\n",
       "      <td>0.151479</td>\n",
       "      <td>0.146622</td>\n",
       "      <td>0.252457</td>\n",
       "      <td>0.321696</td>\n",
       "      <td>0.713550</td>\n",
       "    </tr>\n",
       "    <tr>\n",
       "      <th>10022</th>\n",
       "      <td>0.134892</td>\n",
       "      <td>0.128949</td>\n",
       "      <td>0.166478</td>\n",
       "      <td>0.245538</td>\n",
       "      <td>0.324143</td>\n",
       "      <td>0.713647</td>\n",
       "    </tr>\n",
       "    <tr>\n",
       "      <th>760</th>\n",
       "      <td>0.128117</td>\n",
       "      <td>0.140787</td>\n",
       "      <td>0.162055</td>\n",
       "      <td>0.255282</td>\n",
       "      <td>0.313759</td>\n",
       "      <td>0.713690</td>\n",
       "    </tr>\n",
       "    <tr>\n",
       "      <th>28026</th>\n",
       "      <td>0.125765</td>\n",
       "      <td>0.151179</td>\n",
       "      <td>0.141413</td>\n",
       "      <td>0.269719</td>\n",
       "      <td>0.311924</td>\n",
       "      <td>0.713713</td>\n",
       "    </tr>\n",
       "    <tr>\n",
       "      <th>2272</th>\n",
       "      <td>0.127574</td>\n",
       "      <td>0.174466</td>\n",
       "      <td>0.177746</td>\n",
       "      <td>0.193451</td>\n",
       "      <td>0.326763</td>\n",
       "      <td>0.713729</td>\n",
       "    </tr>\n",
       "    <tr>\n",
       "      <th>4820</th>\n",
       "      <td>0.136180</td>\n",
       "      <td>0.167399</td>\n",
       "      <td>0.139263</td>\n",
       "      <td>0.221528</td>\n",
       "      <td>0.335631</td>\n",
       "      <td>0.713731</td>\n",
       "    </tr>\n",
       "    <tr>\n",
       "      <th>23394</th>\n",
       "      <td>0.129348</td>\n",
       "      <td>0.182829</td>\n",
       "      <td>0.123579</td>\n",
       "      <td>0.239703</td>\n",
       "      <td>0.324540</td>\n",
       "      <td>0.713759</td>\n",
       "    </tr>\n",
       "  </tbody>\n",
       "</table>\n",
       "</div>"
      ],
      "text/plain": [
       "              0         1         2         3         4       MSE\n",
       "6151   0.120715  0.169893  0.155429  0.228727  0.325235  0.713460\n",
       "12315  0.128004  0.162567  0.131254  0.250890  0.327285  0.713542\n",
       "27538  0.135418  0.142194  0.145956  0.242792  0.333640  0.713542\n",
       "23315  0.127746  0.151479  0.146622  0.252457  0.321696  0.713550\n",
       "10022  0.134892  0.128949  0.166478  0.245538  0.324143  0.713647\n",
       "760    0.128117  0.140787  0.162055  0.255282  0.313759  0.713690\n",
       "28026  0.125765  0.151179  0.141413  0.269719  0.311924  0.713713\n",
       "2272   0.127574  0.174466  0.177746  0.193451  0.326763  0.713729\n",
       "4820   0.136180  0.167399  0.139263  0.221528  0.335631  0.713731\n",
       "23394  0.129348  0.182829  0.123579  0.239703  0.324540  0.713759"
      ]
     },
     "execution_count": 116,
     "metadata": {},
     "output_type": "execute_result"
    }
   ],
   "source": [
    "models = {'DNN' : model, 'RandomForest' : rf, 'GBM' : gbm, 'XGBOOST': xgb_reg, 'LightGBM' : lgb_reg}\n",
    "\n",
    "ensemble = EnsembleRegressor(models, weights=None)\n",
    "result = ensemble.random_search(X_test, y_test, 30000)\n",
    "result.head(10)"
   ]
  },
  {
   "cell_type": "code",
   "execution_count": 117,
   "metadata": {},
   "outputs": [
    {
     "name": "stdout",
     "output_type": "stream",
     "text": [
      "[0.12071462720632553, 0.1698933094739914, 0.15542913973331451, 0.22872741520404816, 0.3252354860305786]\n"
     ]
    }
   ],
   "source": [
    "optimal_weight = result.iloc[0,:-1].tolist()\n",
    "print(optimal_weight)"
   ]
  },
  {
   "cell_type": "code",
   "execution_count": 118,
   "metadata": {},
   "outputs": [
    {
     "name": "stdout",
     "output_type": "stream",
     "text": [
      "[ 5.54686559e+00  7.25422402e+00  2.51656513e-04  6.91999538e-02\n",
      "  3.23533459e-02 -1.06179692e-03  1.75395385e-01  4.44830018e-03\n",
      "  6.38629066e+00  3.33788806e+00]\n"
     ]
    }
   ],
   "source": [
    "ensemble = EnsembleRegressor(models, weights=optimal_weight)\n",
    "\n",
    "preds = ensemble.predict(X_test)\n",
    "print(preds[:10])"
   ]
  },
  {
   "cell_type": "code",
   "execution_count": 119,
   "metadata": {},
   "outputs": [
    {
     "name": "stdout",
     "output_type": "stream",
     "text": [
      "[4.61512052 4.61512052 0.         0.         0.         0.\n",
      " 0.         0.         6.68586095 2.56494936]\n"
     ]
    }
   ],
   "source": [
    "print( y_test[:10])"
   ]
  },
  {
   "cell_type": "code",
   "execution_count": 120,
   "metadata": {},
   "outputs": [
    {
     "data": {
      "text/plain": [
       "0.7134604950327669"
      ]
     },
     "execution_count": 120,
     "metadata": {},
     "output_type": "execute_result"
    }
   ],
   "source": [
    "mean_squared_error(y_test, preds)"
   ]
  },
  {
   "cell_type": "markdown",
   "metadata": {},
   "source": [
    "# Evaluation"
   ]
  },
  {
   "cell_type": "code",
   "execution_count": 121,
   "metadata": {},
   "outputs": [
    {
     "name": "stdout",
     "output_type": "stream",
     "text": [
      "[2.55432529e+02 1.41306529e+03 2.51688181e-04 7.16504683e-02\n",
      " 3.28824056e-02 0.00000000e+00 1.91717310e-01 4.45820856e-03\n",
      " 5.92650440e+02 2.71595925e+01]\n",
      "[100. 100.   0.   0.   0.   0.   0.   0. 800.  12.]\n"
     ]
    }
   ],
   "source": [
    "#inverse_transformed_pred = np.expm1(preds * y_minmax_scaler.data_range_ + y_minmax_scaler.data_min_)\n",
    "#inverse_transformed_y_test = np.expm1(y_test * y_minmax_scaler.data_range_ + y_minmax_scaler.data_min_)\n",
    "inverse_transformed_pred = np.expm1(preds)\n",
    "inverse_transformed_pred = np.where(inverse_transformed_pred < 0, 0, inverse_transformed_pred)\n",
    "inverse_transformed_y_test = np.expm1(y_test)\n",
    "\n",
    "print(inverse_transformed_pred[:10])\n",
    "print(inverse_transformed_y_test[:10])"
   ]
  },
  {
   "cell_type": "code",
   "execution_count": 122,
   "metadata": {},
   "outputs": [
    {
     "data": {
      "text/plain": [
       "107541.91456416281"
      ]
     },
     "execution_count": 122,
     "metadata": {},
     "output_type": "execute_result"
    }
   ],
   "source": [
    "np.sqrt(mean_squared_error(inverse_transformed_y_test, inverse_transformed_pred))"
   ]
  },
  {
   "cell_type": "code",
   "execution_count": 123,
   "metadata": {},
   "outputs": [
    {
     "data": {
      "text/html": [
       "<div>\n",
       "<style scoped>\n",
       "    .dataframe tbody tr th:only-of-type {\n",
       "        vertical-align: middle;\n",
       "    }\n",
       "\n",
       "    .dataframe tbody tr th {\n",
       "        vertical-align: top;\n",
       "    }\n",
       "\n",
       "    .dataframe thead th {\n",
       "        text-align: right;\n",
       "    }\n",
       "</style>\n",
       "<table border=\"1\" class=\"dataframe\">\n",
       "  <thead>\n",
       "    <tr style=\"text-align: right;\">\n",
       "      <th></th>\n",
       "      <th>생산량</th>\n",
       "      <th>예측값</th>\n",
       "    </tr>\n",
       "  </thead>\n",
       "  <tbody>\n",
       "    <tr>\n",
       "      <th>0</th>\n",
       "      <td>100.0</td>\n",
       "      <td>255.4</td>\n",
       "    </tr>\n",
       "    <tr>\n",
       "      <th>1</th>\n",
       "      <td>100.0</td>\n",
       "      <td>1413.1</td>\n",
       "    </tr>\n",
       "    <tr>\n",
       "      <th>2</th>\n",
       "      <td>0.0</td>\n",
       "      <td>0.0</td>\n",
       "    </tr>\n",
       "    <tr>\n",
       "      <th>3</th>\n",
       "      <td>0.0</td>\n",
       "      <td>0.1</td>\n",
       "    </tr>\n",
       "    <tr>\n",
       "      <th>4</th>\n",
       "      <td>0.0</td>\n",
       "      <td>0.0</td>\n",
       "    </tr>\n",
       "    <tr>\n",
       "      <th>5</th>\n",
       "      <td>0.0</td>\n",
       "      <td>0.0</td>\n",
       "    </tr>\n",
       "    <tr>\n",
       "      <th>6</th>\n",
       "      <td>0.0</td>\n",
       "      <td>0.2</td>\n",
       "    </tr>\n",
       "    <tr>\n",
       "      <th>7</th>\n",
       "      <td>0.0</td>\n",
       "      <td>0.0</td>\n",
       "    </tr>\n",
       "    <tr>\n",
       "      <th>8</th>\n",
       "      <td>800.0</td>\n",
       "      <td>592.7</td>\n",
       "    </tr>\n",
       "    <tr>\n",
       "      <th>9</th>\n",
       "      <td>12.0</td>\n",
       "      <td>27.2</td>\n",
       "    </tr>\n",
       "    <tr>\n",
       "      <th>10</th>\n",
       "      <td>0.0</td>\n",
       "      <td>0.0</td>\n",
       "    </tr>\n",
       "    <tr>\n",
       "      <th>11</th>\n",
       "      <td>0.0</td>\n",
       "      <td>0.0</td>\n",
       "    </tr>\n",
       "    <tr>\n",
       "      <th>12</th>\n",
       "      <td>0.0</td>\n",
       "      <td>0.0</td>\n",
       "    </tr>\n",
       "    <tr>\n",
       "      <th>13</th>\n",
       "      <td>0.0</td>\n",
       "      <td>0.0</td>\n",
       "    </tr>\n",
       "    <tr>\n",
       "      <th>14</th>\n",
       "      <td>0.0</td>\n",
       "      <td>0.2</td>\n",
       "    </tr>\n",
       "    <tr>\n",
       "      <th>15</th>\n",
       "      <td>0.0</td>\n",
       "      <td>0.0</td>\n",
       "    </tr>\n",
       "    <tr>\n",
       "      <th>16</th>\n",
       "      <td>0.0</td>\n",
       "      <td>0.0</td>\n",
       "    </tr>\n",
       "    <tr>\n",
       "      <th>17</th>\n",
       "      <td>0.0</td>\n",
       "      <td>0.0</td>\n",
       "    </tr>\n",
       "    <tr>\n",
       "      <th>18</th>\n",
       "      <td>50.0</td>\n",
       "      <td>14.9</td>\n",
       "    </tr>\n",
       "    <tr>\n",
       "      <th>19</th>\n",
       "      <td>0.0</td>\n",
       "      <td>0.0</td>\n",
       "    </tr>\n",
       "    <tr>\n",
       "      <th>20</th>\n",
       "      <td>0.0</td>\n",
       "      <td>1.6</td>\n",
       "    </tr>\n",
       "    <tr>\n",
       "      <th>21</th>\n",
       "      <td>0.0</td>\n",
       "      <td>0.0</td>\n",
       "    </tr>\n",
       "    <tr>\n",
       "      <th>22</th>\n",
       "      <td>0.0</td>\n",
       "      <td>0.0</td>\n",
       "    </tr>\n",
       "    <tr>\n",
       "      <th>23</th>\n",
       "      <td>0.0</td>\n",
       "      <td>0.0</td>\n",
       "    </tr>\n",
       "    <tr>\n",
       "      <th>24</th>\n",
       "      <td>70.0</td>\n",
       "      <td>76.6</td>\n",
       "    </tr>\n",
       "    <tr>\n",
       "      <th>25</th>\n",
       "      <td>0.0</td>\n",
       "      <td>0.0</td>\n",
       "    </tr>\n",
       "    <tr>\n",
       "      <th>26</th>\n",
       "      <td>0.0</td>\n",
       "      <td>0.0</td>\n",
       "    </tr>\n",
       "    <tr>\n",
       "      <th>27</th>\n",
       "      <td>0.0</td>\n",
       "      <td>0.0</td>\n",
       "    </tr>\n",
       "    <tr>\n",
       "      <th>28</th>\n",
       "      <td>0.0</td>\n",
       "      <td>0.0</td>\n",
       "    </tr>\n",
       "    <tr>\n",
       "      <th>29</th>\n",
       "      <td>0.0</td>\n",
       "      <td>0.0</td>\n",
       "    </tr>\n",
       "  </tbody>\n",
       "</table>\n",
       "</div>"
      ],
      "text/plain": [
       "      생산량     예측값\n",
       "0   100.0   255.4\n",
       "1   100.0  1413.1\n",
       "2     0.0     0.0\n",
       "3     0.0     0.1\n",
       "4     0.0     0.0\n",
       "5     0.0     0.0\n",
       "6     0.0     0.2\n",
       "7     0.0     0.0\n",
       "8   800.0   592.7\n",
       "9    12.0    27.2\n",
       "10    0.0     0.0\n",
       "11    0.0     0.0\n",
       "12    0.0     0.0\n",
       "13    0.0     0.0\n",
       "14    0.0     0.2\n",
       "15    0.0     0.0\n",
       "16    0.0     0.0\n",
       "17    0.0     0.0\n",
       "18   50.0    14.9\n",
       "19    0.0     0.0\n",
       "20    0.0     1.6\n",
       "21    0.0     0.0\n",
       "22    0.0     0.0\n",
       "23    0.0     0.0\n",
       "24   70.0    76.6\n",
       "25    0.0     0.0\n",
       "26    0.0     0.0\n",
       "27    0.0     0.0\n",
       "28    0.0     0.0\n",
       "29    0.0     0.0"
      ]
     },
     "execution_count": 123,
     "metadata": {},
     "output_type": "execute_result"
    }
   ],
   "source": [
    "inverse_transformed_pred = pd.Series(np.round(inverse_transformed_pred,1), name='예측값')\n",
    "inverse_transformed_y_test= pd.Series(inverse_transformed_y_test, name='생산량')\n",
    "result = pd.concat([inverse_transformed_y_test, inverse_transformed_pred], axis=1)\n",
    "result[:30]"
   ]
  },
  {
   "cell_type": "markdown",
   "metadata": {},
   "source": [
    "# Prediction"
   ]
  },
  {
   "cell_type": "code",
   "execution_count": 124,
   "metadata": {},
   "outputs": [],
   "source": [
    "def predict(model, data):    \n",
    "    data['재배면적'] = np.log1p(data['재배면적'].astype(float))\n",
    "    data['단가'] = np.log1p(data['단가'].astype(float))\n",
    "    \n",
    "    # Normalize\n",
    "    X_scaled = X_minmax_scaler.transform(data.loc[:, ['재배면적', '단가']])\n",
    "    \n",
    "    # Categorical variable preprocessing\n",
    "    onehot = onehot_encoder.transform(data.loc[:, ['시도/관리소', '재배채취', '재배단위', '소분류']])\n",
    "    \n",
    "    numeric_data_df = pd.DataFrame(X_scaled, columns=['재배면적', '단가'])\n",
    "    onehot_data_df = pd.DataFrame(onehot.toarray())\n",
    "\n",
    "    X_data_df = pd.concat([numeric_data_df , onehot_data_df], axis=1)\n",
    "    X_data = np.array(X_data_df)\n",
    "    \n",
    "    y_pred = model.predict(X_data)\n",
    "    inverse_transformed_pred = np.expm1(y_pred)\n",
    "    inverse_transformed_pred = np.where(inverse_transformed_pred < 0, 0, inverse_transformed_pred)\n",
    "    \n",
    "    return inverse_transformed_pred"
   ]
  },
  {
   "cell_type": "code",
   "execution_count": 125,
   "metadata": {},
   "outputs": [],
   "source": [
    "#path = 'test_set.xlsx'\n",
    "#test_set = pd.read_excel(path) \n",
    "#test_set"
   ]
  },
  {
   "cell_type": "code",
   "execution_count": 126,
   "metadata": {},
   "outputs": [
    {
     "data": {
      "text/html": [
       "<div>\n",
       "<style scoped>\n",
       "    .dataframe tbody tr th:only-of-type {\n",
       "        vertical-align: middle;\n",
       "    }\n",
       "\n",
       "    .dataframe tbody tr th {\n",
       "        vertical-align: top;\n",
       "    }\n",
       "\n",
       "    .dataframe thead th {\n",
       "        text-align: right;\n",
       "    }\n",
       "</style>\n",
       "<table border=\"1\" class=\"dataframe\">\n",
       "  <thead>\n",
       "    <tr style=\"text-align: right;\">\n",
       "      <th></th>\n",
       "      <th>시도/관리소</th>\n",
       "      <th>재배채취</th>\n",
       "      <th>재배면적</th>\n",
       "      <th>재배단위</th>\n",
       "      <th>소분류</th>\n",
       "      <th>단가</th>\n",
       "      <th>생산량</th>\n",
       "    </tr>\n",
       "  </thead>\n",
       "  <tbody>\n",
       "    <tr>\n",
       "      <th>22390</th>\n",
       "      <td>충청북도</td>\n",
       "      <td>채취</td>\n",
       "      <td>6.398595</td>\n",
       "      <td>평</td>\n",
       "      <td>더덕</td>\n",
       "      <td>9.711176</td>\n",
       "      <td>0.000000</td>\n",
       "    </tr>\n",
       "    <tr>\n",
       "      <th>80240</th>\n",
       "      <td>경상북도</td>\n",
       "      <td>채취</td>\n",
       "      <td>6.908755</td>\n",
       "      <td>평</td>\n",
       "      <td>오미자</td>\n",
       "      <td>9.210440</td>\n",
       "      <td>6.398595</td>\n",
       "    </tr>\n",
       "    <tr>\n",
       "      <th>20132</th>\n",
       "      <td>충청북도</td>\n",
       "      <td>채취</td>\n",
       "      <td>7.601402</td>\n",
       "      <td>평</td>\n",
       "      <td>오미자</td>\n",
       "      <td>9.615872</td>\n",
       "      <td>0.000000</td>\n",
       "    </tr>\n",
       "    <tr>\n",
       "      <th>81597</th>\n",
       "      <td>경상북도</td>\n",
       "      <td>채취</td>\n",
       "      <td>7.090910</td>\n",
       "      <td>평</td>\n",
       "      <td>오미자</td>\n",
       "      <td>9.254453</td>\n",
       "      <td>8.006701</td>\n",
       "    </tr>\n",
       "    <tr>\n",
       "      <th>76056</th>\n",
       "      <td>경상북도</td>\n",
       "      <td>채취</td>\n",
       "      <td>7.601402</td>\n",
       "      <td>평</td>\n",
       "      <td>오미자</td>\n",
       "      <td>9.615872</td>\n",
       "      <td>0.000000</td>\n",
       "    </tr>\n",
       "  </tbody>\n",
       "</table>\n",
       "</div>"
      ],
      "text/plain": [
       "      시도/관리소 재배채취      재배면적 재배단위  소분류        단가       생산량\n",
       "22390   충청북도   채취  6.398595    평   더덕  9.711176  0.000000\n",
       "80240   경상북도   채취  6.908755    평  오미자  9.210440  6.398595\n",
       "20132   충청북도   채취  7.601402    평  오미자  9.615872  0.000000\n",
       "81597   경상북도   채취  7.090910    평  오미자  9.254453  8.006701\n",
       "76056   경상북도   채취  7.601402    평  오미자  9.615872  0.000000"
      ]
     },
     "execution_count": 126,
     "metadata": {},
     "output_type": "execute_result"
    }
   ],
   "source": [
    "test_set = data.sample(30)\n",
    "test_set.head()"
   ]
  },
  {
   "cell_type": "code",
   "execution_count": 127,
   "metadata": {},
   "outputs": [
    {
     "name": "stdout",
     "output_type": "stream",
     "text": [
      "[0.31873219 9.37127204 7.37117464 9.37273627 9.60882412 0.3723972\n",
      " 2.89166686 3.48091964 0.07082809 0.05781607]\n"
     ]
    }
   ],
   "source": [
    "ensemble = EnsembleRegressor(models, weights=optimal_weight)\n",
    "preds = predict(ensemble, test_set)\n",
    "print(preds[:10])"
   ]
  },
  {
   "cell_type": "code",
   "execution_count": 128,
   "metadata": {},
   "outputs": [
    {
     "data": {
      "text/html": [
       "<div>\n",
       "<style scoped>\n",
       "    .dataframe tbody tr th:only-of-type {\n",
       "        vertical-align: middle;\n",
       "    }\n",
       "\n",
       "    .dataframe tbody tr th {\n",
       "        vertical-align: top;\n",
       "    }\n",
       "\n",
       "    .dataframe thead th {\n",
       "        text-align: right;\n",
       "    }\n",
       "</style>\n",
       "<table border=\"1\" class=\"dataframe\">\n",
       "  <thead>\n",
       "    <tr style=\"text-align: right;\">\n",
       "      <th></th>\n",
       "      <th>생산량</th>\n",
       "      <th>예측값</th>\n",
       "    </tr>\n",
       "  </thead>\n",
       "  <tbody>\n",
       "    <tr>\n",
       "      <th>0</th>\n",
       "      <td>0.000000</td>\n",
       "      <td>0.318732</td>\n",
       "    </tr>\n",
       "    <tr>\n",
       "      <th>1</th>\n",
       "      <td>6.398595</td>\n",
       "      <td>9.371272</td>\n",
       "    </tr>\n",
       "    <tr>\n",
       "      <th>2</th>\n",
       "      <td>0.000000</td>\n",
       "      <td>7.371175</td>\n",
       "    </tr>\n",
       "    <tr>\n",
       "      <th>3</th>\n",
       "      <td>8.006701</td>\n",
       "      <td>9.372736</td>\n",
       "    </tr>\n",
       "    <tr>\n",
       "      <th>4</th>\n",
       "      <td>0.000000</td>\n",
       "      <td>9.608824</td>\n",
       "    </tr>\n",
       "    <tr>\n",
       "      <th>5</th>\n",
       "      <td>0.000000</td>\n",
       "      <td>0.372397</td>\n",
       "    </tr>\n",
       "    <tr>\n",
       "      <th>6</th>\n",
       "      <td>4.615121</td>\n",
       "      <td>2.891667</td>\n",
       "    </tr>\n",
       "    <tr>\n",
       "      <th>7</th>\n",
       "      <td>2.397895</td>\n",
       "      <td>3.480920</td>\n",
       "    </tr>\n",
       "    <tr>\n",
       "      <th>8</th>\n",
       "      <td>0.000000</td>\n",
       "      <td>0.070828</td>\n",
       "    </tr>\n",
       "    <tr>\n",
       "      <th>9</th>\n",
       "      <td>0.000000</td>\n",
       "      <td>0.057816</td>\n",
       "    </tr>\n",
       "    <tr>\n",
       "      <th>10</th>\n",
       "      <td>0.000000</td>\n",
       "      <td>0.000000</td>\n",
       "    </tr>\n",
       "    <tr>\n",
       "      <th>11</th>\n",
       "      <td>0.000000</td>\n",
       "      <td>0.186590</td>\n",
       "    </tr>\n",
       "    <tr>\n",
       "      <th>12</th>\n",
       "      <td>0.000000</td>\n",
       "      <td>0.158831</td>\n",
       "    </tr>\n",
       "    <tr>\n",
       "      <th>13</th>\n",
       "      <td>0.000000</td>\n",
       "      <td>0.282650</td>\n",
       "    </tr>\n",
       "    <tr>\n",
       "      <th>14</th>\n",
       "      <td>0.000000</td>\n",
       "      <td>9.374391</td>\n",
       "    </tr>\n",
       "    <tr>\n",
       "      <th>15</th>\n",
       "      <td>4.615121</td>\n",
       "      <td>2.033381</td>\n",
       "    </tr>\n",
       "    <tr>\n",
       "      <th>16</th>\n",
       "      <td>0.000000</td>\n",
       "      <td>0.041754</td>\n",
       "    </tr>\n",
       "    <tr>\n",
       "      <th>17</th>\n",
       "      <td>0.000000</td>\n",
       "      <td>0.053760</td>\n",
       "    </tr>\n",
       "    <tr>\n",
       "      <th>18</th>\n",
       "      <td>4.615121</td>\n",
       "      <td>0.428193</td>\n",
       "    </tr>\n",
       "    <tr>\n",
       "      <th>19</th>\n",
       "      <td>4.394449</td>\n",
       "      <td>0.425039</td>\n",
       "    </tr>\n",
       "    <tr>\n",
       "      <th>20</th>\n",
       "      <td>0.000000</td>\n",
       "      <td>0.000000</td>\n",
       "    </tr>\n",
       "    <tr>\n",
       "      <th>21</th>\n",
       "      <td>0.000000</td>\n",
       "      <td>2.228010</td>\n",
       "    </tr>\n",
       "    <tr>\n",
       "      <th>22</th>\n",
       "      <td>1.791759</td>\n",
       "      <td>2.219916</td>\n",
       "    </tr>\n",
       "    <tr>\n",
       "      <th>23</th>\n",
       "      <td>3.931826</td>\n",
       "      <td>9.465464</td>\n",
       "    </tr>\n",
       "    <tr>\n",
       "      <th>24</th>\n",
       "      <td>4.262680</td>\n",
       "      <td>19.772972</td>\n",
       "    </tr>\n",
       "    <tr>\n",
       "      <th>25</th>\n",
       "      <td>0.000000</td>\n",
       "      <td>0.318726</td>\n",
       "    </tr>\n",
       "    <tr>\n",
       "      <th>26</th>\n",
       "      <td>0.000000</td>\n",
       "      <td>0.544702</td>\n",
       "    </tr>\n",
       "    <tr>\n",
       "      <th>27</th>\n",
       "      <td>0.000000</td>\n",
       "      <td>0.074403</td>\n",
       "    </tr>\n",
       "    <tr>\n",
       "      <th>28</th>\n",
       "      <td>0.000000</td>\n",
       "      <td>0.185782</td>\n",
       "    </tr>\n",
       "    <tr>\n",
       "      <th>29</th>\n",
       "      <td>2.397895</td>\n",
       "      <td>1.631515</td>\n",
       "    </tr>\n",
       "  </tbody>\n",
       "</table>\n",
       "</div>"
      ],
      "text/plain": [
       "         생산량        예측값\n",
       "0   0.000000   0.318732\n",
       "1   6.398595   9.371272\n",
       "2   0.000000   7.371175\n",
       "3   8.006701   9.372736\n",
       "4   0.000000   9.608824\n",
       "5   0.000000   0.372397\n",
       "6   4.615121   2.891667\n",
       "7   2.397895   3.480920\n",
       "8   0.000000   0.070828\n",
       "9   0.000000   0.057816\n",
       "10  0.000000   0.000000\n",
       "11  0.000000   0.186590\n",
       "12  0.000000   0.158831\n",
       "13  0.000000   0.282650\n",
       "14  0.000000   9.374391\n",
       "15  4.615121   2.033381\n",
       "16  0.000000   0.041754\n",
       "17  0.000000   0.053760\n",
       "18  4.615121   0.428193\n",
       "19  4.394449   0.425039\n",
       "20  0.000000   0.000000\n",
       "21  0.000000   2.228010\n",
       "22  1.791759   2.219916\n",
       "23  3.931826   9.465464\n",
       "24  4.262680  19.772972\n",
       "25  0.000000   0.318726\n",
       "26  0.000000   0.544702\n",
       "27  0.000000   0.074403\n",
       "28  0.000000   0.185782\n",
       "29  2.397895   1.631515"
      ]
     },
     "execution_count": 128,
     "metadata": {},
     "output_type": "execute_result"
    }
   ],
   "source": [
    "result = pd.concat([test_set['생산량'].reset_index(drop=True), pd.Series(preds, name='예측값')], axis=1)\n",
    "result"
   ]
  },
  {
   "cell_type": "code",
   "execution_count": 129,
   "metadata": {},
   "outputs": [
    {
     "data": {
      "text/plain": [
       "4.347786811879933"
      ]
     },
     "execution_count": 129,
     "metadata": {},
     "output_type": "execute_result"
    }
   ],
   "source": [
    "np.sqrt(mean_squared_error(np.array(test_set['생산량']), preds))"
   ]
  },
  {
   "cell_type": "code",
   "execution_count": null,
   "metadata": {},
   "outputs": [],
   "source": []
  }
 ],
 "metadata": {
  "kernelspec": {
   "display_name": "Python 3",
   "language": "python",
   "name": "python3"
  },
  "language_info": {
   "codemirror_mode": {
    "name": "ipython",
    "version": 3
   },
   "file_extension": ".py",
   "mimetype": "text/x-python",
   "name": "python",
   "nbconvert_exporter": "python",
   "pygments_lexer": "ipython3",
   "version": "3.7.6"
  }
 },
 "nbformat": 4,
 "nbformat_minor": 4
}
