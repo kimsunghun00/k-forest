{
 "cells": [
  {
   "cell_type": "markdown",
   "metadata": {},
   "source": [
    "# Load Data"
   ]
  },
  {
   "cell_type": "code",
   "execution_count": 39,
   "metadata": {},
   "outputs": [
    {
     "name": "stdout",
     "output_type": "stream",
     "text": [
      "2010 (216, 416)\n",
      "2011 (209, 416)\n",
      "2012 (216, 416)\n",
      "2013 (220, 416)\n",
      "2014 (255, 416)\n",
      "2015 (258, 416)\n",
      "2016 (252, 416)\n",
      "2017 (253, 416)\n",
      "2018 (231, 416)\n",
      "2019 (226, 432)\n"
     ]
    }
   ],
   "source": [
    "import os\n",
    "import pandas as pd\n",
    "import numpy as np\n",
    "\n",
    "def load_data(path):\n",
    "    years = [2010, 2011, 2012, 2013, 2014, 2015, 2016, 2017, 2018, 2019]\n",
    "    use_cols = ['age1',\n",
    "                'yield', 'sale', 'value',\n",
    "                'land', \n",
    "                'cvl00', 'cvl01', 'cvl02', 'cvl03',\n",
    "                'cvl10', 'cvl11', 'cvl12', 'cvl13',\n",
    "                'pl00', 'pl01', 'pl02', 'pl03',\n",
    "                'pl10', 'pl11', 'pl12', 'pl13',\n",
    "                'size', # cat\n",
    "                'cony']\n",
    "    \n",
    "    dataframe_list = []\n",
    "    for year in years[:7]:\n",
    "        file_path1 = os.path.join(path, str(year)+'년', str(year)+'년 임산물생산비조사_통합 데이터_1. 밤(엑셀1).xlsx')\n",
    "        file_path2 = os.path.join(path, str(year)+'년', str(year)+'년 임산물생산비조사_통합 데이터_1. 밤(엑셀2).xlsx')\n",
    "        \n",
    "        forest_data1 = pd.read_excel(file_path1)\n",
    "        forest_data2 = pd.read_excel(file_path2)\n",
    "        forest_data = pd.concat([forest_data1, forest_data2], axis=1)\n",
    "        dataframe_list.append(forest_data.loc[:,use_cols])\n",
    "        print(year, forest_data.shape)\n",
    "    \n",
    "    for year in years[7:9]:\n",
    "        file_path1 = os.path.join(path, str(year)+'년', str(year)+'년 임산물생산비조사_통합 데이터_1. 밤(엑셀 1).xls')\n",
    "        file_path2 = os.path.join(path, str(year)+'년', str(year)+'년 임산물생산비조사_통합 데이터_1. 밤(엑셀 2).xls')\n",
    "        \n",
    "        forest_data1 = pd.read_excel(file_path1)\n",
    "        forest_data2 = pd.read_excel(file_path2)\n",
    "        forest_data = pd.concat([forest_data1, forest_data2], axis=1)\n",
    "        dataframe_list.append(forest_data.loc[:,use_cols])\n",
    "        print(year, forest_data.shape)\n",
    "    \n",
    "    \n",
    "    file_path = os.path.join(path, str(years[9])+'년', str(years[9])+'년 임산물생산비조사_통합 데이터_1. 밤.xlsx')\n",
    "    forest_2019 = pd.read_excel(file_path)\n",
    "    dataframe_list.append(forest_data.loc[:,use_cols])\n",
    "    print(2019, forest_2019.shape)\n",
    "    \n",
    "    data = pd.concat(dataframe_list, axis=0)\n",
    "    \n",
    "    return data\n",
    "    \n",
    "data = load_data('./임산물생산비조사 마이크로데이터(2010-2019)')"
   ]
  },
  {
   "cell_type": "code",
   "execution_count": 40,
   "metadata": {},
   "outputs": [
    {
     "data": {
      "text/html": [
       "<div>\n",
       "<style scoped>\n",
       "    .dataframe tbody tr th:only-of-type {\n",
       "        vertical-align: middle;\n",
       "    }\n",
       "\n",
       "    .dataframe tbody tr th {\n",
       "        vertical-align: top;\n",
       "    }\n",
       "\n",
       "    .dataframe thead th {\n",
       "        text-align: right;\n",
       "    }\n",
       "</style>\n",
       "<table border=\"1\" class=\"dataframe\">\n",
       "  <thead>\n",
       "    <tr style=\"text-align: right;\">\n",
       "      <th></th>\n",
       "      <th>age1</th>\n",
       "      <th>yield</th>\n",
       "      <th>sale</th>\n",
       "      <th>value</th>\n",
       "      <th>land</th>\n",
       "      <th>cvl00</th>\n",
       "      <th>cvl01</th>\n",
       "      <th>cvl02</th>\n",
       "      <th>cvl03</th>\n",
       "      <th>cvl10</th>\n",
       "      <th>...</th>\n",
       "      <th>pl00</th>\n",
       "      <th>pl01</th>\n",
       "      <th>pl02</th>\n",
       "      <th>pl03</th>\n",
       "      <th>pl10</th>\n",
       "      <th>pl11</th>\n",
       "      <th>pl12</th>\n",
       "      <th>pl13</th>\n",
       "      <th>size</th>\n",
       "      <th>cony</th>\n",
       "    </tr>\n",
       "  </thead>\n",
       "  <tbody>\n",
       "    <tr>\n",
       "      <th>0</th>\n",
       "      <td>70</td>\n",
       "      <td>10734.0</td>\n",
       "      <td>10539.0</td>\n",
       "      <td>14604100.0</td>\n",
       "      <td>320704.4848</td>\n",
       "      <td>19.54</td>\n",
       "      <td>0.0</td>\n",
       "      <td>0.0</td>\n",
       "      <td>19.54</td>\n",
       "      <td>19.54</td>\n",
       "      <td>...</td>\n",
       "      <td>16.35</td>\n",
       "      <td>0.0</td>\n",
       "      <td>0.0</td>\n",
       "      <td>16.35</td>\n",
       "      <td>16.35</td>\n",
       "      <td>0.0</td>\n",
       "      <td>0.0</td>\n",
       "      <td>16.35</td>\n",
       "      <td>4</td>\n",
       "      <td>656.513761</td>\n",
       "    </tr>\n",
       "    <tr>\n",
       "      <th>1</th>\n",
       "      <td>67</td>\n",
       "      <td>1495.0</td>\n",
       "      <td>1360.0</td>\n",
       "      <td>1857300.0</td>\n",
       "      <td>320704.4848</td>\n",
       "      <td>8.30</td>\n",
       "      <td>0.0</td>\n",
       "      <td>0.0</td>\n",
       "      <td>8.30</td>\n",
       "      <td>1.50</td>\n",
       "      <td>...</td>\n",
       "      <td>1.53</td>\n",
       "      <td>0.0</td>\n",
       "      <td>0.0</td>\n",
       "      <td>1.53</td>\n",
       "      <td>0.20</td>\n",
       "      <td>0.0</td>\n",
       "      <td>0.0</td>\n",
       "      <td>0.20</td>\n",
       "      <td>1</td>\n",
       "      <td>977.124183</td>\n",
       "    </tr>\n",
       "    <tr>\n",
       "      <th>2</th>\n",
       "      <td>65</td>\n",
       "      <td>1323.0</td>\n",
       "      <td>1223.0</td>\n",
       "      <td>1403200.0</td>\n",
       "      <td>320704.4848</td>\n",
       "      <td>1.05</td>\n",
       "      <td>0.0</td>\n",
       "      <td>0.0</td>\n",
       "      <td>1.05</td>\n",
       "      <td>1.05</td>\n",
       "      <td>...</td>\n",
       "      <td>1.05</td>\n",
       "      <td>0.0</td>\n",
       "      <td>0.0</td>\n",
       "      <td>1.05</td>\n",
       "      <td>1.05</td>\n",
       "      <td>0.0</td>\n",
       "      <td>0.0</td>\n",
       "      <td>1.05</td>\n",
       "      <td>1</td>\n",
       "      <td>1260.000000</td>\n",
       "    </tr>\n",
       "    <tr>\n",
       "      <th>3</th>\n",
       "      <td>67</td>\n",
       "      <td>4691.0</td>\n",
       "      <td>4571.0</td>\n",
       "      <td>6692850.0</td>\n",
       "      <td>320704.4848</td>\n",
       "      <td>4.36</td>\n",
       "      <td>0.0</td>\n",
       "      <td>0.0</td>\n",
       "      <td>4.36</td>\n",
       "      <td>0.40</td>\n",
       "      <td>...</td>\n",
       "      <td>4.36</td>\n",
       "      <td>0.0</td>\n",
       "      <td>0.0</td>\n",
       "      <td>4.36</td>\n",
       "      <td>0.40</td>\n",
       "      <td>0.0</td>\n",
       "      <td>0.0</td>\n",
       "      <td>0.40</td>\n",
       "      <td>3</td>\n",
       "      <td>1075.917431</td>\n",
       "    </tr>\n",
       "    <tr>\n",
       "      <th>4</th>\n",
       "      <td>69</td>\n",
       "      <td>2590.0</td>\n",
       "      <td>2370.0</td>\n",
       "      <td>4939720.0</td>\n",
       "      <td>320704.4848</td>\n",
       "      <td>1.16</td>\n",
       "      <td>0.0</td>\n",
       "      <td>0.0</td>\n",
       "      <td>1.16</td>\n",
       "      <td>1.16</td>\n",
       "      <td>...</td>\n",
       "      <td>1.16</td>\n",
       "      <td>0.0</td>\n",
       "      <td>0.0</td>\n",
       "      <td>1.16</td>\n",
       "      <td>1.16</td>\n",
       "      <td>0.0</td>\n",
       "      <td>0.0</td>\n",
       "      <td>1.16</td>\n",
       "      <td>1</td>\n",
       "      <td>2232.758621</td>\n",
       "    </tr>\n",
       "    <tr>\n",
       "      <th>...</th>\n",
       "      <td>...</td>\n",
       "      <td>...</td>\n",
       "      <td>...</td>\n",
       "      <td>...</td>\n",
       "      <td>...</td>\n",
       "      <td>...</td>\n",
       "      <td>...</td>\n",
       "      <td>...</td>\n",
       "      <td>...</td>\n",
       "      <td>...</td>\n",
       "      <td>...</td>\n",
       "      <td>...</td>\n",
       "      <td>...</td>\n",
       "      <td>...</td>\n",
       "      <td>...</td>\n",
       "      <td>...</td>\n",
       "      <td>...</td>\n",
       "      <td>...</td>\n",
       "      <td>...</td>\n",
       "      <td>...</td>\n",
       "      <td>...</td>\n",
       "    </tr>\n",
       "    <tr>\n",
       "      <th>226</th>\n",
       "      <td>59</td>\n",
       "      <td>6901.0</td>\n",
       "      <td>46.0</td>\n",
       "      <td>25175270.0</td>\n",
       "      <td>243869.0000</td>\n",
       "      <td>2.50</td>\n",
       "      <td>0.0</td>\n",
       "      <td>0.0</td>\n",
       "      <td>2.50</td>\n",
       "      <td>0.00</td>\n",
       "      <td>...</td>\n",
       "      <td>2.50</td>\n",
       "      <td>0.0</td>\n",
       "      <td>0.0</td>\n",
       "      <td>2.50</td>\n",
       "      <td>0.00</td>\n",
       "      <td>0.0</td>\n",
       "      <td>0.0</td>\n",
       "      <td>0.00</td>\n",
       "      <td>2</td>\n",
       "      <td>2760.400000</td>\n",
       "    </tr>\n",
       "    <tr>\n",
       "      <th>227</th>\n",
       "      <td>60</td>\n",
       "      <td>10063.0</td>\n",
       "      <td>8050.0</td>\n",
       "      <td>29776110.0</td>\n",
       "      <td>243869.0000</td>\n",
       "      <td>4.00</td>\n",
       "      <td>0.0</td>\n",
       "      <td>0.0</td>\n",
       "      <td>4.00</td>\n",
       "      <td>0.00</td>\n",
       "      <td>...</td>\n",
       "      <td>4.00</td>\n",
       "      <td>0.0</td>\n",
       "      <td>0.0</td>\n",
       "      <td>4.00</td>\n",
       "      <td>0.00</td>\n",
       "      <td>0.0</td>\n",
       "      <td>0.0</td>\n",
       "      <td>0.00</td>\n",
       "      <td>3</td>\n",
       "      <td>2515.750000</td>\n",
       "    </tr>\n",
       "    <tr>\n",
       "      <th>228</th>\n",
       "      <td>56</td>\n",
       "      <td>11040.0</td>\n",
       "      <td>4922.0</td>\n",
       "      <td>22261470.0</td>\n",
       "      <td>243869.0000</td>\n",
       "      <td>6.00</td>\n",
       "      <td>0.0</td>\n",
       "      <td>0.0</td>\n",
       "      <td>6.00</td>\n",
       "      <td>0.00</td>\n",
       "      <td>...</td>\n",
       "      <td>6.00</td>\n",
       "      <td>0.0</td>\n",
       "      <td>0.0</td>\n",
       "      <td>6.00</td>\n",
       "      <td>0.00</td>\n",
       "      <td>0.0</td>\n",
       "      <td>0.0</td>\n",
       "      <td>0.00</td>\n",
       "      <td>4</td>\n",
       "      <td>1840.000000</td>\n",
       "    </tr>\n",
       "    <tr>\n",
       "      <th>229</th>\n",
       "      <td>65</td>\n",
       "      <td>34500.0</td>\n",
       "      <td>22184.0</td>\n",
       "      <td>202270740.0</td>\n",
       "      <td>243869.0000</td>\n",
       "      <td>12.00</td>\n",
       "      <td>0.0</td>\n",
       "      <td>0.0</td>\n",
       "      <td>12.00</td>\n",
       "      <td>12.00</td>\n",
       "      <td>...</td>\n",
       "      <td>12.00</td>\n",
       "      <td>0.0</td>\n",
       "      <td>0.0</td>\n",
       "      <td>12.00</td>\n",
       "      <td>12.00</td>\n",
       "      <td>0.0</td>\n",
       "      <td>0.0</td>\n",
       "      <td>12.00</td>\n",
       "      <td>4</td>\n",
       "      <td>2875.000000</td>\n",
       "    </tr>\n",
       "    <tr>\n",
       "      <th>230</th>\n",
       "      <td>66</td>\n",
       "      <td>10925.0</td>\n",
       "      <td>11455.0</td>\n",
       "      <td>23813188.0</td>\n",
       "      <td>243869.0000</td>\n",
       "      <td>4.00</td>\n",
       "      <td>0.0</td>\n",
       "      <td>0.0</td>\n",
       "      <td>4.00</td>\n",
       "      <td>4.00</td>\n",
       "      <td>...</td>\n",
       "      <td>4.00</td>\n",
       "      <td>0.0</td>\n",
       "      <td>0.0</td>\n",
       "      <td>4.00</td>\n",
       "      <td>4.00</td>\n",
       "      <td>0.0</td>\n",
       "      <td>0.0</td>\n",
       "      <td>4.00</td>\n",
       "      <td>3</td>\n",
       "      <td>2731.250000</td>\n",
       "    </tr>\n",
       "  </tbody>\n",
       "</table>\n",
       "<p>2341 rows × 23 columns</p>\n",
       "</div>"
      ],
      "text/plain": [
       "     age1    yield     sale        value         land  cvl00  cvl01  cvl02  \\\n",
       "0      70  10734.0  10539.0   14604100.0  320704.4848  19.54    0.0    0.0   \n",
       "1      67   1495.0   1360.0    1857300.0  320704.4848   8.30    0.0    0.0   \n",
       "2      65   1323.0   1223.0    1403200.0  320704.4848   1.05    0.0    0.0   \n",
       "3      67   4691.0   4571.0    6692850.0  320704.4848   4.36    0.0    0.0   \n",
       "4      69   2590.0   2370.0    4939720.0  320704.4848   1.16    0.0    0.0   \n",
       "..    ...      ...      ...          ...          ...    ...    ...    ...   \n",
       "226    59   6901.0     46.0   25175270.0  243869.0000   2.50    0.0    0.0   \n",
       "227    60  10063.0   8050.0   29776110.0  243869.0000   4.00    0.0    0.0   \n",
       "228    56  11040.0   4922.0   22261470.0  243869.0000   6.00    0.0    0.0   \n",
       "229    65  34500.0  22184.0  202270740.0  243869.0000  12.00    0.0    0.0   \n",
       "230    66  10925.0  11455.0   23813188.0  243869.0000   4.00    0.0    0.0   \n",
       "\n",
       "     cvl03  cvl10  ...   pl00  pl01  pl02   pl03   pl10  pl11  pl12   pl13  \\\n",
       "0    19.54  19.54  ...  16.35   0.0   0.0  16.35  16.35   0.0   0.0  16.35   \n",
       "1     8.30   1.50  ...   1.53   0.0   0.0   1.53   0.20   0.0   0.0   0.20   \n",
       "2     1.05   1.05  ...   1.05   0.0   0.0   1.05   1.05   0.0   0.0   1.05   \n",
       "3     4.36   0.40  ...   4.36   0.0   0.0   4.36   0.40   0.0   0.0   0.40   \n",
       "4     1.16   1.16  ...   1.16   0.0   0.0   1.16   1.16   0.0   0.0   1.16   \n",
       "..     ...    ...  ...    ...   ...   ...    ...    ...   ...   ...    ...   \n",
       "226   2.50   0.00  ...   2.50   0.0   0.0   2.50   0.00   0.0   0.0   0.00   \n",
       "227   4.00   0.00  ...   4.00   0.0   0.0   4.00   0.00   0.0   0.0   0.00   \n",
       "228   6.00   0.00  ...   6.00   0.0   0.0   6.00   0.00   0.0   0.0   0.00   \n",
       "229  12.00  12.00  ...  12.00   0.0   0.0  12.00  12.00   0.0   0.0  12.00   \n",
       "230   4.00   4.00  ...   4.00   0.0   0.0   4.00   4.00   0.0   0.0   4.00   \n",
       "\n",
       "     size         cony  \n",
       "0       4   656.513761  \n",
       "1       1   977.124183  \n",
       "2       1  1260.000000  \n",
       "3       3  1075.917431  \n",
       "4       1  2232.758621  \n",
       "..    ...          ...  \n",
       "226     2  2760.400000  \n",
       "227     3  2515.750000  \n",
       "228     4  1840.000000  \n",
       "229     4  2875.000000  \n",
       "230     3  2731.250000  \n",
       "\n",
       "[2341 rows x 23 columns]"
      ]
     },
     "execution_count": 40,
     "metadata": {},
     "output_type": "execute_result"
    }
   ],
   "source": [
    "data"
   ]
  },
  {
   "cell_type": "code",
   "execution_count": 41,
   "metadata": {},
   "outputs": [
    {
     "name": "stdout",
     "output_type": "stream",
     "text": [
      "1    854\n",
      "2    537\n",
      "3    534\n",
      "4    416\n",
      "Name: size, dtype: int64\n",
      "\n"
     ]
    }
   ],
   "source": [
    "for column in data.columns:\n",
    "    if len(data[column].value_counts()) <= 15:\n",
    "        print(data[column].value_counts())\n",
    "        print()"
   ]
  },
  {
   "cell_type": "code",
   "execution_count": 42,
   "metadata": {
    "scrolled": true
   },
   "outputs": [
    {
     "data": {
      "image/png": "[encoded data removed]",
      "text/plain": [
       "<Figure size 432x288 with 1 Axes>"
      ]
     },
     "metadata": {
      "needs_background": "light"
     },
     "output_type": "display_data"
    },
    {
     "data": {
      "image/png": "[encoded data removed]",
      "text/plain": [
       "<Figure size 432x288 with 1 Axes>"
      ]
     },
     "metadata": {
      "needs_background": "light"
     },
     "output_type": "display_data"
    },
    {
     "data": {
      "image/png": "[encoded data removed]",
      "text/plain": [
       "<Figure size 432x288 with 1 Axes>"
      ]
     },
     "metadata": {
      "needs_background": "light"
     },
     "output_type": "display_data"
    },
    {
     "data": {
      "image/png": "[encoded data removed]",
      "text/plain": [
       "<Figure size 432x288 with 1 Axes>"
      ]
     },
     "metadata": {
      "needs_background": "light"
     },
     "output_type": "display_data"
    },
    {
     "data": {
      "image/png": "[encoded data removed]",
      "text/plain": [
       "<Figure size 432x288 with 1 Axes>"
      ]
     },
     "metadata": {
      "needs_background": "light"
     },
     "output_type": "display_data"
    },
    {
     "data": {
      "image/png": "[encoded data removed]",
      "text/plain": [
       "<Figure size 432x288 with 1 Axes>"
      ]
     },
     "metadata": {
      "needs_background": "light"
     },
     "output_type": "display_data"
    },
    {
     "data": {
      "image/png": "[encoded data removed]",
      "text/plain": [
       "<Figure size 432x288 with 1 Axes>"
      ]
     },
     "metadata": {
      "needs_background": "light"
     },
     "output_type": "display_data"
    },
    {
     "data": {
      "image/png": "[encoded data removed]",
      "text/plain": [
       "<Figure size 432x288 with 1 Axes>"
      ]
     },
     "metadata": {
      "needs_background": "light"
     },
     "output_type": "display_data"
    },
    {
     "data": {
      "image/png": "[encoded data removed]",
      "text/plain": [
       "<Figure size 432x288 with 1 Axes>"
      ]
     },
     "metadata": {
      "needs_background": "light"
     },
     "output_type": "display_data"
    },
    {
     "data": {
      "image/png": "[encoded data removed]",
      "text/plain": [
       "<Figure size 432x288 with 1 Axes>"
      ]
     },
     "metadata": {
      "needs_background": "light"
     },
     "output_type": "display_data"
    },
    {
     "data": {
      "image/png": "[encoded data removed]",
      "text/plain": [
       "<Figure size 432x288 with 1 Axes>"
      ]
     },
     "metadata": {
      "needs_background": "light"
     },
     "output_type": "display_data"
    },
    {
     "data": {
      "image/png": "[encoded data removed]",
      "text/plain": [
       "<Figure size 432x288 with 1 Axes>"
      ]
     },
     "metadata": {
      "needs_background": "light"
     },
     "output_type": "display_data"
    },
    {
     "data": {
      "image/png": "[encoded data removed]",
      "text/plain": [
       "<Figure size 432x288 with 1 Axes>"
      ]
     },
     "metadata": {
      "needs_background": "light"
     },
     "output_type": "display_data"
    },
    {
     "data": {
      "image/png": "[encoded data removed]",
      "text/plain": [
       "<Figure size 432x288 with 1 Axes>"
      ]
     },
     "metadata": {
      "needs_background": "light"
     },
     "output_type": "display_data"
    },
    {
     "data": {
      "image/png": "[encoded data removed]",
      "text/plain": [
       "<Figure size 432x288 with 1 Axes>"
      ]
     },
     "metadata": {
      "needs_background": "light"
     },
     "output_type": "display_data"
    },
    {
     "data": {
      "image/png": "[encoded data removed]",
      "text/plain": [
       "<Figure size 432x288 with 1 Axes>"
      ]
     },
     "metadata": {
      "needs_background": "light"
     },
     "output_type": "display_data"
    },
    {
     "data": {
      "image/png": "[encoded data removed]",
      "text/plain": [
       "<Figure size 432x288 with 1 Axes>"
      ]
     },
     "metadata": {
      "needs_background": "light"
     },
     "output_type": "display_data"
    },
    {
     "data": {
      "image/png": "[encoded data removed]",
      "text/plain": [
       "<Figure size 432x288 with 1 Axes>"
      ]
     },
     "metadata": {
      "needs_background": "light"
     },
     "output_type": "display_data"
    },
    {
     "data": {
      "image/png": "[encoded data removed]",
      "text/plain": [
       "<Figure size 432x288 with 1 Axes>"
      ]
     },
     "metadata": {
      "needs_background": "light"
     },
     "output_type": "display_data"
    },
    {
     "data": {
      "image/png": "[encoded data removed]",
      "text/plain": [
       "<Figure size 432x288 with 1 Axes>"
      ]
     },
     "metadata": {
      "needs_background": "light"
     },
     "output_type": "display_data"
    },
    {
     "data": {
      "image/png": "[encoded data removed]",
      "text/plain": [
       "<Figure size 432x288 with 1 Axes>"
      ]
     },
     "metadata": {
      "needs_background": "light"
     },
     "output_type": "display_data"
    },
    {
     "data": {
      "image/png": "[encoded data removed]",
      "text/plain": [
       "<Figure size 432x288 with 1 Axes>"
      ]
     },
     "metadata": {
      "needs_background": "light"
     },
     "output_type": "display_data"
    },
    {
     "data": {
      "image/png": "[encoded data removed]",
      "text/plain": [
       "<Figure size 432x288 with 1 Axes>"
      ]
     },
     "metadata": {
      "needs_background": "light"
     },
     "output_type": "display_data"
    }
   ],
   "source": [
    "import matplotlib.pyplot as plt\n",
    "%matplotlib inline\n",
    "\n",
    "for column in data.columns:\n",
    "    data[column].hist()\n",
    "    plt.title(column)\n",
    "    plt.show()"
   ]
  },
  {
   "cell_type": "markdown",
   "metadata": {},
   "source": [
    "## Log Transform"
   ]
  },
  {
   "cell_type": "code",
   "execution_count": 43,
   "metadata": {},
   "outputs": [],
   "source": [
    "y_data = np.log1p(data['cony'])"
   ]
  },
  {
   "cell_type": "markdown",
   "metadata": {},
   "source": [
    "## Categorical Variable processing"
   ]
  },
  {
   "cell_type": "code",
   "execution_count": 44,
   "metadata": {},
   "outputs": [
    {
     "name": "stdout",
     "output_type": "stream",
     "text": [
      "[array([1, 2, 3, 4])]\n",
      "(2341, 4)\n"
     ]
    }
   ],
   "source": [
    "from sklearn.preprocessing import OneHotEncoder\n",
    "\n",
    "categorical_variables = ['size']\n",
    "onehot_encoder = OneHotEncoder(handle_unknown='ignore')\n",
    "onehot_encoder.fit(data.loc[:, categorical_variables])\n",
    "onehot = onehot_encoder.fit_transform(data.loc[:, categorical_variables])\n",
    "print(onehot_encoder.categories_)\n",
    "print(onehot.toarray().shape)"
   ]
  },
  {
   "cell_type": "markdown",
   "metadata": {},
   "source": [
    "## Numerical Variable processing"
   ]
  },
  {
   "cell_type": "code",
   "execution_count": 45,
   "metadata": {},
   "outputs": [
    {
     "data": {
      "text/plain": [
       "array([[0.64814815, 0.15429508, 0.15255341, ..., 0.        , 0.        ,\n",
       "        0.8175    ],\n",
       "       [0.59259259, 0.02148977, 0.01968618, ..., 0.        , 0.        ,\n",
       "        0.01      ],\n",
       "       [0.55555556, 0.01901736, 0.01770309, ..., 0.        , 0.        ,\n",
       "        0.0525    ],\n",
       "       ...,\n",
       "       [0.38888889, 0.15869365, 0.0712466 , ..., 0.        , 0.        ,\n",
       "        0.        ],\n",
       "       [0.55555556, 0.49591766, 0.32111632, ..., 0.        , 0.        ,\n",
       "        0.6       ],\n",
       "       [0.57407407, 0.15704059, 0.16581263, ..., 0.        , 0.        ,\n",
       "        0.2       ]])"
      ]
     },
     "execution_count": 45,
     "metadata": {},
     "output_type": "execute_result"
    }
   ],
   "source": [
    "from sklearn.preprocessing import MinMaxScaler\n",
    "\n",
    "numerical_variables = ['age1',\n",
    "                'yield', 'sale', 'value',\n",
    "                'land', \n",
    "                'cvl00', 'cvl01', 'cvl02', 'cvl03',\n",
    "                'cvl10', 'cvl11', 'cvl12', 'cvl13',\n",
    "                'pl00', 'pl01', 'pl02', 'pl03',\n",
    "                'pl10', 'pl11', 'pl12', 'pl13']\n",
    "X_minmax_scaler = MinMaxScaler()\n",
    "X_minmax_scaler.fit(data.loc[:, numerical_variables])\n",
    "X_scaled = X_minmax_scaler.transform(data.loc[:, numerical_variables])\n",
    "X_scaled"
   ]
  },
  {
   "cell_type": "code",
   "execution_count": 46,
   "metadata": {},
   "outputs": [
    {
     "data": {
      "text/html": [
       "<div>\n",
       "<style scoped>\n",
       "    .dataframe tbody tr th:only-of-type {\n",
       "        vertical-align: middle;\n",
       "    }\n",
       "\n",
       "    .dataframe tbody tr th {\n",
       "        vertical-align: top;\n",
       "    }\n",
       "\n",
       "    .dataframe thead th {\n",
       "        text-align: right;\n",
       "    }\n",
       "</style>\n",
       "<table border=\"1\" class=\"dataframe\">\n",
       "  <thead>\n",
       "    <tr style=\"text-align: right;\">\n",
       "      <th></th>\n",
       "      <th>age1</th>\n",
       "      <th>yield</th>\n",
       "      <th>sale</th>\n",
       "      <th>value</th>\n",
       "      <th>land</th>\n",
       "      <th>cvl00</th>\n",
       "      <th>cvl01</th>\n",
       "      <th>cvl02</th>\n",
       "      <th>cvl03</th>\n",
       "      <th>cvl10</th>\n",
       "      <th>...</th>\n",
       "      <th>pl02</th>\n",
       "      <th>pl03</th>\n",
       "      <th>pl10</th>\n",
       "      <th>pl11</th>\n",
       "      <th>pl12</th>\n",
       "      <th>pl13</th>\n",
       "      <th>0</th>\n",
       "      <th>1</th>\n",
       "      <th>2</th>\n",
       "      <th>3</th>\n",
       "    </tr>\n",
       "  </thead>\n",
       "  <tbody>\n",
       "    <tr>\n",
       "      <th>0</th>\n",
       "      <td>0.648148</td>\n",
       "      <td>0.154295</td>\n",
       "      <td>0.152553</td>\n",
       "      <td>0.058183</td>\n",
       "      <td>0.832995</td>\n",
       "      <td>0.120390</td>\n",
       "      <td>0.0</td>\n",
       "      <td>0.0</td>\n",
       "      <td>0.126065</td>\n",
       "      <td>0.126065</td>\n",
       "      <td>...</td>\n",
       "      <td>0.0</td>\n",
       "      <td>0.8175</td>\n",
       "      <td>0.8175</td>\n",
       "      <td>0.0</td>\n",
       "      <td>0.0</td>\n",
       "      <td>0.8175</td>\n",
       "      <td>0.0</td>\n",
       "      <td>0.0</td>\n",
       "      <td>0.0</td>\n",
       "      <td>1.0</td>\n",
       "    </tr>\n",
       "    <tr>\n",
       "      <th>1</th>\n",
       "      <td>0.592593</td>\n",
       "      <td>0.021490</td>\n",
       "      <td>0.019686</td>\n",
       "      <td>0.007400</td>\n",
       "      <td>0.832995</td>\n",
       "      <td>0.047403</td>\n",
       "      <td>0.0</td>\n",
       "      <td>0.0</td>\n",
       "      <td>0.053548</td>\n",
       "      <td>0.009677</td>\n",
       "      <td>...</td>\n",
       "      <td>0.0</td>\n",
       "      <td>0.0765</td>\n",
       "      <td>0.0100</td>\n",
       "      <td>0.0</td>\n",
       "      <td>0.0</td>\n",
       "      <td>0.0100</td>\n",
       "      <td>1.0</td>\n",
       "      <td>0.0</td>\n",
       "      <td>0.0</td>\n",
       "      <td>0.0</td>\n",
       "    </tr>\n",
       "    <tr>\n",
       "      <th>2</th>\n",
       "      <td>0.555556</td>\n",
       "      <td>0.019017</td>\n",
       "      <td>0.017703</td>\n",
       "      <td>0.005590</td>\n",
       "      <td>0.832995</td>\n",
       "      <td>0.000325</td>\n",
       "      <td>0.0</td>\n",
       "      <td>0.0</td>\n",
       "      <td>0.006774</td>\n",
       "      <td>0.006774</td>\n",
       "      <td>...</td>\n",
       "      <td>0.0</td>\n",
       "      <td>0.0525</td>\n",
       "      <td>0.0525</td>\n",
       "      <td>0.0</td>\n",
       "      <td>0.0</td>\n",
       "      <td>0.0525</td>\n",
       "      <td>1.0</td>\n",
       "      <td>0.0</td>\n",
       "      <td>0.0</td>\n",
       "      <td>0.0</td>\n",
       "    </tr>\n",
       "    <tr>\n",
       "      <th>3</th>\n",
       "      <td>0.592593</td>\n",
       "      <td>0.067430</td>\n",
       "      <td>0.066166</td>\n",
       "      <td>0.026664</td>\n",
       "      <td>0.832995</td>\n",
       "      <td>0.021818</td>\n",
       "      <td>0.0</td>\n",
       "      <td>0.0</td>\n",
       "      <td>0.028129</td>\n",
       "      <td>0.002581</td>\n",
       "      <td>...</td>\n",
       "      <td>0.0</td>\n",
       "      <td>0.2180</td>\n",
       "      <td>0.0200</td>\n",
       "      <td>0.0</td>\n",
       "      <td>0.0</td>\n",
       "      <td>0.0200</td>\n",
       "      <td>0.0</td>\n",
       "      <td>0.0</td>\n",
       "      <td>1.0</td>\n",
       "      <td>0.0</td>\n",
       "    </tr>\n",
       "    <tr>\n",
       "      <th>4</th>\n",
       "      <td>0.629630</td>\n",
       "      <td>0.037230</td>\n",
       "      <td>0.034306</td>\n",
       "      <td>0.019680</td>\n",
       "      <td>0.832995</td>\n",
       "      <td>0.001039</td>\n",
       "      <td>0.0</td>\n",
       "      <td>0.0</td>\n",
       "      <td>0.007484</td>\n",
       "      <td>0.007484</td>\n",
       "      <td>...</td>\n",
       "      <td>0.0</td>\n",
       "      <td>0.0580</td>\n",
       "      <td>0.0580</td>\n",
       "      <td>0.0</td>\n",
       "      <td>0.0</td>\n",
       "      <td>0.0580</td>\n",
       "      <td>1.0</td>\n",
       "      <td>0.0</td>\n",
       "      <td>0.0</td>\n",
       "      <td>0.0</td>\n",
       "    </tr>\n",
       "    <tr>\n",
       "      <th>...</th>\n",
       "      <td>...</td>\n",
       "      <td>...</td>\n",
       "      <td>...</td>\n",
       "      <td>...</td>\n",
       "      <td>...</td>\n",
       "      <td>...</td>\n",
       "      <td>...</td>\n",
       "      <td>...</td>\n",
       "      <td>...</td>\n",
       "      <td>...</td>\n",
       "      <td>...</td>\n",
       "      <td>...</td>\n",
       "      <td>...</td>\n",
       "      <td>...</td>\n",
       "      <td>...</td>\n",
       "      <td>...</td>\n",
       "      <td>...</td>\n",
       "      <td>...</td>\n",
       "      <td>...</td>\n",
       "      <td>...</td>\n",
       "      <td>...</td>\n",
       "    </tr>\n",
       "    <tr>\n",
       "      <th>2336</th>\n",
       "      <td>0.444444</td>\n",
       "      <td>0.099198</td>\n",
       "      <td>0.000666</td>\n",
       "      <td>0.100299</td>\n",
       "      <td>0.141636</td>\n",
       "      <td>0.009740</td>\n",
       "      <td>0.0</td>\n",
       "      <td>0.0</td>\n",
       "      <td>0.016129</td>\n",
       "      <td>0.000000</td>\n",
       "      <td>...</td>\n",
       "      <td>0.0</td>\n",
       "      <td>0.1250</td>\n",
       "      <td>0.0000</td>\n",
       "      <td>0.0</td>\n",
       "      <td>0.0</td>\n",
       "      <td>0.0000</td>\n",
       "      <td>0.0</td>\n",
       "      <td>1.0</td>\n",
       "      <td>0.0</td>\n",
       "      <td>0.0</td>\n",
       "    </tr>\n",
       "    <tr>\n",
       "      <th>2337</th>\n",
       "      <td>0.462963</td>\n",
       "      <td>0.144650</td>\n",
       "      <td>0.116525</td>\n",
       "      <td>0.118629</td>\n",
       "      <td>0.141636</td>\n",
       "      <td>0.019481</td>\n",
       "      <td>0.0</td>\n",
       "      <td>0.0</td>\n",
       "      <td>0.025806</td>\n",
       "      <td>0.000000</td>\n",
       "      <td>...</td>\n",
       "      <td>0.0</td>\n",
       "      <td>0.2000</td>\n",
       "      <td>0.0000</td>\n",
       "      <td>0.0</td>\n",
       "      <td>0.0</td>\n",
       "      <td>0.0000</td>\n",
       "      <td>0.0</td>\n",
       "      <td>0.0</td>\n",
       "      <td>1.0</td>\n",
       "      <td>0.0</td>\n",
       "    </tr>\n",
       "    <tr>\n",
       "      <th>2338</th>\n",
       "      <td>0.388889</td>\n",
       "      <td>0.158694</td>\n",
       "      <td>0.071247</td>\n",
       "      <td>0.088690</td>\n",
       "      <td>0.141636</td>\n",
       "      <td>0.032468</td>\n",
       "      <td>0.0</td>\n",
       "      <td>0.0</td>\n",
       "      <td>0.038710</td>\n",
       "      <td>0.000000</td>\n",
       "      <td>...</td>\n",
       "      <td>0.0</td>\n",
       "      <td>0.3000</td>\n",
       "      <td>0.0000</td>\n",
       "      <td>0.0</td>\n",
       "      <td>0.0</td>\n",
       "      <td>0.0000</td>\n",
       "      <td>0.0</td>\n",
       "      <td>0.0</td>\n",
       "      <td>0.0</td>\n",
       "      <td>1.0</td>\n",
       "    </tr>\n",
       "    <tr>\n",
       "      <th>2339</th>\n",
       "      <td>0.555556</td>\n",
       "      <td>0.495918</td>\n",
       "      <td>0.321116</td>\n",
       "      <td>0.805852</td>\n",
       "      <td>0.141636</td>\n",
       "      <td>0.071429</td>\n",
       "      <td>0.0</td>\n",
       "      <td>0.0</td>\n",
       "      <td>0.077419</td>\n",
       "      <td>0.077419</td>\n",
       "      <td>...</td>\n",
       "      <td>0.0</td>\n",
       "      <td>0.6000</td>\n",
       "      <td>0.6000</td>\n",
       "      <td>0.0</td>\n",
       "      <td>0.0</td>\n",
       "      <td>0.6000</td>\n",
       "      <td>0.0</td>\n",
       "      <td>0.0</td>\n",
       "      <td>0.0</td>\n",
       "      <td>1.0</td>\n",
       "    </tr>\n",
       "    <tr>\n",
       "      <th>2340</th>\n",
       "      <td>0.574074</td>\n",
       "      <td>0.157041</td>\n",
       "      <td>0.165813</td>\n",
       "      <td>0.094872</td>\n",
       "      <td>0.141636</td>\n",
       "      <td>0.019481</td>\n",
       "      <td>0.0</td>\n",
       "      <td>0.0</td>\n",
       "      <td>0.025806</td>\n",
       "      <td>0.025806</td>\n",
       "      <td>...</td>\n",
       "      <td>0.0</td>\n",
       "      <td>0.2000</td>\n",
       "      <td>0.2000</td>\n",
       "      <td>0.0</td>\n",
       "      <td>0.0</td>\n",
       "      <td>0.2000</td>\n",
       "      <td>0.0</td>\n",
       "      <td>0.0</td>\n",
       "      <td>1.0</td>\n",
       "      <td>0.0</td>\n",
       "    </tr>\n",
       "  </tbody>\n",
       "</table>\n",
       "<p>2341 rows × 25 columns</p>\n",
       "</div>"
      ],
      "text/plain": [
       "          age1     yield      sale     value      land     cvl00  cvl01  \\\n",
       "0     0.648148  0.154295  0.152553  0.058183  0.832995  0.120390    0.0   \n",
       "1     0.592593  0.021490  0.019686  0.007400  0.832995  0.047403    0.0   \n",
       "2     0.555556  0.019017  0.017703  0.005590  0.832995  0.000325    0.0   \n",
       "3     0.592593  0.067430  0.066166  0.026664  0.832995  0.021818    0.0   \n",
       "4     0.629630  0.037230  0.034306  0.019680  0.832995  0.001039    0.0   \n",
       "...        ...       ...       ...       ...       ...       ...    ...   \n",
       "2336  0.444444  0.099198  0.000666  0.100299  0.141636  0.009740    0.0   \n",
       "2337  0.462963  0.144650  0.116525  0.118629  0.141636  0.019481    0.0   \n",
       "2338  0.388889  0.158694  0.071247  0.088690  0.141636  0.032468    0.0   \n",
       "2339  0.555556  0.495918  0.321116  0.805852  0.141636  0.071429    0.0   \n",
       "2340  0.574074  0.157041  0.165813  0.094872  0.141636  0.019481    0.0   \n",
       "\n",
       "      cvl02     cvl03     cvl10  ...  pl02    pl03    pl10  pl11  pl12  \\\n",
       "0       0.0  0.126065  0.126065  ...   0.0  0.8175  0.8175   0.0   0.0   \n",
       "1       0.0  0.053548  0.009677  ...   0.0  0.0765  0.0100   0.0   0.0   \n",
       "2       0.0  0.006774  0.006774  ...   0.0  0.0525  0.0525   0.0   0.0   \n",
       "3       0.0  0.028129  0.002581  ...   0.0  0.2180  0.0200   0.0   0.0   \n",
       "4       0.0  0.007484  0.007484  ...   0.0  0.0580  0.0580   0.0   0.0   \n",
       "...     ...       ...       ...  ...   ...     ...     ...   ...   ...   \n",
       "2336    0.0  0.016129  0.000000  ...   0.0  0.1250  0.0000   0.0   0.0   \n",
       "2337    0.0  0.025806  0.000000  ...   0.0  0.2000  0.0000   0.0   0.0   \n",
       "2338    0.0  0.038710  0.000000  ...   0.0  0.3000  0.0000   0.0   0.0   \n",
       "2339    0.0  0.077419  0.077419  ...   0.0  0.6000  0.6000   0.0   0.0   \n",
       "2340    0.0  0.025806  0.025806  ...   0.0  0.2000  0.2000   0.0   0.0   \n",
       "\n",
       "        pl13    0    1    2    3  \n",
       "0     0.8175  0.0  0.0  0.0  1.0  \n",
       "1     0.0100  1.0  0.0  0.0  0.0  \n",
       "2     0.0525  1.0  0.0  0.0  0.0  \n",
       "3     0.0200  0.0  0.0  1.0  0.0  \n",
       "4     0.0580  1.0  0.0  0.0  0.0  \n",
       "...      ...  ...  ...  ...  ...  \n",
       "2336  0.0000  0.0  1.0  0.0  0.0  \n",
       "2337  0.0000  0.0  0.0  1.0  0.0  \n",
       "2338  0.0000  0.0  0.0  0.0  1.0  \n",
       "2339  0.6000  0.0  0.0  0.0  1.0  \n",
       "2340  0.2000  0.0  0.0  1.0  0.0  \n",
       "\n",
       "[2341 rows x 25 columns]"
      ]
     },
     "execution_count": 46,
     "metadata": {},
     "output_type": "execute_result"
    }
   ],
   "source": [
    "numeric_data_df = pd.DataFrame(X_scaled, columns=numerical_variables)\n",
    "onehot_data_df = pd.DataFrame(onehot.toarray())\n",
    "\n",
    "X_data_df = pd.concat([numeric_data_df , onehot_data_df], axis=1)\n",
    "X_data_df"
   ]
  },
  {
   "cell_type": "code",
   "execution_count": 47,
   "metadata": {},
   "outputs": [],
   "source": [
    "X_data = np.array(X_data_df)\n",
    "y_data = np.array(y_data)"
   ]
  },
  {
   "cell_type": "markdown",
   "metadata": {},
   "source": [
    "# Train Test Split"
   ]
  },
  {
   "cell_type": "code",
   "execution_count": 48,
   "metadata": {},
   "outputs": [
    {
     "name": "stdout",
     "output_type": "stream",
     "text": [
      "(2106, 25) (2106,)\n",
      "(235, 25) (235,)\n"
     ]
    }
   ],
   "source": [
    "from sklearn.model_selection import train_test_split\n",
    "\n",
    "X_train, X_test, y_train, y_test = train_test_split(X_data, y_data,\n",
    "                                                    test_size=0.1,\n",
    "                                                    random_state=1234)\n",
    "print(X_train.shape, y_train.shape)\n",
    "print(X_test.shape, y_test.shape)"
   ]
  },
  {
   "cell_type": "markdown",
   "metadata": {},
   "source": [
    "# Modeling"
   ]
  },
  {
   "cell_type": "markdown",
   "metadata": {},
   "source": [
    "## Decision Tree"
   ]
  },
  {
   "cell_type": "code",
   "execution_count": 49,
   "metadata": {},
   "outputs": [
    {
     "data": {
      "text/plain": [
       "DecisionTreeRegressor(random_state=1000)"
      ]
     },
     "execution_count": 49,
     "metadata": {},
     "output_type": "execute_result"
    }
   ],
   "source": [
    "from sklearn.tree import DecisionTreeRegressor\n",
    "from sklearn.metrics import mean_squared_error\n",
    "\n",
    "dt = DecisionTreeRegressor(random_state=1000)\n",
    "dt.fit(X_train, y_train)"
   ]
  },
  {
   "cell_type": "code",
   "execution_count": 50,
   "metadata": {},
   "outputs": [
    {
     "name": "stdout",
     "output_type": "stream",
     "text": [
      "[7.49609735 5.27196543 7.31205151 7.18765716 7.21864327 7.44882419\n",
      " 7.44818012 7.25296801 6.9252677  7.11679991]\n"
     ]
    }
   ],
   "source": [
    "dt_pred = dt.predict(X_test)\n",
    "print(dt_pred[:10])"
   ]
  },
  {
   "cell_type": "code",
   "execution_count": 51,
   "metadata": {},
   "outputs": [
    {
     "data": {
      "text/plain": [
       "0.015678401637371796"
      ]
     },
     "execution_count": 51,
     "metadata": {},
     "output_type": "execute_result"
    }
   ],
   "source": [
    "mean_squared_error(y_test, dt_pred)"
   ]
  },
  {
   "cell_type": "markdown",
   "metadata": {},
   "source": [
    "## RandomForest"
   ]
  },
  {
   "cell_type": "code",
   "execution_count": 52,
   "metadata": {},
   "outputs": [
    {
     "data": {
      "text/plain": [
       "RandomForestRegressor(max_features='sqrt', n_estimators=3000, random_state=1000)"
      ]
     },
     "execution_count": 52,
     "metadata": {},
     "output_type": "execute_result"
    }
   ],
   "source": [
    "from sklearn.ensemble import RandomForestRegressor\n",
    "\n",
    "rf = RandomForestRegressor(n_estimators = 3000, max_features = 'sqrt', \n",
    "                           random_state = 1000)\n",
    "rf.fit(X_train, y_train)"
   ]
  },
  {
   "cell_type": "code",
   "execution_count": 53,
   "metadata": {},
   "outputs": [
    {
     "name": "stdout",
     "output_type": "stream",
     "text": [
      "[7.42587876 5.2365766  7.44161168 7.1916573  7.11836025 7.27268914\n",
      " 7.4247713  7.15979057 7.05514008 7.04376892]\n"
     ]
    }
   ],
   "source": [
    "rf_pred = rf.predict(X_test)\n",
    "print(rf_pred[:10])"
   ]
  },
  {
   "cell_type": "code",
   "execution_count": 54,
   "metadata": {},
   "outputs": [
    {
     "data": {
      "text/plain": [
       "0.02328354941476239"
      ]
     },
     "execution_count": 54,
     "metadata": {},
     "output_type": "execute_result"
    }
   ],
   "source": [
    "mean_squared_error(y_test, rf_pred)"
   ]
  },
  {
   "cell_type": "code",
   "execution_count": 55,
   "metadata": {},
   "outputs": [
    {
     "data": {
      "image/png": "[encoded data removed]",
      "text/plain": [
       "<Figure size 576x432 with 1 Axes>"
      ]
     },
     "metadata": {
      "needs_background": "light"
     },
     "output_type": "display_data"
    }
   ],
   "source": [
    "import seaborn as sns\n",
    "\n",
    "importances_values = rf.feature_importances_ \n",
    "importances = pd.Series(importances_values, index=X_data_df.columns)\n",
    "\n",
    "top20 = importances.sort_values(ascending=False)[:20]\n",
    "plt.figure(figsize=(8, 6))\n",
    "plt.title('Feature importances Top 20')\n",
    "sns.barplot(x = top20, y = top20.index)\n",
    "plt.show()"
   ]
  },
  {
   "cell_type": "markdown",
   "metadata": {},
   "source": [
    "## Ridge"
   ]
  },
  {
   "cell_type": "code",
   "execution_count": 59,
   "metadata": {},
   "outputs": [
    {
     "data": {
      "text/plain": [
       "Ridge(alpha=1.5)"
      ]
     },
     "execution_count": 59,
     "metadata": {},
     "output_type": "execute_result"
    }
   ],
   "source": [
    "from sklearn.linear_model import Ridge\n",
    "\n",
    "ridge = Ridge(alpha=1.5)\n",
    "ridge.fit(X_train, y_train)"
   ]
  },
  {
   "cell_type": "code",
   "execution_count": 60,
   "metadata": {},
   "outputs": [
    {
     "name": "stdout",
     "output_type": "stream",
     "text": [
      "0.3692312663577706\n"
     ]
    }
   ],
   "source": [
    "print(ridge.score(X_train, y_train))"
   ]
  },
  {
   "cell_type": "code",
   "execution_count": 61,
   "metadata": {},
   "outputs": [
    {
     "data": {
      "text/plain": [
       "0.45090522404692646"
      ]
     },
     "execution_count": 61,
     "metadata": {},
     "output_type": "execute_result"
    }
   ],
   "source": [
    "ridge_pred = ridge.predict(X_test)\n",
    "mean_squared_error(y_test, ridge_pred)"
   ]
  },
  {
   "cell_type": "markdown",
   "metadata": {},
   "source": [
    "## LASSO"
   ]
  },
  {
   "cell_type": "code",
   "execution_count": 62,
   "metadata": {},
   "outputs": [
    {
     "data": {
      "text/plain": [
       "Lasso(alpha=0.001)"
      ]
     },
     "execution_count": 62,
     "metadata": {},
     "output_type": "execute_result"
    }
   ],
   "source": [
    "from sklearn.linear_model import Lasso\n",
    "\n",
    "lasso = Lasso(alpha=0.001)\n",
    "lasso.fit(X_train, y_train)"
   ]
  },
  {
   "cell_type": "code",
   "execution_count": 63,
   "metadata": {},
   "outputs": [
    {
     "name": "stdout",
     "output_type": "stream",
     "text": [
      "0.3809000619608348\n"
     ]
    }
   ],
   "source": [
    "print(lasso.score(X_train, y_train))"
   ]
  },
  {
   "cell_type": "code",
   "execution_count": 64,
   "metadata": {},
   "outputs": [
    {
     "data": {
      "text/plain": [
       "0.44397106774771"
      ]
     },
     "execution_count": 64,
     "metadata": {},
     "output_type": "execute_result"
    }
   ],
   "source": [
    "lasso_pred = lasso.predict(X_test)\n",
    "mean_squared_error(y_test, lasso_pred)"
   ]
  },
  {
   "cell_type": "markdown",
   "metadata": {},
   "source": [
    "## GBM"
   ]
  },
  {
   "cell_type": "code",
   "execution_count": 65,
   "metadata": {},
   "outputs": [
    {
     "name": "stdout",
     "output_type": "stream",
     "text": [
      "[7.49939665 5.02929808 7.40761272 7.18750489 7.21865099 7.34457943\n",
      " 7.44813311 7.25293538 6.98989751 7.10421706]\n"
     ]
    }
   ],
   "source": [
    "from sklearn.ensemble import GradientBoostingRegressor\n",
    "\n",
    "gbm = GradientBoostingRegressor(n_estimators=500, max_depth=8)\n",
    "gbm.fit(X_train, y_train)\n",
    "\n",
    "gbm_pred = gbm.predict(X_test)\n",
    "print(gbm_pred[:10])"
   ]
  },
  {
   "cell_type": "code",
   "execution_count": 66,
   "metadata": {},
   "outputs": [
    {
     "data": {
      "text/plain": [
       "0.006822770959619239"
      ]
     },
     "execution_count": 66,
     "metadata": {},
     "output_type": "execute_result"
    }
   ],
   "source": [
    "mean_squared_error(y_test, gbm_pred)"
   ]
  },
  {
   "cell_type": "markdown",
   "metadata": {},
   "source": [
    "## AdaBoost"
   ]
  },
  {
   "cell_type": "code",
   "execution_count": 67,
   "metadata": {},
   "outputs": [
    {
     "name": "stdout",
     "output_type": "stream",
     "text": [
      "[7.37688137 5.66049131 7.30351576 7.03321948 7.03441734 7.2976455\n",
      " 7.27941801 7.31921205 7.03321948 7.0877554 ]\n"
     ]
    }
   ],
   "source": [
    "from sklearn.ensemble import AdaBoostRegressor\n",
    "\n",
    "ada = AdaBoostRegressor(n_estimators = 500, learning_rate = 0.1)\n",
    "ada.fit(X_train, y_train)\n",
    "\n",
    "ada_pred = ada.predict(X_test)\n",
    "print(ada_pred[:10])"
   ]
  },
  {
   "cell_type": "code",
   "execution_count": 68,
   "metadata": {},
   "outputs": [
    {
     "data": {
      "text/plain": [
       "0.0856018623871095"
      ]
     },
     "execution_count": 68,
     "metadata": {},
     "output_type": "execute_result"
    }
   ],
   "source": [
    "mean_squared_error(y_test, ada_pred)"
   ]
  },
  {
   "cell_type": "markdown",
   "metadata": {},
   "source": [
    "## XGBoost"
   ]
  },
  {
   "cell_type": "code",
   "execution_count": 69,
   "metadata": {},
   "outputs": [
    {
     "name": "stdout",
     "output_type": "stream",
     "text": [
      "1.3.3\n",
      "[7.5509043 4.857779  7.3602433 7.1763177 7.1247973 7.3096604 7.451911\n",
      " 7.2039213 7.0462995 7.0878043]\n"
     ]
    }
   ],
   "source": [
    "import xgboost as xgb\n",
    "print(xgb.__version__)\n",
    "\n",
    "xgb_reg = xgb.XGBRegressor(learning_rate=0.3, max_depth=8, \n",
    "                           gamma=0.5, n_estimators=300,\n",
    "                           subsample=0.9, colsample_bytree=0.8)\n",
    "xgb_reg.fit(X_train, y_train, verbose=False)\n",
    "\n",
    "xgb_pred = xgb_reg.predict(X_test)\n",
    "print(xgb_pred[:10])"
   ]
  },
  {
   "cell_type": "code",
   "execution_count": 70,
   "metadata": {},
   "outputs": [
    {
     "data": {
      "text/plain": [
       "0.015737354019416658"
      ]
     },
     "execution_count": 70,
     "metadata": {},
     "output_type": "execute_result"
    }
   ],
   "source": [
    "mean_squared_error(y_test, xgb_pred)"
   ]
  },
  {
   "cell_type": "code",
   "execution_count": 71,
   "metadata": {},
   "outputs": [
    {
     "data": {
      "image/png": "[encoded data removed]",
      "text/plain": [
       "<Figure size 720x864 with 1 Axes>"
      ]
     },
     "metadata": {
      "needs_background": "light"
     },
     "output_type": "display_data"
    }
   ],
   "source": [
    "from xgboost import plot_importance\n",
    "\n",
    "plot_importance(xgb_reg, max_num_features=20)\n",
    "\n",
    "fig = plt.gcf()\n",
    "fig.set_size_inches(10, 12)"
   ]
  },
  {
   "cell_type": "markdown",
   "metadata": {},
   "source": [
    "## LightGBM"
   ]
  },
  {
   "cell_type": "code",
   "execution_count": 72,
   "metadata": {},
   "outputs": [
    {
     "name": "stdout",
     "output_type": "stream",
     "text": [
      "[LightGBM] [Warning] Accuracy may be bad since you didn't explicitly set num_leaves OR 2^max_depth > num_leaves. (num_leaves=31).\n"
     ]
    },
    {
     "data": {
      "text/plain": [
       "LGBMRegressor(max_depth=15, n_estimators=1000)"
      ]
     },
     "execution_count": 72,
     "metadata": {},
     "output_type": "execute_result"
    }
   ],
   "source": [
    "import lightgbm as lgb\n",
    "\n",
    "\n",
    "lgb_reg = lgb.LGBMRegressor(n_estimators=1000, max_depth=15)\n",
    "lgb_reg.fit(X_train, y_train,\n",
    "        eval_set=[(X_test, y_test)],\n",
    "        eval_metric='l1',\n",
    "        early_stopping_rounds=1000,\n",
    "        verbose = False)"
   ]
  },
  {
   "cell_type": "code",
   "execution_count": 73,
   "metadata": {},
   "outputs": [
    {
     "name": "stdout",
     "output_type": "stream",
     "text": [
      "[7.49499039 5.07492057 7.34033684 7.2027145  7.20823557 7.30336929\n",
      " 7.45489391 7.25025329 7.00556707 7.13469867]\n"
     ]
    }
   ],
   "source": [
    "lgb_pred = lgb_reg.predict(X_test)\n",
    "print(lgb_pred[:10])"
   ]
  },
  {
   "cell_type": "code",
   "execution_count": 74,
   "metadata": {},
   "outputs": [
    {
     "data": {
      "text/plain": [
       "0.012004808175589857"
      ]
     },
     "execution_count": 74,
     "metadata": {},
     "output_type": "execute_result"
    }
   ],
   "source": [
    "mean_squared_error(y_test, lgb_pred)"
   ]
  },
  {
   "cell_type": "markdown",
   "metadata": {},
   "source": [
    "# Ensemble"
   ]
  },
  {
   "cell_type": "code",
   "execution_count": 78,
   "metadata": {},
   "outputs": [],
   "source": [
    "import torch\n",
    "from sklearn.metrics import mean_squared_error\n",
    "\n",
    "class EnsembleRegressor:\n",
    "    def __init__(self, models, weights=None):\n",
    "        \n",
    "        self.models = models\n",
    "        self.weights = weights\n",
    "        \n",
    "    def predict(self, X_test):\n",
    "        pred_list = []\n",
    "        for i, model in enumerate(models.values()):\n",
    "            pred_list.append(model.predict(X_test))\n",
    "        preds = np.array(pred_list)\n",
    "            \n",
    "        prediction = np.average(preds, axis=0, weights=self.weights)\n",
    "\n",
    "        return prediction\n",
    "    \n",
    "    def random_search(self, X_test, y_test, num_search):\n",
    "        weights = torch.softmax(torch.rand(num_search, len(self.models)), axis=1).numpy()\n",
    "        \n",
    "        pred_list = []\n",
    "        for i, model in enumerate(models.values()):\n",
    "            pred_list.append(model.predict(X_test))\n",
    "        preds = np.array(pred_list)\n",
    "\n",
    "        mse = []\n",
    "        for i in range(num_search):\n",
    "            prediction = np.average(preds, axis=0, weights=weights[i])\n",
    "            mse_ = mean_squared_error(y_test, prediction)\n",
    "            mse.append(mse_)\n",
    "        \n",
    "        result = pd.DataFrame(weights)\n",
    "        result['MSE'] = mse\n",
    "\n",
    "        return result.sort_values('MSE', ascending=True)"
   ]
  },
  {
   "cell_type": "code",
   "execution_count": 79,
   "metadata": {},
   "outputs": [
    {
     "data": {
      "text/html": [
       "<div>\n",
       "<style scoped>\n",
       "    .dataframe tbody tr th:only-of-type {\n",
       "        vertical-align: middle;\n",
       "    }\n",
       "\n",
       "    .dataframe tbody tr th {\n",
       "        vertical-align: top;\n",
       "    }\n",
       "\n",
       "    .dataframe thead th {\n",
       "        text-align: right;\n",
       "    }\n",
       "</style>\n",
       "<table border=\"1\" class=\"dataframe\">\n",
       "  <thead>\n",
       "    <tr style=\"text-align: right;\">\n",
       "      <th></th>\n",
       "      <th>0</th>\n",
       "      <th>1</th>\n",
       "      <th>2</th>\n",
       "      <th>MSE</th>\n",
       "    </tr>\n",
       "  </thead>\n",
       "  <tbody>\n",
       "    <tr>\n",
       "      <th>13086</th>\n",
       "      <td>0.547061</td>\n",
       "      <td>0.224446</td>\n",
       "      <td>0.228493</td>\n",
       "      <td>0.005648</td>\n",
       "    </tr>\n",
       "    <tr>\n",
       "      <th>15134</th>\n",
       "      <td>0.546079</td>\n",
       "      <td>0.225201</td>\n",
       "      <td>0.228719</td>\n",
       "      <td>0.005648</td>\n",
       "    </tr>\n",
       "    <tr>\n",
       "      <th>9409</th>\n",
       "      <td>0.547538</td>\n",
       "      <td>0.223686</td>\n",
       "      <td>0.228776</td>\n",
       "      <td>0.005648</td>\n",
       "    </tr>\n",
       "    <tr>\n",
       "      <th>11545</th>\n",
       "      <td>0.552674</td>\n",
       "      <td>0.222604</td>\n",
       "      <td>0.224721</td>\n",
       "      <td>0.005648</td>\n",
       "    </tr>\n",
       "    <tr>\n",
       "      <th>27204</th>\n",
       "      <td>0.555037</td>\n",
       "      <td>0.222350</td>\n",
       "      <td>0.222613</td>\n",
       "      <td>0.005648</td>\n",
       "    </tr>\n",
       "    <tr>\n",
       "      <th>19664</th>\n",
       "      <td>0.543053</td>\n",
       "      <td>0.228232</td>\n",
       "      <td>0.228715</td>\n",
       "      <td>0.005648</td>\n",
       "    </tr>\n",
       "    <tr>\n",
       "      <th>14814</th>\n",
       "      <td>0.551000</td>\n",
       "      <td>0.220751</td>\n",
       "      <td>0.228249</td>\n",
       "      <td>0.005648</td>\n",
       "    </tr>\n",
       "    <tr>\n",
       "      <th>28963</th>\n",
       "      <td>0.555146</td>\n",
       "      <td>0.222693</td>\n",
       "      <td>0.222161</td>\n",
       "      <td>0.005648</td>\n",
       "    </tr>\n",
       "    <tr>\n",
       "      <th>6234</th>\n",
       "      <td>0.554173</td>\n",
       "      <td>0.220158</td>\n",
       "      <td>0.225669</td>\n",
       "      <td>0.005648</td>\n",
       "    </tr>\n",
       "    <tr>\n",
       "      <th>24955</th>\n",
       "      <td>0.552351</td>\n",
       "      <td>0.226156</td>\n",
       "      <td>0.221493</td>\n",
       "      <td>0.005648</td>\n",
       "    </tr>\n",
       "  </tbody>\n",
       "</table>\n",
       "</div>"
      ],
      "text/plain": [
       "              0         1         2       MSE\n",
       "13086  0.547061  0.224446  0.228493  0.005648\n",
       "15134  0.546079  0.225201  0.228719  0.005648\n",
       "9409   0.547538  0.223686  0.228776  0.005648\n",
       "11545  0.552674  0.222604  0.224721  0.005648\n",
       "27204  0.555037  0.222350  0.222613  0.005648\n",
       "19664  0.543053  0.228232  0.228715  0.005648\n",
       "14814  0.551000  0.220751  0.228249  0.005648\n",
       "28963  0.555146  0.222693  0.222161  0.005648\n",
       "6234   0.554173  0.220158  0.225669  0.005648\n",
       "24955  0.552351  0.226156  0.221493  0.005648"
      ]
     },
     "execution_count": 79,
     "metadata": {},
     "output_type": "execute_result"
    }
   ],
   "source": [
    "models = {'GBM' : gbm, 'XGBOOST': xgb_reg, 'LightGBM' : lgb_reg}\n",
    "\n",
    "ensemble = EnsembleRegressor(models, weights=None)\n",
    "result = ensemble.random_search(X_test, y_test, 30000)\n",
    "result.head(10)"
   ]
  },
  {
   "cell_type": "code",
   "execution_count": 82,
   "metadata": {},
   "outputs": [
    {
     "name": "stdout",
     "output_type": "stream",
     "text": [
      "[0.547, 0.224, 0.228]\n"
     ]
    }
   ],
   "source": [
    "optimal_weight = np.round(result.iloc[0,:-1], 3).tolist()\n",
    "print(optimal_weight)"
   ]
  },
  {
   "cell_type": "code",
   "execution_count": 83,
   "metadata": {},
   "outputs": [
    {
     "name": "stdout",
     "output_type": "stream",
     "text": [
      "[7.50994027 5.00125169 7.3816371  7.18846771 7.19522964 7.32734443\n",
      " 7.45052321 7.24133311 7.00612043 7.10749369]\n"
     ]
    }
   ],
   "source": [
    "ensemble = EnsembleRegressor(models, weights=optimal_weight)\n",
    "\n",
    "preds = ensemble.predict(X_test)\n",
    "print(preds[:10])"
   ]
  },
  {
   "cell_type": "code",
   "execution_count": 84,
   "metadata": {},
   "outputs": [
    {
     "data": {
      "text/plain": [
       "0.005648055512799421"
      ]
     },
     "execution_count": 84,
     "metadata": {},
     "output_type": "execute_result"
    }
   ],
   "source": [
    "mean_squared_error(y_test, preds)"
   ]
  },
  {
   "cell_type": "markdown",
   "metadata": {},
   "source": [
    "# Evaludation"
   ]
  },
  {
   "cell_type": "code",
   "execution_count": 86,
   "metadata": {},
   "outputs": [
    {
     "name": "stdout",
     "output_type": "stream",
     "text": [
      "[1825.10446963  147.59904279 1605.21715403 1323.07278997 1332.05641198\n",
      " 1520.33638647 1719.76322256 1394.95369548 1102.36560685 1220.08329521]\n",
      "[1815.33333333  142.12651413 1614.17322835 1322.         1363.63636364\n",
      " 1483.93782383 1715.73604061 1411.29032258 1112.5        1254.5       ]\n"
     ]
    }
   ],
   "source": [
    "inverse_transformed_pred = np.expm1(preds)\n",
    "inverse_transformed_pred = np.where(inverse_transformed_pred < 0, 0, inverse_transformed_pred)\n",
    "inverse_transformed_y_test = np.expm1(y_test)\n",
    "\n",
    "print(inverse_transformed_pred[:10])\n",
    "print(inverse_transformed_y_test[:10])"
   ]
  },
  {
   "cell_type": "code",
   "execution_count": 87,
   "metadata": {},
   "outputs": [
    {
     "data": {
      "text/plain": [
       "110.29058611026815"
      ]
     },
     "execution_count": 87,
     "metadata": {},
     "output_type": "execute_result"
    }
   ],
   "source": [
    "np.sqrt(mean_squared_error(inverse_transformed_y_test, inverse_transformed_pred))"
   ]
  },
  {
   "cell_type": "code",
   "execution_count": 88,
   "metadata": {},
   "outputs": [
    {
     "data": {
      "text/html": [
       "<div>\n",
       "<style scoped>\n",
       "    .dataframe tbody tr th:only-of-type {\n",
       "        vertical-align: middle;\n",
       "    }\n",
       "\n",
       "    .dataframe tbody tr th {\n",
       "        vertical-align: top;\n",
       "    }\n",
       "\n",
       "    .dataframe thead th {\n",
       "        text-align: right;\n",
       "    }\n",
       "</style>\n",
       "<table border=\"1\" class=\"dataframe\">\n",
       "  <thead>\n",
       "    <tr style=\"text-align: right;\">\n",
       "      <th></th>\n",
       "      <th>생산량</th>\n",
       "      <th>예측값</th>\n",
       "    </tr>\n",
       "  </thead>\n",
       "  <tbody>\n",
       "    <tr>\n",
       "      <th>0</th>\n",
       "      <td>1815.3</td>\n",
       "      <td>1825.1</td>\n",
       "    </tr>\n",
       "    <tr>\n",
       "      <th>1</th>\n",
       "      <td>142.1</td>\n",
       "      <td>147.6</td>\n",
       "    </tr>\n",
       "    <tr>\n",
       "      <th>2</th>\n",
       "      <td>1614.2</td>\n",
       "      <td>1605.2</td>\n",
       "    </tr>\n",
       "    <tr>\n",
       "      <th>3</th>\n",
       "      <td>1322.0</td>\n",
       "      <td>1323.1</td>\n",
       "    </tr>\n",
       "    <tr>\n",
       "      <th>4</th>\n",
       "      <td>1363.6</td>\n",
       "      <td>1332.1</td>\n",
       "    </tr>\n",
       "    <tr>\n",
       "      <th>5</th>\n",
       "      <td>1483.9</td>\n",
       "      <td>1520.3</td>\n",
       "    </tr>\n",
       "    <tr>\n",
       "      <th>6</th>\n",
       "      <td>1715.7</td>\n",
       "      <td>1719.8</td>\n",
       "    </tr>\n",
       "    <tr>\n",
       "      <th>7</th>\n",
       "      <td>1411.3</td>\n",
       "      <td>1395.0</td>\n",
       "    </tr>\n",
       "    <tr>\n",
       "      <th>8</th>\n",
       "      <td>1112.5</td>\n",
       "      <td>1102.4</td>\n",
       "    </tr>\n",
       "    <tr>\n",
       "      <th>9</th>\n",
       "      <td>1254.5</td>\n",
       "      <td>1220.1</td>\n",
       "    </tr>\n",
       "    <tr>\n",
       "      <th>10</th>\n",
       "      <td>1131.3</td>\n",
       "      <td>1146.8</td>\n",
       "    </tr>\n",
       "    <tr>\n",
       "      <th>11</th>\n",
       "      <td>677.5</td>\n",
       "      <td>695.4</td>\n",
       "    </tr>\n",
       "    <tr>\n",
       "      <th>12</th>\n",
       "      <td>678.8</td>\n",
       "      <td>675.6</td>\n",
       "    </tr>\n",
       "    <tr>\n",
       "      <th>13</th>\n",
       "      <td>1230.8</td>\n",
       "      <td>1235.0</td>\n",
       "    </tr>\n",
       "    <tr>\n",
       "      <th>14</th>\n",
       "      <td>1281.4</td>\n",
       "      <td>1332.8</td>\n",
       "    </tr>\n",
       "    <tr>\n",
       "      <th>15</th>\n",
       "      <td>2617.3</td>\n",
       "      <td>2511.8</td>\n",
       "    </tr>\n",
       "    <tr>\n",
       "      <th>16</th>\n",
       "      <td>176.6</td>\n",
       "      <td>176.5</td>\n",
       "    </tr>\n",
       "    <tr>\n",
       "      <th>17</th>\n",
       "      <td>1307.7</td>\n",
       "      <td>1306.8</td>\n",
       "    </tr>\n",
       "    <tr>\n",
       "      <th>18</th>\n",
       "      <td>1415.9</td>\n",
       "      <td>1378.0</td>\n",
       "    </tr>\n",
       "    <tr>\n",
       "      <th>19</th>\n",
       "      <td>921.0</td>\n",
       "      <td>941.9</td>\n",
       "    </tr>\n",
       "    <tr>\n",
       "      <th>20</th>\n",
       "      <td>578.7</td>\n",
       "      <td>575.5</td>\n",
       "    </tr>\n",
       "    <tr>\n",
       "      <th>21</th>\n",
       "      <td>1310.0</td>\n",
       "      <td>1240.8</td>\n",
       "    </tr>\n",
       "    <tr>\n",
       "      <th>22</th>\n",
       "      <td>1251.7</td>\n",
       "      <td>1177.4</td>\n",
       "    </tr>\n",
       "    <tr>\n",
       "      <th>23</th>\n",
       "      <td>1981.1</td>\n",
       "      <td>2063.8</td>\n",
       "    </tr>\n",
       "    <tr>\n",
       "      <th>24</th>\n",
       "      <td>606.0</td>\n",
       "      <td>591.6</td>\n",
       "    </tr>\n",
       "    <tr>\n",
       "      <th>25</th>\n",
       "      <td>339.4</td>\n",
       "      <td>359.4</td>\n",
       "    </tr>\n",
       "    <tr>\n",
       "      <th>26</th>\n",
       "      <td>825.0</td>\n",
       "      <td>859.4</td>\n",
       "    </tr>\n",
       "    <tr>\n",
       "      <th>27</th>\n",
       "      <td>2111.0</td>\n",
       "      <td>2044.8</td>\n",
       "    </tr>\n",
       "    <tr>\n",
       "      <th>28</th>\n",
       "      <td>200.2</td>\n",
       "      <td>245.8</td>\n",
       "    </tr>\n",
       "    <tr>\n",
       "      <th>29</th>\n",
       "      <td>477.4</td>\n",
       "      <td>537.2</td>\n",
       "    </tr>\n",
       "  </tbody>\n",
       "</table>\n",
       "</div>"
      ],
      "text/plain": [
       "       생산량     예측값\n",
       "0   1815.3  1825.1\n",
       "1    142.1   147.6\n",
       "2   1614.2  1605.2\n",
       "3   1322.0  1323.1\n",
       "4   1363.6  1332.1\n",
       "5   1483.9  1520.3\n",
       "6   1715.7  1719.8\n",
       "7   1411.3  1395.0\n",
       "8   1112.5  1102.4\n",
       "9   1254.5  1220.1\n",
       "10  1131.3  1146.8\n",
       "11   677.5   695.4\n",
       "12   678.8   675.6\n",
       "13  1230.8  1235.0\n",
       "14  1281.4  1332.8\n",
       "15  2617.3  2511.8\n",
       "16   176.6   176.5\n",
       "17  1307.7  1306.8\n",
       "18  1415.9  1378.0\n",
       "19   921.0   941.9\n",
       "20   578.7   575.5\n",
       "21  1310.0  1240.8\n",
       "22  1251.7  1177.4\n",
       "23  1981.1  2063.8\n",
       "24   606.0   591.6\n",
       "25   339.4   359.4\n",
       "26   825.0   859.4\n",
       "27  2111.0  2044.8\n",
       "28   200.2   245.8\n",
       "29   477.4   537.2"
      ]
     },
     "execution_count": 88,
     "metadata": {},
     "output_type": "execute_result"
    }
   ],
   "source": [
    "inverse_transformed_pred = pd.Series(np.round(inverse_transformed_pred,1), name='예측값')\n",
    "inverse_transformed_y_test= pd.Series(np.round(inverse_transformed_y_test,1), name='생산량')\n",
    "result = pd.concat([inverse_transformed_y_test, inverse_transformed_pred], axis=1)\n",
    "result[:30]"
   ]
  },
  {
   "cell_type": "code",
   "execution_count": null,
   "metadata": {},
   "outputs": [],
   "source": []
  }
 ],
 "metadata": {
  "kernelspec": {
   "display_name": "Python 3",
   "language": "python",
   "name": "python3"
  },
  "language_info": {
   "codemirror_mode": {
    "name": "ipython",
    "version": 3
   },
   "file_extension": ".py",
   "mimetype": "text/x-python",
   "name": "python",
   "nbconvert_exporter": "python",
   "pygments_lexer": "ipython3",
   "version": "3.8.5"
  }
 },
 "nbformat": 4,
 "nbformat_minor": 4
}
