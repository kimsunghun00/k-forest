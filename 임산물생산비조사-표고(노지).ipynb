{
 "cells": [
  {
   "cell_type": "markdown",
   "metadata": {},
   "source": [
    "# Load Data"
   ]
  },
  {
   "cell_type": "markdown",
   "metadata": {},
   "source": [
    "## 표고(노지)"
   ]
  },
  {
   "cell_type": "code",
   "execution_count": 1,
   "metadata": {},
   "outputs": [
    {
     "name": "stdout",
     "output_type": "stream",
     "text": [
      "----------\n",
      "2014 (45, 389) 노지\n",
      "----------\n",
      "2015 (44, 389) 노지\n",
      "----------\n",
      "2016 (52, 389) 노지\n",
      "----------\n",
      "2017 (57, 389) 노지\n",
      "----------\n",
      "2018 (65, 389) 노지\n",
      "----------\n",
      "2019 (64, 403) 노지\n"
     ]
    }
   ],
   "source": [
    "import os\n",
    "import pandas as pd\n",
    "import numpy as np\n",
    "\n",
    "\n",
    "def load_data(path):\n",
    "    years = [2010, 2011, 2012, 2013, 2014, 2015, 2016, 2017, 2018, 2019]\n",
    "    use_cols = ['age1',\n",
    "                'land', \n",
    "                'labch', 'labch10', 'labch20',\n",
    "                'labh_hour', 'lab_cost',\n",
    "                'fmtc','lansh','fmoc', 'rent',\n",
    "                'size', 'ara', 'de2', # explanatory variable (26개)\n",
    "                'cony'] # dependent variable (1개)\n",
    "\n",
    "    dataframe_list = []\n",
    "\n",
    "    # 2014\n",
    "    print('-'*10)\n",
    "    ## 노지\n",
    "    file_path1 = os.path.join(path, str(years[4])+'년', str(years[4])+'년 임산물생산비조사_통합 데이터_5. 표고(원목_노지)(엑셀1).xlsx')\n",
    "    file_path2 = os.path.join(path, str(years[4])+'년', str(years[4])+'년 임산물생산비조사_통합 데이터_5. 표고(원목_노지)(엑셀2).xlsx')\n",
    "\n",
    "    forest_data1 = pd.read_excel(file_path1)\n",
    "    forest_data2 = pd.read_excel(file_path2)\n",
    "    forest_2014 = pd.concat([forest_data1, forest_data2], axis=1)\n",
    "\n",
    "    dataframe_list.append(forest_2014.loc[:,use_cols])\n",
    "    print(2014, forest_2014.shape, '노지')\n",
    "    \n",
    "    # 2015-2016\n",
    "    for year in years[5:7]:\n",
    "        print('-'*10)\n",
    "        ## 노지\n",
    "        file_path1 = os.path.join(path, str(year)+'년', str(year)+'년 임산물생산비조사_통합 데이터_5. 표고_노지(엑셀1).xlsx')\n",
    "        file_path2 = os.path.join(path, str(year)+'년', str(year)+'년 임산물생산비조사_통합 데이터_5. 표고_노지(엑셀2).xlsx')\n",
    "\n",
    "        forest_data1 = pd.read_excel(file_path1)\n",
    "        forest_data2 = pd.read_excel(file_path2)\n",
    "        forest_data = pd.concat([forest_data1, forest_data2], axis=1)\n",
    "\n",
    "        dataframe_list.append(forest_data.loc[:,use_cols])\n",
    "        print(year, forest_data.shape, '노지')\n",
    "\n",
    "    \n",
    "    # 2017-2018\n",
    "    for year in years[7:9]:\n",
    "        print('-'*10)\n",
    "        ## 노지\n",
    "        file_path1 = os.path.join(path, str(year)+'년', str(year)+'년 임산물생산비조사_통합 데이터_5. 표고_노지(엑셀 1).xls')\n",
    "        file_path2 = os.path.join(path, str(year)+'년', str(year)+'년 임산물생산비조사_통합 데이터_5. 표고_노지(엑셀 2).xls')\n",
    "\n",
    "        forest_data1 = pd.read_excel(file_path1)\n",
    "        forest_data2 = pd.read_excel(file_path2)\n",
    "        forest_data = pd.concat([forest_data1, forest_data2], axis=1)\n",
    "\n",
    "        dataframe_list.append(forest_data.loc[:,use_cols])\n",
    "        print(year, forest_data.shape, '노지')\n",
    "\n",
    "\n",
    "    # 2019\n",
    "    print('-'*10)\n",
    "    ## 노지\n",
    "    file_path = os.path.join(path, str(years[9])+'년', str(years[9])+'년 임산물생산비조사_통합 데이터_5. 표고노지.xlsx')\n",
    "    forest_2019 = pd.read_excel(file_path)\n",
    "    dataframe_list.append(forest_2019.loc[:,use_cols])\n",
    "    print(2019, forest_2019.shape, '노지')\n",
    "    \n",
    "\n",
    "    data = pd.concat(dataframe_list, axis=0)\n",
    "    data = data.reset_index(drop=True)\n",
    "    \n",
    "    return data\n",
    "    \n",
    "data = load_data('./임산물생산비조사 마이크로데이터(2010-2019)')"
   ]
  },
  {
   "cell_type": "code",
   "execution_count": 2,
   "metadata": {},
   "outputs": [
    {
     "data": {
      "text/html": [
       "<div>\n",
       "<style scoped>\n",
       "    .dataframe tbody tr th:only-of-type {\n",
       "        vertical-align: middle;\n",
       "    }\n",
       "\n",
       "    .dataframe tbody tr th {\n",
       "        vertical-align: top;\n",
       "    }\n",
       "\n",
       "    .dataframe thead th {\n",
       "        text-align: right;\n",
       "    }\n",
       "</style>\n",
       "<table border=\"1\" class=\"dataframe\">\n",
       "  <thead>\n",
       "    <tr style=\"text-align: right;\">\n",
       "      <th></th>\n",
       "      <th>age1</th>\n",
       "      <th>land</th>\n",
       "      <th>labch</th>\n",
       "      <th>labch10</th>\n",
       "      <th>labch20</th>\n",
       "      <th>labh_hour</th>\n",
       "      <th>lab_cost</th>\n",
       "      <th>fmtc</th>\n",
       "      <th>lansh</th>\n",
       "      <th>fmoc</th>\n",
       "      <th>rent</th>\n",
       "      <th>size</th>\n",
       "      <th>ara</th>\n",
       "      <th>de2</th>\n",
       "      <th>cony</th>\n",
       "    </tr>\n",
       "  </thead>\n",
       "  <tbody>\n",
       "    <tr>\n",
       "      <th>0</th>\n",
       "      <td>74</td>\n",
       "      <td>14505154</td>\n",
       "      <td>1.130496e+03</td>\n",
       "      <td>1.130496e+03</td>\n",
       "      <td>0.000000e+00</td>\n",
       "      <td>0.096000</td>\n",
       "      <td>141312</td>\n",
       "      <td>1.276219e+05</td>\n",
       "      <td>1.600000e+03</td>\n",
       "      <td>1.241766e+05</td>\n",
       "      <td>400.000000</td>\n",
       "      <td>2</td>\n",
       "      <td>31</td>\n",
       "      <td>2</td>\n",
       "      <td>20.000000</td>\n",
       "    </tr>\n",
       "    <tr>\n",
       "      <th>1</th>\n",
       "      <td>75</td>\n",
       "      <td>14505154</td>\n",
       "      <td>1.101638e+05</td>\n",
       "      <td>7.590337e+04</td>\n",
       "      <td>3.403853e+04</td>\n",
       "      <td>10.031070</td>\n",
       "      <td>4963982</td>\n",
       "      <td>7.662909e+05</td>\n",
       "      <td>9.986684e+03</td>\n",
       "      <td>6.443283e+05</td>\n",
       "      <td>5548.158012</td>\n",
       "      <td>2</td>\n",
       "      <td>99</td>\n",
       "      <td>2</td>\n",
       "      <td>9.098979</td>\n",
       "    </tr>\n",
       "    <tr>\n",
       "      <th>2</th>\n",
       "      <td>71</td>\n",
       "      <td>14505154</td>\n",
       "      <td>5.438581e+04</td>\n",
       "      <td>4.814777e+04</td>\n",
       "      <td>6.238039e+03</td>\n",
       "      <td>5.446011</td>\n",
       "      <td>8029032</td>\n",
       "      <td>1.608504e+05</td>\n",
       "      <td>4.064187e+03</td>\n",
       "      <td>1.094814e+05</td>\n",
       "      <td>4064.187061</td>\n",
       "      <td>1</td>\n",
       "      <td>99</td>\n",
       "      <td>2</td>\n",
       "      <td>4.070961</td>\n",
       "    </tr>\n",
       "    <tr>\n",
       "      <th>3</th>\n",
       "      <td>49</td>\n",
       "      <td>14505154</td>\n",
       "      <td>2.595174e+04</td>\n",
       "      <td>1.715432e+04</td>\n",
       "      <td>7.620645e+03</td>\n",
       "      <td>2.803654</td>\n",
       "      <td>17642692</td>\n",
       "      <td>1.700458e+05</td>\n",
       "      <td>2.343243e+04</td>\n",
       "      <td>1.496441e+05</td>\n",
       "      <td>23432.432075</td>\n",
       "      <td>3</td>\n",
       "      <td>99</td>\n",
       "      <td>2</td>\n",
       "      <td>6.353087</td>\n",
       "    </tr>\n",
       "    <tr>\n",
       "      <th>4</th>\n",
       "      <td>68</td>\n",
       "      <td>14505154</td>\n",
       "      <td>2.981206e+04</td>\n",
       "      <td>2.468769e+04</td>\n",
       "      <td>4.848682e+03</td>\n",
       "      <td>3.009543</td>\n",
       "      <td>12976652</td>\n",
       "      <td>1.513193e+05</td>\n",
       "      <td>1.337064e+04</td>\n",
       "      <td>1.189432e+05</td>\n",
       "      <td>13370.642480</td>\n",
       "      <td>3</td>\n",
       "      <td>99</td>\n",
       "      <td>2</td>\n",
       "      <td>4.116871</td>\n",
       "    </tr>\n",
       "    <tr>\n",
       "      <th>...</th>\n",
       "      <td>...</td>\n",
       "      <td>...</td>\n",
       "      <td>...</td>\n",
       "      <td>...</td>\n",
       "      <td>...</td>\n",
       "      <td>...</td>\n",
       "      <td>...</td>\n",
       "      <td>...</td>\n",
       "      <td>...</td>\n",
       "      <td>...</td>\n",
       "      <td>...</td>\n",
       "      <td>...</td>\n",
       "      <td>...</td>\n",
       "      <td>...</td>\n",
       "      <td>...</td>\n",
       "    </tr>\n",
       "    <tr>\n",
       "      <th>322</th>\n",
       "      <td>53</td>\n",
       "      <td>16308065</td>\n",
       "      <td>8.135640e+05</td>\n",
       "      <td>8.135640e+05</td>\n",
       "      <td>0.000000e+00</td>\n",
       "      <td>66.400000</td>\n",
       "      <td>2033910</td>\n",
       "      <td>1.799415e+07</td>\n",
       "      <td>4.356000e+05</td>\n",
       "      <td>1.711646e+07</td>\n",
       "      <td>435600.000000</td>\n",
       "      <td>3</td>\n",
       "      <td>99</td>\n",
       "      <td>1</td>\n",
       "      <td>246.400000</td>\n",
       "    </tr>\n",
       "    <tr>\n",
       "      <th>323</th>\n",
       "      <td>61</td>\n",
       "      <td>16308065</td>\n",
       "      <td>2.269254e+06</td>\n",
       "      <td>2.269254e+06</td>\n",
       "      <td>0.000000e+00</td>\n",
       "      <td>178.000000</td>\n",
       "      <td>1134627</td>\n",
       "      <td>2.101283e+07</td>\n",
       "      <td>5.445000e+05</td>\n",
       "      <td>1.801732e+07</td>\n",
       "      <td>0.000000</td>\n",
       "      <td>1</td>\n",
       "      <td>99</td>\n",
       "      <td>2</td>\n",
       "      <td>1076.000000</td>\n",
       "    </tr>\n",
       "    <tr>\n",
       "      <th>324</th>\n",
       "      <td>78</td>\n",
       "      <td>16308065</td>\n",
       "      <td>1.200962e+06</td>\n",
       "      <td>6.015255e+05</td>\n",
       "      <td>5.994364e+05</td>\n",
       "      <td>82.727273</td>\n",
       "      <td>1321058</td>\n",
       "      <td>2.123686e+07</td>\n",
       "      <td>1.035000e+06</td>\n",
       "      <td>1.906718e+07</td>\n",
       "      <td>0.000000</td>\n",
       "      <td>2</td>\n",
       "      <td>99</td>\n",
       "      <td>2</td>\n",
       "      <td>360.000000</td>\n",
       "    </tr>\n",
       "    <tr>\n",
       "      <th>325</th>\n",
       "      <td>64</td>\n",
       "      <td>16308065</td>\n",
       "      <td>3.172728e+06</td>\n",
       "      <td>1.772728e+06</td>\n",
       "      <td>1.400000e+06</td>\n",
       "      <td>246.000000</td>\n",
       "      <td>1586364</td>\n",
       "      <td>2.058184e+07</td>\n",
       "      <td>5.940000e+05</td>\n",
       "      <td>1.871666e+07</td>\n",
       "      <td>594000.000000</td>\n",
       "      <td>1</td>\n",
       "      <td>99</td>\n",
       "      <td>2</td>\n",
       "      <td>530.000000</td>\n",
       "    </tr>\n",
       "    <tr>\n",
       "      <th>326</th>\n",
       "      <td>64</td>\n",
       "      <td>16308065</td>\n",
       "      <td>3.073067e+06</td>\n",
       "      <td>3.073067e+06</td>\n",
       "      <td>0.000000e+00</td>\n",
       "      <td>213.333333</td>\n",
       "      <td>1843840</td>\n",
       "      <td>2.128951e+07</td>\n",
       "      <td>6.600000e+05</td>\n",
       "      <td>1.743196e+07</td>\n",
       "      <td>0.000000</td>\n",
       "      <td>1</td>\n",
       "      <td>99</td>\n",
       "      <td>2</td>\n",
       "      <td>345.000000</td>\n",
       "    </tr>\n",
       "  </tbody>\n",
       "</table>\n",
       "<p>327 rows × 15 columns</p>\n",
       "</div>"
      ],
      "text/plain": [
       "     age1      land         labch       labch10       labch20   labh_hour  \\\n",
       "0      74  14505154  1.130496e+03  1.130496e+03  0.000000e+00    0.096000   \n",
       "1      75  14505154  1.101638e+05  7.590337e+04  3.403853e+04   10.031070   \n",
       "2      71  14505154  5.438581e+04  4.814777e+04  6.238039e+03    5.446011   \n",
       "3      49  14505154  2.595174e+04  1.715432e+04  7.620645e+03    2.803654   \n",
       "4      68  14505154  2.981206e+04  2.468769e+04  4.848682e+03    3.009543   \n",
       "..    ...       ...           ...           ...           ...         ...   \n",
       "322    53  16308065  8.135640e+05  8.135640e+05  0.000000e+00   66.400000   \n",
       "323    61  16308065  2.269254e+06  2.269254e+06  0.000000e+00  178.000000   \n",
       "324    78  16308065  1.200962e+06  6.015255e+05  5.994364e+05   82.727273   \n",
       "325    64  16308065  3.172728e+06  1.772728e+06  1.400000e+06  246.000000   \n",
       "326    64  16308065  3.073067e+06  3.073067e+06  0.000000e+00  213.333333   \n",
       "\n",
       "     lab_cost          fmtc         lansh          fmoc           rent  size  \\\n",
       "0      141312  1.276219e+05  1.600000e+03  1.241766e+05     400.000000     2   \n",
       "1     4963982  7.662909e+05  9.986684e+03  6.443283e+05    5548.158012     2   \n",
       "2     8029032  1.608504e+05  4.064187e+03  1.094814e+05    4064.187061     1   \n",
       "3    17642692  1.700458e+05  2.343243e+04  1.496441e+05   23432.432075     3   \n",
       "4    12976652  1.513193e+05  1.337064e+04  1.189432e+05   13370.642480     3   \n",
       "..        ...           ...           ...           ...            ...   ...   \n",
       "322   2033910  1.799415e+07  4.356000e+05  1.711646e+07  435600.000000     3   \n",
       "323   1134627  2.101283e+07  5.445000e+05  1.801732e+07       0.000000     1   \n",
       "324   1321058  2.123686e+07  1.035000e+06  1.906718e+07       0.000000     2   \n",
       "325   1586364  2.058184e+07  5.940000e+05  1.871666e+07  594000.000000     1   \n",
       "326   1843840  2.128951e+07  6.600000e+05  1.743196e+07       0.000000     1   \n",
       "\n",
       "     ara  de2         cony  \n",
       "0     31    2    20.000000  \n",
       "1     99    2     9.098979  \n",
       "2     99    2     4.070961  \n",
       "3     99    2     6.353087  \n",
       "4     99    2     4.116871  \n",
       "..   ...  ...          ...  \n",
       "322   99    1   246.400000  \n",
       "323   99    2  1076.000000  \n",
       "324   99    2   360.000000  \n",
       "325   99    2   530.000000  \n",
       "326   99    2   345.000000  \n",
       "\n",
       "[327 rows x 15 columns]"
      ]
     },
     "execution_count": 2,
     "metadata": {},
     "output_type": "execute_result"
    }
   ],
   "source": [
    "data"
   ]
  },
  {
   "cell_type": "code",
   "execution_count": 3,
   "metadata": {},
   "outputs": [
    {
     "name": "stdout",
     "output_type": "stream",
     "text": [
      "0\n",
      "(327, 15)\n"
     ]
    }
   ],
   "source": [
    "print(np.sum(data['cony'] == 0))\n",
    "data.drop(data[data['cony'] == 0].index, inplace=True)\n",
    "print(data.shape)"
   ]
  },
  {
   "cell_type": "code",
   "execution_count": 4,
   "metadata": {},
   "outputs": [
    {
     "name": "stdout",
     "output_type": "stream",
     "text": [
      "16067060    65\n",
      "16308065    64\n",
      "15751016    57\n",
      "15257500    52\n",
      "14505154    45\n",
      "14736666    44\n",
      "Name: land, dtype: int64\n",
      "\n",
      "1    142\n",
      "3    110\n",
      "2     75\n",
      "Name: size, dtype: int64\n",
      "\n",
      "36    159\n",
      "34     60\n",
      "99     57\n",
      "37     46\n",
      "33      4\n",
      "31      1\n",
      "Name: ara, dtype: int64\n",
      "\n",
      "2    276\n",
      "1     51\n",
      "Name: de2, dtype: int64\n",
      "\n"
     ]
    }
   ],
   "source": [
    "for column in data.columns:\n",
    "    if len(data[column].value_counts()) <= 10:\n",
    "        print(data[column].value_counts())\n",
    "        print()"
   ]
  },
  {
   "cell_type": "code",
   "execution_count": 5,
   "metadata": {
    "scrolled": false
   },
   "outputs": [
    {
     "data": {
      "image/png": "[encoded data removed]",
      "text/plain": [
       "<Figure size 432x288 with 1 Axes>"
      ]
     },
     "metadata": {
      "needs_background": "light"
     },
     "output_type": "display_data"
    },
    {
     "data": {
      "image/png": "[encoded data removed]",
      "text/plain": [
       "<Figure size 432x288 with 1 Axes>"
      ]
     },
     "metadata": {
      "needs_background": "light"
     },
     "output_type": "display_data"
    },
    {
     "data": {
      "image/png": "[encoded data removed]",
      "text/plain": [
       "<Figure size 432x288 with 1 Axes>"
      ]
     },
     "metadata": {
      "needs_background": "light"
     },
     "output_type": "display_data"
    },
    {
     "data": {
      "image/png": "[encoded data removed]",
      "text/plain": [
       "<Figure size 432x288 with 1 Axes>"
      ]
     },
     "metadata": {
      "needs_background": "light"
     },
     "output_type": "display_data"
    },
    {
     "data": {
      "image/png": "[encoded data removed]",
      "text/plain": [
       "<Figure size 432x288 with 1 Axes>"
      ]
     },
     "metadata": {
      "needs_background": "light"
     },
     "output_type": "display_data"
    },
    {
     "data": {
      "image/png": "[encoded data removed]",
      "text/plain": [
       "<Figure size 432x288 with 1 Axes>"
      ]
     },
     "metadata": {
      "needs_background": "light"
     },
     "output_type": "display_data"
    },
    {
     "data": {
      "image/png": "[encoded data removed]",
      "text/plain": [
       "<Figure size 432x288 with 1 Axes>"
      ]
     },
     "metadata": {
      "needs_background": "light"
     },
     "output_type": "display_data"
    },
    {
     "data": {
      "image/png": "[encoded data removed]",
      "text/plain": [
       "<Figure size 432x288 with 1 Axes>"
      ]
     },
     "metadata": {
      "needs_background": "light"
     },
     "output_type": "display_data"
    },
    {
     "data": {
      "image/png": "[encoded data removed]",
      "text/plain": [
       "<Figure size 432x288 with 1 Axes>"
      ]
     },
     "metadata": {
      "needs_background": "light"
     },
     "output_type": "display_data"
    },
    {
     "data": {
      "image/png": "[encoded data removed]",
      "text/plain": [
       "<Figure size 432x288 with 1 Axes>"
      ]
     },
     "metadata": {
      "needs_background": "light"
     },
     "output_type": "display_data"
    },
    {
     "data": {
      "image/png": "[encoded data removed]",
      "text/plain": [
       "<Figure size 432x288 with 1 Axes>"
      ]
     },
     "metadata": {
      "needs_background": "light"
     },
     "output_type": "display_data"
    },
    {
     "data": {
      "image/png": "[encoded data removed]",
      "text/plain": [
       "<Figure size 432x288 with 1 Axes>"
      ]
     },
     "metadata": {
      "needs_background": "light"
     },
     "output_type": "display_data"
    },
    {
     "data": {
      "image/png": "[encoded data removed]",
      "text/plain": [
       "<Figure size 432x288 with 1 Axes>"
      ]
     },
     "metadata": {
      "needs_background": "light"
     },
     "output_type": "display_data"
    },
    {
     "data": {
      "image/png": "[encoded data removed]",
      "text/plain": [
       "<Figure size 432x288 with 1 Axes>"
      ]
     },
     "metadata": {
      "needs_background": "light"
     },
     "output_type": "display_data"
    },
    {
     "data": {
      "image/png": "[encoded data removed]",
      "text/plain": [
       "<Figure size 432x288 with 1 Axes>"
      ]
     },
     "metadata": {
      "needs_background": "light"
     },
     "output_type": "display_data"
    }
   ],
   "source": [
    "import matplotlib.pyplot as plt\n",
    "%matplotlib inline\n",
    "\n",
    "for column in data.columns:\n",
    "    data[column].hist()\n",
    "    plt.title(column)\n",
    "    plt.show()"
   ]
  },
  {
   "cell_type": "markdown",
   "metadata": {},
   "source": [
    "## Log Transform"
   ]
  },
  {
   "cell_type": "code",
   "execution_count": 6,
   "metadata": {},
   "outputs": [],
   "source": [
    "data.loc[:, ['labh_hour', 'lab_cost']] = np.log1p(data.loc[:, ['labh_hour', 'lab_cost']])\n",
    "data.loc[:, ['labch', 'labch10', 'labch20']] = np.log1p(data.loc[:, ['labch', 'labch10', 'labch20']])\n",
    "data.loc[:, ['fmtc','lansh','fmoc', 'rent']] = np.log1p(data.loc[:, ['fmtc','lansh','fmoc', 'rent']])"
   ]
  },
  {
   "cell_type": "code",
   "execution_count": 7,
   "metadata": {},
   "outputs": [],
   "source": [
    "data['cony'] = np.log1p(data['cony'])"
   ]
  },
  {
   "cell_type": "code",
   "execution_count": 8,
   "metadata": {},
   "outputs": [
    {
     "data": {
      "image/png": "[encoded data removed]",
      "text/plain": [
       "<Figure size 432x288 with 1 Axes>"
      ]
     },
     "metadata": {
      "needs_background": "light"
     },
     "output_type": "display_data"
    },
    {
     "data": {
      "image/png": "[encoded data removed]",
      "text/plain": [
       "<Figure size 432x288 with 1 Axes>"
      ]
     },
     "metadata": {
      "needs_background": "light"
     },
     "output_type": "display_data"
    },
    {
     "data": {
      "image/png": "[encoded data removed]",
      "text/plain": [
       "<Figure size 432x288 with 1 Axes>"
      ]
     },
     "metadata": {
      "needs_background": "light"
     },
     "output_type": "display_data"
    },
    {
     "data": {
      "image/png": "[encoded data removed]",
      "text/plain": [
       "<Figure size 432x288 with 1 Axes>"
      ]
     },
     "metadata": {
      "needs_background": "light"
     },
     "output_type": "display_data"
    },
    {
     "data": {
      "image/png": "[encoded data removed]",
      "text/plain": [
       "<Figure size 432x288 with 1 Axes>"
      ]
     },
     "metadata": {
      "needs_background": "light"
     },
     "output_type": "display_data"
    }
   ],
   "source": [
    "import seaborn as sns\n",
    "\n",
    "sns.scatterplot(x='fmtc', y='cony', data=data)\n",
    "plt.show()\n",
    "\n",
    "sns.scatterplot(x='labch', y='cony', data=data)\n",
    "plt.show()\n",
    "\n",
    "sns.scatterplot(x='labh_hour', y='cony', data=data)\n",
    "plt.show()\n",
    "\n",
    "sns.scatterplot(x='lab_cost', y='cony', data=data)\n",
    "plt.show()\n",
    "\n",
    "sns.scatterplot(x='lansh', y='cony', data=data)\n",
    "plt.show()"
   ]
  },
  {
   "cell_type": "markdown",
   "metadata": {},
   "source": [
    "## NaN Check and Data Imputation"
   ]
  },
  {
   "cell_type": "code",
   "execution_count": 9,
   "metadata": {},
   "outputs": [],
   "source": [
    "data.replace({'labch' : {0 : np.nan},\n",
    "              'labh_hour' : {0 : np.nan},\n",
    "              'lab_cost' : {0 : np.nan},\n",
    "              'lansh' : {0 : np.nan}},\n",
    "             inplace=True)"
   ]
  },
  {
   "cell_type": "code",
   "execution_count": 10,
   "metadata": {},
   "outputs": [
    {
     "data": {
      "text/plain": [
       "age1         0\n",
       "land         0\n",
       "labch        0\n",
       "labch10      0\n",
       "labch20      0\n",
       "labh_hour    0\n",
       "lab_cost     0\n",
       "fmtc         0\n",
       "lansh        0\n",
       "fmoc         0\n",
       "rent         0\n",
       "size         0\n",
       "ara          0\n",
       "de2          0\n",
       "cony         0\n",
       "dtype: int64"
      ]
     },
     "execution_count": 10,
     "metadata": {},
     "output_type": "execute_result"
    }
   ],
   "source": [
    "data.isnull().sum().sort_values()"
   ]
  },
  {
   "cell_type": "code",
   "execution_count": 11,
   "metadata": {},
   "outputs": [],
   "source": [
    "data.fillna(data.mean(), inplace=True)"
   ]
  },
  {
   "cell_type": "code",
   "execution_count": 12,
   "metadata": {},
   "outputs": [
    {
     "data": {
      "image/png": "[encoded data removed]",
      "text/plain": [
       "<Figure size 432x288 with 1 Axes>"
      ]
     },
     "metadata": {
      "needs_background": "light"
     },
     "output_type": "display_data"
    },
    {
     "data": {
      "image/png": "[encoded data removed]",
      "text/plain": [
       "<Figure size 432x288 with 1 Axes>"
      ]
     },
     "metadata": {
      "needs_background": "light"
     },
     "output_type": "display_data"
    },
    {
     "data": {
      "image/png": "[encoded data removed]",
      "text/plain": [
       "<Figure size 432x288 with 1 Axes>"
      ]
     },
     "metadata": {
      "needs_background": "light"
     },
     "output_type": "display_data"
    },
    {
     "data": {
      "image/png": "[encoded data removed]",
      "text/plain": [
       "<Figure size 432x288 with 1 Axes>"
      ]
     },
     "metadata": {
      "needs_background": "light"
     },
     "output_type": "display_data"
    },
    {
     "data": {
      "image/png": "[encoded data removed]",
      "text/plain": [
       "<Figure size 432x288 with 1 Axes>"
      ]
     },
     "metadata": {
      "needs_background": "light"
     },
     "output_type": "display_data"
    }
   ],
   "source": [
    "sns.scatterplot(x='fmtc', y='cony', data=data)\n",
    "plt.show()\n",
    "\n",
    "sns.scatterplot(x='labch', y='cony', data=data)\n",
    "plt.show()\n",
    "\n",
    "sns.scatterplot(x='labh_hour', y='cony', data=data)\n",
    "plt.show()\n",
    "\n",
    "sns.scatterplot(x='lab_cost', y='cony', data=data)\n",
    "plt.show()\n",
    "\n",
    "sns.scatterplot(x='lansh', y='cony', data=data)\n",
    "plt.show()"
   ]
  },
  {
   "cell_type": "code",
   "execution_count": 13,
   "metadata": {
    "scrolled": false
   },
   "outputs": [
    {
     "data": {
      "image/png": "[encoded data removed]",
      "text/plain": [
       "<Figure size 432x288 with 1 Axes>"
      ]
     },
     "metadata": {
      "needs_background": "light"
     },
     "output_type": "display_data"
    },
    {
     "data": {
      "image/png": "[encoded data removed]",
      "text/plain": [
       "<Figure size 432x288 with 1 Axes>"
      ]
     },
     "metadata": {
      "needs_background": "light"
     },
     "output_type": "display_data"
    },
    {
     "data": {
      "image/png": "[encoded data removed]",
      "text/plain": [
       "<Figure size 432x288 with 1 Axes>"
      ]
     },
     "metadata": {
      "needs_background": "light"
     },
     "output_type": "display_data"
    },
    {
     "data": {
      "image/png": "[encoded data removed]",
      "text/plain": [
       "<Figure size 432x288 with 1 Axes>"
      ]
     },
     "metadata": {
      "needs_background": "light"
     },
     "output_type": "display_data"
    },
    {
     "data": {
      "image/png": "[encoded data removed]",
      "text/plain": [
       "<Figure size 432x288 with 1 Axes>"
      ]
     },
     "metadata": {
      "needs_background": "light"
     },
     "output_type": "display_data"
    },
    {
     "data": {
      "image/png": "[encoded data removed]",
      "text/plain": [
       "<Figure size 432x288 with 1 Axes>"
      ]
     },
     "metadata": {
      "needs_background": "light"
     },
     "output_type": "display_data"
    },
    {
     "data": {
      "image/png": "[encoded data removed]",
      "text/plain": [
       "<Figure size 432x288 with 1 Axes>"
      ]
     },
     "metadata": {
      "needs_background": "light"
     },
     "output_type": "display_data"
    },
    {
     "data": {
      "image/png": "[encoded data removed]",
      "text/plain": [
       "<Figure size 432x288 with 1 Axes>"
      ]
     },
     "metadata": {
      "needs_background": "light"
     },
     "output_type": "display_data"
    },
    {
     "data": {
      "image/png": "[encoded data removed]",
      "text/plain": [
       "<Figure size 432x288 with 1 Axes>"
      ]
     },
     "metadata": {
      "needs_background": "light"
     },
     "output_type": "display_data"
    },
    {
     "data": {
      "image/png": "[encoded data removed]",
      "text/plain": [
       "<Figure size 432x288 with 1 Axes>"
      ]
     },
     "metadata": {
      "needs_background": "light"
     },
     "output_type": "display_data"
    },
    {
     "data": {
      "image/png": "[encoded data removed]",
      "text/plain": [
       "<Figure size 432x288 with 1 Axes>"
      ]
     },
     "metadata": {
      "needs_background": "light"
     },
     "output_type": "display_data"
    },
    {
     "data": {
      "image/png": "[encoded data removed]",
      "text/plain": [
       "<Figure size 432x288 with 1 Axes>"
      ]
     },
     "metadata": {
      "needs_background": "light"
     },
     "output_type": "display_data"
    },
    {
     "data": {
      "image/png": "[encoded data removed]",
      "text/plain": [
       "<Figure size 432x288 with 1 Axes>"
      ]
     },
     "metadata": {
      "needs_background": "light"
     },
     "output_type": "display_data"
    },
    {
     "data": {
      "image/png": "[encoded data removed]",
      "text/plain": [
       "<Figure size 432x288 with 1 Axes>"
      ]
     },
     "metadata": {
      "needs_background": "light"
     },
     "output_type": "display_data"
    },
    {
     "data": {
      "image/png": "[encoded data removed]",
      "text/plain": [
       "<Figure size 432x288 with 1 Axes>"
      ]
     },
     "metadata": {
      "needs_background": "light"
     },
     "output_type": "display_data"
    }
   ],
   "source": [
    "for column in data.columns:\n",
    "    data[column].hist()\n",
    "    plt.title(column)\n",
    "    plt.show()"
   ]
  },
  {
   "cell_type": "markdown",
   "metadata": {},
   "source": [
    "## Categorical Variable processing"
   ]
  },
  {
   "cell_type": "code",
   "execution_count": 14,
   "metadata": {},
   "outputs": [
    {
     "name": "stdout",
     "output_type": "stream",
     "text": [
      "[array([1, 2, 3]), array([31, 33, 34, 36, 37, 99]), array([1, 2])]\n",
      "(327, 11)\n"
     ]
    }
   ],
   "source": [
    "from sklearn.preprocessing import OneHotEncoder\n",
    "\n",
    "categorical_variables = ['size', 'ara', 'de2']\n",
    "onehot_encoder = OneHotEncoder(handle_unknown='ignore')\n",
    "onehot_encoder.fit(data.loc[:, categorical_variables])\n",
    "onehot = onehot_encoder.fit_transform(data.loc[:, categorical_variables])\n",
    "print(onehot_encoder.categories_)\n",
    "print(onehot.toarray().shape)"
   ]
  },
  {
   "cell_type": "markdown",
   "metadata": {},
   "source": [
    "## Numerical Variable processing"
   ]
  },
  {
   "cell_type": "code",
   "execution_count": 15,
   "metadata": {},
   "outputs": [
    {
     "data": {
      "text/plain": [
       "array([[0.87804878, 0.        , 0.        , ..., 0.24492875, 0.10084301,\n",
       "        0.38858874],\n",
       "       [0.90243902, 0.        , 0.45487272, ..., 0.41671973, 0.36148119,\n",
       "        0.55892578],\n",
       "       [0.80487805, 0.        , 0.38474516, ..., 0.33236967, 0.08090542,\n",
       "        0.53875155],\n",
       "       ...,\n",
       "       [0.97560976, 1.        , 0.69221266, ..., 0.85220225, 0.89771993,\n",
       "        0.        ],\n",
       "       [0.63414634, 1.        , 0.78872912, ..., 0.80009636, 0.89478283,\n",
       "        0.86189177],\n",
       "       [0.63414634, 1.        , 0.78555825, ..., 0.80998313, 0.88352642,\n",
       "        0.        ]])"
      ]
     },
     "execution_count": 15,
     "metadata": {},
     "output_type": "execute_result"
    }
   ],
   "source": [
    "from sklearn.preprocessing import MinMaxScaler\n",
    "\n",
    "numerical_variables = ['age1',\n",
    "                       'land', \n",
    "                       'labch', 'labch10', 'labch20',\n",
    "                       'labh_hour', 'lab_cost',\n",
    "                       'fmtc', 'lansh', 'fmoc', 'rent']\n",
    "X_minmax_scaler = MinMaxScaler()\n",
    "X_minmax_scaler.fit(data.loc[:, numerical_variables])\n",
    "X_scaled = X_minmax_scaler.transform(data.loc[:, numerical_variables])\n",
    "X_scaled"
   ]
  },
  {
   "cell_type": "code",
   "execution_count": 16,
   "metadata": {},
   "outputs": [
    {
     "data": {
      "text/html": [
       "<div>\n",
       "<style scoped>\n",
       "    .dataframe tbody tr th:only-of-type {\n",
       "        vertical-align: middle;\n",
       "    }\n",
       "\n",
       "    .dataframe tbody tr th {\n",
       "        vertical-align: top;\n",
       "    }\n",
       "\n",
       "    .dataframe thead th {\n",
       "        text-align: right;\n",
       "    }\n",
       "</style>\n",
       "<table border=\"1\" class=\"dataframe\">\n",
       "  <thead>\n",
       "    <tr style=\"text-align: right;\">\n",
       "      <th></th>\n",
       "      <th>age1</th>\n",
       "      <th>land</th>\n",
       "      <th>labch</th>\n",
       "      <th>labch10</th>\n",
       "      <th>labch20</th>\n",
       "      <th>labh_hour</th>\n",
       "      <th>lab_cost</th>\n",
       "      <th>fmtc</th>\n",
       "      <th>lansh</th>\n",
       "      <th>fmoc</th>\n",
       "      <th>...</th>\n",
       "      <th>1</th>\n",
       "      <th>2</th>\n",
       "      <th>3</th>\n",
       "      <th>4</th>\n",
       "      <th>5</th>\n",
       "      <th>6</th>\n",
       "      <th>7</th>\n",
       "      <th>8</th>\n",
       "      <th>9</th>\n",
       "      <th>10</th>\n",
       "    </tr>\n",
       "  </thead>\n",
       "  <tbody>\n",
       "    <tr>\n",
       "      <th>0</th>\n",
       "      <td>0.878049</td>\n",
       "      <td>0.0</td>\n",
       "      <td>0.000000</td>\n",
       "      <td>0.000000</td>\n",
       "      <td>0.000000</td>\n",
       "      <td>0.000000</td>\n",
       "      <td>0.314661</td>\n",
       "      <td>0.073612</td>\n",
       "      <td>0.244929</td>\n",
       "      <td>0.100843</td>\n",
       "      <td>...</td>\n",
       "      <td>1.0</td>\n",
       "      <td>0.0</td>\n",
       "      <td>1.0</td>\n",
       "      <td>0.0</td>\n",
       "      <td>0.0</td>\n",
       "      <td>0.0</td>\n",
       "      <td>0.0</td>\n",
       "      <td>0.0</td>\n",
       "      <td>0.0</td>\n",
       "      <td>1.0</td>\n",
       "    </tr>\n",
       "    <tr>\n",
       "      <th>1</th>\n",
       "      <td>0.902439</td>\n",
       "      <td>0.0</td>\n",
       "      <td>0.454873</td>\n",
       "      <td>0.422891</td>\n",
       "      <td>0.657778</td>\n",
       "      <td>0.306866</td>\n",
       "      <td>0.718998</td>\n",
       "      <td>0.346441</td>\n",
       "      <td>0.416720</td>\n",
       "      <td>0.361481</td>\n",
       "      <td>...</td>\n",
       "      <td>1.0</td>\n",
       "      <td>0.0</td>\n",
       "      <td>0.0</td>\n",
       "      <td>0.0</td>\n",
       "      <td>0.0</td>\n",
       "      <td>0.0</td>\n",
       "      <td>0.0</td>\n",
       "      <td>1.0</td>\n",
       "      <td>0.0</td>\n",
       "      <td>1.0</td>\n",
       "    </tr>\n",
       "    <tr>\n",
       "      <th>2</th>\n",
       "      <td>0.804878</td>\n",
       "      <td>0.0</td>\n",
       "      <td>0.384745</td>\n",
       "      <td>0.377124</td>\n",
       "      <td>0.550829</td>\n",
       "      <td>0.235466</td>\n",
       "      <td>0.773628</td>\n",
       "      <td>0.108833</td>\n",
       "      <td>0.332370</td>\n",
       "      <td>0.080905</td>\n",
       "      <td>...</td>\n",
       "      <td>0.0</td>\n",
       "      <td>0.0</td>\n",
       "      <td>0.0</td>\n",
       "      <td>0.0</td>\n",
       "      <td>0.0</td>\n",
       "      <td>0.0</td>\n",
       "      <td>0.0</td>\n",
       "      <td>1.0</td>\n",
       "      <td>0.0</td>\n",
       "      <td>1.0</td>\n",
       "    </tr>\n",
       "    <tr>\n",
       "      <th>3</th>\n",
       "      <td>0.268293</td>\n",
       "      <td>0.0</td>\n",
       "      <td>0.311241</td>\n",
       "      <td>0.273362</td>\n",
       "      <td>0.563446</td>\n",
       "      <td>0.165363</td>\n",
       "      <td>0.863069</td>\n",
       "      <td>0.117295</td>\n",
       "      <td>0.496746</td>\n",
       "      <td>0.130374</td>\n",
       "      <td>...</td>\n",
       "      <td>0.0</td>\n",
       "      <td>1.0</td>\n",
       "      <td>0.0</td>\n",
       "      <td>0.0</td>\n",
       "      <td>0.0</td>\n",
       "      <td>0.0</td>\n",
       "      <td>0.0</td>\n",
       "      <td>1.0</td>\n",
       "      <td>0.0</td>\n",
       "      <td>1.0</td>\n",
       "    </tr>\n",
       "    <tr>\n",
       "      <th>4</th>\n",
       "      <td>0.731707</td>\n",
       "      <td>0.0</td>\n",
       "      <td>0.325018</td>\n",
       "      <td>0.309964</td>\n",
       "      <td>0.534949</td>\n",
       "      <td>0.172369</td>\n",
       "      <td>0.828171</td>\n",
       "      <td>0.099536</td>\n",
       "      <td>0.444100</td>\n",
       "      <td>0.094027</td>\n",
       "      <td>...</td>\n",
       "      <td>0.0</td>\n",
       "      <td>1.0</td>\n",
       "      <td>0.0</td>\n",
       "      <td>0.0</td>\n",
       "      <td>0.0</td>\n",
       "      <td>0.0</td>\n",
       "      <td>0.0</td>\n",
       "      <td>1.0</td>\n",
       "      <td>0.0</td>\n",
       "      <td>1.0</td>\n",
       "    </tr>\n",
       "    <tr>\n",
       "      <th>...</th>\n",
       "      <td>...</td>\n",
       "      <td>...</td>\n",
       "      <td>...</td>\n",
       "      <td>...</td>\n",
       "      <td>...</td>\n",
       "      <td>...</td>\n",
       "      <td>...</td>\n",
       "      <td>...</td>\n",
       "      <td>...</td>\n",
       "      <td>...</td>\n",
       "      <td>...</td>\n",
       "      <td>...</td>\n",
       "      <td>...</td>\n",
       "      <td>...</td>\n",
       "      <td>...</td>\n",
       "      <td>...</td>\n",
       "      <td>...</td>\n",
       "      <td>...</td>\n",
       "      <td>...</td>\n",
       "      <td>...</td>\n",
       "      <td>...</td>\n",
       "    </tr>\n",
       "    <tr>\n",
       "      <th>322</th>\n",
       "      <td>0.365854</td>\n",
       "      <td>1.0</td>\n",
       "      <td>0.653520</td>\n",
       "      <td>0.661382</td>\n",
       "      <td>0.000000</td>\n",
       "      <td>0.547400</td>\n",
       "      <td>0.617630</td>\n",
       "      <td>0.826844</td>\n",
       "      <td>0.770992</td>\n",
       "      <td>0.880635</td>\n",
       "      <td>...</td>\n",
       "      <td>0.0</td>\n",
       "      <td>1.0</td>\n",
       "      <td>0.0</td>\n",
       "      <td>0.0</td>\n",
       "      <td>0.0</td>\n",
       "      <td>0.0</td>\n",
       "      <td>0.0</td>\n",
       "      <td>1.0</td>\n",
       "      <td>1.0</td>\n",
       "      <td>0.0</td>\n",
       "    </tr>\n",
       "    <tr>\n",
       "      <th>323</th>\n",
       "      <td>0.560976</td>\n",
       "      <td>1.0</td>\n",
       "      <td>0.755433</td>\n",
       "      <td>0.764520</td>\n",
       "      <td>0.000000</td>\n",
       "      <td>0.677206</td>\n",
       "      <td>0.551320</td>\n",
       "      <td>0.850449</td>\n",
       "      <td>0.791931</td>\n",
       "      <td>0.888755</td>\n",
       "      <td>...</td>\n",
       "      <td>0.0</td>\n",
       "      <td>0.0</td>\n",
       "      <td>0.0</td>\n",
       "      <td>0.0</td>\n",
       "      <td>0.0</td>\n",
       "      <td>0.0</td>\n",
       "      <td>0.0</td>\n",
       "      <td>1.0</td>\n",
       "      <td>0.0</td>\n",
       "      <td>1.0</td>\n",
       "    </tr>\n",
       "    <tr>\n",
       "      <th>324</th>\n",
       "      <td>0.975610</td>\n",
       "      <td>1.0</td>\n",
       "      <td>0.692213</td>\n",
       "      <td>0.631021</td>\n",
       "      <td>0.838590</td>\n",
       "      <td>0.576228</td>\n",
       "      <td>0.568604</td>\n",
       "      <td>0.852063</td>\n",
       "      <td>0.852202</td>\n",
       "      <td>0.897720</td>\n",
       "      <td>...</td>\n",
       "      <td>1.0</td>\n",
       "      <td>0.0</td>\n",
       "      <td>0.0</td>\n",
       "      <td>0.0</td>\n",
       "      <td>0.0</td>\n",
       "      <td>0.0</td>\n",
       "      <td>0.0</td>\n",
       "      <td>1.0</td>\n",
       "      <td>0.0</td>\n",
       "      <td>1.0</td>\n",
       "    </tr>\n",
       "    <tr>\n",
       "      <th>325</th>\n",
       "      <td>0.634146</td>\n",
       "      <td>1.0</td>\n",
       "      <td>0.788729</td>\n",
       "      <td>0.739692</td>\n",
       "      <td>0.892057</td>\n",
       "      <td>0.720000</td>\n",
       "      <td>0.589396</td>\n",
       "      <td>0.847295</td>\n",
       "      <td>0.800096</td>\n",
       "      <td>0.894783</td>\n",
       "      <td>...</td>\n",
       "      <td>0.0</td>\n",
       "      <td>0.0</td>\n",
       "      <td>0.0</td>\n",
       "      <td>0.0</td>\n",
       "      <td>0.0</td>\n",
       "      <td>0.0</td>\n",
       "      <td>0.0</td>\n",
       "      <td>1.0</td>\n",
       "      <td>0.0</td>\n",
       "      <td>1.0</td>\n",
       "    </tr>\n",
       "    <tr>\n",
       "      <th>326</th>\n",
       "      <td>0.634146</td>\n",
       "      <td>1.0</td>\n",
       "      <td>0.785558</td>\n",
       "      <td>0.795008</td>\n",
       "      <td>0.000000</td>\n",
       "      <td>0.701147</td>\n",
       "      <td>0.606483</td>\n",
       "      <td>0.852440</td>\n",
       "      <td>0.809983</td>\n",
       "      <td>0.883526</td>\n",
       "      <td>...</td>\n",
       "      <td>0.0</td>\n",
       "      <td>0.0</td>\n",
       "      <td>0.0</td>\n",
       "      <td>0.0</td>\n",
       "      <td>0.0</td>\n",
       "      <td>0.0</td>\n",
       "      <td>0.0</td>\n",
       "      <td>1.0</td>\n",
       "      <td>0.0</td>\n",
       "      <td>1.0</td>\n",
       "    </tr>\n",
       "  </tbody>\n",
       "</table>\n",
       "<p>327 rows × 22 columns</p>\n",
       "</div>"
      ],
      "text/plain": [
       "         age1  land     labch   labch10   labch20  labh_hour  lab_cost  \\\n",
       "0    0.878049   0.0  0.000000  0.000000  0.000000   0.000000  0.314661   \n",
       "1    0.902439   0.0  0.454873  0.422891  0.657778   0.306866  0.718998   \n",
       "2    0.804878   0.0  0.384745  0.377124  0.550829   0.235466  0.773628   \n",
       "3    0.268293   0.0  0.311241  0.273362  0.563446   0.165363  0.863069   \n",
       "4    0.731707   0.0  0.325018  0.309964  0.534949   0.172369  0.828171   \n",
       "..        ...   ...       ...       ...       ...        ...       ...   \n",
       "322  0.365854   1.0  0.653520  0.661382  0.000000   0.547400  0.617630   \n",
       "323  0.560976   1.0  0.755433  0.764520  0.000000   0.677206  0.551320   \n",
       "324  0.975610   1.0  0.692213  0.631021  0.838590   0.576228  0.568604   \n",
       "325  0.634146   1.0  0.788729  0.739692  0.892057   0.720000  0.589396   \n",
       "326  0.634146   1.0  0.785558  0.795008  0.000000   0.701147  0.606483   \n",
       "\n",
       "         fmtc     lansh      fmoc  ...    1    2    3    4    5    6    7  \\\n",
       "0    0.073612  0.244929  0.100843  ...  1.0  0.0  1.0  0.0  0.0  0.0  0.0   \n",
       "1    0.346441  0.416720  0.361481  ...  1.0  0.0  0.0  0.0  0.0  0.0  0.0   \n",
       "2    0.108833  0.332370  0.080905  ...  0.0  0.0  0.0  0.0  0.0  0.0  0.0   \n",
       "3    0.117295  0.496746  0.130374  ...  0.0  1.0  0.0  0.0  0.0  0.0  0.0   \n",
       "4    0.099536  0.444100  0.094027  ...  0.0  1.0  0.0  0.0  0.0  0.0  0.0   \n",
       "..        ...       ...       ...  ...  ...  ...  ...  ...  ...  ...  ...   \n",
       "322  0.826844  0.770992  0.880635  ...  0.0  1.0  0.0  0.0  0.0  0.0  0.0   \n",
       "323  0.850449  0.791931  0.888755  ...  0.0  0.0  0.0  0.0  0.0  0.0  0.0   \n",
       "324  0.852063  0.852202  0.897720  ...  1.0  0.0  0.0  0.0  0.0  0.0  0.0   \n",
       "325  0.847295  0.800096  0.894783  ...  0.0  0.0  0.0  0.0  0.0  0.0  0.0   \n",
       "326  0.852440  0.809983  0.883526  ...  0.0  0.0  0.0  0.0  0.0  0.0  0.0   \n",
       "\n",
       "       8    9   10  \n",
       "0    0.0  0.0  1.0  \n",
       "1    1.0  0.0  1.0  \n",
       "2    1.0  0.0  1.0  \n",
       "3    1.0  0.0  1.0  \n",
       "4    1.0  0.0  1.0  \n",
       "..   ...  ...  ...  \n",
       "322  1.0  1.0  0.0  \n",
       "323  1.0  0.0  1.0  \n",
       "324  1.0  0.0  1.0  \n",
       "325  1.0  0.0  1.0  \n",
       "326  1.0  0.0  1.0  \n",
       "\n",
       "[327 rows x 22 columns]"
      ]
     },
     "execution_count": 16,
     "metadata": {},
     "output_type": "execute_result"
    }
   ],
   "source": [
    "numeric_data_df = pd.DataFrame(X_scaled, columns=numerical_variables)\n",
    "onehot_data_df = pd.DataFrame(onehot.toarray())\n",
    "\n",
    "X_data_df = pd.concat([numeric_data_df , onehot_data_df], axis=1)\n",
    "X_data_df"
   ]
  },
  {
   "cell_type": "code",
   "execution_count": 17,
   "metadata": {},
   "outputs": [],
   "source": [
    "X_data = np.array(X_data_df)\n",
    "y_data = np.array(data['cony'])"
   ]
  },
  {
   "cell_type": "markdown",
   "metadata": {},
   "source": [
    "# Train Test Split"
   ]
  },
  {
   "cell_type": "code",
   "execution_count": 18,
   "metadata": {},
   "outputs": [
    {
     "name": "stdout",
     "output_type": "stream",
     "text": [
      "(294, 22) (294,)\n",
      "(33, 22) (33,)\n"
     ]
    }
   ],
   "source": [
    "from sklearn.model_selection import train_test_split\n",
    "\n",
    "seed = 1234\n",
    "X_train, X_test, y_train, y_test = train_test_split(X_data, y_data,\n",
    "                                                    test_size=0.1,\n",
    "                                                    random_state=seed)\n",
    "print(X_train.shape, y_train.shape)\n",
    "print(X_test.shape, y_test.shape)"
   ]
  },
  {
   "cell_type": "markdown",
   "metadata": {},
   "source": [
    "# Modeling"
   ]
  },
  {
   "cell_type": "markdown",
   "metadata": {},
   "source": [
    "## Decision Tree"
   ]
  },
  {
   "cell_type": "code",
   "execution_count": 19,
   "metadata": {},
   "outputs": [
    {
     "data": {
      "text/plain": [
       "DecisionTreeRegressor(random_state=1234)"
      ]
     },
     "execution_count": 19,
     "metadata": {},
     "output_type": "execute_result"
    }
   ],
   "source": [
    "from sklearn.tree import DecisionTreeRegressor\n",
    "from sklearn.metrics import mean_squared_error\n",
    "\n",
    "dt = DecisionTreeRegressor(random_state=seed)\n",
    "dt.fit(X_train, y_train)"
   ]
  },
  {
   "cell_type": "code",
   "execution_count": 20,
   "metadata": {},
   "outputs": [
    {
     "name": "stdout",
     "output_type": "stream",
     "text": [
      "[6.05337177 1.69072502 7.5741734  6.85400282 7.05059281 6.37031741\n",
      " 6.56593191 4.02535169 6.69826805 7.01401539]\n"
     ]
    }
   ],
   "source": [
    "dt_pred = dt.predict(X_test)\n",
    "print(dt_pred[:10])"
   ]
  },
  {
   "cell_type": "code",
   "execution_count": 21,
   "metadata": {},
   "outputs": [
    {
     "data": {
      "text/plain": [
       "0.8407932588855169"
      ]
     },
     "execution_count": 21,
     "metadata": {},
     "output_type": "execute_result"
    }
   ],
   "source": [
    "dt_rmse = np.sqrt(mean_squared_error(y_test, dt_pred))\n",
    "dt_rmse"
   ]
  },
  {
   "cell_type": "markdown",
   "metadata": {},
   "source": [
    "## RandomForest"
   ]
  },
  {
   "cell_type": "code",
   "execution_count": 22,
   "metadata": {},
   "outputs": [
    {
     "data": {
      "text/plain": [
       "RandomForestRegressor(max_features='sqrt', n_estimators=3000, random_state=1234)"
      ]
     },
     "execution_count": 22,
     "metadata": {},
     "output_type": "execute_result"
    }
   ],
   "source": [
    "from sklearn.ensemble import RandomForestRegressor\n",
    "\n",
    "rf = RandomForestRegressor(n_estimators = 3000, max_features = 'sqrt', \n",
    "                           random_state = seed)\n",
    "rf.fit(X_train, y_train)"
   ]
  },
  {
   "cell_type": "code",
   "execution_count": 23,
   "metadata": {},
   "outputs": [
    {
     "name": "stdout",
     "output_type": "stream",
     "text": [
      "[6.04880689 1.79383013 7.39311054 6.79283018 6.69282575 6.21001953\n",
      " 6.7103072  2.77753735 6.87439617 6.3424277 ]\n"
     ]
    }
   ],
   "source": [
    "rf_pred = rf.predict(X_test)\n",
    "print(rf_pred[:10])"
   ]
  },
  {
   "cell_type": "code",
   "execution_count": 24,
   "metadata": {},
   "outputs": [
    {
     "data": {
      "text/plain": [
       "0.39802976293616316"
      ]
     },
     "execution_count": 24,
     "metadata": {},
     "output_type": "execute_result"
    }
   ],
   "source": [
    "rf_rmse = np.sqrt(mean_squared_error(y_test, rf_pred))\n",
    "rf_rmse"
   ]
  },
  {
   "cell_type": "code",
   "execution_count": 25,
   "metadata": {},
   "outputs": [
    {
     "data": {
      "image/png": "[encoded data removed]",
      "text/plain": [
       "<Figure size 576x432 with 1 Axes>"
      ]
     },
     "metadata": {
      "needs_background": "light"
     },
     "output_type": "display_data"
    }
   ],
   "source": [
    "import seaborn as sns\n",
    "\n",
    "importances_values = rf.feature_importances_ \n",
    "importances = pd.Series(importances_values, index=X_data_df.columns)\n",
    "\n",
    "top20 = importances.sort_values(ascending=False)[:20]\n",
    "plt.figure(figsize=(8, 6))\n",
    "plt.title('Feature importances Top 20')\n",
    "sns.barplot(x = top20, y = top20.index)\n",
    "plt.show()"
   ]
  },
  {
   "cell_type": "markdown",
   "metadata": {},
   "source": [
    "## Ridge"
   ]
  },
  {
   "cell_type": "code",
   "execution_count": 26,
   "metadata": {},
   "outputs": [
    {
     "data": {
      "text/plain": [
       "Ridge(alpha=0.1724)"
      ]
     },
     "execution_count": 26,
     "metadata": {},
     "output_type": "execute_result"
    }
   ],
   "source": [
    "from sklearn.linear_model import Ridge\n",
    "\n",
    "ridge = Ridge(alpha=0.1724)\n",
    "ridge.fit(X_train, y_train)"
   ]
  },
  {
   "cell_type": "code",
   "execution_count": 27,
   "metadata": {},
   "outputs": [
    {
     "name": "stdout",
     "output_type": "stream",
     "text": [
      "0.8158455651294034\n"
     ]
    }
   ],
   "source": [
    "print(ridge.score(X_train, y_train))"
   ]
  },
  {
   "cell_type": "code",
   "execution_count": 28,
   "metadata": {},
   "outputs": [
    {
     "data": {
      "text/plain": [
       "0.44315502427372866"
      ]
     },
     "execution_count": 28,
     "metadata": {},
     "output_type": "execute_result"
    }
   ],
   "source": [
    "ridge_pred = ridge.predict(X_test)\n",
    "ridge_rmse = np.sqrt(mean_squared_error(y_test, ridge_pred))\n",
    "ridge_rmse"
   ]
  },
  {
   "cell_type": "markdown",
   "metadata": {},
   "source": [
    "## LASSO"
   ]
  },
  {
   "cell_type": "code",
   "execution_count": 29,
   "metadata": {},
   "outputs": [
    {
     "data": {
      "text/plain": [
       "Lasso(alpha=0.001)"
      ]
     },
     "execution_count": 29,
     "metadata": {},
     "output_type": "execute_result"
    }
   ],
   "source": [
    "from sklearn.linear_model import Lasso\n",
    "\n",
    "lasso = Lasso(alpha=0.001)\n",
    "lasso.fit(X_train, y_train)"
   ]
  },
  {
   "cell_type": "code",
   "execution_count": 30,
   "metadata": {},
   "outputs": [
    {
     "name": "stdout",
     "output_type": "stream",
     "text": [
      "0.815993446825579\n"
     ]
    }
   ],
   "source": [
    "print(lasso.score(X_train, y_train))"
   ]
  },
  {
   "cell_type": "code",
   "execution_count": 31,
   "metadata": {},
   "outputs": [
    {
     "data": {
      "text/plain": [
       "0.437488338709383"
      ]
     },
     "execution_count": 31,
     "metadata": {},
     "output_type": "execute_result"
    }
   ],
   "source": [
    "lasso_pred = lasso.predict(X_test)\n",
    "lasso_rmse = np.sqrt(mean_squared_error(y_test, lasso_pred))\n",
    "lasso_rmse"
   ]
  },
  {
   "cell_type": "markdown",
   "metadata": {},
   "source": [
    "## GBM"
   ]
  },
  {
   "cell_type": "code",
   "execution_count": 32,
   "metadata": {},
   "outputs": [
    {
     "name": "stdout",
     "output_type": "stream",
     "text": [
      "[5.95522618 1.56435092 7.57725834 6.75159569 6.61385256 5.82790191\n",
      " 6.67902154 2.20321291 6.85766087 6.24740242]\n"
     ]
    }
   ],
   "source": [
    "from sklearn.ensemble import GradientBoostingRegressor\n",
    "\n",
    "gbm = GradientBoostingRegressor(n_estimators=300, max_depth=5)\n",
    "gbm.fit(X_train, y_train)\n",
    "\n",
    "gbm_pred = gbm.predict(X_test)\n",
    "print(gbm_pred[:10])"
   ]
  },
  {
   "cell_type": "code",
   "execution_count": 33,
   "metadata": {},
   "outputs": [
    {
     "data": {
      "text/plain": [
       "0.43312857160459417"
      ]
     },
     "execution_count": 33,
     "metadata": {},
     "output_type": "execute_result"
    }
   ],
   "source": [
    "gbm_rmse = np.sqrt(mean_squared_error(y_test, gbm_pred))\n",
    "gbm_rmse"
   ]
  },
  {
   "cell_type": "markdown",
   "metadata": {},
   "source": [
    "## AdaBoost"
   ]
  },
  {
   "cell_type": "code",
   "execution_count": 34,
   "metadata": {},
   "outputs": [
    {
     "name": "stdout",
     "output_type": "stream",
     "text": [
      "[6.33487681 1.91575883 6.90993395 6.49930315 6.63809052 6.28561169\n",
      " 6.38083556 2.54683383 6.32111007 6.30809611]\n"
     ]
    }
   ],
   "source": [
    "from sklearn.ensemble import AdaBoostRegressor\n",
    "\n",
    "ada = AdaBoostRegressor(n_estimators = 500, learning_rate = 0.1)\n",
    "ada.fit(X_train, y_train)\n",
    "\n",
    "ada_pred = ada.predict(X_test)\n",
    "print(ada_pred[:10])"
   ]
  },
  {
   "cell_type": "code",
   "execution_count": 35,
   "metadata": {},
   "outputs": [
    {
     "data": {
      "text/plain": [
       "0.5198785619052385"
      ]
     },
     "execution_count": 35,
     "metadata": {},
     "output_type": "execute_result"
    }
   ],
   "source": [
    "ada_rmse = np.sqrt(mean_squared_error(y_test, ada_pred))\n",
    "ada_rmse"
   ]
  },
  {
   "cell_type": "markdown",
   "metadata": {},
   "source": [
    "## XGBoost"
   ]
  },
  {
   "cell_type": "code",
   "execution_count": 36,
   "metadata": {},
   "outputs": [
    {
     "name": "stdout",
     "output_type": "stream",
     "text": [
      "1.3.3\n",
      "[5.976905  1.8704817 7.284268  6.6178    6.368776  5.843426  6.575346\n",
      " 2.7345078 6.9769874 5.9978704]\n"
     ]
    }
   ],
   "source": [
    "import xgboost as xgb\n",
    "print(xgb.__version__)\n",
    "\n",
    "xgb_reg = xgb.XGBRegressor(learning_rate=0.01, max_depth=9, \n",
    "                           gamma=0.1, n_estimators=1000,\n",
    "                           subsample=0.7, colsample_bytree=0.8)\n",
    "xgb_reg.fit(X_train, y_train, verbose=False)\n",
    "\n",
    "xgb_pred = xgb_reg.predict(X_test)\n",
    "print(xgb_pred[:10])"
   ]
  },
  {
   "cell_type": "code",
   "execution_count": 37,
   "metadata": {},
   "outputs": [
    {
     "data": {
      "text/plain": [
       "0.39315411367683994"
      ]
     },
     "execution_count": 37,
     "metadata": {},
     "output_type": "execute_result"
    }
   ],
   "source": [
    "xgb_rmse = np.sqrt(mean_squared_error(y_test, xgb_pred))\n",
    "xgb_rmse"
   ]
  },
  {
   "cell_type": "code",
   "execution_count": 38,
   "metadata": {},
   "outputs": [
    {
     "data": {
      "image/png": "[encoded data removed]",
      "text/plain": [
       "<Figure size 720x864 with 1 Axes>"
      ]
     },
     "metadata": {
      "needs_background": "light"
     },
     "output_type": "display_data"
    }
   ],
   "source": [
    "from xgboost import plot_importance\n",
    "\n",
    "plot_importance(xgb_reg, max_num_features=20)\n",
    "\n",
    "fig = plt.gcf()\n",
    "fig.set_size_inches(10, 12)"
   ]
  },
  {
   "cell_type": "markdown",
   "metadata": {},
   "source": [
    "## LightGBM"
   ]
  },
  {
   "cell_type": "code",
   "execution_count": 39,
   "metadata": {},
   "outputs": [
    {
     "data": {
      "text/plain": [
       "LGBMRegressor(max_depth=50, min_data_in_leaf=10, n_estimators=300,\n",
       "              num_leaves=10)"
      ]
     },
     "execution_count": 39,
     "metadata": {},
     "output_type": "execute_result"
    }
   ],
   "source": [
    "import lightgbm as lgb\n",
    "\n",
    "\n",
    "lgb_reg = lgb.LGBMRegressor(n_estimators=300, max_depth=50, num_leaves=10, min_data_in_leaf=10)\n",
    "lgb_reg.fit(X_train, y_train, verbose = False)"
   ]
  },
  {
   "cell_type": "code",
   "execution_count": 40,
   "metadata": {},
   "outputs": [
    {
     "name": "stdout",
     "output_type": "stream",
     "text": [
      "[6.11314894 2.01655332 7.7597261  6.75386968 6.50088503 5.87457532\n",
      " 6.93459464 2.67823516 6.71138261 6.22047155]\n"
     ]
    }
   ],
   "source": [
    "lgb_pred = lgb_reg.predict(X_test)\n",
    "print(lgb_pred[:10])"
   ]
  },
  {
   "cell_type": "code",
   "execution_count": 41,
   "metadata": {},
   "outputs": [
    {
     "data": {
      "text/plain": [
       "0.44363656347571206"
      ]
     },
     "execution_count": 41,
     "metadata": {},
     "output_type": "execute_result"
    }
   ],
   "source": [
    "lgb_rmse = np.sqrt(mean_squared_error(y_test, lgb_pred))\n",
    "lgb_rmse"
   ]
  },
  {
   "cell_type": "markdown",
   "metadata": {},
   "source": [
    "# Model Comparison"
   ]
  },
  {
   "cell_type": "code",
   "execution_count": 42,
   "metadata": {},
   "outputs": [
    {
     "data": {
      "text/html": [
       "<div>\n",
       "<style scoped>\n",
       "    .dataframe tbody tr th:only-of-type {\n",
       "        vertical-align: middle;\n",
       "    }\n",
       "\n",
       "    .dataframe tbody tr th {\n",
       "        vertical-align: top;\n",
       "    }\n",
       "\n",
       "    .dataframe thead th {\n",
       "        text-align: right;\n",
       "    }\n",
       "</style>\n",
       "<table border=\"1\" class=\"dataframe\">\n",
       "  <thead>\n",
       "    <tr style=\"text-align: right;\">\n",
       "      <th></th>\n",
       "      <th>Model</th>\n",
       "      <th>RMSE</th>\n",
       "    </tr>\n",
       "  </thead>\n",
       "  <tbody>\n",
       "    <tr>\n",
       "      <th>6</th>\n",
       "      <td>XGboost</td>\n",
       "      <td>0.393154</td>\n",
       "    </tr>\n",
       "    <tr>\n",
       "      <th>1</th>\n",
       "      <td>RandomForest</td>\n",
       "      <td>0.398030</td>\n",
       "    </tr>\n",
       "    <tr>\n",
       "      <th>4</th>\n",
       "      <td>GBM</td>\n",
       "      <td>0.433129</td>\n",
       "    </tr>\n",
       "    <tr>\n",
       "      <th>3</th>\n",
       "      <td>LASSO</td>\n",
       "      <td>0.437488</td>\n",
       "    </tr>\n",
       "    <tr>\n",
       "      <th>2</th>\n",
       "      <td>Ridge</td>\n",
       "      <td>0.443155</td>\n",
       "    </tr>\n",
       "    <tr>\n",
       "      <th>7</th>\n",
       "      <td>LightGBM</td>\n",
       "      <td>0.443637</td>\n",
       "    </tr>\n",
       "    <tr>\n",
       "      <th>5</th>\n",
       "      <td>AdaBoost</td>\n",
       "      <td>0.519879</td>\n",
       "    </tr>\n",
       "    <tr>\n",
       "      <th>0</th>\n",
       "      <td>Decision Tree</td>\n",
       "      <td>0.840793</td>\n",
       "    </tr>\n",
       "  </tbody>\n",
       "</table>\n",
       "</div>"
      ],
      "text/plain": [
       "           Model      RMSE\n",
       "6        XGboost  0.393154\n",
       "1   RandomForest  0.398030\n",
       "4            GBM  0.433129\n",
       "3          LASSO  0.437488\n",
       "2          Ridge  0.443155\n",
       "7       LightGBM  0.443637\n",
       "5       AdaBoost  0.519879\n",
       "0  Decision Tree  0.840793"
      ]
     },
     "execution_count": 42,
     "metadata": {},
     "output_type": "execute_result"
    }
   ],
   "source": [
    "model_result = pd.DataFrame({\n",
    "    'Model': ['Decision Tree', 'RandomForest', 'Ridge', 'LASSO',\n",
    "              'GBM', 'AdaBoost', 'XGboost', 'LightGBM'],\n",
    "    'RMSE': [dt_rmse, rf_rmse, ridge_rmse, lasso_rmse,\n",
    "             gbm_rmse, ada_rmse, xgb_rmse, lgb_rmse]})\n",
    "model_result.sort_values(by='RMSE', ascending=True)"
   ]
  },
  {
   "cell_type": "markdown",
   "metadata": {},
   "source": [
    "# Ensemble"
   ]
  },
  {
   "cell_type": "code",
   "execution_count": 43,
   "metadata": {},
   "outputs": [],
   "source": [
    "import torch\n",
    "from sklearn.metrics import mean_squared_error\n",
    "\n",
    "class EnsembleRegressor:\n",
    "    def __init__(self, models, weights=None):\n",
    "        \n",
    "        self.models = models\n",
    "        self.weights = weights\n",
    "        \n",
    "    def predict(self, X_test):\n",
    "        pred_list = []\n",
    "        for i, model in enumerate(models.values()):\n",
    "            pred_list.append(model.predict(X_test))\n",
    "        preds = np.array(pred_list)\n",
    "            \n",
    "        prediction = np.average(preds, axis=0, weights=self.weights)\n",
    "\n",
    "        return prediction\n",
    "    \n",
    "    def random_search(self, X_test, y_test, num_search):\n",
    "        weights = torch.softmax(torch.rand(num_search, len(self.models)), axis=1).numpy()\n",
    "        \n",
    "        pred_list = []\n",
    "        for i, model in enumerate(models.values()):\n",
    "            pred_list.append(model.predict(X_test))\n",
    "        preds = np.array(pred_list)\n",
    "\n",
    "        mse = []\n",
    "        for i in range(num_search):\n",
    "            prediction = np.average(preds, axis=0, weights=weights[i])\n",
    "            mse_ = mean_squared_error(y_test, prediction)\n",
    "            mse.append(mse_)\n",
    "        \n",
    "        result = pd.DataFrame(weights)\n",
    "        result['RMSE'] = np.sqrt(mse)\n",
    "\n",
    "        return result.sort_values('RMSE', ascending=True)"
   ]
  },
  {
   "cell_type": "code",
   "execution_count": 44,
   "metadata": {},
   "outputs": [
    {
     "data": {
      "text/html": [
       "<div>\n",
       "<style scoped>\n",
       "    .dataframe tbody tr th:only-of-type {\n",
       "        vertical-align: middle;\n",
       "    }\n",
       "\n",
       "    .dataframe tbody tr th {\n",
       "        vertical-align: top;\n",
       "    }\n",
       "\n",
       "    .dataframe thead th {\n",
       "        text-align: right;\n",
       "    }\n",
       "</style>\n",
       "<table border=\"1\" class=\"dataframe\">\n",
       "  <thead>\n",
       "    <tr style=\"text-align: right;\">\n",
       "      <th></th>\n",
       "      <th>0</th>\n",
       "      <th>1</th>\n",
       "      <th>RMSE</th>\n",
       "    </tr>\n",
       "  </thead>\n",
       "  <tbody>\n",
       "    <tr>\n",
       "      <th>23854</th>\n",
       "      <td>0.452354</td>\n",
       "      <td>0.547646</td>\n",
       "      <td>0.382474</td>\n",
       "    </tr>\n",
       "    <tr>\n",
       "      <th>7454</th>\n",
       "      <td>0.452337</td>\n",
       "      <td>0.547663</td>\n",
       "      <td>0.382474</td>\n",
       "    </tr>\n",
       "    <tr>\n",
       "      <th>11593</th>\n",
       "      <td>0.452391</td>\n",
       "      <td>0.547609</td>\n",
       "      <td>0.382474</td>\n",
       "    </tr>\n",
       "    <tr>\n",
       "      <th>13445</th>\n",
       "      <td>0.452398</td>\n",
       "      <td>0.547602</td>\n",
       "      <td>0.382474</td>\n",
       "    </tr>\n",
       "    <tr>\n",
       "      <th>5130</th>\n",
       "      <td>0.452309</td>\n",
       "      <td>0.547691</td>\n",
       "      <td>0.382474</td>\n",
       "    </tr>\n",
       "    <tr>\n",
       "      <th>2180</th>\n",
       "      <td>0.452303</td>\n",
       "      <td>0.547697</td>\n",
       "      <td>0.382474</td>\n",
       "    </tr>\n",
       "    <tr>\n",
       "      <th>22339</th>\n",
       "      <td>0.452408</td>\n",
       "      <td>0.547592</td>\n",
       "      <td>0.382474</td>\n",
       "    </tr>\n",
       "    <tr>\n",
       "      <th>25953</th>\n",
       "      <td>0.452411</td>\n",
       "      <td>0.547589</td>\n",
       "      <td>0.382474</td>\n",
       "    </tr>\n",
       "    <tr>\n",
       "      <th>11606</th>\n",
       "      <td>0.452414</td>\n",
       "      <td>0.547585</td>\n",
       "      <td>0.382474</td>\n",
       "    </tr>\n",
       "    <tr>\n",
       "      <th>24793</th>\n",
       "      <td>0.452295</td>\n",
       "      <td>0.547705</td>\n",
       "      <td>0.382474</td>\n",
       "    </tr>\n",
       "  </tbody>\n",
       "</table>\n",
       "</div>"
      ],
      "text/plain": [
       "              0         1      RMSE\n",
       "23854  0.452354  0.547646  0.382474\n",
       "7454   0.452337  0.547663  0.382474\n",
       "11593  0.452391  0.547609  0.382474\n",
       "13445  0.452398  0.547602  0.382474\n",
       "5130   0.452309  0.547691  0.382474\n",
       "2180   0.452303  0.547697  0.382474\n",
       "22339  0.452408  0.547592  0.382474\n",
       "25953  0.452411  0.547589  0.382474\n",
       "11606  0.452414  0.547585  0.382474\n",
       "24793  0.452295  0.547705  0.382474"
      ]
     },
     "execution_count": 44,
     "metadata": {},
     "output_type": "execute_result"
    }
   ],
   "source": [
    "models = {'RandomForest' : rf, 'XGBoost' : xgb_reg}\n",
    "\n",
    "ensemble = EnsembleRegressor(models, weights=None)\n",
    "result = ensemble.random_search(X_test, y_test, 30000)\n",
    "result.head(10)"
   ]
  },
  {
   "cell_type": "code",
   "execution_count": 45,
   "metadata": {},
   "outputs": [
    {
     "name": "stdout",
     "output_type": "stream",
     "text": [
      "[0.452, 0.548]\n"
     ]
    }
   ],
   "source": [
    "optimal_weight = np.round(result.iloc[0,:-1], 3).tolist()\n",
    "print(optimal_weight)"
   ]
  },
  {
   "cell_type": "code",
   "execution_count": 46,
   "metadata": {},
   "outputs": [
    {
     "name": "stdout",
     "output_type": "stream",
     "text": [
      "[6.00940458 1.83583521 7.33346478 6.69691377 6.5152464  6.0091264\n",
      " 6.63634846 2.75395715 6.93061614 6.15361032]\n"
     ]
    }
   ],
   "source": [
    "ensemble = EnsembleRegressor(models, weights=optimal_weight)\n",
    "\n",
    "preds = ensemble.predict(X_test)\n",
    "print(preds[:10])"
   ]
  },
  {
   "cell_type": "code",
   "execution_count": 47,
   "metadata": {},
   "outputs": [
    {
     "data": {
      "text/plain": [
       "0.3824741840579247"
      ]
     },
     "execution_count": 47,
     "metadata": {},
     "output_type": "execute_result"
    }
   ],
   "source": [
    "rmse = np.sqrt(mean_squared_error(y_test, preds))\n",
    "rmse"
   ]
  },
  {
   "cell_type": "markdown",
   "metadata": {},
   "source": [
    "# Evaluation"
   ]
  },
  {
   "cell_type": "code",
   "execution_count": 48,
   "metadata": {},
   "outputs": [
    {
     "name": "stdout",
     "output_type": "stream",
     "text": [
      "[ 406.24077031    5.27036901 1529.67604486  808.9024185   674.36035156\n",
      "  406.12749919  761.3063128    14.70465483 1022.12417723  469.41266612]\n",
      "[ 533.14285714   12.59891111 1668.75        804.21052632  801.62790698\n",
      "  347.36111111  920.           25.          832.5         449.6875    ]\n"
     ]
    }
   ],
   "source": [
    "inverse_transformed_pred = np.expm1(preds)\n",
    "inverse_transformed_pred = np.where(inverse_transformed_pred < 0, 0, inverse_transformed_pred)\n",
    "inverse_transformed_y_test = np.expm1(y_test)\n",
    "\n",
    "print(inverse_transformed_pred[:10])\n",
    "print(inverse_transformed_y_test[:10])"
   ]
  },
  {
   "cell_type": "code",
   "execution_count": 49,
   "metadata": {},
   "outputs": [
    {
     "data": {
      "text/plain": [
       "306.28286044254514"
      ]
     },
     "execution_count": 49,
     "metadata": {},
     "output_type": "execute_result"
    }
   ],
   "source": [
    "np.sqrt(mean_squared_error(inverse_transformed_y_test, inverse_transformed_pred))"
   ]
  },
  {
   "cell_type": "code",
   "execution_count": 50,
   "metadata": {},
   "outputs": [
    {
     "data": {
      "text/html": [
       "<div>\n",
       "<style scoped>\n",
       "    .dataframe tbody tr th:only-of-type {\n",
       "        vertical-align: middle;\n",
       "    }\n",
       "\n",
       "    .dataframe tbody tr th {\n",
       "        vertical-align: top;\n",
       "    }\n",
       "\n",
       "    .dataframe thead th {\n",
       "        text-align: right;\n",
       "    }\n",
       "</style>\n",
       "<table border=\"1\" class=\"dataframe\">\n",
       "  <thead>\n",
       "    <tr style=\"text-align: right;\">\n",
       "      <th></th>\n",
       "      <th>생산량</th>\n",
       "      <th>예측값</th>\n",
       "    </tr>\n",
       "  </thead>\n",
       "  <tbody>\n",
       "    <tr>\n",
       "      <th>0</th>\n",
       "      <td>533.1</td>\n",
       "      <td>406.2</td>\n",
       "    </tr>\n",
       "    <tr>\n",
       "      <th>1</th>\n",
       "      <td>12.6</td>\n",
       "      <td>5.3</td>\n",
       "    </tr>\n",
       "    <tr>\n",
       "      <th>2</th>\n",
       "      <td>1668.7</td>\n",
       "      <td>1529.7</td>\n",
       "    </tr>\n",
       "    <tr>\n",
       "      <th>3</th>\n",
       "      <td>804.2</td>\n",
       "      <td>808.9</td>\n",
       "    </tr>\n",
       "    <tr>\n",
       "      <th>4</th>\n",
       "      <td>801.6</td>\n",
       "      <td>674.4</td>\n",
       "    </tr>\n",
       "    <tr>\n",
       "      <th>5</th>\n",
       "      <td>347.4</td>\n",
       "      <td>406.1</td>\n",
       "    </tr>\n",
       "    <tr>\n",
       "      <th>6</th>\n",
       "      <td>920.0</td>\n",
       "      <td>761.3</td>\n",
       "    </tr>\n",
       "    <tr>\n",
       "      <th>7</th>\n",
       "      <td>25.0</td>\n",
       "      <td>14.7</td>\n",
       "    </tr>\n",
       "    <tr>\n",
       "      <th>8</th>\n",
       "      <td>832.5</td>\n",
       "      <td>1022.1</td>\n",
       "    </tr>\n",
       "    <tr>\n",
       "      <th>9</th>\n",
       "      <td>449.7</td>\n",
       "      <td>469.4</td>\n",
       "    </tr>\n",
       "    <tr>\n",
       "      <th>10</th>\n",
       "      <td>548.2</td>\n",
       "      <td>561.4</td>\n",
       "    </tr>\n",
       "    <tr>\n",
       "      <th>11</th>\n",
       "      <td>261.3</td>\n",
       "      <td>433.9</td>\n",
       "    </tr>\n",
       "    <tr>\n",
       "      <th>12</th>\n",
       "      <td>580.0</td>\n",
       "      <td>422.6</td>\n",
       "    </tr>\n",
       "    <tr>\n",
       "      <th>13</th>\n",
       "      <td>2.8</td>\n",
       "      <td>6.4</td>\n",
       "    </tr>\n",
       "    <tr>\n",
       "      <th>14</th>\n",
       "      <td>254.0</td>\n",
       "      <td>405.2</td>\n",
       "    </tr>\n",
       "    <tr>\n",
       "      <th>15</th>\n",
       "      <td>957.3</td>\n",
       "      <td>694.0</td>\n",
       "    </tr>\n",
       "    <tr>\n",
       "      <th>16</th>\n",
       "      <td>275.0</td>\n",
       "      <td>393.4</td>\n",
       "    </tr>\n",
       "    <tr>\n",
       "      <th>17</th>\n",
       "      <td>808.3</td>\n",
       "      <td>970.1</td>\n",
       "    </tr>\n",
       "    <tr>\n",
       "      <th>18</th>\n",
       "      <td>4.3</td>\n",
       "      <td>4.6</td>\n",
       "    </tr>\n",
       "    <tr>\n",
       "      <th>19</th>\n",
       "      <td>20.0</td>\n",
       "      <td>16.3</td>\n",
       "    </tr>\n",
       "    <tr>\n",
       "      <th>20</th>\n",
       "      <td>1492.0</td>\n",
       "      <td>1027.1</td>\n",
       "    </tr>\n",
       "    <tr>\n",
       "      <th>21</th>\n",
       "      <td>1118.4</td>\n",
       "      <td>608.0</td>\n",
       "    </tr>\n",
       "    <tr>\n",
       "      <th>22</th>\n",
       "      <td>1548.0</td>\n",
       "      <td>992.8</td>\n",
       "    </tr>\n",
       "    <tr>\n",
       "      <th>23</th>\n",
       "      <td>1922.0</td>\n",
       "      <td>956.0</td>\n",
       "    </tr>\n",
       "    <tr>\n",
       "      <th>24</th>\n",
       "      <td>1100.0</td>\n",
       "      <td>609.3</td>\n",
       "    </tr>\n",
       "    <tr>\n",
       "      <th>25</th>\n",
       "      <td>2172.0</td>\n",
       "      <td>1690.6</td>\n",
       "    </tr>\n",
       "    <tr>\n",
       "      <th>26</th>\n",
       "      <td>1360.0</td>\n",
       "      <td>1485.4</td>\n",
       "    </tr>\n",
       "    <tr>\n",
       "      <th>27</th>\n",
       "      <td>8.1</td>\n",
       "      <td>6.0</td>\n",
       "    </tr>\n",
       "    <tr>\n",
       "      <th>28</th>\n",
       "      <td>473.5</td>\n",
       "      <td>417.0</td>\n",
       "    </tr>\n",
       "    <tr>\n",
       "      <th>29</th>\n",
       "      <td>1426.2</td>\n",
       "      <td>960.7</td>\n",
       "    </tr>\n",
       "  </tbody>\n",
       "</table>\n",
       "</div>"
      ],
      "text/plain": [
       "       생산량     예측값\n",
       "0    533.1   406.2\n",
       "1     12.6     5.3\n",
       "2   1668.7  1529.7\n",
       "3    804.2   808.9\n",
       "4    801.6   674.4\n",
       "5    347.4   406.1\n",
       "6    920.0   761.3\n",
       "7     25.0    14.7\n",
       "8    832.5  1022.1\n",
       "9    449.7   469.4\n",
       "10   548.2   561.4\n",
       "11   261.3   433.9\n",
       "12   580.0   422.6\n",
       "13     2.8     6.4\n",
       "14   254.0   405.2\n",
       "15   957.3   694.0\n",
       "16   275.0   393.4\n",
       "17   808.3   970.1\n",
       "18     4.3     4.6\n",
       "19    20.0    16.3\n",
       "20  1492.0  1027.1\n",
       "21  1118.4   608.0\n",
       "22  1548.0   992.8\n",
       "23  1922.0   956.0\n",
       "24  1100.0   609.3\n",
       "25  2172.0  1690.6\n",
       "26  1360.0  1485.4\n",
       "27     8.1     6.0\n",
       "28   473.5   417.0\n",
       "29  1426.2   960.7"
      ]
     },
     "execution_count": 50,
     "metadata": {},
     "output_type": "execute_result"
    }
   ],
   "source": [
    "inverse_transformed_pred = pd.Series(np.round(inverse_transformed_pred,1), name='예측값')\n",
    "inverse_transformed_y_test= pd.Series(np.round(inverse_transformed_y_test,1), name='생산량')\n",
    "result = pd.concat([inverse_transformed_y_test, inverse_transformed_pred], axis=1)\n",
    "result[:30]"
   ]
  },
  {
   "cell_type": "markdown",
   "metadata": {},
   "source": [
    "# 2018-2019 Prediction"
   ]
  },
  {
   "cell_type": "code",
   "execution_count": 51,
   "metadata": {},
   "outputs": [],
   "source": [
    "import os\n",
    "import pandas as pd\n",
    "import numpy as np\n",
    "\n",
    "\n",
    "def load_data(path, year):\n",
    "    use_cols = ['age1',\n",
    "                'land', \n",
    "                'labch', 'labch10', 'labch20',\n",
    "                'labh_hour', 'lab_cost',\n",
    "                'fmtc','lansh','fmoc', 'rent',\n",
    "                'size', 'ara', 'de2',# explanatory variable (26개)\n",
    "                'cony'] # dependent variable (1개)\n",
    "    \n",
    "    # 2018\n",
    "    if year == 2018:\n",
    "        file_path1 = os.path.join(path, '2018년/2018년 임산물생산비조사_통합 데이터_5. 표고_노지(엑셀 1).xls')\n",
    "        file_path2 = os.path.join(path, '2018년/2018년 임산물생산비조사_통합 데이터_5. 표고_노지(엑셀 2).xls')\n",
    "        forest_data1 = pd.read_excel(file_path1)\n",
    "        forest_data2 = pd.read_excel(file_path2)\n",
    "        forest_2018 = pd.concat([forest_data1, forest_data2], axis=1)\n",
    "        data = forest_2018.loc[:,use_cols]\n",
    "        print(2018, data.shape)\n",
    "        \n",
    "    elif year == 2019:\n",
    "        file_path = os.path.join(path, '2019년/2019년 임산물생산비조사_통합 데이터_5. 표고노지.xlsx')\n",
    "        forest_2019 = pd.read_excel(file_path).loc[:,use_cols]\n",
    "        data = forest_2019\n",
    "        print(2019, data.shape)\n",
    "    else:\n",
    "        print('year must be in 2018, 2019')\n",
    "    \n",
    "    return data"
   ]
  },
  {
   "cell_type": "code",
   "execution_count": 65,
   "metadata": {},
   "outputs": [
    {
     "name": "stdout",
     "output_type": "stream",
     "text": [
      "2019 (64, 15)\n"
     ]
    }
   ],
   "source": [
    "data = load_data('./임산물생산비조사 마이크로데이터(2010-2019)', 2019)"
   ]
  },
  {
   "cell_type": "code",
   "execution_count": 66,
   "metadata": {},
   "outputs": [],
   "source": [
    "data.loc[:, ['labh_hour', 'lab_cost']] = np.log1p(data.loc[:, ['labh_hour', 'lab_cost']])\n",
    "data.loc[:, ['labch', 'labch10', 'labch20']] = np.log1p(data.loc[:, ['labch', 'labch10', 'labch20']])\n",
    "data.loc[:, ['fmtc','lansh','fmoc', 'rent']] = np.log1p(data.loc[:, ['fmtc','lansh','fmoc', 'rent']])"
   ]
  },
  {
   "cell_type": "code",
   "execution_count": 67,
   "metadata": {},
   "outputs": [],
   "source": [
    "data['cony'] = np.log1p(data['cony'])"
   ]
  },
  {
   "cell_type": "code",
   "execution_count": 68,
   "metadata": {},
   "outputs": [],
   "source": [
    "data.replace({'labch' : {0 : np.nan},\n",
    "              'labh_hour' : {0 : np.nan},\n",
    "              'lab_cost' : {0 : np.nan},\n",
    "              'lansh' : {0 : np.nan},},\n",
    "              inplace=True)"
   ]
  },
  {
   "cell_type": "code",
   "execution_count": 69,
   "metadata": {},
   "outputs": [],
   "source": [
    "if data.isnull().sum().sum() > 0:\n",
    "    print(data.isnull().sum())\n",
    "    data.fillna(data.mean(), inplace=True)"
   ]
  },
  {
   "cell_type": "code",
   "execution_count": 70,
   "metadata": {},
   "outputs": [
    {
     "name": "stdout",
     "output_type": "stream",
     "text": [
      "[array([1, 2, 3]), array([31, 33, 34, 36, 37, 99]), array([1, 2])]\n",
      "(64, 11)\n"
     ]
    }
   ],
   "source": [
    "from sklearn.preprocessing import OneHotEncoder\n",
    "\n",
    "onehot = onehot_encoder.transform(data.loc[:, categorical_variables])\n",
    "print(onehot_encoder.categories_)\n",
    "print(onehot.toarray().shape)"
   ]
  },
  {
   "cell_type": "code",
   "execution_count": 71,
   "metadata": {},
   "outputs": [
    {
     "data": {
      "text/plain": [
       "array([[0.51219512, 1.        , 0.84798481, 0.82701422, 0.897883  ,\n",
       "        0.79156596, 0.7239344 , 0.87580999, 0.64184923, 0.90784414,\n",
       "        0.87466267],\n",
       "       [0.70731707, 1.        , 0.55512495, 0.56180277, 0.        ,\n",
       "        0.41528631, 0.61962662, 0.81881814, 0.60147868, 0.87698239,\n",
       "        0.72467198],\n",
       "       [0.56097561, 1.        , 0.85682091, 0.86712795, 0.        ,\n",
       "        0.80400543, 0.72065732, 0.8701253 , 0.68646475, 0.88393891,\n",
       "        0.78338664],\n",
       "       [0.41463415, 1.        , 0.79350737, 0.80305279, 0.        ,\n",
       "        0.71964047, 0.64092469, 0.85422473, 0.87408331, 0.88959589,\n",
       "        0.91300743],\n",
       "       [0.17073171, 1.        , 0.94750021, 0.92929628, 0.95823194,\n",
       "        0.92772234, 0.77095391, 0.93563667, 0.64090614, 0.93681504,\n",
       "        0.        ],\n",
       "       [0.75609756, 1.        , 0.73418668, 0.74301851, 0.        ,\n",
       "        0.67868308, 0.52702529, 0.84587528, 0.83603542, 0.8842872 ,\n",
       "        0.        ],\n",
       "       [0.58536585, 1.        , 0.78686745, 0.796333  , 0.        ,\n",
       "        0.70173662, 0.62549351, 0.84707431, 0.79193142, 0.87763366,\n",
       "        0.        ],\n",
       "       [0.7804878 , 1.        , 0.91162881, 0.92259516, 0.        ,\n",
       "        0.88839027, 0.8131386 , 0.90048788, 0.70226869, 0.88866761,\n",
       "        0.79430517],\n",
       "       [0.46341463, 1.        , 0.73701747, 0.74588335, 0.        ,\n",
       "        0.65634851, 0.60901085, 0.84240304, 0.66353605, 0.88569858,\n",
       "        0.        ],\n",
       "       [0.43902439, 1.        , 0.89415118, 0.90490729, 0.        ,\n",
       "        0.84337648, 0.70994814, 0.90343447, 0.77099219, 0.90795399,\n",
       "        0.84178445],\n",
       "       [0.26829268, 1.        , 0.98437206, 0.99224297, 0.86280466,\n",
       "        0.97466612, 0.86651484, 0.96662966, 0.67895449, 0.92379617,\n",
       "        0.        ],\n",
       "       [0.92682927, 1.        , 0.82274592, 0.81151389, 0.8603711 ,\n",
       "        0.76939794, 0.81114311, 0.86028366, 0.73752272, 0.89406202,\n",
       "        0.81866127],\n",
       "       [0.75609756, 1.        , 0.83564421, 0.82195541, 0.87332043,\n",
       "        0.7628582 , 0.64304414, 0.88544448, 0.67895492, 0.9188529 ,\n",
       "        0.        ],\n",
       "       [0.68292683, 1.        , 0.8567207 , 0.86238103, 0.78753269,\n",
       "        0.81184763, 0.7132105 , 0.86847727, 0.74399683, 0.88190054,\n",
       "        0.75191138],\n",
       "       [0.53658537, 1.        , 0.84987541, 0.8600989 , 0.        ,\n",
       "        0.78439803, 0.6637737 , 0.86398208, 0.72320788, 0.87932058,\n",
       "        0.80877152],\n",
       "       [0.90243902, 1.        , 0.75144391, 0.76048333, 0.        ,\n",
       "        0.65163326, 0.64622136, 0.84662036, 0.77575653, 0.88936048,\n",
       "        0.84507602],\n",
       "       [0.73170732, 1.        , 0.84403368, 0.82116703, 0.89684555,\n",
       "        0.81674063, 0.77202166, 0.8745923 , 0.65653149, 0.90732901,\n",
       "        0.        ],\n",
       "       [0.2195122 , 1.        , 0.76700176, 0.72215065, 0.87209643,\n",
       "        0.68877883, 0.78562508, 0.85186556, 0.6093327 , 0.90027585,\n",
       "        0.        ],\n",
       "       [0.51219512, 1.        , 0.75875389, 0.76516673, 0.69608153,\n",
       "        0.65998975, 0.76601262, 0.84073188, 0.62120261, 0.88164608,\n",
       "        0.8397089 ],\n",
       "       [0.58536585, 1.        , 0.81332979, 0.78929499, 0.8802488 ,\n",
       "        0.75280308, 0.83191733, 0.87372108, 0.67095323, 0.91497929,\n",
       "        0.        ],\n",
       "       [0.48780488, 1.        , 0.75793241, 0.73519801, 0.83992226,\n",
       "        0.67626368, 0.73473219, 0.8432033 , 0.69890137, 0.88802544,\n",
       "        0.        ],\n",
       "       [0.65853659, 1.        , 0.74923437, 0.75824721, 0.        ,\n",
       "        0.67223572, 0.62852419, 0.84607632, 0.62864302, 0.88857631,\n",
       "        0.        ],\n",
       "       [0.70731707, 1.        , 0.60377885, 0.57823357, 0.74226746,\n",
       "        0.45202581, 0.57198993, 0.82250504, 0.63139314, 0.87926536,\n",
       "        0.        ],\n",
       "       [0.70731707, 1.        , 0.72410348, 0.73281401, 0.        ,\n",
       "        0.66754966, 0.52632312, 0.85034734, 0.7411093 , 0.89509895,\n",
       "        0.        ],\n",
       "       [0.53658537, 1.        , 0.5863206 , 0.59337369, 0.        ,\n",
       "        0.43684052, 0.561499  , 0.81975426, 0.47277584, 0.87657539,\n",
       "        0.        ],\n",
       "       [0.80487805, 1.        , 0.74574448, 0.75471535, 0.        ,\n",
       "        0.67267541, 0.6977389 , 0.84385466, 0.59680259, 0.88679608,\n",
       "        0.        ],\n",
       "       [0.26829268, 1.        , 0.78548084, 0.79492971, 0.        ,\n",
       "        0.70660678, 0.67730505, 0.850124  , 0.63843661, 0.88532187,\n",
       "        0.        ],\n",
       "       [0.41463415, 1.        , 0.77786514, 0.78701422, 0.        ,\n",
       "        0.67650582, 0.71600578, 0.85491776, 0.60310088, 0.89249644,\n",
       "        0.        ],\n",
       "       [0.48780488, 1.        , 0.82723552, 0.82599087, 0.82391901,\n",
       "        0.78144451, 0.91382973, 0.85435621, 0.51996263, 0.8815175 ,\n",
       "        0.        ],\n",
       "       [0.65853659, 1.        , 0.75615685, 0.71223234, 0.86420025,\n",
       "        0.68020008, 0.78405189, 0.85119024, 0.74231336, 0.89827149,\n",
       "        0.82772041],\n",
       "       [0.63414634, 1.        , 0.80548977, 0.69172985, 0.92916353,\n",
       "        0.73896552, 0.75408893, 0.85485761, 0.77386945, 0.90550877,\n",
       "        0.        ],\n",
       "       [0.56097561, 1.        , 0.79549997, 0.76161821, 0.88127001,\n",
       "        0.72579014, 0.67588686, 0.84740839, 0.69700541, 0.88783901,\n",
       "        0.        ],\n",
       "       [1.        , 1.        , 0.81309078, 0.82287178, 0.        ,\n",
       "        0.73354363, 0.67065097, 0.85940946, 0.86897036, 0.87816859,\n",
       "        0.        ],\n",
       "       [0.65853659, 1.        , 0.74481198, 0.65411417, 0.88506197,\n",
       "        0.68230448, 0.7569573 , 0.83715752, 0.599249  , 0.89152537,\n",
       "        0.        ],\n",
       "       [0.75609756, 1.        , 0.75479449, 0.6969021 , 0.87563366,\n",
       "        0.65459984, 0.78964165, 0.84311179, 0.59881977, 0.89467527,\n",
       "        0.86857838],\n",
       "       [0.63414634, 1.        , 0.8161807 , 0.82599887, 0.        ,\n",
       "        0.76273761, 0.77482379, 0.85951116, 0.62044953, 0.88822818,\n",
       "        0.73777844],\n",
       "       [0.48780488, 1.        , 0.73575461, 0.7446053 , 0.        ,\n",
       "        0.66775687, 0.56704487, 0.83961337, 0.72688825, 0.88090968,\n",
       "        0.        ],\n",
       "       [0.56097561, 1.        , 0.83496792, 0.76620633, 0.93450922,\n",
       "        0.78165841, 0.73184752, 0.87237615, 0.67379042, 0.91844511,\n",
       "        0.        ],\n",
       "       [0.63414634, 1.        , 0.79068039, 0.75973894, 0.87521784,\n",
       "        0.72107141, 0.7164405 , 0.86656948, 0.67606625, 0.90719694,\n",
       "        0.        ],\n",
       "       [0.65853659, 1.        , 0.72228183, 0.73097044, 0.        ,\n",
       "        0.6383956 , 0.63822524, 0.83057373, 0.64090614, 0.87596159,\n",
       "        0.        ],\n",
       "       [0.80487805, 1.        , 0.86596165, 0.87068206, 0.        ,\n",
       "        0.77364113, 0.68347204, 0.87373908, 0.74065103, 0.88012576,\n",
       "        0.        ],\n",
       "       [0.41463415, 1.        , 0.77506098, 0.73011086, 0.87702938,\n",
       "        0.68708891, 0.7881561 , 0.85291301, 0.62379767, 0.90101666,\n",
       "        0.92758738],\n",
       "       [0.46341463, 1.        , 0.87013855, 0.66799498, 0.98481247,\n",
       "        0.7922292 , 0.9507061 , 0.90008351, 0.51137802, 0.95830643,\n",
       "        0.99635196],\n",
       "       [0.48780488, 1.        , 0.94790772, 0.95931048, 0.        ,\n",
       "        0.93707903, 0.77141991, 0.93085268, 0.70594906, 0.89775208,\n",
       "        0.        ],\n",
       "       [0.53658537, 1.        , 0.87617503, 0.88671489, 0.        ,\n",
       "        0.84080004, 0.76814055, 0.87969015, 0.613911  , 0.88405822,\n",
       "        0.        ],\n",
       "       [0.68292683, 1.        , 0.91697981, 0.85956833, 0.97677852,\n",
       "        0.88344865, 0.91798908, 0.89861299, 0.75594192, 0.9219766 ,\n",
       "        0.        ],\n",
       "       [0.6097561 , 1.        , 0.87998399, 0.87426231, 0.87906296,\n",
       "        0.85058226, 0.69599742, 0.89103337, 0.91435351, 0.89105953,\n",
       "        0.        ],\n",
       "       [0.68292683, 1.        , 0.8148979 , 0.82470063, 0.        ,\n",
       "        0.75619863, 0.64003386, 0.85879632, 0.83986606, 0.87752013,\n",
       "        0.        ],\n",
       "       [0.85365854, 1.        , 0.83132554, 0.84132589, 0.        ,\n",
       "        0.76023428, 0.65881923, 0.8746826 , 0.90490936, 0.90123816,\n",
       "        0.93430435],\n",
       "       [0.63414634, 1.        , 0.32238361, 0.32626169, 0.        ,\n",
       "        0.13382012, 0.05612334, 0.8141587 , 0.70594819, 0.87297648,\n",
       "        0.        ],\n",
       "       [0.46341463, 1.        , 0.90876641, 0.91969832, 0.        ,\n",
       "        0.88528597, 0.76488762, 0.90319115, 0.84250955, 0.88698761,\n",
       "        0.        ],\n",
       "       [0.24390244, 1.        , 0.85954976, 0.86988963, 0.        ,\n",
       "        0.81790742, 0.7491292 , 0.87549147, 0.80904003, 0.88340573,\n",
       "        0.        ],\n",
       "       [0.46341463, 1.        , 0.93452303, 0.90799516, 0.96294042,\n",
       "        0.92290171, 0.75611422, 0.97406171, 0.76204852, 1.        ,\n",
       "        0.8356055 ],\n",
       "       [0.48780488, 1.        , 0.8085449 , 0.81827121, 0.        ,\n",
       "        0.75147167, 0.6120555 , 0.85338385, 0.85697468, 0.87355952,\n",
       "        0.        ],\n",
       "       [0.34146341, 1.        , 0.7493179 , 0.75833175, 0.        ,\n",
       "        0.66008576, 0.63390485, 0.83646361, 0.70594906, 0.87681234,\n",
       "        0.        ],\n",
       "       [0.53658537, 1.        , 0.77174273, 0.78102633, 0.        ,\n",
       "        0.70264926, 0.7572757 , 0.83854678, 0.68132952, 0.87500373,\n",
       "        0.        ],\n",
       "       [0.53658537, 1.        , 0.78212644, 0.79153495, 0.        ,\n",
       "        0.71673152, 0.60255899, 0.8641822 , 0.85697468, 0.90320736,\n",
       "        0.90118753],\n",
       "       [0.68292683, 1.        , 0.79518391, 0.8047495 , 0.        ,\n",
       "        0.73427051, 0.59677692, 0.85975134, 0.85697468, 0.88579665,\n",
       "        0.        ],\n",
       "       [0.6097561 , 1.        , 0.79848906, 0.80809441, 0.        ,\n",
       "        0.74627633, 0.60055643, 0.86497329, 0.85697468, 0.88900705,\n",
       "        0.        ],\n",
       "       [0.36585366, 1.        , 0.65352008, 0.66138153, 0.        ,\n",
       "        0.54740038, 0.61762959, 0.82684389, 0.77099219, 0.88063514,\n",
       "        0.84178445],\n",
       "       [0.56097561, 1.        , 0.75543254, 0.76451995, 0.        ,\n",
       "        0.67720643, 0.55132038, 0.85044923, 0.79193142, 0.88875465,\n",
       "        0.        ],\n",
       "       [0.97560976, 1.        , 0.69221266, 0.63102107, 0.83858956,\n",
       "        0.57622839, 0.56860376, 0.85206341, 0.85220225, 0.89771993,\n",
       "        0.        ],\n",
       "       [0.63414634, 1.        , 0.78872912, 0.73969192, 0.89205739,\n",
       "        0.71999965, 0.58939573, 0.84729483, 0.80009636, 0.89478283,\n",
       "        0.86189177],\n",
       "       [0.63414634, 1.        , 0.78555825, 0.79500805, 0.        ,\n",
       "        0.70114741, 0.60648334, 0.85244025, 0.80998313, 0.88352642,\n",
       "        0.        ]])"
      ]
     },
     "execution_count": 71,
     "metadata": {},
     "output_type": "execute_result"
    }
   ],
   "source": [
    "from sklearn.preprocessing import MinMaxScaler\n",
    "\n",
    "X_scaled = X_minmax_scaler.transform(data.loc[:, numerical_variables])\n",
    "X_scaled"
   ]
  },
  {
   "cell_type": "code",
   "execution_count": 72,
   "metadata": {},
   "outputs": [
    {
     "data": {
      "text/html": [
       "<div>\n",
       "<style scoped>\n",
       "    .dataframe tbody tr th:only-of-type {\n",
       "        vertical-align: middle;\n",
       "    }\n",
       "\n",
       "    .dataframe tbody tr th {\n",
       "        vertical-align: top;\n",
       "    }\n",
       "\n",
       "    .dataframe thead th {\n",
       "        text-align: right;\n",
       "    }\n",
       "</style>\n",
       "<table border=\"1\" class=\"dataframe\">\n",
       "  <thead>\n",
       "    <tr style=\"text-align: right;\">\n",
       "      <th></th>\n",
       "      <th>age1</th>\n",
       "      <th>land</th>\n",
       "      <th>labch</th>\n",
       "      <th>labch10</th>\n",
       "      <th>labch20</th>\n",
       "      <th>labh_hour</th>\n",
       "      <th>lab_cost</th>\n",
       "      <th>fmtc</th>\n",
       "      <th>lansh</th>\n",
       "      <th>fmoc</th>\n",
       "      <th>...</th>\n",
       "      <th>1</th>\n",
       "      <th>2</th>\n",
       "      <th>3</th>\n",
       "      <th>4</th>\n",
       "      <th>5</th>\n",
       "      <th>6</th>\n",
       "      <th>7</th>\n",
       "      <th>8</th>\n",
       "      <th>9</th>\n",
       "      <th>10</th>\n",
       "    </tr>\n",
       "  </thead>\n",
       "  <tbody>\n",
       "    <tr>\n",
       "      <th>0</th>\n",
       "      <td>0.512195</td>\n",
       "      <td>1.0</td>\n",
       "      <td>0.847985</td>\n",
       "      <td>0.827014</td>\n",
       "      <td>0.897883</td>\n",
       "      <td>0.791566</td>\n",
       "      <td>0.723934</td>\n",
       "      <td>0.875810</td>\n",
       "      <td>0.641849</td>\n",
       "      <td>0.907844</td>\n",
       "      <td>...</td>\n",
       "      <td>0.0</td>\n",
       "      <td>0.0</td>\n",
       "      <td>0.0</td>\n",
       "      <td>0.0</td>\n",
       "      <td>1.0</td>\n",
       "      <td>0.0</td>\n",
       "      <td>0.0</td>\n",
       "      <td>0.0</td>\n",
       "      <td>0.0</td>\n",
       "      <td>1.0</td>\n",
       "    </tr>\n",
       "    <tr>\n",
       "      <th>1</th>\n",
       "      <td>0.707317</td>\n",
       "      <td>1.0</td>\n",
       "      <td>0.555125</td>\n",
       "      <td>0.561803</td>\n",
       "      <td>0.000000</td>\n",
       "      <td>0.415286</td>\n",
       "      <td>0.619627</td>\n",
       "      <td>0.818818</td>\n",
       "      <td>0.601479</td>\n",
       "      <td>0.876982</td>\n",
       "      <td>...</td>\n",
       "      <td>0.0</td>\n",
       "      <td>1.0</td>\n",
       "      <td>0.0</td>\n",
       "      <td>0.0</td>\n",
       "      <td>1.0</td>\n",
       "      <td>0.0</td>\n",
       "      <td>0.0</td>\n",
       "      <td>0.0</td>\n",
       "      <td>0.0</td>\n",
       "      <td>1.0</td>\n",
       "    </tr>\n",
       "    <tr>\n",
       "      <th>2</th>\n",
       "      <td>0.560976</td>\n",
       "      <td>1.0</td>\n",
       "      <td>0.856821</td>\n",
       "      <td>0.867128</td>\n",
       "      <td>0.000000</td>\n",
       "      <td>0.804005</td>\n",
       "      <td>0.720657</td>\n",
       "      <td>0.870125</td>\n",
       "      <td>0.686465</td>\n",
       "      <td>0.883939</td>\n",
       "      <td>...</td>\n",
       "      <td>0.0</td>\n",
       "      <td>0.0</td>\n",
       "      <td>0.0</td>\n",
       "      <td>0.0</td>\n",
       "      <td>1.0</td>\n",
       "      <td>0.0</td>\n",
       "      <td>0.0</td>\n",
       "      <td>0.0</td>\n",
       "      <td>0.0</td>\n",
       "      <td>1.0</td>\n",
       "    </tr>\n",
       "    <tr>\n",
       "      <th>3</th>\n",
       "      <td>0.414634</td>\n",
       "      <td>1.0</td>\n",
       "      <td>0.793507</td>\n",
       "      <td>0.803053</td>\n",
       "      <td>0.000000</td>\n",
       "      <td>0.719640</td>\n",
       "      <td>0.640925</td>\n",
       "      <td>0.854225</td>\n",
       "      <td>0.874083</td>\n",
       "      <td>0.889596</td>\n",
       "      <td>...</td>\n",
       "      <td>0.0</td>\n",
       "      <td>0.0</td>\n",
       "      <td>0.0</td>\n",
       "      <td>0.0</td>\n",
       "      <td>1.0</td>\n",
       "      <td>0.0</td>\n",
       "      <td>0.0</td>\n",
       "      <td>0.0</td>\n",
       "      <td>0.0</td>\n",
       "      <td>1.0</td>\n",
       "    </tr>\n",
       "    <tr>\n",
       "      <th>4</th>\n",
       "      <td>0.170732</td>\n",
       "      <td>1.0</td>\n",
       "      <td>0.947500</td>\n",
       "      <td>0.929296</td>\n",
       "      <td>0.958232</td>\n",
       "      <td>0.927722</td>\n",
       "      <td>0.770954</td>\n",
       "      <td>0.935637</td>\n",
       "      <td>0.640906</td>\n",
       "      <td>0.936815</td>\n",
       "      <td>...</td>\n",
       "      <td>0.0</td>\n",
       "      <td>0.0</td>\n",
       "      <td>0.0</td>\n",
       "      <td>0.0</td>\n",
       "      <td>1.0</td>\n",
       "      <td>0.0</td>\n",
       "      <td>0.0</td>\n",
       "      <td>0.0</td>\n",
       "      <td>0.0</td>\n",
       "      <td>1.0</td>\n",
       "    </tr>\n",
       "    <tr>\n",
       "      <th>...</th>\n",
       "      <td>...</td>\n",
       "      <td>...</td>\n",
       "      <td>...</td>\n",
       "      <td>...</td>\n",
       "      <td>...</td>\n",
       "      <td>...</td>\n",
       "      <td>...</td>\n",
       "      <td>...</td>\n",
       "      <td>...</td>\n",
       "      <td>...</td>\n",
       "      <td>...</td>\n",
       "      <td>...</td>\n",
       "      <td>...</td>\n",
       "      <td>...</td>\n",
       "      <td>...</td>\n",
       "      <td>...</td>\n",
       "      <td>...</td>\n",
       "      <td>...</td>\n",
       "      <td>...</td>\n",
       "      <td>...</td>\n",
       "      <td>...</td>\n",
       "    </tr>\n",
       "    <tr>\n",
       "      <th>59</th>\n",
       "      <td>0.365854</td>\n",
       "      <td>1.0</td>\n",
       "      <td>0.653520</td>\n",
       "      <td>0.661382</td>\n",
       "      <td>0.000000</td>\n",
       "      <td>0.547400</td>\n",
       "      <td>0.617630</td>\n",
       "      <td>0.826844</td>\n",
       "      <td>0.770992</td>\n",
       "      <td>0.880635</td>\n",
       "      <td>...</td>\n",
       "      <td>0.0</td>\n",
       "      <td>1.0</td>\n",
       "      <td>0.0</td>\n",
       "      <td>0.0</td>\n",
       "      <td>0.0</td>\n",
       "      <td>0.0</td>\n",
       "      <td>0.0</td>\n",
       "      <td>1.0</td>\n",
       "      <td>1.0</td>\n",
       "      <td>0.0</td>\n",
       "    </tr>\n",
       "    <tr>\n",
       "      <th>60</th>\n",
       "      <td>0.560976</td>\n",
       "      <td>1.0</td>\n",
       "      <td>0.755433</td>\n",
       "      <td>0.764520</td>\n",
       "      <td>0.000000</td>\n",
       "      <td>0.677206</td>\n",
       "      <td>0.551320</td>\n",
       "      <td>0.850449</td>\n",
       "      <td>0.791931</td>\n",
       "      <td>0.888755</td>\n",
       "      <td>...</td>\n",
       "      <td>0.0</td>\n",
       "      <td>0.0</td>\n",
       "      <td>0.0</td>\n",
       "      <td>0.0</td>\n",
       "      <td>0.0</td>\n",
       "      <td>0.0</td>\n",
       "      <td>0.0</td>\n",
       "      <td>1.0</td>\n",
       "      <td>0.0</td>\n",
       "      <td>1.0</td>\n",
       "    </tr>\n",
       "    <tr>\n",
       "      <th>61</th>\n",
       "      <td>0.975610</td>\n",
       "      <td>1.0</td>\n",
       "      <td>0.692213</td>\n",
       "      <td>0.631021</td>\n",
       "      <td>0.838590</td>\n",
       "      <td>0.576228</td>\n",
       "      <td>0.568604</td>\n",
       "      <td>0.852063</td>\n",
       "      <td>0.852202</td>\n",
       "      <td>0.897720</td>\n",
       "      <td>...</td>\n",
       "      <td>1.0</td>\n",
       "      <td>0.0</td>\n",
       "      <td>0.0</td>\n",
       "      <td>0.0</td>\n",
       "      <td>0.0</td>\n",
       "      <td>0.0</td>\n",
       "      <td>0.0</td>\n",
       "      <td>1.0</td>\n",
       "      <td>0.0</td>\n",
       "      <td>1.0</td>\n",
       "    </tr>\n",
       "    <tr>\n",
       "      <th>62</th>\n",
       "      <td>0.634146</td>\n",
       "      <td>1.0</td>\n",
       "      <td>0.788729</td>\n",
       "      <td>0.739692</td>\n",
       "      <td>0.892057</td>\n",
       "      <td>0.720000</td>\n",
       "      <td>0.589396</td>\n",
       "      <td>0.847295</td>\n",
       "      <td>0.800096</td>\n",
       "      <td>0.894783</td>\n",
       "      <td>...</td>\n",
       "      <td>0.0</td>\n",
       "      <td>0.0</td>\n",
       "      <td>0.0</td>\n",
       "      <td>0.0</td>\n",
       "      <td>0.0</td>\n",
       "      <td>0.0</td>\n",
       "      <td>0.0</td>\n",
       "      <td>1.0</td>\n",
       "      <td>0.0</td>\n",
       "      <td>1.0</td>\n",
       "    </tr>\n",
       "    <tr>\n",
       "      <th>63</th>\n",
       "      <td>0.634146</td>\n",
       "      <td>1.0</td>\n",
       "      <td>0.785558</td>\n",
       "      <td>0.795008</td>\n",
       "      <td>0.000000</td>\n",
       "      <td>0.701147</td>\n",
       "      <td>0.606483</td>\n",
       "      <td>0.852440</td>\n",
       "      <td>0.809983</td>\n",
       "      <td>0.883526</td>\n",
       "      <td>...</td>\n",
       "      <td>0.0</td>\n",
       "      <td>0.0</td>\n",
       "      <td>0.0</td>\n",
       "      <td>0.0</td>\n",
       "      <td>0.0</td>\n",
       "      <td>0.0</td>\n",
       "      <td>0.0</td>\n",
       "      <td>1.0</td>\n",
       "      <td>0.0</td>\n",
       "      <td>1.0</td>\n",
       "    </tr>\n",
       "  </tbody>\n",
       "</table>\n",
       "<p>64 rows × 22 columns</p>\n",
       "</div>"
      ],
      "text/plain": [
       "        age1  land     labch   labch10   labch20  labh_hour  lab_cost  \\\n",
       "0   0.512195   1.0  0.847985  0.827014  0.897883   0.791566  0.723934   \n",
       "1   0.707317   1.0  0.555125  0.561803  0.000000   0.415286  0.619627   \n",
       "2   0.560976   1.0  0.856821  0.867128  0.000000   0.804005  0.720657   \n",
       "3   0.414634   1.0  0.793507  0.803053  0.000000   0.719640  0.640925   \n",
       "4   0.170732   1.0  0.947500  0.929296  0.958232   0.927722  0.770954   \n",
       "..       ...   ...       ...       ...       ...        ...       ...   \n",
       "59  0.365854   1.0  0.653520  0.661382  0.000000   0.547400  0.617630   \n",
       "60  0.560976   1.0  0.755433  0.764520  0.000000   0.677206  0.551320   \n",
       "61  0.975610   1.0  0.692213  0.631021  0.838590   0.576228  0.568604   \n",
       "62  0.634146   1.0  0.788729  0.739692  0.892057   0.720000  0.589396   \n",
       "63  0.634146   1.0  0.785558  0.795008  0.000000   0.701147  0.606483   \n",
       "\n",
       "        fmtc     lansh      fmoc  ...    1    2    3    4    5    6    7    8  \\\n",
       "0   0.875810  0.641849  0.907844  ...  0.0  0.0  0.0  0.0  1.0  0.0  0.0  0.0   \n",
       "1   0.818818  0.601479  0.876982  ...  0.0  1.0  0.0  0.0  1.0  0.0  0.0  0.0   \n",
       "2   0.870125  0.686465  0.883939  ...  0.0  0.0  0.0  0.0  1.0  0.0  0.0  0.0   \n",
       "3   0.854225  0.874083  0.889596  ...  0.0  0.0  0.0  0.0  1.0  0.0  0.0  0.0   \n",
       "4   0.935637  0.640906  0.936815  ...  0.0  0.0  0.0  0.0  1.0  0.0  0.0  0.0   \n",
       "..       ...       ...       ...  ...  ...  ...  ...  ...  ...  ...  ...  ...   \n",
       "59  0.826844  0.770992  0.880635  ...  0.0  1.0  0.0  0.0  0.0  0.0  0.0  1.0   \n",
       "60  0.850449  0.791931  0.888755  ...  0.0  0.0  0.0  0.0  0.0  0.0  0.0  1.0   \n",
       "61  0.852063  0.852202  0.897720  ...  1.0  0.0  0.0  0.0  0.0  0.0  0.0  1.0   \n",
       "62  0.847295  0.800096  0.894783  ...  0.0  0.0  0.0  0.0  0.0  0.0  0.0  1.0   \n",
       "63  0.852440  0.809983  0.883526  ...  0.0  0.0  0.0  0.0  0.0  0.0  0.0  1.0   \n",
       "\n",
       "      9   10  \n",
       "0   0.0  1.0  \n",
       "1   0.0  1.0  \n",
       "2   0.0  1.0  \n",
       "3   0.0  1.0  \n",
       "4   0.0  1.0  \n",
       "..  ...  ...  \n",
       "59  1.0  0.0  \n",
       "60  0.0  1.0  \n",
       "61  0.0  1.0  \n",
       "62  0.0  1.0  \n",
       "63  0.0  1.0  \n",
       "\n",
       "[64 rows x 22 columns]"
      ]
     },
     "execution_count": 72,
     "metadata": {},
     "output_type": "execute_result"
    }
   ],
   "source": [
    "numeric_data_df = pd.DataFrame(X_scaled, columns=numerical_variables)\n",
    "onehot_data_df = pd.DataFrame(onehot.toarray())\n",
    "\n",
    "X_data_df = pd.concat([numeric_data_df , onehot_data_df], axis=1)\n",
    "X_data_df"
   ]
  },
  {
   "cell_type": "code",
   "execution_count": 73,
   "metadata": {},
   "outputs": [],
   "source": [
    "X_test = np.array(X_data_df)\n",
    "y_test = np.array(data['cony'])"
   ]
  },
  {
   "cell_type": "code",
   "execution_count": 74,
   "metadata": {},
   "outputs": [
    {
     "name": "stdout",
     "output_type": "stream",
     "text": [
      "[6.41749515 1.99064739 5.80110187 7.2771337  6.35256302 5.96529471\n",
      " 5.87739884 5.92427842 6.00677961 7.06242605]\n"
     ]
    }
   ],
   "source": [
    "ensemble = EnsembleRegressor(models, weights=optimal_weight)\n",
    "\n",
    "preds = ensemble.predict(X_test)\n",
    "print(preds[:10])"
   ]
  },
  {
   "cell_type": "code",
   "execution_count": 75,
   "metadata": {},
   "outputs": [
    {
     "name": "stdout",
     "output_type": "stream",
     "text": [
      "[ 611.46705229    6.32027132  329.66370879 1445.83500597  572.9619004\n",
      "  388.66785047  355.87973322  373.00845969  405.17317642 1166.27359943]\n",
      "[ 555.55555556    2.62773723  286.25       1661.33333333  400.\n",
      "  364.          288.57142857  282.69230769  254.         1216.        ]\n"
     ]
    }
   ],
   "source": [
    "inverse_transformed_pred = np.expm1(preds)\n",
    "inverse_transformed_pred = np.where(inverse_transformed_pred < 0, 0, inverse_transformed_pred)\n",
    "inverse_transformed_y_test = np.expm1(y_test)\n",
    "\n",
    "print(inverse_transformed_pred[:10])\n",
    "print(inverse_transformed_y_test[:10])"
   ]
  },
  {
   "cell_type": "code",
   "execution_count": 76,
   "metadata": {},
   "outputs": [
    {
     "name": "stdout",
     "output_type": "stream",
     "text": [
      "539.9493503312427\n"
     ]
    }
   ],
   "source": [
    "print(np.sqrt(mean_squared_error(inverse_transformed_y_test, inverse_transformed_pred)))"
   ]
  },
  {
   "cell_type": "code",
   "execution_count": 77,
   "metadata": {},
   "outputs": [
    {
     "data": {
      "text/html": [
       "<div>\n",
       "<style scoped>\n",
       "    .dataframe tbody tr th:only-of-type {\n",
       "        vertical-align: middle;\n",
       "    }\n",
       "\n",
       "    .dataframe tbody tr th {\n",
       "        vertical-align: top;\n",
       "    }\n",
       "\n",
       "    .dataframe thead th {\n",
       "        text-align: right;\n",
       "    }\n",
       "</style>\n",
       "<table border=\"1\" class=\"dataframe\">\n",
       "  <thead>\n",
       "    <tr style=\"text-align: right;\">\n",
       "      <th></th>\n",
       "      <th>생산량</th>\n",
       "      <th>예측값</th>\n",
       "    </tr>\n",
       "  </thead>\n",
       "  <tbody>\n",
       "    <tr>\n",
       "      <th>0</th>\n",
       "      <td>555.6</td>\n",
       "      <td>611.5</td>\n",
       "    </tr>\n",
       "    <tr>\n",
       "      <th>1</th>\n",
       "      <td>2.6</td>\n",
       "      <td>6.3</td>\n",
       "    </tr>\n",
       "    <tr>\n",
       "      <th>2</th>\n",
       "      <td>286.2</td>\n",
       "      <td>329.7</td>\n",
       "    </tr>\n",
       "    <tr>\n",
       "      <th>3</th>\n",
       "      <td>1661.3</td>\n",
       "      <td>1445.8</td>\n",
       "    </tr>\n",
       "    <tr>\n",
       "      <th>4</th>\n",
       "      <td>400.0</td>\n",
       "      <td>573.0</td>\n",
       "    </tr>\n",
       "    <tr>\n",
       "      <th>5</th>\n",
       "      <td>364.0</td>\n",
       "      <td>388.7</td>\n",
       "    </tr>\n",
       "    <tr>\n",
       "      <th>6</th>\n",
       "      <td>288.6</td>\n",
       "      <td>355.9</td>\n",
       "    </tr>\n",
       "    <tr>\n",
       "      <th>7</th>\n",
       "      <td>282.7</td>\n",
       "      <td>373.0</td>\n",
       "    </tr>\n",
       "    <tr>\n",
       "      <th>8</th>\n",
       "      <td>254.0</td>\n",
       "      <td>405.2</td>\n",
       "    </tr>\n",
       "    <tr>\n",
       "      <th>9</th>\n",
       "      <td>1216.0</td>\n",
       "      <td>1166.3</td>\n",
       "    </tr>\n",
       "    <tr>\n",
       "      <th>10</th>\n",
       "      <td>1668.7</td>\n",
       "      <td>1529.7</td>\n",
       "    </tr>\n",
       "    <tr>\n",
       "      <th>11</th>\n",
       "      <td>801.6</td>\n",
       "      <td>734.8</td>\n",
       "    </tr>\n",
       "    <tr>\n",
       "      <th>12</th>\n",
       "      <td>1304.0</td>\n",
       "      <td>1178.9</td>\n",
       "    </tr>\n",
       "    <tr>\n",
       "      <th>13</th>\n",
       "      <td>452.0</td>\n",
       "      <td>488.7</td>\n",
       "    </tr>\n",
       "    <tr>\n",
       "      <th>14</th>\n",
       "      <td>950.0</td>\n",
       "      <td>840.2</td>\n",
       "    </tr>\n",
       "    <tr>\n",
       "      <th>15</th>\n",
       "      <td>360.0</td>\n",
       "      <td>407.8</td>\n",
       "    </tr>\n",
       "    <tr>\n",
       "      <th>16</th>\n",
       "      <td>649.7</td>\n",
       "      <td>697.0</td>\n",
       "    </tr>\n",
       "    <tr>\n",
       "      <th>17</th>\n",
       "      <td>1002.6</td>\n",
       "      <td>501.3</td>\n",
       "    </tr>\n",
       "    <tr>\n",
       "      <th>18</th>\n",
       "      <td>521.9</td>\n",
       "      <td>557.8</td>\n",
       "    </tr>\n",
       "    <tr>\n",
       "      <th>19</th>\n",
       "      <td>386.4</td>\n",
       "      <td>489.7</td>\n",
       "    </tr>\n",
       "    <tr>\n",
       "      <th>20</th>\n",
       "      <td>372.7</td>\n",
       "      <td>411.1</td>\n",
       "    </tr>\n",
       "    <tr>\n",
       "      <th>21</th>\n",
       "      <td>732.4</td>\n",
       "      <td>615.9</td>\n",
       "    </tr>\n",
       "    <tr>\n",
       "      <th>22</th>\n",
       "      <td>160.5</td>\n",
       "      <td>174.2</td>\n",
       "    </tr>\n",
       "    <tr>\n",
       "      <th>23</th>\n",
       "      <td>510.9</td>\n",
       "      <td>520.1</td>\n",
       "    </tr>\n",
       "    <tr>\n",
       "      <th>24</th>\n",
       "      <td>219.7</td>\n",
       "      <td>185.5</td>\n",
       "    </tr>\n",
       "    <tr>\n",
       "      <th>25</th>\n",
       "      <td>180.5</td>\n",
       "      <td>225.7</td>\n",
       "    </tr>\n",
       "    <tr>\n",
       "      <th>26</th>\n",
       "      <td>436.6</td>\n",
       "      <td>481.6</td>\n",
       "    </tr>\n",
       "    <tr>\n",
       "      <th>27</th>\n",
       "      <td>788.8</td>\n",
       "      <td>728.9</td>\n",
       "    </tr>\n",
       "    <tr>\n",
       "      <th>28</th>\n",
       "      <td>530.5</td>\n",
       "      <td>539.6</td>\n",
       "    </tr>\n",
       "    <tr>\n",
       "      <th>29</th>\n",
       "      <td>429.9</td>\n",
       "      <td>449.6</td>\n",
       "    </tr>\n",
       "  </tbody>\n",
       "</table>\n",
       "</div>"
      ],
      "text/plain": [
       "       생산량     예측값\n",
       "0    555.6   611.5\n",
       "1      2.6     6.3\n",
       "2    286.2   329.7\n",
       "3   1661.3  1445.8\n",
       "4    400.0   573.0\n",
       "5    364.0   388.7\n",
       "6    288.6   355.9\n",
       "7    282.7   373.0\n",
       "8    254.0   405.2\n",
       "9   1216.0  1166.3\n",
       "10  1668.7  1529.7\n",
       "11   801.6   734.8\n",
       "12  1304.0  1178.9\n",
       "13   452.0   488.7\n",
       "14   950.0   840.2\n",
       "15   360.0   407.8\n",
       "16   649.7   697.0\n",
       "17  1002.6   501.3\n",
       "18   521.9   557.8\n",
       "19   386.4   489.7\n",
       "20   372.7   411.1\n",
       "21   732.4   615.9\n",
       "22   160.5   174.2\n",
       "23   510.9   520.1\n",
       "24   219.7   185.5\n",
       "25   180.5   225.7\n",
       "26   436.6   481.6\n",
       "27   788.8   728.9\n",
       "28   530.5   539.6\n",
       "29   429.9   449.6"
      ]
     },
     "execution_count": 77,
     "metadata": {},
     "output_type": "execute_result"
    }
   ],
   "source": [
    "inverse_transformed_pred = pd.Series(np.round(inverse_transformed_pred,1), name='예측값')\n",
    "inverse_transformed_y_test= pd.Series(np.round(inverse_transformed_y_test,1), name='생산량')\n",
    "result = pd.concat([inverse_transformed_y_test, inverse_transformed_pred], axis=1)\n",
    "result[:30]"
   ]
  },
  {
   "cell_type": "markdown",
   "metadata": {},
   "source": [
    "# Prediction"
   ]
  },
  {
   "cell_type": "code",
   "execution_count": 78,
   "metadata": {},
   "outputs": [],
   "source": [
    "def prediction(file_path):\n",
    "    use_cols = ['fno',\n",
    "                'age1',\n",
    "                'land', \n",
    "                'labch', 'labch10', 'labch20',\n",
    "                'labh_hour', 'lab_cost',\n",
    "                'fmtc','lansh','fmoc', 'rent',\n",
    "                'size', 'ara', 'de2'] # explanatory variable (26개)\n",
    "    \n",
    "    data = pd.read_csv(file_path).loc[:,use_cols]\n",
    "    \n",
    "    # log transform\n",
    "    data.loc[:, ['labh_hour', 'lab_cost']] = np.log1p(data.loc[:, ['labh_hour', 'lab_cost']])\n",
    "    data.loc[:, ['labch', 'labch10', 'labch20']] = np.log1p(data.loc[:, ['labch', 'labch10', 'labch20']])\n",
    "    data.loc[:, ['fmtc','lansh','fmoc', 'rent']] = np.log1p(data.loc[:, ['fmtc','lansh','fmoc', 'rent']])\n",
    "    \n",
    "    # data imputation\n",
    "    data.replace({'labch' : {0 : np.nan},\n",
    "              'labh_hour' : {0 : np.nan},\n",
    "              'lab_cost' : {0 : np.nan},\n",
    "              'lansh' : {0 : np.nan},},\n",
    "              inplace=True)\n",
    "    if data.isnull().sum().sum() > 0:\n",
    "        print(data.isnull().sum())\n",
    "        data.fillna(data.mean(), inplace=True)\n",
    "        \n",
    "    # enconding\n",
    "    onehot = onehot_encoder.transform(data.loc[:, categorical_variables])\n",
    "    X_scaled = X_minmax_scaler.transform(data.loc[:, numerical_variables])\n",
    "    numeric_data_df = pd.DataFrame(X_scaled, columns=numerical_variables)\n",
    "    onehot_data_df = pd.DataFrame(onehot.toarray())\n",
    "\n",
    "    X_data_df = pd.concat([numeric_data_df , onehot_data_df], axis=1)\n",
    "    X_test = np.array(X_data_df)\n",
    "    \n",
    "    # predict and inverse transform\n",
    "    preds = ensemble.predict(X_test)\n",
    "    inverse_transformed_pred = np.expm1(preds)\n",
    "    inverse_transformed_pred = np.where(inverse_transformed_pred < 0, 0, inverse_transformed_pred)\n",
    "    \n",
    "    result = pd.DataFrame({'prediction' : inverse_transformed_pred}, index=data.fno)\n",
    "    \n",
    "    return result"
   ]
  },
  {
   "cell_type": "code",
   "execution_count": 79,
   "metadata": {},
   "outputs": [
    {
     "data": {
      "text/html": [
       "<div>\n",
       "<style scoped>\n",
       "    .dataframe tbody tr th:only-of-type {\n",
       "        vertical-align: middle;\n",
       "    }\n",
       "\n",
       "    .dataframe tbody tr th {\n",
       "        vertical-align: top;\n",
       "    }\n",
       "\n",
       "    .dataframe thead th {\n",
       "        text-align: right;\n",
       "    }\n",
       "</style>\n",
       "<table border=\"1\" class=\"dataframe\">\n",
       "  <thead>\n",
       "    <tr style=\"text-align: right;\">\n",
       "      <th></th>\n",
       "      <th>prediction</th>\n",
       "    </tr>\n",
       "    <tr>\n",
       "      <th>fno</th>\n",
       "      <th></th>\n",
       "    </tr>\n",
       "  </thead>\n",
       "  <tbody>\n",
       "    <tr>\n",
       "      <th>13025</th>\n",
       "      <td>602.776662</td>\n",
       "    </tr>\n",
       "    <tr>\n",
       "      <th>14044</th>\n",
       "      <td>796.530349</td>\n",
       "    </tr>\n",
       "    <tr>\n",
       "      <th>14045</th>\n",
       "      <td>1722.414504</td>\n",
       "    </tr>\n",
       "    <tr>\n",
       "      <th>15008</th>\n",
       "      <td>526.239731</td>\n",
       "    </tr>\n",
       "    <tr>\n",
       "      <th>15011</th>\n",
       "      <td>1211.570170</td>\n",
       "    </tr>\n",
       "    <tr>\n",
       "      <th>...</th>\n",
       "      <td>...</td>\n",
       "    </tr>\n",
       "    <tr>\n",
       "      <th>29207</th>\n",
       "      <td>468.383319</td>\n",
       "    </tr>\n",
       "    <tr>\n",
       "      <th>29208</th>\n",
       "      <td>623.085811</td>\n",
       "    </tr>\n",
       "    <tr>\n",
       "      <th>29211</th>\n",
       "      <td>461.340737</td>\n",
       "    </tr>\n",
       "    <tr>\n",
       "      <th>29222</th>\n",
       "      <td>633.058243</td>\n",
       "    </tr>\n",
       "    <tr>\n",
       "      <th>29223</th>\n",
       "      <td>615.808123</td>\n",
       "    </tr>\n",
       "  </tbody>\n",
       "</table>\n",
       "<p>75 rows × 1 columns</p>\n",
       "</div>"
      ],
      "text/plain": [
       "        prediction\n",
       "fno               \n",
       "13025   602.776662\n",
       "14044   796.530349\n",
       "14045  1722.414504\n",
       "15008   526.239731\n",
       "15011  1211.570170\n",
       "...            ...\n",
       "29207   468.383319\n",
       "29208   623.085811\n",
       "29211   461.340737\n",
       "29222   633.058243\n",
       "29223   615.808123\n",
       "\n",
       "[75 rows x 1 columns]"
      ]
     },
     "execution_count": 79,
     "metadata": {},
     "output_type": "execute_result"
    }
   ],
   "source": [
    "file_path = './(수정)임산물생산비 마이크로데이터(2020)/(수정)2020년_임산물생산비조사_5.표고노지.csv'\n",
    "prediction = prediction(file_path)\n",
    "prediction"
   ]
  },
  {
   "cell_type": "code",
   "execution_count": 80,
   "metadata": {},
   "outputs": [],
   "source": [
    "prediction.to_csv('prediction/2020년_임산물생산비조사_5.표고노지_예측값.csv')"
   ]
  },
  {
   "cell_type": "code",
   "execution_count": null,
   "metadata": {},
   "outputs": [],
   "source": []
  }
 ],
 "metadata": {
  "kernelspec": {
   "display_name": "Python 3",
   "language": "python",
   "name": "python3"
  },
  "language_info": {
   "codemirror_mode": {
    "name": "ipython",
    "version": 3
   },
   "file_extension": ".py",
   "mimetype": "text/x-python",
   "name": "python",
   "nbconvert_exporter": "python",
   "pygments_lexer": "ipython3",
   "version": "3.8.8"
  }
 },
 "nbformat": 4,
 "nbformat_minor": 4
}
