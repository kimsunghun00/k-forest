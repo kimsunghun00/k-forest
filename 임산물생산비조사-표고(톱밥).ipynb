{
 "cells": [
  {
   "cell_type": "markdown",
   "metadata": {},
   "source": [
    "# Load Data"
   ]
  },
  {
   "cell_type": "markdown",
   "metadata": {},
   "source": [
    "## 표고(톱밥)"
   ]
  },
  {
   "cell_type": "code",
   "execution_count": 1,
   "metadata": {},
   "outputs": [
    {
     "name": "stdout",
     "output_type": "stream",
     "text": [
      "----------\n",
      "2014 (13, 403) 톱밥\n",
      "----------\n",
      "2015 (14, 403) 톱밥\n",
      "----------\n",
      "2016 (17, 403) 톱밥\n",
      "----------\n",
      "2017 (19, 403) 톱밥\n",
      "----------\n",
      "2018 (44, 403) 톱밥\n",
      "----------\n",
      "2019 (39, 419) 톱밥\n"
     ]
    }
   ],
   "source": [
    "import os\n",
    "import pandas as pd\n",
    "import numpy as np\n",
    "\n",
    "\n",
    "def load_data(path):\n",
    "    years = [2010, 2011, 2012, 2013, 2014, 2015, 2016, 2017, 2018, 2019]\n",
    "    use_cols = ['labch', 'labh_hour', 'lab_cost',\n",
    "                'fmtc', 'lansh',\n",
    "                'size', 'ara', 'de2',# catecorical variable\n",
    "                'cony'] # dependent variable\n",
    "\n",
    "    dataframe_list = []\n",
    "\n",
    "    # 2014\n",
    "    print('-'*10)\n",
    "    ## 노지\n",
    "    file_path1 = os.path.join(path, str(years[4])+'년', str(years[4])+'년 임산물생산비조사_통합 데이터_5. 표고(톱밥배지)(엑셀1).xlsx')\n",
    "    file_path2 = os.path.join(path, str(years[4])+'년', str(years[4])+'년 임산물생산비조사_통합 데이터_5. 표고(톱밥배지)(엑셀2).xlsx')\n",
    "\n",
    "    forest_data1 = pd.read_excel(file_path1)\n",
    "    forest_data2 = pd.read_excel(file_path2)\n",
    "    forest_2014 = pd.concat([forest_data1, forest_data2], axis=1)\n",
    "\n",
    "    dataframe_list.append(forest_2014.loc[:,use_cols])\n",
    "    print(2014, forest_2014.shape, '톱밥')\n",
    "    \n",
    "    # 2015-2016\n",
    "    for year in years[5:7]:\n",
    "        print('-'*10)\n",
    "        file_path1 = os.path.join(path, str(year)+'년', str(year)+'년 임산물생산비조사_통합 데이터_5. 표고_톱밥(엑셀1).xlsx')\n",
    "        file_path2 = os.path.join(path, str(year)+'년', str(year)+'년 임산물생산비조사_통합 데이터_5. 표고_톱밥(엑셀2).xlsx')\n",
    "\n",
    "        forest_data1 = pd.read_excel(file_path1)\n",
    "        forest_data2 = pd.read_excel(file_path2)\n",
    "        forest_data = pd.concat([forest_data1, forest_data2], axis=1)\n",
    "\n",
    "        dataframe_list.append(forest_data.loc[:,use_cols])\n",
    "        print(year, forest_data.shape, '톱밥')\n",
    "\n",
    "    \n",
    "    # 2017-2018\n",
    "    for year in years[7:9]:\n",
    "        print('-'*10)\n",
    "        file_path1 = os.path.join(path, str(year)+'년', str(year)+'년 임산물생산비조사_통합 데이터_5. 표고_톱밥(엑셀 1).xls')\n",
    "        file_path2 = os.path.join(path, str(year)+'년', str(year)+'년 임산물생산비조사_통합 데이터_5. 표고_톱밥(엑셀 2).xls')\n",
    "\n",
    "        forest_data1 = pd.read_excel(file_path1)\n",
    "        forest_data2 = pd.read_excel(file_path2)\n",
    "        forest_data = pd.concat([forest_data1, forest_data2], axis=1)\n",
    "\n",
    "        dataframe_list.append(forest_data.loc[:,use_cols])\n",
    "        print(year, forest_data.shape, '톱밥')\n",
    "\n",
    "\n",
    "    # 2019\n",
    "    print('-'*10)\n",
    "    file_path = os.path.join(path, str(years[9])+'년', str(years[9])+'년 임산물생산비조사_통합 데이터_5. 표고톱밥.xlsx')\n",
    "    forest_2019 = pd.read_excel(file_path)\n",
    "    dataframe_list.append(forest_2019.loc[:,use_cols])\n",
    "    print(2019, forest_2019.shape, '톱밥')\n",
    "    \n",
    "\n",
    "    data = pd.concat(dataframe_list, axis=0)\n",
    "    data = data.reset_index(drop=True)\n",
    "    \n",
    "    return data\n",
    "    \n",
    "data = load_data('./임산물생산비조사 마이크로데이터(2010-2019)')"
   ]
  },
  {
   "cell_type": "code",
   "execution_count": 2,
   "metadata": {},
   "outputs": [
    {
     "data": {
      "text/html": [
       "<div>\n",
       "<style scoped>\n",
       "    .dataframe tbody tr th:only-of-type {\n",
       "        vertical-align: middle;\n",
       "    }\n",
       "\n",
       "    .dataframe tbody tr th {\n",
       "        vertical-align: top;\n",
       "    }\n",
       "\n",
       "    .dataframe thead th {\n",
       "        text-align: right;\n",
       "    }\n",
       "</style>\n",
       "<table border=\"1\" class=\"dataframe\">\n",
       "  <thead>\n",
       "    <tr style=\"text-align: right;\">\n",
       "      <th></th>\n",
       "      <th>labch</th>\n",
       "      <th>labh_hour</th>\n",
       "      <th>lab_cost</th>\n",
       "      <th>fmtc</th>\n",
       "      <th>lansh</th>\n",
       "      <th>size</th>\n",
       "      <th>ara</th>\n",
       "      <th>de2</th>\n",
       "      <th>cony</th>\n",
       "    </tr>\n",
       "  </thead>\n",
       "  <tbody>\n",
       "    <tr>\n",
       "      <th>0</th>\n",
       "      <td>1.444833e+05</td>\n",
       "      <td>14.465116</td>\n",
       "      <td>31063912</td>\n",
       "      <td>4.159076e+05</td>\n",
       "      <td>6046.511628</td>\n",
       "      <td>2</td>\n",
       "      <td>31</td>\n",
       "      <td>1</td>\n",
       "      <td>20.000000</td>\n",
       "    </tr>\n",
       "    <tr>\n",
       "      <th>1</th>\n",
       "      <td>7.366528e+04</td>\n",
       "      <td>8.053658</td>\n",
       "      <td>44206536</td>\n",
       "      <td>1.603243e+05</td>\n",
       "      <td>3332.777870</td>\n",
       "      <td>3</td>\n",
       "      <td>31</td>\n",
       "      <td>1</td>\n",
       "      <td>20.000000</td>\n",
       "    </tr>\n",
       "    <tr>\n",
       "      <th>2</th>\n",
       "      <td>5.692729e+04</td>\n",
       "      <td>7.027397</td>\n",
       "      <td>8311384</td>\n",
       "      <td>2.447171e+05</td>\n",
       "      <td>4520.547945</td>\n",
       "      <td>1</td>\n",
       "      <td>31</td>\n",
       "      <td>2</td>\n",
       "      <td>20.000000</td>\n",
       "    </tr>\n",
       "    <tr>\n",
       "      <th>3</th>\n",
       "      <td>3.260197e+04</td>\n",
       "      <td>4.311395</td>\n",
       "      <td>133027446</td>\n",
       "      <td>1.144202e+05</td>\n",
       "      <td>857.769554</td>\n",
       "      <td>3</td>\n",
       "      <td>99</td>\n",
       "      <td>2</td>\n",
       "      <td>20.000000</td>\n",
       "    </tr>\n",
       "    <tr>\n",
       "      <th>4</th>\n",
       "      <td>6.202576e+04</td>\n",
       "      <td>6.238282</td>\n",
       "      <td>20511918</td>\n",
       "      <td>1.891691e+05</td>\n",
       "      <td>7257.332930</td>\n",
       "      <td>2</td>\n",
       "      <td>37</td>\n",
       "      <td>2</td>\n",
       "      <td>20.000000</td>\n",
       "    </tr>\n",
       "    <tr>\n",
       "      <th>...</th>\n",
       "      <td>...</td>\n",
       "      <td>...</td>\n",
       "      <td>...</td>\n",
       "      <td>...</td>\n",
       "      <td>...</td>\n",
       "      <td>...</td>\n",
       "      <td>...</td>\n",
       "      <td>...</td>\n",
       "      <td>...</td>\n",
       "    </tr>\n",
       "    <tr>\n",
       "      <th>141</th>\n",
       "      <td>3.191748e+06</td>\n",
       "      <td>299.000000</td>\n",
       "      <td>3191748</td>\n",
       "      <td>2.361267e+07</td>\n",
       "      <td>850000.000000</td>\n",
       "      <td>1</td>\n",
       "      <td>99</td>\n",
       "      <td>2</td>\n",
       "      <td>513.000000</td>\n",
       "    </tr>\n",
       "    <tr>\n",
       "      <th>142</th>\n",
       "      <td>5.113139e+06</td>\n",
       "      <td>404.642857</td>\n",
       "      <td>14316788</td>\n",
       "      <td>2.706152e+07</td>\n",
       "      <td>214285.714286</td>\n",
       "      <td>2</td>\n",
       "      <td>99</td>\n",
       "      <td>2</td>\n",
       "      <td>2323.928571</td>\n",
       "    </tr>\n",
       "    <tr>\n",
       "      <th>143</th>\n",
       "      <td>2.077156e+06</td>\n",
       "      <td>156.000000</td>\n",
       "      <td>2077156</td>\n",
       "      <td>2.403706e+07</td>\n",
       "      <td>600000.000000</td>\n",
       "      <td>1</td>\n",
       "      <td>99</td>\n",
       "      <td>2</td>\n",
       "      <td>1634.000000</td>\n",
       "    </tr>\n",
       "    <tr>\n",
       "      <th>144</th>\n",
       "      <td>6.254585e+06</td>\n",
       "      <td>436.000000</td>\n",
       "      <td>18763756</td>\n",
       "      <td>3.037899e+07</td>\n",
       "      <td>500000.000000</td>\n",
       "      <td>2</td>\n",
       "      <td>99</td>\n",
       "      <td>1</td>\n",
       "      <td>6065.666667</td>\n",
       "    </tr>\n",
       "    <tr>\n",
       "      <th>145</th>\n",
       "      <td>4.877195e+06</td>\n",
       "      <td>403.800000</td>\n",
       "      <td>24385973</td>\n",
       "      <td>2.331658e+07</td>\n",
       "      <td>572000.000000</td>\n",
       "      <td>3</td>\n",
       "      <td>99</td>\n",
       "      <td>1</td>\n",
       "      <td>3908.000000</td>\n",
       "    </tr>\n",
       "  </tbody>\n",
       "</table>\n",
       "<p>146 rows × 9 columns</p>\n",
       "</div>"
      ],
      "text/plain": [
       "            labch   labh_hour   lab_cost          fmtc          lansh  size  \\\n",
       "0    1.444833e+05   14.465116   31063912  4.159076e+05    6046.511628     2   \n",
       "1    7.366528e+04    8.053658   44206536  1.603243e+05    3332.777870     3   \n",
       "2    5.692729e+04    7.027397    8311384  2.447171e+05    4520.547945     1   \n",
       "3    3.260197e+04    4.311395  133027446  1.144202e+05     857.769554     3   \n",
       "4    6.202576e+04    6.238282   20511918  1.891691e+05    7257.332930     2   \n",
       "..            ...         ...        ...           ...            ...   ...   \n",
       "141  3.191748e+06  299.000000    3191748  2.361267e+07  850000.000000     1   \n",
       "142  5.113139e+06  404.642857   14316788  2.706152e+07  214285.714286     2   \n",
       "143  2.077156e+06  156.000000    2077156  2.403706e+07  600000.000000     1   \n",
       "144  6.254585e+06  436.000000   18763756  3.037899e+07  500000.000000     2   \n",
       "145  4.877195e+06  403.800000   24385973  2.331658e+07  572000.000000     3   \n",
       "\n",
       "     ara  de2         cony  \n",
       "0     31    1    20.000000  \n",
       "1     31    1    20.000000  \n",
       "2     31    2    20.000000  \n",
       "3     99    2    20.000000  \n",
       "4     37    2    20.000000  \n",
       "..   ...  ...          ...  \n",
       "141   99    2   513.000000  \n",
       "142   99    2  2323.928571  \n",
       "143   99    2  1634.000000  \n",
       "144   99    1  6065.666667  \n",
       "145   99    1  3908.000000  \n",
       "\n",
       "[146 rows x 9 columns]"
      ]
     },
     "execution_count": 2,
     "metadata": {},
     "output_type": "execute_result"
    }
   ],
   "source": [
    "data"
   ]
  },
  {
   "cell_type": "code",
   "execution_count": 3,
   "metadata": {},
   "outputs": [
    {
     "name": "stdout",
     "output_type": "stream",
     "text": [
      "0\n",
      "(146, 9)\n"
     ]
    }
   ],
   "source": [
    "print(np.sum(data['cony'] == 0))\n",
    "data.drop(data[data['cony'] == 0].index, inplace=True)\n",
    "print(data.shape)"
   ]
  },
  {
   "cell_type": "code",
   "execution_count": 4,
   "metadata": {},
   "outputs": [
    {
     "data": {
      "text/plain": [
       "labch        0\n",
       "labh_hour    0\n",
       "lab_cost     0\n",
       "fmtc         0\n",
       "lansh        0\n",
       "size         0\n",
       "ara          0\n",
       "de2          0\n",
       "cony         0\n",
       "dtype: int64"
      ]
     },
     "execution_count": 4,
     "metadata": {},
     "output_type": "execute_result"
    }
   ],
   "source": [
    "data.isnull().sum()"
   ]
  },
  {
   "cell_type": "code",
   "execution_count": 5,
   "metadata": {},
   "outputs": [
    {
     "data": {
      "text/plain": [
       "labch        0\n",
       "labh_hour    0\n",
       "lab_cost     0\n",
       "fmtc         0\n",
       "lansh        0\n",
       "size         0\n",
       "ara          0\n",
       "de2          0\n",
       "cony         0\n",
       "dtype: int64"
      ]
     },
     "execution_count": 5,
     "metadata": {},
     "output_type": "execute_result"
    }
   ],
   "source": [
    "data.fillna(data.mean(), inplace=True)\n",
    "data.isnull().sum()"
   ]
  },
  {
   "cell_type": "code",
   "execution_count": 6,
   "metadata": {},
   "outputs": [
    {
     "name": "stdout",
     "output_type": "stream",
     "text": [
      "2    58\n",
      "1    48\n",
      "3    40\n",
      "Name: size, dtype: int64\n",
      "\n",
      "34    31\n",
      "36    30\n",
      "37    30\n",
      "99    28\n",
      "33    16\n",
      "31    11\n",
      "Name: ara, dtype: int64\n",
      "\n",
      "1    96\n",
      "2    50\n",
      "Name: de2, dtype: int64\n",
      "\n"
     ]
    }
   ],
   "source": [
    "for column in data.columns:\n",
    "    if len(data[column].value_counts()) <= 10:\n",
    "        print(data[column].value_counts())\n",
    "        print()"
   ]
  },
  {
   "cell_type": "code",
   "execution_count": 7,
   "metadata": {
    "scrolled": false
   },
   "outputs": [
    {
     "data": {
      "image/png": "[encoded data removed]",
      "text/plain": [
       "<Figure size 432x288 with 1 Axes>"
      ]
     },
     "metadata": {
      "needs_background": "light"
     },
     "output_type": "display_data"
    },
    {
     "data": {
      "image/png": "[encoded data removed]",
      "text/plain": [
       "<Figure size 432x288 with 1 Axes>"
      ]
     },
     "metadata": {
      "needs_background": "light"
     },
     "output_type": "display_data"
    },
    {
     "data": {
      "image/png": "[encoded data removed]",
      "text/plain": [
       "<Figure size 432x288 with 1 Axes>"
      ]
     },
     "metadata": {
      "needs_background": "light"
     },
     "output_type": "display_data"
    },
    {
     "data": {
      "image/png": "[encoded data removed]",
      "text/plain": [
       "<Figure size 432x288 with 1 Axes>"
      ]
     },
     "metadata": {
      "needs_background": "light"
     },
     "output_type": "display_data"
    },
    {
     "data": {
      "image/png": "[encoded data removed]",
      "text/plain": [
       "<Figure size 432x288 with 1 Axes>"
      ]
     },
     "metadata": {
      "needs_background": "light"
     },
     "output_type": "display_data"
    },
    {
     "data": {
      "image/png": "[encoded data removed]",
      "text/plain": [
       "<Figure size 432x288 with 1 Axes>"
      ]
     },
     "metadata": {
      "needs_background": "light"
     },
     "output_type": "display_data"
    },
    {
     "data": {
      "image/png": "[encoded data removed]",
      "text/plain": [
       "<Figure size 432x288 with 1 Axes>"
      ]
     },
     "metadata": {
      "needs_background": "light"
     },
     "output_type": "display_data"
    },
    {
     "data": {
      "image/png": "[encoded data removed]",
      "text/plain": [
       "<Figure size 432x288 with 1 Axes>"
      ]
     },
     "metadata": {
      "needs_background": "light"
     },
     "output_type": "display_data"
    },
    {
     "data": {
      "image/png": "[encoded data removed]",
      "text/plain": [
       "<Figure size 432x288 with 1 Axes>"
      ]
     },
     "metadata": {
      "needs_background": "light"
     },
     "output_type": "display_data"
    }
   ],
   "source": [
    "import matplotlib.pyplot as plt\n",
    "%matplotlib inline\n",
    "\n",
    "for column in data.columns:\n",
    "    data[column].hist()\n",
    "    plt.title(column)\n",
    "    plt.show()"
   ]
  },
  {
   "cell_type": "markdown",
   "metadata": {},
   "source": [
    "## Log Transform"
   ]
  },
  {
   "cell_type": "code",
   "execution_count": 8,
   "metadata": {},
   "outputs": [],
   "source": [
    "data.loc[:, ['fmtc', 'lansh']] = np.log1p(data.loc[:, ['fmtc', 'lansh']])\n",
    "data.loc[:, ['labch', 'labh_hour', 'lab_cost']] = np.log1p(data.loc[:, ['labch', 'labh_hour', 'lab_cost']])"
   ]
  },
  {
   "cell_type": "code",
   "execution_count": 9,
   "metadata": {},
   "outputs": [],
   "source": [
    "data['cony'] = np.log1p(data['cony'])"
   ]
  },
  {
   "cell_type": "code",
   "execution_count": 10,
   "metadata": {},
   "outputs": [
    {
     "data": {
      "image/png": "[encoded data removed]",
      "text/plain": [
       "<Figure size 432x288 with 1 Axes>"
      ]
     },
     "metadata": {
      "needs_background": "light"
     },
     "output_type": "display_data"
    },
    {
     "data": {
      "image/png": "[encoded data removed]",
      "text/plain": [
       "<Figure size 432x288 with 1 Axes>"
      ]
     },
     "metadata": {
      "needs_background": "light"
     },
     "output_type": "display_data"
    },
    {
     "data": {
      "image/png": "[encoded data removed]",
      "text/plain": [
       "<Figure size 432x288 with 1 Axes>"
      ]
     },
     "metadata": {
      "needs_background": "light"
     },
     "output_type": "display_data"
    },
    {
     "data": {
      "image/png": "[encoded data removed]",
      "text/plain": [
       "<Figure size 432x288 with 1 Axes>"
      ]
     },
     "metadata": {
      "needs_background": "light"
     },
     "output_type": "display_data"
    },
    {
     "data": {
      "image/png": "[encoded data removed]",
      "text/plain": [
       "<Figure size 432x288 with 1 Axes>"
      ]
     },
     "metadata": {
      "needs_background": "light"
     },
     "output_type": "display_data"
    }
   ],
   "source": [
    "import seaborn as sns\n",
    "\n",
    "sns.scatterplot(x='fmtc', y='cony', data=data)\n",
    "plt.show()\n",
    "\n",
    "sns.scatterplot(x='labch', y='cony', data=data)\n",
    "plt.show()\n",
    "\n",
    "sns.scatterplot(x='labh_hour', y='cony', data=data)\n",
    "plt.show()\n",
    "\n",
    "sns.scatterplot(x='lab_cost', y='cony', data=data)\n",
    "plt.show()\n",
    "\n",
    "sns.scatterplot(x='lansh', y='cony', data=data)\n",
    "plt.show()"
   ]
  },
  {
   "cell_type": "markdown",
   "metadata": {},
   "source": [
    "## NaN Check"
   ]
  },
  {
   "cell_type": "code",
   "execution_count": 11,
   "metadata": {},
   "outputs": [],
   "source": [
    "data.replace({'labch' : {0 : np.nan},\n",
    "              'labh_hour' : {0 : np.nan},\n",
    "              'lab_cost' : {0 : np.nan},\n",
    "              'lansh' : {0 : np.nan}},\n",
    "             inplace=True)"
   ]
  },
  {
   "cell_type": "code",
   "execution_count": 12,
   "metadata": {},
   "outputs": [
    {
     "data": {
      "text/plain": [
       "labch        0\n",
       "labh_hour    0\n",
       "lab_cost     0\n",
       "fmtc         0\n",
       "lansh        0\n",
       "size         0\n",
       "ara          0\n",
       "de2          0\n",
       "cony         0\n",
       "dtype: int64"
      ]
     },
     "execution_count": 12,
     "metadata": {},
     "output_type": "execute_result"
    }
   ],
   "source": [
    "data.isnull().sum()"
   ]
  },
  {
   "cell_type": "code",
   "execution_count": 13,
   "metadata": {},
   "outputs": [],
   "source": [
    "data.dropna(axis=0, inplace=True)"
   ]
  },
  {
   "cell_type": "code",
   "execution_count": 14,
   "metadata": {},
   "outputs": [
    {
     "data": {
      "image/png": "[encoded data removed]",
      "text/plain": [
       "<Figure size 432x288 with 1 Axes>"
      ]
     },
     "metadata": {
      "needs_background": "light"
     },
     "output_type": "display_data"
    },
    {
     "data": {
      "image/png": "[encoded data removed]",
      "text/plain": [
       "<Figure size 432x288 with 1 Axes>"
      ]
     },
     "metadata": {
      "needs_background": "light"
     },
     "output_type": "display_data"
    },
    {
     "data": {
      "image/png": "[encoded data removed]",
      "text/plain": [
       "<Figure size 432x288 with 1 Axes>"
      ]
     },
     "metadata": {
      "needs_background": "light"
     },
     "output_type": "display_data"
    }
   ],
   "source": [
    "sns.scatterplot(x='fmtc', y='cony', data=data)\n",
    "plt.show()\n",
    "\n",
    "sns.scatterplot(x='labch', y='cony', data=data)\n",
    "plt.show()\n",
    "\n",
    "sns.scatterplot(x='labh_hour', y='cony', data=data)\n",
    "plt.show()"
   ]
  },
  {
   "cell_type": "code",
   "execution_count": 15,
   "metadata": {
    "scrolled": false
   },
   "outputs": [
    {
     "data": {
      "image/png": "[encoded data removed]",
      "text/plain": [
       "<Figure size 432x288 with 1 Axes>"
      ]
     },
     "metadata": {
      "needs_background": "light"
     },
     "output_type": "display_data"
    },
    {
     "data": {
      "image/png": "[encoded data removed]",
      "text/plain": [
       "<Figure size 432x288 with 1 Axes>"
      ]
     },
     "metadata": {
      "needs_background": "light"
     },
     "output_type": "display_data"
    },
    {
     "data": {
      "image/png": "[encoded data removed]",
      "text/plain": [
       "<Figure size 432x288 with 1 Axes>"
      ]
     },
     "metadata": {
      "needs_background": "light"
     },
     "output_type": "display_data"
    },
    {
     "data": {
      "image/png": "[encoded data removed]",
      "text/plain": [
       "<Figure size 432x288 with 1 Axes>"
      ]
     },
     "metadata": {
      "needs_background": "light"
     },
     "output_type": "display_data"
    },
    {
     "data": {
      "image/png": "[encoded data removed]",
      "text/plain": [
       "<Figure size 432x288 with 1 Axes>"
      ]
     },
     "metadata": {
      "needs_background": "light"
     },
     "output_type": "display_data"
    },
    {
     "data": {
      "image/png": "[encoded data removed]",
      "text/plain": [
       "<Figure size 432x288 with 1 Axes>"
      ]
     },
     "metadata": {
      "needs_background": "light"
     },
     "output_type": "display_data"
    },
    {
     "data": {
      "image/png": "[encoded data removed]",
      "text/plain": [
       "<Figure size 432x288 with 1 Axes>"
      ]
     },
     "metadata": {
      "needs_background": "light"
     },
     "output_type": "display_data"
    },
    {
     "data": {
      "image/png": "[encoded data removed]",
      "text/plain": [
       "<Figure size 432x288 with 1 Axes>"
      ]
     },
     "metadata": {
      "needs_background": "light"
     },
     "output_type": "display_data"
    },
    {
     "data": {
      "image/png": "[encoded data removed]",
      "text/plain": [
       "<Figure size 432x288 with 1 Axes>"
      ]
     },
     "metadata": {
      "needs_background": "light"
     },
     "output_type": "display_data"
    }
   ],
   "source": [
    "for column in data.columns:\n",
    "    data[column].hist()\n",
    "    plt.title(column)\n",
    "    plt.show()"
   ]
  },
  {
   "cell_type": "markdown",
   "metadata": {},
   "source": [
    "## Categorical Variable processing"
   ]
  },
  {
   "cell_type": "code",
   "execution_count": 16,
   "metadata": {},
   "outputs": [
    {
     "name": "stdout",
     "output_type": "stream",
     "text": [
      "[array([1, 2, 3]), array([31, 33, 34, 36, 37, 99]), array([1, 2])]\n",
      "(146, 11)\n"
     ]
    }
   ],
   "source": [
    "from sklearn.preprocessing import OneHotEncoder\n",
    "\n",
    "categorical_variables = ['size', 'ara', 'de2']\n",
    "onehot_encoder = OneHotEncoder(handle_unknown='ignore')\n",
    "onehot_encoder.fit(data.loc[:, categorical_variables])\n",
    "onehot = onehot_encoder.fit_transform(data.loc[:, categorical_variables])\n",
    "print(onehot_encoder.categories_)\n",
    "print(onehot.toarray().shape)"
   ]
  },
  {
   "cell_type": "markdown",
   "metadata": {},
   "source": [
    "## Numerical Variable processing"
   ]
  },
  {
   "cell_type": "code",
   "execution_count": 17,
   "metadata": {},
   "outputs": [
    {
     "data": {
      "text/plain": [
       "array([[0.24827672, 0.21733309, 0.68219656, 0.19637546, 0.2498024 ],\n",
       "       [0.1716558 , 0.15224716, 0.73383513, 0.07369022, 0.1735857 ],\n",
       "       [0.14233795, 0.13762234, 0.48923636, 0.12811799, 0.21258707],\n",
       "       [0.07893827, 0.08741695, 0.89507423, 0.03027719, 0.        ],\n",
       "       [0.15209418, 0.12504365, 0.62145242, 0.09498269, 0.27315899],\n",
       "       [0.10909786, 0.09025898, 0.76012014, 0.05460124, 0.02015142],\n",
       "       [0.1162066 , 0.09481729, 0.68195925, 0.09116067, 0.06789884],\n",
       "       [0.09950946, 0.08331882, 0.76071523, 0.02590771, 0.0689526 ],\n",
       "       [0.07378436, 0.04004456, 0.43644005, 0.12801005, 0.2866747 ],\n",
       "       [0.20359678, 0.15893147, 0.53837879, 0.21087936, 0.13765826],\n",
       "       [0.11457551, 0.07609042, 0.41301718, 0.16956455, 0.14711082],\n",
       "       [0.06697458, 0.04474342, 0.67715295, 0.        , 0.01674983],\n",
       "       [0.        , 0.        , 0.25544542, 0.13905622, 0.16816733],\n",
       "       [0.77138134, 0.75950656, 0.73004708, 0.75655242, 0.79651109],\n",
       "       [0.8338309 , 0.83782234, 0.81040238, 0.8141821 , 0.85164216],\n",
       "       [0.73967745, 0.75721317, 0.55514731, 0.76454274, 0.82702264],\n",
       "       [0.74871445, 0.71347559, 0.54009138, 0.81200927, 0.86671589],\n",
       "       [0.60801243, 0.56632062, 0.35904683, 0.76701112, 0.74945018],\n",
       "       [0.82358875, 0.81554141, 0.73788088, 0.8134426 , 0.81482496],\n",
       "       [0.61935331, 0.60393427, 0.3736394 , 0.77201289, 0.76164784],\n",
       "       [0.75644468, 0.73892637, 0.57672209, 0.76336869, 0.99224133],\n",
       "       [0.67487697, 0.67738478, 0.78208264, 0.71090753, 0.63740917],\n",
       "       [0.69037846, 0.6701747 , 0.56647611, 0.76757827, 0.81482496],\n",
       "       [0.76044867, 0.74906718, 0.76169802, 0.78691488, 0.81166483],\n",
       "       [0.50808308, 0.50802326, 0.33191238, 0.71998547, 0.73596629],\n",
       "       [0.76637523, 0.76915459, 0.96395729, 0.78128871, 0.74525378],\n",
       "       [0.62632696, 0.60172947, 0.62106345, 0.70260267, 0.83562393],\n",
       "       [0.65355131, 0.63062847, 0.69819797, 0.70089661, 0.78049288],\n",
       "       [0.82277951, 0.83240718, 0.7961823 , 0.79850486, 0.85164216],\n",
       "       [0.70485605, 0.71325421, 0.51034181, 0.75351608, 0.82702264],\n",
       "       [0.79387552, 0.78515133, 0.99934255, 0.79489489, 0.74525378],\n",
       "       [0.68603985, 0.66185508, 0.62503524, 0.72175808, 0.81062856],\n",
       "       [0.76543621, 0.74831372, 0.56160765, 0.7739238 , 0.92686642],\n",
       "       [0.71013211, 0.70416577, 0.78534193, 0.73413623, 0.67422617],\n",
       "       [0.73100888, 0.71164824, 0.5766519 , 0.76705267, 0.85164216],\n",
       "       [0.82698423, 0.81554141, 0.77490856, 0.82229479, 0.87497545],\n",
       "       [0.38659163, 0.37375346, 0.17558642, 0.7399226 , 0.76917817],\n",
       "       [0.72224969, 0.67847518, 0.5327226 , 0.8074409 , 0.84338259],\n",
       "       [0.76119446, 0.72506963, 0.37993975, 0.82713033, 0.90353311],\n",
       "       [0.77827084, 0.76165335, 0.67956927, 0.79101713, 0.81482496],\n",
       "       [0.64839388, 0.6300096 , 0.27690096, 0.77437432, 0.87891358],\n",
       "       [0.69012545, 0.67783042, 0.7002562 , 0.71151576, 0.45477149],\n",
       "       [0.70635952, 0.70093626, 0.80717171, 0.73629842, 0.58551866],\n",
       "       [0.66233138, 0.64863525, 0.58972996, 0.70500692, 0.55039699],\n",
       "       [0.68686906, 0.67076072, 0.69606613, 0.73691234, 0.55855115],\n",
       "       [0.75316761, 0.73588183, 0.78137401, 0.77805608, 0.76452389],\n",
       "       [0.69800654, 0.68302032, 0.60894997, 0.73093398, 0.67751109],\n",
       "       [0.72736604, 0.70158091, 0.65246776, 0.72608774, 0.61992571],\n",
       "       [0.72011222, 0.69511672, 0.73884088, 0.75890008, 0.87656527],\n",
       "       [0.66823627, 0.63335348, 0.72133598, 0.73012242, 0.75827979],\n",
       "       [0.67364159, 0.63622069, 0.47017744, 0.77563552, 0.77800778],\n",
       "       [0.75142617, 0.73018791, 0.64502761, 0.82461113, 0.86671589],\n",
       "       [0.83678999, 0.82303133, 0.70880706, 0.86324727, 0.67246093],\n",
       "       [0.77807491, 0.753993  , 0.80374279, 0.79293415, 0.79149168],\n",
       "       [0.61149965, 0.57964489, 0.66787491, 0.69907492, 0.8065654 ],\n",
       "       [0.74823537, 0.72642921, 0.53947493, 0.75865952, 0.9787574 ],\n",
       "       [0.6891511 , 0.66939528, 0.69900248, 0.72476507, 0.77800778],\n",
       "       [0.75628835, 0.73802605, 0.67173904, 0.75434383, 0.84882932],\n",
       "       [0.75455012, 0.73460909, 0.79973938, 0.75077954, 0.82365458],\n",
       "       [0.30885583, 0.28949382, 0.07556182, 0.75472753, 0.86671589],\n",
       "       [0.75200471, 0.73287603, 0.64577203, 0.76560515, 0.77800778],\n",
       "       [0.87322783, 0.87737801, 1.        , 0.85542905, 0.83396184],\n",
       "       [0.6587695 , 0.63359335, 0.68163209, 0.70569316, 0.81916364],\n",
       "       [0.64185152, 0.61251267, 0.638141  , 0.73801095, 0.75720883],\n",
       "       [0.69079907, 0.6642532 , 0.46557031, 0.68885222, 0.79402599],\n",
       "       [0.77014711, 0.75021788, 0.68957143, 0.78337813, 0.77613945],\n",
       "       [0.71565657, 0.69221149, 0.65834473, 0.79087299, 0.76546838],\n",
       "       [0.76637708, 0.73702429, 0.89981796, 0.73136176, 0.67676048],\n",
       "       [0.67913014, 0.65514852, 0.56595195, 0.74434107, 0.67963651],\n",
       "       [0.74522941, 0.72535079, 0.53560709, 0.75984982, 0.89493181],\n",
       "       [0.81391643, 0.80684376, 0.81860281, 0.83671141, 0.9418649 ],\n",
       "       [0.72791257, 0.70843579, 0.74887776, 0.75356948, 0.83708729],\n",
       "       [0.76803462, 0.76382138, 0.56495108, 0.76046068, 0.97144233],\n",
       "       [0.66702807, 0.64236823, 0.59577331, 0.72839932, 0.76546838],\n",
       "       [0.25013175, 0.15809703, 0.        , 0.68665828, 0.20469075],\n",
       "       [0.72752415, 0.70177093, 0.68168212, 0.77694444, 0.75841429],\n",
       "       [0.72895734, 0.69307782, 0.61611645, 0.81695522, 1.        ],\n",
       "       [0.76062354, 0.71699861, 0.58689815, 0.81167147, 0.76649633],\n",
       "       [0.7218375 , 0.69197414, 0.60695519, 0.78763022, 0.84591691],\n",
       "       [0.7946176 , 0.77482902, 0.61310534, 0.82812017, 0.87053659],\n",
       "       [0.77916757, 0.75622134, 0.57927611, 0.86905524, 0.70531801],\n",
       "       [1.        , 1.        , 0.89011036, 1.        , 0.8929779 ],\n",
       "       [0.67036144, 0.64244193, 0.58996484, 0.73416874, 0.70531801],\n",
       "       [0.63289853, 0.59477472, 0.39106836, 0.73959386, 0.82561883],\n",
       "       [0.6798367 , 0.63347558, 0.61225447, 0.75543219, 0.76546838],\n",
       "       [0.60095511, 0.56301059, 0.61220269, 0.71989095, 0.55949564],\n",
       "       [0.73144188, 0.70139313, 0.6038931 , 0.74926589, 0.6534273 ],\n",
       "       [0.64863069, 0.6056826 , 0.59878502, 0.73587194, 0.57297938],\n",
       "       [0.6699052 , 0.64146502, 0.68550213, 0.72197738, 0.75561901],\n",
       "       [0.7325923 , 0.72106356, 0.96493408, 0.73699115, 0.72240715],\n",
       "       [0.63817783, 0.59047123, 0.39786135, 0.75163679, 0.54240669],\n",
       "       [0.74209901, 0.7184422 , 0.66568478, 0.76582677, 0.67676048],\n",
       "       [0.65890279, 0.63068578, 0.60787937, 0.73602811, 0.65703255],\n",
       "       [0.78443257, 0.75687314, 0.58605071, 0.79201206, 0.83708729],\n",
       "       [0.74683132, 0.71577608, 0.70790367, 0.77207658, 0.86564493],\n",
       "       [0.71979655, 0.67903436, 0.60432905, 0.76930301, 0.88273412],\n",
       "       [0.65019353, 0.62571561, 0.57411191, 0.69069471, 0.53616269],\n",
       "       [0.6845566 , 0.65497491, 0.79453764, 0.69232846, 0.58805295],\n",
       "       [0.72180715, 0.70481354, 0.50546913, 0.72767755, 0.70785232],\n",
       "       [0.59270923, 0.57491508, 0.33935585, 0.66031475, 0.49934618],\n",
       "       [0.68426535, 0.63300483, 0.55861023, 0.73293934, 0.63994347],\n",
       "       [0.77190728, 0.74870481, 0.76009075, 0.76366925, 0.76834705],\n",
       "       [0.77093407, 0.74853886, 0.75884248, 0.76666261, 0.76834356],\n",
       "       [0.77481807, 0.75254086, 0.76384012, 0.77513855, 0.76834356],\n",
       "       [0.77278489, 0.73808026, 0.67251037, 0.80873247, 0.95435312],\n",
       "       [0.78475936, 0.74204349, 0.7472609 , 0.79615284, 0.80466293],\n",
       "       [0.79446653, 0.76482584, 0.70040863, 0.7920011 , 1.        ],\n",
       "       [0.76467681, 0.72964695, 0.72142021, 0.77113954, 0.81124308],\n",
       "       [0.61377537, 0.5922829 , 0.36646214, 0.69730225, 0.49934618],\n",
       "       [0.77125822, 0.7248684 , 0.59578301, 0.80429692, 0.70531801],\n",
       "       [0.52170702, 0.47973146, 0.59894458, 0.68220053, 0.67352084],\n",
       "       [0.66588975, 0.64984943, 0.78446789, 0.71929472, 0.67352084],\n",
       "       [0.6685117 , 0.65132684, 0.78784161, 0.72007745, 0.67352084],\n",
       "       [0.76252192, 0.71854407, 0.65930477, 0.8003211 , 0.95435312],\n",
       "       [0.74289831, 0.69086036, 0.63405462, 0.8025554 , 0.90232862],\n",
       "       [0.78433041, 0.75495434, 0.68736627, 0.7759493 , 0.95706656],\n",
       "       [0.7089229 , 0.68476943, 0.75112736, 0.74137444, 0.67676048],\n",
       "       [0.7129777 , 0.70394111, 0.83110772, 0.74895451, 0.67676048],\n",
       "       [0.69684678, 0.69382887, 0.9117987 , 0.72466045, 0.79522487],\n",
       "       [0.74266892, 0.70509823, 0.53231245, 0.78524254, 0.54132671],\n",
       "       [0.75734029, 0.72902575, 0.6730926 , 0.76650328, 0.73320612],\n",
       "       [0.70455064, 0.66880901, 0.56929153, 0.75996296, 0.8505712 ],\n",
       "       [0.74110504, 0.71431924, 0.68612813, 0.75255307, 0.90787179],\n",
       "       [0.74762029, 0.70481354, 0.6401305 , 0.79266229, 0.88273412],\n",
       "       [0.53222848, 0.48330141, 0.59853347, 0.70401207, 0.58805295],\n",
       "       [0.67860769, 0.65559605, 0.44988338, 0.73672344, 0.70785232],\n",
       "       [0.67331143, 0.62126437, 0.50241126, 0.80755704, 0.94810901],\n",
       "       [0.76764979, 0.71867129, 0.56445592, 0.81480489, 0.81482496],\n",
       "       [0.86432015, 0.8367841 , 0.68884391, 0.88643578, 0.93462509],\n",
       "       [0.5887477 , 0.54923656, 0.5915334 , 0.71718104, 0.87246872],\n",
       "       [0.69671609, 0.66184995, 0.47608214, 0.79799888, 0.71687261],\n",
       "       [0.87834304, 0.87826016, 0.85757958, 0.84525958, 0.78454175],\n",
       "       [0.72155496, 0.68794858, 0.60659163, 0.78297562, 0.84591691],\n",
       "       [0.7548057 , 0.723654  , 0.54792912, 0.77450248, 0.79402599],\n",
       "       [0.7974164 , 0.76955296, 0.72780704, 0.79155013, 0.77338711],\n",
       "       [0.64565608, 0.60952243, 0.50893078, 0.70797617, 0.20469075],\n",
       "       [0.6653665 , 0.62584653, 0.60170243, 0.7565223 , 0.77950619],\n",
       "       [0.78116918, 0.75510433, 0.59580095, 0.78978675, 0.66936491],\n",
       "       [0.69095871, 0.65877514, 0.50417459, 0.74355525, 0.89167952],\n",
       "       [0.95450886, 0.94675589, 0.8048918 , 0.92251068, 0.88273412],\n",
       "       [0.8163595 , 0.78680609, 0.74903398, 0.82998486, 0.7969384 ],\n",
       "       [0.600332  , 0.57778512, 0.34916424, 0.71620647, 0.88273412],\n",
       "       [0.65393326, 0.61445893, 0.56882632, 0.73375216, 0.70638897],\n",
       "       [0.55147109, 0.49906994, 0.28629378, 0.71849904, 0.83815824],\n",
       "       [0.67685285, 0.62351037, 0.60841508, 0.74863487, 0.81482496],\n",
       "       [0.64855963, 0.61420608, 0.64677249, 0.71458242, 0.83204205]])"
      ]
     },
     "execution_count": 17,
     "metadata": {},
     "output_type": "execute_result"
    }
   ],
   "source": [
    "from sklearn.preprocessing import MinMaxScaler\n",
    "\n",
    "numerical_variables = ['labch', 'labh_hour', 'lab_cost',\n",
    "                       'fmtc', 'lansh']\n",
    "X_minmax_scaler = MinMaxScaler()\n",
    "X_minmax_scaler.fit(data.loc[:, numerical_variables])\n",
    "X_scaled = X_minmax_scaler.transform(data.loc[:, numerical_variables])\n",
    "X_scaled"
   ]
  },
  {
   "cell_type": "code",
   "execution_count": 18,
   "metadata": {},
   "outputs": [
    {
     "data": {
      "text/html": [
       "<div>\n",
       "<style scoped>\n",
       "    .dataframe tbody tr th:only-of-type {\n",
       "        vertical-align: middle;\n",
       "    }\n",
       "\n",
       "    .dataframe tbody tr th {\n",
       "        vertical-align: top;\n",
       "    }\n",
       "\n",
       "    .dataframe thead th {\n",
       "        text-align: right;\n",
       "    }\n",
       "</style>\n",
       "<table border=\"1\" class=\"dataframe\">\n",
       "  <thead>\n",
       "    <tr style=\"text-align: right;\">\n",
       "      <th></th>\n",
       "      <th>labch</th>\n",
       "      <th>labh_hour</th>\n",
       "      <th>lab_cost</th>\n",
       "      <th>fmtc</th>\n",
       "      <th>lansh</th>\n",
       "      <th>0</th>\n",
       "      <th>1</th>\n",
       "      <th>2</th>\n",
       "      <th>3</th>\n",
       "      <th>4</th>\n",
       "      <th>5</th>\n",
       "      <th>6</th>\n",
       "      <th>7</th>\n",
       "      <th>8</th>\n",
       "      <th>9</th>\n",
       "      <th>10</th>\n",
       "    </tr>\n",
       "  </thead>\n",
       "  <tbody>\n",
       "    <tr>\n",
       "      <th>0</th>\n",
       "      <td>0.248277</td>\n",
       "      <td>0.217333</td>\n",
       "      <td>0.682197</td>\n",
       "      <td>0.196375</td>\n",
       "      <td>0.249802</td>\n",
       "      <td>0.0</td>\n",
       "      <td>1.0</td>\n",
       "      <td>0.0</td>\n",
       "      <td>1.0</td>\n",
       "      <td>0.0</td>\n",
       "      <td>0.0</td>\n",
       "      <td>0.0</td>\n",
       "      <td>0.0</td>\n",
       "      <td>0.0</td>\n",
       "      <td>1.0</td>\n",
       "      <td>0.0</td>\n",
       "    </tr>\n",
       "    <tr>\n",
       "      <th>1</th>\n",
       "      <td>0.171656</td>\n",
       "      <td>0.152247</td>\n",
       "      <td>0.733835</td>\n",
       "      <td>0.073690</td>\n",
       "      <td>0.173586</td>\n",
       "      <td>0.0</td>\n",
       "      <td>0.0</td>\n",
       "      <td>1.0</td>\n",
       "      <td>1.0</td>\n",
       "      <td>0.0</td>\n",
       "      <td>0.0</td>\n",
       "      <td>0.0</td>\n",
       "      <td>0.0</td>\n",
       "      <td>0.0</td>\n",
       "      <td>1.0</td>\n",
       "      <td>0.0</td>\n",
       "    </tr>\n",
       "    <tr>\n",
       "      <th>2</th>\n",
       "      <td>0.142338</td>\n",
       "      <td>0.137622</td>\n",
       "      <td>0.489236</td>\n",
       "      <td>0.128118</td>\n",
       "      <td>0.212587</td>\n",
       "      <td>1.0</td>\n",
       "      <td>0.0</td>\n",
       "      <td>0.0</td>\n",
       "      <td>1.0</td>\n",
       "      <td>0.0</td>\n",
       "      <td>0.0</td>\n",
       "      <td>0.0</td>\n",
       "      <td>0.0</td>\n",
       "      <td>0.0</td>\n",
       "      <td>0.0</td>\n",
       "      <td>1.0</td>\n",
       "    </tr>\n",
       "    <tr>\n",
       "      <th>3</th>\n",
       "      <td>0.078938</td>\n",
       "      <td>0.087417</td>\n",
       "      <td>0.895074</td>\n",
       "      <td>0.030277</td>\n",
       "      <td>0.000000</td>\n",
       "      <td>0.0</td>\n",
       "      <td>0.0</td>\n",
       "      <td>1.0</td>\n",
       "      <td>0.0</td>\n",
       "      <td>0.0</td>\n",
       "      <td>0.0</td>\n",
       "      <td>0.0</td>\n",
       "      <td>0.0</td>\n",
       "      <td>1.0</td>\n",
       "      <td>0.0</td>\n",
       "      <td>1.0</td>\n",
       "    </tr>\n",
       "    <tr>\n",
       "      <th>4</th>\n",
       "      <td>0.152094</td>\n",
       "      <td>0.125044</td>\n",
       "      <td>0.621452</td>\n",
       "      <td>0.094983</td>\n",
       "      <td>0.273159</td>\n",
       "      <td>0.0</td>\n",
       "      <td>1.0</td>\n",
       "      <td>0.0</td>\n",
       "      <td>0.0</td>\n",
       "      <td>0.0</td>\n",
       "      <td>0.0</td>\n",
       "      <td>0.0</td>\n",
       "      <td>1.0</td>\n",
       "      <td>0.0</td>\n",
       "      <td>0.0</td>\n",
       "      <td>1.0</td>\n",
       "    </tr>\n",
       "    <tr>\n",
       "      <th>...</th>\n",
       "      <td>...</td>\n",
       "      <td>...</td>\n",
       "      <td>...</td>\n",
       "      <td>...</td>\n",
       "      <td>...</td>\n",
       "      <td>...</td>\n",
       "      <td>...</td>\n",
       "      <td>...</td>\n",
       "      <td>...</td>\n",
       "      <td>...</td>\n",
       "      <td>...</td>\n",
       "      <td>...</td>\n",
       "      <td>...</td>\n",
       "      <td>...</td>\n",
       "      <td>...</td>\n",
       "      <td>...</td>\n",
       "    </tr>\n",
       "    <tr>\n",
       "      <th>141</th>\n",
       "      <td>0.600332</td>\n",
       "      <td>0.577785</td>\n",
       "      <td>0.349164</td>\n",
       "      <td>0.716206</td>\n",
       "      <td>0.882734</td>\n",
       "      <td>1.0</td>\n",
       "      <td>0.0</td>\n",
       "      <td>0.0</td>\n",
       "      <td>0.0</td>\n",
       "      <td>0.0</td>\n",
       "      <td>0.0</td>\n",
       "      <td>0.0</td>\n",
       "      <td>0.0</td>\n",
       "      <td>1.0</td>\n",
       "      <td>0.0</td>\n",
       "      <td>1.0</td>\n",
       "    </tr>\n",
       "    <tr>\n",
       "      <th>142</th>\n",
       "      <td>0.653933</td>\n",
       "      <td>0.614459</td>\n",
       "      <td>0.568826</td>\n",
       "      <td>0.733752</td>\n",
       "      <td>0.706389</td>\n",
       "      <td>0.0</td>\n",
       "      <td>1.0</td>\n",
       "      <td>0.0</td>\n",
       "      <td>0.0</td>\n",
       "      <td>0.0</td>\n",
       "      <td>0.0</td>\n",
       "      <td>0.0</td>\n",
       "      <td>0.0</td>\n",
       "      <td>1.0</td>\n",
       "      <td>0.0</td>\n",
       "      <td>1.0</td>\n",
       "    </tr>\n",
       "    <tr>\n",
       "      <th>143</th>\n",
       "      <td>0.551471</td>\n",
       "      <td>0.499070</td>\n",
       "      <td>0.286294</td>\n",
       "      <td>0.718499</td>\n",
       "      <td>0.838158</td>\n",
       "      <td>1.0</td>\n",
       "      <td>0.0</td>\n",
       "      <td>0.0</td>\n",
       "      <td>0.0</td>\n",
       "      <td>0.0</td>\n",
       "      <td>0.0</td>\n",
       "      <td>0.0</td>\n",
       "      <td>0.0</td>\n",
       "      <td>1.0</td>\n",
       "      <td>0.0</td>\n",
       "      <td>1.0</td>\n",
       "    </tr>\n",
       "    <tr>\n",
       "      <th>144</th>\n",
       "      <td>0.676853</td>\n",
       "      <td>0.623510</td>\n",
       "      <td>0.608415</td>\n",
       "      <td>0.748635</td>\n",
       "      <td>0.814825</td>\n",
       "      <td>0.0</td>\n",
       "      <td>1.0</td>\n",
       "      <td>0.0</td>\n",
       "      <td>0.0</td>\n",
       "      <td>0.0</td>\n",
       "      <td>0.0</td>\n",
       "      <td>0.0</td>\n",
       "      <td>0.0</td>\n",
       "      <td>1.0</td>\n",
       "      <td>1.0</td>\n",
       "      <td>0.0</td>\n",
       "    </tr>\n",
       "    <tr>\n",
       "      <th>145</th>\n",
       "      <td>0.648560</td>\n",
       "      <td>0.614206</td>\n",
       "      <td>0.646772</td>\n",
       "      <td>0.714582</td>\n",
       "      <td>0.832042</td>\n",
       "      <td>0.0</td>\n",
       "      <td>0.0</td>\n",
       "      <td>1.0</td>\n",
       "      <td>0.0</td>\n",
       "      <td>0.0</td>\n",
       "      <td>0.0</td>\n",
       "      <td>0.0</td>\n",
       "      <td>0.0</td>\n",
       "      <td>1.0</td>\n",
       "      <td>1.0</td>\n",
       "      <td>0.0</td>\n",
       "    </tr>\n",
       "  </tbody>\n",
       "</table>\n",
       "<p>146 rows × 16 columns</p>\n",
       "</div>"
      ],
      "text/plain": [
       "        labch  labh_hour  lab_cost      fmtc     lansh    0    1    2    3  \\\n",
       "0    0.248277   0.217333  0.682197  0.196375  0.249802  0.0  1.0  0.0  1.0   \n",
       "1    0.171656   0.152247  0.733835  0.073690  0.173586  0.0  0.0  1.0  1.0   \n",
       "2    0.142338   0.137622  0.489236  0.128118  0.212587  1.0  0.0  0.0  1.0   \n",
       "3    0.078938   0.087417  0.895074  0.030277  0.000000  0.0  0.0  1.0  0.0   \n",
       "4    0.152094   0.125044  0.621452  0.094983  0.273159  0.0  1.0  0.0  0.0   \n",
       "..        ...        ...       ...       ...       ...  ...  ...  ...  ...   \n",
       "141  0.600332   0.577785  0.349164  0.716206  0.882734  1.0  0.0  0.0  0.0   \n",
       "142  0.653933   0.614459  0.568826  0.733752  0.706389  0.0  1.0  0.0  0.0   \n",
       "143  0.551471   0.499070  0.286294  0.718499  0.838158  1.0  0.0  0.0  0.0   \n",
       "144  0.676853   0.623510  0.608415  0.748635  0.814825  0.0  1.0  0.0  0.0   \n",
       "145  0.648560   0.614206  0.646772  0.714582  0.832042  0.0  0.0  1.0  0.0   \n",
       "\n",
       "       4    5    6    7    8    9   10  \n",
       "0    0.0  0.0  0.0  0.0  0.0  1.0  0.0  \n",
       "1    0.0  0.0  0.0  0.0  0.0  1.0  0.0  \n",
       "2    0.0  0.0  0.0  0.0  0.0  0.0  1.0  \n",
       "3    0.0  0.0  0.0  0.0  1.0  0.0  1.0  \n",
       "4    0.0  0.0  0.0  1.0  0.0  0.0  1.0  \n",
       "..   ...  ...  ...  ...  ...  ...  ...  \n",
       "141  0.0  0.0  0.0  0.0  1.0  0.0  1.0  \n",
       "142  0.0  0.0  0.0  0.0  1.0  0.0  1.0  \n",
       "143  0.0  0.0  0.0  0.0  1.0  0.0  1.0  \n",
       "144  0.0  0.0  0.0  0.0  1.0  1.0  0.0  \n",
       "145  0.0  0.0  0.0  0.0  1.0  1.0  0.0  \n",
       "\n",
       "[146 rows x 16 columns]"
      ]
     },
     "execution_count": 18,
     "metadata": {},
     "output_type": "execute_result"
    }
   ],
   "source": [
    "numeric_data_df = pd.DataFrame(X_scaled, columns=numerical_variables)\n",
    "onehot_data_df = pd.DataFrame(onehot.toarray())\n",
    "\n",
    "X_data_df = pd.concat([numeric_data_df , onehot_data_df], axis=1)\n",
    "X_data_df"
   ]
  },
  {
   "cell_type": "code",
   "execution_count": 19,
   "metadata": {},
   "outputs": [],
   "source": [
    "X_data = np.array(X_data_df)\n",
    "y_data = np.array(data['cony'])"
   ]
  },
  {
   "cell_type": "markdown",
   "metadata": {},
   "source": [
    "# Train Test Split"
   ]
  },
  {
   "cell_type": "code",
   "execution_count": 20,
   "metadata": {},
   "outputs": [
    {
     "name": "stdout",
     "output_type": "stream",
     "text": [
      "(131, 16) (131,)\n",
      "(15, 16) (15,)\n"
     ]
    }
   ],
   "source": [
    "from sklearn.model_selection import train_test_split\n",
    "\n",
    "X_train, X_test, y_train, y_test = train_test_split(X_data, y_data,\n",
    "                                                    test_size=0.1,\n",
    "                                                    random_state=1234)\n",
    "print(X_train.shape, y_train.shape)\n",
    "print(X_test.shape, y_test.shape)"
   ]
  },
  {
   "cell_type": "markdown",
   "metadata": {},
   "source": [
    "# Modeling"
   ]
  },
  {
   "cell_type": "markdown",
   "metadata": {},
   "source": [
    "## Decision Tree"
   ]
  },
  {
   "cell_type": "code",
   "execution_count": 21,
   "metadata": {},
   "outputs": [
    {
     "data": {
      "text/plain": [
       "DecisionTreeRegressor(random_state=1000)"
      ]
     },
     "execution_count": 21,
     "metadata": {},
     "output_type": "execute_result"
    }
   ],
   "source": [
    "from sklearn.tree import DecisionTreeRegressor\n",
    "from sklearn.metrics import mean_squared_error\n",
    "\n",
    "dt = DecisionTreeRegressor(random_state=1000)\n",
    "dt.fit(X_train, y_train)"
   ]
  },
  {
   "cell_type": "code",
   "execution_count": 22,
   "metadata": {},
   "outputs": [
    {
     "name": "stdout",
     "output_type": "stream",
     "text": [
      "[8.95165451 3.04452244 8.08931322 8.8472161  8.14743301 7.39939808\n",
      " 7.56060116 7.68371057 6.95822901 9.52639122]\n"
     ]
    }
   ],
   "source": [
    "dt_pred = dt.predict(X_test)\n",
    "print(dt_pred[:10])"
   ]
  },
  {
   "cell_type": "code",
   "execution_count": 23,
   "metadata": {},
   "outputs": [
    {
     "data": {
      "text/plain": [
       "0.6952257500930187"
      ]
     },
     "execution_count": 23,
     "metadata": {},
     "output_type": "execute_result"
    }
   ],
   "source": [
    "dt_rmse = np.sqrt(mean_squared_error(y_test, dt_pred))\n",
    "dt_rmse"
   ]
  },
  {
   "cell_type": "markdown",
   "metadata": {},
   "source": [
    "## RandomForest"
   ]
  },
  {
   "cell_type": "code",
   "execution_count": 24,
   "metadata": {},
   "outputs": [
    {
     "data": {
      "text/plain": [
       "RandomForestRegressor(max_features='sqrt', n_estimators=3000, random_state=1000)"
      ]
     },
     "execution_count": 24,
     "metadata": {},
     "output_type": "execute_result"
    }
   ],
   "source": [
    "from sklearn.ensemble import RandomForestRegressor\n",
    "\n",
    "rf = RandomForestRegressor(n_estimators = 3000, max_features = 'sqrt', \n",
    "                           random_state = 1000)\n",
    "rf.fit(X_train, y_train)"
   ]
  },
  {
   "cell_type": "code",
   "execution_count": 25,
   "metadata": {},
   "outputs": [
    {
     "name": "stdout",
     "output_type": "stream",
     "text": [
      "[8.63000016 3.10716193 8.0897124  6.98040428 8.23992207 7.47686556\n",
      " 8.04632825 8.21700758 7.82106967 8.85880783]\n"
     ]
    }
   ],
   "source": [
    "rf_pred = rf.predict(X_test)\n",
    "print(rf_pred[:10])"
   ]
  },
  {
   "cell_type": "code",
   "execution_count": 26,
   "metadata": {},
   "outputs": [
    {
     "data": {
      "text/plain": [
       "0.5155032417762937"
      ]
     },
     "execution_count": 26,
     "metadata": {},
     "output_type": "execute_result"
    }
   ],
   "source": [
    "rf_rmse = np.sqrt(mean_squared_error(y_test, rf_pred))\n",
    "rf_rmse"
   ]
  },
  {
   "cell_type": "code",
   "execution_count": 27,
   "metadata": {},
   "outputs": [
    {
     "data": {
      "image/png": "[encoded data removed]",
      "text/plain": [
       "<Figure size 576x432 with 1 Axes>"
      ]
     },
     "metadata": {
      "needs_background": "light"
     },
     "output_type": "display_data"
    }
   ],
   "source": [
    "import seaborn as sns\n",
    "\n",
    "importances_values = rf.feature_importances_ \n",
    "importances = pd.Series(importances_values, index=X_data_df.columns)\n",
    "\n",
    "top20 = importances.sort_values(ascending=False)[:20]\n",
    "plt.figure(figsize=(8, 6))\n",
    "plt.title('Feature importances Top 20')\n",
    "sns.barplot(x = top20, y = top20.index)\n",
    "plt.show()"
   ]
  },
  {
   "cell_type": "markdown",
   "metadata": {},
   "source": [
    "## Ridge"
   ]
  },
  {
   "cell_type": "code",
   "execution_count": 28,
   "metadata": {},
   "outputs": [
    {
     "data": {
      "text/plain": [
       "Ridge(alpha=0.1724)"
      ]
     },
     "execution_count": 28,
     "metadata": {},
     "output_type": "execute_result"
    }
   ],
   "source": [
    "from sklearn.linear_model import Ridge\n",
    "\n",
    "ridge = Ridge(alpha=0.1724)\n",
    "ridge.fit(X_train, y_train)"
   ]
  },
  {
   "cell_type": "code",
   "execution_count": 29,
   "metadata": {},
   "outputs": [
    {
     "name": "stdout",
     "output_type": "stream",
     "text": [
      "0.8931410400101387\n"
     ]
    }
   ],
   "source": [
    "print(ridge.score(X_train, y_train))"
   ]
  },
  {
   "cell_type": "code",
   "execution_count": 30,
   "metadata": {},
   "outputs": [
    {
     "data": {
      "text/plain": [
       "0.5229098955596523"
      ]
     },
     "execution_count": 30,
     "metadata": {},
     "output_type": "execute_result"
    }
   ],
   "source": [
    "ridge_pred = ridge.predict(X_test)\n",
    "ridge_rmse = np.sqrt(mean_squared_error(y_test, ridge_pred))\n",
    "ridge_rmse"
   ]
  },
  {
   "cell_type": "markdown",
   "metadata": {},
   "source": [
    "## LASSO"
   ]
  },
  {
   "cell_type": "code",
   "execution_count": 31,
   "metadata": {},
   "outputs": [
    {
     "data": {
      "text/plain": [
       "Lasso(alpha=0.001)"
      ]
     },
     "execution_count": 31,
     "metadata": {},
     "output_type": "execute_result"
    }
   ],
   "source": [
    "from sklearn.linear_model import Lasso\n",
    "\n",
    "lasso = Lasso(alpha=0.001)\n",
    "lasso.fit(X_train, y_train)"
   ]
  },
  {
   "cell_type": "code",
   "execution_count": 32,
   "metadata": {},
   "outputs": [
    {
     "name": "stdout",
     "output_type": "stream",
     "text": [
      "0.8952775235687582\n"
     ]
    }
   ],
   "source": [
    "print(lasso.score(X_train, y_train))"
   ]
  },
  {
   "cell_type": "code",
   "execution_count": 33,
   "metadata": {},
   "outputs": [
    {
     "data": {
      "text/plain": [
       "0.4621198505321152"
      ]
     },
     "execution_count": 33,
     "metadata": {},
     "output_type": "execute_result"
    }
   ],
   "source": [
    "lasso_pred = lasso.predict(X_test)\n",
    "lasso_rmse = np.sqrt(mean_squared_error(y_test, lasso_pred))\n",
    "lasso_rmse"
   ]
  },
  {
   "cell_type": "markdown",
   "metadata": {},
   "source": [
    "## GBM"
   ]
  },
  {
   "cell_type": "code",
   "execution_count": 34,
   "metadata": {},
   "outputs": [
    {
     "name": "stdout",
     "output_type": "stream",
     "text": [
      "[8.80363357 3.04453602 8.07945375 8.47844241 8.16061423 7.77465067\n",
      " 7.9293338  7.69774156 7.28010648 8.94373719]\n"
     ]
    }
   ],
   "source": [
    "from sklearn.ensemble import GradientBoostingRegressor\n",
    "\n",
    "gbm = GradientBoostingRegressor(n_estimators=500, max_depth=8)\n",
    "gbm.fit(X_train, y_train)\n",
    "\n",
    "gbm_pred = gbm.predict(X_test)\n",
    "print(gbm_pred[:10])"
   ]
  },
  {
   "cell_type": "code",
   "execution_count": 35,
   "metadata": {},
   "outputs": [
    {
     "data": {
      "text/plain": [
       "0.608708717792562"
      ]
     },
     "execution_count": 35,
     "metadata": {},
     "output_type": "execute_result"
    }
   ],
   "source": [
    "gbm_rmse = np.sqrt(mean_squared_error(y_test, gbm_pred))\n",
    "gbm_rmse"
   ]
  },
  {
   "cell_type": "markdown",
   "metadata": {},
   "source": [
    "## AdaBoost"
   ]
  },
  {
   "cell_type": "code",
   "execution_count": 36,
   "metadata": {},
   "outputs": [
    {
     "name": "stdout",
     "output_type": "stream",
     "text": [
      "[8.35560211 3.04452244 8.0194403  8.14220879 8.35560211 7.92628095\n",
      " 8.15995619 8.45165731 8.08396569 8.67401676]\n"
     ]
    }
   ],
   "source": [
    "from sklearn.ensemble import AdaBoostRegressor\n",
    "\n",
    "ada = AdaBoostRegressor(n_estimators = 500, learning_rate = 0.1)\n",
    "ada.fit(X_train, y_train)\n",
    "\n",
    "ada_pred = ada.predict(X_test)\n",
    "print(ada_pred[:10])"
   ]
  },
  {
   "cell_type": "code",
   "execution_count": 37,
   "metadata": {},
   "outputs": [
    {
     "data": {
      "text/plain": [
       "0.4483087802180754"
      ]
     },
     "execution_count": 37,
     "metadata": {},
     "output_type": "execute_result"
    }
   ],
   "source": [
    "ada_rmse = np.sqrt(mean_squared_error(y_test, ada_pred))\n",
    "ada_rmse"
   ]
  },
  {
   "cell_type": "markdown",
   "metadata": {},
   "source": [
    "## XGBoost"
   ]
  },
  {
   "cell_type": "code",
   "execution_count": 38,
   "metadata": {},
   "outputs": [
    {
     "name": "stdout",
     "output_type": "stream",
     "text": [
      "1.3.3\n",
      "[8.697969  2.9679167 8.09922   8.169661  8.4123745 7.025362  8.02921\n",
      " 8.3320675 7.8519135 9.174475 ]\n"
     ]
    }
   ],
   "source": [
    "import xgboost as xgb\n",
    "print(xgb.__version__)\n",
    "\n",
    "xgb_reg = xgb.XGBRegressor(learning_rate=0.08, max_depth=8, \n",
    "                           gamma=0, n_estimators=3000,\n",
    "                           subsample=0.7, colsample_bytree=0.8)\n",
    "xgb_reg.fit(X_train, y_train, verbose=False)\n",
    "\n",
    "xgb_pred = xgb_reg.predict(X_test)\n",
    "print(xgb_pred[:10])"
   ]
  },
  {
   "cell_type": "code",
   "execution_count": 39,
   "metadata": {},
   "outputs": [
    {
     "data": {
      "text/plain": [
       "0.45354387418749476"
      ]
     },
     "execution_count": 39,
     "metadata": {},
     "output_type": "execute_result"
    }
   ],
   "source": [
    "xgb_rmse = np.sqrt(mean_squared_error(y_test, xgb_pred))\n",
    "xgb_rmse"
   ]
  },
  {
   "cell_type": "code",
   "execution_count": 40,
   "metadata": {},
   "outputs": [
    {
     "data": {
      "image/png": "[encoded data removed]",
      "text/plain": [
       "<Figure size 720x864 with 1 Axes>"
      ]
     },
     "metadata": {
      "needs_background": "light"
     },
     "output_type": "display_data"
    }
   ],
   "source": [
    "from xgboost import plot_importance\n",
    "\n",
    "plot_importance(xgb_reg, max_num_features=20)\n",
    "\n",
    "fig = plt.gcf()\n",
    "fig.set_size_inches(10, 12)"
   ]
  },
  {
   "cell_type": "markdown",
   "metadata": {},
   "source": [
    "## LightGBM"
   ]
  },
  {
   "cell_type": "code",
   "execution_count": 41,
   "metadata": {},
   "outputs": [
    {
     "data": {
      "text/plain": [
       "LGBMRegressor(max_depth=50, min_data_in_leaf=10, n_estimators=1000,\n",
       "              num_leaves=10)"
      ]
     },
     "execution_count": 41,
     "metadata": {},
     "output_type": "execute_result"
    }
   ],
   "source": [
    "import lightgbm as lgb\n",
    "\n",
    "\n",
    "lgb_reg = lgb.LGBMRegressor(n_estimators=1000, max_depth=50, num_leaves=10, min_data_in_leaf=10)\n",
    "lgb_reg.fit(X_train, y_train,\n",
    "        eval_set=[(X_test, y_test)],\n",
    "        eval_metric='l1',\n",
    "        early_stopping_rounds=1000,\n",
    "        verbose = False)"
   ]
  },
  {
   "cell_type": "code",
   "execution_count": 42,
   "metadata": {},
   "outputs": [
    {
     "name": "stdout",
     "output_type": "stream",
     "text": [
      "[8.743539   3.06591557 8.24919657 7.12027319 8.7140416  7.4224688\n",
      " 7.96814341 8.35702929 7.43438155 9.19489836]\n"
     ]
    }
   ],
   "source": [
    "lgb_pred = lgb_reg.predict(X_test)\n",
    "print(lgb_pred[:10])"
   ]
  },
  {
   "cell_type": "code",
   "execution_count": 43,
   "metadata": {},
   "outputs": [
    {
     "data": {
      "text/plain": [
       "0.556672556060223"
      ]
     },
     "execution_count": 43,
     "metadata": {},
     "output_type": "execute_result"
    }
   ],
   "source": [
    "lgb_rmse = np.sqrt(mean_squared_error(y_test, lgb_pred))\n",
    "lgb_rmse"
   ]
  },
  {
   "cell_type": "markdown",
   "metadata": {},
   "source": [
    "# Model Comparison"
   ]
  },
  {
   "cell_type": "code",
   "execution_count": 44,
   "metadata": {},
   "outputs": [
    {
     "data": {
      "text/html": [
       "<div>\n",
       "<style scoped>\n",
       "    .dataframe tbody tr th:only-of-type {\n",
       "        vertical-align: middle;\n",
       "    }\n",
       "\n",
       "    .dataframe tbody tr th {\n",
       "        vertical-align: top;\n",
       "    }\n",
       "\n",
       "    .dataframe thead th {\n",
       "        text-align: right;\n",
       "    }\n",
       "</style>\n",
       "<table border=\"1\" class=\"dataframe\">\n",
       "  <thead>\n",
       "    <tr style=\"text-align: right;\">\n",
       "      <th></th>\n",
       "      <th>Model</th>\n",
       "      <th>RMSE</th>\n",
       "    </tr>\n",
       "  </thead>\n",
       "  <tbody>\n",
       "    <tr>\n",
       "      <th>5</th>\n",
       "      <td>AdaBoost</td>\n",
       "      <td>0.448309</td>\n",
       "    </tr>\n",
       "    <tr>\n",
       "      <th>6</th>\n",
       "      <td>XGboost</td>\n",
       "      <td>0.453544</td>\n",
       "    </tr>\n",
       "    <tr>\n",
       "      <th>3</th>\n",
       "      <td>LASSO</td>\n",
       "      <td>0.462120</td>\n",
       "    </tr>\n",
       "    <tr>\n",
       "      <th>1</th>\n",
       "      <td>RandomForest</td>\n",
       "      <td>0.515503</td>\n",
       "    </tr>\n",
       "    <tr>\n",
       "      <th>2</th>\n",
       "      <td>Ridge</td>\n",
       "      <td>0.522910</td>\n",
       "    </tr>\n",
       "    <tr>\n",
       "      <th>7</th>\n",
       "      <td>LightGBM</td>\n",
       "      <td>0.556673</td>\n",
       "    </tr>\n",
       "    <tr>\n",
       "      <th>4</th>\n",
       "      <td>GBM</td>\n",
       "      <td>0.608709</td>\n",
       "    </tr>\n",
       "    <tr>\n",
       "      <th>0</th>\n",
       "      <td>Decision Tree</td>\n",
       "      <td>0.695226</td>\n",
       "    </tr>\n",
       "  </tbody>\n",
       "</table>\n",
       "</div>"
      ],
      "text/plain": [
       "           Model      RMSE\n",
       "5       AdaBoost  0.448309\n",
       "6        XGboost  0.453544\n",
       "3          LASSO  0.462120\n",
       "1   RandomForest  0.515503\n",
       "2          Ridge  0.522910\n",
       "7       LightGBM  0.556673\n",
       "4            GBM  0.608709\n",
       "0  Decision Tree  0.695226"
      ]
     },
     "execution_count": 44,
     "metadata": {},
     "output_type": "execute_result"
    }
   ],
   "source": [
    "model_result = pd.DataFrame({\n",
    "    'Model': ['Decision Tree', 'RandomForest', 'Ridge', 'LASSO',\n",
    "              'GBM', 'AdaBoost', 'XGboost', 'LightGBM'],\n",
    "    'RMSE': [dt_rmse, rf_rmse, ridge_rmse, lasso_rmse,\n",
    "             gbm_rmse, ada_rmse, xgb_rmse, lgb_rmse]})\n",
    "model_result.sort_values(by='RMSE', ascending=True)"
   ]
  },
  {
   "cell_type": "markdown",
   "metadata": {},
   "source": [
    "# Ensemble"
   ]
  },
  {
   "cell_type": "code",
   "execution_count": 45,
   "metadata": {},
   "outputs": [],
   "source": [
    "import torch\n",
    "from sklearn.metrics import mean_squared_error\n",
    "\n",
    "class EnsembleRegressor:\n",
    "    def __init__(self, models, weights=None):\n",
    "        \n",
    "        self.models = models\n",
    "        self.weights = weights\n",
    "        \n",
    "    def predict(self, X_test):\n",
    "        pred_list = []\n",
    "        for i, model in enumerate(models.values()):\n",
    "            pred_list.append(model.predict(X_test))\n",
    "        preds = np.array(pred_list)\n",
    "            \n",
    "        prediction = np.average(preds, axis=0, weights=self.weights)\n",
    "\n",
    "        return prediction\n",
    "    \n",
    "    def random_search(self, X_test, y_test, num_search):\n",
    "        weights = torch.softmax(torch.rand(num_search, len(self.models)), axis=1).numpy()\n",
    "        \n",
    "        pred_list = []\n",
    "        for i, model in enumerate(models.values()):\n",
    "            pred_list.append(model.predict(X_test))\n",
    "        preds = np.array(pred_list)\n",
    "\n",
    "        mse = []\n",
    "        for i in range(num_search):\n",
    "            prediction = np.average(preds, axis=0, weights=weights[i])\n",
    "            mse_ = mean_squared_error(y_test, prediction)\n",
    "            mse.append(mse_)\n",
    "        \n",
    "        result = pd.DataFrame(weights)\n",
    "        result['RMSE'] = np.sqrt(mse)\n",
    "\n",
    "        return result.sort_values('RMSE', ascending=True)"
   ]
  },
  {
   "cell_type": "code",
   "execution_count": 48,
   "metadata": {},
   "outputs": [
    {
     "data": {
      "text/html": [
       "<div>\n",
       "<style scoped>\n",
       "    .dataframe tbody tr th:only-of-type {\n",
       "        vertical-align: middle;\n",
       "    }\n",
       "\n",
       "    .dataframe tbody tr th {\n",
       "        vertical-align: top;\n",
       "    }\n",
       "\n",
       "    .dataframe thead th {\n",
       "        text-align: right;\n",
       "    }\n",
       "</style>\n",
       "<table border=\"1\" class=\"dataframe\">\n",
       "  <thead>\n",
       "    <tr style=\"text-align: right;\">\n",
       "      <th></th>\n",
       "      <th>0</th>\n",
       "      <th>1</th>\n",
       "      <th>2</th>\n",
       "      <th>RMSE</th>\n",
       "    </tr>\n",
       "  </thead>\n",
       "  <tbody>\n",
       "    <tr>\n",
       "      <th>28541</th>\n",
       "      <td>0.386979</td>\n",
       "      <td>0.184175</td>\n",
       "      <td>0.428846</td>\n",
       "      <td>0.419870</td>\n",
       "    </tr>\n",
       "    <tr>\n",
       "      <th>15353</th>\n",
       "      <td>0.385456</td>\n",
       "      <td>0.184336</td>\n",
       "      <td>0.430207</td>\n",
       "      <td>0.419870</td>\n",
       "    </tr>\n",
       "    <tr>\n",
       "      <th>14707</th>\n",
       "      <td>0.386650</td>\n",
       "      <td>0.186761</td>\n",
       "      <td>0.426589</td>\n",
       "      <td>0.419870</td>\n",
       "    </tr>\n",
       "    <tr>\n",
       "      <th>3319</th>\n",
       "      <td>0.382759</td>\n",
       "      <td>0.187138</td>\n",
       "      <td>0.430103</td>\n",
       "      <td>0.419870</td>\n",
       "    </tr>\n",
       "    <tr>\n",
       "      <th>6948</th>\n",
       "      <td>0.385137</td>\n",
       "      <td>0.188684</td>\n",
       "      <td>0.426179</td>\n",
       "      <td>0.419870</td>\n",
       "    </tr>\n",
       "    <tr>\n",
       "      <th>24384</th>\n",
       "      <td>0.382892</td>\n",
       "      <td>0.189411</td>\n",
       "      <td>0.427697</td>\n",
       "      <td>0.419871</td>\n",
       "    </tr>\n",
       "    <tr>\n",
       "      <th>3221</th>\n",
       "      <td>0.389661</td>\n",
       "      <td>0.184922</td>\n",
       "      <td>0.425417</td>\n",
       "      <td>0.419871</td>\n",
       "    </tr>\n",
       "    <tr>\n",
       "      <th>4483</th>\n",
       "      <td>0.386265</td>\n",
       "      <td>0.188653</td>\n",
       "      <td>0.425081</td>\n",
       "      <td>0.419871</td>\n",
       "    </tr>\n",
       "    <tr>\n",
       "      <th>24460</th>\n",
       "      <td>0.380422</td>\n",
       "      <td>0.189613</td>\n",
       "      <td>0.429965</td>\n",
       "      <td>0.419871</td>\n",
       "    </tr>\n",
       "    <tr>\n",
       "      <th>3072</th>\n",
       "      <td>0.390699</td>\n",
       "      <td>0.184452</td>\n",
       "      <td>0.424849</td>\n",
       "      <td>0.419871</td>\n",
       "    </tr>\n",
       "  </tbody>\n",
       "</table>\n",
       "</div>"
      ],
      "text/plain": [
       "              0         1         2      RMSE\n",
       "28541  0.386979  0.184175  0.428846  0.419870\n",
       "15353  0.385456  0.184336  0.430207  0.419870\n",
       "14707  0.386650  0.186761  0.426589  0.419870\n",
       "3319   0.382759  0.187138  0.430103  0.419870\n",
       "6948   0.385137  0.188684  0.426179  0.419870\n",
       "24384  0.382892  0.189411  0.427697  0.419871\n",
       "3221   0.389661  0.184922  0.425417  0.419871\n",
       "4483   0.386265  0.188653  0.425081  0.419871\n",
       "24460  0.380422  0.189613  0.429965  0.419871\n",
       "3072   0.390699  0.184452  0.424849  0.419871"
      ]
     },
     "execution_count": 48,
     "metadata": {},
     "output_type": "execute_result"
    }
   ],
   "source": [
    "models = {'AdaBoost' : ada, 'LASSO' : lasso, 'XGBoost' : xgb_reg}\n",
    "\n",
    "ensemble = EnsembleRegressor(models, weights=None)\n",
    "result = ensemble.random_search(X_test, y_test, 30000)\n",
    "result.head(10)"
   ]
  },
  {
   "cell_type": "code",
   "execution_count": 49,
   "metadata": {},
   "outputs": [
    {
     "name": "stdout",
     "output_type": "stream",
     "text": [
      "[0.387, 0.184, 0.429]\n"
     ]
    }
   ],
   "source": [
    "optimal_weight = np.round(result.iloc[0,:-1], 3).tolist()\n",
    "print(optimal_weight)"
   ]
  },
  {
   "cell_type": "code",
   "execution_count": 50,
   "metadata": {},
   "outputs": [
    {
     "name": "stdout",
     "output_type": "stream",
     "text": [
      "[8.52790853 3.01064636 8.04125105 8.03136747 8.33592893 7.4840773\n",
      " 8.07258449 8.38655604 7.92884998 8.88182871]\n"
     ]
    }
   ],
   "source": [
    "ensemble = EnsembleRegressor(models, weights=optimal_weight)\n",
    "\n",
    "preds = ensemble.predict(X_test)\n",
    "print(preds[:10])"
   ]
  },
  {
   "cell_type": "code",
   "execution_count": 51,
   "metadata": {},
   "outputs": [
    {
     "data": {
      "text/plain": [
       "0.4198695250158501"
      ]
     },
     "execution_count": 51,
     "metadata": {},
     "output_type": "execute_result"
    }
   ],
   "source": [
    "rmse = np.sqrt(mean_squared_error(y_test, preds))\n",
    "rmse"
   ]
  },
  {
   "cell_type": "markdown",
   "metadata": {},
   "source": [
    "# Evaluation"
   ]
  },
  {
   "cell_type": "code",
   "execution_count": 52,
   "metadata": {},
   "outputs": [
    {
     "name": "stdout",
     "output_type": "stream",
     "text": [
      "[5052.8647552    19.30051712 3105.49713951 3074.94507069 4170.07440764\n",
      " 1778.48148074 3204.37540605 4386.68063635 2775.23225624 7198.94530638]\n",
      "[ 9538.75          20.          5894.62962963  3049.\n",
      "  3043.33333333  2450.          3190.88008291 13164.70588235\n",
      "  3255.          9837.90322581]\n"
     ]
    }
   ],
   "source": [
    "inverse_transformed_pred = np.expm1(preds)\n",
    "inverse_transformed_pred = np.where(inverse_transformed_pred < 0, 0, inverse_transformed_pred)\n",
    "inverse_transformed_y_test = np.expm1(y_test)\n",
    "\n",
    "print(inverse_transformed_pred[:10])\n",
    "print(inverse_transformed_y_test[:10])"
   ]
  },
  {
   "cell_type": "code",
   "execution_count": 53,
   "metadata": {},
   "outputs": [
    {
     "data": {
      "text/plain": [
       "2942.5483320390626"
      ]
     },
     "execution_count": 53,
     "metadata": {},
     "output_type": "execute_result"
    }
   ],
   "source": [
    "np.sqrt(mean_squared_error(inverse_transformed_y_test, inverse_transformed_pred))"
   ]
  },
  {
   "cell_type": "code",
   "execution_count": 54,
   "metadata": {},
   "outputs": [
    {
     "data": {
      "text/html": [
       "<div>\n",
       "<style scoped>\n",
       "    .dataframe tbody tr th:only-of-type {\n",
       "        vertical-align: middle;\n",
       "    }\n",
       "\n",
       "    .dataframe tbody tr th {\n",
       "        vertical-align: top;\n",
       "    }\n",
       "\n",
       "    .dataframe thead th {\n",
       "        text-align: right;\n",
       "    }\n",
       "</style>\n",
       "<table border=\"1\" class=\"dataframe\">\n",
       "  <thead>\n",
       "    <tr style=\"text-align: right;\">\n",
       "      <th></th>\n",
       "      <th>생산량</th>\n",
       "      <th>예측값</th>\n",
       "    </tr>\n",
       "  </thead>\n",
       "  <tbody>\n",
       "    <tr>\n",
       "      <th>0</th>\n",
       "      <td>9538.7</td>\n",
       "      <td>5052.9</td>\n",
       "    </tr>\n",
       "    <tr>\n",
       "      <th>1</th>\n",
       "      <td>20.0</td>\n",
       "      <td>19.3</td>\n",
       "    </tr>\n",
       "    <tr>\n",
       "      <th>2</th>\n",
       "      <td>5894.6</td>\n",
       "      <td>3105.5</td>\n",
       "    </tr>\n",
       "    <tr>\n",
       "      <th>3</th>\n",
       "      <td>3049.0</td>\n",
       "      <td>3074.9</td>\n",
       "    </tr>\n",
       "    <tr>\n",
       "      <th>4</th>\n",
       "      <td>3043.3</td>\n",
       "      <td>4170.1</td>\n",
       "    </tr>\n",
       "    <tr>\n",
       "      <th>5</th>\n",
       "      <td>2450.0</td>\n",
       "      <td>1778.5</td>\n",
       "    </tr>\n",
       "    <tr>\n",
       "      <th>6</th>\n",
       "      <td>3190.9</td>\n",
       "      <td>3204.4</td>\n",
       "    </tr>\n",
       "    <tr>\n",
       "      <th>7</th>\n",
       "      <td>13164.7</td>\n",
       "      <td>4386.7</td>\n",
       "    </tr>\n",
       "    <tr>\n",
       "      <th>8</th>\n",
       "      <td>3255.0</td>\n",
       "      <td>2775.2</td>\n",
       "    </tr>\n",
       "    <tr>\n",
       "      <th>9</th>\n",
       "      <td>9837.9</td>\n",
       "      <td>7198.9</td>\n",
       "    </tr>\n",
       "    <tr>\n",
       "      <th>10</th>\n",
       "      <td>7471.8</td>\n",
       "      <td>8079.8</td>\n",
       "    </tr>\n",
       "    <tr>\n",
       "      <th>11</th>\n",
       "      <td>13256.0</td>\n",
       "      <td>13307.4</td>\n",
       "    </tr>\n",
       "    <tr>\n",
       "      <th>12</th>\n",
       "      <td>7177.5</td>\n",
       "      <td>4854.0</td>\n",
       "    </tr>\n",
       "    <tr>\n",
       "      <th>13</th>\n",
       "      <td>8034.4</td>\n",
       "      <td>7436.6</td>\n",
       "    </tr>\n",
       "    <tr>\n",
       "      <th>14</th>\n",
       "      <td>7175.3</td>\n",
       "      <td>10318.4</td>\n",
       "    </tr>\n",
       "  </tbody>\n",
       "</table>\n",
       "</div>"
      ],
      "text/plain": [
       "        생산량      예측값\n",
       "0    9538.7   5052.9\n",
       "1      20.0     19.3\n",
       "2    5894.6   3105.5\n",
       "3    3049.0   3074.9\n",
       "4    3043.3   4170.1\n",
       "5    2450.0   1778.5\n",
       "6    3190.9   3204.4\n",
       "7   13164.7   4386.7\n",
       "8    3255.0   2775.2\n",
       "9    9837.9   7198.9\n",
       "10   7471.8   8079.8\n",
       "11  13256.0  13307.4\n",
       "12   7177.5   4854.0\n",
       "13   8034.4   7436.6\n",
       "14   7175.3  10318.4"
      ]
     },
     "execution_count": 54,
     "metadata": {},
     "output_type": "execute_result"
    }
   ],
   "source": [
    "inverse_transformed_pred = pd.Series(np.round(inverse_transformed_pred,1), name='예측값')\n",
    "inverse_transformed_y_test= pd.Series(np.round(inverse_transformed_y_test,1), name='생산량')\n",
    "result = pd.concat([inverse_transformed_y_test, inverse_transformed_pred], axis=1)\n",
    "result[:30]"
   ]
  },
  {
   "cell_type": "markdown",
   "metadata": {},
   "source": [
    "# 2018-2019 Prediction"
   ]
  },
  {
   "cell_type": "code",
   "execution_count": 55,
   "metadata": {},
   "outputs": [],
   "source": [
    "import os\n",
    "import pandas as pd\n",
    "import numpy as np\n",
    "\n",
    "\n",
    "def load_data(path, year):\n",
    "    use_cols = ['labch', 'labh_hour', 'lab_cost',\n",
    "                'fmtc', 'lansh',\n",
    "                'size', 'ara', 'de2',# catecorical variable\n",
    "                'cony'] # dependent variable\n",
    "    \n",
    "    # 2018\n",
    "    if year == 2018:\n",
    "        file_path1 = os.path.join(path, '2018년/2018년 임산물생산비조사_통합 데이터_5. 표고_톱밥(엑셀 1).xls')\n",
    "        file_path2 = os.path.join(path, '2018년/2018년 임산물생산비조사_통합 데이터_5. 표고_톱밥(엑셀 2).xls')\n",
    "        forest_data1 = pd.read_excel(file_path1)\n",
    "        forest_data2 = pd.read_excel(file_path2)\n",
    "        forest_2018 = pd.concat([forest_data1, forest_data2], axis=1)\n",
    "        data = forest_2018.loc[:,use_cols]\n",
    "        print(2018, data.shape)\n",
    "        \n",
    "    elif year == 2019:\n",
    "        file_path = os.path.join(path, '2019년/2019년 임산물생산비조사_통합 데이터_5. 표고톱밥.xlsx')\n",
    "        forest_2019 = pd.read_excel(file_path).loc[:,use_cols]\n",
    "        data = forest_2019\n",
    "        print(2019, data.shape)\n",
    "    else:\n",
    "        print('year must be in 2018, 2019')\n",
    "    \n",
    "    return data"
   ]
  },
  {
   "cell_type": "code",
   "execution_count": 56,
   "metadata": {},
   "outputs": [
    {
     "name": "stdout",
     "output_type": "stream",
     "text": [
      "2018 (44, 9)\n"
     ]
    }
   ],
   "source": [
    "data = load_data('./임산물생산비조사 마이크로데이터(2010-2019)', 2018)"
   ]
  },
  {
   "cell_type": "code",
   "execution_count": 57,
   "metadata": {},
   "outputs": [],
   "source": [
    "data.loc[:, ['fmtc', 'lansh']] = np.log1p(data.loc[:, ['fmtc', 'lansh']])\n",
    "data.loc[:, ['labch', 'labh_hour', 'lab_cost']] = np.log1p(data.loc[:, ['labch', 'labh_hour', 'lab_cost']])"
   ]
  },
  {
   "cell_type": "code",
   "execution_count": 58,
   "metadata": {},
   "outputs": [],
   "source": [
    "data['cony'] = np.log1p(data['cony'])"
   ]
  },
  {
   "cell_type": "code",
   "execution_count": 59,
   "metadata": {},
   "outputs": [],
   "source": [
    "data.replace({'labch' : {0 : np.nan},\n",
    "              'labh_hour' : {0 : np.nan},\n",
    "              'lab_cost' : {0 : np.nan},\n",
    "              'lansh' : {0 : np.nan}},\n",
    "             inplace=True)"
   ]
  },
  {
   "cell_type": "code",
   "execution_count": 60,
   "metadata": {},
   "outputs": [],
   "source": [
    "if data.isnull().sum().sum() > 0:\n",
    "    print(data.isnull().sum().sum())\n",
    "    data.fillna(data.mean(), inplace=True)"
   ]
  },
  {
   "cell_type": "code",
   "execution_count": 61,
   "metadata": {},
   "outputs": [
    {
     "name": "stdout",
     "output_type": "stream",
     "text": [
      "[array([1, 2, 3]), array([31, 33, 34, 36, 37, 99]), array([1, 2])]\n",
      "(44, 11)\n"
     ]
    }
   ],
   "source": [
    "from sklearn.preprocessing import OneHotEncoder\n",
    "\n",
    "categorical_variables = ['size', 'ara', 'de2']\n",
    "onehot = onehot_encoder.transform(data.loc[:, categorical_variables])\n",
    "print(onehot_encoder.categories_)\n",
    "print(onehot.toarray().shape)"
   ]
  },
  {
   "cell_type": "code",
   "execution_count": 62,
   "metadata": {},
   "outputs": [
    {
     "data": {
      "text/plain": [
       "array([[0.64185152, 0.61251267, 0.638141  , 0.73801095, 0.75720883],\n",
       "       [0.69079907, 0.6642532 , 0.46557031, 0.68885222, 0.79402599],\n",
       "       [0.77014711, 0.75021788, 0.68957143, 0.78337813, 0.77613945],\n",
       "       [0.71565657, 0.69221149, 0.65834473, 0.79087299, 0.76546838],\n",
       "       [0.76637708, 0.73702429, 0.89981796, 0.73136176, 0.67676048],\n",
       "       [0.67913014, 0.65514852, 0.56595195, 0.74434107, 0.67963651],\n",
       "       [0.74522941, 0.72535079, 0.53560709, 0.75984982, 0.89493181],\n",
       "       [0.81391643, 0.80684376, 0.81860281, 0.83671141, 0.9418649 ],\n",
       "       [0.72791257, 0.70843579, 0.74887776, 0.75356948, 0.83708729],\n",
       "       [0.76803462, 0.76382138, 0.56495108, 0.76046068, 0.97144233],\n",
       "       [0.66702807, 0.64236823, 0.59577331, 0.72839932, 0.76546838],\n",
       "       [0.25013175, 0.15809703, 0.        , 0.68665828, 0.20469075],\n",
       "       [0.72752415, 0.70177093, 0.68168212, 0.77694444, 0.75841429],\n",
       "       [0.72895734, 0.69307782, 0.61611645, 0.81695522, 1.        ],\n",
       "       [0.76062354, 0.71699861, 0.58689815, 0.81167147, 0.76649633],\n",
       "       [0.7218375 , 0.69197414, 0.60695519, 0.78763022, 0.84591691],\n",
       "       [0.7946176 , 0.77482902, 0.61310534, 0.82812017, 0.87053659],\n",
       "       [0.77916757, 0.75622134, 0.57927611, 0.86905524, 0.70531801],\n",
       "       [1.        , 1.        , 0.89011036, 1.        , 0.8929779 ],\n",
       "       [0.67036144, 0.64244193, 0.58996484, 0.73416874, 0.70531801],\n",
       "       [0.63289853, 0.59477472, 0.39106836, 0.73959386, 0.82561883],\n",
       "       [0.6798367 , 0.63347558, 0.61225447, 0.75543219, 0.76546838],\n",
       "       [0.60095511, 0.56301059, 0.61220269, 0.71989095, 0.55949564],\n",
       "       [0.73144188, 0.70139313, 0.6038931 , 0.74926589, 0.6534273 ],\n",
       "       [0.64863069, 0.6056826 , 0.59878502, 0.73587194, 0.57297938],\n",
       "       [0.6699052 , 0.64146502, 0.68550213, 0.72197738, 0.75561901],\n",
       "       [0.7325923 , 0.72106356, 0.96493408, 0.73699115, 0.72240715],\n",
       "       [0.63817783, 0.59047123, 0.39786135, 0.75163679, 0.54240669],\n",
       "       [0.74209901, 0.7184422 , 0.66568478, 0.76582677, 0.67676048],\n",
       "       [0.65890279, 0.63068578, 0.60787937, 0.73602811, 0.65703255],\n",
       "       [0.78443257, 0.75687314, 0.58605071, 0.79201206, 0.83708729],\n",
       "       [0.74683132, 0.71577608, 0.70790367, 0.77207658, 0.86564493],\n",
       "       [0.71979655, 0.67903436, 0.60432905, 0.76930301, 0.88273412],\n",
       "       [0.65019353, 0.62571561, 0.57411191, 0.69069471, 0.53616269],\n",
       "       [0.6845566 , 0.65497491, 0.79453764, 0.69232846, 0.58805295],\n",
       "       [0.72180715, 0.70481354, 0.50546913, 0.72767755, 0.70785232],\n",
       "       [0.59270923, 0.57491508, 0.33935585, 0.66031475, 0.49934618],\n",
       "       [0.68426535, 0.63300483, 0.55861023, 0.73293934, 0.63994347],\n",
       "       [0.77190728, 0.74870481, 0.76009075, 0.76366925, 0.76834705],\n",
       "       [0.77093407, 0.74853886, 0.75884248, 0.76666261, 0.76834356],\n",
       "       [0.77481807, 0.75254086, 0.76384012, 0.77513855, 0.76834356],\n",
       "       [0.77278489, 0.73808026, 0.67251037, 0.80873247, 0.95435312],\n",
       "       [0.78475936, 0.74204349, 0.7472609 , 0.79615284, 0.80466293],\n",
       "       [0.79446653, 0.76482584, 0.70040863, 0.7920011 , 1.        ]])"
      ]
     },
     "execution_count": 62,
     "metadata": {},
     "output_type": "execute_result"
    }
   ],
   "source": [
    "from sklearn.preprocessing import MinMaxScaler\n",
    "\n",
    "X_scaled = X_minmax_scaler.transform(data.loc[:, numerical_variables])\n",
    "X_scaled"
   ]
  },
  {
   "cell_type": "code",
   "execution_count": 63,
   "metadata": {},
   "outputs": [
    {
     "data": {
      "text/html": [
       "<div>\n",
       "<style scoped>\n",
       "    .dataframe tbody tr th:only-of-type {\n",
       "        vertical-align: middle;\n",
       "    }\n",
       "\n",
       "    .dataframe tbody tr th {\n",
       "        vertical-align: top;\n",
       "    }\n",
       "\n",
       "    .dataframe thead th {\n",
       "        text-align: right;\n",
       "    }\n",
       "</style>\n",
       "<table border=\"1\" class=\"dataframe\">\n",
       "  <thead>\n",
       "    <tr style=\"text-align: right;\">\n",
       "      <th></th>\n",
       "      <th>labch</th>\n",
       "      <th>labh_hour</th>\n",
       "      <th>lab_cost</th>\n",
       "      <th>fmtc</th>\n",
       "      <th>lansh</th>\n",
       "      <th>0</th>\n",
       "      <th>1</th>\n",
       "      <th>2</th>\n",
       "      <th>3</th>\n",
       "      <th>4</th>\n",
       "      <th>5</th>\n",
       "      <th>6</th>\n",
       "      <th>7</th>\n",
       "      <th>8</th>\n",
       "      <th>9</th>\n",
       "      <th>10</th>\n",
       "    </tr>\n",
       "  </thead>\n",
       "  <tbody>\n",
       "    <tr>\n",
       "      <th>0</th>\n",
       "      <td>0.641852</td>\n",
       "      <td>0.612513</td>\n",
       "      <td>0.638141</td>\n",
       "      <td>0.738011</td>\n",
       "      <td>0.757209</td>\n",
       "      <td>0.0</td>\n",
       "      <td>0.0</td>\n",
       "      <td>1.0</td>\n",
       "      <td>0.0</td>\n",
       "      <td>0.0</td>\n",
       "      <td>0.0</td>\n",
       "      <td>0.0</td>\n",
       "      <td>1.0</td>\n",
       "      <td>0.0</td>\n",
       "      <td>1.0</td>\n",
       "      <td>0.0</td>\n",
       "    </tr>\n",
       "    <tr>\n",
       "      <th>1</th>\n",
       "      <td>0.690799</td>\n",
       "      <td>0.664253</td>\n",
       "      <td>0.465570</td>\n",
       "      <td>0.688852</td>\n",
       "      <td>0.794026</td>\n",
       "      <td>1.0</td>\n",
       "      <td>0.0</td>\n",
       "      <td>0.0</td>\n",
       "      <td>0.0</td>\n",
       "      <td>0.0</td>\n",
       "      <td>0.0</td>\n",
       "      <td>0.0</td>\n",
       "      <td>1.0</td>\n",
       "      <td>0.0</td>\n",
       "      <td>1.0</td>\n",
       "      <td>0.0</td>\n",
       "    </tr>\n",
       "    <tr>\n",
       "      <th>2</th>\n",
       "      <td>0.770147</td>\n",
       "      <td>0.750218</td>\n",
       "      <td>0.689571</td>\n",
       "      <td>0.783378</td>\n",
       "      <td>0.776139</td>\n",
       "      <td>0.0</td>\n",
       "      <td>1.0</td>\n",
       "      <td>0.0</td>\n",
       "      <td>0.0</td>\n",
       "      <td>0.0</td>\n",
       "      <td>0.0</td>\n",
       "      <td>0.0</td>\n",
       "      <td>1.0</td>\n",
       "      <td>0.0</td>\n",
       "      <td>0.0</td>\n",
       "      <td>1.0</td>\n",
       "    </tr>\n",
       "    <tr>\n",
       "      <th>3</th>\n",
       "      <td>0.715657</td>\n",
       "      <td>0.692211</td>\n",
       "      <td>0.658345</td>\n",
       "      <td>0.790873</td>\n",
       "      <td>0.765468</td>\n",
       "      <td>0.0</td>\n",
       "      <td>1.0</td>\n",
       "      <td>0.0</td>\n",
       "      <td>0.0</td>\n",
       "      <td>0.0</td>\n",
       "      <td>1.0</td>\n",
       "      <td>0.0</td>\n",
       "      <td>0.0</td>\n",
       "      <td>0.0</td>\n",
       "      <td>0.0</td>\n",
       "      <td>1.0</td>\n",
       "    </tr>\n",
       "    <tr>\n",
       "      <th>4</th>\n",
       "      <td>0.766377</td>\n",
       "      <td>0.737024</td>\n",
       "      <td>0.899818</td>\n",
       "      <td>0.731362</td>\n",
       "      <td>0.676760</td>\n",
       "      <td>0.0</td>\n",
       "      <td>0.0</td>\n",
       "      <td>1.0</td>\n",
       "      <td>0.0</td>\n",
       "      <td>0.0</td>\n",
       "      <td>1.0</td>\n",
       "      <td>0.0</td>\n",
       "      <td>0.0</td>\n",
       "      <td>0.0</td>\n",
       "      <td>1.0</td>\n",
       "      <td>0.0</td>\n",
       "    </tr>\n",
       "    <tr>\n",
       "      <th>5</th>\n",
       "      <td>0.679130</td>\n",
       "      <td>0.655149</td>\n",
       "      <td>0.565952</td>\n",
       "      <td>0.744341</td>\n",
       "      <td>0.679637</td>\n",
       "      <td>0.0</td>\n",
       "      <td>1.0</td>\n",
       "      <td>0.0</td>\n",
       "      <td>0.0</td>\n",
       "      <td>0.0</td>\n",
       "      <td>0.0</td>\n",
       "      <td>0.0</td>\n",
       "      <td>0.0</td>\n",
       "      <td>1.0</td>\n",
       "      <td>0.0</td>\n",
       "      <td>1.0</td>\n",
       "    </tr>\n",
       "    <tr>\n",
       "      <th>6</th>\n",
       "      <td>0.745229</td>\n",
       "      <td>0.725351</td>\n",
       "      <td>0.535607</td>\n",
       "      <td>0.759850</td>\n",
       "      <td>0.894932</td>\n",
       "      <td>1.0</td>\n",
       "      <td>0.0</td>\n",
       "      <td>0.0</td>\n",
       "      <td>0.0</td>\n",
       "      <td>0.0</td>\n",
       "      <td>0.0</td>\n",
       "      <td>0.0</td>\n",
       "      <td>0.0</td>\n",
       "      <td>1.0</td>\n",
       "      <td>0.0</td>\n",
       "      <td>1.0</td>\n",
       "    </tr>\n",
       "    <tr>\n",
       "      <th>7</th>\n",
       "      <td>0.813916</td>\n",
       "      <td>0.806844</td>\n",
       "      <td>0.818603</td>\n",
       "      <td>0.836711</td>\n",
       "      <td>0.941865</td>\n",
       "      <td>0.0</td>\n",
       "      <td>1.0</td>\n",
       "      <td>0.0</td>\n",
       "      <td>0.0</td>\n",
       "      <td>0.0</td>\n",
       "      <td>0.0</td>\n",
       "      <td>0.0</td>\n",
       "      <td>0.0</td>\n",
       "      <td>1.0</td>\n",
       "      <td>1.0</td>\n",
       "      <td>0.0</td>\n",
       "    </tr>\n",
       "    <tr>\n",
       "      <th>8</th>\n",
       "      <td>0.727913</td>\n",
       "      <td>0.708436</td>\n",
       "      <td>0.748878</td>\n",
       "      <td>0.753569</td>\n",
       "      <td>0.837087</td>\n",
       "      <td>0.0</td>\n",
       "      <td>0.0</td>\n",
       "      <td>1.0</td>\n",
       "      <td>0.0</td>\n",
       "      <td>0.0</td>\n",
       "      <td>0.0</td>\n",
       "      <td>0.0</td>\n",
       "      <td>0.0</td>\n",
       "      <td>1.0</td>\n",
       "      <td>0.0</td>\n",
       "      <td>1.0</td>\n",
       "    </tr>\n",
       "    <tr>\n",
       "      <th>9</th>\n",
       "      <td>0.768035</td>\n",
       "      <td>0.763821</td>\n",
       "      <td>0.564951</td>\n",
       "      <td>0.760461</td>\n",
       "      <td>0.971442</td>\n",
       "      <td>1.0</td>\n",
       "      <td>0.0</td>\n",
       "      <td>0.0</td>\n",
       "      <td>0.0</td>\n",
       "      <td>0.0</td>\n",
       "      <td>0.0</td>\n",
       "      <td>0.0</td>\n",
       "      <td>0.0</td>\n",
       "      <td>1.0</td>\n",
       "      <td>0.0</td>\n",
       "      <td>1.0</td>\n",
       "    </tr>\n",
       "    <tr>\n",
       "      <th>10</th>\n",
       "      <td>0.667028</td>\n",
       "      <td>0.642368</td>\n",
       "      <td>0.595773</td>\n",
       "      <td>0.728399</td>\n",
       "      <td>0.765468</td>\n",
       "      <td>0.0</td>\n",
       "      <td>1.0</td>\n",
       "      <td>0.0</td>\n",
       "      <td>1.0</td>\n",
       "      <td>0.0</td>\n",
       "      <td>0.0</td>\n",
       "      <td>0.0</td>\n",
       "      <td>0.0</td>\n",
       "      <td>0.0</td>\n",
       "      <td>1.0</td>\n",
       "      <td>0.0</td>\n",
       "    </tr>\n",
       "    <tr>\n",
       "      <th>11</th>\n",
       "      <td>0.250132</td>\n",
       "      <td>0.158097</td>\n",
       "      <td>0.000000</td>\n",
       "      <td>0.686658</td>\n",
       "      <td>0.204691</td>\n",
       "      <td>0.0</td>\n",
       "      <td>1.0</td>\n",
       "      <td>0.0</td>\n",
       "      <td>0.0</td>\n",
       "      <td>0.0</td>\n",
       "      <td>0.0</td>\n",
       "      <td>0.0</td>\n",
       "      <td>1.0</td>\n",
       "      <td>0.0</td>\n",
       "      <td>1.0</td>\n",
       "      <td>0.0</td>\n",
       "    </tr>\n",
       "    <tr>\n",
       "      <th>12</th>\n",
       "      <td>0.727524</td>\n",
       "      <td>0.701771</td>\n",
       "      <td>0.681682</td>\n",
       "      <td>0.776944</td>\n",
       "      <td>0.758414</td>\n",
       "      <td>0.0</td>\n",
       "      <td>1.0</td>\n",
       "      <td>0.0</td>\n",
       "      <td>0.0</td>\n",
       "      <td>0.0</td>\n",
       "      <td>0.0</td>\n",
       "      <td>0.0</td>\n",
       "      <td>1.0</td>\n",
       "      <td>0.0</td>\n",
       "      <td>1.0</td>\n",
       "      <td>0.0</td>\n",
       "    </tr>\n",
       "    <tr>\n",
       "      <th>13</th>\n",
       "      <td>0.728957</td>\n",
       "      <td>0.693078</td>\n",
       "      <td>0.616116</td>\n",
       "      <td>0.816955</td>\n",
       "      <td>1.000000</td>\n",
       "      <td>0.0</td>\n",
       "      <td>1.0</td>\n",
       "      <td>0.0</td>\n",
       "      <td>0.0</td>\n",
       "      <td>0.0</td>\n",
       "      <td>0.0</td>\n",
       "      <td>1.0</td>\n",
       "      <td>0.0</td>\n",
       "      <td>0.0</td>\n",
       "      <td>1.0</td>\n",
       "      <td>0.0</td>\n",
       "    </tr>\n",
       "    <tr>\n",
       "      <th>14</th>\n",
       "      <td>0.760624</td>\n",
       "      <td>0.716999</td>\n",
       "      <td>0.586898</td>\n",
       "      <td>0.811671</td>\n",
       "      <td>0.766496</td>\n",
       "      <td>1.0</td>\n",
       "      <td>0.0</td>\n",
       "      <td>0.0</td>\n",
       "      <td>0.0</td>\n",
       "      <td>0.0</td>\n",
       "      <td>0.0</td>\n",
       "      <td>1.0</td>\n",
       "      <td>0.0</td>\n",
       "      <td>0.0</td>\n",
       "      <td>1.0</td>\n",
       "      <td>0.0</td>\n",
       "    </tr>\n",
       "    <tr>\n",
       "      <th>15</th>\n",
       "      <td>0.721838</td>\n",
       "      <td>0.691974</td>\n",
       "      <td>0.606955</td>\n",
       "      <td>0.787630</td>\n",
       "      <td>0.845917</td>\n",
       "      <td>0.0</td>\n",
       "      <td>1.0</td>\n",
       "      <td>0.0</td>\n",
       "      <td>0.0</td>\n",
       "      <td>0.0</td>\n",
       "      <td>0.0</td>\n",
       "      <td>1.0</td>\n",
       "      <td>0.0</td>\n",
       "      <td>0.0</td>\n",
       "      <td>1.0</td>\n",
       "      <td>0.0</td>\n",
       "    </tr>\n",
       "    <tr>\n",
       "      <th>16</th>\n",
       "      <td>0.794618</td>\n",
       "      <td>0.774829</td>\n",
       "      <td>0.613105</td>\n",
       "      <td>0.828120</td>\n",
       "      <td>0.870537</td>\n",
       "      <td>1.0</td>\n",
       "      <td>0.0</td>\n",
       "      <td>0.0</td>\n",
       "      <td>0.0</td>\n",
       "      <td>0.0</td>\n",
       "      <td>0.0</td>\n",
       "      <td>1.0</td>\n",
       "      <td>0.0</td>\n",
       "      <td>0.0</td>\n",
       "      <td>1.0</td>\n",
       "      <td>0.0</td>\n",
       "    </tr>\n",
       "    <tr>\n",
       "      <th>17</th>\n",
       "      <td>0.779168</td>\n",
       "      <td>0.756221</td>\n",
       "      <td>0.579276</td>\n",
       "      <td>0.869055</td>\n",
       "      <td>0.705318</td>\n",
       "      <td>1.0</td>\n",
       "      <td>0.0</td>\n",
       "      <td>0.0</td>\n",
       "      <td>0.0</td>\n",
       "      <td>0.0</td>\n",
       "      <td>0.0</td>\n",
       "      <td>1.0</td>\n",
       "      <td>0.0</td>\n",
       "      <td>0.0</td>\n",
       "      <td>0.0</td>\n",
       "      <td>1.0</td>\n",
       "    </tr>\n",
       "    <tr>\n",
       "      <th>18</th>\n",
       "      <td>1.000000</td>\n",
       "      <td>1.000000</td>\n",
       "      <td>0.890110</td>\n",
       "      <td>1.000000</td>\n",
       "      <td>0.892978</td>\n",
       "      <td>1.0</td>\n",
       "      <td>0.0</td>\n",
       "      <td>0.0</td>\n",
       "      <td>0.0</td>\n",
       "      <td>0.0</td>\n",
       "      <td>0.0</td>\n",
       "      <td>1.0</td>\n",
       "      <td>0.0</td>\n",
       "      <td>0.0</td>\n",
       "      <td>1.0</td>\n",
       "      <td>0.0</td>\n",
       "    </tr>\n",
       "    <tr>\n",
       "      <th>19</th>\n",
       "      <td>0.670361</td>\n",
       "      <td>0.642442</td>\n",
       "      <td>0.589965</td>\n",
       "      <td>0.734169</td>\n",
       "      <td>0.705318</td>\n",
       "      <td>0.0</td>\n",
       "      <td>1.0</td>\n",
       "      <td>0.0</td>\n",
       "      <td>0.0</td>\n",
       "      <td>0.0</td>\n",
       "      <td>0.0</td>\n",
       "      <td>0.0</td>\n",
       "      <td>0.0</td>\n",
       "      <td>1.0</td>\n",
       "      <td>0.0</td>\n",
       "      <td>1.0</td>\n",
       "    </tr>\n",
       "    <tr>\n",
       "      <th>20</th>\n",
       "      <td>0.632899</td>\n",
       "      <td>0.594775</td>\n",
       "      <td>0.391068</td>\n",
       "      <td>0.739594</td>\n",
       "      <td>0.825619</td>\n",
       "      <td>1.0</td>\n",
       "      <td>0.0</td>\n",
       "      <td>0.0</td>\n",
       "      <td>0.0</td>\n",
       "      <td>0.0</td>\n",
       "      <td>0.0</td>\n",
       "      <td>0.0</td>\n",
       "      <td>0.0</td>\n",
       "      <td>1.0</td>\n",
       "      <td>0.0</td>\n",
       "      <td>1.0</td>\n",
       "    </tr>\n",
       "    <tr>\n",
       "      <th>21</th>\n",
       "      <td>0.679837</td>\n",
       "      <td>0.633476</td>\n",
       "      <td>0.612254</td>\n",
       "      <td>0.755432</td>\n",
       "      <td>0.765468</td>\n",
       "      <td>0.0</td>\n",
       "      <td>1.0</td>\n",
       "      <td>0.0</td>\n",
       "      <td>0.0</td>\n",
       "      <td>0.0</td>\n",
       "      <td>0.0</td>\n",
       "      <td>0.0</td>\n",
       "      <td>0.0</td>\n",
       "      <td>1.0</td>\n",
       "      <td>1.0</td>\n",
       "      <td>0.0</td>\n",
       "    </tr>\n",
       "    <tr>\n",
       "      <th>22</th>\n",
       "      <td>0.600955</td>\n",
       "      <td>0.563011</td>\n",
       "      <td>0.612203</td>\n",
       "      <td>0.719891</td>\n",
       "      <td>0.559496</td>\n",
       "      <td>0.0</td>\n",
       "      <td>0.0</td>\n",
       "      <td>1.0</td>\n",
       "      <td>0.0</td>\n",
       "      <td>0.0</td>\n",
       "      <td>0.0</td>\n",
       "      <td>0.0</td>\n",
       "      <td>0.0</td>\n",
       "      <td>1.0</td>\n",
       "      <td>0.0</td>\n",
       "      <td>1.0</td>\n",
       "    </tr>\n",
       "    <tr>\n",
       "      <th>23</th>\n",
       "      <td>0.731442</td>\n",
       "      <td>0.701393</td>\n",
       "      <td>0.603893</td>\n",
       "      <td>0.749266</td>\n",
       "      <td>0.653427</td>\n",
       "      <td>1.0</td>\n",
       "      <td>0.0</td>\n",
       "      <td>0.0</td>\n",
       "      <td>0.0</td>\n",
       "      <td>0.0</td>\n",
       "      <td>0.0</td>\n",
       "      <td>0.0</td>\n",
       "      <td>0.0</td>\n",
       "      <td>1.0</td>\n",
       "      <td>0.0</td>\n",
       "      <td>1.0</td>\n",
       "    </tr>\n",
       "    <tr>\n",
       "      <th>24</th>\n",
       "      <td>0.648631</td>\n",
       "      <td>0.605683</td>\n",
       "      <td>0.598785</td>\n",
       "      <td>0.735872</td>\n",
       "      <td>0.572979</td>\n",
       "      <td>0.0</td>\n",
       "      <td>1.0</td>\n",
       "      <td>0.0</td>\n",
       "      <td>0.0</td>\n",
       "      <td>0.0</td>\n",
       "      <td>0.0</td>\n",
       "      <td>0.0</td>\n",
       "      <td>0.0</td>\n",
       "      <td>1.0</td>\n",
       "      <td>1.0</td>\n",
       "      <td>0.0</td>\n",
       "    </tr>\n",
       "    <tr>\n",
       "      <th>25</th>\n",
       "      <td>0.669905</td>\n",
       "      <td>0.641465</td>\n",
       "      <td>0.685502</td>\n",
       "      <td>0.721977</td>\n",
       "      <td>0.755619</td>\n",
       "      <td>0.0</td>\n",
       "      <td>0.0</td>\n",
       "      <td>1.0</td>\n",
       "      <td>0.0</td>\n",
       "      <td>0.0</td>\n",
       "      <td>0.0</td>\n",
       "      <td>0.0</td>\n",
       "      <td>0.0</td>\n",
       "      <td>1.0</td>\n",
       "      <td>1.0</td>\n",
       "      <td>0.0</td>\n",
       "    </tr>\n",
       "    <tr>\n",
       "      <th>26</th>\n",
       "      <td>0.732592</td>\n",
       "      <td>0.721064</td>\n",
       "      <td>0.964934</td>\n",
       "      <td>0.736991</td>\n",
       "      <td>0.722407</td>\n",
       "      <td>0.0</td>\n",
       "      <td>0.0</td>\n",
       "      <td>1.0</td>\n",
       "      <td>0.0</td>\n",
       "      <td>0.0</td>\n",
       "      <td>1.0</td>\n",
       "      <td>0.0</td>\n",
       "      <td>0.0</td>\n",
       "      <td>0.0</td>\n",
       "      <td>1.0</td>\n",
       "      <td>0.0</td>\n",
       "    </tr>\n",
       "    <tr>\n",
       "      <th>27</th>\n",
       "      <td>0.638178</td>\n",
       "      <td>0.590471</td>\n",
       "      <td>0.397861</td>\n",
       "      <td>0.751637</td>\n",
       "      <td>0.542407</td>\n",
       "      <td>1.0</td>\n",
       "      <td>0.0</td>\n",
       "      <td>0.0</td>\n",
       "      <td>0.0</td>\n",
       "      <td>0.0</td>\n",
       "      <td>1.0</td>\n",
       "      <td>0.0</td>\n",
       "      <td>0.0</td>\n",
       "      <td>0.0</td>\n",
       "      <td>0.0</td>\n",
       "      <td>1.0</td>\n",
       "    </tr>\n",
       "    <tr>\n",
       "      <th>28</th>\n",
       "      <td>0.742099</td>\n",
       "      <td>0.718442</td>\n",
       "      <td>0.665685</td>\n",
       "      <td>0.765827</td>\n",
       "      <td>0.676760</td>\n",
       "      <td>0.0</td>\n",
       "      <td>1.0</td>\n",
       "      <td>0.0</td>\n",
       "      <td>0.0</td>\n",
       "      <td>0.0</td>\n",
       "      <td>1.0</td>\n",
       "      <td>0.0</td>\n",
       "      <td>0.0</td>\n",
       "      <td>0.0</td>\n",
       "      <td>0.0</td>\n",
       "      <td>1.0</td>\n",
       "    </tr>\n",
       "    <tr>\n",
       "      <th>29</th>\n",
       "      <td>0.658903</td>\n",
       "      <td>0.630686</td>\n",
       "      <td>0.607879</td>\n",
       "      <td>0.736028</td>\n",
       "      <td>0.657033</td>\n",
       "      <td>0.0</td>\n",
       "      <td>1.0</td>\n",
       "      <td>0.0</td>\n",
       "      <td>0.0</td>\n",
       "      <td>0.0</td>\n",
       "      <td>1.0</td>\n",
       "      <td>0.0</td>\n",
       "      <td>0.0</td>\n",
       "      <td>0.0</td>\n",
       "      <td>0.0</td>\n",
       "      <td>1.0</td>\n",
       "    </tr>\n",
       "    <tr>\n",
       "      <th>30</th>\n",
       "      <td>0.784433</td>\n",
       "      <td>0.756873</td>\n",
       "      <td>0.586051</td>\n",
       "      <td>0.792012</td>\n",
       "      <td>0.837087</td>\n",
       "      <td>1.0</td>\n",
       "      <td>0.0</td>\n",
       "      <td>0.0</td>\n",
       "      <td>0.0</td>\n",
       "      <td>0.0</td>\n",
       "      <td>1.0</td>\n",
       "      <td>0.0</td>\n",
       "      <td>0.0</td>\n",
       "      <td>0.0</td>\n",
       "      <td>0.0</td>\n",
       "      <td>1.0</td>\n",
       "    </tr>\n",
       "    <tr>\n",
       "      <th>31</th>\n",
       "      <td>0.746831</td>\n",
       "      <td>0.715776</td>\n",
       "      <td>0.707904</td>\n",
       "      <td>0.772077</td>\n",
       "      <td>0.865645</td>\n",
       "      <td>0.0</td>\n",
       "      <td>1.0</td>\n",
       "      <td>0.0</td>\n",
       "      <td>0.0</td>\n",
       "      <td>0.0</td>\n",
       "      <td>1.0</td>\n",
       "      <td>0.0</td>\n",
       "      <td>0.0</td>\n",
       "      <td>0.0</td>\n",
       "      <td>1.0</td>\n",
       "      <td>0.0</td>\n",
       "    </tr>\n",
       "    <tr>\n",
       "      <th>32</th>\n",
       "      <td>0.719797</td>\n",
       "      <td>0.679034</td>\n",
       "      <td>0.604329</td>\n",
       "      <td>0.769303</td>\n",
       "      <td>0.882734</td>\n",
       "      <td>0.0</td>\n",
       "      <td>1.0</td>\n",
       "      <td>0.0</td>\n",
       "      <td>0.0</td>\n",
       "      <td>0.0</td>\n",
       "      <td>1.0</td>\n",
       "      <td>0.0</td>\n",
       "      <td>0.0</td>\n",
       "      <td>0.0</td>\n",
       "      <td>0.0</td>\n",
       "      <td>1.0</td>\n",
       "    </tr>\n",
       "    <tr>\n",
       "      <th>33</th>\n",
       "      <td>0.650194</td>\n",
       "      <td>0.625716</td>\n",
       "      <td>0.574112</td>\n",
       "      <td>0.690695</td>\n",
       "      <td>0.536163</td>\n",
       "      <td>0.0</td>\n",
       "      <td>1.0</td>\n",
       "      <td>0.0</td>\n",
       "      <td>0.0</td>\n",
       "      <td>0.0</td>\n",
       "      <td>1.0</td>\n",
       "      <td>0.0</td>\n",
       "      <td>0.0</td>\n",
       "      <td>0.0</td>\n",
       "      <td>0.0</td>\n",
       "      <td>1.0</td>\n",
       "    </tr>\n",
       "    <tr>\n",
       "      <th>34</th>\n",
       "      <td>0.684557</td>\n",
       "      <td>0.654975</td>\n",
       "      <td>0.794538</td>\n",
       "      <td>0.692328</td>\n",
       "      <td>0.588053</td>\n",
       "      <td>0.0</td>\n",
       "      <td>0.0</td>\n",
       "      <td>1.0</td>\n",
       "      <td>0.0</td>\n",
       "      <td>0.0</td>\n",
       "      <td>1.0</td>\n",
       "      <td>0.0</td>\n",
       "      <td>0.0</td>\n",
       "      <td>0.0</td>\n",
       "      <td>1.0</td>\n",
       "      <td>0.0</td>\n",
       "    </tr>\n",
       "    <tr>\n",
       "      <th>35</th>\n",
       "      <td>0.721807</td>\n",
       "      <td>0.704814</td>\n",
       "      <td>0.505469</td>\n",
       "      <td>0.727678</td>\n",
       "      <td>0.707852</td>\n",
       "      <td>1.0</td>\n",
       "      <td>0.0</td>\n",
       "      <td>0.0</td>\n",
       "      <td>0.0</td>\n",
       "      <td>0.0</td>\n",
       "      <td>1.0</td>\n",
       "      <td>0.0</td>\n",
       "      <td>0.0</td>\n",
       "      <td>0.0</td>\n",
       "      <td>0.0</td>\n",
       "      <td>1.0</td>\n",
       "    </tr>\n",
       "    <tr>\n",
       "      <th>36</th>\n",
       "      <td>0.592709</td>\n",
       "      <td>0.574915</td>\n",
       "      <td>0.339356</td>\n",
       "      <td>0.660315</td>\n",
       "      <td>0.499346</td>\n",
       "      <td>1.0</td>\n",
       "      <td>0.0</td>\n",
       "      <td>0.0</td>\n",
       "      <td>0.0</td>\n",
       "      <td>1.0</td>\n",
       "      <td>0.0</td>\n",
       "      <td>0.0</td>\n",
       "      <td>0.0</td>\n",
       "      <td>0.0</td>\n",
       "      <td>1.0</td>\n",
       "      <td>0.0</td>\n",
       "    </tr>\n",
       "    <tr>\n",
       "      <th>37</th>\n",
       "      <td>0.684265</td>\n",
       "      <td>0.633005</td>\n",
       "      <td>0.558610</td>\n",
       "      <td>0.732939</td>\n",
       "      <td>0.639943</td>\n",
       "      <td>0.0</td>\n",
       "      <td>1.0</td>\n",
       "      <td>0.0</td>\n",
       "      <td>0.0</td>\n",
       "      <td>1.0</td>\n",
       "      <td>0.0</td>\n",
       "      <td>0.0</td>\n",
       "      <td>0.0</td>\n",
       "      <td>0.0</td>\n",
       "      <td>1.0</td>\n",
       "      <td>0.0</td>\n",
       "    </tr>\n",
       "    <tr>\n",
       "      <th>38</th>\n",
       "      <td>0.771907</td>\n",
       "      <td>0.748705</td>\n",
       "      <td>0.760091</td>\n",
       "      <td>0.763669</td>\n",
       "      <td>0.768347</td>\n",
       "      <td>0.0</td>\n",
       "      <td>1.0</td>\n",
       "      <td>0.0</td>\n",
       "      <td>0.0</td>\n",
       "      <td>1.0</td>\n",
       "      <td>0.0</td>\n",
       "      <td>0.0</td>\n",
       "      <td>0.0</td>\n",
       "      <td>0.0</td>\n",
       "      <td>1.0</td>\n",
       "      <td>0.0</td>\n",
       "    </tr>\n",
       "    <tr>\n",
       "      <th>39</th>\n",
       "      <td>0.770934</td>\n",
       "      <td>0.748539</td>\n",
       "      <td>0.758842</td>\n",
       "      <td>0.766663</td>\n",
       "      <td>0.768344</td>\n",
       "      <td>0.0</td>\n",
       "      <td>1.0</td>\n",
       "      <td>0.0</td>\n",
       "      <td>0.0</td>\n",
       "      <td>1.0</td>\n",
       "      <td>0.0</td>\n",
       "      <td>0.0</td>\n",
       "      <td>0.0</td>\n",
       "      <td>0.0</td>\n",
       "      <td>1.0</td>\n",
       "      <td>0.0</td>\n",
       "    </tr>\n",
       "    <tr>\n",
       "      <th>40</th>\n",
       "      <td>0.774818</td>\n",
       "      <td>0.752541</td>\n",
       "      <td>0.763840</td>\n",
       "      <td>0.775139</td>\n",
       "      <td>0.768344</td>\n",
       "      <td>0.0</td>\n",
       "      <td>1.0</td>\n",
       "      <td>0.0</td>\n",
       "      <td>0.0</td>\n",
       "      <td>1.0</td>\n",
       "      <td>0.0</td>\n",
       "      <td>0.0</td>\n",
       "      <td>0.0</td>\n",
       "      <td>0.0</td>\n",
       "      <td>1.0</td>\n",
       "      <td>0.0</td>\n",
       "    </tr>\n",
       "    <tr>\n",
       "      <th>41</th>\n",
       "      <td>0.772785</td>\n",
       "      <td>0.738080</td>\n",
       "      <td>0.672510</td>\n",
       "      <td>0.808732</td>\n",
       "      <td>0.954353</td>\n",
       "      <td>0.0</td>\n",
       "      <td>1.0</td>\n",
       "      <td>0.0</td>\n",
       "      <td>0.0</td>\n",
       "      <td>1.0</td>\n",
       "      <td>0.0</td>\n",
       "      <td>0.0</td>\n",
       "      <td>0.0</td>\n",
       "      <td>0.0</td>\n",
       "      <td>1.0</td>\n",
       "      <td>0.0</td>\n",
       "    </tr>\n",
       "    <tr>\n",
       "      <th>42</th>\n",
       "      <td>0.784759</td>\n",
       "      <td>0.742043</td>\n",
       "      <td>0.747261</td>\n",
       "      <td>0.796153</td>\n",
       "      <td>0.804663</td>\n",
       "      <td>0.0</td>\n",
       "      <td>1.0</td>\n",
       "      <td>0.0</td>\n",
       "      <td>0.0</td>\n",
       "      <td>1.0</td>\n",
       "      <td>0.0</td>\n",
       "      <td>0.0</td>\n",
       "      <td>0.0</td>\n",
       "      <td>0.0</td>\n",
       "      <td>1.0</td>\n",
       "      <td>0.0</td>\n",
       "    </tr>\n",
       "    <tr>\n",
       "      <th>43</th>\n",
       "      <td>0.794467</td>\n",
       "      <td>0.764826</td>\n",
       "      <td>0.700409</td>\n",
       "      <td>0.792001</td>\n",
       "      <td>1.000000</td>\n",
       "      <td>0.0</td>\n",
       "      <td>1.0</td>\n",
       "      <td>0.0</td>\n",
       "      <td>0.0</td>\n",
       "      <td>1.0</td>\n",
       "      <td>0.0</td>\n",
       "      <td>0.0</td>\n",
       "      <td>0.0</td>\n",
       "      <td>0.0</td>\n",
       "      <td>1.0</td>\n",
       "      <td>0.0</td>\n",
       "    </tr>\n",
       "  </tbody>\n",
       "</table>\n",
       "</div>"
      ],
      "text/plain": [
       "       labch  labh_hour  lab_cost      fmtc     lansh    0    1    2    3  \\\n",
       "0   0.641852   0.612513  0.638141  0.738011  0.757209  0.0  0.0  1.0  0.0   \n",
       "1   0.690799   0.664253  0.465570  0.688852  0.794026  1.0  0.0  0.0  0.0   \n",
       "2   0.770147   0.750218  0.689571  0.783378  0.776139  0.0  1.0  0.0  0.0   \n",
       "3   0.715657   0.692211  0.658345  0.790873  0.765468  0.0  1.0  0.0  0.0   \n",
       "4   0.766377   0.737024  0.899818  0.731362  0.676760  0.0  0.0  1.0  0.0   \n",
       "5   0.679130   0.655149  0.565952  0.744341  0.679637  0.0  1.0  0.0  0.0   \n",
       "6   0.745229   0.725351  0.535607  0.759850  0.894932  1.0  0.0  0.0  0.0   \n",
       "7   0.813916   0.806844  0.818603  0.836711  0.941865  0.0  1.0  0.0  0.0   \n",
       "8   0.727913   0.708436  0.748878  0.753569  0.837087  0.0  0.0  1.0  0.0   \n",
       "9   0.768035   0.763821  0.564951  0.760461  0.971442  1.0  0.0  0.0  0.0   \n",
       "10  0.667028   0.642368  0.595773  0.728399  0.765468  0.0  1.0  0.0  1.0   \n",
       "11  0.250132   0.158097  0.000000  0.686658  0.204691  0.0  1.0  0.0  0.0   \n",
       "12  0.727524   0.701771  0.681682  0.776944  0.758414  0.0  1.0  0.0  0.0   \n",
       "13  0.728957   0.693078  0.616116  0.816955  1.000000  0.0  1.0  0.0  0.0   \n",
       "14  0.760624   0.716999  0.586898  0.811671  0.766496  1.0  0.0  0.0  0.0   \n",
       "15  0.721838   0.691974  0.606955  0.787630  0.845917  0.0  1.0  0.0  0.0   \n",
       "16  0.794618   0.774829  0.613105  0.828120  0.870537  1.0  0.0  0.0  0.0   \n",
       "17  0.779168   0.756221  0.579276  0.869055  0.705318  1.0  0.0  0.0  0.0   \n",
       "18  1.000000   1.000000  0.890110  1.000000  0.892978  1.0  0.0  0.0  0.0   \n",
       "19  0.670361   0.642442  0.589965  0.734169  0.705318  0.0  1.0  0.0  0.0   \n",
       "20  0.632899   0.594775  0.391068  0.739594  0.825619  1.0  0.0  0.0  0.0   \n",
       "21  0.679837   0.633476  0.612254  0.755432  0.765468  0.0  1.0  0.0  0.0   \n",
       "22  0.600955   0.563011  0.612203  0.719891  0.559496  0.0  0.0  1.0  0.0   \n",
       "23  0.731442   0.701393  0.603893  0.749266  0.653427  1.0  0.0  0.0  0.0   \n",
       "24  0.648631   0.605683  0.598785  0.735872  0.572979  0.0  1.0  0.0  0.0   \n",
       "25  0.669905   0.641465  0.685502  0.721977  0.755619  0.0  0.0  1.0  0.0   \n",
       "26  0.732592   0.721064  0.964934  0.736991  0.722407  0.0  0.0  1.0  0.0   \n",
       "27  0.638178   0.590471  0.397861  0.751637  0.542407  1.0  0.0  0.0  0.0   \n",
       "28  0.742099   0.718442  0.665685  0.765827  0.676760  0.0  1.0  0.0  0.0   \n",
       "29  0.658903   0.630686  0.607879  0.736028  0.657033  0.0  1.0  0.0  0.0   \n",
       "30  0.784433   0.756873  0.586051  0.792012  0.837087  1.0  0.0  0.0  0.0   \n",
       "31  0.746831   0.715776  0.707904  0.772077  0.865645  0.0  1.0  0.0  0.0   \n",
       "32  0.719797   0.679034  0.604329  0.769303  0.882734  0.0  1.0  0.0  0.0   \n",
       "33  0.650194   0.625716  0.574112  0.690695  0.536163  0.0  1.0  0.0  0.0   \n",
       "34  0.684557   0.654975  0.794538  0.692328  0.588053  0.0  0.0  1.0  0.0   \n",
       "35  0.721807   0.704814  0.505469  0.727678  0.707852  1.0  0.0  0.0  0.0   \n",
       "36  0.592709   0.574915  0.339356  0.660315  0.499346  1.0  0.0  0.0  0.0   \n",
       "37  0.684265   0.633005  0.558610  0.732939  0.639943  0.0  1.0  0.0  0.0   \n",
       "38  0.771907   0.748705  0.760091  0.763669  0.768347  0.0  1.0  0.0  0.0   \n",
       "39  0.770934   0.748539  0.758842  0.766663  0.768344  0.0  1.0  0.0  0.0   \n",
       "40  0.774818   0.752541  0.763840  0.775139  0.768344  0.0  1.0  0.0  0.0   \n",
       "41  0.772785   0.738080  0.672510  0.808732  0.954353  0.0  1.0  0.0  0.0   \n",
       "42  0.784759   0.742043  0.747261  0.796153  0.804663  0.0  1.0  0.0  0.0   \n",
       "43  0.794467   0.764826  0.700409  0.792001  1.000000  0.0  1.0  0.0  0.0   \n",
       "\n",
       "      4    5    6    7    8    9   10  \n",
       "0   0.0  0.0  0.0  1.0  0.0  1.0  0.0  \n",
       "1   0.0  0.0  0.0  1.0  0.0  1.0  0.0  \n",
       "2   0.0  0.0  0.0  1.0  0.0  0.0  1.0  \n",
       "3   0.0  1.0  0.0  0.0  0.0  0.0  1.0  \n",
       "4   0.0  1.0  0.0  0.0  0.0  1.0  0.0  \n",
       "5   0.0  0.0  0.0  0.0  1.0  0.0  1.0  \n",
       "6   0.0  0.0  0.0  0.0  1.0  0.0  1.0  \n",
       "7   0.0  0.0  0.0  0.0  1.0  1.0  0.0  \n",
       "8   0.0  0.0  0.0  0.0  1.0  0.0  1.0  \n",
       "9   0.0  0.0  0.0  0.0  1.0  0.0  1.0  \n",
       "10  0.0  0.0  0.0  0.0  0.0  1.0  0.0  \n",
       "11  0.0  0.0  0.0  1.0  0.0  1.0  0.0  \n",
       "12  0.0  0.0  0.0  1.0  0.0  1.0  0.0  \n",
       "13  0.0  0.0  1.0  0.0  0.0  1.0  0.0  \n",
       "14  0.0  0.0  1.0  0.0  0.0  1.0  0.0  \n",
       "15  0.0  0.0  1.0  0.0  0.0  1.0  0.0  \n",
       "16  0.0  0.0  1.0  0.0  0.0  1.0  0.0  \n",
       "17  0.0  0.0  1.0  0.0  0.0  0.0  1.0  \n",
       "18  0.0  0.0  1.0  0.0  0.0  1.0  0.0  \n",
       "19  0.0  0.0  0.0  0.0  1.0  0.0  1.0  \n",
       "20  0.0  0.0  0.0  0.0  1.0  0.0  1.0  \n",
       "21  0.0  0.0  0.0  0.0  1.0  1.0  0.0  \n",
       "22  0.0  0.0  0.0  0.0  1.0  0.0  1.0  \n",
       "23  0.0  0.0  0.0  0.0  1.0  0.0  1.0  \n",
       "24  0.0  0.0  0.0  0.0  1.0  1.0  0.0  \n",
       "25  0.0  0.0  0.0  0.0  1.0  1.0  0.0  \n",
       "26  0.0  1.0  0.0  0.0  0.0  1.0  0.0  \n",
       "27  0.0  1.0  0.0  0.0  0.0  0.0  1.0  \n",
       "28  0.0  1.0  0.0  0.0  0.0  0.0  1.0  \n",
       "29  0.0  1.0  0.0  0.0  0.0  0.0  1.0  \n",
       "30  0.0  1.0  0.0  0.0  0.0  0.0  1.0  \n",
       "31  0.0  1.0  0.0  0.0  0.0  1.0  0.0  \n",
       "32  0.0  1.0  0.0  0.0  0.0  0.0  1.0  \n",
       "33  0.0  1.0  0.0  0.0  0.0  0.0  1.0  \n",
       "34  0.0  1.0  0.0  0.0  0.0  1.0  0.0  \n",
       "35  0.0  1.0  0.0  0.0  0.0  0.0  1.0  \n",
       "36  1.0  0.0  0.0  0.0  0.0  1.0  0.0  \n",
       "37  1.0  0.0  0.0  0.0  0.0  1.0  0.0  \n",
       "38  1.0  0.0  0.0  0.0  0.0  1.0  0.0  \n",
       "39  1.0  0.0  0.0  0.0  0.0  1.0  0.0  \n",
       "40  1.0  0.0  0.0  0.0  0.0  1.0  0.0  \n",
       "41  1.0  0.0  0.0  0.0  0.0  1.0  0.0  \n",
       "42  1.0  0.0  0.0  0.0  0.0  1.0  0.0  \n",
       "43  1.0  0.0  0.0  0.0  0.0  1.0  0.0  "
      ]
     },
     "execution_count": 63,
     "metadata": {},
     "output_type": "execute_result"
    }
   ],
   "source": [
    "numeric_data_df = pd.DataFrame(X_scaled, columns=numerical_variables)\n",
    "onehot_data_df = pd.DataFrame(onehot.toarray())\n",
    "\n",
    "X_data_df = pd.concat([numeric_data_df , onehot_data_df], axis=1)\n",
    "X_data_df"
   ]
  },
  {
   "cell_type": "code",
   "execution_count": 64,
   "metadata": {},
   "outputs": [],
   "source": [
    "X_test = np.array(X_data_df)\n",
    "y_test = np.array(data['cony'])"
   ]
  },
  {
   "cell_type": "code",
   "execution_count": 65,
   "metadata": {},
   "outputs": [
    {
     "name": "stdout",
     "output_type": "stream",
     "text": [
      "[7.79844317 7.89466228 8.35506648 8.99962115 8.77031718 8.13680943\n",
      " 7.19053178 8.78412615 7.99314142 7.89469342]\n"
     ]
    }
   ],
   "source": [
    "ensemble = EnsembleRegressor(models, weights=optimal_weight)\n",
    "\n",
    "preds = ensemble.predict(X_test)\n",
    "print(preds[:10])"
   ]
  },
  {
   "cell_type": "code",
   "execution_count": 66,
   "metadata": {},
   "outputs": [
    {
     "name": "stdout",
     "output_type": "stream",
     "text": [
      "[2435.80534098 2681.92333644 4250.66726119 8099.01466528 6439.21484649\n",
      " 3416.99510363 1325.80859426 6528.76442302 2959.5827977  2682.00690613]\n",
      "[ 1827.8         2565.          3810.43478261 13303.33333333\n",
      " 10353.2         3870.45454545   719.          6125.3968254\n",
      "  2713.6         3186.        ]\n"
     ]
    }
   ],
   "source": [
    "inverse_transformed_pred = np.expm1(preds)\n",
    "inverse_transformed_pred = np.where(inverse_transformed_pred < 0, 0, inverse_transformed_pred)\n",
    "inverse_transformed_y_test = np.expm1(y_test)\n",
    "\n",
    "print(inverse_transformed_pred[:10])\n",
    "print(inverse_transformed_y_test[:10])"
   ]
  },
  {
   "cell_type": "code",
   "execution_count": 67,
   "metadata": {},
   "outputs": [
    {
     "name": "stdout",
     "output_type": "stream",
     "text": [
      "1998.2963324072264\n"
     ]
    }
   ],
   "source": [
    "print(np.sqrt(mean_squared_error(inverse_transformed_y_test, inverse_transformed_pred)))"
   ]
  },
  {
   "cell_type": "code",
   "execution_count": 68,
   "metadata": {},
   "outputs": [
    {
     "data": {
      "text/html": [
       "<div>\n",
       "<style scoped>\n",
       "    .dataframe tbody tr th:only-of-type {\n",
       "        vertical-align: middle;\n",
       "    }\n",
       "\n",
       "    .dataframe tbody tr th {\n",
       "        vertical-align: top;\n",
       "    }\n",
       "\n",
       "    .dataframe thead th {\n",
       "        text-align: right;\n",
       "    }\n",
       "</style>\n",
       "<table border=\"1\" class=\"dataframe\">\n",
       "  <thead>\n",
       "    <tr style=\"text-align: right;\">\n",
       "      <th></th>\n",
       "      <th>생산량</th>\n",
       "      <th>예측값</th>\n",
       "    </tr>\n",
       "  </thead>\n",
       "  <tbody>\n",
       "    <tr>\n",
       "      <th>0</th>\n",
       "      <td>1827.8</td>\n",
       "      <td>2435.8</td>\n",
       "    </tr>\n",
       "    <tr>\n",
       "      <th>1</th>\n",
       "      <td>2565.0</td>\n",
       "      <td>2681.9</td>\n",
       "    </tr>\n",
       "    <tr>\n",
       "      <th>2</th>\n",
       "      <td>3810.4</td>\n",
       "      <td>4250.7</td>\n",
       "    </tr>\n",
       "    <tr>\n",
       "      <th>3</th>\n",
       "      <td>13303.3</td>\n",
       "      <td>8099.0</td>\n",
       "    </tr>\n",
       "    <tr>\n",
       "      <th>4</th>\n",
       "      <td>10353.2</td>\n",
       "      <td>6439.2</td>\n",
       "    </tr>\n",
       "    <tr>\n",
       "      <th>5</th>\n",
       "      <td>3870.5</td>\n",
       "      <td>3417.0</td>\n",
       "    </tr>\n",
       "    <tr>\n",
       "      <th>6</th>\n",
       "      <td>719.0</td>\n",
       "      <td>1325.8</td>\n",
       "    </tr>\n",
       "    <tr>\n",
       "      <th>7</th>\n",
       "      <td>6125.4</td>\n",
       "      <td>6528.8</td>\n",
       "    </tr>\n",
       "    <tr>\n",
       "      <th>8</th>\n",
       "      <td>2713.6</td>\n",
       "      <td>2959.6</td>\n",
       "    </tr>\n",
       "    <tr>\n",
       "      <th>9</th>\n",
       "      <td>3186.0</td>\n",
       "      <td>2682.0</td>\n",
       "    </tr>\n",
       "    <tr>\n",
       "      <th>10</th>\n",
       "      <td>1945.7</td>\n",
       "      <td>2373.4</td>\n",
       "    </tr>\n",
       "    <tr>\n",
       "      <th>11</th>\n",
       "      <td>6954.0</td>\n",
       "      <td>5188.7</td>\n",
       "    </tr>\n",
       "    <tr>\n",
       "      <th>12</th>\n",
       "      <td>1662.5</td>\n",
       "      <td>2705.2</td>\n",
       "    </tr>\n",
       "    <tr>\n",
       "      <th>13</th>\n",
       "      <td>4614.5</td>\n",
       "      <td>5242.3</td>\n",
       "    </tr>\n",
       "    <tr>\n",
       "      <th>14</th>\n",
       "      <td>9837.9</td>\n",
       "      <td>7198.9</td>\n",
       "    </tr>\n",
       "    <tr>\n",
       "      <th>15</th>\n",
       "      <td>8450.0</td>\n",
       "      <td>5959.2</td>\n",
       "    </tr>\n",
       "    <tr>\n",
       "      <th>16</th>\n",
       "      <td>7471.8</td>\n",
       "      <td>8079.8</td>\n",
       "    </tr>\n",
       "    <tr>\n",
       "      <th>17</th>\n",
       "      <td>15072.0</td>\n",
       "      <td>11522.9</td>\n",
       "    </tr>\n",
       "    <tr>\n",
       "      <th>18</th>\n",
       "      <td>26679.2</td>\n",
       "      <td>19834.9</td>\n",
       "    </tr>\n",
       "    <tr>\n",
       "      <th>19</th>\n",
       "      <td>3031.1</td>\n",
       "      <td>2970.9</td>\n",
       "    </tr>\n",
       "    <tr>\n",
       "      <th>20</th>\n",
       "      <td>3817.0</td>\n",
       "      <td>2958.0</td>\n",
       "    </tr>\n",
       "    <tr>\n",
       "      <th>21</th>\n",
       "      <td>6839.0</td>\n",
       "      <td>4553.1</td>\n",
       "    </tr>\n",
       "    <tr>\n",
       "      <th>22</th>\n",
       "      <td>1488.0</td>\n",
       "      <td>1899.8</td>\n",
       "    </tr>\n",
       "    <tr>\n",
       "      <th>23</th>\n",
       "      <td>2851.1</td>\n",
       "      <td>2985.1</td>\n",
       "    </tr>\n",
       "    <tr>\n",
       "      <th>24</th>\n",
       "      <td>6650.3</td>\n",
       "      <td>4495.9</td>\n",
       "    </tr>\n",
       "    <tr>\n",
       "      <th>25</th>\n",
       "      <td>5894.6</td>\n",
       "      <td>3105.5</td>\n",
       "    </tr>\n",
       "    <tr>\n",
       "      <th>26</th>\n",
       "      <td>2199.0</td>\n",
       "      <td>3177.2</td>\n",
       "    </tr>\n",
       "    <tr>\n",
       "      <th>27</th>\n",
       "      <td>2600.0</td>\n",
       "      <td>3102.1</td>\n",
       "    </tr>\n",
       "    <tr>\n",
       "      <th>28</th>\n",
       "      <td>4004.0</td>\n",
       "      <td>4203.0</td>\n",
       "    </tr>\n",
       "    <tr>\n",
       "      <th>29</th>\n",
       "      <td>1419.1</td>\n",
       "      <td>2370.9</td>\n",
       "    </tr>\n",
       "  </tbody>\n",
       "</table>\n",
       "</div>"
      ],
      "text/plain": [
       "        생산량      예측값\n",
       "0    1827.8   2435.8\n",
       "1    2565.0   2681.9\n",
       "2    3810.4   4250.7\n",
       "3   13303.3   8099.0\n",
       "4   10353.2   6439.2\n",
       "5    3870.5   3417.0\n",
       "6     719.0   1325.8\n",
       "7    6125.4   6528.8\n",
       "8    2713.6   2959.6\n",
       "9    3186.0   2682.0\n",
       "10   1945.7   2373.4\n",
       "11   6954.0   5188.7\n",
       "12   1662.5   2705.2\n",
       "13   4614.5   5242.3\n",
       "14   9837.9   7198.9\n",
       "15   8450.0   5959.2\n",
       "16   7471.8   8079.8\n",
       "17  15072.0  11522.9\n",
       "18  26679.2  19834.9\n",
       "19   3031.1   2970.9\n",
       "20   3817.0   2958.0\n",
       "21   6839.0   4553.1\n",
       "22   1488.0   1899.8\n",
       "23   2851.1   2985.1\n",
       "24   6650.3   4495.9\n",
       "25   5894.6   3105.5\n",
       "26   2199.0   3177.2\n",
       "27   2600.0   3102.1\n",
       "28   4004.0   4203.0\n",
       "29   1419.1   2370.9"
      ]
     },
     "execution_count": 68,
     "metadata": {},
     "output_type": "execute_result"
    }
   ],
   "source": [
    "inverse_transformed_pred = pd.Series(np.round(inverse_transformed_pred,1), name='예측값')\n",
    "inverse_transformed_y_test= pd.Series(np.round(inverse_transformed_y_test,1), name='생산량')\n",
    "result = pd.concat([inverse_transformed_y_test, inverse_transformed_pred], axis=1)\n",
    "result[:30]"
   ]
  },
  {
   "cell_type": "markdown",
   "metadata": {},
   "source": [
    "# Prediction"
   ]
  },
  {
   "cell_type": "code",
   "execution_count": 71,
   "metadata": {},
   "outputs": [],
   "source": [
    "def prediction(file_path):\n",
    "    use_cols = ['fno',\n",
    "                'labch', 'labh_hour', 'lab_cost',\n",
    "                'fmtc', 'lansh',\n",
    "                'size', 'ara', 'de2']\n",
    "    \n",
    "    data = pd.read_csv(file_path).loc[:,use_cols]\n",
    "    \n",
    "    # log transform\n",
    "    data.loc[:, ['fmtc', 'lansh']] = np.log1p(data.loc[:, ['fmtc', 'lansh']])\n",
    "    data.loc[:, ['labch', 'labh_hour', 'lab_cost']] = np.log1p(data.loc[:, ['labch', 'labh_hour', 'lab_cost']])\n",
    "    \n",
    "    # data imputation\n",
    "    data.replace({'labch' : {0 : np.nan},\n",
    "              'labh_hour' : {0 : np.nan},\n",
    "              'lab_cost' : {0 : np.nan},\n",
    "              'lansh' : {0 : np.nan},},\n",
    "              inplace=True)\n",
    "    if data.isnull().sum().sum() > 0:\n",
    "        print(data.isnull().sum())\n",
    "        data.fillna(data.mean(), inplace=True)\n",
    "        \n",
    "    # enconding\n",
    "    onehot = onehot_encoder.transform(data.loc[:, categorical_variables])\n",
    "    X_scaled = X_minmax_scaler.transform(data.loc[:, numerical_variables])\n",
    "    numeric_data_df = pd.DataFrame(X_scaled, columns=numerical_variables)\n",
    "    onehot_data_df = pd.DataFrame(onehot.toarray())\n",
    "\n",
    "    X_data_df = pd.concat([numeric_data_df , onehot_data_df], axis=1)\n",
    "    X_test = np.array(X_data_df)\n",
    "    \n",
    "    # predict and inverse transform\n",
    "    preds = ensemble.predict(X_test)\n",
    "    inverse_transformed_pred = np.expm1(preds)\n",
    "    inverse_transformed_pred = np.where(inverse_transformed_pred < 0, 0, inverse_transformed_pred)\n",
    "    \n",
    "    \n",
    "    result = pd.DataFrame({'prediction' : inverse_transformed_pred}, index=data.fno)\n",
    "    \n",
    "    return result"
   ]
  },
  {
   "cell_type": "code",
   "execution_count": 72,
   "metadata": {},
   "outputs": [
    {
     "data": {
      "text/html": [
       "<div>\n",
       "<style scoped>\n",
       "    .dataframe tbody tr th:only-of-type {\n",
       "        vertical-align: middle;\n",
       "    }\n",
       "\n",
       "    .dataframe tbody tr th {\n",
       "        vertical-align: top;\n",
       "    }\n",
       "\n",
       "    .dataframe thead th {\n",
       "        text-align: right;\n",
       "    }\n",
       "</style>\n",
       "<table border=\"1\" class=\"dataframe\">\n",
       "  <thead>\n",
       "    <tr style=\"text-align: right;\">\n",
       "      <th></th>\n",
       "      <th>prediction</th>\n",
       "    </tr>\n",
       "    <tr>\n",
       "      <th>fno</th>\n",
       "      <th></th>\n",
       "    </tr>\n",
       "  </thead>\n",
       "  <tbody>\n",
       "    <tr>\n",
       "      <th>14009</th>\n",
       "      <td>7205.152686</td>\n",
       "    </tr>\n",
       "    <tr>\n",
       "      <th>14010</th>\n",
       "      <td>5916.499694</td>\n",
       "    </tr>\n",
       "    <tr>\n",
       "      <th>14012</th>\n",
       "      <td>7318.751457</td>\n",
       "    </tr>\n",
       "    <tr>\n",
       "      <th>17074</th>\n",
       "      <td>2555.187355</td>\n",
       "    </tr>\n",
       "    <tr>\n",
       "      <th>17075</th>\n",
       "      <td>2540.441689</td>\n",
       "    </tr>\n",
       "    <tr>\n",
       "      <th>21074</th>\n",
       "      <td>2918.652361</td>\n",
       "    </tr>\n",
       "    <tr>\n",
       "      <th>21075</th>\n",
       "      <td>2883.035182</td>\n",
       "    </tr>\n",
       "    <tr>\n",
       "      <th>21076</th>\n",
       "      <td>10738.127461</td>\n",
       "    </tr>\n",
       "    <tr>\n",
       "      <th>21077</th>\n",
       "      <td>14140.532798</td>\n",
       "    </tr>\n",
       "    <tr>\n",
       "      <th>21143</th>\n",
       "      <td>1814.221986</td>\n",
       "    </tr>\n",
       "    <tr>\n",
       "      <th>22001</th>\n",
       "      <td>2204.270427</td>\n",
       "    </tr>\n",
       "    <tr>\n",
       "      <th>24172</th>\n",
       "      <td>2885.222389</td>\n",
       "    </tr>\n",
       "    <tr>\n",
       "      <th>24214</th>\n",
       "      <td>3027.310521</td>\n",
       "    </tr>\n",
       "    <tr>\n",
       "      <th>25121</th>\n",
       "      <td>8340.858407</td>\n",
       "    </tr>\n",
       "    <tr>\n",
       "      <th>25122</th>\n",
       "      <td>12521.905796</td>\n",
       "    </tr>\n",
       "    <tr>\n",
       "      <th>25139</th>\n",
       "      <td>10588.771907</td>\n",
       "    </tr>\n",
       "    <tr>\n",
       "      <th>25150</th>\n",
       "      <td>11219.161956</td>\n",
       "    </tr>\n",
       "    <tr>\n",
       "      <th>25151</th>\n",
       "      <td>10048.790538</td>\n",
       "    </tr>\n",
       "    <tr>\n",
       "      <th>25152</th>\n",
       "      <td>7589.379968</td>\n",
       "    </tr>\n",
       "    <tr>\n",
       "      <th>26029</th>\n",
       "      <td>3441.297369</td>\n",
       "    </tr>\n",
       "    <tr>\n",
       "      <th>26030</th>\n",
       "      <td>1920.677687</td>\n",
       "    </tr>\n",
       "    <tr>\n",
       "      <th>26032</th>\n",
       "      <td>5270.536192</td>\n",
       "    </tr>\n",
       "    <tr>\n",
       "      <th>26099</th>\n",
       "      <td>3574.549721</td>\n",
       "    </tr>\n",
       "    <tr>\n",
       "      <th>27036</th>\n",
       "      <td>2240.187247</td>\n",
       "    </tr>\n",
       "    <tr>\n",
       "      <th>27044</th>\n",
       "      <td>2858.740075</td>\n",
       "    </tr>\n",
       "    <tr>\n",
       "      <th>27083</th>\n",
       "      <td>2290.152236</td>\n",
       "    </tr>\n",
       "    <tr>\n",
       "      <th>27086</th>\n",
       "      <td>6540.411842</td>\n",
       "    </tr>\n",
       "    <tr>\n",
       "      <th>27107</th>\n",
       "      <td>4438.994945</td>\n",
       "    </tr>\n",
       "    <tr>\n",
       "      <th>27135</th>\n",
       "      <td>3015.950039</td>\n",
       "    </tr>\n",
       "    <tr>\n",
       "      <th>27173</th>\n",
       "      <td>2083.303084</td>\n",
       "    </tr>\n",
       "    <tr>\n",
       "      <th>27175</th>\n",
       "      <td>3387.464525</td>\n",
       "    </tr>\n",
       "    <tr>\n",
       "      <th>28060</th>\n",
       "      <td>1178.262576</td>\n",
       "    </tr>\n",
       "    <tr>\n",
       "      <th>28061</th>\n",
       "      <td>2995.904622</td>\n",
       "    </tr>\n",
       "    <tr>\n",
       "      <th>28113</th>\n",
       "      <td>3028.752738</td>\n",
       "    </tr>\n",
       "    <tr>\n",
       "      <th>28114</th>\n",
       "      <td>3003.918758</td>\n",
       "    </tr>\n",
       "    <tr>\n",
       "      <th>28115</th>\n",
       "      <td>2842.796744</td>\n",
       "    </tr>\n",
       "    <tr>\n",
       "      <th>28116</th>\n",
       "      <td>3543.035034</td>\n",
       "    </tr>\n",
       "    <tr>\n",
       "      <th>28122</th>\n",
       "      <td>2737.239212</td>\n",
       "    </tr>\n",
       "    <tr>\n",
       "      <th>29035</th>\n",
       "      <td>2242.404759</td>\n",
       "    </tr>\n",
       "    <tr>\n",
       "      <th>29036</th>\n",
       "      <td>2014.657186</td>\n",
       "    </tr>\n",
       "    <tr>\n",
       "      <th>29045</th>\n",
       "      <td>2762.560640</td>\n",
       "    </tr>\n",
       "    <tr>\n",
       "      <th>29050</th>\n",
       "      <td>2747.384342</td>\n",
       "    </tr>\n",
       "    <tr>\n",
       "      <th>29105</th>\n",
       "      <td>5922.322890</td>\n",
       "    </tr>\n",
       "    <tr>\n",
       "      <th>29108</th>\n",
       "      <td>2196.301103</td>\n",
       "    </tr>\n",
       "    <tr>\n",
       "      <th>29121</th>\n",
       "      <td>2848.578616</td>\n",
       "    </tr>\n",
       "    <tr>\n",
       "      <th>29122</th>\n",
       "      <td>3261.374909</td>\n",
       "    </tr>\n",
       "    <tr>\n",
       "      <th>29123</th>\n",
       "      <td>3808.483313</td>\n",
       "    </tr>\n",
       "    <tr>\n",
       "      <th>29124</th>\n",
       "      <td>2993.073412</td>\n",
       "    </tr>\n",
       "    <tr>\n",
       "      <th>29125</th>\n",
       "      <td>2722.029151</td>\n",
       "    </tr>\n",
       "    <tr>\n",
       "      <th>29197</th>\n",
       "      <td>1984.867723</td>\n",
       "    </tr>\n",
       "    <tr>\n",
       "      <th>29228</th>\n",
       "      <td>1925.619309</td>\n",
       "    </tr>\n",
       "    <tr>\n",
       "      <th>29229</th>\n",
       "      <td>2767.778897</td>\n",
       "    </tr>\n",
       "  </tbody>\n",
       "</table>\n",
       "</div>"
      ],
      "text/plain": [
       "         prediction\n",
       "fno                \n",
       "14009   7205.152686\n",
       "14010   5916.499694\n",
       "14012   7318.751457\n",
       "17074   2555.187355\n",
       "17075   2540.441689\n",
       "21074   2918.652361\n",
       "21075   2883.035182\n",
       "21076  10738.127461\n",
       "21077  14140.532798\n",
       "21143   1814.221986\n",
       "22001   2204.270427\n",
       "24172   2885.222389\n",
       "24214   3027.310521\n",
       "25121   8340.858407\n",
       "25122  12521.905796\n",
       "25139  10588.771907\n",
       "25150  11219.161956\n",
       "25151  10048.790538\n",
       "25152   7589.379968\n",
       "26029   3441.297369\n",
       "26030   1920.677687\n",
       "26032   5270.536192\n",
       "26099   3574.549721\n",
       "27036   2240.187247\n",
       "27044   2858.740075\n",
       "27083   2290.152236\n",
       "27086   6540.411842\n",
       "27107   4438.994945\n",
       "27135   3015.950039\n",
       "27173   2083.303084\n",
       "27175   3387.464525\n",
       "28060   1178.262576\n",
       "28061   2995.904622\n",
       "28113   3028.752738\n",
       "28114   3003.918758\n",
       "28115   2842.796744\n",
       "28116   3543.035034\n",
       "28122   2737.239212\n",
       "29035   2242.404759\n",
       "29036   2014.657186\n",
       "29045   2762.560640\n",
       "29050   2747.384342\n",
       "29105   5922.322890\n",
       "29108   2196.301103\n",
       "29121   2848.578616\n",
       "29122   3261.374909\n",
       "29123   3808.483313\n",
       "29124   2993.073412\n",
       "29125   2722.029151\n",
       "29197   1984.867723\n",
       "29228   1925.619309\n",
       "29229   2767.778897"
      ]
     },
     "execution_count": 72,
     "metadata": {},
     "output_type": "execute_result"
    }
   ],
   "source": [
    "file_path = './(수정)임산물생산비 마이크로데이터(2020)/(수정)2020년_임산물생산비조사_5.표고톱밥.csv'\n",
    "prediction = prediction(file_path)\n",
    "prediction"
   ]
  },
  {
   "cell_type": "code",
   "execution_count": 73,
   "metadata": {},
   "outputs": [],
   "source": [
    "prediction.to_csv('prediction/2020년_임산물생산비조사_5.표고톱밥_예측값.csv')"
   ]
  },
  {
   "cell_type": "code",
   "execution_count": null,
   "metadata": {},
   "outputs": [],
   "source": []
  }
 ],
 "metadata": {
  "kernelspec": {
   "display_name": "Python 3",
   "language": "python",
   "name": "python3"
  },
  "language_info": {
   "codemirror_mode": {
    "name": "ipython",
    "version": 3
   },
   "file_extension": ".py",
   "mimetype": "text/x-python",
   "name": "python",
   "nbconvert_exporter": "python",
   "pygments_lexer": "ipython3",
   "version": "3.8.8"
  }
 },
 "nbformat": 4,
 "nbformat_minor": 4
}
