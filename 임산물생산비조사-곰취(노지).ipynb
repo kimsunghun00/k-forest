{
 "cells": [
  {
   "cell_type": "markdown",
   "metadata": {},
   "source": [
    "# Load Data"
   ]
  },
  {
   "cell_type": "markdown",
   "metadata": {},
   "source": [
    "## 곰취(노지)"
   ]
  },
  {
   "cell_type": "code",
   "execution_count": 21,
   "metadata": {},
   "outputs": [
    {
     "name": "stdout",
     "output_type": "stream",
     "text": [
      "----------\n",
      "2018 (15, 401) 노지\n",
      "----------\n",
      "2019 (18, 417) 노지\n"
     ]
    }
   ],
   "source": [
    "import os\n",
    "import pandas as pd\n",
    "import numpy as np\n",
    "\n",
    "\n",
    "def load_data(path):\n",
    "    use_cols = ['age1',\n",
    "                'cvl00', 'cvl10',\n",
    "                'labch', 'labh_hour', 'lab_cost',\n",
    "                'fmtc', 'lansh',\n",
    "                'size', 'ara',# catecorical variable\n",
    "                'ydh_ty1'] # dependent variable\n",
    "\n",
    "    dataframe_list = []\n",
    "\n",
    "    # 2018\n",
    "    print('-'*10)\n",
    "    ## 노지\n",
    "    file_path1 = os.path.join(path, '2018년/2018년 임산물생산비조사_통합 데이터_7. 곰취_노지(엑셀 1).xls')\n",
    "    file_path2 = os.path.join(path, '2018년/2018년 임산물생산비조사_통합 데이터_7. 곰취_노지(엑셀 2).xls')\n",
    "\n",
    "    forest_data1 = pd.read_excel(file_path1)\n",
    "    forest_data2 = pd.read_excel(file_path2)\n",
    "    forest_2018 = pd.concat([forest_data1, forest_data2], axis=1)\n",
    "\n",
    "    dataframe_list.append(forest_2018.loc[:,use_cols])\n",
    "    print(2018, forest_2018.shape, '노지')\n",
    "\n",
    "\n",
    "    # 2019\n",
    "    print('-'*10)\n",
    "    file_path = os.path.join(path, '2019년/2019년 임산물생산비조사_통합 데이터_7. 곰취노지.xlsx')\n",
    "    forest_2019 = pd.read_excel(file_path)\n",
    "    dataframe_list.append(forest_2019.loc[:,use_cols])\n",
    "    print(2019, forest_2019.shape, '노지')\n",
    "    \n",
    "\n",
    "    data = pd.concat(dataframe_list, axis=0)\n",
    "    data = data.reset_index(drop=True)\n",
    "    \n",
    "    return data\n",
    "    \n",
    "data = load_data('./임산물생산비조사 마이크로데이터(2010-2019)')"
   ]
  },
  {
   "cell_type": "code",
   "execution_count": 22,
   "metadata": {},
   "outputs": [
    {
     "data": {
      "text/html": [
       "<div>\n",
       "<style scoped>\n",
       "    .dataframe tbody tr th:only-of-type {\n",
       "        vertical-align: middle;\n",
       "    }\n",
       "\n",
       "    .dataframe tbody tr th {\n",
       "        vertical-align: top;\n",
       "    }\n",
       "\n",
       "    .dataframe thead th {\n",
       "        text-align: right;\n",
       "    }\n",
       "</style>\n",
       "<table border=\"1\" class=\"dataframe\">\n",
       "  <thead>\n",
       "    <tr style=\"text-align: right;\">\n",
       "      <th></th>\n",
       "      <th>age1</th>\n",
       "      <th>cvl00</th>\n",
       "      <th>cvl10</th>\n",
       "      <th>labch</th>\n",
       "      <th>labh_hour</th>\n",
       "      <th>lab_cost</th>\n",
       "      <th>fmtc</th>\n",
       "      <th>lansh</th>\n",
       "      <th>size</th>\n",
       "      <th>ara</th>\n",
       "      <th>ydh_ty1</th>\n",
       "    </tr>\n",
       "  </thead>\n",
       "  <tbody>\n",
       "    <tr>\n",
       "      <th>0</th>\n",
       "      <td>62</td>\n",
       "      <td>0.99</td>\n",
       "      <td>0.00</td>\n",
       "      <td>8.210836e+06</td>\n",
       "      <td>554.545455</td>\n",
       "      <td>8128728</td>\n",
       "      <td>1.273100e+07</td>\n",
       "      <td>5.050505e+04</td>\n",
       "      <td>3</td>\n",
       "      <td>32</td>\n",
       "      <td>66.666667</td>\n",
       "    </tr>\n",
       "    <tr>\n",
       "      <th>1</th>\n",
       "      <td>59</td>\n",
       "      <td>0.99</td>\n",
       "      <td>0.99</td>\n",
       "      <td>1.203578e+07</td>\n",
       "      <td>909.090909</td>\n",
       "      <td>11915420</td>\n",
       "      <td>1.627341e+07</td>\n",
       "      <td>3.030303e+05</td>\n",
       "      <td>3</td>\n",
       "      <td>32</td>\n",
       "      <td>242.424242</td>\n",
       "    </tr>\n",
       "    <tr>\n",
       "      <th>2</th>\n",
       "      <td>63</td>\n",
       "      <td>0.50</td>\n",
       "      <td>0.50</td>\n",
       "      <td>5.294418e+07</td>\n",
       "      <td>4966.000000</td>\n",
       "      <td>26472092</td>\n",
       "      <td>9.012811e+07</td>\n",
       "      <td>6.000000e+06</td>\n",
       "      <td>3</td>\n",
       "      <td>32</td>\n",
       "      <td>25800.000000</td>\n",
       "    </tr>\n",
       "    <tr>\n",
       "      <th>3</th>\n",
       "      <td>57</td>\n",
       "      <td>0.10</td>\n",
       "      <td>0.10</td>\n",
       "      <td>3.136477e+07</td>\n",
       "      <td>2620.000000</td>\n",
       "      <td>3136477</td>\n",
       "      <td>3.608149e+07</td>\n",
       "      <td>5.000000e+05</td>\n",
       "      <td>1</td>\n",
       "      <td>32</td>\n",
       "      <td>580.000000</td>\n",
       "    </tr>\n",
       "    <tr>\n",
       "      <th>4</th>\n",
       "      <td>48</td>\n",
       "      <td>0.16</td>\n",
       "      <td>0.16</td>\n",
       "      <td>5.339531e+06</td>\n",
       "      <td>525.000000</td>\n",
       "      <td>854325</td>\n",
       "      <td>2.249433e+07</td>\n",
       "      <td>9.375000e+05</td>\n",
       "      <td>1</td>\n",
       "      <td>32</td>\n",
       "      <td>262.500000</td>\n",
       "    </tr>\n",
       "    <tr>\n",
       "      <th>5</th>\n",
       "      <td>78</td>\n",
       "      <td>0.16</td>\n",
       "      <td>0.16</td>\n",
       "      <td>1.013168e+07</td>\n",
       "      <td>837.500000</td>\n",
       "      <td>1621068</td>\n",
       "      <td>2.846599e+07</td>\n",
       "      <td>1.249988e+06</td>\n",
       "      <td>1</td>\n",
       "      <td>32</td>\n",
       "      <td>112.500000</td>\n",
       "    </tr>\n",
       "    <tr>\n",
       "      <th>6</th>\n",
       "      <td>64</td>\n",
       "      <td>0.03</td>\n",
       "      <td>0.03</td>\n",
       "      <td>4.109667e+07</td>\n",
       "      <td>4200.000000</td>\n",
       "      <td>1232900</td>\n",
       "      <td>6.569965e+07</td>\n",
       "      <td>3.333333e+06</td>\n",
       "      <td>1</td>\n",
       "      <td>32</td>\n",
       "      <td>1400.000000</td>\n",
       "    </tr>\n",
       "    <tr>\n",
       "      <th>7</th>\n",
       "      <td>69</td>\n",
       "      <td>0.50</td>\n",
       "      <td>0.00</td>\n",
       "      <td>1.152134e+07</td>\n",
       "      <td>948.000000</td>\n",
       "      <td>5760668</td>\n",
       "      <td>1.576358e+07</td>\n",
       "      <td>2.000000e+05</td>\n",
       "      <td>2</td>\n",
       "      <td>36</td>\n",
       "      <td>492.000000</td>\n",
       "    </tr>\n",
       "    <tr>\n",
       "      <th>8</th>\n",
       "      <td>80</td>\n",
       "      <td>0.53</td>\n",
       "      <td>0.53</td>\n",
       "      <td>2.186622e+07</td>\n",
       "      <td>1813.207547</td>\n",
       "      <td>11589094</td>\n",
       "      <td>3.027288e+07</td>\n",
       "      <td>9.433962e+04</td>\n",
       "      <td>1</td>\n",
       "      <td>36</td>\n",
       "      <td>4811.320755</td>\n",
       "    </tr>\n",
       "    <tr>\n",
       "      <th>9</th>\n",
       "      <td>68</td>\n",
       "      <td>0.63</td>\n",
       "      <td>0.63</td>\n",
       "      <td>7.507275e+06</td>\n",
       "      <td>738.095238</td>\n",
       "      <td>4729583</td>\n",
       "      <td>1.309796e+07</td>\n",
       "      <td>2.380952e+05</td>\n",
       "      <td>3</td>\n",
       "      <td>36</td>\n",
       "      <td>1177.777778</td>\n",
       "    </tr>\n",
       "    <tr>\n",
       "      <th>10</th>\n",
       "      <td>77</td>\n",
       "      <td>0.44</td>\n",
       "      <td>0.44</td>\n",
       "      <td>1.603032e+07</td>\n",
       "      <td>1327.272727</td>\n",
       "      <td>7053340</td>\n",
       "      <td>2.335724e+07</td>\n",
       "      <td>1.659091e+05</td>\n",
       "      <td>1</td>\n",
       "      <td>36</td>\n",
       "      <td>1213.636364</td>\n",
       "    </tr>\n",
       "    <tr>\n",
       "      <th>11</th>\n",
       "      <td>64</td>\n",
       "      <td>0.32</td>\n",
       "      <td>0.32</td>\n",
       "      <td>7.052316e+06</td>\n",
       "      <td>665.625000</td>\n",
       "      <td>2256741</td>\n",
       "      <td>1.379330e+07</td>\n",
       "      <td>9.375000e+04</td>\n",
       "      <td>1</td>\n",
       "      <td>36</td>\n",
       "      <td>309.375000</td>\n",
       "    </tr>\n",
       "    <tr>\n",
       "      <th>12</th>\n",
       "      <td>72</td>\n",
       "      <td>0.46</td>\n",
       "      <td>0.46</td>\n",
       "      <td>3.163608e+07</td>\n",
       "      <td>2667.391304</td>\n",
       "      <td>14552599</td>\n",
       "      <td>4.035849e+07</td>\n",
       "      <td>6.521739e+05</td>\n",
       "      <td>2</td>\n",
       "      <td>36</td>\n",
       "      <td>3286.956522</td>\n",
       "    </tr>\n",
       "    <tr>\n",
       "      <th>13</th>\n",
       "      <td>66</td>\n",
       "      <td>0.41</td>\n",
       "      <td>0.41</td>\n",
       "      <td>2.093055e+07</td>\n",
       "      <td>1975.609756</td>\n",
       "      <td>8581525</td>\n",
       "      <td>3.076194e+07</td>\n",
       "      <td>3.570732e+05</td>\n",
       "      <td>2</td>\n",
       "      <td>36</td>\n",
       "      <td>2414.634146</td>\n",
       "    </tr>\n",
       "    <tr>\n",
       "      <th>14</th>\n",
       "      <td>80</td>\n",
       "      <td>0.91</td>\n",
       "      <td>0.91</td>\n",
       "      <td>2.344835e+07</td>\n",
       "      <td>1946.153846</td>\n",
       "      <td>21337997</td>\n",
       "      <td>3.563097e+07</td>\n",
       "      <td>2.835165e+05</td>\n",
       "      <td>3</td>\n",
       "      <td>36</td>\n",
       "      <td>3210.989011</td>\n",
       "    </tr>\n",
       "    <tr>\n",
       "      <th>15</th>\n",
       "      <td>64</td>\n",
       "      <td>0.99</td>\n",
       "      <td>0.00</td>\n",
       "      <td>4.269693e+06</td>\n",
       "      <td>276.767677</td>\n",
       "      <td>4226996</td>\n",
       "      <td>9.162710e+06</td>\n",
       "      <td>2.020202e+04</td>\n",
       "      <td>3</td>\n",
       "      <td>32</td>\n",
       "      <td>76.767677</td>\n",
       "    </tr>\n",
       "    <tr>\n",
       "      <th>16</th>\n",
       "      <td>61</td>\n",
       "      <td>0.99</td>\n",
       "      <td>0.99</td>\n",
       "      <td>1.400823e+07</td>\n",
       "      <td>970.707071</td>\n",
       "      <td>13868152</td>\n",
       "      <td>2.168722e+07</td>\n",
       "      <td>2.195455e+05</td>\n",
       "      <td>3</td>\n",
       "      <td>32</td>\n",
       "      <td>440.404040</td>\n",
       "    </tr>\n",
       "    <tr>\n",
       "      <th>17</th>\n",
       "      <td>65</td>\n",
       "      <td>0.50</td>\n",
       "      <td>0.50</td>\n",
       "      <td>3.912396e+07</td>\n",
       "      <td>3082.000000</td>\n",
       "      <td>19561981</td>\n",
       "      <td>4.905703e+07</td>\n",
       "      <td>4.347000e+06</td>\n",
       "      <td>3</td>\n",
       "      <td>32</td>\n",
       "      <td>2744.000000</td>\n",
       "    </tr>\n",
       "    <tr>\n",
       "      <th>18</th>\n",
       "      <td>64</td>\n",
       "      <td>0.10</td>\n",
       "      <td>0.10</td>\n",
       "      <td>5.274860e+07</td>\n",
       "      <td>4830.000000</td>\n",
       "      <td>5274860</td>\n",
       "      <td>6.227287e+07</td>\n",
       "      <td>3.015640e+06</td>\n",
       "      <td>1</td>\n",
       "      <td>32</td>\n",
       "      <td>13470.000000</td>\n",
       "    </tr>\n",
       "    <tr>\n",
       "      <th>19</th>\n",
       "      <td>56</td>\n",
       "      <td>0.10</td>\n",
       "      <td>0.10</td>\n",
       "      <td>2.616321e+07</td>\n",
       "      <td>2630.000000</td>\n",
       "      <td>2616321</td>\n",
       "      <td>4.897527e+07</td>\n",
       "      <td>1.884780e+06</td>\n",
       "      <td>1</td>\n",
       "      <td>32</td>\n",
       "      <td>6860.000000</td>\n",
       "    </tr>\n",
       "    <tr>\n",
       "      <th>20</th>\n",
       "      <td>59</td>\n",
       "      <td>0.10</td>\n",
       "      <td>0.10</td>\n",
       "      <td>5.563550e+06</td>\n",
       "      <td>450.000000</td>\n",
       "      <td>556355</td>\n",
       "      <td>1.077008e+07</td>\n",
       "      <td>3.622500e+05</td>\n",
       "      <td>1</td>\n",
       "      <td>32</td>\n",
       "      <td>440.000000</td>\n",
       "    </tr>\n",
       "    <tr>\n",
       "      <th>21</th>\n",
       "      <td>50</td>\n",
       "      <td>0.10</td>\n",
       "      <td>0.10</td>\n",
       "      <td>1.798990e+06</td>\n",
       "      <td>160.000000</td>\n",
       "      <td>179899</td>\n",
       "      <td>1.308527e+07</td>\n",
       "      <td>3.769560e+06</td>\n",
       "      <td>1</td>\n",
       "      <td>32</td>\n",
       "      <td>620.000000</td>\n",
       "    </tr>\n",
       "    <tr>\n",
       "      <th>22</th>\n",
       "      <td>57</td>\n",
       "      <td>0.20</td>\n",
       "      <td>0.10</td>\n",
       "      <td>3.485974e+07</td>\n",
       "      <td>2965.000000</td>\n",
       "      <td>6971949</td>\n",
       "      <td>4.503253e+07</td>\n",
       "      <td>2.184780e+06</td>\n",
       "      <td>1</td>\n",
       "      <td>32</td>\n",
       "      <td>6860.000000</td>\n",
       "    </tr>\n",
       "    <tr>\n",
       "      <th>23</th>\n",
       "      <td>80</td>\n",
       "      <td>0.16</td>\n",
       "      <td>0.16</td>\n",
       "      <td>5.671144e+06</td>\n",
       "      <td>443.750000</td>\n",
       "      <td>907383</td>\n",
       "      <td>1.491076e+07</td>\n",
       "      <td>8.802375e+05</td>\n",
       "      <td>1</td>\n",
       "      <td>32</td>\n",
       "      <td>237.500000</td>\n",
       "    </tr>\n",
       "    <tr>\n",
       "      <th>24</th>\n",
       "      <td>65</td>\n",
       "      <td>0.10</td>\n",
       "      <td>0.10</td>\n",
       "      <td>8.668820e+06</td>\n",
       "      <td>850.000000</td>\n",
       "      <td>866882</td>\n",
       "      <td>3.102970e+07</td>\n",
       "      <td>7.539200e+05</td>\n",
       "      <td>1</td>\n",
       "      <td>32</td>\n",
       "      <td>1000.000000</td>\n",
       "    </tr>\n",
       "    <tr>\n",
       "      <th>25</th>\n",
       "      <td>71</td>\n",
       "      <td>0.10</td>\n",
       "      <td>0.10</td>\n",
       "      <td>4.552461e+07</td>\n",
       "      <td>3890.000000</td>\n",
       "      <td>4552461</td>\n",
       "      <td>8.820028e+07</td>\n",
       "      <td>3.622500e+05</td>\n",
       "      <td>1</td>\n",
       "      <td>36</td>\n",
       "      <td>3120.000000</td>\n",
       "    </tr>\n",
       "    <tr>\n",
       "      <th>26</th>\n",
       "      <td>82</td>\n",
       "      <td>0.16</td>\n",
       "      <td>0.16</td>\n",
       "      <td>6.251239e+07</td>\n",
       "      <td>5325.000000</td>\n",
       "      <td>10001983</td>\n",
       "      <td>9.990793e+07</td>\n",
       "      <td>2.264062e+05</td>\n",
       "      <td>1</td>\n",
       "      <td>36</td>\n",
       "      <td>34968.750000</td>\n",
       "    </tr>\n",
       "    <tr>\n",
       "      <th>27</th>\n",
       "      <td>70</td>\n",
       "      <td>0.50</td>\n",
       "      <td>0.50</td>\n",
       "      <td>7.858826e+06</td>\n",
       "      <td>710.000000</td>\n",
       "      <td>3929413</td>\n",
       "      <td>1.505010e+07</td>\n",
       "      <td>2.173500e+05</td>\n",
       "      <td>3</td>\n",
       "      <td>36</td>\n",
       "      <td>1522.000000</td>\n",
       "    </tr>\n",
       "    <tr>\n",
       "      <th>28</th>\n",
       "      <td>79</td>\n",
       "      <td>0.25</td>\n",
       "      <td>0.25</td>\n",
       "      <td>2.987372e+07</td>\n",
       "      <td>2724.000000</td>\n",
       "      <td>7468429</td>\n",
       "      <td>3.770519e+07</td>\n",
       "      <td>2.115560e+05</td>\n",
       "      <td>1</td>\n",
       "      <td>36</td>\n",
       "      <td>2300.000000</td>\n",
       "    </tr>\n",
       "    <tr>\n",
       "      <th>29</th>\n",
       "      <td>66</td>\n",
       "      <td>0.16</td>\n",
       "      <td>0.16</td>\n",
       "      <td>1.587696e+07</td>\n",
       "      <td>1537.500000</td>\n",
       "      <td>2540314</td>\n",
       "      <td>2.965173e+07</td>\n",
       "      <td>1.358438e+05</td>\n",
       "      <td>1</td>\n",
       "      <td>36</td>\n",
       "      <td>1168.750000</td>\n",
       "    </tr>\n",
       "    <tr>\n",
       "      <th>30</th>\n",
       "      <td>74</td>\n",
       "      <td>0.33</td>\n",
       "      <td>0.33</td>\n",
       "      <td>3.876487e+07</td>\n",
       "      <td>3460.606061</td>\n",
       "      <td>12792407</td>\n",
       "      <td>5.530287e+07</td>\n",
       "      <td>6.586364e+05</td>\n",
       "      <td>2</td>\n",
       "      <td>36</td>\n",
       "      <td>9824.242424</td>\n",
       "    </tr>\n",
       "    <tr>\n",
       "      <th>31</th>\n",
       "      <td>68</td>\n",
       "      <td>0.39</td>\n",
       "      <td>0.39</td>\n",
       "      <td>2.034475e+07</td>\n",
       "      <td>1851.282051</td>\n",
       "      <td>7934454</td>\n",
       "      <td>3.784529e+07</td>\n",
       "      <td>2.719692e+05</td>\n",
       "      <td>2</td>\n",
       "      <td>36</td>\n",
       "      <td>4669.230769</td>\n",
       "    </tr>\n",
       "    <tr>\n",
       "      <th>32</th>\n",
       "      <td>82</td>\n",
       "      <td>0.86</td>\n",
       "      <td>0.86</td>\n",
       "      <td>2.175118e+07</td>\n",
       "      <td>1891.860465</td>\n",
       "      <td>18706015</td>\n",
       "      <td>3.349739e+07</td>\n",
       "      <td>2.181942e+05</td>\n",
       "      <td>3</td>\n",
       "      <td>36</td>\n",
       "      <td>5673.255814</td>\n",
       "    </tr>\n",
       "  </tbody>\n",
       "</table>\n",
       "</div>"
      ],
      "text/plain": [
       "    age1  cvl00  cvl10         labch    labh_hour  lab_cost          fmtc  \\\n",
       "0     62   0.99   0.00  8.210836e+06   554.545455   8128728  1.273100e+07   \n",
       "1     59   0.99   0.99  1.203578e+07   909.090909  11915420  1.627341e+07   \n",
       "2     63   0.50   0.50  5.294418e+07  4966.000000  26472092  9.012811e+07   \n",
       "3     57   0.10   0.10  3.136477e+07  2620.000000   3136477  3.608149e+07   \n",
       "4     48   0.16   0.16  5.339531e+06   525.000000    854325  2.249433e+07   \n",
       "5     78   0.16   0.16  1.013168e+07   837.500000   1621068  2.846599e+07   \n",
       "6     64   0.03   0.03  4.109667e+07  4200.000000   1232900  6.569965e+07   \n",
       "7     69   0.50   0.00  1.152134e+07   948.000000   5760668  1.576358e+07   \n",
       "8     80   0.53   0.53  2.186622e+07  1813.207547  11589094  3.027288e+07   \n",
       "9     68   0.63   0.63  7.507275e+06   738.095238   4729583  1.309796e+07   \n",
       "10    77   0.44   0.44  1.603032e+07  1327.272727   7053340  2.335724e+07   \n",
       "11    64   0.32   0.32  7.052316e+06   665.625000   2256741  1.379330e+07   \n",
       "12    72   0.46   0.46  3.163608e+07  2667.391304  14552599  4.035849e+07   \n",
       "13    66   0.41   0.41  2.093055e+07  1975.609756   8581525  3.076194e+07   \n",
       "14    80   0.91   0.91  2.344835e+07  1946.153846  21337997  3.563097e+07   \n",
       "15    64   0.99   0.00  4.269693e+06   276.767677   4226996  9.162710e+06   \n",
       "16    61   0.99   0.99  1.400823e+07   970.707071  13868152  2.168722e+07   \n",
       "17    65   0.50   0.50  3.912396e+07  3082.000000  19561981  4.905703e+07   \n",
       "18    64   0.10   0.10  5.274860e+07  4830.000000   5274860  6.227287e+07   \n",
       "19    56   0.10   0.10  2.616321e+07  2630.000000   2616321  4.897527e+07   \n",
       "20    59   0.10   0.10  5.563550e+06   450.000000    556355  1.077008e+07   \n",
       "21    50   0.10   0.10  1.798990e+06   160.000000    179899  1.308527e+07   \n",
       "22    57   0.20   0.10  3.485974e+07  2965.000000   6971949  4.503253e+07   \n",
       "23    80   0.16   0.16  5.671144e+06   443.750000    907383  1.491076e+07   \n",
       "24    65   0.10   0.10  8.668820e+06   850.000000    866882  3.102970e+07   \n",
       "25    71   0.10   0.10  4.552461e+07  3890.000000   4552461  8.820028e+07   \n",
       "26    82   0.16   0.16  6.251239e+07  5325.000000  10001983  9.990793e+07   \n",
       "27    70   0.50   0.50  7.858826e+06   710.000000   3929413  1.505010e+07   \n",
       "28    79   0.25   0.25  2.987372e+07  2724.000000   7468429  3.770519e+07   \n",
       "29    66   0.16   0.16  1.587696e+07  1537.500000   2540314  2.965173e+07   \n",
       "30    74   0.33   0.33  3.876487e+07  3460.606061  12792407  5.530287e+07   \n",
       "31    68   0.39   0.39  2.034475e+07  1851.282051   7934454  3.784529e+07   \n",
       "32    82   0.86   0.86  2.175118e+07  1891.860465  18706015  3.349739e+07   \n",
       "\n",
       "           lansh  size  ara       ydh_ty1  \n",
       "0   5.050505e+04     3   32     66.666667  \n",
       "1   3.030303e+05     3   32    242.424242  \n",
       "2   6.000000e+06     3   32  25800.000000  \n",
       "3   5.000000e+05     1   32    580.000000  \n",
       "4   9.375000e+05     1   32    262.500000  \n",
       "5   1.249988e+06     1   32    112.500000  \n",
       "6   3.333333e+06     1   32   1400.000000  \n",
       "7   2.000000e+05     2   36    492.000000  \n",
       "8   9.433962e+04     1   36   4811.320755  \n",
       "9   2.380952e+05     3   36   1177.777778  \n",
       "10  1.659091e+05     1   36   1213.636364  \n",
       "11  9.375000e+04     1   36    309.375000  \n",
       "12  6.521739e+05     2   36   3286.956522  \n",
       "13  3.570732e+05     2   36   2414.634146  \n",
       "14  2.835165e+05     3   36   3210.989011  \n",
       "15  2.020202e+04     3   32     76.767677  \n",
       "16  2.195455e+05     3   32    440.404040  \n",
       "17  4.347000e+06     3   32   2744.000000  \n",
       "18  3.015640e+06     1   32  13470.000000  \n",
       "19  1.884780e+06     1   32   6860.000000  \n",
       "20  3.622500e+05     1   32    440.000000  \n",
       "21  3.769560e+06     1   32    620.000000  \n",
       "22  2.184780e+06     1   32   6860.000000  \n",
       "23  8.802375e+05     1   32    237.500000  \n",
       "24  7.539200e+05     1   32   1000.000000  \n",
       "25  3.622500e+05     1   36   3120.000000  \n",
       "26  2.264062e+05     1   36  34968.750000  \n",
       "27  2.173500e+05     3   36   1522.000000  \n",
       "28  2.115560e+05     1   36   2300.000000  \n",
       "29  1.358438e+05     1   36   1168.750000  \n",
       "30  6.586364e+05     2   36   9824.242424  \n",
       "31  2.719692e+05     2   36   4669.230769  \n",
       "32  2.181942e+05     3   36   5673.255814  "
      ]
     },
     "execution_count": 22,
     "metadata": {},
     "output_type": "execute_result"
    }
   ],
   "source": [
    "data"
   ]
  },
  {
   "cell_type": "code",
   "execution_count": 23,
   "metadata": {},
   "outputs": [
    {
     "name": "stdout",
     "output_type": "stream",
     "text": [
      "0\n",
      "(33, 11)\n"
     ]
    }
   ],
   "source": [
    "print(np.sum(data['ydh_ty1'] == 0))\n",
    "data.drop(data[data['ydh_ty1'] == 0].index, inplace=True)\n",
    "print(data.shape)"
   ]
  },
  {
   "cell_type": "code",
   "execution_count": 24,
   "metadata": {},
   "outputs": [
    {
     "data": {
      "text/plain": [
       "age1         0\n",
       "cvl00        0\n",
       "cvl10        0\n",
       "labch        0\n",
       "labh_hour    0\n",
       "lab_cost     0\n",
       "fmtc         0\n",
       "lansh        0\n",
       "size         0\n",
       "ara          0\n",
       "ydh_ty1      0\n",
       "dtype: int64"
      ]
     },
     "execution_count": 24,
     "metadata": {},
     "output_type": "execute_result"
    }
   ],
   "source": [
    "data.isnull().sum()"
   ]
  },
  {
   "cell_type": "code",
   "execution_count": 25,
   "metadata": {},
   "outputs": [
    {
     "data": {
      "text/plain": [
       "age1         0\n",
       "cvl00        0\n",
       "cvl10        0\n",
       "labch        0\n",
       "labh_hour    0\n",
       "lab_cost     0\n",
       "fmtc         0\n",
       "lansh        0\n",
       "size         0\n",
       "ara          0\n",
       "ydh_ty1      0\n",
       "dtype: int64"
      ]
     },
     "execution_count": 25,
     "metadata": {},
     "output_type": "execute_result"
    }
   ],
   "source": [
    "data.fillna(data.mean(), inplace=True)\n",
    "data.isnull().sum()"
   ]
  },
  {
   "cell_type": "code",
   "execution_count": 26,
   "metadata": {},
   "outputs": [
    {
     "name": "stdout",
     "output_type": "stream",
     "text": [
      "1    18\n",
      "3    10\n",
      "2     5\n",
      "Name: size, dtype: int64\n",
      "\n",
      "32    17\n",
      "36    16\n",
      "Name: ara, dtype: int64\n",
      "\n"
     ]
    }
   ],
   "source": [
    "for column in data.columns:\n",
    "    if len(data[column].value_counts()) <= 10:\n",
    "        print(data[column].value_counts())\n",
    "        print()"
   ]
  },
  {
   "cell_type": "code",
   "execution_count": 27,
   "metadata": {
    "scrolled": false
   },
   "outputs": [
    {
     "data": {
      "image/png": "[encoded data removed]",
      "text/plain": [
       "<Figure size 432x288 with 1 Axes>"
      ]
     },
     "metadata": {
      "needs_background": "light"
     },
     "output_type": "display_data"
    },
    {
     "data": {
      "image/png": "[encoded data removed]",
      "text/plain": [
       "<Figure size 432x288 with 1 Axes>"
      ]
     },
     "metadata": {
      "needs_background": "light"
     },
     "output_type": "display_data"
    },
    {
     "data": {
      "image/png": "[encoded data removed]",
      "text/plain": [
       "<Figure size 432x288 with 1 Axes>"
      ]
     },
     "metadata": {
      "needs_background": "light"
     },
     "output_type": "display_data"
    },
    {
     "data": {
      "image/png": "[encoded data removed]",
      "text/plain": [
       "<Figure size 432x288 with 1 Axes>"
      ]
     },
     "metadata": {
      "needs_background": "light"
     },
     "output_type": "display_data"
    },
    {
     "data": {
      "image/png": "[encoded data removed]",
      "text/plain": [
       "<Figure size 432x288 with 1 Axes>"
      ]
     },
     "metadata": {
      "needs_background": "light"
     },
     "output_type": "display_data"
    },
    {
     "data": {
      "image/png": "[encoded data removed]",
      "text/plain": [
       "<Figure size 432x288 with 1 Axes>"
      ]
     },
     "metadata": {
      "needs_background": "light"
     },
     "output_type": "display_data"
    },
    {
     "data": {
      "image/png": "[encoded data removed]",
      "text/plain": [
       "<Figure size 432x288 with 1 Axes>"
      ]
     },
     "metadata": {
      "needs_background": "light"
     },
     "output_type": "display_data"
    },
    {
     "data": {
      "image/png": "[encoded data removed]",
      "text/plain": [
       "<Figure size 432x288 with 1 Axes>"
      ]
     },
     "metadata": {
      "needs_background": "light"
     },
     "output_type": "display_data"
    },
    {
     "data": {
      "image/png": "[encoded data removed]",
      "text/plain": [
       "<Figure size 432x288 with 1 Axes>"
      ]
     },
     "metadata": {
      "needs_background": "light"
     },
     "output_type": "display_data"
    },
    {
     "data": {
      "image/png": "[encoded data removed]",
      "text/plain": [
       "<Figure size 432x288 with 1 Axes>"
      ]
     },
     "metadata": {
      "needs_background": "light"
     },
     "output_type": "display_data"
    },
    {
     "data": {
      "image/png": "[encoded data removed]",
      "text/plain": [
       "<Figure size 432x288 with 1 Axes>"
      ]
     },
     "metadata": {
      "needs_background": "light"
     },
     "output_type": "display_data"
    }
   ],
   "source": [
    "import matplotlib.pyplot as plt\n",
    "%matplotlib inline\n",
    "\n",
    "for column in data.columns:\n",
    "    data[column].hist()\n",
    "    plt.title(column)\n",
    "    plt.show()"
   ]
  },
  {
   "cell_type": "markdown",
   "metadata": {},
   "source": [
    "## Log Transform"
   ]
  },
  {
   "cell_type": "code",
   "execution_count": 28,
   "metadata": {},
   "outputs": [],
   "source": [
    "data.loc[:, ['cvl00', 'cvl10']] = np.log1p(data.loc[:, ['cvl00','cvl10']])\n",
    "data.loc[:, ['fmtc', 'lansh']] = np.log1p(data.loc[:, ['fmtc', 'lansh']])\n",
    "data.loc[:, ['labch', 'labh_hour', 'lab_cost']] = np.log1p(data.loc[:, ['labch', 'labh_hour', 'lab_cost']])"
   ]
  },
  {
   "cell_type": "code",
   "execution_count": 29,
   "metadata": {},
   "outputs": [],
   "source": [
    "data['ydh_ty1'] = np.log1p(data['ydh_ty1'])"
   ]
  },
  {
   "cell_type": "code",
   "execution_count": 30,
   "metadata": {},
   "outputs": [
    {
     "data": {
      "image/png": "[encoded data removed]",
      "text/plain": [
       "<Figure size 432x288 with 1 Axes>"
      ]
     },
     "metadata": {
      "needs_background": "light"
     },
     "output_type": "display_data"
    },
    {
     "data": {
      "image/png": "[encoded data removed]",
      "text/plain": [
       "<Figure size 432x288 with 1 Axes>"
      ]
     },
     "metadata": {
      "needs_background": "light"
     },
     "output_type": "display_data"
    },
    {
     "data": {
      "image/png": "[encoded data removed]",
      "text/plain": [
       "<Figure size 432x288 with 1 Axes>"
      ]
     },
     "metadata": {
      "needs_background": "light"
     },
     "output_type": "display_data"
    },
    {
     "data": {
      "image/png": "[encoded data removed]",
      "text/plain": [
       "<Figure size 432x288 with 1 Axes>"
      ]
     },
     "metadata": {
      "needs_background": "light"
     },
     "output_type": "display_data"
    },
    {
     "data": {
      "image/png": "[encoded data removed]",
      "text/plain": [
       "<Figure size 432x288 with 1 Axes>"
      ]
     },
     "metadata": {
      "needs_background": "light"
     },
     "output_type": "display_data"
    }
   ],
   "source": [
    "import seaborn as sns\n",
    "\n",
    "sns.scatterplot(x='fmtc', y='ydh_ty1', data=data)\n",
    "plt.show()\n",
    "\n",
    "sns.scatterplot(x='labch', y='ydh_ty1', data=data)\n",
    "plt.show()\n",
    "\n",
    "sns.scatterplot(x='labh_hour', y='ydh_ty1', data=data)\n",
    "plt.show()\n",
    "\n",
    "sns.scatterplot(x='lab_cost', y='ydh_ty1', data=data)\n",
    "plt.show()\n",
    "\n",
    "sns.scatterplot(x='lansh', y='ydh_ty1', data=data)\n",
    "plt.show()"
   ]
  },
  {
   "cell_type": "markdown",
   "metadata": {},
   "source": [
    "## NaN Check"
   ]
  },
  {
   "cell_type": "code",
   "execution_count": 31,
   "metadata": {},
   "outputs": [],
   "source": [
    "data.replace({'labch' : {0 : np.nan},\n",
    "              'labh_hour' : {0 : np.nan},\n",
    "              'lab_cost' : {0 : np.nan},\n",
    "              'lansh' : {0 : np.nan}},\n",
    "             inplace=True)"
   ]
  },
  {
   "cell_type": "code",
   "execution_count": 32,
   "metadata": {},
   "outputs": [
    {
     "data": {
      "text/plain": [
       "age1         0\n",
       "cvl00        0\n",
       "cvl10        0\n",
       "labch        0\n",
       "labh_hour    0\n",
       "lab_cost     0\n",
       "fmtc         0\n",
       "lansh        0\n",
       "size         0\n",
       "ara          0\n",
       "ydh_ty1      0\n",
       "dtype: int64"
      ]
     },
     "execution_count": 32,
     "metadata": {},
     "output_type": "execute_result"
    }
   ],
   "source": [
    "data.isnull().sum()"
   ]
  },
  {
   "cell_type": "code",
   "execution_count": 33,
   "metadata": {},
   "outputs": [],
   "source": [
    "data.dropna(axis=0, inplace=True)"
   ]
  },
  {
   "cell_type": "code",
   "execution_count": 34,
   "metadata": {},
   "outputs": [
    {
     "data": {
      "image/png": "[encoded data removed]",
      "text/plain": [
       "<Figure size 432x288 with 1 Axes>"
      ]
     },
     "metadata": {
      "needs_background": "light"
     },
     "output_type": "display_data"
    },
    {
     "data": {
      "image/png": "[encoded data removed]",
      "text/plain": [
       "<Figure size 432x288 with 1 Axes>"
      ]
     },
     "metadata": {
      "needs_background": "light"
     },
     "output_type": "display_data"
    },
    {
     "data": {
      "image/png": "[encoded data removed]",
      "text/plain": [
       "<Figure size 432x288 with 1 Axes>"
      ]
     },
     "metadata": {
      "needs_background": "light"
     },
     "output_type": "display_data"
    }
   ],
   "source": [
    "sns.scatterplot(x='fmtc', y='ydh_ty1', data=data)\n",
    "plt.show()\n",
    "\n",
    "sns.scatterplot(x='labch', y='ydh_ty1', data=data)\n",
    "plt.show()\n",
    "\n",
    "sns.scatterplot(x='labh_hour', y='ydh_ty1', data=data)\n",
    "plt.show()"
   ]
  },
  {
   "cell_type": "code",
   "execution_count": 35,
   "metadata": {
    "scrolled": false
   },
   "outputs": [
    {
     "data": {
      "image/png": "[encoded data removed]",
      "text/plain": [
       "<Figure size 432x288 with 1 Axes>"
      ]
     },
     "metadata": {
      "needs_background": "light"
     },
     "output_type": "display_data"
    },
    {
     "data": {
      "image/png": "[encoded data removed]",
      "text/plain": [
       "<Figure size 432x288 with 1 Axes>"
      ]
     },
     "metadata": {
      "needs_background": "light"
     },
     "output_type": "display_data"
    },
    {
     "data": {
      "image/png": "[encoded data removed]",
      "text/plain": [
       "<Figure size 432x288 with 1 Axes>"
      ]
     },
     "metadata": {
      "needs_background": "light"
     },
     "output_type": "display_data"
    },
    {
     "data": {
      "image/png": "[encoded data removed]",
      "text/plain": [
       "<Figure size 432x288 with 1 Axes>"
      ]
     },
     "metadata": {
      "needs_background": "light"
     },
     "output_type": "display_data"
    },
    {
     "data": {
      "image/png": "[encoded data removed]",
      "text/plain": [
       "<Figure size 432x288 with 1 Axes>"
      ]
     },
     "metadata": {
      "needs_background": "light"
     },
     "output_type": "display_data"
    },
    {
     "data": {
      "image/png": "[encoded data removed]",
      "text/plain": [
       "<Figure size 432x288 with 1 Axes>"
      ]
     },
     "metadata": {
      "needs_background": "light"
     },
     "output_type": "display_data"
    },
    {
     "data": {
      "image/png": "[encoded data removed]",
      "text/plain": [
       "<Figure size 432x288 with 1 Axes>"
      ]
     },
     "metadata": {
      "needs_background": "light"
     },
     "output_type": "display_data"
    },
    {
     "data": {
      "image/png": "[encoded data removed]",
      "text/plain": [
       "<Figure size 432x288 with 1 Axes>"
      ]
     },
     "metadata": {
      "needs_background": "light"
     },
     "output_type": "display_data"
    },
    {
     "data": {
      "image/png": "[encoded data removed]",
      "text/plain": [
       "<Figure size 432x288 with 1 Axes>"
      ]
     },
     "metadata": {
      "needs_background": "light"
     },
     "output_type": "display_data"
    },
    {
     "data": {
      "image/png": "[encoded data removed]",
      "text/plain": [
       "<Figure size 432x288 with 1 Axes>"
      ]
     },
     "metadata": {
      "needs_background": "light"
     },
     "output_type": "display_data"
    },
    {
     "data": {
      "image/png": "[encoded data removed]",
      "text/plain": [
       "<Figure size 432x288 with 1 Axes>"
      ]
     },
     "metadata": {
      "needs_background": "light"
     },
     "output_type": "display_data"
    }
   ],
   "source": [
    "for column in data.columns:\n",
    "    data[column].hist()\n",
    "    plt.title(column)\n",
    "    plt.show()"
   ]
  },
  {
   "cell_type": "markdown",
   "metadata": {},
   "source": [
    "## Categorical Variable processing"
   ]
  },
  {
   "cell_type": "code",
   "execution_count": 37,
   "metadata": {},
   "outputs": [
    {
     "name": "stdout",
     "output_type": "stream",
     "text": [
      "[array([1, 2, 3]), array([32, 36])]\n",
      "(33, 5)\n"
     ]
    }
   ],
   "source": [
    "from sklearn.preprocessing import OneHotEncoder\n",
    "\n",
    "categorical_variables = ['size', 'ara']\n",
    "onehot_encoder = OneHotEncoder(handle_unknown='ignore')\n",
    "onehot_encoder.fit(data.loc[:, categorical_variables])\n",
    "onehot = onehot_encoder.fit_transform(data.loc[:, categorical_variables])\n",
    "print(onehot_encoder.categories_)\n",
    "print(onehot.toarray().shape)"
   ]
  },
  {
   "cell_type": "markdown",
   "metadata": {},
   "source": [
    "## Numerical Variable processing"
   ]
  },
  {
   "cell_type": "code",
   "execution_count": 38,
   "metadata": {},
   "outputs": [
    {
     "data": {
      "text/plain": [
       "array([[0.41176471, 1.        , 0.        , 0.42789445, 0.35397636,\n",
       "        0.76345799, 0.13766548, 0.1609259 ],\n",
       "       [0.32352941, 1.        , 1.        , 0.5356774 , 0.4950455 ,\n",
       "        0.84007485, 0.24042052, 0.47561554],\n",
       "       [0.44117647, 0.57078667, 0.58922351, 0.95317923, 0.98005561,\n",
       "        1.        , 0.95688055, 1.        ],\n",
       "       [0.26470588, 0.09983873, 0.13850513, 0.80562217, 0.79735513,\n",
       "        0.57267074, 0.573703  , 0.5635681 ],\n",
       "       [0.        , 0.18048218, 0.21568454, 0.30661486, 0.33835761,\n",
       "        0.31211636, 0.37592342, 0.67397251],\n",
       "       [0.88235294, 0.18048218, 0.21568454, 0.48714012, 0.47162993,\n",
       "        0.44044157, 0.47447357, 0.72449725],\n",
       "       [0.47058824, 0.        , 0.04295497, 0.88178653, 0.932186  ,\n",
       "        0.38560457, 0.82455559, 0.89676514],\n",
       "       [0.61764706, 0.57078667, 0.        , 0.52336586, 0.50701031,\n",
       "        0.69446976, 0.22709744, 0.40263751],\n",
       "       [0.94117647, 0.60085553, 0.61800077, 0.70395126, 0.69220729,\n",
       "        0.83451155, 0.50023294, 0.27066484],\n",
       "       [0.58823529, 0.69699067, 0.71000643, 0.40264677, 0.43556547,\n",
       "        0.65495888, 0.14955975, 0.43325962],\n",
       "       [0.85294118, 0.50880141, 0.52990083, 0.61645161, 0.60310364,\n",
       "        0.73502871, 0.39167975, 0.36981581],\n",
       "       [0.47058824, 0.37668089, 0.40345555, 0.38502726, 0.40607117,\n",
       "        0.50672224, 0.17121079, 0.2695637 ],\n",
       "       [0.70588235, 0.52974557, 0.54994534, 0.80804967, 0.80247662,\n",
       "        0.88013063, 0.62059158, 0.61023433],\n",
       "       [0.52941176, 0.47683332, 0.49930593, 0.69162564, 0.71671017,\n",
       "        0.774318  , 0.50694097, 0.50443825],\n",
       "       [0.94117647, 0.93769678, 0.94037301, 0.72363969, 0.71241906,\n",
       "        0.95680577, 0.56844387, 0.46392498],\n",
       "       [0.47058824, 1.        , 0.        , 0.24359706, 0.15586976,\n",
       "        0.63245129, 0.        , 0.        ],\n",
       "       [0.38235294, 1.        , 1.        , 0.57844958, 0.51376822,\n",
       "        0.87047919, 0.36062888, 0.41901381],\n",
       "       [0.5       , 0.57078667, 0.58922351, 0.86792239, 0.84375395,\n",
       "        0.93939569, 0.70228807, 0.94339807],\n",
       "       [0.47058824, 0.09983873, 0.13850513, 0.95213615, 0.97212108,\n",
       "        0.6768193 , 0.8021339 , 0.8791736 ],\n",
       "       [0.23529412, 0.09983873, 0.13850513, 0.75451621, 0.79844348,\n",
       "        0.53634239, 0.70158992, 0.79662583],\n",
       "       [0.32352941, 0.09983873, 0.13850513, 0.31819798, 0.29439191,\n",
       "        0.22618845, 0.06765297, 0.50696629],\n",
       "       [0.05882353, 0.09983873, 0.13850513, 0.        , 0.        ,\n",
       "        0.        , 0.14915412, 0.91836548],\n",
       "       [0.26470588, 0.23195925, 0.13850513, 0.83539762, 0.83269666,\n",
       "        0.73270344, 0.66645949, 0.82256756],\n",
       "       [0.94117647, 0.18048218, 0.21568454, 0.32359642, 0.29040357,\n",
       "        0.32418759, 0.20381709, 0.66290324],\n",
       "       [0.5       , 0.09983873, 0.13850513, 0.44319202, 0.47585907,\n",
       "        0.31503959, 0.51056842, 0.63569672],\n",
       "       [0.67647059, 0.09983873, 0.13850513, 0.91062589, 0.91027761,\n",
       "        0.64731199, 0.9478303 , 0.50696629],\n",
       "       [1.        , 0.18048218, 0.21568454, 1.        , 1.        ,\n",
       "        0.80500485, 1.        , 0.42441831],\n",
       "       [0.64705882, 0.57078667, 0.58922351, 0.41554501, 0.42448948,\n",
       "        0.61782596, 0.20771057, 0.41724865],\n",
       "       [0.91176471, 0.29394451, 0.3242731 , 0.7918949 , 0.80847632,\n",
       "        0.74648499, 0.59212742, 0.4125032 ],\n",
       "       [0.52941176, 0.18048218, 0.21568454, 0.6137424 , 0.64509579,\n",
       "        0.530436  , 0.49155543, 0.33470087],\n",
       "       [0.76470588, 0.38814078, 0.41442318, 0.86532365, 0.87685801,\n",
       "        0.85430288, 0.75244964, 0.61196612],\n",
       "       [0.58823529, 0.45514112, 0.47854552, 0.6836252 , 0.69814326,\n",
       "        0.75861171, 0.5936798 , 0.45662194],\n",
       "       [1.        , 0.89741781, 0.90182423, 0.70246464, 0.70433675,\n",
       "        0.93043179, 0.5425983 , 0.41792948]])"
      ]
     },
     "execution_count": 38,
     "metadata": {},
     "output_type": "execute_result"
    }
   ],
   "source": [
    "from sklearn.preprocessing import MinMaxScaler\n",
    "\n",
    "numerical_variables = ['age1',\n",
    "                       'cvl00', 'cvl10',\n",
    "                       'labch', 'labh_hour', 'lab_cost',\n",
    "                       'fmtc', 'lansh']\n",
    "X_minmax_scaler = MinMaxScaler()\n",
    "X_minmax_scaler.fit(data.loc[:, numerical_variables])\n",
    "X_scaled = X_minmax_scaler.transform(data.loc[:, numerical_variables])\n",
    "X_scaled"
   ]
  },
  {
   "cell_type": "code",
   "execution_count": 39,
   "metadata": {},
   "outputs": [
    {
     "data": {
      "text/html": [
       "<div>\n",
       "<style scoped>\n",
       "    .dataframe tbody tr th:only-of-type {\n",
       "        vertical-align: middle;\n",
       "    }\n",
       "\n",
       "    .dataframe tbody tr th {\n",
       "        vertical-align: top;\n",
       "    }\n",
       "\n",
       "    .dataframe thead th {\n",
       "        text-align: right;\n",
       "    }\n",
       "</style>\n",
       "<table border=\"1\" class=\"dataframe\">\n",
       "  <thead>\n",
       "    <tr style=\"text-align: right;\">\n",
       "      <th></th>\n",
       "      <th>age1</th>\n",
       "      <th>cvl00</th>\n",
       "      <th>cvl10</th>\n",
       "      <th>labch</th>\n",
       "      <th>labh_hour</th>\n",
       "      <th>lab_cost</th>\n",
       "      <th>fmtc</th>\n",
       "      <th>lansh</th>\n",
       "      <th>0</th>\n",
       "      <th>1</th>\n",
       "      <th>2</th>\n",
       "      <th>3</th>\n",
       "      <th>4</th>\n",
       "    </tr>\n",
       "  </thead>\n",
       "  <tbody>\n",
       "    <tr>\n",
       "      <th>0</th>\n",
       "      <td>0.411765</td>\n",
       "      <td>1.000000</td>\n",
       "      <td>0.000000</td>\n",
       "      <td>0.427894</td>\n",
       "      <td>0.353976</td>\n",
       "      <td>0.763458</td>\n",
       "      <td>0.137665</td>\n",
       "      <td>0.160926</td>\n",
       "      <td>0.0</td>\n",
       "      <td>0.0</td>\n",
       "      <td>1.0</td>\n",
       "      <td>1.0</td>\n",
       "      <td>0.0</td>\n",
       "    </tr>\n",
       "    <tr>\n",
       "      <th>1</th>\n",
       "      <td>0.323529</td>\n",
       "      <td>1.000000</td>\n",
       "      <td>1.000000</td>\n",
       "      <td>0.535677</td>\n",
       "      <td>0.495045</td>\n",
       "      <td>0.840075</td>\n",
       "      <td>0.240421</td>\n",
       "      <td>0.475616</td>\n",
       "      <td>0.0</td>\n",
       "      <td>0.0</td>\n",
       "      <td>1.0</td>\n",
       "      <td>1.0</td>\n",
       "      <td>0.0</td>\n",
       "    </tr>\n",
       "    <tr>\n",
       "      <th>2</th>\n",
       "      <td>0.441176</td>\n",
       "      <td>0.570787</td>\n",
       "      <td>0.589224</td>\n",
       "      <td>0.953179</td>\n",
       "      <td>0.980056</td>\n",
       "      <td>1.000000</td>\n",
       "      <td>0.956881</td>\n",
       "      <td>1.000000</td>\n",
       "      <td>0.0</td>\n",
       "      <td>0.0</td>\n",
       "      <td>1.0</td>\n",
       "      <td>1.0</td>\n",
       "      <td>0.0</td>\n",
       "    </tr>\n",
       "    <tr>\n",
       "      <th>3</th>\n",
       "      <td>0.264706</td>\n",
       "      <td>0.099839</td>\n",
       "      <td>0.138505</td>\n",
       "      <td>0.805622</td>\n",
       "      <td>0.797355</td>\n",
       "      <td>0.572671</td>\n",
       "      <td>0.573703</td>\n",
       "      <td>0.563568</td>\n",
       "      <td>1.0</td>\n",
       "      <td>0.0</td>\n",
       "      <td>0.0</td>\n",
       "      <td>1.0</td>\n",
       "      <td>0.0</td>\n",
       "    </tr>\n",
       "    <tr>\n",
       "      <th>4</th>\n",
       "      <td>0.000000</td>\n",
       "      <td>0.180482</td>\n",
       "      <td>0.215685</td>\n",
       "      <td>0.306615</td>\n",
       "      <td>0.338358</td>\n",
       "      <td>0.312116</td>\n",
       "      <td>0.375923</td>\n",
       "      <td>0.673973</td>\n",
       "      <td>1.0</td>\n",
       "      <td>0.0</td>\n",
       "      <td>0.0</td>\n",
       "      <td>1.0</td>\n",
       "      <td>0.0</td>\n",
       "    </tr>\n",
       "    <tr>\n",
       "      <th>5</th>\n",
       "      <td>0.882353</td>\n",
       "      <td>0.180482</td>\n",
       "      <td>0.215685</td>\n",
       "      <td>0.487140</td>\n",
       "      <td>0.471630</td>\n",
       "      <td>0.440442</td>\n",
       "      <td>0.474474</td>\n",
       "      <td>0.724497</td>\n",
       "      <td>1.0</td>\n",
       "      <td>0.0</td>\n",
       "      <td>0.0</td>\n",
       "      <td>1.0</td>\n",
       "      <td>0.0</td>\n",
       "    </tr>\n",
       "    <tr>\n",
       "      <th>6</th>\n",
       "      <td>0.470588</td>\n",
       "      <td>0.000000</td>\n",
       "      <td>0.042955</td>\n",
       "      <td>0.881787</td>\n",
       "      <td>0.932186</td>\n",
       "      <td>0.385605</td>\n",
       "      <td>0.824556</td>\n",
       "      <td>0.896765</td>\n",
       "      <td>1.0</td>\n",
       "      <td>0.0</td>\n",
       "      <td>0.0</td>\n",
       "      <td>1.0</td>\n",
       "      <td>0.0</td>\n",
       "    </tr>\n",
       "    <tr>\n",
       "      <th>7</th>\n",
       "      <td>0.617647</td>\n",
       "      <td>0.570787</td>\n",
       "      <td>0.000000</td>\n",
       "      <td>0.523366</td>\n",
       "      <td>0.507010</td>\n",
       "      <td>0.694470</td>\n",
       "      <td>0.227097</td>\n",
       "      <td>0.402638</td>\n",
       "      <td>0.0</td>\n",
       "      <td>1.0</td>\n",
       "      <td>0.0</td>\n",
       "      <td>0.0</td>\n",
       "      <td>1.0</td>\n",
       "    </tr>\n",
       "    <tr>\n",
       "      <th>8</th>\n",
       "      <td>0.941176</td>\n",
       "      <td>0.600856</td>\n",
       "      <td>0.618001</td>\n",
       "      <td>0.703951</td>\n",
       "      <td>0.692207</td>\n",
       "      <td>0.834512</td>\n",
       "      <td>0.500233</td>\n",
       "      <td>0.270665</td>\n",
       "      <td>1.0</td>\n",
       "      <td>0.0</td>\n",
       "      <td>0.0</td>\n",
       "      <td>0.0</td>\n",
       "      <td>1.0</td>\n",
       "    </tr>\n",
       "    <tr>\n",
       "      <th>9</th>\n",
       "      <td>0.588235</td>\n",
       "      <td>0.696991</td>\n",
       "      <td>0.710006</td>\n",
       "      <td>0.402647</td>\n",
       "      <td>0.435565</td>\n",
       "      <td>0.654959</td>\n",
       "      <td>0.149560</td>\n",
       "      <td>0.433260</td>\n",
       "      <td>0.0</td>\n",
       "      <td>0.0</td>\n",
       "      <td>1.0</td>\n",
       "      <td>0.0</td>\n",
       "      <td>1.0</td>\n",
       "    </tr>\n",
       "    <tr>\n",
       "      <th>10</th>\n",
       "      <td>0.852941</td>\n",
       "      <td>0.508801</td>\n",
       "      <td>0.529901</td>\n",
       "      <td>0.616452</td>\n",
       "      <td>0.603104</td>\n",
       "      <td>0.735029</td>\n",
       "      <td>0.391680</td>\n",
       "      <td>0.369816</td>\n",
       "      <td>1.0</td>\n",
       "      <td>0.0</td>\n",
       "      <td>0.0</td>\n",
       "      <td>0.0</td>\n",
       "      <td>1.0</td>\n",
       "    </tr>\n",
       "    <tr>\n",
       "      <th>11</th>\n",
       "      <td>0.470588</td>\n",
       "      <td>0.376681</td>\n",
       "      <td>0.403456</td>\n",
       "      <td>0.385027</td>\n",
       "      <td>0.406071</td>\n",
       "      <td>0.506722</td>\n",
       "      <td>0.171211</td>\n",
       "      <td>0.269564</td>\n",
       "      <td>1.0</td>\n",
       "      <td>0.0</td>\n",
       "      <td>0.0</td>\n",
       "      <td>0.0</td>\n",
       "      <td>1.0</td>\n",
       "    </tr>\n",
       "    <tr>\n",
       "      <th>12</th>\n",
       "      <td>0.705882</td>\n",
       "      <td>0.529746</td>\n",
       "      <td>0.549945</td>\n",
       "      <td>0.808050</td>\n",
       "      <td>0.802477</td>\n",
       "      <td>0.880131</td>\n",
       "      <td>0.620592</td>\n",
       "      <td>0.610234</td>\n",
       "      <td>0.0</td>\n",
       "      <td>1.0</td>\n",
       "      <td>0.0</td>\n",
       "      <td>0.0</td>\n",
       "      <td>1.0</td>\n",
       "    </tr>\n",
       "    <tr>\n",
       "      <th>13</th>\n",
       "      <td>0.529412</td>\n",
       "      <td>0.476833</td>\n",
       "      <td>0.499306</td>\n",
       "      <td>0.691626</td>\n",
       "      <td>0.716710</td>\n",
       "      <td>0.774318</td>\n",
       "      <td>0.506941</td>\n",
       "      <td>0.504438</td>\n",
       "      <td>0.0</td>\n",
       "      <td>1.0</td>\n",
       "      <td>0.0</td>\n",
       "      <td>0.0</td>\n",
       "      <td>1.0</td>\n",
       "    </tr>\n",
       "    <tr>\n",
       "      <th>14</th>\n",
       "      <td>0.941176</td>\n",
       "      <td>0.937697</td>\n",
       "      <td>0.940373</td>\n",
       "      <td>0.723640</td>\n",
       "      <td>0.712419</td>\n",
       "      <td>0.956806</td>\n",
       "      <td>0.568444</td>\n",
       "      <td>0.463925</td>\n",
       "      <td>0.0</td>\n",
       "      <td>0.0</td>\n",
       "      <td>1.0</td>\n",
       "      <td>0.0</td>\n",
       "      <td>1.0</td>\n",
       "    </tr>\n",
       "    <tr>\n",
       "      <th>15</th>\n",
       "      <td>0.470588</td>\n",
       "      <td>1.000000</td>\n",
       "      <td>0.000000</td>\n",
       "      <td>0.243597</td>\n",
       "      <td>0.155870</td>\n",
       "      <td>0.632451</td>\n",
       "      <td>0.000000</td>\n",
       "      <td>0.000000</td>\n",
       "      <td>0.0</td>\n",
       "      <td>0.0</td>\n",
       "      <td>1.0</td>\n",
       "      <td>1.0</td>\n",
       "      <td>0.0</td>\n",
       "    </tr>\n",
       "    <tr>\n",
       "      <th>16</th>\n",
       "      <td>0.382353</td>\n",
       "      <td>1.000000</td>\n",
       "      <td>1.000000</td>\n",
       "      <td>0.578450</td>\n",
       "      <td>0.513768</td>\n",
       "      <td>0.870479</td>\n",
       "      <td>0.360629</td>\n",
       "      <td>0.419014</td>\n",
       "      <td>0.0</td>\n",
       "      <td>0.0</td>\n",
       "      <td>1.0</td>\n",
       "      <td>1.0</td>\n",
       "      <td>0.0</td>\n",
       "    </tr>\n",
       "    <tr>\n",
       "      <th>17</th>\n",
       "      <td>0.500000</td>\n",
       "      <td>0.570787</td>\n",
       "      <td>0.589224</td>\n",
       "      <td>0.867922</td>\n",
       "      <td>0.843754</td>\n",
       "      <td>0.939396</td>\n",
       "      <td>0.702288</td>\n",
       "      <td>0.943398</td>\n",
       "      <td>0.0</td>\n",
       "      <td>0.0</td>\n",
       "      <td>1.0</td>\n",
       "      <td>1.0</td>\n",
       "      <td>0.0</td>\n",
       "    </tr>\n",
       "    <tr>\n",
       "      <th>18</th>\n",
       "      <td>0.470588</td>\n",
       "      <td>0.099839</td>\n",
       "      <td>0.138505</td>\n",
       "      <td>0.952136</td>\n",
       "      <td>0.972121</td>\n",
       "      <td>0.676819</td>\n",
       "      <td>0.802134</td>\n",
       "      <td>0.879174</td>\n",
       "      <td>1.0</td>\n",
       "      <td>0.0</td>\n",
       "      <td>0.0</td>\n",
       "      <td>1.0</td>\n",
       "      <td>0.0</td>\n",
       "    </tr>\n",
       "    <tr>\n",
       "      <th>19</th>\n",
       "      <td>0.235294</td>\n",
       "      <td>0.099839</td>\n",
       "      <td>0.138505</td>\n",
       "      <td>0.754516</td>\n",
       "      <td>0.798443</td>\n",
       "      <td>0.536342</td>\n",
       "      <td>0.701590</td>\n",
       "      <td>0.796626</td>\n",
       "      <td>1.0</td>\n",
       "      <td>0.0</td>\n",
       "      <td>0.0</td>\n",
       "      <td>1.0</td>\n",
       "      <td>0.0</td>\n",
       "    </tr>\n",
       "    <tr>\n",
       "      <th>20</th>\n",
       "      <td>0.323529</td>\n",
       "      <td>0.099839</td>\n",
       "      <td>0.138505</td>\n",
       "      <td>0.318198</td>\n",
       "      <td>0.294392</td>\n",
       "      <td>0.226188</td>\n",
       "      <td>0.067653</td>\n",
       "      <td>0.506966</td>\n",
       "      <td>1.0</td>\n",
       "      <td>0.0</td>\n",
       "      <td>0.0</td>\n",
       "      <td>1.0</td>\n",
       "      <td>0.0</td>\n",
       "    </tr>\n",
       "    <tr>\n",
       "      <th>21</th>\n",
       "      <td>0.058824</td>\n",
       "      <td>0.099839</td>\n",
       "      <td>0.138505</td>\n",
       "      <td>0.000000</td>\n",
       "      <td>0.000000</td>\n",
       "      <td>0.000000</td>\n",
       "      <td>0.149154</td>\n",
       "      <td>0.918365</td>\n",
       "      <td>1.0</td>\n",
       "      <td>0.0</td>\n",
       "      <td>0.0</td>\n",
       "      <td>1.0</td>\n",
       "      <td>0.0</td>\n",
       "    </tr>\n",
       "    <tr>\n",
       "      <th>22</th>\n",
       "      <td>0.264706</td>\n",
       "      <td>0.231959</td>\n",
       "      <td>0.138505</td>\n",
       "      <td>0.835398</td>\n",
       "      <td>0.832697</td>\n",
       "      <td>0.732703</td>\n",
       "      <td>0.666459</td>\n",
       "      <td>0.822568</td>\n",
       "      <td>1.0</td>\n",
       "      <td>0.0</td>\n",
       "      <td>0.0</td>\n",
       "      <td>1.0</td>\n",
       "      <td>0.0</td>\n",
       "    </tr>\n",
       "    <tr>\n",
       "      <th>23</th>\n",
       "      <td>0.941176</td>\n",
       "      <td>0.180482</td>\n",
       "      <td>0.215685</td>\n",
       "      <td>0.323596</td>\n",
       "      <td>0.290404</td>\n",
       "      <td>0.324188</td>\n",
       "      <td>0.203817</td>\n",
       "      <td>0.662903</td>\n",
       "      <td>1.0</td>\n",
       "      <td>0.0</td>\n",
       "      <td>0.0</td>\n",
       "      <td>1.0</td>\n",
       "      <td>0.0</td>\n",
       "    </tr>\n",
       "    <tr>\n",
       "      <th>24</th>\n",
       "      <td>0.500000</td>\n",
       "      <td>0.099839</td>\n",
       "      <td>0.138505</td>\n",
       "      <td>0.443192</td>\n",
       "      <td>0.475859</td>\n",
       "      <td>0.315040</td>\n",
       "      <td>0.510568</td>\n",
       "      <td>0.635697</td>\n",
       "      <td>1.0</td>\n",
       "      <td>0.0</td>\n",
       "      <td>0.0</td>\n",
       "      <td>1.0</td>\n",
       "      <td>0.0</td>\n",
       "    </tr>\n",
       "    <tr>\n",
       "      <th>25</th>\n",
       "      <td>0.676471</td>\n",
       "      <td>0.099839</td>\n",
       "      <td>0.138505</td>\n",
       "      <td>0.910626</td>\n",
       "      <td>0.910278</td>\n",
       "      <td>0.647312</td>\n",
       "      <td>0.947830</td>\n",
       "      <td>0.506966</td>\n",
       "      <td>1.0</td>\n",
       "      <td>0.0</td>\n",
       "      <td>0.0</td>\n",
       "      <td>0.0</td>\n",
       "      <td>1.0</td>\n",
       "    </tr>\n",
       "    <tr>\n",
       "      <th>26</th>\n",
       "      <td>1.000000</td>\n",
       "      <td>0.180482</td>\n",
       "      <td>0.215685</td>\n",
       "      <td>1.000000</td>\n",
       "      <td>1.000000</td>\n",
       "      <td>0.805005</td>\n",
       "      <td>1.000000</td>\n",
       "      <td>0.424418</td>\n",
       "      <td>1.0</td>\n",
       "      <td>0.0</td>\n",
       "      <td>0.0</td>\n",
       "      <td>0.0</td>\n",
       "      <td>1.0</td>\n",
       "    </tr>\n",
       "    <tr>\n",
       "      <th>27</th>\n",
       "      <td>0.647059</td>\n",
       "      <td>0.570787</td>\n",
       "      <td>0.589224</td>\n",
       "      <td>0.415545</td>\n",
       "      <td>0.424489</td>\n",
       "      <td>0.617826</td>\n",
       "      <td>0.207711</td>\n",
       "      <td>0.417249</td>\n",
       "      <td>0.0</td>\n",
       "      <td>0.0</td>\n",
       "      <td>1.0</td>\n",
       "      <td>0.0</td>\n",
       "      <td>1.0</td>\n",
       "    </tr>\n",
       "    <tr>\n",
       "      <th>28</th>\n",
       "      <td>0.911765</td>\n",
       "      <td>0.293945</td>\n",
       "      <td>0.324273</td>\n",
       "      <td>0.791895</td>\n",
       "      <td>0.808476</td>\n",
       "      <td>0.746485</td>\n",
       "      <td>0.592127</td>\n",
       "      <td>0.412503</td>\n",
       "      <td>1.0</td>\n",
       "      <td>0.0</td>\n",
       "      <td>0.0</td>\n",
       "      <td>0.0</td>\n",
       "      <td>1.0</td>\n",
       "    </tr>\n",
       "    <tr>\n",
       "      <th>29</th>\n",
       "      <td>0.529412</td>\n",
       "      <td>0.180482</td>\n",
       "      <td>0.215685</td>\n",
       "      <td>0.613742</td>\n",
       "      <td>0.645096</td>\n",
       "      <td>0.530436</td>\n",
       "      <td>0.491555</td>\n",
       "      <td>0.334701</td>\n",
       "      <td>1.0</td>\n",
       "      <td>0.0</td>\n",
       "      <td>0.0</td>\n",
       "      <td>0.0</td>\n",
       "      <td>1.0</td>\n",
       "    </tr>\n",
       "    <tr>\n",
       "      <th>30</th>\n",
       "      <td>0.764706</td>\n",
       "      <td>0.388141</td>\n",
       "      <td>0.414423</td>\n",
       "      <td>0.865324</td>\n",
       "      <td>0.876858</td>\n",
       "      <td>0.854303</td>\n",
       "      <td>0.752450</td>\n",
       "      <td>0.611966</td>\n",
       "      <td>0.0</td>\n",
       "      <td>1.0</td>\n",
       "      <td>0.0</td>\n",
       "      <td>0.0</td>\n",
       "      <td>1.0</td>\n",
       "    </tr>\n",
       "    <tr>\n",
       "      <th>31</th>\n",
       "      <td>0.588235</td>\n",
       "      <td>0.455141</td>\n",
       "      <td>0.478546</td>\n",
       "      <td>0.683625</td>\n",
       "      <td>0.698143</td>\n",
       "      <td>0.758612</td>\n",
       "      <td>0.593680</td>\n",
       "      <td>0.456622</td>\n",
       "      <td>0.0</td>\n",
       "      <td>1.0</td>\n",
       "      <td>0.0</td>\n",
       "      <td>0.0</td>\n",
       "      <td>1.0</td>\n",
       "    </tr>\n",
       "    <tr>\n",
       "      <th>32</th>\n",
       "      <td>1.000000</td>\n",
       "      <td>0.897418</td>\n",
       "      <td>0.901824</td>\n",
       "      <td>0.702465</td>\n",
       "      <td>0.704337</td>\n",
       "      <td>0.930432</td>\n",
       "      <td>0.542598</td>\n",
       "      <td>0.417929</td>\n",
       "      <td>0.0</td>\n",
       "      <td>0.0</td>\n",
       "      <td>1.0</td>\n",
       "      <td>0.0</td>\n",
       "      <td>1.0</td>\n",
       "    </tr>\n",
       "  </tbody>\n",
       "</table>\n",
       "</div>"
      ],
      "text/plain": [
       "        age1     cvl00     cvl10     labch  labh_hour  lab_cost      fmtc  \\\n",
       "0   0.411765  1.000000  0.000000  0.427894   0.353976  0.763458  0.137665   \n",
       "1   0.323529  1.000000  1.000000  0.535677   0.495045  0.840075  0.240421   \n",
       "2   0.441176  0.570787  0.589224  0.953179   0.980056  1.000000  0.956881   \n",
       "3   0.264706  0.099839  0.138505  0.805622   0.797355  0.572671  0.573703   \n",
       "4   0.000000  0.180482  0.215685  0.306615   0.338358  0.312116  0.375923   \n",
       "5   0.882353  0.180482  0.215685  0.487140   0.471630  0.440442  0.474474   \n",
       "6   0.470588  0.000000  0.042955  0.881787   0.932186  0.385605  0.824556   \n",
       "7   0.617647  0.570787  0.000000  0.523366   0.507010  0.694470  0.227097   \n",
       "8   0.941176  0.600856  0.618001  0.703951   0.692207  0.834512  0.500233   \n",
       "9   0.588235  0.696991  0.710006  0.402647   0.435565  0.654959  0.149560   \n",
       "10  0.852941  0.508801  0.529901  0.616452   0.603104  0.735029  0.391680   \n",
       "11  0.470588  0.376681  0.403456  0.385027   0.406071  0.506722  0.171211   \n",
       "12  0.705882  0.529746  0.549945  0.808050   0.802477  0.880131  0.620592   \n",
       "13  0.529412  0.476833  0.499306  0.691626   0.716710  0.774318  0.506941   \n",
       "14  0.941176  0.937697  0.940373  0.723640   0.712419  0.956806  0.568444   \n",
       "15  0.470588  1.000000  0.000000  0.243597   0.155870  0.632451  0.000000   \n",
       "16  0.382353  1.000000  1.000000  0.578450   0.513768  0.870479  0.360629   \n",
       "17  0.500000  0.570787  0.589224  0.867922   0.843754  0.939396  0.702288   \n",
       "18  0.470588  0.099839  0.138505  0.952136   0.972121  0.676819  0.802134   \n",
       "19  0.235294  0.099839  0.138505  0.754516   0.798443  0.536342  0.701590   \n",
       "20  0.323529  0.099839  0.138505  0.318198   0.294392  0.226188  0.067653   \n",
       "21  0.058824  0.099839  0.138505  0.000000   0.000000  0.000000  0.149154   \n",
       "22  0.264706  0.231959  0.138505  0.835398   0.832697  0.732703  0.666459   \n",
       "23  0.941176  0.180482  0.215685  0.323596   0.290404  0.324188  0.203817   \n",
       "24  0.500000  0.099839  0.138505  0.443192   0.475859  0.315040  0.510568   \n",
       "25  0.676471  0.099839  0.138505  0.910626   0.910278  0.647312  0.947830   \n",
       "26  1.000000  0.180482  0.215685  1.000000   1.000000  0.805005  1.000000   \n",
       "27  0.647059  0.570787  0.589224  0.415545   0.424489  0.617826  0.207711   \n",
       "28  0.911765  0.293945  0.324273  0.791895   0.808476  0.746485  0.592127   \n",
       "29  0.529412  0.180482  0.215685  0.613742   0.645096  0.530436  0.491555   \n",
       "30  0.764706  0.388141  0.414423  0.865324   0.876858  0.854303  0.752450   \n",
       "31  0.588235  0.455141  0.478546  0.683625   0.698143  0.758612  0.593680   \n",
       "32  1.000000  0.897418  0.901824  0.702465   0.704337  0.930432  0.542598   \n",
       "\n",
       "       lansh    0    1    2    3    4  \n",
       "0   0.160926  0.0  0.0  1.0  1.0  0.0  \n",
       "1   0.475616  0.0  0.0  1.0  1.0  0.0  \n",
       "2   1.000000  0.0  0.0  1.0  1.0  0.0  \n",
       "3   0.563568  1.0  0.0  0.0  1.0  0.0  \n",
       "4   0.673973  1.0  0.0  0.0  1.0  0.0  \n",
       "5   0.724497  1.0  0.0  0.0  1.0  0.0  \n",
       "6   0.896765  1.0  0.0  0.0  1.0  0.0  \n",
       "7   0.402638  0.0  1.0  0.0  0.0  1.0  \n",
       "8   0.270665  1.0  0.0  0.0  0.0  1.0  \n",
       "9   0.433260  0.0  0.0  1.0  0.0  1.0  \n",
       "10  0.369816  1.0  0.0  0.0  0.0  1.0  \n",
       "11  0.269564  1.0  0.0  0.0  0.0  1.0  \n",
       "12  0.610234  0.0  1.0  0.0  0.0  1.0  \n",
       "13  0.504438  0.0  1.0  0.0  0.0  1.0  \n",
       "14  0.463925  0.0  0.0  1.0  0.0  1.0  \n",
       "15  0.000000  0.0  0.0  1.0  1.0  0.0  \n",
       "16  0.419014  0.0  0.0  1.0  1.0  0.0  \n",
       "17  0.943398  0.0  0.0  1.0  1.0  0.0  \n",
       "18  0.879174  1.0  0.0  0.0  1.0  0.0  \n",
       "19  0.796626  1.0  0.0  0.0  1.0  0.0  \n",
       "20  0.506966  1.0  0.0  0.0  1.0  0.0  \n",
       "21  0.918365  1.0  0.0  0.0  1.0  0.0  \n",
       "22  0.822568  1.0  0.0  0.0  1.0  0.0  \n",
       "23  0.662903  1.0  0.0  0.0  1.0  0.0  \n",
       "24  0.635697  1.0  0.0  0.0  1.0  0.0  \n",
       "25  0.506966  1.0  0.0  0.0  0.0  1.0  \n",
       "26  0.424418  1.0  0.0  0.0  0.0  1.0  \n",
       "27  0.417249  0.0  0.0  1.0  0.0  1.0  \n",
       "28  0.412503  1.0  0.0  0.0  0.0  1.0  \n",
       "29  0.334701  1.0  0.0  0.0  0.0  1.0  \n",
       "30  0.611966  0.0  1.0  0.0  0.0  1.0  \n",
       "31  0.456622  0.0  1.0  0.0  0.0  1.0  \n",
       "32  0.417929  0.0  0.0  1.0  0.0  1.0  "
      ]
     },
     "execution_count": 39,
     "metadata": {},
     "output_type": "execute_result"
    }
   ],
   "source": [
    "numeric_data_df = pd.DataFrame(X_scaled, columns=numerical_variables)\n",
    "onehot_data_df = pd.DataFrame(onehot.toarray())\n",
    "\n",
    "X_data_df = pd.concat([numeric_data_df , onehot_data_df], axis=1)\n",
    "X_data_df"
   ]
  },
  {
   "cell_type": "code",
   "execution_count": 40,
   "metadata": {},
   "outputs": [],
   "source": [
    "X_data = np.array(X_data_df)\n",
    "y_data = np.array(data['ydh_ty1'])"
   ]
  },
  {
   "cell_type": "markdown",
   "metadata": {},
   "source": [
    "# Train Test Split"
   ]
  },
  {
   "cell_type": "code",
   "execution_count": 41,
   "metadata": {},
   "outputs": [
    {
     "name": "stdout",
     "output_type": "stream",
     "text": [
      "(29, 13) (29,)\n",
      "(4, 13) (4,)\n"
     ]
    }
   ],
   "source": [
    "from sklearn.model_selection import train_test_split\n",
    "\n",
    "X_train, X_test, y_train, y_test = train_test_split(X_data, y_data,\n",
    "                                                    test_size=0.1,\n",
    "                                                    random_state=1234)\n",
    "print(X_train.shape, y_train.shape)\n",
    "print(X_test.shape, y_test.shape)"
   ]
  },
  {
   "cell_type": "markdown",
   "metadata": {},
   "source": [
    "# Modeling"
   ]
  },
  {
   "cell_type": "markdown",
   "metadata": {},
   "source": [
    "## Decision Tree"
   ]
  },
  {
   "cell_type": "code",
   "execution_count": 42,
   "metadata": {},
   "outputs": [
    {
     "data": {
      "text/plain": [
       "DecisionTreeRegressor(random_state=1000)"
      ]
     },
     "execution_count": 42,
     "metadata": {},
     "output_type": "execute_result"
    }
   ],
   "source": [
    "from sklearn.tree import DecisionTreeRegressor\n",
    "from sklearn.metrics import mean_squared_error\n",
    "\n",
    "dt = DecisionTreeRegressor(random_state=1000)\n",
    "dt.fit(X_train, y_train)"
   ]
  },
  {
   "cell_type": "code",
   "execution_count": 43,
   "metadata": {},
   "outputs": [
    {
     "name": "stdout",
     "output_type": "stream",
     "text": [
      "[4.21459369 4.73180284 6.43133108 6.08996065]\n"
     ]
    }
   ],
   "source": [
    "dt_pred = dt.predict(X_test)\n",
    "print(dt_pred[:10])"
   ]
  },
  {
   "cell_type": "code",
   "execution_count": 44,
   "metadata": {},
   "outputs": [
    {
     "data": {
      "text/plain": [
       "1.631853051260344"
      ]
     },
     "execution_count": 44,
     "metadata": {},
     "output_type": "execute_result"
    }
   ],
   "source": [
    "dt_rmse = np.sqrt(mean_squared_error(y_test, dt_pred))\n",
    "dt_rmse"
   ]
  },
  {
   "cell_type": "markdown",
   "metadata": {},
   "source": [
    "## RandomForest"
   ]
  },
  {
   "cell_type": "code",
   "execution_count": 45,
   "metadata": {},
   "outputs": [
    {
     "data": {
      "text/plain": [
       "RandomForestRegressor(max_features='sqrt', n_estimators=3000, random_state=1000)"
      ]
     },
     "execution_count": 45,
     "metadata": {},
     "output_type": "execute_result"
    }
   ],
   "source": [
    "from sklearn.ensemble import RandomForestRegressor\n",
    "\n",
    "rf = RandomForestRegressor(n_estimators = 3000, max_features = 'sqrt', \n",
    "                           random_state = 1000)\n",
    "rf.fit(X_train, y_train)"
   ]
  },
  {
   "cell_type": "code",
   "execution_count": 46,
   "metadata": {},
   "outputs": [
    {
     "name": "stdout",
     "output_type": "stream",
     "text": [
      "[6.58532744 7.21670622 5.91196025 6.21348559]\n"
     ]
    }
   ],
   "source": [
    "rf_pred = rf.predict(X_test)\n",
    "print(rf_pred[:10])"
   ]
  },
  {
   "cell_type": "code",
   "execution_count": 47,
   "metadata": {},
   "outputs": [
    {
     "data": {
      "text/plain": [
       "0.44493777740793"
      ]
     },
     "execution_count": 47,
     "metadata": {},
     "output_type": "execute_result"
    }
   ],
   "source": [
    "rf_rmse = np.sqrt(mean_squared_error(y_test, rf_pred))\n",
    "rf_rmse"
   ]
  },
  {
   "cell_type": "code",
   "execution_count": 48,
   "metadata": {},
   "outputs": [
    {
     "data": {
      "image/png": "[encoded data removed]",
      "text/plain": [
       "<Figure size 576x432 with 1 Axes>"
      ]
     },
     "metadata": {
      "needs_background": "light"
     },
     "output_type": "display_data"
    }
   ],
   "source": [
    "import seaborn as sns\n",
    "\n",
    "importances_values = rf.feature_importances_ \n",
    "importances = pd.Series(importances_values, index=X_data_df.columns)\n",
    "\n",
    "top20 = importances.sort_values(ascending=False)[:20]\n",
    "plt.figure(figsize=(8, 6))\n",
    "plt.title('Feature importances Top 20')\n",
    "sns.barplot(x = top20, y = top20.index)\n",
    "plt.show()"
   ]
  },
  {
   "cell_type": "markdown",
   "metadata": {},
   "source": [
    "## Ridge"
   ]
  },
  {
   "cell_type": "code",
   "execution_count": 49,
   "metadata": {},
   "outputs": [
    {
     "data": {
      "text/plain": [
       "Ridge(alpha=0.1724)"
      ]
     },
     "execution_count": 49,
     "metadata": {},
     "output_type": "execute_result"
    }
   ],
   "source": [
    "from sklearn.linear_model import Ridge\n",
    "\n",
    "ridge = Ridge(alpha=0.1724)\n",
    "ridge.fit(X_train, y_train)"
   ]
  },
  {
   "cell_type": "code",
   "execution_count": 50,
   "metadata": {},
   "outputs": [
    {
     "name": "stdout",
     "output_type": "stream",
     "text": [
      "0.7788802201275136\n"
     ]
    }
   ],
   "source": [
    "print(ridge.score(X_train, y_train))"
   ]
  },
  {
   "cell_type": "code",
   "execution_count": 51,
   "metadata": {},
   "outputs": [
    {
     "data": {
      "text/plain": [
       "0.7641596370921395"
      ]
     },
     "execution_count": 51,
     "metadata": {},
     "output_type": "execute_result"
    }
   ],
   "source": [
    "ridge_pred = ridge.predict(X_test)\n",
    "ridge_rmse = np.sqrt(mean_squared_error(y_test, ridge_pred))\n",
    "ridge_rmse"
   ]
  },
  {
   "cell_type": "markdown",
   "metadata": {},
   "source": [
    "## LASSO"
   ]
  },
  {
   "cell_type": "code",
   "execution_count": 52,
   "metadata": {},
   "outputs": [
    {
     "data": {
      "text/plain": [
       "Lasso(alpha=0.001)"
      ]
     },
     "execution_count": 52,
     "metadata": {},
     "output_type": "execute_result"
    }
   ],
   "source": [
    "from sklearn.linear_model import Lasso\n",
    "\n",
    "lasso = Lasso(alpha=0.001)\n",
    "lasso.fit(X_train, y_train)"
   ]
  },
  {
   "cell_type": "code",
   "execution_count": 53,
   "metadata": {},
   "outputs": [
    {
     "name": "stdout",
     "output_type": "stream",
     "text": [
      "0.7917302124297753\n"
     ]
    }
   ],
   "source": [
    "print(lasso.score(X_train, y_train))"
   ]
  },
  {
   "cell_type": "code",
   "execution_count": 54,
   "metadata": {},
   "outputs": [
    {
     "data": {
      "text/plain": [
       "0.8287586864350164"
      ]
     },
     "execution_count": 54,
     "metadata": {},
     "output_type": "execute_result"
    }
   ],
   "source": [
    "lasso_pred = lasso.predict(X_test)\n",
    "lasso_rmse = np.sqrt(mean_squared_error(y_test, lasso_pred))\n",
    "lasso_rmse"
   ]
  },
  {
   "cell_type": "markdown",
   "metadata": {},
   "source": [
    "## GBM"
   ]
  },
  {
   "cell_type": "code",
   "execution_count": 55,
   "metadata": {},
   "outputs": [
    {
     "name": "stdout",
     "output_type": "stream",
     "text": [
      "[5.63130664 4.80454978 6.17488862 6.08969745]\n"
     ]
    }
   ],
   "source": [
    "from sklearn.ensemble import GradientBoostingRegressor\n",
    "\n",
    "gbm = GradientBoostingRegressor(n_estimators=500, max_depth=8)\n",
    "gbm.fit(X_train, y_train)\n",
    "\n",
    "gbm_pred = gbm.predict(X_test)\n",
    "print(gbm_pred[:10])"
   ]
  },
  {
   "cell_type": "code",
   "execution_count": 56,
   "metadata": {},
   "outputs": [
    {
     "data": {
      "text/plain": [
       "1.2567902846107062"
      ]
     },
     "execution_count": 56,
     "metadata": {},
     "output_type": "execute_result"
    }
   ],
   "source": [
    "gbm_rmse = np.sqrt(mean_squared_error(y_test, gbm_pred))\n",
    "gbm_rmse"
   ]
  },
  {
   "cell_type": "markdown",
   "metadata": {},
   "source": [
    "## AdaBoost"
   ]
  },
  {
   "cell_type": "code",
   "execution_count": 57,
   "metadata": {},
   "outputs": [
    {
     "name": "stdout",
     "output_type": "stream",
     "text": [
      "[6.57205052 7.20033538 6.0860524  6.22650882]\n"
     ]
    }
   ],
   "source": [
    "from sklearn.ensemble import AdaBoostRegressor\n",
    "\n",
    "ada = AdaBoostRegressor(n_estimators = 500, learning_rate = 0.1)\n",
    "ada.fit(X_train, y_train)\n",
    "\n",
    "ada_pred = ada.predict(X_test)\n",
    "print(ada_pred[:10])"
   ]
  },
  {
   "cell_type": "code",
   "execution_count": 58,
   "metadata": {},
   "outputs": [
    {
     "data": {
      "text/plain": [
       "0.4861084958635377"
      ]
     },
     "execution_count": 58,
     "metadata": {},
     "output_type": "execute_result"
    }
   ],
   "source": [
    "ada_rmse = np.sqrt(mean_squared_error(y_test, ada_pred))\n",
    "ada_rmse"
   ]
  },
  {
   "cell_type": "markdown",
   "metadata": {},
   "source": [
    "## XGBoost"
   ]
  },
  {
   "cell_type": "code",
   "execution_count": 59,
   "metadata": {},
   "outputs": [
    {
     "name": "stdout",
     "output_type": "stream",
     "text": [
      "1.3.3\n",
      "[6.6603894 7.260755  6.442996  6.1575475]\n"
     ]
    }
   ],
   "source": [
    "import xgboost as xgb\n",
    "print(xgb.__version__)\n",
    "\n",
    "xgb_reg = xgb.XGBRegressor(learning_rate=0.08, max_depth=8, \n",
    "                           gamma=0, n_estimators=3000,\n",
    "                           subsample=0.7, colsample_bytree=0.8)\n",
    "xgb_reg.fit(X_train, y_train, verbose=False)\n",
    "\n",
    "xgb_pred = xgb_reg.predict(X_test)\n",
    "print(xgb_pred[:10])"
   ]
  },
  {
   "cell_type": "code",
   "execution_count": 60,
   "metadata": {},
   "outputs": [
    {
     "data": {
      "text/plain": [
       "0.5981048080654344"
      ]
     },
     "execution_count": 60,
     "metadata": {},
     "output_type": "execute_result"
    }
   ],
   "source": [
    "xgb_rmse = np.sqrt(mean_squared_error(y_test, xgb_pred))\n",
    "xgb_rmse"
   ]
  },
  {
   "cell_type": "code",
   "execution_count": 61,
   "metadata": {},
   "outputs": [
    {
     "data": {
      "image/png": "[encoded data removed]",
      "text/plain": [
       "<Figure size 720x864 with 1 Axes>"
      ]
     },
     "metadata": {
      "needs_background": "light"
     },
     "output_type": "display_data"
    }
   ],
   "source": [
    "from xgboost import plot_importance\n",
    "\n",
    "plot_importance(xgb_reg, max_num_features=20)\n",
    "\n",
    "fig = plt.gcf()\n",
    "fig.set_size_inches(10, 12)"
   ]
  },
  {
   "cell_type": "markdown",
   "metadata": {},
   "source": [
    "## LightGBM"
   ]
  },
  {
   "cell_type": "code",
   "execution_count": 62,
   "metadata": {},
   "outputs": [
    {
     "data": {
      "text/plain": [
       "LGBMRegressor(max_depth=50, min_data_in_leaf=10, n_estimators=1000,\n",
       "              num_leaves=10)"
      ]
     },
     "execution_count": 62,
     "metadata": {},
     "output_type": "execute_result"
    }
   ],
   "source": [
    "import lightgbm as lgb\n",
    "\n",
    "\n",
    "lgb_reg = lgb.LGBMRegressor(n_estimators=1000, max_depth=50, num_leaves=10, min_data_in_leaf=10)\n",
    "lgb_reg.fit(X_train, y_train,\n",
    "        eval_set=[(X_test, y_test)],\n",
    "        eval_metric='l1',\n",
    "        early_stopping_rounds=1000,\n",
    "        verbose = False)"
   ]
  },
  {
   "cell_type": "code",
   "execution_count": 63,
   "metadata": {},
   "outputs": [
    {
     "name": "stdout",
     "output_type": "stream",
     "text": [
      "[6.23676191 7.01133144 5.65570398 6.12703498]\n"
     ]
    }
   ],
   "source": [
    "lgb_pred = lgb_reg.predict(X_test)\n",
    "print(lgb_pred[:10])"
   ]
  },
  {
   "cell_type": "code",
   "execution_count": 64,
   "metadata": {},
   "outputs": [
    {
     "data": {
      "text/plain": [
       "0.322471684348853"
      ]
     },
     "execution_count": 64,
     "metadata": {},
     "output_type": "execute_result"
    }
   ],
   "source": [
    "lgb_rmse = np.sqrt(mean_squared_error(y_test, lgb_pred))\n",
    "lgb_rmse"
   ]
  },
  {
   "cell_type": "markdown",
   "metadata": {},
   "source": [
    "# Model Comparison"
   ]
  },
  {
   "cell_type": "code",
   "execution_count": 65,
   "metadata": {},
   "outputs": [
    {
     "data": {
      "text/html": [
       "<div>\n",
       "<style scoped>\n",
       "    .dataframe tbody tr th:only-of-type {\n",
       "        vertical-align: middle;\n",
       "    }\n",
       "\n",
       "    .dataframe tbody tr th {\n",
       "        vertical-align: top;\n",
       "    }\n",
       "\n",
       "    .dataframe thead th {\n",
       "        text-align: right;\n",
       "    }\n",
       "</style>\n",
       "<table border=\"1\" class=\"dataframe\">\n",
       "  <thead>\n",
       "    <tr style=\"text-align: right;\">\n",
       "      <th></th>\n",
       "      <th>Model</th>\n",
       "      <th>RMSE</th>\n",
       "    </tr>\n",
       "  </thead>\n",
       "  <tbody>\n",
       "    <tr>\n",
       "      <th>7</th>\n",
       "      <td>LightGBM</td>\n",
       "      <td>0.322472</td>\n",
       "    </tr>\n",
       "    <tr>\n",
       "      <th>1</th>\n",
       "      <td>RandomForest</td>\n",
       "      <td>0.444938</td>\n",
       "    </tr>\n",
       "    <tr>\n",
       "      <th>5</th>\n",
       "      <td>AdaBoost</td>\n",
       "      <td>0.486108</td>\n",
       "    </tr>\n",
       "    <tr>\n",
       "      <th>6</th>\n",
       "      <td>XGboost</td>\n",
       "      <td>0.598105</td>\n",
       "    </tr>\n",
       "    <tr>\n",
       "      <th>2</th>\n",
       "      <td>Ridge</td>\n",
       "      <td>0.764160</td>\n",
       "    </tr>\n",
       "    <tr>\n",
       "      <th>3</th>\n",
       "      <td>LASSO</td>\n",
       "      <td>0.828759</td>\n",
       "    </tr>\n",
       "    <tr>\n",
       "      <th>4</th>\n",
       "      <td>GBM</td>\n",
       "      <td>1.256790</td>\n",
       "    </tr>\n",
       "    <tr>\n",
       "      <th>0</th>\n",
       "      <td>Decision Tree</td>\n",
       "      <td>1.631853</td>\n",
       "    </tr>\n",
       "  </tbody>\n",
       "</table>\n",
       "</div>"
      ],
      "text/plain": [
       "           Model      RMSE\n",
       "7       LightGBM  0.322472\n",
       "1   RandomForest  0.444938\n",
       "5       AdaBoost  0.486108\n",
       "6        XGboost  0.598105\n",
       "2          Ridge  0.764160\n",
       "3          LASSO  0.828759\n",
       "4            GBM  1.256790\n",
       "0  Decision Tree  1.631853"
      ]
     },
     "execution_count": 65,
     "metadata": {},
     "output_type": "execute_result"
    }
   ],
   "source": [
    "model_result = pd.DataFrame({\n",
    "    'Model': ['Decision Tree', 'RandomForest', 'Ridge', 'LASSO',\n",
    "              'GBM', 'AdaBoost', 'XGboost', 'LightGBM'],\n",
    "    'RMSE': [dt_rmse, rf_rmse, ridge_rmse, lasso_rmse,\n",
    "             gbm_rmse, ada_rmse, xgb_rmse, lgb_rmse]})\n",
    "model_result.sort_values(by='RMSE', ascending=True)"
   ]
  },
  {
   "cell_type": "markdown",
   "metadata": {},
   "source": [
    "# Ensemble"
   ]
  },
  {
   "cell_type": "code",
   "execution_count": 74,
   "metadata": {},
   "outputs": [],
   "source": [
    "import torch\n",
    "from sklearn.metrics import mean_squared_error\n",
    "\n",
    "class EnsembleRegressor:\n",
    "    def __init__(self, models, weights=None):\n",
    "        \n",
    "        self.models = models\n",
    "        self.weights = weights\n",
    "        \n",
    "    def predict(self, X_test):\n",
    "        pred_list = []\n",
    "        for i, model in enumerate(models.values()):\n",
    "            pred_list.append(model.predict(X_test))\n",
    "        preds = np.array(pred_list)\n",
    "            \n",
    "        prediction = np.average(preds, axis=0, weights=self.weights)\n",
    "\n",
    "        return prediction\n",
    "    \n",
    "    def random_search(self, X_test, y_test, num_search):\n",
    "        weights = torch.softmax(torch.rand(num_search, len(self.models)), axis=1).numpy()\n",
    "        \n",
    "        pred_list = []\n",
    "        for i, model in enumerate(models.values()):\n",
    "            pred_list.append(model.predict(X_test))\n",
    "        preds = np.array(pred_list)\n",
    "\n",
    "        mse = []\n",
    "        for i in range(num_search):\n",
    "            prediction = np.average(preds, axis=0, weights=weights[i])\n",
    "            mse_ = mean_squared_error(y_test, prediction)\n",
    "            mse.append(mse_)\n",
    "        \n",
    "        result = pd.DataFrame(weights)\n",
    "        result['RMSE'] = np.sqrt(mse)\n",
    "\n",
    "        return result.sort_values('RMSE', ascending=True)"
   ]
  },
  {
   "cell_type": "code",
   "execution_count": 75,
   "metadata": {},
   "outputs": [
    {
     "data": {
      "text/html": [
       "<div>\n",
       "<style scoped>\n",
       "    .dataframe tbody tr th:only-of-type {\n",
       "        vertical-align: middle;\n",
       "    }\n",
       "\n",
       "    .dataframe tbody tr th {\n",
       "        vertical-align: top;\n",
       "    }\n",
       "\n",
       "    .dataframe thead th {\n",
       "        text-align: right;\n",
       "    }\n",
       "</style>\n",
       "<table border=\"1\" class=\"dataframe\">\n",
       "  <thead>\n",
       "    <tr style=\"text-align: right;\">\n",
       "      <th></th>\n",
       "      <th>0</th>\n",
       "      <th>1</th>\n",
       "      <th>RMSE</th>\n",
       "    </tr>\n",
       "  </thead>\n",
       "  <tbody>\n",
       "    <tr>\n",
       "      <th>21158</th>\n",
       "      <td>0.270050</td>\n",
       "      <td>0.729950</td>\n",
       "      <td>0.343070</td>\n",
       "    </tr>\n",
       "    <tr>\n",
       "      <th>11184</th>\n",
       "      <td>0.271240</td>\n",
       "      <td>0.728760</td>\n",
       "      <td>0.343186</td>\n",
       "    </tr>\n",
       "    <tr>\n",
       "      <th>17107</th>\n",
       "      <td>0.271617</td>\n",
       "      <td>0.728383</td>\n",
       "      <td>0.343223</td>\n",
       "    </tr>\n",
       "    <tr>\n",
       "      <th>8247</th>\n",
       "      <td>0.271791</td>\n",
       "      <td>0.728209</td>\n",
       "      <td>0.343240</td>\n",
       "    </tr>\n",
       "    <tr>\n",
       "      <th>9826</th>\n",
       "      <td>0.272155</td>\n",
       "      <td>0.727845</td>\n",
       "      <td>0.343275</td>\n",
       "    </tr>\n",
       "    <tr>\n",
       "      <th>23795</th>\n",
       "      <td>0.272679</td>\n",
       "      <td>0.727321</td>\n",
       "      <td>0.343326</td>\n",
       "    </tr>\n",
       "    <tr>\n",
       "      <th>2390</th>\n",
       "      <td>0.274111</td>\n",
       "      <td>0.725889</td>\n",
       "      <td>0.343466</td>\n",
       "    </tr>\n",
       "    <tr>\n",
       "      <th>17247</th>\n",
       "      <td>0.274250</td>\n",
       "      <td>0.725750</td>\n",
       "      <td>0.343480</td>\n",
       "    </tr>\n",
       "    <tr>\n",
       "      <th>22281</th>\n",
       "      <td>0.274304</td>\n",
       "      <td>0.725696</td>\n",
       "      <td>0.343485</td>\n",
       "    </tr>\n",
       "    <tr>\n",
       "      <th>27838</th>\n",
       "      <td>0.274457</td>\n",
       "      <td>0.725543</td>\n",
       "      <td>0.343500</td>\n",
       "    </tr>\n",
       "  </tbody>\n",
       "</table>\n",
       "</div>"
      ],
      "text/plain": [
       "              0         1      RMSE\n",
       "21158  0.270050  0.729950  0.343070\n",
       "11184  0.271240  0.728760  0.343186\n",
       "17107  0.271617  0.728383  0.343223\n",
       "8247   0.271791  0.728209  0.343240\n",
       "9826   0.272155  0.727845  0.343275\n",
       "23795  0.272679  0.727321  0.343326\n",
       "2390   0.274111  0.725889  0.343466\n",
       "17247  0.274250  0.725750  0.343480\n",
       "22281  0.274304  0.725696  0.343485\n",
       "27838  0.274457  0.725543  0.343500"
      ]
     },
     "execution_count": 75,
     "metadata": {},
     "output_type": "execute_result"
    }
   ],
   "source": [
    "models = {'RandomForest' : rf, 'LightGBM' : lgb_reg}\n",
    "ensemble = EnsembleRegressor(models, weights=None)\n",
    "result = ensemble.random_search(X_test, y_test, 30000)\n",
    "result.head(10)"
   ]
  },
  {
   "cell_type": "code",
   "execution_count": 76,
   "metadata": {},
   "outputs": [
    {
     "name": "stdout",
     "output_type": "stream",
     "text": [
      "[0.27, 0.73]\n"
     ]
    }
   ],
   "source": [
    "optimal_weight = np.round(result.iloc[0,:-1], 3).tolist()\n",
    "print(optimal_weight)"
   ]
  },
  {
   "cell_type": "code",
   "execution_count": 77,
   "metadata": {},
   "outputs": [
    {
     "name": "stdout",
     "output_type": "stream",
     "text": [
      "[6.3308746  7.06678263 5.72489317 6.15037664]\n"
     ]
    }
   ],
   "source": [
    "ensemble = EnsembleRegressor(models, weights=optimal_weight)\n",
    "\n",
    "preds = ensemble.predict(X_test)\n",
    "print(preds[:10])"
   ]
  },
  {
   "cell_type": "code",
   "execution_count": 78,
   "metadata": {},
   "outputs": [
    {
     "data": {
      "text/plain": [
       "0.3430653538466519"
      ]
     },
     "execution_count": 78,
     "metadata": {},
     "output_type": "execute_result"
    }
   ],
   "source": [
    "rmse = np.sqrt(mean_squared_error(y_test, preds))\n",
    "rmse"
   ]
  },
  {
   "cell_type": "markdown",
   "metadata": {},
   "source": [
    "# Evaluation"
   ]
  },
  {
   "cell_type": "code",
   "execution_count": 79,
   "metadata": {},
   "outputs": [
    {
     "name": "stdout",
     "output_type": "stream",
     "text": [
      "[ 560.64759595 1171.37001142  305.40053208  467.89395973]\n",
      "[ 492.         1213.63636364  262.5         242.42424242]\n"
     ]
    }
   ],
   "source": [
    "inverse_transformed_pred = np.expm1(preds)\n",
    "inverse_transformed_pred = np.where(inverse_transformed_pred < 0, 0, inverse_transformed_pred)\n",
    "inverse_transformed_y_test = np.expm1(y_test)\n",
    "\n",
    "print(inverse_transformed_pred[:10])\n",
    "print(inverse_transformed_y_test[:10])"
   ]
  },
  {
   "cell_type": "code",
   "execution_count": 80,
   "metadata": {},
   "outputs": [
    {
     "data": {
      "text/plain": [
       "121.63057390459696"
      ]
     },
     "execution_count": 80,
     "metadata": {},
     "output_type": "execute_result"
    }
   ],
   "source": [
    "np.sqrt(mean_squared_error(inverse_transformed_y_test, inverse_transformed_pred))"
   ]
  },
  {
   "cell_type": "code",
   "execution_count": 81,
   "metadata": {},
   "outputs": [
    {
     "data": {
      "text/html": [
       "<div>\n",
       "<style scoped>\n",
       "    .dataframe tbody tr th:only-of-type {\n",
       "        vertical-align: middle;\n",
       "    }\n",
       "\n",
       "    .dataframe tbody tr th {\n",
       "        vertical-align: top;\n",
       "    }\n",
       "\n",
       "    .dataframe thead th {\n",
       "        text-align: right;\n",
       "    }\n",
       "</style>\n",
       "<table border=\"1\" class=\"dataframe\">\n",
       "  <thead>\n",
       "    <tr style=\"text-align: right;\">\n",
       "      <th></th>\n",
       "      <th>생산량</th>\n",
       "      <th>예측값</th>\n",
       "    </tr>\n",
       "  </thead>\n",
       "  <tbody>\n",
       "    <tr>\n",
       "      <th>0</th>\n",
       "      <td>492.0</td>\n",
       "      <td>560.6</td>\n",
       "    </tr>\n",
       "    <tr>\n",
       "      <th>1</th>\n",
       "      <td>1213.6</td>\n",
       "      <td>1171.4</td>\n",
       "    </tr>\n",
       "    <tr>\n",
       "      <th>2</th>\n",
       "      <td>262.5</td>\n",
       "      <td>305.4</td>\n",
       "    </tr>\n",
       "    <tr>\n",
       "      <th>3</th>\n",
       "      <td>242.4</td>\n",
       "      <td>467.9</td>\n",
       "    </tr>\n",
       "  </tbody>\n",
       "</table>\n",
       "</div>"
      ],
      "text/plain": [
       "      생산량     예측값\n",
       "0   492.0   560.6\n",
       "1  1213.6  1171.4\n",
       "2   262.5   305.4\n",
       "3   242.4   467.9"
      ]
     },
     "execution_count": 81,
     "metadata": {},
     "output_type": "execute_result"
    }
   ],
   "source": [
    "inverse_transformed_pred = pd.Series(np.round(inverse_transformed_pred,1), name='예측값')\n",
    "inverse_transformed_y_test= pd.Series(np.round(inverse_transformed_y_test,1), name='생산량')\n",
    "result = pd.concat([inverse_transformed_y_test, inverse_transformed_pred], axis=1)\n",
    "result[:30]"
   ]
  },
  {
   "cell_type": "markdown",
   "metadata": {},
   "source": [
    "# Prediction"
   ]
  },
  {
   "cell_type": "code",
   "execution_count": 84,
   "metadata": {},
   "outputs": [],
   "source": [
    "def prediction(file_path):\n",
    "    use_cols = ['fno',\n",
    "                'age1',\n",
    "                'cvl00', 'cvl10',\n",
    "                'labch', 'labh_hour', 'lab_cost',\n",
    "                'fmtc', 'lansh',\n",
    "                'size', 'ara']\n",
    "    \n",
    "    data = pd.read_csv(file_path).loc[:,use_cols]\n",
    "    \n",
    "    # log transform\n",
    "    data.loc[:, ['cvl00', 'cvl10']] = np.log1p(data.loc[:, ['cvl00','cvl10']])\n",
    "    data.loc[:, ['fmtc', 'lansh']] = np.log1p(data.loc[:, ['fmtc', 'lansh']])\n",
    "    data.loc[:, ['labch', 'labh_hour', 'lab_cost']] = np.log1p(data.loc[:, ['labch', 'labh_hour', 'lab_cost']])\n",
    "    \n",
    "    # data imputation\n",
    "    data.replace({'labch' : {0 : np.nan},\n",
    "              'labh_hour' : {0 : np.nan},\n",
    "              'lab_cost' : {0 : np.nan},\n",
    "              'lansh' : {0 : np.nan},},\n",
    "              inplace=True)\n",
    "    if data.isnull().sum().sum() > 0:\n",
    "        print(data.isnull().sum())\n",
    "        data.fillna(data.mean(), inplace=True)\n",
    "        \n",
    "    # enconding\n",
    "    onehot = onehot_encoder.transform(data.loc[:, categorical_variables])\n",
    "    X_scaled = X_minmax_scaler.transform(data.loc[:, numerical_variables])\n",
    "    numeric_data_df = pd.DataFrame(X_scaled, columns=numerical_variables)\n",
    "    onehot_data_df = pd.DataFrame(onehot.toarray())\n",
    "\n",
    "    X_data_df = pd.concat([numeric_data_df , onehot_data_df], axis=1)\n",
    "    X_test = np.array(X_data_df)\n",
    "    \n",
    "    # predict and inverse transform\n",
    "    preds = ensemble.predict(X_test)\n",
    "    inverse_transformed_pred = np.expm1(preds)\n",
    "    inverse_transformed_pred = np.where(inverse_transformed_pred < 0, 0, inverse_transformed_pred)\n",
    "    \n",
    "    result = pd.DataFrame({'prediction' : inverse_transformed_pred}, index=data.fno)\n",
    "    \n",
    "    return result"
   ]
  },
  {
   "cell_type": "code",
   "execution_count": 85,
   "metadata": {},
   "outputs": [
    {
     "data": {
      "text/html": [
       "<div>\n",
       "<style scoped>\n",
       "    .dataframe tbody tr th:only-of-type {\n",
       "        vertical-align: middle;\n",
       "    }\n",
       "\n",
       "    .dataframe tbody tr th {\n",
       "        vertical-align: top;\n",
       "    }\n",
       "\n",
       "    .dataframe thead th {\n",
       "        text-align: right;\n",
       "    }\n",
       "</style>\n",
       "<table border=\"1\" class=\"dataframe\">\n",
       "  <thead>\n",
       "    <tr style=\"text-align: right;\">\n",
       "      <th></th>\n",
       "      <th>prediction</th>\n",
       "    </tr>\n",
       "    <tr>\n",
       "      <th>fno</th>\n",
       "      <th></th>\n",
       "    </tr>\n",
       "  </thead>\n",
       "  <tbody>\n",
       "    <tr>\n",
       "      <th>21078</th>\n",
       "      <td>135.726253</td>\n",
       "    </tr>\n",
       "    <tr>\n",
       "      <th>21079</th>\n",
       "      <td>250.327243</td>\n",
       "    </tr>\n",
       "    <tr>\n",
       "      <th>21084</th>\n",
       "      <td>6258.141287</td>\n",
       "    </tr>\n",
       "    <tr>\n",
       "      <th>21115</th>\n",
       "      <td>231.055576</td>\n",
       "    </tr>\n",
       "    <tr>\n",
       "      <th>21116</th>\n",
       "      <td>327.037216</td>\n",
       "    </tr>\n",
       "    <tr>\n",
       "      <th>21156</th>\n",
       "      <td>229.639699</td>\n",
       "    </tr>\n",
       "    <tr>\n",
       "      <th>23166</th>\n",
       "      <td>2364.907438</td>\n",
       "    </tr>\n",
       "    <tr>\n",
       "      <th>23167</th>\n",
       "      <td>4058.063641</td>\n",
       "    </tr>\n",
       "    <tr>\n",
       "      <th>23168</th>\n",
       "      <td>696.568566</td>\n",
       "    </tr>\n",
       "    <tr>\n",
       "      <th>23169</th>\n",
       "      <td>496.776736</td>\n",
       "    </tr>\n",
       "    <tr>\n",
       "      <th>23170</th>\n",
       "      <td>6000.320542</td>\n",
       "    </tr>\n",
       "    <tr>\n",
       "      <th>23171</th>\n",
       "      <td>9840.915341</td>\n",
       "    </tr>\n",
       "    <tr>\n",
       "      <th>23172</th>\n",
       "      <td>486.351861</td>\n",
       "    </tr>\n",
       "    <tr>\n",
       "      <th>23173</th>\n",
       "      <td>380.532069</td>\n",
       "    </tr>\n",
       "    <tr>\n",
       "      <th>23174</th>\n",
       "      <td>7552.929099</td>\n",
       "    </tr>\n",
       "    <tr>\n",
       "      <th>23176</th>\n",
       "      <td>7903.105122</td>\n",
       "    </tr>\n",
       "    <tr>\n",
       "      <th>23177</th>\n",
       "      <td>2337.831039</td>\n",
       "    </tr>\n",
       "    <tr>\n",
       "      <th>23178</th>\n",
       "      <td>581.554899</td>\n",
       "    </tr>\n",
       "    <tr>\n",
       "      <th>23179</th>\n",
       "      <td>1982.440020</td>\n",
       "    </tr>\n",
       "    <tr>\n",
       "      <th>23181</th>\n",
       "      <td>3114.039935</td>\n",
       "    </tr>\n",
       "    <tr>\n",
       "      <th>25013</th>\n",
       "      <td>7589.810583</td>\n",
       "    </tr>\n",
       "    <tr>\n",
       "      <th>25014</th>\n",
       "      <td>7686.601093</td>\n",
       "    </tr>\n",
       "    <tr>\n",
       "      <th>25016</th>\n",
       "      <td>6446.217167</td>\n",
       "    </tr>\n",
       "    <tr>\n",
       "      <th>25017</th>\n",
       "      <td>626.087758</td>\n",
       "    </tr>\n",
       "    <tr>\n",
       "      <th>25018</th>\n",
       "      <td>843.823830</td>\n",
       "    </tr>\n",
       "    <tr>\n",
       "      <th>25019</th>\n",
       "      <td>9053.968541</td>\n",
       "    </tr>\n",
       "    <tr>\n",
       "      <th>25020</th>\n",
       "      <td>8732.817294</td>\n",
       "    </tr>\n",
       "  </tbody>\n",
       "</table>\n",
       "</div>"
      ],
      "text/plain": [
       "        prediction\n",
       "fno               \n",
       "21078   135.726253\n",
       "21079   250.327243\n",
       "21084  6258.141287\n",
       "21115   231.055576\n",
       "21116   327.037216\n",
       "21156   229.639699\n",
       "23166  2364.907438\n",
       "23167  4058.063641\n",
       "23168   696.568566\n",
       "23169   496.776736\n",
       "23170  6000.320542\n",
       "23171  9840.915341\n",
       "23172   486.351861\n",
       "23173   380.532069\n",
       "23174  7552.929099\n",
       "23176  7903.105122\n",
       "23177  2337.831039\n",
       "23178   581.554899\n",
       "23179  1982.440020\n",
       "23181  3114.039935\n",
       "25013  7589.810583\n",
       "25014  7686.601093\n",
       "25016  6446.217167\n",
       "25017   626.087758\n",
       "25018   843.823830\n",
       "25019  9053.968541\n",
       "25020  8732.817294"
      ]
     },
     "execution_count": 85,
     "metadata": {},
     "output_type": "execute_result"
    }
   ],
   "source": [
    "file_path = './(수정)임산물생산비 마이크로데이터(2020)/(수정)2020년_임산물생산비조사_7.곰취노지.csv'\n",
    "prediction = prediction(file_path)\n",
    "prediction"
   ]
  },
  {
   "cell_type": "code",
   "execution_count": 86,
   "metadata": {},
   "outputs": [],
   "source": [
    "prediction.to_csv('prediction/2020년_임산물생산비조사_7.곰취노지_예측값.csv')"
   ]
  },
  {
   "cell_type": "code",
   "execution_count": null,
   "metadata": {},
   "outputs": [],
   "source": []
  }
 ],
 "metadata": {
  "kernelspec": {
   "display_name": "Python 3",
   "language": "python",
   "name": "python3"
  },
  "language_info": {
   "codemirror_mode": {
    "name": "ipython",
    "version": 3
   },
   "file_extension": ".py",
   "mimetype": "text/x-python",
   "name": "python",
   "nbconvert_exporter": "python",
   "pygments_lexer": "ipython3",
   "version": "3.8.8"
  }
 },
 "nbformat": 4,
 "nbformat_minor": 4
}
