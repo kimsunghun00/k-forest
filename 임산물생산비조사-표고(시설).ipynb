{
 "cells": [
  {
   "cell_type": "markdown",
   "metadata": {},
   "source": [
    "# Load Data"
   ]
  },
  {
   "cell_type": "markdown",
   "metadata": {},
   "source": [
    "## 표고(시설)"
   ]
  },
  {
   "cell_type": "code",
   "execution_count": 1,
   "metadata": {},
   "outputs": [
    {
     "name": "stdout",
     "output_type": "stream",
     "text": [
      "----------\n",
      "2014 (147, 389) 시설\n",
      "----------\n",
      "2015 (150, 390) 시설\n",
      "----------\n",
      "2016 (137, 389) 시설\n",
      "----------\n",
      "2017 (144, 389) 시설\n",
      "----------\n",
      "2018 (109, 389) 시설\n",
      "----------\n",
      "2019 (105, 405) 시설\n"
     ]
    }
   ],
   "source": [
    "import os\n",
    "import pandas as pd\n",
    "import numpy as np\n",
    "\n",
    "\n",
    "def load_data(path):\n",
    "    years = [2010, 2011, 2012, 2013, 2014, 2015, 2016, 2017, 2018, 2019]\n",
    "    use_cols = ['age1',\n",
    "                'land',\n",
    "                'labch', 'labh_hour', 'lab_cost',\n",
    "                'fmtc', 'lansh',\n",
    "                'size', 'ara', 'de2',# catecorical variable\n",
    "                'cony'] # dependent variable\n",
    "\n",
    "    dataframe_list = []\n",
    "\n",
    "    # 2014\n",
    "    print('-'*10)\n",
    "    ## 노지\n",
    "    file_path1 = os.path.join(path, str(years[4])+'년', str(years[4])+'년 임산물생산비조사_통합 데이터_5. 표고(원목_시설)(엑셀1).xlsx')\n",
    "    file_path2 = os.path.join(path, str(years[4])+'년', str(years[4])+'년 임산물생산비조사_통합 데이터_5. 표고(원목_시설)(엑셀2).xlsx')\n",
    "\n",
    "    forest_data1 = pd.read_excel(file_path1)\n",
    "    forest_data2 = pd.read_excel(file_path2)\n",
    "    forest_2014 = pd.concat([forest_data1, forest_data2], axis=1)\n",
    "\n",
    "    dataframe_list.append(forest_2014.loc[:,use_cols])\n",
    "    print(2014, forest_2014.shape, '시설')\n",
    "    \n",
    "    # 2015-2016\n",
    "    for year in years[5:7]:\n",
    "        print('-'*10)\n",
    "        file_path1 = os.path.join(path, str(year)+'년', str(year)+'년 임산물생산비조사_통합 데이터_5. 표고_시설(엑셀1).xlsx')\n",
    "        file_path2 = os.path.join(path, str(year)+'년', str(year)+'년 임산물생산비조사_통합 데이터_5. 표고_시설(엑셀2).xlsx')\n",
    "\n",
    "        forest_data1 = pd.read_excel(file_path1)\n",
    "        forest_data2 = pd.read_excel(file_path2)\n",
    "        forest_data = pd.concat([forest_data1, forest_data2], axis=1)\n",
    "\n",
    "        dataframe_list.append(forest_data.loc[:,use_cols])\n",
    "        print(year, forest_data.shape, '시설')\n",
    "\n",
    "    \n",
    "    # 2017-2018\n",
    "    for year in years[7:9]:\n",
    "        print('-'*10)\n",
    "        file_path1 = os.path.join(path, str(year)+'년', str(year)+'년 임산물생산비조사_통합 데이터_5. 표고_시설(엑셀 1).xls')\n",
    "        file_path2 = os.path.join(path, str(year)+'년', str(year)+'년 임산물생산비조사_통합 데이터_5. 표고_시설(엑셀 2).xls')\n",
    "\n",
    "        forest_data1 = pd.read_excel(file_path1)\n",
    "        forest_data2 = pd.read_excel(file_path2)\n",
    "        forest_data = pd.concat([forest_data1, forest_data2], axis=1)\n",
    "\n",
    "        dataframe_list.append(forest_data.loc[:,use_cols])\n",
    "        print(year, forest_data.shape, '시설')\n",
    "\n",
    "\n",
    "    # 2019\n",
    "    print('-'*10)\n",
    "    file_path = os.path.join(path, str(years[9])+'년', str(years[9])+'년 임산물생산비조사_통합 데이터_5. 표고시설.xlsx')\n",
    "    forest_2019 = pd.read_excel(file_path)\n",
    "    dataframe_list.append(forest_2019.loc[:,use_cols])\n",
    "    print(2019, forest_2019.shape, '시설')\n",
    "    \n",
    "\n",
    "    data = pd.concat(dataframe_list, axis=0)\n",
    "    data = data.reset_index(drop=True)\n",
    "    \n",
    "    return data\n",
    "    \n",
    "data = load_data('./임산물생산비조사 마이크로데이터(2010-2019)')"
   ]
  },
  {
   "cell_type": "code",
   "execution_count": 2,
   "metadata": {},
   "outputs": [
    {
     "data": {
      "text/html": [
       "<div>\n",
       "<style scoped>\n",
       "    .dataframe tbody tr th:only-of-type {\n",
       "        vertical-align: middle;\n",
       "    }\n",
       "\n",
       "    .dataframe tbody tr th {\n",
       "        vertical-align: top;\n",
       "    }\n",
       "\n",
       "    .dataframe thead th {\n",
       "        text-align: right;\n",
       "    }\n",
       "</style>\n",
       "<table border=\"1\" class=\"dataframe\">\n",
       "  <thead>\n",
       "    <tr style=\"text-align: right;\">\n",
       "      <th></th>\n",
       "      <th>age1</th>\n",
       "      <th>land</th>\n",
       "      <th>labch</th>\n",
       "      <th>labh_hour</th>\n",
       "      <th>lab_cost</th>\n",
       "      <th>fmtc</th>\n",
       "      <th>lansh</th>\n",
       "      <th>size</th>\n",
       "      <th>ara</th>\n",
       "      <th>de2</th>\n",
       "      <th>cony</th>\n",
       "    </tr>\n",
       "  </thead>\n",
       "  <tbody>\n",
       "    <tr>\n",
       "      <th>0</th>\n",
       "      <td>62</td>\n",
       "      <td>17558972</td>\n",
       "      <td>1.153964e+07</td>\n",
       "      <td>937.692308</td>\n",
       "      <td>15001528</td>\n",
       "      <td>4.510959e+07</td>\n",
       "      <td>3.846154e+05</td>\n",
       "      <td>2</td>\n",
       "      <td>31</td>\n",
       "      <td>2</td>\n",
       "      <td>3669.230769</td>\n",
       "    </tr>\n",
       "    <tr>\n",
       "      <th>1</th>\n",
       "      <td>55</td>\n",
       "      <td>17558972</td>\n",
       "      <td>1.161644e+07</td>\n",
       "      <td>945.384615</td>\n",
       "      <td>15101368</td>\n",
       "      <td>3.581418e+07</td>\n",
       "      <td>1.538462e+06</td>\n",
       "      <td>2</td>\n",
       "      <td>31</td>\n",
       "      <td>2</td>\n",
       "      <td>3680.769231</td>\n",
       "    </tr>\n",
       "    <tr>\n",
       "      <th>2</th>\n",
       "      <td>60</td>\n",
       "      <td>17558972</td>\n",
       "      <td>9.744024e+06</td>\n",
       "      <td>794.000000</td>\n",
       "      <td>9744024</td>\n",
       "      <td>3.465235e+07</td>\n",
       "      <td>5.000000e+05</td>\n",
       "      <td>2</td>\n",
       "      <td>31</td>\n",
       "      <td>2</td>\n",
       "      <td>3550.000000</td>\n",
       "    </tr>\n",
       "    <tr>\n",
       "      <th>3</th>\n",
       "      <td>64</td>\n",
       "      <td>17558972</td>\n",
       "      <td>1.150237e+07</td>\n",
       "      <td>935.384615</td>\n",
       "      <td>14953084</td>\n",
       "      <td>3.481373e+07</td>\n",
       "      <td>3.846154e+05</td>\n",
       "      <td>2</td>\n",
       "      <td>31</td>\n",
       "      <td>2</td>\n",
       "      <td>3492.307692</td>\n",
       "    </tr>\n",
       "    <tr>\n",
       "      <th>4</th>\n",
       "      <td>69</td>\n",
       "      <td>17558972</td>\n",
       "      <td>6.076195e+06</td>\n",
       "      <td>500.909091</td>\n",
       "      <td>13367630</td>\n",
       "      <td>2.732237e+07</td>\n",
       "      <td>4.545455e+05</td>\n",
       "      <td>3</td>\n",
       "      <td>31</td>\n",
       "      <td>1</td>\n",
       "      <td>1868.181818</td>\n",
       "    </tr>\n",
       "    <tr>\n",
       "      <th>...</th>\n",
       "      <td>...</td>\n",
       "      <td>...</td>\n",
       "      <td>...</td>\n",
       "      <td>...</td>\n",
       "      <td>...</td>\n",
       "      <td>...</td>\n",
       "      <td>...</td>\n",
       "      <td>...</td>\n",
       "      <td>...</td>\n",
       "      <td>...</td>\n",
       "      <td>...</td>\n",
       "    </tr>\n",
       "    <tr>\n",
       "      <th>787</th>\n",
       "      <td>47</td>\n",
       "      <td>18185698</td>\n",
       "      <td>1.931719e+06</td>\n",
       "      <td>127.252252</td>\n",
       "      <td>8576834</td>\n",
       "      <td>2.650339e+07</td>\n",
       "      <td>1.409894e+05</td>\n",
       "      <td>3</td>\n",
       "      <td>36</td>\n",
       "      <td>1</td>\n",
       "      <td>1288.513514</td>\n",
       "    </tr>\n",
       "    <tr>\n",
       "      <th>788</th>\n",
       "      <td>66</td>\n",
       "      <td>18293913</td>\n",
       "      <td>1.826943e+06</td>\n",
       "      <td>147.517730</td>\n",
       "      <td>5151980</td>\n",
       "      <td>2.225724e+07</td>\n",
       "      <td>2.969216e+05</td>\n",
       "      <td>3</td>\n",
       "      <td>37</td>\n",
       "      <td>2</td>\n",
       "      <td>3318.085106</td>\n",
       "    </tr>\n",
       "    <tr>\n",
       "      <th>789</th>\n",
       "      <td>82</td>\n",
       "      <td>18293913</td>\n",
       "      <td>1.125919e+07</td>\n",
       "      <td>1225.925926</td>\n",
       "      <td>24319857</td>\n",
       "      <td>3.069437e+07</td>\n",
       "      <td>2.953125e+05</td>\n",
       "      <td>3</td>\n",
       "      <td>37</td>\n",
       "      <td>1</td>\n",
       "      <td>2355.555556</td>\n",
       "    </tr>\n",
       "    <tr>\n",
       "      <th>790</th>\n",
       "      <td>71</td>\n",
       "      <td>18293913</td>\n",
       "      <td>7.461814e+05</td>\n",
       "      <td>64.460784</td>\n",
       "      <td>3044420</td>\n",
       "      <td>2.144490e+07</td>\n",
       "      <td>1.474081e+05</td>\n",
       "      <td>3</td>\n",
       "      <td>37</td>\n",
       "      <td>2</td>\n",
       "      <td>542.401961</td>\n",
       "    </tr>\n",
       "    <tr>\n",
       "      <th>791</th>\n",
       "      <td>54</td>\n",
       "      <td>18623928</td>\n",
       "      <td>4.216754e+06</td>\n",
       "      <td>338.759690</td>\n",
       "      <td>10879225</td>\n",
       "      <td>3.339977e+07</td>\n",
       "      <td>4.662209e+05</td>\n",
       "      <td>3</td>\n",
       "      <td>99</td>\n",
       "      <td>1</td>\n",
       "      <td>3873.643411</td>\n",
       "    </tr>\n",
       "  </tbody>\n",
       "</table>\n",
       "<p>792 rows × 11 columns</p>\n",
       "</div>"
      ],
      "text/plain": [
       "     age1      land         labch    labh_hour  lab_cost          fmtc  \\\n",
       "0      62  17558972  1.153964e+07   937.692308  15001528  4.510959e+07   \n",
       "1      55  17558972  1.161644e+07   945.384615  15101368  3.581418e+07   \n",
       "2      60  17558972  9.744024e+06   794.000000   9744024  3.465235e+07   \n",
       "3      64  17558972  1.150237e+07   935.384615  14953084  3.481373e+07   \n",
       "4      69  17558972  6.076195e+06   500.909091  13367630  2.732237e+07   \n",
       "..    ...       ...           ...          ...       ...           ...   \n",
       "787    47  18185698  1.931719e+06   127.252252   8576834  2.650339e+07   \n",
       "788    66  18293913  1.826943e+06   147.517730   5151980  2.225724e+07   \n",
       "789    82  18293913  1.125919e+07  1225.925926  24319857  3.069437e+07   \n",
       "790    71  18293913  7.461814e+05    64.460784   3044420  2.144490e+07   \n",
       "791    54  18623928  4.216754e+06   338.759690  10879225  3.339977e+07   \n",
       "\n",
       "            lansh  size  ara  de2         cony  \n",
       "0    3.846154e+05     2   31    2  3669.230769  \n",
       "1    1.538462e+06     2   31    2  3680.769231  \n",
       "2    5.000000e+05     2   31    2  3550.000000  \n",
       "3    3.846154e+05     2   31    2  3492.307692  \n",
       "4    4.545455e+05     3   31    1  1868.181818  \n",
       "..            ...   ...  ...  ...          ...  \n",
       "787  1.409894e+05     3   36    1  1288.513514  \n",
       "788  2.969216e+05     3   37    2  3318.085106  \n",
       "789  2.953125e+05     3   37    1  2355.555556  \n",
       "790  1.474081e+05     3   37    2   542.401961  \n",
       "791  4.662209e+05     3   99    1  3873.643411  \n",
       "\n",
       "[792 rows x 11 columns]"
      ]
     },
     "execution_count": 2,
     "metadata": {},
     "output_type": "execute_result"
    }
   ],
   "source": [
    "data"
   ]
  },
  {
   "cell_type": "code",
   "execution_count": 3,
   "metadata": {},
   "outputs": [
    {
     "name": "stdout",
     "output_type": "stream",
     "text": [
      "0\n",
      "(792, 11)\n"
     ]
    }
   ],
   "source": [
    "print((data['cony'] == 0).sum())\n",
    "data.drop(data[data['cony'] == 0].index, inplace=True)\n",
    "print(data.shape)"
   ]
  },
  {
   "cell_type": "code",
   "execution_count": 4,
   "metadata": {},
   "outputs": [
    {
     "data": {
      "text/plain": [
       "age1         0\n",
       "land         0\n",
       "labch        0\n",
       "labh_hour    0\n",
       "lab_cost     0\n",
       "fmtc         0\n",
       "lansh        0\n",
       "size         0\n",
       "ara          0\n",
       "de2          0\n",
       "cony         0\n",
       "dtype: int64"
      ]
     },
     "execution_count": 4,
     "metadata": {},
     "output_type": "execute_result"
    }
   ],
   "source": [
    "data.isnull().sum()"
   ]
  },
  {
   "cell_type": "code",
   "execution_count": 5,
   "metadata": {},
   "outputs": [
    {
     "data": {
      "text/plain": [
       "age1         0\n",
       "land         0\n",
       "labch        0\n",
       "labh_hour    0\n",
       "lab_cost     0\n",
       "fmtc         0\n",
       "lansh        0\n",
       "size         0\n",
       "ara          0\n",
       "de2          0\n",
       "cony         0\n",
       "dtype: int64"
      ]
     },
     "execution_count": 5,
     "metadata": {},
     "output_type": "execute_result"
    }
   ],
   "source": [
    "data.fillna(data.mean(), inplace=True)\n",
    "data.isnull().sum()"
   ]
  },
  {
   "cell_type": "code",
   "execution_count": 6,
   "metadata": {},
   "outputs": [
    {
     "name": "stdout",
     "output_type": "stream",
     "text": [
      "2    268\n",
      "1    267\n",
      "3    257\n",
      "Name: size, dtype: int64\n",
      "\n",
      "34    250\n",
      "37    161\n",
      "36    121\n",
      "31     94\n",
      "33     94\n",
      "99     72\n",
      "Name: ara, dtype: int64\n",
      "\n",
      "2    566\n",
      "1    226\n",
      "Name: de2, dtype: int64\n",
      "\n"
     ]
    }
   ],
   "source": [
    "for column in data.columns:\n",
    "    if len(data[column].value_counts()) <= 10:\n",
    "        print(data[column].value_counts())\n",
    "        print()"
   ]
  },
  {
   "cell_type": "code",
   "execution_count": 7,
   "metadata": {
    "scrolled": false
   },
   "outputs": [
    {
     "data": {
      "image/png": "[encoded data removed]",
      "text/plain": [
       "<Figure size 432x288 with 1 Axes>"
      ]
     },
     "metadata": {
      "needs_background": "light"
     },
     "output_type": "display_data"
    },
    {
     "data": {
      "image/png": "[encoded data removed]",
      "text/plain": [
       "<Figure size 432x288 with 1 Axes>"
      ]
     },
     "metadata": {
      "needs_background": "light"
     },
     "output_type": "display_data"
    },
    {
     "data": {
      "image/png": "[encoded data removed]",
      "text/plain": [
       "<Figure size 432x288 with 1 Axes>"
      ]
     },
     "metadata": {
      "needs_background": "light"
     },
     "output_type": "display_data"
    },
    {
     "data": {
      "image/png": "[encoded data removed]",
      "text/plain": [
       "<Figure size 432x288 with 1 Axes>"
      ]
     },
     "metadata": {
      "needs_background": "light"
     },
     "output_type": "display_data"
    },
    {
     "data": {
      "image/png": "[encoded data removed]",
      "text/plain": [
       "<Figure size 432x288 with 1 Axes>"
      ]
     },
     "metadata": {
      "needs_background": "light"
     },
     "output_type": "display_data"
    },
    {
     "data": {
      "image/png": "[encoded data removed]",
      "text/plain": [
       "<Figure size 432x288 with 1 Axes>"
      ]
     },
     "metadata": {
      "needs_background": "light"
     },
     "output_type": "display_data"
    },
    {
     "data": {
      "image/png": "[encoded data removed]",
      "text/plain": [
       "<Figure size 432x288 with 1 Axes>"
      ]
     },
     "metadata": {
      "needs_background": "light"
     },
     "output_type": "display_data"
    },
    {
     "data": {
      "image/png": "[encoded data removed]",
      "text/plain": [
       "<Figure size 432x288 with 1 Axes>"
      ]
     },
     "metadata": {
      "needs_background": "light"
     },
     "output_type": "display_data"
    },
    {
     "data": {
      "image/png": "[encoded data removed]",
      "text/plain": [
       "<Figure size 432x288 with 1 Axes>"
      ]
     },
     "metadata": {
      "needs_background": "light"
     },
     "output_type": "display_data"
    },
    {
     "data": {
      "image/png": "[encoded data removed]",
      "text/plain": [
       "<Figure size 432x288 with 1 Axes>"
      ]
     },
     "metadata": {
      "needs_background": "light"
     },
     "output_type": "display_data"
    },
    {
     "data": {
      "image/png": "[encoded data removed]",
      "text/plain": [
       "<Figure size 432x288 with 1 Axes>"
      ]
     },
     "metadata": {
      "needs_background": "light"
     },
     "output_type": "display_data"
    }
   ],
   "source": [
    "import matplotlib.pyplot as plt\n",
    "%matplotlib inline\n",
    "\n",
    "for column in data.columns:\n",
    "    data[column].hist()\n",
    "    plt.title(column)\n",
    "    plt.show()"
   ]
  },
  {
   "cell_type": "markdown",
   "metadata": {},
   "source": [
    "## Log Transform"
   ]
  },
  {
   "cell_type": "code",
   "execution_count": 8,
   "metadata": {},
   "outputs": [],
   "source": [
    "data.loc[:, ['fmtc', 'lansh']] = np.log1p(data.loc[:, ['fmtc', 'lansh']])\n",
    "data.loc[:, ['labch', 'labh_hour', 'lab_cost']] = np.log1p(data.loc[:, ['labch', 'labh_hour', 'lab_cost']])"
   ]
  },
  {
   "cell_type": "code",
   "execution_count": 9,
   "metadata": {},
   "outputs": [],
   "source": [
    "data['cony'] = np.log1p(data['cony'])"
   ]
  },
  {
   "cell_type": "code",
   "execution_count": 10,
   "metadata": {},
   "outputs": [
    {
     "data": {
      "image/png": "[encoded data removed]",
      "text/plain": [
       "<Figure size 432x288 with 1 Axes>"
      ]
     },
     "metadata": {
      "needs_background": "light"
     },
     "output_type": "display_data"
    },
    {
     "data": {
      "image/png": "[encoded data removed]",
      "text/plain": [
       "<Figure size 432x288 with 1 Axes>"
      ]
     },
     "metadata": {
      "needs_background": "light"
     },
     "output_type": "display_data"
    },
    {
     "data": {
      "image/png": "[encoded data removed]",
      "text/plain": [
       "<Figure size 432x288 with 1 Axes>"
      ]
     },
     "metadata": {
      "needs_background": "light"
     },
     "output_type": "display_data"
    },
    {
     "data": {
      "image/png": "[encoded data removed]",
      "text/plain": [
       "<Figure size 432x288 with 1 Axes>"
      ]
     },
     "metadata": {
      "needs_background": "light"
     },
     "output_type": "display_data"
    },
    {
     "data": {
      "image/png": "[encoded data removed]",
      "text/plain": [
       "<Figure size 432x288 with 1 Axes>"
      ]
     },
     "metadata": {
      "needs_background": "light"
     },
     "output_type": "display_data"
    }
   ],
   "source": [
    "import seaborn as sns\n",
    "\n",
    "sns.scatterplot(x='fmtc', y='cony', data=data)\n",
    "plt.show()\n",
    "\n",
    "sns.scatterplot(x='labch', y='cony', data=data)\n",
    "plt.show()\n",
    "\n",
    "sns.scatterplot(x='labh_hour', y='cony', data=data)\n",
    "plt.show()\n",
    "\n",
    "sns.scatterplot(x='lab_cost', y='cony', data=data)\n",
    "plt.show()\n",
    "\n",
    "sns.scatterplot(x='lansh', y='cony', data=data)\n",
    "plt.show()"
   ]
  },
  {
   "cell_type": "markdown",
   "metadata": {},
   "source": [
    "## NaN Check"
   ]
  },
  {
   "cell_type": "code",
   "execution_count": 11,
   "metadata": {},
   "outputs": [],
   "source": [
    "data.replace({'labch' : {0 : np.nan},\n",
    "              'labh_hour' : {0 : np.nan},\n",
    "              'lab_cost' : {0 : np.nan},\n",
    "              'lansh' : {0 : np.nan}},\n",
    "             inplace=True)"
   ]
  },
  {
   "cell_type": "code",
   "execution_count": 12,
   "metadata": {},
   "outputs": [
    {
     "data": {
      "text/plain": [
       "age1         0\n",
       "land         0\n",
       "labch        0\n",
       "labh_hour    0\n",
       "lab_cost     0\n",
       "fmtc         0\n",
       "lansh        0\n",
       "size         0\n",
       "ara          0\n",
       "de2          0\n",
       "cony         0\n",
       "dtype: int64"
      ]
     },
     "execution_count": 12,
     "metadata": {},
     "output_type": "execute_result"
    }
   ],
   "source": [
    "data.isnull().sum()"
   ]
  },
  {
   "cell_type": "code",
   "execution_count": 13,
   "metadata": {},
   "outputs": [],
   "source": [
    "data.dropna(axis=0, inplace=True)"
   ]
  },
  {
   "cell_type": "code",
   "execution_count": 14,
   "metadata": {},
   "outputs": [
    {
     "data": {
      "image/png": "[encoded data removed]",
      "text/plain": [
       "<Figure size 432x288 with 1 Axes>"
      ]
     },
     "metadata": {
      "needs_background": "light"
     },
     "output_type": "display_data"
    },
    {
     "data": {
      "image/png": "[encoded data removed]",
      "text/plain": [
       "<Figure size 432x288 with 1 Axes>"
      ]
     },
     "metadata": {
      "needs_background": "light"
     },
     "output_type": "display_data"
    },
    {
     "data": {
      "image/png": "[encoded data removed]",
      "text/plain": [
       "<Figure size 432x288 with 1 Axes>"
      ]
     },
     "metadata": {
      "needs_background": "light"
     },
     "output_type": "display_data"
    }
   ],
   "source": [
    "sns.scatterplot(x='fmtc', y='cony', data=data)\n",
    "plt.show()\n",
    "\n",
    "sns.scatterplot(x='labch', y='cony', data=data)\n",
    "plt.show()\n",
    "\n",
    "sns.scatterplot(x='labh_hour', y='cony', data=data)\n",
    "plt.show()"
   ]
  },
  {
   "cell_type": "code",
   "execution_count": 15,
   "metadata": {
    "scrolled": false
   },
   "outputs": [
    {
     "data": {
      "image/png": "[encoded data removed]",
      "text/plain": [
       "<Figure size 432x288 with 1 Axes>"
      ]
     },
     "metadata": {
      "needs_background": "light"
     },
     "output_type": "display_data"
    },
    {
     "data": {
      "image/png": "[encoded data removed]",
      "text/plain": [
       "<Figure size 432x288 with 1 Axes>"
      ]
     },
     "metadata": {
      "needs_background": "light"
     },
     "output_type": "display_data"
    },
    {
     "data": {
      "image/png": "[encoded data removed]",
      "text/plain": [
       "<Figure size 432x288 with 1 Axes>"
      ]
     },
     "metadata": {
      "needs_background": "light"
     },
     "output_type": "display_data"
    },
    {
     "data": {
      "image/png": "[encoded data removed]",
      "text/plain": [
       "<Figure size 432x288 with 1 Axes>"
      ]
     },
     "metadata": {
      "needs_background": "light"
     },
     "output_type": "display_data"
    },
    {
     "data": {
      "image/png": "[encoded data removed]",
      "text/plain": [
       "<Figure size 432x288 with 1 Axes>"
      ]
     },
     "metadata": {
      "needs_background": "light"
     },
     "output_type": "display_data"
    },
    {
     "data": {
      "image/png": "[encoded data removed]",
      "text/plain": [
       "<Figure size 432x288 with 1 Axes>"
      ]
     },
     "metadata": {
      "needs_background": "light"
     },
     "output_type": "display_data"
    },
    {
     "data": {
      "image/png": "[encoded data removed]",
      "text/plain": [
       "<Figure size 432x288 with 1 Axes>"
      ]
     },
     "metadata": {
      "needs_background": "light"
     },
     "output_type": "display_data"
    },
    {
     "data": {
      "image/png": "[encoded data removed]",
      "text/plain": [
       "<Figure size 432x288 with 1 Axes>"
      ]
     },
     "metadata": {
      "needs_background": "light"
     },
     "output_type": "display_data"
    },
    {
     "data": {
      "image/png": "[encoded data removed]",
      "text/plain": [
       "<Figure size 432x288 with 1 Axes>"
      ]
     },
     "metadata": {
      "needs_background": "light"
     },
     "output_type": "display_data"
    },
    {
     "data": {
      "image/png": "[encoded data removed]",
      "text/plain": [
       "<Figure size 432x288 with 1 Axes>"
      ]
     },
     "metadata": {
      "needs_background": "light"
     },
     "output_type": "display_data"
    },
    {
     "data": {
      "image/png": "[encoded data removed]",
      "text/plain": [
       "<Figure size 432x288 with 1 Axes>"
      ]
     },
     "metadata": {
      "needs_background": "light"
     },
     "output_type": "display_data"
    }
   ],
   "source": [
    "for column in data.columns:\n",
    "    data[column].hist()\n",
    "    plt.title(column)\n",
    "    plt.show()"
   ]
  },
  {
   "cell_type": "markdown",
   "metadata": {},
   "source": [
    "## Categorical Variable processing"
   ]
  },
  {
   "cell_type": "code",
   "execution_count": 16,
   "metadata": {},
   "outputs": [
    {
     "name": "stdout",
     "output_type": "stream",
     "text": [
      "[array([1, 2, 3]), array([31, 33, 34, 36, 37, 99]), array([1, 2])]\n",
      "(792, 11)\n"
     ]
    }
   ],
   "source": [
    "from sklearn.preprocessing import OneHotEncoder\n",
    "\n",
    "categorical_variables = ['size', 'ara', 'de2']\n",
    "onehot_encoder = OneHotEncoder(handle_unknown='ignore')\n",
    "onehot_encoder.fit(data.loc[:, categorical_variables])\n",
    "onehot = onehot_encoder.fit_transform(data.loc[:, categorical_variables])\n",
    "print(onehot_encoder.categories_)\n",
    "print(onehot.toarray().shape)"
   ]
  },
  {
   "cell_type": "markdown",
   "metadata": {},
   "source": [
    "## Numerical Variable processing"
   ]
  },
  {
   "cell_type": "code",
   "execution_count": 17,
   "metadata": {},
   "outputs": [
    {
     "data": {
      "text/plain": [
       "array([[0.60377358, 0.5524366 , 0.83047785, ..., 0.77974179, 0.68875506,\n",
       "        0.51695249],\n",
       "       [0.47169811, 0.5524366 , 0.83142541, ..., 0.78068422, 0.51251325,\n",
       "        0.72564119],\n",
       "       [0.56603774, 0.5524366 , 0.80631697, ..., 0.7184362 , 0.48732513,\n",
       "        0.556448  ],\n",
       "       ...,\n",
       "       [0.98113208, 0.76471232, 0.82696331, ..., 0.84838466, 0.39468986,\n",
       "        0.47717919],\n",
       "       [0.77358491, 0.76471232, 0.43927042, ..., 0.55315271, 0.12080589,\n",
       "        0.37258199],\n",
       "       [0.45283019, 0.86003177, 0.68666677, ..., 0.73409311, 0.45920577,\n",
       "        0.54591817]])"
      ]
     },
     "execution_count": 17,
     "metadata": {},
     "output_type": "execute_result"
    }
   ],
   "source": [
    "from sklearn.preprocessing import MinMaxScaler\n",
    "\n",
    "numerical_variables = ['age1',\n",
    "                       'land',\n",
    "                       'labch', 'labh_hour', 'lab_cost',\n",
    "                       'fmtc', 'lansh']\n",
    "X_minmax_scaler = MinMaxScaler()\n",
    "X_minmax_scaler.fit(data.loc[:, numerical_variables])\n",
    "X_scaled = X_minmax_scaler.transform(data.loc[:, numerical_variables])\n",
    "X_scaled"
   ]
  },
  {
   "cell_type": "code",
   "execution_count": 18,
   "metadata": {},
   "outputs": [
    {
     "data": {
      "text/html": [
       "<div>\n",
       "<style scoped>\n",
       "    .dataframe tbody tr th:only-of-type {\n",
       "        vertical-align: middle;\n",
       "    }\n",
       "\n",
       "    .dataframe tbody tr th {\n",
       "        vertical-align: top;\n",
       "    }\n",
       "\n",
       "    .dataframe thead th {\n",
       "        text-align: right;\n",
       "    }\n",
       "</style>\n",
       "<table border=\"1\" class=\"dataframe\">\n",
       "  <thead>\n",
       "    <tr style=\"text-align: right;\">\n",
       "      <th></th>\n",
       "      <th>age1</th>\n",
       "      <th>land</th>\n",
       "      <th>labch</th>\n",
       "      <th>labh_hour</th>\n",
       "      <th>lab_cost</th>\n",
       "      <th>fmtc</th>\n",
       "      <th>lansh</th>\n",
       "      <th>0</th>\n",
       "      <th>1</th>\n",
       "      <th>2</th>\n",
       "      <th>3</th>\n",
       "      <th>4</th>\n",
       "      <th>5</th>\n",
       "      <th>6</th>\n",
       "      <th>7</th>\n",
       "      <th>8</th>\n",
       "      <th>9</th>\n",
       "      <th>10</th>\n",
       "    </tr>\n",
       "  </thead>\n",
       "  <tbody>\n",
       "    <tr>\n",
       "      <th>0</th>\n",
       "      <td>0.603774</td>\n",
       "      <td>0.552437</td>\n",
       "      <td>0.830478</td>\n",
       "      <td>0.826642</td>\n",
       "      <td>0.779742</td>\n",
       "      <td>0.688755</td>\n",
       "      <td>0.516952</td>\n",
       "      <td>0.0</td>\n",
       "      <td>1.0</td>\n",
       "      <td>0.0</td>\n",
       "      <td>1.0</td>\n",
       "      <td>0.0</td>\n",
       "      <td>0.0</td>\n",
       "      <td>0.0</td>\n",
       "      <td>0.0</td>\n",
       "      <td>0.0</td>\n",
       "      <td>0.0</td>\n",
       "      <td>1.0</td>\n",
       "    </tr>\n",
       "    <tr>\n",
       "      <th>1</th>\n",
       "      <td>0.471698</td>\n",
       "      <td>0.552437</td>\n",
       "      <td>0.831425</td>\n",
       "      <td>0.827865</td>\n",
       "      <td>0.780684</td>\n",
       "      <td>0.512513</td>\n",
       "      <td>0.725641</td>\n",
       "      <td>0.0</td>\n",
       "      <td>1.0</td>\n",
       "      <td>0.0</td>\n",
       "      <td>1.0</td>\n",
       "      <td>0.0</td>\n",
       "      <td>0.0</td>\n",
       "      <td>0.0</td>\n",
       "      <td>0.0</td>\n",
       "      <td>0.0</td>\n",
       "      <td>0.0</td>\n",
       "      <td>1.0</td>\n",
       "    </tr>\n",
       "    <tr>\n",
       "      <th>2</th>\n",
       "      <td>0.566038</td>\n",
       "      <td>0.552437</td>\n",
       "      <td>0.806317</td>\n",
       "      <td>0.801740</td>\n",
       "      <td>0.718436</td>\n",
       "      <td>0.487325</td>\n",
       "      <td>0.556448</td>\n",
       "      <td>0.0</td>\n",
       "      <td>1.0</td>\n",
       "      <td>0.0</td>\n",
       "      <td>1.0</td>\n",
       "      <td>0.0</td>\n",
       "      <td>0.0</td>\n",
       "      <td>0.0</td>\n",
       "      <td>0.0</td>\n",
       "      <td>0.0</td>\n",
       "      <td>0.0</td>\n",
       "      <td>1.0</td>\n",
       "    </tr>\n",
       "    <tr>\n",
       "      <th>3</th>\n",
       "      <td>0.641509</td>\n",
       "      <td>0.552437</td>\n",
       "      <td>0.830016</td>\n",
       "      <td>0.826273</td>\n",
       "      <td>0.779282</td>\n",
       "      <td>0.490874</td>\n",
       "      <td>0.516952</td>\n",
       "      <td>0.0</td>\n",
       "      <td>1.0</td>\n",
       "      <td>0.0</td>\n",
       "      <td>1.0</td>\n",
       "      <td>0.0</td>\n",
       "      <td>0.0</td>\n",
       "      <td>0.0</td>\n",
       "      <td>0.0</td>\n",
       "      <td>0.0</td>\n",
       "      <td>0.0</td>\n",
       "      <td>1.0</td>\n",
       "    </tr>\n",
       "    <tr>\n",
       "      <th>4</th>\n",
       "      <td>0.735849</td>\n",
       "      <td>0.552437</td>\n",
       "      <td>0.738852</td>\n",
       "      <td>0.732807</td>\n",
       "      <td>0.763358</td>\n",
       "      <td>0.305807</td>\n",
       "      <td>0.542100</td>\n",
       "      <td>0.0</td>\n",
       "      <td>0.0</td>\n",
       "      <td>1.0</td>\n",
       "      <td>1.0</td>\n",
       "      <td>0.0</td>\n",
       "      <td>0.0</td>\n",
       "      <td>0.0</td>\n",
       "      <td>0.0</td>\n",
       "      <td>0.0</td>\n",
       "      <td>1.0</td>\n",
       "      <td>0.0</td>\n",
       "    </tr>\n",
       "    <tr>\n",
       "      <th>...</th>\n",
       "      <td>...</td>\n",
       "      <td>...</td>\n",
       "      <td>...</td>\n",
       "      <td>...</td>\n",
       "      <td>...</td>\n",
       "      <td>...</td>\n",
       "      <td>...</td>\n",
       "      <td>...</td>\n",
       "      <td>...</td>\n",
       "      <td>...</td>\n",
       "      <td>...</td>\n",
       "      <td>...</td>\n",
       "      <td>...</td>\n",
       "      <td>...</td>\n",
       "      <td>...</td>\n",
       "      <td>...</td>\n",
       "      <td>...</td>\n",
       "      <td>...</td>\n",
       "    </tr>\n",
       "    <tr>\n",
       "      <th>787</th>\n",
       "      <td>0.320755</td>\n",
       "      <td>0.733456</td>\n",
       "      <td>0.575150</td>\n",
       "      <td>0.528307</td>\n",
       "      <td>0.700309</td>\n",
       "      <td>0.282563</td>\n",
       "      <td>0.365880</td>\n",
       "      <td>0.0</td>\n",
       "      <td>0.0</td>\n",
       "      <td>1.0</td>\n",
       "      <td>0.0</td>\n",
       "      <td>0.0</td>\n",
       "      <td>0.0</td>\n",
       "      <td>1.0</td>\n",
       "      <td>0.0</td>\n",
       "      <td>0.0</td>\n",
       "      <td>1.0</td>\n",
       "      <td>0.0</td>\n",
       "    </tr>\n",
       "    <tr>\n",
       "      <th>788</th>\n",
       "      <td>0.679245</td>\n",
       "      <td>0.764712</td>\n",
       "      <td>0.567183</td>\n",
       "      <td>0.550295</td>\n",
       "      <td>0.627895</td>\n",
       "      <td>0.149204</td>\n",
       "      <td>0.477997</td>\n",
       "      <td>0.0</td>\n",
       "      <td>0.0</td>\n",
       "      <td>1.0</td>\n",
       "      <td>0.0</td>\n",
       "      <td>0.0</td>\n",
       "      <td>0.0</td>\n",
       "      <td>0.0</td>\n",
       "      <td>1.0</td>\n",
       "      <td>0.0</td>\n",
       "      <td>0.0</td>\n",
       "      <td>1.0</td>\n",
       "    </tr>\n",
       "    <tr>\n",
       "      <th>789</th>\n",
       "      <td>0.981132</td>\n",
       "      <td>0.764712</td>\n",
       "      <td>0.826963</td>\n",
       "      <td>0.866777</td>\n",
       "      <td>0.848385</td>\n",
       "      <td>0.394690</td>\n",
       "      <td>0.477179</td>\n",
       "      <td>0.0</td>\n",
       "      <td>0.0</td>\n",
       "      <td>1.0</td>\n",
       "      <td>0.0</td>\n",
       "      <td>0.0</td>\n",
       "      <td>0.0</td>\n",
       "      <td>0.0</td>\n",
       "      <td>1.0</td>\n",
       "      <td>0.0</td>\n",
       "      <td>1.0</td>\n",
       "      <td>0.0</td>\n",
       "    </tr>\n",
       "    <tr>\n",
       "      <th>790</th>\n",
       "      <td>0.773585</td>\n",
       "      <td>0.764712</td>\n",
       "      <td>0.439270</td>\n",
       "      <td>0.427506</td>\n",
       "      <td>0.553153</td>\n",
       "      <td>0.120806</td>\n",
       "      <td>0.372582</td>\n",
       "      <td>0.0</td>\n",
       "      <td>0.0</td>\n",
       "      <td>1.0</td>\n",
       "      <td>0.0</td>\n",
       "      <td>0.0</td>\n",
       "      <td>0.0</td>\n",
       "      <td>0.0</td>\n",
       "      <td>1.0</td>\n",
       "      <td>0.0</td>\n",
       "      <td>0.0</td>\n",
       "      <td>1.0</td>\n",
       "    </tr>\n",
       "    <tr>\n",
       "      <th>791</th>\n",
       "      <td>0.452830</td>\n",
       "      <td>0.860032</td>\n",
       "      <td>0.686667</td>\n",
       "      <td>0.674326</td>\n",
       "      <td>0.734093</td>\n",
       "      <td>0.459206</td>\n",
       "      <td>0.545918</td>\n",
       "      <td>0.0</td>\n",
       "      <td>0.0</td>\n",
       "      <td>1.0</td>\n",
       "      <td>0.0</td>\n",
       "      <td>0.0</td>\n",
       "      <td>0.0</td>\n",
       "      <td>0.0</td>\n",
       "      <td>0.0</td>\n",
       "      <td>1.0</td>\n",
       "      <td>1.0</td>\n",
       "      <td>0.0</td>\n",
       "    </tr>\n",
       "  </tbody>\n",
       "</table>\n",
       "<p>792 rows × 18 columns</p>\n",
       "</div>"
      ],
      "text/plain": [
       "         age1      land     labch  labh_hour  lab_cost      fmtc     lansh  \\\n",
       "0    0.603774  0.552437  0.830478   0.826642  0.779742  0.688755  0.516952   \n",
       "1    0.471698  0.552437  0.831425   0.827865  0.780684  0.512513  0.725641   \n",
       "2    0.566038  0.552437  0.806317   0.801740  0.718436  0.487325  0.556448   \n",
       "3    0.641509  0.552437  0.830016   0.826273  0.779282  0.490874  0.516952   \n",
       "4    0.735849  0.552437  0.738852   0.732807  0.763358  0.305807  0.542100   \n",
       "..        ...       ...       ...        ...       ...       ...       ...   \n",
       "787  0.320755  0.733456  0.575150   0.528307  0.700309  0.282563  0.365880   \n",
       "788  0.679245  0.764712  0.567183   0.550295  0.627895  0.149204  0.477997   \n",
       "789  0.981132  0.764712  0.826963   0.866777  0.848385  0.394690  0.477179   \n",
       "790  0.773585  0.764712  0.439270   0.427506  0.553153  0.120806  0.372582   \n",
       "791  0.452830  0.860032  0.686667   0.674326  0.734093  0.459206  0.545918   \n",
       "\n",
       "       0    1    2    3    4    5    6    7    8    9   10  \n",
       "0    0.0  1.0  0.0  1.0  0.0  0.0  0.0  0.0  0.0  0.0  1.0  \n",
       "1    0.0  1.0  0.0  1.0  0.0  0.0  0.0  0.0  0.0  0.0  1.0  \n",
       "2    0.0  1.0  0.0  1.0  0.0  0.0  0.0  0.0  0.0  0.0  1.0  \n",
       "3    0.0  1.0  0.0  1.0  0.0  0.0  0.0  0.0  0.0  0.0  1.0  \n",
       "4    0.0  0.0  1.0  1.0  0.0  0.0  0.0  0.0  0.0  1.0  0.0  \n",
       "..   ...  ...  ...  ...  ...  ...  ...  ...  ...  ...  ...  \n",
       "787  0.0  0.0  1.0  0.0  0.0  0.0  1.0  0.0  0.0  1.0  0.0  \n",
       "788  0.0  0.0  1.0  0.0  0.0  0.0  0.0  1.0  0.0  0.0  1.0  \n",
       "789  0.0  0.0  1.0  0.0  0.0  0.0  0.0  1.0  0.0  1.0  0.0  \n",
       "790  0.0  0.0  1.0  0.0  0.0  0.0  0.0  1.0  0.0  0.0  1.0  \n",
       "791  0.0  0.0  1.0  0.0  0.0  0.0  0.0  0.0  1.0  1.0  0.0  \n",
       "\n",
       "[792 rows x 18 columns]"
      ]
     },
     "execution_count": 18,
     "metadata": {},
     "output_type": "execute_result"
    }
   ],
   "source": [
    "numeric_data_df = pd.DataFrame(X_scaled, columns=numerical_variables)\n",
    "onehot_data_df = pd.DataFrame(onehot.toarray())\n",
    "\n",
    "X_data_df = pd.concat([numeric_data_df , onehot_data_df], axis=1)\n",
    "X_data_df"
   ]
  },
  {
   "cell_type": "code",
   "execution_count": 19,
   "metadata": {},
   "outputs": [],
   "source": [
    "X_data = np.array(X_data_df)\n",
    "y_data = np.array(data['cony'])"
   ]
  },
  {
   "cell_type": "markdown",
   "metadata": {},
   "source": [
    "# Train Test Split"
   ]
  },
  {
   "cell_type": "code",
   "execution_count": 20,
   "metadata": {},
   "outputs": [
    {
     "name": "stdout",
     "output_type": "stream",
     "text": [
      "(712, 18) (712,)\n",
      "(80, 18) (80,)\n"
     ]
    }
   ],
   "source": [
    "from sklearn.model_selection import train_test_split\n",
    "\n",
    "X_train, X_test, y_train, y_test = train_test_split(X_data, y_data,\n",
    "                                                    test_size=0.1,\n",
    "                                                    random_state=1234)\n",
    "print(X_train.shape, y_train.shape)\n",
    "print(X_test.shape, y_test.shape)"
   ]
  },
  {
   "cell_type": "markdown",
   "metadata": {},
   "source": [
    "# Modeling"
   ]
  },
  {
   "cell_type": "markdown",
   "metadata": {},
   "source": [
    "## Decision Tree"
   ]
  },
  {
   "cell_type": "code",
   "execution_count": 21,
   "metadata": {},
   "outputs": [
    {
     "data": {
      "text/plain": [
       "DecisionTreeRegressor(random_state=1000)"
      ]
     },
     "execution_count": 21,
     "metadata": {},
     "output_type": "execute_result"
    }
   ],
   "source": [
    "from sklearn.tree import DecisionTreeRegressor\n",
    "from sklearn.metrics import mean_squared_error\n",
    "\n",
    "dt = DecisionTreeRegressor(random_state=1000)\n",
    "dt.fit(X_train, y_train)"
   ]
  },
  {
   "cell_type": "code",
   "execution_count": 22,
   "metadata": {},
   "outputs": [
    {
     "name": "stdout",
     "output_type": "stream",
     "text": [
      "[7.04725254 6.74875955 7.65207075 8.06650258 8.51278348 8.75628555\n",
      " 8.77854969 7.51896908 6.9789735  6.04263283]\n"
     ]
    }
   ],
   "source": [
    "dt_pred = dt.predict(X_test)\n",
    "print(dt_pred[:10])"
   ]
  },
  {
   "cell_type": "code",
   "execution_count": 23,
   "metadata": {},
   "outputs": [
    {
     "data": {
      "text/plain": [
       "0.9036007691080139"
      ]
     },
     "execution_count": 23,
     "metadata": {},
     "output_type": "execute_result"
    }
   ],
   "source": [
    "dt_rmse = np.sqrt(mean_squared_error(y_test, dt_pred))\n",
    "dt_rmse"
   ]
  },
  {
   "cell_type": "markdown",
   "metadata": {},
   "source": [
    "## RandomForest"
   ]
  },
  {
   "cell_type": "code",
   "execution_count": 24,
   "metadata": {},
   "outputs": [
    {
     "data": {
      "text/plain": [
       "RandomForestRegressor(max_features='sqrt', n_estimators=3000, random_state=1000)"
      ]
     },
     "execution_count": 24,
     "metadata": {},
     "output_type": "execute_result"
    }
   ],
   "source": [
    "from sklearn.ensemble import RandomForestRegressor\n",
    "\n",
    "rf = RandomForestRegressor(n_estimators = 3000, max_features = 'sqrt', \n",
    "                           random_state = 1000)\n",
    "rf.fit(X_train, y_train)"
   ]
  },
  {
   "cell_type": "code",
   "execution_count": 25,
   "metadata": {},
   "outputs": [
    {
     "name": "stdout",
     "output_type": "stream",
     "text": [
      "[7.60663463 7.04300824 6.94094315 8.09852141 8.3805259  8.11930551\n",
      " 8.19980562 6.98460547 7.34663645 6.50516483]\n"
     ]
    }
   ],
   "source": [
    "rf_pred = rf.predict(X_test)\n",
    "print(rf_pred[:10])"
   ]
  },
  {
   "cell_type": "code",
   "execution_count": 26,
   "metadata": {},
   "outputs": [
    {
     "data": {
      "text/plain": [
       "0.6309915006643427"
      ]
     },
     "execution_count": 26,
     "metadata": {},
     "output_type": "execute_result"
    }
   ],
   "source": [
    "rf_rmse = np.sqrt(mean_squared_error(y_test, rf_pred))\n",
    "rf_rmse"
   ]
  },
  {
   "cell_type": "code",
   "execution_count": 27,
   "metadata": {},
   "outputs": [
    {
     "data": {
      "image/png": "[encoded data removed]",
      "text/plain": [
       "<Figure size 576x432 with 1 Axes>"
      ]
     },
     "metadata": {
      "needs_background": "light"
     },
     "output_type": "display_data"
    }
   ],
   "source": [
    "import seaborn as sns\n",
    "\n",
    "importances_values = rf.feature_importances_ \n",
    "importances = pd.Series(importances_values, index=X_data_df.columns)\n",
    "\n",
    "top20 = importances.sort_values(ascending=False)[:20]\n",
    "plt.figure(figsize=(8, 6))\n",
    "plt.title('Feature importances Top 20')\n",
    "sns.barplot(x = top20, y = top20.index)\n",
    "plt.show()"
   ]
  },
  {
   "cell_type": "markdown",
   "metadata": {},
   "source": [
    "## Ridge"
   ]
  },
  {
   "cell_type": "code",
   "execution_count": 28,
   "metadata": {},
   "outputs": [
    {
     "data": {
      "text/plain": [
       "Ridge(alpha=0.1724)"
      ]
     },
     "execution_count": 28,
     "metadata": {},
     "output_type": "execute_result"
    }
   ],
   "source": [
    "from sklearn.linear_model import Ridge\n",
    "\n",
    "ridge = Ridge(alpha=0.1724)\n",
    "ridge.fit(X_train, y_train)"
   ]
  },
  {
   "cell_type": "code",
   "execution_count": 29,
   "metadata": {},
   "outputs": [
    {
     "name": "stdout",
     "output_type": "stream",
     "text": [
      "0.2765316221867169\n"
     ]
    }
   ],
   "source": [
    "print(ridge.score(X_train, y_train))"
   ]
  },
  {
   "cell_type": "code",
   "execution_count": 30,
   "metadata": {},
   "outputs": [
    {
     "data": {
      "text/plain": [
       "0.7213571512663435"
      ]
     },
     "execution_count": 30,
     "metadata": {},
     "output_type": "execute_result"
    }
   ],
   "source": [
    "ridge_pred = ridge.predict(X_test)\n",
    "ridge_rmse = np.sqrt(mean_squared_error(y_test, ridge_pred))\n",
    "ridge_rmse"
   ]
  },
  {
   "cell_type": "markdown",
   "metadata": {},
   "source": [
    "## LASSO"
   ]
  },
  {
   "cell_type": "code",
   "execution_count": 31,
   "metadata": {},
   "outputs": [
    {
     "data": {
      "text/plain": [
       "Lasso(alpha=0.001)"
      ]
     },
     "execution_count": 31,
     "metadata": {},
     "output_type": "execute_result"
    }
   ],
   "source": [
    "from sklearn.linear_model import Lasso\n",
    "\n",
    "lasso = Lasso(alpha=0.001)\n",
    "lasso.fit(X_train, y_train)"
   ]
  },
  {
   "cell_type": "code",
   "execution_count": 32,
   "metadata": {},
   "outputs": [
    {
     "name": "stdout",
     "output_type": "stream",
     "text": [
      "0.2745496820779555\n"
     ]
    }
   ],
   "source": [
    "print(lasso.score(X_train, y_train))"
   ]
  },
  {
   "cell_type": "code",
   "execution_count": 33,
   "metadata": {},
   "outputs": [
    {
     "data": {
      "text/plain": [
       "0.7222040673805119"
      ]
     },
     "execution_count": 33,
     "metadata": {},
     "output_type": "execute_result"
    }
   ],
   "source": [
    "lasso_pred = lasso.predict(X_test)\n",
    "lasso_rmse = np.sqrt(mean_squared_error(y_test, lasso_pred))\n",
    "lasso_rmse"
   ]
  },
  {
   "cell_type": "markdown",
   "metadata": {},
   "source": [
    "## GBM"
   ]
  },
  {
   "cell_type": "code",
   "execution_count": 34,
   "metadata": {},
   "outputs": [
    {
     "name": "stdout",
     "output_type": "stream",
     "text": [
      "[7.51668457 7.01529366 6.57840061 8.048487   8.37652547 8.47023895\n",
      " 8.56405251 6.69976005 7.22727804 6.51546176]\n"
     ]
    }
   ],
   "source": [
    "from sklearn.ensemble import GradientBoostingRegressor\n",
    "\n",
    "gbm = GradientBoostingRegressor(n_estimators=500, max_depth=8)\n",
    "gbm.fit(X_train, y_train)\n",
    "\n",
    "gbm_pred = gbm.predict(X_test)\n",
    "print(gbm_pred[:10])"
   ]
  },
  {
   "cell_type": "code",
   "execution_count": 35,
   "metadata": {},
   "outputs": [
    {
     "data": {
      "text/plain": [
       "0.732596041330662"
      ]
     },
     "execution_count": 35,
     "metadata": {},
     "output_type": "execute_result"
    }
   ],
   "source": [
    "gbm_rmse = np.sqrt(mean_squared_error(y_test, gbm_pred))\n",
    "gbm_rmse"
   ]
  },
  {
   "cell_type": "markdown",
   "metadata": {},
   "source": [
    "## AdaBoost"
   ]
  },
  {
   "cell_type": "code",
   "execution_count": 36,
   "metadata": {},
   "outputs": [
    {
     "name": "stdout",
     "output_type": "stream",
     "text": [
      "[7.57080386 6.76814178 7.18276242 7.61787691 7.79011347 7.72941242\n",
      " 7.69115708 7.00279774 7.64479977 7.17993115]\n"
     ]
    }
   ],
   "source": [
    "from sklearn.ensemble import AdaBoostRegressor\n",
    "\n",
    "ada = AdaBoostRegressor(n_estimators = 500, learning_rate = 0.1)\n",
    "ada.fit(X_train, y_train)\n",
    "\n",
    "ada_pred = ada.predict(X_test)\n",
    "print(ada_pred[:10])"
   ]
  },
  {
   "cell_type": "code",
   "execution_count": 37,
   "metadata": {},
   "outputs": [
    {
     "data": {
      "text/plain": [
       "0.786910172721733"
      ]
     },
     "execution_count": 37,
     "metadata": {},
     "output_type": "execute_result"
    }
   ],
   "source": [
    "ada_rmse = np.sqrt(mean_squared_error(y_test, ada_pred))\n",
    "ada_rmse"
   ]
  },
  {
   "cell_type": "markdown",
   "metadata": {},
   "source": [
    "## XGBoost"
   ]
  },
  {
   "cell_type": "code",
   "execution_count": 38,
   "metadata": {},
   "outputs": [
    {
     "name": "stdout",
     "output_type": "stream",
     "text": [
      "1.3.3\n",
      "[7.766585  7.0277505 6.3985987 8.064375  8.633941  8.467353  8.438524\n",
      " 6.3689213 7.5340652 6.1601777]\n"
     ]
    }
   ],
   "source": [
    "import xgboost as xgb\n",
    "print(xgb.__version__)\n",
    "\n",
    "xgb_reg = xgb.XGBRegressor(learning_rate=0.08, max_depth=8, \n",
    "                           gamma=0, n_estimators=3000,\n",
    "                           subsample=0.7, colsample_bytree=0.8)\n",
    "xgb_reg.fit(X_train, y_train, verbose=False)\n",
    "\n",
    "xgb_pred = xgb_reg.predict(X_test)\n",
    "print(xgb_pred[:10])"
   ]
  },
  {
   "cell_type": "code",
   "execution_count": 39,
   "metadata": {},
   "outputs": [
    {
     "data": {
      "text/plain": [
       "0.6859238608269511"
      ]
     },
     "execution_count": 39,
     "metadata": {},
     "output_type": "execute_result"
    }
   ],
   "source": [
    "xgb_rmse = np.sqrt(mean_squared_error(y_test, xgb_pred))\n",
    "xgb_rmse"
   ]
  },
  {
   "cell_type": "code",
   "execution_count": 40,
   "metadata": {},
   "outputs": [
    {
     "data": {
      "image/png": "[encoded data removed]",
      "text/plain": [
       "<Figure size 720x864 with 1 Axes>"
      ]
     },
     "metadata": {
      "needs_background": "light"
     },
     "output_type": "display_data"
    }
   ],
   "source": [
    "from xgboost import plot_importance\n",
    "\n",
    "plot_importance(xgb_reg, max_num_features=20)\n",
    "\n",
    "fig = plt.gcf()\n",
    "fig.set_size_inches(10, 12)"
   ]
  },
  {
   "cell_type": "markdown",
   "metadata": {},
   "source": [
    "## LightGBM"
   ]
  },
  {
   "cell_type": "code",
   "execution_count": 41,
   "metadata": {},
   "outputs": [
    {
     "data": {
      "text/plain": [
       "LGBMRegressor(max_depth=50, min_data_in_leaf=10, n_estimators=1000,\n",
       "              num_leaves=10)"
      ]
     },
     "execution_count": 41,
     "metadata": {},
     "output_type": "execute_result"
    }
   ],
   "source": [
    "import lightgbm as lgb\n",
    "\n",
    "\n",
    "lgb_reg = lgb.LGBMRegressor(n_estimators=1000, max_depth=50, num_leaves=10, min_data_in_leaf=10)\n",
    "lgb_reg.fit(X_train, y_train,\n",
    "        eval_set=[(X_test, y_test)],\n",
    "        eval_metric='l1',\n",
    "        early_stopping_rounds=1000,\n",
    "        verbose = False)"
   ]
  },
  {
   "cell_type": "code",
   "execution_count": 42,
   "metadata": {},
   "outputs": [
    {
     "name": "stdout",
     "output_type": "stream",
     "text": [
      "[7.5864493  7.15701698 6.1327655  8.11101296 8.5198177  8.52187263\n",
      " 8.65415324 6.68877053 7.23019513 6.19845049]\n"
     ]
    }
   ],
   "source": [
    "lgb_pred = lgb_reg.predict(X_test)\n",
    "print(lgb_pred[:10])"
   ]
  },
  {
   "cell_type": "code",
   "execution_count": 43,
   "metadata": {},
   "outputs": [
    {
     "data": {
      "text/plain": [
       "0.6595586811348004"
      ]
     },
     "execution_count": 43,
     "metadata": {},
     "output_type": "execute_result"
    }
   ],
   "source": [
    "lgb_rmse = np.sqrt(mean_squared_error(y_test, lgb_pred))\n",
    "lgb_rmse"
   ]
  },
  {
   "cell_type": "markdown",
   "metadata": {},
   "source": [
    "# Model Comparison"
   ]
  },
  {
   "cell_type": "code",
   "execution_count": 44,
   "metadata": {},
   "outputs": [
    {
     "data": {
      "text/html": [
       "<div>\n",
       "<style scoped>\n",
       "    .dataframe tbody tr th:only-of-type {\n",
       "        vertical-align: middle;\n",
       "    }\n",
       "\n",
       "    .dataframe tbody tr th {\n",
       "        vertical-align: top;\n",
       "    }\n",
       "\n",
       "    .dataframe thead th {\n",
       "        text-align: right;\n",
       "    }\n",
       "</style>\n",
       "<table border=\"1\" class=\"dataframe\">\n",
       "  <thead>\n",
       "    <tr style=\"text-align: right;\">\n",
       "      <th></th>\n",
       "      <th>Model</th>\n",
       "      <th>RMSE</th>\n",
       "    </tr>\n",
       "  </thead>\n",
       "  <tbody>\n",
       "    <tr>\n",
       "      <th>1</th>\n",
       "      <td>RandomForest</td>\n",
       "      <td>0.630992</td>\n",
       "    </tr>\n",
       "    <tr>\n",
       "      <th>7</th>\n",
       "      <td>LightGBM</td>\n",
       "      <td>0.659559</td>\n",
       "    </tr>\n",
       "    <tr>\n",
       "      <th>6</th>\n",
       "      <td>XGboost</td>\n",
       "      <td>0.685924</td>\n",
       "    </tr>\n",
       "    <tr>\n",
       "      <th>2</th>\n",
       "      <td>Ridge</td>\n",
       "      <td>0.721357</td>\n",
       "    </tr>\n",
       "    <tr>\n",
       "      <th>3</th>\n",
       "      <td>LASSO</td>\n",
       "      <td>0.722204</td>\n",
       "    </tr>\n",
       "    <tr>\n",
       "      <th>4</th>\n",
       "      <td>GBM</td>\n",
       "      <td>0.732596</td>\n",
       "    </tr>\n",
       "    <tr>\n",
       "      <th>5</th>\n",
       "      <td>AdaBoost</td>\n",
       "      <td>0.786910</td>\n",
       "    </tr>\n",
       "    <tr>\n",
       "      <th>0</th>\n",
       "      <td>Decision Tree</td>\n",
       "      <td>0.903601</td>\n",
       "    </tr>\n",
       "  </tbody>\n",
       "</table>\n",
       "</div>"
      ],
      "text/plain": [
       "           Model      RMSE\n",
       "1   RandomForest  0.630992\n",
       "7       LightGBM  0.659559\n",
       "6        XGboost  0.685924\n",
       "2          Ridge  0.721357\n",
       "3          LASSO  0.722204\n",
       "4            GBM  0.732596\n",
       "5       AdaBoost  0.786910\n",
       "0  Decision Tree  0.903601"
      ]
     },
     "execution_count": 44,
     "metadata": {},
     "output_type": "execute_result"
    }
   ],
   "source": [
    "model_result = pd.DataFrame({\n",
    "    'Model': ['Decision Tree', 'RandomForest', 'Ridge', 'LASSO',\n",
    "              'GBM', 'AdaBoost', 'XGboost', 'LightGBM'],\n",
    "    'RMSE': [dt_rmse, rf_rmse, ridge_rmse, lasso_rmse,\n",
    "             gbm_rmse, ada_rmse, xgb_rmse, lgb_rmse]})\n",
    "model_result.sort_values(by='RMSE', ascending=True)"
   ]
  },
  {
   "cell_type": "markdown",
   "metadata": {},
   "source": [
    "# Ensemble"
   ]
  },
  {
   "cell_type": "code",
   "execution_count": 45,
   "metadata": {},
   "outputs": [],
   "source": [
    "import torch\n",
    "from sklearn.metrics import mean_squared_error\n",
    "\n",
    "class EnsembleRegressor:\n",
    "    def __init__(self, models, weights=None):\n",
    "        \n",
    "        self.models = models\n",
    "        self.weights = weights\n",
    "        \n",
    "    def predict(self, X_test):\n",
    "        pred_list = []\n",
    "        for i, model in enumerate(models.values()):\n",
    "            pred_list.append(model.predict(X_test))\n",
    "        preds = np.array(pred_list)\n",
    "            \n",
    "        prediction = np.average(preds, axis=0, weights=self.weights)\n",
    "\n",
    "        return prediction\n",
    "    \n",
    "    def random_search(self, X_test, y_test, num_search):\n",
    "        weights = torch.softmax(torch.rand(num_search, len(self.models)), axis=1).numpy()\n",
    "        \n",
    "        pred_list = []\n",
    "        for i, model in enumerate(models.values()):\n",
    "            pred_list.append(model.predict(X_test))\n",
    "        preds = np.array(pred_list)\n",
    "\n",
    "        mse = []\n",
    "        for i in range(num_search):\n",
    "            prediction = np.average(preds, axis=0, weights=weights[i])\n",
    "            mse_ = mean_squared_error(y_test, prediction)\n",
    "            mse.append(mse_)\n",
    "        \n",
    "        result = pd.DataFrame(weights)\n",
    "        result['RMSE'] = np.sqrt(mse)\n",
    "\n",
    "        return result.sort_values('RMSE', ascending=True)"
   ]
  },
  {
   "cell_type": "code",
   "execution_count": 46,
   "metadata": {},
   "outputs": [
    {
     "data": {
      "text/html": [
       "<div>\n",
       "<style scoped>\n",
       "    .dataframe tbody tr th:only-of-type {\n",
       "        vertical-align: middle;\n",
       "    }\n",
       "\n",
       "    .dataframe tbody tr th {\n",
       "        vertical-align: top;\n",
       "    }\n",
       "\n",
       "    .dataframe thead th {\n",
       "        text-align: right;\n",
       "    }\n",
       "</style>\n",
       "<table border=\"1\" class=\"dataframe\">\n",
       "  <thead>\n",
       "    <tr style=\"text-align: right;\">\n",
       "      <th></th>\n",
       "      <th>0</th>\n",
       "      <th>1</th>\n",
       "      <th>RMSE</th>\n",
       "    </tr>\n",
       "  </thead>\n",
       "  <tbody>\n",
       "    <tr>\n",
       "      <th>2479</th>\n",
       "      <td>0.725545</td>\n",
       "      <td>0.274455</td>\n",
       "      <td>0.626091</td>\n",
       "    </tr>\n",
       "    <tr>\n",
       "      <th>26434</th>\n",
       "      <td>0.724744</td>\n",
       "      <td>0.275256</td>\n",
       "      <td>0.626092</td>\n",
       "    </tr>\n",
       "    <tr>\n",
       "      <th>10832</th>\n",
       "      <td>0.726401</td>\n",
       "      <td>0.273599</td>\n",
       "      <td>0.626092</td>\n",
       "    </tr>\n",
       "    <tr>\n",
       "      <th>6497</th>\n",
       "      <td>0.724522</td>\n",
       "      <td>0.275478</td>\n",
       "      <td>0.626092</td>\n",
       "    </tr>\n",
       "    <tr>\n",
       "      <th>4523</th>\n",
       "      <td>0.726550</td>\n",
       "      <td>0.273450</td>\n",
       "      <td>0.626092</td>\n",
       "    </tr>\n",
       "    <tr>\n",
       "      <th>6635</th>\n",
       "      <td>0.724374</td>\n",
       "      <td>0.275626</td>\n",
       "      <td>0.626092</td>\n",
       "    </tr>\n",
       "    <tr>\n",
       "      <th>25221</th>\n",
       "      <td>0.724309</td>\n",
       "      <td>0.275691</td>\n",
       "      <td>0.626092</td>\n",
       "    </tr>\n",
       "    <tr>\n",
       "      <th>8007</th>\n",
       "      <td>0.726781</td>\n",
       "      <td>0.273219</td>\n",
       "      <td>0.626092</td>\n",
       "    </tr>\n",
       "    <tr>\n",
       "      <th>12191</th>\n",
       "      <td>0.724148</td>\n",
       "      <td>0.275852</td>\n",
       "      <td>0.626092</td>\n",
       "    </tr>\n",
       "    <tr>\n",
       "      <th>21881</th>\n",
       "      <td>0.724002</td>\n",
       "      <td>0.275998</td>\n",
       "      <td>0.626092</td>\n",
       "    </tr>\n",
       "  </tbody>\n",
       "</table>\n",
       "</div>"
      ],
      "text/plain": [
       "              0         1      RMSE\n",
       "2479   0.725545  0.274455  0.626091\n",
       "26434  0.724744  0.275256  0.626092\n",
       "10832  0.726401  0.273599  0.626092\n",
       "6497   0.724522  0.275478  0.626092\n",
       "4523   0.726550  0.273450  0.626092\n",
       "6635   0.724374  0.275626  0.626092\n",
       "25221  0.724309  0.275691  0.626092\n",
       "8007   0.726781  0.273219  0.626092\n",
       "12191  0.724148  0.275852  0.626092\n",
       "21881  0.724002  0.275998  0.626092"
      ]
     },
     "execution_count": 46,
     "metadata": {},
     "output_type": "execute_result"
    }
   ],
   "source": [
    "models = {'RandomForest' : rf, 'LightGBM' : lgb_reg}\n",
    "\n",
    "ensemble = EnsembleRegressor(models, weights=None)\n",
    "result = ensemble.random_search(X_test, y_test, 30000)\n",
    "result.head(10)"
   ]
  },
  {
   "cell_type": "code",
   "execution_count": 47,
   "metadata": {},
   "outputs": [
    {
     "name": "stdout",
     "output_type": "stream",
     "text": [
      "[0.726, 0.274]\n"
     ]
    }
   ],
   "source": [
    "optimal_weight = np.round(result.iloc[0,:-1], 3).tolist()\n",
    "print(optimal_weight)"
   ]
  },
  {
   "cell_type": "code",
   "execution_count": 48,
   "metadata": {},
   "outputs": [
    {
     "name": "stdout",
     "output_type": "stream",
     "text": [
      "[7.60110385 7.07424663 6.71950247 8.1019441  8.41869185 8.2296089\n",
      " 8.32429687 6.9035467  7.31473153 6.4211251 ]\n"
     ]
    }
   ],
   "source": [
    "ensemble = EnsembleRegressor(models, weights=optimal_weight)\n",
    "\n",
    "preds = ensemble.predict(X_test)\n",
    "print(preds[:10])"
   ]
  },
  {
   "cell_type": "code",
   "execution_count": 49,
   "metadata": {},
   "outputs": [
    {
     "data": {
      "text/plain": [
       "0.6260914818083962"
      ]
     },
     "execution_count": 49,
     "metadata": {},
     "output_type": "execute_result"
    }
   ],
   "source": [
    "rmse = np.sqrt(mean_squared_error(y_test, preds))\n",
    "rmse"
   ]
  },
  {
   "cell_type": "markdown",
   "metadata": {},
   "source": [
    "# Evaluation"
   ]
  },
  {
   "cell_type": "code",
   "execution_count": 50,
   "metadata": {},
   "outputs": [
    {
     "name": "stdout",
     "output_type": "stream",
     "text": [
      "[1999.40282531 1180.15332313  827.40525337 3299.87906508 4529.97240419\n",
      " 3749.36671075 4121.83727888  994.80026371 1501.26842558  613.69431678]\n",
      "[ 668.57142857 1206.34146341  778.57142857 3360.         5717.\n",
      " 4745.83333333 7241.66666667  673.17073171  722.64150943  213.33333333]\n"
     ]
    }
   ],
   "source": [
    "inverse_transformed_pred = np.expm1(preds)\n",
    "inverse_transformed_pred = np.where(inverse_transformed_pred < 0, 0, inverse_transformed_pred)\n",
    "inverse_transformed_y_test = np.expm1(y_test)\n",
    "\n",
    "print(inverse_transformed_pred[:10])\n",
    "print(inverse_transformed_y_test[:10])"
   ]
  },
  {
   "cell_type": "code",
   "execution_count": 51,
   "metadata": {},
   "outputs": [
    {
     "data": {
      "text/plain": [
       "1533.6661775477437"
      ]
     },
     "execution_count": 51,
     "metadata": {},
     "output_type": "execute_result"
    }
   ],
   "source": [
    "np.sqrt(mean_squared_error(inverse_transformed_y_test, inverse_transformed_pred))"
   ]
  },
  {
   "cell_type": "code",
   "execution_count": 52,
   "metadata": {},
   "outputs": [
    {
     "data": {
      "text/html": [
       "<div>\n",
       "<style scoped>\n",
       "    .dataframe tbody tr th:only-of-type {\n",
       "        vertical-align: middle;\n",
       "    }\n",
       "\n",
       "    .dataframe tbody tr th {\n",
       "        vertical-align: top;\n",
       "    }\n",
       "\n",
       "    .dataframe thead th {\n",
       "        text-align: right;\n",
       "    }\n",
       "</style>\n",
       "<table border=\"1\" class=\"dataframe\">\n",
       "  <thead>\n",
       "    <tr style=\"text-align: right;\">\n",
       "      <th></th>\n",
       "      <th>생산량</th>\n",
       "      <th>예측값</th>\n",
       "    </tr>\n",
       "  </thead>\n",
       "  <tbody>\n",
       "    <tr>\n",
       "      <th>0</th>\n",
       "      <td>668.6</td>\n",
       "      <td>1999.4</td>\n",
       "    </tr>\n",
       "    <tr>\n",
       "      <th>1</th>\n",
       "      <td>1206.3</td>\n",
       "      <td>1180.2</td>\n",
       "    </tr>\n",
       "    <tr>\n",
       "      <th>2</th>\n",
       "      <td>778.6</td>\n",
       "      <td>827.4</td>\n",
       "    </tr>\n",
       "    <tr>\n",
       "      <th>3</th>\n",
       "      <td>3360.0</td>\n",
       "      <td>3299.9</td>\n",
       "    </tr>\n",
       "    <tr>\n",
       "      <th>4</th>\n",
       "      <td>5717.0</td>\n",
       "      <td>4530.0</td>\n",
       "    </tr>\n",
       "    <tr>\n",
       "      <th>5</th>\n",
       "      <td>4745.8</td>\n",
       "      <td>3749.4</td>\n",
       "    </tr>\n",
       "    <tr>\n",
       "      <th>6</th>\n",
       "      <td>7241.7</td>\n",
       "      <td>4121.8</td>\n",
       "    </tr>\n",
       "    <tr>\n",
       "      <th>7</th>\n",
       "      <td>673.2</td>\n",
       "      <td>994.8</td>\n",
       "    </tr>\n",
       "    <tr>\n",
       "      <th>8</th>\n",
       "      <td>722.6</td>\n",
       "      <td>1501.3</td>\n",
       "    </tr>\n",
       "    <tr>\n",
       "      <th>9</th>\n",
       "      <td>213.3</td>\n",
       "      <td>613.7</td>\n",
       "    </tr>\n",
       "    <tr>\n",
       "      <th>10</th>\n",
       "      <td>2999.0</td>\n",
       "      <td>1717.5</td>\n",
       "    </tr>\n",
       "    <tr>\n",
       "      <th>11</th>\n",
       "      <td>1203.0</td>\n",
       "      <td>1719.3</td>\n",
       "    </tr>\n",
       "    <tr>\n",
       "      <th>12</th>\n",
       "      <td>3380.5</td>\n",
       "      <td>2517.3</td>\n",
       "    </tr>\n",
       "    <tr>\n",
       "      <th>13</th>\n",
       "      <td>3396.7</td>\n",
       "      <td>1927.8</td>\n",
       "    </tr>\n",
       "    <tr>\n",
       "      <th>14</th>\n",
       "      <td>2466.7</td>\n",
       "      <td>1739.5</td>\n",
       "    </tr>\n",
       "    <tr>\n",
       "      <th>15</th>\n",
       "      <td>2575.0</td>\n",
       "      <td>1646.3</td>\n",
       "    </tr>\n",
       "    <tr>\n",
       "      <th>16</th>\n",
       "      <td>1390.9</td>\n",
       "      <td>2165.9</td>\n",
       "    </tr>\n",
       "    <tr>\n",
       "      <th>17</th>\n",
       "      <td>3200.0</td>\n",
       "      <td>3083.6</td>\n",
       "    </tr>\n",
       "    <tr>\n",
       "      <th>18</th>\n",
       "      <td>3849.3</td>\n",
       "      <td>3670.9</td>\n",
       "    </tr>\n",
       "    <tr>\n",
       "      <th>19</th>\n",
       "      <td>1645.0</td>\n",
       "      <td>2105.2</td>\n",
       "    </tr>\n",
       "    <tr>\n",
       "      <th>20</th>\n",
       "      <td>3694.2</td>\n",
       "      <td>3928.5</td>\n",
       "    </tr>\n",
       "    <tr>\n",
       "      <th>21</th>\n",
       "      <td>2168.2</td>\n",
       "      <td>2295.0</td>\n",
       "    </tr>\n",
       "    <tr>\n",
       "      <th>22</th>\n",
       "      <td>2542.0</td>\n",
       "      <td>1949.3</td>\n",
       "    </tr>\n",
       "    <tr>\n",
       "      <th>23</th>\n",
       "      <td>1200.4</td>\n",
       "      <td>3461.7</td>\n",
       "    </tr>\n",
       "    <tr>\n",
       "      <th>24</th>\n",
       "      <td>3668.9</td>\n",
       "      <td>3200.9</td>\n",
       "    </tr>\n",
       "    <tr>\n",
       "      <th>25</th>\n",
       "      <td>4923.1</td>\n",
       "      <td>4214.0</td>\n",
       "    </tr>\n",
       "    <tr>\n",
       "      <th>26</th>\n",
       "      <td>1029.7</td>\n",
       "      <td>2005.9</td>\n",
       "    </tr>\n",
       "    <tr>\n",
       "      <th>27</th>\n",
       "      <td>3770.0</td>\n",
       "      <td>3590.1</td>\n",
       "    </tr>\n",
       "    <tr>\n",
       "      <th>28</th>\n",
       "      <td>2614.4</td>\n",
       "      <td>3170.1</td>\n",
       "    </tr>\n",
       "    <tr>\n",
       "      <th>29</th>\n",
       "      <td>6250.0</td>\n",
       "      <td>4419.0</td>\n",
       "    </tr>\n",
       "  </tbody>\n",
       "</table>\n",
       "</div>"
      ],
      "text/plain": [
       "       생산량     예측값\n",
       "0    668.6  1999.4\n",
       "1   1206.3  1180.2\n",
       "2    778.6   827.4\n",
       "3   3360.0  3299.9\n",
       "4   5717.0  4530.0\n",
       "5   4745.8  3749.4\n",
       "6   7241.7  4121.8\n",
       "7    673.2   994.8\n",
       "8    722.6  1501.3\n",
       "9    213.3   613.7\n",
       "10  2999.0  1717.5\n",
       "11  1203.0  1719.3\n",
       "12  3380.5  2517.3\n",
       "13  3396.7  1927.8\n",
       "14  2466.7  1739.5\n",
       "15  2575.0  1646.3\n",
       "16  1390.9  2165.9\n",
       "17  3200.0  3083.6\n",
       "18  3849.3  3670.9\n",
       "19  1645.0  2105.2\n",
       "20  3694.2  3928.5\n",
       "21  2168.2  2295.0\n",
       "22  2542.0  1949.3\n",
       "23  1200.4  3461.7\n",
       "24  3668.9  3200.9\n",
       "25  4923.1  4214.0\n",
       "26  1029.7  2005.9\n",
       "27  3770.0  3590.1\n",
       "28  2614.4  3170.1\n",
       "29  6250.0  4419.0"
      ]
     },
     "execution_count": 52,
     "metadata": {},
     "output_type": "execute_result"
    }
   ],
   "source": [
    "inverse_transformed_pred = pd.Series(np.round(inverse_transformed_pred,1), name='예측값')\n",
    "inverse_transformed_y_test= pd.Series(np.round(inverse_transformed_y_test,1), name='생산량')\n",
    "result = pd.concat([inverse_transformed_y_test, inverse_transformed_pred], axis=1)\n",
    "result[:30]"
   ]
  },
  {
   "cell_type": "markdown",
   "metadata": {},
   "source": [
    "# 2018-2019 Prediction"
   ]
  },
  {
   "cell_type": "code",
   "execution_count": 53,
   "metadata": {},
   "outputs": [],
   "source": [
    "import os\n",
    "import pandas as pd\n",
    "import numpy as np\n",
    "\n",
    "\n",
    "def load_data(path, year):\n",
    "    use_cols = ['age1',\n",
    "                'land',\n",
    "                'labch', 'labh_hour', 'lab_cost',\n",
    "                'fmtc', 'lansh',\n",
    "                'size', 'ara', 'de2',# catecorical variable\n",
    "                'cony'] # dependent variable\n",
    "    \n",
    "    # 2018\n",
    "    if year == 2018:\n",
    "        file_path1 = os.path.join(path, '2018년/2018년 임산물생산비조사_통합 데이터_5. 표고_시설(엑셀 1).xls')\n",
    "        file_path2 = os.path.join(path, '2018년/2018년 임산물생산비조사_통합 데이터_5. 표고_시설(엑셀 2).xls')\n",
    "        forest_data1 = pd.read_excel(file_path1)\n",
    "        forest_data2 = pd.read_excel(file_path2)\n",
    "        forest_2018 = pd.concat([forest_data1, forest_data2], axis=1)\n",
    "        data = forest_2018.loc[:,use_cols]\n",
    "        print(2018, data.shape)\n",
    "        \n",
    "    elif year == 2019:\n",
    "        file_path = os.path.join(path, '2019년/2019년 임산물생산비조사_통합 데이터_5. 표고시설.xlsx')\n",
    "        forest_2019 = pd.read_excel(file_path).loc[:,use_cols]\n",
    "        data = forest_2019\n",
    "        print(2019, data.shape)\n",
    "    else:\n",
    "        print('year must be in 2018, 2019')\n",
    "    \n",
    "    return data"
   ]
  },
  {
   "cell_type": "code",
   "execution_count": 67,
   "metadata": {},
   "outputs": [
    {
     "name": "stdout",
     "output_type": "stream",
     "text": [
      "2019 (105, 11)\n"
     ]
    }
   ],
   "source": [
    "data = load_data('./임산물생산비조사 마이크로데이터(2010-2019)', 2019)"
   ]
  },
  {
   "cell_type": "code",
   "execution_count": 68,
   "metadata": {},
   "outputs": [],
   "source": [
    "data.loc[:, ['fmtc', 'lansh']] = np.log1p(data.loc[:, ['fmtc', 'lansh']])\n",
    "data.loc[:, ['labch', 'labh_hour', 'lab_cost']] = np.log1p(data.loc[:, ['labch', 'labh_hour', 'lab_cost']])"
   ]
  },
  {
   "cell_type": "code",
   "execution_count": 69,
   "metadata": {},
   "outputs": [],
   "source": [
    "data['cony'] = np.log1p(data['cony'])"
   ]
  },
  {
   "cell_type": "code",
   "execution_count": 70,
   "metadata": {},
   "outputs": [],
   "source": [
    "data.replace({'labch' : {0 : np.nan},\n",
    "              'labh_hour' : {0 : np.nan},\n",
    "              'lab_cost' : {0 : np.nan},\n",
    "              'lansh' : {0 : np.nan}},\n",
    "             inplace=True)"
   ]
  },
  {
   "cell_type": "code",
   "execution_count": 71,
   "metadata": {},
   "outputs": [],
   "source": [
    "if data.isnull().sum().sum() > 0:\n",
    "    print(data.isnull().sum().sum())\n",
    "    data.fillna(data.mean(), inplace=True)"
   ]
  },
  {
   "cell_type": "code",
   "execution_count": 72,
   "metadata": {},
   "outputs": [
    {
     "name": "stdout",
     "output_type": "stream",
     "text": [
      "[array([1, 2, 3]), array([31, 33, 34, 36, 37, 99]), array([1, 2])]\n",
      "(105, 11)\n"
     ]
    }
   ],
   "source": [
    "from sklearn.preprocessing import OneHotEncoder\n",
    "\n",
    "categorical_variables = ['size', 'ara', 'de2']\n",
    "onehot = onehot_encoder.transform(data.loc[:, categorical_variables])\n",
    "print(onehot_encoder.categories_)\n",
    "print(onehot.toarray().shape)"
   ]
  },
  {
   "cell_type": "code",
   "execution_count": 73,
   "metadata": {},
   "outputs": [
    {
     "data": {
      "text/plain": [
       "array([[0.49056604, 1.        , 0.81445343, 0.78245176, 0.62804881,\n",
       "        0.63878886, 0.70169406],\n",
       "       [0.41509434, 1.        , 0.8307751 , 0.79989735, 0.69208667,\n",
       "        0.60227001, 0.63331177],\n",
       "       [0.69811321, 0.39578361, 0.74404294, 0.73253497, 0.5580201 ,\n",
       "        0.57815358, 0.67424789],\n",
       "       [0.66037736, 0.39578361, 0.71385251, 0.69537988, 0.52799339,\n",
       "        0.27552568, 0.56990354],\n",
       "       [0.67924528, 0.39578361, 0.63111448, 0.59713318, 0.44570401,\n",
       "        0.34914787, 0.67424789],\n",
       "       [0.64150943, 0.69704668, 0.82521712, 0.80426382, 0.70553047,\n",
       "        0.49128555, 0.74963319],\n",
       "       [1.        , 0.69704668, 0.61224729, 0.59275344, 0.49011837,\n",
       "        0.41911279, 0.90447879],\n",
       "       [0.77358491, 0.69704668, 0.9020221 , 0.90666242, 0.71514264,\n",
       "        0.76817574, 0.31176521],\n",
       "       [0.58490566, 0.69704668, 0.85422861, 0.84106325, 0.73438465,\n",
       "        0.53055305, 0.23914151],\n",
       "       [0.73584906, 0.69704668, 0.88894798, 0.88323548, 0.72804297,\n",
       "        0.64694547, 0.32762422],\n",
       "       [0.66037736, 0.69704668, 0.75871569, 0.74948863, 0.59851685,\n",
       "        0.69376291, 0.77859232],\n",
       "       [0.75471698, 0.69704668, 0.7043323 , 0.67532264, 0.58170406,\n",
       "        0.26447647, 0.62907101],\n",
       "       [0.86792453, 0.69704668, 0.67533136, 0.61255502, 0.48968112,\n",
       "        0.37487594, 0.90066752],\n",
       "       [0.83018868, 0.73345618, 0.63558966, 0.64838847, 0.4770025 ,\n",
       "        0.28380865, 0.41580408],\n",
       "       [0.77358491, 0.73345618, 0.57355771, 0.53257006, 0.43046418,\n",
       "        0.1818965 , 0.39293653],\n",
       "       [0.69811321, 0.73345618, 0.66693732, 0.64064019, 0.49226692,\n",
       "        0.31668138, 0.5247267 ],\n",
       "       [0.67924528, 0.73345618, 0.87916804, 0.87080412, 0.77749294,\n",
       "        0.73128937, 0.30149636],\n",
       "       [0.43396226, 0.73345618, 0.49418144, 0.50325165, 0.33206266,\n",
       "        0.21711599, 0.45008974],\n",
       "       [0.8490566 , 0.76471232, 0.69289254, 0.65617163, 0.53305062,\n",
       "        0.22790436, 0.60349509],\n",
       "       [0.56603774, 0.76471232, 0.53870462, 0.53525039, 0.44647508,\n",
       "        0.0939585 , 0.        ],\n",
       "       [0.41509434, 0.76471232, 0.80897079, 0.77866384, 0.67440301,\n",
       "        0.46403708, 0.56990354],\n",
       "       [0.64150943, 0.76471232, 0.81383091, 0.80259155, 0.67111592,\n",
       "        0.53979468, 0.5352012 ],\n",
       "       [0.64150943, 0.76471232, 0.82082738, 0.79079217, 0.63438819,\n",
       "        0.67376623, 0.73341542],\n",
       "       [0.67924528, 0.76471232, 0.65577453, 0.61757697, 0.49613388,\n",
       "        0.33078682, 0.71755474],\n",
       "       [0.16981132, 0.76471232, 0.71303855, 0.68209814, 0.618376  ,\n",
       "        0.28461716, 0.4988569 ],\n",
       "       [0.77358491, 0.76471232, 0.69119084, 0.69916494, 0.53135814,\n",
       "        0.30153953, 0.5424574 ],\n",
       "       [0.75471698, 0.76471232, 0.83941089, 0.83140471, 0.65287093,\n",
       "        0.60776201, 0.73341542],\n",
       "       [0.88679245, 0.76471232, 0.82359285, 0.80997259, 0.648073  ,\n",
       "        0.58441791, 0.70596924],\n",
       "       [0.90566038, 0.76471232, 0.73625075, 0.72336614, 0.60597002,\n",
       "        0.41106059, 0.7195754 ],\n",
       "       [0.94339623, 0.76471232, 0.91248558, 0.90759567, 0.72554939,\n",
       "        0.69149649, 0.62907101],\n",
       "       [0.88679245, 0.76471232, 0.76492992, 0.75627879, 0.57879383,\n",
       "        0.52293811, 0.76086159],\n",
       "       [0.96226415, 0.76471232, 0.73491635, 0.74053017, 0.55175648,\n",
       "        0.43775295, 0.75788056],\n",
       "       [0.79245283, 0.76471232, 0.80624849, 0.79462519, 0.66769306,\n",
       "        0.54318056, 0.56990354],\n",
       "       [0.43396226, 0.86003177, 0.93690433, 0.91202625, 0.77573929,\n",
       "        0.8185634 , 0.50886605],\n",
       "       [0.60377358, 0.86003177, 0.9599508 , 0.95561005, 0.79866079,\n",
       "        0.80451357, 0.43811488],\n",
       "       [0.69811321, 0.86003177, 0.82441395, 0.809277  , 0.66385887,\n",
       "        0.49538326, 0.46555931],\n",
       "       [0.66037736, 0.86003177, 0.72661243, 0.70928118, 0.54068411,\n",
       "        0.38830268, 0.83962992],\n",
       "       [0.43396226, 0.86003177, 0.68451848, 0.70206814, 0.5016319 ,\n",
       "        0.37956186, 0.65353614],\n",
       "       [0.58490566, 0.86003177, 0.84376482, 0.86382516, 0.65720126,\n",
       "        0.66467238, 0.76086159],\n",
       "       [0.81132075, 0.86003177, 0.70104569, 0.6695031 , 0.51525601,\n",
       "        0.28726976, 0.54706939],\n",
       "       [0.50943396, 0.86003177, 0.7269924 , 0.711133  , 0.55199635,\n",
       "        0.47565579, 0.54058735],\n",
       "       [0.58490566, 1.        , 0.83544392, 0.82476336, 0.80501217,\n",
       "        0.65015081, 0.59547963],\n",
       "       [0.43396226, 0.39578361, 0.43365845, 0.40410933, 0.43130877,\n",
       "        0.18135839, 0.53207142],\n",
       "       [0.58490566, 0.69704668, 0.74956308, 0.72706685, 0.72516933,\n",
       "        0.33131518, 0.44041154],\n",
       "       [0.73584906, 0.69704668, 0.69829876, 0.68275802, 0.70219587,\n",
       "        0.31375399, 0.39451284],\n",
       "       [0.09433962, 0.69704668, 0.67568808, 0.66088464, 0.65169489,\n",
       "        0.3322163 , 0.36502661],\n",
       "       [0.60377358, 0.69704668, 0.64968199, 0.63461372, 0.62960436,\n",
       "        0.30756835, 0.73922198],\n",
       "       [0.67924528, 0.69704668, 0.66333806, 0.645386  , 0.63497159,\n",
       "        0.24026642, 0.61935557],\n",
       "       [0.62264151, 0.69704668, 0.72092627, 0.70898473, 0.71796305,\n",
       "        0.7457452 , 0.62907101],\n",
       "       [0.66037736, 0.69704668, 0.59159277, 0.56847188, 0.55308634,\n",
       "        0.18219223, 0.60162486],\n",
       "       [0.8490566 , 0.69704668, 0.612561  , 0.5869267 , 0.56517568,\n",
       "        0.34380085, 0.73977952],\n",
       "       [0.43396226, 0.69704668, 0.96779789, 0.93656919, 0.94330952,\n",
       "        0.9116588 , 0.57719361],\n",
       "       [0.56603774, 0.69704668, 0.62850771, 0.61964284, 0.63427096,\n",
       "        0.24199169, 0.52235599],\n",
       "       [0.60377358, 0.69704668, 0.80965007, 0.79635536, 0.72916943,\n",
       "        0.53574697, 0.60610139],\n",
       "       [0.62264151, 0.69704668, 0.74412307, 0.73315693, 0.74925943,\n",
       "        0.36789621, 0.49915063],\n",
       "       [0.37735849, 0.69704668, 0.68464097, 0.67123482, 0.67822114,\n",
       "        0.52952245, 0.83825986],\n",
       "       [0.60377358, 0.69704668, 0.74839677, 0.73683546, 0.75350996,\n",
       "        0.39696267, 0.54980212],\n",
       "       [0.73584906, 0.69704668, 0.87228327, 0.86121554, 0.86076541,\n",
       "        0.66182578, 0.35067898],\n",
       "       [0.83018868, 0.73345618, 0.74417559, 0.73377632, 0.68253532,\n",
       "        0.36494741, 0.55404288],\n",
       "       [0.24528302, 0.73345618, 0.78990694, 0.75857113, 0.75915266,\n",
       "        0.45840178, 0.50145415],\n",
       "       [0.54716981, 0.73345618, 0.40305575, 0.36971986, 0.32829589,\n",
       "        0.33649082, 0.48141994],\n",
       "       [0.50943396, 0.73345618, 0.80233537, 0.75805555, 0.71447618,\n",
       "        0.60717486, 0.49113537],\n",
       "       [0.83018868, 0.73345618, 0.80912899, 0.79687126, 0.78441226,\n",
       "        0.54347672, 0.42419429],\n",
       "       [0.50943396, 0.73345618, 0.59365318, 0.59747596, 0.52504214,\n",
       "        0.22563637, 0.47193992],\n",
       "       [0.62264151, 0.73345618, 0.68038803, 0.67717676, 0.65907565,\n",
       "        0.39382924, 0.28339157],\n",
       "       [0.39622642, 0.73345618, 0.61989175, 0.57652843, 0.54395616,\n",
       "        0.27614543, 0.32762422],\n",
       "       [0.47169811, 0.73345618, 0.76306705, 0.73140178, 0.68369941,\n",
       "        0.49186545, 0.3880293 ],\n",
       "       [0.88679245, 0.76471232, 0.64729337, 0.62494867, 0.62616043,\n",
       "        0.24422969, 0.44640174],\n",
       "       [0.54716981, 0.76471232, 0.6861486 , 0.66965488, 0.62482297,\n",
       "        0.22357442, 0.48141994],\n",
       "       [0.56603774, 0.76471232, 0.61385531, 0.5989272 , 0.61052862,\n",
       "        0.18381729, 0.37707594],\n",
       "       [0.8490566 , 0.76471232, 0.69649891, 0.6818328 , 0.69553759,\n",
       "        0.28816508, 0.47843892],\n",
       "       [0.47169811, 0.76471232, 0.87258044, 0.84521639, 0.78991269,\n",
       "        0.61093721, 0.57945806],\n",
       "       [0.54716981, 0.76471232, 0.74358802, 0.71018576, 0.69762878,\n",
       "        0.35243256, 0.56763978],\n",
       "       [0.62264151, 0.76471232, 0.83629049, 0.81945889, 0.81251519,\n",
       "        0.49160583, 0.5567006 ],\n",
       "       [0.43396226, 0.86003177, 0.78643155, 0.75786189, 0.7028582 ,\n",
       "        0.59300246, 0.99130046],\n",
       "       [0.47169811, 0.86003177, 1.        , 0.99578289, 1.        ,\n",
       "        1.        , 0.79684887],\n",
       "       [0.62264151, 0.86003177, 0.74065145, 0.72630178, 0.74873615,\n",
       "        0.28231509, 0.346526  ],\n",
       "       [0.45283019, 0.86003177, 0.64307567, 0.5889783 , 0.62285637,\n",
       "        0.37427203, 0.5424574 ],\n",
       "       [0.62264151, 1.        , 0.68832542, 0.65782231, 0.72546772,\n",
       "        0.28639367, 0.48141994],\n",
       "       [0.67924528, 1.        , 0.773705  , 0.76050814, 0.8161842 ,\n",
       "        0.40863695, 0.56188827],\n",
       "       [0.56603774, 1.        , 0.7269935 , 0.70412483, 0.77085806,\n",
       "        0.35823489, 0.53511267],\n",
       "       [0.60377358, 1.        , 0.72409078, 0.70689073, 0.77458047,\n",
       "        0.33561979, 0.31942234],\n",
       "       [0.75471698, 0.39578361, 0.65739623, 0.63475465, 0.70163816,\n",
       "        0.23248543, 0.48142014],\n",
       "       [0.58490566, 0.39578361, 0.53660318, 0.52061155, 0.57456812,\n",
       "        0.12934687, 0.43811323],\n",
       "       [0.64150943, 0.39578361, 0.60635186, 0.56832282, 0.61803507,\n",
       "        0.40407577, 0.46555931],\n",
       "       [0.47169811, 0.69704668, 0.74813565, 0.72252058, 0.86446175,\n",
       "        0.30572683, 0.30441902],\n",
       "       [0.69811321, 0.69704668, 0.56870498, 0.54417899, 0.67178449,\n",
       "        0.12219117, 0.08148553],\n",
       "       [0.77358491, 0.69704668, 0.58724948, 0.567832  , 0.70444792,\n",
       "        0.17297411, 0.29283364],\n",
       "       [0.69811321, 0.69704668, 0.641855  , 0.61086984, 0.7868984 ,\n",
       "        0.20398533, 0.62907101],\n",
       "       [0.73584906, 0.69704668, 0.83594259, 0.82487111, 0.90398788,\n",
       "        0.52476086, 0.41610742],\n",
       "       [0.64150943, 0.69704668, 0.77386041, 0.74870737, 0.81053893,\n",
       "        0.34395058, 0.43196803],\n",
       "       [0.54716981, 0.69704668, 0.67467021, 0.65172442, 0.71768638,\n",
       "        0.21547473, 0.49293106],\n",
       "       [0.73584906, 0.69704668, 0.74794381, 0.73174839, 0.77797293,\n",
       "        0.37141994, 0.57444037],\n",
       "       [0.52830189, 0.69704668, 0.53175433, 0.49790178, 0.63428443,\n",
       "        0.30098252, 0.44773913],\n",
       "       [0.64150943, 0.69704668, 0.72905776, 0.71633988, 0.77257244,\n",
       "        0.3825297 , 0.58064847],\n",
       "       [0.79245283, 0.73345618, 0.70509573, 0.69053321, 0.76076311,\n",
       "        0.3564804 , 0.47328122],\n",
       "       [0.41509434, 0.73345618, 0.83253254, 0.8238214 , 0.84856169,\n",
       "        0.47044678, 0.52002204],\n",
       "       [0.45283019, 0.73345618, 0.73758105, 0.71648323, 0.82394238,\n",
       "        0.41391642, 0.5491919 ],\n",
       "       [0.64150943, 0.73345618, 0.69433961, 0.65535645, 0.73437882,\n",
       "        0.33944185, 0.60223804],\n",
       "       [0.64150943, 0.73345618, 0.6455339 , 0.62397777, 0.67054597,\n",
       "        0.22485112, 0.78588878],\n",
       "       [0.32075472, 0.73345618, 0.57514958, 0.52830716, 0.70030879,\n",
       "        0.28256265, 0.36588011],\n",
       "       [0.67924528, 0.76471232, 0.56718333, 0.55029538, 0.62789484,\n",
       "        0.14920359, 0.47799723],\n",
       "       [0.98113208, 0.76471232, 0.82696331, 0.8667768 , 0.84838466,\n",
       "        0.39468986, 0.47717919],\n",
       "       [0.77358491, 0.76471232, 0.43927042, 0.42750557, 0.55315271,\n",
       "        0.12080589, 0.37258199],\n",
       "       [0.45283019, 0.86003177, 0.68666677, 0.67432637, 0.73409311,\n",
       "        0.45920577, 0.54591817]])"
      ]
     },
     "execution_count": 73,
     "metadata": {},
     "output_type": "execute_result"
    }
   ],
   "source": [
    "from sklearn.preprocessing import MinMaxScaler\n",
    "\n",
    "X_scaled = X_minmax_scaler.transform(data.loc[:, numerical_variables])\n",
    "X_scaled"
   ]
  },
  {
   "cell_type": "code",
   "execution_count": 74,
   "metadata": {},
   "outputs": [
    {
     "data": {
      "text/html": [
       "<div>\n",
       "<style scoped>\n",
       "    .dataframe tbody tr th:only-of-type {\n",
       "        vertical-align: middle;\n",
       "    }\n",
       "\n",
       "    .dataframe tbody tr th {\n",
       "        vertical-align: top;\n",
       "    }\n",
       "\n",
       "    .dataframe thead th {\n",
       "        text-align: right;\n",
       "    }\n",
       "</style>\n",
       "<table border=\"1\" class=\"dataframe\">\n",
       "  <thead>\n",
       "    <tr style=\"text-align: right;\">\n",
       "      <th></th>\n",
       "      <th>age1</th>\n",
       "      <th>land</th>\n",
       "      <th>labch</th>\n",
       "      <th>labh_hour</th>\n",
       "      <th>lab_cost</th>\n",
       "      <th>fmtc</th>\n",
       "      <th>lansh</th>\n",
       "      <th>0</th>\n",
       "      <th>1</th>\n",
       "      <th>2</th>\n",
       "      <th>3</th>\n",
       "      <th>4</th>\n",
       "      <th>5</th>\n",
       "      <th>6</th>\n",
       "      <th>7</th>\n",
       "      <th>8</th>\n",
       "      <th>9</th>\n",
       "      <th>10</th>\n",
       "    </tr>\n",
       "  </thead>\n",
       "  <tbody>\n",
       "    <tr>\n",
       "      <th>0</th>\n",
       "      <td>0.490566</td>\n",
       "      <td>1.000000</td>\n",
       "      <td>0.814453</td>\n",
       "      <td>0.782452</td>\n",
       "      <td>0.628049</td>\n",
       "      <td>0.638789</td>\n",
       "      <td>0.701694</td>\n",
       "      <td>1.0</td>\n",
       "      <td>0.0</td>\n",
       "      <td>0.0</td>\n",
       "      <td>1.0</td>\n",
       "      <td>0.0</td>\n",
       "      <td>0.0</td>\n",
       "      <td>0.0</td>\n",
       "      <td>0.0</td>\n",
       "      <td>0.0</td>\n",
       "      <td>0.0</td>\n",
       "      <td>1.0</td>\n",
       "    </tr>\n",
       "    <tr>\n",
       "      <th>1</th>\n",
       "      <td>0.415094</td>\n",
       "      <td>1.000000</td>\n",
       "      <td>0.830775</td>\n",
       "      <td>0.799897</td>\n",
       "      <td>0.692087</td>\n",
       "      <td>0.602270</td>\n",
       "      <td>0.633312</td>\n",
       "      <td>1.0</td>\n",
       "      <td>0.0</td>\n",
       "      <td>0.0</td>\n",
       "      <td>1.0</td>\n",
       "      <td>0.0</td>\n",
       "      <td>0.0</td>\n",
       "      <td>0.0</td>\n",
       "      <td>0.0</td>\n",
       "      <td>0.0</td>\n",
       "      <td>0.0</td>\n",
       "      <td>1.0</td>\n",
       "    </tr>\n",
       "    <tr>\n",
       "      <th>2</th>\n",
       "      <td>0.698113</td>\n",
       "      <td>0.395784</td>\n",
       "      <td>0.744043</td>\n",
       "      <td>0.732535</td>\n",
       "      <td>0.558020</td>\n",
       "      <td>0.578154</td>\n",
       "      <td>0.674248</td>\n",
       "      <td>1.0</td>\n",
       "      <td>0.0</td>\n",
       "      <td>0.0</td>\n",
       "      <td>0.0</td>\n",
       "      <td>1.0</td>\n",
       "      <td>0.0</td>\n",
       "      <td>0.0</td>\n",
       "      <td>0.0</td>\n",
       "      <td>0.0</td>\n",
       "      <td>0.0</td>\n",
       "      <td>1.0</td>\n",
       "    </tr>\n",
       "    <tr>\n",
       "      <th>3</th>\n",
       "      <td>0.660377</td>\n",
       "      <td>0.395784</td>\n",
       "      <td>0.713853</td>\n",
       "      <td>0.695380</td>\n",
       "      <td>0.527993</td>\n",
       "      <td>0.275526</td>\n",
       "      <td>0.569904</td>\n",
       "      <td>1.0</td>\n",
       "      <td>0.0</td>\n",
       "      <td>0.0</td>\n",
       "      <td>0.0</td>\n",
       "      <td>1.0</td>\n",
       "      <td>0.0</td>\n",
       "      <td>0.0</td>\n",
       "      <td>0.0</td>\n",
       "      <td>0.0</td>\n",
       "      <td>0.0</td>\n",
       "      <td>1.0</td>\n",
       "    </tr>\n",
       "    <tr>\n",
       "      <th>4</th>\n",
       "      <td>0.679245</td>\n",
       "      <td>0.395784</td>\n",
       "      <td>0.631114</td>\n",
       "      <td>0.597133</td>\n",
       "      <td>0.445704</td>\n",
       "      <td>0.349148</td>\n",
       "      <td>0.674248</td>\n",
       "      <td>1.0</td>\n",
       "      <td>0.0</td>\n",
       "      <td>0.0</td>\n",
       "      <td>0.0</td>\n",
       "      <td>1.0</td>\n",
       "      <td>0.0</td>\n",
       "      <td>0.0</td>\n",
       "      <td>0.0</td>\n",
       "      <td>0.0</td>\n",
       "      <td>0.0</td>\n",
       "      <td>1.0</td>\n",
       "    </tr>\n",
       "    <tr>\n",
       "      <th>...</th>\n",
       "      <td>...</td>\n",
       "      <td>...</td>\n",
       "      <td>...</td>\n",
       "      <td>...</td>\n",
       "      <td>...</td>\n",
       "      <td>...</td>\n",
       "      <td>...</td>\n",
       "      <td>...</td>\n",
       "      <td>...</td>\n",
       "      <td>...</td>\n",
       "      <td>...</td>\n",
       "      <td>...</td>\n",
       "      <td>...</td>\n",
       "      <td>...</td>\n",
       "      <td>...</td>\n",
       "      <td>...</td>\n",
       "      <td>...</td>\n",
       "      <td>...</td>\n",
       "    </tr>\n",
       "    <tr>\n",
       "      <th>100</th>\n",
       "      <td>0.320755</td>\n",
       "      <td>0.733456</td>\n",
       "      <td>0.575150</td>\n",
       "      <td>0.528307</td>\n",
       "      <td>0.700309</td>\n",
       "      <td>0.282563</td>\n",
       "      <td>0.365880</td>\n",
       "      <td>0.0</td>\n",
       "      <td>0.0</td>\n",
       "      <td>1.0</td>\n",
       "      <td>0.0</td>\n",
       "      <td>0.0</td>\n",
       "      <td>0.0</td>\n",
       "      <td>1.0</td>\n",
       "      <td>0.0</td>\n",
       "      <td>0.0</td>\n",
       "      <td>1.0</td>\n",
       "      <td>0.0</td>\n",
       "    </tr>\n",
       "    <tr>\n",
       "      <th>101</th>\n",
       "      <td>0.679245</td>\n",
       "      <td>0.764712</td>\n",
       "      <td>0.567183</td>\n",
       "      <td>0.550295</td>\n",
       "      <td>0.627895</td>\n",
       "      <td>0.149204</td>\n",
       "      <td>0.477997</td>\n",
       "      <td>0.0</td>\n",
       "      <td>0.0</td>\n",
       "      <td>1.0</td>\n",
       "      <td>0.0</td>\n",
       "      <td>0.0</td>\n",
       "      <td>0.0</td>\n",
       "      <td>0.0</td>\n",
       "      <td>1.0</td>\n",
       "      <td>0.0</td>\n",
       "      <td>0.0</td>\n",
       "      <td>1.0</td>\n",
       "    </tr>\n",
       "    <tr>\n",
       "      <th>102</th>\n",
       "      <td>0.981132</td>\n",
       "      <td>0.764712</td>\n",
       "      <td>0.826963</td>\n",
       "      <td>0.866777</td>\n",
       "      <td>0.848385</td>\n",
       "      <td>0.394690</td>\n",
       "      <td>0.477179</td>\n",
       "      <td>0.0</td>\n",
       "      <td>0.0</td>\n",
       "      <td>1.0</td>\n",
       "      <td>0.0</td>\n",
       "      <td>0.0</td>\n",
       "      <td>0.0</td>\n",
       "      <td>0.0</td>\n",
       "      <td>1.0</td>\n",
       "      <td>0.0</td>\n",
       "      <td>1.0</td>\n",
       "      <td>0.0</td>\n",
       "    </tr>\n",
       "    <tr>\n",
       "      <th>103</th>\n",
       "      <td>0.773585</td>\n",
       "      <td>0.764712</td>\n",
       "      <td>0.439270</td>\n",
       "      <td>0.427506</td>\n",
       "      <td>0.553153</td>\n",
       "      <td>0.120806</td>\n",
       "      <td>0.372582</td>\n",
       "      <td>0.0</td>\n",
       "      <td>0.0</td>\n",
       "      <td>1.0</td>\n",
       "      <td>0.0</td>\n",
       "      <td>0.0</td>\n",
       "      <td>0.0</td>\n",
       "      <td>0.0</td>\n",
       "      <td>1.0</td>\n",
       "      <td>0.0</td>\n",
       "      <td>0.0</td>\n",
       "      <td>1.0</td>\n",
       "    </tr>\n",
       "    <tr>\n",
       "      <th>104</th>\n",
       "      <td>0.452830</td>\n",
       "      <td>0.860032</td>\n",
       "      <td>0.686667</td>\n",
       "      <td>0.674326</td>\n",
       "      <td>0.734093</td>\n",
       "      <td>0.459206</td>\n",
       "      <td>0.545918</td>\n",
       "      <td>0.0</td>\n",
       "      <td>0.0</td>\n",
       "      <td>1.0</td>\n",
       "      <td>0.0</td>\n",
       "      <td>0.0</td>\n",
       "      <td>0.0</td>\n",
       "      <td>0.0</td>\n",
       "      <td>0.0</td>\n",
       "      <td>1.0</td>\n",
       "      <td>1.0</td>\n",
       "      <td>0.0</td>\n",
       "    </tr>\n",
       "  </tbody>\n",
       "</table>\n",
       "<p>105 rows × 18 columns</p>\n",
       "</div>"
      ],
      "text/plain": [
       "         age1      land     labch  labh_hour  lab_cost      fmtc     lansh  \\\n",
       "0    0.490566  1.000000  0.814453   0.782452  0.628049  0.638789  0.701694   \n",
       "1    0.415094  1.000000  0.830775   0.799897  0.692087  0.602270  0.633312   \n",
       "2    0.698113  0.395784  0.744043   0.732535  0.558020  0.578154  0.674248   \n",
       "3    0.660377  0.395784  0.713853   0.695380  0.527993  0.275526  0.569904   \n",
       "4    0.679245  0.395784  0.631114   0.597133  0.445704  0.349148  0.674248   \n",
       "..        ...       ...       ...        ...       ...       ...       ...   \n",
       "100  0.320755  0.733456  0.575150   0.528307  0.700309  0.282563  0.365880   \n",
       "101  0.679245  0.764712  0.567183   0.550295  0.627895  0.149204  0.477997   \n",
       "102  0.981132  0.764712  0.826963   0.866777  0.848385  0.394690  0.477179   \n",
       "103  0.773585  0.764712  0.439270   0.427506  0.553153  0.120806  0.372582   \n",
       "104  0.452830  0.860032  0.686667   0.674326  0.734093  0.459206  0.545918   \n",
       "\n",
       "       0    1    2    3    4    5    6    7    8    9   10  \n",
       "0    1.0  0.0  0.0  1.0  0.0  0.0  0.0  0.0  0.0  0.0  1.0  \n",
       "1    1.0  0.0  0.0  1.0  0.0  0.0  0.0  0.0  0.0  0.0  1.0  \n",
       "2    1.0  0.0  0.0  0.0  1.0  0.0  0.0  0.0  0.0  0.0  1.0  \n",
       "3    1.0  0.0  0.0  0.0  1.0  0.0  0.0  0.0  0.0  0.0  1.0  \n",
       "4    1.0  0.0  0.0  0.0  1.0  0.0  0.0  0.0  0.0  0.0  1.0  \n",
       "..   ...  ...  ...  ...  ...  ...  ...  ...  ...  ...  ...  \n",
       "100  0.0  0.0  1.0  0.0  0.0  0.0  1.0  0.0  0.0  1.0  0.0  \n",
       "101  0.0  0.0  1.0  0.0  0.0  0.0  0.0  1.0  0.0  0.0  1.0  \n",
       "102  0.0  0.0  1.0  0.0  0.0  0.0  0.0  1.0  0.0  1.0  0.0  \n",
       "103  0.0  0.0  1.0  0.0  0.0  0.0  0.0  1.0  0.0  0.0  1.0  \n",
       "104  0.0  0.0  1.0  0.0  0.0  0.0  0.0  0.0  1.0  1.0  0.0  \n",
       "\n",
       "[105 rows x 18 columns]"
      ]
     },
     "execution_count": 74,
     "metadata": {},
     "output_type": "execute_result"
    }
   ],
   "source": [
    "numeric_data_df = pd.DataFrame(X_scaled, columns=numerical_variables)\n",
    "onehot_data_df = pd.DataFrame(onehot.toarray())\n",
    "\n",
    "X_data_df = pd.concat([numeric_data_df , onehot_data_df], axis=1)\n",
    "X_data_df"
   ]
  },
  {
   "cell_type": "code",
   "execution_count": 75,
   "metadata": {},
   "outputs": [],
   "source": [
    "X_test = np.array(X_data_df)\n",
    "y_test = np.array(data['cony'])"
   ]
  },
  {
   "cell_type": "code",
   "execution_count": 76,
   "metadata": {},
   "outputs": [
    {
     "name": "stdout",
     "output_type": "stream",
     "text": [
      "[8.59643685 8.55785525 8.40867627 8.36625412 7.90863537 7.10245632\n",
      " 7.83976007 7.86973274 8.09044855 7.76896924]\n"
     ]
    }
   ],
   "source": [
    "ensemble = EnsembleRegressor(models, weights=optimal_weight)\n",
    "\n",
    "preds = ensemble.predict(X_test)\n",
    "print(preds[:10])"
   ]
  },
  {
   "cell_type": "code",
   "execution_count": 77,
   "metadata": {},
   "outputs": [
    {
     "name": "stdout",
     "output_type": "stream",
     "text": [
      "[5411.34018936 5206.5003771  4484.81858755 4298.50045269 2719.67521683\n",
      " 1213.94771455 2538.59544219 2615.86611697 3262.15092406 2365.03121588]\n",
      "[5848.         5928.57142857 5768.         6106.         4002.\n",
      "  533.75       3002.56410256 3856.         3306.25       1800.        ]\n"
     ]
    }
   ],
   "source": [
    "inverse_transformed_pred = np.expm1(preds)\n",
    "inverse_transformed_pred = np.where(inverse_transformed_pred < 0, 0, inverse_transformed_pred)\n",
    "inverse_transformed_y_test = np.expm1(y_test)\n",
    "\n",
    "print(inverse_transformed_pred[:10])\n",
    "print(inverse_transformed_y_test[:10])"
   ]
  },
  {
   "cell_type": "code",
   "execution_count": 78,
   "metadata": {},
   "outputs": [
    {
     "name": "stdout",
     "output_type": "stream",
     "text": [
      "941.7952556193013\n"
     ]
    }
   ],
   "source": [
    "print(np.sqrt(mean_squared_error(inverse_transformed_y_test, inverse_transformed_pred)))"
   ]
  },
  {
   "cell_type": "code",
   "execution_count": 79,
   "metadata": {},
   "outputs": [
    {
     "data": {
      "text/html": [
       "<div>\n",
       "<style scoped>\n",
       "    .dataframe tbody tr th:only-of-type {\n",
       "        vertical-align: middle;\n",
       "    }\n",
       "\n",
       "    .dataframe tbody tr th {\n",
       "        vertical-align: top;\n",
       "    }\n",
       "\n",
       "    .dataframe thead th {\n",
       "        text-align: right;\n",
       "    }\n",
       "</style>\n",
       "<table border=\"1\" class=\"dataframe\">\n",
       "  <thead>\n",
       "    <tr style=\"text-align: right;\">\n",
       "      <th></th>\n",
       "      <th>생산량</th>\n",
       "      <th>예측값</th>\n",
       "    </tr>\n",
       "  </thead>\n",
       "  <tbody>\n",
       "    <tr>\n",
       "      <th>0</th>\n",
       "      <td>5848.0</td>\n",
       "      <td>5411.3</td>\n",
       "    </tr>\n",
       "    <tr>\n",
       "      <th>1</th>\n",
       "      <td>5928.6</td>\n",
       "      <td>5206.5</td>\n",
       "    </tr>\n",
       "    <tr>\n",
       "      <th>2</th>\n",
       "      <td>5768.0</td>\n",
       "      <td>4484.8</td>\n",
       "    </tr>\n",
       "    <tr>\n",
       "      <th>3</th>\n",
       "      <td>6106.0</td>\n",
       "      <td>4298.5</td>\n",
       "    </tr>\n",
       "    <tr>\n",
       "      <th>4</th>\n",
       "      <td>4002.0</td>\n",
       "      <td>2719.7</td>\n",
       "    </tr>\n",
       "    <tr>\n",
       "      <th>5</th>\n",
       "      <td>533.8</td>\n",
       "      <td>1213.9</td>\n",
       "    </tr>\n",
       "    <tr>\n",
       "      <th>6</th>\n",
       "      <td>3002.6</td>\n",
       "      <td>2538.6</td>\n",
       "    </tr>\n",
       "    <tr>\n",
       "      <th>7</th>\n",
       "      <td>3856.0</td>\n",
       "      <td>2615.9</td>\n",
       "    </tr>\n",
       "    <tr>\n",
       "      <th>8</th>\n",
       "      <td>3306.3</td>\n",
       "      <td>3262.2</td>\n",
       "    </tr>\n",
       "    <tr>\n",
       "      <th>9</th>\n",
       "      <td>1800.0</td>\n",
       "      <td>2365.0</td>\n",
       "    </tr>\n",
       "    <tr>\n",
       "      <th>10</th>\n",
       "      <td>7241.7</td>\n",
       "      <td>4121.8</td>\n",
       "    </tr>\n",
       "    <tr>\n",
       "      <th>11</th>\n",
       "      <td>3251.3</td>\n",
       "      <td>3034.4</td>\n",
       "    </tr>\n",
       "    <tr>\n",
       "      <th>12</th>\n",
       "      <td>1142.0</td>\n",
       "      <td>1352.3</td>\n",
       "    </tr>\n",
       "    <tr>\n",
       "      <th>13</th>\n",
       "      <td>1008.3</td>\n",
       "      <td>795.4</td>\n",
       "    </tr>\n",
       "    <tr>\n",
       "      <th>14</th>\n",
       "      <td>1028.3</td>\n",
       "      <td>943.1</td>\n",
       "    </tr>\n",
       "    <tr>\n",
       "      <th>15</th>\n",
       "      <td>355.6</td>\n",
       "      <td>463.5</td>\n",
       "    </tr>\n",
       "    <tr>\n",
       "      <th>16</th>\n",
       "      <td>1029.7</td>\n",
       "      <td>2005.9</td>\n",
       "    </tr>\n",
       "    <tr>\n",
       "      <th>17</th>\n",
       "      <td>448.8</td>\n",
       "      <td>548.4</td>\n",
       "    </tr>\n",
       "    <tr>\n",
       "      <th>18</th>\n",
       "      <td>2418.3</td>\n",
       "      <td>1598.4</td>\n",
       "    </tr>\n",
       "    <tr>\n",
       "      <th>19</th>\n",
       "      <td>5118.8</td>\n",
       "      <td>2052.9</td>\n",
       "    </tr>\n",
       "    <tr>\n",
       "      <th>20</th>\n",
       "      <td>6566.7</td>\n",
       "      <td>4990.1</td>\n",
       "    </tr>\n",
       "    <tr>\n",
       "      <th>21</th>\n",
       "      <td>5460.3</td>\n",
       "      <td>4723.6</td>\n",
       "    </tr>\n",
       "    <tr>\n",
       "      <th>22</th>\n",
       "      <td>7862.0</td>\n",
       "      <td>5916.1</td>\n",
       "    </tr>\n",
       "    <tr>\n",
       "      <th>23</th>\n",
       "      <td>1253.3</td>\n",
       "      <td>1315.3</td>\n",
       "    </tr>\n",
       "    <tr>\n",
       "      <th>24</th>\n",
       "      <td>3914.7</td>\n",
       "      <td>3242.8</td>\n",
       "    </tr>\n",
       "    <tr>\n",
       "      <th>25</th>\n",
       "      <td>2575.0</td>\n",
       "      <td>1646.3</td>\n",
       "    </tr>\n",
       "    <tr>\n",
       "      <th>26</th>\n",
       "      <td>3138.0</td>\n",
       "      <td>3290.8</td>\n",
       "    </tr>\n",
       "    <tr>\n",
       "      <th>27</th>\n",
       "      <td>3014.8</td>\n",
       "      <td>2790.8</td>\n",
       "    </tr>\n",
       "    <tr>\n",
       "      <th>28</th>\n",
       "      <td>2154.1</td>\n",
       "      <td>2096.8</td>\n",
       "    </tr>\n",
       "    <tr>\n",
       "      <th>29</th>\n",
       "      <td>2912.0</td>\n",
       "      <td>2567.4</td>\n",
       "    </tr>\n",
       "  </tbody>\n",
       "</table>\n",
       "</div>"
      ],
      "text/plain": [
       "       생산량     예측값\n",
       "0   5848.0  5411.3\n",
       "1   5928.6  5206.5\n",
       "2   5768.0  4484.8\n",
       "3   6106.0  4298.5\n",
       "4   4002.0  2719.7\n",
       "5    533.8  1213.9\n",
       "6   3002.6  2538.6\n",
       "7   3856.0  2615.9\n",
       "8   3306.3  3262.2\n",
       "9   1800.0  2365.0\n",
       "10  7241.7  4121.8\n",
       "11  3251.3  3034.4\n",
       "12  1142.0  1352.3\n",
       "13  1008.3   795.4\n",
       "14  1028.3   943.1\n",
       "15   355.6   463.5\n",
       "16  1029.7  2005.9\n",
       "17   448.8   548.4\n",
       "18  2418.3  1598.4\n",
       "19  5118.8  2052.9\n",
       "20  6566.7  4990.1\n",
       "21  5460.3  4723.6\n",
       "22  7862.0  5916.1\n",
       "23  1253.3  1315.3\n",
       "24  3914.7  3242.8\n",
       "25  2575.0  1646.3\n",
       "26  3138.0  3290.8\n",
       "27  3014.8  2790.8\n",
       "28  2154.1  2096.8\n",
       "29  2912.0  2567.4"
      ]
     },
     "execution_count": 79,
     "metadata": {},
     "output_type": "execute_result"
    }
   ],
   "source": [
    "inverse_transformed_pred = pd.Series(np.round(inverse_transformed_pred,1), name='예측값')\n",
    "inverse_transformed_y_test= pd.Series(np.round(inverse_transformed_y_test,1), name='생산량')\n",
    "result = pd.concat([inverse_transformed_y_test, inverse_transformed_pred], axis=1)\n",
    "result[:30]"
   ]
  },
  {
   "cell_type": "markdown",
   "metadata": {},
   "source": [
    "# Prediction"
   ]
  },
  {
   "cell_type": "code",
   "execution_count": 87,
   "metadata": {},
   "outputs": [],
   "source": [
    "def prediction(file_path):\n",
    "    use_cols = ['fno',\n",
    "                'age1',\n",
    "                'land', \n",
    "                'labch', 'labh_hour', 'lab_cost',\n",
    "                'fmtc', 'lansh',\n",
    "                'size', 'ara', 'de2']\n",
    "    \n",
    "    \n",
    "    data = pd.read_csv(file_path).loc[:,use_cols]\n",
    "    \n",
    "    # log transform\n",
    "    data.loc[:, ['fmtc', 'lansh']] = np.log1p(data.loc[:, ['fmtc', 'lansh']])\n",
    "    data.loc[:, ['labch', 'labh_hour', 'lab_cost']] = np.log1p(data.loc[:, ['labch', 'labh_hour', 'lab_cost']])\n",
    "    \n",
    "    # data imputation\n",
    "    data.replace({'labch' : {0 : np.nan},\n",
    "              'labh_hour' : {0 : np.nan},\n",
    "              'lab_cost' : {0 : np.nan},\n",
    "              'lansh' : {0 : np.nan},},\n",
    "              inplace=True)\n",
    "    if data.isnull().sum().sum() > 0:\n",
    "        print(data.isnull().sum())\n",
    "        data.fillna(data.mean(), inplace=True)\n",
    "        \n",
    "    # enconding\n",
    "    onehot = onehot_encoder.transform(data.loc[:, categorical_variables])\n",
    "    X_scaled = X_minmax_scaler.transform(data.loc[:, numerical_variables])\n",
    "    numeric_data_df = pd.DataFrame(X_scaled, columns=numerical_variables)\n",
    "    onehot_data_df = pd.DataFrame(onehot.toarray())\n",
    "\n",
    "    X_data_df = pd.concat([numeric_data_df , onehot_data_df], axis=1)\n",
    "    X_test = np.array(X_data_df)\n",
    "    \n",
    "    # predict and inverse transform\n",
    "    preds = ensemble.predict(X_test)\n",
    "    inverse_transformed_pred = np.expm1(preds)\n",
    "    inverse_transformed_pred = np.where(inverse_transformed_pred < 0, 0, inverse_transformed_pred)\n",
    "    \n",
    "    result = pd.DataFrame({'prediction' : inverse_transformed_pred}, index=data.fno)\n",
    "    \n",
    "    return result"
   ]
  },
  {
   "cell_type": "code",
   "execution_count": 88,
   "metadata": {},
   "outputs": [
    {
     "data": {
      "text/html": [
       "<div>\n",
       "<style scoped>\n",
       "    .dataframe tbody tr th:only-of-type {\n",
       "        vertical-align: middle;\n",
       "    }\n",
       "\n",
       "    .dataframe tbody tr th {\n",
       "        vertical-align: top;\n",
       "    }\n",
       "\n",
       "    .dataframe thead th {\n",
       "        text-align: right;\n",
       "    }\n",
       "</style>\n",
       "<table border=\"1\" class=\"dataframe\">\n",
       "  <thead>\n",
       "    <tr style=\"text-align: right;\">\n",
       "      <th></th>\n",
       "      <th>prediction</th>\n",
       "    </tr>\n",
       "    <tr>\n",
       "      <th>fno</th>\n",
       "      <th></th>\n",
       "    </tr>\n",
       "  </thead>\n",
       "  <tbody>\n",
       "    <tr>\n",
       "      <th>12001</th>\n",
       "      <td>4367.830881</td>\n",
       "    </tr>\n",
       "    <tr>\n",
       "      <th>12002</th>\n",
       "      <td>4249.901694</td>\n",
       "    </tr>\n",
       "    <tr>\n",
       "      <th>12003</th>\n",
       "      <td>5198.652135</td>\n",
       "    </tr>\n",
       "    <tr>\n",
       "      <th>14051</th>\n",
       "      <td>1716.875864</td>\n",
       "    </tr>\n",
       "    <tr>\n",
       "      <th>14053</th>\n",
       "      <td>2151.071766</td>\n",
       "    </tr>\n",
       "    <tr>\n",
       "      <th>...</th>\n",
       "      <td>...</td>\n",
       "    </tr>\n",
       "    <tr>\n",
       "      <th>29182</th>\n",
       "      <td>3664.711671</td>\n",
       "    </tr>\n",
       "    <tr>\n",
       "      <th>29216</th>\n",
       "      <td>4439.261212</td>\n",
       "    </tr>\n",
       "    <tr>\n",
       "      <th>29225</th>\n",
       "      <td>2103.335778</td>\n",
       "    </tr>\n",
       "    <tr>\n",
       "      <th>29226</th>\n",
       "      <td>1650.530914</td>\n",
       "    </tr>\n",
       "    <tr>\n",
       "      <th>29227</th>\n",
       "      <td>4405.527413</td>\n",
       "    </tr>\n",
       "  </tbody>\n",
       "</table>\n",
       "<p>107 rows × 1 columns</p>\n",
       "</div>"
      ],
      "text/plain": [
       "        prediction\n",
       "fno               \n",
       "12001  4367.830881\n",
       "12002  4249.901694\n",
       "12003  5198.652135\n",
       "14051  1716.875864\n",
       "14053  2151.071766\n",
       "...            ...\n",
       "29182  3664.711671\n",
       "29216  4439.261212\n",
       "29225  2103.335778\n",
       "29226  1650.530914\n",
       "29227  4405.527413\n",
       "\n",
       "[107 rows x 1 columns]"
      ]
     },
     "execution_count": 88,
     "metadata": {},
     "output_type": "execute_result"
    }
   ],
   "source": [
    "file_path = './(수정)임산물생산비 마이크로데이터(2020)/(수정)2020년_임산물생산비조사_5.표고시설.csv'\n",
    "prediction = prediction(file_path)\n",
    "prediction"
   ]
  },
  {
   "cell_type": "code",
   "execution_count": 89,
   "metadata": {},
   "outputs": [],
   "source": [
    "prediction.to_csv('prediction/2020년_임산물생산비조사_5.표고시설_예측값.csv')"
   ]
  },
  {
   "cell_type": "code",
   "execution_count": null,
   "metadata": {},
   "outputs": [],
   "source": []
  }
 ],
 "metadata": {
  "kernelspec": {
   "display_name": "Python 3",
   "language": "python",
   "name": "python3"
  },
  "language_info": {
   "codemirror_mode": {
    "name": "ipython",
    "version": 3
   },
   "file_extension": ".py",
   "mimetype": "text/x-python",
   "name": "python",
   "nbconvert_exporter": "python",
   "pygments_lexer": "ipython3",
   "version": "3.8.8"
  }
 },
 "nbformat": 4,
 "nbformat_minor": 4
}
